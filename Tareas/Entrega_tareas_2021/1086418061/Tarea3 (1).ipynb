{
  "nbformat": 4,
  "nbformat_minor": 0,
  "metadata": {
    "colab": {
      "name": "Tarea3.ipynb",
      "provenance": [],
      "collapsed_sections": []
    },
    "kernelspec": {
      "name": "python3",
      "display_name": "Python 3"
    },
    "language_info": {
      "name": "python"
    }
  },
  "cells": [
    {
      "cell_type": "code",
      "metadata": {
        "id": "bFZvqzg6C1qs"
      },
      "source": [
        "import pandas as pd"
      ],
      "execution_count": null,
      "outputs": []
    },
    {
      "cell_type": "code",
      "metadata": {
        "id": "f065Jx43Fe5R"
      },
      "source": [
        "path = 'https://docs.google.com/spreadsheets/d/e/2PACX-1vRq5AbjJxjx164mk6EkEFwROJPFApt077p6W4F68fsmOQAY2c9QrI24QOxEUz25ABc84CXIuEp4mUuo/pub?output=csv'"
      ],
      "execution_count": null,
      "outputs": []
    },
    {
      "cell_type": "code",
      "metadata": {
        "colab": {
          "base_uri": "https://localhost:8080/",
          "height": 198
        },
        "id": "AcofZ5VzC-Df",
        "outputId": "e7e52628-a85f-4da7-a312-0289a4ce3796"
      },
      "source": [
        "df = pd.read_csv(path)\n",
        "df.head()"
      ],
      "execution_count": null,
      "outputs": [
        {
          "output_type": "execute_result",
          "data": {
            "text/html": [
              "<div>\n",
              "<style scoped>\n",
              "    .dataframe tbody tr th:only-of-type {\n",
              "        vertical-align: middle;\n",
              "    }\n",
              "\n",
              "    .dataframe tbody tr th {\n",
              "        vertical-align: top;\n",
              "    }\n",
              "\n",
              "    .dataframe thead th {\n",
              "        text-align: right;\n",
              "    }\n",
              "</style>\n",
              "<table border=\"1\" class=\"dataframe\">\n",
              "  <thead>\n",
              "    <tr style=\"text-align: right;\">\n",
              "      <th></th>\n",
              "      <th>Date</th>\n",
              "      <th>Unnamed: 1</th>\n",
              "      <th>Berri1</th>\n",
              "      <th>Maisonneuve_1</th>\n",
              "      <th>Maisonneuve_2</th>\n",
              "      <th>Brebeuf</th>\n",
              "    </tr>\n",
              "  </thead>\n",
              "  <tbody>\n",
              "    <tr>\n",
              "      <th>0</th>\n",
              "      <td>01/01/2009</td>\n",
              "      <td>0:00</td>\n",
              "      <td>29</td>\n",
              "      <td>20</td>\n",
              "      <td>35</td>\n",
              "      <td>NaN</td>\n",
              "    </tr>\n",
              "    <tr>\n",
              "      <th>1</th>\n",
              "      <td>02/01/2009</td>\n",
              "      <td>0:00</td>\n",
              "      <td>19</td>\n",
              "      <td>3</td>\n",
              "      <td>22</td>\n",
              "      <td>NaN</td>\n",
              "    </tr>\n",
              "    <tr>\n",
              "      <th>2</th>\n",
              "      <td>03/01/2009</td>\n",
              "      <td>0:00</td>\n",
              "      <td>24</td>\n",
              "      <td>12</td>\n",
              "      <td>22</td>\n",
              "      <td>NaN</td>\n",
              "    </tr>\n",
              "    <tr>\n",
              "      <th>3</th>\n",
              "      <td>04/01/2009</td>\n",
              "      <td>0:00</td>\n",
              "      <td>24</td>\n",
              "      <td>8</td>\n",
              "      <td>15</td>\n",
              "      <td>NaN</td>\n",
              "    </tr>\n",
              "    <tr>\n",
              "      <th>4</th>\n",
              "      <td>05/01/2009</td>\n",
              "      <td>0:00</td>\n",
              "      <td>120</td>\n",
              "      <td>111</td>\n",
              "      <td>141</td>\n",
              "      <td>NaN</td>\n",
              "    </tr>\n",
              "  </tbody>\n",
              "</table>\n",
              "</div>"
            ],
            "text/plain": [
              "         Date Unnamed: 1  Berri1  Maisonneuve_1  Maisonneuve_2  Brebeuf\n",
              "0  01/01/2009       0:00      29             20             35      NaN\n",
              "1  02/01/2009       0:00      19              3             22      NaN\n",
              "2  03/01/2009       0:00      24             12             22      NaN\n",
              "3  04/01/2009       0:00      24              8             15      NaN\n",
              "4  05/01/2009       0:00     120            111            141      NaN"
            ]
          },
          "metadata": {
            "tags": []
          },
          "execution_count": 27
        }
      ]
    },
    {
      "cell_type": "markdown",
      "metadata": {
        "id": "cHzl9GeGqmEG"
      },
      "source": [
        "Problema 1.\n",
        "\n",
        "Usando el set PS4_1.csv, convertir la serie Date en el indice (serie de tiempo) y eliminar la serie Unnamed: 1 (generado por pandas), retornar un diccionario con en el siguiente orden:\n",
        "\n",
        "cantidad de columnas\n",
        "Nombre de las columnas\n",
        "número de registros no NaN de cada columna\n",
        "cantidad total de memoria usada para cargar el dataset en el computador ,( df.memory_usage() )\n",
        "Estadistica basica para cada columna, media, desviacion estandar, maximo\n",
        "Remplazar los NaN por None\n",
        "\n",
        "Problema 2\n",
        "\n",
        "Realizar la lectura del data frame \"Crimes_-_2019.csv\" asociado a los crimenes que se presentaron en Chicago en el 2019.\n",
        "\n",
        "Ver la estadistica general del data frame.\n",
        "\n",
        "Dejar las columnas PrimaryType, y Date.\n",
        "\n",
        "Transformar la columna Date que es tipo string en una tipo Fecha, use el siguiente metodo de pandas pd.to_datetime(df.Date,format=\"%m/%d/%Y %I:%M:%S %p\").\n",
        "\n",
        "Mostrar los casos totales para cada tipo de crimen de forma ascendente, emplee: df.groupby(columna).Date.count()\n",
        "\n",
        "sort_values()\n",
        "\n",
        "Ordenar los valores por orden alfabetico de Primary type\n",
        "\n",
        "Mostrar de la fila 100 a la 120\n",
        "\n",
        "Realizar una visualización de los datos anteriores.Emplee la libreria seaborn con un grafico tipo barplot. Ej. ax = sns.barplot(x = \"contador\", y=\"Primary Type\", data = datos)\n",
        "\n",
        "Problema 3\n",
        "\n",
        "Leer el dataset country_vaccinations.csv y filtrar los datos para Colombia\n",
        "Crear un csv con los datos para colombia\n",
        "Realizar una comparacion con los paises latinoamericanos.\n",
        "A traves de mascaras determinar el numero de vacunados en el intervalo [1.5E6, 2.0E6]"
      ]
    },
    {
      "cell_type": "code",
      "metadata": {
        "colab": {
          "base_uri": "https://localhost:8080/"
        },
        "id": "nsxP--XeJY2B",
        "outputId": "f961fe6f-fb47-4ac1-92ae-53d10baa80d7"
      },
      "source": [
        "df.columns"
      ],
      "execution_count": null,
      "outputs": [
        {
          "output_type": "execute_result",
          "data": {
            "text/plain": [
              "Index(['Date', 'Unnamed: 1', 'Berri1', 'Maisonneuve_1', 'Maisonneuve_2',\n",
              "       'Brebeuf'],\n",
              "      dtype='object')"
            ]
          },
          "metadata": {
            "tags": []
          },
          "execution_count": 34
        }
      ]
    },
    {
      "cell_type": "code",
      "metadata": {
        "colab": {
          "base_uri": "https://localhost:8080/"
        },
        "id": "7Bq9OW5mH6lo",
        "outputId": "23996ba6-6d29-48c7-8cfe-29370baaf169"
      },
      "source": [
        "len(df.columns)"
      ],
      "execution_count": null,
      "outputs": [
        {
          "output_type": "execute_result",
          "data": {
            "text/plain": [
              "6"
            ]
          },
          "metadata": {
            "tags": []
          },
          "execution_count": 35
        }
      ]
    },
    {
      "cell_type": "code",
      "metadata": {
        "colab": {
          "base_uri": "https://localhost:8080/"
        },
        "id": "-rCI2mxaH87L",
        "outputId": "bf68abbd-0a0e-40e3-8c2a-20b2a54c6839"
      },
      "source": [
        "df.shape"
      ],
      "execution_count": null,
      "outputs": [
        {
          "output_type": "execute_result",
          "data": {
            "text/plain": [
              "(365, 6)"
            ]
          },
          "metadata": {
            "tags": []
          },
          "execution_count": 36
        }
      ]
    },
    {
      "cell_type": "code",
      "metadata": {
        "id": "AIFAppRfIr9y"
      },
      "source": [
        "info_df = df.describe()"
      ],
      "execution_count": null,
      "outputs": []
    },
    {
      "cell_type": "code",
      "metadata": {
        "colab": {
          "base_uri": "https://localhost:8080/",
          "height": 288
        },
        "id": "9E5eaRICIGBL",
        "outputId": "4efde5a7-dda8-448b-d637-5fdd613b0a39"
      },
      "source": [
        "info_df"
      ],
      "execution_count": null,
      "outputs": [
        {
          "output_type": "execute_result",
          "data": {
            "text/html": [
              "<div>\n",
              "<style scoped>\n",
              "    .dataframe tbody tr th:only-of-type {\n",
              "        vertical-align: middle;\n",
              "    }\n",
              "\n",
              "    .dataframe tbody tr th {\n",
              "        vertical-align: top;\n",
              "    }\n",
              "\n",
              "    .dataframe thead th {\n",
              "        text-align: right;\n",
              "    }\n",
              "</style>\n",
              "<table border=\"1\" class=\"dataframe\">\n",
              "  <thead>\n",
              "    <tr style=\"text-align: right;\">\n",
              "      <th></th>\n",
              "      <th>Berri1</th>\n",
              "      <th>Maisonneuve_1</th>\n",
              "      <th>Maisonneuve_2</th>\n",
              "      <th>Brebeuf</th>\n",
              "    </tr>\n",
              "  </thead>\n",
              "  <tbody>\n",
              "    <tr>\n",
              "      <th>count</th>\n",
              "      <td>365.000000</td>\n",
              "      <td>365.000000</td>\n",
              "      <td>365.000000</td>\n",
              "      <td>178.000000</td>\n",
              "    </tr>\n",
              "    <tr>\n",
              "      <th>mean</th>\n",
              "      <td>2032.200000</td>\n",
              "      <td>1060.252055</td>\n",
              "      <td>2093.169863</td>\n",
              "      <td>2576.359551</td>\n",
              "    </tr>\n",
              "    <tr>\n",
              "      <th>std</th>\n",
              "      <td>1878.879799</td>\n",
              "      <td>1079.533086</td>\n",
              "      <td>1854.368523</td>\n",
              "      <td>2484.004743</td>\n",
              "    </tr>\n",
              "    <tr>\n",
              "      <th>min</th>\n",
              "      <td>0.000000</td>\n",
              "      <td>0.000000</td>\n",
              "      <td>0.000000</td>\n",
              "      <td>0.000000</td>\n",
              "    </tr>\n",
              "    <tr>\n",
              "      <th>25%</th>\n",
              "      <td>194.000000</td>\n",
              "      <td>90.000000</td>\n",
              "      <td>228.000000</td>\n",
              "      <td>0.000000</td>\n",
              "    </tr>\n",
              "    <tr>\n",
              "      <th>50%</th>\n",
              "      <td>1726.000000</td>\n",
              "      <td>678.000000</td>\n",
              "      <td>1686.000000</td>\n",
              "      <td>1443.500000</td>\n",
              "    </tr>\n",
              "    <tr>\n",
              "      <th>75%</th>\n",
              "      <td>3540.000000</td>\n",
              "      <td>1882.000000</td>\n",
              "      <td>3520.000000</td>\n",
              "      <td>4638.000000</td>\n",
              "    </tr>\n",
              "    <tr>\n",
              "      <th>max</th>\n",
              "      <td>6626.000000</td>\n",
              "      <td>4242.000000</td>\n",
              "      <td>6587.000000</td>\n",
              "      <td>7575.000000</td>\n",
              "    </tr>\n",
              "  </tbody>\n",
              "</table>\n",
              "</div>"
            ],
            "text/plain": [
              "            Berri1  Maisonneuve_1  Maisonneuve_2      Brebeuf\n",
              "count   365.000000     365.000000     365.000000   178.000000\n",
              "mean   2032.200000    1060.252055    2093.169863  2576.359551\n",
              "std    1878.879799    1079.533086    1854.368523  2484.004743\n",
              "min       0.000000       0.000000       0.000000     0.000000\n",
              "25%     194.000000      90.000000     228.000000     0.000000\n",
              "50%    1726.000000     678.000000    1686.000000  1443.500000\n",
              "75%    3540.000000    1882.000000    3520.000000  4638.000000\n",
              "max    6626.000000    4242.000000    6587.000000  7575.000000"
            ]
          },
          "metadata": {
            "tags": []
          },
          "execution_count": 38
        }
      ]
    },
    {
      "cell_type": "code",
      "metadata": {
        "colab": {
          "base_uri": "https://localhost:8080/"
        },
        "id": "SWIp2DzvKR99",
        "outputId": "d7b360c5-fea1-4797-f7a5-460fe64b0599"
      },
      "source": [
        "type(df.describe())"
      ],
      "execution_count": null,
      "outputs": [
        {
          "output_type": "execute_result",
          "data": {
            "text/plain": [
              "pandas.core.frame.DataFrame"
            ]
          },
          "metadata": {
            "tags": []
          },
          "execution_count": 39
        }
      ]
    },
    {
      "cell_type": "code",
      "metadata": {
        "colab": {
          "base_uri": "https://localhost:8080/"
        },
        "id": "HX_66u3OK4sY",
        "outputId": "ef1e27af-4839-4e88-d308-a6132171da1f"
      },
      "source": [
        "info_df.loc[\"count\", \"Berri1\"]"
      ],
      "execution_count": null,
      "outputs": [
        {
          "output_type": "execute_result",
          "data": {
            "text/plain": [
              "365.0"
            ]
          },
          "metadata": {
            "tags": []
          },
          "execution_count": 40
        }
      ]
    },
    {
      "cell_type": "code",
      "metadata": {
        "colab": {
          "base_uri": "https://localhost:8080/"
        },
        "id": "klMJKCqaOy-N",
        "outputId": "dde66d4f-e62a-42e9-8bc8-bd618f505fe5"
      },
      "source": [
        "for col in info_df.columns:\n",
        "  contador_registros = info_df.loc[\"count\", col]\n",
        "  print(contador_registros)"
      ],
      "execution_count": null,
      "outputs": [
        {
          "output_type": "stream",
          "text": [
            "365.0\n",
            "365.0\n",
            "365.0\n",
            "178.0\n"
          ],
          "name": "stdout"
        }
      ]
    },
    {
      "cell_type": "code",
      "metadata": {
        "id": "Ub2IwPApwehJ"
      },
      "source": [
        "tf = pd.isnull(df[\"Brebeuf\"])"
      ],
      "execution_count": null,
      "outputs": []
    },
    {
      "cell_type": "code",
      "metadata": {
        "colab": {
          "base_uri": "https://localhost:8080/"
        },
        "id": "2JSx_45vz71i",
        "outputId": "11bf7585-3066-46b2-9909-e501b13fbbdc"
      },
      "source": [
        "df.Brebeuf[~tf]"
      ],
      "execution_count": null,
      "outputs": [
        {
          "output_type": "execute_result",
          "data": {
            "text/plain": [
              "187    2156.0\n",
              "188    4548.0\n",
              "189    7575.0\n",
              "190    7268.0\n",
              "191    2320.0\n",
              "        ...  \n",
              "360       0.0\n",
              "361       0.0\n",
              "362       0.0\n",
              "363       0.0\n",
              "364       0.0\n",
              "Name: Brebeuf, Length: 178, dtype: float64"
            ]
          },
          "metadata": {
            "tags": []
          },
          "execution_count": 43
        }
      ]
    },
    {
      "cell_type": "code",
      "metadata": {
        "colab": {
          "base_uri": "https://localhost:8080/"
        },
        "id": "ARCLwA6v1CBH",
        "outputId": "b01245ba-8150-4d67-bfee-be10c0c4f4a5"
      },
      "source": [
        "df.columns"
      ],
      "execution_count": null,
      "outputs": [
        {
          "output_type": "execute_result",
          "data": {
            "text/plain": [
              "Index(['Date', 'Unnamed: 1', 'Berri1', 'Maisonneuve_1', 'Maisonneuve_2',\n",
              "       'Brebeuf'],\n",
              "      dtype='object')"
            ]
          },
          "metadata": {
            "tags": []
          },
          "execution_count": 44
        }
      ]
    },
    {
      "cell_type": "code",
      "metadata": {
        "id": "7GrmHovd1MF3"
      },
      "source": [
        "df.drop(\"Unnamed: 1\", axis = 1, inplace = True)"
      ],
      "execution_count": null,
      "outputs": []
    },
    {
      "cell_type": "code",
      "metadata": {
        "id": "eR4WBjQH2ch_"
      },
      "source": [
        "del df[\"Date\"]"
      ],
      "execution_count": null,
      "outputs": []
    },
    {
      "cell_type": "code",
      "metadata": {
        "colab": {
          "base_uri": "https://localhost:8080/",
          "height": 407
        },
        "id": "pncxIxQg4Dfw",
        "outputId": "78f080bc-9a35-4748-dcd0-8c4d7d94b518"
      },
      "source": [
        "df"
      ],
      "execution_count": null,
      "outputs": [
        {
          "output_type": "execute_result",
          "data": {
            "text/html": [
              "<div>\n",
              "<style scoped>\n",
              "    .dataframe tbody tr th:only-of-type {\n",
              "        vertical-align: middle;\n",
              "    }\n",
              "\n",
              "    .dataframe tbody tr th {\n",
              "        vertical-align: top;\n",
              "    }\n",
              "\n",
              "    .dataframe thead th {\n",
              "        text-align: right;\n",
              "    }\n",
              "</style>\n",
              "<table border=\"1\" class=\"dataframe\">\n",
              "  <thead>\n",
              "    <tr style=\"text-align: right;\">\n",
              "      <th></th>\n",
              "      <th>Berri1</th>\n",
              "      <th>Maisonneuve_1</th>\n",
              "      <th>Maisonneuve_2</th>\n",
              "      <th>Brebeuf</th>\n",
              "    </tr>\n",
              "  </thead>\n",
              "  <tbody>\n",
              "    <tr>\n",
              "      <th>0</th>\n",
              "      <td>29</td>\n",
              "      <td>20</td>\n",
              "      <td>35</td>\n",
              "      <td>NaN</td>\n",
              "    </tr>\n",
              "    <tr>\n",
              "      <th>1</th>\n",
              "      <td>19</td>\n",
              "      <td>3</td>\n",
              "      <td>22</td>\n",
              "      <td>NaN</td>\n",
              "    </tr>\n",
              "    <tr>\n",
              "      <th>2</th>\n",
              "      <td>24</td>\n",
              "      <td>12</td>\n",
              "      <td>22</td>\n",
              "      <td>NaN</td>\n",
              "    </tr>\n",
              "    <tr>\n",
              "      <th>3</th>\n",
              "      <td>24</td>\n",
              "      <td>8</td>\n",
              "      <td>15</td>\n",
              "      <td>NaN</td>\n",
              "    </tr>\n",
              "    <tr>\n",
              "      <th>4</th>\n",
              "      <td>120</td>\n",
              "      <td>111</td>\n",
              "      <td>141</td>\n",
              "      <td>NaN</td>\n",
              "    </tr>\n",
              "    <tr>\n",
              "      <th>...</th>\n",
              "      <td>...</td>\n",
              "      <td>...</td>\n",
              "      <td>...</td>\n",
              "      <td>...</td>\n",
              "    </tr>\n",
              "    <tr>\n",
              "      <th>360</th>\n",
              "      <td>66</td>\n",
              "      <td>29</td>\n",
              "      <td>52</td>\n",
              "      <td>0.0</td>\n",
              "    </tr>\n",
              "    <tr>\n",
              "      <th>361</th>\n",
              "      <td>61</td>\n",
              "      <td>41</td>\n",
              "      <td>99</td>\n",
              "      <td>0.0</td>\n",
              "    </tr>\n",
              "    <tr>\n",
              "      <th>362</th>\n",
              "      <td>89</td>\n",
              "      <td>52</td>\n",
              "      <td>115</td>\n",
              "      <td>0.0</td>\n",
              "    </tr>\n",
              "    <tr>\n",
              "      <th>363</th>\n",
              "      <td>76</td>\n",
              "      <td>43</td>\n",
              "      <td>115</td>\n",
              "      <td>0.0</td>\n",
              "    </tr>\n",
              "    <tr>\n",
              "      <th>364</th>\n",
              "      <td>53</td>\n",
              "      <td>46</td>\n",
              "      <td>112</td>\n",
              "      <td>0.0</td>\n",
              "    </tr>\n",
              "  </tbody>\n",
              "</table>\n",
              "<p>365 rows × 4 columns</p>\n",
              "</div>"
            ],
            "text/plain": [
              "     Berri1  Maisonneuve_1  Maisonneuve_2  Brebeuf\n",
              "0        29             20             35      NaN\n",
              "1        19              3             22      NaN\n",
              "2        24             12             22      NaN\n",
              "3        24              8             15      NaN\n",
              "4       120            111            141      NaN\n",
              "..      ...            ...            ...      ...\n",
              "360      66             29             52      0.0\n",
              "361      61             41             99      0.0\n",
              "362      89             52            115      0.0\n",
              "363      76             43            115      0.0\n",
              "364      53             46            112      0.0\n",
              "\n",
              "[365 rows x 4 columns]"
            ]
          },
          "metadata": {
            "tags": []
          },
          "execution_count": 47
        }
      ]
    },
    {
      "cell_type": "code",
      "metadata": {
        "colab": {
          "base_uri": "https://localhost:8080/"
        },
        "id": "hbn2W1vZ5zt8",
        "outputId": "06fe2e1e-428d-46e2-aded-c49b6ab91197"
      },
      "source": [
        "df.memory_usage()"
      ],
      "execution_count": null,
      "outputs": [
        {
          "output_type": "execute_result",
          "data": {
            "text/plain": [
              "Index             128\n",
              "Berri1           2920\n",
              "Maisonneuve_1    2920\n",
              "Maisonneuve_2    2920\n",
              "Brebeuf          2920\n",
              "dtype: int64"
            ]
          },
          "metadata": {
            "tags": []
          },
          "execution_count": 48
        }
      ]
    },
    {
      "cell_type": "code",
      "metadata": {
        "id": "4OIR12PN7Tod"
      },
      "source": [
        "def problema1(path):\n",
        "  df = pd.read_csv(path)\n",
        "  cantidad_columnas = len(df.columns)\n",
        "  nombre = df.columns\n",
        "  registros = df.shape[0]\n",
        "  memoria = df.memory_usage()\n",
        "  info_df = df.describe()\n",
        "  diccionario = {\"cantidad_columnas\":cantidad_columnas, \"nombre_columnas\":nombre, \"Registros\":registros, \"Memory\":memoria, \"Estadisticas\":info_df}\n",
        "  #lista = cantidad_columnas, nombre,  registros, memoria, info_df\n",
        "  return diccionario"
      ],
      "execution_count": null,
      "outputs": []
    },
    {
      "cell_type": "code",
      "metadata": {
        "id": "enmVSZ8b_LzD"
      },
      "source": [
        "j = problema1(path)"
      ],
      "execution_count": null,
      "outputs": []
    },
    {
      "cell_type": "code",
      "metadata": {
        "colab": {
          "base_uri": "https://localhost:8080/"
        },
        "id": "QSFCF5xM_U8g",
        "outputId": "ffd97d04-303d-48b3-fc9d-57c7ec3f6fc5"
      },
      "source": [
        "j"
      ],
      "execution_count": null,
      "outputs": [
        {
          "output_type": "execute_result",
          "data": {
            "text/plain": [
              "{'Estadisticas':             Berri1  Maisonneuve_1  Maisonneuve_2      Brebeuf\n",
              " count   365.000000     365.000000     365.000000   178.000000\n",
              " mean   2032.200000    1060.252055    2093.169863  2576.359551\n",
              " std    1878.879799    1079.533086    1854.368523  2484.004743\n",
              " min       0.000000       0.000000       0.000000     0.000000\n",
              " 25%     194.000000      90.000000     228.000000     0.000000\n",
              " 50%    1726.000000     678.000000    1686.000000  1443.500000\n",
              " 75%    3540.000000    1882.000000    3520.000000  4638.000000\n",
              " max    6626.000000    4242.000000    6587.000000  7575.000000,\n",
              " 'Memory': Index             128\n",
              " Date             2920\n",
              " Unnamed: 1       2920\n",
              " Berri1           2920\n",
              " Maisonneuve_1    2920\n",
              " Maisonneuve_2    2920\n",
              " Brebeuf          2920\n",
              " dtype: int64,\n",
              " 'Registros': 365,\n",
              " 'cantidad_columnas': 6,\n",
              " 'nombre_columnas': Index(['Date', 'Unnamed: 1', 'Berri1', 'Maisonneuve_1', 'Maisonneuve_2',\n",
              "        'Brebeuf'],\n",
              "       dtype='object')}"
            ]
          },
          "metadata": {
            "tags": []
          },
          "execution_count": 52
        }
      ]
    },
    {
      "cell_type": "markdown",
      "metadata": {
        "id": "6oICTED7hwuO"
      },
      "source": [
        "Problema 2"
      ]
    },
    {
      "cell_type": "code",
      "metadata": {
        "id": "r918I_CDUq6X"
      },
      "source": [
        "from google.colab import files\n",
        "from IPython.display import Image"
      ],
      "execution_count": null,
      "outputs": []
    },
    {
      "cell_type": "code",
      "metadata": {
        "id": "Spc_0fV0ih_a"
      },
      "source": [
        "#uploaded = files.upload()"
      ],
      "execution_count": null,
      "outputs": []
    },
    {
      "cell_type": "code",
      "metadata": {
        "id": "sSZyY3Wilobd"
      },
      "source": [
        "path = \"https://docs.google.com/spreadsheets/d/e/2PACX-1vQ4T2jDvqP8FJdS6sx06lkX7uygEW4Poevm2x4xVSCL5cpvfYiv5fOTMcjlAoEXrDZ5bcpGBRuiruQi/pub?output=csv\""
      ],
      "execution_count": null,
      "outputs": []
    },
    {
      "cell_type": "code",
      "metadata": {
        "id": "4BCIwkb_kyRC"
      },
      "source": [
        "df = pd.read_csv(path)"
      ],
      "execution_count": 123,
      "outputs": []
    },
    {
      "cell_type": "code",
      "metadata": {
        "colab": {
          "base_uri": "https://localhost:8080/",
          "height": 419
        },
        "id": "4qCw-lXfl84U",
        "outputId": "6320b7ab-c6b4-4131-fedc-e87e1430b41b"
      },
      "source": [
        "df"
      ],
      "execution_count": null,
      "outputs": [
        {
          "output_type": "execute_result",
          "data": {
            "text/html": [
              "<div>\n",
              "<style scoped>\n",
              "    .dataframe tbody tr th:only-of-type {\n",
              "        vertical-align: middle;\n",
              "    }\n",
              "\n",
              "    .dataframe tbody tr th {\n",
              "        vertical-align: top;\n",
              "    }\n",
              "\n",
              "    .dataframe thead th {\n",
              "        text-align: right;\n",
              "    }\n",
              "</style>\n",
              "<table border=\"1\" class=\"dataframe\">\n",
              "  <thead>\n",
              "    <tr style=\"text-align: right;\">\n",
              "      <th></th>\n",
              "      <th>Unnamed: 0</th>\n",
              "      <th>Primary Type</th>\n",
              "      <th>Date</th>\n",
              "    </tr>\n",
              "  </thead>\n",
              "  <tbody>\n",
              "    <tr>\n",
              "      <th>0</th>\n",
              "      <td>0</td>\n",
              "      <td>DECEPTIVE PRACTICE</td>\n",
              "      <td>09/24/2019 08:00:00 AM</td>\n",
              "    </tr>\n",
              "    <tr>\n",
              "      <th>1</th>\n",
              "      <td>1</td>\n",
              "      <td>THEFT</td>\n",
              "      <td>10/13/2019 08:30:00 PM</td>\n",
              "    </tr>\n",
              "    <tr>\n",
              "      <th>2</th>\n",
              "      <td>2</td>\n",
              "      <td>THEFT</td>\n",
              "      <td>10/05/2019 06:30:00 PM</td>\n",
              "    </tr>\n",
              "    <tr>\n",
              "      <th>3</th>\n",
              "      <td>3</td>\n",
              "      <td>CRIMINAL DAMAGE</td>\n",
              "      <td>10/13/2019 07:00:00 PM</td>\n",
              "    </tr>\n",
              "    <tr>\n",
              "      <th>4</th>\n",
              "      <td>4</td>\n",
              "      <td>ASSAULT</td>\n",
              "      <td>10/13/2019 02:10:00 PM</td>\n",
              "    </tr>\n",
              "    <tr>\n",
              "      <th>...</th>\n",
              "      <td>...</td>\n",
              "      <td>...</td>\n",
              "      <td>...</td>\n",
              "    </tr>\n",
              "    <tr>\n",
              "      <th>995</th>\n",
              "      <td>995</td>\n",
              "      <td>OTHER OFFENSE</td>\n",
              "      <td>10/14/2019 10:47:00 PM</td>\n",
              "    </tr>\n",
              "    <tr>\n",
              "      <th>996</th>\n",
              "      <td>996</td>\n",
              "      <td>BATTERY</td>\n",
              "      <td>10/14/2019 04:00:00 AM</td>\n",
              "    </tr>\n",
              "    <tr>\n",
              "      <th>997</th>\n",
              "      <td>997</td>\n",
              "      <td>THEFT</td>\n",
              "      <td>10/14/2019 10:25:00 AM</td>\n",
              "    </tr>\n",
              "    <tr>\n",
              "      <th>998</th>\n",
              "      <td>998</td>\n",
              "      <td>THEFT</td>\n",
              "      <td>10/14/2019 07:00:00 PM</td>\n",
              "    </tr>\n",
              "    <tr>\n",
              "      <th>999</th>\n",
              "      <td>999</td>\n",
              "      <td>ROBBERY</td>\n",
              "      <td>10/14/2019 04:10:00 PM</td>\n",
              "    </tr>\n",
              "  </tbody>\n",
              "</table>\n",
              "<p>1000 rows × 3 columns</p>\n",
              "</div>"
            ],
            "text/plain": [
              "     Unnamed: 0        Primary Type                    Date\n",
              "0             0  DECEPTIVE PRACTICE  09/24/2019 08:00:00 AM\n",
              "1             1               THEFT  10/13/2019 08:30:00 PM\n",
              "2             2               THEFT  10/05/2019 06:30:00 PM\n",
              "3             3     CRIMINAL DAMAGE  10/13/2019 07:00:00 PM\n",
              "4             4             ASSAULT  10/13/2019 02:10:00 PM\n",
              "..          ...                 ...                     ...\n",
              "995         995       OTHER OFFENSE  10/14/2019 10:47:00 PM\n",
              "996         996             BATTERY  10/14/2019 04:00:00 AM\n",
              "997         997               THEFT  10/14/2019 10:25:00 AM\n",
              "998         998               THEFT  10/14/2019 07:00:00 PM\n",
              "999         999             ROBBERY  10/14/2019 04:10:00 PM\n",
              "\n",
              "[1000 rows x 3 columns]"
            ]
          },
          "metadata": {
            "tags": []
          },
          "execution_count": 32
        }
      ]
    },
    {
      "cell_type": "code",
      "metadata": {
        "colab": {
          "base_uri": "https://localhost:8080/"
        },
        "id": "VbIHORXqnx1M",
        "outputId": "53872b54-0aae-42d6-83dc-eb74adebcd30"
      },
      "source": [
        "df.info()"
      ],
      "execution_count": null,
      "outputs": [
        {
          "output_type": "stream",
          "text": [
            "<class 'pandas.core.frame.DataFrame'>\n",
            "RangeIndex: 1000 entries, 0 to 999\n",
            "Data columns (total 3 columns):\n",
            " #   Column        Non-Null Count  Dtype \n",
            "---  ------        --------------  ----- \n",
            " 0   Unnamed: 0    1000 non-null   int64 \n",
            " 1   Primary Type  1000 non-null   object\n",
            " 2   Date          1000 non-null   object\n",
            "dtypes: int64(1), object(2)\n",
            "memory usage: 23.6+ KB\n"
          ],
          "name": "stdout"
        }
      ]
    },
    {
      "cell_type": "code",
      "metadata": {
        "id": "UJ-Ox9-6oadu"
      },
      "source": [
        "tf = df[\"Primary Type\"] == \"THEFT\""
      ],
      "execution_count": null,
      "outputs": []
    },
    {
      "cell_type": "code",
      "metadata": {
        "colab": {
          "base_uri": "https://localhost:8080/",
          "height": 407
        },
        "id": "InDPl0gHpCbI",
        "outputId": "14ce845b-43d1-4e15-a42b-8e8f4c0d6f08"
      },
      "source": [
        "df[tf]"
      ],
      "execution_count": null,
      "outputs": [
        {
          "output_type": "execute_result",
          "data": {
            "text/html": [
              "<div>\n",
              "<style scoped>\n",
              "    .dataframe tbody tr th:only-of-type {\n",
              "        vertical-align: middle;\n",
              "    }\n",
              "\n",
              "    .dataframe tbody tr th {\n",
              "        vertical-align: top;\n",
              "    }\n",
              "\n",
              "    .dataframe thead th {\n",
              "        text-align: right;\n",
              "    }\n",
              "</style>\n",
              "<table border=\"1\" class=\"dataframe\">\n",
              "  <thead>\n",
              "    <tr style=\"text-align: right;\">\n",
              "      <th></th>\n",
              "      <th>Unnamed: 0</th>\n",
              "      <th>Primary Type</th>\n",
              "      <th>Date</th>\n",
              "    </tr>\n",
              "  </thead>\n",
              "  <tbody>\n",
              "    <tr>\n",
              "      <th>1</th>\n",
              "      <td>1</td>\n",
              "      <td>THEFT</td>\n",
              "      <td>10/13/2019 08:30:00 PM</td>\n",
              "    </tr>\n",
              "    <tr>\n",
              "      <th>2</th>\n",
              "      <td>2</td>\n",
              "      <td>THEFT</td>\n",
              "      <td>10/05/2019 06:30:00 PM</td>\n",
              "    </tr>\n",
              "    <tr>\n",
              "      <th>5</th>\n",
              "      <td>5</td>\n",
              "      <td>THEFT</td>\n",
              "      <td>10/13/2019 07:50:00 PM</td>\n",
              "    </tr>\n",
              "    <tr>\n",
              "      <th>10</th>\n",
              "      <td>10</td>\n",
              "      <td>THEFT</td>\n",
              "      <td>03/31/2019 09:30:00 AM</td>\n",
              "    </tr>\n",
              "    <tr>\n",
              "      <th>11</th>\n",
              "      <td>11</td>\n",
              "      <td>THEFT</td>\n",
              "      <td>10/13/2019 06:00:00 PM</td>\n",
              "    </tr>\n",
              "    <tr>\n",
              "      <th>...</th>\n",
              "      <td>...</td>\n",
              "      <td>...</td>\n",
              "      <td>...</td>\n",
              "    </tr>\n",
              "    <tr>\n",
              "      <th>989</th>\n",
              "      <td>989</td>\n",
              "      <td>THEFT</td>\n",
              "      <td>10/14/2019 03:40:00 PM</td>\n",
              "    </tr>\n",
              "    <tr>\n",
              "      <th>990</th>\n",
              "      <td>990</td>\n",
              "      <td>THEFT</td>\n",
              "      <td>10/14/2019 08:37:00 AM</td>\n",
              "    </tr>\n",
              "    <tr>\n",
              "      <th>994</th>\n",
              "      <td>994</td>\n",
              "      <td>THEFT</td>\n",
              "      <td>10/14/2019 08:00:00 PM</td>\n",
              "    </tr>\n",
              "    <tr>\n",
              "      <th>997</th>\n",
              "      <td>997</td>\n",
              "      <td>THEFT</td>\n",
              "      <td>10/14/2019 10:25:00 AM</td>\n",
              "    </tr>\n",
              "    <tr>\n",
              "      <th>998</th>\n",
              "      <td>998</td>\n",
              "      <td>THEFT</td>\n",
              "      <td>10/14/2019 07:00:00 PM</td>\n",
              "    </tr>\n",
              "  </tbody>\n",
              "</table>\n",
              "<p>296 rows × 3 columns</p>\n",
              "</div>"
            ],
            "text/plain": [
              "     Unnamed: 0 Primary Type                    Date\n",
              "1             1        THEFT  10/13/2019 08:30:00 PM\n",
              "2             2        THEFT  10/05/2019 06:30:00 PM\n",
              "5             5        THEFT  10/13/2019 07:50:00 PM\n",
              "10           10        THEFT  03/31/2019 09:30:00 AM\n",
              "11           11        THEFT  10/13/2019 06:00:00 PM\n",
              "..          ...          ...                     ...\n",
              "989         989        THEFT  10/14/2019 03:40:00 PM\n",
              "990         990        THEFT  10/14/2019 08:37:00 AM\n",
              "994         994        THEFT  10/14/2019 08:00:00 PM\n",
              "997         997        THEFT  10/14/2019 10:25:00 AM\n",
              "998         998        THEFT  10/14/2019 07:00:00 PM\n",
              "\n",
              "[296 rows x 3 columns]"
            ]
          },
          "metadata": {
            "tags": []
          },
          "execution_count": 63
        }
      ]
    },
    {
      "cell_type": "code",
      "metadata": {
        "id": "5m3os0ZDprsK",
        "colab": {
          "base_uri": "https://localhost:8080/"
        },
        "outputId": "c7477caa-ecb1-4a4d-f73d-e91b5008bc01"
      },
      "source": [
        "df.Date[100]"
      ],
      "execution_count": null,
      "outputs": [
        {
          "output_type": "execute_result",
          "data": {
            "text/plain": [
              "Timestamp('2019-10-13 22:34:00')"
            ]
          },
          "metadata": {
            "tags": []
          },
          "execution_count": 74
        }
      ]
    },
    {
      "cell_type": "code",
      "metadata": {
        "id": "rrDugvTxpo-V"
      },
      "source": [
        "df.Date = pd.to_datetime(df.Date,format=\"%m/%d/%Y %I:%M:%S %p\")"
      ],
      "execution_count": null,
      "outputs": []
    },
    {
      "cell_type": "code",
      "metadata": {
        "id": "jTJtVk4Lqalt"
      },
      "source": [
        "del df[\"Unnamed: 0\"]"
      ],
      "execution_count": null,
      "outputs": []
    },
    {
      "cell_type": "code",
      "metadata": {
        "colab": {
          "base_uri": "https://localhost:8080/",
          "height": 407
        },
        "id": "VY5rw_0SrPRJ",
        "outputId": "2c7c2ba0-95a6-4362-ff9e-371d92e16701"
      },
      "source": [
        "df"
      ],
      "execution_count": null,
      "outputs": [
        {
          "output_type": "execute_result",
          "data": {
            "text/html": [
              "<div>\n",
              "<style scoped>\n",
              "    .dataframe tbody tr th:only-of-type {\n",
              "        vertical-align: middle;\n",
              "    }\n",
              "\n",
              "    .dataframe tbody tr th {\n",
              "        vertical-align: top;\n",
              "    }\n",
              "\n",
              "    .dataframe thead th {\n",
              "        text-align: right;\n",
              "    }\n",
              "</style>\n",
              "<table border=\"1\" class=\"dataframe\">\n",
              "  <thead>\n",
              "    <tr style=\"text-align: right;\">\n",
              "      <th></th>\n",
              "      <th>Primary Type</th>\n",
              "      <th>Date</th>\n",
              "    </tr>\n",
              "  </thead>\n",
              "  <tbody>\n",
              "    <tr>\n",
              "      <th>0</th>\n",
              "      <td>DECEPTIVE PRACTICE</td>\n",
              "      <td>2019-09-24 08:00:00</td>\n",
              "    </tr>\n",
              "    <tr>\n",
              "      <th>1</th>\n",
              "      <td>THEFT</td>\n",
              "      <td>2019-10-13 20:30:00</td>\n",
              "    </tr>\n",
              "    <tr>\n",
              "      <th>2</th>\n",
              "      <td>THEFT</td>\n",
              "      <td>2019-10-05 18:30:00</td>\n",
              "    </tr>\n",
              "    <tr>\n",
              "      <th>3</th>\n",
              "      <td>CRIMINAL DAMAGE</td>\n",
              "      <td>2019-10-13 19:00:00</td>\n",
              "    </tr>\n",
              "    <tr>\n",
              "      <th>4</th>\n",
              "      <td>ASSAULT</td>\n",
              "      <td>2019-10-13 14:10:00</td>\n",
              "    </tr>\n",
              "    <tr>\n",
              "      <th>...</th>\n",
              "      <td>...</td>\n",
              "      <td>...</td>\n",
              "    </tr>\n",
              "    <tr>\n",
              "      <th>995</th>\n",
              "      <td>OTHER OFFENSE</td>\n",
              "      <td>2019-10-14 22:47:00</td>\n",
              "    </tr>\n",
              "    <tr>\n",
              "      <th>996</th>\n",
              "      <td>BATTERY</td>\n",
              "      <td>2019-10-14 04:00:00</td>\n",
              "    </tr>\n",
              "    <tr>\n",
              "      <th>997</th>\n",
              "      <td>THEFT</td>\n",
              "      <td>2019-10-14 10:25:00</td>\n",
              "    </tr>\n",
              "    <tr>\n",
              "      <th>998</th>\n",
              "      <td>THEFT</td>\n",
              "      <td>2019-10-14 19:00:00</td>\n",
              "    </tr>\n",
              "    <tr>\n",
              "      <th>999</th>\n",
              "      <td>ROBBERY</td>\n",
              "      <td>2019-10-14 16:10:00</td>\n",
              "    </tr>\n",
              "  </tbody>\n",
              "</table>\n",
              "<p>1000 rows × 2 columns</p>\n",
              "</div>"
            ],
            "text/plain": [
              "           Primary Type                Date\n",
              "0    DECEPTIVE PRACTICE 2019-09-24 08:00:00\n",
              "1                 THEFT 2019-10-13 20:30:00\n",
              "2                 THEFT 2019-10-05 18:30:00\n",
              "3       CRIMINAL DAMAGE 2019-10-13 19:00:00\n",
              "4               ASSAULT 2019-10-13 14:10:00\n",
              "..                  ...                 ...\n",
              "995       OTHER OFFENSE 2019-10-14 22:47:00\n",
              "996             BATTERY 2019-10-14 04:00:00\n",
              "997               THEFT 2019-10-14 10:25:00\n",
              "998               THEFT 2019-10-14 19:00:00\n",
              "999             ROBBERY 2019-10-14 16:10:00\n",
              "\n",
              "[1000 rows x 2 columns]"
            ]
          },
          "metadata": {
            "tags": []
          },
          "execution_count": 77
        }
      ]
    },
    {
      "cell_type": "code",
      "metadata": {
        "id": "VmARRyUZrv9i"
      },
      "source": [
        "datos_info = df.groupby(\"Primary Type\").Date.count().sort_values(ascending = False)"
      ],
      "execution_count": null,
      "outputs": []
    },
    {
      "cell_type": "code",
      "metadata": {
        "id": "G4Y7DkFgjxqM"
      },
      "source": [
        "datos_info = datos_info.reset_index()"
      ],
      "execution_count": null,
      "outputs": []
    },
    {
      "cell_type": "code",
      "metadata": {
        "colab": {
          "base_uri": "https://localhost:8080/"
        },
        "id": "g2V2HLIxkiEY",
        "outputId": "b60efa54-7592-424b-d504-4d320273204e"
      },
      "source": [
        "datos_info = datos_info.rename(columns={\"Date\":\"contador\"})\n",
        "datos_info"
      ],
      "execution_count": null,
      "outputs": [
        {
          "output_type": "execute_result",
          "data": {
            "text/plain": [
              "Primary Type\n",
              "THEFT                                296\n",
              "BATTERY                              182\n",
              "CRIMINAL DAMAGE                      112\n",
              "DECEPTIVE PRACTICE                    84\n",
              "OTHER OFFENSE                         65\n",
              "ASSAULT                               63\n",
              "NARCOTICS                             37\n",
              "MOTOR VEHICLE THEFT                   29\n",
              "BURGLARY                              28\n",
              "ROBBERY                               26\n",
              "WEAPONS VIOLATION                     23\n",
              "CRIMINAL TRESPASS                     20\n",
              "INTERFERENCE WITH PUBLIC OFFICER       6\n",
              "CRIMINAL SEXUAL ASSAULT                5\n",
              "CRIM SEXUAL ASSAULT                    4\n",
              "PUBLIC PEACE VIOLATION                 4\n",
              "OFFENSE INVOLVING CHILDREN             4\n",
              "ARSON                                  3\n",
              "SEX OFFENSE                            3\n",
              "PROSTITUTION                           2\n",
              "LIQUOR LAW VIOLATION                   2\n",
              "CONCEALED CARRY LICENSE VIOLATION      1\n",
              "STALKING                               1\n",
              "Name: Date, dtype: int64"
            ]
          },
          "metadata": {
            "tags": []
          },
          "execution_count": 35
        }
      ]
    },
    {
      "cell_type": "code",
      "metadata": {
        "colab": {
          "base_uri": "https://localhost:8080/"
        },
        "id": "ALFJxgAHAmNI",
        "outputId": "4301c502-021c-4045-bf7f-92c20bdfc8be"
      },
      "source": [
        "a = df.groupby(\"Primary Type\").Date.count() #Orden alfabetico de Primary type\n",
        "a\n"
      ],
      "execution_count": null,
      "outputs": [
        {
          "output_type": "execute_result",
          "data": {
            "text/plain": [
              "Primary Type\n",
              "ARSON                                  3\n",
              "ASSAULT                               63\n",
              "BATTERY                              182\n",
              "BURGLARY                              28\n",
              "CONCEALED CARRY LICENSE VIOLATION      1\n",
              "CRIM SEXUAL ASSAULT                    4\n",
              "CRIMINAL DAMAGE                      112\n",
              "CRIMINAL SEXUAL ASSAULT                5\n",
              "CRIMINAL TRESPASS                     20\n",
              "DECEPTIVE PRACTICE                    84\n",
              "INTERFERENCE WITH PUBLIC OFFICER       6\n",
              "LIQUOR LAW VIOLATION                   2\n",
              "MOTOR VEHICLE THEFT                   29\n",
              "NARCOTICS                             37\n",
              "OFFENSE INVOLVING CHILDREN             4\n",
              "OTHER OFFENSE                         65\n",
              "PROSTITUTION                           2\n",
              "PUBLIC PEACE VIOLATION                 4\n",
              "ROBBERY                               26\n",
              "SEX OFFENSE                            3\n",
              "STALKING                               1\n",
              "THEFT                                296\n",
              "WEAPONS VIOLATION                     23\n",
              "Name: Date, dtype: int64"
            ]
          },
          "metadata": {
            "tags": []
          },
          "execution_count": 58
        }
      ]
    },
    {
      "cell_type": "code",
      "metadata": {
        "colab": {
          "base_uri": "https://localhost:8080/",
          "height": 700
        },
        "id": "ijF2DeyE-XIU",
        "outputId": "58d2944f-5be2-489b-fa23-f331677d7199"
      },
      "source": [
        "n=df.iloc[100:121] \n",
        "n"
      ],
      "execution_count": 124,
      "outputs": [
        {
          "output_type": "execute_result",
          "data": {
            "text/html": [
              "<div>\n",
              "<style scoped>\n",
              "    .dataframe tbody tr th:only-of-type {\n",
              "        vertical-align: middle;\n",
              "    }\n",
              "\n",
              "    .dataframe tbody tr th {\n",
              "        vertical-align: top;\n",
              "    }\n",
              "\n",
              "    .dataframe thead th {\n",
              "        text-align: right;\n",
              "    }\n",
              "</style>\n",
              "<table border=\"1\" class=\"dataframe\">\n",
              "  <thead>\n",
              "    <tr style=\"text-align: right;\">\n",
              "      <th></th>\n",
              "      <th>Unnamed: 0</th>\n",
              "      <th>Primary Type</th>\n",
              "      <th>Date</th>\n",
              "    </tr>\n",
              "  </thead>\n",
              "  <tbody>\n",
              "    <tr>\n",
              "      <th>100</th>\n",
              "      <td>100</td>\n",
              "      <td>INTERFERENCE WITH PUBLIC OFFICER</td>\n",
              "      <td>10/13/2019 10:34:00 PM</td>\n",
              "    </tr>\n",
              "    <tr>\n",
              "      <th>101</th>\n",
              "      <td>101</td>\n",
              "      <td>OTHER OFFENSE</td>\n",
              "      <td>10/13/2019 02:02:00 PM</td>\n",
              "    </tr>\n",
              "    <tr>\n",
              "      <th>102</th>\n",
              "      <td>102</td>\n",
              "      <td>BATTERY</td>\n",
              "      <td>10/13/2019 01:21:00 PM</td>\n",
              "    </tr>\n",
              "    <tr>\n",
              "      <th>103</th>\n",
              "      <td>103</td>\n",
              "      <td>THEFT</td>\n",
              "      <td>04/03/2019 09:15:00 AM</td>\n",
              "    </tr>\n",
              "    <tr>\n",
              "      <th>104</th>\n",
              "      <td>104</td>\n",
              "      <td>BATTERY</td>\n",
              "      <td>10/13/2019 12:26:00 AM</td>\n",
              "    </tr>\n",
              "    <tr>\n",
              "      <th>105</th>\n",
              "      <td>105</td>\n",
              "      <td>DECEPTIVE PRACTICE</td>\n",
              "      <td>10/13/2019 09:26:00 AM</td>\n",
              "    </tr>\n",
              "    <tr>\n",
              "      <th>106</th>\n",
              "      <td>106</td>\n",
              "      <td>DECEPTIVE PRACTICE</td>\n",
              "      <td>10/13/2019 03:00:00 PM</td>\n",
              "    </tr>\n",
              "    <tr>\n",
              "      <th>107</th>\n",
              "      <td>107</td>\n",
              "      <td>BATTERY</td>\n",
              "      <td>10/13/2019 01:50:00 AM</td>\n",
              "    </tr>\n",
              "    <tr>\n",
              "      <th>108</th>\n",
              "      <td>108</td>\n",
              "      <td>THEFT</td>\n",
              "      <td>10/04/2019 12:56:00 AM</td>\n",
              "    </tr>\n",
              "    <tr>\n",
              "      <th>109</th>\n",
              "      <td>109</td>\n",
              "      <td>BATTERY</td>\n",
              "      <td>10/13/2019 09:31:00 PM</td>\n",
              "    </tr>\n",
              "    <tr>\n",
              "      <th>110</th>\n",
              "      <td>110</td>\n",
              "      <td>THEFT</td>\n",
              "      <td>10/13/2019 08:00:00 PM</td>\n",
              "    </tr>\n",
              "    <tr>\n",
              "      <th>111</th>\n",
              "      <td>111</td>\n",
              "      <td>BURGLARY</td>\n",
              "      <td>10/13/2019 07:00:00 AM</td>\n",
              "    </tr>\n",
              "    <tr>\n",
              "      <th>112</th>\n",
              "      <td>112</td>\n",
              "      <td>CRIMINAL DAMAGE</td>\n",
              "      <td>10/13/2019 09:30:00 AM</td>\n",
              "    </tr>\n",
              "    <tr>\n",
              "      <th>113</th>\n",
              "      <td>113</td>\n",
              "      <td>BATTERY</td>\n",
              "      <td>10/13/2019 02:54:00 AM</td>\n",
              "    </tr>\n",
              "    <tr>\n",
              "      <th>114</th>\n",
              "      <td>114</td>\n",
              "      <td>BATTERY</td>\n",
              "      <td>10/13/2019 01:00:00 AM</td>\n",
              "    </tr>\n",
              "    <tr>\n",
              "      <th>115</th>\n",
              "      <td>115</td>\n",
              "      <td>THEFT</td>\n",
              "      <td>10/13/2019 04:37:00 PM</td>\n",
              "    </tr>\n",
              "    <tr>\n",
              "      <th>116</th>\n",
              "      <td>116</td>\n",
              "      <td>THEFT</td>\n",
              "      <td>10/13/2019 03:30:00 PM</td>\n",
              "    </tr>\n",
              "    <tr>\n",
              "      <th>117</th>\n",
              "      <td>117</td>\n",
              "      <td>BATTERY</td>\n",
              "      <td>10/13/2019 08:45:00 AM</td>\n",
              "    </tr>\n",
              "    <tr>\n",
              "      <th>118</th>\n",
              "      <td>118</td>\n",
              "      <td>THEFT</td>\n",
              "      <td>10/13/2019 02:00:00 PM</td>\n",
              "    </tr>\n",
              "    <tr>\n",
              "      <th>119</th>\n",
              "      <td>119</td>\n",
              "      <td>DECEPTIVE PRACTICE</td>\n",
              "      <td>10/12/2019 10:20:00 PM</td>\n",
              "    </tr>\n",
              "    <tr>\n",
              "      <th>120</th>\n",
              "      <td>120</td>\n",
              "      <td>BATTERY</td>\n",
              "      <td>10/13/2019 12:45:00 AM</td>\n",
              "    </tr>\n",
              "  </tbody>\n",
              "</table>\n",
              "</div>"
            ],
            "text/plain": [
              "     Unnamed: 0                      Primary Type                    Date\n",
              "100         100  INTERFERENCE WITH PUBLIC OFFICER  10/13/2019 10:34:00 PM\n",
              "101         101                     OTHER OFFENSE  10/13/2019 02:02:00 PM\n",
              "102         102                           BATTERY  10/13/2019 01:21:00 PM\n",
              "103         103                             THEFT  04/03/2019 09:15:00 AM\n",
              "104         104                           BATTERY  10/13/2019 12:26:00 AM\n",
              "105         105                DECEPTIVE PRACTICE  10/13/2019 09:26:00 AM\n",
              "106         106                DECEPTIVE PRACTICE  10/13/2019 03:00:00 PM\n",
              "107         107                           BATTERY  10/13/2019 01:50:00 AM\n",
              "108         108                             THEFT  10/04/2019 12:56:00 AM\n",
              "109         109                           BATTERY  10/13/2019 09:31:00 PM\n",
              "110         110                             THEFT  10/13/2019 08:00:00 PM\n",
              "111         111                          BURGLARY  10/13/2019 07:00:00 AM\n",
              "112         112                   CRIMINAL DAMAGE  10/13/2019 09:30:00 AM\n",
              "113         113                           BATTERY  10/13/2019 02:54:00 AM\n",
              "114         114                           BATTERY  10/13/2019 01:00:00 AM\n",
              "115         115                             THEFT  10/13/2019 04:37:00 PM\n",
              "116         116                             THEFT  10/13/2019 03:30:00 PM\n",
              "117         117                           BATTERY  10/13/2019 08:45:00 AM\n",
              "118         118                             THEFT  10/13/2019 02:00:00 PM\n",
              "119         119                DECEPTIVE PRACTICE  10/12/2019 10:20:00 PM\n",
              "120         120                           BATTERY  10/13/2019 12:45:00 AM"
            ]
          },
          "metadata": {
            "tags": []
          },
          "execution_count": 124
        }
      ]
    },
    {
      "cell_type": "code",
      "metadata": {
        "id": "b_5HnXXhmGwH"
      },
      "source": [
        "import seaborn as sns"
      ],
      "execution_count": null,
      "outputs": []
    },
    {
      "cell_type": "code",
      "metadata": {
        "colab": {
          "base_uri": "https://localhost:8080/",
          "height": 279
        },
        "id": "qn7XO-jWl8Vz",
        "outputId": "dd4c9bef-e916-4f70-d980-cc34c8d24860"
      },
      "source": [
        " ax = sns.barplot(x = \"contador\", y=\"Primary Type\", data = datos_info)"
      ],
      "execution_count": null,
      "outputs": [
        {
          "output_type": "display_data",
          "data": {
            "image/png": "[encoded data removed]",
            "text/plain": [
              "<Figure size 432x288 with 1 Axes>"
            ]
          },
          "metadata": {
            "tags": [],
            "needs_background": "light"
          }
        }
      ]
    },
    {
      "cell_type": "markdown",
      "metadata": {
        "id": "nmvZRJCjFvsQ"
      },
      "source": [
        "Problema 3. "
      ]
    },
    {
      "cell_type": "code",
      "metadata": {
        "colab": {
          "base_uri": "https://localhost:8080/",
          "height": 694
        },
        "id": "ykliwKQfFr0s",
        "outputId": "43927c53-1627-4d15-ea11-13d2729308e0"
      },
      "source": [
        "v='https://docs.google.com/spreadsheets/d/e/2PACX-1vQCHo4jf0NTe6yD4SxQ-Y5mfYHnao-WC3GlE9QGh6xtkqs5iyXRv_khyP4pdn-qC2D-sOmyWyDzRoVE/pub?output=csv'\n",
        "df=pd.read_csv(v)\n",
        "df"
      ],
      "execution_count": 125,
      "outputs": [
        {
          "output_type": "execute_result",
          "data": {
            "text/html": [
              "<div>\n",
              "<style scoped>\n",
              "    .dataframe tbody tr th:only-of-type {\n",
              "        vertical-align: middle;\n",
              "    }\n",
              "\n",
              "    .dataframe tbody tr th {\n",
              "        vertical-align: top;\n",
              "    }\n",
              "\n",
              "    .dataframe thead th {\n",
              "        text-align: right;\n",
              "    }\n",
              "</style>\n",
              "<table border=\"1\" class=\"dataframe\">\n",
              "  <thead>\n",
              "    <tr style=\"text-align: right;\">\n",
              "      <th></th>\n",
              "      <th>country</th>\n",
              "      <th>iso_code</th>\n",
              "      <th>date</th>\n",
              "      <th>total_vaccinations</th>\n",
              "      <th>people_vaccinated</th>\n",
              "      <th>people_fully_vaccinated</th>\n",
              "      <th>daily_vaccinations_raw</th>\n",
              "      <th>daily_vaccinations</th>\n",
              "      <th>total_vaccinations_per_hundred</th>\n",
              "      <th>people_vaccinated_per_hundred</th>\n",
              "      <th>people_fully_vaccinated_per_hundred</th>\n",
              "      <th>daily_vaccinations_per_million</th>\n",
              "      <th>vaccines</th>\n",
              "      <th>source_name</th>\n",
              "      <th>source_website</th>\n",
              "    </tr>\n",
              "  </thead>\n",
              "  <tbody>\n",
              "    <tr>\n",
              "      <th>0</th>\n",
              "      <td>Afghanistan</td>\n",
              "      <td>AFG</td>\n",
              "      <td>2021-02-22</td>\n",
              "      <td>0.0</td>\n",
              "      <td>0.0</td>\n",
              "      <td>NaN</td>\n",
              "      <td>NaN</td>\n",
              "      <td>NaN</td>\n",
              "      <td>0.00</td>\n",
              "      <td>0.00</td>\n",
              "      <td>NaN</td>\n",
              "      <td>NaN</td>\n",
              "      <td>Oxford/AstraZeneca</td>\n",
              "      <td>Government of Afghanistan</td>\n",
              "      <td>http://www.xinhuanet.com/english/asiapacific/2...</td>\n",
              "    </tr>\n",
              "    <tr>\n",
              "      <th>1</th>\n",
              "      <td>Afghanistan</td>\n",
              "      <td>AFG</td>\n",
              "      <td>2021-02-23</td>\n",
              "      <td>NaN</td>\n",
              "      <td>NaN</td>\n",
              "      <td>NaN</td>\n",
              "      <td>NaN</td>\n",
              "      <td>1367.0</td>\n",
              "      <td>NaN</td>\n",
              "      <td>NaN</td>\n",
              "      <td>NaN</td>\n",
              "      <td>35.0</td>\n",
              "      <td>Oxford/AstraZeneca</td>\n",
              "      <td>Government of Afghanistan</td>\n",
              "      <td>http://www.xinhuanet.com/english/asiapacific/2...</td>\n",
              "    </tr>\n",
              "    <tr>\n",
              "      <th>2</th>\n",
              "      <td>Afghanistan</td>\n",
              "      <td>AFG</td>\n",
              "      <td>2021-02-24</td>\n",
              "      <td>NaN</td>\n",
              "      <td>NaN</td>\n",
              "      <td>NaN</td>\n",
              "      <td>NaN</td>\n",
              "      <td>1367.0</td>\n",
              "      <td>NaN</td>\n",
              "      <td>NaN</td>\n",
              "      <td>NaN</td>\n",
              "      <td>35.0</td>\n",
              "      <td>Oxford/AstraZeneca</td>\n",
              "      <td>Government of Afghanistan</td>\n",
              "      <td>http://www.xinhuanet.com/english/asiapacific/2...</td>\n",
              "    </tr>\n",
              "    <tr>\n",
              "      <th>3</th>\n",
              "      <td>Afghanistan</td>\n",
              "      <td>AFG</td>\n",
              "      <td>2021-02-25</td>\n",
              "      <td>NaN</td>\n",
              "      <td>NaN</td>\n",
              "      <td>NaN</td>\n",
              "      <td>NaN</td>\n",
              "      <td>1367.0</td>\n",
              "      <td>NaN</td>\n",
              "      <td>NaN</td>\n",
              "      <td>NaN</td>\n",
              "      <td>35.0</td>\n",
              "      <td>Oxford/AstraZeneca</td>\n",
              "      <td>Government of Afghanistan</td>\n",
              "      <td>http://www.xinhuanet.com/english/asiapacific/2...</td>\n",
              "    </tr>\n",
              "    <tr>\n",
              "      <th>4</th>\n",
              "      <td>Afghanistan</td>\n",
              "      <td>AFG</td>\n",
              "      <td>2021-02-26</td>\n",
              "      <td>NaN</td>\n",
              "      <td>NaN</td>\n",
              "      <td>NaN</td>\n",
              "      <td>NaN</td>\n",
              "      <td>1367.0</td>\n",
              "      <td>NaN</td>\n",
              "      <td>NaN</td>\n",
              "      <td>NaN</td>\n",
              "      <td>35.0</td>\n",
              "      <td>Oxford/AstraZeneca</td>\n",
              "      <td>Government of Afghanistan</td>\n",
              "      <td>http://www.xinhuanet.com/english/asiapacific/2...</td>\n",
              "    </tr>\n",
              "    <tr>\n",
              "      <th>...</th>\n",
              "      <td>...</td>\n",
              "      <td>...</td>\n",
              "      <td>...</td>\n",
              "      <td>...</td>\n",
              "      <td>...</td>\n",
              "      <td>...</td>\n",
              "      <td>...</td>\n",
              "      <td>...</td>\n",
              "      <td>...</td>\n",
              "      <td>...</td>\n",
              "      <td>...</td>\n",
              "      <td>...</td>\n",
              "      <td>...</td>\n",
              "      <td>...</td>\n",
              "      <td>...</td>\n",
              "    </tr>\n",
              "    <tr>\n",
              "      <th>9571</th>\n",
              "      <td>Zimbabwe</td>\n",
              "      <td>ZWE</td>\n",
              "      <td>2021-03-29</td>\n",
              "      <td>81610.0</td>\n",
              "      <td>69751.0</td>\n",
              "      <td>11859.0</td>\n",
              "      <td>2471.0</td>\n",
              "      <td>5434.0</td>\n",
              "      <td>0.55</td>\n",
              "      <td>0.47</td>\n",
              "      <td>0.08</td>\n",
              "      <td>366.0</td>\n",
              "      <td>Sinopharm/Beijing</td>\n",
              "      <td>Ministry of Health</td>\n",
              "      <td>https://twitter.com/MoHCCZim/status/1378053949...</td>\n",
              "    </tr>\n",
              "    <tr>\n",
              "      <th>9572</th>\n",
              "      <td>Zimbabwe</td>\n",
              "      <td>ZWE</td>\n",
              "      <td>2021-03-30</td>\n",
              "      <td>85866.0</td>\n",
              "      <td>72944.0</td>\n",
              "      <td>12922.0</td>\n",
              "      <td>4256.0</td>\n",
              "      <td>5810.0</td>\n",
              "      <td>0.58</td>\n",
              "      <td>0.49</td>\n",
              "      <td>0.09</td>\n",
              "      <td>391.0</td>\n",
              "      <td>Sinopharm/Beijing</td>\n",
              "      <td>Ministry of Health</td>\n",
              "      <td>https://twitter.com/MoHCCZim/status/1378053949...</td>\n",
              "    </tr>\n",
              "    <tr>\n",
              "      <th>9573</th>\n",
              "      <td>Zimbabwe</td>\n",
              "      <td>ZWE</td>\n",
              "      <td>2021-03-31</td>\n",
              "      <td>91880.0</td>\n",
              "      <td>76995.0</td>\n",
              "      <td>14885.0</td>\n",
              "      <td>6014.0</td>\n",
              "      <td>5712.0</td>\n",
              "      <td>0.62</td>\n",
              "      <td>0.52</td>\n",
              "      <td>0.10</td>\n",
              "      <td>384.0</td>\n",
              "      <td>Sinopharm/Beijing</td>\n",
              "      <td>Ministry of Health</td>\n",
              "      <td>https://twitter.com/MoHCCZim/status/1378053949...</td>\n",
              "    </tr>\n",
              "    <tr>\n",
              "      <th>9574</th>\n",
              "      <td>Zimbabwe</td>\n",
              "      <td>ZWE</td>\n",
              "      <td>2021-04-01</td>\n",
              "      <td>105307.0</td>\n",
              "      <td>87791.0</td>\n",
              "      <td>17516.0</td>\n",
              "      <td>13427.0</td>\n",
              "      <td>6617.0</td>\n",
              "      <td>0.71</td>\n",
              "      <td>0.59</td>\n",
              "      <td>0.12</td>\n",
              "      <td>445.0</td>\n",
              "      <td>Sinopharm/Beijing</td>\n",
              "      <td>Ministry of Health</td>\n",
              "      <td>https://twitter.com/MoHCCZim/status/1378053949...</td>\n",
              "    </tr>\n",
              "    <tr>\n",
              "      <th>9575</th>\n",
              "      <td>Zimbabwe</td>\n",
              "      <td>ZWE</td>\n",
              "      <td>2021-04-02</td>\n",
              "      <td>124753.0</td>\n",
              "      <td>103815.0</td>\n",
              "      <td>20938.0</td>\n",
              "      <td>19446.0</td>\n",
              "      <td>8156.0</td>\n",
              "      <td>0.84</td>\n",
              "      <td>0.70</td>\n",
              "      <td>0.14</td>\n",
              "      <td>549.0</td>\n",
              "      <td>Sinopharm/Beijing</td>\n",
              "      <td>Ministry of Health</td>\n",
              "      <td>https://twitter.com/MoHCCZim/status/1378053949...</td>\n",
              "    </tr>\n",
              "  </tbody>\n",
              "</table>\n",
              "<p>9576 rows × 15 columns</p>\n",
              "</div>"
            ],
            "text/plain": [
              "          country  ...                                     source_website\n",
              "0     Afghanistan  ...  http://www.xinhuanet.com/english/asiapacific/2...\n",
              "1     Afghanistan  ...  http://www.xinhuanet.com/english/asiapacific/2...\n",
              "2     Afghanistan  ...  http://www.xinhuanet.com/english/asiapacific/2...\n",
              "3     Afghanistan  ...  http://www.xinhuanet.com/english/asiapacific/2...\n",
              "4     Afghanistan  ...  http://www.xinhuanet.com/english/asiapacific/2...\n",
              "...           ...  ...                                                ...\n",
              "9571     Zimbabwe  ...  https://twitter.com/MoHCCZim/status/1378053949...\n",
              "9572     Zimbabwe  ...  https://twitter.com/MoHCCZim/status/1378053949...\n",
              "9573     Zimbabwe  ...  https://twitter.com/MoHCCZim/status/1378053949...\n",
              "9574     Zimbabwe  ...  https://twitter.com/MoHCCZim/status/1378053949...\n",
              "9575     Zimbabwe  ...  https://twitter.com/MoHCCZim/status/1378053949...\n",
              "\n",
              "[9576 rows x 15 columns]"
            ]
          },
          "metadata": {
            "tags": []
          },
          "execution_count": 125
        }
      ]
    },
    {
      "cell_type": "code",
      "metadata": {
        "id": "55lOPV4FJ6Zy"
      },
      "source": [
        ""
      ],
      "execution_count": null,
      "outputs": []
    },
    {
      "cell_type": "code",
      "metadata": {
        "id": "mMeO0AnkKX4k"
      },
      "source": [
        ""
      ],
      "execution_count": null,
      "outputs": []
    },
    {
      "cell_type": "code",
      "metadata": {
        "id": "IPkY25tpQloJ"
      },
      "source": [
        "x=df[((df.country=='Colombia') | (df.country=='Mexico') | (df.country=='Chile') | (df.country=='Brasil') | (df.country=='Argentina') | (df.country=='Ecuador') | (df.country=='Venezuela') | (df.country=='Peru'))]"
      ],
      "execution_count": 101,
      "outputs": []
    },
    {
      "cell_type": "code",
      "metadata": {
        "id": "VeyyNU87OJbt",
        "colab": {
          "base_uri": "https://localhost:8080/",
          "height": 694
        },
        "outputId": "d133f019-f35b-40ea-c5b7-0de3a567752f"
      },
      "source": [
        "x.to_csv('Datos_Colombia.csv',index=False)\n",
        "pd.read_csv('Datos_Colombia.csv')"
      ],
      "execution_count": 102,
      "outputs": [
        {
          "output_type": "execute_result",
          "data": {
            "text/html": [
              "<div>\n",
              "<style scoped>\n",
              "    .dataframe tbody tr th:only-of-type {\n",
              "        vertical-align: middle;\n",
              "    }\n",
              "\n",
              "    .dataframe tbody tr th {\n",
              "        vertical-align: top;\n",
              "    }\n",
              "\n",
              "    .dataframe thead th {\n",
              "        text-align: right;\n",
              "    }\n",
              "</style>\n",
              "<table border=\"1\" class=\"dataframe\">\n",
              "  <thead>\n",
              "    <tr style=\"text-align: right;\">\n",
              "      <th></th>\n",
              "      <th>country</th>\n",
              "      <th>iso_code</th>\n",
              "      <th>date</th>\n",
              "      <th>total_vaccinations</th>\n",
              "      <th>people_vaccinated</th>\n",
              "      <th>people_fully_vaccinated</th>\n",
              "      <th>daily_vaccinations_raw</th>\n",
              "      <th>daily_vaccinations</th>\n",
              "      <th>total_vaccinations_per_hundred</th>\n",
              "      <th>people_vaccinated_per_hundred</th>\n",
              "      <th>people_fully_vaccinated_per_hundred</th>\n",
              "      <th>daily_vaccinations_per_million</th>\n",
              "      <th>vaccines</th>\n",
              "      <th>source_name</th>\n",
              "      <th>source_website</th>\n",
              "    </tr>\n",
              "  </thead>\n",
              "  <tbody>\n",
              "    <tr>\n",
              "      <th>0</th>\n",
              "      <td>Argentina</td>\n",
              "      <td>ARG</td>\n",
              "      <td>2020-12-29</td>\n",
              "      <td>700.0</td>\n",
              "      <td>NaN</td>\n",
              "      <td>NaN</td>\n",
              "      <td>NaN</td>\n",
              "      <td>NaN</td>\n",
              "      <td>0.00</td>\n",
              "      <td>NaN</td>\n",
              "      <td>NaN</td>\n",
              "      <td>NaN</td>\n",
              "      <td>Oxford/AstraZeneca, Sinopharm/Beijing, Sputnik V</td>\n",
              "      <td>Ministry of Health</td>\n",
              "      <td>http://datos.salud.gob.ar/dataset/vacunas-cont...</td>\n",
              "    </tr>\n",
              "    <tr>\n",
              "      <th>1</th>\n",
              "      <td>Argentina</td>\n",
              "      <td>ARG</td>\n",
              "      <td>2020-12-30</td>\n",
              "      <td>NaN</td>\n",
              "      <td>NaN</td>\n",
              "      <td>NaN</td>\n",
              "      <td>NaN</td>\n",
              "      <td>15656.0</td>\n",
              "      <td>NaN</td>\n",
              "      <td>NaN</td>\n",
              "      <td>NaN</td>\n",
              "      <td>346.0</td>\n",
              "      <td>Oxford/AstraZeneca, Sinopharm/Beijing, Sputnik V</td>\n",
              "      <td>Ministry of Health</td>\n",
              "      <td>http://datos.salud.gob.ar/dataset/vacunas-cont...</td>\n",
              "    </tr>\n",
              "    <tr>\n",
              "      <th>2</th>\n",
              "      <td>Argentina</td>\n",
              "      <td>ARG</td>\n",
              "      <td>2020-12-31</td>\n",
              "      <td>32013.0</td>\n",
              "      <td>NaN</td>\n",
              "      <td>NaN</td>\n",
              "      <td>NaN</td>\n",
              "      <td>15656.0</td>\n",
              "      <td>0.07</td>\n",
              "      <td>NaN</td>\n",
              "      <td>NaN</td>\n",
              "      <td>346.0</td>\n",
              "      <td>Oxford/AstraZeneca, Sinopharm/Beijing, Sputnik V</td>\n",
              "      <td>Ministry of Health</td>\n",
              "      <td>http://datos.salud.gob.ar/dataset/vacunas-cont...</td>\n",
              "    </tr>\n",
              "    <tr>\n",
              "      <th>3</th>\n",
              "      <td>Argentina</td>\n",
              "      <td>ARG</td>\n",
              "      <td>2021-01-01</td>\n",
              "      <td>NaN</td>\n",
              "      <td>NaN</td>\n",
              "      <td>NaN</td>\n",
              "      <td>NaN</td>\n",
              "      <td>11070.0</td>\n",
              "      <td>NaN</td>\n",
              "      <td>NaN</td>\n",
              "      <td>NaN</td>\n",
              "      <td>245.0</td>\n",
              "      <td>Oxford/AstraZeneca, Sinopharm/Beijing, Sputnik V</td>\n",
              "      <td>Ministry of Health</td>\n",
              "      <td>http://datos.salud.gob.ar/dataset/vacunas-cont...</td>\n",
              "    </tr>\n",
              "    <tr>\n",
              "      <th>4</th>\n",
              "      <td>Argentina</td>\n",
              "      <td>ARG</td>\n",
              "      <td>2021-01-02</td>\n",
              "      <td>NaN</td>\n",
              "      <td>NaN</td>\n",
              "      <td>NaN</td>\n",
              "      <td>NaN</td>\n",
              "      <td>8776.0</td>\n",
              "      <td>NaN</td>\n",
              "      <td>NaN</td>\n",
              "      <td>NaN</td>\n",
              "      <td>194.0</td>\n",
              "      <td>Oxford/AstraZeneca, Sinopharm/Beijing, Sputnik V</td>\n",
              "      <td>Ministry of Health</td>\n",
              "      <td>http://datos.salud.gob.ar/dataset/vacunas-cont...</td>\n",
              "    </tr>\n",
              "    <tr>\n",
              "      <th>...</th>\n",
              "      <td>...</td>\n",
              "      <td>...</td>\n",
              "      <td>...</td>\n",
              "      <td>...</td>\n",
              "      <td>...</td>\n",
              "      <td>...</td>\n",
              "      <td>...</td>\n",
              "      <td>...</td>\n",
              "      <td>...</td>\n",
              "      <td>...</td>\n",
              "      <td>...</td>\n",
              "      <td>...</td>\n",
              "      <td>...</td>\n",
              "      <td>...</td>\n",
              "      <td>...</td>\n",
              "    </tr>\n",
              "    <tr>\n",
              "      <th>500</th>\n",
              "      <td>Venezuela</td>\n",
              "      <td>VEN</td>\n",
              "      <td>2021-03-22</td>\n",
              "      <td>NaN</td>\n",
              "      <td>NaN</td>\n",
              "      <td>NaN</td>\n",
              "      <td>NaN</td>\n",
              "      <td>92.0</td>\n",
              "      <td>NaN</td>\n",
              "      <td>NaN</td>\n",
              "      <td>NaN</td>\n",
              "      <td>3.0</td>\n",
              "      <td>Sputnik V</td>\n",
              "      <td>Government of Venezuela</td>\n",
              "      <td>https://cronica.uno/cinco-semanas-de-vacunacio...</td>\n",
              "    </tr>\n",
              "    <tr>\n",
              "      <th>501</th>\n",
              "      <td>Venezuela</td>\n",
              "      <td>VEN</td>\n",
              "      <td>2021-03-23</td>\n",
              "      <td>NaN</td>\n",
              "      <td>NaN</td>\n",
              "      <td>NaN</td>\n",
              "      <td>NaN</td>\n",
              "      <td>92.0</td>\n",
              "      <td>NaN</td>\n",
              "      <td>NaN</td>\n",
              "      <td>NaN</td>\n",
              "      <td>3.0</td>\n",
              "      <td>Sputnik V</td>\n",
              "      <td>Government of Venezuela</td>\n",
              "      <td>https://cronica.uno/cinco-semanas-de-vacunacio...</td>\n",
              "    </tr>\n",
              "    <tr>\n",
              "      <th>502</th>\n",
              "      <td>Venezuela</td>\n",
              "      <td>VEN</td>\n",
              "      <td>2021-03-24</td>\n",
              "      <td>NaN</td>\n",
              "      <td>NaN</td>\n",
              "      <td>NaN</td>\n",
              "      <td>NaN</td>\n",
              "      <td>92.0</td>\n",
              "      <td>NaN</td>\n",
              "      <td>NaN</td>\n",
              "      <td>NaN</td>\n",
              "      <td>3.0</td>\n",
              "      <td>Sputnik V</td>\n",
              "      <td>Government of Venezuela</td>\n",
              "      <td>https://cronica.uno/cinco-semanas-de-vacunacio...</td>\n",
              "    </tr>\n",
              "    <tr>\n",
              "      <th>503</th>\n",
              "      <td>Venezuela</td>\n",
              "      <td>VEN</td>\n",
              "      <td>2021-03-25</td>\n",
              "      <td>NaN</td>\n",
              "      <td>NaN</td>\n",
              "      <td>NaN</td>\n",
              "      <td>NaN</td>\n",
              "      <td>92.0</td>\n",
              "      <td>NaN</td>\n",
              "      <td>NaN</td>\n",
              "      <td>NaN</td>\n",
              "      <td>3.0</td>\n",
              "      <td>Sputnik V</td>\n",
              "      <td>Government of Venezuela</td>\n",
              "      <td>https://cronica.uno/cinco-semanas-de-vacunacio...</td>\n",
              "    </tr>\n",
              "    <tr>\n",
              "      <th>504</th>\n",
              "      <td>Venezuela</td>\n",
              "      <td>VEN</td>\n",
              "      <td>2021-03-26</td>\n",
              "      <td>14223.0</td>\n",
              "      <td>14223.0</td>\n",
              "      <td>NaN</td>\n",
              "      <td>NaN</td>\n",
              "      <td>92.0</td>\n",
              "      <td>0.05</td>\n",
              "      <td>0.05</td>\n",
              "      <td>NaN</td>\n",
              "      <td>3.0</td>\n",
              "      <td>Sputnik V</td>\n",
              "      <td>Government of Venezuela</td>\n",
              "      <td>https://cronica.uno/cinco-semanas-de-vacunacio...</td>\n",
              "    </tr>\n",
              "  </tbody>\n",
              "</table>\n",
              "<p>505 rows × 15 columns</p>\n",
              "</div>"
            ],
            "text/plain": [
              "       country  ...                                     source_website\n",
              "0    Argentina  ...  http://datos.salud.gob.ar/dataset/vacunas-cont...\n",
              "1    Argentina  ...  http://datos.salud.gob.ar/dataset/vacunas-cont...\n",
              "2    Argentina  ...  http://datos.salud.gob.ar/dataset/vacunas-cont...\n",
              "3    Argentina  ...  http://datos.salud.gob.ar/dataset/vacunas-cont...\n",
              "4    Argentina  ...  http://datos.salud.gob.ar/dataset/vacunas-cont...\n",
              "..         ...  ...                                                ...\n",
              "500  Venezuela  ...  https://cronica.uno/cinco-semanas-de-vacunacio...\n",
              "501  Venezuela  ...  https://cronica.uno/cinco-semanas-de-vacunacio...\n",
              "502  Venezuela  ...  https://cronica.uno/cinco-semanas-de-vacunacio...\n",
              "503  Venezuela  ...  https://cronica.uno/cinco-semanas-de-vacunacio...\n",
              "504  Venezuela  ...  https://cronica.uno/cinco-semanas-de-vacunacio...\n",
              "\n",
              "[505 rows x 15 columns]"
            ]
          },
          "metadata": {
            "tags": []
          },
          "execution_count": 102
        }
      ]
    },
    {
      "cell_type": "code",
      "metadata": {
        "colab": {
          "base_uri": "https://localhost:8080/"
        },
        "id": "RVwmqqESbbov",
        "outputId": "d7f8e93f-c5ec-4dd8-eff2-b1da6ba236c7"
      },
      "source": [
        "b = x.groupby(\"country\").date.count().sort_values(ascending = False)\n",
        "b"
      ],
      "execution_count": 115,
      "outputs": [
        {
          "output_type": "execute_result",
          "data": {
            "text/plain": [
              "country\n",
              "Mexico       101\n",
              "Chile        101\n",
              "Argentina     96\n",
              "Ecuador       71\n",
              "Peru          53\n",
              "Colombia      45\n",
              "Venezuela     38\n",
              "Name: date, dtype: int64"
            ]
          },
          "metadata": {
            "tags": []
          },
          "execution_count": 115
        }
      ]
    },
    {
      "cell_type": "code",
      "metadata": {
        "id": "B5HWg5llcj0M"
      },
      "source": [
        "b = b.reset_index()"
      ],
      "execution_count": 116,
      "outputs": []
    },
    {
      "cell_type": "code",
      "metadata": {
        "colab": {
          "base_uri": "https://localhost:8080/",
          "height": 266
        },
        "id": "H4dEVJ5KcweC",
        "outputId": "a947b590-19ae-4a72-9196-05d313a45ce3"
      },
      "source": [
        "b = b.rename(columns={\"date\":\"vaccination days\"})\n",
        "b"
      ],
      "execution_count": 117,
      "outputs": [
        {
          "output_type": "execute_result",
          "data": {
            "text/html": [
              "<div>\n",
              "<style scoped>\n",
              "    .dataframe tbody tr th:only-of-type {\n",
              "        vertical-align: middle;\n",
              "    }\n",
              "\n",
              "    .dataframe tbody tr th {\n",
              "        vertical-align: top;\n",
              "    }\n",
              "\n",
              "    .dataframe thead th {\n",
              "        text-align: right;\n",
              "    }\n",
              "</style>\n",
              "<table border=\"1\" class=\"dataframe\">\n",
              "  <thead>\n",
              "    <tr style=\"text-align: right;\">\n",
              "      <th></th>\n",
              "      <th>country</th>\n",
              "      <th>vaccination days</th>\n",
              "    </tr>\n",
              "  </thead>\n",
              "  <tbody>\n",
              "    <tr>\n",
              "      <th>0</th>\n",
              "      <td>Mexico</td>\n",
              "      <td>101</td>\n",
              "    </tr>\n",
              "    <tr>\n",
              "      <th>1</th>\n",
              "      <td>Chile</td>\n",
              "      <td>101</td>\n",
              "    </tr>\n",
              "    <tr>\n",
              "      <th>2</th>\n",
              "      <td>Argentina</td>\n",
              "      <td>96</td>\n",
              "    </tr>\n",
              "    <tr>\n",
              "      <th>3</th>\n",
              "      <td>Ecuador</td>\n",
              "      <td>71</td>\n",
              "    </tr>\n",
              "    <tr>\n",
              "      <th>4</th>\n",
              "      <td>Peru</td>\n",
              "      <td>53</td>\n",
              "    </tr>\n",
              "    <tr>\n",
              "      <th>5</th>\n",
              "      <td>Colombia</td>\n",
              "      <td>45</td>\n",
              "    </tr>\n",
              "    <tr>\n",
              "      <th>6</th>\n",
              "      <td>Venezuela</td>\n",
              "      <td>38</td>\n",
              "    </tr>\n",
              "  </tbody>\n",
              "</table>\n",
              "</div>"
            ],
            "text/plain": [
              "     country  vaccination days\n",
              "0     Mexico               101\n",
              "1      Chile               101\n",
              "2  Argentina                96\n",
              "3    Ecuador                71\n",
              "4       Peru                53\n",
              "5   Colombia                45\n",
              "6  Venezuela                38"
            ]
          },
          "metadata": {
            "tags": []
          },
          "execution_count": 117
        }
      ]
    },
    {
      "cell_type": "code",
      "metadata": {
        "colab": {
          "base_uri": "https://localhost:8080/",
          "height": 779
        },
        "id": "lybRSposfHtH",
        "outputId": "b5978f2d-f94b-49fc-8faf-32c83d91f40e"
      },
      "source": [
        "m=df[((df.total_vaccinations>1.5e6) | (df.total_vaccinations==1.5e6)) & ((df.total_vaccinations<2.0e6) | (df.total_vaccinations==2.0e6))]\n",
        "m\n"
      ],
      "execution_count": 149,
      "outputs": [
        {
          "output_type": "execute_result",
          "data": {
            "text/html": [
              "<div>\n",
              "<style scoped>\n",
              "    .dataframe tbody tr th:only-of-type {\n",
              "        vertical-align: middle;\n",
              "    }\n",
              "\n",
              "    .dataframe tbody tr th {\n",
              "        vertical-align: top;\n",
              "    }\n",
              "\n",
              "    .dataframe thead th {\n",
              "        text-align: right;\n",
              "    }\n",
              "</style>\n",
              "<table border=\"1\" class=\"dataframe\">\n",
              "  <thead>\n",
              "    <tr style=\"text-align: right;\">\n",
              "      <th></th>\n",
              "      <th>country</th>\n",
              "      <th>iso_code</th>\n",
              "      <th>date</th>\n",
              "      <th>total_vaccinations</th>\n",
              "      <th>people_vaccinated</th>\n",
              "      <th>people_fully_vaccinated</th>\n",
              "      <th>daily_vaccinations_raw</th>\n",
              "      <th>daily_vaccinations</th>\n",
              "      <th>total_vaccinations_per_hundred</th>\n",
              "      <th>people_vaccinated_per_hundred</th>\n",
              "      <th>people_fully_vaccinated_per_hundred</th>\n",
              "      <th>daily_vaccinations_per_million</th>\n",
              "      <th>vaccines</th>\n",
              "      <th>source_name</th>\n",
              "      <th>source_website</th>\n",
              "    </tr>\n",
              "  </thead>\n",
              "  <tbody>\n",
              "    <tr>\n",
              "      <th>361</th>\n",
              "      <td>Argentina</td>\n",
              "      <td>ARG</td>\n",
              "      <td>2021-03-07</td>\n",
              "      <td>1526078.0</td>\n",
              "      <td>1182874.0</td>\n",
              "      <td>343204.0</td>\n",
              "      <td>NaN</td>\n",
              "      <td>71582.0</td>\n",
              "      <td>3.38</td>\n",
              "      <td>2.62</td>\n",
              "      <td>0.76</td>\n",
              "      <td>1584.0</td>\n",
              "      <td>Oxford/AstraZeneca, Sinopharm/Beijing, Sputnik V</td>\n",
              "      <td>Ministry of Health</td>\n",
              "      <td>http://datos.salud.gob.ar/dataset/vacunas-cont...</td>\n",
              "    </tr>\n",
              "    <tr>\n",
              "      <th>362</th>\n",
              "      <td>Argentina</td>\n",
              "      <td>ARG</td>\n",
              "      <td>2021-03-08</td>\n",
              "      <td>1546699.0</td>\n",
              "      <td>1202998.0</td>\n",
              "      <td>343701.0</td>\n",
              "      <td>20621.0</td>\n",
              "      <td>71076.0</td>\n",
              "      <td>3.42</td>\n",
              "      <td>2.66</td>\n",
              "      <td>0.76</td>\n",
              "      <td>1573.0</td>\n",
              "      <td>Oxford/AstraZeneca, Sinopharm/Beijing, Sputnik V</td>\n",
              "      <td>Ministry of Health</td>\n",
              "      <td>http://datos.salud.gob.ar/dataset/vacunas-cont...</td>\n",
              "    </tr>\n",
              "    <tr>\n",
              "      <th>363</th>\n",
              "      <td>Argentina</td>\n",
              "      <td>ARG</td>\n",
              "      <td>2021-03-09</td>\n",
              "      <td>1648957.0</td>\n",
              "      <td>1301787.0</td>\n",
              "      <td>347170.0</td>\n",
              "      <td>102258.0</td>\n",
              "      <td>74693.0</td>\n",
              "      <td>3.65</td>\n",
              "      <td>2.88</td>\n",
              "      <td>0.77</td>\n",
              "      <td>1653.0</td>\n",
              "      <td>Oxford/AstraZeneca, Sinopharm/Beijing, Sputnik V</td>\n",
              "      <td>Ministry of Health</td>\n",
              "      <td>http://datos.salud.gob.ar/dataset/vacunas-cont...</td>\n",
              "    </tr>\n",
              "    <tr>\n",
              "      <th>364</th>\n",
              "      <td>Argentina</td>\n",
              "      <td>ARG</td>\n",
              "      <td>2021-03-10</td>\n",
              "      <td>1774438.0</td>\n",
              "      <td>1424984.0</td>\n",
              "      <td>349454.0</td>\n",
              "      <td>125481.0</td>\n",
              "      <td>84735.0</td>\n",
              "      <td>3.93</td>\n",
              "      <td>3.15</td>\n",
              "      <td>0.77</td>\n",
              "      <td>1875.0</td>\n",
              "      <td>Oxford/AstraZeneca, Sinopharm/Beijing, Sputnik V</td>\n",
              "      <td>Ministry of Health</td>\n",
              "      <td>http://datos.salud.gob.ar/dataset/vacunas-cont...</td>\n",
              "    </tr>\n",
              "    <tr>\n",
              "      <th>365</th>\n",
              "      <td>Argentina</td>\n",
              "      <td>ARG</td>\n",
              "      <td>2021-03-11</td>\n",
              "      <td>1919074.0</td>\n",
              "      <td>1564555.0</td>\n",
              "      <td>354519.0</td>\n",
              "      <td>144636.0</td>\n",
              "      <td>95230.0</td>\n",
              "      <td>4.25</td>\n",
              "      <td>3.46</td>\n",
              "      <td>0.78</td>\n",
              "      <td>2107.0</td>\n",
              "      <td>Oxford/AstraZeneca, Sinopharm/Beijing, Sputnik V</td>\n",
              "      <td>Ministry of Health</td>\n",
              "      <td>http://datos.salud.gob.ar/dataset/vacunas-cont...</td>\n",
              "    </tr>\n",
              "    <tr>\n",
              "      <th>...</th>\n",
              "      <td>...</td>\n",
              "      <td>...</td>\n",
              "      <td>...</td>\n",
              "      <td>...</td>\n",
              "      <td>...</td>\n",
              "      <td>...</td>\n",
              "      <td>...</td>\n",
              "      <td>...</td>\n",
              "      <td>...</td>\n",
              "      <td>...</td>\n",
              "      <td>...</td>\n",
              "      <td>...</td>\n",
              "      <td>...</td>\n",
              "      <td>...</td>\n",
              "      <td>...</td>\n",
              "    </tr>\n",
              "    <tr>\n",
              "      <th>9527</th>\n",
              "      <td>Wales</td>\n",
              "      <td>OWID_WLS</td>\n",
              "      <td>2021-03-29</td>\n",
              "      <td>1837726.0</td>\n",
              "      <td>1413710.0</td>\n",
              "      <td>424016.0</td>\n",
              "      <td>20114.0</td>\n",
              "      <td>28018.0</td>\n",
              "      <td>58.29</td>\n",
              "      <td>44.84</td>\n",
              "      <td>13.45</td>\n",
              "      <td>8886.0</td>\n",
              "      <td>Oxford/AstraZeneca, Pfizer/BioNTech</td>\n",
              "      <td>Government of the United Kingdom</td>\n",
              "      <td>https://coronavirus.data.gov.uk/details/health...</td>\n",
              "    </tr>\n",
              "    <tr>\n",
              "      <th>9528</th>\n",
              "      <td>Wales</td>\n",
              "      <td>OWID_WLS</td>\n",
              "      <td>2021-03-30</td>\n",
              "      <td>1865120.0</td>\n",
              "      <td>1427183.0</td>\n",
              "      <td>437937.0</td>\n",
              "      <td>27394.0</td>\n",
              "      <td>27906.0</td>\n",
              "      <td>59.16</td>\n",
              "      <td>45.27</td>\n",
              "      <td>13.89</td>\n",
              "      <td>8851.0</td>\n",
              "      <td>Oxford/AstraZeneca, Pfizer/BioNTech</td>\n",
              "      <td>Government of the United Kingdom</td>\n",
              "      <td>https://coronavirus.data.gov.uk/details/health...</td>\n",
              "    </tr>\n",
              "    <tr>\n",
              "      <th>9529</th>\n",
              "      <td>Wales</td>\n",
              "      <td>OWID_WLS</td>\n",
              "      <td>2021-03-31</td>\n",
              "      <td>1893423.0</td>\n",
              "      <td>1443885.0</td>\n",
              "      <td>449538.0</td>\n",
              "      <td>28303.0</td>\n",
              "      <td>27777.0</td>\n",
              "      <td>60.05</td>\n",
              "      <td>45.80</td>\n",
              "      <td>14.26</td>\n",
              "      <td>8810.0</td>\n",
              "      <td>Oxford/AstraZeneca, Pfizer/BioNTech</td>\n",
              "      <td>Government of the United Kingdom</td>\n",
              "      <td>https://coronavirus.data.gov.uk/details/health...</td>\n",
              "    </tr>\n",
              "    <tr>\n",
              "      <th>9530</th>\n",
              "      <td>Wales</td>\n",
              "      <td>OWID_WLS</td>\n",
              "      <td>2021-04-01</td>\n",
              "      <td>1920657.0</td>\n",
              "      <td>1460880.0</td>\n",
              "      <td>459777.0</td>\n",
              "      <td>27234.0</td>\n",
              "      <td>27053.0</td>\n",
              "      <td>60.92</td>\n",
              "      <td>46.33</td>\n",
              "      <td>14.58</td>\n",
              "      <td>8580.0</td>\n",
              "      <td>Oxford/AstraZeneca, Pfizer/BioNTech</td>\n",
              "      <td>Government of the United Kingdom</td>\n",
              "      <td>https://coronavirus.data.gov.uk/details/health...</td>\n",
              "    </tr>\n",
              "    <tr>\n",
              "      <th>9531</th>\n",
              "      <td>Wales</td>\n",
              "      <td>OWID_WLS</td>\n",
              "      <td>2021-04-02</td>\n",
              "      <td>1936088.0</td>\n",
              "      <td>1472643.0</td>\n",
              "      <td>463445.0</td>\n",
              "      <td>15431.0</td>\n",
              "      <td>24284.0</td>\n",
              "      <td>61.41</td>\n",
              "      <td>46.71</td>\n",
              "      <td>14.70</td>\n",
              "      <td>7702.0</td>\n",
              "      <td>Oxford/AstraZeneca, Pfizer/BioNTech</td>\n",
              "      <td>Government of the United Kingdom</td>\n",
              "      <td>https://coronavirus.data.gov.uk/details/health...</td>\n",
              "    </tr>\n",
              "  </tbody>\n",
              "</table>\n",
              "<p>205 rows × 15 columns</p>\n",
              "</div>"
            ],
            "text/plain": [
              "        country  ...                                     source_website\n",
              "361   Argentina  ...  http://datos.salud.gob.ar/dataset/vacunas-cont...\n",
              "362   Argentina  ...  http://datos.salud.gob.ar/dataset/vacunas-cont...\n",
              "363   Argentina  ...  http://datos.salud.gob.ar/dataset/vacunas-cont...\n",
              "364   Argentina  ...  http://datos.salud.gob.ar/dataset/vacunas-cont...\n",
              "365   Argentina  ...  http://datos.salud.gob.ar/dataset/vacunas-cont...\n",
              "...         ...  ...                                                ...\n",
              "9527      Wales  ...  https://coronavirus.data.gov.uk/details/health...\n",
              "9528      Wales  ...  https://coronavirus.data.gov.uk/details/health...\n",
              "9529      Wales  ...  https://coronavirus.data.gov.uk/details/health...\n",
              "9530      Wales  ...  https://coronavirus.data.gov.uk/details/health...\n",
              "9531      Wales  ...  https://coronavirus.data.gov.uk/details/health...\n",
              "\n",
              "[205 rows x 15 columns]"
            ]
          },
          "metadata": {
            "tags": []
          },
          "execution_count": 149
        }
      ]
    }
  ]
}