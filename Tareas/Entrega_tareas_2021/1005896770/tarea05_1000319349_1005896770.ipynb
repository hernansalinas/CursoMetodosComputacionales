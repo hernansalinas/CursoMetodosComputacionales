{
 "cells": [
  {
   "cell_type": "markdown",
   "metadata": {
    "id": "pQSt9-mvLVMa"
   },
   "source": [
    "# Taller Resolver los siguientes problemas, por el metodo de la biseccion, Punto fijo, newton, secante, etc.\n",
    "\n",
    "1. *Encontrar* los ceros de $e^{x}-2= \\cos(e^x-2)$\n",
    "\n",
    "2. Una particula parte del reposo sobre un plano inclinado uniforme, cuyo ángulo \n",
    "$\\theta$ cambia con una rapidez constante de : \n",
    "\n",
    "\\begin{equation}\n",
    "\\frac{\\mathrm{d}\\theta}{\\mathrm{d} t} = \\omega < 0\n",
    "\\end{equation}\n",
    "\n",
    "Al final de t segundos, la posición del objeto esta dada por: \n",
    "\n",
    "\n",
    "\\begin{equation}\n",
    "x(t) = -\\frac{g}{2\\omega^2} \\left( \\frac{e^{\\omega t}-e^{-\\omega t}}{2}\\right) -\\sin\\omega t\n",
    "\\end{equation}\n",
    "\n",
    "\n",
    "Suponga que la partícula se desplazo 0.51m en 1s. Encuentre, con una exactitud de $10^{-5}$, la rapidez $\\omega$ con que $\\theta$ cambia. Suponga que $g=9.76m/s$\n",
    "\n",
    "\n",
    "![Plano Inclinado](https://raw.githubusercontent.com/hernansalinas/Metodos_Computacionales_taller/main/sesiones/images/ecuacion_1_variable/Fig0.png)\n",
    "\n",
    "\n",
    "\n",
    "\n",
    "\n",
    "3. Un reservorio de longitud L tiene una seccion transveral en forma de semicirculo con radio r.\n",
    "\n",
    "\\begin{equation}\n",
    "V=L \\left ( \\frac{1}{2}\\pi r^2 -r^2 \\arcsin{\\frac{h}{r}}-h(r^2-h^2) ^{1/2} \\right)\n",
    "\\end{equation}\n",
    "\n",
    "Determinar la profundidad del agua para L=10pies, r=1pies, V=12.4pies\n",
    "\n",
    "\n",
    "![Reservorio](https://raw.githubusercontent.com/hernansalinas/Metodos_Computacionales_taller/main/sesiones/images/ecuacion_1_variable/Fig1.png)\n",
    "\n",
    "\n",
    "4.Resolver la siguiente situación\n",
    "\n",
    "En el diseño de los vehiculos para todo tipo de terreno,  es necesario tener encuentra fallas cuando se trata de liberar dos tipos de obstáculos. Una es la falla por rozamiento, y ocurre cuando el vehiculo \n",
    "intenta cruzar un obstáculo que hace que su fondo toque el suelo. La otra recibie el nombre de falla por colision de la defensa delantera y ocurre cuando el vehiculo desciende por una zanja y la defensa delantera toca el suelo.\n",
    "\n",
    "\n",
    "\n",
    "La figura muestra las componentes asociados al segundo tipo  de falla. En ella se indeca el ángulo máximo $\\alpha$ que puede alcanzar un vehiculo cuando $\\beta$ es el angulo maximo en que no ocurre la falla \n",
    "por rozamiento y satisface la siguiente ecuación: \n",
    "\n",
    "\n",
    "\\begin{equation}\n",
    "A \\sin(\\alpha) \\cos(\\alpha)+B \\sin^2(\\alpha) - C \\cos(\\alpha) -  E  \\sin(\\alpha)=0\n",
    "\\end{equation}\n",
    "\n",
    "donde; \n",
    "\\begin{equation}\n",
    "A = l \\sin(\\beta)\n",
    "\\end{equation}\n",
    "\n",
    "\\begin{equation}\n",
    "B = l \\cos(\\beta)\n",
    "\\end{equation}\n",
    "\\begin{equation}\n",
    "C = (h + 0.5 D )\\sin(\\beta) - 0.5 D \\tan(\\beta)\n",
    "\\end{equation}\n",
    "\n",
    "\\begin{equation}\n",
    "E = (h + 0.5 D ) \\cos(\\beta) - 0.5 * D\n",
    "\\end{equation}\n",
    "\n",
    "\n",
    "Para $l=89$pulg, $h=49$pul, $D=55$, $\\beta=11.5$ , el angulo se aproximara a 33. Verificar este resultados\n",
    "\n",
    "\n",
    "![fallas_vehiculo](https://raw.githubusercontent.com/hernansalinas/Metodos_Computacionales_taller/main/sesiones/images/ecuacion_1_variable/Fig2.png)\n",
    "\n",
    "Referencias: Numerical Analysis Book by J. Douglas Faires and Richard L. Burden\n",
    "\n",
    "\n"
   ]
  },
  {
   "cell_type": "markdown",
   "metadata": {
    "id": "y3x0T5mzKE59"
   },
   "source": [
    "# Solucion \n",
    "\n",
    "1. *Encontrar* los ceros de $e^{x}-2= \\cos(e^x-2)$\n",
    "\n",
    "\\begin{equation}\n",
    "f(x) = e^{x} - 2 - \\cos(e^x-2) \n",
    "\\end{equation}"
   ]
  },
  {
   "cell_type": "code",
   "execution_count": null,
   "metadata": {
    "id": "_5P1rf_fKlLF"
   },
   "outputs": [],
   "source": [
    "#librerias \n",
    "import numpy as np\n",
    "from scipy import optimize\n",
    "import matplotlib.pylab as plt"
   ]
  },
  {
   "cell_type": "code",
   "execution_count": null,
   "metadata": {
    "id": "5O67fsMMWcF9"
   },
   "outputs": [],
   "source": []
  },
  {
   "cell_type": "code",
   "execution_count": null,
   "metadata": {
    "id": "rAHMcadgKv0n"
   },
   "outputs": [],
   "source": [
    "g = lambda x: np.exp(x)-2\n",
    "h = lambda x: np.cos( np.exp(x)-2)\n",
    "f = lambda x: g(x) - h(x)"
   ]
  },
  {
   "cell_type": "code",
   "execution_count": null,
   "metadata": {
    "id": "CzGPJJvTKvyd"
   },
   "outputs": [],
   "source": [
    "x = np.linspace(-2, 2, 100)"
   ]
  },
  {
   "cell_type": "code",
   "execution_count": null,
   "metadata": {
    "colab": {
     "base_uri": "https://localhost:8080/",
     "height": 282
    },
    "id": "QPqPZzcLKvxd",
    "outputId": "261c3eda-9a5c-402c-8920-19cd9bb2494d"
   },
   "outputs": [
    {
     "data": {
      "text/plain": [
       "<matplotlib.legend.Legend at 0x7fde7576d190>"
      ]
     },
     "execution_count": 4,
     "metadata": {
      "tags": []
     },
     "output_type": "execute_result"
    },
    {
     "data": {
      "image/png": "[encoded data removed]",
      "text/plain": [
       "<Figure size 432x288 with 1 Axes>"
      ]
     },
     "metadata": {
      "needs_background": "light",
      "tags": []
     },
     "output_type": "display_data"
    }
   ],
   "source": [
    "plt.plot(x, g(x), label=\"g(x)\")\n",
    "plt.plot(x, h(x), label=\"h(x)\")\n",
    "plt.plot(x, h(x)-g(x), label=\"f(x)\")\n",
    "plt.grid()\n",
    "plt.legend()"
   ]
  },
  {
   "cell_type": "code",
   "execution_count": null,
   "metadata": {
    "colab": {
     "base_uri": "https://localhost:8080/"
    },
    "id": "nJWKDSosKvwY",
    "outputId": "0d070b68-ce22-4ddf-e944-8d8c319846cd"
   },
   "outputs": [
    {
     "name": "stdout",
     "output_type": "stream",
     "text": [
      "{1.007623971657722}\n"
     ]
    }
   ],
   "source": [
    "root = optimize.bisect(f, 1, 4)\n",
    "print({root})"
   ]
  },
  {
   "cell_type": "code",
   "execution_count": null,
   "metadata": {
    "colab": {
     "base_uri": "https://localhost:8080/"
    },
    "id": "NcsOmdLzKvpB",
    "outputId": "4fb0046a-fc8e-4154-bb2d-e124005f9ae6"
   },
   "outputs": [
    {
     "name": "stdout",
     "output_type": "stream",
     "text": [
      "{1.007623971657722}\n"
     ]
    }
   ],
   "source": [
    "# Metodo Newton Rapshod\n",
    "root2 = optimize.newton(f, 3)\n",
    "print({root})\n"
   ]
  },
  {
   "cell_type": "code",
   "execution_count": null,
   "metadata": {
    "colab": {
     "base_uri": "https://localhost:8080/"
    },
    "id": "lKdj1fqYKvma",
    "outputId": "1e294e66-b3f4-4888-894e-427671ac2bc5"
   },
   "outputs": [
    {
     "data": {
      "text/plain": [
       "-4.147793219999585e-13"
      ]
     },
     "execution_count": 8,
     "metadata": {
      "tags": []
     },
     "output_type": "execute_result"
    }
   ],
   "source": [
    "root-root2"
   ]
  },
  {
   "cell_type": "markdown",
   "metadata": {
    "id": "Nrwa1fuFUv0U"
   },
   "source": [
    "Punto 2.\n",
    "\n",
    "\\begin{equation}\n",
    "x(t) = -\\frac{g}{2\\omega^2} \\left( \\frac{e^{\\omega t}-e^{-\\omega t}}{2}\\right) -\\sin\\omega t\n",
    "\\end{equation}\n",
    "\n",
    "\\begin{equation}\n",
    "f(\\omega,t ) = 2\\omega^2(x(t)+\\sin \\omega t )\n",
    "\\end{equation}\n",
    "\n",
    "\n",
    "\\begin{equation}\n",
    "g(\\omega,t ) = -g\\left( \\frac{e^{\\omega t}-e^{-\\omega t}}{2}\\right) \n",
    "\\end{equation}\n",
    "\n"
   ]
  },
  {
   "cell_type": "code",
   "execution_count": null,
   "metadata": {
    "id": "XwtdJaocRlc1"
   },
   "outputs": [],
   "source": [
    "f = lambda omega : 2*omega**2 * (0.51+np.sin(omega))\n",
    "g = lambda omega : -9.76* 0.5*(np.exp(omega)-np.exp(-omega))\n",
    "\n",
    "h = lambda omega : f(omega)-g(omega)\n",
    "omega = np.linspace(-np.pi/4, np.pi/4)\n"
   ]
  },
  {
   "cell_type": "code",
   "execution_count": null,
   "metadata": {
    "colab": {
     "base_uri": "https://localhost:8080/",
     "height": 265
    },
    "id": "UThuzrWHWKi-",
    "outputId": "fd82bd05-7aa9-4cbd-adc6-a3544958868f"
   },
   "outputs": [
    {
     "data": {
      "image/png": "[encoded data removed]",
      "text/plain": [
       "<Figure size 432x288 with 1 Axes>"
      ]
     },
     "metadata": {
      "needs_background": "light",
      "tags": []
     },
     "output_type": "display_data"
    }
   ],
   "source": [
    "plt.figure()\n",
    "plt.plot(omega, h(omega) )\n",
    "plt.grid()"
   ]
  },
  {
   "cell_type": "code",
   "execution_count": null,
   "metadata": {
    "colab": {
     "base_uri": "https://localhost:8080/"
    },
    "id": "KOeiVPDiWlQl",
    "outputId": "eb4cb754-a6ac-4c9e-e87e-6e689686e4a3"
   },
   "outputs": [
    {
     "name": "stdout",
     "output_type": "stream",
     "text": [
      "{6.113797822835222e-17}\n"
     ]
    }
   ],
   "source": [
    "root = optimize.newton(h, 2)\n",
    "print({root})"
   ]
  },
  {
   "cell_type": "markdown",
   "metadata": {},
   "source": [
    "3. Un reservorio de longitud L tiene una seccion transveral en forma de semicirculo con radio r.\n",
    "\n",
    "\\begin{equation}\n",
    "V=L \\left ( \\frac{1}{2}\\pi r^2 -r^2 \\arcsin{\\frac{h}{r}}-h(r^2-h^2) ^{1/2} \\right)\n",
    "\\end{equation}\n",
    "\n",
    "Determinar la profundidad del agua para L=10pies, r=1pies, V=12.4pies\n",
    "\n",
    "\n",
    "![Reservorio](https://raw.githubusercontent.com/hernansalinas/Metodos_Computacionales_taller/main/sesiones/images/ecuacion_1_variable/Fig1.png)"
   ]
  },
  {
   "cell_type": "code",
   "execution_count": 8,
   "metadata": {},
   "outputs": [
    {
     "data": {
      "image/png": "[encoded data removed]",
      "text/plain": [
       "<Figure size 432x288 with 1 Axes>"
      ]
     },
     "metadata": {
      "needs_background": "light"
     },
     "output_type": "display_data"
    },
    {
     "name": "stdout",
     "output_type": "stream",
     "text": [
      "La profundidad del agua es 0.8338339653422736 pies\n"
     ]
    }
   ],
   "source": [
    "#Librerias\n",
    "import numpy as np\n",
    "from scipy import optimize\n",
    "import matplotlib.pyplot as plt\n",
    "\n",
    "\n",
    "def f(h): #Se define una función para h en términos de L,R Y V\n",
    "    L=10 #pies\n",
    "    r=1 #pie\n",
    "    v=12.4 #pies^3\n",
    "    return v-L*((0.5*np.pi*r**2)-(np.arcsin(h/r)*r**2)-(h*(r**2-h**2)**0.5))\n",
    "\n",
    "\n",
    "\n",
    "h=np.linspace(-0.5,1,50) #Arreglo con valores de h para evaluar en la función \n",
    "plt.plot(h,f(h),\"g-\", label=('f(h)')) #Se grafica f(h) para ver el intervalo [a,b]  tal que f(a)f(b)<0\n",
    "plt.xlabel('h')\n",
    "plt.ylabel('f(h)')\n",
    "plt.legend()\n",
    "plt.grid()\n",
    "plt.show()\n",
    "\n",
    "root= optimize.bisect(f,0,0.3) #Se halla el cero de f(h) con scipy\n",
    "profundidad = 1-root #Del grafico se ve que la profundidad del agua es r-h\n",
    "print(\"La profundidad del agua es {} pies\".format(profundidad))"
   ]
  },
  {
   "cell_type": "markdown",
   "metadata": {},
   "source": [
    "4.Resolver la siguiente situación\n",
    "\n",
    "En el diseño de los vehiculos para todo tipo de terreno,  es necesario tener encuentra fallas cuando se trata de liberar dos tipos de obstáculos. Una es la falla por rozamiento, y ocurre cuando el vehiculo \n",
    "intenta cruzar un obstáculo que hace que su fondo toque el suelo. La otra recibie el nombre de falla por colision de la defensa delantera y ocurre cuando el vehiculo desciende por una zanja y la defensa delantera toca el suelo.\n",
    "\n",
    "\n",
    "La figura muestra las componentes asociados al segundo tipo  de falla. En ella se indica el ángulo máximo $\\alpha$ que puede alcanzar un vehiculo cuando $\\beta$ es el angulo maximo en que no ocurre la falla \n",
    "por rozamiento y satisface la siguiente ecuación: \n",
    "\n",
    "\n",
    "\\begin{equation}\n",
    "A \\sin(\\alpha) \\cos(\\alpha)+B \\sin^2(\\alpha) - C \\cos(\\alpha) -  E  \\sin(\\alpha)=0\n",
    "\\end{equation}\n",
    "\n",
    "donde; \n",
    "\\begin{equation}\n",
    "A = l \\sin(\\beta)\n",
    "\\end{equation}\n",
    "\n",
    "\\begin{equation}\n",
    "B = l \\cos(\\beta)\n",
    "\\end{equation}\n",
    "\\begin{equation}\n",
    "C = (h + 0.5 D )\\sin(\\beta) - 0.5 D \\tan(\\beta)\n",
    "\\end{equation}\n",
    "\n",
    "\\begin{equation}\n",
    "E = (h + 0.5 D ) \\cos(\\beta) - 0.5 * D\n",
    "\\end{equation}\n",
    "\n",
    "\n",
    "Para $l=89$pulg, $h=49$pul, $D=55$, $\\beta=11.5$ , el angulo se aproximara a 33. Verificar este resultados\n",
    "\n",
    "\n",
    "![fallas_vehiculo](https://raw.githubusercontent.com/hernansalinas/Metodos_Computacionales_taller/main/sesiones/images/ecuacion_1_variable/Fig2.png)\n"
   ]
  },
  {
   "cell_type": "code",
   "execution_count": 11,
   "metadata": {},
   "outputs": [
    {
     "data": {
      "image/png": "[encoded data removed]",
      "text/plain": [
       "<Figure size 432x288 with 1 Axes>"
      ]
     },
     "metadata": {
      "needs_background": "light"
     },
     "output_type": "display_data"
    },
    {
     "name": "stdout",
     "output_type": "stream",
     "text": [
      "La raiz en radianes con el metodo de Newton es 0.5754730121943986 y en grados 32.972174822419596\n",
      "La raiz en radianes con el metodo de la biseccion es 0.5754730121940158 y en grados 32.97217482239766\n"
     ]
    }
   ],
   "source": [
    "#Librerias\n",
    "import numpy as np\n",
    "from scipy import optimize\n",
    "import matplotlib.pyplot as plt\n",
    "\n",
    "#Funcion que describe la falla por rozamiento en terminos de alpha(angulo maximo)\n",
    "def f(alpha):\n",
    "    L= 89 #pulgadas\n",
    "    h= 49 #pulgadas\n",
    "    D= 55 #pulgadas\n",
    "    beta= np.deg2rad(11.5) \n",
    "    \n",
    "    #Expresiones dadas en el enunciado\n",
    "    A=L*np.sin(beta)\n",
    "    B=L*np.cos(beta)\n",
    "    C=(h+0.5*D)*np.sin(beta)-(0.5*D*np.tan(beta))\n",
    "    E=(h+0.5*D)*np.cos(beta)-(0.5*D)\n",
    "    \n",
    "    return (A*np.sin(alpha)*np.cos(alpha))+(B*(np.sin(alpha))**2)-(C*np.cos(alpha))-(E*np.sin(alpha)) \n",
    "\n",
    "\n",
    "alpha=np.linspace(-1,3,100) #Arreglo de valores de alpha para evaluar en la funcion \n",
    "plt.plot(alpha,f(alpha),\"c-\", label=('f(h)')) #Grafica para determinar al intervalo [a,b] tal que f(a)f(b)<0\n",
    "plt.xlabel('h')\n",
    "plt.ylabel('f(h)')\n",
    "plt.legend()\n",
    "plt.grid()\n",
    "plt.show()\n",
    "\n",
    "\n",
    "#Se encuentra la raiz con el metodo de newton\n",
    "root=optimize.newton(f,0.5)\n",
    "#Se encuentra la raiz con el metodo de bisección\n",
    "root2=optimize.bisect(f,0.1,1) \n",
    "print(\"La raiz en radianes con el metodo de Newton es {} y en grados {}\".format(root,np.rad2deg(root)))\n",
    "print(\"La raiz en radianes con el metodo de la biseccion es {} y en grados {}\".format(root2,np.rad2deg(root2)))\n"
   ]
  },
  {
   "cell_type": "markdown",
   "metadata": {
    "id": "UvlcPwmcfUiz"
   },
   "source": [
    "\n",
    "\n",
    "\n",
    "5. Construir un fractal empleando el metodo de Newton-Raphson, \n",
    "(Reproducir código y entender)\n",
    "\\begin{equation}\n",
    "z_{n+1} = z_n -a \\frac{f(z)}{f'(z)} \n",
    "\\end{equation}\n",
    "\n",
    "\n",
    "\n",
    "\\begin{equation}\n",
    "f'(z) = \\frac{ f(z+h)+f(z) }{h}\n",
    "\\end{equation}"
   ]
  },
  {
   "cell_type": "code",
   "execution_count": null,
   "metadata": {
    "id": "I-2riPetfWrM"
   },
   "outputs": [],
   "source": [
    "import numpy as np\n",
    "import matplotlib.pylab as plt\n",
    "from PIL import Image\n"
   ]
  },
  {
   "cell_type": "code",
   "execution_count": null,
   "metadata": {
    "id": "coo74WrCoVBh"
   },
   "outputs": [],
   "source": [
    "Npx_X = 80 #Numero de pixeles en x\n",
    "Npx_Y = 80 #Numero de pixeles en y\n",
    "\n",
    "image = Image.new(\"RGB\", (Npx_X, Npx_Y)) #Creacion de la imagen inicial\n",
    "\n",
    "npx = np.arange(0, Npx_X)\n",
    "npy = np.arange(0, Npx_Y)\n",
    "\n",
    "xmin = -1\n",
    "xmax = 1\n",
    "ymin = -1\n",
    "ymax = 1\n",
    "#Transformación al plano complejo en un rectangulo (xmin, xmax), (ymin, ymax)\n",
    "zx = npx * (xmax - xmin) / (Npx_X - 1)   + xmin\n",
    "zy = npy * (ymax-ymin) / (Npx_Y - 1) + ymin\n"
   ]
  },
  {
   "cell_type": "code",
   "execution_count": null,
   "metadata": {
    "id": "wMsrzKovpVG7"
   },
   "outputs": [],
   "source": [
    "#Definicion  la funcion y las derivada \n",
    "def f(z): \n",
    "  return z**3 - 1\n",
    "\n",
    "def fp(z): \n",
    "  return 3*z**2\n",
    "\n",
    "h = 1E-4\n",
    "def fpn(z, h): \n",
    "  return (f(z+h)-f(z))/h\n",
    "  \n"
   ]
  },
  {
   "cell_type": "code",
   "execution_count": null,
   "metadata": {
    "id": "pZC8_84kpVJ1"
   },
   "outputs": [],
   "source": [
    "a = 0.2\n",
    "Niteraciones = 120\n",
    "eps = 1E-8\n",
    "\n",
    "x = - 1\n",
    "for zx_ in zx:\n",
    "  x = x + 1 \n",
    "  y = -1\n",
    "  for zy_ in zy: \n",
    "      y = y + 1\n",
    "      Z_0 = complex(zx_, zy_)\n",
    "    \n",
    "      for i in range(0, Niteraciones): \n",
    "        Z = Z_0 - a * f(Z_0)/fp(Z_0)\n",
    "\n",
    "        if( abs(Z-Z_0)<= eps):\n",
    "          break \n",
    "          \n",
    "        Z_0 = Z\n",
    "      #print(i)\n",
    "      #print(i)\n",
    "      r, g, b = i % 4 *64 , i % 8 *16, i% 16* 16\n",
    "      \n",
    "      image.putpixel((x,y), (r,g,b) )\n"
   ]
  },
  {
   "cell_type": "code",
   "execution_count": null,
   "metadata": {
    "colab": {
     "base_uri": "https://localhost:8080/",
     "height": 285
    },
    "id": "hfzvlcD6pVM0",
    "outputId": "31bf0a47-3f07-4064-f774-e7753be8fdb1"
   },
   "outputs": [
    {
     "data": {
      "text/plain": [
       "<matplotlib.image.AxesImage at 0x7f569006d790>"
      ]
     },
     "execution_count": 6,
     "metadata": {
      "tags": []
     },
     "output_type": "execute_result"
    },
    {
     "data": {
      "image/png": "[encoded data removed]",
      "text/plain": [
       "<Figure size 432x288 with 1 Axes>"
      ]
     },
     "metadata": {
      "needs_background": "light",
      "tags": []
     },
     "output_type": "display_data"
    }
   ],
   "source": [
    "plt.imshow(image)\n",
    "#plt.xlim(400, 600)\n",
    "#plt.ylim(400, 523)\n"
   ]
  },
  {
   "cell_type": "code",
   "execution_count": null,
   "metadata": {
    "id": "yM2FXog2TXqV"
   },
   "outputs": [],
   "source": []
  }
 ],
 "metadata": {
  "colab": {
   "name": "Sesion05_Solucion_ecuaciones.ipynb",
   "provenance": []
  },
  "kernelspec": {
   "display_name": "Python 3",
   "language": "python",
   "name": "python3"
  },
  "language_info": {
   "codemirror_mode": {
    "name": "ipython",
    "version": 3
   },
   "file_extension": ".py",
   "mimetype": "text/x-python",
   "name": "python",
   "nbconvert_exporter": "python",
   "pygments_lexer": "ipython3",
   "version": "3.8.5"
  }
 },
 "nbformat": 4,
 "nbformat_minor": 4
}
