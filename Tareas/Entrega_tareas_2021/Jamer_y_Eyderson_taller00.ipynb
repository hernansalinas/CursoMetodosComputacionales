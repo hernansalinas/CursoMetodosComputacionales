{
  "nbformat": 4,
  "nbformat_minor": 0,
  "metadata": {
    "kernelspec": {
      "display_name": "Python 3",
      "language": "python",
      "name": "python3"
    },
    "language_info": {
      "codemirror_mode": {
        "name": "ipython",
        "version": 3
      },
      "file_extension": ".py",
      "mimetype": "text/x-python",
      "name": "python",
      "nbconvert_exporter": "python",
      "pygments_lexer": "ipython3",
      "version": "3.7.2"
    },
    "colab": {
      "name": "Jamer y Eyderson. taller00.ipynb",
      "provenance": [],
      "collapsed_sections": []
    }
  },
  "cells": [
    {
      "cell_type": "markdown",
      "metadata": {
        "id": "FRH6ZoPM4KeX"
      },
      "source": [
        "# Taller 0.0 de métodos computacionales para físicos  y astrónomos\n",
        "\n",
        "\n",
        "\n",
        "## Universidad de Antioquia\n",
        "### Profesor: Hernan D. Salinas Jiménez\n"
      ]
    },
    {
      "cell_type": "markdown",
      "metadata": {
        "id": "3IwaMxgT4Kee"
      },
      "source": [
        "## Taller: Sesion 0.0"
      ]
    },
    {
      "cell_type": "markdown",
      "metadata": {
        "id": "SV5BAn7x4Kef"
      },
      "source": [
        "## Unidad 1: \n",
        "\n",
        "Contenido Actitudinal: Observar como el computador produce errores en los cálculos. El computador no maneja infinitas cifras decimales.\n",
        "\n",
        "- Repaso breve del Python\n",
        "- Estructura básica de un programa en Python.\n",
        "- Numpy y rutinas de graficación.\n",
        "- Operaciones aritméticas con reales y complejos.\n",
        "- Números aleatorios, método del congruente lineal y problemas.\n",
        "- Errores: redondeo, truncamiento, sustracción cancelativa, precisiónde la máquina.\n",
        "- Algoritmos"
      ]
    },
    {
      "cell_type": "markdown",
      "metadata": {
        "id": "dgZqZVpe4Kef"
      },
      "source": [
        "## Instrucciones de entrega\n",
        "\n",
        "\n",
        "\n",
        "\n",
        "\n",
        "\n"
      ]
    },
    {
      "cell_type": "markdown",
      "metadata": {
        "id": "J6GPf6qe4Keg"
      },
      "source": [
        "## Problemas\n",
        "1. Elaborar un algoritmo e implementar en python, el factorial de un número entero `n` ingresado por el usuario.\n",
        "     ### Ejemplo de Ejecución\n",
        "    ```python\n",
        "\n",
        "    >>> factorial(3)\n",
        "        6\n",
        "\n",
        "    >>> factorial(1987123)\n",
        "        =???\n",
        "```\n"
      ]
    },
    {
      "cell_type": "code",
      "metadata": {
        "colab": {
          "base_uri": "https://localhost:8080/"
        },
        "id": "KgZuvI74UBF_",
        "outputId": "e064ebb5-ac1e-415f-e57c-6b6e44945d51"
      },
      "source": [
        "s=int(input('Ingrese un número entero positivo: '))\n",
        "\n",
        "\n",
        "if s<0:\n",
        "  print('Es un número entero negativo')\n",
        "\n",
        "elif s==0:\n",
        "  print('Factorial = 1')\n",
        "else:\n",
        "  for i in range(2,s+1,1):\n",
        "    s*=(i-1)\n",
        "    n = str(s)\n",
        "    a = list(n)\n",
        "  print('El factorial es = %d' %(s))\n",
        "  print(len(a))"
      ],
      "execution_count": null,
      "outputs": [
        {
          "output_type": "stream",
          "text": [
            "Ingrese un número entero positivo: 4\n",
            "El factorial es = 24\n",
            "2\n"
          ],
          "name": "stdout"
        }
      ]
    },
    {
      "cell_type": "markdown",
      "metadata": {
        "id": "9-JZw0Do4Keg"
      },
      "source": [
        "[link text](https://)2. Diseñar un programa que lea dos numero `a` y `b` y diga que tipo de numero son, de a cuerdo a la siguiente clasificación:\n",
        "\n",
        " >- [Números defectivos](https://es.wikipedia.org/wiki/Número_defectivo) : la suma de los divisores propios es menor que el número.\n",
        " >- [Números abundantes](https://es.wikipedia.org/wiki/Número_abundante): la suma de los divisores es mayor que el número.\n",
        " >- [Números amigos](https://es.wikipedia.org/wiki/N%C3%BAmeros_amigos) `a` y `b` tales que a es la suma de los divisores propios de `b` y viceversa.\n",
        " >- [Números semiperfectos](https://es.wikipedia.org/wiki/N%C3%BAmero_semiperfecto) la suma de todos o algunos de los divisores propios es igual al número.\n",
        " >- [Números perfectos](https://es.wikipedia.org/wiki/N%C3%BAmero_perfecto) la suma de todos sus divisores propios, excepto el mismo numero, es igual al número.\n",
        " >- [Números primos](https://es.wikipedia.org/wiki/N%C3%BAmero_primo) el número es divisible unicamente por sí mismo y por 1.\n",
        " "
      ]
    },
    {
      "cell_type": "markdown",
      "metadata": {
        "id": "cARSuKs_4Keh"
      },
      "source": [
        " ### Ejemplo de Ejecución\n",
        "``` python\n",
        "\n",
        "    >>> clase_numero(a = 220, b =  284)\n",
        "        a = 220 y b = 284 son números amigos\n",
        "\n",
        "    >>> clase_numero(a = 24, b = 12 )\n",
        "        a = 24 es un numero abudante y b = 12 es un número defectivo. \n",
        "```\n"
      ]
    },
    {
      "cell_type": "code",
      "metadata": {
        "id": "v-WgFWlLGxO-",
        "colab": {
          "base_uri": "https://localhost:8080/"
        },
        "outputId": "f30a014b-14b0-494e-d5ee-a64e0409180b"
      },
      "source": [
        "a=int(input('Ingrese un número: '))\n",
        "b=int(input('Ingrese un número: '))\n",
        "c=[]\n",
        "c2=[]\n",
        "d=0\n",
        "d2=0\n",
        "for i in range(1,a,1):\n",
        "  c=a%i\n",
        "\n",
        "  if c==0:\n",
        "    d+=i\n",
        "if d<a:\n",
        "  print('a=%d es defectivo'%(a))\n",
        "elif d>a:\n",
        "  print('a=%d es abundante'%(a))\n",
        "elif d==a:\n",
        "  print('a=%d es perfecto' %(a))\n",
        "\n",
        "for i in range(1,b,1):\n",
        "  c2=b%i\n",
        "  \n",
        "  if c2==0:\n",
        "    d2+=i\n",
        "if d2<b:\n",
        "  print('b=%d es defectivo'%(b))\n",
        "elif d2>b:\n",
        "  print('b=%d es abundante'%(b))\n",
        "elif d2==b:\n",
        "  print('b=%d es perfecto' %(b))\n",
        "\n",
        "if d2==a and d==b:\n",
        "  print('son números amigos')\n",
        "\n",
        "\n",
        "\n",
        "\n",
        "if d==a or d>a:\n",
        "  print('a=%d es Semiperfecto'%(a))\n",
        "\n",
        "\n",
        "if d2==b or d2>b:\n",
        "  print('b=%d es Semiperfecto'%(b))\n",
        "\n",
        "\n",
        "c=[]\n",
        "d=0\n",
        "\n",
        "for i in range(1,a+1,1):\n",
        "  c=a%i\n",
        "\n",
        "  if c==0:\n",
        "    d+=i\n",
        "\n",
        "if d==a+1:\n",
        "  print('%d es Primo'%(a))\n",
        "  \n",
        "c=[]\n",
        "c2=[]\n",
        "d2=0\n",
        "for i in range(1,b+1,1):\n",
        "  c2=b%i\n",
        "  \n",
        "  if c2==0:\n",
        "    d2+=i\n",
        "\n",
        "if d2==b+1:\n",
        "  print('%d es Primo'%(b))\n",
        "\n",
        "\n",
        "\n",
        "\n",
        "\n",
        "\n",
        "\n"
      ],
      "execution_count": null,
      "outputs": [
        {
          "output_type": "stream",
          "text": [
            "Ingrese un número: 945\n",
            "Ingrese un número: 8505\n",
            "a=945 es abundante\n",
            "b=8505 es abundante\n",
            "a=945 es Semiperfecto\n",
            "b=8505 es Semiperfecto\n"
          ],
          "name": "stdout"
        }
      ]
    },
    {
      "cell_type": "markdown",
      "metadata": {
        "id": "45A4RWSm4Keh"
      },
      "source": [
        "3. Determine si un número `n` entero ingresado por el usuario es un [palíndromo](https://en.wikipedia.org/wiki/Palindromic_number), (Retorne `True` en caso afirmativo y `False` en caso contrario) \n",
        "\n",
        "```python\n",
        "\n",
        "\n",
        "    >>> palindromo(3333333)\n",
        "        True\n",
        "\n",
        "    >>> palindromo(2323)\n",
        "        True\n",
        "        \n",
        "    >>> palindromo(1111349111111)\n",
        "        False\n",
        "```\n",
        "\n",
        "\n"
      ]
    },
    {
      "cell_type": "code",
      "metadata": {
        "id": "vtybv-vA-Yuz",
        "colab": {
          "base_uri": "https://localhost:8080/"
        },
        "outputId": "1b4d42b2-13c6-4f45-e1e5-b2a22048ad25"
      },
      "source": [
        "a = int(input('Escribir número: '))\n",
        "miCadenaDeTexto = str(a)\n",
        "\n",
        "\n",
        "if miCadenaDeTexto == miCadenaDeTexto[::-1]:\n",
        "    print(\"True\")\n",
        "else:\n",
        "    print(\"False\")"
      ],
      "execution_count": null,
      "outputs": [
        {
          "output_type": "stream",
          "text": [
            "Escribir número: 111\n",
            "True\n"
          ],
          "name": "stdout"
        }
      ]
    },
    {
      "cell_type": "markdown",
      "metadata": {
        "id": "bmQYQxjX4Keh"
      },
      "source": [
        "\n",
        "4. Dada una cadena de caracteres, entregar una lista donde se retorne:\n",
        ">- en la primera casilla: `True` si el caracter del medio es una vocal, `False` en caso contrario \n",
        ">- en la segunda: el numero de vocales en la cadena\n",
        ">- en la tercera: el numero de consonantes\n",
        ">- en la ultima: la cadena de caracteres invertida (ej: perro, orrep)\n",
        "\n",
        "### Ejemplo de Ejecución\n",
        "```python\n",
        "\n",
        ">>> cadena(s ='perro')\n",
        "[False, 2, 3, 'orrep']\n",
        "\n",
        ">>> cadena(s ='murcielago')\n",
        "[True, 5, 5, 'ogaleicrum']\n",
        "\n",
        "```\n"
      ]
    },
    {
      "cell_type": "code",
      "metadata": {
        "colab": {
          "base_uri": "https://localhost:8080/"
        },
        "id": "vf2xrr5ySI6c",
        "outputId": "8b39af06-d29b-40a3-cb44-b69e62316f76"
      },
      "source": [
        "word = input('Ingrese una palabra: ')\n",
        "a = list(word)\n",
        "\n",
        "c = len(a)\n",
        "d = int(c/2)\n",
        "\n",
        "if a[d-1] == 'a' or a[d-1] == 'e' or a[d-1] == 'i' or a[d-1] == 'o' or a[d-1] == 'u':\n",
        "  print(True)\n",
        "else:\n",
        "  print(False)\n",
        "\n",
        "#x=['a', 'e', 'i', 'o', 'u']\n",
        "w = [i for i in a if i == 'a' or i == 'e' or i == 'i' or i == 'o' or i == 'u']\n",
        "v = abs(c-len(w))\n",
        "\n",
        "print(len(w))\n",
        "\n",
        "print(v)\n",
        "\n",
        "print((word[::-1]))"
      ],
      "execution_count": null,
      "outputs": [
        {
          "output_type": "stream",
          "text": [
            "Ingrese una palabra: pppp\n",
            "False\n",
            "0\n",
            "4\n",
            "pppp\n"
          ],
          "name": "stdout"
        }
      ]
    },
    {
      "cell_type": "markdown",
      "metadata": {
        "id": "Z6rU_h_q4Kei"
      },
      "source": [
        "italicised text\n",
        "5. Elabore un método para calcular el n-ésimo término de la sucesión de fibonacci: \n",
        "\n",
        "$$ f_n = f_{n-1}+f_{n-2}$$\n",
        "\n",
        "Donde $$f_0=0 \\:\\:\\text{ y }\\:\\:f_1=1 $$ así:   $$f_2=1+0=1$$ $$f_3=1+1=2$$  $$f_4=2+1=3$$ y así sucesivamente\n",
        "\n",
        "### Ejemplo de Ejecución\n",
        "```python\n",
        "\n",
        ">>> fibonacci(50)\n",
        "12586269025\n",
        "\n",
        ">>> fibonacci(63)\n",
        "6557470319842\n",
        "```\n"
      ]
    },
    {
      "cell_type": "code",
      "metadata": {
        "id": "SJ_SesBNttYN",
        "colab": {
          "base_uri": "https://localhost:8080/"
        },
        "outputId": "c532de01-8cdd-4631-90cc-9909a41c3471"
      },
      "source": [
        "n = int(input('ingrese un numero:'))\n",
        "def fib(n):\n",
        "  if n == 0 or n == 1:\n",
        "    return n  \n",
        "  return fib(n-1)+fib(n-2)\n",
        "\n",
        "print(fib(n))"
      ],
      "execution_count": null,
      "outputs": [
        {
          "output_type": "stream",
          "text": [
            "ingrese un numero:7\n",
            "13\n"
          ],
          "name": "stdout"
        }
      ]
    },
    {
      "cell_type": "markdown",
      "metadata": {
        "id": "1Aezlw_x4Kei"
      },
      "source": [
        "\n",
        "6. Entrar un arreglo de números y ordenarlos de forma ascendente, Ver algoritmo\n",
        "[Quicksort](https://es.wikipedia.org/wiki/Quicksort). \n",
        "\n",
        "\n",
        "```python\n",
        "\n",
        "\n",
        "<<< v = [22, 32, 42, 12, 22, 31, 41, 11, 12, 232, 24, 12, 22]\n",
        "<<< def quicksort(v):\n",
        "\n",
        "<<<     return v\n",
        "<<< w = print(quicksort(v))\n",
        "<<< [11, 12, 12, 12, 22, 22, 22, 24, 31, 32, 41, 42, 232]\n",
        "\n",
        "```\n",
        "\n",
        "Sólo para comprobar tu código,  puedes hacer uso del comando sort de python. \n",
        "```python\n",
        "<<< b = [22, 32, 42, 12, 22, 31, 41, 11, 12, 232, 24, 12, 22]\n",
        "\n",
        "<<< print(b.sort())\n",
        "\n",
        "<<< [11, 12, 12, 12, 22, 22, 22, 24, 31, 32, 41, 42, 232]\n",
        "```"
      ]
    },
    {
      "cell_type": "code",
      "metadata": {
        "colab": {
          "base_uri": "https://localhost:8080/"
        },
        "id": "v6t767fBUWPM",
        "outputId": "18d691c2-008f-4565-c764-9afca39da05a"
      },
      "source": [
        "\n",
        "\n",
        "x = []\n",
        "n = int(input('Número de elementos: ')) \n",
        "for k in range(n): \n",
        "    c = int(input('Ingrese el número: ')) \n",
        "    x.append(c)\n",
        "\n",
        "\n",
        "for i in range(1, len(x)):\n",
        "    for j in range(len(x)-i):\n",
        "       if x[j]>x[j+1]:\n",
        "        x[j],x[j+1] = x[j+1],x[j]\n",
        "print(x)\n"
      ],
      "execution_count": null,
      "outputs": [
        {
          "output_type": "stream",
          "text": [
            "Número de elementos: 2\n",
            "Ingrese el número: 1\n",
            "Ingrese el número: 1\n",
            "[1, 1]\n",
            "None\n"
          ],
          "name": "stdout"
        }
      ]
    },
    {
      "cell_type": "markdown",
      "metadata": {
        "id": "BTj0eQBs4Kej"
      },
      "source": [
        "## REFERENCIAS.\n",
        "[1] Scripts de un curso de python. [Raul Pollan](https://github.com/rramosp/20182.pcomp)  \n",
        "\n",
        "[2] [Fundamenteos de programación](https://sites.google.com/site/funpropoli/ejercicios-practicos)\n",
        "\n",
        "[3] Scripts de un curso de python. [Fernando Perez](https://github.com/fperez)\n"
      ]
    }
  ]
}