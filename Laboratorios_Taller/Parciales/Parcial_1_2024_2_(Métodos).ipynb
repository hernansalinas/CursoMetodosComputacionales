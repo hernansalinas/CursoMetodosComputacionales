{
  "nbformat": 4,
  "nbformat_minor": 0,
  "metadata": {
    "colab": {
      "provenance": []
    },
    "kernelspec": {
      "name": "python3",
      "display_name": "Python 3"
    },
    "language_info": {
      "name": "python"
    }
  },
  "cells": [
    {
      "cell_type": "code",
      "execution_count": null,
      "metadata": {
        "cellView": "form",
        "id": "w6aSUgfVq4XI"
      },
      "outputs": [],
      "source": [
        "#@title Librerias\n",
        "import numpy as np\n",
        "import matplotlib.pyplot as plt\n"
      ]
    },
    {
      "cell_type": "markdown",
      "source": [
        "# Parcial/Taller Métodos Computacionales\n",
        "**2024-2**\n",
        "\n",
        "---\n",
        "\n",
        "*Nombre:*\n",
        "\n",
        "*Identificación:*\n",
        "\n",
        "---\n",
        "* Sea honest@\n",
        "* $\\color{red}{\\text{La parte escrita del parcial/taller NO tendrá validez si no es sustentado\n",
        "}}$\n",
        "* Sea ordendado dando la solución a cada punto.\n",
        "* *Asegurese que el notebook corra completamente*\n",
        "* Todo lo que presente aquí será sujeto a evaluación.\n",
        "* **Debe subirlo a carpeta de GitHub del curso antes del lunes 16 de diciembre a las 11:59 p.m.**"
      ],
      "metadata": {
        "id": "TCFFOfT6_-lq"
      }
    },
    {
      "cell_type": "markdown",
      "source": [
        "#1\n",
        "Una carga total $Q$ se distribuye uniformemente alrededor de un conductor en forma de anillo de radio $a$. Una carga $q$ se encuentra a una distancia $x$ horizontalmente a través del centro del anillo. La fuerza ejercida sobre la carga por el anillo está dada por:\n",
        "\n",
        "$$F = \\frac{1}{4\\piϵ_0}\\frac{qQx}{(x^2+a^2)^{3/2}}$$\n",
        "\n",
        "con $q$ y $Q$ de $2\\times 10^{-5}$C.\n",
        "\n",
        "  * Escriba una función donde ingresen los valores de $a$ y $x$ para hallar la fuerza.\n",
        "  * Haga un gráfico de $F(x)$ para un anillo de radio $a= 0.85$m para $0.1\\leq x\\leq 2.0$m\n",
        "  * Usando el método de Newton-Raphson y otro diferente, para encontrar el valor de $x$ en el cual la fuerza será equivalente a 1.25 N.\n",
        "  * Encuentre qué sucede si disminuimos el radio con respecto a la fuerza que experimentará la carga $q$."
      ],
      "metadata": {
        "id": "y7lHpLjxrHdK"
      }
    },
    {
      "cell_type": "code",
      "source": [
        "# Aqui su código"
      ],
      "metadata": {
        "id": "4PHt3TAPq8cD"
      },
      "execution_count": null,
      "outputs": []
    },
    {
      "cell_type": "markdown",
      "source": [
        "# 2\n",
        "\n",
        "La ley de Planck expresa la densidad espectral de energía de la radiación electromagnética emitida por un cuerpo negro en equilibrio térmico:\n",
        "\n",
        "$$\n",
        "u(\\lambda, T) = \\frac{8 \\pi h c}{\\lambda^5} \\frac{1}{\\exp\\left(\\frac{h c}{\\lambda k_B T}\\right) - 1},\n",
        "$$\n",
        "\n",
        "donde $T$ es la temperatura de equilibrio, $\\lambda$ es la longitud de onda, $h = 6.62606957 \\times 10^{-34} \\ \\text{J·s}$ es la constante de Planck, $k_B = 1.3806488 \\times 10^{-23} \\ \\text{J·K}^{-1}$ es la constante de Boltzmann, y $c = 2.99792458 \\times 10^8 \\ \\text{m·s}^{-1}$ es la velocidad de la luz en el vacío. La función $u(\\lambda, T)d\\lambda$ representa la energía radiada en el intervalo espectral $(\\lambda, \\lambda + d\\lambda)$.\n",
        "\n",
        "Introduciendo la variable adimensional\n",
        "\n",
        "$$\n",
        "x = \\frac{\\lambda}{\\lambda_0},\n",
        "$$\n",
        "\n",
        "y los parámetros dependientes de la temperatura:\n",
        "\n",
        "$$\n",
        "\\lambda_0 = \\frac{h c}{k_B T}, \\quad K = \\frac{8 \\pi k_B T}{\\lambda_0^4},\n",
        "$$\n",
        "\n",
        "la ley de Planck se convierte en:\n",
        "\n",
        "$$\n",
        "u(\\lambda, T) = K \\frac{1}{x^5 \\left(e^{1/x} - 1\\right)}.\n",
        "$$\n",
        "\n",
        "La ley de desplazamiento de Wien establece que, para un cuerpo negro, la longitud de onda $\\lambda_{\\text{max}}$ correspondiente al máximo de $u(\\lambda, T)$ es inversamente proporcional a la temperatura $T$ o, equivalentemente:\n",
        "\n",
        "$$\n",
        "\\lambda_{\\text{max}} T = 2.897768 \\times 10^{-3} \\ \\text{m·K}.\n",
        "$$\n",
        "\n",
        "* Escriba una función para la densidad espectral como función de $\\lambda$ y $T$\n",
        "\n",
        "* Graficar la densidad espectral de energía $u(\\lambda, T)$ para temperaturas de equilibrio $T = 2000, 4000, 6000$ y $8000 \\ \\text{K}$.\n",
        "\n",
        "* Encuentre de manera simbólica $\\frac{\\partial u(\\lambda, T)}{\\partial \\lambda} $ y realice un gráfico para las temperaturas y longitudes de onda usadas en el numeral anterior.\n",
        "\n",
        "* Hallar el máximo de $u(\\lambda, T)$ para la radiación electromagnética del Sol, considerando la temperatura efectiva de la fotosfera $T = 5778 \\ \\text{K}$. Usar el método numérico de Newton para la derivada y comprobar la validez de la ley de Wien.\n"
      ],
      "metadata": {
        "id": "Uy471rh1tVmd"
      }
    },
    {
      "cell_type": "code",
      "source": [
        "# Aqui su código"
      ],
      "metadata": {
        "id": "F_wB5-cCvhb3"
      },
      "execution_count": null,
      "outputs": []
    },
    {
      "cell_type": "markdown",
      "source": [
        "#3\n",
        "\n",
        "La siguiente función describe la distribución de temperatura de una placa rectangular para $-2.0\\leq x \\leq 0$ y $0\\leq y\\leq 3$\n",
        "\n",
        "$$T(x,y) = 2 + x - y + 2x^2 + 2xy + y^2$$\n",
        "\n",
        "\n",
        "* Desarrolle una función para la $T(x,y)$.\n",
        "* Haga un dataframe con los valores de $x$, $y$ y $T$ tomando 50 datos en total y realice un gráfico de calor para la placa metálica. *Ayuda: emplee `np.meshgrid` y `plt.pcolormesh`*.\n",
        "* Ahora, utilizando unicamente 9 puntos $(x,y)$ de $T$, use la interpolación de Lagrange para encontrar el valor de $T(-1.63, 1.627)$, y determine el error absoluto y relativo.\n",
        "* Realice el mismo procedimiento anterior para Splines Cúbicas.\n"
      ],
      "metadata": {
        "id": "YyesSTIly5kX"
      }
    },
    {
      "cell_type": "code",
      "source": [
        "# Aqui su código"
      ],
      "metadata": {
        "id": "R5yJTqZX1S_p"
      },
      "execution_count": null,
      "outputs": []
    },
    {
      "cell_type": "markdown",
      "source": [
        "#4\n",
        "Usando los siguiente datos realice lo siguiente:\n",
        "\n",
        "\n",
        "\n",
        "```python\n",
        "x = [-5.      -3.33333 -1.66667  0.       1.66667  3.33333  5.     ]\n",
        "\n",
        "y = [1.48672e-06 1.54228e-03 9.94771e-02 3.98942e-01 9.94771e-02 1.54228e-03\n",
        " 1.48672e-06]\n",
        "```\n",
        "\n",
        "\n",
        "\n",
        "* Lealos y grafiquelos en un dataframe.\n",
        "* Usando interpolación de Lagrange, encuentre el polinomio asociado y grafiquelo.\n",
        "* Ahora, use la interpolación de Hermite para obtener el polinomio.\n",
        "* Sabemos que los puntos parten de la distribución normal que se define como:\n",
        "$$f(x) = \\frac{1}{\\sqrt{2\\pi}}\\exp^{-x^2/2}$$\n",
        "\n",
        "* Haga una gráfica de $f(x)$ y comparela con los polinomios anteriores en función del error, encuentre el valor teórico.\n",
        "* Encuentre los puntos de inflexión para $f(x)$ númericamente, y compare con el valor exacto. Halle el error absoluto.\n",
        "* Integre la función entre $-1\\leq x\\leq 1$ y para $-3\\leq x\\leq x$. Si el área total de $-\\infty \\leq x\\leq \\infty $ deber ser igual a 1, a que proporción de la curva hacen parte los intervalos del punto anterior."
      ],
      "metadata": {
        "id": "-yRNMCD850Sp"
      }
    },
    {
      "cell_type": "code",
      "source": [
        "# Aqui su código"
      ],
      "metadata": {
        "id": "d2EkFpiKlnGm"
      },
      "execution_count": null,
      "outputs": []
    },
    {
      "cell_type": "markdown",
      "source": [
        "#5\n",
        "\n",
        "La función de onda del electrón en un estado $2s$ $(n = 2, l = 0, \\text{ y } m = 0)$ dentro del átomo de hidrógeno puede definirse en unidades radiales adimensionales como:\n",
        "\n",
        "$$ \\psi_{200}(r, \\theta, \\varphi) = \\frac{1}{4\\sqrt{2\\pi}} (2 - r) e^{-r/2}. $$\n",
        "\n",
        "La probabilidad de que el electrón se localice entre las posiciones radiales $r = 0$ y $R$ se da por:\n",
        "\n",
        "$$ \\int_{0}^{R} \\int_{0}^{\\pi} \\int_{0}^{2\\pi} |\\Psi_{210}(r, \\theta, \\varphi)|^2 r^2 \\, dr \\, \\sin \\theta \\, d\\theta \\, d\\varphi = \\frac{1}{8} \\int_{0}^{R} r^2 (2 - r)^2 e^{-r} \\, dr. $$\n",
        "\n",
        "* Realiza una gráfica de la función de onda para $0\\leq r\\leq 10$. Luego encuentra la función densidad de probabilidad $|\\psi_{200}(r, \\theta, \\varphi)|^2$ y graficala, hallando su máximo utilizando un método númerico de derivación.\n",
        "\n",
        "* Calcula las probabilidades de encontrar el electrón entre las posiciones radiales $ r = 0 $ y $ R \\in [10, 25] $, con incrementos iguales a 1, utilizando el método de Romberg con una precisión relativa $ \\epsilon = 10^{-8} $.\n",
        "\n",
        "* Calcula la integral radial desde $ r = 0 $ hasta $ \\infty $ utilizando las rutinas de integración `quad` simple y adaptativa. Verifica que la probabilidad total de encontrar el electrón en cualquier parte del espacio es, de hecho, igual a 1.\n"
      ],
      "metadata": {
        "id": "YOGG0VxlmMhU"
      }
    },
    {
      "cell_type": "code",
      "source": [
        "# Aqui su código"
      ],
      "metadata": {
        "id": "qWd0E0U6x-ng"
      },
      "execution_count": null,
      "outputs": []
    },
    {
      "cell_type": "markdown",
      "source": [
        "# 6\n",
        "\n",
        "Imagina que estamos estudiando el movimiento de un proyectil lanzado desde una altura inicial con una velocidad inicial en un ángulo específico. Queremos analizar el trayecto del proyectil, su altura máxima y la distancia que recorre antes de tocar el suelo.\n",
        "\n",
        "La ecuación de la trayectoria del proyectil en términos de la distancia horizontal $x$ y la altura $y$ es:\n",
        "\n",
        "$$ y(x) = y_0 + x \\tan(\\theta) - \\frac{g x^2}{2 v_0^2 \\cos^2(\\theta)} $$\n",
        "\n",
        "* Grafica la trayectoria del proyectil para los siguientes parámetros: $ y_0 = 1 \\, \\text{m} $, $ \\theta = 45^\\circ $, y $ v_0 = 20 \\, \\text{m/s} $.\n",
        "\n",
        "* Calcula la altura máxima alcanzada por el proyectil a través de la derivada númerica y compara con el valor real.\n",
        "\n",
        "* Encuentra la distancia horizontal total recorrida por el proyectil antes de tocar el suelo, esto implica encontrar la raíz de la ecuación $ y(x) = 0 $.\n",
        "\n",
        "* Toma los valores de la trayectoria del proyectil en puntos de $ x \\in \\{0, 2, 4, 6, 8, 10\\} $ y usa dos técnicas de interpolación para estimar la trayectoria en puntos intermedios.\n",
        "\n",
        "* Si conocemos que:\n",
        "$$y(t) = y_0 + v_{0y}t -\\frac{1}{2}gt^2$$\n",
        "encuentre el tiempo de vuelo para el proyectil. Luego, usando un método de integración encuentre cuál seria la altura alcanzada entre $0\\leq t\\leq 2$s.\n",
        "\n",
        "\n",
        "\n"
      ],
      "metadata": {
        "id": "CtiK_3_lydJR"
      }
    },
    {
      "cell_type": "code",
      "source": [
        "# Aqui su código"
      ],
      "metadata": {
        "id": "ckWi3rpKykZU"
      },
      "execution_count": null,
      "outputs": []
    }
  ]
}