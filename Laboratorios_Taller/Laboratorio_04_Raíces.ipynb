{
  "nbformat": 4,
  "nbformat_minor": 0,
  "metadata": {
    "colab": {
      "provenance": []
    },
    "kernelspec": {
      "name": "python3",
      "display_name": "Python 3"
    },
    "language_info": {
      "name": "python"
    }
  },
  "cells": [
    {
      "cell_type": "code",
      "execution_count": null,
      "metadata": {
        "cellView": "form",
        "id": "TdDUnb7xEXhH"
      },
      "outputs": [],
      "source": [
        "#@title Librerias\n",
        "import numpy as np\n",
        "import matplotlib.pyplot as plt\n",
        "import pandas as pd\n",
        "import math\n",
        "import sympy as sp"
      ]
    },
    {
      "cell_type": "markdown",
      "source": [
        "# Laboratorio 04: Raíces\n",
        "\n",
        "---\n",
        "### Profesor: Juan Marcos Marín\n",
        "### Nombre: ______\n",
        "*Métodos computacionales 2024-II*\n",
        "\n",
        "---"
      ],
      "metadata": {
        "id": "izZKutpxFNuB"
      }
    },
    {
      "cell_type": "markdown",
      "source": [
        "#1\n",
        "¿Para que ángulo el area del segmento circular es igual a un cuarto del area de una circunferencia?\n",
        "\n",
        "- Muestre que la expresión que permite resolver este problema será:\n",
        "\n",
        "\n",
        "\\begin{equation}\n",
        "\\theta - \\sin \\theta = \\frac{\\pi}{2}\n",
        "\\end{equation}\n",
        "\n",
        "\n",
        "- Construya una grafica para $\\theta$  ¿Alrededor de que punto esta solución?(Para este punto se recomienda emplear `dataframe`).\n",
        "\n",
        "- Emplee el metodo de biseccion, punto fijo,  newton y secante  para comprobar la solución intuida del apartado anterior."
      ],
      "metadata": {
        "id": "ZXslPXy3RWfs"
      }
    },
    {
      "cell_type": "code",
      "source": [
        "# Aqui va su código"
      ],
      "metadata": {
        "id": "1VVbwHZ5Sa5U"
      },
      "execution_count": null,
      "outputs": []
    },
    {
      "cell_type": "markdown",
      "source": [
        "# 2\n",
        "\n",
        "La ecuación de Kepler juega un papel importante en la mecánica celeste, ya que permite el calculo de la posición angular de objetos orbitantes. Para todas las órbitas elipticas, la ecuación\n",
        "\n",
        "$$M = E- e\\sin(E)$$\n",
        "\n",
        "siendo $M$ la anomalía media, $E$ la anomalía excéntrica y $e$ la excentricidad ($e= \\sqrt{1-b/a}$) (con $a>b$ los semiejes). Los astrónomos definen las \"anomalías\"  como posiciones angulares: la anomalía media $M$ es la posición angular del objeto en una órbita circular ficticia y, suponiendo una velocidad angular constante, puede relacionarse con el lapso de tiempo transcurrido desde el paso por el perihelio\n",
        "\n",
        "$$M= \\frac{2\\pi}{T} (t-t_0)$$\n",
        "\n",
        "donde $T$ es el periodo orbital y $t_0$ el tiempo cuando el objeto está en el perihelio.\n",
        "\n",
        "Para el cometa Halley $e=0.9672671$, $T=75.96000$ años y $t_0=1986.1113$ años (Febrero 9 de 1986).\n",
        "\n",
        "* Encuentre $E$ para el cometa Halley el 1 de abril de 1986. Para esto, haga una gráfica de\n",
        "\n",
        "$$f(E) = E - e\\sin(E) - M$$\n",
        "\n",
        "para $E\\in [0,1]$.\n",
        "\n",
        "* Grafique $E=E(t)$ para todo un periodo de revolución y resuelva usando el método de Newton y secante\n",
        "\n",
        "$$E-e\\sin(E) - M(t) = 0$$\n",
        "\n",
        "con un paso de $\\Delta t = T/100$. $t_i = t_0 + (i)*\\Delta t$, comenzando en $E(t_0) = 0$\n"
      ],
      "metadata": {
        "id": "LJWnDwXGSs-Y"
      }
    },
    {
      "cell_type": "code",
      "source": [
        "# Aqui va su código"
      ],
      "metadata": {
        "id": "GX0nl3UWVlBU"
      },
      "execution_count": null,
      "outputs": []
    },
    {
      "cell_type": "markdown",
      "source": [
        "#3\n",
        "En la teoria de campo medio, la magnetización como función de la temperatura de un material magnético puede ser calculada como:\n",
        "\n",
        "\\begin{equation}\n",
        "m(T) = \\tanh\\left( \\frac{m(T)}{T} \\right)\n",
        "\\end{equation}\n",
        "\n",
        "donde $m$ y $T$ son la magnetizacion y temperatura reducida respectivamente\n",
        "\n",
        "\n",
        "Para $T = 0.5$, determine:\n",
        "\n",
        "* La magnetización reducida empleando el metodo de la secante y Newton-Raphson(Muestre su resultado con 4 cifras)\n",
        "\n",
        "* Valide su respuestado con el metodo de punto fijo.\n",
        "(Muestre su resultado con 4 cifras)\n",
        "\n",
        "Ahora, defina `T = np.linspace(0.1,0.99,100)`, y emple el metodo de la secante para construir un gráfico de magnetización reducida como función de la temperatura para los  100 valores  de T."
      ],
      "metadata": {
        "id": "7J9HMsmLXcKR"
      }
    },
    {
      "cell_type": "code",
      "source": [
        "# Aqui va su código"
      ],
      "metadata": {
        "id": "iV2TaV-tXj8T"
      },
      "execution_count": null,
      "outputs": []
    }
  ]
}