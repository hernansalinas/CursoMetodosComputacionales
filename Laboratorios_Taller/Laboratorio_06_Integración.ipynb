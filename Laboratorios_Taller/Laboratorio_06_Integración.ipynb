{
  "nbformat": 4,
  "nbformat_minor": 0,
  "metadata": {
    "colab": {
      "provenance": []
    },
    "kernelspec": {
      "name": "python3",
      "display_name": "Python 3"
    },
    "language_info": {
      "name": "python"
    }
  },
  "cells": [
    {
      "cell_type": "code",
      "execution_count": 1,
      "metadata": {
        "id": "rZuc8vXcWuxy",
        "cellView": "form"
      },
      "outputs": [],
      "source": [
        "#@title Librerias\n",
        "import numpy as np\n",
        "import matplotlib.pyplot as plt\n",
        "import sympy as sp\n",
        "from scipy.integrate import trapezoid, simpson, romberg, quad"
      ]
    },
    {
      "cell_type": "markdown",
      "source": [
        "# Laboratorio 06: Integración\n",
        "\n",
        "---\n",
        "### Profesor: Juan Marcos Marín\n",
        "### Nombre: ______\n",
        "*Métodos computacionales 2024-II*\n",
        "\n",
        "---"
      ],
      "metadata": {
        "id": "MGwGfceuWxy3"
      }
    },
    {
      "cell_type": "markdown",
      "source": [
        "#1\n",
        "\n",
        "Usando los métodos trapezoidal, Simpson y cuadratura encuentre el valor de las siguientes integrales:\n",
        "\n",
        "---\n",
        "$$\n",
        " \\int_0^{\\pi/2} \\frac{1}{\\sqrt{\\tan x}}\\mathrm{dx}\n",
        " $$\n",
        "\n",
        "----\n",
        "$$\n",
        " \\int_{1}^{\\infty} \\frac{\\cos x}{x^3}\\mathrm{dx}\n",
        " $$\n",
        "\n",
        "\n",
        "----\n",
        "\n",
        "$$\n",
        " \\int_{0}^{\\pi/4} \\int_{0}^{\\sin x} \\frac{1}{\\sqrt{1-y^2}}\\mathrm{dxdy}\n",
        " $$\n",
        "\n",
        "---\n",
        "\n",
        "Garantizando  que el error sea menor a $\\varepsilon=1\\times 10^{-5}$."
      ],
      "metadata": {
        "id": "lK5sACdrm0O1"
      }
    },
    {
      "cell_type": "code",
      "execution_count": null,
      "metadata": {
        "id": "PcUQ7sITmHft"
      },
      "outputs": [],
      "source": [
        "#Aquí va su código"
      ]
    },
    {
      "cell_type": "markdown",
      "source": [
        "#2\n",
        "\n",
        "El trabajo realizado sobre un objeto es igual a la fuerza por la distancia recorrida en la dirección de la fuerza. Se la velocidad de un objeto en la dirección $x$\n",
        "\n",
        "\\begin{eqnarray}\n",
        "v_x = 4t && 0\\leq t\\leq 5\\\\\n",
        "v_x = 20 + (5-t)^2  && 5\\leq t\\leq 15\n",
        "\\end{eqnarray}\n",
        "\n",
        "donde $v_x$ está en m/s.\n",
        "\n",
        "* Realice un gráfico de la distancia $x$ que recorre el objeto en función del tiempo.\n",
        "\n",
        "* Calcule el valor del trabajo para una fuerza constante $F_x$ de 200 N para todo $t$.\n",
        "\n"
      ],
      "metadata": {
        "id": "kNu-DKuhnA4V"
      }
    },
    {
      "cell_type": "code",
      "source": [
        "#Aquí va su código"
      ],
      "metadata": {
        "id": "VRmck9BToFk_"
      },
      "execution_count": null,
      "outputs": []
    },
    {
      "cell_type": "markdown",
      "source": [
        "#3\n",
        "La cantidad de masa transportada por una tuberia durante un periodo se puede calcular como\n",
        "\n",
        "$$M = \\int_{t_1}^{t_2} Q(t) c(t) \\; dt$$\n",
        "\n",
        "siendo M (masa en mg), $Q(t)$ el caudal y $c(t)$ concentración (mg/m$^3$). Sean las siguientes representaciones funcionales:\n",
        "\n",
        "$$Q(t) = 9 + 5 \\cos^2 (0.4t)$$\n",
        "$$c(t) = 5e^{-0.5 t} + 2 e^{0.15 t}$$\n",
        "\n",
        "Determine la masa transportada entre $t_1 = 2$ y $t_2 = 8 \\mbox{ min}$ usando:\n",
        "\n",
        "* Haga un gráfico del flujo y la concentración en función del tiempo.\n",
        "* Determine el valor de la integral usando el método de integración de Romberg\n",
        "* Compruebe sus resultado usando el método de cuadratura Gaussiana adaptativa `quad`.\n"
      ],
      "metadata": {
        "id": "lj5SUkPyofV-"
      }
    },
    {
      "cell_type": "code",
      "source": [
        "#Aquí va su código"
      ],
      "metadata": {
        "id": "-cT9BjrkpF5w"
      },
      "execution_count": null,
      "outputs": []
    },
    {
      "cell_type": "markdown",
      "source": [
        "#4\n",
        "Un péndulo físico en el regimen de pequeñas oscilaciones tiene un periodo de:\n",
        "\n",
        "\\begin{equation}\n",
        "P_0=2\\pi \\sqrt{\\frac{I_0}{mgb}}\n",
        "\\end{equation}\n",
        "\n",
        "Cuando las oscilaciones no son pequeñas, podemos encontrar una expresión para el periodo como sigue:\n",
        "\n",
        "\n",
        "La energia de un péndulo físico viene dada por:\n",
        "\n",
        "\\begin{equation}\n",
        "E=\\frac{I_0\\omega^2}{2}+mgb(1-\\cos \\theta)\n",
        "\\end{equation}\n",
        "\n",
        "En el punto más alejado de su posición de equilibrio, su energía es solo potencial y viene dada por:\n",
        "\n",
        "\\begin{equation}\n",
        "Ep = mgb(1-\\cos \\theta),\n",
        "\\end{equation}\n",
        "\n",
        "Igualando ambas expresiones tenemos que:\n",
        "\n",
        "\\begin{equation}\n",
        "mgb(1-\\cos \\theta)=\\frac{I_0\\omega^2}{2}+mgb(1-\\cos \\theta)\n",
        "\\end{equation}\n",
        "\n",
        "Integrando la ecuación respecto a $\\theta$ y realizando la sustitución:\n",
        "\n",
        "$\\sin \\phi = \\frac{\\sin \\frac{\\theta}{2}}{\\sin \\frac{\\theta_0}{2}}$ y  $k = \\sin \\frac{\\theta_0}{2}$, se puede encontrar  que el periodo de oscilación, viene dado en terminos de  la integral elíptica completa de primera especie:\n",
        "\n",
        "\n",
        "\\begin{equation}\n",
        "P = \\frac{2P_0}{\\pi} \\int _0^{\\pi/2} \\frac{\\mathrm{d\\phi}}{\\sqrt{1-k^2\\sin^2\\phi}}\n",
        "\\end{equation}\n",
        "\n",
        "donde,  $P_0$ es el periodo de las oscilaciones pequeñas.\n",
        "\n",
        "Determinar el periodo de oscilación de un péndulo. Para ello:\n",
        "\n",
        "1. Suponga los párametros iniciales del pendulo.\n",
        "2. Realice una buena planificación del código para calcular la integral.\n",
        "3. Emplee un  método de integracion numérico que conozca.\n",
        "4. Compruebe su solucion con el valor exacto de la integral mostrado en el punto"
      ],
      "metadata": {
        "id": "BZIHHpcmq2HJ"
      }
    },
    {
      "cell_type": "code",
      "source": [
        "#Aquí va su código"
      ],
      "metadata": {
        "id": "0x2LE6Qcq7Kb"
      },
      "execution_count": null,
      "outputs": []
    },
    {
      "cell_type": "markdown",
      "source": [
        "#5\n",
        "El departamento de transporte encuentra que la tasa a la cual los autos cruzan un puente puede ser aproximada por la función:\n",
        "\n",
        "\n",
        "\n",
        "$$ f(t) = \\frac{22.8}{3.5 + 7(t - 1.25)^4} $$\n",
        "\n",
        "\n",
        "\n",
        "donde $t = 0 $ a las 4 pm, y se mide en horas, y $ f(t) $ se mide en autos por minuto. Estima el número total de autos que cruzan el puente entre las 4 y las 6 pm. Asegúrate de que tu estimación tenga un error menor al 5% y proporciona evidencia matemática suficiente de tu estimación de error.\n"
      ],
      "metadata": {
        "id": "_Lkr72LS31tm"
      }
    },
    {
      "cell_type": "code",
      "source": [
        "#Aquí va su código"
      ],
      "metadata": {
        "id": "pvbJlRUO4AQh"
      },
      "execution_count": null,
      "outputs": []
    },
    {
      "cell_type": "markdown",
      "source": [
        "#6\n",
        "Un lazo de corriente de radio $a$  transporta una corriente $I$ en el punto P que está a una distancia $r$ del centro del lazo con coordenadas esféricas (r, θ, φ). Resuelve para la componente φ del potencial vectorial en el punto $P$ en términos de integrales elípticas:\n",
        "\n",
        "\\begin{equation}\n",
        "A_{\\phi}(r, \\theta)=\\frac{\\mu_0}{4\\pi}\\frac{4Ia}{\\sqrt{a^2+r^2+2ar\\sin \\theta}}\\left(\\frac{(2-k^2)K(k)-2E(k)}{k^2} \\right)\n",
        "\\end{equation}\n",
        "\n",
        "donde\n",
        "\n",
        "\\begin{equation}\n",
        "K(k)=\\int_{0}^{\\pi/2} \\frac{\\mathrm{d\\phi}}{\\sqrt{1-k^2\\sin^2\\phi}}\n",
        "\\end{equation}\n",
        "\n",
        "\\begin{equation}\n",
        "E(k)=\\int_{0}^{\\pi/2} \\mathrm{d\\phi} \\sqrt{1-k^2\\sin^2\\phi}\n",
        "\\end{equation}\n",
        "\n",
        "\\begin{equation}\n",
        "k^2=\\frac{4ar\\sin\\theta}{a^2+r^2+2ar\\sin\\theta}\n",
        "\\end{equation}\n",
        "\n",
        "Aquí, $K(k)$ es una integral elíptica completa del primer tipo y $E(k)$ es una integral elíptica completa del segundo tipo. Para $a$ = 1, $I$ = 3, y $μ0∕4π$ = 1, calcular y graficar:\n",
        "\n",
        "a) Aφ(r = 1.1, θ) vs. θ\n",
        "\n",
        "b) Aφ(r, θ = π∕3) vs. r\n"
      ],
      "metadata": {
        "id": "lPPVV59drd2D"
      }
    },
    {
      "cell_type": "code",
      "source": [
        "#Aquí va su código"
      ],
      "metadata": {
        "id": "u0O9-MF_rdSp"
      },
      "execution_count": null,
      "outputs": []
    }
  ]
}