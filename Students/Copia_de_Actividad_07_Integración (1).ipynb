{
  "nbformat": 4,
  "nbformat_minor": 0,
  "metadata": {
    "colab": {
      "provenance": []
    },
    "kernelspec": {
      "name": "python3",
      "display_name": "Python 3"
    },
    "language_info": {
      "name": "python"
    }
  },
  "cells": [
    {
      "cell_type": "code",
      "execution_count": null,
      "metadata": {
        "id": "rZuc8vXcWuxy"
      },
      "outputs": [],
      "source": [
        "#@title Librerias\n",
        "import numpy as np\n",
        "import matplotlib.pyplot as plt\n",
        "import pandas as pd\n",
        "import sympy as sp\n",
        "import scipy.integrate as si\n",
        "from scipy.integrate import simpson, romberg, trapezoid\n",
        "from scipy.special import roots_legendre"
      ]
    },
    {
      "cell_type": "markdown",
      "source": [
        "# Actividad 07: Integración\n",
        "\n",
        "---\n",
        "### Profesor: Juan Marcos Marín\n",
        "### Nombre: ______\n",
        "*Métodos computacionales 2024-II*\n",
        "\n",
        "---"
      ],
      "metadata": {
        "id": "MGwGfceuWxy3"
      }
    },
    {
      "cell_type": "markdown",
      "source": [
        "#1\n",
        "* Implemente una función para el **método de integración de Romberg** definiendo un límite de tolerancia de 1e-8 y/o un máximo de iteraciones de 10.\n",
        "\n",
        "* Encuentre la integral para\n",
        "\n",
        "$$\\int_0^{\\pi/4} dx\\, e^{3x}\\cdot \\sin(x)$$\n",
        "\n",
        "* Imprima su resultado y compare los valores dados por `scipy.integrate.romberg`\n",
        "\n",
        "* Finalmente, encuentre el valor del error, hallando el valor exacto usando `sympy`\n",
        "\n"
      ],
      "metadata": {
        "id": "_qpgPAtHNgPB"
      }
    },
    {
      "cell_type": "code",
      "source": [
        "f= lambda x:np.exp(3*x)*np.sin(x)"
      ],
      "metadata": {
        "id": "YbeYPEtIDftD"
      },
      "execution_count": null,
      "outputs": []
    },
    {
      "cell_type": "code",
      "source": [
        "def romberg_integration(f, a, b, tol=1e-8, max_iter=10):\n",
        "    # Inicializar la matriz de Romberg\n",
        "    R = np.zeros((max_iter, max_iter))\n",
        "\n",
        "    # Primer término (regla del trapecio con un solo intervalo)\n",
        "    h = b - a\n",
        "    R[0, 0] = (h / 2) * (f(a) + f(b))\n",
        "\n",
        "    for i in range(1, max_iter):\n",
        "        h /= 2\n",
        "        # Puntos de evaluación\n",
        "        x = np.arange(a, b + h, h)\n",
        "        y = f(x)\n",
        "\n",
        "        # Regla del trapecio compuesta\n",
        "        R[i, 0] = 0.5 * R[i-1, 0] + h * np.sum(y[1::2])\n",
        "\n",
        "        # Extrapolación de Richardson\n",
        "        for j in range(1, i + 1):\n",
        "            R[i, j] = (4**j * R[i, j-1] - R[i-1, j-1]) / (4**j - 1)\n",
        "\n",
        "        # Verificar la convergencia\n",
        "        if abs(R[i, i] - R[i-1, i-1]) < tol:\n",
        "            return R[i, i]\n",
        "\n",
        "    # Si no converge dentro de las iteraciones máximas, devolver el último valor\n",
        "    return R[-1, -1]\n"
      ],
      "metadata": {
        "id": "Y0nXXFcnNe2R",
        "colab": {
          "base_uri": "https://localhost:8080/"
        },
        "outputId": "7561a7f4-86bd-4ca7-d9c0-ff88a78d32dc"
      },
      "execution_count": null,
      "outputs": [
        {
          "output_type": "stream",
          "name": "stdout",
          "text": [
            "Resultado de la integral: 1.5920977078586134\n"
          ]
        }
      ]
    },
    {
      "cell_type": "code",
      "source": [
        "# Límites de integración\n",
        "a = 0\n",
        "b = np.pi / 4\n",
        "\n",
        "# Calcular la integral usando el método de Romberg\n",
        "result = romberg_integration(f, a, b, tol=1e-8, max_iter=10)\n",
        "print(f\"Resultado de la integral: {result}\")"
      ],
      "metadata": {
        "colab": {
          "base_uri": "https://localhost:8080/"
        },
        "id": "RjGxbjHynUQX",
        "outputId": "229a1ef6-43da-4724-a0f8-98f82dbf8916"
      },
      "execution_count": null,
      "outputs": [
        {
          "output_type": "stream",
          "name": "stdout",
          "text": [
            "Resultado de la integral: 1.5920977078586134\n"
          ]
        }
      ]
    },
    {
      "cell_type": "code",
      "source": [
        "# Calcular la integral usando scipy.integrate.romberg\n",
        "result_scipy = romberg(f, a, b, tol=1e-8, show=True)\n",
        "print(f\"Resultado de la integral (scipy.integrate.romberg): {result_scipy}\")"
      ],
      "metadata": {
        "colab": {
          "base_uri": "https://localhost:8080/"
        },
        "id": "ekLEGHv_dESE",
        "outputId": "b2bc8173-0097-4300-e70b-312aa9f673ae"
      },
      "execution_count": null,
      "outputs": [
        {
          "output_type": "stream",
          "name": "stdout",
          "text": [
            "Romberg integration of <function vectorize1.<locals>.vfunc at 0x7bfccad4fce0> from [0, 0.7853981633974483]\n",
            "\n",
            " Steps  StepSize   Results\n",
            "     1  0.785398  2.929727 \n",
            "     2  0.392699  1.952999  1.627423 \n",
            "     4  0.196350  1.684140  1.594520  1.592326 \n",
            "     8  0.098175  1.615224  1.592253  1.592101  1.592098 \n",
            "    16  0.049087  1.597887  1.592107  1.592098  1.592098  1.592098 \n",
            "    32  0.024544  1.593545  1.592098  1.592098  1.592098  1.592098  1.592098 \n",
            "\n",
            "The final result is 1.592097707858613 after 33 function evaluations.\n",
            "Resultado de la integral (scipy.integrate.romberg): 1.592097707858613\n"
          ]
        },
        {
          "output_type": "stream",
          "name": "stderr",
          "text": [
            "<ipython-input-8-7db0dea4e806>:2: DeprecationWarning: `scipy.integrate.romberg` is deprecated as of SciPy 1.12.0and will be removed in SciPy 1.15.0. Please use`scipy.integrate.quad` instead.\n",
            "  result_scipy = romberg(f, a, b, tol=1e-8, show=True)\n"
          ]
        }
      ]
    },
    {
      "cell_type": "code",
      "source": [
        "from sympy import integrate, symbols, sin, exp, lambdify\n",
        "import sympy as sp"
      ],
      "metadata": {
        "id": "OLtxOaexE9At"
      },
      "execution_count": null,
      "outputs": []
    },
    {
      "cell_type": "code",
      "source": [
        "#encontramos la integral simbolica\n",
        "x = symbols('x')\n",
        "f =exp(3*x)*sin(x)\n",
        "integrate(f, (x, 0, sp.pi))\n",
        "integral_sym=integrate(f,x)"
      ],
      "metadata": {
        "id": "NRGTxjXnFCGj"
      },
      "execution_count": null,
      "outputs": []
    },
    {
      "cell_type": "code",
      "source": [
        "#la volvemos numerica y evaluamos\n",
        "integral_f_num = lambdify(x, integral_sym, 'numpy')\n",
        "a,b=0,np.pi/4\n",
        "integral_eval=integral_f_num(b)-integral_f_num(a)"
      ],
      "metadata": {
        "id": "ftSp14otlRaF"
      },
      "execution_count": null,
      "outputs": []
    },
    {
      "cell_type": "code",
      "source": [
        "print(integral_eval)"
      ],
      "metadata": {
        "colab": {
          "base_uri": "https://localhost:8080/"
        },
        "id": "qBiGOzXmmR-9",
        "outputId": "60c39ef7-ac25-44c8-efc1-4228d5d3d06a"
      },
      "execution_count": null,
      "outputs": [
        {
          "output_type": "stream",
          "name": "stdout",
          "text": [
            "1.592097707858679\n"
          ]
        }
      ]
    },
    {
      "cell_type": "markdown",
      "source": [
        "#2\n",
        "\n",
        "* Usando los *métodos trapezoidal compuesto*, *simpson 1/3* y de *medio punto* encuentre la siguiente integral,\n",
        "\n",
        "$$\\int_e^{1+e} dx\\, \\frac{1}{x\\ln x}$$\n",
        "\n",
        "* Luego, haga un estudio de la convergencia en términos del valor de $h$ o de los sub-intervalos de la función. ¿Cuál es mejor?\n"
      ],
      "metadata": {
        "id": "Db9dUFTSQcLY"
      }
    },
    {
      "cell_type": "code",
      "source": [
        "from scipy.integrate import simpson, romberg, trapezoid"
      ],
      "metadata": {
        "id": "uEPXP21uQc_o"
      },
      "execution_count": null,
      "outputs": []
    },
    {
      "cell_type": "code",
      "source": [
        "a,b=np.e,1+np.e\n",
        "g= lambda x: 1/(x*np.log(x))\n",
        "x=np.linspace(a,b,100)"
      ],
      "metadata": {
        "id": "D7rS7BoeIbiO"
      },
      "execution_count": null,
      "outputs": []
    },
    {
      "cell_type": "markdown",
      "source": [
        "Metodos"
      ],
      "metadata": {
        "id": "5lGW6senLzs5"
      }
    },
    {
      "cell_type": "code",
      "source": [
        "def punto_medio(f, a, b, n):\n",
        "    h = (b - a) / n\n",
        "    integral = 0\n",
        "\n",
        "    for i in range(n):\n",
        "        xi = a + (i + 0.5) * h\n",
        "        integral += f(xi)\n",
        "\n",
        "    integral *= h\n",
        "    return integral"
      ],
      "metadata": {
        "id": "tDutJS6MhygD"
      },
      "execution_count": null,
      "outputs": []
    },
    {
      "cell_type": "code",
      "source": [
        "punto_medio(g,a,b,1000)"
      ],
      "metadata": {
        "colab": {
          "base_uri": "https://localhost:8080/"
        },
        "id": "fV7DYWXQjDWK",
        "outputId": "4afbb0f4-594d-4f42-d226-c06b183b4ae0"
      },
      "execution_count": null,
      "outputs": [
        {
          "output_type": "execute_result",
          "data": {
            "text/plain": [
              "0.27251387326692394"
            ]
          },
          "metadata": {},
          "execution_count": 6
        }
      ]
    },
    {
      "cell_type": "markdown",
      "source": [
        "$$\n",
        "\\int_a^b f(x) \\, dx \\approx \\frac{h}{2} \\left[ f(a) + 2 \\sum_{i=1}^{n-1} f(x_i) + f(b) \\right] -\\frac{h^3}{12}f''(\\xi)\n",
        "$$"
      ],
      "metadata": {
        "id": "1bHgOgLAidc5"
      }
    },
    {
      "cell_type": "code",
      "source": [
        "def trapezoid_int(f,a,b,n):\n",
        "  #espaciado\n",
        "  h=(b-a)/n\n",
        "  #valor inicial\n",
        "  integral=(h/2)*(f(a)-f(b))\n",
        "  sumatoria=0\n",
        "  for i in range(1,n-1):\n",
        "    x_i=a+i*h\n",
        "    sumatoria+=f(x_i)\n",
        "  return integral+(sumatoria)*h"
      ],
      "metadata": {
        "id": "MqqNmxUSLzae"
      },
      "execution_count": null,
      "outputs": []
    },
    {
      "cell_type": "code",
      "source": [
        "a,b=np.e,1+np.e\n",
        "g= lambda x: 1/(x*np.log(x))\n",
        "trapezoid_int(g,a,b,1000)"
      ],
      "metadata": {
        "colab": {
          "base_uri": "https://localhost:8080/"
        },
        "id": "G_Oe93EGTq76",
        "outputId": "a9f00fc5-47a8-46c2-f4f0-0308651086ca"
      },
      "execution_count": null,
      "outputs": [
        {
          "output_type": "execute_result",
          "data": {
            "text/plain": [
              "0.27210422011128377"
            ]
          },
          "metadata": {},
          "execution_count": 48
        }
      ]
    },
    {
      "cell_type": "markdown",
      "source": [
        "$$\n",
        "\\int_a^b f(x) \\, dx \\approx \\frac{h}{3} \\left[ f(a) + 4 \\sum_{\\text{impares}} f(x_i) + 2 \\sum_{\\text{pares}} f(x_i) + f(b) \\right] -\\frac{h^5}{90}f^{(4)}(\\xi)\n",
        "$$"
      ],
      "metadata": {
        "id": "WwHGOE--cWoW"
      }
    },
    {
      "cell_type": "code",
      "source": [
        "def simpson13_int(f,a,b,n):\n",
        "  #n par\n",
        "  h=(b-a)/n\n",
        "  #inicializamos la integral\n",
        "  integral=(h/3)*(f(a)+f(b))\n",
        "\n",
        "  if n%2!=0:\n",
        "    raise ValueError('no es par')\n",
        "\n",
        "\n",
        "  for i in range(1,n,2): #hasta n porque iniciamos realmente en 0\n",
        "    xi=a+i*h\n",
        "    integral+=4*(h/3)*f(xi)\n",
        "\n",
        "  for i in range(2,n,2):\n",
        "    xi=a+i*h\n",
        "    integral+=2*(h/3)*f(xi)\n",
        "\n",
        "  return integral"
      ],
      "metadata": {
        "id": "glVPSxv5cQ8x"
      },
      "execution_count": null,
      "outputs": []
    },
    {
      "cell_type": "code",
      "source": [
        "a,b=np.e,1+np.e\n",
        "g= lambda x: 1/(x*np.log(x))\n",
        "simpson13_int(g,a,b,1000)"
      ],
      "metadata": {
        "colab": {
          "base_uri": "https://localhost:8080/"
        },
        "id": "MUBfiupSaEfQ",
        "outputId": "27cb8b35-646b-4a97-ae7a-3ee5bfbeee37"
      },
      "execution_count": null,
      "outputs": [
        {
          "output_type": "execute_result",
          "data": {
            "text/plain": [
              "0.27251388050258624"
            ]
          },
          "metadata": {},
          "execution_count": 68
        }
      ]
    },
    {
      "cell_type": "markdown",
      "source": [
        "$$\n",
        "\\int_a^b f(x) \\, dx \\approx \\frac{3h}{8} \\left[ f(a) + 3 \\sum_{\\text{no múltiplos de 3}} f(x_i) + 2 \\sum_{\\text{múltiplos de 3}} f(x_i) + f(b) \\right]\n",
        "$$\n"
      ],
      "metadata": {
        "id": "O5ujgMI4fgMK"
      }
    },
    {
      "cell_type": "code",
      "source": [
        "def simpson38_int(f,a,b,n):\n",
        "\n",
        "  if n%3!=0:\n",
        "    raise ValueError('no es multiplo de 3')\n",
        "  #n par\n",
        "  h=(b-a)/n\n",
        "  #inicializamos la integral\n",
        "  integral=(3*h/8)*(f(a)+f(b))\n",
        "\n",
        "  for i in range(1,n): #hasta n porque iniciamos realmente en 0\n",
        "    xi=a+i*h\n",
        "    if i%3==0:\n",
        "      integral+=2*(3*h/8)*f(xi)\n",
        "    else:\n",
        "      integral+=3*(3*h/8)*f(xi)\n",
        "\n",
        "  return integral"
      ],
      "metadata": {
        "id": "OYBfPQmme3Ba"
      },
      "execution_count": null,
      "outputs": []
    },
    {
      "cell_type": "markdown",
      "source": [
        "#exactas"
      ],
      "metadata": {
        "id": "cyxSCgXZK2qW"
      }
    },
    {
      "cell_type": "code",
      "source": [
        "a,b=np.e,1+np.e\n",
        "g= lambda x: 1/(x*np.log(x))\n",
        "simpson38_int(g,a,b,1500)"
      ],
      "metadata": {
        "colab": {
          "base_uri": "https://localhost:8080/"
        },
        "id": "8KOEPqU7hvto",
        "outputId": "c86c7c15-c66e-4291-f2af-91197472b737"
      },
      "execution_count": null,
      "outputs": [
        {
          "output_type": "execute_result",
          "data": {
            "text/plain": [
              "0.27251388050258507"
            ]
          },
          "metadata": {},
          "execution_count": 42
        }
      ]
    },
    {
      "cell_type": "code",
      "source": [
        "integral_quad=si.quad(g,a,b)\n",
        "integral_quad_exacta=integral_quad[0]"
      ],
      "metadata": {
        "id": "oPVFrkdJJw6Q"
      },
      "execution_count": null,
      "outputs": []
    },
    {
      "cell_type": "markdown",
      "source": [
        "Estudio de los subintervalos"
      ],
      "metadata": {
        "id": "7FF_Gy5-imHi"
      }
    },
    {
      "cell_type": "code",
      "source": [
        "#calculamos la exacta con sympy y evaluamos\n",
        "\n",
        "#definimos la variable\n",
        "x=sp.symbols('x')\n",
        "f=1/(x*sp.log(x))\n",
        "#limites\n",
        "a,b=np.e,1+np.e\n",
        "#integral\n",
        "exact=sp.integrate(f,(x,a,b))\n",
        "print(exact)"
      ],
      "metadata": {
        "colab": {
          "base_uri": "https://localhost:8080/"
        },
        "id": "sAnd9iA8BCr6",
        "outputId": "21058b05-a543-461a-eefe-049ef6f52f0f"
      },
      "execution_count": null,
      "outputs": [
        {
          "output_type": "stream",
          "name": "stdout",
          "text": [
            "0.272513880502583\n"
          ]
        }
      ]
    },
    {
      "cell_type": "code",
      "source": [
        "#valores para N\n",
        "n_valores=np.array([10,20,30,40,50,60])\n",
        "\n",
        "trap_valores=np.zeros(len(n_valores))\n",
        "simp13_valores =np.zeros(len(n_valores))\n",
        "punto_medio_valores =np.zeros(len(n_valores))\n",
        "\n",
        "\n",
        "for i in range(0,5):\n",
        "  for N in n_valores:\n",
        "    trap_valores[i]= np.array([trapezoid_int(g, a, b, N)])\n",
        "    simp13_valores[i]= np.array([simpson13_int(g, a, b, N)])\n",
        "    punto_medio_valores[i]=np.array([punto_medio(g, a, b, N)])\n",
        "\n",
        "error_trap=abs(trap_valores-integral_quad_exacta)\n",
        "error_simp13=abs(simp13_valores-integral_quad_exacta)\n",
        "error_punto_medio=abs(punto_medio_valores-integral_quad_exacta)\n"
      ],
      "metadata": {
        "colab": {
          "base_uri": "https://localhost:8080/"
        },
        "id": "3kiOuitXip9-",
        "outputId": "662c8855-a3d4-42e7-e96f-fab31ebc89f8"
      },
      "execution_count": null,
      "outputs": [
        {
          "output_type": "stream",
          "name": "stderr",
          "text": [
            "<ipython-input-17-0a2ad8c74f1d>:11: DeprecationWarning: Conversion of an array with ndim > 0 to a scalar is deprecated, and will error in future. Ensure you extract a single element from your array before performing this operation. (Deprecated NumPy 1.25.)\n",
            "  trap_valores[i]= np.array([trapezoid_int(g, a, b, N)])\n",
            "<ipython-input-17-0a2ad8c74f1d>:12: DeprecationWarning: Conversion of an array with ndim > 0 to a scalar is deprecated, and will error in future. Ensure you extract a single element from your array before performing this operation. (Deprecated NumPy 1.25.)\n",
            "  simp13_valores[i]= np.array([simpson13_int(g, a, b, N)])\n",
            "<ipython-input-17-0a2ad8c74f1d>:13: DeprecationWarning: Conversion of an array with ndim > 0 to a scalar is deprecated, and will error in future. Ensure you extract a single element from your array before performing this operation. (Deprecated NumPy 1.25.)\n",
            "  punto_medio_valores[i]=np.array([punto_medio(g, a, b, N)])\n"
          ]
        }
      ]
    },
    {
      "cell_type": "code",
      "source": [
        "#graficamos\n",
        "plt.loglog(n_valores,error_trap)\n",
        "plt.loglog(n_valores,error_simp13, '--')\n",
        "plt.loglog(n_valores,error_punto_medio)"
      ],
      "metadata": {
        "colab": {
          "base_uri": "https://localhost:8080/",
          "height": 451
        },
        "id": "-ASgCp2GQAFp",
        "outputId": "ea889f40-b345-4437-d381-6fc55d404d3e"
      },
      "execution_count": null,
      "outputs": [
        {
          "output_type": "execute_result",
          "data": {
            "text/plain": [
              "[<matplotlib.lines.Line2D at 0x7fa5512f9610>]"
            ]
          },
          "metadata": {},
          "execution_count": 24
        },
        {
          "output_type": "display_data",
          "data": {
            "text/plain": [
              "<Figure size 640x480 with 1 Axes>"
            ],
            "image/png": "[encoded data removed]"
          },
          "metadata": {}
        }
      ]
    },
    {
      "cell_type": "markdown",
      "source": [
        "Concluimos que el metodo de simpson es el mejor"
      ],
      "metadata": {
        "id": "zmMaQ50VlT3c"
      }
    },
    {
      "cell_type": "markdown",
      "source": [
        "#3\n",
        "Usando la siguiente función:\n",
        "\n",
        "\n",
        "\n",
        "```python\n",
        "def gauss_quad_standard(func, n):\n",
        "    \"\"\"\n",
        "    Calcula la integral de una función en el intervalo [-1, 1]\n",
        "    utilizando cuadratura gaussiana.\n",
        "\n",
        "    Parameters:\n",
        "    - func: La función a integrar.\n",
        "    - n: Número de puntos para la cuadratura (grado del polinomio de Legendre).\n",
        "\n",
        "    Returns:\n",
        "    - Aproximación de la integral.\n",
        "    \"\"\"\n",
        "    # Obtener raíces y pesos del polinomio de Legendre\n",
        "    x, w = roots_legendre(n)\n",
        "\n",
        "    # Evaluar la suma ponderada\n",
        "    integral = np.sum(w * func(x))\n",
        "    return integral\n",
        "```\n",
        "\n",
        "Modifique la función `gauss_quad_standard` de forma tal que no este restringida para $[-1,1]$ sino para cualquier intervalo $[a,b]$. Luego, encuentre la integral del *punto 2*.\n",
        "\n",
        "\n",
        "\n"
      ],
      "metadata": {
        "id": "3fLo8sm8RqA0"
      }
    },
    {
      "cell_type": "code",
      "source": [
        "def gauss_quad_ext(func, n):\n",
        "    \"\"\"\n",
        "    Calcula la integral de una función en el intervalo [-1, 1]\n",
        "    utilizando cuadratura gaussiana.\n",
        "\n",
        "    Parameters:\n",
        "    - func: La función a integrar.\n",
        "    - n: Número de puntos para la cuadratura (grado del polinomio de Legendre).\n",
        "\n",
        "    Returns:\n",
        "    - Aproximación de la integral.\n",
        "    \"\"\"\n",
        "    # Obtener raíces y pesos del polinomio de Legendre\n",
        "    x, w = roots_legendre(n)\n",
        "\n",
        "    # Evaluar la suma ponderada\n",
        "    t=(b-a)*0.5*x+0.5*(a+b)\n",
        "    integral = ((b-a)*0.5)*np.sum(w*func(t))\n",
        "    return integral\n"
      ],
      "metadata": {
        "id": "0XQga3HfSE9n"
      },
      "execution_count": null,
      "outputs": []
    },
    {
      "cell_type": "code",
      "source": [
        "a,b=np.e,1+np.e\n",
        "g= lambda x: 1/(x*np.log(x))\n",
        "gauss_quad_ext(g,3)"
      ],
      "metadata": {
        "colab": {
          "base_uri": "https://localhost:8080/"
        },
        "id": "1Y99ymVB8771",
        "outputId": "82a024c5-6636-41cd-9cb1-0f1f6185c7bc"
      },
      "execution_count": null,
      "outputs": [
        {
          "output_type": "execute_result",
          "data": {
            "text/plain": [
              "0.2725124447898104"
            ]
          },
          "metadata": {},
          "execution_count": 11
        }
      ]
    },
    {
      "cell_type": "markdown",
      "source": [
        "#4\n",
        "\n",
        "Encuentra todas las raices para los polinomios de grado 3 y 4 de **Legendre** usando el Método de la Secante y Newton-Raphson.\n",
        "\n",
        "\n",
        "\n",
        "```python\n",
        "import sympy as sp\n",
        "x = sp.Symbol('x')\n",
        "\n",
        "# Polinomio de Legendre de grado n\n",
        "Pn = sp.legendre(n, x)\n",
        "\n",
        "```\n",
        "\n",
        "y calcule los pesos $w_i$ de la cuadratura mediante la fórmula:\n",
        "   $$\n",
        "   w_i = \\frac{2}{(1 - x_i^2) \\left[P_n'(x_i)\\right]^2},\n",
        "   $$\n",
        "   donde $P_n'(x)$ es la derivada del polinomio de Legendre $P_n(x)$.\n"
      ],
      "metadata": {
        "id": "hvSy6jouSLiJ"
      }
    },
    {
      "cell_type": "code",
      "source": [
        "import sympy as sp\n",
        "from scipy.optimize import newton, root_scalar\n",
        "x = sp.Symbol('x')"
      ],
      "metadata": {
        "id": "Du63LHkIpPO6"
      },
      "execution_count": null,
      "outputs": []
    },
    {
      "cell_type": "code",
      "source": [
        "x_num=np.linspace(-5,5,100)"
      ],
      "metadata": {
        "id": "jSvSo7OzqC2n"
      },
      "execution_count": null,
      "outputs": []
    },
    {
      "cell_type": "code",
      "source": [
        "#grado 3\n",
        "P3 = sp.legendre(3,x)\n",
        "dP3= sp.diff(P3,x)\n",
        "\n",
        "#grado 4\n",
        "P4= sp.legendre(4,x)\n",
        "dP4= sp.diff(P4,x)\n",
        "\n",
        "#convertir a numericas\n",
        "P3_num = sp.lambdify(x, P3, 'numpy')\n",
        "dP3_num = sp.lambdify(x, dP3, 'numpy')\n",
        "P4_num = sp.lambdify(x, P4, 'numpy')\n",
        "dP4_num = sp.lambdify(x, dP4, 'numpy')"
      ],
      "metadata": {
        "id": "xbk97NISneLq"
      },
      "execution_count": null,
      "outputs": []
    },
    {
      "cell_type": "code",
      "source": [
        "  P3"
      ],
      "metadata": {
        "colab": {
          "base_uri": "https://localhost:8080/",
          "height": 54
        },
        "id": "WImdMyZCuqDb",
        "outputId": "fa72e01d-6b42-42fd-ca66-4d11cb3fd22d"
      },
      "execution_count": null,
      "outputs": [
        {
          "output_type": "execute_result",
          "data": {
            "text/plain": [
              "5*x**3/2 - 3*x/2"
            ],
            "text/latex": "$\\displaystyle \\frac{5 x^{3}}{2} - \\frac{3 x}{2}$"
          },
          "metadata": {},
          "execution_count": 14
        }
      ]
    },
    {
      "cell_type": "code",
      "source": [
        "P4"
      ],
      "metadata": {
        "colab": {
          "base_uri": "https://localhost:8080/",
          "height": 54
        },
        "id": "w7CSTgImu2P7",
        "outputId": "bc660962-40eb-4d7b-b8b4-0038b5fcd19e"
      },
      "execution_count": null,
      "outputs": [
        {
          "output_type": "execute_result",
          "data": {
            "text/plain": [
              "35*x**4/8 - 15*x**2/4 + 3/8"
            ],
            "text/latex": "$\\displaystyle \\frac{35 x^{4}}{8} - \\frac{15 x^{2}}{4} + \\frac{3}{8}$"
          },
          "metadata": {},
          "execution_count": 15
        }
      ]
    },
    {
      "cell_type": "code",
      "source": [
        "#raices\n",
        "\n",
        "def raices(P_num,dP,intentos):\n",
        "  for i in range(len(intentos)):\n",
        "    raiz_newton=newtom(P_num,intentos[i],fprime=dP_num)\n",
        "    raiz_secante=root_scalar(P_num,x0=x[i],x1=x[i]+0.1)\n",
        "\n",
        "    return raiz_newton,'newton' ,'y ', raiz_secante, 'secante'"
      ],
      "metadata": {
        "id": "UqXtYN8WpYUC"
      },
      "execution_count": null,
      "outputs": []
    },
    {
      "cell_type": "code",
      "source": [
        "raices(P3,dP3,100)"
      ],
      "metadata": {
        "id": "EZNA4VoXSXiT",
        "colab": {
          "base_uri": "https://localhost:8080/",
          "height": 263
        },
        "outputId": "2655be28-397d-40db-ed01-f3f3a97bc6df"
      },
      "execution_count": null,
      "outputs": [
        {
          "output_type": "error",
          "ename": "TypeError",
          "evalue": "object of type 'int' has no len()",
          "traceback": [
            "\u001b[0;31m---------------------------------------------------------------------------\u001b[0m",
            "\u001b[0;31mTypeError\u001b[0m                                 Traceback (most recent call last)",
            "\u001b[0;32m<ipython-input-20-fcd2e5f409ae>\u001b[0m in \u001b[0;36m<cell line: 0>\u001b[0;34m()\u001b[0m\n\u001b[0;32m----> 1\u001b[0;31m \u001b[0mraices\u001b[0m\u001b[0;34m(\u001b[0m\u001b[0mP3\u001b[0m\u001b[0;34m,\u001b[0m\u001b[0mdP3\u001b[0m\u001b[0;34m,\u001b[0m\u001b[0;36m100\u001b[0m\u001b[0;34m)\u001b[0m\u001b[0;34m\u001b[0m\u001b[0;34m\u001b[0m\u001b[0m\n\u001b[0m",
            "\u001b[0;32m<ipython-input-19-fde418971bf0>\u001b[0m in \u001b[0;36mraices\u001b[0;34m(P_num, dP, intentos)\u001b[0m\n\u001b[1;32m      2\u001b[0m \u001b[0;34m\u001b[0m\u001b[0m\n\u001b[1;32m      3\u001b[0m \u001b[0;32mdef\u001b[0m \u001b[0mraices\u001b[0m\u001b[0;34m(\u001b[0m\u001b[0mP_num\u001b[0m\u001b[0;34m,\u001b[0m\u001b[0mdP\u001b[0m\u001b[0;34m,\u001b[0m\u001b[0mintentos\u001b[0m\u001b[0;34m)\u001b[0m\u001b[0;34m:\u001b[0m\u001b[0;34m\u001b[0m\u001b[0;34m\u001b[0m\u001b[0m\n\u001b[0;32m----> 4\u001b[0;31m   \u001b[0;32mfor\u001b[0m \u001b[0mi\u001b[0m \u001b[0;32min\u001b[0m \u001b[0mrange\u001b[0m\u001b[0;34m(\u001b[0m\u001b[0mlen\u001b[0m\u001b[0;34m(\u001b[0m\u001b[0mintentos\u001b[0m\u001b[0;34m)\u001b[0m\u001b[0;34m)\u001b[0m\u001b[0;34m:\u001b[0m\u001b[0;34m\u001b[0m\u001b[0;34m\u001b[0m\u001b[0m\n\u001b[0m\u001b[1;32m      5\u001b[0m     \u001b[0mraiz_newton\u001b[0m\u001b[0;34m=\u001b[0m\u001b[0mnewtom\u001b[0m\u001b[0;34m(\u001b[0m\u001b[0mP_num\u001b[0m\u001b[0;34m,\u001b[0m\u001b[0mintentos\u001b[0m\u001b[0;34m[\u001b[0m\u001b[0mi\u001b[0m\u001b[0;34m]\u001b[0m\u001b[0;34m,\u001b[0m\u001b[0mfprime\u001b[0m\u001b[0;34m=\u001b[0m\u001b[0mdP_num\u001b[0m\u001b[0;34m)\u001b[0m\u001b[0;34m\u001b[0m\u001b[0;34m\u001b[0m\u001b[0m\n\u001b[1;32m      6\u001b[0m     \u001b[0mraiz_secante\u001b[0m\u001b[0;34m=\u001b[0m\u001b[0mroot_scalar\u001b[0m\u001b[0;34m(\u001b[0m\u001b[0mP_num\u001b[0m\u001b[0;34m,\u001b[0m\u001b[0mx0\u001b[0m\u001b[0;34m=\u001b[0m\u001b[0mx\u001b[0m\u001b[0;34m[\u001b[0m\u001b[0mi\u001b[0m\u001b[0;34m]\u001b[0m\u001b[0;34m,\u001b[0m\u001b[0mx1\u001b[0m\u001b[0;34m=\u001b[0m\u001b[0mx\u001b[0m\u001b[0;34m[\u001b[0m\u001b[0mi\u001b[0m\u001b[0;34m]\u001b[0m\u001b[0;34m+\u001b[0m\u001b[0;36m0.1\u001b[0m\u001b[0;34m)\u001b[0m\u001b[0;34m\u001b[0m\u001b[0;34m\u001b[0m\u001b[0m\n",
            "\u001b[0;31mTypeError\u001b[0m: object of type 'int' has no len()"
          ]
        }
      ]
    }
  ]
}