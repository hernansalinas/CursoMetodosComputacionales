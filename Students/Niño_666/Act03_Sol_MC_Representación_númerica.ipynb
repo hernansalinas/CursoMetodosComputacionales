{
  "cells": [
    {
      "cell_type": "code",
      "execution_count": null,
      "metadata": {
        "id": "rZuc8vXcWuxy"
      },
      "outputs": [],
      "source": [
        "#@title Librerias\n",
        "import numpy as np\n",
        "import matplotlib.pyplot as plt\n",
        "import pandas as pd"
      ]
    },
    {
      "cell_type": "markdown",
      "metadata": {
        "id": "MGwGfceuWxy3"
      },
      "source": [
        "# Actividad 03: Representación númerica\n",
        "\n",
        "---\n",
        "### Profesor: Juan Marcos Marín\n",
        "### Nombre: Soleil Dayana Niño Murcia 1033097666\n",
        "*Métodos computacionales 2024-II*\n",
        "\n",
        "---"
      ]
    },
    {
      "cell_type": "markdown",
      "metadata": {
        "id": "jB6BqzoSamB0"
      },
      "source": [
        "**NOTA: No utilizar los métodos `bin` o `int`**"
      ]
    },
    {
      "cell_type": "markdown",
      "metadata": {
        "id": "BOi6yQmJW7os"
      },
      "source": [
        "1. Escriba una función que se llame `mybin` que reciba un número entero real de 16 bits y realice su conversión en código binario, compare su resultado con `bin(4321)`"
      ]
    },
    {
      "cell_type": "code",
      "source": [
        "def mybin(num):\n",
        "  if num != int(num):\n",
        "    print('El número no es entero')\n",
        "  else:\n",
        "    arr = np.zeros(16)\n",
        "    for i in range (0,16):\n",
        "      cocient = num // 2\n",
        "      r = num%2\n",
        "      num = cocient\n",
        "      if r == 0:\n",
        "        arr[i] = 0\n",
        "      else:\n",
        "        arr[i] = 1\n",
        "    l = ''\n",
        "    for i in arr[::-1]:\n",
        "      l += str(int(i))\n",
        "    return int(l) # Aplico int sólo para eliminar los ceros sobrantes"
      ],
      "metadata": {
        "id": "ojQ5XbDMACUr"
      },
      "execution_count": null,
      "outputs": []
    },
    {
      "cell_type": "code",
      "source": [
        "real = bin(4321)\n",
        "real = real[2:] # Elimina la parte del formato 0b para comparar sólo el número\n",
        "print(mybin(4321), real)\n",
        "print('Are these values equal?:', int(mybin(4321)) == int(real))"
      ],
      "metadata": {
        "colab": {
          "base_uri": "https://localhost:8080/"
        },
        "id": "9QM1gfY6DAxP",
        "outputId": "736f3ad1-81c4-4bb5-cc75-03a122f2ac7c"
      },
      "execution_count": null,
      "outputs": [
        {
          "output_type": "stream",
          "name": "stdout",
          "text": [
            "1000011100001 1000011100001\n",
            "Are these values equal?: True\n"
          ]
        }
      ]
    },
    {
      "cell_type": "markdown",
      "metadata": {
        "id": "5X_8-jpEXjSw"
      },
      "source": [
        "2. Cree una función llamada `myint` pero que a partir de un número binario con base de 16 bits encuentre el entero correspondiente. Compare su resultado con `int(0b1000011100001)`"
      ]
    },
    {
      "cell_type": "code",
      "execution_count": null,
      "metadata": {
        "id": "VmS2TiF4XsbN"
      },
      "outputs": [],
      "source": [
        "def myint(b_num):\n",
        "  if len(str(b_num)) > 16:\n",
        "    print('El número no es de 16 bits')\n",
        "  else:\n",
        "    dec = 0\n",
        "    exp = len(str(b_num)) - 1\n",
        "    for i in str(b_num):\n",
        "      dec += int(i) * 2 ** exp\n",
        "      exp -= 1\n",
        "    return dec"
      ]
    },
    {
      "cell_type": "code",
      "source": [
        "print(myint(1000011100001), int(0b1000011100001))\n",
        "print('Are these values equal?:', myint(1000011100001) == int(0b1000011100001))"
      ],
      "metadata": {
        "colab": {
          "base_uri": "https://localhost:8080/"
        },
        "id": "yTRfy9ZkfkHi",
        "outputId": "2aaa49cf-ef8c-4c3a-e83f-5126f542f423"
      },
      "execution_count": null,
      "outputs": [
        {
          "output_type": "stream",
          "name": "stdout",
          "text": [
            "4321 4321\n",
            "Are these values equal?: True\n"
          ]
        }
      ]
    },
    {
      "cell_type": "markdown",
      "metadata": {
        "id": "pHQ8ftloYPO5"
      },
      "source": [
        "3. Generar una función llamada `number64` para flotantes de precisión doble (64bits) donde a partir de un número binario encuentre el valor real. Compruebe su solución usando\n",
        "\n",
        "```\n",
        "number64(\"0100000000111011100100001111111111111111111111111111111111111111\")\n",
        "```\n",
        "\n"
      ]
    },
    {
      "cell_type": "code",
      "source": [
        "def number64(binario):\n",
        "    if len(binario) != 64:\n",
        "        print('El binario no es de 64 bits')\n",
        "\n",
        "    signo = int(binario[0])\n",
        "    exponente = int(binario[1:12], 2) - 1023  # Se resta el sesgo de 1023\n",
        "    mantisa, mantisa_binaria = 1, binario[12:]\n",
        "\n",
        "    for i, bit in enumerate(mantisa_binaria):\n",
        "        mantisa += int(bit) * 2 ** - (i + 1)\n",
        "\n",
        "    num = (-1) ** signo * mantisa * 2 ** exponente\n",
        "    return num"
      ],
      "metadata": {
        "id": "hcu3J9a7o2mW"
      },
      "execution_count": 9,
      "outputs": []
    },
    {
      "cell_type": "code",
      "source": [
        "mybin = \"0100000000111011100100001111111111111111111111111111111111111111\"\n",
        "numero_real = number64(mybin)\n",
        "numero_real"
      ],
      "metadata": {
        "colab": {
          "base_uri": "https://localhost:8080/"
        },
        "id": "6oGWgP6sxYLa",
        "outputId": "a647de5e-6511-4ecc-abd0-83f779bf4cab"
      },
      "execution_count": 10,
      "outputs": [
        {
          "output_type": "execute_result",
          "data": {
            "text/plain": [
              "27.566406249999996"
            ]
          },
          "metadata": {},
          "execution_count": 10
        }
      ]
    }
  ],
  "metadata": {
    "colab": {
      "provenance": []
    },
    "kernelspec": {
      "display_name": "Python 3",
      "name": "python3"
    },
    "language_info": {
      "name": "python"
    }
  },
  "nbformat": 4,
  "nbformat_minor": 0
}