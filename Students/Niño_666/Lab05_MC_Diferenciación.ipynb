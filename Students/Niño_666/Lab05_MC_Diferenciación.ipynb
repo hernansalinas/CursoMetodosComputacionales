{
  "nbformat": 4,
  "nbformat_minor": 0,
  "metadata": {
    "colab": {
      "provenance": []
    },
    "kernelspec": {
      "name": "python3",
      "display_name": "Python 3"
    },
    "language_info": {
      "name": "python"
    }
  },
  "cells": [
    {
      "cell_type": "code",
      "execution_count": 3,
      "metadata": {
        "id": "rZuc8vXcWuxy"
      },
      "outputs": [],
      "source": [
        "import numpy as np\n",
        "import matplotlib.pyplot as plt\n",
        "import pandas as pd\n",
        "import sympy as sp\n",
        "import scipy.linalg as la\n",
        "from scipy.interpolate import lagrange\n",
        "from scipy.interpolate import CubicHermiteSpline\n",
        "import scipy.interpolate\n",
        "from scipy.stats import norm\n",
        "from scipy.integrate import quad\n",
        "from scipy.optimize import newton, bisect, root_scalar, fixed_point\n",
        "from scipy.integrate import trapezoid, simpson"
      ]
    },
    {
      "cell_type": "markdown",
      "source": [
        "# Laboratorio 05: Diferenciación\n",
        "\n",
        "---\n",
        "### Profesor: Juan Marcos Marín\n",
        "### Nombre: Soleil Dayana Niño Murcia\n",
        "1033097666\n",
        "\n",
        "*Métodos computacionales 2024-II*\n",
        "\n",
        "---"
      ],
      "metadata": {
        "id": "MGwGfceuWxy3"
      }
    },
    {
      "cell_type": "markdown",
      "source": [
        "## Funciones de diferenciacion numérica"
      ],
      "metadata": {
        "id": "JL_qoaRk0q_i"
      }
    },
    {
      "source": [
        "def forward_diff(y, x, h):\n",
        "    return (y[1] - y[0]) / (x[1] - x[0])\n",
        "\n",
        "def backward_diff(y, x, h):\n",
        "    x = np.array(x)\n",
        "    y = np.array(y)\n",
        "    return (y[-1] - y[-2]) / (x[-1] - x[-2])\n",
        "\n",
        "def centered_diff(y, x, h):\n",
        "    x, y = np.array(x), np.array(y)\n",
        "    return (y[1:] - y[:-1]) / (x[1:] - x[:-1])\n",
        "\n",
        "def three_point_diff(y, x, h):\n",
        "    x = np.array(x)\n",
        "    y = np.array(y)\n",
        "\n",
        "    # Calcular la derivada para el primer punto usando la fórmula de tres puntos hacia adelante\n",
        "    derivada_inicio = (-3*y[0] + 4*y[1] - y[2]) / (2*h)\n",
        "\n",
        "    # Calcular la derivada para el último punto usando la fórmula de tres puntos hacia atrás\n",
        "    derivada_fin = (3*y[-1] - 4*y[-2] + y[-3]) / (2*h)\n",
        "\n",
        "    # Calcular la derivada para los puntos intermedios usando la fórmula de tres puntos centrada\n",
        "    derivada_centro = (y[2:] - y[:-2]) / (2*h)\n",
        "\n",
        "    # Combinar las derivadas\n",
        "    derivada = np.concatenate(([derivada_inicio], derivada_centro, [derivada_fin]))\n",
        "\n",
        "    return derivada"
      ],
      "cell_type": "code",
      "metadata": {
        "id": "PfzOnh1x1-bI"
      },
      "execution_count": 4,
      "outputs": []
    },
    {
      "cell_type": "markdown",
      "source": [
        "#1.\n",
        "En un cirtcuito con un voltaje de  $\\varepsilon(t)$ y una inductancia de $L$, la primera ley de kirshhoff nos da la siguiente relación\n",
        "\n",
        "\\begin{equation}\n",
        "\\varepsilon(t) = L\\frac{\\mathrm{d}i}{\\mathrm{d}t} + Ri\n",
        "\\end{equation}\n",
        "\n",
        "donde $R$, es la resistencia del ciruito, $I$ es la corriente. Suponga que medimos la corriente con varios valores de $t$ y obtenemos:\n",
        "\n",
        "``t = 1.00, 1.01, 1.02, 1.03, 1.04``\n",
        "\n",
        "``i = 3.10, 3.12, 3.14, 3.18, 3.24``\n",
        "\n",
        "\n",
        "donde $t$ se mide en segundos, $I$ se da en Amperios, la inductancia $L= 0.98$ H, la resistencia es de 0.142 $\\Omega$. Aproxime el votaje  $\\varepsilon(t)$ en los valores t=1.00, 1.01, 1.02, 1.03, 1.04 ,  para ello realice lo siguiente:\n",
        "\n",
        "\n",
        "- Construya un data frame de pandas con los valores de tiempo y corriente"
      ],
      "metadata": {
        "id": "GDIXnKTTDwRs"
      }
    },
    {
      "cell_type": "code",
      "source": [
        "L = 0.98 # Inductancia (H)\n",
        "R = 0.142 # Resistencia (Ω)"
      ],
      "metadata": {
        "id": "YylsZTdhNAcn"
      },
      "execution_count": 5,
      "outputs": []
    },
    {
      "cell_type": "code",
      "source": [
        "# a. DataFrame de Corriente y Tiempo\n",
        "data = {\n",
        "    'Tiempo': [1.00, 1.01,  1.02, 1.03, 1.04],\n",
        "    'Corriente' : [3.10, 3.12, 3.14, 3.18, 3.24]\n",
        "}\n",
        "\n",
        "df = pd.DataFrame(data)\n",
        "df"
      ],
      "metadata": {
        "id": "W9XaPw3KB-Uj",
        "colab": {
          "base_uri": "https://localhost:8080/",
          "height": 206
        },
        "outputId": "d9139512-ad41-45aa-d414-3cc272385c72"
      },
      "execution_count": 6,
      "outputs": [
        {
          "output_type": "execute_result",
          "data": {
            "text/plain": [
              "   Tiempo  Corriente\n",
              "0    1.00       3.10\n",
              "1    1.01       3.12\n",
              "2    1.02       3.14\n",
              "3    1.03       3.18\n",
              "4    1.04       3.24"
            ],
            "text/html": [
              "\n",
              "  <div id=\"df-163b5a9b-f75b-49ad-ba7e-0837098da306\" class=\"colab-df-container\">\n",
              "    <div>\n",
              "<style scoped>\n",
              "    .dataframe tbody tr th:only-of-type {\n",
              "        vertical-align: middle;\n",
              "    }\n",
              "\n",
              "    .dataframe tbody tr th {\n",
              "        vertical-align: top;\n",
              "    }\n",
              "\n",
              "    .dataframe thead th {\n",
              "        text-align: right;\n",
              "    }\n",
              "</style>\n",
              "<table border=\"1\" class=\"dataframe\">\n",
              "  <thead>\n",
              "    <tr style=\"text-align: right;\">\n",
              "      <th></th>\n",
              "      <th>Tiempo</th>\n",
              "      <th>Corriente</th>\n",
              "    </tr>\n",
              "  </thead>\n",
              "  <tbody>\n",
              "    <tr>\n",
              "      <th>0</th>\n",
              "      <td>1.00</td>\n",
              "      <td>3.10</td>\n",
              "    </tr>\n",
              "    <tr>\n",
              "      <th>1</th>\n",
              "      <td>1.01</td>\n",
              "      <td>3.12</td>\n",
              "    </tr>\n",
              "    <tr>\n",
              "      <th>2</th>\n",
              "      <td>1.02</td>\n",
              "      <td>3.14</td>\n",
              "    </tr>\n",
              "    <tr>\n",
              "      <th>3</th>\n",
              "      <td>1.03</td>\n",
              "      <td>3.18</td>\n",
              "    </tr>\n",
              "    <tr>\n",
              "      <th>4</th>\n",
              "      <td>1.04</td>\n",
              "      <td>3.24</td>\n",
              "    </tr>\n",
              "  </tbody>\n",
              "</table>\n",
              "</div>\n",
              "    <div class=\"colab-df-buttons\">\n",
              "\n",
              "  <div class=\"colab-df-container\">\n",
              "    <button class=\"colab-df-convert\" onclick=\"convertToInteractive('df-163b5a9b-f75b-49ad-ba7e-0837098da306')\"\n",
              "            title=\"Convert this dataframe to an interactive table.\"\n",
              "            style=\"display:none;\">\n",
              "\n",
              "  <svg xmlns=\"http://www.w3.org/2000/svg\" height=\"24px\" viewBox=\"0 -960 960 960\">\n",
              "    <path d=\"M120-120v-720h720v720H120Zm60-500h600v-160H180v160Zm220 220h160v-160H400v160Zm0 220h160v-160H400v160ZM180-400h160v-160H180v160Zm440 0h160v-160H620v160ZM180-180h160v-160H180v160Zm440 0h160v-160H620v160Z\"/>\n",
              "  </svg>\n",
              "    </button>\n",
              "\n",
              "  <style>\n",
              "    .colab-df-container {\n",
              "      display:flex;\n",
              "      gap: 12px;\n",
              "    }\n",
              "\n",
              "    .colab-df-convert {\n",
              "      background-color: #E8F0FE;\n",
              "      border: none;\n",
              "      border-radius: 50%;\n",
              "      cursor: pointer;\n",
              "      display: none;\n",
              "      fill: #1967D2;\n",
              "      height: 32px;\n",
              "      padding: 0 0 0 0;\n",
              "      width: 32px;\n",
              "    }\n",
              "\n",
              "    .colab-df-convert:hover {\n",
              "      background-color: #E2EBFA;\n",
              "      box-shadow: 0px 1px 2px rgba(60, 64, 67, 0.3), 0px 1px 3px 1px rgba(60, 64, 67, 0.15);\n",
              "      fill: #174EA6;\n",
              "    }\n",
              "\n",
              "    .colab-df-buttons div {\n",
              "      margin-bottom: 4px;\n",
              "    }\n",
              "\n",
              "    [theme=dark] .colab-df-convert {\n",
              "      background-color: #3B4455;\n",
              "      fill: #D2E3FC;\n",
              "    }\n",
              "\n",
              "    [theme=dark] .colab-df-convert:hover {\n",
              "      background-color: #434B5C;\n",
              "      box-shadow: 0px 1px 3px 1px rgba(0, 0, 0, 0.15);\n",
              "      filter: drop-shadow(0px 1px 2px rgba(0, 0, 0, 0.3));\n",
              "      fill: #FFFFFF;\n",
              "    }\n",
              "  </style>\n",
              "\n",
              "    <script>\n",
              "      const buttonEl =\n",
              "        document.querySelector('#df-163b5a9b-f75b-49ad-ba7e-0837098da306 button.colab-df-convert');\n",
              "      buttonEl.style.display =\n",
              "        google.colab.kernel.accessAllowed ? 'block' : 'none';\n",
              "\n",
              "      async function convertToInteractive(key) {\n",
              "        const element = document.querySelector('#df-163b5a9b-f75b-49ad-ba7e-0837098da306');\n",
              "        const dataTable =\n",
              "          await google.colab.kernel.invokeFunction('convertToInteractive',\n",
              "                                                    [key], {});\n",
              "        if (!dataTable) return;\n",
              "\n",
              "        const docLinkHtml = 'Like what you see? Visit the ' +\n",
              "          '<a target=\"_blank\" href=https://colab.research.google.com/notebooks/data_table.ipynb>data table notebook</a>'\n",
              "          + ' to learn more about interactive tables.';\n",
              "        element.innerHTML = '';\n",
              "        dataTable['output_type'] = 'display_data';\n",
              "        await google.colab.output.renderOutput(dataTable, element);\n",
              "        const docLink = document.createElement('div');\n",
              "        docLink.innerHTML = docLinkHtml;\n",
              "        element.appendChild(docLink);\n",
              "      }\n",
              "    </script>\n",
              "  </div>\n",
              "\n",
              "\n",
              "<div id=\"df-b7009e23-f824-4cbf-b676-8326d135daa3\">\n",
              "  <button class=\"colab-df-quickchart\" onclick=\"quickchart('df-b7009e23-f824-4cbf-b676-8326d135daa3')\"\n",
              "            title=\"Suggest charts\"\n",
              "            style=\"display:none;\">\n",
              "\n",
              "<svg xmlns=\"http://www.w3.org/2000/svg\" height=\"24px\"viewBox=\"0 0 24 24\"\n",
              "     width=\"24px\">\n",
              "    <g>\n",
              "        <path d=\"M19 3H5c-1.1 0-2 .9-2 2v14c0 1.1.9 2 2 2h14c1.1 0 2-.9 2-2V5c0-1.1-.9-2-2-2zM9 17H7v-7h2v7zm4 0h-2V7h2v10zm4 0h-2v-4h2v4z\"/>\n",
              "    </g>\n",
              "</svg>\n",
              "  </button>\n",
              "\n",
              "<style>\n",
              "  .colab-df-quickchart {\n",
              "      --bg-color: #E8F0FE;\n",
              "      --fill-color: #1967D2;\n",
              "      --hover-bg-color: #E2EBFA;\n",
              "      --hover-fill-color: #174EA6;\n",
              "      --disabled-fill-color: #AAA;\n",
              "      --disabled-bg-color: #DDD;\n",
              "  }\n",
              "\n",
              "  [theme=dark] .colab-df-quickchart {\n",
              "      --bg-color: #3B4455;\n",
              "      --fill-color: #D2E3FC;\n",
              "      --hover-bg-color: #434B5C;\n",
              "      --hover-fill-color: #FFFFFF;\n",
              "      --disabled-bg-color: #3B4455;\n",
              "      --disabled-fill-color: #666;\n",
              "  }\n",
              "\n",
              "  .colab-df-quickchart {\n",
              "    background-color: var(--bg-color);\n",
              "    border: none;\n",
              "    border-radius: 50%;\n",
              "    cursor: pointer;\n",
              "    display: none;\n",
              "    fill: var(--fill-color);\n",
              "    height: 32px;\n",
              "    padding: 0;\n",
              "    width: 32px;\n",
              "  }\n",
              "\n",
              "  .colab-df-quickchart:hover {\n",
              "    background-color: var(--hover-bg-color);\n",
              "    box-shadow: 0 1px 2px rgba(60, 64, 67, 0.3), 0 1px 3px 1px rgba(60, 64, 67, 0.15);\n",
              "    fill: var(--button-hover-fill-color);\n",
              "  }\n",
              "\n",
              "  .colab-df-quickchart-complete:disabled,\n",
              "  .colab-df-quickchart-complete:disabled:hover {\n",
              "    background-color: var(--disabled-bg-color);\n",
              "    fill: var(--disabled-fill-color);\n",
              "    box-shadow: none;\n",
              "  }\n",
              "\n",
              "  .colab-df-spinner {\n",
              "    border: 2px solid var(--fill-color);\n",
              "    border-color: transparent;\n",
              "    border-bottom-color: var(--fill-color);\n",
              "    animation:\n",
              "      spin 1s steps(1) infinite;\n",
              "  }\n",
              "\n",
              "  @keyframes spin {\n",
              "    0% {\n",
              "      border-color: transparent;\n",
              "      border-bottom-color: var(--fill-color);\n",
              "      border-left-color: var(--fill-color);\n",
              "    }\n",
              "    20% {\n",
              "      border-color: transparent;\n",
              "      border-left-color: var(--fill-color);\n",
              "      border-top-color: var(--fill-color);\n",
              "    }\n",
              "    30% {\n",
              "      border-color: transparent;\n",
              "      border-left-color: var(--fill-color);\n",
              "      border-top-color: var(--fill-color);\n",
              "      border-right-color: var(--fill-color);\n",
              "    }\n",
              "    40% {\n",
              "      border-color: transparent;\n",
              "      border-right-color: var(--fill-color);\n",
              "      border-top-color: var(--fill-color);\n",
              "    }\n",
              "    60% {\n",
              "      border-color: transparent;\n",
              "      border-right-color: var(--fill-color);\n",
              "    }\n",
              "    80% {\n",
              "      border-color: transparent;\n",
              "      border-right-color: var(--fill-color);\n",
              "      border-bottom-color: var(--fill-color);\n",
              "    }\n",
              "    90% {\n",
              "      border-color: transparent;\n",
              "      border-bottom-color: var(--fill-color);\n",
              "    }\n",
              "  }\n",
              "</style>\n",
              "\n",
              "  <script>\n",
              "    async function quickchart(key) {\n",
              "      const quickchartButtonEl =\n",
              "        document.querySelector('#' + key + ' button');\n",
              "      quickchartButtonEl.disabled = true;  // To prevent multiple clicks.\n",
              "      quickchartButtonEl.classList.add('colab-df-spinner');\n",
              "      try {\n",
              "        const charts = await google.colab.kernel.invokeFunction(\n",
              "            'suggestCharts', [key], {});\n",
              "      } catch (error) {\n",
              "        console.error('Error during call to suggestCharts:', error);\n",
              "      }\n",
              "      quickchartButtonEl.classList.remove('colab-df-spinner');\n",
              "      quickchartButtonEl.classList.add('colab-df-quickchart-complete');\n",
              "    }\n",
              "    (() => {\n",
              "      let quickchartButtonEl =\n",
              "        document.querySelector('#df-b7009e23-f824-4cbf-b676-8326d135daa3 button');\n",
              "      quickchartButtonEl.style.display =\n",
              "        google.colab.kernel.accessAllowed ? 'block' : 'none';\n",
              "    })();\n",
              "  </script>\n",
              "</div>\n",
              "\n",
              "  <div id=\"id_2ae4eafd-d176-4eb7-a8d6-d5eb9ce2d842\">\n",
              "    <style>\n",
              "      .colab-df-generate {\n",
              "        background-color: #E8F0FE;\n",
              "        border: none;\n",
              "        border-radius: 50%;\n",
              "        cursor: pointer;\n",
              "        display: none;\n",
              "        fill: #1967D2;\n",
              "        height: 32px;\n",
              "        padding: 0 0 0 0;\n",
              "        width: 32px;\n",
              "      }\n",
              "\n",
              "      .colab-df-generate:hover {\n",
              "        background-color: #E2EBFA;\n",
              "        box-shadow: 0px 1px 2px rgba(60, 64, 67, 0.3), 0px 1px 3px 1px rgba(60, 64, 67, 0.15);\n",
              "        fill: #174EA6;\n",
              "      }\n",
              "\n",
              "      [theme=dark] .colab-df-generate {\n",
              "        background-color: #3B4455;\n",
              "        fill: #D2E3FC;\n",
              "      }\n",
              "\n",
              "      [theme=dark] .colab-df-generate:hover {\n",
              "        background-color: #434B5C;\n",
              "        box-shadow: 0px 1px 3px 1px rgba(0, 0, 0, 0.15);\n",
              "        filter: drop-shadow(0px 1px 2px rgba(0, 0, 0, 0.3));\n",
              "        fill: #FFFFFF;\n",
              "      }\n",
              "    </style>\n",
              "    <button class=\"colab-df-generate\" onclick=\"generateWithVariable('df')\"\n",
              "            title=\"Generate code using this dataframe.\"\n",
              "            style=\"display:none;\">\n",
              "\n",
              "  <svg xmlns=\"http://www.w3.org/2000/svg\" height=\"24px\"viewBox=\"0 0 24 24\"\n",
              "       width=\"24px\">\n",
              "    <path d=\"M7,19H8.4L18.45,9,17,7.55,7,17.6ZM5,21V16.75L18.45,3.32a2,2,0,0,1,2.83,0l1.4,1.43a1.91,1.91,0,0,1,.58,1.4,1.91,1.91,0,0,1-.58,1.4L9.25,21ZM18.45,9,17,7.55Zm-12,3A5.31,5.31,0,0,0,4.9,8.1,5.31,5.31,0,0,0,1,6.5,5.31,5.31,0,0,0,4.9,4.9,5.31,5.31,0,0,0,6.5,1,5.31,5.31,0,0,0,8.1,4.9,5.31,5.31,0,0,0,12,6.5,5.46,5.46,0,0,0,6.5,12Z\"/>\n",
              "  </svg>\n",
              "    </button>\n",
              "    <script>\n",
              "      (() => {\n",
              "      const buttonEl =\n",
              "        document.querySelector('#id_2ae4eafd-d176-4eb7-a8d6-d5eb9ce2d842 button.colab-df-generate');\n",
              "      buttonEl.style.display =\n",
              "        google.colab.kernel.accessAllowed ? 'block' : 'none';\n",
              "\n",
              "      buttonEl.onclick = () => {\n",
              "        google.colab.notebook.generateWithVariable('df');\n",
              "      }\n",
              "      })();\n",
              "    </script>\n",
              "  </div>\n",
              "\n",
              "    </div>\n",
              "  </div>\n"
            ],
            "application/vnd.google.colaboratory.intrinsic+json": {
              "type": "dataframe",
              "variable_name": "df",
              "summary": "{\n  \"name\": \"df\",\n  \"rows\": 5,\n  \"fields\": [\n    {\n      \"column\": \"Tiempo\",\n      \"properties\": {\n        \"dtype\": \"number\",\n        \"std\": 0.01581138830084191,\n        \"min\": 1.0,\n        \"max\": 1.04,\n        \"num_unique_values\": 5,\n        \"samples\": [\n          1.01,\n          1.04,\n          1.02\n        ],\n        \"semantic_type\": \"\",\n        \"description\": \"\"\n      }\n    },\n    {\n      \"column\": \"Corriente\",\n      \"properties\": {\n        \"dtype\": \"number\",\n        \"std\": 0.055497747702046483,\n        \"min\": 3.1,\n        \"max\": 3.24,\n        \"num_unique_values\": 5,\n        \"samples\": [\n          3.12,\n          3.24,\n          3.14\n        ],\n        \"semantic_type\": \"\",\n        \"description\": \"\"\n      }\n    }\n  ]\n}"
            }
          },
          "metadata": {},
          "execution_count": 6
        }
      ]
    },
    {
      "source": [
        "df.plot(kind='scatter', x='Tiempo', y='Corriente', s=32, alpha=.8)\n",
        "plt.gca().spines[['top', 'right',]].set_visible(False)"
      ],
      "cell_type": "code",
      "metadata": {
        "colab": {
          "base_uri": "https://localhost:8080/",
          "height": 449
        },
        "id": "2NDEmocxnA4X",
        "outputId": "e00abfd6-e9ec-401b-e589-0c9c0734c852"
      },
      "execution_count": 7,
      "outputs": [
        {
          "output_type": "display_data",
          "data": {
            "text/plain": [
              "<Figure size 640x480 with 1 Axes>"
            ],
            "image/png": "[encoded data removed]"
          },
          "metadata": {}
        }
      ]
    },
    {
      "cell_type": "markdown",
      "source": [
        "- Emplee el metodo de diferencias finitas y de tres puntos para calcular la derivada numérica."
      ],
      "metadata": {
        "id": "MGpWVRmY3wVf"
      }
    },
    {
      "cell_type": "code",
      "source": [
        "i, t,  h = df['Corriente'], df['Tiempo'], 0.01\n",
        "di_dt = centered_diff(i, t, h)\n",
        "di_dt"
      ],
      "metadata": {
        "colab": {
          "base_uri": "https://localhost:8080/"
        },
        "id": "modrTVVG37df",
        "outputId": "9c3a619c-613f-4874-8d0a-a9ae801ab6f7"
      },
      "execution_count": 8,
      "outputs": [
        {
          "output_type": "execute_result",
          "data": {
            "text/plain": [
              "array([2., 2., 4., 6.])"
            ]
          },
          "metadata": {},
          "execution_count": 8
        }
      ]
    },
    {
      "cell_type": "code",
      "source": [
        "di_dt_3puntos = three_point_diff(i, t, h)\n",
        "di_dt_3puntos"
      ],
      "metadata": {
        "colab": {
          "base_uri": "https://localhost:8080/"
        },
        "id": "TpZ_IAsendKQ",
        "outputId": "1050422e-f31d-4ac6-aca7-ad283d481d64"
      },
      "execution_count": 9,
      "outputs": [
        {
          "output_type": "execute_result",
          "data": {
            "text/plain": [
              "array([2., 2., 3., 5., 7.])"
            ]
          },
          "metadata": {},
          "execution_count": 9
        }
      ]
    },
    {
      "cell_type": "markdown",
      "source": [
        "- Ahora, encuentre un polinomio de interpolación usando alguno de los métodos vistos y calcule la derivada 'exacta'. Compare sus resultados."
      ],
      "metadata": {
        "id": "ftbe9zRy3zKP"
      }
    },
    {
      "cell_type": "code",
      "source": [
        "interpolacion = lagrange(t, i)\n",
        "interpolacion"
      ],
      "metadata": {
        "colab": {
          "base_uri": "https://localhost:8080/"
        },
        "id": "nDFRC7trkjFv",
        "outputId": "d1d3cb8d-22db-4db8-9ebd-54e80c09c794"
      },
      "execution_count": 10,
      "outputs": [
        {
          "output_type": "execute_result",
          "data": {
            "text/plain": [
              "poly1d([ -83333.33333335,  341666.66666669, -525191.66666673,\n",
              "        358719.83333332,  -91858.39999999])"
            ]
          },
          "metadata": {},
          "execution_count": 10
        }
      ]
    },
    {
      "cell_type": "code",
      "source": [
        "x = sp.Symbol('x')\n",
        "p = sp.Poly(interpolacion, x)  # Convertir el polinomio de Lagrange a un polinomio de SymPy\n",
        "derivada_inter = sp.diff(p, x)"
      ],
      "metadata": {
        "id": "OHX5TRK8qj8K"
      },
      "execution_count": 11,
      "outputs": []
    },
    {
      "cell_type": "code",
      "source": [
        "voltaje_finitas = L * di_dt + R * i[1:]\n",
        "voltaje_3puntos = L * di_dt_3puntos + R * i"
      ],
      "metadata": {
        "id": "LlsSDymSqVHJ"
      },
      "execution_count": 12,
      "outputs": []
    },
    {
      "cell_type": "code",
      "source": [
        "derivada_numerica = np.array([derivada_inter.subs({x: val}) for val in t]) # Evalúa la derivada en los puntos de tiempo\n",
        "\n",
        "voltaje_interpolacion = L * derivada_numerica + R * i # Calcular el voltaje usando la derivada del polinomio de interpolacion"
      ],
      "metadata": {
        "id": "IZT9LztBrk9a"
      },
      "execution_count": 13,
      "outputs": []
    },
    {
      "cell_type": "code",
      "source": [
        "plt.plot(t, i, label='Corriente Inicial (i)', marker='o', linestyle='-')\n",
        "plt.plot(t[1:], voltaje_finitas, label='Derivada Centrada (ε(t))', marker='x', linestyle='--')\n",
        "plt.plot(t, voltaje_3puntos, label='Derivada 3 Puntos (ε(t))', marker='s', linestyle='-.')\n",
        "plt.plot(t, voltaje_interpolacion, label='Derivada Interpolación (ε(t))', marker='^', linestyle=':')\n",
        "\n",
        "plt.xlabel('Tiempo (s)')\n",
        "plt.ylabel('Valores')\n",
        "plt.title('Corriente y Voltaje según el método vs. Tiempo')\n",
        "plt.legend()\n",
        "plt.grid(True)\n",
        "plt.show()"
      ],
      "metadata": {
        "colab": {
          "base_uri": "https://localhost:8080/",
          "height": 472
        },
        "id": "GF3E3Ip5ppkk",
        "outputId": "950ac1fc-9e02-4bf1-cf1c-a1a0c418c33a"
      },
      "execution_count": 14,
      "outputs": [
        {
          "output_type": "display_data",
          "data": {
            "text/plain": [
              "<Figure size 640x480 with 1 Axes>"
            ],
            "image/png": "[encoded data removed]"
          },
          "metadata": {}
        }
      ]
    },
    {
      "cell_type": "markdown",
      "source": [
        "# 2.\n",
        "\n",
        "Usando la siguiente tabla, determinar la velocidad instantanea para cada uno de los tiempo y distancias mostrados.\n",
        "\n",
        "* ¿Cuál será la velocidad para $t=12$?\n",
        "\n",
        "![image.png](data:image/png;base64,iVBORw0KGgoAAAANSUhEUgAAAYkAAAA/CAYAAAAVOTRhAAAAAXNSR0IArs4c6QAAAARnQU1BAACxjwv8YQUAAAAJcEhZcwAADsMAAA7DAcdvqGQAABybSURBVHhe7Z0HeBTF+8dfQjG00IuASKRLEOkiIKhgAUEjKk1plidiI/JTggUpSpcmglgAC02aIgIKf5AiEAIKASkSOqGFHgiBQOY/3/dmyea4g8td9i4b5/M8y+3MLHs7O+Ut884lh5CQRqPRaDQuCFKfGo1Go9HcgBYSGo1Go3GLFhIajUajcYsWEn5i/MpjtPVIkkoFjoGLD1P82SsqZW8uXUmlt+bsVyn7E5eQTCOWHVEp+7Ny93mavvGkStmfb9adoA37L6jUfwctJPzE4h3n6ODpyyoVOGb/fZpOJ11VKXtz5VoqTY3OPpPQsfMp9PPWMyplf7Yfu0Sr9ySqlP35v13nKe5kskr9d9BCQqPRaDRu8auQSE1NpYMHD6qUJqOcO3eOrl27plL25urVq1yf7EpCQoI6sycpKSm2ap8rV27uQk1KSqJLly6pVNbnZvXBroXTp0+rlPX4JCSOHTtGFStWpMqVK1ODBg2oWbNmfF61alU+r1+/PlWqVImvQaUHDRpEd955J8XHx6s7aDxh7dq19Nhjj9EPP/xAPXv2pF69enFHsSMQcpGRkVSoUCEqXLgw941Vq1apUnty8uRJqlatGtfFOEaNGqVK7cXx48epR48e9PHHH9OkSZOoRYsW9NNPP6nSrAcE2YABA6hRo0YqJz2oT5s2bWjMmDE0cuRIevLJJ+nUqVOqNOuxZ88e6tq1K73xxhsqJz1Tp06lMmXKULFixaho0aI0fvx4VWIdPgmJxMREtg5+//132rBhA61cuZKOHDlCycnJfB4TE0O//PILS3EcHTp0oCFDhtDtt9+u7qC5FUePHqXw8HDq378/vfbaazxw//rrLxo2bJi6wl4MHjyYHnjgATpz5gzFxcVRzpw5qX379tyP7Mpnn31GTZo0oaeeeoqPdu3auR3kWR08f1hYGE+87777Lg0fPpzbJyt6AHbv3k1z5szhMXH27FmVmwYUEjx748aN6b333qMPP/yQatWqRZ07d86SShaUwfnz59N3333HlrYzmEsxH+zcuZPr++CDD3I/2759u7rCIrDj2lu2bNkixo0bp1IO8uXLJ8qXL69SDgYOHCik8FCp/yatJu4UC7eeVinP6d69u6hZs6ZKOZg2bZoICgoSssOoHM8J+2SLiI2/qFL+5eLFi2LhwoUq5WDs2LFCCgpx4cIFleM5Z5NSRMj/YlQqMKBObdu2VSnfWB13XjQetU2l/E9CQgJmTrFkyRKV46BAgQJi0aJFKuU5E1YdExEz96qUdeD933XXXSqVhpxsuW+dOHFC5Qhx+PBhruPs2bNVjud0nLJbTItJUCnrCAkJEdKaU6k0Zs2apc4cYP511V6ZjU+WBFxLchJTKfe8+eabVLx4cT4/f/48yYHF5wYHDhxQZ8RSEpaIAcxJaM7ufHQwzzZv3kyXLwc+ciizgXa9YMECatiwocpxANceyuSEq3LsgVQgqHXr1irlABoTXGn58+dXOfZi8uTJ7C6DBi4FHltIdqVgwYIUHBzMLgw5N3Dejh07uK/VrVuX03Zi3rx5FBoaSiVKlFA5RGXLlmV3DTR2u/Hcc8+pMwcYO6hb06ZNVY41+CQk8ubNS1LLUCn3wP8M1xMqWbJkSe54AIMLvkSsYeAc5hMmDFwTHR1No0eP5sH39NNPU4UKFdjUMoBgef3119lfCv8p/MBweWUnIDDhP0XdzOBd5MiRw/a+fLgw4JacOXOmyrEfWEBE//311195rUhqtLRixQpVai9uu+02+uijj1j5gMts69at7M6YO3cuj0m7sWbNGm4PZ5C3evVqlbIncN8PHTqU6wHly0r8Ft10//33swAwa/zwTbds2ZLzpElIy5cvZz8jFmUgGLD4jQEXGxvLC1BYtAHwNXbp0oV9jL1792a/JLQg+BqzE4ZQRN3M5MqVizU+s9C0E7AO3377bapSpQpbSu+//74qsR/9+vWj9evX81rcwIEDuW5YQ7JrdFNUVBT17duXNe177rmHvQAYt3YDWjYCCpzHDkAegm7sCCw8WHoQdLNnz6aIiAjLrVe/CQngShsJCQnhT3REaMe5c+fmxSVYKHXq1OEyXIPF7l27dnEa0hNaNiJI+vTpwwcWQLEQiiO7YIS74r04ExQUZNtwWGg+EBIQEHBjjBs3jmbNmqVK7QnMfigtUFggKCZOnKhK7AUmIVgUL7zwArsAn3nmGVtaekYghLuxg3LDpWYnUB9YebD2OnbsSH/88QcLdSvxq5DwFHRSZ5BnxDnDsoDLBREYxrFx40Yud2Ve2pVSpUrxJ0xLM+jcWLcxyu0GFIFy5crRI488wpYiJlhEyGUHYAFjDWnfvn0qx15AeMNqR4QN1gIxzmC1Y93PTuTJk4fd3M5jByAPfc6VALEDUJjr1atH06dPZ+V66dKlqsQasqSQuBUI/9q2bRt3BLhdzAe0hOxC9erV2aIyL+yDw4cPsxXhvKBtR2D6IxYfm7eyC3fccQeVLl1apewD9i9hPwH2SQC4A6GpYu1xwoQJnGcnsE/LVeju/v37OfgjOwClxOqxY8sZFRv0oA3MmDFD5ThAh4C5n12AEHz00UfZcjJjpNu2bcufdgf+Y6xZZRewrta8eXOVsg+Gn94cjIJIIKwdZuUNaO5A0Avcz2ZrAq5AzBPYVJcdwNhxt5Ews8hUIQHtFovQrkw8YCxao2IGhhQ0+wdR7hzSinsbfkZMjljfQOQF/KXQrBctWsSmMnZXZiewGLpp0yb6999/VQ7Rl19+Sa+++qrtXGtoQ2wIMoc4Y/EdE5AnodRZjUOHDvEuXnwaLFu2jHdfQ7jbjRo1arAFtGTJEpXjAJbs448/rlJZD7iZXWnT6FOIDJw2bZrKIZoyZQovyGfVIBfMg5j7XNUHgT0I8DHAPIl1PUQ5WYp8qExh1apVokuXLry5A4ecxMTatWtVqRDr1q0TLVq04LIOHTqI7du3i5UrV4o6depwXv/+/cXJkyd5k0upUqVEjhw5xKeffioSExN5wx42xUjBIObPn3/9fqGhofx/c+fOzRtqsBkoq+LtZjowd+5c0bJlS96INmDAAK6r7EiqNGMEcjNdfHy8yJ8/vyhSpIiIiIgQw4YNE2PGjBFSSKgrMkagN9OtWLGC+x7qFBUVxX149OjRXrdNoDfTgejoaN68iQ2wcgISL7/8snjnnXeEnJDUFZ5j9WY6Kby4/+TNm5fnAbz7HTt2qFIHO3fuFFLT5g2oU6dOFdJiFXv3evdMVm+mi4mJEZGRkVyXYsWKCakAi+PHj6tSIWrXrs39LTw8XAwfPpzHD+ZRq7H937hG6CF+wwTrEVmZ1l/sop5NSlLrsCIqJ2NgAyIiurApEb9/5S01B8fS9G6VqGYZa2Or3YHNlPgZAdQDG50QleYt5y5dpfL9NtO5EfVUjv+B1od2wdoK6uPLYuiaPYkUteAgrYmsoXICA6YELLxfuHCBrSK4Pb1h4urjFHskiSa2D1U5gQEaNyIj0TbY0+Jtn+s0NY6eCCtMneo5Ngb7G1gX2LuCwA+43LFW5A9sv8oLn2lWFxCZAcIRES7qi4DICiCc+b777uNO7ouAyCog6g4h23D92TVaxhnUA/WBW8ZbAZGVwL4iuNLuvvtuW/c5CAdsC5CWnt8EBMg+oUAajUajyXS0kNBoNBqNW7SQ0Gg0Go1btJDQaDQajVu0kNBoNBqNW7SQ0Gg0Go1btJDQaDQajVu0kNBoNBqNW3zacX34zGXaeTztd3g07pm8PoEahRag6qX8twnGFaOWH6VO9YtR6YL23ySVnJJKg5fG08BWd6gce7Pv1GVavOMs9Wxiz5+Ad2bdvkQ6dj6FwmsVVTn2ZsamU1StdDDVLps1/9TuveXyUfECuVUq8/BJSMz5+xQNWXpEpTQ3I+lKKuXJmYNyySOQXLx8jYJzB1HOIPvvDkbXvXA5lQoG23/nNriaKujy1VTKnyd71OeKrIusEve37MAlqZTkkuMmd4DHsDvGtqtATSre+Jf4fMX2v91kF3z97abMItC/3ZSZZIXfbspMsspvN2UWWeW3mzKLQP92U6DQaxIajUajcYsWEhqNRqNxixYSGo1Go3GLFhIajUajcYsWEhqNRqNxixYSGo1Go3GLFhIajUajcYsWEhqNRqNxS8CExNGjR/mPyGs859y5c3Tt2jWVChxnzpxRZ65JTU3lZ80ICQkJ6sy/4I/k3+pZsd/09OnTKuUaT+7jb+Lj4+mff/5RqTQw7i5evKhSrklKSqJLly6plD04deqU2/GRmJjIbRRo8By34lbXeNIfMxOfhAQa5dNPP+U/MF6xYkVq0qQJtWvXjjp27EjdunWj4cOH8zXOJCcnU2hoKL3++usqR3Mz1q5dS4899hj98MMP1LNnT+rVqxd3FH/zxRdfUMmSJalo0aJUpEgRGjVqlCpxgMkHbZovXz4qXLgwVapUiX7//XdVmsbJkyepWrVq3GeMw/leVoPJJDIykgoVKsTPimdYtWqVKnWAa/r27Utvv/02fffdd/TUU0/RwIEDVakDT+7jTyCgP/vsM3ryySdp5syZVKBAAVVCdODAAWrVqhX/EX3kN2/enOLi4lSpAwjr1q1bU0hICF/zwAMP0OHDh1Wpf4iJiUnXN8zHhAkT1FXp2bNnD91555106NAhleNg5cqVVLNmTa4P+uWLL754SwFpBV9++SW98sor9NVXX9EzzzzDY8kZT66ZOnUqlSlThooVK8bjcPz48arEQvCzHL7yxBNPYMYS0dHRKkeIvXv3ivbt24v8+fOLqKgoIQeTKnEgK5fu+lshtQAhBY5K2Y9WE3eKhVtPq5TnHDlyRMiJWaxbt07lCNG0aVMxZMgQlcoYYZ9sEbHxF1XKc7799lvRuXNnsWjRIiE7qqhRowa3+ffff6+uEOLll18W/fv3F1IwiNGjRws5cYrg4GCxa9cudYWDfv36CTlYhZx8+XjnnXeE1HpVqeecTUoRIf+LUamMISd7MW/ePCEFm5ATpahcubIoXbp0un6Kfou+bXDlyhUhB6aYNWuWyvHsPp6yOu68aDxqm0plnN27d4vGjRuL7t27C2kFqFwHcmIUDz30kJATkFi8eDG/9xw5cggprPnZgRQwomvXrmLjxo083lasWCFy584tnnvuOS7PKBNWHRMRM/eqlOe89NJLQgo5MXjwYO7nOHCeK1cusWnTJnVVGnhWKcy4P+7bt0/lCiGtKPHggw+KOXPmiLlz54q2bdvyNT169FBXZIyOU3aLaTEJKuU5eOdVqlTh5wTS4hRykhdSmHMaeHLNggUL+D2cPXuWj6effprrg3paSaYIiU6dOvHD/v333yonjZEjR3IZJgZfwOSzdOlSlbIf3goJDHipCamUg2nTpomgoCBx9OhRleM53goJCAAz0hpgBeDRRx/ltNTgxKBBg/jc4LfffuO2Hzp0qMpxTFYYrJmBt0ICz7Bw4UKVcjB27FiRM2dOceHCBZUjhLSQRZ8+fVTKAYQGhBrw9D6e4ouQOHPmjChbtqwIDw9XOemRVqiQWrVKOYAQRPusX7+e0xAOUiPncwNpPYmGDRuqVMbwRkgkJyeLzz//XKXSgJIkLQWVSs/HH3/MggR1MQsJtBPeiwGEYKNGjYS0KK5PxhnBGyGB74TSAOFrBs8GIZCYmOjRNcCsnIAtW7ZwnZcsWaJyrMHyNYnevXuTbBg202VDq1wHWJcwIxuOtm3bRlIjopSUlOsuFbhZpJBgM1FK0HSuFqlpk+zcJAelykkDflXD143r/v33Xz53Bib6jh07aOfOnS7dOLg3vgM+Xn+C55LaA8lBqnIcNGjQgMvkBKVyrAU+0jfeeEOlHMDcve+++677T+EjhRvMTMuWLUlqonT+/HmVQzR58mR2x8B1IyfUW65vWAHcDnCpmEHfg0tPCj6VQ+xakwL5uv9XWhIkFSFq1qwZpz29jz+AGxLvEi4LV1SoUIFdR2akwONPow3r1q1Ld911F58boD7PPvusSlnPbbfdxnVx5scff2RXtjNSwJEUylSv3o0/8giXG1yABtJy4vaCuxvziz+Aq+7YsWPsXjVTq1YtdsVv2LDBo2uAtOj40wBtU6JECWratKnKsQa/LFxLs4g/MeAwcUvNkqpWrUrSrOR8cOLECe60mMi3bt3K/kXkYYBKjZSvQUcZMWIE+77R0FIjpa+//pqvkWYljRkzhq/DYHnrrbeoePHi9P333/P6CF4kvhPfbQYTLfyU27dv5zWUGjVqkNRGVCnRxIkTSZp4/Az169cnqVGrEuuB0EIngS/WDAY8Ory/fN8FCxZkv64zWKiFAgDuueeedP5vgLbGYLz//vtVjkOYoB1+/fVXFiqYlFasWKFKA8PBgwfZdw0fvpkBAwbw4EXf2bx5M/Xo0YOFpbNgMHB3H6vZtGkTzZgxg1q0aMFKBZ4TyhkEmkHjxo3VWRpovzx58lCdOnVUTnrQ5zEOca9AM2fOHPbTm4HyJq0Okhq3ykmPqzpDyaxduzYFBwerHGsxghnwvWagZAEoxJ5c44wxj65evZqVFUuBOeErN3M3AfhAUS41S07DXwvTsVWrVpwGcEeZXRrjxo0TBw4c4HP4RvH/ze4mOXlzHsxTMGnSJHZ/wG8M5IDlcqnVsX8PJp3URISc8LgcxMTECDlAhJzIOC2tDiE1GREZGclpuBLefPNNPgdy8PM94e7JKN64m5YtW8bfh/UbZ/LmzSvkpKBSnuOtu8kZqf3w+8Z7doecuERYWBi/e2ekAsD+fPjFsXaBdEbxZU0CwK+Ltkab4z2b29rgp59+ul4uhZrKTY8n9/EEb91NeI/4XrjC4FJCv4EbED58KYzVVTfyyiuvCKm1q1QaWEPCmgDuCdeMN/0deLsm4QzcYbfffvsN/UgKbF4HApgb8Lxmd5MrpIIiZs+erVIZwxt3E9aGQkJChBRMKscB2gXPizU9T64xwDvAOkWpUqW4rHnz5kIqXqrUGvxiSSASBgQFOb4On4aUNIBkh6WxaNEiTnfu3JlX790BbQ6uC5inANaF4Y4C0H6BHCwc2QDNGxohTGtE14D33nuPwsPDSQ4mTsPyQCQRIloALAuYgn369OHD0HihBfsDRM4APLszeIdGeSCA+3D06NF0xx2u/yocTGFEvqFNXT0/zOQPP/yQNURoUrDY/A00MEQuQfuGq0UqJjRr1ixV6gDP3qZNG7Z4YKlKAaBK0vDkPlaCqCWAqCa4lB5++GGSwo37M57LFbCWo6OjadiwYSonjbJly7IrEJE0cJt17979+ncEAngQ4I0w96N58+bRvffee4OVfTNgbcFqcrZIrATzGlzlsOreffdddnv/9ddfbAEBWOieXGOAdwC3GzwgiCL9448/rs9XVuEXIQEzHFSvXp0/XREREUGVK1fmyR/+akz4zu4LM5ic4EaSWgFP5lL74fybTZyGQMEEBmCmw5w2g06ECQzA7YUBArcDDkwSiB2fMmUKl1uN1Bb4E6alGSnc2d1mlPsbCEkI/pu53j766CMWAnBD3QwMfqy5mF18/gLrJeXKlaNHHnmEFQC0uzlkd/78+dzuEHQYwHCHYiJ2Fmi3uo/VIPwWmJUqTDwYSxgXxpqDAVyAUHow0boaYxAMGBddu3blyQhrMXBrBApnVxNcgFAQIRARwosDEyuAMNu7dy+fm8EcNHfuXP5//gYh0qgDnhsuVqxvVqlShZULYx3Ck2sMpFXFazDTp0/n9S9pRakSa/CLkDAWWDt16sSfrsCkgwUaSFJMQpist2zZokpvBNYA/OFYtML/wSJqRoAwweBxpyGhHAuuWKvAgDMf8OP6AwhVDGLnZ4R1g+dzXtD2B2gTrIU4r+2Y+fbbb1n7wZqRJ0Dgly5dWqUCAyxP+PTNC5qYSKGtob1hjUI7Rz+DBeUOV/exGmOx+fjx4/xpYFh55k1xUDCgeUKIOy9SuwJBEojL92d9zGBOgJJkXpzF+hDmCCiVxgGBBrD3w3n9DJbqoEGDWLnD+A0E0P6x1wZWEc6/+eYbVqIMxRV4co0zULKsbhvLhQQkIhbynn/+eV74dQcaHYMR5i9MLbiAjI0ihpmJDm4AMxoRPsaieEaBcIGERseBpmQG1gnKseEP5YblYQCLwh+uHrwPuMtiY2NVjgMj7ekknFlAK0WkmbOAMD8ftFO0U4cOHVSOI0oLUWvuwMIcBnegQTubF9mhnZo1bfQJRPq42iBqxvk+VmNELTm/Yyg5cB0hSssAbg0oawjQMIBwcRYwZjAJGQEK/gYTJjwLePcG0J7Rx8yH4QqGRQovhAHOo6Ki2NtguKCB85jyFxgLCH6ANeDOFejJNQboa1a3TaYICUNTwbqAARoHUhEmOBrVefcgrjVPvjCZoLUDaAJYKzAkqBHGBo0aHQK7KjFh4ScHYJ7h+5csWcLXwDqA5mHcG9cbwEUDDKGA3cEwTfF8MKfh30NkSPny5bkcux8RYQRtEiGy+E5ol3AnmDutlcD3D7eYOXwXYY6vvvqqR5pgZoF3D20tLCyM3S8QFjgQWQLNDixevJgmTZrEAt4oh1+7ffv2vMsX7TZy5Mh0u2KXLVvGwhrC0F9AwP/yyy/X+wNAODYmf7gXDRDCizqZwSSE/gI8vY/VGOMFSpW5vyPSCm4Mgw8++IBDwjHOjPbBuETIKfo0ogkx2ZrvgfpBqDi7PPyFq6gmT8EcA6EOSwNKqFFnrJXB2vU3eK+I6ET/X758uUuPxM2uQRptZIA5DutgN7PqMwX5UF6DaCD5gBzlglshcgCbedq0acMbwLp06cIbqswgEkR2TN5whKgW7N6Vg42jQ6REFNOnT+doCmkhXI94kZoM3w/fgw0niFbCij/+v9T0OLpKdm7eYIYNRXKyF1IA8DPVrVuXN+Ig8grRA8hDFJUR8STNOd5VinxEUMiXzt8JZCfj6A88K8pxbzyfN3i7mQ5gtygiwxBtNWDAAN6MhmfzBm+im+SkJypWrMjvwPlAVIZUCPgdS1Pe5TVGFBbaCO8a7YiNXFKr5Z3Z3tbF2+gm7O7GMxQpUkREREQIab0KaR3esKNfKiD83rt16yZ+/vln8cknn3D/Rr8Hnt7HU3zZTIf+jGeTk6KYP3++6N27t+jbt68qdWzyc9U2OFAvgEguabVzW2NcoD5ff/21VxvPgK/RTfhFBoxxI2LxZqBvoS7m6CZsBHSuq3H8+eef6irP8XbHNdoGEVWIOMP4dfU+PbkG8xfGD9pZWkbcPlLgq1Lr8ElIZCbGRIEBiPBKZ1Du/NMNUoNjoWMAoeLNTlfcB53L3WBAiJo3PxthxhchAVCvjRs3iv3796sc78isEFhvwbuWlgfv7IWQ9gVfQmAxKCHY8FMWt5oEISwQLo3/40xG7nMrfP1ZDoDxg5243j4L+vnatWt97u/AVyGBd+tqLggU3goJhCWj/0DZdYcn10BY4mdJYmNjRVJSksq1nhz4R0pWjcW0/mIX9WxSklqHOcKBA0XNwbE0vVslqlnG4g04fuDcpatUvt9mOjfixt22dmTNnkSKWnCQ1kSmrRfYmYmrj1PskSSa2D5U5dibTlPj6ImwwtSpXnGV89/AL9FNGo1Go7EnWkhoNBqNxi1aSGg0Go3GLVpIaDQajcYteuHaT8QlJFOJArmoUF7H70QFiu1Hkyi0WDDlzWN//eBaqqCtR5Lo3nL+/Vluq7hw+RrFn71CVUvlVTn2JiExhS6lpFL5ou53DNuJfaeSqVBwLiqaP7Bj2N9oIaHRaDQat2h3k0aj0WjcQPT/H/LqsIeWznwAAAAASUVORK5CYII=)\n",
        "\n"
      ],
      "metadata": {
        "id": "hR2a9StYy9T6"
      }
    },
    {
      "cell_type": "code",
      "source": [
        "tabla1 = {'Tiempo' : [0, 3, 5, 8, 10, 13],\n",
        "          'Distancia' : [0, 225,  383, 623, 742, 993]}\n",
        "df_2 = pd.DataFrame(tabla1)\n",
        "df_2"
      ],
      "metadata": {
        "id": "O2CUm8_EzUOp",
        "colab": {
          "base_uri": "https://localhost:8080/",
          "height": 237
        },
        "outputId": "7bb4309b-bc7f-4034-cba1-2e16928ee3c0"
      },
      "execution_count": 15,
      "outputs": [
        {
          "output_type": "execute_result",
          "data": {
            "text/plain": [
              "   Tiempo  Distancia\n",
              "0       0          0\n",
              "1       3        225\n",
              "2       5        383\n",
              "3       8        623\n",
              "4      10        742\n",
              "5      13        993"
            ],
            "text/html": [
              "\n",
              "  <div id=\"df-109f481e-8ebd-4ad7-8cb3-7ac20c48cb2c\" class=\"colab-df-container\">\n",
              "    <div>\n",
              "<style scoped>\n",
              "    .dataframe tbody tr th:only-of-type {\n",
              "        vertical-align: middle;\n",
              "    }\n",
              "\n",
              "    .dataframe tbody tr th {\n",
              "        vertical-align: top;\n",
              "    }\n",
              "\n",
              "    .dataframe thead th {\n",
              "        text-align: right;\n",
              "    }\n",
              "</style>\n",
              "<table border=\"1\" class=\"dataframe\">\n",
              "  <thead>\n",
              "    <tr style=\"text-align: right;\">\n",
              "      <th></th>\n",
              "      <th>Tiempo</th>\n",
              "      <th>Distancia</th>\n",
              "    </tr>\n",
              "  </thead>\n",
              "  <tbody>\n",
              "    <tr>\n",
              "      <th>0</th>\n",
              "      <td>0</td>\n",
              "      <td>0</td>\n",
              "    </tr>\n",
              "    <tr>\n",
              "      <th>1</th>\n",
              "      <td>3</td>\n",
              "      <td>225</td>\n",
              "    </tr>\n",
              "    <tr>\n",
              "      <th>2</th>\n",
              "      <td>5</td>\n",
              "      <td>383</td>\n",
              "    </tr>\n",
              "    <tr>\n",
              "      <th>3</th>\n",
              "      <td>8</td>\n",
              "      <td>623</td>\n",
              "    </tr>\n",
              "    <tr>\n",
              "      <th>4</th>\n",
              "      <td>10</td>\n",
              "      <td>742</td>\n",
              "    </tr>\n",
              "    <tr>\n",
              "      <th>5</th>\n",
              "      <td>13</td>\n",
              "      <td>993</td>\n",
              "    </tr>\n",
              "  </tbody>\n",
              "</table>\n",
              "</div>\n",
              "    <div class=\"colab-df-buttons\">\n",
              "\n",
              "  <div class=\"colab-df-container\">\n",
              "    <button class=\"colab-df-convert\" onclick=\"convertToInteractive('df-109f481e-8ebd-4ad7-8cb3-7ac20c48cb2c')\"\n",
              "            title=\"Convert this dataframe to an interactive table.\"\n",
              "            style=\"display:none;\">\n",
              "\n",
              "  <svg xmlns=\"http://www.w3.org/2000/svg\" height=\"24px\" viewBox=\"0 -960 960 960\">\n",
              "    <path d=\"M120-120v-720h720v720H120Zm60-500h600v-160H180v160Zm220 220h160v-160H400v160Zm0 220h160v-160H400v160ZM180-400h160v-160H180v160Zm440 0h160v-160H620v160ZM180-180h160v-160H180v160Zm440 0h160v-160H620v160Z\"/>\n",
              "  </svg>\n",
              "    </button>\n",
              "\n",
              "  <style>\n",
              "    .colab-df-container {\n",
              "      display:flex;\n",
              "      gap: 12px;\n",
              "    }\n",
              "\n",
              "    .colab-df-convert {\n",
              "      background-color: #E8F0FE;\n",
              "      border: none;\n",
              "      border-radius: 50%;\n",
              "      cursor: pointer;\n",
              "      display: none;\n",
              "      fill: #1967D2;\n",
              "      height: 32px;\n",
              "      padding: 0 0 0 0;\n",
              "      width: 32px;\n",
              "    }\n",
              "\n",
              "    .colab-df-convert:hover {\n",
              "      background-color: #E2EBFA;\n",
              "      box-shadow: 0px 1px 2px rgba(60, 64, 67, 0.3), 0px 1px 3px 1px rgba(60, 64, 67, 0.15);\n",
              "      fill: #174EA6;\n",
              "    }\n",
              "\n",
              "    .colab-df-buttons div {\n",
              "      margin-bottom: 4px;\n",
              "    }\n",
              "\n",
              "    [theme=dark] .colab-df-convert {\n",
              "      background-color: #3B4455;\n",
              "      fill: #D2E3FC;\n",
              "    }\n",
              "\n",
              "    [theme=dark] .colab-df-convert:hover {\n",
              "      background-color: #434B5C;\n",
              "      box-shadow: 0px 1px 3px 1px rgba(0, 0, 0, 0.15);\n",
              "      filter: drop-shadow(0px 1px 2px rgba(0, 0, 0, 0.3));\n",
              "      fill: #FFFFFF;\n",
              "    }\n",
              "  </style>\n",
              "\n",
              "    <script>\n",
              "      const buttonEl =\n",
              "        document.querySelector('#df-109f481e-8ebd-4ad7-8cb3-7ac20c48cb2c button.colab-df-convert');\n",
              "      buttonEl.style.display =\n",
              "        google.colab.kernel.accessAllowed ? 'block' : 'none';\n",
              "\n",
              "      async function convertToInteractive(key) {\n",
              "        const element = document.querySelector('#df-109f481e-8ebd-4ad7-8cb3-7ac20c48cb2c');\n",
              "        const dataTable =\n",
              "          await google.colab.kernel.invokeFunction('convertToInteractive',\n",
              "                                                    [key], {});\n",
              "        if (!dataTable) return;\n",
              "\n",
              "        const docLinkHtml = 'Like what you see? Visit the ' +\n",
              "          '<a target=\"_blank\" href=https://colab.research.google.com/notebooks/data_table.ipynb>data table notebook</a>'\n",
              "          + ' to learn more about interactive tables.';\n",
              "        element.innerHTML = '';\n",
              "        dataTable['output_type'] = 'display_data';\n",
              "        await google.colab.output.renderOutput(dataTable, element);\n",
              "        const docLink = document.createElement('div');\n",
              "        docLink.innerHTML = docLinkHtml;\n",
              "        element.appendChild(docLink);\n",
              "      }\n",
              "    </script>\n",
              "  </div>\n",
              "\n",
              "\n",
              "<div id=\"df-de145f8f-d080-4c52-9fab-0a7be2b40f51\">\n",
              "  <button class=\"colab-df-quickchart\" onclick=\"quickchart('df-de145f8f-d080-4c52-9fab-0a7be2b40f51')\"\n",
              "            title=\"Suggest charts\"\n",
              "            style=\"display:none;\">\n",
              "\n",
              "<svg xmlns=\"http://www.w3.org/2000/svg\" height=\"24px\"viewBox=\"0 0 24 24\"\n",
              "     width=\"24px\">\n",
              "    <g>\n",
              "        <path d=\"M19 3H5c-1.1 0-2 .9-2 2v14c0 1.1.9 2 2 2h14c1.1 0 2-.9 2-2V5c0-1.1-.9-2-2-2zM9 17H7v-7h2v7zm4 0h-2V7h2v10zm4 0h-2v-4h2v4z\"/>\n",
              "    </g>\n",
              "</svg>\n",
              "  </button>\n",
              "\n",
              "<style>\n",
              "  .colab-df-quickchart {\n",
              "      --bg-color: #E8F0FE;\n",
              "      --fill-color: #1967D2;\n",
              "      --hover-bg-color: #E2EBFA;\n",
              "      --hover-fill-color: #174EA6;\n",
              "      --disabled-fill-color: #AAA;\n",
              "      --disabled-bg-color: #DDD;\n",
              "  }\n",
              "\n",
              "  [theme=dark] .colab-df-quickchart {\n",
              "      --bg-color: #3B4455;\n",
              "      --fill-color: #D2E3FC;\n",
              "      --hover-bg-color: #434B5C;\n",
              "      --hover-fill-color: #FFFFFF;\n",
              "      --disabled-bg-color: #3B4455;\n",
              "      --disabled-fill-color: #666;\n",
              "  }\n",
              "\n",
              "  .colab-df-quickchart {\n",
              "    background-color: var(--bg-color);\n",
              "    border: none;\n",
              "    border-radius: 50%;\n",
              "    cursor: pointer;\n",
              "    display: none;\n",
              "    fill: var(--fill-color);\n",
              "    height: 32px;\n",
              "    padding: 0;\n",
              "    width: 32px;\n",
              "  }\n",
              "\n",
              "  .colab-df-quickchart:hover {\n",
              "    background-color: var(--hover-bg-color);\n",
              "    box-shadow: 0 1px 2px rgba(60, 64, 67, 0.3), 0 1px 3px 1px rgba(60, 64, 67, 0.15);\n",
              "    fill: var(--button-hover-fill-color);\n",
              "  }\n",
              "\n",
              "  .colab-df-quickchart-complete:disabled,\n",
              "  .colab-df-quickchart-complete:disabled:hover {\n",
              "    background-color: var(--disabled-bg-color);\n",
              "    fill: var(--disabled-fill-color);\n",
              "    box-shadow: none;\n",
              "  }\n",
              "\n",
              "  .colab-df-spinner {\n",
              "    border: 2px solid var(--fill-color);\n",
              "    border-color: transparent;\n",
              "    border-bottom-color: var(--fill-color);\n",
              "    animation:\n",
              "      spin 1s steps(1) infinite;\n",
              "  }\n",
              "\n",
              "  @keyframes spin {\n",
              "    0% {\n",
              "      border-color: transparent;\n",
              "      border-bottom-color: var(--fill-color);\n",
              "      border-left-color: var(--fill-color);\n",
              "    }\n",
              "    20% {\n",
              "      border-color: transparent;\n",
              "      border-left-color: var(--fill-color);\n",
              "      border-top-color: var(--fill-color);\n",
              "    }\n",
              "    30% {\n",
              "      border-color: transparent;\n",
              "      border-left-color: var(--fill-color);\n",
              "      border-top-color: var(--fill-color);\n",
              "      border-right-color: var(--fill-color);\n",
              "    }\n",
              "    40% {\n",
              "      border-color: transparent;\n",
              "      border-right-color: var(--fill-color);\n",
              "      border-top-color: var(--fill-color);\n",
              "    }\n",
              "    60% {\n",
              "      border-color: transparent;\n",
              "      border-right-color: var(--fill-color);\n",
              "    }\n",
              "    80% {\n",
              "      border-color: transparent;\n",
              "      border-right-color: var(--fill-color);\n",
              "      border-bottom-color: var(--fill-color);\n",
              "    }\n",
              "    90% {\n",
              "      border-color: transparent;\n",
              "      border-bottom-color: var(--fill-color);\n",
              "    }\n",
              "  }\n",
              "</style>\n",
              "\n",
              "  <script>\n",
              "    async function quickchart(key) {\n",
              "      const quickchartButtonEl =\n",
              "        document.querySelector('#' + key + ' button');\n",
              "      quickchartButtonEl.disabled = true;  // To prevent multiple clicks.\n",
              "      quickchartButtonEl.classList.add('colab-df-spinner');\n",
              "      try {\n",
              "        const charts = await google.colab.kernel.invokeFunction(\n",
              "            'suggestCharts', [key], {});\n",
              "      } catch (error) {\n",
              "        console.error('Error during call to suggestCharts:', error);\n",
              "      }\n",
              "      quickchartButtonEl.classList.remove('colab-df-spinner');\n",
              "      quickchartButtonEl.classList.add('colab-df-quickchart-complete');\n",
              "    }\n",
              "    (() => {\n",
              "      let quickchartButtonEl =\n",
              "        document.querySelector('#df-de145f8f-d080-4c52-9fab-0a7be2b40f51 button');\n",
              "      quickchartButtonEl.style.display =\n",
              "        google.colab.kernel.accessAllowed ? 'block' : 'none';\n",
              "    })();\n",
              "  </script>\n",
              "</div>\n",
              "\n",
              "  <div id=\"id_e9c8f3ff-81c9-49d8-bad9-0687a696f7ae\">\n",
              "    <style>\n",
              "      .colab-df-generate {\n",
              "        background-color: #E8F0FE;\n",
              "        border: none;\n",
              "        border-radius: 50%;\n",
              "        cursor: pointer;\n",
              "        display: none;\n",
              "        fill: #1967D2;\n",
              "        height: 32px;\n",
              "        padding: 0 0 0 0;\n",
              "        width: 32px;\n",
              "      }\n",
              "\n",
              "      .colab-df-generate:hover {\n",
              "        background-color: #E2EBFA;\n",
              "        box-shadow: 0px 1px 2px rgba(60, 64, 67, 0.3), 0px 1px 3px 1px rgba(60, 64, 67, 0.15);\n",
              "        fill: #174EA6;\n",
              "      }\n",
              "\n",
              "      [theme=dark] .colab-df-generate {\n",
              "        background-color: #3B4455;\n",
              "        fill: #D2E3FC;\n",
              "      }\n",
              "\n",
              "      [theme=dark] .colab-df-generate:hover {\n",
              "        background-color: #434B5C;\n",
              "        box-shadow: 0px 1px 3px 1px rgba(0, 0, 0, 0.15);\n",
              "        filter: drop-shadow(0px 1px 2px rgba(0, 0, 0, 0.3));\n",
              "        fill: #FFFFFF;\n",
              "      }\n",
              "    </style>\n",
              "    <button class=\"colab-df-generate\" onclick=\"generateWithVariable('df_2')\"\n",
              "            title=\"Generate code using this dataframe.\"\n",
              "            style=\"display:none;\">\n",
              "\n",
              "  <svg xmlns=\"http://www.w3.org/2000/svg\" height=\"24px\"viewBox=\"0 0 24 24\"\n",
              "       width=\"24px\">\n",
              "    <path d=\"M7,19H8.4L18.45,9,17,7.55,7,17.6ZM5,21V16.75L18.45,3.32a2,2,0,0,1,2.83,0l1.4,1.43a1.91,1.91,0,0,1,.58,1.4,1.91,1.91,0,0,1-.58,1.4L9.25,21ZM18.45,9,17,7.55Zm-12,3A5.31,5.31,0,0,0,4.9,8.1,5.31,5.31,0,0,0,1,6.5,5.31,5.31,0,0,0,4.9,4.9,5.31,5.31,0,0,0,6.5,1,5.31,5.31,0,0,0,8.1,4.9,5.31,5.31,0,0,0,12,6.5,5.46,5.46,0,0,0,6.5,12Z\"/>\n",
              "  </svg>\n",
              "    </button>\n",
              "    <script>\n",
              "      (() => {\n",
              "      const buttonEl =\n",
              "        document.querySelector('#id_e9c8f3ff-81c9-49d8-bad9-0687a696f7ae button.colab-df-generate');\n",
              "      buttonEl.style.display =\n",
              "        google.colab.kernel.accessAllowed ? 'block' : 'none';\n",
              "\n",
              "      buttonEl.onclick = () => {\n",
              "        google.colab.notebook.generateWithVariable('df_2');\n",
              "      }\n",
              "      })();\n",
              "    </script>\n",
              "  </div>\n",
              "\n",
              "    </div>\n",
              "  </div>\n"
            ],
            "application/vnd.google.colaboratory.intrinsic+json": {
              "type": "dataframe",
              "variable_name": "df_2",
              "summary": "{\n  \"name\": \"df_2\",\n  \"rows\": 6,\n  \"fields\": [\n    {\n      \"column\": \"Tiempo\",\n      \"properties\": {\n        \"dtype\": \"number\",\n        \"std\": 4,\n        \"min\": 0,\n        \"max\": 13,\n        \"num_unique_values\": 6,\n        \"samples\": [\n          0,\n          3,\n          13\n        ],\n        \"semantic_type\": \"\",\n        \"description\": \"\"\n      }\n    },\n    {\n      \"column\": \"Distancia\",\n      \"properties\": {\n        \"dtype\": \"number\",\n        \"std\": 362,\n        \"min\": 0,\n        \"max\": 993,\n        \"num_unique_values\": 6,\n        \"samples\": [\n          0,\n          225,\n          993\n        ],\n        \"semantic_type\": \"\",\n        \"description\": \"\"\n      }\n    }\n  ]\n}"
            }
          },
          "metadata": {},
          "execution_count": 15
        }
      ]
    },
    {
      "cell_type": "markdown",
      "source": [
        "Para conocer la velocidad instantánea, podemos aplicar el método de diferencias finitas, para aproximar una derivada de nuestros datos discretos, ya que no tenemos una función exacta que describa el comportamiento."
      ],
      "metadata": {
        "id": "_O-vvEhZIYN8"
      }
    },
    {
      "cell_type": "code",
      "source": [
        "distancia, tiempo, h = df_2['Distancia'], df_2['Tiempo'], 0.01\n",
        "velocidad = centered_diff(distancia, tiempo, h)\n",
        "v1 = backward_diff(distancia, tiempo, h)\n",
        "v2 = forward_diff(distancia, tiempo, h)\n",
        "# Velocidad instantánea para cada punto\n",
        "print(\"Velocidad instantánea en cada punto:\")\n",
        "for i in range(len(velocidad)):\n",
        "  print(f\"t = {tiempo[i+1]}: {velocidad[i]:.3}\")\n"
      ],
      "metadata": {
        "colab": {
          "base_uri": "https://localhost:8080/"
        },
        "id": "EnglT7woszKc",
        "outputId": "302c7a79-2ead-466e-abf5-19c17937d9ce"
      },
      "execution_count": 16,
      "outputs": [
        {
          "output_type": "stream",
          "name": "stdout",
          "text": [
            "Velocidad instantánea en cada punto:\n",
            "t = 3: 75.0\n",
            "t = 5: 79.0\n",
            "t = 8: 80.0\n",
            "t = 10: 59.5\n",
            "t = 13: 83.7\n"
          ]
        }
      ]
    },
    {
      "cell_type": "code",
      "source": [
        "# Interpolación para estimar la velocidad en t=12\n",
        "interpolacion_distancia = lagrange(tiempo, distancia)\n",
        "x = sp.Symbol('x')\n",
        "p_distancia = sp.Poly(interpolacion_distancia, x)\n",
        "derivada_distancia = sp.diff(p_distancia, x)\n",
        "velocidad_t12 = derivada_distancia.subs({x:12})\n",
        "print(f\"Velocidad en t=12 (usando interpolación): {velocidad_t12:.3}\")"
      ],
      "metadata": {
        "colab": {
          "base_uri": "https://localhost:8080/"
        },
        "id": "Rm-G-w7us2br",
        "outputId": "52dd924a-03c9-4089-844e-d29daee3690d"
      },
      "execution_count": 17,
      "outputs": [
        {
          "output_type": "stream",
          "name": "stdout",
          "text": [
            "Velocidad en t=12 (usando interpolación): 91.7\n"
          ]
        }
      ]
    },
    {
      "cell_type": "code",
      "source": [
        "# Gráfica de distancia y velocidad\n",
        "plt.plot(tiempo, distancia, label='Distancia', marker='o', linestyle='-')\n",
        "plt.plot(tiempo[1:], velocidad, label='Velocidad', marker='x', linestyle='--')\n",
        "plt.axvline(x=12, color='r', linestyle='--', label='t = 12')\n",
        "plt.xlabel('Tiempo')\n",
        "plt.ylabel('Valores')\n",
        "plt.title('Distancia y Velocidad vs. Tiempo')\n",
        "plt.legend()\n",
        "plt.grid(True)\n",
        "plt.show()"
      ],
      "metadata": {
        "id": "D9Q6ZedFIl_G",
        "colab": {
          "base_uri": "https://localhost:8080/",
          "height": 472
        },
        "outputId": "d907405b-127c-4969-dbcd-41dda3600685"
      },
      "execution_count": 18,
      "outputs": [
        {
          "output_type": "display_data",
          "data": {
            "text/plain": [
              "<Figure size 640x480 with 1 Axes>"
            ],
            "image/png": "[encoded data removed]"
          },
          "metadata": {}
        }
      ]
    },
    {
      "cell_type": "markdown",
      "source": [
        "# 3.\n",
        "\n",
        "Para un cohete, se recabaron los datos siguientes de la distancia\n",
        "recorrida $y$ versus el tiempo $t$:\n",
        "\n",
        "![image.png](data:image/png;base64,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)\n",
        "\n",
        "Use diferenciación numérica para estimar la velocidad y aceleración\n",
        "del cohete en cada momento."
      ],
      "metadata": {
        "id": "1cmVXuEKz15i"
      }
    },
    {
      "cell_type": "code",
      "source": [
        "def centered_diff_2(y, x): # Esta funcion no usa los saltos de los pasos\n",
        "    x, y = np.array(x), np.array(y)\n",
        "    return (y[1:] - y[:-1]) / (x[1:] - x[:-1])\n",
        "\n",
        "tabla3 = {'Tiempo': np.array([0, 25, 50, 75, 100, 125]),\n",
        "          'Distancia': np.array( [0, 32, 58, 78, 92, 100])}\n",
        "df_3 = pd.DataFrame(tabla3)\n",
        "\n",
        "tiempo = np.array(df_3['Tiempo'])\n",
        "distancia = np.array(df_3['Distancia'] )\n",
        "\n",
        "df_3"
      ],
      "metadata": {
        "colab": {
          "base_uri": "https://localhost:8080/",
          "height": 237
        },
        "id": "cO1kPmIvHRcr",
        "outputId": "3a297670-8901-4d1a-ad2c-0b0fc49db3ab"
      },
      "execution_count": 19,
      "outputs": [
        {
          "output_type": "execute_result",
          "data": {
            "text/plain": [
              "   Tiempo  Distancia\n",
              "0       0          0\n",
              "1      25         32\n",
              "2      50         58\n",
              "3      75         78\n",
              "4     100         92\n",
              "5     125        100"
            ],
            "text/html": [
              "\n",
              "  <div id=\"df-6786e438-69cf-49fc-9363-88035a7922fa\" class=\"colab-df-container\">\n",
              "    <div>\n",
              "<style scoped>\n",
              "    .dataframe tbody tr th:only-of-type {\n",
              "        vertical-align: middle;\n",
              "    }\n",
              "\n",
              "    .dataframe tbody tr th {\n",
              "        vertical-align: top;\n",
              "    }\n",
              "\n",
              "    .dataframe thead th {\n",
              "        text-align: right;\n",
              "    }\n",
              "</style>\n",
              "<table border=\"1\" class=\"dataframe\">\n",
              "  <thead>\n",
              "    <tr style=\"text-align: right;\">\n",
              "      <th></th>\n",
              "      <th>Tiempo</th>\n",
              "      <th>Distancia</th>\n",
              "    </tr>\n",
              "  </thead>\n",
              "  <tbody>\n",
              "    <tr>\n",
              "      <th>0</th>\n",
              "      <td>0</td>\n",
              "      <td>0</td>\n",
              "    </tr>\n",
              "    <tr>\n",
              "      <th>1</th>\n",
              "      <td>25</td>\n",
              "      <td>32</td>\n",
              "    </tr>\n",
              "    <tr>\n",
              "      <th>2</th>\n",
              "      <td>50</td>\n",
              "      <td>58</td>\n",
              "    </tr>\n",
              "    <tr>\n",
              "      <th>3</th>\n",
              "      <td>75</td>\n",
              "      <td>78</td>\n",
              "    </tr>\n",
              "    <tr>\n",
              "      <th>4</th>\n",
              "      <td>100</td>\n",
              "      <td>92</td>\n",
              "    </tr>\n",
              "    <tr>\n",
              "      <th>5</th>\n",
              "      <td>125</td>\n",
              "      <td>100</td>\n",
              "    </tr>\n",
              "  </tbody>\n",
              "</table>\n",
              "</div>\n",
              "    <div class=\"colab-df-buttons\">\n",
              "\n",
              "  <div class=\"colab-df-container\">\n",
              "    <button class=\"colab-df-convert\" onclick=\"convertToInteractive('df-6786e438-69cf-49fc-9363-88035a7922fa')\"\n",
              "            title=\"Convert this dataframe to an interactive table.\"\n",
              "            style=\"display:none;\">\n",
              "\n",
              "  <svg xmlns=\"http://www.w3.org/2000/svg\" height=\"24px\" viewBox=\"0 -960 960 960\">\n",
              "    <path d=\"M120-120v-720h720v720H120Zm60-500h600v-160H180v160Zm220 220h160v-160H400v160Zm0 220h160v-160H400v160ZM180-400h160v-160H180v160Zm440 0h160v-160H620v160ZM180-180h160v-160H180v160Zm440 0h160v-160H620v160Z\"/>\n",
              "  </svg>\n",
              "    </button>\n",
              "\n",
              "  <style>\n",
              "    .colab-df-container {\n",
              "      display:flex;\n",
              "      gap: 12px;\n",
              "    }\n",
              "\n",
              "    .colab-df-convert {\n",
              "      background-color: #E8F0FE;\n",
              "      border: none;\n",
              "      border-radius: 50%;\n",
              "      cursor: pointer;\n",
              "      display: none;\n",
              "      fill: #1967D2;\n",
              "      height: 32px;\n",
              "      padding: 0 0 0 0;\n",
              "      width: 32px;\n",
              "    }\n",
              "\n",
              "    .colab-df-convert:hover {\n",
              "      background-color: #E2EBFA;\n",
              "      box-shadow: 0px 1px 2px rgba(60, 64, 67, 0.3), 0px 1px 3px 1px rgba(60, 64, 67, 0.15);\n",
              "      fill: #174EA6;\n",
              "    }\n",
              "\n",
              "    .colab-df-buttons div {\n",
              "      margin-bottom: 4px;\n",
              "    }\n",
              "\n",
              "    [theme=dark] .colab-df-convert {\n",
              "      background-color: #3B4455;\n",
              "      fill: #D2E3FC;\n",
              "    }\n",
              "\n",
              "    [theme=dark] .colab-df-convert:hover {\n",
              "      background-color: #434B5C;\n",
              "      box-shadow: 0px 1px 3px 1px rgba(0, 0, 0, 0.15);\n",
              "      filter: drop-shadow(0px 1px 2px rgba(0, 0, 0, 0.3));\n",
              "      fill: #FFFFFF;\n",
              "    }\n",
              "  </style>\n",
              "\n",
              "    <script>\n",
              "      const buttonEl =\n",
              "        document.querySelector('#df-6786e438-69cf-49fc-9363-88035a7922fa button.colab-df-convert');\n",
              "      buttonEl.style.display =\n",
              "        google.colab.kernel.accessAllowed ? 'block' : 'none';\n",
              "\n",
              "      async function convertToInteractive(key) {\n",
              "        const element = document.querySelector('#df-6786e438-69cf-49fc-9363-88035a7922fa');\n",
              "        const dataTable =\n",
              "          await google.colab.kernel.invokeFunction('convertToInteractive',\n",
              "                                                    [key], {});\n",
              "        if (!dataTable) return;\n",
              "\n",
              "        const docLinkHtml = 'Like what you see? Visit the ' +\n",
              "          '<a target=\"_blank\" href=https://colab.research.google.com/notebooks/data_table.ipynb>data table notebook</a>'\n",
              "          + ' to learn more about interactive tables.';\n",
              "        element.innerHTML = '';\n",
              "        dataTable['output_type'] = 'display_data';\n",
              "        await google.colab.output.renderOutput(dataTable, element);\n",
              "        const docLink = document.createElement('div');\n",
              "        docLink.innerHTML = docLinkHtml;\n",
              "        element.appendChild(docLink);\n",
              "      }\n",
              "    </script>\n",
              "  </div>\n",
              "\n",
              "\n",
              "<div id=\"df-89a3c8e9-13f3-491f-835d-c1f421ba5808\">\n",
              "  <button class=\"colab-df-quickchart\" onclick=\"quickchart('df-89a3c8e9-13f3-491f-835d-c1f421ba5808')\"\n",
              "            title=\"Suggest charts\"\n",
              "            style=\"display:none;\">\n",
              "\n",
              "<svg xmlns=\"http://www.w3.org/2000/svg\" height=\"24px\"viewBox=\"0 0 24 24\"\n",
              "     width=\"24px\">\n",
              "    <g>\n",
              "        <path d=\"M19 3H5c-1.1 0-2 .9-2 2v14c0 1.1.9 2 2 2h14c1.1 0 2-.9 2-2V5c0-1.1-.9-2-2-2zM9 17H7v-7h2v7zm4 0h-2V7h2v10zm4 0h-2v-4h2v4z\"/>\n",
              "    </g>\n",
              "</svg>\n",
              "  </button>\n",
              "\n",
              "<style>\n",
              "  .colab-df-quickchart {\n",
              "      --bg-color: #E8F0FE;\n",
              "      --fill-color: #1967D2;\n",
              "      --hover-bg-color: #E2EBFA;\n",
              "      --hover-fill-color: #174EA6;\n",
              "      --disabled-fill-color: #AAA;\n",
              "      --disabled-bg-color: #DDD;\n",
              "  }\n",
              "\n",
              "  [theme=dark] .colab-df-quickchart {\n",
              "      --bg-color: #3B4455;\n",
              "      --fill-color: #D2E3FC;\n",
              "      --hover-bg-color: #434B5C;\n",
              "      --hover-fill-color: #FFFFFF;\n",
              "      --disabled-bg-color: #3B4455;\n",
              "      --disabled-fill-color: #666;\n",
              "  }\n",
              "\n",
              "  .colab-df-quickchart {\n",
              "    background-color: var(--bg-color);\n",
              "    border: none;\n",
              "    border-radius: 50%;\n",
              "    cursor: pointer;\n",
              "    display: none;\n",
              "    fill: var(--fill-color);\n",
              "    height: 32px;\n",
              "    padding: 0;\n",
              "    width: 32px;\n",
              "  }\n",
              "\n",
              "  .colab-df-quickchart:hover {\n",
              "    background-color: var(--hover-bg-color);\n",
              "    box-shadow: 0 1px 2px rgba(60, 64, 67, 0.3), 0 1px 3px 1px rgba(60, 64, 67, 0.15);\n",
              "    fill: var(--button-hover-fill-color);\n",
              "  }\n",
              "\n",
              "  .colab-df-quickchart-complete:disabled,\n",
              "  .colab-df-quickchart-complete:disabled:hover {\n",
              "    background-color: var(--disabled-bg-color);\n",
              "    fill: var(--disabled-fill-color);\n",
              "    box-shadow: none;\n",
              "  }\n",
              "\n",
              "  .colab-df-spinner {\n",
              "    border: 2px solid var(--fill-color);\n",
              "    border-color: transparent;\n",
              "    border-bottom-color: var(--fill-color);\n",
              "    animation:\n",
              "      spin 1s steps(1) infinite;\n",
              "  }\n",
              "\n",
              "  @keyframes spin {\n",
              "    0% {\n",
              "      border-color: transparent;\n",
              "      border-bottom-color: var(--fill-color);\n",
              "      border-left-color: var(--fill-color);\n",
              "    }\n",
              "    20% {\n",
              "      border-color: transparent;\n",
              "      border-left-color: var(--fill-color);\n",
              "      border-top-color: var(--fill-color);\n",
              "    }\n",
              "    30% {\n",
              "      border-color: transparent;\n",
              "      border-left-color: var(--fill-color);\n",
              "      border-top-color: var(--fill-color);\n",
              "      border-right-color: var(--fill-color);\n",
              "    }\n",
              "    40% {\n",
              "      border-color: transparent;\n",
              "      border-right-color: var(--fill-color);\n",
              "      border-top-color: var(--fill-color);\n",
              "    }\n",
              "    60% {\n",
              "      border-color: transparent;\n",
              "      border-right-color: var(--fill-color);\n",
              "    }\n",
              "    80% {\n",
              "      border-color: transparent;\n",
              "      border-right-color: var(--fill-color);\n",
              "      border-bottom-color: var(--fill-color);\n",
              "    }\n",
              "    90% {\n",
              "      border-color: transparent;\n",
              "      border-bottom-color: var(--fill-color);\n",
              "    }\n",
              "  }\n",
              "</style>\n",
              "\n",
              "  <script>\n",
              "    async function quickchart(key) {\n",
              "      const quickchartButtonEl =\n",
              "        document.querySelector('#' + key + ' button');\n",
              "      quickchartButtonEl.disabled = true;  // To prevent multiple clicks.\n",
              "      quickchartButtonEl.classList.add('colab-df-spinner');\n",
              "      try {\n",
              "        const charts = await google.colab.kernel.invokeFunction(\n",
              "            'suggestCharts', [key], {});\n",
              "      } catch (error) {\n",
              "        console.error('Error during call to suggestCharts:', error);\n",
              "      }\n",
              "      quickchartButtonEl.classList.remove('colab-df-spinner');\n",
              "      quickchartButtonEl.classList.add('colab-df-quickchart-complete');\n",
              "    }\n",
              "    (() => {\n",
              "      let quickchartButtonEl =\n",
              "        document.querySelector('#df-89a3c8e9-13f3-491f-835d-c1f421ba5808 button');\n",
              "      quickchartButtonEl.style.display =\n",
              "        google.colab.kernel.accessAllowed ? 'block' : 'none';\n",
              "    })();\n",
              "  </script>\n",
              "</div>\n",
              "\n",
              "  <div id=\"id_3a618e1c-e9cf-42a4-83fd-0f8182775613\">\n",
              "    <style>\n",
              "      .colab-df-generate {\n",
              "        background-color: #E8F0FE;\n",
              "        border: none;\n",
              "        border-radius: 50%;\n",
              "        cursor: pointer;\n",
              "        display: none;\n",
              "        fill: #1967D2;\n",
              "        height: 32px;\n",
              "        padding: 0 0 0 0;\n",
              "        width: 32px;\n",
              "      }\n",
              "\n",
              "      .colab-df-generate:hover {\n",
              "        background-color: #E2EBFA;\n",
              "        box-shadow: 0px 1px 2px rgba(60, 64, 67, 0.3), 0px 1px 3px 1px rgba(60, 64, 67, 0.15);\n",
              "        fill: #174EA6;\n",
              "      }\n",
              "\n",
              "      [theme=dark] .colab-df-generate {\n",
              "        background-color: #3B4455;\n",
              "        fill: #D2E3FC;\n",
              "      }\n",
              "\n",
              "      [theme=dark] .colab-df-generate:hover {\n",
              "        background-color: #434B5C;\n",
              "        box-shadow: 0px 1px 3px 1px rgba(0, 0, 0, 0.15);\n",
              "        filter: drop-shadow(0px 1px 2px rgba(0, 0, 0, 0.3));\n",
              "        fill: #FFFFFF;\n",
              "      }\n",
              "    </style>\n",
              "    <button class=\"colab-df-generate\" onclick=\"generateWithVariable('df_3')\"\n",
              "            title=\"Generate code using this dataframe.\"\n",
              "            style=\"display:none;\">\n",
              "\n",
              "  <svg xmlns=\"http://www.w3.org/2000/svg\" height=\"24px\"viewBox=\"0 0 24 24\"\n",
              "       width=\"24px\">\n",
              "    <path d=\"M7,19H8.4L18.45,9,17,7.55,7,17.6ZM5,21V16.75L18.45,3.32a2,2,0,0,1,2.83,0l1.4,1.43a1.91,1.91,0,0,1,.58,1.4,1.91,1.91,0,0,1-.58,1.4L9.25,21ZM18.45,9,17,7.55Zm-12,3A5.31,5.31,0,0,0,4.9,8.1,5.31,5.31,0,0,0,1,6.5,5.31,5.31,0,0,0,4.9,4.9,5.31,5.31,0,0,0,6.5,1,5.31,5.31,0,0,0,8.1,4.9,5.31,5.31,0,0,0,12,6.5,5.46,5.46,0,0,0,6.5,12Z\"/>\n",
              "  </svg>\n",
              "    </button>\n",
              "    <script>\n",
              "      (() => {\n",
              "      const buttonEl =\n",
              "        document.querySelector('#id_3a618e1c-e9cf-42a4-83fd-0f8182775613 button.colab-df-generate');\n",
              "      buttonEl.style.display =\n",
              "        google.colab.kernel.accessAllowed ? 'block' : 'none';\n",
              "\n",
              "      buttonEl.onclick = () => {\n",
              "        google.colab.notebook.generateWithVariable('df_3');\n",
              "      }\n",
              "      })();\n",
              "    </script>\n",
              "  </div>\n",
              "\n",
              "    </div>\n",
              "  </div>\n"
            ],
            "application/vnd.google.colaboratory.intrinsic+json": {
              "type": "dataframe",
              "variable_name": "df_3",
              "summary": "{\n  \"name\": \"df_3\",\n  \"rows\": 6,\n  \"fields\": [\n    {\n      \"column\": \"Tiempo\",\n      \"properties\": {\n        \"dtype\": \"number\",\n        \"std\": 46,\n        \"min\": 0,\n        \"max\": 125,\n        \"num_unique_values\": 6,\n        \"samples\": [\n          0,\n          25,\n          125\n        ],\n        \"semantic_type\": \"\",\n        \"description\": \"\"\n      }\n    },\n    {\n      \"column\": \"Distancia\",\n      \"properties\": {\n        \"dtype\": \"number\",\n        \"std\": 38,\n        \"min\": 0,\n        \"max\": 100,\n        \"num_unique_values\": 6,\n        \"samples\": [\n          0,\n          32,\n          100\n        ],\n        \"semantic_type\": \"\",\n        \"description\": \"\"\n      }\n    }\n  ]\n}"
            }
          },
          "metadata": {},
          "execution_count": 19
        }
      ]
    },
    {
      "source": [
        "velocidad = np.gradient(distancia, tiempo)\n",
        "aceleracion = np.gradient(velocidad, tiempo)\n",
        "\n",
        "for i, v in enumerate(velocidad):\n",
        "    print(f\"t =  {tiempo[i]} s, v = {v:.4f} m/s\")\n",
        "\n",
        "print(\"\\nAceleración (a) en cada punto (m/s²):\")\n",
        "for i, a in enumerate(aceleracion):\n",
        "    print(f\"t =  {tiempo[i]} s, a = {a:.4f} m/s²\")"
      ],
      "cell_type": "code",
      "metadata": {
        "colab": {
          "base_uri": "https://localhost:8080/"
        },
        "id": "UuVm5y3_JdTW",
        "outputId": "9e605a53-ae24-45b6-db3d-edc218882cb7"
      },
      "execution_count": 23,
      "outputs": [
        {
          "output_type": "stream",
          "name": "stdout",
          "text": [
            "t =  0 s, v = 1.2800 m/s\n",
            "t =  25 s, v = 1.1600 m/s\n",
            "t =  50 s, v = 0.9200 m/s\n",
            "t =  75 s, v = 0.6800 m/s\n",
            "t =  100 s, v = 0.4400 m/s\n",
            "t =  125 s, v = 0.3200 m/s\n",
            "\n",
            "Aceleración (a) en cada punto (m/s²):\n",
            "t =  0 s, a = -0.0048 m/s²\n",
            "t =  25 s, a = -0.0072 m/s²\n",
            "t =  50 s, a = -0.0096 m/s²\n",
            "t =  75 s, a = -0.0096 m/s²\n",
            "t =  100 s, a = -0.0072 m/s²\n",
            "t =  125 s, a = -0.0048 m/s²\n"
          ]
        }
      ]
    },
    {
      "cell_type": "code",
      "source": [
        "plt.plot(tiempo, velocidad,marker=\"x\", linestyle=\"--\", color=\"blue\")\n",
        "\n",
        "plt.xlabel(\"Tiempo (s)\")\n",
        "plt.ylabel(\"Velocidad (m/s)\")\n",
        "plt.title(\"Velocidad vs. Tiempo\")\n",
        "plt.grid(True)"
      ],
      "metadata": {
        "colab": {
          "base_uri": "https://localhost:8080/",
          "height": 472
        },
        "id": "nieH_2baIU1M",
        "outputId": "60dcf884-3eea-49c6-c036-f6838d9de610"
      },
      "execution_count": 24,
      "outputs": [
        {
          "output_type": "display_data",
          "data": {
            "text/plain": [
              "<Figure size 640x480 with 1 Axes>"
            ],
            "image/png": "[encoded data removed]"
          },
          "metadata": {}
        }
      ]
    },
    {
      "cell_type": "code",
      "source": [
        "plt.plot(tiempo, aceleracion, marker=\"o\", linestyle=\"-\", color=\"red\")\n",
        "\n",
        "plt.xlabel(\"Distancia (m)\")\n",
        "plt.ylabel(\"Aceleración (m/s²)\")\n",
        "plt.title(\"Aceleración vs. Tiempo\")\n",
        "plt.grid(True)"
      ],
      "metadata": {
        "colab": {
          "base_uri": "https://localhost:8080/",
          "height": 472
        },
        "id": "_bNjp3nr0ZMt",
        "outputId": "4ab7bc85-513c-405c-9864-e4f56a0c7acf"
      },
      "execution_count": 26,
      "outputs": [
        {
          "output_type": "display_data",
          "data": {
            "text/plain": [
              "<Figure size 640x480 with 1 Axes>"
            ],
            "image/png": "[encoded data removed]"
          },
          "metadata": {}
        }
      ]
    },
    {
      "cell_type": "markdown",
      "source": [
        "#4.\n",
        "El potencial eléctrico de un anillo de radio $R$, en su parte superior $z$ viene dado por:\n",
        "\n",
        "\n",
        "\\begin{equation}\n",
        "V = \\frac{kq_{tot}}{\\sqrt{z^2+R^2}}\n",
        "\\end{equation}\n",
        "\n",
        "Calcule el campo eléctrico para $z>0$ y $R=0.1$ mm. Reescale el problema en unidades de $kq_{tot}$ empleando:\n",
        "\n",
        "**a.** La librearia sympy.\n",
        "\n",
        "**b.** Calcular el campo en el punto  $z = 0.1$ mm empleando el metodo np.grad\n",
        "\n",
        "**c.** Calcular el campo para diferentes valores de $z$ con $z>0$,  empleando np.grad Construya un gráfico de $E$ vs $z$.\n",
        "\n",
        "---\n",
        "Recuerde que la componente $z$ del campo electrico esta dado por:\n",
        "\n",
        "\\begin{equation}\n",
        "E_z = - \\frac{\\partial V}{\\partial z}\n",
        "\\end{equation}"
      ],
      "metadata": {
        "id": "4skyb4Xx3nSA"
      }
    },
    {
      "cell_type": "code",
      "source": [
        "r = 0.0001 # metros\n",
        "z, kqtot, R = sp.symbols('z kqtot R')\n",
        "\n",
        "V = kqtot / sp.sqrt(z**2 + R**2) # Potencial eléctrico\n",
        "V"
      ],
      "metadata": {
        "id": "Nkkac88u3m09",
        "colab": {
          "base_uri": "https://localhost:8080/",
          "height": 56
        },
        "outputId": "d198fe46-d9c1-4576-eb95-1966ea47da0b"
      },
      "execution_count": 27,
      "outputs": [
        {
          "output_type": "execute_result",
          "data": {
            "text/plain": [
              "kqtot/sqrt(R**2 + z**2)"
            ],
            "text/latex": "$\\displaystyle \\frac{kqtot}{\\sqrt{R^{2} + z^{2}}}$"
          },
          "metadata": {},
          "execution_count": 27
        }
      ]
    },
    {
      "cell_type": "code",
      "source": [
        "V_rescaled = V/kqtot\n",
        "V_rescaled"
      ],
      "metadata": {
        "colab": {
          "base_uri": "https://localhost:8080/",
          "height": 55
        },
        "id": "QjGg2TYf1LUX",
        "outputId": "e571f334-e9e5-42b8-c6e4-e848b1e4a582"
      },
      "execution_count": 28,
      "outputs": [
        {
          "output_type": "execute_result",
          "data": {
            "text/plain": [
              "1/sqrt(R**2 + z**2)"
            ],
            "text/latex": "$\\displaystyle \\frac{1}{\\sqrt{R^{2} + z^{2}}}$"
          },
          "metadata": {},
          "execution_count": 28
        }
      ]
    },
    {
      "cell_type": "code",
      "source": [
        "E_z_sympy = -sp.diff(V, z) # Campo eléctrico mediante sympy\n",
        "E_z_sympy"
      ],
      "metadata": {
        "colab": {
          "base_uri": "https://localhost:8080/",
          "height": 61
        },
        "id": "9QpXsAI1jqhB",
        "outputId": "da2e5db3-b269-43fd-b16c-75a8df62575a"
      },
      "execution_count": 29,
      "outputs": [
        {
          "output_type": "execute_result",
          "data": {
            "text/plain": [
              "kqtot*z/(R**2 + z**2)**(3/2)"
            ],
            "text/latex": "$\\displaystyle \\frac{kqtot z}{\\left(R^{2} + z^{2}\\right)^{\\frac{3}{2}}}$"
          },
          "metadata": {},
          "execution_count": 29
        }
      ]
    },
    {
      "cell_type": "code",
      "source": [
        "# b\n",
        "z_points = np.linspace(0.0001, 0.001, 10000)\n",
        "V_func = sp.lambdify([z, R], V_rescaled, 'numpy')\n",
        "V_vals = V_func(z_points, r)\n",
        "E_vals = -np.gradient(V_vals, z_points)\n",
        "E_at_z_val = np.interp(r, z_points, E_vals) # calculo del campo en un punto específico con interpolación\n",
        "print(f\"Campo eléctrico (Ez) en z = {r} m usando np.gradient: \\n {E_vals[0]:.3}\")"
      ],
      "metadata": {
        "colab": {
          "base_uri": "https://localhost:8080/"
        },
        "id": "zF9nr6wJ1Wrs",
        "outputId": "64171c98-52e3-43b3-c74e-b741d8720e3e"
      },
      "execution_count": 32,
      "outputs": [
        {
          "output_type": "stream",
          "name": "stdout",
          "text": [
            "Campo eléctrico (Ez) en z = 0.0001 m usando np.gradient: \n",
            " 3.53e+07\n"
          ]
        }
      ]
    },
    {
      "cell_type": "code",
      "source": [
        "# c\n",
        "z_values = np.linspace(0.00001, 0.001, 10000)  # Valores de z > 0\n",
        "V_values = V_func(z_values, r)\n",
        "E_values = -np.gradient(V_values, z_values)\n",
        "\n",
        "plt.figure()\n",
        "plt.plot(z_values, E_values, color = \"orange\")\n",
        "plt.xlabel(\"Z (m)\")\n",
        "plt.title(\"Campo Eléctrico (Ez) vs. z\")\n",
        "plt.grid(True)"
      ],
      "metadata": {
        "colab": {
          "base_uri": "https://localhost:8080/",
          "height": 472
        },
        "id": "f-PrniLG2QG9",
        "outputId": "a8fd209b-98d2-48ae-a638-73312513ff52"
      },
      "execution_count": 31,
      "outputs": [
        {
          "output_type": "display_data",
          "data": {
            "text/plain": [
              "<Figure size 640x480 with 1 Axes>"
            ],
            "image/png": "[encoded data removed]"
          },
          "metadata": {}
        }
      ]
    }
  ]
}