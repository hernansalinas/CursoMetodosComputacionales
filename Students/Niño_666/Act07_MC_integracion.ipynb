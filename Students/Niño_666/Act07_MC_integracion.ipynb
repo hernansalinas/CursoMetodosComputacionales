{
  "nbformat": 4,
  "nbformat_minor": 0,
  "metadata": {
    "colab": {
      "provenance": []
    },
    "kernelspec": {
      "name": "python3",
      "display_name": "Python 3"
    },
    "language_info": {
      "name": "python"
    }
  },
  "cells": [
    {
      "cell_type": "code",
      "execution_count": 3,
      "metadata": {
        "id": "rZuc8vXcWuxy"
      },
      "outputs": [],
      "source": [
        "#@title Librerias\n",
        "import numpy as np\n",
        "import matplotlib.pyplot as plt\n",
        "import pandas as pd\n",
        "import sympy as sp\n",
        "from scipy.integrate import simpson, romberg, trapezoid"
      ]
    },
    {
      "cell_type": "code",
      "source": [
        "import warnings\n",
        "warnings.filterwarnings('ignore')"
      ],
      "metadata": {
        "id": "s2FObhr5N5-l"
      },
      "execution_count": 4,
      "outputs": []
    },
    {
      "cell_type": "markdown",
      "source": [
        "# Actividad 07: Integración\n",
        "\n",
        "---\n",
        "### Profesor: Juan Marcos Marín\n",
        "### Nombre: Soleil Dayana Niño Murcia\n",
        "*Métodos computacionales 2024-II*\n",
        "\n",
        "---"
      ],
      "metadata": {
        "id": "MGwGfceuWxy3"
      }
    },
    {
      "cell_type": "markdown",
      "source": [
        "#1\n",
        "* Implemente una función para el **método de integración de Romberg** definiendo un límite de tolerancia de 1e-8 y/o un máximo de iteraciones de 10.\n",
        "\n"
      ],
      "metadata": {
        "id": "_qpgPAtHNgPB"
      }
    },
    {
      "cell_type": "code",
      "source": [
        "def MyRomberg(f, a, b, eps = 1e-8, max_iter=10):\n",
        "  R = np.zeros((max_iter, max_iter))\n",
        "\n",
        "  n = 1\n",
        "  h = b - a\n",
        "  R[0, 0] = (h / 2) * (f(a) + f(b))\n",
        "\n",
        "  for i in range(1, max_iter):\n",
        "    n *= 2\n",
        "    h /= 2\n",
        "    suma = sum(f(a + (k - 0.5) * h) for k in range(1, n, 2))\n",
        "    R[i, 0] = 0.5 * R[i-1, 0] + h * suma\n",
        "\n",
        "    for j in range(1, i + 1):\n",
        "      R[i, j] = R[i, j-1] + (R[i, j-1] - R[i-1, j-1]) / (4**j- 1)\n",
        "\n",
        "    if abs(R[i, i] - R[i-1, i-1]) < eps:\n",
        "      return R[i, i], R[:i+1, :i+1]\n",
        "\n",
        "  return R[i, i], R[:i+1, :i+1]"
      ],
      "metadata": {
        "id": "LOLHSemcOmPC"
      },
      "execution_count": 13,
      "outputs": []
    },
    {
      "cell_type": "markdown",
      "source": [
        "\n",
        "* Encuentre la integral para\n",
        "\n",
        "$$\\int_0^{\\pi/4} dx\\, e^{3x}\\cdot \\sin(x)$$"
      ],
      "metadata": {
        "id": "jDIlzwkRIWD_"
      }
    },
    {
      "cell_type": "code",
      "source": [
        "f = lambda x: np.exp(3*x)*np.sin(x) # supongo que el profe se equivocó con la posicion del diferencial, yo integro todo\n",
        "eps = 1e-8"
      ],
      "metadata": {
        "id": "Y0nXXFcnNe2R"
      },
      "execution_count": 14,
      "outputs": []
    },
    {
      "cell_type": "code",
      "source": [
        "i = MyRomberg(f, 0, np.pi/4, eps)\n",
        "i = i[0]"
      ],
      "metadata": {
        "id": "zgjE6q4t7WWg"
      },
      "execution_count": 19,
      "outputs": []
    },
    {
      "cell_type": "code",
      "source": [
        "print('La integral evaluada da como resultado:', i.round(3))"
      ],
      "metadata": {
        "colab": {
          "base_uri": "https://localhost:8080/"
        },
        "id": "5Jr8lFf0Q9c2",
        "outputId": "40b8106b-388d-4f50-9815-327e39e7ad4c"
      },
      "execution_count": 20,
      "outputs": [
        {
          "output_type": "stream",
          "name": "stdout",
          "text": [
            "La integral evaluada da como resultado: 1.576\n"
          ]
        }
      ]
    },
    {
      "cell_type": "markdown",
      "source": [
        "* Imprima su resultado y compare los valores dados por `scipy.integrate.romberg`"
      ],
      "metadata": {
        "id": "sK0XFrwBOg16"
      }
    },
    {
      "cell_type": "code",
      "source": [
        "a, b = 0, np.pi/4\n",
        "i_scipy = romberg(f, a, b)\n",
        "print(f'Integral de la función mediante scipy.integrate.romberg:', i_scipy.round(3))"
      ],
      "metadata": {
        "colab": {
          "base_uri": "https://localhost:8080/"
        },
        "id": "KaRYXvEMNNsL",
        "outputId": "6b040005-bb7a-4714-de44-a47196dc0178"
      },
      "execution_count": 21,
      "outputs": [
        {
          "output_type": "stream",
          "name": "stdout",
          "text": [
            "Integral de la función mediante scipy.integrate.romberg: 1.592\n"
          ]
        }
      ]
    },
    {
      "cell_type": "code",
      "source": [
        "error_romberg = abs((i - i_scipy)/i)\n",
        "print(f'Error relativo:', error_romberg)"
      ],
      "metadata": {
        "colab": {
          "base_uri": "https://localhost:8080/"
        },
        "id": "cT63cBou7tBI",
        "outputId": "d7327f74-b431-409f-bdb2-ac647a706c54"
      },
      "execution_count": 22,
      "outputs": [
        {
          "output_type": "stream",
          "name": "stdout",
          "text": [
            "Error relativo: 0.010188950094410966\n"
          ]
        }
      ]
    },
    {
      "cell_type": "markdown",
      "source": [
        "* Finalmente, encuentre el valor del error, hallando el valor exacto usando `sympy`\n"
      ],
      "metadata": {
        "id": "hWcRi9OySvuZ"
      }
    },
    {
      "cell_type": "code",
      "source": [
        "x = sp.Symbol('x')\n",
        "i_sympy = sp.integrate(sp.exp(3*x)*sp.sin(x), (x, 0, np.pi/4))\n",
        "print(f'Integral de la función mediante sympy:', i_sympy.round(3))\n",
        "\n",
        "error_sympy = abs((i - i_sympy)/i)\n",
        "print(f'Error relativo:', error_sympy)"
      ],
      "metadata": {
        "colab": {
          "base_uri": "https://localhost:8080/"
        },
        "id": "Tb-7tr5MSwiu",
        "outputId": "aa442b65-b418-4a6b-c0f5-a628149727a9"
      },
      "execution_count": 23,
      "outputs": [
        {
          "output_type": "stream",
          "name": "stdout",
          "text": [
            "Integral de la función mediante sympy: 1.592\n",
            "Error relativo: 0.0101889500944530\n"
          ]
        }
      ]
    },
    {
      "cell_type": "markdown",
      "source": [
        "Ambos métodos, tanto el de simpy como de scipy presentan errores del mismo orden de magnitud."
      ],
      "metadata": {
        "id": "3k9sI2tA8K_J"
      }
    },
    {
      "cell_type": "markdown",
      "source": [
        "#2\n",
        "\n",
        "* Usando los *métodos trapezoidal compuesto*, *simpson 1/3* y de *medio punto* encuentre la siguiente integral,\n",
        "\n",
        "$$\\int_e^{1+e} dx\\, \\frac{1}{x\\ln x}$$\n",
        "\n",
        "* Luego, haga un estudio de la convergencia en términos del valor de $h$ o de los sub-intervalos de la función. ¿Cuál es mejor?\n"
      ],
      "metadata": {
        "id": "Db9dUFTSQcLY"
      }
    },
    {
      "cell_type": "code",
      "source": [
        "f = lambda x: 1/(x*np.log(x))\n",
        "a, b = np.e, 1+np.e"
      ],
      "metadata": {
        "id": "uEPXP21uQc_o"
      },
      "execution_count": 24,
      "outputs": []
    },
    {
      "cell_type": "code",
      "source": [
        "# TRAPEZOIDAL COMPUESTO\n",
        "nx = 10\n",
        "x = np.linspace(a, b, nx+1)\n",
        "y = f(x)\n",
        "Z = trapezoid(y, x)\n",
        "print(f'Integral de la función mediante trapezoidal compuesto:', Z.round(5))"
      ],
      "metadata": {
        "colab": {
          "base_uri": "https://localhost:8080/"
        },
        "id": "z3wgEz4O9TOX",
        "outputId": "53c55494-c608-4b18-9d3b-0ae8ffefc8ce"
      },
      "execution_count": 25,
      "outputs": [
        {
          "output_type": "stream",
          "name": "stdout",
          "text": [
            "Integral de la función mediante trapezoidal compuesto: 0.27266\n"
          ]
        }
      ]
    },
    {
      "cell_type": "code",
      "source": [
        "def find_h(f, a, b, tol, metodo_de_integracion):\n",
        "  n = 2\n",
        "  h = (b-a)/n\n",
        "  x = np.linspace(a, b, n+1)\n",
        "  y = f(x)\n",
        "  integral = 0\n",
        "\n",
        "  while True:\n",
        "    i_new = metodo_de_integracion(y, x)\n",
        "\n",
        "    if abs(integral-i_new) < tol:\n",
        "      return i_new, n, h\n",
        "    n *=2\n",
        "    h = (b-a)/n\n",
        "    x = np.linspace(a, b, n+1)\n",
        "    y = f(x)\n",
        "    integral = i_new\n",
        "    return i_new, n, h"
      ],
      "metadata": {
        "id": "rO3Y5C8G_6SI"
      },
      "execution_count": 26,
      "outputs": []
    },
    {
      "cell_type": "code",
      "source": [
        "ih_trapezoid, n , h = find_h(f,a,b, 1e-5, trapezoid)\n",
        "print(f'Integral de la función mediante trapezoidal compuesto:', ih_trapezoid.round(4) , 'con h =', h)"
      ],
      "metadata": {
        "colab": {
          "base_uri": "https://localhost:8080/"
        },
        "id": "SWzduc4HDloo",
        "outputId": "a294f0ab-29b8-473d-bd93-e4cf6ded8f88"
      },
      "execution_count": 32,
      "outputs": [
        {
          "output_type": "stream",
          "name": "stdout",
          "text": [
            "Integral de la función mediante trapezoidal compuesto: 0.2761 con h = 0.25\n"
          ]
        }
      ]
    },
    {
      "cell_type": "code",
      "source": [
        "# Simpson 1/3\n",
        "\n",
        "def simpson13(f, a, b, n): # Tomado de los apuntes de clase\n",
        "  '''\n",
        "  f: función a integrar\n",
        "  a: límite inferior\n",
        "  b: límite superior\n",
        "  n: número de intervalos\n",
        "  return: valor de la integral\n",
        "  '''\n",
        "  h = (b - a) / n\n",
        "  integral = (f(a) + f(b))\n",
        "  # Suma de los términos impares\n",
        "  for i in range(1, n, 2):\n",
        "    x_i = a + i * h\n",
        "    integral += 4 * f(x_i)\n",
        "  # Suma de los términos pares\n",
        "  for i in range(2, n, 2):\n",
        "    x_i = a + i * h\n",
        "    integral += 2 * f(x_i)\n",
        "  return integral * h/3"
      ],
      "metadata": {
        "id": "tbc1Zn3F9X3w"
      },
      "execution_count": 35,
      "outputs": []
    },
    {
      "cell_type": "code",
      "source": [
        "n_simp = 12  # número de áreas a sumar (debe ser par para Simpson).\n",
        "\n",
        "result = simpson13(f, a, b, n)\n",
        "h_simpson = (b-a)/n\n",
        "print(\"Integral por Simpson 1/3\", result.round(3), 'con h=', h_simpson)"
      ],
      "metadata": {
        "colab": {
          "base_uri": "https://localhost:8080/"
        },
        "id": "QwnTaqJHEcSQ",
        "outputId": "0d48847a-d6f6-4758-f8fa-438fd481b221"
      },
      "execution_count": 49,
      "outputs": [
        {
          "output_type": "stream",
          "name": "stdout",
          "text": [
            "Integral por Simpson 1/3 0.273 con h= 0.25\n"
          ]
        }
      ]
    },
    {
      "cell_type": "code",
      "source": [
        "# MEDIO PUNTO\n",
        "def punto_medio(f,a,b,n):\n",
        "  h = (b-a)/n\n",
        "  r = 0\n",
        "  for i in range(0, n):\n",
        "    x_i = a + i * h\n",
        "    r += f(x_i + h/2)\n",
        "  return h * r\n",
        "\n",
        "print(f\"Integral por punto medio {punto_medio(f, a, b, 10):.3f}\")"
      ],
      "metadata": {
        "id": "oUB9KemN9Z7H",
        "colab": {
          "base_uri": "https://localhost:8080/"
        },
        "outputId": "906c6046-07b0-4e28-ab49-5455481bedd3"
      },
      "execution_count": 44,
      "outputs": [
        {
          "output_type": "stream",
          "name": "stdout",
          "text": [
            "Integral por punto medio 0.272\n"
          ]
        }
      ]
    },
    {
      "cell_type": "markdown",
      "source": [
        "#3\n",
        "Usando la siguiente función:\n",
        "\n",
        "\n",
        "\n",
        "```python\n",
        "def gauss_quad_standard(func, n):\n",
        "    \"\"\"\n",
        "    Calcula la integral de una función en el intervalo [-1, 1]\n",
        "    utilizando cuadratura gaussiana.\n",
        "\n",
        "    Parameters:\n",
        "    - func: La función a integrar.\n",
        "    - n: Número de puntos para la cuadratura (grado del polinomio de Legendre).\n",
        "\n",
        "    Returns:\n",
        "    - Aproximación de la integral.\n",
        "    \"\"\"\n",
        "    # Obtener raíces y pesos del polinomio de Legendre\n",
        "    x, w = roots_legendre(n)\n",
        "\n",
        "    # Evaluar la suma ponderada\n",
        "    integral = np.sum(w * func(x))\n",
        "    return integral\n",
        "```\n",
        "\n",
        "Modifique la función `gauss_quad_standard` de forma tal que no este restringida para $[-1,1]$ sino para cualquier intervalo $[a,b]$. Luego, encuentre la integral del *punto 2*.\n",
        "\n",
        "\n",
        "\n"
      ],
      "metadata": {
        "id": "3fLo8sm8RqA0"
      }
    },
    {
      "source": [
        "from scipy.special import roots_legendre"
      ],
      "cell_type": "code",
      "metadata": {
        "id": "dk_y1hkpEbRP"
      },
      "execution_count": 50,
      "outputs": []
    },
    {
      "cell_type": "code",
      "source": [
        "def gauss_quad_standard(func, a, b, n):\n",
        "    \"\"\"\n",
        "    Calcula la integral de una función\n",
        "    utilizando cuadratura gaussiana.\n",
        "\n",
        "    Parameters:\n",
        "    - func: La función a integrar.\n",
        "    - n: Número de puntos para la cuadratura (grado del polinomio de Legendre).\n",
        "\n",
        "    Returns:\n",
        "    - Aproximación de la integral.\n",
        "    \"\"\"\n",
        "    import sympy as sp\n",
        "    x = sp.Symbol('x')\n",
        "\n",
        "    # Obtener raíces y pesos del polinomio de Legendre\n",
        "    xi, w = roots_legendre(n)\n",
        "\n",
        "    func_ = func(np.abs((b-a)/2*x + (a+b)/2))\n",
        "    f = sp.lambdify(x, func_)\n",
        "\n",
        "    # Evaluar la suma ponderada\n",
        "    integral = (b-a)/2 * np.sum(w * f(xi))\n",
        "    return integral"
      ],
      "metadata": {
        "id": "0XQga3HfSE9n"
      },
      "execution_count": 51,
      "outputs": []
    },
    {
      "cell_type": "code",
      "source": [
        "# Hallando la integral del segundo punto\n",
        "f3 = lambda x: 1/(x*sp.log(x))\n",
        "gauss_quad_standard(f3, np.e, np.e+1, 4)"
      ],
      "metadata": {
        "colab": {
          "base_uri": "https://localhost:8080/"
        },
        "id": "-ED4qEz487CT",
        "outputId": "19196f8c-e0f5-4bf4-8a52-4b20c0b404f5"
      },
      "execution_count": 52,
      "outputs": [
        {
          "output_type": "execute_result",
          "data": {
            "text/plain": [
              "0.27251386118132886"
            ]
          },
          "metadata": {},
          "execution_count": 52
        }
      ]
    },
    {
      "cell_type": "markdown",
      "source": [
        "#4\n",
        "\n",
        "Encuentra todas las raices para los polinomios de grado 3 y 4 de **Legendre** usando el Método de la Secante y Newton-Raphson.\n",
        "\n",
        "\n",
        "\n",
        "```python\n",
        "import sympy as sp\n",
        "x = sp.Symbol('x')\n",
        "\n",
        "# Polinomio de Legendre de grado n\n",
        "Pn = sp.legendre(n, x)\n",
        "\n",
        "```\n",
        "\n"
      ],
      "metadata": {
        "id": "hvSy6jouSLiJ"
      }
    },
    {
      "cell_type": "markdown",
      "source": [
        "y calcule los pesos $w_i$ de la cuadratura mediante la fórmula:\n",
        "   $$\n",
        "   w_i = \\frac{2}{(1 - x_i^2) \\left[P_n'(x_i)\\right]^2},\n",
        "   $$\n",
        "   donde $P_n'(x)$ es la derivada del polinomio de Legendre $P_n(x)$.\n"
      ],
      "metadata": {
        "id": "70epJtPLGxcB"
      }
    },
    {
      "cell_type": "code",
      "source": [
        "x = sp.Symbol('x')\n",
        "\n",
        "# Polinomio de Legendre de grado n\n",
        "P3 = sp.legendre(3, x)\n",
        "dP3 = sp.diff(P3, x, 1)\n",
        "P4 = sp.legendre(4, x)\n",
        "dP4 = sp.diff(P4, x, 1)\n",
        "\n",
        "print('Polinomios de Legendre grado 3 y 4 con sus respectivas derivadas:\\n\\n')\n",
        "display(P3, dP3, P4, dP4)"
      ],
      "metadata": {
        "id": "EZNA4VoXSXiT",
        "colab": {
          "base_uri": "https://localhost:8080/",
          "height": 219
        },
        "outputId": "1e330643-bb0b-4817-ea02-80ed88cc3ac8"
      },
      "execution_count": 53,
      "outputs": [
        {
          "output_type": "stream",
          "name": "stdout",
          "text": [
            "Polinomios de Legendre grado 3 y 4 con sus respectivas derivadas:\n",
            "\n",
            "\n"
          ]
        },
        {
          "output_type": "display_data",
          "data": {
            "text/plain": [
              "5*x**3/2 - 3*x/2"
            ],
            "text/latex": "$\\displaystyle \\frac{5 x^{3}}{2} - \\frac{3 x}{2}$"
          },
          "metadata": {}
        },
        {
          "output_type": "display_data",
          "data": {
            "text/plain": [
              "15*x**2/2 - 3/2"
            ],
            "text/latex": "$\\displaystyle \\frac{15 x^{2}}{2} - \\frac{3}{2}$"
          },
          "metadata": {}
        },
        {
          "output_type": "display_data",
          "data": {
            "text/plain": [
              "35*x**4/8 - 15*x**2/4 + 3/8"
            ],
            "text/latex": "$\\displaystyle \\frac{35 x^{4}}{8} - \\frac{15 x^{2}}{4} + \\frac{3}{8}$"
          },
          "metadata": {}
        },
        {
          "output_type": "display_data",
          "data": {
            "text/plain": [
              "35*x**3/2 - 15*x/2"
            ],
            "text/latex": "$\\displaystyle \\frac{35 x^{3}}{2} - \\frac{15 x}{2}$"
          },
          "metadata": {}
        }
      ]
    },
    {
      "cell_type": "code",
      "source": [
        "np.sqrt(15)/5 # Para ver el valor numérico de esas raíces"
      ],
      "metadata": {
        "colab": {
          "base_uri": "https://localhost:8080/"
        },
        "id": "hEctTzyM2D0D",
        "outputId": "896eed50-4deb-473d-beb2-491874b243c0"
      },
      "execution_count": 54,
      "outputs": [
        {
          "output_type": "execute_result",
          "data": {
            "text/plain": [
              "0.7745966692414834"
            ]
          },
          "metadata": {},
          "execution_count": 54
        }
      ]
    },
    {
      "cell_type": "code",
      "source": [
        "P3_func = sp.lambdify(x, P3, 'numpy')\n",
        "dP3_func = sp.lambdify(x, dP3, 'numpy')\n",
        "\n",
        "P4_func = sp.lambdify(x, P4, 'numpy')\n",
        "dP4_func = sp.lambdify(x, dP4, 'numpy')"
      ],
      "metadata": {
        "id": "7GwE910S4hWR"
      },
      "execution_count": 55,
      "outputs": []
    },
    {
      "cell_type": "code",
      "source": [
        "# Raíces por Newton para polinomio n = 3\n",
        "from scipy.optimize import newton\n",
        "\n",
        "root3_n1 = newton(P3_func, 0, dP3_func)\n",
        "root3_n2 = newton(P3_func, 1, dP3_func)\n",
        "root3_n3 = newton(P3_func, -1, dP3_func)\n",
        "\n",
        "lista_roots_P3 = [root3_n1, root3_n2, root3_n3]\n",
        "lista_pesos3 = []\n",
        "\n",
        "for i in lista_roots_P3:\n",
        "  wi = 2 / ((1 - i**2)*(dP3_func(i))**2)\n",
        "  lista_pesos3.append(wi)\n",
        "\n",
        "\n",
        "print('Raíces por Newton del polinomio de Legendre grado 3:\\n', lista_roots_P3)\n",
        "print('\\n\\nPesos de Newton del polinomio de Legendre grado 3:\\n', lista_pesos3)"
      ],
      "metadata": {
        "colab": {
          "base_uri": "https://localhost:8080/"
        },
        "id": "QU9jtcja0tru",
        "outputId": "43af1e38-1704-4003-b408-b23461ca9ceb"
      },
      "execution_count": 56,
      "outputs": [
        {
          "output_type": "stream",
          "name": "stdout",
          "text": [
            "Raíces por Newton del polinomio de Legendre grado 3:\n",
            " [0.0, 0.7745966692414835, -0.7745966692414835]\n",
            "\n",
            "\n",
            "Pesos de Newton del polinomio de Legendre grado 3:\n",
            " [0.8888888888888888, 0.5555555555555552, 0.5555555555555552]\n"
          ]
        }
      ]
    },
    {
      "cell_type": "code",
      "source": [
        "# Raíces por Secante para Polinomio n = 4\n",
        "\n",
        "root4_n1 = newton(P4_func, -0.2, dP4_func)\n",
        "root4_n2 = newton(P4_func, 1, dP4_func)\n",
        "root4_n3 = newton(P4_func, -1, dP4_func)\n",
        "root4_n4 = newton(P4_func, 0.5, dP4_func)\n",
        "\n",
        "lista_roots_P4 = [root4_n1, root4_n2, root4_n3, root4_n4]\n",
        "lista_pesos4 = []\n",
        "\n",
        "for i in lista_roots_P4:\n",
        "  wi = 2 / ((1 - i**2)*(dP4_func(i))**2)\n",
        "  lista_pesos4.append(wi)\n",
        "\n",
        "print('Raíces por Secante del polinomio de Legendre grado 4:\\n\\n', lista_roots_P4)\n",
        "print('\\n\\nPesos de Secante del polinomio de Legendre grado 4:\\n\\n', lista_pesos4)"
      ],
      "metadata": {
        "colab": {
          "base_uri": "https://localhost:8080/"
        },
        "id": "MBzO05XW54ko",
        "outputId": "7c486693-bb76-4eac-c7b0-e3ecd5d867da"
      },
      "execution_count": 57,
      "outputs": [
        {
          "output_type": "stream",
          "name": "stdout",
          "text": [
            "Raíces por Secante del polinomio de Legendre grado 4:\n",
            "\n",
            " [-0.3399810435848563, 0.861136311594053, -0.861136311594053, 0.33998104358485626]\n",
            "\n",
            "\n",
            "Pesos de Secante del polinomio de Legendre grado 4:\n",
            "\n",
            " [0.6521451548625463, 0.3478548451374528, 0.3478548451374528, 0.6521451548625462]\n"
          ]
        }
      ]
    }
  ]
}