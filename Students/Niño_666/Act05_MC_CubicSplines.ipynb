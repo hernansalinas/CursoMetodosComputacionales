{
  "nbformat": 4,
  "nbformat_minor": 0,
  "metadata": {
    "colab": {
      "provenance": []
    },
    "kernelspec": {
      "name": "python3",
      "display_name": "Python 3"
    },
    "language_info": {
      "name": "python"
    }
  },
  "cells": [
    {
      "cell_type": "code",
      "execution_count": 1,
      "metadata": {
        "cellView": "form",
        "id": "rOubAIWVWdQJ"
      },
      "outputs": [],
      "source": [
        "#@title Librerias\n",
        "import numpy as np\n",
        "import sympy as sp\n",
        "from scipy.interpolate import CubicSpline\n",
        "import matplotlib.pyplot as plt\n",
        "from numpy.linalg import solve"
      ]
    },
    {
      "cell_type": "markdown",
      "source": [
        "# Actividad\n",
        "Calcular el spline cúbico que interpola los puntos $(-1,5)$, $(0,3)$, $(1,3)$, $(2,4)$, encontrando los polinomios $S_0(x)$, $S_1(x)$ y $S_2(x)$. Evalue su respuesta para $x= 1.5$ usando `CubicSpline` de `scipy`."
      ],
      "metadata": {
        "id": "Lt03laXEAPIu"
      }
    },
    {
      "cell_type": "code",
      "source": [
        "x_val = 1.5"
      ],
      "metadata": {
        "id": "FlGkX7jT4F7i"
      },
      "execution_count": 3,
      "outputs": []
    },
    {
      "source": [
        "manual_polinomio = (64 + 18 * x_val + 6 * (x_val**2) - (x_val**3)) / 29\n",
        "print(f'Método manual: {manual_polinomio:.3f}')"
      ],
      "cell_type": "code",
      "metadata": {
        "colab": {
          "base_uri": "https://localhost:8080/"
        },
        "id": "7nmKlCxH4y0T",
        "outputId": "5182f554-aadd-49e6-8410-53acfcf591e1"
      },
      "execution_count": 5,
      "outputs": [
        {
          "output_type": "stream",
          "name": "stdout",
          "text": [
            "Método manual: 3.487\n"
          ]
        }
      ]
    },
    {
      "cell_type": "code",
      "source": [
        "x, y = np.array([-1, 0, 1, 2]), np.array([5, 3, 3, 4])\n",
        "cs = CubicSpline(x, y)\n",
        "result = cs(x_val)\n",
        "print(f'Método Scipy: {result.round(2)}')"
      ],
      "metadata": {
        "colab": {
          "base_uri": "https://localhost:8080/"
        },
        "id": "tW_U_mtzlNYU",
        "outputId": "3b54513b-7f1b-44f5-9dec-0b1ecf5e2c67"
      },
      "execution_count": 6,
      "outputs": [
        {
          "output_type": "stream",
          "name": "stdout",
          "text": [
            "Método Scipy: 3.44\n"
          ]
        }
      ]
    },
    {
      "cell_type": "markdown",
      "source": [
        "Ambos métodos dieron un resultado alrededor de 3.4, esto confirma la confiabilidad del método de cubic splines."
      ],
      "metadata": {
        "id": "nfwyQYDlH9YU"
      }
    }
  ]
}