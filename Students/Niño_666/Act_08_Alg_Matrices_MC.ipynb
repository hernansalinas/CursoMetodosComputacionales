{
  "nbformat": 4,
  "nbformat_minor": 0,
  "metadata": {
    "colab": {
      "provenance": []
    },
    "kernelspec": {
      "name": "python3",
      "display_name": "Python 3"
    },
    "language_info": {
      "name": "python"
    }
  },
  "cells": [
    {
      "cell_type": "code",
      "execution_count": 5,
      "metadata": {
        "id": "z7RCty67y3ME"
      },
      "outputs": [],
      "source": [
        "import numpy as np\n",
        "import matplotlib.pyplot as plt\n",
        "import scipy.linalg as al\n",
        "import random\n",
        "from sympy import Matrix, symbols, init_printing\n",
        "import sympy as sp"
      ]
    },
    {
      "cell_type": "markdown",
      "source": [
        "# Actividad 08: Algebra Lineal y Matrices\n",
        "\n",
        "---\n",
        "### Profesor: Juan Marcos Marín\n",
        "### Nombre: Soleil Dayana Niño Murcia\n",
        "*Métodos computacionales 2024-II*\n",
        "\n",
        "---"
      ],
      "metadata": {
        "id": "GGQpGoujzAnQ"
      }
    },
    {
      "cell_type": "markdown",
      "source": [
        "#1\n",
        "\n",
        "Escriba una función que calcule el producto escalar y vectorial para dos vectores, compare sus resultados con `np.dot` y `np.cross`."
      ],
      "metadata": {
        "id": "szDD-eJhzKbw"
      }
    },
    {
      "cell_type": "code",
      "source": [
        "# Vectores para prueba (deben ser de dimensión 3 porque el producto vectorial sólo está definido en R3)\n",
        "u = np.array([1, 2, 3])\n",
        "v = np.array([3, 2, 1])"
      ],
      "metadata": {
        "id": "bYCdefVQvN1a"
      },
      "execution_count": null,
      "outputs": []
    },
    {
      "cell_type": "code",
      "source": [
        "def pdcto_interno(u,v):\n",
        "  p = 0\n",
        "  for i in range(len(u)):\n",
        "    p += u[i]*v[i]\n",
        "  return p"
      ],
      "metadata": {
        "id": "KlxyKMOIzBDZ"
      },
      "execution_count": null,
      "outputs": []
    },
    {
      "cell_type": "code",
      "source": [
        "print('Producto interno por mi función:', pdcto_interno(u,v), '\\nProducto interno por np.dot:', np.dot(u,v), '\\n\\n¿Los valores son equivalentes?')\n",
        "\n",
        "if np.array_equal(pdcto_interno(u,v), np.dot(u,v)):\n",
        "  print(\"Verdadero\")\n",
        "else:\n",
        "  print(\"Falso\")"
      ],
      "metadata": {
        "colab": {
          "base_uri": "https://localhost:8080/"
        },
        "id": "T9uYdUh_r4IW",
        "outputId": "e9a78479-3194-45b2-881f-c9dbb2d1fe98"
      },
      "execution_count": null,
      "outputs": [
        {
          "output_type": "stream",
          "name": "stdout",
          "text": [
            "Producto interno por mi función: 10 \n",
            "Producto interno por np.dot: 10 \n",
            "\n",
            "¿Los valores son equivalentes?\n",
            "Verdadero\n"
          ]
        }
      ]
    },
    {
      "cell_type": "code",
      "source": [
        "def pdcto_vectorial(u,v):\n",
        "  \"\"\"\n",
        "  Recuerde que el producto vectorial está definido\n",
        "  ÚNICAMENTE para vectores en R3\n",
        "  \"\"\"\n",
        "  w1 = u[1] * v[2] - u[2] * v[1]\n",
        "  w2 = u[2] * v[0] - u[0] * v[2]\n",
        "  w3 = u[0] * v[1] - u[1] * v[0]\n",
        "  w = np.array([w1, w2, w3])\n",
        "\n",
        "  return w"
      ],
      "metadata": {
        "id": "6cy7kPB7vDus"
      },
      "execution_count": null,
      "outputs": []
    },
    {
      "cell_type": "code",
      "source": [
        "print('Producto vectorial por mi función:', pdcto_vectorial(u,v), '\\nProducto vectorial por np.cross:', np.cross(u,v), '\\n\\n¿Los vectores son equivalentes?')\n",
        "\n",
        "if np.array_equal(pdcto_vectorial(u,v), np.cross(u,v)):\n",
        "  print(\"Verdadero\")\n",
        "else:\n",
        "  print(\"Falso\")"
      ],
      "metadata": {
        "colab": {
          "base_uri": "https://localhost:8080/"
        },
        "id": "Gpk9FtWDvKxi",
        "outputId": "e03dcd42-af24-43fb-bbf3-1105074fbac1"
      },
      "execution_count": null,
      "outputs": [
        {
          "output_type": "stream",
          "name": "stdout",
          "text": [
            "Producto vectorial por mi función: [-4  8 -4] \n",
            "Producto vectorial por np.cross: [-4  8 -4] \n",
            "\n",
            "¿Los vectores son equivalentes?\n",
            "Verdadero\n"
          ]
        }
      ]
    },
    {
      "cell_type": "markdown",
      "source": [
        "#2\n",
        "\n",
        "Crear una función llamada `mulmat()` donde a partir de dos matrices $A$ y $B$ encuentre su multplicación. También realiza una función que calcule la transpuesta y otra el determinante de una matriz $3\\times 3$. Compare sus resultado con `@`, `np.dot`, `transpose` y `la.det`."
      ],
      "metadata": {
        "id": "Qch9PhTQ0Klk"
      }
    },
    {
      "cell_type": "code",
      "source": [
        "# Matrices de prueba\n",
        "A = np.array([\n",
        "    [1, 2, 3],\n",
        "    [4, 5, 6],\n",
        "    [5, 2, 6]\n",
        "], dtype = float)\n",
        "\n",
        "B = np.array([\n",
        "    [7, 8, 9],\n",
        "    [10, 11, 12],\n",
        "    [13, 14, 15]\n",
        "],dtype = float)"
      ],
      "metadata": {
        "id": "aWoEpNGA57D7"
      },
      "execution_count": null,
      "outputs": []
    },
    {
      "cell_type": "markdown",
      "source": [
        "### Función para producto matricial"
      ],
      "metadata": {
        "id": "-yRMOl8j8P0R"
      }
    },
    {
      "cell_type": "code",
      "source": [
        "def mulmat(A,B):\n",
        "  C = np.zeros((len(A), len(B[0])))\n",
        "  m_a, n_a = len(A), len(A[0])\n",
        "  m_b, n_b = len(B), len(B[0])\n",
        "  if m_a != n_b:\n",
        "    raise ValueError(\"Las dimensiones de las matrices no son compatibles para la multiplicación.\")\n",
        "\n",
        "  C += [[0 for _ in range(n_b)] for _ in range(m_a)]\n",
        "  for i in range(m_a):\n",
        "    for j in range(n_b):\n",
        "      for k in range(n_a):\n",
        "        C[i][j] += A[i][k] * B[k][j]\n",
        "  return C"
      ],
      "metadata": {
        "id": "0xjXQbwn0VL5"
      },
      "execution_count": null,
      "outputs": []
    },
    {
      "cell_type": "code",
      "source": [
        "print('Producto por mi función:\\n', mulmat(A,B), '\\n\\nProducto np.dot:\\n', np.dot(A,B))\n",
        "print('\\n\\n¿Los valores son equivalentes?')\n",
        "\n",
        "if np.array_equal(mulmat(A,B), np.dot(A,B)):\n",
        "  print(\"Verdadero\")\n",
        "else:\n",
        "  print(\"Falso\")"
      ],
      "metadata": {
        "colab": {
          "base_uri": "https://localhost:8080/"
        },
        "id": "7TPYGZZDwM5L",
        "outputId": "11198c7e-ec95-48a1-faf9-d5e5022b42c2"
      },
      "execution_count": null,
      "outputs": [
        {
          "output_type": "stream",
          "name": "stdout",
          "text": [
            "Producto por mi función:\n",
            " [[ 66.  72.  78.]\n",
            " [156. 171. 186.]\n",
            " [133. 146. 159.]] \n",
            "\n",
            "Producto np.dot:\n",
            " [[ 66.  72.  78.]\n",
            " [156. 171. 186.]\n",
            " [133. 146. 159.]]\n",
            "\n",
            "\n",
            "¿Los valores son equivalentes?\n",
            "Verdadero\n"
          ]
        }
      ]
    },
    {
      "cell_type": "markdown",
      "source": [
        "### Función para Transpuesta"
      ],
      "metadata": {
        "id": "x1oPKBDX8HPI"
      }
    },
    {
      "cell_type": "code",
      "source": [
        "def transpuesta(A):\n",
        "  C = np.zeros((len(A[0]), len(A)))\n",
        "  for i in range(len(A)):\n",
        "    for j in range(len(A[0])):\n",
        "      C[j][i] = A[i][j]\n",
        "  return C"
      ],
      "metadata": {
        "id": "FZ-XnTzq8dvn"
      },
      "execution_count": null,
      "outputs": []
    },
    {
      "cell_type": "code",
      "source": [
        "print('A:\\n', A, '\\n\\nA Transpuesta:\\n', transpuesta(A))"
      ],
      "metadata": {
        "colab": {
          "base_uri": "https://localhost:8080/"
        },
        "id": "NyM6iIkQxuU-",
        "outputId": "59c5fd88-f3bf-499c-a934-18b041166531"
      },
      "execution_count": null,
      "outputs": [
        {
          "output_type": "stream",
          "name": "stdout",
          "text": [
            "A:\n",
            " [[1. 2. 3.]\n",
            " [4. 5. 6.]\n",
            " [5. 2. 6.]] \n",
            "\n",
            "A Transpuesta:\n",
            " [[1. 4. 5.]\n",
            " [2. 5. 2.]\n",
            " [3. 6. 6.]]\n"
          ]
        }
      ]
    },
    {
      "cell_type": "code",
      "source": [
        "print('Transpuesta por mi función:\\n', transpuesta(A), '\\n\\nTranspuesta por np.transpose:\\n', np.transpose(A))\n",
        "print('\\n\\n¿Las matrices son equivalentes?')\n",
        "\n",
        "if np.array_equal(transpuesta(A), np.transpose(A)):\n",
        "  print(\"Verdadero\")\n",
        "else:\n",
        "  print(\"Falso\")"
      ],
      "metadata": {
        "colab": {
          "base_uri": "https://localhost:8080/"
        },
        "id": "hcWzZnrCyDLk",
        "outputId": "714d42f0-ca46-4b9c-e15e-c1895f76f3ff"
      },
      "execution_count": null,
      "outputs": [
        {
          "output_type": "stream",
          "name": "stdout",
          "text": [
            "Transpuesta por mi función:\n",
            " [[1. 4. 5.]\n",
            " [2. 5. 2.]\n",
            " [3. 6. 6.]] \n",
            "\n",
            "Transpuesta por np.transpose:\n",
            " [[1. 4. 5.]\n",
            " [2. 5. 2.]\n",
            " [3. 6. 6.]]\n",
            "\n",
            "\n",
            "¿Las matrices son equivalentes?\n",
            "Verdadero\n"
          ]
        }
      ]
    },
    {
      "cell_type": "markdown",
      "source": [
        "### Función para determinante"
      ],
      "metadata": {
        "id": "VNR9bgMa8KFg"
      }
    },
    {
      "cell_type": "code",
      "source": [
        "def det(A):\n",
        "  if len(A) == 3: # Aplica método de Sarrus\n",
        "    suma = A[0][0]*A[1][1]*A[2][2] + A[0][1]*A[1][2]*A[2][0] + A[0][2]*A[1][0]*A[2][1]\n",
        "    resta = A[0][2]*A[1][1]*A[2][0] + A[0][1]*A[1][0]*A[2][2] + A[0][0]*A[1][2]*A[2][1]\n",
        "    return suma - resta"
      ],
      "metadata": {
        "id": "DnTfNHL58eWX"
      },
      "execution_count": null,
      "outputs": []
    },
    {
      "cell_type": "code",
      "source": [
        "al.det(A),  det(A)\n",
        "print('Determinante por mi función:', det(A), '\\nDeterminante por np.linalg.det:', np.linalg.det(A), '\\n\\n¿Los valores son equivalentes?')\n",
        "if np.array_equal(det(A), np.linalg.det(A)):\n",
        "  print(\"Verdadero\")\n",
        "else:\n",
        "  print(\"Falso\")"
      ],
      "metadata": {
        "colab": {
          "base_uri": "https://localhost:8080/"
        },
        "id": "VzlpUyf-ywzd",
        "outputId": "b9f6998a-6abe-4133-f724-a2c6e850bae3"
      },
      "execution_count": null,
      "outputs": [
        {
          "output_type": "stream",
          "name": "stdout",
          "text": [
            "Determinante por mi función: -21.0 \n",
            "Determinante por np.linalg.det: -21.0 \n",
            "\n",
            "¿Los valores son equivalentes?\n",
            "Verdadero\n"
          ]
        }
      ]
    },
    {
      "cell_type": "markdown",
      "source": [
        "#3\n",
        "Escriba tres matrices aleatorias $A$, $B$ y $C$ de $3\\times 3$, y demuestre las siguientes relaciones\n",
        "\n"
      ],
      "metadata": {
        "id": "U9hC1R-F0-iH"
      }
    },
    {
      "cell_type": "code",
      "source": [
        "A, B, C = np.random.randint(1, 10, size = (3,3)), np.random.randint(1, 10, size = (3,3)), np.random.randint(1, 10, size = (3,3))"
      ],
      "metadata": {
        "id": "cQQ6cPGW1anK"
      },
      "execution_count": null,
      "outputs": []
    },
    {
      "cell_type": "code",
      "source": [
        "print('A:\\n', A, '\\n\\nB:\\n', B, '\\n\\nC:\\n', C)"
      ],
      "metadata": {
        "colab": {
          "base_uri": "https://localhost:8080/"
        },
        "id": "ibYrY6Ouxc55",
        "outputId": "7b15d17d-3e96-4092-c85d-04df880f9452"
      },
      "execution_count": null,
      "outputs": [
        {
          "output_type": "stream",
          "name": "stdout",
          "text": [
            "A:\n",
            " [[4 8 1]\n",
            " [3 4 8]\n",
            " [8 7 8]] \n",
            "\n",
            "B:\n",
            " [[1 7 4]\n",
            " [3 7 5]\n",
            " [4 7 2]] \n",
            "\n",
            "C:\n",
            " [[6 8 8]\n",
            " [9 3 2]\n",
            " [6 3 1]]\n"
          ]
        }
      ]
    },
    {
      "cell_type": "markdown",
      "source": [
        "\n",
        "- $ \\mathbf{A}\\mathbf{B} \\neq \\mathbf{B}\\mathbf{A} $, en general.\n"
      ],
      "metadata": {
        "id": "xCaotEjJy4q3"
      }
    },
    {
      "cell_type": "code",
      "source": [
        "# AB != BA\n",
        "AB = A @ B\n",
        "BA = B @ A\n",
        "print('AB:\\n', AB, '\\n\\nBA:\\n', BA)\n",
        "\n",
        "print('\\n\\n\\nNote que','las matrices son diferentes') if not np.allclose(AB, BA) else print('las matrices son iguales')\n",
        "# np.allclose(a, b, rtol=1e-05, atol=1e-08): Compara las matrices a y b elemento por elemento. Con rtol: Tolerancia relativa (por defecto, 1e-05) y atol: Tolerancia absoluta (por defecto, 1e-08)."
      ],
      "metadata": {
        "colab": {
          "base_uri": "https://localhost:8080/"
        },
        "id": "oe7bfNT2wwfT",
        "outputId": "8a1ade27-117a-4fe7-ec47-9b9e0f9859a9"
      },
      "execution_count": null,
      "outputs": [
        {
          "output_type": "stream",
          "name": "stdout",
          "text": [
            "AB:\n",
            " [[ 32  91  58]\n",
            " [ 47 105  48]\n",
            " [ 61 161  83]] \n",
            "\n",
            "BA:\n",
            " [[57 64 89]\n",
            " [73 87 99]\n",
            " [53 74 76]]\n",
            "\n",
            "\n",
            "\n",
            "Note que las matrices son diferentes\n"
          ]
        }
      ]
    },
    {
      "cell_type": "markdown",
      "source": [
        "- $ (\\mathbf{A}\\mathbf{B})\\mathbf{C} = \\mathbf{A}(\\mathbf{B}\\mathbf{C}) $.\n"
      ],
      "metadata": {
        "id": "PUZVCP5Qysmg"
      }
    },
    {
      "cell_type": "code",
      "source": [
        "BC = B @ C\n",
        "AB_C = AB @ C\n",
        "A_BC = A @ BC\n",
        "print('AB_C:\\n', AB_C, '\\n\\nA_BC:\\n', A_BC)\n",
        "print('\\n\\n\\nNote que','las matrices son iguales') if np.allclose(AB_C, A_BC) else print('las matrices son diferentes')"
      ],
      "metadata": {
        "colab": {
          "base_uri": "https://localhost:8080/"
        },
        "id": "3hsxJjFzy9ae",
        "outputId": "68b9ac94-528b-45c0-960c-e69b494d8397"
      },
      "execution_count": null,
      "outputs": [
        {
          "output_type": "stream",
          "name": "stdout",
          "text": [
            "AB_C:\n",
            " [[1359  703  496]\n",
            " [1515  835  634]\n",
            " [2313 1220  893]] \n",
            "\n",
            "A_BC:\n",
            " [[1359  703  496]\n",
            " [1515  835  634]\n",
            " [2313 1220  893]]\n",
            "\n",
            "\n",
            "\n",
            "Note que las matrices son iguales\n"
          ]
        }
      ]
    },
    {
      "cell_type": "markdown",
      "source": [
        "- $ \\mathbf{A}(\\mathbf{B} + \\mathbf{C}) = \\mathbf{A}\\mathbf{B} + \\mathbf{A}\\mathbf{C} $.\n"
      ],
      "metadata": {
        "id": "_InpDnlZyt5n"
      }
    },
    {
      "cell_type": "code",
      "source": [
        "BmasC = B + C\n",
        "AB_mas_C = A @ BmasC\n",
        "\n",
        "AC = A @ C\n",
        "AB_mas_AC = AB + AC\n",
        "\n",
        "print('A(B+C):\\n', AB_mas_C, '\\n\\nAB+AC:\\n', AB_mas_AC)\n",
        "print('\\n\\n\\nNote que','las matrices son iguales') if np.allclose(AB_mas_C, AB_mas_AC) else print('las matrices son diferentes')"
      ],
      "metadata": {
        "colab": {
          "base_uri": "https://localhost:8080/"
        },
        "id": "KdZDsXK5y9vH",
        "outputId": "9d0897ee-66d8-44e8-db18-97c0eeaec899"
      },
      "execution_count": null,
      "outputs": [
        {
          "output_type": "stream",
          "name": "stdout",
          "text": [
            "A(B+C):\n",
            " [[134 150 107]\n",
            " [149 165  88]\n",
            " [220 270 169]] \n",
            "\n",
            "AB+AC:\n",
            " [[134 150 107]\n",
            " [149 165  88]\n",
            " [220 270 169]]\n",
            "\n",
            "\n",
            "\n",
            "Note que las matrices son iguales\n"
          ]
        }
      ]
    },
    {
      "cell_type": "markdown",
      "source": [
        "- $ (\\mathbf{A} + \\mathbf{B})\\mathbf{C} = \\mathbf{A}\\mathbf{C} + \\mathbf{B}\\mathbf{C} $.\n"
      ],
      "metadata": {
        "id": "HGCaPxJFyvB_"
      }
    },
    {
      "cell_type": "code",
      "source": [
        "A_mas_B = A + B\n",
        "A_mas_B_C = A_mas_B @ C\n",
        "A_C_mas_B_C = AC + BC\n",
        "\n",
        "print('(A+B)C:\\n', A_mas_B_C, '\\n\\nAC+BC:\\n', A_C_mas_B_C)\n",
        "\n",
        "print('\\n\\n\\nNote que','las matrices son iguales') if np.allclose(A_mas_B_C, A_C_mas_B_C) else print('las matrices son diferentes')"
      ],
      "metadata": {
        "colab": {
          "base_uri": "https://localhost:8080/"
        },
        "id": "lk0DYG_Ry-Lu",
        "outputId": "a9a4a7bd-6db1-463d-b493-311f3119e8e5"
      },
      "execution_count": null,
      "outputs": [
        {
          "output_type": "stream",
          "name": "stdout",
          "text": [
            "(A+B)C:\n",
            " [[195 100  75]\n",
            " [213 120  83]\n",
            " [258 168 134]] \n",
            "\n",
            "AC+BC:\n",
            " [[195 100  75]\n",
            " [213 120  83]\n",
            " [258 168 134]]\n",
            "\n",
            "\n",
            "\n",
            "Note que las matrices son iguales\n"
          ]
        }
      ]
    },
    {
      "cell_type": "markdown",
      "source": [
        "- $ (\\mathbf{A}\\mathbf{B})^\\top = \\mathbf{B}^\\top \\mathbf{A}^\\top $.\n"
      ],
      "metadata": {
        "id": "f-SalgzDywCg"
      }
    },
    {
      "cell_type": "code",
      "source": [
        "AB_t =  np.round(np.transpose(AB), 4)\n",
        "B_t, A_t = np.transpose(B), np.transpose(A)\n",
        "B_t_A_t = np.round(B_t @ A_t, 4)\n",
        "\n",
        "print('(AB)^t:\\n', AB_t, '\\n\\nB^t*A^t:\\n', B_t_A_t)\n",
        "print('\\n\\n\\nNote que','las matrices son iguales') if np.allclose(AB_t, B_t_A_t) else print('las matrices son diferentes')"
      ],
      "metadata": {
        "colab": {
          "base_uri": "https://localhost:8080/"
        },
        "id": "rylxs9d7y1HG",
        "outputId": "aceb5234-98f4-47d3-f329-60d09df51b7e"
      },
      "execution_count": null,
      "outputs": [
        {
          "output_type": "stream",
          "name": "stdout",
          "text": [
            "(AB)^t:\n",
            " [[ 32  47  61]\n",
            " [ 91 105 161]\n",
            " [ 58  48  83]] \n",
            "\n",
            "B^t*A^t:\n",
            " [[ 32  47  61]\n",
            " [ 91 105 161]\n",
            " [ 58  48  83]]\n",
            "\n",
            "\n",
            "\n",
            "Note que las matrices son iguales\n"
          ]
        }
      ]
    },
    {
      "cell_type": "markdown",
      "source": [
        "- $ \\det(\\mathbf{A}\\mathbf{B}) = \\det(\\mathbf{A}) \\det(\\mathbf{B}) $.\n",
        "\n"
      ],
      "metadata": {
        "id": "AV-LjUoeyxGQ"
      }
    },
    {
      "cell_type": "code",
      "source": [
        "det_AB = np.linalg.det(AB)\n",
        "det_A = np.linalg.det(A)\n",
        "det_B = np.linalg.det(B)\n",
        "\n",
        "prod = det_A * det_B\n",
        "\n",
        "print('det(AB):     ', np.round(det_AB,5), '\\ndet(A)det(B):', np.round(prod,5))\n",
        "print('\\n\\n\\nNote que','los valores son iguales') if np.allclose(det_AB, prod) else print('los valores son diferentes')"
      ],
      "metadata": {
        "colab": {
          "base_uri": "https://localhost:8080/"
        },
        "id": "FGF0zCMby-vG",
        "outputId": "499a7530-c065-4f61-f639-ceb6b5a568f0"
      },
      "execution_count": null,
      "outputs": [
        {
          "output_type": "stream",
          "name": "stdout",
          "text": [
            "det(AB):      10437.0 \n",
            "det(A)det(B): 10437.0\n",
            "\n",
            "\n",
            "\n",
            "Note que los valores son iguales\n"
          ]
        }
      ]
    },
    {
      "cell_type": "markdown",
      "source": [
        "- $ (\\mathbf{A}^\\top)^\\top = \\mathbf{A} $.\n"
      ],
      "metadata": {
        "id": "qIbYArE-yyLh"
      }
    },
    {
      "cell_type": "code",
      "source": [
        "Att = np.transpose(A_t)\n",
        "\n",
        "print('\\n\\nA^t^t:\\n', np.round(Att,3), '\\n\\nA:\\n', np.round(A,3))\n",
        "print('\\n\\n\\nNote que','las matrices son iguales') if np.allclose(Att, A) else print('las matrices son diferentes')"
      ],
      "metadata": {
        "colab": {
          "base_uri": "https://localhost:8080/"
        },
        "id": "XCJWjRhWy_l-",
        "outputId": "2b3fed66-45ee-4ca9-afc2-9451a1da75d9"
      },
      "execution_count": null,
      "outputs": [
        {
          "output_type": "stream",
          "name": "stdout",
          "text": [
            "\n",
            "\n",
            "A^t^t:\n",
            " [[4 8 1]\n",
            " [3 4 8]\n",
            " [8 7 8]] \n",
            "\n",
            "A:\n",
            " [[4 8 1]\n",
            " [3 4 8]\n",
            " [8 7 8]]\n",
            "\n",
            "\n",
            "\n",
            "Note que las matrices son iguales\n"
          ]
        }
      ]
    },
    {
      "cell_type": "markdown",
      "source": [
        "- $ (c\\mathbf{A})^\\top = c\\mathbf{A}^\\top $.\n"
      ],
      "metadata": {
        "id": "H961lSotyzLw"
      }
    },
    {
      "cell_type": "code",
      "source": [
        "# La propiedad se cumple siempre que c sea escalar\n",
        "c = np.random.rand(1)\n",
        "cA_t = np.transpose(c * A)\n",
        "cAt = c * A_t\n",
        "\n",
        "print('(cA)^t:\\n', np.round(cA_t,3), '\\n\\ncA^t:\\n', np.round(cAt,3))\n",
        "print('\\n\\n\\nNote que','las matrices son iguales') if np.allclose(cA_t, cAt) else print('las matrices son diferentes')"
      ],
      "metadata": {
        "colab": {
          "base_uri": "https://localhost:8080/"
        },
        "id": "4p61XDETzAD-",
        "outputId": "bf98ed97-b65b-47a2-d155-b225807e934f"
      },
      "execution_count": null,
      "outputs": [
        {
          "output_type": "stream",
          "name": "stdout",
          "text": [
            "(cA)^t:\n",
            " [[3.121 2.341 6.243]\n",
            " [6.243 3.121 5.463]\n",
            " [0.78  6.243 6.243]] \n",
            "\n",
            "cA^t:\n",
            " [[3.121 2.341 6.243]\n",
            " [6.243 3.121 5.463]\n",
            " [0.78  6.243 6.243]]\n",
            "\n",
            "\n",
            "\n",
            "Note que las matrices son iguales\n"
          ]
        }
      ]
    },
    {
      "cell_type": "markdown",
      "source": [
        "- $ (\\mathbf{A} + \\mathbf{B})^\\top = \\mathbf{A}^\\top + \\mathbf{B}^\\top $."
      ],
      "metadata": {
        "id": "MzFid1k_y0n3"
      }
    },
    {
      "cell_type": "code",
      "source": [
        "AmasB_T = np.transpose(A_mas_B)\n",
        "At_mas_Bt = A_t + B_t\n",
        "\n",
        "print('(A+B)^t:\\n', np.round(AmasB_T,3), '\\n\\nA^t+B^t:\\n', np.round(At_mas_Bt,3))\n",
        "print('\\n\\n\\nNote que','las matrices son iguales') if np.allclose(AmasB_T, At_mas_Bt) else print('las matrices son diferentes')"
      ],
      "metadata": {
        "colab": {
          "base_uri": "https://localhost:8080/"
        },
        "id": "CVFFOqtjzAfW",
        "outputId": "033be689-fc8e-4f91-bf12-6def7359b311"
      },
      "execution_count": null,
      "outputs": [
        {
          "output_type": "stream",
          "name": "stdout",
          "text": [
            "(A+B)^t:\n",
            " [[ 5  6 12]\n",
            " [15 11 14]\n",
            " [ 5 13 10]] \n",
            "\n",
            "A^t+B^t:\n",
            " [[ 5  6 12]\n",
            " [15 11 14]\n",
            " [ 5 13 10]]\n",
            "\n",
            "\n",
            "\n",
            "Note que las matrices son iguales\n"
          ]
        }
      ]
    },
    {
      "cell_type": "markdown",
      "source": [
        "#4\n",
        "\n",
        "El **Teorema de Laplace** es un método para calcular el determinante de una matriz cuadrada, particularmente útil para matrices de orden mayor a 2. Este teorema se basa en la expansión del determinante por los elementos de una fila o una columna cualquiera.\n",
        "\n",
        "\n",
        "\n",
        "$$\n",
        "\\det(A) = \\sum_{j=1}^n (-1)^{1+j} a_{1j} M_{1j}\n",
        "$$\n",
        "\n",
        "donde:\n",
        "- $a_{1j}$ es el elemento de la primera fila y columna $j$.\n",
        "- $M_{1j}$ es el menor asociado al elemento $a_{1j}$, es decir, el determinante de la submatriz de $3 \\times 3$ que se obtiene al eliminar la fila 1 y la columna $j$.\n",
        "- $(-1)^{1+j}$ es el signo correspondiente al cofactor del elemento $a_{1j}$.\n",
        "\n",
        "Podemos realizar una función recursiva para el cálculo del determinante, sabiendo que el valor del determinante de una matriz de orden uno es el único elemento de esa matriz, y el de una matriz de orden superior a uno es la suma de cada uno de los elementos de una fila o columna por los Adjuntos a ese elemento, como en la función recursiva se emplea la misma función definida el cálculo lo haremos por Menor complementario, un ejemplo desarrollado por la primera fila sería:\n",
        "\n",
        "$$\n",
        "   \\det (A_{j,j}) =\n",
        "   \\left \\{\n",
        "   \\begin{array}{llcl}\n",
        "      si & j = 1 & \\to & a_{1,1} \\\\\n",
        "                                 \\\\\n",
        "      si & j > 1 & \\to & \\displaystyle \\sum_{k=1}^j \\; (-1)^{(1+k)} \\cdot a_{1,k} \\cdot \\det( \\alpha_{1,k})\n",
        "   \\end{array}\n",
        "   \\right .\n",
        "$$\n",
        "\n",
        "Realice una función que encuentre el determinante de una matriz usando la recursividad aqui planteada, explique explicitamente su código"
      ],
      "metadata": {
        "id": "ibYf2I9T2pIw"
      }
    },
    {
      "cell_type": "code",
      "source": [
        "def determinante_laplace(A):\n",
        "  \"\"\"\n",
        "  Calcula el determinante de una matriz cuadrada utilizando el Teorema de Laplace de forma recursiva.\n",
        "\n",
        "  Args:\n",
        "      A: Una matriz cuadrada representada como lista de listas o array NumPy.\n",
        "\n",
        "  Returns:\n",
        "      El determinante de la matriz.\n",
        "    \"\"\"\n",
        "  n = len(A)\n",
        "\n",
        "  # Caso base\n",
        "  if n == 1:\n",
        "      return A[0, 0]\n",
        "\n",
        "  # Caso base: matriz 2x2\n",
        "  if n == 2:\n",
        "      return A[0, 0]*A[1, 1] - A[0, 1]*A[1, 0]\n",
        "\n",
        "  sum = 0\n",
        "  # Expansión por la primera fila\n",
        "  for j in range(n):\n",
        "    # Se elimina la fila 0 y la columna j para obtener la submatriz\n",
        "    submatriz = np.delete(np.delete(A, 0, axis=0), j, axis=1)\n",
        "    # Llamada recursiva\n",
        "    sub_det = determinante_laplace(submatriz)\n",
        "\n",
        "    sum += (-1)**j * A[0, j] * sub_det\n",
        "\n",
        "  return sum"
      ],
      "metadata": {
        "id": "ad7HQ9ctG9wP"
      },
      "execution_count": 42,
      "outputs": []
    },
    {
      "cell_type": "code",
      "source": [
        "# Prueba de comparacion con matriz aleatoria\n",
        "C = np.random.randint(1, 10, size = (4,4))\n",
        "print('Matriz aleatoria:\\n', C)"
      ],
      "metadata": {
        "colab": {
          "base_uri": "https://localhost:8080/"
        },
        "id": "poBT4bTKMhme",
        "outputId": "57ecb510-15e8-4354-ff5d-6aa916265f13"
      },
      "execution_count": 43,
      "outputs": [
        {
          "output_type": "stream",
          "name": "stdout",
          "text": [
            "Matriz aleatoria:\n",
            " [[8 3 1 5]\n",
            " [2 2 8 8]\n",
            " [6 2 7 9]\n",
            " [8 2 6 6]]\n"
          ]
        }
      ]
    },
    {
      "cell_type": "code",
      "source": [
        "det_myfunc = determinante_laplace(C)\n",
        "print('Determinante por mi función:', det_myfunc, '\\nDeterminante por np.linalg.det:', round(np.linalg.det(C),3))"
      ],
      "metadata": {
        "colab": {
          "base_uri": "https://localhost:8080/"
        },
        "id": "jmY6KkRTN6ij",
        "outputId": "7489c0b6-339e-4ccd-f6ee-fc82f50d115f"
      },
      "execution_count": 44,
      "outputs": [
        {
          "output_type": "stream",
          "name": "stdout",
          "text": [
            "Determinante por mi función: -240 \n",
            "Determinante por np.linalg.det: -240.0\n"
          ]
        }
      ]
    },
    {
      "cell_type": "markdown",
      "source": [
        "#5\n",
        "\n",
        "El método de Jacobi reescribe el sistema $ Ax = b $ descomponiendo la matriz $ A $ como:\n",
        "\n",
        "$$\n",
        "A = D + L + U,\n",
        "$$\n",
        "\n",
        "donde:\n",
        "- $ D $: Matriz diagonal de $ A $,\n",
        "- $ L $: Matriz triangular inferior sin la diagonal,\n",
        "- $ U $: Matriz triangular superior sin la diagonal.\n",
        "\n",
        "El sistema se reorganiza como:\n",
        "\n",
        "$$\n",
        "x = D^{-1}(b - (L + U)x).\n",
        "$$\n",
        "\n",
        "Esto se implementa iterativamente como:\n",
        "\n",
        "$$\n",
        "x_i^{(k+1)} = \\frac{1}{a_{ii}} \\left(b_i - \\sum_{j \\neq i} a_{ij} x_j^{(k)}\\right),\n",
        "$$\n",
        "\n",
        "donde $ a_{ii} $ son los elementos diagonales de $ A $.\n",
        "\n",
        "* Escriba una función explicita que realice de manera iterativa este método con una tol = 1e-7 y un máximo de 100 iteraciones. Defina una documentación clara que explique los métodos usados, lasa entradas y salidas."
      ],
      "metadata": {
        "id": "9OcE-1QhSrI9"
      }
    },
    {
      "cell_type": "code",
      "source": [
        "def Jacobi(A, b, tol=1e-7, max_iter=100):\n",
        "  \"\"\"\n",
        "  Resuelve un sistema de ecuaciones lineales Ax = b utilizando el método iterativo de Jacobi.\n",
        "\n",
        "  Args:\n",
        "      A (array_like): Matriz NumPy de dimensiones (n, n) que representa los coeficientes del sistema.\n",
        "      b (array_like): Vector NumPy de dimensión (n,) que representa el lado derecho del sistema.\n",
        "      tol (float): Tolerancia para la convergencia (por defecto 1e-7).\n",
        "      max_iter (int): Número máximo de iteraciones permitidas (por defecto 100).\n",
        "\n",
        "  Returns:\n",
        "      x (np.ndarray): Solución aproximada del sistema Ax = b.\n",
        "                        Si el método converge, se devuelve la aproximación final.\n",
        "                        Si no converge en max_iter iteraciones, se devuelve la última aproximación.\n",
        "\n",
        "  Raises:\n",
        "      ValueError: Si A no es una matriz cuadrada o el tamaño de b no coincide con A.\n",
        "  \"\"\"\n",
        "  # Convertir A y b a arrays NumPy y verificar dimensiones\n",
        "  A = np.array(A, dtype=float)\n",
        "  b = np.array(b, dtype=float)\n",
        "  n, m = A.shape\n",
        "\n",
        "  # Vector solución inicial\n",
        "  x = np.zeros(n, dtype=float)\n",
        "\n",
        "  for k in range(max_iter):\n",
        "      x_new = np.zeros_like(x)\n",
        "\n",
        "      # Actualización de cada componente de x\n",
        "      for i in range(n):\n",
        "          suma = 0.0\n",
        "          for j in range(n):\n",
        "              if j != i:\n",
        "                  suma += A[i, j] * x[j]\n",
        "          x_new[i] = (b[i] - suma) / A[i, i]\n",
        "\n",
        "      # Comprobar convergencia usando la norma infinito\n",
        "      if np.linalg.norm(x_new - x, ord=np.inf) < tol:\n",
        "          print(f\"Convergió luego de {k+1} iteraciones.\")\n",
        "          return x_new\n",
        "\n",
        "      # Actualizar la solución para la siguiente iteración\n",
        "      x = x_new\n",
        "\n",
        "  print(f\"No converge luego de {max_iter} iteraciones.\")\n",
        "  return x"
      ],
      "metadata": {
        "id": "XswQkdUFL0Om"
      },
      "execution_count": 127,
      "outputs": []
    },
    {
      "cell_type": "markdown",
      "source": [
        "* Para una matriz aleatoria 5$\\times$ 5, encuentre la solución usando su función y determine el error con respecto a `solve` y el método de inversa de matriz."
      ],
      "metadata": {
        "id": "G6YNCSW2HRL8"
      }
    },
    {
      "cell_type": "code",
      "source": [
        "m_aleatoria = np.random.randint(1,10, size = (5,5))\n",
        "b_aleatorio = np.random.randint(1,10, size = (5,1))\n",
        "\n",
        "print('Matriz aleatoria:\\n', m_aleatoria)\n",
        "print('\\nVector aleatorio:\\n', b_aleatorio)"
      ],
      "metadata": {
        "colab": {
          "base_uri": "https://localhost:8080/"
        },
        "id": "j5xzI3NNHSgy",
        "outputId": "155009c1-16fa-4cc6-b374-5926802b04c4"
      },
      "execution_count": 128,
      "outputs": [
        {
          "output_type": "stream",
          "name": "stdout",
          "text": [
            "Matriz aleatoria:\n",
            " [[3 6 6 4 9]\n",
            " [2 3 4 9 5]\n",
            " [8 6 3 4 5]\n",
            " [7 4 3 8 8]\n",
            " [8 3 3 9 4]]\n",
            "\n",
            "Vector aleatorio:\n",
            " [[8]\n",
            " [5]\n",
            " [4]\n",
            " [2]\n",
            " [8]]\n"
          ]
        }
      ]
    },
    {
      "cell_type": "code",
      "source": [
        "solucion = Jacobi(m_aleatoria, b_aleatorio)  # No me sirve bien la función pero ya intenté de muchas maneras\n",
        "print('Solución por mi función:\\n', solucion)"
      ],
      "metadata": {
        "colab": {
          "base_uri": "https://localhost:8080/"
        },
        "id": "xCqZ1IyvI2wB",
        "outputId": "3c0fff4f-5271-4a0d-e963-558733ba2447"
      },
      "execution_count": 129,
      "outputs": [
        {
          "output_type": "stream",
          "name": "stdout",
          "text": [
            "No converge luego de 100 iteraciones.\n",
            "Solución por mi función:\n",
            " [-9.80981034e+76 -7.02136337e+76 -9.49298727e+76 -3.76843253e+76\n",
            " -6.79570743e+76]\n"
          ]
        },
        {
          "output_type": "stream",
          "name": "stderr",
          "text": [
            "<ipython-input-127-1c58280cf5d9>:36: DeprecationWarning: Conversion of an array with ndim > 0 to a scalar is deprecated, and will error in future. Ensure you extract a single element from your array before performing this operation. (Deprecated NumPy 1.25.)\n",
            "  x_new[i] = (b[i] - suma) / A[i, i]\n"
          ]
        }
      ]
    },
    {
      "cell_type": "code",
      "source": [
        "# Método Solve para comparar nuestra función\n",
        "solbysolve = al.solve(m_aleatoria, b_aleatorio)\n",
        "print('Solución por solve:\\n\\n', solbysolve)"
      ],
      "metadata": {
        "colab": {
          "base_uri": "https://localhost:8080/"
        },
        "id": "iVfccL2iDHUc",
        "outputId": "88a7b525-990f-41bc-b8a9-2e95c00146fe"
      },
      "execution_count": 130,
      "outputs": [
        {
          "output_type": "stream",
          "name": "stdout",
          "text": [
            "Solución por solve:\n",
            "\n",
            " [[ 1.06870229]\n",
            " [-1.84351145]\n",
            " [ 4.30534351]\n",
            " [-0.48473282]\n",
            " [-0.89312977]]\n"
          ]
        }
      ]
    },
    {
      "cell_type": "code",
      "source": [
        "# Método de la inversa de la matriz\n",
        "\n",
        "solbyinv = np.linalg.inv(m_aleatoria) @ b_aleatorio\n",
        "print('Solución por la inversa de la matriz:\\n\\n', solbyinv)"
      ],
      "metadata": {
        "colab": {
          "base_uri": "https://localhost:8080/"
        },
        "id": "ndCJvt9nDsxS",
        "outputId": "05e011b2-1e72-4a2b-fd71-3633b5df5d94"
      },
      "execution_count": 131,
      "outputs": [
        {
          "output_type": "stream",
          "name": "stdout",
          "text": [
            "Solución por la inversa de la matriz:\n",
            "\n",
            " [[ 1.06870229]\n",
            " [-1.84351145]\n",
            " [ 4.30534351]\n",
            " [-0.48473282]\n",
            " [-0.89312977]]\n"
          ]
        }
      ]
    },
    {
      "cell_type": "code",
      "source": [
        "# Comparación de errores\n",
        "error_solve = np.linalg.norm(solbysolve - solucion, ord = np.inf)\n",
        "error_inv = np.linalg.norm(solbyinv - solucion, ord = np.inf)\n",
        "error_solve_inv = np.linalg.norm(solbyinv - solbysolve)\n",
        "print('Error por solve:', round(error_solve,18), '\\nError por la inversa de la matriz:', round(error_inv,18), '\\nError entre solve y método de la inversa: ', round(error_solve_inv,16))"
      ],
      "metadata": {
        "colab": {
          "base_uri": "https://localhost:8080/"
        },
        "id": "mMW7wGbvD6wT",
        "outputId": "07c132ba-ba6c-4ffb-ebbe-4c9b372a3ea7"
      },
      "execution_count": 132,
      "outputs": [
        {
          "output_type": "stream",
          "name": "stdout",
          "text": [
            "Error por solve: 3.688830092989772e+77 \n",
            "Error por la inversa de la matriz: 3.688830092989772e+77 \n",
            "Error entre solve y método de la inversa:  3e-16\n"
          ]
        }
      ]
    },
    {
      "cell_type": "markdown",
      "source": [
        "#6\n",
        "\n",
        "Verifique que cualquier matriz hermitiana de 2 × 2 $ L $ puede escribirse como una suma de cuatro términos:\n",
        "\n",
        "$$ L = a\\sigma_x + b\\sigma_y + c\\sigma_z + dI $$\n",
        "\n",
        "donde $ a $, $ b $, $ c $ y $ d $ son números reales.\n",
        "\n",
        "Las cuatro matrices de Pauli son:\n",
        "\n",
        "$$ \\sigma_x = \\begin{pmatrix} 0 & 1 \\\\ 1 & 0 \\end{pmatrix}, \\quad \\sigma_y = \\begin{pmatrix} 0 & -i \\\\ i & 0 \\end{pmatrix}, \\quad \\sigma_z = \\begin{pmatrix} 1 & 0 \\\\ 0 & -1 \\end{pmatrix}, \\quad I = \\begin{pmatrix} 1 & 0 \\\\ 0 & 1 \\end{pmatrix} $$\n",
        "\n",
        "\n"
      ],
      "metadata": {
        "id": "iggu2jNwVpnK"
      }
    },
    {
      "cell_type": "code",
      "source": [
        "# Matrices de Pauli\n",
        "Px, Py, Pz, I = np.array([[0,1], [1,0]]) , (np.array([[0,-1j], [1j,0]])), np.array([[1,0], [0,-1]]) , np.array([[1,0], [0,1]])"
      ],
      "metadata": {
        "id": "8WN9_cOCV7cM"
      },
      "execution_count": 45,
      "outputs": []
    },
    {
      "source": [
        "a, b, c, d = sp.symbols('a b c d', real = True)\n",
        "incognitas = [a, b, c, d]\n",
        "\n",
        "def descomponer_matriz_hermitiana(L):\n",
        "  \"\"\"\n",
        "  Descompone una matriz hermitiana L en la forma:\n",
        "  L = a * sigma_x + b * sigma_y + c * sigma_z + d * I\n",
        "  donde a, b, c, d son los coeficientes reales y retorna los valores\n",
        "  de las constantes a, b, c y d.\n",
        "  \"\"\"\n",
        "  d = np.trace(L) / 2\n",
        "  c = (L[0, 0] - L[1, 1]) / 2\n",
        "  a = np.real(L[0, 1])\n",
        "  b = -np.imag(L[0, 1])\n",
        "\n",
        "  return a, b, c, d"
      ],
      "cell_type": "code",
      "metadata": {
        "id": "yGqMYfTb6KdF"
      },
      "execution_count": 47,
      "outputs": []
    },
    {
      "cell_type": "code",
      "source": [
        "hermitiana_de_prueba = np.array([[-1, 3j +1], [-3j +1, 5]]) # 2x2\n",
        "a, b, c, d = descomponer_matriz_hermitiana(hermitiana_de_prueba)\n",
        "print('Coeficientes obtenidos:\\n\\na:', a, '\\nb:', b, '\\nc:', c, '\\nd:', d) # Note que son reales todos porque las partes imaginarias son 0"
      ],
      "metadata": {
        "colab": {
          "base_uri": "https://localhost:8080/"
        },
        "id": "_xqUYLjF6jie",
        "outputId": "558227eb-4da0-4f49-88c6-5c92dced4c7a"
      },
      "execution_count": 48,
      "outputs": [
        {
          "output_type": "stream",
          "name": "stdout",
          "text": [
            "Coeficientes obtenidos:\n",
            "\n",
            "a: 1.0 \n",
            "b: -3.0 \n",
            "c: (-3+0j) \n",
            "d: (2+0j)\n"
          ]
        }
      ]
    },
    {
      "cell_type": "code",
      "source": [
        "# Reconstrucción de la matriz\n",
        "reconstruida = a * Px + b * Py + c * Pz + d * I\n",
        "print('Matriz reconstruida:\\n\\n', reconstruida)"
      ],
      "metadata": {
        "colab": {
          "base_uri": "https://localhost:8080/"
        },
        "id": "-72J3TOJ_AhK",
        "outputId": "4c8e9080-63be-4134-f10c-6dd8a9dc50aa"
      },
      "execution_count": 49,
      "outputs": [
        {
          "output_type": "stream",
          "name": "stdout",
          "text": [
            "Matriz reconstruida:\n",
            "\n",
            " [[-1.+0.j  1.+3.j]\n",
            " [ 1.-3.j  5.+0.j]]\n"
          ]
        }
      ]
    },
    {
      "cell_type": "code",
      "source": [
        "print(hermitiana_de_prueba)"
      ],
      "metadata": {
        "colab": {
          "base_uri": "https://localhost:8080/"
        },
        "id": "xw4eC63d_ytK",
        "outputId": "aadacf43-ca15-4a44-d7d0-ce0e84b176ce"
      },
      "execution_count": 50,
      "outputs": [
        {
          "output_type": "stream",
          "name": "stdout",
          "text": [
            "[[-1.+0.j  1.+3.j]\n",
            " [ 1.-3.j  5.+0.j]]\n"
          ]
        }
      ]
    },
    {
      "cell_type": "code",
      "source": [
        "print('Note que','las matriz reconstruida y la original son iguales, comprobando el teorema.') if np.allclose(hermitiana_de_prueba, reconstruida) else print('las matriz reconstruida y la original son diferentes')\n"
      ],
      "metadata": {
        "colab": {
          "base_uri": "https://localhost:8080/"
        },
        "id": "9OIcVcym_34a",
        "outputId": "05117f9f-11ec-4aeb-9493-aa82f03792c5"
      },
      "execution_count": 51,
      "outputs": [
        {
          "output_type": "stream",
          "name": "stdout",
          "text": [
            "Note que las matriz reconstruida y la original son iguales, comprobando el teorema.\n"
          ]
        }
      ]
    }
  ]
}