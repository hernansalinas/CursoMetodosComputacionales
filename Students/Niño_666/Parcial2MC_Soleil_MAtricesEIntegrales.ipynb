{
  "nbformat": 4,
  "nbformat_minor": 0,
  "metadata": {
    "colab": {
      "provenance": []
    },
    "kernelspec": {
      "name": "python3",
      "display_name": "Python 3"
    },
    "language_info": {
      "name": "python"
    }
  },
  "cells": [
    {
      "cell_type": "code",
      "execution_count": 222,
      "metadata": {
        "id": "aF61FjHUNGJA"
      },
      "outputs": [],
      "source": [
        "#@title Librerias\n",
        "import numpy as np\n",
        "import numpy.linalg as la\n",
        "import matplotlib.pyplot as plt\n",
        "from scipy.integrate import quad, fixed_quad, trapezoid, simpson, nquad\n",
        "from sympy import symbols, diff, integrate, lambdify\n",
        "import sympy as sp\n"
      ]
    },
    {
      "cell_type": "markdown",
      "source": [
        "# Parcial II - Métodos Computacionales (Integrales y Matrices)\n",
        "**2024-2**\n",
        "\n",
        "---\n",
        "\n",
        "*Nombre:* Soleil Dayana Niño Murcia\n",
        "\n",
        "*Identificación:* 1033097666\n",
        "\n",
        "---\n",
        "* Sea honest@\n",
        "* El uso de herramientas de IA no está permitido\n",
        "* Puede consultar la documentación de las librerias.\n",
        "* Sea ordendado dando la solución a cada punto.\n",
        "* *Asegurese que el notebook corra completamente*\n",
        "* Suba su notebook al GitHub (en su carpeta) y recuerde hacer pull-request"
      ],
      "metadata": {
        "id": "VqRX_GXcNZOl"
      }
    },
    {
      "cell_type": "markdown",
      "source": [
        "# 1\n",
        "\n",
        "**(20 puntos)**\n",
        "Considera la siguiente integral:\n",
        "\n",
        "$$\n",
        "I = \\int_0^1 \\int_{x^2}^{x+1} \\int_{y^2}^{y+2} \\int_{z^2}^{z+3} (x+y+z+w) \\, dw \\, dz \\, dy \\, dx\n",
        "$$\n",
        "\n",
        "Encuentre la solución númerica usando unicamente `quad`.\n",
        "\n",
        "```python\n",
        "# Definir el integrando\n",
        "integrand = lambda w, z, y, x: x + y + z + w\n",
        "\n",
        "# Definir los límites usando funciones lambda\n",
        "w_limits = lambda z, y, x: [z**2, z+3]\n",
        "z_limits = lambda y, x: [y**2, y+2]\n",
        "y_limits = lambda x: [x**2, x+1]\n",
        "x_limits = lambda: [0, 1]\n",
        "\n",
        "# Calcular la integral usando nquad\n",
        "result, error = nquad(\n",
        "    integrand,\n",
        "    [w_limits, z_limits, y_limits, x_limits]\n",
        ")\n",
        "\n",
        "print(f\"Resultado de la integral: {result}\")\n",
        "print(f\"Error estimado: {error}\")\n",
        "```\n",
        "\n"
      ],
      "metadata": {
        "id": "u1OxHrJINZ9c"
      }
    },
    {
      "source": [
        "# Definir el integrando\n",
        "integrand = lambda w, z, y, x: x + y + z + w\n",
        "\n",
        "# Definir los límites con funciones lambda\n",
        "w_limits = lambda z, y, x: [z**2, z + 3]\n",
        "z_limits = lambda y, x: [y**2, y + 2]\n",
        "y_limits = lambda x: [x**2, x + 1]\n",
        "x_limits = [0, 1]\n",
        "\n",
        "# Definir las funciones de integración anidadas\n",
        "def inner_integral(z, y, x):\n",
        "    return quad(integrand, w_limits(z, y, x)[0], w_limits(z, y, x)[1], args=(z, y, x))[0]\n",
        "\n",
        "def middle_integral(y, x):\n",
        "    return quad(inner_integral, z_limits(y, x)[0], z_limits(y, x)[1], args=(y, x))[0]\n",
        "\n",
        "def outer_integral(x):\n",
        "    return quad(middle_integral, y_limits(x)[0], y_limits(x)[1], args=(x))[0]\n",
        "\n",
        "integral = quad(outer_integral, x_limits[0], x_limits[1])[0]\n",
        "\n",
        "print(f\"Integral anidada en mi método: {integral}\")"
      ],
      "cell_type": "code",
      "metadata": {
        "colab": {
          "base_uri": "https://localhost:8080/"
        },
        "id": "lVQiJcqdpXza",
        "outputId": "2ee266e7-c5d6-4cf4-f42b-8ca1817c277e"
      },
      "execution_count": 223,
      "outputs": [
        {
          "output_type": "stream",
          "name": "stdout",
          "text": [
            "Integral anidada en mi método: -0.6500971589021813\n"
          ]
        }
      ]
    },
    {
      "cell_type": "markdown",
      "source": [
        "Encuentre el error relativo, para esto emplee el siguiente código que usa `nquad`:\n"
      ],
      "metadata": {
        "id": "EWoTlsb5YFSR"
      }
    },
    {
      "cell_type": "code",
      "source": [
        "\"\"\"\n",
        "Del código del enunciado\n",
        "\"\"\"\n",
        "\n",
        "# Definir el integrando\n",
        "integrand = lambda w, z, y, x: x + y + z + w\n",
        "\n",
        "# Definir los límites usando funciones lambda\n",
        "w_limits = lambda z, y, x: [z**2, z+3]\n",
        "z_limits = lambda y, x: [y**2, y+2]\n",
        "y_limits = lambda x: [x**2, x+1]\n",
        "x_limits = lambda: [0, 1]\n",
        "\n",
        "# Calcular la integral usando nquad\n",
        "result, error = nquad(\n",
        "    integrand,\n",
        "    [w_limits, z_limits, y_limits, x_limits]\n",
        ")\n",
        "\n",
        "print(f\"Resultado de la integral: {result}\")\n",
        "print(f\"Error estimado: {error}\")"
      ],
      "metadata": {
        "colab": {
          "base_uri": "https://localhost:8080/"
        },
        "id": "OvcGnONsYHHJ",
        "outputId": "88310bf6-f93a-4939-b59f-f9890d688ba6"
      },
      "execution_count": 224,
      "outputs": [
        {
          "output_type": "stream",
          "name": "stdout",
          "text": [
            "Resultado de la integral: -0.6500971589021813\n",
            "Error estimado: 1.8391891749223705e-12\n"
          ]
        }
      ]
    },
    {
      "cell_type": "code",
      "source": [
        "print('Mi integral', round(integral,5), 'vs. Quad', round(result,5))"
      ],
      "metadata": {
        "colab": {
          "base_uri": "https://localhost:8080/"
        },
        "id": "7rjMOExFps9T",
        "outputId": "75544c44-33f8-49d2-c1eb-3fc957649cc3"
      },
      "execution_count": 225,
      "outputs": [
        {
          "output_type": "stream",
          "name": "stdout",
          "text": [
            "Mi integral -0.6501 vs. Quad -0.6501\n"
          ]
        }
      ]
    },
    {
      "cell_type": "markdown",
      "source": [
        "# 2\n",
        "\n",
        "**(40 puntos)**\n",
        "Un lazo de corriente de radio $a$  transporta una corriente $I$ en el punto P que está a una distancia $r$ del centro del lazo con coordenadas esféricas (r, θ, φ). Resuelve para la componente φ del potencial vectorial en el punto $P$ en términos de integrales elípticas:\n",
        "\n",
        "\\begin{equation}\n",
        "A_{\\phi}(r, \\theta)=\\frac{\\mu_0}{4\\pi}\\frac{4Ia}{\\sqrt{a^2+r^2+2ar\\sin \\theta}}\\left(\\frac{(2-k^2)K(k)-2E(k)}{k^2} \\right)\n",
        "\\end{equation}\n",
        "\n",
        "donde\n",
        "\n",
        "\\begin{equation}\n",
        "K(k)=\\int_{0}^{\\pi/2} \\frac{\\mathrm{d\\phi}}{\\sqrt{1-k^2\\sin^2\\phi}}\n",
        "\\end{equation}\n",
        "\n",
        "\\begin{equation}\n",
        "E(k)=\\int_{0}^{\\pi/2} \\mathrm{d\\phi} \\sqrt{1-k^2\\sin^2\\phi}\n",
        "\\end{equation}\n",
        "\n",
        "\\begin{equation}\n",
        "k^2=\\frac{4ar\\sin\\theta}{a^2+r^2+2ar\\sin\\theta}\n",
        "\\end{equation}\n",
        "\n",
        "Aquí, $K(k)$ es una integral elíptica completa del primer tipo y $E(k)$ es una integral elíptica completa del segundo tipo.\n",
        "\n",
        "\n",
        "Para\n",
        "* $a$ = 1,\n",
        "* $I$ = 3,\n",
        "* $μ0/4π$ = 1\n",
        "\n",
        "\n",
        "Usando funciones explicitas explique claramente las entradas, salidas y procedimientos dentro de las mismas. Recuerde para resolver las integrales usar `quad`.\n",
        "\n"
      ],
      "metadata": {
        "id": "ryB1EksIOV_l"
      }
    },
    {
      "cell_type": "code",
      "source": [
        "a, I, mu04pi = 1, 3, 1\n",
        "theta, r = symbols('theta r')\n",
        "\n",
        "theta_vals, r_vals = np.linspace(0, np.pi, 100), np.linspace(0, 10, 100)"
      ],
      "metadata": {
        "id": "yGrEqwaNOh_8"
      },
      "execution_count": 226,
      "outputs": []
    },
    {
      "source": [
        "# Definir las funciones para K(k) y E(k)\n",
        "def K(k):\n",
        "    integrando_K = lambda phi: 1 / np.sqrt(1 - k**2 * np.sin(phi)**2)\n",
        "    resultado_K, _ = quad(integrando_K, 0, np.pi/2)\n",
        "    return resultado_K\n",
        "\n",
        "def E(k):\n",
        "    integrando_E = lambda phi: np.sqrt(1 - k**2 * np.sin(phi)**2)\n",
        "    resultado_E, _ = quad(integrando_E, 0, np.pi/2)\n",
        "    return resultado_E\n",
        "\n",
        "# Definir la función para A_phi(r, theta)\n",
        "def A_phi(r, theta):\n",
        "    k2 = (4 * a * r * np.sin(theta)) / (a**2 + r**2 + 2 * a * r * np.sin(theta))\n",
        "    k = np.sqrt(k2)\n",
        "\n",
        "    # Manejo de la singularidad cuando k = 0\n",
        "    if k == 0:\n",
        "        return 0  # Valor de A_phi cuando k = 0\n",
        "\n",
        "    resultado_A_phi = (4 * I * a / np.sqrt(a**2 + r**2 + 2 * a * r * np.sin(theta))) * (((2 - k2) * K(k) - 2 * E(k)) / k2)\n",
        "    return resultado_A_phi"
      ],
      "cell_type": "code",
      "metadata": {
        "id": "wWqdpUT-sCrT"
      },
      "execution_count": 242,
      "outputs": []
    },
    {
      "cell_type": "markdown",
      "source": [
        "grafique para:\n",
        "\n",
        "*a)* $A_φ(r = 1.1, θ)$ vs. $0\\leq θ\\leq \\pi$\n",
        "\n"
      ],
      "metadata": {
        "id": "OyNCdix7twpn"
      }
    },
    {
      "cell_type": "code",
      "source": [
        "theta_vals = np.linspace(0, np.pi, 100)\n",
        "A_phi_vals_a = [A_phi(1.1, theta) for theta in theta_vals]\n",
        "\n",
        "plt.figure(figsize=(8, 6))\n",
        "plt.plot(theta_vals, A_phi_vals_a, \"r--\")\n",
        "plt.xlabel(\"θ (rad)\")\n",
        "plt.ylabel(\"$A_φ$ \")\n",
        "plt.title(\"$A_φ(r = 1.1, θ)$ vs. $0\\leq θ\\leq \\pi$\")\n",
        "plt.grid(True)\n",
        "plt.show()"
      ],
      "metadata": {
        "colab": {
          "base_uri": "https://localhost:8080/",
          "height": 566
        },
        "id": "Lb1WrPumttol",
        "outputId": "286cf9ba-d6ba-43aa-a9c3-3c4e92d00e90"
      },
      "execution_count": 246,
      "outputs": [
        {
          "output_type": "display_data",
          "data": {
            "text/plain": [
              "<Figure size 800x600 with 1 Axes>"
            ],
            "image/png": "[encoded data removed]"
          },
          "metadata": {}
        }
      ]
    },
    {
      "cell_type": "markdown",
      "source": [
        "*b)* $A_φ(r, θ = π∕3)$ vs. $0\\leq r \\leq 10$"
      ],
      "metadata": {
        "id": "7_Khk9-Ur8M7"
      }
    },
    {
      "cell_type": "code",
      "source": [
        "r_vals = np.linspace(0, 10, 100)\n",
        "A_phi_vals_b = [A_phi(r, np.pi/3) for r in r_vals]\n",
        "\n",
        "plt.figure(figsize=(8, 6))\n",
        "plt.plot(r_vals, A_phi_vals_b, 'g--')\n",
        "plt.xlabel(\"Radio\")\n",
        "plt.ylabel(\"$A_φ(r = 1.1, θ)$ \")\n",
        "plt.title(\"$A_φ(r, θ = π∕3)$ vs. r\")\n",
        "plt.grid(True)\n",
        "plt.show()"
      ],
      "metadata": {
        "colab": {
          "base_uri": "https://localhost:8080/",
          "height": 566
        },
        "id": "sgD4VkIfr836",
        "outputId": "aa6022a6-dcea-4107-f32a-d5ab8fe1182e"
      },
      "execution_count": 245,
      "outputs": [
        {
          "output_type": "display_data",
          "data": {
            "text/plain": [
              "<Figure size 800x600 with 1 Axes>"
            ],
            "image/png": "[encoded data removed]"
          },
          "metadata": {}
        }
      ]
    },
    {
      "cell_type": "markdown",
      "source": [
        "# 3\n",
        "\n",
        "(**40 puntos**) El **método de la potencia inversa** es una técnica iterativa utilizada para calcular el autovalor de menor magnitud de una matriz cuadrada. Es una variante del **método de la potencia**, que normalmente encuentra el autovalor de mayor magnitud. Para ello, se aprovecha la propiedad de la matriz inversa:\n",
        "\n",
        "$$ A^{-1} v = \\frac{1}{\\lambda} v $$\n",
        "\n",
        "\n",
        "## Algoritmo\n",
        "\n",
        "El método de la potencia inversa sigue los siguientes pasos:\n",
        "\n",
        "1. Elegir un vector inicial $x^{(0)}$ no nulo.\n",
        "\n",
        "2. Para cada iteración $k$, resolver el sistema lineal:\n",
        "   \n",
        "   $$ A y^{(k)} = x^{(k-1)} $$\n",
        "   \n",
        "   donde $y^{(k)}$ es un **vector intermedio** que se obtiene resolviendo el sistema lineal. Este vector representa la solución del sistema en cada iteración y es crucial para aproximar el autovector de menor autovalor.\n",
        "\n",
        "3. Normalizar $y^{(k)}$ para obtener un nuevo vector de iteración:\n",
        "   \n",
        "   $$ x^{(k)} = \\frac{y^{(k)}}{\\| y^{(k)} \\|} $$\n",
        "   \n",
        "4. Aproximar el autovalor mediante el cociente de Rayleigh:\n",
        "   \n",
        "   $$ \\lambda^{(k)} = \\frac{(x^{(k)})^T A x^{(k)}}{(x^{(k)})^T x^{(k)}} $$\n",
        "   \n",
        "5. Repetir los pasos anteriores hasta que la diferencia entre valores sucesivos de $\\lambda$ sea menor que un umbral de tolerancia.\n",
        "\n",
        "---\n",
        "\n",
        "*a)* Escriba una función llamada `potencia_inversa` que dada una matriz A encuentre su valor propio menos dominante (con una tolerancia de 1e-7 usando la norma Euclidiana) y su correspondiente autovector. Para obtener $y^{(k)}$ puede emplear `np.linalg.solve` recordando que $Ay = x$.\n",
        "\n"
      ],
      "metadata": {
        "id": "pKubcNlWP0nc"
      }
    },
    {
      "cell_type": "code",
      "source": [
        "def potencia_inversa(A, tol = 1e-7):\n",
        "  \"\"\"\n",
        "  Toma:\n",
        "  A = una matriz\n",
        "\n",
        "\n",
        "  Retorna:\n",
        "  El autovalor menos dominante y su correspondiente autovector\n",
        "  \"\"\"\n",
        "  n = len(A)\n",
        "\n",
        "  # Tomar vector inicial no nulo\n",
        "  x0 = np.random.rand(n)\n",
        "  lambda_k = 0\n",
        "  new = 1000\n",
        "  while (abs(lambda_k - new)) > tol:\n",
        "\n",
        "    y_k = np.linalg.solve(A, x0) # 2. Hallar el vector intermedio\n",
        "\n",
        "    x_k = y_k / np.linalg.norm(y_k) # 3. Normalizar  y(k)  para obtener un nuevo vector de iteración\n",
        "\n",
        "    lambda_k_den = np.dot(np.transpose(x_k), np.dot(A, x_k)) # 4. Aproximar el autovalor mediante el cociente de Rayleigh\n",
        "    lambda_k_num = np.dot(np.transpose(x_k), x_k)\n",
        "    new = lambda_k_den / lambda_k_num\n",
        "    lambda_k = new\n",
        "\n",
        "  return lambda_k"
      ],
      "metadata": {
        "id": "ZhnTbHAgP4XJ"
      },
      "execution_count": 254,
      "outputs": []
    },
    {
      "cell_type": "markdown",
      "source": [
        "*b)* Usando la matriz A, encuentre el $\\lambda_{min}$ y el correspondiente autovector. Examine la convergencia de su autovalor en función de las iteraciones, esto es, haga un gráfico de $\\lambda(k)$\n",
        "\n",
        "$$\n",
        "\\begin{bmatrix}\n",
        "5 & 2 \\\\\n",
        "2 & 2\n",
        "\\end{bmatrix}\n",
        "$$\n"
      ],
      "metadata": {
        "id": "AbtBBgXNXhNB"
      }
    },
    {
      "cell_type": "code",
      "source": [
        "A_3 = np.array([[5,2], [2,2]])\n",
        "A_3"
      ],
      "metadata": {
        "id": "EqV8DBTRXj3w",
        "colab": {
          "base_uri": "https://localhost:8080/"
        },
        "outputId": "c0901b9b-d94f-4778-82ae-77e4a1d66772"
      },
      "execution_count": 255,
      "outputs": [
        {
          "output_type": "execute_result",
          "data": {
            "text/plain": [
              "array([[5, 2],\n",
              "       [2, 2]])"
            ]
          },
          "metadata": {},
          "execution_count": 255
        }
      ]
    },
    {
      "cell_type": "code",
      "source": [
        "min_eigen_func = potencia_inversa(A_3, 1e-7)\n",
        "min_eigen_func"
      ],
      "metadata": {
        "colab": {
          "base_uri": "https://localhost:8080/"
        },
        "id": "__1a_8XokhMO",
        "outputId": "ad7b1e46-faf8-4836-9fbd-4ccea76bf7c1"
      },
      "execution_count": 260,
      "outputs": [
        {
          "output_type": "execute_result",
          "data": {
            "text/plain": [
              "1.0477236844044777"
            ]
          },
          "metadata": {},
          "execution_count": 260
        }
      ]
    },
    {
      "cell_type": "markdown",
      "source": [
        "\n",
        "*c)* Compare su resultado con `np.linalg.eig`"
      ],
      "metadata": {
        "id": "1ySn3zggXi54"
      }
    },
    {
      "cell_type": "code",
      "source": [
        "all_eigen_real = np.linalg.eig(A_3)\n",
        "min_eigen_real = min(all_eigen_real[0])\n",
        "print('Todos los valores propios:\\n\\n', all_eigen_real[0], '\\n\\nMenor valor propio:', min_eigen_real)"
      ],
      "metadata": {
        "id": "pW0gzbzKXkQR",
        "colab": {
          "base_uri": "https://localhost:8080/"
        },
        "outputId": "0504f9d8-171f-4a3d-a2a0-9da20471b2a3"
      },
      "execution_count": 261,
      "outputs": [
        {
          "output_type": "stream",
          "name": "stdout",
          "text": [
            "Todos los valores propios:\n",
            "\n",
            " [6. 1.] \n",
            "\n",
            "Menor valor propio: 1.0\n"
          ]
        }
      ]
    },
    {
      "cell_type": "code",
      "source": [
        "# Comparar min_eigen_real con el mio\n",
        "print('Eigenvalor menos dominante por mi función:', round(min_eigen_func,4), 'vs. método np.linalg.eig', min_eigen_real)"
      ],
      "metadata": {
        "colab": {
          "base_uri": "https://localhost:8080/"
        },
        "id": "sUUUf2TInYH9",
        "outputId": "6453a847-1279-4917-de21-08db56c3a083"
      },
      "execution_count": 262,
      "outputs": [
        {
          "output_type": "stream",
          "name": "stdout",
          "text": [
            "Eigenvalor menos dominante por mi función: 1.0477 vs. método np.linalg.eig 1.0\n"
          ]
        }
      ]
    },
    {
      "cell_type": "code",
      "source": [
        "error = abs(min_eigen_real - min_eigen_func)\n",
        "print('El error es de ', round(error,5))"
      ],
      "metadata": {
        "colab": {
          "base_uri": "https://localhost:8080/"
        },
        "id": "Iwz3va9BuD6F",
        "outputId": "5bbe363f-7db1-44c7-bb13-3edcba00a987"
      },
      "execution_count": 265,
      "outputs": [
        {
          "output_type": "stream",
          "name": "stdout",
          "text": [
            "El error es de  0.04772\n"
          ]
        }
      ]
    },
    {
      "cell_type": "markdown",
      "source": [
        "#4\n",
        "\n",
        "**(10 puntos)**\n",
        "Sea $A$ una matriz cuadrada de tamaño $n \\times n$. Se sabe que el determinante de una matriz es igual al producto de sus autovalores:\n",
        "\n",
        "$$\n",
        "\\det(A) = \\prod_{i=1}^{n} \\lambda_i\n",
        "$$\n",
        "\n",
        "donde $\\lambda_1, \\lambda_2, \\dots, \\lambda_n$ son los autovalores de $A$.\n",
        "\n",
        "Usando una matriz aleatoria $A$ de $5\\times 5$, demuestre esta propiedad. Puede usar las funciones de `np.linalg`."
      ],
      "metadata": {
        "id": "Qz8QJCjWYds5"
      }
    },
    {
      "cell_type": "code",
      "source": [
        "# Defino la matriz aleatoria\n",
        "\n",
        "M_Aleatoria_A = np.random.randint(1, 10, (5,5))\n",
        "M_Aleatoria_A"
      ],
      "metadata": {
        "id": "TCWf5TUwYgKq",
        "colab": {
          "base_uri": "https://localhost:8080/"
        },
        "outputId": "3813f10d-860b-4367-96bf-193d49ffff63"
      },
      "execution_count": 234,
      "outputs": [
        {
          "output_type": "execute_result",
          "data": {
            "text/plain": [
              "array([[5, 6, 7, 2, 1],\n",
              "       [5, 1, 9, 8, 2],\n",
              "       [9, 2, 1, 8, 4],\n",
              "       [8, 4, 7, 5, 1],\n",
              "       [7, 8, 4, 6, 8]])"
            ]
          },
          "metadata": {},
          "execution_count": 234
        }
      ]
    },
    {
      "cell_type": "code",
      "source": [
        "eigenvalues = np.linalg.eigvals(M_Aleatoria_A)\n",
        "print('Autovalores\\n', eigenvalues)"
      ],
      "metadata": {
        "colab": {
          "base_uri": "https://localhost:8080/"
        },
        "id": "h-MhpYjgfua5",
        "outputId": "9a54a17a-dcaf-460d-d113-76dcd7113cdc"
      },
      "execution_count": 235,
      "outputs": [
        {
          "output_type": "stream",
          "name": "stdout",
          "text": [
            "Autovalores\n",
            " [24.5075559 +0.j          4.57439144+0.j         -4.26792154+3.33720631j\n",
            " -4.26792154-3.33720631j -0.54610427+0.j        ]\n"
          ]
        }
      ]
    },
    {
      "cell_type": "code",
      "source": [
        "determinante = np.prod(eigenvalues)\n",
        "print(determinante)"
      ],
      "metadata": {
        "colab": {
          "base_uri": "https://localhost:8080/"
        },
        "id": "07l9d1QNgbJh",
        "outputId": "468892f8-3790-49ad-f14b-b2eb778d7a89"
      },
      "execution_count": 236,
      "outputs": [
        {
          "output_type": "stream",
          "name": "stdout",
          "text": [
            "(-1797.0000000000055+0j)\n"
          ]
        }
      ]
    },
    {
      "cell_type": "code",
      "source": [
        "det_real = np.linalg.det(M_Aleatoria_A)\n",
        "print(det_real)"
      ],
      "metadata": {
        "colab": {
          "base_uri": "https://localhost:8080/"
        },
        "id": "Gq18wcbigdoa",
        "outputId": "51d2ce81-98db-48e6-a4ee-6f9b5d9b1206"
      },
      "execution_count": 237,
      "outputs": [
        {
          "output_type": "stream",
          "name": "stdout",
          "text": [
            "-1797.0000000000005\n"
          ]
        }
      ]
    },
    {
      "cell_type": "code",
      "source": [
        "print('El determinante por el producto de autovalores es:', round(determinante), '\\n\\nEl determinante real por numpy es:', round(det_real),'.\\n\\nLos valores son equivalentes, comprobando el teorema.')\n"
      ],
      "metadata": {
        "colab": {
          "base_uri": "https://localhost:8080/"
        },
        "id": "b3lU5YWYgy_p",
        "outputId": "6190d37f-4c2a-4f31-9f3a-e847277b201d"
      },
      "execution_count": 238,
      "outputs": [
        {
          "output_type": "stream",
          "name": "stdout",
          "text": [
            "El determinante por el producto de autovalores es: (-1797+0j) \n",
            "\n",
            "El determinante real por numpy es: -1797 .\n",
            "\n",
            "Los valores son equivalentes, comprobando el teorema.\n"
          ]
        },
        {
          "output_type": "stream",
          "name": "stderr",
          "text": [
            "<ipython-input-238-b1fbe353f569>:1: DeprecationWarning: The Python built-in `round` is deprecated for complex scalars, and will raise a `TypeError` in a future release. Use `np.round` or `scalar.round` instead.\n",
            "  print('El determinante por el producto de autovalores es:', round(determinante), '\\n\\nEl determinante real por numpy es:', round(det_real),'.\\n\\nLos valores son equivalentes, comprobando el teorema.')\n"
          ]
        }
      ]
    }
  ]
}