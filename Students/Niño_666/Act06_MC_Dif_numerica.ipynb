{
  "nbformat": 4,
  "nbformat_minor": 0,
  "metadata": {
    "colab": {
      "provenance": []
    },
    "kernelspec": {
      "name": "python3",
      "display_name": "Python 3"
    },
    "language_info": {
      "name": "python"
    }
  },
  "cells": [
    {
      "cell_type": "markdown",
      "source": [
        "# Librería\n",
        "\n",
        "\n"
      ],
      "metadata": {
        "id": "SBnGRA9zn_yL"
      }
    },
    {
      "cell_type": "code",
      "execution_count": 59,
      "metadata": {
        "id": "rZuc8vXcWuxy"
      },
      "outputs": [],
      "source": [
        "import numpy as np\n",
        "import matplotlib.pyplot as plt\n",
        "import pandas as pd\n",
        "import sympy as sp\n",
        "import scipy.linalg as la\n",
        "from scipy.interpolate import lagrange\n",
        "from scipy.interpolate import CubicHermiteSpline\n",
        "import scipy.interpolate\n",
        "from scipy.stats import norm\n",
        "from scipy.integrate import quad\n",
        "from scipy.optimize import newton, bisect, root_scalar, fixed_point\n",
        "from scipy.integrate import trapezoid, simpson"
      ]
    },
    {
      "cell_type": "markdown",
      "source": [
        "# Actividad 06: Diferenciación númerica\n",
        "\n",
        "---\n",
        "### Profesor: Juan Marcos Marín\n",
        "### Nombre: Soleil Dayana Niño Murcia\n",
        "*Métodos computacionales 2024-II*\n",
        "\n",
        "---"
      ],
      "metadata": {
        "id": "MGwGfceuWxy3"
      }
    },
    {
      "cell_type": "markdown",
      "source": [
        "# 1.\n",
        "Implementar el método de la derivada de cinco puntos a través de una función llamada `five_point_derivative`. Luego,\n",
        "* Calcule el valor para $f(x) = \\cos(x)$ utilizando un arreglo con 10 datos $[0\\leq x\\leq 2\\pi]$ y evalue $f''(\\pi/8)$ con $h = 0.05$.\n",
        "\n",
        "\n"
      ],
      "metadata": {
        "id": "E8ME9Aa7TbKA"
      }
    },
    {
      "cell_type": "code",
      "execution_count": 60,
      "metadata": {
        "id": "vyTohkly7IW_"
      },
      "outputs": [],
      "source": [
        "def five_point_derivative(f, h=1e-5):\n",
        "  g = lambda x0 : (f(x0 + 2*h) - 8*f(x0 + h) + 8*f(x0 - h) - f(x0 - 2*h)) / (12 * h)\n",
        "  return g # Entrega una función equivalente a f'(x)"
      ]
    },
    {
      "cell_type": "code",
      "source": [
        "f = lambda x: np.cos(x)\n",
        "xlinspace = np.linspace(0, 2*np.pi, 10)\n",
        "\n",
        "f_eval = f(xlinspace) # Evalúa la función entre 0 y 2pi\n",
        "\n",
        "df = five_point_derivative(f, h=0.05)\n",
        "df2 = five_point_derivative(df, h=0.05)\n",
        "\n",
        "print('El valor de f''(π/8)  con h=0.05 es',df2(np.pi/8))"
      ],
      "metadata": {
        "id": "1YkHs_-18cG8",
        "colab": {
          "base_uri": "https://localhost:8080/"
        },
        "outputId": "b25483aa-1225-4a9a-a5bd-b8d59b602b5e"
      },
      "execution_count": 61,
      "outputs": [
        {
          "output_type": "stream",
          "name": "stdout",
          "text": [
            "El valor de f(π/8)  con h=0.05 es -0.9238791476760557\n"
          ]
        }
      ]
    },
    {
      "cell_type": "markdown",
      "source": [
        "* Encuentre el error de su aproximación. ¿Mejorará con un $h$ menor o mayor?"
      ],
      "metadata": {
        "id": "9WCAReIl-KYI"
      }
    },
    {
      "cell_type": "code",
      "source": [
        "x_sym = sp.Symbol('x')\n",
        "f_sp = sp.cos(x_sym)\n",
        "df_sp = sp.diff(f_sp, x_sym)\n",
        "df_sp\n",
        "valor_real = sp.diff(df_sp, x_sym).subs(x_sym, np.pi/8)\n",
        "print('El valor de f''(π/8) por scipy con h=0.05 es',valor_real)\n",
        "error = np.abs(df2(np.pi/8) - valor_real)\n",
        "print(f\"El error del cálculo empleando derivada de 5 puntos es es de {error}.\")"
      ],
      "metadata": {
        "colab": {
          "base_uri": "https://localhost:8080/"
        },
        "id": "-kkq1bw4G71l",
        "outputId": "48274626-02a7-484e-f5ad-6849e30bdc4c"
      },
      "execution_count": 62,
      "outputs": [
        {
          "output_type": "stream",
          "name": "stdout",
          "text": [
            "El valor de f(π/8) por scipy con h=0.05 es -0.923879532511287\n",
            "El error del cálculo empleando derivada de 5 puntos es es de 3.84835231015401E-7.\n"
          ]
        }
      ]
    },
    {
      "source": [
        "errores, h_val = [], []\n",
        "\n",
        "x_sym = sp.Symbol('x')\n",
        "f_sp = sp.cos(x_sym)\n",
        "df_sp = sp.diff(f_sp, x_sym)\n",
        "df_sp_num = df_sp.subs(x_sym, np.pi/8)\n",
        "\n",
        "f_num = lambda x: np.cos(x)\n",
        "\n",
        "for i in range(1,500):\n",
        "  h = 0.05 / i\n",
        "  df = five_point_derivative(f_num, h=h)\n",
        "  error = np.abs(df(np.pi/8) - df_sp_num)\n",
        "  errores.append(error)\n",
        "  h_val.append(h)\n",
        "\n",
        "errores = np.array(errores)\n",
        "h_val = np.array(h_val)\n",
        "\n",
        "plt.plot(h_val, errores, color = 'red')\n",
        "plt.xlabel('h')\n",
        "plt.ylabel('Error')\n",
        "plt.title('Error vs h')\n",
        "plt.show()"
      ],
      "cell_type": "code",
      "metadata": {
        "colab": {
          "base_uri": "https://localhost:8080/",
          "height": 472
        },
        "id": "05yyUm3aIJr4",
        "outputId": "d872219a-2cc7-494b-c0d2-0daa14bcfab6"
      },
      "execution_count": 63,
      "outputs": [
        {
          "output_type": "display_data",
          "data": {
            "text/plain": [
              "<Figure size 640x480 with 1 Axes>"
            ],
            "image/png": "[encoded data removed]"
          },
          "metadata": {}
        }
      ]
    },
    {
      "cell_type": "markdown",
      "source": [
        "La aproximación mejora entre mayor sea el h, disminuyendo el error."
      ],
      "metadata": {
        "id": "mQKZW8h9ISrx"
      }
    },
    {
      "cell_type": "markdown",
      "source": [
        "#2.\n",
        "Considere la función:\n",
        "\n",
        "$$f(x) = x e^x$$\n",
        "\n",
        "Encuentre la derivada númerica $f'(x)$ y $f''(x)$ para $x = 2.0$ usando diferencias finitas. Considere un arreglo con 6 puntos $[1.8\\leq x\\leq 2.2]$.\n"
      ],
      "metadata": {
        "id": "Dx40CzPL-V8i"
      }
    },
    {
      "cell_type": "code",
      "source": [
        "def centered_diff(y, x):\n",
        "    \"\"\"\n",
        "    Aproxima la primera derivada de f en x usando el método de diferencia central.\n",
        "    y: valores de la función (Series o array)\n",
        "    x: puntos en\n",
        "     los que se evaluó la función (Series o array)\n",
        "    return: primera derivada de f en x\n",
        "    \"\"\"\n",
        "    x, y = np.array(x), np.array(y)\n",
        "    return (y[1:] - y[:-1]) / (x[1:] - x[:-1])"
      ],
      "metadata": {
        "id": "In4DYLKp_iuo"
      },
      "execution_count": 79,
      "outputs": []
    },
    {
      "cell_type": "code",
      "execution_count": 80,
      "metadata": {
        "id": "a2ZJlGT58g3Z"
      },
      "outputs": [],
      "source": [
        "f = lambda x: x * np.exp(x)\n",
        "points = np.linspace(1.8, 2.2, 6) # Arreglo de 6 puntos [1.8≤x≤2.2]"
      ]
    },
    {
      "cell_type": "code",
      "source": [
        "df = centered_diff(f(points), points) # Primera derivada, con diferencias centradas\n",
        "df_mean = df.mean()\n",
        "print('Primera derivada con dif. centradas en x = 2:', df_mean.round(2))"
      ],
      "metadata": {
        "colab": {
          "base_uri": "https://localhost:8080/"
        },
        "id": "G1ON0J1F-u20",
        "outputId": "a60d0f5f-6433-4e97-fa6c-efebce86262a"
      },
      "execution_count": 81,
      "outputs": [
        {
          "output_type": "stream",
          "name": "stdout",
          "text": [
            "Primera derivada con dif. centradas en x = 2: 22.41\n"
          ]
        }
      ]
    },
    {
      "cell_type": "code",
      "source": [
        "df2 = centered_diff(df, points [:-1]) # Segunda derivada, con diferencias centradas\n",
        "second_df = df2.mean()\n",
        "print('Segunda derivada empleando diferencias centradas, evaluada en x = 2:', second_df.round(2))\n",
        "# Verifiqué evaluando y son bastante aertados los valores"
      ],
      "metadata": {
        "id": "ygu67HeYAjvi",
        "colab": {
          "base_uri": "https://localhost:8080/"
        },
        "outputId": "f334b79a-1e73-4ecb-a066-e0a4d2dc4e4c"
      },
      "execution_count": 82,
      "outputs": [
        {
          "output_type": "stream",
          "name": "stdout",
          "text": [
            "Segunda derivada empleando diferencias centradas, evaluada en x = 2: 29.76\n"
          ]
        }
      ]
    },
    {
      "cell_type": "markdown",
      "source": [
        "*   Cambie los valores de $h$ desde 0.01 hasta 0.1 (tomando 10 diferentes) y compare su resultado con el dado por `scipy` y `numpy.gradient`"
      ],
      "metadata": {
        "id": "pJHEJmylKVQV"
      }
    },
    {
      "cell_type": "code",
      "source": [
        "# Segunda derivada empleando scipy\n",
        "x  = sp.Symbol('x')\n",
        "f = x * sp.exp(x)\n",
        "sp_diff =   sp.diff(f)\n",
        "sp_diff2 = sp.diff(sp_diff)\n",
        "sp_diff2eval = sp_diff2.subs(x, 2) # f\"(2) por scipy\n",
        "sp_diff2eval # Valor comprobado, está correcto"
      ],
      "metadata": {
        "colab": {
          "base_uri": "https://localhost:8080/",
          "height": 39
        },
        "id": "31-_Gbkv_-ce",
        "outputId": "30e261c3-4658-41bd-ae20-bf1344a1711b"
      },
      "execution_count": 83,
      "outputs": [
        {
          "output_type": "execute_result",
          "data": {
            "text/plain": [
              "4*exp(2)"
            ],
            "text/latex": "$\\displaystyle 4 e^{2}$"
          },
          "metadata": {},
          "execution_count": 83
        }
      ]
    },
    {
      "source": [
        "f = lambda x: x * np.exp(x)\n",
        "x = np.linspace(1.8, 2.2, 6)\n",
        "df_gr = np.gradient(f(x), x)  # Primera derivada\n",
        "df_gr_mean = df_gr.mean()\n",
        "print('Primera derivada método Gradient (x=2): ', df_gr_mean.round(2))\n",
        "df2_gradient = np.gradient(df_gr, x) # Segunda derivada\n",
        "\n",
        "df2_gradient_mean = df2_gradient.mean()\n",
        "print('2da derivada método Gradient (x=2): ', df2_gradient_mean.round(2))"
      ],
      "cell_type": "code",
      "metadata": {
        "colab": {
          "base_uri": "https://localhost:8080/"
        },
        "id": "XxUN8Zbomlg7",
        "outputId": "08d78ead-c047-43bb-9f99-ba1b3980a311"
      },
      "execution_count": 84,
      "outputs": [
        {
          "output_type": "stream",
          "name": "stdout",
          "text": [
            "Primera derivada método Gradient (x=2):  22.45\n",
            "2da derivada método Gradient (x=2):  22.33\n"
          ]
        }
      ]
    },
    {
      "cell_type": "markdown",
      "source": [
        "*   ¿Cuál será el valor óptimo de $h$?"
      ],
      "metadata": {
        "id": "lXBo-44DFTRA"
      }
    },
    {
      "cell_type": "code",
      "source": [
        "# Una función equivalente a la que ya comprobamos, pero que emplee un h es:\n",
        "def h_centered_diff(f, x, h):\n",
        "    return (f(x + h) - f(x - h)) / (2 * h)\n",
        "\n",
        "h_values = np.linspace(0.01, 0.1, 10)\n",
        "optimal_h = None\n",
        "min_error = float('inf')\n",
        "\n",
        "x_sym = sp.Symbol('x')\n",
        "f_sp = x_sym * sp.exp(x_sym)\n",
        "df_sp = sp.diff(f_sp)\n",
        "df_sp_num = df_sp.subs(x_sym, 2)\n",
        "\n",
        "f_num = lambda x: x * np.exp(x)\n",
        "\n",
        "for h in h_values:\n",
        "  df_approx = h_centered_diff(f_num, 2, h)\n",
        "  error = np.abs(df_approx - df_sp_num)\n",
        "  if error < min_error:\n",
        "    min_error = error\n",
        "    optimal_h = h\n",
        "\n",
        "print(\"El valor óptimo de h es:\", optimal_h)\n",
        "print(\"Error mínimo:\", min_error)\n",
        "#Dentro de nuestro arreglo para h, el valor más óptimo será el menor h, pues toma saltos más pequeños y reduce el error"
      ],
      "metadata": {
        "colab": {
          "base_uri": "https://localhost:8080/"
        },
        "id": "OJBYjwiptLAq",
        "outputId": "7a6ce463-146e-45ef-a9af-457225fd8007"
      },
      "execution_count": 85,
      "outputs": [
        {
          "output_type": "stream",
          "name": "stdout",
          "text": [
            "El valor óptimo de h es: 0.01\n",
            "Error mínimo: 22.1677840557769 - 3*exp(2)\n"
          ]
        }
      ]
    },
    {
      "cell_type": "markdown",
      "source": [
        "#3.\n",
        "Compare la primera derivada del punto 2 usando los métodos de diferencias finitas, derivada de tres y cinco puntos para el $h$ con el menor error encontrado en el punto anterior. Encuentre los errores."
      ],
      "metadata": {
        "id": "7K2ZmIuYAkNi"
      }
    },
    {
      "cell_type": "code",
      "source": [
        "# Derivada por tres y cinco puntos\n",
        "f = lambda x: x * np.exp(x)\n",
        "df_tres_puntos =  (f(2+h) - f(2-h))/(2*h)\n",
        "df_cinco_puntos = -five_point_derivative(f, h=0.01)(2) #empleando el menor h\n",
        "df_cinco_puntos"
      ],
      "metadata": {
        "colab": {
          "base_uri": "https://localhost:8080/"
        },
        "id": "BIFTSeQtuMa5",
        "outputId": "b0b2675a-17ac-44bf-952a-a8298f223141"
      },
      "execution_count": 89,
      "outputs": [
        {
          "output_type": "execute_result",
          "data": {
            "text/plain": [
              "22.16716827955015"
            ]
          },
          "metadata": {},
          "execution_count": 89
        }
      ]
    },
    {
      "cell_type": "code",
      "source": [
        "print('Primera derivada ya evaluada en x=2 por: \\nDiferencias finitas: ', df_mean.round(2))\n",
        "print('Tres puntos: ', df_tres_puntos.round(2))\n",
        "print('Cinco puntos: ',df_cinco_puntos.round(2))"
      ],
      "metadata": {
        "id": "cuxaqe34rkS6",
        "colab": {
          "base_uri": "https://localhost:8080/"
        },
        "outputId": "f016f053-b44a-4e34-c8b2-1be57f809c2b"
      },
      "execution_count": 96,
      "outputs": [
        {
          "output_type": "stream",
          "name": "stdout",
          "text": [
            "Primera derivada ya evaluada en x=2 por: \n",
            "Diferencias finitas:  22.41\n",
            "Tres puntos:  22.23\n",
            "Cinco puntos:  22.17\n"
          ]
        }
      ]
    },
    {
      "cell_type": "code",
      "source": [
        "error_df_finitas = np.abs(df_mean - df_sp_num)\n",
        "error_df_finitas"
      ],
      "metadata": {
        "colab": {
          "base_uri": "https://localhost:8080/",
          "height": 39
        },
        "id": "zcMgSmYqwf1C",
        "outputId": "2274ee22-8ee5-474c-c0fd-49e0dde6e27a"
      },
      "execution_count": 105,
      "outputs": [
        {
          "output_type": "execute_result",
          "data": {
            "text/plain": [
              "22.4141606570294 - 3*exp(2)"
            ],
            "text/latex": "$\\displaystyle 22.4141606570294 - 3 e^{2}$"
          },
          "metadata": {},
          "execution_count": 105
        }
      ]
    },
    {
      "cell_type": "code",
      "source": [
        "error_df_tres = np.abs(df_tres_puntos - df_sp_num)\n",
        "error_df_tres"
      ],
      "metadata": {
        "colab": {
          "base_uri": "https://localhost:8080/",
          "height": 39
        },
        "id": "gyVmNH52xOZe",
        "outputId": "8c206a43-a6e6-49fe-aa49-fe451c8d1bfd"
      },
      "execution_count": 106,
      "outputs": [
        {
          "output_type": "execute_result",
          "data": {
            "text/plain": [
              "22.2287868803073 - 3*exp(2)"
            ],
            "text/latex": "$\\displaystyle 22.2287868803073 - 3 e^{2}$"
          },
          "metadata": {},
          "execution_count": 106
        }
      ]
    },
    {
      "cell_type": "code",
      "source": [
        "error_df_cinco = np.abs(df_cinco_puntos - df_sp_num)\n",
        "error_df_cinco"
      ],
      "metadata": {
        "colab": {
          "base_uri": "https://localhost:8080/",
          "height": 39
        },
        "id": "5pwHFbYfxUDN",
        "outputId": "f6941ccb-2f61-4e6d-a403-85482d6f4f3b"
      },
      "execution_count": 107,
      "outputs": [
        {
          "output_type": "execute_result",
          "data": {
            "text/plain": [
              "-22.1671682795502 + 3*exp(2)"
            ],
            "text/latex": "$\\displaystyle -22.1671682795502 + 3 e^{2}$"
          },
          "metadata": {},
          "execution_count": 107
        }
      ]
    }
  ]
}