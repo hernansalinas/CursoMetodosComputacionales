{
  "nbformat": 4,
  "nbformat_minor": 0,
  "metadata": {
    "colab": {
      "provenance": []
    },
    "kernelspec": {
      "name": "python3",
      "display_name": "Python 3"
    },
    "language_info": {
      "name": "python"
    }
  },
  "cells": [
    {
      "cell_type": "markdown",
      "source": [
        "# Actividad 02: Librerias y modelamiento básico\n",
        "\n",
        "### Profesor: Juan Marcos Marín Ramírez\n",
        "#### Métodos Computacionales 2024-2\n",
        "---\n",
        "1. Una persona conduce una moto con rapidez constante $v_m$, mientras que un policia lo hace con aceleración constante $a_p$ (iniciando desde el reposo). Suponga que ambos movimientos inician en $t=0$, haga una gráfica para el movimiento de la moto y del policia, donde el usuario ingrese la velocidad (moto) y aceleración (policia). Además determine el instante $t$ en el cual se encuentran ambos. Ambos movimientos iniciarán en $x_i = 0$\n",
        "\n",
        "**Pruebe**: para $v_m$ = 15m/s y $a_p$ = 3 m/s², el tiempo deberia ser 10 s\n",
        "\n",
        "\n",
        "$$x_f = x_i + v_m\\cdot t$$\n",
        "\n",
        "$$x_f = x_i + v_o\\cdot t + \\frac{1}{2}a_p\\cdot t^2$$\n",
        "\n",
        "---\n",
        "\n",
        "2. El potencial Lennard-Jones es un modelo simple que aproxima la interacción entre un par de moléculas neutras. Este está definido como:\n",
        "\n",
        "$$\n",
        "V(r) = 4\\epsilon \\left[ \\left( \\frac{\\sigma}{r} \\right)^{12} - \\left( \\frac{\\sigma}{r} \\right)^{6} \\right]\n",
        "$$\n",
        "\n",
        "Donde:\n",
        "- $V(r)$ es el potencial en función de la distancia interatómica $r$.\n",
        "- $\\epsilon$ es la profundidad del pozo de potencial, es decir, la energía mínima que describe la interacción entre dos partículas.\n",
        "- $\\sigma$ es la distancia a la cual el potencial es cero, también conocido como el parámetro de distancia.\n",
        "- $r$ es la distancia entre las dos partículas.\n",
        "\n",
        "a. Escriba una función para encontrar modelar el potencial LJ.\n",
        "\n",
        "\n",
        "b. Usando $\\sigma = \\epsilon = 1$ demuestre que la distancia de equilibrio $r_m$ es aproximadamente $r_m = 2^{1/16}\\sigma$. Para esto realice un gráfico del potencial, especificando los ejes. Trunque la serie en $r_c = 2.5\\sigma$.\n",
        "\n",
        "\n",
        "c. Verifique que $r_m = 2^{1/16}\\sigma$ se cumple para diferentes valores de $\\sigma$, dejando $\\epsilon$ constante.\n",
        "\n",
        "\n",
        "---\n",
        "3.  El siguiente código exporta tablas html de sitios web\n",
        "\n",
        "```python\n",
        "import pandas as pd\n",
        "\n",
        "# Dataset 1\n",
        "# URL of the webpage\n",
        "url = \"https://worldpopulationreview.com/country-rankings/average-height-by-country\"\n",
        "\n",
        "# Read the HTML content\n",
        "html_content = pd.read_html(url)\n",
        "\n",
        "alturas = html_content[2]\n",
        "\n",
        "# Dataset 2\n",
        "# URL of the webpage\n",
        "url = \"https://worldpopulationreview.com/country-rankings/average-net-worth-by-country\"\n",
        "\n",
        "# Read the HTML content\n",
        "html_content = pd.read_html(url)\n",
        "\n",
        "income = html_content[0]\n",
        "````\n",
        "\n",
        "El primer dataset muestra las alturas medias de niñ@s de 5, 10, 15 y 19 años.\n",
        "\n",
        "a. Limpie los datos, eliminando columnas en *(in)* y cambie todos los nombres al español.\n",
        "\n",
        "\n",
        "b. Realice un gráfico de barras, donde se muestre una comparación de la estatura media para niños y niñas en ambas categorias. Esto para los primeros 10 paises con mayor y menor altura, además agregue a Colombia.\n",
        "\n",
        "c. ¿Existirá una relación entre la riqueza y la altura? Usando el dataset `income`, haga un merge con el dataset `alturas`. Ahora, empleando los datos de altura para los 10 mayores (19 años) y 10 menores (19 años). Realice un gráfico donde relacione la altura media con el GDP y concluya si existe alguna relación.\n",
        "\n",
        "\n"
      ],
      "metadata": {
        "id": "bNNL2MFbe1T3"
      }
    },
    {
      "cell_type": "markdown",
      "source": [
        "**1**"
      ],
      "metadata": {
        "id": "sLSYn4NrpPV6"
      }
    },
    {
      "cell_type": "code",
      "source": [
        "import numpy as np"
      ],
      "metadata": {
        "id": "crKt6xXUe4mb"
      },
      "execution_count": null,
      "outputs": []
    },
    {
      "cell_type": "code",
      "source": [
        "vm=int(input('ingrese la velocidad de la moto'))\n",
        "ap=int(input('ingrese la aceleración del policia'))\n"
      ],
      "metadata": {
        "colab": {
          "base_uri": "https://localhost:8080/"
        },
        "id": "b-CyFRFFfNBp",
        "outputId": "66901f10-7cec-4ba4-de42-42cab65b8435"
      },
      "execution_count": null,
      "outputs": [
        {
          "name": "stdout",
          "output_type": "stream",
          "text": [
            "ingrese la velocidad de la moto15\n",
            "ingrese la aceleración del policia10\n"
          ]
        }
      ]
    },
    {
      "cell_type": "code",
      "source": [
        "x=np.linspace(0,12,int(tiempo_max))\n",
        "x"
      ],
      "metadata": {
        "colab": {
          "base_uri": "https://localhost:8080/"
        },
        "id": "KjwnLpVnfM6a",
        "outputId": "6ce58468-93e0-4079-c650-818d46e9aba5"
      },
      "execution_count": null,
      "outputs": [
        {
          "output_type": "execute_result",
          "data": {
            "text/plain": [
              "array([ 0.,  1.,  2.,  3.,  4.,  5.,  6.,  7.,  8.,  9., 10., 11., 12.])"
            ]
          },
          "metadata": {},
          "execution_count": 47
        }
      ]
    },
    {
      "cell_type": "code",
      "source": [
        "y1=vm*x\n",
        "y1"
      ],
      "metadata": {
        "colab": {
          "base_uri": "https://localhost:8080/"
        },
        "id": "2_GKvAkjgebV",
        "outputId": "8bb24c26-eb0c-49ef-e7f1-32f66194da48"
      },
      "execution_count": null,
      "outputs": [
        {
          "output_type": "execute_result",
          "data": {
            "text/plain": [
              "array([  0.,  15.,  30.,  45.,  60.,  75.,  90., 105., 120., 135., 150.,\n",
              "       165., 180.])"
            ]
          },
          "metadata": {},
          "execution_count": 48
        }
      ]
    },
    {
      "cell_type": "code",
      "source": [
        "y2=(1/2)*ap*(x)**2\n",
        "y2"
      ],
      "metadata": {
        "colab": {
          "base_uri": "https://localhost:8080/"
        },
        "id": "mWaDghLlheNZ",
        "outputId": "8d9e5b0f-c154-4305-b187-abe9282e1a2c"
      },
      "execution_count": null,
      "outputs": [
        {
          "output_type": "execute_result",
          "data": {
            "text/plain": [
              "array([  0.,   5.,  20.,  45.,  80., 125., 180., 245., 320., 405., 500.,\n",
              "       605., 720.])"
            ]
          },
          "metadata": {},
          "execution_count": 49
        }
      ]
    },
    {
      "cell_type": "code",
      "source": [
        "import matplotlib.pyplot as plt"
      ],
      "metadata": {
        "id": "pMCoKRNRh4eh"
      },
      "execution_count": null,
      "outputs": []
    },
    {
      "cell_type": "code",
      "source": [
        "raiz=np.sqrt((vm)**2)\n",
        "raiz"
      ],
      "metadata": {
        "colab": {
          "base_uri": "https://localhost:8080/"
        },
        "id": "oR2aDH_8nD5x",
        "outputId": "2f31849c-a287-44ec-cc8d-c4bca3b8e00d"
      },
      "execution_count": null,
      "outputs": [
        {
          "output_type": "execute_result",
          "data": {
            "text/plain": [
              "15.0"
            ]
          },
          "metadata": {},
          "execution_count": 50
        }
      ]
    },
    {
      "cell_type": "code",
      "source": [
        "tiempo=((vm+raiz)/ap)\n",
        "tiempo_max=tiempo+(0.4)*tiempo\n",
        "tiempo_max"
      ],
      "metadata": {
        "colab": {
          "base_uri": "https://localhost:8080/"
        },
        "id": "XJn1GNhDkk_U",
        "outputId": "c20f7568-95c5-49c9-ec62-075dafdecb95"
      },
      "execution_count": null,
      "outputs": [
        {
          "output_type": "execute_result",
          "data": {
            "text/plain": [
              "4.2"
            ]
          },
          "metadata": {},
          "execution_count": 60
        }
      ]
    },
    {
      "cell_type": "code",
      "source": [
        "y1_tiempo=vm*tiempo\n",
        "y1_max=y1_tiempo+2*y1_tiempo\n",
        "y1_max"
      ],
      "metadata": {
        "colab": {
          "base_uri": "https://localhost:8080/"
        },
        "id": "3Gnr3i-LJLRj",
        "outputId": "91a3f7d1-b447-47b2-de58-ec9044f1d215"
      },
      "execution_count": null,
      "outputs": [
        {
          "output_type": "execute_result",
          "data": {
            "text/plain": [
              "135.0"
            ]
          },
          "metadata": {},
          "execution_count": 75
        }
      ]
    },
    {
      "cell_type": "code",
      "source": [
        "print('el instante en el que se encuentran es ', tiempo)"
      ],
      "metadata": {
        "colab": {
          "base_uri": "https://localhost:8080/"
        },
        "id": "1RGfQ_6moNpt",
        "outputId": "a557aeb6-ba3b-458b-aa58-e10da3936730"
      },
      "execution_count": null,
      "outputs": [
        {
          "output_type": "stream",
          "name": "stdout",
          "text": [
            "el instante en el que se encuentran es  3.0\n"
          ]
        }
      ]
    },
    {
      "cell_type": "code",
      "source": [
        "plt.style.use('ggplot')#o'default'\n",
        "plt.plot(x,y1, 'bo--',label='raiz cuadrada')\n",
        "plt.plot(x,y2,'r^-', label='log')\n",
        "plt.legend()\n",
        "plt.title('Posición vs Tiempo')\n",
        "plt.xlim([0,tiempo_max])\n",
        "plt.ylim([0,y1_max])\n",
        "plt.grid()\n",
        "plt.show()"
      ],
      "metadata": {
        "colab": {
          "base_uri": "https://localhost:8080/",
          "height": 219
        },
        "id": "DwIKFt7-iBBV",
        "outputId": "68510a7d-1ecc-4006-e607-43b3611ffbe1"
      },
      "execution_count": null,
      "outputs": [
        {
          "output_type": "error",
          "ename": "NameError",
          "evalue": "name 'plt' is not defined",
          "traceback": [
            "\u001b[0;31m---------------------------------------------------------------------------\u001b[0m",
            "\u001b[0;31mNameError\u001b[0m                                 Traceback (most recent call last)",
            "\u001b[0;32m<ipython-input-2-692cff344375>\u001b[0m in \u001b[0;36m<cell line: 1>\u001b[0;34m()\u001b[0m\n\u001b[0;32m----> 1\u001b[0;31m \u001b[0mplt\u001b[0m\u001b[0;34m.\u001b[0m\u001b[0mstyle\u001b[0m\u001b[0;34m.\u001b[0m\u001b[0muse\u001b[0m\u001b[0;34m(\u001b[0m\u001b[0;34m'ggplot'\u001b[0m\u001b[0;34m)\u001b[0m\u001b[0;31m#o'default'\u001b[0m\u001b[0;34m\u001b[0m\u001b[0;34m\u001b[0m\u001b[0m\n\u001b[0m\u001b[1;32m      2\u001b[0m \u001b[0mplt\u001b[0m\u001b[0;34m.\u001b[0m\u001b[0mplot\u001b[0m\u001b[0;34m(\u001b[0m\u001b[0mx\u001b[0m\u001b[0;34m,\u001b[0m\u001b[0my1\u001b[0m\u001b[0;34m,\u001b[0m \u001b[0;34m'bo--'\u001b[0m\u001b[0;34m,\u001b[0m\u001b[0mlabel\u001b[0m\u001b[0;34m=\u001b[0m\u001b[0;34m'raiz cuadrada'\u001b[0m\u001b[0;34m)\u001b[0m\u001b[0;34m\u001b[0m\u001b[0;34m\u001b[0m\u001b[0m\n\u001b[1;32m      3\u001b[0m \u001b[0mplt\u001b[0m\u001b[0;34m.\u001b[0m\u001b[0mplot\u001b[0m\u001b[0;34m(\u001b[0m\u001b[0mx\u001b[0m\u001b[0;34m,\u001b[0m\u001b[0my2\u001b[0m\u001b[0;34m,\u001b[0m\u001b[0;34m'r^-'\u001b[0m\u001b[0;34m,\u001b[0m \u001b[0mlabel\u001b[0m\u001b[0;34m=\u001b[0m\u001b[0;34m'log'\u001b[0m\u001b[0;34m)\u001b[0m\u001b[0;34m\u001b[0m\u001b[0;34m\u001b[0m\u001b[0m\n\u001b[1;32m      4\u001b[0m \u001b[0mplt\u001b[0m\u001b[0;34m.\u001b[0m\u001b[0mlegend\u001b[0m\u001b[0;34m(\u001b[0m\u001b[0;34m)\u001b[0m\u001b[0;34m\u001b[0m\u001b[0;34m\u001b[0m\u001b[0m\n\u001b[1;32m      5\u001b[0m \u001b[0mplt\u001b[0m\u001b[0;34m.\u001b[0m\u001b[0mtitle\u001b[0m\u001b[0;34m(\u001b[0m\u001b[0;34m'Posición vs Tiempo'\u001b[0m\u001b[0;34m)\u001b[0m\u001b[0;34m\u001b[0m\u001b[0;34m\u001b[0m\u001b[0m\n",
            "\u001b[0;31mNameError\u001b[0m: name 'plt' is not defined"
          ]
        }
      ]
    },
    {
      "cell_type": "markdown",
      "source": [
        "**2**"
      ],
      "metadata": {
        "id": "zdydPVqIpJtx"
      }
    },
    {
      "cell_type": "code",
      "source": [
        "def potencial(r,e,sigma):\n",
        "  return 4*e*((sigma/r)**(12)-(sigma/r)**6)"
      ],
      "metadata": {
        "id": "UTaa4tmUpTYc"
      },
      "execution_count": null,
      "outputs": []
    },
    {
      "cell_type": "code",
      "source": [
        "e=1\n",
        "sigma=1\n",
        "r_max=2.5*sigma\n",
        "v_max=potencial(r_max,e,sigma)\n",
        "r=np.linspace(sigma,2.5*sigma,100)"
      ],
      "metadata": {
        "id": "s-6hCMFp-ETO"
      },
      "execution_count": null,
      "outputs": []
    },
    {
      "cell_type": "code",
      "source": [
        "v=potencial(r,e,sigma)\n",
        "plt.style.use('default')#o'default'\n",
        "plt.plot(r,v,'r^-')\n",
        "plt.legend()\n",
        "plt.title('Ptencial vs Distancia')\n",
        "plt.xlim([sigma,r_max])\n",
        "#plt.ylim([0,v_max]) important: el max r no necesariamente es el max potencial,entonces con funciones lambdas se puede hallar el min o max y ver de dónde a donde graficar\n",
        "plt.grid()\n",
        "plt.show()"
      ],
      "metadata": {
        "colab": {
          "base_uri": "https://localhost:8080/",
          "height": 489
        },
        "id": "ybWI6FFE-t5N",
        "outputId": "9fc59b48-1e27-4668-f40a-4a79196df7f8"
      },
      "execution_count": null,
      "outputs": [
        {
          "output_type": "stream",
          "name": "stderr",
          "text": [
            "WARNING:matplotlib.legend:No artists with labels found to put in legend.  Note that artists whose label start with an underscore are ignored when legend() is called with no argument.\n"
          ]
        },
        {
          "output_type": "display_data",
          "data": {
            "text/plain": [
              "<Figure size 640x480 with 1 Axes>"
            ],
            "image/png": "[encoded data removed]"
          },
          "metadata": {}
        }
      ]
    },
    {
      "cell_type": "code",
      "source": [
        "mi = np.argmin(potencial(r,e,sigma))\n",
        "r[mi]"
      ],
      "metadata": {
        "colab": {
          "base_uri": "https://localhost:8080/"
        },
        "id": "iMkz5slSDusO",
        "outputId": "6e998eba-46ab-4bbb-d8ca-7226bb70969d"
      },
      "execution_count": null,
      "outputs": [
        {
          "output_type": "execute_result",
          "data": {
            "text/plain": [
              "1.121212121212121"
            ]
          },
          "metadata": {},
          "execution_count": 71
        }
      ]
    },
    {
      "cell_type": "code",
      "source": [
        "2**(1/16)*sigma"
      ],
      "metadata": {
        "colab": {
          "base_uri": "https://localhost:8080/"
        },
        "id": "p7D3PemmMgcg",
        "outputId": "922219f3-74fb-46e3-8f70-0900bdce9d73"
      },
      "execution_count": null,
      "outputs": [
        {
          "output_type": "execute_result",
          "data": {
            "text/plain": [
              "1.0442737824274138"
            ]
          },
          "metadata": {},
          "execution_count": 68
        }
      ]
    },
    {
      "cell_type": "markdown",
      "source": [
        "Por lo tanto, no es verdad\n"
      ],
      "metadata": {
        "id": "AiU2Ve1lN-cA"
      }
    },
    {
      "cell_type": "markdown",
      "source": [
        "**3**"
      ],
      "metadata": {
        "id": "Ln5LaZseAv3D"
      }
    },
    {
      "cell_type": "code",
      "source": [
        "import pandas as pd\n",
        "# Dataset 1\n",
        "# URL of the webpage\n",
        "url = \"https://worldpopulationreview.com/country-rankings/average-height-by-country\"\n",
        "\n",
        "# Read the HTML content\n",
        "html_content = pd.read_html(url)\n",
        "\n",
        "alturas = html_content[2]\n",
        "\n",
        "# Dataset 2\n",
        "# URL of the webpage\n",
        "url = \"https://worldpopulationreview.com/country-rankings/average-net-worth-by-country\"\n",
        "\n",
        "# Read the HTML content\n",
        "html_content = pd.read_html(url)\n",
        "\n",
        "income = html_content[0]"
      ],
      "metadata": {
        "id": "EcFYbgJABBZq"
      },
      "execution_count": null,
      "outputs": []
    },
    {
      "cell_type": "code",
      "source": [
        "print(alturas)"
      ],
      "metadata": {
        "colab": {
          "base_uri": "https://localhost:8080/"
        },
        "id": "Tl84infLE6JL",
        "outputId": "6074a3dc-5c2f-4d2e-a00c-cc17a8ed2344"
      },
      "execution_count": null,
      "outputs": [
        {
          "output_type": "stream",
          "name": "stdout",
          "text": [
            "                    Country  Average Height, Boys, 19 yo (cm)  Girls 19 (cm)  \\\n",
            "0               Netherlands                            183.78         170.36   \n",
            "1                Montenegro                            183.30         169.96   \n",
            "2                   Estonia                            182.79         168.66   \n",
            "3    Bosnia and Herzegovina                            182.47         167.47   \n",
            "4                   Iceland                            182.10         168.91   \n",
            "..                      ...                               ...            ...   \n",
            "191        Papua New Guinea                            163.10         156.89   \n",
            "192         Solomon Islands                            163.07         156.79   \n",
            "193                    Laos                            162.78         153.10   \n",
            "194             Timor Leste                            160.13         152.71   \n",
            "195                   Total                            171.37         159.15   \n",
            "\n",
            "     Boys 15 (cm)  Girls 15 (cm)  Boys 10 (cm)  Girls 10 (cm)  Boys 5 (cm)  \\\n",
            "0          177.20         167.45        146.88         146.55       119.63   \n",
            "1          177.50         167.42        146.81         146.33       119.58   \n",
            "2          176.41         166.12        146.03         145.21       116.94   \n",
            "3          174.21         164.85        144.97         144.55       118.32   \n",
            "4          174.80         165.61        145.59         145.06       118.49   \n",
            "..            ...            ...           ...            ...          ...   \n",
            "191        157.73         155.22        129.98         135.88       104.16   \n",
            "192        159.48         154.16        131.86         134.06       105.48   \n",
            "193        159.43         152.80        131.95         134.20       105.91   \n",
            "194        154.15         150.11        125.94         131.02        99.62   \n",
            "195        165.04         157.25        136.79         137.65       110.20   \n",
            "\n",
            "     Girls 5 (cm)  \n",
            "0          118.45  \n",
            "1          118.49  \n",
            "2          115.74  \n",
            "3          116.38  \n",
            "4          116.48  \n",
            "..            ...  \n",
            "191        108.08  \n",
            "192        105.70  \n",
            "193        106.63  \n",
            "194        103.98  \n",
            "195        110.08  \n",
            "\n",
            "[196 rows x 9 columns]\n"
          ]
        }
      ]
    },
    {
      "cell_type": "code",
      "source": [
        "alturas.columns"
      ],
      "metadata": {
        "colab": {
          "base_uri": "https://localhost:8080/"
        },
        "id": "tUqGieiKLWy3",
        "outputId": "42a40310-48c2-4e66-c850-7895c315ff6d"
      },
      "execution_count": null,
      "outputs": [
        {
          "output_type": "execute_result",
          "data": {
            "text/plain": [
              "Index(['Country', 'Average Height, Boys, 19 yo (cm)', 'Girls 19 (cm)',\n",
              "       'Boys 19 (in)', 'Girls 19 (in)', 'Boys 15 (cm)', 'Girls 15 (cm)',\n",
              "       'Boys 10 (cm)', 'Girls 10 (cm)', 'Boys 5 (cm)', 'Girls 5 (cm)'],\n",
              "      dtype='object')"
            ]
          },
          "metadata": {},
          "execution_count": 79
        }
      ]
    },
    {
      "cell_type": "markdown",
      "source": [
        "INPLACE=TRU\n",
        "Función útil para estar actualizando la variable y no tener que crear muchas"
      ],
      "metadata": {
        "id": "H98sbtjCOhUL"
      }
    },
    {
      "cell_type": "code",
      "source": [
        "alturas.drop('Boys 19 (in)', axis = 1,inplace= True)\n",
        "alturas.drop('Girls 19 (in)', axis = 1,inplace=True)"
      ],
      "metadata": {
        "id": "hTD8_Bj5GrzA"
      },
      "execution_count": null,
      "outputs": []
    },
    {
      "cell_type": "code",
      "source": [
        "alturas_renombrado = alturas.rename(columns={\n",
        "    'Boys 15 (cm)': 'Niños 15 (cm)',\n",
        "    'Girls 15 (cm)' : 'Niñas 15 (cm)',\n",
        "    'Boys 10 (cm)':'Niños 10 (cm)',\n",
        "    'Girls 10 (cm)':'Niñas 10 (cm)',\n",
        "    'Boys 5 (cm)':'Niños 5 (cm)',\n",
        "    'Girls 5 (cm)':'Niñas 5 (cm)',\n",
        "    'Average Height, Boys, 19 yo (cm)':'Niños 19 (cm)',\n",
        "    'Girls 19 (cm)':'Niñas 19 (cm)'\n",
        "})"
      ],
      "metadata": {
        "id": "zjTFy3VyI5_x"
      },
      "execution_count": null,
      "outputs": []
    },
    {
      "cell_type": "code",
      "source": [
        "print(alturas_renombrado)"
      ],
      "metadata": {
        "colab": {
          "base_uri": "https://localhost:8080/"
        },
        "id": "ixfp9muMKDoM",
        "outputId": "3e3c6715-deac-4cb7-a3fa-e6b7df11ec40"
      },
      "execution_count": null,
      "outputs": [
        {
          "output_type": "stream",
          "name": "stdout",
          "text": [
            "                    Country  Niños 19 (cm)  Niñas 19 (cm)  Niños 15 (cm)  \\\n",
            "0               Netherlands         183.78         170.36         177.20   \n",
            "1                Montenegro         183.30         169.96         177.50   \n",
            "2                   Estonia         182.79         168.66         176.41   \n",
            "3    Bosnia and Herzegovina         182.47         167.47         174.21   \n",
            "4                   Iceland         182.10         168.91         174.80   \n",
            "..                      ...            ...            ...            ...   \n",
            "191        Papua New Guinea         163.10         156.89         157.73   \n",
            "192         Solomon Islands         163.07         156.79         159.48   \n",
            "193                    Laos         162.78         153.10         159.43   \n",
            "194             Timor Leste         160.13         152.71         154.15   \n",
            "195                   Total         171.37         159.15         165.04   \n",
            "\n",
            "     Niñas 15 (cm)  Niños 10 (cm)  Niñas 10 (cm)  Niños 5 (cm)  Niñas 5 (cm)  \n",
            "0           167.45         146.88         146.55        119.63        118.45  \n",
            "1           167.42         146.81         146.33        119.58        118.49  \n",
            "2           166.12         146.03         145.21        116.94        115.74  \n",
            "3           164.85         144.97         144.55        118.32        116.38  \n",
            "4           165.61         145.59         145.06        118.49        116.48  \n",
            "..             ...            ...            ...           ...           ...  \n",
            "191         155.22         129.98         135.88        104.16        108.08  \n",
            "192         154.16         131.86         134.06        105.48        105.70  \n",
            "193         152.80         131.95         134.20        105.91        106.63  \n",
            "194         150.11         125.94         131.02         99.62        103.98  \n",
            "195         157.25         136.79         137.65        110.20        110.08  \n",
            "\n",
            "[196 rows x 9 columns]\n"
          ]
        }
      ]
    }
  ]
}