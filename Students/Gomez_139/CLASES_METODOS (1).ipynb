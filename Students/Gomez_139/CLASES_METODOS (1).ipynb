{
  "nbformat": 4,
  "nbformat_minor": 0,
  "metadata": {
    "colab": {
      "provenance": []
    },
    "kernelspec": {
      "name": "python3",
      "display_name": "Python 3"
    },
    "language_info": {
      "name": "python"
    }
  },
  "cells": [
    {
      "cell_type": "markdown",
      "source": [
        "# JUEVES 12"
      ],
      "metadata": {
        "id": "n5gR89J-f8b0"
      }
    },
    {
      "cell_type": "code",
      "execution_count": null,
      "metadata": {
        "id": "2jpI9-zcOLYT"
      },
      "outputs": [],
      "source": [
        "listastring=[2,1]\n",
        "type()\n",
        "isinstance(a,complex)\n",
        "#¿es a un num complejo?"
      ]
    },
    {
      "cell_type": "markdown",
      "source": [
        "Métodos:n.conjugate()\n",
        "Atributos:n.image"
      ],
      "metadata": {
        "id": "sN8Qk8DiOh2c"
      }
    },
    {
      "cell_type": "markdown",
      "source": [
        "Las listas son iterables porque se pueden construir ciclos con los elementos de a y sus objetos se pueden cambiar\n",
        "Las  tuplas no se pueden mod"
      ],
      "metadata": {
        "id": "s10_IoS0QDDB"
      }
    },
    {
      "cell_type": "code",
      "source": [
        "\n",
        "\n",
        "n=int(input())\n",
        "def divisores(n):\n",
        "  count=0\n",
        "\n",
        "  for i in range(1,n+1):\n",
        "    if (n%i==0):\n",
        "      count=count+1\n",
        "\n",
        "  return count\n",
        "\n",
        "\n",
        "\n",
        "\n",
        "primos=[]\n",
        "for i in range(2,n+1):\n",
        "  count=divisores(i)\n",
        "  if (count<=2):\n",
        "    primos.append(i)\n",
        "    if (len(primos)==200):\n",
        "      break\n",
        "print(primos)\n"
      ],
      "metadata": {
        "colab": {
          "base_uri": "https://localhost:8080/"
        },
        "id": "eMaVoJcQRITv",
        "outputId": "a2179802-13d2-4e70-988f-3b6ae2e279ce"
      },
      "execution_count": null,
      "outputs": [
        {
          "output_type": "stream",
          "name": "stdout",
          "text": [
            "6\n",
            "[2, 3, 5]\n"
          ]
        }
      ]
    },
    {
      "cell_type": "code",
      "source": [
        "n=int(input(n))\n",
        "for i in range(2,n):\n",
        "  if ("
      ],
      "metadata": {
        "id": "hJpAiafAgPbT"
      },
      "execution_count": null,
      "outputs": []
    },
    {
      "cell_type": "markdown",
      "source": [],
      "metadata": {
        "id": "NL1Jkco_f0GE"
      }
    },
    {
      "cell_type": "code",
      "source": [
        "N=int(input())\n",
        "def divisores(N):\n",
        "  count=0\n",
        "\n",
        "  for i in range(1, N):\n",
        "    if(N%i==0):\n",
        "      count=count+1\n",
        "  if (count<2):\n",
        "    print(f\"el numero {N} es número primo, tiene 2 divisores\")\n",
        "  else:\n",
        "    print(f\"el numero {N} no es número primo\")\n"
      ],
      "metadata": {
        "id": "J9Gi6JBaV4ZR"
      },
      "execution_count": null,
      "outputs": []
    }
  ]
}