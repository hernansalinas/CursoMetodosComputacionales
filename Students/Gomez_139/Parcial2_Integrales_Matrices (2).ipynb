{
  "nbformat": 4,
  "nbformat_minor": 0,
  "metadata": {
    "colab": {
      "provenance": []
    },
    "kernelspec": {
      "name": "python3",
      "display_name": "Python 3"
    },
    "language_info": {
      "name": "python"
    }
  },
  "cells": [
    {
      "cell_type": "code",
      "execution_count": 1,
      "metadata": {
        "id": "aF61FjHUNGJA"
      },
      "outputs": [],
      "source": [
        "from random import randint\n",
        "#@title Librerias\n",
        "import numpy as np\n",
        "from numpy import random\n",
        "import numpy.linalg as la\n",
        "import matplotlib.pyplot as plt\n",
        "from scipy.integrate import quad, fixed_quad, trapezoid, simpson, nquad\n",
        "from sympy import symbols, diff, integrate, lambdify"
      ]
    },
    {
      "cell_type": "markdown",
      "source": [
        "# Parcial II - Métodos Computacionales (Integrales y Matrices)\n",
        "**2024-2**\n",
        "\n",
        "---\n",
        "\n",
        "*Nombre:*\n",
        "\n",
        "*Identificación:*\n",
        "\n",
        "---\n",
        "* Sea honest@\n",
        "* El uso de herramientas de IA no está permitido\n",
        "* Puede consultar la documentación de las librerias.\n",
        "* Sea ordendado dando la solución a cada punto.\n",
        "* *Asegurese que el notebook corra completamente*\n",
        "* Suba su notebook al GitHub (en su carpeta) y recuerde hacer pull-request"
      ],
      "metadata": {
        "id": "VqRX_GXcNZOl"
      }
    },
    {
      "cell_type": "markdown",
      "source": [
        "# 1\n",
        "\n",
        "**(20 puntos)**\n",
        "Considera la siguiente integral:\n",
        "\n",
        "$$\n",
        "I = \\int_0^1 \\int_{x^2}^{x+1} \\int_{y^2}^{y+2} \\int_{z^2}^{z+3} (x+y+z+w) \\, dw \\, dz \\, dy \\, dx\n",
        "$$\n",
        "\n",
        "Encuentre la solución númerica usando unicamente `quad`. Encuentre el error relativo, para esto emplee el siguiente código que usa `nquad`:\n",
        "\n",
        "\n",
        "```python\n",
        "# Definir el integrando\n",
        "integrand = lambda w, z, y, x: x + y + z + w\n",
        "\n",
        "# Definir los límites usando funciones lambda\n",
        "w_limits = lambda z, y, x: [z**2, z+3]\n",
        "z_limits = lambda y, x: [y**2, y+2]\n",
        "y_limits = lambda x: [x**2, x+1]\n",
        "x_limits = lambda: [0, 1]\n",
        "\n",
        "# Calcular la integral usando nquad\n",
        "result, error = nquad(\n",
        "    integrand,\n",
        "    [w_limits, z_limits, y_limits, x_limits]\n",
        ")\n",
        "\n",
        "print(f\"Resultado de la integral: {result}\")\n",
        "print(f\"Error estimado: {error}\")\n",
        "```\n",
        "\n"
      ],
      "metadata": {
        "id": "u1OxHrJINZ9c"
      }
    },
    {
      "cell_type": "code",
      "source": [
        "# Definir los límites usando funciones lambda\n",
        "w_limits = lambda z, y, x: [z**2, z+3]\n",
        "z_limits = lambda y, x: [y**2, y+2]\n",
        "y_limits = lambda x: [x**2, x+1]\n",
        "x_limits = lambda: [0, 1]"
      ],
      "metadata": {
        "id": "PSIrdRDinhak"
      },
      "execution_count": 7,
      "outputs": []
    },
    {
      "cell_type": "code",
      "source": [
        "def integrando(w, z, y, x):\n",
        "    return x + y + z + w\n",
        "\n",
        "\n",
        "w_g = lambda z: z**2\n",
        "w_h = lambda z: z + 3\n",
        "\n",
        "z_e = lambda y: y**2\n",
        "z_f = lambda y: y + 2\n",
        "\n",
        "y_c = lambda x: x**2\n",
        "y_d = lambda x: x + 1\n"
      ],
      "metadata": {
        "id": "hgYlBnYHeP6N"
      },
      "execution_count": 2,
      "outputs": []
    },
    {
      "cell_type": "code",
      "source": [
        "\n",
        "def Integral_w(z, y, x):\n",
        "    return quad(lambda w: integrando(w, z, y, x), w_g(z), w_h(z))[0]\n",
        "\n",
        "\n",
        "def Integral_z(y, x):\n",
        "    return quad(lambda z: Integral_w(z, y, x), z_e(y), z_f(y))[0]\n",
        "\n",
        "\n",
        "def Integral_y(x):\n",
        "    return quad(lambda y: Integral_z(y, x), y_c(x), y_d(x))[0]\n",
        "\n",
        "\n",
        "resultado, error = quad(lambda x: Integral_y(x), 0, 1)\n"
      ],
      "metadata": {
        "id": "jL1wRf6AkCpE"
      },
      "execution_count": 3,
      "outputs": []
    },
    {
      "cell_type": "code",
      "source": [
        "resultado"
      ],
      "metadata": {
        "colab": {
          "base_uri": "https://localhost:8080/"
        },
        "id": "WKzx4UvKqA8I",
        "outputId": "2040b3d4-745c-4f40-8616-4749a83e85e3"
      },
      "execution_count": 4,
      "outputs": [
        {
          "output_type": "execute_result",
          "data": {
            "text/plain": [
              "-0.6500971589021813"
            ]
          },
          "metadata": {},
          "execution_count": 4
        }
      ]
    },
    {
      "cell_type": "code",
      "source": [
        "result, error = nquad(\n",
        "    integrando,\n",
        "    [w_limits, z_limits, y_limits, x_limits]\n",
        ")"
      ],
      "metadata": {
        "id": "53sdtOAy4o4z"
      },
      "execution_count": 8,
      "outputs": []
    },
    {
      "cell_type": "code",
      "source": [
        "#error relativo\n",
        "error_r=abs(result-resultado)/result\n",
        "error_r"
      ],
      "metadata": {
        "colab": {
          "base_uri": "https://localhost:8080/"
        },
        "id": "xN00HrhLiSJp",
        "outputId": "361870e5-538f-40d6-bf51-bc98cc7cedb3"
      },
      "execution_count": 9,
      "outputs": [
        {
          "output_type": "execute_result",
          "data": {
            "text/plain": [
              "-0.0"
            ]
          },
          "metadata": {},
          "execution_count": 9
        }
      ]
    },
    {
      "cell_type": "markdown",
      "source": [
        "# 2\n",
        "\n",
        "**(40 puntos)**\n",
        "Un lazo de corriente de radio $a$  transporta una corriente $I$ en el punto P que está a una distancia $r$ del centro del lazo con coordenadas esféricas (r, θ, φ). Resuelve para la componente φ del potencial vectorial en el punto $P$ en términos de integrales elípticas:\n",
        "\n",
        "\\begin{equation}\n",
        "A_{\\phi}(r, \\theta)=\\frac{\\mu_0}{4\\pi}\\frac{4Ia}{\\sqrt{a^2+r^2+2ar\\sin \\theta}}\\left(\\frac{(2-k^2)K(k)-2E(k)}{k^2} \\right)\n",
        "\\end{equation}\n",
        "\n",
        "donde\n",
        "\n",
        "\\begin{equation}\n",
        "K(k)=\\int_{0}^{\\pi/2} \\frac{\\mathrm{d\\phi}}{\\sqrt{1-k^2\\sin^2\\phi}}\n",
        "\\end{equation}\n",
        "\n",
        "\\begin{equation}\n",
        "E(k)=\\int_{0}^{\\pi/2} \\mathrm{d\\phi} \\sqrt{1-k^2\\sin^2\\phi}\n",
        "\\end{equation}\n",
        "\n",
        "\\begin{equation}\n",
        "k^2=\\frac{4ar\\sin\\theta}{a^2+r^2+2ar\\sin\\theta}\n",
        "\\end{equation}\n",
        "\n",
        "Aquí, $K(k)$ es una integral elíptica completa del primer tipo y $E(k)$ es una integral elíptica completa del segundo tipo.\n",
        "\n",
        "\n",
        "Para\n",
        "* $a$ = 1,\n",
        "* $I$ = 3,\n",
        "* $μ0/4π$ = 1\n",
        "\n",
        "\n",
        "Usando funciones explicitas explique claramente las entradas, salidas y procedimientos dentro de las mismas. Recuerde para resolver las integrales usar `quad` y grafique para:\n",
        "\n",
        "*a)* $A_φ(r = 1.1, θ)$ vs. $0\\leq θ\\leq \\pi$\n",
        "\n",
        "*b)* $A_φ(r, θ = π∕3)$ vs. $0\\leq r \\leq 10$\n",
        "\n",
        "Tenga cuidado con la convergencia de su integral\n",
        "\n"
      ],
      "metadata": {
        "id": "ryB1EksIOV_l"
      }
    },
    {
      "cell_type": "code",
      "source": [
        "#definimos:\n",
        "a=1\n",
        "I=3\n",
        "u=1"
      ],
      "metadata": {
        "id": "78Wh1xq7lU9-"
      },
      "execution_count": 10,
      "outputs": []
    },
    {
      "cell_type": "code",
      "source": [
        "def k_f2(a,r,teta):\n",
        "    return (4*a*r*np.sin(teta))/(a**2+r**2+2*a*r*np.sin(teta))"
      ],
      "metadata": {
        "id": "yGrEqwaNOh_8"
      },
      "execution_count": 22,
      "outputs": []
    },
    {
      "cell_type": "code",
      "source": [
        "def K_int(k):\n",
        "  integrand_k = lambda fi: 1/(np.sqrt(1-k**2*np.sin(fi)**2))\n",
        "  return quad(integrand_k,0,np.pi/2)[0]\n"
      ],
      "metadata": {
        "id": "L2xz2dxN5WTf"
      },
      "execution_count": 15,
      "outputs": []
    },
    {
      "cell_type": "code",
      "source": [
        "def E_int(k):\n",
        "    integrand_e = lambda fi: np.sqrt(1 - k**2 * np.sin(fi)**2)\n",
        "    return quad(integrand_e, 0, np.pi/2)[0]"
      ],
      "metadata": {
        "id": "G0AeVM3jBaKJ"
      },
      "execution_count": 13,
      "outputs": []
    },
    {
      "cell_type": "code",
      "source": [
        "def A(a,I,r,teta):\n",
        "  #evaluamos las integrales\n",
        "  k_new=k_f2(a,r,teta)\n",
        "  k=np.sqrt(k_new)\n",
        "  k_final=K_int(k)\n",
        "  e_final=E_int(k)\n",
        "\n",
        "  return (4*I*a)*((2-k**2)*k_final-2*e_final)/(k**2*(np.sqrt(a**2+r**2+2*a*r*np.sin(teta))))"
      ],
      "metadata": {
        "id": "dx9TuHlFA1ex"
      },
      "execution_count": 25,
      "outputs": []
    },
    {
      "cell_type": "code",
      "source": [
        "#datos para evaluar r fijo\n",
        "\n",
        "teta_valores=np.linspace(0,np.pi,100)\n",
        "r=1.1\n",
        "\n",
        "#debemos hacer un array evaluado para graficar A\n",
        "\n",
        "A_vector1= [A(a,I,r,teta)  for teta in teta_valores]\n",
        "\n",
        "plt.plot(teta_valores,A_vector1,color='red',label='r fijo')\n",
        "plt.legend()\n",
        "plt.grid()\n",
        "plt.show()"
      ],
      "metadata": {
        "colab": {
          "base_uri": "https://localhost:8080/",
          "height": 465
        },
        "id": "BKNgrHyYIkal",
        "outputId": "b427726c-192c-44a2-ab8d-da8fa0db02d8"
      },
      "execution_count": 37,
      "outputs": [
        {
          "output_type": "stream",
          "name": "stderr",
          "text": [
            "<ipython-input-25-bf92c24e0a28>:8: RuntimeWarning: invalid value encountered in scalar divide\n",
            "  return (4*I*a)*((2-k**2)*k_final-2*e_final)/(k**2*(np.sqrt(a**2+r**2+2*a*r*np.sin(teta))))\n"
          ]
        },
        {
          "output_type": "display_data",
          "data": {
            "text/plain": [
              "<Figure size 640x480 with 1 Axes>"
            ],
            "image/png": "[encoded data removed]"
          },
          "metadata": {}
        }
      ]
    },
    {
      "cell_type": "code",
      "source": [
        "#datos para evaluar teta fijo\n",
        "\n",
        "r_valores=np.linspace(0,10,100)\n",
        "teta_=1.1\n",
        "\n",
        "#debemos hacer un array evaluado para graficar A\n",
        "\n",
        "A_vector2= [A(a,I,r_val,teta_)  for r_val in r_valores]\n",
        "\n",
        "plt.plot(r_valores,A_vector2,color='black',label='teta fijo')\n",
        "plt.legend()\n",
        "plt.grid()\n",
        "plt.show()"
      ],
      "metadata": {
        "colab": {
          "base_uri": "https://localhost:8080/",
          "height": 465
        },
        "id": "2ZHNCi9Swl-0",
        "outputId": "5d253bb0-0437-4e3c-92e8-84a22154de77"
      },
      "execution_count": 38,
      "outputs": [
        {
          "output_type": "stream",
          "name": "stderr",
          "text": [
            "<ipython-input-25-bf92c24e0a28>:8: RuntimeWarning: invalid value encountered in scalar divide\n",
            "  return (4*I*a)*((2-k**2)*k_final-2*e_final)/(k**2*(np.sqrt(a**2+r**2+2*a*r*np.sin(teta))))\n"
          ]
        },
        {
          "output_type": "display_data",
          "data": {
            "text/plain": [
              "<Figure size 640x480 with 1 Axes>"
            ],
            "image/png": "[encoded data removed]"
          },
          "metadata": {}
        }
      ]
    },
    {
      "cell_type": "markdown",
      "source": [
        "# 3\n",
        "\n",
        "(**40 puntos**) El **método de la potencia inversa** es una técnica iterativa utilizada para calcular el autovalor de menor magnitud de una matriz cuadrada. Es una variante del **método de la potencia**, que normalmente encuentra el autovalor de mayor magnitud. Para ello, se aprovecha la propiedad de la matriz inversa:\n",
        "\n",
        "$$ A^{-1} v = \\frac{1}{\\lambda} v $$\n",
        "\n",
        "\n",
        "## Algoritmo\n",
        "\n",
        "El método de la potencia inversa sigue los siguientes pasos:\n",
        "\n",
        "1. Elegir un vector inicial $x^{(0)}$ no nulo.\n",
        "\n",
        "2. Para cada iteración $k$, resolver el sistema lineal:\n",
        "   \n",
        "   $$ A y^{(k)} = x^{(k-1)} $$\n",
        "   \n",
        "   donde $y^{(k)}$ es un **vector intermedio** que se obtiene resolviendo el sistema lineal. Este vector representa la solución del sistema en cada iteración y es crucial para aproximar el autovector de menor autovalor.\n",
        "\n",
        "3. Normalizar $y^{(k)}$ para obtener un nuevo vector de iteración:\n",
        "   \n",
        "   $$ x^{(k)} = \\frac{y^{(k)}}{\\| y^{(k)} \\|} $$\n",
        "   \n",
        "4. Aproximar el autovalor mediante el cociente de Rayleigh:\n",
        "   \n",
        "   $$ \\lambda^{(k)} = \\frac{(x^{(k)})^T A x^{(k)}}{(x^{(k)})^T x^{(k)}} $$\n",
        "   \n",
        "5. Repetir los pasos anteriores hasta que la diferencia entre valores sucesivos de $\\lambda$ sea menor que un umbral de tolerancia.\n",
        "\n",
        "---\n",
        "\n",
        "*a)* Escriba una función llamada `potencia_inversa` que dada una matriz A encuentre su valor propio menos dominante (con una tolerancia de 1e-7 usando la norma Euclidiana) y su correspondiente autovector. Para obtener $y^{(k)}$ puede emplear `np.linalg.solve` recordando que $Ay = x$.\n",
        "\n",
        "*b)* Usando la matriz A, encuentre el $\\lambda_{min}$ y el correspondiente autovector. Examine la convergencia de su autovalor en función de las iteraciones, esto es, haga un gráfico de $\\lambda(k)$\n",
        "\n",
        "$$\n",
        "\\begin{bmatrix}\n",
        "5 & 2 \\\\\n",
        "2 & 2\n",
        "\\end{bmatrix}\n",
        "$$\n",
        "\n",
        "*c)* Compare su resultado con `np.linalg.eig`"
      ],
      "metadata": {
        "id": "pKubcNlWP0nc"
      }
    },
    {
      "cell_type": "code",
      "source": [
        "A=np.array([\n",
        "    [5,2],\n",
        "    [2,2]\n",
        "])\n"
      ],
      "metadata": {
        "id": "ZhnTbHAgP4XJ"
      },
      "execution_count": 39,
      "outputs": []
    },
    {
      "cell_type": "code",
      "source": [
        "def potencia_inversa(A,max_iter,tol):\n",
        "  #hacemos un guess con el vector x\n",
        "  x=np.random.rand(len(A)) #vector que se actualiza\n",
        "  #hacemos un guess con un autov\n",
        "  eig=random.rand(0)\n",
        "\n",
        "  valores_=[]\n",
        "\n",
        "  #iteramos hasta encontrar convergencia\n",
        "  contador = []\n",
        "  for k in range(max_iter+1):\n",
        "    contador.append(k)\n",
        "    y=np.linalg.solve(A,x) #encontramos x\n",
        "    x_act=y/np.linalg.norm(y) #normalizamos\n",
        "    #Rayleigh\n",
        "    valor= (x_act.T @ A @ x) / (x_act.T @ x)\n",
        "    valores_.append(valor) #guardamos en el array de valores\n",
        "\n",
        "    if np.abs(eig-valor)<tol:\n",
        "      return valor,x_act,contador[:k+1], valores_\n",
        "    else:\n",
        "      x=x_act #actualizamos si no ha convergido\n",
        "      eig=valor\n",
        "  print('no converge')"
      ],
      "metadata": {
        "id": "00wr8RANzaJH"
      },
      "execution_count": 104,
      "outputs": []
    },
    {
      "cell_type": "code",
      "source": [
        "valor_min, vector_, contador, valores_=potencia_inversa(A,70,1e-8)\n",
        "print(valor_min)\n",
        "print(vector_)\n",
        "print(contador)\n",
        "print(valores_)"
      ],
      "metadata": {
        "colab": {
          "base_uri": "https://localhost:8080/"
        },
        "id": "Z1HeTx4O_e1c",
        "outputId": "ce8b4a55-19f2-42e5-b92b-cf32bd30abec"
      },
      "execution_count": 108,
      "outputs": [
        {
          "output_type": "stream",
          "name": "stdout",
          "text": [
            "1.000000000015232\n",
            "[-0.44721296  0.89442751]\n",
            "[0, 1, 2, 3, 4, 5, 6, 7]\n",
            "[1.9636055914115038, 1.0329384196992395, 1.000920853888955, 1.0000255838556085, 1.000000710666191, 1.0000000197407302, 1.0000000005483538, 1.000000000015232]\n"
          ]
        },
        {
          "output_type": "stream",
          "name": "stderr",
          "text": [
            "<ipython-input-104-6f7776d6a8ef>:19: DeprecationWarning: The truth value of an empty array is ambiguous. Returning False, but in future this will result in an error. Use `array.size > 0` to check that an array is not empty.\n",
            "  if np.abs(eig-valor)<tol:\n"
          ]
        }
      ]
    },
    {
      "cell_type": "code",
      "source": [
        "valores_propios, vectores_propios =np.linalg.eig(A)\n",
        "print(valores_propios)\n",
        "print(vectores_propios)"
      ],
      "metadata": {
        "colab": {
          "base_uri": "https://localhost:8080/"
        },
        "id": "IEU1D3ThA_0o",
        "outputId": "7e6a2a83-789f-4c33-d65d-d5af1770234c"
      },
      "execution_count": 109,
      "outputs": [
        {
          "output_type": "stream",
          "name": "stdout",
          "text": [
            "[6. 1.]\n",
            "[[ 0.89442719 -0.4472136 ]\n",
            " [ 0.4472136   0.89442719]]\n"
          ]
        }
      ]
    },
    {
      "cell_type": "code",
      "source": [
        "contador"
      ],
      "metadata": {
        "colab": {
          "base_uri": "https://localhost:8080/"
        },
        "id": "ndJ5XCtAE7dg",
        "outputId": "1f905dda-33b5-4c32-85b8-dd876552726d"
      },
      "execution_count": 100,
      "outputs": [
        {
          "output_type": "execute_result",
          "data": {
            "text/plain": [
              "[0, 1, 2, 3, 4, 5, 6, 7]"
            ]
          },
          "metadata": {},
          "execution_count": 100
        }
      ]
    },
    {
      "cell_type": "markdown",
      "source": [
        "concluimos que si era el vp min"
      ],
      "metadata": {
        "id": "n1OKYGlHBcRy"
      }
    },
    {
      "cell_type": "code",
      "source": [
        "plt.plot(contador,valores_)\n",
        "plt.show()"
      ],
      "metadata": {
        "colab": {
          "base_uri": "https://localhost:8080/",
          "height": 431
        },
        "id": "X2LFSv1qBfxF",
        "outputId": "37981060-95c6-47a5-ec61-8d92f61ac056"
      },
      "execution_count": 110,
      "outputs": [
        {
          "output_type": "display_data",
          "data": {
            "text/plain": [
              "<Figure size 640x480 with 1 Axes>"
            ],
            "image/png": "[encoded data removed]"
          },
          "metadata": {}
        }
      ]
    },
    {
      "cell_type": "markdown",
      "source": [
        "#4\n",
        "\n",
        "**(10 puntos)**\n",
        "Sea $A$ una matriz cuadrada de tamaño $n \\times n$. Se sabe que el determinante de una matriz es igual al producto de sus autovalores:\n",
        "\n",
        "$$\n",
        "\\det(A) = \\prod_{i=1}^{n} \\lambda_i\n",
        "$$\n",
        "\n",
        "donde $\\lambda_1, \\lambda_2, \\dots, \\lambda_n$ son los autovalores de $A$.\n",
        "\n",
        "Usando una matriz aleatoria $A$ de $5\\times 5$, demuestre esta propiedad. Puede usar las funciones de `np.linalg`."
      ],
      "metadata": {
        "id": "Qz8QJCjWYds5"
      }
    },
    {
      "cell_type": "code",
      "source": [
        "#hacemos una matriz aleatoria\n",
        "A=random.rand(5,5)\n",
        "val_p=np.linalg.eig(A)[0]\n",
        "val_p=np.copy(val_p)\n",
        "val_p"
      ],
      "metadata": {
        "id": "TCWf5TUwYgKq",
        "colab": {
          "base_uri": "https://localhost:8080/"
        },
        "outputId": "de15e50a-9755-48d6-870d-d6c98ba0fcc8"
      },
      "execution_count": 112,
      "outputs": [
        {
          "output_type": "execute_result",
          "data": {
            "text/plain": [
              "array([ 2.19886473+0.j        , -0.24317231+0.j        ,\n",
              "       -0.1537399 +0.j        ,  0.31669085+0.08218643j,\n",
              "        0.31669085-0.08218643j])"
            ]
          },
          "metadata": {},
          "execution_count": 112
        }
      ]
    },
    {
      "cell_type": "code",
      "source": [
        "val_p[1]"
      ],
      "metadata": {
        "colab": {
          "base_uri": "https://localhost:8080/"
        },
        "id": "nWh4FsyQxOiY",
        "outputId": "2d6805fe-c87b-40e5-f73d-ec0fd811bb54"
      },
      "execution_count": 113,
      "outputs": [
        {
          "output_type": "execute_result",
          "data": {
            "text/plain": [
              "(-0.24317230602266976+0j)"
            ]
          },
          "metadata": {},
          "execution_count": 113
        }
      ]
    },
    {
      "cell_type": "code",
      "source": [
        "A"
      ],
      "metadata": {
        "colab": {
          "base_uri": "https://localhost:8080/"
        },
        "id": "CVo2IslqsMvN",
        "outputId": "756fa389-97f8-414b-9702-454550ea7251"
      },
      "execution_count": 114,
      "outputs": [
        {
          "output_type": "execute_result",
          "data": {
            "text/plain": [
              "array([[0.19819959, 0.80415391, 0.4502132 , 0.60553712, 0.47633328],\n",
              "       [0.43098654, 0.50206838, 0.78745109, 0.35433928, 0.22385435],\n",
              "       [0.45870204, 0.02808907, 0.92031668, 0.09631794, 0.45577599],\n",
              "       [0.46830973, 0.24888119, 0.29101088, 0.55864619, 0.10964304],\n",
              "       [0.59453092, 0.48674653, 0.77111259, 0.69134081, 0.25610339]])"
            ]
          },
          "metadata": {},
          "execution_count": 114
        }
      ]
    },
    {
      "cell_type": "code",
      "source": [
        "inverse=np.linalg.inv(A)\n",
        "inverse"
      ],
      "metadata": {
        "colab": {
          "base_uri": "https://localhost:8080/"
        },
        "id": "4wPhZSqosAIH",
        "outputId": "21873d25-154e-47d4-83d7-9184a1fd9acf"
      },
      "execution_count": 115,
      "outputs": [
        {
          "output_type": "execute_result",
          "data": {
            "text/plain": [
              "array([[ -0.16006152,   5.52101803,   0.95750941,   8.97293603,\n",
              "        -10.07363108],\n",
              "       [  0.73315206,   4.36451398,  -0.74580323,   2.83207361,\n",
              "         -5.06372891],\n",
              "       [ -0.86668467,  -1.78534036,  -0.31478593,  -5.30258922,\n",
              "          6.00285231],\n",
              "       [ -0.11182995,  -5.43214968,  -0.71119033,  -4.72205132,\n",
              "          8.2433982 ],\n",
              "       [  1.88957424,  -1.07246846,   2.06228618,   2.49996757,\n",
              "         -3.41282063]])"
            ]
          },
          "metadata": {},
          "execution_count": 115
        }
      ]
    },
    {
      "cell_type": "code",
      "source": [
        "determinante=np.linalg.det(A)\n",
        "determinante"
      ],
      "metadata": {
        "colab": {
          "base_uri": "https://localhost:8080/"
        },
        "id": "9OHdx0sfs8B6",
        "outputId": "cc9a227e-204d-49e6-a4d2-29e0a33e92d2"
      },
      "execution_count": 116,
      "outputs": [
        {
          "output_type": "execute_result",
          "data": {
            "text/plain": [
              "0.008799876463255255"
            ]
          },
          "metadata": {},
          "execution_count": 116
        }
      ]
    },
    {
      "cell_type": "code",
      "source": [
        "def factorial(val_p):\n",
        "  factorial=1\n",
        "  for i in range(len(val_p)):\n",
        "    factorial*=val_p[i]\n",
        "  return factorial"
      ],
      "metadata": {
        "id": "YNCt9wEZvnfc"
      },
      "execution_count": 117,
      "outputs": []
    },
    {
      "cell_type": "code",
      "source": [
        "resultado=factorial(val_p)\n",
        "resultado"
      ],
      "metadata": {
        "colab": {
          "base_uri": "https://localhost:8080/"
        },
        "id": "AxakpGHpwLET",
        "outputId": "4b570d99-7915-4f8e-886c-c9f2c3858bf9"
      },
      "execution_count": 118,
      "outputs": [
        {
          "output_type": "execute_result",
          "data": {
            "text/plain": [
              "(0.008799876463255234+0j)"
            ]
          },
          "metadata": {},
          "execution_count": 118
        }
      ]
    },
    {
      "cell_type": "code",
      "source": [
        "print(f\"{'correcto' if np.isclose(determinante, resultado) else 'no'}\")"
      ],
      "metadata": {
        "colab": {
          "base_uri": "https://localhost:8080/"
        },
        "id": "byAkq-6f6yPK",
        "outputId": "afd61a6c-23c7-416f-ff18-9ac61c293536"
      },
      "execution_count": 146,
      "outputs": [
        {
          "output_type": "stream",
          "name": "stdout",
          "text": [
            "no\n"
          ]
        }
      ]
    }
  ]
}