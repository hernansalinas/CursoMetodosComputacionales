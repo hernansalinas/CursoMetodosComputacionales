{
  "nbformat": 4,
  "nbformat_minor": 0,
  "metadata": {
    "colab": {
      "provenance": []
    },
    "kernelspec": {
      "name": "python3",
      "display_name": "Python 3"
    },
    "language_info": {
      "name": "python"
    }
  },
  "cells": [
    {
      "cell_type": "code",
      "execution_count": null,
      "metadata": {
        "cellView": "form",
        "id": "TdDUnb7xEXhH"
      },
      "outputs": [],
      "source": [
        "#@title Librerias\n",
        "import numpy as np\n",
        "import matplotlib.pyplot as plt\n",
        "import pandas as pd\n",
        "import math\n",
        "import sympy as sp"
      ]
    },
    {
      "cell_type": "markdown",
      "source": [
        "# Actividad 04: Errores y estabilidad\n",
        "\n",
        "---\n",
        "### Profesor: Juan Marcos Marín\n",
        "### Nombre: ______\n",
        "*Métodos computacionales 2024-II*\n",
        "\n",
        "---"
      ],
      "metadata": {
        "id": "izZKutpxFNuB"
      }
    },
    {
      "cell_type": "markdown",
      "source": [
        "#1. Serie Seno\n",
        "Considere la serie de Taylor para el seno\n",
        "\n",
        "$$\\sin(x) = \\sum^{\\infty}_{n=1} (-1)^{n}\\frac{x^{2n-1}}{(2n-1)!} $$\n",
        "\n",
        "a. Defina una función que a partir de la *serie de Taylor* y un valor de $x$ en radianes encuentre el valor de $\\sin(x)$.\n",
        "\n",
        "\n",
        "b. Usando $x$ como `float32` encuentre cuántos términos de la serie son necesarios para obtener una convergencia con un error absoluto menor al $ϵ$ de la máquina para dicho tipo de variable. Para el valor exacto use `math.sin()`.\n",
        "\n",
        "\n",
        "c. Ahora, usando $x$ como `float64` encuentre cuántos términos de la serie son necesarios para obtener una convergencia con un error absoluto menor al $ϵ$ de la máquina para dicho tipo de variable. Para el valor exacto use `math.sin()`.\n",
        "\n",
        "\n",
        "d. Describa los errores porcentuales para cada cálculo y por qué pueden existir diferencias."
      ],
      "metadata": {
        "id": "xkTCfzqOFSd_"
      }
    },
    {
      "cell_type": "code",
      "source": [
        "import math"
      ],
      "metadata": {
        "id": "KjsgZNrM3UVy"
      },
      "execution_count": null,
      "outputs": []
    },
    {
      "cell_type": "code",
      "source": [
        "import numpy as np"
      ],
      "metadata": {
        "id": "hDR4jFmW6a0t"
      },
      "execution_count": null,
      "outputs": []
    },
    {
      "cell_type": "code",
      "source": [
        "#Este código no responde con el while, ¿por qué?\n",
        "def taylor_seno(angulo,tol): #¿no se puede hacer sin math.sin?, numeral a\n",
        "  seno=0\n",
        "  real=math.sin(angulo) #recibe angulo en rad\n",
        "  print('real', real)\n",
        "  i = 0\n",
        "  while (real-seno)>tol:\n",
        "    seno+=(-1)**i*angulo**(2*1-1)/math.factorial(2*i+1)\n",
        "    print(seno)\n",
        "    i+=1\n",
        "  return i, seno"
      ],
      "metadata": {
        "id": "bBUICScC5DSA"
      },
      "execution_count": null,
      "outputs": []
    },
    {
      "cell_type": "code",
      "source": [
        "taylor_seno(10,0.5)"
      ],
      "metadata": {
        "colab": {
          "base_uri": "https://localhost:8080/"
        },
        "id": "HAEd1seWZGmy",
        "outputId": "de9b20a2-ad9e-4643-b7a6-16b98ae92dd3"
      },
      "execution_count": null,
      "outputs": [
        {
          "output_type": "stream",
          "name": "stdout",
          "text": [
            "real -0.5440211108893698\n"
          ]
        },
        {
          "output_type": "execute_result",
          "data": {
            "text/plain": [
              "(0, 0)"
            ]
          },
          "metadata": {},
          "execution_count": 78
        }
      ]
    },
    {
      "cell_type": "code",
      "source": [
        "def taylor_seno(angulo,tol): #funcion de control\n",
        "  seno=0\n",
        "  max_iter=100\n",
        "  real=math.sin(angulo)\n",
        "  print('seno real', real)\n",
        "  i = 0\n",
        "  errors=np.zeros(max_iter) #guardar el error  #¿esto es un vector 1D?\n",
        "  #print(errors)\n",
        "  iteraciones= np.arange(max_iter) #iteracion asociada al error\n",
        "  #print(iteraciones)\n",
        "\n",
        "  while abs(real-seno)>tol:\n",
        "    seno+=(-1)**i*angulo**(2*i+1)/math.factorial(2*i+1)\n",
        "    #print('iter seno',seno)\n",
        "    error=abs(real-seno)\n",
        "    #print('error', error)\n",
        "    errors[i]=error\n",
        "    i+=1\n",
        "    if i>max_iter:\n",
        "      break\n",
        "  return errors[:i],iteraciones[:i],seno"
      ],
      "metadata": {
        "id": "-nCOrhGP8K_i"
      },
      "execution_count": null,
      "outputs": []
    },
    {
      "cell_type": "code",
      "source": [
        "taylor_seno(32,0.5)"
      ],
      "metadata": {
        "colab": {
          "base_uri": "https://localhost:8080/"
        },
        "id": "BEOnpRkECmYE",
        "outputId": "598aa489-1771-4cf7-d420-6c49bc75901a"
      },
      "execution_count": null,
      "outputs": [
        {
          "output_type": "stream",
          "name": "stdout",
          "text": [
            "seno real 0.5514266812416906\n"
          ]
        },
        {
          "output_type": "execute_result",
          "data": {
            "text/plain": [
              "(array([3.14485733e+01, 5.42988476e+03, 2.74190382e+05, 6.54321802e+06,\n",
              "        9.04154793e+07, 8.12181849e+08, 5.11255959e+09, 2.37776082e+10,\n",
              "        8.49853763e+10, 2.40667536e+11, 5.53305279e+11, 1.05346975e+12,\n",
              "        1.68875963e+12, 2.31130146e+12, 2.73311056e+12, 2.82116676e+12,\n",
              "        2.56479912e+12, 2.06984715e+12, 1.49312416e+12, 9.68739955e+11,\n",
              "        5.68423980e+11, 3.03146269e+11, 1.47605213e+11, 6.58867006e+10,\n",
              "        2.70621598e+10, 1.02631865e+10, 3.60515700e+09, 1.17638634e+09,\n",
              "        3.57542354e+08, 1.01470790e+08, 2.69525591e+07, 6.71500618e+06,\n",
              "        1.57239451e+06, 3.46714109e+05, 7.21194852e+04, 1.41754042e+04,\n",
              "        2.63699438e+03, 4.64968886e+02, 7.78216775e+01, 1.23791562e+01,\n",
              "        1.87480270e+00, 2.69783534e-01]),\n",
              " array([ 0,  1,  2,  3,  4,  5,  6,  7,  8,  9, 10, 11, 12, 13, 14, 15, 16,\n",
              "        17, 18, 19, 20, 21, 22, 23, 24, 25, 26, 27, 28, 29, 30, 31, 32, 33,\n",
              "        34, 35, 36, 37, 38, 39, 40, 41]),\n",
              " 0.28164314767394716)"
            ]
          },
          "metadata": {},
          "execution_count": 62
        }
      ]
    },
    {
      "cell_type": "code",
      "source": [
        "x_32=math.radians(80)\n",
        "tol_32=np.finfo(np.float32).eps #epsilon de la maquina\n",
        "er32, N32, seno_32= taylor_seno(x_32,tol_32)\n",
        "print('estos son los errores',er32,'estas las iter', N32, 'valor seno',seno_32)\n"
      ],
      "metadata": {
        "id": "BaZj469v53nW",
        "colab": {
          "base_uri": "https://localhost:8080/"
        },
        "outputId": "aca8f268-4da3-446f-ef0e-aec6a4a98d1e"
      },
      "execution_count": null,
      "outputs": [
        {
          "output_type": "stream",
          "name": "stdout",
          "text": [
            "seno real 0.984807753012208\n",
            "estos son los errores [4.11455649e-01 4.22255831e-02 1.99816285e-03 5.46102369e-05\n",
            " 9.72913452e-07 1.21975796e-08] estas las iter [0 1 2 3 4 5] valor seno 0.9848077408146284\n"
          ]
        }
      ]
    },
    {
      "cell_type": "code",
      "source": [
        "prnt32=abs((seno_32-math.sin(80))/math.sin(80))\n",
        "prnt32"
      ],
      "metadata": {
        "colab": {
          "base_uri": "https://localhost:8080/"
        },
        "id": "rYHSeCmv0Bnc",
        "outputId": "653632d7-a119-4c63-8282-715cff5043d8"
      },
      "execution_count": null,
      "outputs": [
        {
          "output_type": "execute_result",
          "data": {
            "text/plain": [
              "1.9908632613167274"
            ]
          },
          "metadata": {},
          "execution_count": 72
        }
      ]
    },
    {
      "cell_type": "code",
      "source": [
        "x_64=math.radians(80)\n",
        "tol_=np.finfo(np.float64).eps #epsilon de la maquina\n",
        "er64, N64, seno_64= taylor_seno(x_64,tol_32)\n",
        "print('estos son los errores',er64,'estas las iter', N64, 'valor seno',seno_64)"
      ],
      "metadata": {
        "colab": {
          "base_uri": "https://localhost:8080/"
        },
        "id": "tpnHrps-JRdr",
        "outputId": "4c9171ef-72d2-4d75-982f-febdf7d9abbf"
      },
      "execution_count": null,
      "outputs": [
        {
          "output_type": "stream",
          "name": "stdout",
          "text": [
            "seno real 0.984807753012208\n",
            "estos son los errores [4.11455649e-01 4.22255831e-02 1.99816285e-03 5.46102369e-05\n",
            " 9.72913452e-07 1.21975796e-08] estas las iter [0 1 2 3 4 5] valor seno 0.9848077408146284\n"
          ]
        }
      ]
    },
    {
      "cell_type": "code",
      "source": [
        "prnt64=abs((seno_64-math.sin(80))/math.sin(80))\n",
        "prnt64"
      ],
      "metadata": {
        "colab": {
          "base_uri": "https://localhost:8080/"
        },
        "id": "plYD9dQr3DHX",
        "outputId": "a9540877-9360-4a5e-f377-567d237fce08"
      },
      "execution_count": null,
      "outputs": [
        {
          "output_type": "execute_result",
          "data": {
            "text/plain": [
              "1.990863249044146"
            ]
          },
          "metadata": {},
          "execution_count": 80
        }
      ]
    },
    {
      "cell_type": "code",
      "source": [
        "import matplotlib.pyplot as plt"
      ],
      "metadata": {
        "id": "boTTpRLbBjei"
      },
      "execution_count": null,
      "outputs": []
    },
    {
      "cell_type": "code",
      "source": [
        "plt.plot(N32, er32, 'ro--')\n",
        "plt.show()"
      ],
      "metadata": {
        "colab": {
          "base_uri": "https://localhost:8080/",
          "height": 425
        },
        "id": "mzexuDMRBU3S",
        "outputId": "171f57b5-a117-463e-f70a-7619a5be0ffb"
      },
      "execution_count": null,
      "outputs": [
        {
          "output_type": "display_data",
          "data": {
            "text/plain": [
              "<Figure size 640x480 with 1 Axes>"
            ],
            "image/png": "[encoded data removed]"
          },
          "metadata": {}
        }
      ]
    },
    {
      "cell_type": "code",
      "source": [
        "def taylor_seno(angulo,iteraciones):\n",
        "  seno=0\n",
        "  for  i in range(1,iteraciones+1):\n",
        "    seno+=(-1)**i-1*angulo**(2*1-1)/math.factorial(2*i-1)\n",
        "  return seno\n",
        "\n",
        "x=np.deg2rad(30) #convertir de grad a rad\n",
        "max_inter=8\n",
        "seno_real=np.sin(x)\n",
        "print(f'el valor de seno con {max_inter} iteraciones es ', taylor_seno(x,max_inter))\n",
        "print(f'el valor real será: {seno_real}')"
      ],
      "metadata": {
        "id": "GVLogC5BGc3E",
        "colab": {
          "base_uri": "https://localhost:8080/"
        },
        "outputId": "5bea5ce1-588f-4f33-8c56-854ca9fcc47a"
      },
      "execution_count": null,
      "outputs": [
        {
          "output_type": "stream",
          "name": "stdout",
          "text": [
            "el valor de seno con 8 iteraciones es  -0.6153339060735522\n",
            "el valor real será: 0.49999999999999994\n"
          ]
        }
      ]
    },
    {
      "cell_type": "markdown",
      "source": [
        "#2. Serie Exponencial\n",
        "Considere la serie para $e^{-x}$\n",
        "\n",
        "\\begin{equation}\n",
        "e^{-x}=\\sum_{n=0}^{N}  (-1)^n \\frac{x^{n}}{n!}\n",
        "\\end{equation}\n",
        "\n",
        "a. Calcula la serie para $x \\le 1$ y compárela con la función incorporada `np.exp(x)` (asuma que la función exponencial incorporada es exacta). Elegir un $N$ para el cual el siguiente término en la serie no sea más que $10^{-7}$ de la suma hasta ese punto.\n",
        "\n",
        "\\begin{equation}\n",
        "\\left| \\frac{(-x)^{N+1}}{(N+1)!} \\right | \\le \\left| 10^{-7} \\sum_{N=0}^{N} \\frac{(-x)^{n}}{n!} \\right|\n",
        "\\end{equation}\n",
        "\n",
        "\n",
        "b. Examine los términos de la serie para $x\\approx 10$ y observa las cancelaciones sustractivas significativas que ocurren cuando términos grandes se suman para dar respuestas pequeñas. En particular, imprime la cancelación casi perfecta en $n \\approx x − 1$.\n",
        "\n",
        "c. Compruebe si se obtiene una mejor precisión siendo ingenioso y usando $e^{−x} = \\frac{1}{e^x}$ para valores grandes de $x$. Esto elimina la cancelación sustractiva, pero no elimina todos los errores de redondeo.\n",
        "\n",
        "\n",
        "d. Incrementando progresivamente $x$ de 1 a 10, y luego de 10 a 100, usa el programa para determinar experimentalmente cuándo la serie comienza a perder precisión, y cuándo la serie ya no converge.\n",
        "\n",
        "\n",
        "e. Realiza una serie de gráficos del error versus $N$ para diferentes valores de $x$."
      ],
      "metadata": {
        "id": "RdMr0k4_X_t-"
      }
    },
    {
      "cell_type": "code",
      "source": [
        "# Librerias\n",
        "import numpy as np\n",
        "import math"
      ],
      "metadata": {
        "id": "b2M69b_pQwX_"
      },
      "execution_count": null,
      "outputs": []
    },
    {
      "cell_type": "code",
      "source": [
        "def taylor_expo(x,tol):\n",
        "  exp=0\n",
        "  e_real=np.exp(-x)\n",
        "  max_iter=100\n",
        "  j=0\n",
        "  errors=np.zeros(max_iter) #guardar el error\n",
        "  iteraciones= np.arange(max_iter) #iteracion asociada al error\n",
        "  while abs(e_real-exp)>tol:\n",
        "    exp+=((-1)**j) * (x**j) / math.factorial(j)\n",
        "    #print(exp)\n",
        "    j=j+1\n",
        "    if j>max_iter:\n",
        "      break\n",
        "  print('j:',j,', e_real:',e_real,', miexp:',exp)\n"
      ],
      "metadata": {
        "id": "qQgoQlvDX_bT"
      },
      "execution_count": null,
      "outputs": []
    },
    {
      "cell_type": "code",
      "source": [
        "x1 = np.linspace(1, 11, 100)"
      ],
      "metadata": {
        "id": "aqkbZeg2efb_"
      },
      "execution_count": null,
      "outputs": []
    },
    {
      "cell_type": "code",
      "source": [
        "1/np.exp(201)"
      ],
      "metadata": {
        "colab": {
          "base_uri": "https://localhost:8080/"
        },
        "id": "Xv-8ET8cfSK2",
        "outputId": "573cf68d-d1de-412b-deb1-0baae2ecdeb8"
      },
      "execution_count": null,
      "outputs": [
        {
          "output_type": "execute_result",
          "data": {
            "text/plain": [
              "5.091070808950109e-88"
            ]
          },
          "metadata": {},
          "execution_count": 17
        }
      ]
    },
    {
      "cell_type": "code",
      "source": [
        "taylor_expo(201, 1e-7)"
      ],
      "metadata": {
        "colab": {
          "base_uri": "https://localhost:8080/"
        },
        "id": "1HXVHEkFe_eC",
        "outputId": "dc860d55-c710-4902-e52c-01d5eb64aea4"
      },
      "execution_count": null,
      "outputs": [
        {
          "output_type": "stream",
          "name": "stdout",
          "text": [
            "j: 0 , e_real: 5.09107080895011e-88 , miexp: 0\n"
          ]
        }
      ]
    },
    {
      "cell_type": "code",
      "source": [
        "def taylor_expo32(x_32,tol32):\n",
        "  exp=0\n",
        "  e_real=np.exp(-x_32)\n",
        "  max_iter=100\n",
        "  j=0\n",
        "  errors=np.zeros(max_iter) #guardar el error\n",
        "  iteraciones= np.arange(max_iter) #iteracion asociada al error\n",
        "  while abs(e_real-exp)>tol32:\n",
        "    exp+=((-1)**j) * (x_32**j) / math.factorial(j)\n",
        "    error=abs(e_real-exp)\n",
        "    errors[j]=error\n",
        "    #print(exp)\n",
        "    j=j+1\n",
        "    if j>max_iter:\n",
        "      break\n",
        "  iteraciones32=j\n",
        "  print('iteraciones',iteraciones32,', e_real:',e_real,', miexp:',exp)"
      ],
      "metadata": {
        "id": "g-QUeg6oQ94x"
      },
      "execution_count": null,
      "outputs": []
    },
    {
      "cell_type": "code",
      "source": [
        "x_32=0.3\n",
        "tol_32=np.finfo(np.float32).eps #epsilon de la maquina\n",
        "taylor_expo32(x_32,tol_32)"
      ],
      "metadata": {
        "colab": {
          "base_uri": "https://localhost:8080/"
        },
        "id": "-i9sjNt_QCwN",
        "outputId": "0c8b3717-4048-4389-c80e-6bd8efd225f4"
      },
      "execution_count": null,
      "outputs": [
        {
          "output_type": "stream",
          "name": "stdout",
          "text": [
            "iteraciones 7 , e_real: 0.7408182206817179 , miexp: 0.7408182624999999\n"
          ]
        }
      ]
    },
    {
      "cell_type": "markdown",
      "source": [
        "a."
      ],
      "metadata": {
        "id": "keD49_UqKrN6"
      }
    },
    {
      "cell_type": "code",
      "source": [
        "def taylor_expo_a(x32,tol32):\n",
        "  iteraciones32=13\n",
        "  exp=0\n",
        "  e_real=np.exp(-x32)\n",
        "  max_iter=100\n",
        "  j=0\n",
        "  for j in range(0,iteraciones32):\n",
        "      print('j',j)\n",
        "      exp+=((-1)**j) * (x32**j) / math.factorial(j)\n",
        "      siguiente=((-x32)**(j+1))/math.factorial(j+1)\n",
        "      print('siguiente',siguiente)\n",
        "      suma=10**(-7)*exp\n",
        "      print('suma',suma)\n",
        "      if abs(siguiente)<=abs(suma):\n",
        "        break\n",
        "  print('jtotal',j)"
      ],
      "metadata": {
        "id": "jTchoq5qZ7vP"
      },
      "execution_count": null,
      "outputs": []
    },
    {
      "cell_type": "code",
      "source": [
        "x32=0.3\n",
        "tol_32=np.finfo(np.float32).eps #epsilon de la maquina\n",
        "taylor_expo_a(x32,tol_32)"
      ],
      "metadata": {
        "colab": {
          "base_uri": "https://localhost:8080/"
        },
        "id": "gOwHjLZtcbIm",
        "outputId": "87bb1e2e-54b0-483a-ec70-ea61661d840e"
      },
      "execution_count": null,
      "outputs": [
        {
          "output_type": "stream",
          "name": "stdout",
          "text": [
            "j 0\n",
            "siguiente -0.3\n",
            "suma 1e-07\n",
            "j 1\n",
            "siguiente 0.045\n",
            "suma 6.999999999999999e-08\n",
            "j 2\n",
            "siguiente -0.0045\n",
            "suma 7.45e-08\n",
            "j 3\n",
            "siguiente 0.00033749999999999996\n",
            "suma 7.405e-08\n",
            "j 4\n",
            "siguiente -2.0249999999999994e-05\n",
            "suma 7.408375e-08\n",
            "j 5\n",
            "siguiente 1.0124999999999998e-06\n",
            "suma 7.4081725e-08\n",
            "j 6\n",
            "siguiente -4.339285714285713e-08\n",
            "suma 7.408182624999999e-08\n",
            "jtotal 6\n"
          ]
        }
      ]
    },
    {
      "cell_type": "markdown",
      "source": [
        "Respuesta a. N=6"
      ],
      "metadata": {
        "id": "pVCZxnv47b20"
      }
    },
    {
      "cell_type": "markdown",
      "source": [
        "b."
      ],
      "metadata": {
        "id": "TSrGFuQ5KuDz"
      }
    },
    {
      "cell_type": "code",
      "source": [
        "def taylor_expo32_b(x32,tol32):\n",
        "  exp=0\n",
        "  e_real=np.exp(-x32)\n",
        "  max_iter=100\n",
        "  j=0\n",
        "  errors=np.zeros(max_iter) #guardar el error\n",
        "  iteraciones= np.arange(max_iter) #iteracion asociada al error\n",
        "  for j in range(0,9):\n",
        "    exp+=((-1)**j) * (x32**j) / math.factorial(j)\n",
        "  term10=((-1)**10) * (x32**10) / math.factorial(10)\n",
        "  term9=((-1)**9) * (x32**9) / math.factorial(9)\n",
        "  cancel=term10+term9\n",
        "  print(exp, term10, term9, 'cancelacion', cancel)"
      ],
      "metadata": {
        "id": "cG-EGoL6KM-A"
      },
      "execution_count": null,
      "outputs": []
    },
    {
      "cell_type": "code",
      "source": [
        "x32=10\n",
        "tol_32=np.finfo(np.float32).eps #epsilon de la maquina\n",
        "taylor_expo32_b(x32,tol_32)"
      ],
      "metadata": {
        "colab": {
          "base_uri": "https://localhost:8080/"
        },
        "id": "y_gG_bSGLxTK",
        "outputId": "e8e5b7a4-c061-4493-90b9-a65202324302"
      },
      "execution_count": null,
      "outputs": [
        {
          "output_type": "stream",
          "name": "stdout",
          "text": [
            "1342.5873015873017 2755.731922398589 -2755.731922398589 cancelacion 0.0\n"
          ]
        }
      ]
    },
    {
      "cell_type": "markdown",
      "source": [
        "La cancelación es casi perfecta para la suma de los términos de n=9 y n=10, da cero porque es una aproximación"
      ],
      "metadata": {
        "id": "JN1EhZWkdZYt"
      }
    },
    {
      "cell_type": "markdown",
      "source": [
        "c."
      ],
      "metadata": {
        "id": "o_gihtiwlIfo"
      }
    },
    {
      "cell_type": "code",
      "source": [
        "import numpy as np"
      ],
      "metadata": {
        "id": "cRCEbShCBIf6"
      },
      "execution_count": null,
      "outputs": []
    },
    {
      "cell_type": "code",
      "source": [
        "import math"
      ],
      "metadata": {
        "id": "BqzhZFcVBTzp"
      },
      "execution_count": null,
      "outputs": []
    },
    {
      "cell_type": "code",
      "source": [
        "def taylor_inv(x,inc):\n",
        "  real_value=np.exp(x)\n",
        "  #print(real_value)\n",
        "  result=0\n",
        "  max_iter=30\n",
        "  i=0\n",
        "  results=np.zeros(max_iter)\n",
        "  while (real_value-result)>inc:\n",
        "    result+=(x**i)/math.factorial(i)\n",
        "    results[i]=result\n",
        "    #print(result)\n",
        "    i+=1\n",
        "    if abs(result-real_value)<=inc:\n",
        "      #print('error',result-real_value)\n",
        "      break\n",
        "    if i>=30:\n",
        "      break\n",
        "  print(results)\n",
        "\n",
        "  print('iter',i,'    real',real_value, '    pos',result,'   neg', )\n",
        "\n",
        "  e_real_n=np.exp(-x)\n",
        "  e_neg=0\n",
        "  for result in results:\n",
        "    e_neg=1/result\n",
        "    error=abs((e_neg)-(e_real_n))\n",
        "    if error<=inc:\n",
        "      break\n",
        "  ubicacion = np.where(results == result)\n",
        "  print(e_neg, 'real', e_real_n,'  result', ubicacion)"
      ],
      "metadata": {
        "id": "e59KbRGLP4mI"
      },
      "execution_count": null,
      "outputs": []
    },
    {
      "cell_type": "code",
      "source": [
        "x=10\n",
        "inc=np.finfo(np.float32).eps\n",
        "taylor_inv(10,inc)\n",
        "#ahora hallemos la aproximacion para e^-x"
      ],
      "metadata": {
        "colab": {
          "base_uri": "https://localhost:8080/"
        },
        "id": "-d9Jp0MERFj-",
        "outputId": "e1eccbdc-7b71-4268-9076-c083cea31f8e"
      },
      "execution_count": null,
      "outputs": [
        {
          "output_type": "stream",
          "name": "stdout",
          "text": [
            "[1.00000000e+00 1.10000000e+01 6.10000000e+01 2.27666667e+02\n",
            " 6.44333333e+02 1.47766667e+03 2.86655556e+03 4.85068254e+03\n",
            " 7.33084127e+03 1.00865732e+04 1.28423051e+04 1.53475160e+04\n",
            " 1.74351917e+04 1.90410960e+04 2.01881706e+04 2.09528870e+04\n",
            " 2.14308347e+04 2.17119804e+04 2.18681725e+04 2.19503788e+04\n",
            " 2.19914820e+04 2.20110550e+04 2.20199518e+04 2.20238199e+04\n",
            " 2.20254317e+04 2.20260764e+04 2.20263243e+04 2.20264162e+04\n",
            " 2.20264490e+04 2.20264603e+04]\n",
            "iter 30     real 22026.465794806718     pos 22026.460266271286    neg\n",
            "4.547215139175042e-05 real 4.5399929762484854e-05   result (array([20]),)\n"
          ]
        }
      ]
    },
    {
      "cell_type": "code",
      "source": [
        "x_32=10\n",
        "tol_32=np.finfo(np.float32).eps #epsilon de la maquina\n",
        "taylor_expo32(x_32,tol_32)"
      ],
      "metadata": {
        "colab": {
          "base_uri": "https://localhost:8080/"
        },
        "id": "99N2g8ZWi8kL",
        "outputId": "3eb41440-e6dd-4f38-b8ea-69e6c1e1b0b5"
      },
      "execution_count": null,
      "outputs": [
        {
          "output_type": "stream",
          "name": "stdout",
          "text": [
            "iteraciones 39 , e_real: 4.5399929762484854e-05 , miexp: 4.5439110291729325e-05\n"
          ]
        }
      ]
    },
    {
      "cell_type": "markdown",
      "source": [
        "Para la serie alternante directamente converge para x=10 en 39 iteraciones y para el inverso de la serie exponencial converge para 20 iteraciones, por lo tanto, es más eficiente el inverso con valores grandes de x."
      ],
      "metadata": {
        "id": "-8GNYASYjI5T"
      }
    },
    {
      "cell_type": "markdown",
      "source": [
        "e."
      ],
      "metadata": {
        "id": "kDqEWxU1AHCw"
      }
    },
    {
      "cell_type": "code",
      "source": [
        "def taylor_expo_e(x):\n",
        "  exp=0\n",
        "  e_real=np.exp(-x)\n",
        "  j=0\n",
        "  errors=np.zeros(101) #guardar el error\n",
        "  iteraciones= np.arange(101) #iteracion asociada al error\n",
        "  for j in range(0,101):\n",
        "    exp+=((-1)**j) * (x**j) / math.factorial(j)\n",
        "\n",
        "  error_=abs(e_real-exp)\n",
        "  return error_\n",
        "  #print('j:',j,', e_real:',e_real,', miexp:',exp, error_)"
      ],
      "metadata": {
        "id": "JFkY9QSl__p8"
      },
      "execution_count": null,
      "outputs": []
    },
    {
      "cell_type": "code",
      "source": [
        "taylor_expo_e(1)"
      ],
      "metadata": {
        "colab": {
          "base_uri": "https://localhost:8080/"
        },
        "id": "7t4Y_PowkpVj",
        "outputId": "c713efc4-3f7e-41ed-d02e-717f72f76ba4"
      },
      "execution_count": null,
      "outputs": [
        {
          "output_type": "execute_result",
          "data": {
            "text/plain": [
              "1.1102230246251565e-16"
            ]
          },
          "metadata": {},
          "execution_count": 8
        }
      ]
    },
    {
      "cell_type": "code",
      "source": [
        "np.linspace(0,100,20)"
      ],
      "metadata": {
        "colab": {
          "base_uri": "https://localhost:8080/"
        },
        "id": "2ILrO-qEs_m3",
        "outputId": "ffba4951-6a37-4414-a988-f5304391df99"
      },
      "execution_count": null,
      "outputs": [
        {
          "output_type": "execute_result",
          "data": {
            "text/plain": [
              "array([  0.        ,   5.26315789,  10.52631579,  15.78947368,\n",
              "        21.05263158,  26.31578947,  31.57894737,  36.84210526,\n",
              "        42.10526316,  47.36842105,  52.63157895,  57.89473684,\n",
              "        63.15789474,  68.42105263,  73.68421053,  78.94736842,\n",
              "        84.21052632,  89.47368421,  94.73684211, 100.        ])"
            ]
          },
          "metadata": {},
          "execution_count": 9
        }
      ]
    },
    {
      "cell_type": "code",
      "source": [
        "errors_=np.zeros(101)\n",
        "x_=np.zeros(101)\n",
        "for x in range(0,101):\n",
        "  x_[x]=x\n",
        "  errors_[x]=taylor_expo_e(x)\n",
        "print(errors_)\n",
        "print(x_)"
      ],
      "metadata": {
        "colab": {
          "base_uri": "https://localhost:8080/"
        },
        "id": "XK2ncCyh8f54",
        "outputId": "3c75cb17-edec-47f5-c557-344736d0151c"
      },
      "execution_count": null,
      "outputs": [
        {
          "output_type": "stream",
          "name": "stdout",
          "text": [
            "[0.00000000e+00 1.11022302e-16 5.55111512e-17 4.16333634e-17\n",
            " 2.63677968e-16 1.43982049e-15 1.79717352e-15 1.15111913e-14\n",
            " 4.95605076e-14 7.49073113e-14 3.28877130e-13 1.27741170e-12\n",
            " 3.19182420e-13 1.57516648e-12 3.93906134e-12 3.19161394e-11\n",
            " 7.76723586e-12 4.25015123e-10 6.28703942e-10 2.70041144e-09\n",
            " 1.51334333e-09 3.91528445e-09 2.41830530e-08 2.76016655e-08\n",
            " 2.36455972e-07 6.68969956e-07 1.34665796e-06 4.47412389e-06\n",
            " 5.01691001e-06 5.50957548e-05 8.55301518e-05 1.55878642e-04\n",
            " 2.59745995e-04 8.49219715e-04 9.03442276e-03 7.95190127e-03\n",
            " 7.48558915e-03 8.64751549e-02 1.87019213e-01 4.06211804e+00\n",
            " 4.90920248e+01 5.82701843e+02 6.66165112e+03 7.12327180e+04\n",
            " 7.21536421e+05 6.93451664e+06 6.34082895e+07 5.52771789e+08\n",
            " 4.60375268e+09 3.66989626e+10 2.80505300e+11 2.05919835e+12\n",
            " 1.45414053e+13 9.89254647e+13 6.49246617e+14 4.11608306e+15\n",
            " 2.52390723e+16 1.49861702e+17 8.62625630e+17 4.81870054e+18\n",
            " 2.61487889e+19 1.37976055e+20 7.08569569e+20 3.54458173e+21\n",
            " 1.72866362e+22 8.22548572e+22 3.82159830e+23 1.73489443e+24\n",
            " 7.70094170e+24 3.34458742e+25 1.42213902e+26 5.92384347e+26\n",
            " 2.41867427e+27 9.68508399e+27 3.80549985e+28 1.46799027e+29\n",
            " 5.56224171e+29 2.07107341e+30 7.58151385e+30 2.72972905e+31\n",
            " 9.67091506e+31 3.37267511e+32 1.15826631e+33 3.91860305e+33\n",
            " 1.30646921e+34 4.29400683e+34 1.39176920e+35 4.44992726e+35\n",
            " 1.40396164e+36 4.37225076e+36 1.34440103e+37 4.08271279e+37\n",
            " 1.22485110e+38 3.63117067e+38 1.06401969e+39 3.08247479e+39\n",
            " 8.83080160e+39 2.50237315e+40 7.01540733e+40 1.94624338e+41\n",
            " 5.34412416e+41]\n",
            "[  0.   1.   2.   3.   4.   5.   6.   7.   8.   9.  10.  11.  12.  13.\n",
            "  14.  15.  16.  17.  18.  19.  20.  21.  22.  23.  24.  25.  26.  27.\n",
            "  28.  29.  30.  31.  32.  33.  34.  35.  36.  37.  38.  39.  40.  41.\n",
            "  42.  43.  44.  45.  46.  47.  48.  49.  50.  51.  52.  53.  54.  55.\n",
            "  56.  57.  58.  59.  60.  61.  62.  63.  64.  65.  66.  67.  68.  69.\n",
            "  70.  71.  72.  73.  74.  75.  76.  77.  78.  79.  80.  81.  82.  83.\n",
            "  84.  85.  86.  87.  88.  89.  90.  91.  92.  93.  94.  95.  96.  97.\n",
            "  98.  99. 100.]\n"
          ]
        }
      ]
    },
    {
      "cell_type": "code",
      "source": [
        "import matplotlib.pyplot as plt"
      ],
      "metadata": {
        "id": "y9kklPsan1o6"
      },
      "execution_count": null,
      "outputs": []
    },
    {
      "cell_type": "code",
      "source": [
        "plt.plot(errors_, 'ro--')\n",
        "plt.xlabel('Valores de x', fontsize=14, fontweight='bold')\n",
        "plt.ylabel('Errores', fontsize=14, fontweight='bold')\n",
        "plt.title('Error relativo para diferentes valores de x',fontsize=16, fontweight='bold')\n",
        "plt.show()"
      ],
      "metadata": {
        "colab": {
          "base_uri": "https://localhost:8080/",
          "height": 487
        },
        "id": "ru-QdFV4Bu5O",
        "outputId": "032b54b9-b248-44bb-813e-24d389b70775"
      },
      "execution_count": null,
      "outputs": [
        {
          "output_type": "display_data",
          "data": {
            "text/plain": [
              "<Figure size 640x480 with 1 Axes>"
            ],
            "image/png": "[encoded data removed]"
          },
          "metadata": {}
        }
      ]
    },
    {
      "cell_type": "markdown",
      "source": [
        "La serie de Taylor para exponencial es menos efectiva a medida que x crece porque la serie converge lentamente y está más propensa a errores numéricos debido a la cancelación y el redondeo. Por esta razón, para valores grandes de\n",
        "x."
      ],
      "metadata": {
        "id": "cs39EMcSH8Mx"
      }
    },
    {
      "cell_type": "markdown",
      "source": [
        "d. Compararemos la serie taylor para e^-x con el inverso de la serie e^x, dejando fijo un valor de N"
      ],
      "metadata": {
        "id": "VFSSvd3aCKMC"
      }
    },
    {
      "cell_type": "code",
      "source": [
        "def taylor_inv_d(x):\n",
        "  real_value=np.exp(x)\n",
        "\n",
        "  result=0\n",
        "  max_iter=50\n",
        "  for i in range(0,50):\n",
        "    result+=(x**i)/math.factorial(i)\n",
        "    #print(result)\n",
        "\n",
        "  e_real_n=np.exp(-x)\n",
        "  e_neg=1/result\n",
        "  error=abs((e_neg)-(e_real_n))\n",
        "\n",
        "\n",
        "  #ubicacion = np.where(results == result)\n",
        "\n",
        "  return error\n",
        "  #print(e_neg, 'real', e_real_n,'  result','iter', i)"
      ],
      "metadata": {
        "id": "MJsYPLIOEEeo"
      },
      "execution_count": null,
      "outputs": []
    },
    {
      "cell_type": "code",
      "source": [
        "taylor_inv_d(10)"
      ],
      "metadata": {
        "colab": {
          "base_uri": "https://localhost:8080/"
        },
        "id": "OTZDuMAfKgVe",
        "outputId": "2dc0c0da-3361-444c-d1f6-bd0a79e9e16c"
      },
      "execution_count": null,
      "outputs": [
        {
          "output_type": "execute_result",
          "data": {
            "text/plain": [
              "6.776263578034403e-21"
            ]
          },
          "metadata": {},
          "execution_count": 120
        }
      ]
    },
    {
      "cell_type": "code",
      "source": [
        "def taylor_expo_d(x):\n",
        "  expo=0\n",
        "  e_real=np.exp(-x)\n",
        "  max_iter=100\n",
        "  for j in range(0,50):\n",
        "    expo+=((-1)**j) * (x**j) / math.factorial(j)\n",
        "\n",
        "\n",
        "\n",
        "  error=abs(e_real-expo)\n",
        "  return error\n",
        "\n",
        "  iteraciones32=j\n",
        "  #print('iteraciones',iteraciones32,', e_real:',e_real,', miexp:',expo)"
      ],
      "metadata": {
        "id": "XVVJVhe0JX0a"
      },
      "execution_count": null,
      "outputs": []
    },
    {
      "cell_type": "code",
      "source": [
        "taylor_expo_d(10)"
      ],
      "metadata": {
        "colab": {
          "base_uri": "https://localhost:8080/"
        },
        "id": "zUSAQOcNOZrP",
        "outputId": "ff3c80d5-88ed-4594-9839-b4b9b1eefc9b"
      },
      "execution_count": null,
      "outputs": [
        {
          "output_type": "execute_result",
          "data": {
            "text/plain": [
              "3.3162464067133454e-13"
            ]
          },
          "metadata": {},
          "execution_count": 122
        }
      ]
    },
    {
      "cell_type": "code",
      "source": [
        "errors_inv=np.zeros(51)\n",
        "errors_expo=np.zeros(51)\n",
        "\n",
        "for x in range(0,50):\n",
        "  x_[x]=x\n",
        "  errors_inv[x]=taylor_inv_d(x)\n",
        "  errors_expo[x]=taylor_expo_d(x)\n",
        "print(errors_inv)\n",
        "print(errors_expo)\n"
      ],
      "metadata": {
        "colab": {
          "base_uri": "https://localhost:8080/"
        },
        "id": "GGwCqcMrG0x4",
        "outputId": "13f2ed4f-1045-42cf-efcc-658ebda5195a"
      },
      "execution_count": null,
      "outputs": [
        {
          "output_type": "stream",
          "name": "stdout",
          "text": [
            "[0.00000000e+00 5.55111512e-17 2.77555756e-17 1.38777878e-17\n",
            " 6.93889390e-18 1.73472348e-18 0.00000000e+00 6.50521303e-19\n",
            " 5.42101086e-20 2.71050543e-20 6.77626358e-21 0.00000000e+00\n",
            " 3.38813179e-21 1.14349448e-20 6.27863172e-20 2.76979774e-19\n",
            " 9.71255623e-19 2.80191882e-18 6.80214771e-18 1.41597224e-17\n",
            " 2.56797613e-17 4.11295538e-17 5.88604240e-17 7.60335539e-17\n",
            " 8.94432713e-17 9.65677844e-17 9.63493662e-17 8.93832802e-17\n",
            " 7.75234979e-17 6.31716789e-17 4.85811150e-17 3.54036774e-17\n",
            " 2.45421018e-17 1.62404863e-17 1.02936871e-17 6.26942996e-18\n",
            " 3.68066201e-18 2.08922491e-18 1.14999399e-18 6.15623529e-19\n",
            " 3.21415027e-19 1.64107247e-19 8.21540885e-20 4.04243494e-20\n",
            " 1.95965845e-20 9.37967761e-21 4.44168002e-21 2.08485705e-21\n",
            " 9.71698711e-22 4.50414629e-22 0.00000000e+00]\n",
            "[0.00000000e+00 1.11022302e-16 5.55111512e-17 4.16333634e-17\n",
            " 2.63677968e-16 1.43982049e-15 1.79717352e-15 1.15111913e-14\n",
            " 4.95605618e-14 7.49217311e-14 3.31624641e-13 9.60110450e-13\n",
            " 2.38860982e-11 1.30514299e-09 5.21864703e-08 1.61833285e-06\n",
            " 4.01731387e-05 8.20165899e-04 1.40829452e-02 2.07229336e-01\n",
            " 2.65498497e+00 3.00195289e+01 3.03063400e+02 2.75951541e+03\n",
            " 2.28625055e+04 1.73684072e+05 1.21814763e+06 7.93536594e+06\n",
            " 4.82722988e+07 2.75539367e+08 1.48218304e+09 7.54302421e+09\n",
            " 3.64456938e+10 1.67723558e+11 7.37317422e+11 3.10443677e+12\n",
            " 1.25497944e+13 4.88187261e+13 1.83115516e+14 6.63553453e+14\n",
            " 2.32701588e+15 7.91042190e+15 2.61053817e+16 8.37524688e+16\n",
            " 2.61557703e+17 7.96098396e+17 2.36421810e+18 6.85788670e+18\n",
            " 1.94494068e+19 5.39809218e+19 0.00000000e+00]\n"
          ]
        }
      ]
    },
    {
      "cell_type": "code",
      "source": [
        "plt.plot(x_, errors_inv, marker='o', linestyle='--', label='Error de la serie inversa')\n",
        "plt.plot(x_, errors_expo, marker='s', linestyle='-', label='Error de la serie exponencial')\n",
        "\n",
        "plt.yscale('log')\n",
        "\n",
        "plt.xlabel('Valores de x', fontsize=14, fontweight='bold')\n",
        "plt.ylabel('Errores', fontsize=14, fontweight='bold')\n",
        "plt.title('Error relativo para diferentes valores de x',fontsize=16, fontweight='bold')\n",
        "plt.show()"
      ],
      "metadata": {
        "colab": {
          "base_uri": "https://localhost:8080/",
          "height": 472
        },
        "id": "FhTRsJ-EMfVh",
        "outputId": "457cdeed-f068-416b-8cec-b40189d8d1e4"
      },
      "execution_count": null,
      "outputs": [
        {
          "output_type": "display_data",
          "data": {
            "text/plain": [
              "<Figure size 640x480 with 1 Axes>"
            ],
            "image/png": "[encoded data removed]"
          },
          "metadata": {}
        }
      ]
    },
    {
      "cell_type": "markdown",
      "source": [
        "3."
      ],
      "metadata": {
        "id": "EXN0AnRkUS-n"
      }
    },
    {
      "cell_type": "markdown",
      "source": [
        "a."
      ],
      "metadata": {
        "id": "FWC8vxivVLGX"
      }
    },
    {
      "cell_type": "code",
      "source": [
        "def S1(lim):\n",
        "    serie = 0\n",
        "    for n in range(1, 2 * lim + 1):\n",
        "        serie += (-1)**n * (n / (n + 1))\n",
        "    return serie\n",
        "\n",
        "def S2(lim):\n",
        "    suma1 = 0\n",
        "    suma2 = 0\n",
        "    for n in range(1, lim + 1):\n",
        "        suma1 += (2 * n - 1) / (2 * n)\n",
        "        suma2 += (2 * n) / (2 * n + 1)\n",
        "    return -suma1 + suma2\n",
        "\n",
        "def S3(lim):\n",
        "    serie = 0\n",
        "    for n in range(1, lim + 1):\n",
        "        serie += 1 / (2 * n * (2 * n + 1))\n",
        "    return serie\n",
        "\n",
        "lim_val= list(range(1, 1001))\n",
        "\n",
        "S1_values = [S1(lim) for lim in lim_val]\n",
        "S2_values = [S2(lim) for lim in lim_val]\n",
        "S3_values = [S3(lim) for lim in lim_val]"
      ],
      "metadata": {
        "id": "VXxFzau7VMPg"
      },
      "execution_count": null,
      "outputs": []
    },
    {
      "cell_type": "code",
      "source": [
        "plt.figure(figsize=(10, 6))\n",
        "\n",
        "plt.plot(lim_val, S1_values, color='blue', linestyle='--')\n",
        "plt.plot(lim_val, S2_values, color='black', linestyle='--')\n",
        "plt.plot(lim_val, S3_values, color='white', linestyle='--')\n",
        "\n",
        "# detalles\n",
        "plt.xlabel('lim n', fontsize=14, fontweight='bold')\n",
        "plt.ylabel('serie', fontsize=14, fontweight='bold')\n",
        "plt.title('Convergencia de la serie', fontsize=16, fontweight='bold')\n",
        "\n",
        "# cuadros\n",
        "plt.grid(True, linestyle='--', linewidth=0.5)\n",
        "\n",
        "# Mostrar la gráfica\n",
        "plt.show()\n",
        "\n"
      ],
      "metadata": {
        "colab": {
          "base_uri": "https://localhost:8080/",
          "height": 564
        },
        "id": "hQ2O2Gc9W7Ge",
        "outputId": "59dc7ec2-2e75-4287-bb53-a4be19fa81ec"
      },
      "execution_count": null,
      "outputs": [
        {
          "output_type": "display_data",
          "data": {
            "text/plain": [
              "<Figure size 1000x600 with 1 Axes>"
            ],
            "image/png": "[encoded data removed]"
          },
          "metadata": {}
        }
      ]
    },
    {
      "cell_type": "code",
      "source": [
        "import numpy as np\n",
        "import matplotlib.pyplot as plt\n",
        "lim_val= np.logspace(1, 10, num=100).astype(int)\n",
        "\n",
        "Error1_= [abs((S1(l) - S3(l)) / S3(l)) for l in lim_val]\n",
        "Error2_= [abs((S2(l) - S3(l)) / S3(l)) for l in lim_val]\n",
        "\n",
        "plt.figure(figsize=(12, 8))\n",
        "plt.loglog(lim_val, Error1_, color='blue', linestyle='--')\n",
        "\n",
        "\n",
        "plt.title('Error Relativo', fontsize=16, fontweight='bold')\n",
        "\n",
        "# Mostrar la rejilla para mejor visualización\n",
        "plt.grid(True, linestyle='--', linewidth=0.5)\n",
        "\n",
        "# Mostrar la gráfica\n",
        "plt.show()"
      ],
      "metadata": {
        "colab": {
          "base_uri": "https://localhost:8080/",
          "height": 371
        },
        "id": "txG6zCGXg9pv",
        "outputId": "c9739d92-bf67-4485-c0d2-794235826161"
      },
      "execution_count": 18,
      "outputs": [
        {
          "output_type": "error",
          "ename": "KeyboardInterrupt",
          "evalue": "",
          "traceback": [
            "\u001b[0;31m---------------------------------------------------------------------------\u001b[0m",
            "\u001b[0;31mKeyboardInterrupt\u001b[0m                         Traceback (most recent call last)",
            "\u001b[0;32m<ipython-input-18-6c35309d665d>\u001b[0m in \u001b[0;36m<cell line: 5>\u001b[0;34m()\u001b[0m\n\u001b[1;32m      3\u001b[0m \u001b[0mlim_val\u001b[0m\u001b[0;34m=\u001b[0m \u001b[0mnp\u001b[0m\u001b[0;34m.\u001b[0m\u001b[0mlogspace\u001b[0m\u001b[0;34m(\u001b[0m\u001b[0;36m1\u001b[0m\u001b[0;34m,\u001b[0m \u001b[0;36m10\u001b[0m\u001b[0;34m,\u001b[0m \u001b[0mnum\u001b[0m\u001b[0;34m=\u001b[0m\u001b[0;36m100\u001b[0m\u001b[0;34m)\u001b[0m\u001b[0;34m.\u001b[0m\u001b[0mastype\u001b[0m\u001b[0;34m(\u001b[0m\u001b[0mint\u001b[0m\u001b[0;34m)\u001b[0m\u001b[0;34m\u001b[0m\u001b[0;34m\u001b[0m\u001b[0m\n\u001b[1;32m      4\u001b[0m \u001b[0;34m\u001b[0m\u001b[0m\n\u001b[0;32m----> 5\u001b[0;31m \u001b[0mError1_\u001b[0m\u001b[0;34m=\u001b[0m \u001b[0;34m[\u001b[0m\u001b[0mabs\u001b[0m\u001b[0;34m(\u001b[0m\u001b[0;34m(\u001b[0m\u001b[0mS1\u001b[0m\u001b[0;34m(\u001b[0m\u001b[0ml\u001b[0m\u001b[0;34m)\u001b[0m \u001b[0;34m-\u001b[0m \u001b[0mS3\u001b[0m\u001b[0;34m(\u001b[0m\u001b[0ml\u001b[0m\u001b[0;34m)\u001b[0m\u001b[0;34m)\u001b[0m \u001b[0;34m/\u001b[0m \u001b[0mS3\u001b[0m\u001b[0;34m(\u001b[0m\u001b[0ml\u001b[0m\u001b[0;34m)\u001b[0m\u001b[0;34m)\u001b[0m \u001b[0;32mfor\u001b[0m \u001b[0ml\u001b[0m \u001b[0;32min\u001b[0m \u001b[0mlim_val\u001b[0m\u001b[0;34m]\u001b[0m\u001b[0;34m\u001b[0m\u001b[0;34m\u001b[0m\u001b[0m\n\u001b[0m\u001b[1;32m      6\u001b[0m \u001b[0mError2_\u001b[0m\u001b[0;34m=\u001b[0m \u001b[0;34m[\u001b[0m\u001b[0mabs\u001b[0m\u001b[0;34m(\u001b[0m\u001b[0;34m(\u001b[0m\u001b[0mS2\u001b[0m\u001b[0;34m(\u001b[0m\u001b[0ml\u001b[0m\u001b[0;34m)\u001b[0m \u001b[0;34m-\u001b[0m \u001b[0mS3\u001b[0m\u001b[0;34m(\u001b[0m\u001b[0ml\u001b[0m\u001b[0;34m)\u001b[0m\u001b[0;34m)\u001b[0m \u001b[0;34m/\u001b[0m \u001b[0mS3\u001b[0m\u001b[0;34m(\u001b[0m\u001b[0ml\u001b[0m\u001b[0;34m)\u001b[0m\u001b[0;34m)\u001b[0m \u001b[0;32mfor\u001b[0m \u001b[0ml\u001b[0m \u001b[0;32min\u001b[0m \u001b[0mlim_val\u001b[0m\u001b[0;34m]\u001b[0m\u001b[0;34m\u001b[0m\u001b[0;34m\u001b[0m\u001b[0m\n\u001b[1;32m      7\u001b[0m \u001b[0;34m\u001b[0m\u001b[0m\n",
            "\u001b[0;32m<ipython-input-18-6c35309d665d>\u001b[0m in \u001b[0;36m<listcomp>\u001b[0;34m(.0)\u001b[0m\n\u001b[1;32m      3\u001b[0m \u001b[0mlim_val\u001b[0m\u001b[0;34m=\u001b[0m \u001b[0mnp\u001b[0m\u001b[0;34m.\u001b[0m\u001b[0mlogspace\u001b[0m\u001b[0;34m(\u001b[0m\u001b[0;36m1\u001b[0m\u001b[0;34m,\u001b[0m \u001b[0;36m10\u001b[0m\u001b[0;34m,\u001b[0m \u001b[0mnum\u001b[0m\u001b[0;34m=\u001b[0m\u001b[0;36m100\u001b[0m\u001b[0;34m)\u001b[0m\u001b[0;34m.\u001b[0m\u001b[0mastype\u001b[0m\u001b[0;34m(\u001b[0m\u001b[0mint\u001b[0m\u001b[0;34m)\u001b[0m\u001b[0;34m\u001b[0m\u001b[0;34m\u001b[0m\u001b[0m\n\u001b[1;32m      4\u001b[0m \u001b[0;34m\u001b[0m\u001b[0m\n\u001b[0;32m----> 5\u001b[0;31m \u001b[0mError1_\u001b[0m\u001b[0;34m=\u001b[0m \u001b[0;34m[\u001b[0m\u001b[0mabs\u001b[0m\u001b[0;34m(\u001b[0m\u001b[0;34m(\u001b[0m\u001b[0mS1\u001b[0m\u001b[0;34m(\u001b[0m\u001b[0ml\u001b[0m\u001b[0;34m)\u001b[0m \u001b[0;34m-\u001b[0m \u001b[0mS3\u001b[0m\u001b[0;34m(\u001b[0m\u001b[0ml\u001b[0m\u001b[0;34m)\u001b[0m\u001b[0;34m)\u001b[0m \u001b[0;34m/\u001b[0m \u001b[0mS3\u001b[0m\u001b[0;34m(\u001b[0m\u001b[0ml\u001b[0m\u001b[0;34m)\u001b[0m\u001b[0;34m)\u001b[0m \u001b[0;32mfor\u001b[0m \u001b[0ml\u001b[0m \u001b[0;32min\u001b[0m \u001b[0mlim_val\u001b[0m\u001b[0;34m]\u001b[0m\u001b[0;34m\u001b[0m\u001b[0;34m\u001b[0m\u001b[0m\n\u001b[0m\u001b[1;32m      6\u001b[0m \u001b[0mError2_\u001b[0m\u001b[0;34m=\u001b[0m \u001b[0;34m[\u001b[0m\u001b[0mabs\u001b[0m\u001b[0;34m(\u001b[0m\u001b[0;34m(\u001b[0m\u001b[0mS2\u001b[0m\u001b[0;34m(\u001b[0m\u001b[0ml\u001b[0m\u001b[0;34m)\u001b[0m \u001b[0;34m-\u001b[0m \u001b[0mS3\u001b[0m\u001b[0;34m(\u001b[0m\u001b[0ml\u001b[0m\u001b[0;34m)\u001b[0m\u001b[0;34m)\u001b[0m \u001b[0;34m/\u001b[0m \u001b[0mS3\u001b[0m\u001b[0;34m(\u001b[0m\u001b[0ml\u001b[0m\u001b[0;34m)\u001b[0m\u001b[0;34m)\u001b[0m \u001b[0;32mfor\u001b[0m \u001b[0ml\u001b[0m \u001b[0;32min\u001b[0m \u001b[0mlim_val\u001b[0m\u001b[0;34m]\u001b[0m\u001b[0;34m\u001b[0m\u001b[0;34m\u001b[0m\u001b[0m\n\u001b[1;32m      7\u001b[0m \u001b[0;34m\u001b[0m\u001b[0m\n",
            "\u001b[0;32m<ipython-input-3-d3d2b4ec7fd9>\u001b[0m in \u001b[0;36mS1\u001b[0;34m(lim)\u001b[0m\n\u001b[1;32m      2\u001b[0m     \u001b[0mserie\u001b[0m \u001b[0;34m=\u001b[0m \u001b[0;36m0\u001b[0m\u001b[0;34m\u001b[0m\u001b[0;34m\u001b[0m\u001b[0m\n\u001b[1;32m      3\u001b[0m     \u001b[0;32mfor\u001b[0m \u001b[0mn\u001b[0m \u001b[0;32min\u001b[0m \u001b[0mrange\u001b[0m\u001b[0;34m(\u001b[0m\u001b[0;36m1\u001b[0m\u001b[0;34m,\u001b[0m \u001b[0;36m2\u001b[0m \u001b[0;34m*\u001b[0m \u001b[0mlim\u001b[0m \u001b[0;34m+\u001b[0m \u001b[0;36m1\u001b[0m\u001b[0;34m)\u001b[0m\u001b[0;34m:\u001b[0m\u001b[0;34m\u001b[0m\u001b[0;34m\u001b[0m\u001b[0m\n\u001b[0;32m----> 4\u001b[0;31m         \u001b[0mserie\u001b[0m \u001b[0;34m+=\u001b[0m \u001b[0;34m(\u001b[0m\u001b[0;34m-\u001b[0m\u001b[0;36m1\u001b[0m\u001b[0;34m)\u001b[0m\u001b[0;34m**\u001b[0m\u001b[0mn\u001b[0m \u001b[0;34m*\u001b[0m \u001b[0;34m(\u001b[0m\u001b[0mn\u001b[0m \u001b[0;34m/\u001b[0m \u001b[0;34m(\u001b[0m\u001b[0mn\u001b[0m \u001b[0;34m+\u001b[0m \u001b[0;36m1\u001b[0m\u001b[0;34m)\u001b[0m\u001b[0;34m)\u001b[0m\u001b[0;34m\u001b[0m\u001b[0;34m\u001b[0m\u001b[0m\n\u001b[0m\u001b[1;32m      5\u001b[0m     \u001b[0;32mreturn\u001b[0m \u001b[0mserie\u001b[0m\u001b[0;34m\u001b[0m\u001b[0;34m\u001b[0m\u001b[0m\n\u001b[1;32m      6\u001b[0m \u001b[0;34m\u001b[0m\u001b[0m\n",
            "\u001b[0;31mKeyboardInterrupt\u001b[0m: "
          ]
        }
      ]
    },
    {
      "cell_type": "markdown",
      "source": [],
      "metadata": {
        "id": "kmi_PIZjkehZ"
      }
    }
  ]
}