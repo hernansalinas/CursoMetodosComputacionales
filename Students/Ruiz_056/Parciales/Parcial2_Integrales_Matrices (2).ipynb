{
  "nbformat": 4,
  "nbformat_minor": 0,
  "metadata": {
    "colab": {
      "provenance": []
    },
    "kernelspec": {
      "name": "python3",
      "display_name": "Python 3"
    },
    "language_info": {
      "name": "python"
    }
  },
  "cells": [
    {
      "cell_type": "code",
      "execution_count": 4,
      "metadata": {
        "id": "aF61FjHUNGJA"
      },
      "outputs": [],
      "source": [
        "#@title Librerias\n",
        "import numpy as np\n",
        "import numpy.linalg as la\n",
        "import matplotlib.pyplot as plt\n",
        "from scipy.integrate import quad, fixed_quad, trapezoid, simpson\n",
        "from sympy import symbols, diff, integrate, lambdify"
      ]
    },
    {
      "cell_type": "markdown",
      "source": [
        "# Parcial II - Métodos Computacionales (Integrales y Matrices)\n",
        "**2024-2**\n",
        "\n",
        "---\n",
        "\n",
        "*Nombre:*\n",
        "\n",
        "*Identificación:*\n",
        "\n",
        "---\n",
        "* Sea honest@\n",
        "* El uso de herramientas de IA no está permitido\n",
        "* Puede consultar la documentación de las librerias.\n",
        "* Sea ordendado dando la solución a cada punto.\n",
        "* *Asegurese que el notebook corra completamente*\n",
        "* Suba su notebook al GitHub (en su carpeta) y recuerde hacer pull-request"
      ],
      "metadata": {
        "id": "VqRX_GXcNZOl"
      }
    },
    {
      "cell_type": "markdown",
      "source": [
        "# 1\n",
        "\n",
        "**(20 puntos)**\n",
        "Considera la siguiente integral:\n",
        "\n",
        "$$\n",
        "I = \\int_0^1 \\int_{x^2}^{x+1} \\int_{y^2}^{y+2} \\int_{z^2}^{z+3} (x+y+z+w) \\, dw \\, dz \\, dy \\, dx\n",
        "$$\n",
        "\n",
        "Encuentre la solución númerica usando unicamente `quad`. Encuentre el error relativo, para esto emplee el siguiente código que usa `nquad`:\n",
        "\n",
        "\n",
        "```python\n",
        "# Definir el integrando\n",
        "integrand = lambda w, z, y, x: x + y + z + w\n",
        "\n",
        "# Definir los límites usando funciones lambda\n",
        "w_limits = lambda z, y, x: [z**2, z+3]\n",
        "z_limits = lambda y, x: [y**2, y+2]\n",
        "y_limits = lambda x: [x**2, x+1]\n",
        "x_limits = lambda: [0, 1]\n",
        "\n",
        "# Calcular la integral usando nquad\n",
        "result, error = nquad(\n",
        "    integrand,\n",
        "    [w_limits, z_limits, y_limits, x_limits]\n",
        ")\n",
        "\n",
        "print(f\"Resultado de la integral: {result}\")\n",
        "print(f\"Error estimado: {error}\")\n",
        "```\n",
        "\n"
      ],
      "metadata": {
        "id": "u1OxHrJINZ9c"
      }
    },
    {
      "cell_type": "code",
      "source": [
        "\n",
        "a,b = 0,1\n",
        "c,d = lambda x: x**2, lambda x: x+1\n",
        "e,f = lambda x,y: y**2, lambda x,y: y+2\n",
        "g,h = lambda x,y,z: z**2, lambda x,y,z: z+3\n",
        "\n",
        "funcion = lambda w, z, y, x: x + y + z + w\n",
        "\n",
        "def integralw(z,y,x):\n",
        "  return quad(lambda w: funcion(w,z,y,x), g(x,y,z),h(x,y,z))[0]\n",
        "\n",
        "def integralz(y,x):\n",
        "  return quad(lambda z: integralw(z,y,x), e(x,y),f(x,y))[0]\n",
        "\n",
        "def integraly(x):\n",
        "  return quad(lambda y: integralz(y,x), c(x),d(x))[0]\n",
        "\n",
        "quad(integraly, a,b)[0]"
      ],
      "metadata": {
        "id": "cZURwltmOSgu",
        "colab": {
          "base_uri": "https://localhost:8080/"
        },
        "outputId": "cb93a562-f81f-4e46-cfac-8ec9585b8d4e"
      },
      "execution_count": 17,
      "outputs": [
        {
          "output_type": "execute_result",
          "data": {
            "text/plain": [
              "-0.6500971589021813"
            ]
          },
          "metadata": {},
          "execution_count": 17
        }
      ]
    },
    {
      "cell_type": "markdown",
      "source": [
        "# 2\n",
        "\n",
        "**(40 puntos)**\n",
        "Un lazo de corriente de radio $a$  transporta una corriente $I$ en el punto P que está a una distancia $r$ del centro del lazo con coordenadas esféricas (r, θ, φ). Resuelve para la componente φ del potencial vectorial en el punto $P$ en términos de integrales elípticas:\n",
        "\n",
        "\\begin{equation}\n",
        "A_{\\phi}(r, \\theta)=\\frac{\\mu_0}{4\\pi}\\frac{4Ia}{\\sqrt{a^2+r^2+2ar\\sin \\theta}}\\left(\\frac{(2-k^2)K(k)-2E(k)}{k^2} \\right)\n",
        "\\end{equation}\n",
        "\n",
        "donde\n",
        "\n",
        "\\begin{equation}\n",
        "K(k)=\\int_{0}^{\\pi/2} \\frac{\\mathrm{d\\phi}}{\\sqrt{1-k^2\\sin^2\\phi}}\n",
        "\\end{equation}\n",
        "\n",
        "\\begin{equation}\n",
        "E(k)=\\int_{0}^{\\pi/2} \\mathrm{d\\phi} \\sqrt{1-k^2\\sin^2\\phi}\n",
        "\\end{equation}\n",
        "\n",
        "\\begin{equation}\n",
        "k^2=\\frac{4ar\\sin\\theta}{a^2+r^2+2ar\\sin\\theta}\n",
        "\\end{equation}\n",
        "\n",
        "Aquí, $K(k)$ es una integral elíptica completa del primer tipo y $E(k)$ es una integral elíptica completa del segundo tipo.\n",
        "\n",
        "\n",
        "Para\n",
        "* $a$ = 1,\n",
        "* $I$ = 3,\n",
        "* $μ0/4π$ = 1\n",
        "\n",
        "\n",
        "Usando funciones explicitas explique claramente las entradas, salidas y procedimientos dentro de las mismas. Recuerde para resolver las integrales usar `quad` y grafique para:\n",
        "\n",
        "*a)* $A_φ(r = 1.1, θ)$ vs. $0\\leq θ\\leq \\pi$\n",
        "\n",
        "*b)* $A_φ(r, θ = π∕3)$ vs. $0\\leq r \\leq 10$\n",
        "\n",
        "Tenga cuidado con la convergencia de su integral\n",
        "\n"
      ],
      "metadata": {
        "id": "ryB1EksIOV_l"
      }
    },
    {
      "cell_type": "code",
      "source": [
        "a,I = 1,3\n",
        "\n",
        "#a)\n",
        "r = 1.1\n",
        "k2 = lambda r,theta: (4*a*r*np.sin(theta))/(a**2+r**2+2*r*a*np.sin(theta))\n",
        "valores_theta = np.linspace(0,np.pi/2,100)\n",
        "\n",
        "array2 = np.zeros(len(valores_theta))\n",
        "\n",
        "for i in valores_theta:\n",
        "  j = 0\n",
        "  k = k2(r,i)\n",
        "  Ek = quad(lambda phi: np.sqrt(1-k*(np.sin(phi))**2), 0, np.pi/2)[0]\n",
        "  Kk = quad(lambda phi: 1/np.sqrt(1-k*(np.sin(phi))**2), 0, np.pi/2)[0]\n",
        "\n",
        "  func_A = lambda r,theta: (4*I*a)/np.sqrt(a**2+r**2+2*a*r*np.sin(theta)) * ((2-k)*Kk-2*Ek)/k\n",
        "\n",
        "  array2[j] = func_A(r,i)\n",
        "  j += 1\n",
        "\n",
        "plt.plot(valores_theta,array2)\n",
        "plt.xlabel(\"Valores theta\")\n",
        "plt.ylabel(\"Funcion A\")"
      ],
      "metadata": {
        "id": "yGrEqwaNOh_8",
        "colab": {
          "base_uri": "https://localhost:8080/",
          "height": 501
        },
        "outputId": "37b8b876-a81d-432e-e5b1-6e02088339bc"
      },
      "execution_count": 70,
      "outputs": [
        {
          "output_type": "stream",
          "name": "stderr",
          "text": [
            "<ipython-input-70-8b24795c0ccf>:16: RuntimeWarning: invalid value encountered in scalar divide\n",
            "  func_A = lambda r,theta: (4*I*a)/np.sqrt(a**2+r**2+2*a*r*np.sin(theta)) * ((2-k)*Kk-2*Ek)/k\n"
          ]
        },
        {
          "output_type": "execute_result",
          "data": {
            "text/plain": [
              "Text(0, 0.5, 'Funcion A')"
            ]
          },
          "metadata": {},
          "execution_count": 70
        },
        {
          "output_type": "display_data",
          "data": {
            "text/plain": [
              "<Figure size 640x480 with 1 Axes>"
            ],
            "image/png": "[encoded data removed]"
          },
          "metadata": {}
        }
      ]
    },
    {
      "cell_type": "code",
      "source": [
        "valores_r = np.linspace(0,10,100)\n",
        "theta_ = np.pi/3\n",
        "array2_ = np.zeros(len(valores_r))\n",
        "\n",
        "for i in valores_r:\n",
        "  j = 0\n",
        "  k = k2(i,theta_)\n",
        "  Ek = quad(lambda phi: np.sqrt(1-k*(np.sin(phi))**2), 0, np.pi/2)[0]\n",
        "  Kk = quad(lambda phi: 1/np.sqrt(1-k*(np.sin(phi))**2), 0, np.pi/2)[0]\n",
        "\n",
        "  func_A = lambda r,theta: (4*I*a)/np.sqrt(a**2+i**2+2*a*i*np.sin(theta_)) * ((2-k)*Kk-2*Ek)/k\n",
        "\n",
        "  array2_[j] = func_A(i,theta)\n",
        "  j += 1\n",
        "\n",
        "plt.plot(valores_r,array2_)\n",
        "plt.xlabel(\"Valores r\")\n",
        "plt.ylabel(\"Funcion A\")"
      ],
      "metadata": {
        "colab": {
          "base_uri": "https://localhost:8080/",
          "height": 501
        },
        "id": "w-fik76SrhBl",
        "outputId": "5f18e364-0a91-481e-87c0-ffbfe5ac7361"
      },
      "execution_count": 71,
      "outputs": [
        {
          "output_type": "stream",
          "name": "stderr",
          "text": [
            "<ipython-input-71-7966159252b5>:11: RuntimeWarning: invalid value encountered in scalar divide\n",
            "  func_A = lambda r,theta: (4*I*a)/np.sqrt(a**2+i**2+2*a*i*np.sin(theta_)) * ((2-k)*Kk-2*Ek)/k\n"
          ]
        },
        {
          "output_type": "execute_result",
          "data": {
            "text/plain": [
              "Text(0, 0.5, 'Funcion A')"
            ]
          },
          "metadata": {},
          "execution_count": 71
        },
        {
          "output_type": "display_data",
          "data": {
            "text/plain": [
              "<Figure size 640x480 with 1 Axes>"
            ],
            "image/png": "[encoded data removed]"
          },
          "metadata": {}
        }
      ]
    },
    {
      "cell_type": "markdown",
      "source": [
        "# 3\n",
        "\n",
        "(**40 puntos**) El **método de la potencia inversa** es una técnica iterativa utilizada para calcular el autovalor de menor magnitud de una matriz cuadrada. Es una variante del **método de la potencia**, que normalmente encuentra el autovalor de mayor magnitud. Para ello, se aprovecha la propiedad de la matriz inversa:\n",
        "\n",
        "$$ A^{-1} v = \\frac{1}{\\lambda} v $$\n",
        "\n",
        "\n",
        "## Algoritmo\n",
        "\n",
        "El método de la potencia inversa sigue los siguientes pasos:\n",
        "\n",
        "1. Elegir un vector inicial $x^{(0)}$ no nulo.\n",
        "\n",
        "2. Para cada iteración $k$, resolver el sistema lineal:\n",
        "   \n",
        "   $$ A y^{(k)} = x^{(k-1)} $$\n",
        "   \n",
        "   donde $y^{(k)}$ es un **vector intermedio** que se obtiene resolviendo el sistema lineal. Este vector representa la solución del sistema en cada iteración y es crucial para aproximar el autovector de menor autovalor.\n",
        "\n",
        "3. Normalizar $y^{(k)}$ para obtener un nuevo vector de iteración:\n",
        "   \n",
        "   $$ x^{(k)} = \\frac{y^{(k)}}{\\| y^{(k)} \\|} $$\n",
        "   \n",
        "4. Aproximar el autovalor mediante el cociente de Rayleigh:\n",
        "   \n",
        "   $$ \\lambda^{(k)} = \\frac{(x^{(k)})^T A x^{(k)}}{(x^{(k)})^T x^{(k)}} $$\n",
        "   \n",
        "5. Repetir los pasos anteriores hasta que la diferencia entre valores sucesivos de $\\lambda$ sea menor que un umbral de tolerancia.\n",
        "\n",
        "---\n",
        "\n",
        "*a)* Escriba una función llamada `potencia_inversa` que dada una matriz A encuentre su valor propio menos dominante (con una tolerancia de 1e-7 usando la norma Euclidiana) y su correspondiente autovector. Para obtener $y^{(k)}$ puede emplear `np.linalg.solve` recordando que $Ay = x$.\n",
        "\n",
        "*b)* Usando la matriz A, encuentre el $\\lambda_{min}$ y el correspondiente autovector. Examine la convergencia de su autovalor en función de las iteraciones, esto es, haga un gráfico de $\\lambda(k)$\n",
        "\n",
        "$$\n",
        "\\begin{bmatrix}\n",
        "5 & 2 \\\\\n",
        "2 & 2\n",
        "\\end{bmatrix}\n",
        "$$\n",
        "\n",
        "*c)* Compare su resultado con `np.linalg.eig`"
      ],
      "metadata": {
        "id": "pKubcNlWP0nc"
      }
    },
    {
      "cell_type": "code",
      "source": [
        "def metodo_potencias(A, tol=1e-7, max_iter=100):\n",
        "  n = A.shape[0]\n",
        "  xk = np.random.rand(n)\n",
        "  lambda_0 = 0.0\n",
        "\n",
        "  for k in range(max_iter):\n",
        "    xk_new = (A@xk)/np.linalg.norm(A@xk)\n",
        "    lambda_k = xk_new.T @ A @ xk_new\n",
        "    if np.abs(lambda_k - lambda_0)<tol:\n",
        "      print(f\"Converge en {k+1} iteraciones\")\n",
        "      return lambda_k, xk_new\n",
        "    lambda_0 = lambda_k\n",
        "    xk = xk_new\n",
        "  print(\"El método no conferge\")\n",
        "  return lambda_k, xk_new\n"
      ],
      "metadata": {
        "id": "ZhnTbHAgP4XJ"
      },
      "execution_count": null,
      "outputs": []
    },
    {
      "cell_type": "markdown",
      "source": [
        "#4\n",
        "\n",
        "**(10 puntos)**\n",
        "Sea $A$ una matriz cuadrada de tamaño $n \\times n$. Se sabe que el determinante de una matriz es igual al producto de sus autovalores:\n",
        "\n",
        "$$\n",
        "\\det(A) = \\prod_{i=1}^{n} \\lambda_i\n",
        "$$\n",
        "\n",
        "donde $\\lambda_1, \\lambda_2, \\dots, \\lambda_n$ son los autovalores de $A$.\n",
        "\n",
        "Usando una matriz aleatoria $A$ de $5\\times 5$, demuestre esta propiedad. Puede usar las funciones de `np.linalg`."
      ],
      "metadata": {
        "id": "Qz8QJCjWYds5"
      }
    },
    {
      "cell_type": "code",
      "source": [
        "A5 = np.array([\n",
        "    [1,2,3,4,5],\n",
        "    [3,6,4,7,8],\n",
        "    [6,13,25,60,10],\n",
        "    [1,4,7,35,9],\n",
        "    [8,6,4,2,1]\n",
        "], dtype=float)\n",
        "\n",
        "valores5, vectores5 = np.linalg.eig(A5)\n",
        "\n",
        "print(f\"Resultado con valores propios: {np.prod(valores5)}\")\n",
        "print(f\"Resultado con funcion det: {np.linalg.det(A5)}\")\n"
      ],
      "metadata": {
        "id": "TCWf5TUwYgKq",
        "colab": {
          "base_uri": "https://localhost:8080/"
        },
        "outputId": "5b1423c2-2727-4f7b-b41b-2fc92f87debf"
      },
      "execution_count": 25,
      "outputs": [
        {
          "output_type": "stream",
          "name": "stdout",
          "text": [
            "Resultado con valores propios: (-33304.999999999985+0j)\n",
            "Resultado con funcion det: -33305.000000000015\n"
          ]
        }
      ]
    }
  ]
}