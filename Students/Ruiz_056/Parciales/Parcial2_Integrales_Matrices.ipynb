{
  "nbformat": 4,
  "nbformat_minor": 0,
  "metadata": {
    "colab": {
      "provenance": []
    },
    "kernelspec": {
      "name": "python3",
      "display_name": "Python 3"
    },
    "language_info": {
      "name": "python"
    }
  },
  "cells": [
    {
      "cell_type": "code",
      "execution_count": 130,
      "metadata": {
        "id": "aF61FjHUNGJA"
      },
      "outputs": [],
      "source": [
        "#@title Librerias\n",
        "import numpy as np\n",
        "import numpy.linalg as la\n",
        "import matplotlib.pyplot as plt\n",
        "from scipy.integrate import quad, fixed_quad, trapezoid, simpson\n",
        "from sympy import symbols, diff, integrate, lambdify"
      ]
    },
    {
      "cell_type": "markdown",
      "source": [
        "# Parcial II - Métodos Computacionales (Integrales y Matrices)\n",
        "**2024-2**\n",
        "\n",
        "---\n",
        "\n",
        "*Nombre:*\n",
        "\n",
        "*Identificación:*\n",
        "\n",
        "---\n",
        "* Sea honest@\n",
        "* El uso de herramientas de IA no está permitido\n",
        "* Puede consultar la documentación de las librerias.\n",
        "* Sea ordendado dando la solución a cada punto.\n",
        "* *Asegurese que el notebook corra completamente*\n",
        "* Suba su notebook al GitHub (en su carpeta) y recuerde hacer pull-request"
      ],
      "metadata": {
        "id": "VqRX_GXcNZOl"
      }
    },
    {
      "cell_type": "markdown",
      "source": [
        "# 1\n",
        "\n",
        "**(20 puntos)**\n",
        "Considera la siguiente integral:\n",
        "\n",
        "$$\n",
        "I = \\int_0^1 \\int_{x^2}^{x+1} \\int_{y^2}^{y+2} \\int_{z^2}^{z+3} (x+y+z+w) \\, dw \\, dz \\, dy \\, dx\n",
        "$$\n",
        "\n",
        "Encuentre la solución númerica usando unicamente `quad`. Encuentre el error relativo, para esto emplee el siguiente código que usa `nquad`:\n",
        "\n",
        "\n",
        "```python\n",
        "# Definir el integrando\n",
        "integrand = lambda w, z, y, x: x + y + z + w\n",
        "\n",
        "# Definir los límites usando funciones lambda\n",
        "w_limits = lambda z, y, x: [z**2, z+3]\n",
        "z_limits = lambda y, x: [y**2, y+2]\n",
        "y_limits = lambda x: [x**2, x+1]\n",
        "x_limits = lambda: [0, 1]\n",
        "\n",
        "# Calcular la integral usando nquad\n",
        "result, error = nquad(\n",
        "    integrand,\n",
        "    [w_limits, z_limits, y_limits, x_limits]\n",
        ")\n",
        "\n",
        "print(f\"Resultado de la integral: {result}\")\n",
        "print(f\"Error estimado: {error}\")\n",
        "```\n",
        "\n"
      ],
      "metadata": {
        "id": "u1OxHrJINZ9c"
      }
    },
    {
      "cell_type": "code",
      "source": [
        "\n",
        "a,b = 0,1\n",
        "c,d = lambda x: x**2, lambda x: x+1\n",
        "e,f = lambda x,y: y**2, lambda x,y: y+2\n",
        "g,h = lambda x,y,z: z**2, lambda x,y,z: z+3\n",
        "\n",
        "funcion = lambda w, z, y, x: x + y + z + w\n",
        "\n",
        "def integralw(z,y,x):\n",
        "  return quad(lambda w: funcion(w,z,y,x), g(x,y,z),h(x,y,z))[0]\n",
        "\n",
        "def integralz(y,x):\n",
        "  return quad(lambda z: integralw(z,y,x), e(x,y),f(x,y))[0]\n",
        "\n",
        "def integraly(x):\n",
        "  return quad(lambda y: integralz(y,x), c(x),d(x))[0]\n",
        "\n",
        "print(f\"El valor de la integral es {quad(integraly, a,b)[0]}\")"
      ],
      "metadata": {
        "id": "cZURwltmOSgu",
        "colab": {
          "base_uri": "https://localhost:8080/"
        },
        "outputId": "d4c8b824-8861-4e77-d4df-91a0938a551a"
      },
      "execution_count": 131,
      "outputs": [
        {
          "output_type": "stream",
          "name": "stdout",
          "text": [
            "El valor de la integral es -0.6500971589021813\n"
          ]
        }
      ]
    },
    {
      "cell_type": "markdown",
      "source": [
        "# 2\n",
        "\n",
        "**(40 puntos)**\n",
        "Un lazo de corriente de radio $a$  transporta una corriente $I$ en el punto P que está a una distancia $r$ del centro del lazo con coordenadas esféricas (r, θ, φ). Resuelve para la componente φ del potencial vectorial en el punto $P$ en términos de integrales elípticas:\n",
        "\n",
        "\\begin{equation}\n",
        "A_{\\phi}(r, \\theta)=\\frac{\\mu_0}{4\\pi}\\frac{4Ia}{\\sqrt{a^2+r^2+2ar\\sin \\theta}}\\left(\\frac{(2-k^2)K(k)-2E(k)}{k^2} \\right)\n",
        "\\end{equation}\n",
        "\n",
        "donde\n",
        "\n",
        "\\begin{equation}\n",
        "K(k)=\\int_{0}^{\\pi/2} \\frac{\\mathrm{d\\phi}}{\\sqrt{1-k^2\\sin^2\\phi}}\n",
        "\\end{equation}\n",
        "\n",
        "\\begin{equation}\n",
        "E(k)=\\int_{0}^{\\pi/2} \\mathrm{d\\phi} \\sqrt{1-k^2\\sin^2\\phi}\n",
        "\\end{equation}\n",
        "\n",
        "\\begin{equation}\n",
        "k^2=\\frac{4ar\\sin\\theta}{a^2+r^2+2ar\\sin\\theta}\n",
        "\\end{equation}\n",
        "\n",
        "Aquí, $K(k)$ es una integral elíptica completa del primer tipo y $E(k)$ es una integral elíptica completa del segundo tipo.\n",
        "\n",
        "\n",
        "Para\n",
        "* $a$ = 1,\n",
        "* $I$ = 3,\n",
        "* $μ0/4π$ = 1\n",
        "\n",
        "\n",
        "Usando funciones explicitas explique claramente las entradas, salidas y procedimientos dentro de las mismas. Recuerde para resolver las integrales usar `quad` y grafique para:\n",
        "\n",
        "*a)* $A_φ(r = 1.1, θ)$ vs. $0\\leq θ\\leq \\pi$\n",
        "\n",
        "*b)* $A_φ(r, θ = π∕3)$ vs. $0\\leq r \\leq 10$\n",
        "\n",
        "Tenga cuidado con la convergencia de su integral\n",
        "\n"
      ],
      "metadata": {
        "id": "ryB1EksIOV_l"
      }
    },
    {
      "cell_type": "code",
      "source": [
        "a,I = 1,3\n",
        "\n",
        "#a)\n",
        "r = 1.1\n",
        "k2 = lambda r,theta: (4*a*r*np.sin(theta))/(a**2+r**2+2*r*a*np.sin(theta))\n",
        "valores_theta = np.linspace(0,np.pi,100)\n",
        "\n",
        "array2 = np.zeros(len(valores_theta))\n",
        "\n",
        "j = 0\n",
        "for i in valores_theta:     #Aqui mi error habia sido poner el contador dentro del ciclo for, fue un error muy chiquito :(\n",
        "  k = k2(r,i)\n",
        "  Ek = quad(lambda phi: np.sqrt(1-k*(np.sin(phi))**2), 0, np.pi/2)[0]\n",
        "  Kk = quad(lambda phi: 1/np.sqrt(1-k*(np.sin(phi))**2), 0, np.pi/2)[0]\n",
        "\n",
        "  func_A = lambda r,theta: (4*I*a)/np.sqrt(a**2+r**2+2*a*r*np.sin(theta)) * ((2-k)*Kk-2*Ek)/k\n",
        "\n",
        "  array2[j] = func_A(r,i)\n",
        "  j += 1\n",
        "\n",
        "plt.plot(valores_theta,array2)\n",
        "plt.xlabel(\"Valores theta\")\n",
        "plt.ylabel(\"Funcion A\")\n",
        "\n"
      ],
      "metadata": {
        "id": "yGrEqwaNOh_8",
        "colab": {
          "base_uri": "https://localhost:8080/",
          "height": 501
        },
        "outputId": "cfede485-5bdb-4762-da07-699cb0055be8"
      },
      "execution_count": 132,
      "outputs": [
        {
          "output_type": "stream",
          "name": "stderr",
          "text": [
            "<ipython-input-132-c0c107de82f7>:16: RuntimeWarning: invalid value encountered in scalar divide\n",
            "  func_A = lambda r,theta: (4*I*a)/np.sqrt(a**2+r**2+2*a*r*np.sin(theta)) * ((2-k)*Kk-2*Ek)/k\n"
          ]
        },
        {
          "output_type": "execute_result",
          "data": {
            "text/plain": [
              "Text(0, 0.5, 'Funcion A')"
            ]
          },
          "metadata": {},
          "execution_count": 132
        },
        {
          "output_type": "display_data",
          "data": {
            "text/plain": [
              "<Figure size 640x480 with 1 Axes>"
            ],
            "image/png": "[encoded data removed]"
          },
          "metadata": {}
        }
      ]
    },
    {
      "cell_type": "code",
      "source": [
        "valores_r = np.linspace(0,10,100)\n",
        "theta_ = np.pi/3\n",
        "array2_ = np.zeros(len(valores_r))\n",
        "j = 0\n",
        "\n",
        "for i in valores_r:\n",
        "  k = k2(i,theta_)\n",
        "  Ek = quad(lambda phi: np.sqrt(1-k*(np.sin(phi))**2), 0, np.pi/2)[0]\n",
        "  Kk = quad(lambda phi: 1/np.sqrt(1-k*(np.sin(phi))**2), 0, np.pi/2)[0]\n",
        "\n",
        "  func_A = lambda r,theta: (4*I*a)/np.sqrt(a**2+i**2+2*a*i*np.sin(theta_)) * ((2-k)*Kk-2*Ek)/k\n",
        "\n",
        "  array2_[j] = func_A(i,theta_)\n",
        "  j += 1\n",
        "\n",
        "plt.plot(valores_r,array2_)\n",
        "plt.xlabel(\"Valores r\")\n",
        "plt.ylabel(\"Funcion A\")"
      ],
      "metadata": {
        "colab": {
          "base_uri": "https://localhost:8080/",
          "height": 501
        },
        "id": "w-fik76SrhBl",
        "outputId": "e53e27ab-c781-42c6-e13e-1e69b937c0ba"
      },
      "execution_count": 133,
      "outputs": [
        {
          "output_type": "stream",
          "name": "stderr",
          "text": [
            "<ipython-input-133-c5615e49b188>:11: RuntimeWarning: invalid value encountered in scalar divide\n",
            "  func_A = lambda r,theta: (4*I*a)/np.sqrt(a**2+i**2+2*a*i*np.sin(theta_)) * ((2-k)*Kk-2*Ek)/k\n"
          ]
        },
        {
          "output_type": "execute_result",
          "data": {
            "text/plain": [
              "Text(0, 0.5, 'Funcion A')"
            ]
          },
          "metadata": {},
          "execution_count": 133
        },
        {
          "output_type": "display_data",
          "data": {
            "text/plain": [
              "<Figure size 640x480 with 1 Axes>"
            ],
            "image/png": "[encoded data removed]"
          },
          "metadata": {}
        }
      ]
    },
    {
      "cell_type": "markdown",
      "source": [
        "# 3\n",
        "\n",
        "(**40 puntos**) El **método de la potencia inversa** es una técnica iterativa utilizada para calcular el autovalor de menor magnitud de una matriz cuadrada. Es una variante del **método de la potencia**, que normalmente encuentra el autovalor de mayor magnitud. Para ello, se aprovecha la propiedad de la matriz inversa:\n",
        "\n",
        "$$ A^{-1} v = \\frac{1}{\\lambda} v $$\n",
        "\n",
        "\n",
        "## Algoritmo\n",
        "\n",
        "El método de la potencia inversa sigue los siguientes pasos:\n",
        "\n",
        "1. Elegir un vector inicial $x^{(0)}$ no nulo.\n",
        "\n",
        "2. Para cada iteración $k$, resolver el sistema lineal:\n",
        "   \n",
        "   $$ A y^{(k)} = x^{(k-1)} $$\n",
        "   \n",
        "   donde $y^{(k)}$ es un **vector intermedio** que se obtiene resolviendo el sistema lineal. Este vector representa la solución del sistema en cada iteración y es crucial para aproximar el autovector de menor autovalor.\n",
        "\n",
        "3. Normalizar $y^{(k)}$ para obtener un nuevo vector de iteración:\n",
        "   \n",
        "   $$ x^{(k)} = \\frac{y^{(k)}}{\\| y^{(k)} \\|} $$\n",
        "   \n",
        "4. Aproximar el autovalor mediante el cociente de Rayleigh:\n",
        "   \n",
        "   $$ \\lambda^{(k)} = \\frac{(x^{(k)})^T A x^{(k)}}{(x^{(k)})^T x^{(k)}} $$\n",
        "   \n",
        "5. Repetir los pasos anteriores hasta que la diferencia entre valores sucesivos de $\\lambda$ sea menor que un umbral de tolerancia.\n",
        "\n",
        "---\n",
        "\n",
        "*a)* Escriba una función llamada `potencia_inversa` que dada una matriz A encuentre su valor propio menos dominante (con una tolerancia de 1e-7 usando la norma Euclidiana) y su correspondiente autovector. Para obtener $y^{(k)}$ puede emplear `np.linalg.solve` recordando que $Ay = x$.\n",
        "\n",
        "*b)* Usando la matriz A, encuentre el $\\lambda_{min}$ y el correspondiente autovector. Examine la convergencia de su autovalor en función de las iteraciones, esto es, haga un gráfico de $\\lambda(k)$\n",
        "\n",
        "$$\n",
        "\\begin{bmatrix}\n",
        "5 & 2 \\\\\n",
        "2 & 2\n",
        "\\end{bmatrix}\n",
        "$$\n",
        "\n",
        "*c)* Compare su resultado con `np.linalg.eig`"
      ],
      "metadata": {
        "id": "pKubcNlWP0nc"
      }
    },
    {
      "cell_type": "code",
      "source": [
        "b = np.array([[5,2],\n",
        "              [2,2]], dtype=float)\n",
        "\n",
        "def potencia_inversa(A,tol=1e-7,max_iter=1000):\n",
        "  x = np.random.rand(2)\n",
        "  x = x / np.linalg.norm(x)\n",
        "  valor = 1.0\n",
        "  for k in range(max_iter):\n",
        "    y = np.linalg.solve(A,x)\n",
        "    x = y / np.linalg.norm(y)\n",
        "    new_valor = (x.T@A@x) / (x.T@x)\n",
        "\n",
        "    plt.plot(k,new_valor,\"o\")\n",
        "\n",
        "    if np.abs(new_valor-valor) <= tol:\n",
        "      return f\"El auto valor es {new_valor}, y su vector asociado es {x}\"\n",
        "    plt.title(\"Convergencia autovalores\")\n",
        "    plt.xlabel(\"Iteraciones\")\n",
        "    plt.ylabel(\"Valor propio\")\n",
        "\n",
        "    valor = new_valor\n",
        "  return \"No converge\"\n",
        "\n",
        "potencia_inversa(b)"
      ],
      "metadata": {
        "id": "ZhnTbHAgP4XJ",
        "colab": {
          "base_uri": "https://localhost:8080/",
          "height": 490
        },
        "outputId": "51c1e2bd-6443-494f-e414-3d8628f1ca83"
      },
      "execution_count": 134,
      "outputs": [
        {
          "output_type": "execute_result",
          "data": {
            "text/plain": [
              "'El auto valor es 1.0000000010823729, y su vector asociado es [-0.44720044  0.89443377]'"
            ],
            "application/vnd.google.colaboratory.intrinsic+json": {
              "type": "string"
            }
          },
          "metadata": {},
          "execution_count": 134
        },
        {
          "output_type": "display_data",
          "data": {
            "text/plain": [
              "<Figure size 640x480 with 1 Axes>"
            ],
            "image/png": "[encoded data removed]"
          },
          "metadata": {}
        }
      ]
    },
    {
      "cell_type": "code",
      "source": [
        "#Comparar con np.linalg.eig\n",
        "np.array([])\n",
        "np.linalg.eig(b)\n",
        "print(f\"El valor proio menos dominante es {np.linalg.eig(b)[0][1]}\")\n",
        "print(f\"Su vector propio asociado es [{np.linalg.eig(b)[1][0][1]}, {np.linalg.eig(b)[1][1][1]}]\")"
      ],
      "metadata": {
        "colab": {
          "base_uri": "https://localhost:8080/"
        },
        "id": "aH_iw_PwIhW9",
        "outputId": "416ded4a-d0d8-4f78-8331-146bca11351d"
      },
      "execution_count": 135,
      "outputs": [
        {
          "output_type": "stream",
          "name": "stdout",
          "text": [
            "El valor proio menos dominante es 1.0\n",
            "Su vector propio asociado es [-0.4472135954999579, 0.8944271909999159]\n"
          ]
        }
      ]
    },
    {
      "cell_type": "markdown",
      "source": [
        "#4\n",
        "\n",
        "**(10 puntos)**\n",
        "Sea $A$ una matriz cuadrada de tamaño $n \\times n$. Se sabe que el determinante de una matriz es igual al producto de sus autovalores:\n",
        "\n",
        "$$\n",
        "\\det(A) = \\prod_{i=1}^{n} \\lambda_i\n",
        "$$\n",
        "\n",
        "donde $\\lambda_1, \\lambda_2, \\dots, \\lambda_n$ son los autovalores de $A$.\n",
        "\n",
        "Usando una matriz aleatoria $A$ de $5\\times 5$, demuestre esta propiedad. Puede usar las funciones de `np.linalg`."
      ],
      "metadata": {
        "id": "Qz8QJCjWYds5"
      }
    },
    {
      "cell_type": "code",
      "source": [
        "A5 = np.array([\n",
        "    [1,2,3,4,5],\n",
        "    [3,6,4,7,8],\n",
        "    [6,13,25,60,10],\n",
        "    [1,4,7,35,9],\n",
        "    [8,6,4,2,1]\n",
        "], dtype=float)\n",
        "\n",
        "valores5, vectores5 = np.linalg.eig(A5)\n",
        "\n",
        "print(f\"Resultado con valores propios: {np.prod(valores5)}\")\n",
        "print(f\"Resultado con funcion det: {np.linalg.det(A5)}\")\n"
      ],
      "metadata": {
        "id": "TCWf5TUwYgKq",
        "colab": {
          "base_uri": "https://localhost:8080/"
        },
        "outputId": "c3eefa52-68c5-4f68-a692-dff1a0db3172"
      },
      "execution_count": 136,
      "outputs": [
        {
          "output_type": "stream",
          "name": "stdout",
          "text": [
            "Resultado con valores propios: (-33304.999999999985+0j)\n",
            "Resultado con funcion det: -33305.000000000015\n"
          ]
        }
      ]
    }
  ]
}