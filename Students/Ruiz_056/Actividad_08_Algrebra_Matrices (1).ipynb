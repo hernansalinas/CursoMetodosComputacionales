{
  "nbformat": 4,
  "nbformat_minor": 0,
  "metadata": {
    "colab": {
      "provenance": []
    },
    "kernelspec": {
      "name": "python3",
      "display_name": "Python 3"
    },
    "language_info": {
      "name": "python"
    }
  },
  "cells": [
    {
      "cell_type": "code",
      "execution_count": 1,
      "metadata": {
        "id": "z7RCty67y3ME"
      },
      "outputs": [],
      "source": [
        "import numpy as np\n",
        "import matplotlib.pyplot as plt\n",
        "import scipy.linalg as la"
      ]
    },
    {
      "cell_type": "markdown",
      "source": [
        "# Actividad 08: Algebra Lineal y Matrices\n",
        "\n",
        "---\n",
        "### Profesor: Juan Marcos Marín\n",
        "### Nombre: ______\n",
        "*Métodos computacionales 2024-II*\n",
        "\n",
        "---"
      ],
      "metadata": {
        "id": "GGQpGoujzAnQ"
      }
    },
    {
      "cell_type": "markdown",
      "source": [
        "#1\n",
        "\n",
        "Escriba una función que calcule el producto escalar y vectorial para dos vectores, compare sus resultados con `np.dot` y `np.cross`."
      ],
      "metadata": {
        "id": "szDD-eJhzKbw"
      }
    },
    {
      "cell_type": "code",
      "source": [
        "def escalar(a,b):\n",
        "  n = len(a)\n",
        "  resultado = 0\n",
        "  for i in range(n):\n",
        "    j = a[i] * b[i]\n",
        "    resultado += j\n",
        "  return resultado\n",
        "\n",
        "a = np.array([12,23,1])\n",
        "b = np.array([3,4,1])\n",
        "\n",
        "print(f\"Resultado con la funcion: {escalar(a,b)}\")\n",
        "print(f\"Resultado con np.dot: {np.dot(a,b)}\")"
      ],
      "metadata": {
        "id": "KlxyKMOIzBDZ",
        "colab": {
          "base_uri": "https://localhost:8080/"
        },
        "outputId": "216dc6dd-32e4-4b0d-dfab-ece80ff3155a"
      },
      "execution_count": 2,
      "outputs": [
        {
          "output_type": "stream",
          "name": "stdout",
          "text": [
            "Resultado con la funcion: 129\n",
            "Resultado con np.dot: 129\n"
          ]
        }
      ]
    },
    {
      "cell_type": "code",
      "source": [
        "def vectorial(a,b):\n",
        "  n = len(a)\n",
        "  if n==2:\n",
        "    k = a[0]*b[1] - a[1]*b[0]\n",
        "    return np.array([k])\n",
        "  elif n==3:\n",
        "    i,j,k = a[1]*b[2] - a[2]*b[1], a[2]*b[0] - a[0]*b[2], a[0]*b[1] - a[1]*b[0]\n",
        "    return np.array([i,j,k])\n",
        "  else:\n",
        "    print(\"Error\")\n",
        "\n",
        "print(f\"Resultado con la funcion: {vectorial(a,b)}\")\n",
        "print(f\"Resultado con np.cross: {np.cross(a,b)}\")"
      ],
      "metadata": {
        "colab": {
          "base_uri": "https://localhost:8080/"
        },
        "id": "ZG-x3ed388E-",
        "outputId": "16b84497-c324-44a4-f641-598aef65f770"
      },
      "execution_count": 3,
      "outputs": [
        {
          "output_type": "stream",
          "name": "stdout",
          "text": [
            "Resultado con la funcion: [ 19  -9 -21]\n",
            "Resultado con np.cross: [ 19  -9 -21]\n"
          ]
        }
      ]
    },
    {
      "cell_type": "markdown",
      "source": [
        "#2\n",
        "\n",
        "Crear una función llamada `mulmat()` donde a partir de dos matrices $A$ y $B$ encuentre su multplicación. También realiza una función que calcule la transpuesta y otra el determinante de una matriz $3\\times 3$. Compare sus resultado con `@`, `np.dot`, `transpose` y `la.det`."
      ],
      "metadata": {
        "id": "Qch9PhTQ0Klk"
      }
    },
    {
      "cell_type": "code",
      "source": [
        "A = np.array([    #Matris 3x4\n",
        "  [1, 2, 3, 4],\n",
        "  [5, 6, 7, 8],\n",
        "  [9, 10, 11, 12]\n",
        "])\n",
        "\n",
        "B = np.array([    #Matriz 4x3\n",
        "  [1, 2, 3],\n",
        "  [4, 5, 6],\n",
        "  [7, 8, 9],\n",
        "  [10, 11, 12]])\n",
        "\n",
        "\n",
        "def mulmat(a,b):\n",
        "  n, m = a.shape\n",
        "  p = b.shape[1]\n",
        "  resultado = np.zeros((n, p))\n",
        "\n",
        "  for i in range(n):\n",
        "    for j in range(p):\n",
        "      suma = 0\n",
        "      for k in range(m):\n",
        "        suma += a[i,k] * b[k,j]\n",
        "      resultado[i,j] = suma\n",
        "  return resultado\n",
        "\n",
        "print(f\"Con funcion mulmat: {mulmat(A,B)}\")\n",
        "print(f\"Con @: {A@B}\")"
      ],
      "metadata": {
        "id": "0xjXQbwn0VL5",
        "colab": {
          "base_uri": "https://localhost:8080/"
        },
        "outputId": "b165021d-d318-4bc8-9cae-16de37c17f7d"
      },
      "execution_count": 4,
      "outputs": [
        {
          "output_type": "stream",
          "name": "stdout",
          "text": [
            "Con funcion mulmat: [[ 70.  80.  90.]\n",
            " [158. 184. 210.]\n",
            " [246. 288. 330.]]\n",
            "Con @: [[ 70  80  90]\n",
            " [158 184 210]\n",
            " [246 288 330]]\n"
          ]
        }
      ]
    },
    {
      "cell_type": "code",
      "source": [
        "def traspuesta(a):\n",
        "  n, m = a.shape\n",
        "  b = np.zeros((m,n))\n",
        "  for i in range(m):\n",
        "    for j in range(n):\n",
        "      b[i,j] = a[j,i]\n",
        "  return b\n",
        "\n",
        "print(f\"Con función traspuesta: {traspuesta(A)}\")\n",
        "print(f\"Con función transpose: {np.transpose(A)}\")"
      ],
      "metadata": {
        "colab": {
          "base_uri": "https://localhost:8080/"
        },
        "id": "xhydM_yq_ZkF",
        "outputId": "f9570b64-25e8-45d3-8422-08058da038e4"
      },
      "execution_count": 5,
      "outputs": [
        {
          "output_type": "stream",
          "name": "stdout",
          "text": [
            "Con función traspuesta: [[ 1.  5.  9.]\n",
            " [ 2.  6. 10.]\n",
            " [ 3.  7. 11.]\n",
            " [ 4.  8. 12.]]\n",
            "Con función transpose: [[ 1  5  9]\n",
            " [ 2  6 10]\n",
            " [ 3  7 11]\n",
            " [ 4  8 12]]\n"
          ]
        }
      ]
    },
    {
      "cell_type": "code",
      "source": [
        "B = np.array([\n",
        "  [1, 15, 3],\n",
        "  [13, 5, 6],\n",
        "  [7, 21, 9]])\n",
        "\n",
        "def determinante(a):\n",
        "  return a[0,0]*(a[1,1]*a[2,2]-a[1,2]*a[2,1]) - a[0,1]*(a[1,0]*a[2,2]-a[1,2]*a[2,0]) + a[0,2]*(a[1,0]*a[2,1]-a[1,1]*a[2,0])\n",
        "\n",
        "print(f\"Con funcion determinante: {determinante(B)}\")\n",
        "print(f\"Con la.det: {la.det(B)}\")"
      ],
      "metadata": {
        "colab": {
          "base_uri": "https://localhost:8080/"
        },
        "id": "rTslkLHCHKPJ",
        "outputId": "802223ab-7699-4e8a-b14e-75162ac8cc34"
      },
      "execution_count": 6,
      "outputs": [
        {
          "output_type": "stream",
          "name": "stdout",
          "text": [
            "Con funcion determinante: -492\n",
            "Con la.det: -492.0\n"
          ]
        }
      ]
    },
    {
      "cell_type": "markdown",
      "source": [
        "#3\n",
        "Escriba tres matrices aleatorias $A$, $B$ y $C$ de $3\\times 3$, y demuestre las siguientes relaciones\n",
        "\n",
        "- $ \\mathbf{A}\\mathbf{B} \\neq \\mathbf{B}\\mathbf{A} $, en general.\n",
        "- $ (\\mathbf{A}\\mathbf{B})\\mathbf{C} = \\mathbf{A}(\\mathbf{B}\\mathbf{C}) $.\n",
        "- $ \\mathbf{A}(\\mathbf{B} + \\mathbf{C}) = \\mathbf{A}\\mathbf{B} + \\mathbf{A}\\mathbf{C} $.\n",
        "- $ (\\mathbf{A} + \\mathbf{B})\\mathbf{C} = \\mathbf{A}\\mathbf{C} + \\mathbf{B}\\mathbf{C} $.\n",
        "- $ (\\mathbf{A}\\mathbf{B})^\\top = \\mathbf{B}^\\top \\mathbf{A}^\\top $.\n",
        "- $ \\det(\\mathbf{A}\\mathbf{B}) = \\det(\\mathbf{A}) \\det(\\mathbf{B}) $.\n",
        "- $ (\\mathbf{A}^\\top)^\\top = \\mathbf{A} $.\n",
        "- $ (c\\mathbf{A})^\\top = c\\mathbf{A}^\\top $.\n",
        "- $ (\\mathbf{A} + \\mathbf{B})^\\top = \\mathbf{A}^\\top + \\mathbf{B}^\\top $.\n",
        "\n"
      ],
      "metadata": {
        "id": "U9hC1R-F0-iH"
      }
    },
    {
      "cell_type": "code",
      "source": [
        "B = np.array([\n",
        "  [1, 15, 3],\n",
        "  [13, 5, 6],\n",
        "  [7, 21, 9]], dtype=float)\n",
        "\n",
        "C = np.array([\n",
        "    [2, 1, 6],\n",
        "    [1, 3, 5],\n",
        "    [9, 8, 10]\n",
        "], dtype=float)\n",
        "\n",
        "D = np.array([\n",
        "    [5, 24, 1],\n",
        "    [17, 45, 3],\n",
        "    [1, 6, 1]\n",
        "], dtype=float)\n",
        "\n",
        "#BC y CB\n",
        "print(\"-Multiplicación de matrices\")\n",
        "print(f\"BC= {mulmat(B,C)}\")\n",
        "print(f\"CB= {mulmat(C,B)}\")\n",
        "print(\"----------------------\")\n",
        "\n",
        "#(BC)D y B(CD)\n",
        "print(\"-Propiedad asociativa multiplicación de matrices\")\n",
        "print(f\"(BC)D= {mulmat(mulmat(B,C),D)}\")\n",
        "print(f\"B(CD)= {mulmat(B,mulmat(C,D))}\")\n",
        "print(\"----------------------\")\n",
        "\n",
        "#B(C+D) y BC+CD\n",
        "print(\"-Propiedad distributiva\")\n",
        "print(f\"B(C+D)= {mulmat(B,C+D)}\")\n",
        "print(f\"BC+CD= {mulmat(B,C)+mulmat(B,D)}\")\n",
        "print(\"----------------------\")\n",
        "\n",
        "#(B+C)D y BD+CD\n",
        "print(f\"(B+C)D= {mulmat(B+C,D)}\")\n",
        "print(f\"BD+CD= {mulmat(B,D)+mulmat(C,D)}\")\n",
        "print(\"----------------------\")\n",
        "\n",
        "#BCt y CtBt\n",
        "print(\"-Multiplicación de transpuestas\")\n",
        "print(f\"(BC)t= {traspuesta(mulmat(B,C))}\")\n",
        "print(f\"CtBt= {mulmat(traspuesta(C),traspuesta(B))}\")\n",
        "print(\"----------------------\")\n",
        "\n",
        "#det(BC) y det(B)det(C)\n",
        "print(\"-Determinantes\")\n",
        "print(f\"det(BC)t= {determinante(mulmat(B,C))}\")\n",
        "print(f\"del(B)det(C)= {determinante(B)*determinante(C)}\")\n",
        "print(\"----------------------\")\n",
        "\n",
        "#(Bt)t y B\n",
        "print(\"-Transpuesta de una transpesta\")\n",
        "print(f\"Matriz B= {B}\")\n",
        "print(f\"(Bt)t= {traspuesta(traspuesta(B))}\")\n",
        "print(\"----------------------\")\n",
        "\n",
        "#(B+C)t y Bt+Ct\n",
        "print(\"-Suma de transpuestas\")\n",
        "print(f\"(B+C)t= {traspuesta(B+C)}\")\n",
        "print(f\"Bt+Ct= {traspuesta(B)+traspuesta(C)}\")\n",
        "print(\"----------------------\")"
      ],
      "metadata": {
        "id": "cQQ6cPGW1anK",
        "colab": {
          "base_uri": "https://localhost:8080/"
        },
        "outputId": "1a1b66a0-ad9a-447f-9dc7-5e8f39928515"
      },
      "execution_count": 7,
      "outputs": [
        {
          "output_type": "stream",
          "name": "stdout",
          "text": [
            "-Multiplicación de matrices\n",
            "BC= [[ 44.  70. 111.]\n",
            " [ 85.  76. 163.]\n",
            " [116. 142. 237.]]\n",
            "CB= [[ 57. 161.  66.]\n",
            " [ 75. 135.  66.]\n",
            " [183. 385. 165.]]\n",
            "----------------------\n",
            "-Propiedad asociativa multiplicación de matrices\n",
            "(BC)D= [[ 1521.  4872.   365.]\n",
            " [ 1880.  6438.   476.]\n",
            " [ 3231. 10596.   779.]]\n",
            "B(CD)= [[ 1521.  4872.   365.]\n",
            " [ 1880.  6438.   476.]\n",
            " [ 3231. 10596.   779.]]\n",
            "----------------------\n",
            "-Propiedad distributiva\n",
            "B(C+D)= [[ 307.  787.  160.]\n",
            " [ 241.  649.  197.]\n",
            " [ 517. 1309.  316.]]\n",
            "BC+CD= [[ 307.  787.  160.]\n",
            " [ 241.  649.  197.]\n",
            " [ 517. 1309.  316.]]\n",
            "----------------------\n",
            "(B+C)D= [[ 296.  846.   60.]\n",
            " [ 217.  762.   49.]\n",
            " [ 592. 1803.  122.]]\n",
            "BD+CD= [[ 296.  846.   60.]\n",
            " [ 217.  762.   49.]\n",
            " [ 592. 1803.  122.]]\n",
            "----------------------\n",
            "-Multiplicación de transpuestas\n",
            "(BC)t= [[ 44.  85. 116.]\n",
            " [ 70.  76. 142.]\n",
            " [111. 163. 237.]]\n",
            "CtBt= [[ 44.  85. 116.]\n",
            " [ 70.  76. 142.]\n",
            " [111. 163. 237.]]\n",
            "----------------------\n",
            "-Determinantes\n",
            "det(BC)t= 48708.0\n",
            "del(B)det(C)= 48708.0\n",
            "----------------------\n",
            "-Transpuesta de una transpesta\n",
            "Matriz B= [[ 1. 15.  3.]\n",
            " [13.  5.  6.]\n",
            " [ 7. 21.  9.]]\n",
            "(Bt)t= [[ 1. 15.  3.]\n",
            " [13.  5.  6.]\n",
            " [ 7. 21.  9.]]\n",
            "----------------------\n",
            "-Suma de transpuestas\n",
            "(B+C)t= [[ 3. 14. 16.]\n",
            " [16.  8. 29.]\n",
            " [ 9. 11. 19.]]\n",
            "Bt+Ct= [[ 3. 14. 16.]\n",
            " [16.  8. 29.]\n",
            " [ 9. 11. 19.]]\n",
            "----------------------\n"
          ]
        }
      ]
    },
    {
      "cell_type": "markdown",
      "source": [
        "#4\n",
        "\n",
        "El **Teorema de Laplace** es un método para calcular el determinante de una matriz cuadrada, particularmente útil para matrices de orden mayor a 2. Este teorema se basa en la expansión del determinante por los elementos de una fila o una columna cualquiera.\n",
        "\n",
        "\n",
        "\n",
        "$$\n",
        "\\det(A) = \\sum_{j=1}^n (-1)^{1+j} a_{1j} M_{1j}\n",
        "$$\n",
        "\n",
        "donde:\n",
        "- $a_{1j}$ es el elemento de la primera fila y columna $j$.\n",
        "- $M_{1j}$ es el menor asociado al elemento $a_{1j}$, es decir, el determinante de la submatriz de $3 \\times 3$ que se obtiene al eliminar la fila 1 y la columna $j$.\n",
        "- $(-1)^{1+j}$ es el signo correspondiente al cofactor del elemento $a_{1j}$.\n",
        "\n",
        "Podemos realizar una función recursiva para el cálculo del determinante, sabiendo que el valor del determinante de una matriz de orden uno es el único elemento de esa matriz, y el de una matriz de orden superior a uno es la suma de cada uno de los elementos de una fila o columna por los Adjuntos a ese elemento, como en la función recursiva se emplea la misma función definida el cálculo lo haremos por Menor complementario, un ejemplo desarrollado por la primera fila sería:\n",
        "\n",
        "$$\n",
        "   \\det (A_{j,j}) =\n",
        "   \\left \\{\n",
        "   \\begin{array}{llcl}\n",
        "      si & j = 1 & \\to & a_{1,1} \\\\\n",
        "                                 \\\\\n",
        "      si & j > 1 & \\to & \\displaystyle \\sum_{k=1}^j \\; (-1)^{(1+k)} \\cdot a_{1,k} \\cdot \\det( \\alpha_{1,k})\n",
        "   \\end{array}\n",
        "   \\right .\n",
        "$$\n",
        "\n",
        "Realice una función que encuentre el determinante de una matriz usando la recursividad aqui planteada, explique explicitamente su código"
      ],
      "metadata": {
        "id": "ibYf2I9T2pIw"
      }
    },
    {
      "cell_type": "code",
      "source": [
        "def det(A):\n",
        "  n = len(A)\n",
        "  if n == 1:   #Si la matriz solo tiene un elemento el determinante es ese elemento\n",
        "    return A[0][0]\n",
        "\n",
        "  else:   #Para matrices 2x2 o mas grandes\n",
        "    suma = 0\n",
        "    for k in range(n):   #\n",
        "      menor = np.delete(np.delete(A, 0, axis=0), k, axis=1)\n",
        "      suma += (-1)**k * A[0][k] * det(menor)\n",
        "    return suma\n",
        "\n",
        "B = np.array([\n",
        "  [1, 15, 3],\n",
        "  [13, 5, 6],\n",
        "  [7, 21, 9]], dtype=float)\n",
        "\n",
        "print(det(B))\n",
        "print(np.linalg.det(B))\n"
      ],
      "metadata": {
        "id": "-8tYERLHtrtY",
        "colab": {
          "base_uri": "https://localhost:8080/"
        },
        "outputId": "8324c3b1-222d-4ac6-b951-f80731105cf4"
      },
      "execution_count": 8,
      "outputs": [
        {
          "output_type": "stream",
          "name": "stdout",
          "text": [
            "-492.0\n",
            "-491.99999999999943\n"
          ]
        }
      ]
    },
    {
      "cell_type": "markdown",
      "source": [
        "#5\n",
        "\n",
        "El método de Jacobi reescribe el sistema $ Ax = b $ descomponiendo la matriz $ A $ como:\n",
        "\n",
        "$$\n",
        "A = D + L + U,\n",
        "$$\n",
        "\n",
        "donde:\n",
        "- $ D $: Matriz diagonal de $ A $,\n",
        "- $ L $: Matriz triangular inferior sin la diagonal,\n",
        "- $ U $: Matriz triangular superior sin la diagonal.\n",
        "\n",
        "El sistema se reorganiza como:\n",
        "\n",
        "$$\n",
        "x = D^{-1}(b - (L + U)x).\n",
        "$$\n",
        "\n",
        "Esto se implementa iterativamente como:\n",
        "\n",
        "$$\n",
        "x_i^{(k+1)} = \\frac{1}{a_{ii}} \\left(b_i - \\sum_{j \\neq i} a_{ij} x_j^{(k)}\\right),\n",
        "$$\n",
        "\n",
        "donde $ a_{ii} $ son los elementos diagonales de $ A $.\n",
        "\n",
        "* Escriba una función explicita que realice de manera iterativa este método con una tol = 1e-7 y un máximo de 100 iteraciones. Defina una documentación clara que explique los métodos usados, lasa entradas y salidas.\n",
        "\n",
        "* Para una matriz aleatoria 5$\\times$ 5, encuentre la solución usando su función y determine el error con respecto a `solve` y el método de inversa de matriz."
      ],
      "metadata": {
        "id": "9OcE-1QhSrI9"
      }
    },
    {
      "cell_type": "code",
      "source": [
        "def jacobi(A,b,tol=1e-7,max_iter=100):\n",
        "  n = len(b)\n",
        "  x = np.zeros_like(b, dtype = float)   #Solución inicial\n",
        "\n",
        "  for k in range(max_iter):\n",
        "    x_new = np.copy(x)\n",
        "    for i in range(n):\n",
        "      suma = 0\n",
        "      suma = sum(A[i,j]*x[j] for j in range(n) if j!=i)\n",
        "      x_new[i] = (b[i]-suma)/A[i,i]\n",
        "\n",
        "    #Examinar la convergencia\n",
        "    if np.max(np.abs(x_new-x))<tol:\n",
        "      print(f\"Converge después de {k+1} iteraciones\")\n",
        "      return x_new\n",
        "    x = x_new\n",
        "\n",
        "  print(\"No converge\")\n",
        "  return x\n",
        "\n",
        "A5 = np.array([[20, 1, 3, 4, 5],\n",
        "              [1, 9, 2, 5, 4],\n",
        "              [4, 2, 50, 3, 1],\n",
        "              [5, 4, 1, 28, 3],\n",
        "              [3, 5, 4, 1, 29]],dtype=float )\n",
        "\n",
        "\n",
        "\n",
        "b5 = np.array([10, 15, 20, 25, 30])\n",
        "\n",
        "print(jacobi(A5,b5))\n",
        "print(la.solve(A5,b5))"
      ],
      "metadata": {
        "id": "PQqefGzMT3ks",
        "colab": {
          "base_uri": "https://localhost:8080/"
        },
        "outputId": "b0ad7022-5a5c-45d8-f71d-8a91003315fd"
      },
      "execution_count": 9,
      "outputs": [
        {
          "output_type": "stream",
          "name": "stdout",
          "text": [
            "Converge después de 32 iteraciones\n",
            "[0.07643026 0.86387569 0.30359867 0.65784035 0.81307224]\n",
            "[0.07643027 0.86387572 0.30359868 0.65784037 0.81307226]\n"
          ]
        }
      ]
    },
    {
      "cell_type": "markdown",
      "source": [
        "#6\n",
        "\n",
        "Verifique que cualquier matriz hermitiana de 2 × 2 $ L $ puede escribirse como una suma de cuatro términos:\n",
        "\n",
        "$$ L = a\\sigma_x + b\\sigma_y + c\\sigma_z + dI $$\n",
        "\n",
        "donde $ a $, $ b $, $ c $ y $ d $ son números reales.\n",
        "\n",
        "Las cuatro matrices de Pauli son:\n",
        "\n",
        "$$ \\sigma_x = \\begin{pmatrix} 0 & 1 \\\\ 1 & 0 \\end{pmatrix}, \\quad \\sigma_y = \\begin{pmatrix} 0 & -i \\\\ i & 0 \\end{pmatrix}, \\quad \\sigma_z = \\begin{pmatrix} 1 & 0 \\\\ 0 & -1 \\end{pmatrix}, \\quad I = \\begin{pmatrix} 1 & 0 \\\\ 0 & 1 \\end{pmatrix} $$\n",
        "\n",
        "\n"
      ],
      "metadata": {
        "id": "iggu2jNwVpnK"
      }
    },
    {
      "cell_type": "code",
      "source": [
        "#Matriz Hermitiana\n",
        "A6 = np.array([\n",
        "    [2,1j+3],\n",
        "    [3-1j,5]])\n",
        "\n",
        "A6.conj().T"
      ],
      "metadata": {
        "id": "8WN9_cOCV7cM",
        "colab": {
          "base_uri": "https://localhost:8080/"
        },
        "outputId": "254a1b3c-73ee-4fea-918c-d26142b0b3f9"
      },
      "execution_count": 28,
      "outputs": [
        {
          "output_type": "execute_result",
          "data": {
            "text/plain": [
              "array([[2.-0.j, 3.+1.j],\n",
              "       [3.-1.j, 5.-0.j]])"
            ]
          },
          "metadata": {},
          "execution_count": 28
        }
      ]
    },
    {
      "cell_type": "code",
      "source": [
        "ox = np.array([\n",
        "    [0,1],\n",
        "    [1,0]\n",
        "])\n",
        "\n",
        "oy = np.array([\n",
        "    [0,-1j],\n",
        "    [1j,0]\n",
        "])\n",
        "\n",
        "oz = np.array([\n",
        "    [1,0],\n",
        "    [0,-1]\n",
        "])\n",
        "\n",
        "I = np.array([\n",
        "    [1,0],\n",
        "    [0,1]\n",
        "])\n",
        "\n",
        "a,b,c,d = 3,-1,-1.5,3.5\n",
        "\n",
        "np.allclose(A6,a*ox + b*oy + c*oz + d*I)"
      ],
      "metadata": {
        "colab": {
          "base_uri": "https://localhost:8080/"
        },
        "id": "NPi_6o6uK93E",
        "outputId": "562c8aac-5abf-4ce0-9b0b-592ad283196f"
      },
      "execution_count": 35,
      "outputs": [
        {
          "output_type": "execute_result",
          "data": {
            "text/plain": [
              "True"
            ]
          },
          "metadata": {},
          "execution_count": 35
        }
      ]
    }
  ]
}