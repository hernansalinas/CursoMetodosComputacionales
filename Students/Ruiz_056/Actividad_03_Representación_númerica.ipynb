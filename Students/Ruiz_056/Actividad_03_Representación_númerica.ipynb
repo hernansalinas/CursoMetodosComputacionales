{
  "cells": [
    {
      "cell_type": "code",
      "execution_count": null,
      "metadata": {
        "cellView": "form",
        "id": "rZuc8vXcWuxy"
      },
      "outputs": [],
      "source": [
        "#@title Librerias\n",
        "import numpy as np\n",
        "import matplotlib.pyplot as plt\n",
        "import pandas as pd"
      ]
    },
    {
      "cell_type": "markdown",
      "metadata": {
        "id": "MGwGfceuWxy3"
      },
      "source": [
        "# Actividad 03: Representación númerica\n",
        "\n",
        "---\n",
        "### Profesor: Juan Marcos Marín\n",
        "### Nombre: ______\n",
        "*Métodos computacionales 2024-II*\n",
        "\n",
        "---"
      ]
    },
    {
      "cell_type": "markdown",
      "metadata": {
        "id": "jB6BqzoSamB0"
      },
      "source": [
        "**NOTA: No utilizar los métodos `bin` o `int`**"
      ]
    },
    {
      "cell_type": "markdown",
      "metadata": {
        "id": "BOi6yQmJW7os"
      },
      "source": [
        "1. Escriba una función que se llame `mybin` que reciba un número entero real de 16 bits y realice su conversión en código binario, compare su resultado con `bin(4321)`"
      ]
    },
    {
      "cell_type": "code",
      "execution_count": null,
      "metadata": {
        "id": "xbt3ZmYiW6oF"
      },
      "outputs": [],
      "source": [
        "# Aqui va su código\n",
        "def mybin(N):\n",
        "  lista=[]\n",
        "  a=1\n",
        "  n = abs(N)\n",
        "  while a>0:\n",
        "    a = int(n/2)\n",
        "    b = n%2\n",
        "    lista.append(str(b))\n",
        "    n = a\n",
        "  i=len(lista)\n",
        "  while i<15:\n",
        "    lista.append(\"0\")\n",
        "    i=i+1\n",
        "  if N>0: lista.append(\"0\")\n",
        "  else: lista.append(\"1\")\n",
        "  lista.reverse()\n",
        "  print(''.join(lista))\n",
        "\n",
        "\n"
      ]
    },
    {
      "cell_type": "code",
      "source": [
        "mybin(4321)"
      ],
      "metadata": {
        "colab": {
          "base_uri": "https://localhost:8080/"
        },
        "id": "9R1gWBSQZdM_",
        "outputId": "4620d8b3-3f78-45e4-97c5-258415ed60bd"
      },
      "execution_count": null,
      "outputs": [
        {
          "output_type": "stream",
          "name": "stdout",
          "text": [
            "0001000011100001\n"
          ]
        }
      ]
    },
    {
      "cell_type": "code",
      "source": [
        "bin(-4321)"
      ],
      "metadata": {
        "colab": {
          "base_uri": "https://localhost:8080/",
          "height": 35
        },
        "id": "JoRl9JUxfYfo",
        "outputId": "7e01e7eb-1f4e-48ab-a241-25c1ee92e8ad"
      },
      "execution_count": null,
      "outputs": [
        {
          "output_type": "execute_result",
          "data": {
            "text/plain": [
              "'-0b1000011100001'"
            ],
            "application/vnd.google.colaboratory.intrinsic+json": {
              "type": "string"
            }
          },
          "metadata": {},
          "execution_count": 4
        }
      ]
    },
    {
      "cell_type": "markdown",
      "metadata": {
        "id": "5X_8-jpEXjSw"
      },
      "source": [
        "2. Cree una función llamada `myint` pero que a partir de un número binario con base de 16 bits encuentre el entero correspondiente. Compare su resultado con `int(0b1000011100001)`"
      ]
    },
    {
      "cell_type": "code",
      "execution_count": null,
      "metadata": {
        "id": "VmS2TiF4XsbN"
      },
      "outputs": [],
      "source": [
        "# Aqui va su código\n",
        "\n",
        "def myint(n):\n",
        "  lista = list(str(n))\n",
        "  suma = 0\n",
        "  if lista[0]==\"1\": t=True\n",
        "  else: t=False\n",
        "  lista.remove(lista[0])\n",
        "  lista.reverse()\n",
        "  for index, bit in enumerate(lista):\n",
        "    if bit == \"1\":\n",
        "      suma += 2 ** index\n",
        "    else: None\n",
        "  if t==False: return suma\n",
        "  else: return -suma\n"
      ]
    },
    {
      "cell_type": "code",
      "source": [
        "myint(\"010000000011\")"
      ],
      "metadata": {
        "colab": {
          "base_uri": "https://localhost:8080/"
        },
        "id": "qG3IFht5iDQc",
        "outputId": "9d54421f-3e4e-4045-a9db-0758a1df0f6a"
      },
      "execution_count": null,
      "outputs": [
        {
          "output_type": "execute_result",
          "data": {
            "text/plain": [
              "1027"
            ]
          },
          "metadata": {},
          "execution_count": 6
        }
      ]
    },
    {
      "cell_type": "markdown",
      "metadata": {
        "id": "pHQ8ftloYPO5"
      },
      "source": [
        "3. Generar una función llamada `number64` para flotantes de precisión doble (64bits) donde a partir de un número binario encuentre el valor real. Compruebe su solución usando\n",
        "\n",
        "```\n",
        "number64(\"0100000000111011100100001111111111111111111111111111111111111111\")\n",
        "```\n",
        "\n"
      ]
    },
    {
      "cell_type": "code",
      "source": [
        "#La misma función de myint() solo que esta recibe una lista\n",
        "def myint2(lista):\n",
        "  suma = 0\n",
        "  if lista[0]==\"1\": t=True\n",
        "  else: t=False\n",
        "  lista.remove(lista[0])\n",
        "  lista.reverse()\n",
        "  for index, bit in enumerate(lista):\n",
        "    if bit == \"1\":\n",
        "      suma += 2 ** index\n",
        "    else: None\n",
        "  if t==False: return suma\n",
        "  else: return -suma"
      ],
      "metadata": {
        "id": "IHAvFYSvJZDb"
      },
      "execution_count": null,
      "outputs": []
    },
    {
      "cell_type": "code",
      "execution_count": null,
      "metadata": {
        "id": "8W4MIVKhZTsO"
      },
      "outputs": [],
      "source": [
        "# Aqui va su código\n",
        "def number64(n):\n",
        "  lista = list(str(n))\n",
        "\n",
        "  #Definimos el signo\n",
        "  signo = (-1)**(int(lista[0]))\n",
        "\n",
        "  #Definimos el exponente\n",
        "  lista_exponente = [\"0\"] + lista[1:12]\n",
        "  e = myint2(lista_exponente)\n",
        "  exponente = e -1023\n",
        "\n",
        "  #Definimos la suma\n",
        "  suma = 1\n",
        "  for i in range(52):\n",
        "    suma = suma + (int(lista[12+i]))*(2**(-i))\n",
        "\n",
        "  resultado = signo*suma\n",
        "  return resultado*(2**exponente)\n"
      ]
    },
    {
      "cell_type": "code",
      "source": [
        "number64(\"0100000000111011100100001111111111111111111111111111111111111111\")"
      ],
      "metadata": {
        "colab": {
          "base_uri": "https://localhost:8080/"
        },
        "id": "LUrVTPJ1DWbn",
        "outputId": "c7c9275c-9906-4e6c-c946-ebe1b27be432"
      },
      "execution_count": null,
      "outputs": [
        {
          "output_type": "execute_result",
          "data": {
            "text/plain": [
              "39.13281249999999"
            ]
          },
          "metadata": {},
          "execution_count": 24
        }
      ]
    },
    {
      "cell_type": "markdown",
      "metadata": {
        "id": "xwyZCxWtZZoH"
      },
      "source": [
        "4. ***(Opcional)*** Escriba una función que convierta un número con base de 8 bits en hexadecimal, compruebe su respuesta con `hex` e imprimalo también en binario."
      ]
    },
    {
      "cell_type": "code",
      "execution_count": null,
      "metadata": {
        "id": "SpJuueSgbJ4I"
      },
      "outputs": [],
      "source": [
        "# Aqui va su código"
      ]
    }
  ],
  "metadata": {
    "colab": {
      "provenance": []
    },
    "kernelspec": {
      "display_name": "Python 3",
      "name": "python3"
    },
    "language_info": {
      "name": "python"
    }
  },
  "nbformat": 4,
  "nbformat_minor": 0
}