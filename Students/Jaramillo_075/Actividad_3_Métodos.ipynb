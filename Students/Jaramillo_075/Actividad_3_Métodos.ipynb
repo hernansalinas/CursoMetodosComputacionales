{
  "cells": [
    {
      "cell_type": "code",
      "execution_count": null,
      "metadata": {
        "id": "rZuc8vXcWuxy"
      },
      "outputs": [],
      "source": [
        "#@title Librerias\n",
        "import numpy as np\n",
        "import matplotlib.pyplot as plt\n",
        "import pandas as pd"
      ]
    },
    {
      "cell_type": "markdown",
      "metadata": {
        "id": "MGwGfceuWxy3"
      },
      "source": [
        "# Actividad 03: Representación númerica\n",
        "\n",
        "---\n",
        "### Profesor: Juan Marcos Marín\n",
        "### Nombre: Miguel Ángel Jaramillo Valencia\n",
        "*Métodos computacionales 2024-II*\n",
        "\n",
        "---"
      ]
    },
    {
      "cell_type": "markdown",
      "metadata": {
        "id": "jB6BqzoSamB0"
      },
      "source": [
        "**NOTA: No utilizar los métodos `bin` o `int`**"
      ]
    },
    {
      "cell_type": "markdown",
      "metadata": {
        "id": "BOi6yQmJW7os"
      },
      "source": [
        "1. Escriba una función que se llame `mybin` que reciba un número entero real de 16 bits y realice su conversión en código binario, compare su resultado con `bin(4321)`"
      ]
    },
    {
      "cell_type": "code",
      "execution_count": null,
      "metadata": {
        "id": "xbt3ZmYiW6oF"
      },
      "outputs": [],
      "source": [
        "def mybin(entero = 4321):\n",
        "\n",
        "  limite = 32768\n",
        "\n",
        "  binario = []\n",
        "\n",
        "  if entero > limite:\n",
        "    return('Intente con un número menor')\n",
        "\n",
        "  elif entero == 0:\n",
        "    return('0')\n",
        "\n",
        "  else:\n",
        "    while entero > 0:\n",
        "\n",
        "      binario.append(entero % 2)\n",
        "\n",
        "      entero = entero // 2\n",
        "\n",
        "  return ''.join(map(str, binario))\n",
        "\n"
      ]
    },
    {
      "cell_type": "code",
      "source": [
        "mybin()"
      ],
      "metadata": {
        "id": "n3M-ZjQopS0a",
        "outputId": "dbe4bdee-25fa-40d9-b3b8-a29ef4eb7ed8",
        "colab": {
          "base_uri": "https://localhost:8080/",
          "height": 35
        }
      },
      "execution_count": null,
      "outputs": [
        {
          "output_type": "execute_result",
          "data": {
            "text/plain": [
              "'1000011100001'"
            ],
            "application/vnd.google.colaboratory.intrinsic+json": {
              "type": "string"
            }
          },
          "metadata": {},
          "execution_count": 3
        }
      ]
    },
    {
      "cell_type": "markdown",
      "metadata": {
        "id": "5X_8-jpEXjSw"
      },
      "source": [
        "2. Cree una función llamada `myint` pero que a partir de un número binario con base de 16 bits encuentre el entero correspondiente. Compare su resultado con `int(0b1000011100001)`"
      ]
    },
    {
      "cell_type": "code",
      "execution_count": null,
      "metadata": {
        "id": "VmS2TiF4XsbN"
      },
      "outputs": [],
      "source": [
        "def myint(binario_):\n",
        "\n",
        "  limite = 1111111111111111\n",
        "\n",
        "  binario = []\n",
        "  numero = []\n",
        "\n",
        "  if binario_ > limite:\n",
        "    return('Intente con un número menor')\n",
        "\n",
        "  else:\n",
        "    while binario_ > 0:\n",
        "\n",
        "      binario.append(binario_ % 10)\n",
        "\n",
        "      binario_ = binario_ // 10\n",
        "\n",
        "  for i in range(len(binario)):\n",
        "\n",
        "    if binario[i] != 0 and binario[i] != 1:\n",
        "\n",
        "      return 'Sólo se permite números binarios'\n",
        "\n",
        "  for j in range(len(binario)):\n",
        "\n",
        "    if binario[j] == 1:\n",
        "\n",
        "      numero.append(2**j)\n",
        "\n",
        "  return sum(numero)"
      ]
    },
    {
      "cell_type": "code",
      "source": [
        "myint(1000011100001)"
      ],
      "metadata": {
        "colab": {
          "base_uri": "https://localhost:8080/"
        },
        "id": "igvc9BLz_PdZ",
        "outputId": "677ab6ca-0955-4f9e-b7f2-78fdc4977b83"
      },
      "execution_count": null,
      "outputs": [
        {
          "output_type": "execute_result",
          "data": {
            "text/plain": [
              "4321"
            ]
          },
          "metadata": {},
          "execution_count": 5
        }
      ]
    },
    {
      "cell_type": "code",
      "source": [
        "0b1000011100001"
      ],
      "metadata": {
        "colab": {
          "base_uri": "https://localhost:8080/"
        },
        "id": "SSpLBsWJPxdP",
        "outputId": "ab0cfe9a-712b-4272-b421-ff8a1157b48e"
      },
      "execution_count": null,
      "outputs": [
        {
          "output_type": "execute_result",
          "data": {
            "text/plain": [
              "4321"
            ]
          },
          "metadata": {},
          "execution_count": 6
        }
      ]
    },
    {
      "cell_type": "markdown",
      "metadata": {
        "id": "pHQ8ftloYPO5"
      },
      "source": [
        "3. Generar una función llamada `number64` para flotantes de precisión doble (64bits) donde a partir de un número binario encuentre el valor real. Compruebe su solución usando\n",
        "\n",
        "```\n",
        "number64(\"0100000000111011100100001111111111111111111111111111111111111111\")\n",
        "```\n",
        "\n"
      ]
    },
    {
      "cell_type": "code",
      "execution_count": null,
      "metadata": {
        "id": "8W4MIVKhZTsO"
      },
      "outputs": [],
      "source": [
        "def number64(binario__):\n",
        "\n",
        " if len(binario__) != 64:\n",
        "    return('Intente con un número de 64 bits')\n",
        "\n",
        " signo = binario__[0]\n",
        " mantisa1 = binario__[1:11]\n",
        " numero = []\n",
        "\n",
        " while binario__ > 0:\n",
        "\n",
        "      binario2.append(binario__ % 10)\n",
        "\n",
        "      binario__ = binario__ // 10\n",
        "\n",
        " binario2 = binario2[::-1]\n",
        "\n",
        " binario2 = [0] + binario2\n",
        "\n",
        " expo = binario2[1:12]\n",
        " expo = expo[::-1]\n",
        " mantisa = binario2[12::]\n",
        "\n",
        " for i in range(len(expo)):\n",
        "\n",
        "    if expo[i] == 1:\n",
        "\n",
        "      numero.append(2**i)\n",
        "\n",
        " numero = sum(numero)\n",
        "\n",
        " exp_real = numero - 1023\n",
        "\n",
        " for j in range(len(mantisa)):\n",
        "\n",
        "    if mantisa[j] == 1:\n",
        "\n",
        "      mantisa1.append(2 ** (-j))\n",
        "\n",
        " frac_mantisa = 1 + sum(mantisa1)\n",
        "\n",
        " return frac_mantisa * (2 ** exp_real)"
      ]
    },
    {
      "cell_type": "code",
      "source": [
        "def number64(binario__):\n",
        "\n",
        " if len(binario__) != 64:\n",
        "    return('Intente con un número de 64 bits')\n",
        "\n",
        " mantisa1 = []\n",
        " numero = []\n",
        " binario2 = []\n",
        "\n",
        " for i in binario__:\n",
        "   if i == '1':\n",
        "            binario2.append(1)\n",
        "   elif i == '0':\n",
        "            binario2.append(0)\n",
        "\n",
        " signo = binario2[0]\n",
        " expo = binario2[1:12]\n",
        " expo = expo[::-1]\n",
        " mantisa = binario2[12:]\n",
        "\n",
        " for i in range(len(expo)):\n",
        "\n",
        "    if expo[i] == 1:\n",
        "\n",
        "      numero.append(2**i)\n",
        "\n",
        " numero = sum(numero)\n",
        " exp_real = numero - 1023\n",
        "\n",
        " for j in range(len(mantisa)):\n",
        "\n",
        "    if mantisa[j] == 1:\n",
        "\n",
        "      mantisa1.append(2 ** (-j))\n",
        "\n",
        " frac_mantisa = 1 + sum(mantisa1)\n",
        "\n",
        " if signo == 1:\n",
        "\n",
        "  return -frac_mantisa * (2 ** exp_real)\n",
        "\n",
        " else:\n",
        "  return frac_mantisa * (2 ** exp_real)\n"
      ],
      "metadata": {
        "id": "jQjy8qKGQU-L"
      },
      "execution_count": null,
      "outputs": []
    },
    {
      "cell_type": "code",
      "source": [
        "number64('0100000000111011100100001111111111111111111111111111111111111111')"
      ],
      "metadata": {
        "colab": {
          "base_uri": "https://localhost:8080/"
        },
        "id": "MWprwdUF1K3_",
        "outputId": "260ba207-fca0-4326-e06b-10fdbf9c12b3"
      },
      "execution_count": null,
      "outputs": [
        {
          "output_type": "execute_result",
          "data": {
            "text/plain": [
              "39.13281249999999"
            ]
          },
          "metadata": {},
          "execution_count": 32
        }
      ]
    }
  ],
  "metadata": {
    "colab": {
      "provenance": []
    },
    "kernelspec": {
      "display_name": "Python 3",
      "name": "python3"
    },
    "language_info": {
      "name": "python"
    }
  },
  "nbformat": 4,
  "nbformat_minor": 0
}