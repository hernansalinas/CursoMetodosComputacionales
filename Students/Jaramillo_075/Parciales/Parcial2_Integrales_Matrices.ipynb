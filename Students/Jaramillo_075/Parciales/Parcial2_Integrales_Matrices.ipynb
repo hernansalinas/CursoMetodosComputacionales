{
  "nbformat": 4,
  "nbformat_minor": 0,
  "metadata": {
    "colab": {
      "provenance": []
    },
    "kernelspec": {
      "name": "python3",
      "display_name": "Python 3"
    },
    "language_info": {
      "name": "python"
    }
  },
  "cells": [
    {
      "cell_type": "code",
      "execution_count": 118,
      "metadata": {
        "id": "aF61FjHUNGJA"
      },
      "outputs": [],
      "source": [
        "#@title Librerias\n",
        "import numpy as np\n",
        "import numpy.linalg as la\n",
        "import matplotlib.pyplot as plt\n",
        "from scipy.integrate import quad, fixed_quad, trapezoid, simpson, nquad\n",
        "from sympy import symbols, diff, integrate, lambdify"
      ]
    },
    {
      "cell_type": "markdown",
      "source": [
        "# Parcial II - Métodos Computacionales (Integrales y Matrices)\n",
        "**2024-2**\n",
        "\n",
        "---\n",
        "\n",
        "*Nombre*: Miguel Ángel Jaramillo Valencia\n",
        "\n",
        "*Identificación:* 1000762075\n",
        "\n",
        "---\n",
        "* Sea honest@\n",
        "* El uso de herramientas de IA no está permitido\n",
        "* Puede consultar la documentación de las librerias.\n",
        "* Sea ordendado dando la solución a cada punto.\n",
        "* *Asegurese que el notebook corra completamente*\n",
        "* Suba su notebook al GitHub (en su carpeta) y recuerde hacer pull-request"
      ],
      "metadata": {
        "id": "VqRX_GXcNZOl"
      }
    },
    {
      "cell_type": "markdown",
      "source": [
        "# 1\n",
        "\n",
        "**(20 puntos)**\n",
        "Considera la siguiente integral:\n",
        "\n",
        "$$\n",
        "I = \\int_0^1 \\int_{x^2}^{x+1} \\int_{y^2}^{y+2} \\int_{z^2}^{z+3} (x+y+z+w) \\, dw \\, dz \\, dy \\, dx\n",
        "$$\n",
        "\n",
        "Encuentre la solución númerica usando unicamente `quad`. Encuentre el error relativo, para esto emplee el siguiente código que usa `nquad`:\n",
        "\n",
        "\n",
        "```python\n",
        "# Definir el integrando\n",
        "integrand = lambda w, z, y, x: x + y + z + w\n",
        "\n",
        "# Definir los límites usando funciones lambda\n",
        "w_limits = lambda z, y, x: [z**2, z+3]\n",
        "z_limits = lambda y, x: [y**2, y+2]\n",
        "y_limits = lambda x: [x**2, x+1]\n",
        "x_limits = lambda: [0, 1]\n",
        "\n",
        "# Calcular la integral usando nquad\n",
        "result, error = nquad(\n",
        "    integrand,\n",
        "    [w_limits, z_limits, y_limits, x_limits]\n",
        ")\n",
        "\n",
        "print(f\"Resultado de la integral: {result}\")\n",
        "print(f\"Error estimado: {error}\")\n",
        "```\n",
        "\n"
      ],
      "metadata": {
        "id": "u1OxHrJINZ9c"
      }
    },
    {
      "cell_type": "code",
      "source": [
        "# Definir el integrando\n",
        "integrand = lambda w, z, y, x: x + y + z + w\n",
        "\n",
        "# Definir los límites usando funciones lambda\n",
        "w_limits = lambda z, y, x: [z**2, z+3]\n",
        "z_limits = lambda y, x: [y**2, y+2]\n",
        "y_limits = lambda x: [x**2, x+1]\n",
        "x_limits = lambda: [0, 1]\n",
        "\n",
        "# Calcular la integral usando nquad\n",
        "result, error = nquad(\n",
        "    integrand,\n",
        "    [w_limits, z_limits, y_limits, x_limits]\n",
        ")\n",
        "\n",
        "print(f\"Resultado de la integral: {result}\")\n",
        "print(f\"Error estimado: {error}\")"
      ],
      "metadata": {
        "id": "cZURwltmOSgu",
        "colab": {
          "base_uri": "https://localhost:8080/"
        },
        "outputId": "cd3c9745-5932-4ac6-e705-3d16f0748ae6"
      },
      "execution_count": 119,
      "outputs": [
        {
          "output_type": "stream",
          "name": "stdout",
          "text": [
            "Resultado de la integral: -0.6500971589021813\n",
            "Error estimado: 1.8391891749223705e-12\n"
          ]
        }
      ]
    },
    {
      "cell_type": "code",
      "source": [
        "fw = lambda w, z, y, x: x + y + z + w\n",
        "\n",
        "w_limits1 = lambda z, y, x: z**2\n",
        "w_limits2 = lambda z, y, x: z + 3\n",
        "\n",
        "z_limits1 = lambda y, x: y ** 2\n",
        "z_limits2 = lambda y, x: y + 2\n",
        "\n",
        "\n",
        "y_limits1 = lambda x: x**2\n",
        "y_limits2 = lambda x: x+1"
      ],
      "metadata": {
        "id": "L7RS-o-CZrjK"
      },
      "execution_count": 120,
      "outputs": []
    },
    {
      "cell_type": "code",
      "source": [
        "integral_w = lambda z, y ,x: quad(lambda w: fw(w,z,y,x), w_limits1(z,y,x), w_limits2(z,y,x))[0]\n",
        "integral_z = lambda y, x: quad(lambda z: integral_w(z,y,x), z_limits1(y,x), z_limits2(y,x))[0]\n",
        "integral_y = lambda x: quad(lambda y: integral_z(y,x), y_limits1(x), y_limits2(x))[0]\n",
        "integral_x = quad(integral_y, 0, 1)\n",
        "\n",
        "integral_x[0] - result, integral_x[1] - error"
      ],
      "metadata": {
        "colab": {
          "base_uri": "https://localhost:8080/"
        },
        "id": "jWFnEa-OaoRY",
        "outputId": "00043add-6c4d-440e-fda5-0f50f8d4b974"
      },
      "execution_count": 121,
      "outputs": [
        {
          "output_type": "execute_result",
          "data": {
            "text/plain": [
              "(0.0, -1.681056644203649e-12)"
            ]
          },
          "metadata": {},
          "execution_count": 121
        }
      ]
    },
    {
      "cell_type": "markdown",
      "source": [
        "# 2\n",
        "\n",
        "**(40 puntos)**\n",
        "Un lazo de corriente de radio $a$  transporta una corriente $I$ en el punto P que está a una distancia $r$ del centro del lazo con coordenadas esféricas (r, θ, φ). Resuelve para la componente φ del potencial vectorial en el punto $P$ en términos de integrales elípticas:\n",
        "\n",
        "\\begin{equation}\n",
        "A_{\\phi}(r, \\theta)=\\frac{\\mu_0}{4\\pi}\\frac{4Ia}{\\sqrt{a^2+r^2+2ar\\sin \\theta}}\\left(\\frac{(2-k^2)K(k)-2E(k)}{k^2} \\right)\n",
        "\\end{equation}\n",
        "\n",
        "donde\n",
        "\n",
        "\\begin{equation}\n",
        "K(k)=\\int_{0}^{\\pi/2} \\frac{\\mathrm{d\\phi}}{\\sqrt{1-k^2\\sin^2\\phi}}\n",
        "\\end{equation}\n",
        "\n",
        "\\begin{equation}\n",
        "E(k)=\\int_{0}^{\\pi/2} \\mathrm{d\\phi} \\sqrt{1-k^2\\sin^2\\phi}\n",
        "\\end{equation}\n",
        "\n",
        "\\begin{equation}\n",
        "k^2=\\frac{4ar\\sin\\theta}{a^2+r^2+2ar\\sin\\theta}\n",
        "\\end{equation}\n",
        "\n",
        "Aquí, $K(k)$ es una integral elíptica completa del primer tipo y $E(k)$ es una integral elíptica completa del segundo tipo.\n",
        "\n",
        "\n",
        "Para\n",
        "* $a$ = 1,\n",
        "* $I$ = 3,\n",
        "* $μ0/4π$ = 1\n",
        "\n",
        "\n",
        "Usando funciones explicitas explique claramente las entradas, salidas y procedimientos dentro de las mismas. Recuerde para resolver las integrales usar `quad` y grafique para:\n",
        "\n",
        "*a)* $A_φ(r = 1.1, θ)$ vs. $0\\leq θ\\leq \\pi$\n",
        "\n",
        "*b)* $A_φ(r, θ = π∕3)$ vs. $0\\leq r \\leq 10$\n",
        "\n",
        "Tenga cuidado con la convergencia de su integral\n",
        "\n"
      ],
      "metadata": {
        "id": "ryB1EksIOV_l"
      }
    },
    {
      "cell_type": "code",
      "source": [
        "a = 1\n",
        "I = 3\n",
        "k = 1\n",
        "\n",
        "def k_2(r, theta):\n",
        "  return (4 * a * r * np.sin(theta)) / (a ** 2 + r ** 2 + 2 * a * r * np.sin(theta))\n",
        "\n",
        "def K(r, theta, phi):\n",
        "  return 1 / np.sqrt(1 - k_2(r,theta) * np.sin(phi) ** 2)\n",
        "\n",
        "def integral_K(r, theta):\n",
        "  def integrand(phi):\n",
        "    return 1 / np.sqrt(1 - k_2(r,theta) * np.sin(phi) ** 2) #función anidada que recibe la variable de integración habiendo definido antes las variables r y theta, que son las variables en que va a quedar la función integrada\n",
        "  result = quad(integrand, 0, np.pi/2)[0] #devuelve la integral como una función de theta y r\n",
        "  return result\n",
        "\n",
        "def integral_E(r, theta):\n",
        "  def integrand(phi):\n",
        "     return np.sqrt(1 - k_2(r,theta) * np.sin(phi) ** 2) # misma explicación de arriba\n",
        "  result = quad(integrand, 0, np.pi/2)[0]\n",
        "  return result\n",
        "\n",
        "\n",
        "def A(r, theta): # función que depende sólo de r y theta, que son las variables de k_2 y las integrales anteriores\n",
        "  return (k * 4 * I * a) / np.sqrt(a ** 2 + r ** 2 + 2 * a * r * np.sin(theta)) * (((2 - k_2(r, theta)) * integral_K(r, theta) - 2 * integral_E(r, theta))/ k_2(r, theta))"
      ],
      "metadata": {
        "id": "DJWSZfp3pEUE"
      },
      "execution_count": 122,
      "outputs": []
    },
    {
      "cell_type": "code",
      "source": [
        "theta = np.linspace(0, np.pi - 1e-8, 100)\n",
        "values1 = np.zeros(100)\n",
        "\n",
        "for i in range(len(theta)):\n",
        "    values1[i] = A(1.1, theta[i])\n",
        "\n",
        "plt.plot(theta, values1)\n",
        "plt.grid()\n",
        "plt.title('Potencial vectorial para $ r = 1.1$')\n",
        "plt.xlabel(r'valores de $\\theta$')\n",
        "plt.ylabel('Potencial')\n",
        "plt.show()"
      ],
      "metadata": {
        "id": "1gNqM0meqhda",
        "colab": {
          "base_uri": "https://localhost:8080/",
          "height": 530
        },
        "outputId": "410a3127-212e-4be6-b875-ef91320b11a2"
      },
      "execution_count": 123,
      "outputs": [
        {
          "output_type": "stream",
          "name": "stderr",
          "text": [
            "<ipython-input-122-a47e4a8a1b6e>:25: RuntimeWarning: invalid value encountered in scalar divide\n",
            "  return (k * 4 * I * a) / np.sqrt(a ** 2 + r ** 2 + 2 * a * r * np.sin(theta)) * (((2 - k_2(r, theta)) * integral_K(r, theta) - 2 * integral_E(r, theta))/ k_2(r, theta))\n"
          ]
        },
        {
          "output_type": "display_data",
          "data": {
            "text/plain": [
              "<Figure size 640x480 with 1 Axes>"
            ],
            "image/png": "[encoded data removed]"
          },
          "metadata": {}
        }
      ]
    },
    {
      "cell_type": "code",
      "source": [
        "r = np.linspace(0, 10 - 1e-10, 100)\n",
        "values2 = np.zeros(100)\n",
        "\n",
        "for i in range(len(r)):\n",
        "    values2[i] = A(r[i], np.pi/3)\n",
        "\n",
        "plt.plot(r, values2)\n",
        "plt.grid()\n",
        "plt.title(r'Potencial vectorial para $\\theta$  = $\\pi/3$')\n",
        "plt.xlabel(r'valores de $r$')\n",
        "plt.ylabel('Potencial')\n",
        "plt.show()"
      ],
      "metadata": {
        "colab": {
          "base_uri": "https://localhost:8080/",
          "height": 530
        },
        "id": "nVsoFpJKBBLA",
        "outputId": "056d19b8-013e-4208-8281-137e612a5c9c"
      },
      "execution_count": 124,
      "outputs": [
        {
          "output_type": "stream",
          "name": "stderr",
          "text": [
            "<ipython-input-122-a47e4a8a1b6e>:25: RuntimeWarning: invalid value encountered in scalar divide\n",
            "  return (k * 4 * I * a) / np.sqrt(a ** 2 + r ** 2 + 2 * a * r * np.sin(theta)) * (((2 - k_2(r, theta)) * integral_K(r, theta) - 2 * integral_E(r, theta))/ k_2(r, theta))\n"
          ]
        },
        {
          "output_type": "display_data",
          "data": {
            "text/plain": [
              "<Figure size 640x480 with 1 Axes>"
            ],
            "image/png": "[encoded data removed]"
          },
          "metadata": {}
        }
      ]
    },
    {
      "cell_type": "markdown",
      "source": [
        "# 3\n",
        "\n",
        "(**40 puntos**) El **método de la potencia inversa** es una técnica iterativa utilizada para calcular el autovalor de menor magnitud de una matriz cuadrada. Es una variante del **método de la potencia**, que normalmente encuentra el autovalor de mayor magnitud. Para ello, se aprovecha la propiedad de la matriz inversa:\n",
        "\n",
        "$$ A^{-1} v = \\frac{1}{\\lambda} v $$\n",
        "\n",
        "\n",
        "## Algoritmo\n",
        "\n",
        "El método de la potencia inversa sigue los siguientes pasos:\n",
        "\n",
        "1. Elegir un vector inicial $x^{(0)}$ no nulo.\n",
        "\n",
        "2. Para cada iteración $k$, resolver el sistema lineal:\n",
        "   \n",
        "   $$ A y^{(k)} = x^{(k-1)} $$\n",
        "   \n",
        "   donde $y^{(k)}$ es un **vector intermedio** que se obtiene resolviendo el sistema lineal. Este vector representa la solución del sistema en cada iteración y es crucial para aproximar el autovector de menor autovalor.\n",
        "\n",
        "3. Normalizar $y^{(k)}$ para obtener un nuevo vector de iteración:\n",
        "   \n",
        "   $$ x^{(k)} = \\frac{y^{(k)}}{\\| y^{(k)} \\|} $$\n",
        "   \n",
        "4. Aproximar el autovalor mediante el cociente de Rayleigh:\n",
        "   \n",
        "   $$ \\lambda^{(k)} = \\frac{(x^{(k)})^T A x^{(k)}}{(x^{(k)})^T x^{(k)}} $$\n",
        "   \n",
        "5. Repetir los pasos anteriores hasta que la diferencia entre valores sucesivos de $\\lambda$ sea menor que un umbral de tolerancia.\n",
        "\n",
        "---\n",
        "\n",
        "*a)* Escriba una función llamada `potencia_inversa` que dada una matriz A encuentre su valor propio menos dominante (con una tolerancia de 1e-7 usando la norma Euclidiana) y su correspondiente autovector. Para obtener $y^{(k)}$ puede emplear `np.linalg.solve` recordando que $Ay = x$.\n",
        "\n",
        "*b)* Usando la matriz A, encuentre el $\\lambda_{min}$ y el correspondiente autovector. Examine la convergencia de su autovalor en función de las iteraciones, esto es, haga un gráfico de $\\lambda(k)$\n",
        "\n",
        "$$\n",
        "\\begin{bmatrix}\n",
        "5 & 2 \\\\\n",
        "2 & 2\n",
        "\\end{bmatrix}\n",
        "$$\n",
        "\n",
        "*c)* Compare su resultado con `np.linalg.eig`"
      ],
      "metadata": {
        "id": "pKubcNlWP0nc"
      }
    },
    {
      "cell_type": "code",
      "source": [
        "def potencia_inversa(A, tol  = 1e-7, max_iter = 100):\n",
        "\n",
        "  n = A.shape[0] #dimensión del vector que vamos a encontrar\n",
        "\n",
        "  x0 = np.random.rand(n)\n",
        "\n",
        "  lambda_0 = 0.0 #valor propio mínimo inicial\n",
        "\n",
        "  lambda_ = []\n",
        "\n",
        "  for k in range(max_iter):\n",
        "\n",
        "    y_k = np.linalg.solve(A, x0)\n",
        "\n",
        "    xk_new = y_k / np.linalg.norm(y_k, ord=2)\n",
        "\n",
        "    #aplicando cociente de Rayleigh\n",
        "\n",
        "    lambda_k_min = (xk_new.T @ A @ xk_new) / (xk_new.T @ xk_new)\n",
        "    lambda_.append(lambda_k_min)\n",
        "\n",
        "    if abs(lambda_k_min - lambda_0) < tol:\n",
        "      print(f'converge con {k+1} iteraciones')\n",
        "\n",
        "      return lambda_k_min, xk_new, lambda_, k\n",
        "\n",
        "    lambda_0 = lambda_k_min\n",
        "    x0 = xk_new\n",
        "\n",
        "  print('El método no converge')\n",
        "  return xk_new, lambda_k_min, lambda_"
      ],
      "metadata": {
        "id": "ZhnTbHAgP4XJ"
      },
      "execution_count": 125,
      "outputs": []
    },
    {
      "cell_type": "code",
      "source": [
        "A = np.array([\n",
        "    [5, 2],\n",
        "    [2, 2]\n",
        "])\n",
        "P = potencia_inversa(A)\n",
        "lambda_ = P[2]\n",
        "k = P[-1]\n",
        "P[0:2]"
      ],
      "metadata": {
        "colab": {
          "base_uri": "https://localhost:8080/"
        },
        "id": "YYqLotCpGfPa",
        "outputId": "a7e355f0-8fb3-4fbf-8ca2-13fb2317bfed"
      },
      "execution_count": 126,
      "outputs": [
        {
          "output_type": "stream",
          "name": "stdout",
          "text": [
            "converge con 6 iteraciones\n"
          ]
        },
        {
          "output_type": "execute_result",
          "data": {
            "text/plain": [
              "(1.0000000005758491, array([-0.447204  ,  0.89443199]))"
            ]
          },
          "metadata": {},
          "execution_count": 126
        }
      ]
    },
    {
      "cell_type": "code",
      "source": [
        "np.linalg.eig(A)"
      ],
      "metadata": {
        "colab": {
          "base_uri": "https://localhost:8080/"
        },
        "id": "LoyMqr9XHE9p",
        "outputId": "e13b7f5f-acd2-4b5f-b119-08bca8f3a0ce"
      },
      "execution_count": 127,
      "outputs": [
        {
          "output_type": "execute_result",
          "data": {
            "text/plain": [
              "EigResult(eigenvalues=array([6., 1.]), eigenvectors=array([[ 0.89442719, -0.4472136 ],\n",
              "       [ 0.4472136 ,  0.89442719]]))"
            ]
          },
          "metadata": {},
          "execution_count": 127
        }
      ]
    },
    {
      "cell_type": "code",
      "source": [
        "k = np.arange(k+1)"
      ],
      "metadata": {
        "id": "TRCY-JuwKw3D"
      },
      "execution_count": 128,
      "outputs": []
    },
    {
      "cell_type": "code",
      "source": [
        "plt.plot(k, lambda_)\n",
        "plt.xlabel('Número de iteraciones')\n",
        "plt.ylabel('Autovalores encontrados')\n",
        "plt.title('Convergencia del autovalor mínimo en función de las iteraciones')"
      ],
      "metadata": {
        "colab": {
          "base_uri": "https://localhost:8080/",
          "height": 489
        },
        "id": "NekIxuGxH0oP",
        "outputId": "1a7fe263-672a-42a9-a117-582f5779e435"
      },
      "execution_count": 129,
      "outputs": [
        {
          "output_type": "execute_result",
          "data": {
            "text/plain": [
              "Text(0.5, 1.0, 'Convergencia del autovalor mínimo en función de las iteraciones')"
            ]
          },
          "metadata": {},
          "execution_count": 129
        },
        {
          "output_type": "display_data",
          "data": {
            "text/plain": [
              "<Figure size 640x480 with 1 Axes>"
            ],
            "image/png": "[encoded data removed]"
          },
          "metadata": {}
        }
      ]
    },
    {
      "cell_type": "markdown",
      "source": [
        "Se observa que el método converge muy rápidamente"
      ],
      "metadata": {
        "id": "tEDmeBPPTeo4"
      }
    },
    {
      "cell_type": "markdown",
      "source": [
        "#4\n",
        "\n",
        "**(10 puntos)**\n",
        "Sea $A$ una matriz cuadrada de tamaño $n \\times n$. Se sabe que el determinante de una matriz es igual al producto de sus autovalores:\n",
        "\n",
        "$$\n",
        "\\det(A) = \\prod_{i=1}^{n} \\lambda_i\n",
        "$$\n",
        "\n",
        "donde $\\lambda_1, \\lambda_2, \\dots, \\lambda_n$ son los autovalores de $A$.\n",
        "\n",
        "Usando una matriz aleatoria $A$ de $5\\times 5$, demuestre esta propiedad. Puede usar las funciones de `np.linalg`."
      ],
      "metadata": {
        "id": "Qz8QJCjWYds5"
      }
    },
    {
      "cell_type": "code",
      "source": [
        "B = np.random.randint(1, 100, size =(5,5))\n",
        "eig = np.linalg.eig(B)[0]\n",
        "\n",
        "prod = np.prod(eig)\n",
        "real = np.linalg.det(B)\n",
        "\n",
        "error = abs(prod - real)\n",
        "\n",
        "print(f'El determinante por propiedad es: {prod}, el determinante con np. linalg es: {real} \\n el error entre ambos es: {error}')"
      ],
      "metadata": {
        "colab": {
          "base_uri": "https://localhost:8080/"
        },
        "id": "J2NvBeC3RSPG",
        "outputId": "d8f72ccf-2f09-4e79-b75d-a8664b00cce0"
      },
      "execution_count": 130,
      "outputs": [
        {
          "output_type": "stream",
          "name": "stdout",
          "text": [
            "El determinante por propiedad es: (-448144881.99999875+2.7779625974279644e-08j), el determinante con np. linalg es: -448144882.0000003 \n",
            " el error entre ambos es: 1.5499697269586944e-06\n"
          ]
        }
      ]
    }
  ]
}