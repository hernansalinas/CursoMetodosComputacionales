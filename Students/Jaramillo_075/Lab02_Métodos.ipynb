{
  "cells": [
    {
      "cell_type": "markdown",
      "metadata": {
        "id": "kKNBYkSAIO_-"
      },
      "source": [
        "<a href=\"https://colab.research.google.com/github/hernansalinas/autogrades/blob/main/Laboratorios_Taller/Lab02_python_basico02.ipynb\" target=\"_parent\"><img src=\"https://colab.research.google.com/assets/colab-badge.svg\" alt=\"Open In Colab\"/></a>\n",
        "\n",
        "\n",
        "# Laboratorio 02\n",
        "### Métodos computacionales para físicos  y astrónomos\n",
        "### Universidad de Antioquia\n",
        "### Prof: Hernan D. Salinas Jiménez\n",
        "### Estudiante : Miguel Ángel Jaramillo Valencia\n",
        "\n"
      ]
    },
    {
      "cell_type": "code",
      "execution_count": null,
      "metadata": {
        "colab": {
          "base_uri": "https://localhost:8080/"
        },
        "id": "TFmOxrpqWCiE",
        "outputId": "592ebc9c-6071-495d-f72d-f26f52f35fc9"
      },
      "outputs": [
        {
          "output_type": "stream",
          "name": "stdout",
          "text": [
            "Cloning into 'autogradesMetodosComputacionales'...\n",
            "remote: Enumerating objects: 1160, done.\u001b[K\n",
            "remote: Counting objects: 100% (222/222), done.\u001b[K\n",
            "remote: Compressing objects: 100% (163/163), done.\u001b[K\n",
            "remote: Total 1160 (delta 135), reused 138 (delta 58), pack-reused 938 (from 1)\u001b[K\n",
            "Receiving objects: 100% (1160/1160), 40.05 MiB | 22.32 MiB/s, done.\n",
            "Resolving deltas: 100% (710/710), done.\n"
          ]
        }
      ],
      "source": [
        "# Ejecutar esta celda antes de cada laboratorio\n",
        "!git clone https://github.com/hernansalinas/autogradesMetodosComputacionales.git"
      ]
    },
    {
      "cell_type": "code",
      "execution_count": null,
      "metadata": {
        "id": "5tCaVJVzIRe3"
      },
      "outputs": [],
      "source": [
        "# Ejecutar esta celda antes de cada laboratorio\n",
        "path=\"autogradesMetodosComputacionales/Laboratorios_Taller/libs\"\n",
        "pathL=\"autogradesMetodosComputacionales/Laboratorios_Taller/libs/Lab_02\"\n",
        "%run -i {path}/libUnitTest.py"
      ]
    },
    {
      "cell_type": "markdown",
      "metadata": {
        "id": "l--LTzupJe4I"
      },
      "source": [
        "## Problemas\n",
        "\n",
        "### Factorial\n",
        "1. Elaborar un algoritmo e implementar en python, el factorial de un número entero `n` ingresado por el usuario.\n",
        "\n",
        "1. Si el número es un entero deberá retornal el factorial del número.\n",
        "2. Si el número es negativo deberá aparecer un mensaje tipo string con el mensaje  \"el número no puede ser negativo\"\n",
        "\n",
        "3. Si el número es pertenece a los reales(float) el mensaje será, el número no puede ser real.\n",
        "\n",
        "\n",
        "     ### Ejemplo de Ejecución\n",
        "    ```python\n",
        "\n",
        "    >>> factorial(3)\n",
        "        6\n",
        "\n",
        "    >>> factorial(1987123)\n",
        "        =???\n",
        "```\n"
      ]
    },
    {
      "cell_type": "code",
      "source": [
        "def factorial(n):\n",
        "  if n == 0:\n",
        "    n = 1\n",
        "  if n <= 0:\n",
        "    return('el número no puede ser negativo')\n",
        "\n",
        "  if type(n) == float:\n",
        "    return('El número no puede ser real')\n",
        "\n",
        "  else:\n",
        "    for i in range(1,n):\n",
        "      n *= i\n",
        "    return(n)"
      ],
      "metadata": {
        "id": "NI-bwuyLvwQE"
      },
      "execution_count": null,
      "outputs": []
    },
    {
      "cell_type": "code",
      "source": [
        "factorial(3.2)"
      ],
      "metadata": {
        "colab": {
          "base_uri": "https://localhost:8080/",
          "height": 36
        },
        "id": "bpuBITQ7xYeR",
        "outputId": "e9d8ecbe-5ff7-4529-c035-ea29755519cb"
      },
      "execution_count": null,
      "outputs": [
        {
          "output_type": "execute_result",
          "data": {
            "text/plain": [
              "'El número no puede ser real'"
            ],
            "application/vnd.google.colaboratory.intrinsic+json": {
              "type": "string"
            }
          },
          "metadata": {},
          "execution_count": 5
        }
      ]
    },
    {
      "cell_type": "code",
      "execution_count": null,
      "metadata": {
        "colab": {
          "base_uri": "https://localhost:8080/",
          "height": 248
        },
        "id": "Z_yv_5NEMRqp",
        "outputId": "2d0770bb-eec6-4695-bd40-2859796e5376"
      },
      "outputs": [
        {
          "output_type": "display_data",
          "data": {
            "text/plain": [
              "<IPython.core.display.HTML object>"
            ],
            "text/html": [
              "<style>\n",
              "  table { text-align: left; border-collapse: collapse; margin: 1em; caption-side: bottom; font-family: Sans-Serif; font-size: 12px}\n",
              "  caption { text-align: left; padding: 5px }\n",
              "  th, td { border: 2px solid #BFC9CA; padding: 5px }\n",
              "  th { background-color: #BFC9CA }\n",
              "  .passed { background-color: #76D7C4 }\n",
              "  .failed { background-color: #EC7063 }\n",
              "  .skipped { background-color: #EDBB99 }\n",
              "  .score { background-color: #7DCEA0 }\n",
              "  .results .points { display: none }\n",
              "  .results .message { display: block; font-size:smaller; color:#D35400 }\n",
              "  .results .note { display: block; font-size:smaller; font-decoration:italics }\n",
              "  .results .passed::before  { content: \"Passed\" } \n",
              "  .results .skipped::before  { content: \"Skipped\" } \n",
              "  .results .failed::before  { content: \"Failed\" } \n",
              "  .grade .passed  .message:empty::before { content:\"Passed\" }\n",
              "  .grade .failed  .message:empty::before { content:\"Failed\" }\n",
              "  .grade .skipped .message:empty::before { content:\"Skipped\" }   \n",
              "</style>\n",
              "<table class='results'>\n",
              "  <th class='test'>Test</th><th class='result'>Result</th></tr>\n",
              "<tr>\n",
              "  <td class='test'>\n",
              "    Calcular  el  factorial de un número entero \n",
              "    <div class='message'>Done</div>\n",
              "  </td>\n",
              "  <td class='result passed'></td>\n",
              "</tr>\n",
              "<tr>\n",
              "  <td class='test'>\n",
              "    Prueba para valores negativos \n",
              "    <div class='message'>Done</div>\n",
              "  </td>\n",
              "  <td class='result passed'></td>\n",
              "</tr>\n",
              "<tr>\n",
              "  <td class='test'>\n",
              "    Prueba para valores reales \n",
              "    <div class='message'>Done</div>\n",
              "  </td>\n",
              "  <td class='result passed'></td>\n",
              "</tr>\n",
              "<tr>\n",
              "  <td class='test'>\n",
              "    Prueba para el factorial de 0 \n",
              "    <div class='message'>Done</div>\n",
              "  </td>\n",
              "  <td class='result passed'></td>\n",
              "</tr>  <tr><th class='score'>Total Points</th><th class='score'>4</th></tr></table>\n"
            ]
          },
          "metadata": {}
        }
      ],
      "source": [
        "%run -i {pathL}/test01.py"
      ]
    },
    {
      "cell_type": "markdown",
      "metadata": {
        "id": "Y94jQ_tzdU6l"
      },
      "source": [
        "### Teoria de números\n",
        "\n",
        "Los enunciados 2 y 3 se refieren a la siguiente información:\n",
        "\n",
        "Diseñar un programa en el que entrado  un numero `a`  retorne una variable booleana True or false si cumple que es:\n",
        "\n",
        "2. [Números defectivo](https://es.wikipedia.org/wiki/Número_defectivo) : la suma de los divisores propios es menor que el número.\n",
        "\n",
        "  La rutina se deberá llamar números_defectivos\n",
        "\n",
        "\n",
        "\n",
        "3. [Números abundantes](https://es.wikipedia.org/wiki/Número_abundante): la suma de los divisores es mayor que el número.\n",
        "\n",
        "  La rutina se deberá llamar números_abundantes\n",
        "\n",
        "\n",
        "\n",
        "4. [Números semiperfectos](https://es.wikipedia.org/wiki/N%C3%BAmero_semiperfecto) la suma de todos o algunos de los divisores propios es igual al número.\n",
        "\n",
        "  La rutina se debera llamar numeros_semiperfectos\n",
        "\n",
        "5. [Números perfectos](https://es.wikipedia.org/wiki/N%C3%BAmero_perfecto) la suma de todos sus divisores propios, excepto el mismo numero, es igual al número.\n",
        "\n",
        "   La rutina se deberá llamar numeros_perfectos\n",
        "\n",
        "\n",
        "6. [Números primos](https://es.wikipedia.org/wiki/N%C3%BAmero_primo) el número es divisible unicamente por sí mismo y por 1.\n",
        "   La rutina se deberá llamar numeros_primos\n",
        "\n",
        "\n",
        "Problema no obligatorio:\n",
        "\n",
        "P1. Retornar los 30 primeros números de cada clase"
      ]
    },
    {
      "cell_type": "code",
      "source": [
        "def numeros_defectivos(a):\n",
        "\n",
        "  Divisores = []\n",
        "\n",
        "  for i in range(1, a):\n",
        "    if a % i == 0:\n",
        "      Divisores.append(i)\n",
        "\n",
        "    suma_divisores = sum(Divisores)\n",
        "\n",
        "  N = suma_divisores < a\n",
        "\n",
        "  return(bool(N))"
      ],
      "metadata": {
        "id": "3T3djDVKzYmA"
      },
      "execution_count": null,
      "outputs": []
    },
    {
      "cell_type": "code",
      "execution_count": null,
      "metadata": {
        "colab": {
          "base_uri": "https://localhost:8080/",
          "height": 210
        },
        "id": "XSyDVlnzi9KL",
        "outputId": "39e0b3da-8c4b-4f67-fd8b-ac08d14bd2f2"
      },
      "outputs": [
        {
          "output_type": "display_data",
          "data": {
            "text/plain": [
              "<IPython.core.display.HTML object>"
            ],
            "text/html": [
              "<style>\n",
              "  table { text-align: left; border-collapse: collapse; margin: 1em; caption-side: bottom; font-family: Sans-Serif; font-size: 12px}\n",
              "  caption { text-align: left; padding: 5px }\n",
              "  th, td { border: 2px solid #BFC9CA; padding: 5px }\n",
              "  th { background-color: #BFC9CA }\n",
              "  .passed { background-color: #76D7C4 }\n",
              "  .failed { background-color: #EC7063 }\n",
              "  .skipped { background-color: #EDBB99 }\n",
              "  .score { background-color: #7DCEA0 }\n",
              "  .results .points { display: none }\n",
              "  .results .message { display: block; font-size:smaller; color:#D35400 }\n",
              "  .results .note { display: block; font-size:smaller; font-decoration:italics }\n",
              "  .results .passed::before  { content: \"Passed\" } \n",
              "  .results .skipped::before  { content: \"Skipped\" } \n",
              "  .results .failed::before  { content: \"Failed\" } \n",
              "  .grade .passed  .message:empty::before { content:\"Passed\" }\n",
              "  .grade .failed  .message:empty::before { content:\"Failed\" }\n",
              "  .grade .skipped .message:empty::before { content:\"Skipped\" }   \n",
              "</style>\n",
              "<table class='results'>\n",
              "  <th class='test'>Test</th><th class='result'>Result</th></tr>\n",
              "<tr>\n",
              "  <td class='test'>\n",
              "    Números defectivos, la variable debe ser booleana  \n",
              "    <div class='message'>Done</div>\n",
              "  </td>\n",
              "  <td class='result passed'></td>\n",
              "</tr>\n",
              "<tr>\n",
              "  <td class='test'>\n",
              "    Comprobando si el número 10 es defectivo   \n",
              "    <div class='message'>Done</div>\n",
              "  </td>\n",
              "  <td class='result passed'></td>\n",
              "</tr>\n",
              "<tr>\n",
              "  <td class='test'>\n",
              "    Comprobando si el 6 es un número es defectivo   \n",
              "    <div class='message'>Done</div>\n",
              "  </td>\n",
              "  <td class='result passed'></td>\n",
              "</tr>  <tr><th class='score'>Total Points</th><th class='score'>3</th></tr></table>\n"
            ]
          },
          "metadata": {}
        }
      ],
      "source": [
        "%run -i {pathL}/test02.py"
      ]
    },
    {
      "cell_type": "code",
      "source": [
        "def numeros_abundantes(a):\n",
        "\n",
        "  Divisores = []\n",
        "\n",
        "  for i in range(1, a):\n",
        "    if a % i == 0:\n",
        "      Divisores.append(i)\n",
        "\n",
        "    suma_divisores = sum(Divisores)\n",
        "\n",
        "  N = suma_divisores > a\n",
        "\n",
        "  return(bool(N))"
      ],
      "metadata": {
        "id": "w_D7CJTk7tMl"
      },
      "execution_count": null,
      "outputs": []
    },
    {
      "cell_type": "code",
      "execution_count": null,
      "metadata": {
        "colab": {
          "base_uri": "https://localhost:8080/",
          "height": 210
        },
        "id": "DfHfIk0DkQev",
        "outputId": "8c8d1b18-2a8f-4f82-dbac-337d3162dfb7"
      },
      "outputs": [
        {
          "output_type": "display_data",
          "data": {
            "text/plain": [
              "<IPython.core.display.HTML object>"
            ],
            "text/html": [
              "<style>\n",
              "  table { text-align: left; border-collapse: collapse; margin: 1em; caption-side: bottom; font-family: Sans-Serif; font-size: 12px}\n",
              "  caption { text-align: left; padding: 5px }\n",
              "  th, td { border: 2px solid #BFC9CA; padding: 5px }\n",
              "  th { background-color: #BFC9CA }\n",
              "  .passed { background-color: #76D7C4 }\n",
              "  .failed { background-color: #EC7063 }\n",
              "  .skipped { background-color: #EDBB99 }\n",
              "  .score { background-color: #7DCEA0 }\n",
              "  .results .points { display: none }\n",
              "  .results .message { display: block; font-size:smaller; color:#D35400 }\n",
              "  .results .note { display: block; font-size:smaller; font-decoration:italics }\n",
              "  .results .passed::before  { content: \"Passed\" } \n",
              "  .results .skipped::before  { content: \"Skipped\" } \n",
              "  .results .failed::before  { content: \"Failed\" } \n",
              "  .grade .passed  .message:empty::before { content:\"Passed\" }\n",
              "  .grade .failed  .message:empty::before { content:\"Failed\" }\n",
              "  .grade .skipped .message:empty::before { content:\"Skipped\" }   \n",
              "</style>\n",
              "<table class='results'>\n",
              "  <th class='test'>Test</th><th class='result'>Result</th></tr>\n",
              "<tr>\n",
              "  <td class='test'>\n",
              "    Números abundantes, la variable debe ser booleana  \n",
              "    <div class='message'>Done</div>\n",
              "  </td>\n",
              "  <td class='result passed'></td>\n",
              "</tr>\n",
              "<tr>\n",
              "  <td class='test'>\n",
              "    Comprobando si el número 18 es abundantes   \n",
              "    <div class='message'>Done</div>\n",
              "  </td>\n",
              "  <td class='result passed'></td>\n",
              "</tr>\n",
              "<tr>\n",
              "  <td class='test'>\n",
              "    Comprobando si el 11 es un número  abundante   \n",
              "    <div class='message'>Done</div>\n",
              "  </td>\n",
              "  <td class='result passed'></td>\n",
              "</tr>  <tr><th class='score'>Total Points</th><th class='score'>3</th></tr></table>\n"
            ]
          },
          "metadata": {}
        }
      ],
      "source": [
        "%run -i {pathL}/test03.py"
      ]
    },
    {
      "cell_type": "code",
      "source": [
        "from itertools import combinations\n",
        "\n",
        "def numeros_semiperfectos(a):\n",
        "\n",
        "  Divisores = []\n",
        "\n",
        "  for i in range(1, a):\n",
        "    if a % i == 0:\n",
        "      Divisores.append(i)\n",
        "\n",
        "\n",
        "  for i in range(1, len(Divisores)+1):\n",
        "    combinaciones = list(combinations(Divisores, i))\n",
        "\n",
        "    for n in combinaciones:\n",
        "      if sum(n) == a:\n",
        "        return(True)\n",
        "\n",
        "  return(False)\n"
      ],
      "metadata": {
        "id": "54a7jbJd4uQ_"
      },
      "execution_count": null,
      "outputs": []
    },
    {
      "cell_type": "code",
      "source": [
        "numeros_semiperfectos(10)"
      ],
      "metadata": {
        "colab": {
          "base_uri": "https://localhost:8080/"
        },
        "id": "5UfYeisLAccP",
        "outputId": "dae66457-81f1-4f9e-8069-5b90864046fc"
      },
      "execution_count": null,
      "outputs": [
        {
          "output_type": "execute_result",
          "data": {
            "text/plain": [
              "False"
            ]
          },
          "metadata": {},
          "execution_count": 12
        }
      ]
    },
    {
      "cell_type": "code",
      "execution_count": null,
      "metadata": {
        "id": "MJzLOXxHqKrz",
        "colab": {
          "base_uri": "https://localhost:8080/",
          "height": 210
        },
        "outputId": "b24b14fb-11d7-4650-c551-a2694df613c2"
      },
      "outputs": [
        {
          "output_type": "display_data",
          "data": {
            "text/plain": [
              "<IPython.core.display.HTML object>"
            ],
            "text/html": [
              "<style>\n",
              "  table { text-align: left; border-collapse: collapse; margin: 1em; caption-side: bottom; font-family: Sans-Serif; font-size: 12px}\n",
              "  caption { text-align: left; padding: 5px }\n",
              "  th, td { border: 2px solid #BFC9CA; padding: 5px }\n",
              "  th { background-color: #BFC9CA }\n",
              "  .passed { background-color: #76D7C4 }\n",
              "  .failed { background-color: #EC7063 }\n",
              "  .skipped { background-color: #EDBB99 }\n",
              "  .score { background-color: #7DCEA0 }\n",
              "  .results .points { display: none }\n",
              "  .results .message { display: block; font-size:smaller; color:#D35400 }\n",
              "  .results .note { display: block; font-size:smaller; font-decoration:italics }\n",
              "  .results .passed::before  { content: \"Passed\" } \n",
              "  .results .skipped::before  { content: \"Skipped\" } \n",
              "  .results .failed::before  { content: \"Failed\" } \n",
              "  .grade .passed  .message:empty::before { content:\"Passed\" }\n",
              "  .grade .failed  .message:empty::before { content:\"Failed\" }\n",
              "  .grade .skipped .message:empty::before { content:\"Skipped\" }   \n",
              "</style>\n",
              "<table class='results'>\n",
              "  <th class='test'>Test</th><th class='result'>Result</th></tr>\n",
              "<tr>\n",
              "  <td class='test'>\n",
              "    Números semiperfectos, la variable debe ser booleana  \n",
              "    <div class='message'>Done</div>\n",
              "  </td>\n",
              "  <td class='result passed'></td>\n",
              "</tr>\n",
              "<tr>\n",
              "  <td class='test'>\n",
              "    Comprobando si el número 24 es semiperfectos   \n",
              "    <div class='message'>Done</div>\n",
              "  </td>\n",
              "  <td class='result passed'></td>\n",
              "</tr>\n",
              "<tr>\n",
              "  <td class='test'>\n",
              "    Comprobando si el 3 es un número  semiperfectos   \n",
              "    <div class='message'>Done</div>\n",
              "  </td>\n",
              "  <td class='result passed'></td>\n",
              "</tr>  <tr><th class='score'>Total Points</th><th class='score'>3</th></tr></table>\n"
            ]
          },
          "metadata": {}
        }
      ],
      "source": [
        "%run -i {pathL}/test04.py"
      ]
    },
    {
      "cell_type": "code",
      "source": [
        "def numeros_perfectos(a):\n",
        "\n",
        "  Divisores = []\n",
        "\n",
        "  for i in range(1, a):\n",
        "    if a % i == 0:\n",
        "      Divisores.append(i)\n",
        "\n",
        "\n",
        "  for i in range(1, len(Divisores)+1):\n",
        "    combinaciones = list(combinations(Divisores, i))\n",
        "\n",
        "    for n in combinaciones:\n",
        "      if sum(n) == a:\n",
        "        return(True)\n",
        "\n",
        "  return(False)"
      ],
      "metadata": {
        "id": "iRQzp1_FHdE5"
      },
      "execution_count": null,
      "outputs": []
    },
    {
      "cell_type": "code",
      "execution_count": null,
      "metadata": {
        "id": "m9bNF9I6qMnD",
        "colab": {
          "base_uri": "https://localhost:8080/",
          "height": 210
        },
        "outputId": "c17368f3-524b-46fd-e636-b262a2249900"
      },
      "outputs": [
        {
          "output_type": "display_data",
          "data": {
            "text/plain": [
              "<IPython.core.display.HTML object>"
            ],
            "text/html": [
              "<style>\n",
              "  table { text-align: left; border-collapse: collapse; margin: 1em; caption-side: bottom; font-family: Sans-Serif; font-size: 12px}\n",
              "  caption { text-align: left; padding: 5px }\n",
              "  th, td { border: 2px solid #BFC9CA; padding: 5px }\n",
              "  th { background-color: #BFC9CA }\n",
              "  .passed { background-color: #76D7C4 }\n",
              "  .failed { background-color: #EC7063 }\n",
              "  .skipped { background-color: #EDBB99 }\n",
              "  .score { background-color: #7DCEA0 }\n",
              "  .results .points { display: none }\n",
              "  .results .message { display: block; font-size:smaller; color:#D35400 }\n",
              "  .results .note { display: block; font-size:smaller; font-decoration:italics }\n",
              "  .results .passed::before  { content: \"Passed\" } \n",
              "  .results .skipped::before  { content: \"Skipped\" } \n",
              "  .results .failed::before  { content: \"Failed\" } \n",
              "  .grade .passed  .message:empty::before { content:\"Passed\" }\n",
              "  .grade .failed  .message:empty::before { content:\"Failed\" }\n",
              "  .grade .skipped .message:empty::before { content:\"Skipped\" }   \n",
              "</style>\n",
              "<table class='results'>\n",
              "  <th class='test'>Test</th><th class='result'>Result</th></tr>\n",
              "<tr>\n",
              "  <td class='test'>\n",
              "    Números perfectos, la variable debe ser booleana  \n",
              "    <div class='message'>Done</div>\n",
              "  </td>\n",
              "  <td class='result passed'></td>\n",
              "</tr>\n",
              "<tr>\n",
              "  <td class='test'>\n",
              "    Comprobando si el número 28 es perfecto   \n",
              "    <div class='message'>Done</div>\n",
              "  </td>\n",
              "  <td class='result passed'></td>\n",
              "</tr>\n",
              "<tr>\n",
              "  <td class='test'>\n",
              "    Comprobando si el 2 es un número  perfecto   \n",
              "    <div class='message'>Done</div>\n",
              "  </td>\n",
              "  <td class='result passed'></td>\n",
              "</tr>  <tr><th class='score'>Total Points</th><th class='score'>3</th></tr></table>\n"
            ]
          },
          "metadata": {}
        }
      ],
      "source": [
        "%run -i {pathL}/test05.py"
      ]
    },
    {
      "cell_type": "code",
      "source": [
        "def numeros_primos(a):\n",
        "  Divisores = []\n",
        "\n",
        "  for i in range(1, a):\n",
        "    if a % i == 0:\n",
        "      Divisores.append(i)\n",
        "\n",
        "  if len(Divisores) == 1:\n",
        "   return(True)\n",
        "  else:\n",
        "    return(False)"
      ],
      "metadata": {
        "id": "crSoSLY7MaBC"
      },
      "execution_count": null,
      "outputs": []
    },
    {
      "cell_type": "code",
      "execution_count": null,
      "metadata": {
        "id": "4uRbgtG8qN25",
        "colab": {
          "base_uri": "https://localhost:8080/",
          "height": 210
        },
        "outputId": "fec96dd1-c486-47ac-9c0f-8afdaf469173"
      },
      "outputs": [
        {
          "output_type": "display_data",
          "data": {
            "text/plain": [
              "<IPython.core.display.HTML object>"
            ],
            "text/html": [
              "<style>\n",
              "  table { text-align: left; border-collapse: collapse; margin: 1em; caption-side: bottom; font-family: Sans-Serif; font-size: 12px}\n",
              "  caption { text-align: left; padding: 5px }\n",
              "  th, td { border: 2px solid #BFC9CA; padding: 5px }\n",
              "  th { background-color: #BFC9CA }\n",
              "  .passed { background-color: #76D7C4 }\n",
              "  .failed { background-color: #EC7063 }\n",
              "  .skipped { background-color: #EDBB99 }\n",
              "  .score { background-color: #7DCEA0 }\n",
              "  .results .points { display: none }\n",
              "  .results .message { display: block; font-size:smaller; color:#D35400 }\n",
              "  .results .note { display: block; font-size:smaller; font-decoration:italics }\n",
              "  .results .passed::before  { content: \"Passed\" } \n",
              "  .results .skipped::before  { content: \"Skipped\" } \n",
              "  .results .failed::before  { content: \"Failed\" } \n",
              "  .grade .passed  .message:empty::before { content:\"Passed\" }\n",
              "  .grade .failed  .message:empty::before { content:\"Failed\" }\n",
              "  .grade .skipped .message:empty::before { content:\"Skipped\" }   \n",
              "</style>\n",
              "<table class='results'>\n",
              "  <th class='test'>Test</th><th class='result'>Result</th></tr>\n",
              "<tr>\n",
              "  <td class='test'>\n",
              "    Números primos, la variable debe ser booleana  \n",
              "    <div class='message'>Done</div>\n",
              "  </td>\n",
              "  <td class='result passed'></td>\n",
              "</tr>\n",
              "<tr>\n",
              "  <td class='test'>\n",
              "    Comprobando si el número 43 es primos   \n",
              "    <div class='message'>Done</div>\n",
              "  </td>\n",
              "  <td class='result passed'></td>\n",
              "</tr>\n",
              "<tr>\n",
              "  <td class='test'>\n",
              "    Comprobando si el 50 es un número  primos   \n",
              "    <div class='message'>Done</div>\n",
              "  </td>\n",
              "  <td class='result passed'></td>\n",
              "</tr>  <tr><th class='score'>Total Points</th><th class='score'>3</th></tr></table>\n"
            ]
          },
          "metadata": {}
        }
      ],
      "source": [
        "%run -i {pathL}/test06.py"
      ]
    },
    {
      "cell_type": "markdown",
      "metadata": {
        "id": "WXOT_ssoJh8x"
      },
      "source": [
        "\n",
        "7. Diseñar un programa en el que entrado dos números `a`  y `b` retorne una variable booleana **True** o **false**.\n",
        "\n",
        "  [Números amigos](https://es.wikipedia.org/wiki/N%C3%BAmeros_amigos) `a` y `b` tales que a es la suma de los divisores propios de `b` y viceversa.\n",
        "    La rutina se debera llamar numeros_amigos\n",
        "\n",
        "\n",
        "\n",
        "\n",
        "P2. Retornar los 10 primeros pares de numeros perfectos, semiperfectos, amigos\n",
        "\n"
      ]
    },
    {
      "cell_type": "code",
      "source": [
        "def numeros_amigos(a, b):\n",
        "    Divisores = []\n",
        "    Divisores2 = []\n",
        "\n",
        "    for i in range(1, a):\n",
        "        if a % i == 0:\n",
        "            Divisores.append(i)\n",
        "\n",
        "    for j in range(1, b):\n",
        "        if b % j == 0:\n",
        "            Divisores2.append(j)\n",
        "\n",
        "    suma_divisores = sum(Divisores)\n",
        "    suma_divisores2 = sum(Divisores2)\n",
        "\n",
        "    if suma_divisores == b and suma_divisores2 == a:\n",
        "        return True\n",
        "    else:\n",
        "        return False"
      ],
      "metadata": {
        "id": "GpDE9NYzRbAC"
      },
      "execution_count": null,
      "outputs": []
    },
    {
      "cell_type": "code",
      "execution_count": null,
      "metadata": {
        "colab": {
          "base_uri": "https://localhost:8080/",
          "height": 210
        },
        "id": "VKsxuvsll5gm",
        "outputId": "452e7134-35bd-42d0-aed3-427e448b41d3"
      },
      "outputs": [
        {
          "output_type": "display_data",
          "data": {
            "text/plain": [
              "<IPython.core.display.HTML object>"
            ],
            "text/html": [
              "<style>\n",
              "  table { text-align: left; border-collapse: collapse; margin: 1em; caption-side: bottom; font-family: Sans-Serif; font-size: 12px}\n",
              "  caption { text-align: left; padding: 5px }\n",
              "  th, td { border: 2px solid #BFC9CA; padding: 5px }\n",
              "  th { background-color: #BFC9CA }\n",
              "  .passed { background-color: #76D7C4 }\n",
              "  .failed { background-color: #EC7063 }\n",
              "  .skipped { background-color: #EDBB99 }\n",
              "  .score { background-color: #7DCEA0 }\n",
              "  .results .points { display: none }\n",
              "  .results .message { display: block; font-size:smaller; color:#D35400 }\n",
              "  .results .note { display: block; font-size:smaller; font-decoration:italics }\n",
              "  .results .passed::before  { content: \"Passed\" } \n",
              "  .results .skipped::before  { content: \"Skipped\" } \n",
              "  .results .failed::before  { content: \"Failed\" } \n",
              "  .grade .passed  .message:empty::before { content:\"Passed\" }\n",
              "  .grade .failed  .message:empty::before { content:\"Failed\" }\n",
              "  .grade .skipped .message:empty::before { content:\"Skipped\" }   \n",
              "</style>\n",
              "<table class='results'>\n",
              "  <th class='test'>Test</th><th class='result'>Result</th></tr>\n",
              "<tr>\n",
              "  <td class='test'>\n",
              "    Números amigos, la variable debe ser booleana  \n",
              "    <div class='message'>Done</div>\n",
              "  </td>\n",
              "  <td class='result passed'></td>\n",
              "</tr>\n",
              "<tr>\n",
              "  <td class='test'>\n",
              "    Comprobando si los números (2620, 2924) son amigos   \n",
              "    <div class='message'>Done</div>\n",
              "  </td>\n",
              "  <td class='result passed'></td>\n",
              "</tr>\n",
              "<tr>\n",
              "  <td class='test'>\n",
              "    Comprobando si  (170, 196) no es un número amigo   \n",
              "    <div class='message'>Done</div>\n",
              "  </td>\n",
              "  <td class='result passed'></td>\n",
              "</tr>  <tr><th class='score'>Total Points</th><th class='score'>3</th></tr></table>\n"
            ]
          },
          "metadata": {}
        }
      ],
      "source": [
        "%run -i {pathL}/test07.py"
      ]
    },
    {
      "cell_type": "markdown",
      "metadata": {
        "id": "CTw0tXZlJoDp"
      },
      "source": [
        "3. Determine si un número `n` entero ingresado por el usuario es un [palíndromo](https://en.wikipedia.org/wiki/Palindromic_number), (Retorne `True` en caso afirmativo y `False` en caso contrario)\n",
        "\n",
        "```python\n",
        "\n",
        "\n",
        "    >>> palindromo(3333333)\n",
        "        True\n",
        "\n",
        "    >>> palindromo(2323)\n",
        "        True\n",
        "        \n",
        "    >>> palindromo(1111349111111)\n",
        "        False\n",
        "```\n",
        "\n",
        "\n"
      ]
    },
    {
      "cell_type": "code",
      "source": [
        "def palindromo(a):\n",
        "  numero_ = []\n",
        "  numero = str(a)\n",
        "\n",
        "  for i in numero:\n",
        "    numero_.append(i)\n",
        "\n",
        "  n = numero_[::-1]\n",
        "\n",
        "  if n == numero_:\n",
        "    return True\n",
        "  else:\n",
        "    return False"
      ],
      "metadata": {
        "id": "PyYsXB-bShOp"
      },
      "execution_count": null,
      "outputs": []
    },
    {
      "cell_type": "code",
      "source": [
        "palindromo(2332)"
      ],
      "metadata": {
        "colab": {
          "base_uri": "https://localhost:8080/"
        },
        "id": "PE-8FSfzWsij",
        "outputId": "5443a5c7-5dc6-4835-d2fb-f25893b84463"
      },
      "execution_count": null,
      "outputs": [
        {
          "output_type": "execute_result",
          "data": {
            "text/plain": [
              "True"
            ]
          },
          "metadata": {},
          "execution_count": 21
        }
      ]
    },
    {
      "cell_type": "markdown",
      "metadata": {
        "id": "hBsfPzh_JuZg"
      },
      "source": [
        "8 Construir un programa en el que  entrado un arreglo de números se  ordenen de forma ascendente, Ver algoritmo\n",
        "[Quicksort](https://es.wikipedia.org/wiki/Quicksort).\n",
        "\n",
        "\n",
        "```python\n",
        "\n",
        "\n",
        "<<< v = [22, 32, 42, 12, 22, 31, 41, 11, 12, 232, 24, 12, 22]\n",
        "<<< def quicksort(v):\n",
        "\n",
        "<<<     return v\n",
        "<<< w = print(quicksort(v))\n",
        "<<< [11, 12, 12, 12, 22, 22, 22, 24, 31, 32, 41, 42, 232]\n",
        "\n",
        "```\n",
        "\n",
        "Sólo para comprobar tu código,  puedes hacer uso del comando sort de python.\n",
        "```python\n",
        "<<< b = [22, 32, 42, 12, 22, 31, 41, 11, 12, 232, 24, 12, 22]\n",
        "\n",
        "<<< print(b.sort())\n",
        "\n",
        "<<< [11, 12, 12, 12, 22, 22, 22, 24, 31, 32, 41, 42, 232]\n",
        "```"
      ]
    },
    {
      "cell_type": "code",
      "source": [
        "def quicksort(lista):\n",
        "\n",
        "  if len(lista) < 2:\n",
        "    return lista\n",
        "\n",
        "  pivote = lista[len(lista) // 2]\n",
        "\n",
        "  izquierda = []\n",
        "  derecha = []\n",
        "  pivote1 = []\n",
        "\n",
        "  for i in (lista):\n",
        "    if i < pivote:\n",
        "      izquierda.append(i)\n",
        "\n",
        "    elif i > pivote:\n",
        "      derecha.append(i)\n",
        "\n",
        "    else:\n",
        "      pivote1.append(i)\n",
        "\n",
        "  return  quicksort(izquierda) + (pivote1) + quicksort(derecha)"
      ],
      "metadata": {
        "id": "t1PsYebLz_S7"
      },
      "execution_count": null,
      "outputs": []
    },
    {
      "cell_type": "code",
      "source": [
        "quicksort([1,9,10,11,6])"
      ],
      "metadata": {
        "colab": {
          "base_uri": "https://localhost:8080/"
        },
        "id": "Y7zQa0JA8W1I",
        "outputId": "72e49ff2-093a-4126-d5a2-722746b04ccd"
      },
      "execution_count": null,
      "outputs": [
        {
          "output_type": "execute_result",
          "data": {
            "text/plain": [
              "[1, 6, 9, 10, 11]"
            ]
          },
          "metadata": {},
          "execution_count": 108
        }
      ]
    },
    {
      "cell_type": "code",
      "source": [
        "quicksort([1,9,10,11,6])"
      ],
      "metadata": {
        "colab": {
          "base_uri": "https://localhost:8080/"
        },
        "id": "hftvuolb702y",
        "outputId": "71a7d1b7-27de-4ded-eda7-1565a07bae43"
      },
      "execution_count": null,
      "outputs": [
        {
          "output_type": "execute_result",
          "data": {
            "text/plain": [
              "[1, 6, 9, 10, 11]"
            ]
          },
          "metadata": {},
          "execution_count": 104
        }
      ]
    }
  ],
  "metadata": {
    "colab": {
      "provenance": []
    },
    "kernelspec": {
      "display_name": "Python 3 (ipykernel)",
      "language": "python",
      "name": "python3"
    },
    "language_info": {
      "codemirror_mode": {
        "name": "ipython",
        "version": 3
      },
      "file_extension": ".py",
      "mimetype": "text/x-python",
      "name": "python",
      "nbconvert_exporter": "python",
      "pygments_lexer": "ipython3",
      "version": "3.10.9"
    }
  },
  "nbformat": 4,
  "nbformat_minor": 0
}