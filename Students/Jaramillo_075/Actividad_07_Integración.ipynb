{
  "nbformat": 4,
  "nbformat_minor": 0,
  "metadata": {
    "colab": {
      "provenance": []
    },
    "kernelspec": {
      "name": "python3",
      "display_name": "Python 3"
    },
    "language_info": {
      "name": "python"
    }
  },
  "cells": [
    {
      "cell_type": "code",
      "execution_count": null,
      "metadata": {
        "id": "rZuc8vXcWuxy"
      },
      "outputs": [],
      "source": [
        "#@title Librerias\n",
        "import numpy as np\n",
        "import matplotlib.pyplot as plt\n",
        "import pandas as pd\n",
        "import sympy as sp\n",
        "from scipy.integrate import simpson, romberg, trapezoid"
      ]
    },
    {
      "cell_type": "markdown",
      "source": [
        "# Actividad 07: Integración\n",
        "\n",
        "---\n",
        "### Profesor: Juan Marcos Marín\n",
        "### Nombre: Miguel Ángel Jaramillo Valencia\n",
        "*Métodos computacionales 2024-II*\n",
        "\n",
        "---"
      ],
      "metadata": {
        "id": "MGwGfceuWxy3"
      }
    },
    {
      "cell_type": "markdown",
      "source": [
        "#1\n",
        "* Implemente una función para el **método de integración de Romberg** definiendo un límite de tolerancia de 1e-8 y/o un máximo de iteraciones de 10.\n",
        "\n",
        "* Encuentre la integral para\n",
        "\n",
        "$$\\int_0^{\\pi/4} dx\\, e^{3x}\\cdot \\sin(x)$$\n",
        "\n",
        "* Imprima su resultado y compare los valores dados por `scipy.integrate.romberg`\n",
        "\n",
        "* Finalmente, encuentre el valor del error, hallando el valor exacto usando `sympy`\n",
        "\n"
      ],
      "metadata": {
        "id": "_qpgPAtHNgPB"
      }
    },
    {
      "cell_type": "code",
      "source": [
        "def Romberg(f, a, b, tol = 1e-8, max_iter = 10):\n",
        "\n",
        "  h = 1\n",
        "  R = np.zeros([max_iter, max_iter])\n",
        "\n",
        "  R[0,0] = h/2 * (f(a) + f(b))\n",
        "\n",
        "  integral = f(a) + f(b)\n",
        "\n",
        "  for i in range(1,max_iter):\n",
        "\n",
        "    h /= 2\n",
        "\n",
        "    integral +=  2 * (f(h))\n",
        "\n",
        "    R[i,0] =  h * (integral)\n",
        "\n",
        "    for j in range(1, i+1):\n",
        "\n",
        "      R[i,j] = R[i,j-1] + (R[i,j-1] - R[i-1, j-1]) / (4 ** j - 1)\n",
        "\n",
        "    if abs(R[i, i] - R[i-1, i-1]) < tol:\n",
        "      return R[i,i], R[:i+1, :i+1]\n",
        "\n",
        "  return R[i, i], R[:i+1, :i+1]"
      ],
      "metadata": {
        "id": "Y0nXXFcnNe2R"
      },
      "execution_count": null,
      "outputs": []
    },
    {
      "cell_type": "code",
      "source": [
        "f = lambda x: np.exp(3 * x) * np.sin(x)\n",
        "Romberg(f, 0, np.pi/4)"
      ],
      "metadata": {
        "colab": {
          "base_uri": "https://localhost:8080/"
        },
        "id": "aWib14_H4HRb",
        "outputId": "7a29606b-60b1-480d-c6ea-a116e85d0a3b"
      },
      "execution_count": null,
      "outputs": [
        {
          "output_type": "execute_result",
          "data": {
            "text/plain": [
              "(0.016004336793355854,\n",
              " array([[3.73024427, 0.        , 0.        , 0.        , 0.        ,\n",
              "         0.        , 0.        , 0.        , 0.        , 0.        ],\n",
              "        [5.87888047, 6.59509253, 0.        , 0.        , 0.        ,\n",
              "         0.        , 0.        , 0.        , 0.        , 0.        ],\n",
              "        [3.20131733, 2.30879628, 2.0230432 , 0.        , 0.        ,\n",
              "         0.        , 0.        , 0.        , 0.        , 0.        ],\n",
              "        [1.64600883, 1.12757266, 1.04882442, 1.03336063, 0.        ,\n",
              "         0.        , 0.        , 0.        , 0.        , 0.        ],\n",
              "        [0.83242195, 0.56122633, 0.52346991, 0.51513095, 0.51309867,\n",
              "         0.        , 0.        , 0.        , 0.        , 0.        ],\n",
              "        [0.41835572, 0.28033364, 0.26160746, 0.25745091, 0.2564404 ,\n",
              "         0.25618951, 0.        , 0.        , 0.        , 0.        ],\n",
              "        [0.20968955, 0.14013416, 0.13078753, 0.12871103, 0.12820616,\n",
              "         0.12808081, 0.12804953, 0.        , 0.        , 0.        ],\n",
              "        [0.10496974, 0.07006314, 0.06539173, 0.06435371, 0.06410132,\n",
              "         0.06403866, 0.06402302, 0.06401911, 0.        , 0.        ],\n",
              "        [0.05251575, 0.03503108, 0.03269561, 0.03217663, 0.03205044,\n",
              "         0.03201911, 0.03201129, 0.03200934, 0.03200885, 0.        ],\n",
              "        [0.02626555, 0.01751548, 0.01634777, 0.01608829, 0.01602519,\n",
              "         0.01600953, 0.01600562, 0.01600464, 0.0160044 , 0.01600434]]))"
            ]
          },
          "metadata": {},
          "execution_count": 49
        }
      ]
    },
    {
      "cell_type": "markdown",
      "source": [
        "#2\n",
        "\n",
        "* Usando los *métodos trapezoidal compuesto*, *simpson 1/3* y de *medio punto* encuentre la siguiente integral,\n",
        "\n",
        "$$\\int_e^{1+e} dx\\, \\frac{1}{x\\ln x}$$\n",
        "\n",
        "* Luego, haga un estudio de la convergencia en términos del valor de $h$ o de los sub-intervalos de la función. ¿Cuál es mejor?\n"
      ],
      "metadata": {
        "id": "Db9dUFTSQcLY"
      }
    },
    {
      "cell_type": "code",
      "source": [
        "def trap_comp(f, a, b, n):\n",
        "\n",
        "  h = (b - a) / n\n",
        "  integral = f(a) + f(b)\n",
        "\n",
        "  for i in range(1, n):\n",
        "\n",
        "    integral +=  2 * (f(a + i * h))\n",
        "\n",
        "  return  (h/2) * integral\n",
        "\n",
        "def simpson1_3(f, a, b, n):\n",
        "\n",
        "  h = (b - a) / n\n",
        "  integral = (f(a) + f(b))\n",
        "\n",
        "  for i in range(1, n, 2):\n",
        "    integral += 4 * f(a + i * h)\n",
        "\n",
        "  for i in range(2, n, 2):\n",
        "    integral += 2 * f(a + i * h)\n",
        "\n",
        "  return integral * h / 3\n",
        "\n",
        "def punto_medio(f, a, b, n):\n",
        "  h = (b - a)/ n\n",
        "  suma = 0\n",
        "  for i in range(0, n):\n",
        "\n",
        "   xi = a + i * h\n",
        "\n",
        "   suma += f(xi + h / 2)\n",
        "\n",
        "  return h * suma"
      ],
      "metadata": {
        "id": "T7XDmhFFt6Kl"
      },
      "execution_count": null,
      "outputs": []
    },
    {
      "cell_type": "code",
      "source": [
        "f = lambda x: 1 / (x * np.log(x))\n",
        "x = sp.symbols('x')\n",
        "f1 = 1 / (x * sp.log(x))\n",
        "print(f'el valor de la integral usando trapezoides es: {trap_comp(f, np.e, np.e+1, 10)}')\n",
        "print(f'el valor de la integral usando Simpson 1/3 es: {simpson1_3(f, np.e, np.e+1, 10 )}')\n",
        "print(f'el valor de la integral usando punto medio es: {punto_medio(f, np.e, np.e+1, 10 )}')\n",
        "print(f'el valor exacto de la integral es: {sp.integrate(f1,(x, np.e, np.e + 1))}')"
      ],
      "metadata": {
        "id": "uEPXP21uQc_o",
        "colab": {
          "base_uri": "https://localhost:8080/"
        },
        "outputId": "0ab98a41-6260-4e4b-96a8-110239e536d3"
      },
      "execution_count": null,
      "outputs": [
        {
          "output_type": "stream",
          "name": "stdout",
          "text": [
            "el valor de la integral usando trapezoides es: 0.27265851808866515\n",
            "el valor de la integral usando Simpson 1/3 es: 0.2725141807832367\n",
            "el valor de la integral usando punto medio es: 0.27244159005549795\n",
            "el valor exacto de la integral es: 0.272513880502583\n"
          ]
        }
      ]
    },
    {
      "cell_type": "markdown",
      "source": [
        "Vamos a variar los $h$ para estudiar la convergencia de los métodos"
      ],
      "metadata": {
        "id": "qrXuUOdcGV6c"
      }
    },
    {
      "cell_type": "code",
      "source": [
        "def trap_comp(f, a, b, n, h):\n",
        "\n",
        "    integral = f(a) + f(b)\n",
        "\n",
        "    for i in range(1, n):\n",
        "\n",
        "      integral +=  2 * (f(a + i * h))\n",
        "\n",
        "    return  (h/2) * integral\n",
        "\n",
        "h = np.arange(1e-4, 0.1, 0.001)\n",
        "\n",
        "T = trap_comp(f, np.e, np.e+1, 10, h)\n",
        "C = abs(T - float(sp.integrate(f1,(x, np.e, np.e + 1))))\n",
        "np.argmin(C), C.min(), h[np.argmin(C)]"
      ],
      "metadata": {
        "colab": {
          "base_uri": "https://localhost:8080/"
        },
        "id": "4RbQbsDd-bqq",
        "outputId": "72763953-36eb-4e0d-9931-2b11627b7962"
      },
      "execution_count": null,
      "outputs": [
        {
          "output_type": "execute_result",
          "data": {
            "text/plain": [
              "(99, 0.001749014967892093, 0.09910000000000001)"
            ]
          },
          "metadata": {},
          "execution_count": 133
        }
      ]
    },
    {
      "cell_type": "code",
      "source": [
        "def simpson1_3(f, a, b, n, h):\n",
        "\n",
        "  integral = (f(a) + f(b))\n",
        "\n",
        "  for i in range(1, n, 2):\n",
        "    integral += 4 * f(a + i * h)\n",
        "\n",
        "  for i in range(2, n, 2):\n",
        "    integral += 2 * f(a + i * h)\n",
        "\n",
        "  return integral * h / 3\n",
        "\n",
        "S = simpson1_3(f, np.e, np.e+1, 100, h)\n",
        "C = abs(S - float(sp.integrate(f1,(x, np.e, np.e + 1))))\n",
        "np.argmin(C), np.min(C),h[np.argmin(C)]"
      ],
      "metadata": {
        "colab": {
          "base_uri": "https://localhost:8080/"
        },
        "id": "2FhsT1p1DpCr",
        "outputId": "60a6000f-d524-4305-e96c-fdd432313122"
      },
      "execution_count": null,
      "outputs": [
        {
          "output_type": "execute_result",
          "data": {
            "text/plain": [
              "(10, 0.0020463043751273724, 0.0101)"
            ]
          },
          "metadata": {},
          "execution_count": 134
        }
      ]
    },
    {
      "cell_type": "code",
      "source": [
        "def punto_medio(f, a, b, n, h):\n",
        "\n",
        " suma = 0\n",
        " for i in range(0, n):\n",
        "\n",
        "   xi = a + i * h\n",
        "\n",
        " suma += f(xi + h / 2)\n",
        "\n",
        " return h * suma\n",
        "\n",
        "S = punto_medio(f, np.e, np.e+1, 100, h)\n",
        "C = abs(S - float(sp.integrate(f1,(x, np.e, np.e + 1))))\n",
        "np.argmin(C), C.min(),h[np.argmin(C)]"
      ],
      "metadata": {
        "colab": {
          "base_uri": "https://localhost:8080/"
        },
        "id": "hjy8ZgRzFz7n",
        "outputId": "37a1fb26-25c6-4ae4-bf97-e8247acdf717"
      },
      "execution_count": null,
      "outputs": [
        {
          "output_type": "execute_result",
          "data": {
            "text/plain": [
              "(59, 0.2693194858712926, 0.05910000000000001)"
            ]
          },
          "metadata": {},
          "execution_count": 135
        }
      ]
    },
    {
      "cell_type": "markdown",
      "source": [
        "# Se observa que el error mínimo que pueden alcanzar los dos primeros métodos es de alrededor de 0.2 con los h correspondientemente presentados."
      ],
      "metadata": {
        "id": "9chI-aAwHolg"
      }
    },
    {
      "cell_type": "markdown",
      "source": [
        "#3\n",
        "Usando la siguiente función:\n",
        "\n",
        "\n",
        "\n",
        "```python\n",
        "def gauss_quad_standard(func, n):\n",
        "    \"\"\"\n",
        "    Calcula la integral de una función en el intervalo [-1, 1]\n",
        "    utilizando cuadratura gaussiana.\n",
        "\n",
        "    Parameters:\n",
        "    - func: La función a integrar.\n",
        "    - n: Número de puntos para la cuadratura (grado del polinomio de Legendre).\n",
        "\n",
        "    Returns:\n",
        "    - Aproximación de la integral.\n",
        "    \"\"\"\n",
        "    # Obtener raíces y pesos del polinomio de Legendre\n",
        "    x, w = roots_legendre(n)\n",
        "\n",
        "    # Evaluar la suma ponderada\n",
        "    integral = np.sum(w * func(x))\n",
        "    return integral\n",
        "```\n",
        "\n",
        "Modifique la función `gauss_quad_standard` de forma tal que no este restringida para $[-1,1]$ sino para cualquier intervalo $[a,b]$. Luego, encuentre la integral del *punto 2*.\n",
        "\n",
        "\n",
        "\n"
      ],
      "metadata": {
        "id": "3fLo8sm8RqA0"
      }
    },
    {
      "cell_type": "code",
      "source": [
        "from scipy.special import roots_legendre\n",
        "def gauss_quad_standard(func, a, b, n):\n",
        "\n",
        "    xi, wi = roots_legendre(n)\n",
        "    n1 = (b - a) / 2\n",
        "    n2 = (a + b) / 2\n",
        "\n",
        "    f = lambda x: func(n1 * x + n2)\n",
        "\n",
        "    # Evaluar la suma ponderada\n",
        "    integral = n1 * np.sum(wi * f(xi))\n",
        "    return integral"
      ],
      "metadata": {
        "id": "0XQga3HfSE9n"
      },
      "execution_count": null,
      "outputs": []
    },
    {
      "cell_type": "code",
      "source": [
        "f = lambda x: 1 / (x * np.log(x))\n",
        "gauss_quad_standard(f, np.e, np.e +1, 10)"
      ],
      "metadata": {
        "colab": {
          "base_uri": "https://localhost:8080/"
        },
        "id": "j7xcBHWPMJas",
        "outputId": "24a8a2b9-39fc-401c-d4fe-84117d9d223d"
      },
      "execution_count": null,
      "outputs": [
        {
          "output_type": "execute_result",
          "data": {
            "text/plain": [
              "0.27251388050258335"
            ]
          },
          "metadata": {},
          "execution_count": 162
        }
      ]
    },
    {
      "cell_type": "markdown",
      "source": [
        "#4\n",
        "\n",
        "Encuentra todas las raices para los polinomios de grado 3 y 4 de **Legendre** usando el Método de la Secante y Newton-Raphson.\n",
        "\n",
        "\n",
        "\n",
        "```python\n",
        "import sympy as sp\n",
        "x = sp.Symbol('x')\n",
        "\n",
        "# Polinomio de Legendre de grado n\n",
        "Pn = sp.legendre(n, x)\n",
        "\n",
        "```\n",
        "\n",
        "y calcule los pesos $w_i$ de la cuadratura mediante la fórmula:\n",
        "   $$\n",
        "   w_i = \\frac{2}{(1 - x_i^2) \\left[P_n'(x_i)\\right]^2},\n",
        "   $$\n",
        "   donde $P_n'(x)$ es la derivada del polinomio de Legendre $P_n(x)$.\n"
      ],
      "metadata": {
        "id": "hvSy6jouSLiJ"
      }
    },
    {
      "cell_type": "code",
      "source": [
        "import sympy as sp\n",
        "from scipy.optimize import newton, root_scalar\n",
        "x = sp.Symbol('x')\n",
        "\n",
        "# Polinomio de Legendre de grado n\n",
        "P3 = sp.legendre(3, x)\n",
        "P3_prima = sp.diff(P3, x)\n",
        "P3 = sp.lambdify(x, P3)\n",
        "P3_prima = sp.lambdify(x, P3_prima)\n",
        "\n",
        "P4 = sp.legendre(4, x)\n",
        "P4_prima = sp.diff(P4, x)\n",
        "P4 = sp.lambdify(x, P4)\n",
        "P4_prima = sp.lambdify(x, P4_prima)\n",
        "\n",
        "raices = [newton(P3, i) for i in np.linspace(-1, 1, 10)]\n",
        "raices_P3 = np.unique(np.round(raices, decimals = 6)) #Elimina raices que sean iguales en más de 6 decimales\n",
        "print('las raíces del polinomio de legendre de grado 3 usando Newton son:',raices_P3)\n",
        "\n",
        "raices1 = []\n",
        "x0 = np.linspace(-1, 1, 10)\n",
        "for i in x0:\n",
        "  raiz = root_scalar(P3, x0=i, x1=i + 0.1, method='secant')\n",
        "  raices1.append(raiz.root)\n",
        "\n",
        "raices1_P3 = np.unique(np.round(raices1, decimals = 6))\n",
        "print('las raíces del polinomio de Legendre de grado 3 usando Secante son:',raices1_P3)"
      ],
      "metadata": {
        "id": "EZNA4VoXSXiT",
        "colab": {
          "base_uri": "https://localhost:8080/"
        },
        "outputId": "da0d7d2c-d468-4360-c6d8-cebab8f5cd84"
      },
      "execution_count": null,
      "outputs": [
        {
          "output_type": "stream",
          "name": "stdout",
          "text": [
            "las raíces del polinomio de legendre de grado 3 usando Newton son: [-0.774597 -0.        0.774597]\n",
            "las raíces del polinomio de Legendre de grado 3 usando Secante son: [-0.774597 -0.        0.774597]\n"
          ]
        }
      ]
    },
    {
      "cell_type": "code",
      "source": [
        "w = []\n",
        "w1 = []\n",
        "for i in raices_P3:\n",
        "  wi = 2 / ((1 - (i ** 2)) * (P3_prima(i)**2))\n",
        "  w.append(wi)\n",
        "print('los pesos de la cuadratura correspondientes a las raices del polinomio de Legendre de grado 3 obtenido con Newton son:\\n',w)\n",
        "\n",
        "for i in raices1_P3:\n",
        "  wi = 2 / ((1 - (i ** 2)) * (P3_prima(i)**2))\n",
        "  w1.append(wi)\n",
        "print('los pesos de la cuadratura correspondientes a las raices del polinomio de Legendre de grado 3 obtenido con Secante son:\\n',w1)\n"
      ],
      "metadata": {
        "colab": {
          "base_uri": "https://localhost:8080/"
        },
        "id": "Lgf_mvkCWwff",
        "outputId": "e2330bd9-391e-41f6-d003-cf5d42abae76"
      },
      "execution_count": null,
      "outputs": [
        {
          "output_type": "stream",
          "name": "stdout",
          "text": [
            "los pesos de la cuadratura correspondientes a las raices del polinomio de Legendre de grado 3 obtenido con Newton son:\n",
            " [0.5555548438782123, 0.8888888888888888, 0.5555548438782123]\n",
            "los pesos de la cuadratura correspondientes a las raices del polinomio de Legendre de grado 3 obtenido con Secante son:\n",
            " [0.5555548438782123, 0.8888888888888888, 0.5555548438782123]\n"
          ]
        }
      ]
    },
    {
      "cell_type": "code",
      "source": [
        "raices2 = [newton(P4, i) for i in np.linspace(-1, 1, 10)]\n",
        "raices_P4 = np.unique(np.round(raices2, decimals = 6))\n",
        "print('las raíces del polinomio de legendre de grado 4 usando Newton son:',raices_P4)\n",
        "\n",
        "raices3 = []\n",
        "x0 = np.linspace(-1, 1, 10)\n",
        "for i in x0:\n",
        "  raiz = root_scalar(P4, x0=i, x1=i + 0.1, method='secant')\n",
        "  raices3.append(raiz.root)\n",
        "\n",
        "raices1_P4 = np.unique(np.round(raices3, decimals = 6))\n",
        "print('las raíces del polinomio de Legendre de grado 4 usando Secante son:',raices1_P4)"
      ],
      "metadata": {
        "colab": {
          "base_uri": "https://localhost:8080/"
        },
        "id": "5u4NyZ2FVTc8",
        "outputId": "e21e886f-b87d-435a-cca6-128eb03fb97e"
      },
      "execution_count": null,
      "outputs": [
        {
          "output_type": "stream",
          "name": "stdout",
          "text": [
            "las raíces del polinomio de legendre de grado 4 usando Newton son: [-0.861136 -0.339981  0.339981  0.861136]\n",
            "las raíces del polinomio de Legendre de grado 4 usando Secante son: [-0.861136 -0.339981  0.339981  0.861136]\n"
          ]
        }
      ]
    },
    {
      "cell_type": "code",
      "source": [
        "w2 = []\n",
        "w3 = []\n",
        "for i in raices_P4:\n",
        "  wj = 2 / ((1 - (i ** 2)) * (P4_prima(i)**2))\n",
        "  w2.append(wj)\n",
        "print('los pesos de la cuadratura correspondientes a las raices del polinomio de Legendre de grado 4 obtenido con Newton son:\\n',w2)\n",
        "\n",
        "for i in raices1_P4:\n",
        "  wj = 2 / ((1 - (i ** 2)) * (P4_prima(i)**2))\n",
        "  w3.append(wj)\n",
        "print('los pesos de la cuadratura correspondientes a las raices del polinomio de Legendre de grado 4 obtenido con Secante son:\\n',w3)\n"
      ],
      "metadata": {
        "colab": {
          "base_uri": "https://localhost:8080/"
        },
        "id": "Nqbghbv_WmrO",
        "outputId": "b5f9a369-d507-46de-d857-aa0eb7ac6822"
      },
      "execution_count": null,
      "outputs": [
        {
          "output_type": "stream",
          "name": "stdout",
          "text": [
            "los pesos de la cuadratura correspondientes a las raices del polinomio de Legendre de grado 4 obtenido con Newton son:\n",
            " [0.34785556744762186, 0.6521451767154952, 0.6521451767154952, 0.34785556744762186]\n",
            "los pesos de la cuadratura correspondientes a las raices del polinomio de Legendre de grado 4 obtenido con Secante son:\n",
            " [0.34785556744762186, 0.6521451767154952, 0.6521451767154952, 0.34785556744762186]\n"
          ]
        }
      ]
    }
  ]
}