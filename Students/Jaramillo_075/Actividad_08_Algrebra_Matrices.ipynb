{
  "nbformat": 4,
  "nbformat_minor": 0,
  "metadata": {
    "colab": {
      "provenance": []
    },
    "kernelspec": {
      "name": "python3",
      "display_name": "Python 3"
    },
    "language_info": {
      "name": "python"
    }
  },
  "cells": [
    {
      "cell_type": "code",
      "execution_count": 31,
      "metadata": {
        "id": "z7RCty67y3ME"
      },
      "outputs": [],
      "source": [
        "import numpy as np\n",
        "import matplotlib.pyplot as plt\n",
        "import scipy.linalg as la"
      ]
    },
    {
      "cell_type": "markdown",
      "source": [
        "# Actividad 08: Algebra Lineal y Matrices\n",
        "\n",
        "---\n",
        "### Profesor: Juan Marcos Marín\n",
        "### Nombre: Miguel Ángel Jaramillo Valencia\n",
        "*Métodos computacionales 2024-II*\n",
        "\n",
        "---"
      ],
      "metadata": {
        "id": "GGQpGoujzAnQ"
      }
    },
    {
      "cell_type": "markdown",
      "source": [
        "#1\n",
        "\n",
        "Escriba una función que calcule el producto escalar y vectorial para dos vectores, compare sus resultados con `np.dot` y `np.cross`."
      ],
      "metadata": {
        "id": "szDD-eJhzKbw"
      }
    },
    {
      "cell_type": "code",
      "source": [
        "A = np.array([4, 5, 6])\n",
        "B = np.array([7, 8, 9])\n",
        "C = np.zeros([len(A)])\n",
        "D = np.zeros([len(A)])\n",
        "def P_punto(A, B):\n",
        "\n",
        "  C = np.zeros([len(A)])\n",
        "\n",
        "  if len(A) != len(B):\n",
        "    return ('Las dimensiones de los vectores son diferentes')\n",
        "\n",
        "  for i in range(len(A)):\n",
        "\n",
        "    C[i] = A[i] * B[i]\n",
        "\n",
        "  S = np.sum(C)\n",
        "\n",
        "  D[0] = A[1] * B[2] - A[2] * B[1]\n",
        "  D[1] = A[0] * B[2] - A[2] * B[0]\n",
        "  D[2] = A[0] * B[1] - A[1] * B[0]\n",
        "  return S, np.dot(A,B), D, np.cross(A,B)"
      ],
      "metadata": {
        "id": "KlxyKMOIzBDZ"
      },
      "execution_count": 32,
      "outputs": []
    },
    {
      "cell_type": "code",
      "source": [
        "P_punto(A,B)"
      ],
      "metadata": {
        "colab": {
          "base_uri": "https://localhost:8080/"
        },
        "id": "-M46jWhkHC8a",
        "outputId": "6d7d51db-07be-461d-f537-4edd0a59280b"
      },
      "execution_count": 33,
      "outputs": [
        {
          "output_type": "execute_result",
          "data": {
            "text/plain": [
              "(122.0, 122, array([-3., -6., -3.]), array([-3,  6, -3]))"
            ]
          },
          "metadata": {},
          "execution_count": 33
        }
      ]
    },
    {
      "cell_type": "markdown",
      "source": [
        "#2\n",
        "\n",
        "Crear una función llamada `mulmat()` donde a partir de dos matrices $A$ y $B$ encuentre su multplicación. También realiza una función que calcule la transpuesta y otra el determinante de una matriz $3\\times 3$. Compare sus resultado con `@`, `np.dot`, `transpose` y `la.det`."
      ],
      "metadata": {
        "id": "Qch9PhTQ0Klk"
      }
    },
    {
      "cell_type": "code",
      "source": [
        "def mulmat(A, B):\n",
        "\n",
        "  filas_A = A.shape[1]\n",
        "  filas = A.shape[0]\n",
        "  columnas = B.shape[1]\n",
        "\n",
        "  new_matrix = np.zeros((filas, columnas))\n",
        "\n",
        "\n",
        "  for i in range(filas):\n",
        "    for j in range(columnas):\n",
        "      sum = 0\n",
        "      for k in range(filas_A):\n",
        "\n",
        "        sum += A[i, k] * B[k, j]\n",
        "\n",
        "      new_matrix[i , j] = sum\n",
        "\n",
        "  return new_matrix, A @ B\n",
        "\n",
        "\n",
        "def transpuesta(A):\n",
        "\n",
        "  filas = A.shape[0]\n",
        "  columnas = A.shape[0]\n",
        "\n",
        "  new_A = np.zeros((columnas, filas))\n",
        "\n",
        "  for i in range(filas):\n",
        "    for j in range(columnas):\n",
        "\n",
        "      new_A[i, j] = A[j, i]\n",
        "\n",
        "  return new_A, A.T\n",
        "\n",
        "def det(A):\n",
        "\n",
        "  n = len(A)\n",
        "  suma = 0\n",
        "\n",
        "  if n == 1:\n",
        "      return A[0,0]\n",
        "\n",
        "  else:\n",
        "    for j in range(n):\n",
        "\n",
        "      submatriz = A[1 : ,[k for k in range(n) if k!=j]]\n",
        "\n",
        "      suma += (-1) ** (1 + j) * A[0, j] * det(submatriz)\n",
        "\n",
        "    return suma"
      ],
      "metadata": {
        "id": "0xjXQbwn0VL5"
      },
      "execution_count": 53,
      "outputs": []
    },
    {
      "cell_type": "code",
      "source": [
        "A = np.random.randint(1, 100, size = (3,3))\n",
        "B= np.random.randint(1, 100, size = (3,3))\n",
        "\n",
        "mulmat(A, B)"
      ],
      "metadata": {
        "colab": {
          "base_uri": "https://localhost:8080/"
        },
        "id": "ttRSwqxnnKvw",
        "outputId": "9f0d6250-9cbd-4f92-b775-d8471c8ce72d"
      },
      "execution_count": 35,
      "outputs": [
        {
          "output_type": "execute_result",
          "data": {
            "text/plain": [
              "(array([[ 7075.,  6248.,  7991.],\n",
              "        [10050.,  8132.,  9757.],\n",
              "        [ 5104.,  2836.,  3077.]]),\n",
              " array([[ 7075,  6248,  7991],\n",
              "        [10050,  8132,  9757],\n",
              "        [ 5104,  2836,  3077]]))"
            ]
          },
          "metadata": {},
          "execution_count": 35
        }
      ]
    },
    {
      "cell_type": "code",
      "source": [
        "transpuesta(A)"
      ],
      "metadata": {
        "colab": {
          "base_uri": "https://localhost:8080/"
        },
        "id": "LgU-yIdGnqrw",
        "outputId": "ecf620d9-93e9-426a-db66-664407e173af"
      },
      "execution_count": 36,
      "outputs": [
        {
          "output_type": "execute_result",
          "data": {
            "text/plain": [
              "(array([[73., 83., 11.],\n",
              "        [15., 16., 48.],\n",
              "        [36., 85., 31.]]),\n",
              " array([[73, 83, 11],\n",
              "        [15, 16, 48],\n",
              "        [36, 85, 31]]))"
            ]
          },
          "metadata": {},
          "execution_count": 36
        }
      ]
    },
    {
      "cell_type": "code",
      "source": [
        "det(A), la.det(A)"
      ],
      "metadata": {
        "colab": {
          "base_uri": "https://localhost:8080/"
        },
        "id": "6d7f3wMnntc7",
        "outputId": "42a78e74-24fe-4d47-d02a-6184287db1b7"
      },
      "execution_count": 55,
      "outputs": [
        {
          "output_type": "execute_result",
          "data": {
            "text/plain": [
              "(217391, 217391.0)"
            ]
          },
          "metadata": {},
          "execution_count": 55
        }
      ]
    },
    {
      "cell_type": "markdown",
      "source": [
        "#3\n",
        "Escriba tres matrices aleatorias $A$, $B$ y $C$ de $3\\times 3$, y demuestre las siguientes relaciones\n",
        "\n",
        "- $ \\mathbf{A}\\mathbf{B} \\neq \\mathbf{B}\\mathbf{A} $, en general.\n",
        "- $ (\\mathbf{A}\\mathbf{B})\\mathbf{C} = \\mathbf{A}(\\mathbf{B}\\mathbf{C}) $.\n",
        "- $ \\mathbf{A}(\\mathbf{B} + \\mathbf{C}) = \\mathbf{A}\\mathbf{B} + \\mathbf{A}\\mathbf{C} $.\n",
        "- $ (\\mathbf{A} + \\mathbf{B})\\mathbf{C} = \\mathbf{A}\\mathbf{C} + \\mathbf{B}\\mathbf{C} $.\n",
        "- $ (\\mathbf{A}\\mathbf{B})^\\top = \\mathbf{B}^\\top \\mathbf{A}^\\top $.\n",
        "- $ \\det(\\mathbf{A}\\mathbf{B}) = \\det(\\mathbf{A}) \\det(\\mathbf{B}) $.\n",
        "- $ (\\mathbf{A}^\\top)^\\top = \\mathbf{A} $.\n",
        "- $ (c\\mathbf{A})^\\top = c\\mathbf{A}^\\top $.\n",
        "- $ (\\mathbf{A} + \\mathbf{B})^\\top = \\mathbf{A}^\\top + \\mathbf{B}^\\top $.\n",
        "\n"
      ],
      "metadata": {
        "id": "U9hC1R-F0-iH"
      }
    },
    {
      "cell_type": "code",
      "source": [
        "A1 = np.random.randint(1, 100, size = (3,3))\n",
        "B1 = np.random.randint(1, 100, size = (3,3))\n",
        "C = np.random.randint(1, 100, size = (3,3))"
      ],
      "metadata": {
        "id": "FU2Wi3TPNgWb"
      },
      "execution_count": 56,
      "outputs": []
    },
    {
      "cell_type": "code",
      "source": [
        "print(A1 @ B1)\n",
        "print('')\n",
        "print(B1 @ A1)"
      ],
      "metadata": {
        "colab": {
          "base_uri": "https://localhost:8080/"
        },
        "id": "2iM-EjadOx5d",
        "outputId": "944754e1-9ed3-4261-a2ce-914ea18bdb5a"
      },
      "execution_count": 57,
      "outputs": [
        {
          "output_type": "stream",
          "name": "stdout",
          "text": [
            "[[ 8260 10364  4992]\n",
            " [ 9447 16231  6027]\n",
            " [10560 13196  5450]]\n",
            "\n",
            "[[ 9951  5762  8080]\n",
            " [ 7783  8282  6931]\n",
            " [14373 14070 11708]]\n"
          ]
        }
      ]
    },
    {
      "cell_type": "code",
      "source": [
        "print((A1 @ B1) @ C)\n",
        "print('')\n",
        "print(A1 @ (B1 @ C))"
      ],
      "metadata": {
        "colab": {
          "base_uri": "https://localhost:8080/"
        },
        "id": "3vkL3bUgopQy",
        "outputId": "017ec73d-8b5a-4eaa-96b2-b38aaf035a0e"
      },
      "execution_count": 59,
      "outputs": [
        {
          "output_type": "stream",
          "name": "stdout",
          "text": [
            "[[ 889788  562692 1783616]\n",
            " [1283172  684361 2449164]\n",
            " [1125930  689172 2230680]]\n",
            "\n",
            "[[ 889788  562692 1783616]\n",
            " [1283172  684361 2449164]\n",
            " [1125930  689172 2230680]]\n"
          ]
        }
      ]
    },
    {
      "cell_type": "code",
      "source": [
        "print(A1 @ (B1 + C))\n",
        "print('')\n",
        "print(A1 @ B1 + (A1 @ C))"
      ],
      "metadata": {
        "colab": {
          "base_uri": "https://localhost:8080/"
        },
        "id": "mps6vFZEppDM",
        "outputId": "4bcc1d3b-f2c6-49f3-ec38-c591a913eebf"
      },
      "execution_count": 61,
      "outputs": [
        {
          "output_type": "stream",
          "name": "stdout",
          "text": [
            "[[14776 13736 17344]\n",
            " [15156 22299 19915]\n",
            " [15504 17826 17028]]\n",
            "\n",
            "[[14776 13736 17344]\n",
            " [15156 22299 19915]\n",
            " [15504 17826 17028]]\n"
          ]
        }
      ]
    },
    {
      "cell_type": "code",
      "source": [
        "print((A1 + B1) @ C)\n",
        "print('')\n",
        "print(A1 @ C + (B1 @ C))"
      ],
      "metadata": {
        "colab": {
          "base_uri": "https://localhost:8080/"
        },
        "id": "3WU06ru3qBSi",
        "outputId": "f4e19ba6-2f53-4d53-ad54-ef3cf66ca96a"
      },
      "execution_count": 62,
      "outputs": [
        {
          "output_type": "stream",
          "name": "stdout",
          "text": [
            "[[12456  5023 22292]\n",
            " [ 9972  9724 23364]\n",
            " [13392 10347 28774]]\n",
            "\n",
            "[[12456  5023 22292]\n",
            " [ 9972  9724 23364]\n",
            " [13392 10347 28774]]\n"
          ]
        }
      ]
    },
    {
      "cell_type": "code",
      "source": [
        "print((A1 @ B1).T)\n",
        "print('')\n",
        "print(B1.T @ A1.T)"
      ],
      "metadata": {
        "colab": {
          "base_uri": "https://localhost:8080/"
        },
        "id": "moejpUYdqOVt",
        "outputId": "c31c1cc4-1f80-445a-f01c-f036854eef6f"
      },
      "execution_count": 63,
      "outputs": [
        {
          "output_type": "stream",
          "name": "stdout",
          "text": [
            "[[ 8260  9447 10560]\n",
            " [10364 16231 13196]\n",
            " [ 4992  6027  5450]]\n",
            "\n",
            "[[ 8260  9447 10560]\n",
            " [10364 16231 13196]\n",
            " [ 4992  6027  5450]]\n"
          ]
        }
      ]
    },
    {
      "cell_type": "code",
      "source": [
        "print(la.det(A1 @ B1))\n",
        "print('')\n",
        "print(la.det(B1) * la.det(A1))"
      ],
      "metadata": {
        "colab": {
          "base_uri": "https://localhost:8080/"
        },
        "id": "ioml0xS3qZ8n",
        "outputId": "d18fc690-ea0c-474d-e563-4354df005d70"
      },
      "execution_count": 65,
      "outputs": [
        {
          "output_type": "stream",
          "name": "stdout",
          "text": [
            "-33560085856.000015\n",
            "\n",
            "-33560085856.00001\n"
          ]
        }
      ]
    },
    {
      "cell_type": "code",
      "source": [
        "print((A1.T).T)\n",
        "print('')\n",
        "print(A1)"
      ],
      "metadata": {
        "colab": {
          "base_uri": "https://localhost:8080/"
        },
        "id": "RmfD0J6aq5if",
        "outputId": "b1c98b40-f2be-4d96-eeb0-c59424a9875e"
      },
      "execution_count": 66,
      "outputs": [
        {
          "output_type": "stream",
          "name": "stdout",
          "text": [
            "[[44 84 32]\n",
            " [92 44 65]\n",
            " [47 50 75]]\n",
            "\n",
            "[[44 84 32]\n",
            " [92 44 65]\n",
            " [47 50 75]]\n"
          ]
        }
      ]
    },
    {
      "cell_type": "code",
      "source": [
        "print((3 * A1.T).T)\n",
        "print('')\n",
        "print(3 * A1)"
      ],
      "metadata": {
        "colab": {
          "base_uri": "https://localhost:8080/"
        },
        "id": "4ejQPmQxrOh4",
        "outputId": "cd5356cf-b639-4e08-b03a-f172bfc05b40"
      },
      "execution_count": 67,
      "outputs": [
        {
          "output_type": "stream",
          "name": "stdout",
          "text": [
            "[[132 252  96]\n",
            " [276 132 195]\n",
            " [141 150 225]]\n",
            "\n",
            "[[132 252  96]\n",
            " [276 132 195]\n",
            " [141 150 225]]\n"
          ]
        }
      ]
    },
    {
      "cell_type": "code",
      "source": [
        "print((A1 + B1).T)\n",
        "print('')\n",
        "print(A1.T + B1.T)"
      ],
      "metadata": {
        "colab": {
          "base_uri": "https://localhost:8080/"
        },
        "id": "mrJXQuoXrWiH",
        "outputId": "aca97bd3-c987-4ef0-ec81-753ad352c280"
      },
      "execution_count": 68,
      "outputs": [
        {
          "output_type": "stream",
          "name": "stdout",
          "text": [
            "[[ 49 150 146]\n",
            " [177  84 141]\n",
            " [ 57  98 110]]\n",
            "\n",
            "[[ 49 150 146]\n",
            " [177  84 141]\n",
            " [ 57  98 110]]\n"
          ]
        }
      ]
    },
    {
      "cell_type": "markdown",
      "source": [
        "#4\n",
        "\n",
        "El **Teorema de Laplace** es un método para calcular el determinante de una matriz cuadrada, particularmente útil para matrices de orden mayor a 2. Este teorema se basa en la expansión del determinante por los elementos de una fila o una columna cualquiera.\n",
        "\n",
        "\n",
        "\n",
        "$$\n",
        "\\det(A) = \\sum_{j=1}^n (-1)^{1+j} a_{1j} M_{1j}\n",
        "$$\n",
        "\n",
        "donde:\n",
        "- $a_{1j}$ es el elemento de la primera fila y columna $j$.\n",
        "- $M_{1j}$ es el menor asociado al elemento $a_{1j}$, es decir, el determinante de la submatriz de $3 \\times 3$ que se obtiene al eliminar la fila 1 y la columna $j$.\n",
        "- $(-1)^{1+j}$ es el signo correspondiente al cofactor del elemento $a_{1j}$.\n",
        "\n",
        "Podemos realizar una función recursiva para el cálculo del determinante, sabiendo que el valor del determinante de una matriz de orden uno es el único elemento de esa matriz, y el de una matriz de orden superior a uno es la suma de cada uno de los elementos de una fila o columna por los Adjuntos a ese elemento, como en la función recursiva se emplea la misma función definida el cálculo lo haremos por Menor complementario, un ejemplo desarrollado por la primera fila sería:\n",
        "\n",
        "$$\n",
        "   \\det (A_{j,j}) =\n",
        "   \\left \\{\n",
        "   \\begin{array}{llcl}\n",
        "      si & j = 1 & \\to & a_{1,1} \\\\\n",
        "                                 \\\\\n",
        "      si & j > 1 & \\to & \\displaystyle \\sum_{k=1}^j \\; (-1)^{(1+k)} \\cdot a_{1,k} \\cdot \\det( \\alpha_{1,k})\n",
        "   \\end{array}\n",
        "   \\right .\n",
        "$$\n",
        "\n",
        "Realice una función que encuentre el determinante de una matriz usando la recursividad aqui planteada, explique explicitamente su código"
      ],
      "metadata": {
        "id": "ibYf2I9T2pIw"
      }
    },
    {
      "cell_type": "code",
      "source": [
        "def det(A):\n",
        "\n",
        "  n = len(A)\n",
        "  suma = 0\n",
        "\n",
        "  if n == 1:\n",
        "      return A[0,0]\n",
        "\n",
        "  else:\n",
        "    for j in range(n):\n",
        "\n",
        "      submatriz = A[1 : ,[k for k in range(n) if k!=j]]\n",
        "\n",
        "      suma += (-1) ** (1 + j) * (A[0, j] * det(submatriz))\n",
        "    return suma"
      ],
      "metadata": {
        "id": "-8tYERLHtrtY"
      },
      "execution_count": 40,
      "outputs": []
    },
    {
      "cell_type": "code",
      "source": [
        "A = np.random.randint(1, 100, size = (3,3))\n",
        "\n",
        "det(A), np.linalg.det(A)"
      ],
      "metadata": {
        "colab": {
          "base_uri": "https://localhost:8080/"
        },
        "id": "NpiGB6EFLjDu",
        "outputId": "4f87a9ce-bfe0-4047-93c6-3038d2a6547c"
      },
      "execution_count": 41,
      "outputs": [
        {
          "output_type": "execute_result",
          "data": {
            "text/plain": [
              "(217391, 217390.9999999999)"
            ]
          },
          "metadata": {},
          "execution_count": 41
        }
      ]
    },
    {
      "cell_type": "markdown",
      "source": [
        "#5\n",
        "\n",
        "El método de Jacobi reescribe el sistema $ Ax = b $ descomponiendo la matriz $ A $ como:\n",
        "\n",
        "$$\n",
        "A = D + L + U,\n",
        "$$\n",
        "\n",
        "donde:\n",
        "- $ D $: Matriz diagonal de $ A $,\n",
        "- $ L $: Matriz triangular inferior sin la diagonal,\n",
        "- $ U $: Matriz triangular superior sin la diagonal.\n",
        "\n",
        "El sistema se reorganiza como:\n",
        "\n",
        "$$\n",
        "x = D^{-1}(b - (L + U)x).\n",
        "$$\n",
        "\n",
        "Esto se implementa iterativamente como:\n",
        "\n",
        "$$\n",
        "x_i^{(k+1)} = \\frac{1}{a_{ii}} \\left(b_i - \\sum_{j \\neq i} a_{ij} x_j^{(k)}\\right),\n",
        "$$\n",
        "\n",
        "donde $ a_{ii} $ son los elementos diagonales de $ A $.\n",
        "\n",
        "* Escriba una función explicita que realice de manera iterativa este método con una tol = 1e-7 y un máximo de 100 iteraciones. Defina una documentación clara que explique los métodos usados, lasa entradas y salidas.\n",
        "\n",
        "* Para una matriz aleatoria 5$\\times$ 5, encuentre la solución usando su función y determine el error con respecto a `solve` y el método de inversa de matriz."
      ],
      "metadata": {
        "id": "9OcE-1QhSrI9"
      }
    },
    {
      "cell_type": "code",
      "source": [
        "def jacobi(A, B, tol=1e-7, max_iter=100):\n",
        "    n = len(B)\n",
        "    x = np.zeros_like(B, dtype=float)  # Solución inicial (x = 0)\n",
        "\n",
        "    for k in range(max_iter):\n",
        "        x_new = np.copy(x)\n",
        "\n",
        "        for i in range(n):\n",
        "            suma = sum(A[i, j] * x[j] for j in range(n) if j != i)\n",
        "            x_new[i] = (B[i] - suma) / A[i, i]\n",
        "\n",
        "        # Examinar la convergencia\n",
        "        if np.max(np.abs(x_new - x)) < tol:\n",
        "            print(f'Converge después de {k + 1} iteraciones')\n",
        "            return x_new\n",
        "\n",
        "        x = x_new"
      ],
      "metadata": {
        "id": "PQqefGzMT3ks"
      },
      "execution_count": 139,
      "outputs": []
    },
    {
      "cell_type": "code",
      "source": [
        "A = np.random.randint(1, 100, size=(5, 5))\n",
        "B = np.random.randint(1, 100, size=(5,))\n",
        "\n",
        "for i in range(len(A)):\n",
        "    A[i, i] = np.sum(np.abs(A[i, :])) + 1  # sin esta línea no da bien la solución\n",
        "\n",
        "jacobi_ = jacobi(A, B)\n",
        "\n",
        "solve_ = np.linalg.solve(A, B)\n",
        "\n",
        "print(\"Solución con Jacobi:\", jacobi_)\n",
        "print(\"Solución con la.solve:\", solve_)\n",
        "print(\"Diferencias:\", np.abs(jacobi_ - solve_))"
      ],
      "metadata": {
        "colab": {
          "base_uri": "https://localhost:8080/"
        },
        "id": "IxA_X52-915v",
        "outputId": "75a3d6fd-e644-4a6b-f467-7ded9b3805a2"
      },
      "execution_count": 141,
      "outputs": [
        {
          "output_type": "stream",
          "name": "stdout",
          "text": [
            "Converge después de 77 iteraciones\n",
            "Solución con Jacobi: [-0.03624754  0.01067666  0.18711973  0.36398629  0.3340749 ]\n",
            "Solución con la.solve: [-0.03624758  0.01067662  0.18711969  0.36398625  0.33407487]\n",
            "Diferencia: [4.14521098e-08 3.94312631e-08 3.85767509e-08 3.74068541e-08\n",
            " 3.05393033e-08]\n"
          ]
        }
      ]
    },
    {
      "cell_type": "markdown",
      "source": [
        "#6\n",
        "\n",
        "Verifique que cualquier matriz hermitiana de 2 × 2 $ L $ puede escribirse como una suma de cuatro términos:\n",
        "\n",
        "$$ L = a\\sigma_x + b\\sigma_y + c\\sigma_z + dI $$\n",
        "\n",
        "donde $ a $, $ b $, $ c $ y $ d $ son números reales.\n",
        "\n",
        "Las cuatro matrices de Pauli son:\n",
        "\n",
        "$$ \\sigma_x = \\begin{pmatrix} 0 & 1 \\\\ 1 & 0 \\end{pmatrix}, \\quad \\sigma_y = \\begin{pmatrix} 0 & -i \\\\ i & 0 \\end{pmatrix}, \\quad \\sigma_z = \\begin{pmatrix} 1 & 0 \\\\ 0 & -1 \\end{pmatrix}, \\quad I = \\begin{pmatrix} 1 & 0 \\\\ 0 & 1 \\end{pmatrix} $$\n",
        "\n",
        "\n"
      ],
      "metadata": {
        "id": "iggu2jNwVpnK"
      }
    },
    {
      "cell_type": "code",
      "source": [
        "\n",
        "sigma_x = np.array([\n",
        "    [0, 1],\n",
        "    [1, 0]\n",
        "])\n",
        "\n",
        "sigma_y = np.array([\n",
        "    [0, -1j],\n",
        "    [1j, 0]\n",
        "])\n",
        "\n",
        "sigma_z = np.array([\n",
        "    [1, 0],\n",
        "    [0, -1]\n",
        "], dtype = complex)\n",
        "\n",
        "I = np.array([\n",
        "    [1, 0],\n",
        "    [0, 1]\n",
        "])"
      ],
      "metadata": {
        "id": "8WN9_cOCV7cM"
      },
      "execution_count": 175,
      "outputs": []
    },
    {
      "cell_type": "code",
      "source": [
        "A = np.random.rand(2, 2) + 1j * np.random.rand(2, 2)\n",
        "\n",
        "L = A.conj().T\n",
        "\n",
        "L"
      ],
      "metadata": {
        "colab": {
          "base_uri": "https://localhost:8080/"
        },
        "id": "05ghDesFxO2f",
        "outputId": "0e00a02c-36a6-4f98-a118-1dc61dc1b24a"
      },
      "execution_count": 190,
      "outputs": [
        {
          "output_type": "execute_result",
          "data": {
            "text/plain": [
              "array([[0.44735886-0.64716526j, 0.26752113-0.206323j  ],\n",
              "       [0.54065107-0.2903736j , 0.45849512-0.85089019j]])"
            ]
          },
          "metadata": {},
          "execution_count": 190
        }
      ]
    },
    {
      "cell_type": "markdown",
      "source": [
        "de los hechos siguientes se calculan a, b, c y d:\n",
        "\n",
        "$c_0$ = $(a + d) / 2$\n",
        "\n",
        "$c_1$ = $Re$$(b)$\n",
        "\n",
        "$c_2$ = $Im(b)$\n",
        "\n",
        "$c_3$ = $(a - d) / 2$\n",
        "\n",
        "siendo a, b, c y d las entradas de la matriz"
      ],
      "metadata": {
        "id": "kCNdjbsZzrLa"
      }
    },
    {
      "cell_type": "code",
      "source": [
        "d, b, a, c = (L[0,0] + L[1,1]) / 2, (L[0,1]).real, L[0,1].imag, (L[0,0] - L[1,1]) / 2"
      ],
      "metadata": {
        "id": "F5STPer61UZG"
      },
      "execution_count": 194,
      "outputs": []
    },
    {
      "cell_type": "code",
      "source": [
        "a * sigma_x + b * sigma_y + c * sigma_z + d * I"
      ],
      "metadata": {
        "colab": {
          "base_uri": "https://localhost:8080/"
        },
        "id": "NO7BhPv62RH4",
        "outputId": "6c979f26-2b58-4355-aa08-7b8452172a0e"
      },
      "execution_count": 193,
      "outputs": [
        {
          "output_type": "execute_result",
          "data": {
            "text/plain": [
              "array([[ 0.44735886-0.64716526j, -0.206323  -0.26752113j],\n",
              "       [-0.206323  +0.26752113j,  0.45849512-0.85089019j]])"
            ]
          },
          "metadata": {},
          "execution_count": 193
        }
      ]
    }
  ]
}