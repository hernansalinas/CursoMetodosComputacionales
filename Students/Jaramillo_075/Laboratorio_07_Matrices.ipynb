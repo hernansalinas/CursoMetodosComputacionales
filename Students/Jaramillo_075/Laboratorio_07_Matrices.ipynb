{
  "nbformat": 4,
  "nbformat_minor": 0,
  "metadata": {
    "colab": {
      "provenance": []
    },
    "kernelspec": {
      "name": "python3",
      "display_name": "Python 3"
    },
    "language_info": {
      "name": "python"
    }
  },
  "cells": [
    {
      "cell_type": "code",
      "execution_count": 1,
      "metadata": {
        "id": "z7RCty67y3ME"
      },
      "outputs": [],
      "source": [
        "import numpy as np\n",
        "import matplotlib.pyplot as plt\n",
        "import scipy.linalg as la\n",
        "import sympy as sp"
      ]
    },
    {
      "cell_type": "markdown",
      "source": [
        "# Laboratorio 09 Matrices\n",
        "\n",
        "#### Métodos computacionales para físicos  y astrónomos\n",
        "#### Universidad de Antioquia\n",
        "#### Prof: Hernan D. Salinas Jiménez & Juan Marcos Marín Ramírez"
      ],
      "metadata": {
        "id": "SU1TpwPkcufT"
      }
    },
    {
      "cell_type": "markdown",
      "source": [
        "## Punto 1: **Modelo de encriptación**\n",
        "\n",
        "\n",
        "Un proceso para encriptar un mensaje secreto es usar cierta matriz cuadrada cuyos elementos son enteros con elementos enteros en la inversa. Se recibe un mensaje, se asigna un número a cada letra Por ejemplo, A=1, B=2, C=3, ... etc. y espacio=27, se arreglan los números en una matriz de izquierda a derecha en cada fila, donde el número de elementos en la fila es igual al tamaño de la matriz de código, se multiplica esa matriz por la matriz de código por la derecha, se transcribe el mensaje en una cadena de números y se manda el mensaje.\n",
        "\n",
        "La persona que debe recibir el mensaje conoce la matriz de código. El o ella arreglan el mensaje encriptado en una matriz de izquierda a derecha en cada fila, en donde el número de elementos en una fila conicide con el tamaño de la matriz de código multiplicada por la derecha, por el inverso de la matriz de código y puede leer mensaje decodificado.\n",
        "\n",
        "Usted a recibido el siguiente mensaje que fue encriptado usando la matriz A. Decodifiquelo.\n",
        "\n",
        "```\n",
        "matrix([[ 1,  2, -3,  4,  5],\n",
        "        [-2, -5,  8, -8, -9],\n",
        "        [ 1,  2, -2,  7,  9],\n",
        "        [ 1,  1,  0,  6, 12],\n",
        "        [ 2,  4, -6,  8, 11]])\n",
        "```\n",
        "\n",
        "Mensaje\n",
        "\n",
        "```\n",
        "47,49,-19,257,487,10,-9,63,137,236, 79,142,-184,372,536,59,70,-40,332,588,\n",
        "```\n",
        "\n",
        "\n",
        "la primera fila del mensaje es `47,49,-19,257,487`\n",
        "\n",
        "*¿Cual es el mensaje?*"
      ],
      "metadata": {
        "id": "5TEoJvENdGb7"
      }
    },
    {
      "cell_type": "code",
      "execution_count": null,
      "metadata": {
        "id": "iWv1kbiZch_Z"
      },
      "outputs": [],
      "source": [
        "A = np.array([\n",
        "    [47, 49, -19, 257, 487],\n",
        "    [10, -9, 63, 137, 236],\n",
        "    [79, 142, -184, 372, 536],\n",
        "    [59, 70, -40, 332, 588]\n",
        "])"
      ]
    },
    {
      "cell_type": "code",
      "source": [
        "B = np.array([[ 1,  2, -3,  4,  5],\n",
        "        [-2, -5,  8, -8, -9],\n",
        "        [ 1,  2, -2,  7,  9],\n",
        "        [ 1,  1,  0,  6, 12],\n",
        "        [ 2,  4, -6,  8, 11]])"
      ],
      "metadata": {
        "id": "BPMUV3I8GPsq"
      },
      "execution_count": null,
      "outputs": []
    },
    {
      "cell_type": "code",
      "source": [
        "a,b, c, d, e, f, g, h,i, j, k, l, m ,n, o ,p, q, r, s, t, u, v, w, x, y, z = np.array([i for i in range(1, 27)])"
      ],
      "metadata": {
        "id": "3pxQP7tOIsPu"
      },
      "execution_count": null,
      "outputs": []
    },
    {
      "cell_type": "code",
      "source": [
        "A @ np.linalg.inv(B)"
      ],
      "metadata": {
        "colab": {
          "base_uri": "https://localhost:8080/"
        },
        "id": "_PD2xk5TGWe_",
        "outputId": "dad324c9-8f5e-4299-ecba-07cd06c6bfbb"
      },
      "execution_count": null,
      "outputs": [
        {
          "output_type": "execute_result",
          "data": {
            "text/plain": [
              "array([[ 1., 18.,  5., 27., 25.],\n",
              "       [15., 21., 27.,  8.,  1.],\n",
              "       [22.,  9., 14.,  7., 27.],\n",
              "       [ 6., 21., 14., 27., 27.]])"
            ]
          },
          "metadata": {},
          "execution_count": 183
        }
      ]
    },
    {
      "cell_type": "code",
      "source": [
        "#a r e y o u h a v i n g f u n.  # No"
      ],
      "metadata": {
        "id": "SrC-eAuXJJVU"
      },
      "execution_count": null,
      "outputs": []
    },
    {
      "cell_type": "markdown",
      "source": [
        "## Punto 2: **Operaciones matricial con regresión lineal.**\n",
        "\n",
        "Cuando se desea hacer una regresión lineal multivariada, existen diferentes formas de realizar la regresión, una de ellas es encontrar el error cuadrático medio y minimizar el conjunto de parámetros de la regresión emplando algún método de minimización; otra forma es encontrar la expresión analítica en forma matricial, para determinar el conjunto de parámetros de la regresión. En este último caso, la regresión lineal viene dada por la siguiente expresion generalizada:\n",
        "\n",
        "\n",
        "$$\\Theta = (X^T X)^{-1} X^T y$$\n",
        "\n",
        "donte $\\Theta$ es la matriz de parametros asociados a la regresión lineal, $X$ la matriz de características y $y$ los valos esperados, así, si tenemos una conjunto de datos en $N$ dimensiones; la recta, plano o hiperplano puede ser calculado como:\n",
        "\n",
        "$$Y=\\Theta^T X$$\n",
        "\n",
        "\n",
        "En el caso de dos dimensiones, supongamos que $X$, e $Y$ presentan un comportamiento lineal, y vienen dados por (en este caso el super indice es):\n",
        "\n",
        "\n",
        "- Sea $\\vec{X}=x^{(1)}, x^{(2)}, x^{(3)}, x^{(4)}, ..., x^{(m)}$\n",
        "- Sea $\\vec{Y}=y^{(1)}, y^{(2)}, y^{(3)}, y^{(4)}, ..., y^{(m)}$\n",
        "\n",
        "Para determinar la ecuación de la recta, hay que conocer los párametros $\\theta_0 $, $\\theta_1$, que cumplen que :   $y^{(i)} = \\theta_1 x^{(i)} + \\theta_0$ la anterior expresión puede ser escrita como:\n",
        "\n",
        "\\begin{equation}\n",
        "\\begin{bmatrix}\n",
        "y^{(1)}\\\\\n",
        "y^{(2)}\\\\\n",
        "\\vdots\\\\\n",
        "y^{(m)}\\\\\n",
        "\\end{bmatrix}=\n",
        "\\begin{bmatrix}\n",
        "\\theta_0 & \\theta_1 \\\\\n",
        "\\end{bmatrix}\n",
        "\\begin{bmatrix}\n",
        "1 & 1 & \\cdots & 1 \\\\\n",
        "x_1^{(1)} & x_1^{(2)} & \\cdots & x_1^{(m)} \\\\\n",
        "\\end{bmatrix}\n",
        "\\end{equation}\n",
        "\n",
        "\n",
        "Para determinar la matriz de theta entonces se puede aplicar la ecuación:\n",
        "\n",
        "$$\\Theta = (X^T X)^{-1} X^T y$$\n",
        "\n",
        "donde:\n",
        "\\begin{equation}\n",
        "X=\n",
        "\\begin{bmatrix}\n",
        "1 & x_1^{(1)} \\\\\n",
        "1 & x_1^{(2)} \\\\\n",
        "\\vdots & \\vdots \\\\\n",
        "1 & x_1^{(m)}\n",
        "\\end{bmatrix}\n",
        "\\end{equation}\n",
        "\n",
        "y\n",
        "\n",
        "\n",
        "\\begin{equation}\n",
        "y=\n",
        "\\begin{bmatrix}\n",
        "y^{(1)} \\\\\n",
        "y^{(2)} \\\\\n",
        "\\vdots\\\\\n",
        "y^{(m)}\n",
        "\\end{bmatrix}\n",
        "\\end{equation}\n",
        "\n",
        "Su tarea será construir un programa que realice la regresión lineal para los siguientes puntos:\n",
        "```python\n",
        "N = 10\n",
        "x1 = np.linspace(0, 10, N)\n",
        "noise=2*np.random.random(N)-1\n",
        "y = 0.9*x1 + noise\n",
        "```\n",
        "\n",
        "\n",
        "\n",
        "Generalice para el siguiente problema bidimensional:\n",
        "\n",
        "\n",
        "```python\n",
        "N = 10\n",
        "x1 = np.linspace(-1, 1, N)\n",
        "x2 = np.linspace(-2, 2, N)\n",
        "noise1=2*np.random.random(N)-1\n",
        "noise2=2*np.random.random(N)-1\n",
        "y = 2*(x1+noise1) - 3*(x2+noise2) + 0.0 #+ 4*np.random.random(100)\n",
        "\n",
        "N = 10\n",
        "X1, X2 = np.meshgrid(x1,x2)\n",
        "Y = 2*X1 - 3*X2 + 0.0\n",
        "fig, ax = plt.subplots(subplot_kw={\"projection\": \"3d\"})\n",
        "surf = ax.plot_surface(X1, X2, Y)\n",
        "#scatter = ax.scatter(x1, x2, y,\"-\")\n",
        "```"
      ],
      "metadata": {
        "id": "3cfNt2WrdUVZ"
      }
    },
    {
      "cell_type": "code",
      "source": [
        "N = 10\n",
        "x1 = np.linspace(0, 10, N)\n",
        "noise=2*np.random.random(N)-1\n",
        "y = 0.9*x1 + noise"
      ],
      "metadata": {
        "id": "r-t-RlsxLav1"
      },
      "execution_count": null,
      "outputs": []
    },
    {
      "cell_type": "code",
      "source": [
        "#Caso unidimensional\n",
        "\n",
        "X = np.vstack((np.ones(N), x1)).T\n",
        "\n",
        "theta = np.linalg.inv(X.T @ X) @ X.T @ y\n",
        "\n",
        "Y = X @ theta"
      ],
      "metadata": {
        "id": "xHHqPjimL0fM"
      },
      "execution_count": null,
      "outputs": []
    },
    {
      "cell_type": "code",
      "source": [
        "N = 10\n",
        "x1 = np.linspace(-1, 1, N)\n",
        "x2 = np.linspace(-2, 2, N)\n",
        "noise1=2*np.random.random(N)-1\n",
        "noise2=2*np.random.random(N)-1\n",
        "y = 2*(x1+noise1) - 3*(x2+noise2) + 0.0 #+ 4*np.random.random(100)\n",
        "\n",
        "N = 10\n",
        "X1, X2 = np.meshgrid(x1,x2)\n",
        "Y = 2*X1 - 3*X2 + 0.0\n",
        "#fig, ax = plt.subplots(subplot_kw={\"projection\": \"3d\"})\n",
        "#surf = ax.plot_surface(X1, X2, Y)\n",
        "# scatter = ax.scatter(x1, x2, y,\"-\")"
      ],
      "metadata": {
        "id": "lK-VlQA4rCoF"
      },
      "execution_count": null,
      "outputs": []
    },
    {
      "cell_type": "code",
      "source": [
        "#Caso bidimensional\n",
        "X_ = np.vstack((np.ones(N), x1, x2)).T\n",
        "y = y.T\n",
        "\n",
        "theta = np.linalg.inv(X_.T @ X_) @ X_.T @ y #Matriz singular?\n",
        "\n",
        "Y = X_ @ theta"
      ],
      "metadata": {
        "colab": {
          "base_uri": "https://localhost:8080/",
          "height": 375
        },
        "collapsed": true,
        "id": "KMUu330eq83B",
        "outputId": "6121fe05-8559-4d35-dffb-4edc225746cb"
      },
      "execution_count": null,
      "outputs": [
        {
          "output_type": "error",
          "ename": "LinAlgError",
          "evalue": "Singular matrix",
          "traceback": [
            "\u001b[0;31m---------------------------------------------------------------------------\u001b[0m",
            "\u001b[0;31mLinAlgError\u001b[0m                               Traceback (most recent call last)",
            "\u001b[0;32m<ipython-input-188-ea033abf1282>\u001b[0m in \u001b[0;36m<cell line: 0>\u001b[0;34m()\u001b[0m\n\u001b[1;32m      3\u001b[0m \u001b[0my\u001b[0m \u001b[0;34m=\u001b[0m \u001b[0my\u001b[0m\u001b[0;34m.\u001b[0m\u001b[0mT\u001b[0m\u001b[0;34m\u001b[0m\u001b[0;34m\u001b[0m\u001b[0m\n\u001b[1;32m      4\u001b[0m \u001b[0;34m\u001b[0m\u001b[0m\n\u001b[0;32m----> 5\u001b[0;31m \u001b[0mtheta\u001b[0m \u001b[0;34m=\u001b[0m \u001b[0mnp\u001b[0m\u001b[0;34m.\u001b[0m\u001b[0mlinalg\u001b[0m\u001b[0;34m.\u001b[0m\u001b[0minv\u001b[0m\u001b[0;34m(\u001b[0m\u001b[0mX_\u001b[0m\u001b[0;34m.\u001b[0m\u001b[0mT\u001b[0m \u001b[0;34m@\u001b[0m \u001b[0mX_\u001b[0m\u001b[0;34m)\u001b[0m \u001b[0;34m@\u001b[0m \u001b[0mX_\u001b[0m\u001b[0;34m.\u001b[0m\u001b[0mT\u001b[0m \u001b[0;34m@\u001b[0m \u001b[0my\u001b[0m \u001b[0;31m#Matriz singular?\u001b[0m\u001b[0;34m\u001b[0m\u001b[0;34m\u001b[0m\u001b[0m\n\u001b[0m\u001b[1;32m      6\u001b[0m \u001b[0;34m\u001b[0m\u001b[0m\n\u001b[1;32m      7\u001b[0m \u001b[0mY\u001b[0m \u001b[0;34m=\u001b[0m \u001b[0mX_\u001b[0m \u001b[0;34m@\u001b[0m \u001b[0mtheta\u001b[0m\u001b[0;34m\u001b[0m\u001b[0;34m\u001b[0m\u001b[0m\n",
            "\u001b[0;32m/usr/local/lib/python3.11/dist-packages/numpy/linalg/linalg.py\u001b[0m in \u001b[0;36minv\u001b[0;34m(a)\u001b[0m\n\u001b[1;32m    559\u001b[0m     \u001b[0msignature\u001b[0m \u001b[0;34m=\u001b[0m \u001b[0;34m'D->D'\u001b[0m \u001b[0;32mif\u001b[0m \u001b[0misComplexType\u001b[0m\u001b[0;34m(\u001b[0m\u001b[0mt\u001b[0m\u001b[0;34m)\u001b[0m \u001b[0;32melse\u001b[0m \u001b[0;34m'd->d'\u001b[0m\u001b[0;34m\u001b[0m\u001b[0;34m\u001b[0m\u001b[0m\n\u001b[1;32m    560\u001b[0m     \u001b[0mextobj\u001b[0m \u001b[0;34m=\u001b[0m \u001b[0mget_linalg_error_extobj\u001b[0m\u001b[0;34m(\u001b[0m\u001b[0m_raise_linalgerror_singular\u001b[0m\u001b[0;34m)\u001b[0m\u001b[0;34m\u001b[0m\u001b[0;34m\u001b[0m\u001b[0m\n\u001b[0;32m--> 561\u001b[0;31m     \u001b[0mainv\u001b[0m \u001b[0;34m=\u001b[0m \u001b[0m_umath_linalg\u001b[0m\u001b[0;34m.\u001b[0m\u001b[0minv\u001b[0m\u001b[0;34m(\u001b[0m\u001b[0ma\u001b[0m\u001b[0;34m,\u001b[0m \u001b[0msignature\u001b[0m\u001b[0;34m=\u001b[0m\u001b[0msignature\u001b[0m\u001b[0;34m,\u001b[0m \u001b[0mextobj\u001b[0m\u001b[0;34m=\u001b[0m\u001b[0mextobj\u001b[0m\u001b[0;34m)\u001b[0m\u001b[0;34m\u001b[0m\u001b[0;34m\u001b[0m\u001b[0m\n\u001b[0m\u001b[1;32m    562\u001b[0m     \u001b[0;32mreturn\u001b[0m \u001b[0mwrap\u001b[0m\u001b[0;34m(\u001b[0m\u001b[0mainv\u001b[0m\u001b[0;34m.\u001b[0m\u001b[0mastype\u001b[0m\u001b[0;34m(\u001b[0m\u001b[0mresult_t\u001b[0m\u001b[0;34m,\u001b[0m \u001b[0mcopy\u001b[0m\u001b[0;34m=\u001b[0m\u001b[0;32mFalse\u001b[0m\u001b[0;34m)\u001b[0m\u001b[0;34m)\u001b[0m\u001b[0;34m\u001b[0m\u001b[0;34m\u001b[0m\u001b[0m\n\u001b[1;32m    563\u001b[0m \u001b[0;34m\u001b[0m\u001b[0m\n",
            "\u001b[0;32m/usr/local/lib/python3.11/dist-packages/numpy/linalg/linalg.py\u001b[0m in \u001b[0;36m_raise_linalgerror_singular\u001b[0;34m(err, flag)\u001b[0m\n\u001b[1;32m    110\u001b[0m \u001b[0;34m\u001b[0m\u001b[0m\n\u001b[1;32m    111\u001b[0m \u001b[0;32mdef\u001b[0m \u001b[0m_raise_linalgerror_singular\u001b[0m\u001b[0;34m(\u001b[0m\u001b[0merr\u001b[0m\u001b[0;34m,\u001b[0m \u001b[0mflag\u001b[0m\u001b[0;34m)\u001b[0m\u001b[0;34m:\u001b[0m\u001b[0;34m\u001b[0m\u001b[0;34m\u001b[0m\u001b[0m\n\u001b[0;32m--> 112\u001b[0;31m     \u001b[0;32mraise\u001b[0m \u001b[0mLinAlgError\u001b[0m\u001b[0;34m(\u001b[0m\u001b[0;34m\"Singular matrix\"\u001b[0m\u001b[0;34m)\u001b[0m\u001b[0;34m\u001b[0m\u001b[0;34m\u001b[0m\u001b[0m\n\u001b[0m\u001b[1;32m    113\u001b[0m \u001b[0;34m\u001b[0m\u001b[0m\n\u001b[1;32m    114\u001b[0m \u001b[0;32mdef\u001b[0m \u001b[0m_raise_linalgerror_nonposdef\u001b[0m\u001b[0;34m(\u001b[0m\u001b[0merr\u001b[0m\u001b[0;34m,\u001b[0m \u001b[0mflag\u001b[0m\u001b[0;34m)\u001b[0m\u001b[0;34m:\u001b[0m\u001b[0;34m\u001b[0m\u001b[0;34m\u001b[0m\u001b[0m\n",
            "\u001b[0;31mLinAlgError\u001b[0m: Singular matrix"
          ]
        }
      ]
    },
    {
      "cell_type": "markdown",
      "source": [
        "## Punto 3: **Diagonalización**.\n",
        "\n",
        "Se sabe que un sistema físico es gobernado por las ecuaciones,\n",
        "\n",
        "\n",
        "\n",
        "$$\n",
        "\\begin{matrix}\n",
        "x' &=& 2x&-y&+z, \\\\\n",
        "y' &=&   &3y&-1z, \\\\\n",
        "z' &=& 2x&+y&+3z,\n",
        "\\end{matrix}\n",
        "$$\n",
        "\n",
        "donde $x',y',z'$ son las derivadas, en forma vectorial esto se puede representar como $\\mathbf{r}'=A\\mathbf{r}$ que tiene solución analítica general, $\\mathbf{r} = e^{At} \\mathbf{r}(0)$.\n",
        "\n",
        "a) Diagonalize $A$.\n",
        "\n",
        "b) Use el hecho de que $f(A) =U f(D) U^{-1}$ para encontrar $x(t),y(t),z(t)$ en el intervalo de tiempo $[0,2]$.\n",
        "\n",
        "c) Grafique $x(t),y(t),z(t)$ (use la condición inicial $\\mathbf{r}(0)=(1,1,2))$.\n",
        "\n",
        "d) Compare el resultado a la solución analítica,\n",
        "\n",
        "$$\n",
        "\\begin{align}\n",
        "2x & = x(0)(e^{2t}(1+e^{2t}-2t)) + y(0) (-2te^{2t}) + z(0)(e^{2t}(-1+e^{2t})), \\\\\n",
        "2y & = x(0)(-e^{2t}(-1+e^{2t}-2t)) + y(0)(2(t+1)e^{2t}) + z(0)(-e^{2t}(-1+e^{2t})), \\\\\n",
        "2z & = x(0)(e^{2t}(-1+e^{2t}+2t)) + y(0)(2te^{2t}) + z(0)(e^{2t}(1+e^{2t})).\n",
        "\\end{align}\n",
        "$$"
      ],
      "metadata": {
        "id": "Ajzpg16pd-Ul"
      }
    },
    {
      "cell_type": "code",
      "source": [
        "A = np.array([\n",
        "    [2, -1, 1],\n",
        "    [0, 3, -1],\n",
        "    [2, 1, 3]\n",
        "],dtype = float)\n",
        "\n",
        "r0 = np.array([1, 1, 2])\n",
        "\n",
        "eig = np.linalg.eig(A)\n",
        "val_propios = eig[0]\n",
        "vec_propios = eig[1]\n",
        "\n",
        "D = np.array([\n",
        "    [val_propios[0], 0, 0],\n",
        "    [0, val_propios[1], 0],\n",
        "    [0, 0, val_propios[2]]\n",
        "])\n",
        "vec_inv = np.linalg.inv(vec_propios)\n",
        "\n",
        "print(f'A = {vec_propios} @ {D} @ {vec_inv}')"
      ],
      "metadata": {
        "id": "gFlAdeASeQnu",
        "colab": {
          "base_uri": "https://localhost:8080/"
        },
        "outputId": "2f117a73-ade7-4e2d-e75c-e20b1b9dabf6"
      },
      "execution_count": 5,
      "outputs": [
        {
          "output_type": "stream",
          "name": "stdout",
          "text": [
            "A = [[-0.57735027+0.00000000e+00j -0.57735027+9.73718355e-09j\n",
            "  -0.57735027-9.73718355e-09j]\n",
            " [ 0.57735027+0.00000000e+00j  0.57735027+0.00000000e+00j\n",
            "   0.57735027-0.00000000e+00j]\n",
            " [-0.57735027+0.00000000e+00j  0.57735027-9.73718355e-09j\n",
            "   0.57735027+9.73718355e-09j]] @ [[4.+0.00000000e+00j 0.+0.00000000e+00j 0.+0.00000000e+00j]\n",
            " [0.+0.00000000e+00j 2.+1.68652966e-08j 0.+0.00000000e+00j]\n",
            " [0.+0.00000000e+00j 0.+0.00000000e+00j 2.-1.68652966e-08j]] @ [[-8.66025404e-01-0.00000000e+00j  1.92296269e-16+0.00000000e+00j\n",
            "  -8.66025404e-01-0.00000000e+00j]\n",
            " [ 4.20815161e-01-5.13495506e+07j  8.53827863e-01-5.13495506e+07j\n",
            "   4.33012702e-01+2.47886750e-08j]\n",
            " [ 4.45210243e-01+5.13495506e+07j  8.78222945e-01+5.13495506e+07j\n",
            "   4.33012702e-01-2.47886750e-08j]]\n"
          ]
        }
      ]
    },
    {
      "cell_type": "code",
      "source": [
        "r0 = np.array([1, 1, 2])\n",
        "\n",
        "sol = lambda t: (vec_propios @ np.exp(D * t) @ vec_inv) @ r0\n",
        "\n",
        "t = np.linspace(0, 2, 100)\n",
        "\n",
        "solu = np.array([sol(t) for t in t])\n",
        "\n",
        "plt.plot(t, solu[:,0], label = \"$x(t)$\")\n",
        "plt.plot(t, solu[:,1], label = \"$y(t)$\")\n",
        "plt.plot(t, solu[:,2], label = \"$z(t)$\")\n",
        "plt.legend()\n",
        "plt.xlabel('t')\n",
        "plt.show()"
      ],
      "metadata": {
        "colab": {
          "base_uri": "https://localhost:8080/",
          "height": 449
        },
        "id": "A7BGWzZdtVuH",
        "outputId": "61fd7b77-a437-4055-bdc4-72acb7d349f2"
      },
      "execution_count": 10,
      "outputs": [
        {
          "output_type": "display_data",
          "data": {
            "text/plain": [
              "<Figure size 640x480 with 1 Axes>"
            ],
            "image/png": "[encoded data removed]"
          },
          "metadata": {}
        }
      ]
    },
    {
      "cell_type": "code",
      "source": [
        "sol_an_x = lambda t: (np.exp(2 * t) * (1 + np.exp(2 * t) - 2 * t) + (-2 * t * np.exp(2 * t)) + 2 * np.exp(2 * t) * (-1 + np.exp(2 * t))) /2\n",
        "sol_an_y = lambda t: (-np.exp(2 * t) * (-1 + np.exp(2 * t) - 2 * t) + 2 * (t + 1) * np.exp(2 * t) + 2 * (-np.exp(2 * t) * (-1 + np.exp(2 * t)))) /2\n",
        "sol_an_z = lambda t: (np.exp(2 * t) * (-1 + np.exp(2 * t) + 2 * t) + 2 * t * np.exp(2 * t) + 2 * np.exp(2 * t) * (1 + np.exp(2 * t))) /2\n",
        "\n",
        "plt.plot(t, sol_an_x(t), label = \"Solución analítica de x\")\n",
        "plt.plot(t, sol_an_y(t), label = \"Solución analítica de y\")\n",
        "plt.plot(t, sol_an_z(t), label = \"Solución analítica de z\")\n",
        "plt.legend()\n",
        "plt.xlabel('t')"
      ],
      "metadata": {
        "colab": {
          "base_uri": "https://localhost:8080/",
          "height": 467
        },
        "id": "7gwQIFBjQYm_",
        "outputId": "abec5f72-0c9b-4f0c-cb52-22a1bcf26a9f"
      },
      "execution_count": 15,
      "outputs": [
        {
          "output_type": "execute_result",
          "data": {
            "text/plain": [
              "Text(0.5, 0, 't')"
            ]
          },
          "metadata": {},
          "execution_count": 15
        },
        {
          "output_type": "display_data",
          "data": {
            "text/plain": [
              "<Figure size 640x480 with 1 Axes>"
            ],
            "image/png": "[encoded data removed]"
          },
          "metadata": {}
        }
      ]
    },
    {
      "cell_type": "markdown",
      "source": [
        "Se observa que la solución analítica y la obtenida mediante el resultado del punto B coinciden"
      ],
      "metadata": {
        "id": "dQaTY078SWwC"
      }
    },
    {
      "cell_type": "markdown",
      "source": [
        "## Punto 4: **Modelo de población de una especie de pajaros**\n",
        "Se estudiará un modelo de crecimiento de la poblacion para una especie de pájaros. En esta población se supone que el número de pajaros hembras es igual al número de machos.  Sea :\n",
        "- $p_{j,n-1}$ la poblacion juvenil (inmadura) de hembras en el año (n-1)\n",
        "- $p_{a,n-1}$ el numero de hembras adultas en el mismo año.\n",
        "\n",
        "Algunos de los pájaros jóvenes morirán  durante el año. Se suponen que cierta proporción de pájaros $\\alpha$ de los pájaros jovenes sobrevivirán para llegar a adultos en la primavera del año $n$. Cada hembra que sobrevive prdocuce huevos en la primavera, los incupan y producen, en promedio, $k$ pájaros hembras jóvenes en al siguiente primavera. Los adultos también mueren y la proporcion de adultos que sobrevive de una primavera a la siguiente es $\\beta$.\n",
        "\n",
        "Un modelo para el crecimiento poblacional de pajaros\n",
        "\\begin{equation}\n",
        "p_{j,n} = kp_{a, n-1}\n",
        "\\end{equation}\n",
        "\n",
        "\n",
        "\\begin{equation}\n",
        "p_{a,n} =\\alpha p_{j,n-1} + \\beta p_{a, n-1}\n",
        "\\end{equation}\n",
        "\n",
        "Que puede ser escrita como ${\\bf p_n}=A{\\bf p_{n-1}}$, Siendo A la matrix definida en las ecuaciones anteriores, y ${\\bf p_n}$ un vector. Para la evolución temporal se cumple que:\n",
        "\n",
        "- ${\\bf p_1}=A{\\bf p_{0}}$, ${\\bf p_2}=A{\\bf p_{1}}= A(A{\\bf p_0})=A^2{\\bf p_{0}}$ $...$ y asi sucesivamente. Entonces:\n",
        "\n",
        "\\begin{equation}\n",
        "{\\bf p_n} = A^n {\\bf p_{0}}\n",
        "\\end{equation}\n",
        "\n",
        "\n",
        "Supongamos que tenemos 10 hembras  (y 10 machos) adultos y no hay jovenes, la supongmaos que la matriz A viene dada por:\n",
        "\n",
        "\\begin{bmatrix}\n",
        "0 & 2 \\\\\n",
        "0.3 & 0.5\n",
        "\\end{bmatrix}\n",
        "\n",
        "para la primera poblacion $p_{j,1}=20$, $p_{a,1}=5$, el total de hembras es 25 y la razón jovenes adultas es de 4 a 1. Muestre que la razon $p_{j,n}/p_{a,n}$ converge $1.88$,(como no se puede tener un número racional de pájaros,. aproxime siempre el resultados al menor entero).\n",
        "\n",
        "- Para la  solución general del modelo del problema de valores y vetores propios\n",
        "se tiene que:\n",
        "\\begin{equation}\n",
        "p_n=\\lambda_1^n\\left [ a_1 \\vec{v}_1 +\\left( \\frac{\\lambda_2}{\\lambda_1} \\right)^n \\right]a_2 \\vec{v}_2\n",
        "\\end{equation}\n",
        "\n",
        "Asumiendo que $\\lambda_2/ \\lambda_1 < 1$, entonces $(\\lambda_2/ \\lambda_1)^n << 1$ cuando n crece.  Entonce spara n grande se cumple que:\n",
        "\n",
        "donde $p_n=a_1\\lambda_1^n\\vec{v}_1$\n",
        "\n",
        "\n",
        "donde:\n",
        "\n",
        "${\\bf p_0} = a_1 \\vec{v}_1 + a_2 \\vec{v}_2$, con $v_1$ y $v_2$ vectores propios de A"
      ],
      "metadata": {
        "id": "VCfTmYWleO0V"
      }
    },
    {
      "cell_type": "markdown",
      "source": [
        "#Punto 5: Sistemas de ecuaciones\n",
        "Considere el circuito de la figura. Usando las leyes de Kirchoff escriba las ecuaciones para corriente y voltaje. Luego, determine la forma matricial y encuentre los valores de la corriente que circula por cada nodo, es decir, $i_{12}$, $i_{23}$ y asi sucesivamente."
      ],
      "metadata": {
        "id": "nwUROj7aRWyK"
      }
    },
    {
      "cell_type": "markdown",
      "source": [
        "![image.png](data:image/png;base64,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)"
      ],
      "metadata": {
        "id": "Inwz5YJZRTZs"
      }
    },
    {
      "cell_type": "code",
      "source": [
        "A = np.array([\n",
        "    [1, -1, -1, 0, 0, 0],\n",
        "    [0, 1, 0, 0, 1, -1],\n",
        "    [0, 0, 1, -1, 0, 0],\n",
        "    [0, 0, 0, 1, -1, 0],\n",
        "    [0, 15, 5, 0, 0, 20],\n",
        "    [0, -25, 10, 5, 0, 15]\n",
        "])\n",
        "\n",
        "B = np.array([\n",
        "    [0],\n",
        "    [0],\n",
        "    [0],\n",
        "    [0],\n",
        "    [200],\n",
        "    [0]\n",
        "])\n",
        "\n",
        "sol = np.linalg.solve(A, B)\n",
        "print(f'i12 = {sol[0]} , i25 = {sol[1]}, i23 = {sol[2]}, i34 = {sol[3]} , i45 = {sol[4]}, i56 = {sol[5]}')"
      ],
      "metadata": {
        "colab": {
          "base_uri": "https://localhost:8080/"
        },
        "id": "l8jmPlPx8Z-v",
        "outputId": "62dd3b68-e4c1-45e7-c66c-2c8a0c1c7f76"
      },
      "execution_count": 27,
      "outputs": [
        {
          "output_type": "stream",
          "name": "stdout",
          "text": [
            "i12 = [6.15384615] , i25 = [4.61538462], i23 = [1.53846154], i34 = [1.53846154] , i45 = [1.53846154], i56 = [6.15384615]\n"
          ]
        }
      ]
    }
  ]
}