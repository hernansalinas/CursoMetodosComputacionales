{
  "nbformat": 4,
  "nbformat_minor": 0,
  "metadata": {
    "colab": {
      "provenance": [],
      "collapsed_sections": [
        "u1OxHrJINZ9c",
        "ryB1EksIOV_l",
        "Qz8QJCjWYds5"
      ]
    },
    "kernelspec": {
      "name": "python3",
      "display_name": "Python 3"
    },
    "language_info": {
      "name": "python"
    }
  },
  "cells": [
    {
      "cell_type": "code",
      "execution_count": 1,
      "metadata": {
        "id": "aF61FjHUNGJA"
      },
      "outputs": [],
      "source": [
        "#@title Librerias\n",
        "import numpy as np\n",
        "import numpy.linalg as la\n",
        "import matplotlib.pyplot as plt\n",
        "from scipy.integrate import quad, fixed_quad, trapezoid, simpson,tplquad,nquad\n",
        "from sympy import symbols, diff, integrate, lambdify"
      ]
    },
    {
      "cell_type": "markdown",
      "source": [
        "# Parcial II - Métodos Computacionales (Integrales y Matrices)\n",
        "**2024-2**\n",
        "\n",
        "---\n",
        "\n",
        "*Nombre:* Laura Camila Rios Quintero\n",
        "\n",
        "*Identificación:*\n",
        "\n",
        "---\n",
        "* Sea honest@\n",
        "* El uso de herramientas de IA no está permitido\n",
        "* Puede consultar la documentación de las librerias.\n",
        "* Sea ordendado dando la solución a cada punto.\n",
        "* *Asegurese que el notebook corra completamente*\n",
        "* Suba su notebook al GitHub (en su carpeta) y recuerde hacer pull-request"
      ],
      "metadata": {
        "id": "VqRX_GXcNZOl"
      }
    },
    {
      "cell_type": "markdown",
      "source": [
        "# 1\n",
        "\n",
        "**(20 puntos)**\n",
        "Considera la siguiente integral:\n",
        "\n",
        "$$\n",
        "I = \\int_0^1 \\int_{x^2}^{x+1} \\int_{y^2}^{y+2} \\int_{z^2}^{z+3} (x+y+z+w) \\, dw \\, dz \\, dy \\, dx\n",
        "$$\n",
        "\n",
        "Encuentre la solución númerica usando unicamente `quad`. Encuentre el error relativo, para esto emplee el siguiente código que usa `nquad`:\n",
        "\n",
        "\n",
        "```python\n",
        "# Definir el integrando\n",
        "integrand = lambda w, z, y, x: x + y + z + w\n",
        "\n",
        "# Definir los límites usando funciones lambda\n",
        "w_limits = lambda z, y, x: [z**2, z+3]\n",
        "z_limits = lambda y, x: [y**2, y+2]\n",
        "y_limits = lambda x: [x**2, x+1]\n",
        "x_limits = lambda w: [0, 1]\n",
        "\n",
        "# Calcular la integral usando nquad\n",
        "result, error = nquad(\n",
        "    integrand,\n",
        "    [w_limits, z_limits, y_limits, x_limits]\n",
        ")\n",
        "\n",
        "print(f\"Resultado de la integral: {result}\")\n",
        "print(f\"Error estimado: {error}\")\n",
        "```\n",
        "\n"
      ],
      "metadata": {
        "id": "u1OxHrJINZ9c"
      }
    },
    {
      "cell_type": "code",
      "source": [
        "# Aqui va su código\n",
        "\n",
        "funcion = lambda w,z,y,x: x+y+z+w\n",
        "\n",
        "\n",
        "\n",
        "from scipy.integrate import quad\n",
        "\n",
        "\n",
        "\n",
        "\n",
        "def integral_w(z, y, x):\n",
        "    return quad(funcion, z**2, z+3, args=(z, y, x))[0]\n",
        "\n",
        "\n",
        "def integral_z(y, x):\n",
        "    return quad(integral_w, y**2, y+2, args=(y, x))[0]\n",
        "\n",
        "def integral_y(x):\n",
        "    return quad(integral_z, x**2, x+1, args=(x,))[0]\n",
        "\n",
        "\n",
        "resultado = quad(integral_y, 0, 1)[0]\n",
        "\n",
        "print(f\"Resultado numérico: {resultado}\")\n",
        "\n",
        "\n"
      ],
      "metadata": {
        "id": "cZURwltmOSgu",
        "colab": {
          "base_uri": "https://localhost:8080/"
        },
        "outputId": "06198d51-0f9d-42f2-a8dd-62c03bd30976"
      },
      "execution_count": null,
      "outputs": [
        {
          "output_type": "stream",
          "name": "stdout",
          "text": [
            "Resultado numérico: -0.6500971589021813\n"
          ]
        }
      ]
    },
    {
      "cell_type": "code",
      "source": [
        "w_limits = lambda z, y, x: [z**2, z+3]\n",
        "z_limits = lambda y, x: [y**2, y+2]\n",
        "y_limits = lambda x: [x**2, x+1]\n",
        "x_limits =  [0, 1]\n",
        "\n",
        "resultado_exacto = nquad(funcion,[w_limits,z_limits,y_limits,x_limits])\n",
        "\n",
        "#Error\n",
        "error = abs(resultado-resultado_exacto[0])\n",
        "\n",
        "print(error)\n"
      ],
      "metadata": {
        "colab": {
          "base_uri": "https://localhost:8080/"
        },
        "id": "ubtY3mQKoLZE",
        "outputId": "e2ef11ee-d7e5-4f4c-b755-effc1baf1c26"
      },
      "execution_count": null,
      "outputs": [
        {
          "output_type": "stream",
          "name": "stdout",
          "text": [
            "0.0\n"
          ]
        }
      ]
    },
    {
      "cell_type": "markdown",
      "source": [
        "# 2\n",
        "\n",
        "**(40 puntos)**\n",
        "Un lazo de corriente de radio $a$  transporta una corriente $I$ en el punto P que está a una distancia $r$ del centro del lazo con coordenadas esféricas (r, θ, φ). Resuelve para la componente φ del potencial vectorial en el punto $P$ en términos de integrales elípticas:\n",
        "\n",
        "\\begin{equation}\n",
        "A_{\\phi}(r, \\theta)=\\frac{\\mu_0}{4\\pi}\\frac{4Ia}{\\sqrt{a^2+r^2+2ar\\sin \\theta}}\\left(\\frac{(2-k^2)K(k)-2E(k)}{k^2} \\right)\n",
        "\\end{equation}\n",
        "\n",
        "donde\n",
        "\n",
        "\\begin{equation}\n",
        "K(k)=\\int_{0}^{\\pi/2} \\frac{\\mathrm{d\\phi}}{\\sqrt{1-k^2\\sin^2\\phi}}\n",
        "\\end{equation}\n",
        "\n",
        "\\begin{equation}\n",
        "E(k)=\\int_{0}^{\\pi/2} \\mathrm{d\\phi} \\sqrt{1-k^2\\sin^2\\phi}\n",
        "\\end{equation}\n",
        "\n",
        "\\begin{equation}\n",
        "k^2=\\frac{4ar\\sin\\theta}{a^2+r^2+2ar\\sin\\theta}\n",
        "\\end{equation}\n",
        "\n",
        "Aquí, $K(k)$ es una integral elíptica completa del primer tipo y $E(k)$ es una integral elíptica completa del segundo tipo.\n",
        "\n",
        "\n",
        "Para\n",
        "* $a$ = 1,\n",
        "* $I$ = 3,\n",
        "* $μ0/4π$ = 1\n",
        "\n",
        "\n",
        "Usando funciones explicitas explique claramente las entradas, salidas y procedimientos dentro de las mismas. Recuerde para resolver las integrales usar `quad` y grafique para:\n",
        "\n",
        "*a)* $A_φ(r = 1.1, θ)$ vs. $0\\leq θ\\leq \\pi$\n",
        "\n",
        "*b)* $A_φ(r, θ = π∕3)$ vs. $0\\leq r \\leq 10$\n",
        "\n",
        "Tenga cuidado con la convergencia de su integral\n",
        "\n"
      ],
      "metadata": {
        "id": "ryB1EksIOV_l"
      }
    },
    {
      "cell_type": "code",
      "source": [
        "\n",
        "# Integral K(k)\n",
        "\n",
        "def K(k_cuadrado):\n",
        "\n",
        "    integrando_K = lambda x: 1/np.sqrt(1-(k_cuadrado*np.sin(x)**2))\n",
        "    return quad(integrando_K,0,np.pi/2)[0]\n",
        "\n",
        "#Integral E(k)\n",
        "def E(k_cuadrado):\n",
        "\n",
        "    integrando_E = lambda x: np.sqrt(1- (k_cuadrado*np.sin(x)**2))\n",
        "    return quad(integrando_E,0,np.pi/2)[0]\n",
        "\n",
        "\n",
        "def A(r,x,a=1,I=3):\n",
        "    k = (4*r*np.sin(x))/(1+ r**2 + 2*r*np.sin(x))\n",
        "\n",
        "    #Metiendo k en E y K\n",
        "\n",
        "    valor_K = K(k)\n",
        "    valor_E = E(k)\n",
        "\n",
        "    expresion_A = (4*I*a / np.sqrt(a**2 + r**2 +2*a*r*np.sin(x)))*(((2-k)*valor_K - 2*valor_E)/k)\n",
        "    return expresion_A\n"
      ],
      "metadata": {
        "id": "-Nqa2aU7vUBo"
      },
      "execution_count": 14,
      "outputs": []
    },
    {
      "cell_type": "code",
      "source": [
        "# a\n",
        "# Grafica\n",
        "\n",
        "valores_x= np.linspace(0,np.pi,250)\n",
        "\n",
        "valores_A = []\n",
        "for i in valores_x:\n",
        "    valores_A.append(A(1.1,i))\n",
        "\n",
        "\n",
        "plt.plot(valores_x, valores_A, label = 'Grafica')\n",
        "plt.xlabel('Ángulos')\n",
        "plt.ylabel('A en función del ángulo')\n",
        "plt.title('Grafica ángulos vs A')\n",
        "plt.legend()\n",
        "plt.grid(True)\n",
        "plt.show()"
      ],
      "metadata": {
        "colab": {
          "base_uri": "https://localhost:8080/",
          "height": 507
        },
        "id": "3VW37JpYl8eR",
        "outputId": "8fa5d501-5ddd-45b0-810a-ee8b8188ac9f"
      },
      "execution_count": 16,
      "outputs": [
        {
          "output_type": "stream",
          "name": "stderr",
          "text": [
            "<ipython-input-14-023701d45cfd>:23: RuntimeWarning: invalid value encountered in scalar divide\n",
            "  expresion_A = (4*I*a / np.sqrt(a**2 + r**2 +2*a*r*np.sin(x)))*(((2-k)*valor_K - 2*valor_E)/k)\n"
          ]
        },
        {
          "output_type": "display_data",
          "data": {
            "text/plain": [
              "<Figure size 640x480 with 1 Axes>"
            ],
            "image/png": "[encoded data removed]"
          },
          "metadata": {}
        }
      ]
    },
    {
      "cell_type": "code",
      "source": [
        "#b\n",
        "valores_r = np.linspace(0,10,250)\n",
        "\n",
        "valores_A2 = []\n",
        "for i in valores_r:\n",
        "    valores_A2.append(A(i,np.pi/3))\n",
        "\n",
        "\n",
        "plt.plot(valores_r, valores_A2, label = 'Grafica')\n",
        "plt.xlabel('Distancia')\n",
        "plt.ylabel('A en función de la distancia')\n",
        "plt.title('Grafica Distancia vs A')\n",
        "plt.legend()\n",
        "plt.grid(True)\n",
        "plt.show()"
      ],
      "metadata": {
        "colab": {
          "base_uri": "https://localhost:8080/",
          "height": 507
        },
        "id": "Yq_BLAB1opCR",
        "outputId": "c51418b0-9247-47ab-da3d-56bb2067d9ef"
      },
      "execution_count": 17,
      "outputs": [
        {
          "output_type": "stream",
          "name": "stderr",
          "text": [
            "<ipython-input-14-023701d45cfd>:23: RuntimeWarning: invalid value encountered in scalar divide\n",
            "  expresion_A = (4*I*a / np.sqrt(a**2 + r**2 +2*a*r*np.sin(x)))*(((2-k)*valor_K - 2*valor_E)/k)\n"
          ]
        },
        {
          "output_type": "display_data",
          "data": {
            "text/plain": [
              "<Figure size 640x480 with 1 Axes>"
            ],
            "image/png": "[encoded data removed]"
          },
          "metadata": {}
        }
      ]
    },
    {
      "cell_type": "markdown",
      "source": [
        "# 3\n",
        "\n",
        "(**40 puntos**) El **método de la potencia inversa** es una técnica iterativa utilizada para calcular el autovalor de menor magnitud de una matriz cuadrada. Es una variante del **método de la potencia**, que normalmente encuentra el autovalor de mayor magnitud. Para ello, se aprovecha la propiedad de la matriz inversa:\n",
        "\n",
        "$$ A^{-1} v = \\frac{1}{\\lambda} v $$\n",
        "\n",
        "\n",
        "## Algoritmo\n",
        "\n",
        "El método de la potencia inversa sigue los siguientes pasos:\n",
        "\n",
        "1. Elegir un vector inicial $x^{(0)}$ no nulo.\n",
        "\n",
        "2. Para cada iteración $k$, resolver el sistema lineal:\n",
        "   \n",
        "   $$ A y^{(k)} = x^{(k-1)} $$\n",
        "   \n",
        "   donde $y^{(k)}$ es un **vector intermedio** que se obtiene resolviendo el sistema lineal. Este vector representa la solución del sistema en cada iteración y es crucial para aproximar el autovector de menor autovalor.\n",
        "\n",
        "3. Normalizar $y^{(k)}$ para obtener un nuevo vector de iteración:\n",
        "   \n",
        "   $$ x^{(k)} = \\frac{y^{(k)}}{\\| y^{(k)} \\|} $$\n",
        "   \n",
        "4. Aproximar el autovalor mediante el cociente de Rayleigh:\n",
        "   \n",
        "   $$ \\lambda^{(k)} = \\frac{(x^{(k)})^T A x^{(k)}}{(x^{(k)})^T x^{(k)}} $$\n",
        "   \n",
        "5. Repetir los pasos anteriores hasta que la diferencia entre valores sucesivos de $\\lambda$ sea menor que un umbral de tolerancia.\n",
        "\n",
        "---\n",
        "\n",
        "*a)* Escriba una función llamada `potencia_inversa` que dada una matriz A encuentre su valor propio menos dominante (con una tolerancia de 1e-7 usando la norma Euclidiana) y su correspondiente autovector. Para obtener $y^{(k)}$ puede emplear `np.linalg.solve` recordando que $Ay = x$.\n",
        "\n",
        "*b)* Usando la matriz A, encuentre el $\\lambda_{min}$ y el correspondiente autovector. Examine la convergencia de su autovalor en función de las iteraciones, esto es, haga un gráfico de $\\lambda(k)$\n",
        "\n",
        "$$\n",
        "\\begin{bmatrix}\n",
        "5 & 2 \\\\\n",
        "2 & 2\n",
        "\\end{bmatrix}\n",
        "$$\n",
        "\n",
        "*c)* Compare su resultado con `np.linalg.eig`"
      ],
      "metadata": {
        "id": "pKubcNlWP0nc"
      }
    },
    {
      "cell_type": "code",
      "source": [
        "# Aqui va su código\n",
        "\n"
      ],
      "metadata": {
        "id": "ZhnTbHAgP4XJ"
      },
      "execution_count": null,
      "outputs": []
    },
    {
      "cell_type": "markdown",
      "source": [
        "#4\n",
        "\n",
        "**(10 puntos)**\n",
        "Sea $A$ una matriz cuadrada de tamaño $n \\times n$. Se sabe que el determinante de una matriz es igual al producto de sus autovalores:\n",
        "\n",
        "$$\n",
        "\\det(A) = \\prod_{i=1}^{n} \\lambda_i\n",
        "$$\n",
        "\n",
        "donde $\\lambda_1, \\lambda_2, \\dots, \\lambda_n$ son los autovalores de $A$.\n",
        "\n",
        "Usando una matriz aleatoria $A$ de $5\\times 5$, demuestre esta propiedad. Puede usar las funciones de `np.linalg`."
      ],
      "metadata": {
        "id": "Qz8QJCjWYds5"
      }
    },
    {
      "cell_type": "code",
      "source": [
        "# Matriz random 5x5\n",
        "\n",
        "A = np.random.randint(-10, 10, (5, 5))  # Enteros entre -10 y 10\n",
        "print(A)\n",
        "\n",
        "det_A = np.linalg.det(A)    # determinante de A\n",
        "\n",
        "Valores_propios = np.linalg.eigvals(A)\n",
        "\n",
        "producto = np.prod(Valores_propios)  # Productos de los valores propios\n",
        "\n",
        "\n",
        "\n",
        "print(f'determinante de A: {det_A}, producto de valores poropios: {producto}')"
      ],
      "metadata": {
        "colab": {
          "base_uri": "https://localhost:8080/"
        },
        "id": "yQn449TVqmTJ",
        "outputId": "9238dbf0-8e05-4e89-b7ac-9d5fd0452dde"
      },
      "execution_count": 21,
      "outputs": [
        {
          "output_type": "stream",
          "name": "stdout",
          "text": [
            "[[  0  -8 -10   9   1]\n",
            " [ -7   9  -3  -8  -9]\n",
            " [ -4   6  -6   1   9]\n",
            " [  3  -3   2 -10  -8]\n",
            " [  9  -2  -6 -10   0]]\n",
            "determinante de A: 127092.00000000007, producto de valores poropios: (127092.00000000017-0j)\n"
          ]
        }
      ]
    }
  ]
}