{
  "nbformat": 4,
  "nbformat_minor": 0,
  "metadata": {
    "colab": {
      "provenance": []
    },
    "kernelspec": {
      "name": "python3",
      "display_name": "Python 3"
    },
    "language_info": {
      "name": "python"
    }
  },
  "cells": [
    {
      "cell_type": "code",
      "execution_count": 16,
      "metadata": {
        "id": "rZuc8vXcWuxy"
      },
      "outputs": [],
      "source": [
        "#@title Librerias\n",
        "import numpy as np\n",
        "import matplotlib.pyplot as plt\n",
        "import pandas as pd\n",
        "import sympy as sp\n",
        "from scipy.interpolate import lagrange"
      ]
    },
    {
      "cell_type": "markdown",
      "source": [
        "# Laboratorio 05: Diferenciación\n",
        "\n",
        "---\n",
        "### Profesor: Juan Marcos Marín\n",
        "### Nombre: Laura Camila Rios Quintero\n",
        "*Métodos computacionales 2024-II*\n",
        "\n",
        "---"
      ],
      "metadata": {
        "id": "MGwGfceuWxy3"
      }
    },
    {
      "cell_type": "markdown",
      "source": [
        "#1.\n",
        "En un cirtcuito con un voltaje de  $\\varepsilon(t)$ y una inductancia de $L$, la primera ley de kirshhoff nos da la siguiente relación\n",
        "\n",
        "\\begin{equation}\n",
        "\\varepsilon(t) = L\\frac{\\mathrm{d}i}{\\mathrm{d}t} + Ri\n",
        "\\end{equation}\n",
        "\n",
        "donde $R$, es la resistencia del ciruito, $I$ es la corriente. Suponga que medimos la corriente con varios valores de $t$ y obtenemos:\n",
        "\n",
        "``t = 1.00, 1.01, 1.02, 1.03, 1.04``\n",
        "\n",
        "``i = 3.10, 3.12, 3.14, 3.18, 3.24``\n",
        "\n",
        "\n",
        "donde $t$ se mide en segundos, $I$ se da en Amperios, la inductancia $L= 0.98$ H, la resistencia es de 0.142 $\\Omega$. Aproxime el votaje  $\\varepsilon(t)$ en los valores t=1.00, 1.01, 1.02, 1.03, 1.04 ,  para ello realice lo siguiente:\n",
        "\n",
        "\n",
        "- Construya un data frame de pandas con los valores de tiempo y corriente\n",
        "- Emplee el metodo de diferencias finitas y de tres puntos para calcular la derivada numérica.\n",
        "- Ahora, encuentre un polinomio de interpolación usando alguno de los métodos vistos y calcule la derivada 'exacta'. Compare sus resultados."
      ],
      "metadata": {
        "id": "GDIXnKTTDwRs"
      }
    },
    {
      "cell_type": "code",
      "source": [
        "# Datos\n",
        "t = np.array([1.00, 1.01, 1.02, 1.03, 1.04])\n",
        "\n",
        "i = np.array([3.10, 3.12, 3.14, 3.18, 3.24] )\n",
        "\n",
        "datos = pd.DataFrame({'t(s)': t, 'i(A)': i})\n",
        "print(datos)"
      ],
      "metadata": {
        "id": "W9XaPw3KB-Uj",
        "colab": {
          "base_uri": "https://localhost:8080/"
        },
        "outputId": "3af90a0f-6d7e-4d21-f7b8-37772e512d62"
      },
      "execution_count": 6,
      "outputs": [
        {
          "output_type": "stream",
          "name": "stdout",
          "text": [
            "   t(s)  i(A)\n",
            "0  1.00  3.10\n",
            "1  1.01  3.12\n",
            "2  1.02  3.14\n",
            "3  1.03  3.18\n",
            "4  1.04  3.24\n"
          ]
        }
      ]
    },
    {
      "cell_type": "code",
      "source": [
        "# Calculo de la derivada con el metodo de derivada de tres puntos\n",
        "\n",
        "\n",
        "def derivada_tres_puntos(i_valores, h):\n",
        "    n = len(i_valores)\n",
        "    derivada = np.zeros(n)\n",
        "\n",
        "    for i in range(n):\n",
        "        if i == 0:\n",
        "            # Diferencias finitas adelantadas\n",
        "            derivada[i] = (-3 * i_valores[i] + 4 * i_valores[i+1] - i_valores[i+2]) / (2 * h)\n",
        "        elif i == n - 1:\n",
        "            # Diferencias finitas atrasadas\n",
        "            derivada[i] = (3 * i_valores[i] - 4 * i_valores[i-1] + i_valores[i-2]) / (2 * h)\n",
        "        else:\n",
        "            # Diferencias finitas centradas\n",
        "            derivada[i] = (i_valores[i+1] - i_valores[i-1]) / (2 * h)\n",
        "\n",
        "    return derivada"
      ],
      "metadata": {
        "id": "KM6-QaUcBhjk"
      },
      "execution_count": 8,
      "outputs": []
    },
    {
      "cell_type": "code",
      "source": [
        "L = 0.98\n",
        "R = 0.142\n",
        "\n",
        "datos['di/dt'] = derivada_tres_puntos(i,0.01)   # agregar columna a la dataframe con las derivadas\n",
        "\n",
        "datos['Voltaje'] = L * datos['di/dt'] + R * datos['i(A)']    # Agregar voltaje\n",
        "\n",
        "print(datos)"
      ],
      "metadata": {
        "colab": {
          "base_uri": "https://localhost:8080/"
        },
        "id": "uNM9lUwMv47B",
        "outputId": "6f9b7469-d6be-400b-fe69-47030a0108cf"
      },
      "execution_count": 15,
      "outputs": [
        {
          "output_type": "stream",
          "name": "stdout",
          "text": [
            "   t(s)  i(A)  di/dt  Voltaje\n",
            "0  1.00  3.10    2.0  2.40020\n",
            "1  1.01  3.12    2.0  2.40304\n",
            "2  1.02  3.14    3.0  3.38588\n",
            "3  1.03  3.18    5.0  5.35156\n",
            "4  1.04  3.24    7.0  7.32008\n"
          ]
        }
      ]
    },
    {
      "cell_type": "code",
      "source": [
        "# interpolar los datos\n",
        "\n",
        "poly_lagrenge = lagrange(t,i)     # polinomio de lagrange para los datos\n",
        "derivada_interp = np.gradient(poly_lagrenge,t)\n",
        "\n",
        "datos['di/dt interpolado'] = np.gradient(poly_lagrenge,t)\n",
        "datos['Voltaje interpolado'] = L * datos['di/dt interpolado'] + R * datos['i(A)']\n",
        "\n",
        "print(datos)"
      ],
      "metadata": {
        "colab": {
          "base_uri": "https://localhost:8080/"
        },
        "id": "NfcWc9NRyXXl",
        "outputId": "63a9a643-f0d5-430d-eb63-abe3fc76afc5"
      },
      "execution_count": 22,
      "outputs": [
        {
          "output_type": "stream",
          "name": "stdout",
          "text": [
            "   t(s)  i(A)  di/dt  Voltaje  di/dt interpolado  Voltaje interpolado\n",
            "0  1.00  3.10    2.0  2.40020       4.250000e+07         4.165000e+07\n",
            "1  1.01  3.12    2.0  2.40304      -2.209292e+07        -2.165106e+07\n",
            "2  1.02  3.14    3.0  3.38588       8.526583e+05         8.356056e+05\n",
            "3  1.03  3.18    5.0  5.35156       2.166666e+07         2.123333e+07\n",
            "4  1.04  3.24    7.0  7.32008      -4.505782e+07        -4.415667e+07\n"
          ]
        }
      ]
    },
    {
      "cell_type": "code",
      "source": [],
      "metadata": {
        "id": "HXz6zAFT5oSM"
      },
      "execution_count": null,
      "outputs": []
    },
    {
      "cell_type": "markdown",
      "source": [
        "# 2.\n",
        "\n",
        "Usando la siguiente tabla, determinar la velocidad instantanea para cada uno de los tiempo y distancias mostrados.\n",
        "\n",
        "* ¿Cuál será la velocidad para $t=12$?\n",
        "\n",
        "![image.png](data:image/png;base64,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)\n",
        "\n"
      ],
      "metadata": {
        "id": "hR2a9StYy9T6"
      }
    },
    {
      "cell_type": "code",
      "source": [
        "# datos\n",
        "\n",
        "tiempo = np.array([0,3,5,8,10,13])\n",
        "distancia = np.array([0,225,383,623,742,993])\n",
        "\n",
        "\n",
        "# velocidad intantanea\n",
        "\n",
        "dx_dt = np.gradient(distancia,tiempo)"
      ],
      "metadata": {
        "id": "O2CUm8_EzUOp"
      },
      "execution_count": 25,
      "outputs": []
    },
    {
      "cell_type": "code",
      "source": [
        "poly_lagrenge = lagrange(tiempo,distancia)\n",
        "\n",
        "\n",
        "print(poly_lagrenge)\n",
        "derivada = np.polyder(poly_lagrenge)   # derivada del polinomio de lagrange (velocidad)\n",
        "print(derivada)"
      ],
      "metadata": {
        "colab": {
          "base_uri": "https://localhost:8080/"
        },
        "id": "NlqsvDC4Ad30",
        "outputId": "a6d442cf-bd88-4104-e864-5ed74a5308be"
      },
      "execution_count": 30,
      "outputs": [
        {
          "output_type": "stream",
          "name": "stdout",
          "text": [
            "         5         4         3         2\n",
            "0.01746 x - 0.508 x + 4.962 x - 18.75 x + 98.9 x\n",
            "         4         3         2\n",
            "0.08732 x - 2.032 x + 14.88 x - 37.5 x + 98.9\n"
          ]
        }
      ]
    },
    {
      "cell_type": "code",
      "source": [
        "# velocidad para t= 12\n",
        "\n",
        "derivada(12)"
      ],
      "metadata": {
        "colab": {
          "base_uri": "https://localhost:8080/"
        },
        "id": "W46_zzKHCl4X",
        "outputId": "889cd14c-5897-4371-a299-8d91663f2f74"
      },
      "execution_count": 31,
      "outputs": [
        {
          "output_type": "execute_result",
          "data": {
            "text/plain": [
              "91.73697802196048"
            ]
          },
          "metadata": {},
          "execution_count": 31
        }
      ]
    },
    {
      "cell_type": "markdown",
      "source": [
        "# 3.\n",
        "\n",
        "Para un cohete, se recabaron los datos siguientes de la distancia\n",
        "recorrida $y$ versus el tiempo $t$:\n",
        "\n",
        "![image.png](data:image/png;base64,iVBORw0KGgoAAAANSUhEUgAAAa8AAAAzCAYAAAAguIeNAAAAAXNSR0IArs4c6QAAAARnQU1BAACxjwv8YQUAAAAJcEhZcwAADsMAAA7DAcdvqGQAAA85SURBVHhe7Z0LlI1VFMc3FUVi6aliiUxNj5FXDxJSS6/pZWhSSanVeKZCemPWUjMSMSlhSbIqehCaWGV6EAtDa+RNUUaliSiv0On7n3u+8d3PvfebOzHuPrN/a91lzjle555z9j5nn332rqAcSBAEQRAYUdH8KgiCIAhsEOUlCIIgsEOUlyAIgsCOcqO8Fi5cSNOmTTMlQRAEgTPlRnktW7aMZs+ebUqCIAgCZ8RsKAiCILBDlJcgCILADlFegiAIAjtKrbz+/fdf85MQiZUrV1KXLl2oSZMm1KdPH9q+fbtp4cvXX39Nd999N1166aXUvHlzeuutt0xLiM8//5xatGgR9nnhhRdMKx9K0o9Zs2bRrbfeSldffTW9/PLLxPGt/w033HBYP/H5559/dDv38fz111/p9ttvp2+//dbUHCJo/EaMGEHXXHMN3XLLLTR9+nRTm5hE62fQeh06dOhh45vofQ0DETbiZffu3apRo0amxIPRo0erjIwMUzq6FBUVqaSkJDVz5kz1559/KmeSqLZt25pWvkyZMkUtXLhQ7d27V3311Veqdu3aKjc317QqNXHiRHX//fcrR1EXf3bt2mVa+RDUj3nz5qmUlBS1bNkyVVhYqBwBoTIzM00rHzA3vX1Ef5KTk00r7/HMz8/XMgrjNGPGDFMbImj8srOzVVpamtq8ebMqKCjQf09eXp5pTSxi9TNovTqbazVu3Liw8d23b59pTXziPnlt2bKFPvvsMzrllFNo/fr15CwA0xKdP/74g+bMmUNr1qwxNXbz3nvv6Z3QzTffTNWrV6e+ffvq3Sw8HjnToUMHuuKKK6hy5cp6V9q5c2eaO3euaSXav38/Va1alWrUqFH8qVKlimnlQ1A/hg8fTllZWXTZZZfR2WefTWPGjKE333yTDh48aH4HDzA3vX2cNGkSde/e3bTyHs/Vq1fTBx98QBdeeKGpOUSs8YNFadSoUTR27Fg655xz9Kll2LBh9Morr5g/nVjE6mdJ1qt/DlSqVMm0Jj5xKy8M6qBBg7QwfvHFF/WXFwtnR0Pt27cnZ7dDzz//PP3222+mxV4wQdq0aWNKIVq3bh02cWzgxx9/pHr16plSaDGccMIJpsSXoH44u1hq2bKlKRFVq1aN6tatS999952p4YdzoqKpU6eSc9IyNbzHs1OnTmFz00us8YO5v1atWlqQu8DkBvmViMTqpx/b1mvcygs27wYNGmilNH78eLryyitNS2QmTpxIH374IQ0ePJjef/99OvPMM02LvcAGjQXgBTu8X375xZT4s27dOsrLy9OLxwWLYfLkyXTRRRdR/fr16c4776TCwkLTyodY/Thw4ID+4ETiBeONcecK7kNwBwRB7mLLeHoJGr9IaxcnFwh5KHiuRFuvvXv3puTkZDr//PPpiSeeKL7v5ECpHDYWL15MzZo1M6XYXHfddfTYY4/RTz/9ZGrsB5PiuOOOM6UQKKPeBrCI09LS6I033tDmY5cHHnhAK2jsXmFShsninnvuMa18iNUPjGHFiocvG87jq5SikSNHUs+ePU1NCFvG00vQ+OHjX7uA8/hGW68TJkygjRs30qpVq/SpEyczWNO4ELfyws7kpJNOCvsSYoEv7KabbtJKbMiQIabWbk499VR9z+cFZdRzB4IOQg27cOzUvZx88sl0/PHH658rVKhA/fv3p/z8fNqzZ4+u40KsfmDuQ4hh9+4F41uzZk1T4kVubi7VqVPnsHsTW8bTS9D4RVq7uAf766+/SizzEolY6xX3XRhXgLF+6qmntD8DF+JWXpi8jRo1MqWSkZ6eTgUFBfTpp5/SJ598YmrtBaZUnE69LFq0KNDEygE4n2AXivvLIHABDpMLPpzx96Nx48Zh91sQbt9//72u5wgcGHr16mVK0bFlPGONX0pKir7H9yq3FStW0CWXXBLxxJboxLNeodQ5Kei4RwNHS3jheNm0aRMVFRWZUmROPPFEvavZbsF7pyCgrF9//fVi5xS8v8DigMcPZ/AeBv14++23i3dsXrxzAILuueeeoxtvvJHdog/qR9euXXWdez8Ab7RWrVrp3Ss3XJMg3jP5sWU8/cQaP8gpWIpeeukl3QaB/uyzz9KDDz6oy5wIWq+///67+Ylox44d2p/hrrvuMjWJT9yzEI/64JoJN0xMaABPOnxJfnBkxY4lNTVV/7ndu3drz0PbueCCCyg7O1s/Am3YsKE2t+A7w8LgCsauX79+eleKMUUf8cGTABdc7uNUjseOMEHB/PLaa6+ZVj4E9eO+++7Td75wtYYr9YIFC7S7NUfwGBfu8ZEUki3j6Sdo/HJycrSlCG1Yv3BYefjhh00rD0qyXh999FFq2rQpXXXVVfr7aNeuHSslXcFRMHGHBti7d6++BMRJ6ocfftDKC6evSNodbN26VR/D4XF3rMBJCBMSv5Yl+/btY29miRfcD3i91rgS1A8sHezMOb2NKQ22jKefoPFDG+78osk1G8B3AFnO0WpQqvO/awIES5YsoYyMjJgDfMYZZxxTxXUsKW+KC9gi6IL6gTlvu+ICNiouEDR+cI+3WXEB9I+j4gL/23jdsWNHevrpp01JEARBEI4+vG9eBUEQhHJJXHde8MDh6i0Izz/cP+E9i+3ATu9/x2Ij0k+7kH7aBYJTnHXWWaZ05Ck3Jy94RuICVhAEQeBPqbwNOXKsvA0FQRCEI4/ceQmCIAjsKDPl9dFHH5Wr4LyCIAjC0aPMlBfSopQn5YWwO126dKEmTZpQnz59rAiLhYSiiE6AyAR4mY9wMnCCcQlKO86FoPT3iIWH5ISXX345XXzxxXqcf/75Z9PKB0SA8fcTHzdski39RD8QvxF9QzQJpGdCnQv3eYtg6YicgTB0fmbNmqUD8iLCEcJF+W+JEGEFYesQHmz69Ommlgm48yoLOnXqpL755htTKntGjx6tMjIyTOnoUlRUpJKSktTMmTN1qvWhQ4eqtm3bmla+LFq0SK1Zs0YdOHBALV++XKWnp6vu3bub1uC041wISn8/cOBA1bFjR7Vu3To91llZWToVOzcwN719RFr85ORk02pPP5955hnVoUMHtXXrVt3PRx55RPXt29e08p63+fn5ekxSUlLUjBkzTG2IefPm6XqMa2FhoXIUtMrMzDStSmVnZ6u0tDS1efNmVVBQoP+evLw805r4xK28Nm3apIWXl0h1fvzKy9ktqG3btumft2zZopzdntqwYYP+8v7++29d7+zq9WTC3/9/KUvllZOTo/r3729KIVq2bKmWLl1qSnawevXqMGHnB0KjX79+psSHcePGhSllP61btz5sI1atWjW1f/9+U+LJ448/rkaNGmVK9vTztNNO04raBUqqTp06WuZEgtO8nTx5spab2GT4lVf79u3DlPDOnTu1YoasPnjwoP4Zytxl7ty5KjU11ZQSn7jNhvfee6+OQu2CgLw4ckdK4BYN50vW0YvdozsCgzoTRkd6Rj4ZmNrmz5+vI1jDhHPHHXfQtGnT9O/lANL9t2nTxpRCIP4j6m3COVnGTErqTzvOBTypiJUe/frrr9dZxN35i2zhzslav9/hCuLbTZ06lZwTp6mxo58YS3yQu8oFIduQ12vt2rWmJhxO8xaZkaP9X52NPzmbZlMKhfmqW7euTgeDaw1kjK5Ro4ZpJW0ydU5rppT4xK28kC7ae3f15JNPaltqSYE9GRGcYYt14yNiIiFiNaJY4yE0lFXnzp21cIR9Gu7t8fwbx5pIqcQR2xFZabmD6PhIKYEUEkiZ4ZxoTUs4kdKOcwHCDnMxWvr7AQMG6CjruAtClgQs+Hfffde08gTrEncj3jiGNvQTmxCkcPLm70Iwcee0Qtu2bTM1h+A8b73gETQ+VatWNTUhIJcgnyLJKCh1fF/YyHAgbuWVlJSkI8iDL7/8Un85uAQtCbgc/OKLL+jjjz8O+1IRHNKb5RNpGLBjgFIDcBDAl80FCD//SZRzGnEveDGP0xZSReCCd/ny5ablEJj8kdKOcwGZZ2Olv4eAgyCHhQAf/D7Ma64opWjkyJHUs2dPUxPCln6ib9gQIwYrFDLSm0CO+ecm93nrBbImUpobVw5FklGAk5wq1clr48aNesIjSVtWVpZpCQaeShB+kUwy7ikM4Ev3l/HvcQH/d38qcZS9feIKvJaQRQACAadhCAMvGKdoace5gCjbrmkMGyt/+nskK0TKdFgQIBDhSdujRw+dO4kjubm5OmwaTllebOknTJ3IZI4NFywGyOaOtE61a9c2v8OOeesFG38oIZy+vEAO1axZM6KMgnkY6W+4KO5Smw2nTJmi09qfd955piUYCDvEGMSCsBl8L4sXLzalEFg8qLcJjL032y6IJ+04FxBaDCYVfHbu3KmzzuJ+wAUbMrhhI4ILR+BG3qtXL1MKYVs/Tz/9dH3Pjnt0nCDPPfdcLcRdbJy3jRs3DjOXQjnBRwH1KSkpehPiVW4rVqzQiSu5ZMoulfKCKQXvP+Bg4YJdKSZFLLCLnTBhgrY3e/+sbaSnp+t7OihqgPcXmDR4T8EZr6LC+64hQ4bQbbfdZmqC045zwdtPf/p77Epxf/nOO+8UOzJgPuNyHG/fuOGaRvHOx4tN/fRabXDfhWzB3nd7tsxbP7ibxtx13+0NGzZMnzxhWUBORpys4WMAcEqDJY1TJuW4lRc6jgmAx6peDx54KnXr1s2UooPdDS7DsSPIzMw0tXaBdNvZ2dn6EShMFTA7wdEBE4YrEGCpqan6fhO7bzzohNkFDjWgJGnHuRCU/h53fZMmTdLCPTk5WY/zq6++ytKzEvfQ8PaNtNu2pZ8PPfSQnpM4ceChNe60rr32Wt1m07z1AxmN+2n4DGC9LliwQJuAXXJycvQpGm2QU3BQwn0gF+IOzAtnDQixpUuXhrnMwoUe7uHQ9onIsQrMixOKbdmUbU0L7yeon9itYny5ZqItKTb0E0oKm0cuJrEjCUQ8xjBa1mi0QZZzO3XGNZL4Enr37q3NRf63HrgHg6eOEI5tiguUB8UFgvoJxyPbFRewoZ9VqlQpl4oLQClFU1wA48vRXFri0YQ9GMdu2Lv99nGA+GBeM6IgCIIgHC0kn5cgCILAjvJ5jhYEQRBYI8pLEARBYEe5UV54lAh3X0EQBIE/5ebOSxAEQbAHMRsKgiAI7BDlJQiCILBDlJcgCILADlFegiAIAjtEeQmCIAjMIPoPJZo5nefREVwAAAAASUVORK5CYII=)\n",
        "\n",
        "Use diferenciación numérica para estimar la velocidad y aceleración\n",
        "del cohete en cada momento."
      ],
      "metadata": {
        "id": "1cmVXuEKz15i"
      }
    },
    {
      "cell_type": "code",
      "source": [
        "t = np.array([0,25,50,75,100,125])\n",
        "y = np.array([0,32,58,78,92,100])"
      ],
      "metadata": {
        "id": "usOveQKUC5vN"
      },
      "execution_count": 32,
      "outputs": []
    },
    {
      "cell_type": "code",
      "source": [
        "# velocidad\n",
        "\n",
        "def derivada_tres_puntos(y_valores, h):\n",
        "    n = len(y_valores)\n",
        "    derivada = np.zeros(n)\n",
        "\n",
        "    for i in range(n):\n",
        "        if i == 0:\n",
        "            # Diferencias finitas adelantadas\n",
        "            derivada[i] = (-3 * y_valores[i] + 4 * y_valores[i+1] - y_valores[i+2]) / (2 * h)\n",
        "        elif i == n - 1:\n",
        "            # Diferencias finitas atrasadas\n",
        "            derivada[i] = (3 * y_valores[i] - 4 * y_valores[i-1] + y_valores[i-2]) / (2 * h)\n",
        "        else:\n",
        "            # Diferencias finitas centradas\n",
        "            derivada[i] = (y_valores[i+1] - y_valores[i-1]) / (2 * h)\n",
        "\n",
        "    return derivada"
      ],
      "metadata": {
        "id": "Y47yxHYIz646"
      },
      "execution_count": 33,
      "outputs": []
    },
    {
      "cell_type": "markdown",
      "source": [
        "#4.\n",
        "El potencial eléctrico de un anillo de radio $R$, en su parte superior $z$ viene dado por:\n",
        "\n",
        "\n",
        "\\begin{equation}\n",
        "V = \\frac{kq_{tot}}{\\sqrt{z^2+R^2}}\n",
        "\\end{equation}\n",
        "\n",
        "Calcule el campo eléctrico para $z>0$ y $R=0.1$ mm. Reescale el problema en unidades de $kq_{tot}$ empleando:\n",
        "\n",
        "**a.** La librearia sympy.\n",
        "\n",
        "**b.** Calcular el campo en el punto  $z = 0.1$ mm empleando el metodo np.grad\n",
        "\n",
        "**c.** Calcular el campo para diferentes valores de $z$ con $z>0$,  empleando np.grad Construya un gráfico de $E$ vs $z$.\n",
        "\n",
        "---\n",
        "Recuerde que la componente $z$ del campo electrico esta dado por:\n",
        "\n",
        "\\begin{equation}\n",
        "E_z = - \\frac{\\partial V}{\\partial z}\n",
        "\\end{equation}"
      ],
      "metadata": {
        "id": "4skyb4Xx3nSA"
      }
    },
    {
      "cell_type": "code",
      "source": [
        "\n",
        "radio = 0.1  # Radio\n",
        "\n",
        "# a) Derivada simbólica con SymPy\n",
        "z = sp.Symbol('z', real=True, positive=True) # variable z\n",
        "voltaje = 1 / sp.sqrt(z**2 + radio**2)  # ecuacion de V\n",
        "\n",
        "campo_electrico_sym = -sp.diff(voltaje, z)  # Campo eléctrico (derivada del potencial)\n",
        "campo_electrico_ = sp.simplify(campo_electrico_sym)\n",
        "\n",
        "print(f'campo eléctrico:{(campo_electrico_)}')\n"
      ],
      "metadata": {
        "id": "Nkkac88u3m09",
        "colab": {
          "base_uri": "https://localhost:8080/"
        },
        "outputId": "e2ea81fc-9e19-48f4-9d16-f8f041ed08c5"
      },
      "execution_count": 35,
      "outputs": [
        {
          "output_type": "stream",
          "name": "stdout",
          "text": [
            "campo eléctrico:z/(z**2 + 0.01)**(3/2)\n"
          ]
        }
      ]
    },
    {
      "cell_type": "code",
      "source": [
        "# c) Gráfica de campo eléctrico vs altura\n",
        "\n",
        "altura_valores = np.linspace(0.01, 0.5, 100)\n",
        "voltaje_valores = 1 / np.sqrt(altura_valores**2 + radio**2)\n",
        "\n",
        "campo_valores = -np.gradient(voltaje_valores, altura_valores)\n",
        "\n",
        "plt.plot(altura_valores, campo_valores, label=r'Campo eléctrico a medida que aumenta la  altura')\n",
        "plt.xlabel(r'altura (mm)')\n",
        "plt.ylabel(r'Campo eléctrico')\n",
        "plt.title('Campo Eléctrico vs Posición')\n",
        "plt.legend()\n",
        "plt.grid()\n",
        "plt.show()\n"
      ],
      "metadata": {
        "colab": {
          "base_uri": "https://localhost:8080/",
          "height": 472
        },
        "id": "yGsfnyu4INL4",
        "outputId": "ae7a9daf-dfee-4f55-e254-79c7aa0c6c0f"
      },
      "execution_count": 37,
      "outputs": [
        {
          "output_type": "display_data",
          "data": {
            "text/plain": [
              "<Figure size 640x480 with 1 Axes>"
            ],
            "image/png": "[encoded data removed]"
          },
          "metadata": {}
        }
      ]
    }
  ]
}