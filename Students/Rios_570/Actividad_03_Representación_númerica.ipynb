{
  "cells": [
    {
      "cell_type": "code",
      "execution_count": 1,
      "metadata": {
        "id": "rZuc8vXcWuxy"
      },
      "outputs": [],
      "source": [
        "#@title Librerias\n",
        "import numpy as np\n",
        "import matplotlib.pyplot as plt\n",
        "import pandas as pd"
      ]
    },
    {
      "cell_type": "markdown",
      "metadata": {
        "id": "MGwGfceuWxy3"
      },
      "source": [
        "# Actividad 03: Representación númerica\n",
        "\n",
        "---\n",
        "### Profesor: Juan Marcos Marín\n",
        "### Nombre: Laura Camila Rios Quintero\n",
        "*Métodos computacionales 2024-II*\n",
        "\n",
        "---"
      ]
    },
    {
      "cell_type": "markdown",
      "metadata": {
        "id": "jB6BqzoSamB0"
      },
      "source": [
        "**NOTA: No utilizar los métodos `bin` o `int`**"
      ]
    },
    {
      "cell_type": "markdown",
      "metadata": {
        "id": "BOi6yQmJW7os"
      },
      "source": [
        "1. Escriba una función que se llame `mybin` que reciba un número entero real de 16 bits y realice su conversión en código binario, compare su resultado con `bin(4321)`"
      ]
    },
    {
      "cell_type": "code",
      "execution_count": 7,
      "metadata": {
        "id": "xbt3ZmYiW6oF"
      },
      "outputs": [],
      "source": [
        "def mybin(a):\n",
        "\n",
        "\n",
        "    if a < 0 or a >= 2**16:\n",
        "        return \"El número debe ser un entero no negativo de 16 bits.\"\n",
        "\n",
        "    if a == 0:\n",
        "        return '0'\n",
        "\n",
        "    bits = []\n",
        "\n",
        "    while a > 0:\n",
        "        bits.append(str(a % 2))\n",
        "        a //= 2\n",
        "\n",
        "    bits.reverse()\n",
        "    return ''.join(bits)"
      ]
    },
    {
      "cell_type": "code",
      "source": [
        "bin(4321)"
      ],
      "metadata": {
        "colab": {
          "base_uri": "https://localhost:8080/",
          "height": 36
        },
        "id": "DMy5zmEe4CmX",
        "outputId": "376fd727-11be-486d-f6e7-1a7e8142b9d2"
      },
      "execution_count": 3,
      "outputs": [
        {
          "output_type": "execute_result",
          "data": {
            "text/plain": [
              "'0b1000011100001'"
            ],
            "application/vnd.google.colaboratory.intrinsic+json": {
              "type": "string"
            }
          },
          "metadata": {},
          "execution_count": 3
        }
      ]
    },
    {
      "cell_type": "code",
      "source": [
        "mybin(4321)"
      ],
      "metadata": {
        "colab": {
          "base_uri": "https://localhost:8080/",
          "height": 36
        },
        "id": "VwtSyAd_4HP9",
        "outputId": "7e0216ec-4bf7-439f-cb33-e6c1ea6c2176"
      },
      "execution_count": 8,
      "outputs": [
        {
          "output_type": "execute_result",
          "data": {
            "text/plain": [
              "'1000011100001'"
            ],
            "application/vnd.google.colaboratory.intrinsic+json": {
              "type": "string"
            }
          },
          "metadata": {},
          "execution_count": 8
        }
      ]
    },
    {
      "cell_type": "markdown",
      "metadata": {
        "id": "5X_8-jpEXjSw"
      },
      "source": [
        "2. Cree una función llamada `myint` pero que a partir de un número binario con base de 16 bits encuentre el entero correspondiente. Compare su resultado con `int(0b1000011100001)`"
      ]
    },
    {
      "cell_type": "code",
      "execution_count": 17,
      "metadata": {
        "id": "VmS2TiF4XsbN"
      },
      "outputs": [],
      "source": [
        "def myint(a):\n",
        "\n",
        "    if len(a) > 16:\n",
        "        raise ValueError(\"El número binario excede los 16 bits permitidos\")\n",
        "\n",
        "    a = a.zfill(16)\n",
        "\n",
        "    integer_value = 0\n",
        "\n",
        "    for i in range(len(a)):\n",
        "        bit = int(a[i])\n",
        "\n",
        "        integer_value += bit * (2 ** (len(a) - 1 - i))\n",
        "\n",
        "    return integer_value"
      ]
    },
    {
      "cell_type": "code",
      "source": [
        "int(0b1000011100001)"
      ],
      "metadata": {
        "colab": {
          "base_uri": "https://localhost:8080/"
        },
        "id": "zr8ey3fY6Snw",
        "outputId": "a4b1a45a-c52f-4d4b-fe88-7a51f908fffe"
      },
      "execution_count": 13,
      "outputs": [
        {
          "output_type": "execute_result",
          "data": {
            "text/plain": [
              "4321"
            ]
          },
          "metadata": {},
          "execution_count": 13
        }
      ]
    },
    {
      "cell_type": "code",
      "source": [
        "def myint(a):\n",
        "\n",
        "    si_negativo = a[0] == '1'\n",
        "\n",
        "    value = 0\n",
        "    for i in range(1, len(a)):\n",
        "        bit = int(a[i])\n",
        "        value += bit * (2 ** (len(a) - 1 - i))\n",
        "\n",
        "\n",
        "    if si_negativo:\n",
        "        value = -(2**(len(a)-1) - value)\n",
        "\n",
        "    return value\n",
        "\n",
        "binario = '1000011100001'\n",
        "resultado_myint = myint(binario.zfill(16))\n",
        "resultado_int = int(0b1000011100001)\n",
        "\n",
        "print(f\"Resultado con myint: {resultado_myint}\")\n",
        "print(f\"Resultado con int: {resultado_int}\")\n"
      ],
      "metadata": {
        "colab": {
          "base_uri": "https://localhost:8080/"
        },
        "id": "S21xKvj-6X-W",
        "outputId": "ff2543f8-d980-4028-db03-6e278a15240c"
      },
      "execution_count": 22,
      "outputs": [
        {
          "output_type": "stream",
          "name": "stdout",
          "text": [
            "Resultado con myint: 4321\n",
            "Resultado con int: 4321\n"
          ]
        }
      ]
    },
    {
      "cell_type": "markdown",
      "metadata": {
        "id": "pHQ8ftloYPO5"
      },
      "source": [
        "3. Generar una función llamada `number64` para flotantes de precisión doble (64bits) donde a partir de un número binario encuentre el valor real. Compruebe su solución usando\n",
        "\n",
        "```\n",
        "number64(\"0100000000111011100100001111111111111111111111111111111111111111\")\n",
        "```\n",
        "\n"
      ]
    },
    {
      "cell_type": "code",
      "execution_count": 24,
      "metadata": {
        "id": "8W4MIVKhZTsO",
        "colab": {
          "base_uri": "https://localhost:8080/"
        },
        "outputId": "69eac956-6845-4477-8bf2-703045ae8795"
      },
      "outputs": [
        {
          "output_type": "stream",
          "name": "stdout",
          "text": [
            "Resultado con number64: 27.566406249999996\n"
          ]
        }
      ],
      "source": [
        "def number64(a):\n",
        "\n",
        "    assert len(a) == 64, \"El número binario debe tener 64 bits\"\n",
        "\n",
        "    signo = int(a[0])\n",
        "\n",
        "    exponente_bits = a[1:12]\n",
        "    exponente = int(exponente_bits, 2) - 1023\n",
        "\n",
        "    mantisa_bits = a[12:]\n",
        "    mantisa = 1.0\n",
        "\n",
        "    for i in range(52):\n",
        "        mantisa += int(mantisa_bits[i]) * 2**(-(i+1))\n",
        "\n",
        "    real_value = (-1)**signo * mantisa * 2**exponente\n",
        "\n",
        "    return real_value\n",
        "\n",
        "\n",
        "binario = \"0100000000111011100100001111111111111111111111111111111111111111\"\n",
        "resultado = number64(binario)\n",
        "print(f\"Resultado con number64: {resultado}\")"
      ]
    },
    {
      "cell_type": "markdown",
      "metadata": {
        "id": "xwyZCxWtZZoH"
      },
      "source": [
        "4. ***(Opcional)*** Escriba una función que convierta un número con base de 8 bits en hexadecimal, compruebe su respuesta con `hex` e imprimalo también en binario."
      ]
    },
    {
      "cell_type": "code",
      "execution_count": null,
      "metadata": {
        "id": "SpJuueSgbJ4I"
      },
      "outputs": [],
      "source": [
        "# Aqui va su código"
      ]
    }
  ],
  "metadata": {
    "colab": {
      "provenance": []
    },
    "kernelspec": {
      "display_name": "Python 3",
      "name": "python3"
    },
    "language_info": {
      "name": "python"
    }
  },
  "nbformat": 4,
  "nbformat_minor": 0
}