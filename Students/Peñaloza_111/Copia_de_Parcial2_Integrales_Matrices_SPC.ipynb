{
  "nbformat": 4,
  "nbformat_minor": 0,
  "metadata": {
    "colab": {
      "provenance": []
    },
    "kernelspec": {
      "name": "python3",
      "display_name": "Python 3"
    },
    "language_info": {
      "name": "python"
    }
  },
  "cells": [
    {
      "cell_type": "code",
      "execution_count": null,
      "metadata": {
        "id": "aF61FjHUNGJA"
      },
      "outputs": [],
      "source": [
        "#@title Librerias\n",
        "import numpy as np\n",
        "import numpy.linalg as la\n",
        "import matplotlib.pyplot as plt\n",
        "import scipy.integrate as sp\n",
        "from sympy import symbols, diff, integrate, lambdify"
      ]
    },
    {
      "cell_type": "markdown",
      "source": [
        "# Parcial II - Métodos Computacionales (Integrales y Matrices)\n",
        "**2024-2**\n",
        "\n",
        "---\n",
        "\n",
        "*Nombre:*\n",
        "\n",
        "*Identificación:*\n",
        "\n",
        "---\n",
        "* Sea honest@\n",
        "* El uso de herramientas de IA no está permitido\n",
        "* Puede consultar la documentación de las librerias.\n",
        "* Sea ordendado dando la solución a cada punto.\n",
        "* *Asegurese que el notebook corra completamente*\n",
        "* Suba su notebook al GitHub (en su carpeta) y recuerde hacer pull-request"
      ],
      "metadata": {
        "id": "VqRX_GXcNZOl"
      }
    },
    {
      "cell_type": "markdown",
      "source": [
        "# 1\n",
        "\n",
        "**(20 puntos)**\n",
        "Considera la siguiente integral:\n",
        "\n",
        "$$\n",
        "I = \\int_0^1 \\int_{x^2}^{x+1} \\int_{y^2}^{y+2} \\int_{z^2}^{z+3} (x+y+z+w) \\, dw \\, dz \\, dy \\, dx\n",
        "$$\n",
        "\n",
        "Encuentre la solución númerica usando unicamente `quad`. Encuentre el error relativo, para esto emplee el siguiente código que usa `nquad`:\n",
        "\n",
        "\n",
        "```python\n",
        "# Definir el integrando\n",
        "integrand = lambda w, z, y, x: x + y + z + w\n",
        "\n",
        "# Definir los límites usando funciones lambda\n",
        "w_limits = lambda z, y, x: [z**2, z+3]\n",
        "z_limits = lambda y, x: [y**2, y+2]\n",
        "y_limits = lambda x: [x**2, x+1]\n",
        "x_limits = lambda: [0, 1]\n",
        "\n",
        "# Calcular la integral usando nquad\n",
        "result, error = nquad(\n",
        "    integrand,\n",
        "    [w_limits, z_limits, y_limits, x_limits]\n",
        ")\n",
        "\n",
        "print(f\"Resultado de la integral: {result}\")\n",
        "print(f\"Error estimado: {error}\")\n",
        "```\n",
        "\n"
      ],
      "metadata": {
        "id": "u1OxHrJINZ9c"
      }
    },
    {
      "cell_type": "code",
      "source": [
        "# Definir el integrando\n",
        "integrand = lambda w, z, y, x: x + y + z + w\n",
        "\n",
        "# Definir los límites usando funciones lambda\n",
        "w_limits = lambda z, y, x: [z**2, z+3]\n",
        "z_limits = lambda y, x: [y**2, y+2]\n",
        "y_limits = lambda x: [x**2, x+1]\n",
        "x_limits = lambda: [0, 1]\n",
        "\n",
        "# Calcular la integral usando nquad\n",
        "def f_quad(z,y, x):\n",
        "  return sp.quad(integrand, lambda z, x, y: z**2, lambda z, x, y : z+3, args= (z,y,x))[0]\n",
        "\n",
        "def s_quad(y,x):\n",
        "  return sp.quad(f_quad,lambda y,x: y**2, lambda y,x: y+2, args = (y,x))[0]\n",
        "\n",
        "def t_quad(x):\n",
        "  return sp.quad(s_quad, lambda x: x**2, lambda x: x+1,args = (x))[0]\n",
        "\n",
        "sp.quad(t_quad, 0, 1)\n",
        "\n",
        "\n",
        "\n",
        "\n"
      ],
      "metadata": {
        "id": "cZURwltmOSgu",
        "colab": {
          "base_uri": "https://localhost:8080/",
          "height": 391
        },
        "outputId": "045d4216-4ff7-40ac-b4da-999fb32d24fd"
      },
      "execution_count": null,
      "outputs": [
        {
          "output_type": "error",
          "ename": "TypeError",
          "evalue": "'<' not supported between instances of 'function' and 'function'",
          "traceback": [
            "\u001b[0;31m---------------------------------------------------------------------------\u001b[0m",
            "\u001b[0;31mTypeError\u001b[0m                                 Traceback (most recent call last)",
            "\u001b[0;32m<ipython-input-70-b31bc926fce0>\u001b[0m in \u001b[0;36m<cell line: 0>\u001b[0;34m()\u001b[0m\n\u001b[1;32m     18\u001b[0m   \u001b[0;32mreturn\u001b[0m \u001b[0msp\u001b[0m\u001b[0;34m.\u001b[0m\u001b[0mquad\u001b[0m\u001b[0;34m(\u001b[0m\u001b[0ms_quad\u001b[0m\u001b[0;34m,\u001b[0m \u001b[0;32mlambda\u001b[0m \u001b[0mx\u001b[0m\u001b[0;34m:\u001b[0m \u001b[0mx\u001b[0m\u001b[0;34m**\u001b[0m\u001b[0;36m2\u001b[0m\u001b[0;34m,\u001b[0m \u001b[0;32mlambda\u001b[0m \u001b[0mx\u001b[0m\u001b[0;34m:\u001b[0m \u001b[0mx\u001b[0m\u001b[0;34m+\u001b[0m\u001b[0;36m1\u001b[0m\u001b[0;34m,\u001b[0m\u001b[0margs\u001b[0m \u001b[0;34m=\u001b[0m \u001b[0;34m(\u001b[0m\u001b[0mx\u001b[0m\u001b[0;34m)\u001b[0m\u001b[0;34m)\u001b[0m\u001b[0;34m[\u001b[0m\u001b[0;36m0\u001b[0m\u001b[0;34m]\u001b[0m\u001b[0;34m\u001b[0m\u001b[0;34m\u001b[0m\u001b[0m\n\u001b[1;32m     19\u001b[0m \u001b[0;34m\u001b[0m\u001b[0m\n\u001b[0;32m---> 20\u001b[0;31m \u001b[0msp\u001b[0m\u001b[0;34m.\u001b[0m\u001b[0mquad\u001b[0m\u001b[0;34m(\u001b[0m\u001b[0mt_quad\u001b[0m\u001b[0;34m,\u001b[0m \u001b[0;36m0\u001b[0m\u001b[0;34m,\u001b[0m \u001b[0;36m1\u001b[0m\u001b[0;34m)\u001b[0m\u001b[0;34m\u001b[0m\u001b[0;34m\u001b[0m\u001b[0m\n\u001b[0m\u001b[1;32m     21\u001b[0m \u001b[0;34m\u001b[0m\u001b[0m\n\u001b[1;32m     22\u001b[0m \u001b[0;34m\u001b[0m\u001b[0m\n",
            "\u001b[0;32m/usr/local/lib/python3.11/dist-packages/scipy/integrate/_quadpack_py.py\u001b[0m in \u001b[0;36mquad\u001b[0;34m(func, a, b, args, full_output, epsabs, epsrel, limit, points, weight, wvar, wopts, maxp1, limlst, complex_func)\u001b[0m\n\u001b[1;32m    462\u001b[0m \u001b[0;34m\u001b[0m\u001b[0m\n\u001b[1;32m    463\u001b[0m     \u001b[0;32mif\u001b[0m \u001b[0mweight\u001b[0m \u001b[0;32mis\u001b[0m \u001b[0;32mNone\u001b[0m\u001b[0;34m:\u001b[0m\u001b[0;34m\u001b[0m\u001b[0;34m\u001b[0m\u001b[0m\n\u001b[0;32m--> 464\u001b[0;31m         retval = _quad(func, a, b, args, full_output, epsabs, epsrel, limit,\n\u001b[0m\u001b[1;32m    465\u001b[0m                        points)\n\u001b[1;32m    466\u001b[0m     \u001b[0;32melse\u001b[0m\u001b[0;34m:\u001b[0m\u001b[0;34m\u001b[0m\u001b[0;34m\u001b[0m\u001b[0m\n",
            "\u001b[0;32m/usr/local/lib/python3.11/dist-packages/scipy/integrate/_quadpack_py.py\u001b[0m in \u001b[0;36m_quad\u001b[0;34m(func, a, b, args, full_output, epsabs, epsrel, limit, points)\u001b[0m\n\u001b[1;32m    609\u001b[0m     \u001b[0;32mif\u001b[0m \u001b[0mpoints\u001b[0m \u001b[0;32mis\u001b[0m \u001b[0;32mNone\u001b[0m\u001b[0;34m:\u001b[0m\u001b[0;34m\u001b[0m\u001b[0;34m\u001b[0m\u001b[0m\n\u001b[1;32m    610\u001b[0m         \u001b[0;32mif\u001b[0m \u001b[0minfbounds\u001b[0m \u001b[0;34m==\u001b[0m \u001b[0;36m0\u001b[0m\u001b[0;34m:\u001b[0m\u001b[0;34m\u001b[0m\u001b[0;34m\u001b[0m\u001b[0m\n\u001b[0;32m--> 611\u001b[0;31m             \u001b[0;32mreturn\u001b[0m \u001b[0m_quadpack\u001b[0m\u001b[0;34m.\u001b[0m\u001b[0m_qagse\u001b[0m\u001b[0;34m(\u001b[0m\u001b[0mfunc\u001b[0m\u001b[0;34m,\u001b[0m\u001b[0ma\u001b[0m\u001b[0;34m,\u001b[0m\u001b[0mb\u001b[0m\u001b[0;34m,\u001b[0m\u001b[0margs\u001b[0m\u001b[0;34m,\u001b[0m\u001b[0mfull_output\u001b[0m\u001b[0;34m,\u001b[0m\u001b[0mepsabs\u001b[0m\u001b[0;34m,\u001b[0m\u001b[0mepsrel\u001b[0m\u001b[0;34m,\u001b[0m\u001b[0mlimit\u001b[0m\u001b[0;34m)\u001b[0m\u001b[0;34m\u001b[0m\u001b[0;34m\u001b[0m\u001b[0m\n\u001b[0m\u001b[1;32m    612\u001b[0m         \u001b[0;32melse\u001b[0m\u001b[0;34m:\u001b[0m\u001b[0;34m\u001b[0m\u001b[0;34m\u001b[0m\u001b[0m\n\u001b[1;32m    613\u001b[0m             return _quadpack._qagie(func, bound, infbounds, args, full_output, \n",
            "\u001b[0;32m<ipython-input-70-b31bc926fce0>\u001b[0m in \u001b[0;36mt_quad\u001b[0;34m(x)\u001b[0m\n\u001b[1;32m     16\u001b[0m \u001b[0;34m\u001b[0m\u001b[0m\n\u001b[1;32m     17\u001b[0m \u001b[0;32mdef\u001b[0m \u001b[0mt_quad\u001b[0m\u001b[0;34m(\u001b[0m\u001b[0mx\u001b[0m\u001b[0;34m)\u001b[0m\u001b[0;34m:\u001b[0m\u001b[0;34m\u001b[0m\u001b[0;34m\u001b[0m\u001b[0m\n\u001b[0;32m---> 18\u001b[0;31m   \u001b[0;32mreturn\u001b[0m \u001b[0msp\u001b[0m\u001b[0;34m.\u001b[0m\u001b[0mquad\u001b[0m\u001b[0;34m(\u001b[0m\u001b[0ms_quad\u001b[0m\u001b[0;34m,\u001b[0m \u001b[0;32mlambda\u001b[0m \u001b[0mx\u001b[0m\u001b[0;34m:\u001b[0m \u001b[0mx\u001b[0m\u001b[0;34m**\u001b[0m\u001b[0;36m2\u001b[0m\u001b[0;34m,\u001b[0m \u001b[0;32mlambda\u001b[0m \u001b[0mx\u001b[0m\u001b[0;34m:\u001b[0m \u001b[0mx\u001b[0m\u001b[0;34m+\u001b[0m\u001b[0;36m1\u001b[0m\u001b[0;34m,\u001b[0m\u001b[0margs\u001b[0m \u001b[0;34m=\u001b[0m \u001b[0;34m(\u001b[0m\u001b[0mx\u001b[0m\u001b[0;34m)\u001b[0m\u001b[0;34m)\u001b[0m\u001b[0;34m[\u001b[0m\u001b[0;36m0\u001b[0m\u001b[0;34m]\u001b[0m\u001b[0;34m\u001b[0m\u001b[0;34m\u001b[0m\u001b[0m\n\u001b[0m\u001b[1;32m     19\u001b[0m \u001b[0;34m\u001b[0m\u001b[0m\n\u001b[1;32m     20\u001b[0m \u001b[0msp\u001b[0m\u001b[0;34m.\u001b[0m\u001b[0mquad\u001b[0m\u001b[0;34m(\u001b[0m\u001b[0mt_quad\u001b[0m\u001b[0;34m,\u001b[0m \u001b[0;36m0\u001b[0m\u001b[0;34m,\u001b[0m \u001b[0;36m1\u001b[0m\u001b[0;34m)\u001b[0m\u001b[0;34m\u001b[0m\u001b[0;34m\u001b[0m\u001b[0m\n",
            "\u001b[0;32m/usr/local/lib/python3.11/dist-packages/scipy/integrate/_quadpack_py.py\u001b[0m in \u001b[0;36mquad\u001b[0;34m(func, a, b, args, full_output, epsabs, epsrel, limit, points, weight, wvar, wopts, maxp1, limlst, complex_func)\u001b[0m\n\u001b[1;32m    435\u001b[0m \u001b[0;34m\u001b[0m\u001b[0m\n\u001b[1;32m    436\u001b[0m     \u001b[0;31m# check the limits of integration: \\int_a^b, expect a < b\u001b[0m\u001b[0;34m\u001b[0m\u001b[0;34m\u001b[0m\u001b[0m\n\u001b[0;32m--> 437\u001b[0;31m     \u001b[0mflip\u001b[0m\u001b[0;34m,\u001b[0m \u001b[0ma\u001b[0m\u001b[0;34m,\u001b[0m \u001b[0mb\u001b[0m \u001b[0;34m=\u001b[0m \u001b[0mb\u001b[0m \u001b[0;34m<\u001b[0m \u001b[0ma\u001b[0m\u001b[0;34m,\u001b[0m \u001b[0mmin\u001b[0m\u001b[0;34m(\u001b[0m\u001b[0ma\u001b[0m\u001b[0;34m,\u001b[0m \u001b[0mb\u001b[0m\u001b[0;34m)\u001b[0m\u001b[0;34m,\u001b[0m \u001b[0mmax\u001b[0m\u001b[0;34m(\u001b[0m\u001b[0ma\u001b[0m\u001b[0;34m,\u001b[0m \u001b[0mb\u001b[0m\u001b[0;34m)\u001b[0m\u001b[0;34m\u001b[0m\u001b[0;34m\u001b[0m\u001b[0m\n\u001b[0m\u001b[1;32m    438\u001b[0m \u001b[0;34m\u001b[0m\u001b[0m\n\u001b[1;32m    439\u001b[0m     \u001b[0;32mif\u001b[0m \u001b[0mcomplex_func\u001b[0m\u001b[0;34m:\u001b[0m\u001b[0;34m\u001b[0m\u001b[0;34m\u001b[0m\u001b[0m\n",
            "\u001b[0;31mTypeError\u001b[0m: '<' not supported between instances of 'function' and 'function'"
          ]
        }
      ]
    },
    {
      "cell_type": "code",
      "source": [],
      "metadata": {
        "colab": {
          "base_uri": "https://localhost:8080/"
        },
        "id": "DDxE8t1VXGcM",
        "outputId": "6a339eb6-a21b-4ddd-9fd9-86b0ca2120f2"
      },
      "execution_count": null,
      "outputs": [
        {
          "output_type": "stream",
          "name": "stdout",
          "text": [
            "Object `nquad` not found.\n"
          ]
        }
      ]
    },
    {
      "cell_type": "markdown",
      "source": [
        "# 2\n",
        "\n",
        "**(40 puntos)**\n",
        "Un lazo de corriente de radio $a$  transporta una corriente $I$ en el punto P que está a una distancia $r$ del centro del lazo con coordenadas esféricas (r, θ, φ). Resuelve para la componente φ del potencial vectorial en el punto $P$ en términos de integrales elípticas:\n",
        "\n",
        "\\begin{equation}\n",
        "A_{\\phi}(r, \\theta)=\\frac{\\mu_0}{4\\pi}\\frac{4Ia}{\\sqrt{a^2+r^2+2ar\\sin \\theta}}\\left(\\frac{(2-k^2)K(k)-2E(k)}{k^2} \\right)\n",
        "\\end{equation}\n",
        "\n",
        "donde\n",
        "\n",
        "\\begin{equation}\n",
        "K(k)=\\int_{0}^{\\pi/2} \\frac{\\mathrm{d\\phi}}{\\sqrt{1-k^2\\sin^2\\phi}}\n",
        "\\end{equation}\n",
        "\n",
        "\\begin{equation}\n",
        "E(k)=\\int_{0}^{\\pi/2} \\mathrm{d\\phi} \\sqrt{1-k^2\\sin^2\\phi}\n",
        "\\end{equation}\n",
        "\n",
        "\\begin{equation}\n",
        "k^2=\\frac{4ar\\sin\\theta}{a^2+r^2+2ar\\sin\\theta}\n",
        "\\end{equation}\n",
        "\n",
        "Aquí, $K(k)$ es una integral elíptica completa del primer tipo y $E(k)$ es una integral elíptica completa del segundo tipo.\n",
        "\n",
        "\n",
        "Para\n",
        "* $a$ = 1,\n",
        "* $I$ = 3,\n",
        "* $μ0/4π$ = 1\n",
        "\n",
        "\n",
        "Usando funciones explicitas explique claramente las entradas, salidas y procedimientos dentro de las mismas. Recuerde para resolver las integrales usar `quad` y grafique para:\n",
        "\n",
        "*a)* $A_φ(r = 1.1, θ)$ vs. $0\\leq θ\\leq \\pi$\n",
        "\n",
        "*b)* $A_φ(r, θ = π∕3)$ vs. $0\\leq r \\leq 10$\n",
        "\n",
        "Tenga cuidado con la convergencia de su integral\n",
        "\n"
      ],
      "metadata": {
        "id": "ryB1EksIOV_l"
      }
    },
    {
      "cell_type": "code",
      "source": [
        "\n",
        "k = lambda r, teta : np.sqrt(4*r*np.sin(teta)/1+(r**2)+2*r*np.sin(teta))\n",
        "K = lambda phi:1/np.sqrt(1 - (k**2)*np.sin(phi)**2)\n",
        "E = lambda phi: np.sqrt(1- (k**2)*np.sin(phi)**2)\n",
        "\n",
        "\n",
        "A = lambda r, teta :  12*(2-k**2 * K - 2*E) /np.sqrt(1 + r**2 +2*r*np.sin(teta))*k**2"
      ],
      "metadata": {
        "id": "yGrEqwaNOh_8"
      },
      "execution_count": null,
      "outputs": []
    },
    {
      "cell_type": "code",
      "source": [
        "#a)\n",
        "teta=\n",
        "\n",
        "k = lambda  teta : np.sqrt(4*1.1*np.sin(teta)/1+(1.1**2)+2*1.1*np.sin(teta))\n",
        "K = lambda  phi:1/np.sqrt(1 - (k**2)*np.sin(phi)**2)\n",
        "E = lambda phi: np.sqrt(1- (k**2)*np.sin(phi)**2)\n",
        "\n",
        "\n",
        "A =  12*(2-k**2 * K - 2*E) /np.sqrt(1 + 1.1**2 +2*1.1*np.sin(teta))*k**2\n",
        "rango = np.linspace(0,np.pi,1000)"
      ],
      "metadata": {
        "colab": {
          "base_uri": "https://localhost:8080/",
          "height": 211
        },
        "id": "j8WT-Z5IrNq-",
        "outputId": "744f6a0b-27b9-430a-8fc8-847c7781f683"
      },
      "execution_count": null,
      "outputs": [
        {
          "output_type": "error",
          "ename": "IndexError",
          "evalue": "only integers, slices (`:`), ellipsis (`...`), numpy.newaxis (`None`) and integer or boolean arrays are valid indices",
          "traceback": [
            "\u001b[0;31m---------------------------------------------------------------------------\u001b[0m",
            "\u001b[0;31mIndexError\u001b[0m                                Traceback (most recent call last)",
            "\u001b[0;32m<ipython-input-56-add1d7c7d693>\u001b[0m in \u001b[0;36m<cell line: 0>\u001b[0;34m()\u001b[0m\n\u001b[1;32m     11\u001b[0m \u001b[0;32mfor\u001b[0m \u001b[0mx\u001b[0m \u001b[0;32min\u001b[0m \u001b[0mrango\u001b[0m\u001b[0;34m:\u001b[0m\u001b[0;34m\u001b[0m\u001b[0;34m\u001b[0m\u001b[0m\n\u001b[1;32m     12\u001b[0m   \u001b[0mcount\u001b[0m \u001b[0;34m=\u001b[0m \u001b[0;34m[\u001b[0m\u001b[0;34m]\u001b[0m\u001b[0;34m\u001b[0m\u001b[0;34m\u001b[0m\u001b[0m\n\u001b[0;32m---> 13\u001b[0;31m   \u001b[0mcount\u001b[0m\u001b[0;34m.\u001b[0m\u001b[0mappend\u001b[0m\u001b[0;34m(\u001b[0m\u001b[0mk\u001b[0m\u001b[0;34m(\u001b[0m\u001b[0mrango\u001b[0m\u001b[0;34m[\u001b[0m\u001b[0mx\u001b[0m\u001b[0;34m]\u001b[0m\u001b[0;34m)\u001b[0m\u001b[0;34m)\u001b[0m\u001b[0;34m\u001b[0m\u001b[0;34m\u001b[0m\u001b[0m\n\u001b[0m\u001b[1;32m     14\u001b[0m \u001b[0;34m\u001b[0m\u001b[0m\n",
            "\u001b[0;31mIndexError\u001b[0m: only integers, slices (`:`), ellipsis (`...`), numpy.newaxis (`None`) and integer or boolean arrays are valid indices"
          ]
        }
      ]
    },
    {
      "cell_type": "code",
      "source": [],
      "metadata": {
        "colab": {
          "base_uri": "https://localhost:8080/"
        },
        "id": "22Rp1moAto37",
        "outputId": "2852fddf-d217-4941-f30d-d08fa691da13"
      },
      "execution_count": null,
      "outputs": [
        {
          "output_type": "execute_result",
          "data": {
            "text/plain": [
              "<module 'scipy.integrate' from '/usr/local/lib/python3.11/dist-packages/scipy/integrate/__init__.py'>"
            ]
          },
          "metadata": {},
          "execution_count": 57
        }
      ]
    },
    {
      "cell_type": "markdown",
      "source": [
        "# 3\n",
        "\n",
        "(**40 puntos**) El **método de la potencia inversa** es una técnica iterativa utilizada para calcular el autovalor de menor magnitud de una matriz cuadrada. Es una variante del **método de la potencia**, que normalmente encuentra el autovalor de mayor magnitud. Para ello, se aprovecha la propiedad de la matriz inversa:\n",
        "\n",
        "$$ A^{-1} v = \\frac{1}{\\lambda} v $$\n",
        "\n",
        "\n",
        "## Algoritmo\n",
        "\n",
        "El método de la potencia inversa sigue los siguientes pasos:\n",
        "\n",
        "1. Elegir un vector inicial $x^{(0)}$ no nulo.\n",
        "\n",
        "2. Para cada iteración $k$, resolver el sistema lineal:\n",
        "   \n",
        "   $$ A y^{(k)} = x^{(k-1)} $$\n",
        "   \n",
        "   donde $y^{(k)}$ es un **vector intermedio** que se obtiene resolviendo el sistema lineal. Este vector representa la solución del sistema en cada iteración y es crucial para aproximar el autovector de menor autovalor.\n",
        "\n",
        "3. Normalizar $y^{(k)}$ para obtener un nuevo vector de iteración:\n",
        "   \n",
        "   $$ x^{(k)} = \\frac{y^{(k)}}{\\| y^{(k)} \\|} $$\n",
        "   \n",
        "4. Aproximar el autovalor mediante el cociente de Rayleigh:\n",
        "   \n",
        "   $$ \\lambda^{(k)} = \\frac{(x^{(k)})^T A x^{(k)}}{(x^{(k)})^T x^{(k)}} $$\n",
        "   \n",
        "5. Repetir los pasos anteriores hasta que la diferencia entre valores sucesivos de $\\lambda$ sea menor que un umbral de tolerancia.\n",
        "\n",
        "---\n",
        "\n",
        "*a)* Escriba una función llamada `potencia_inversa` que dada una matriz A encuentre su valor propio menos dominante (con una tolerancia de 1e-7 usando la norma Euclidiana) y su correspondiente autovector. Para obtener $y^{(k)}$ puede emplear `np.linalg.solve` recordando que $Ay = x$.\n",
        "\n",
        "*b)* Usando la matriz A, encuentre el $\\lambda_{min}$ y el correspondiente autovector. Examine la convergencia de su autovalor en función de las iteraciones, esto es, haga un gráfico de $\\lambda(k)$\n",
        "\n",
        "$$\n",
        "\\begin{bmatrix}\n",
        "5 & 2 \\\\\n",
        "2 & 2\n",
        "\\end{bmatrix}\n",
        "$$\n",
        "\n",
        "*c)* Compare su resultado con `np.linalg.eig`"
      ],
      "metadata": {
        "id": "pKubcNlWP0nc"
      }
    },
    {
      "cell_type": "code",
      "source": [
        "# Aqui va su código"
      ],
      "metadata": {
        "id": "ZhnTbHAgP4XJ"
      },
      "execution_count": null,
      "outputs": []
    },
    {
      "cell_type": "markdown",
      "source": [
        "#4\n",
        "\n",
        "**(10 puntos)**\n",
        "Sea $A$ una matriz cuadrada de tamaño $n \\times n$. Se sabe que el determinante de una matriz es igual al producto de sus autovalores:\n",
        "\n",
        "$$\n",
        "\\det(A) = \\prod_{i=1}^{n} \\lambda_i\n",
        "$$\n",
        "\n",
        "donde $\\lambda_1, \\lambda_2, \\dots, \\lambda_n$ son los autovalores de $A$.\n",
        "\n",
        "Usando una matriz aleatoria $A$ de $5\\times 5$, demuestre esta propiedad. Puede usar las funciones de `np.linalg`."
      ],
      "metadata": {
        "id": "Qz8QJCjWYds5"
      }
    },
    {
      "cell_type": "code",
      "source": [],
      "metadata": {
        "id": "TCWf5TUwYgKq"
      },
      "execution_count": null,
      "outputs": []
    }
  ]
}