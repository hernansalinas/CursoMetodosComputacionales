{
  "nbformat": 4,
  "nbformat_minor": 0,
  "metadata": {
    "colab": {
      "provenance": []
    },
    "kernelspec": {
      "name": "python3",
      "display_name": "Python 3"
    },
    "language_info": {
      "name": "python"
    }
  },
  "cells": [
    {
      "cell_type": "code",
      "execution_count": 1,
      "metadata": {
        "id": "z7RCty67y3ME"
      },
      "outputs": [],
      "source": [
        "import numpy as np\n",
        "import matplotlib.pyplot as plt\n",
        "import scipy.linalg as la"
      ]
    },
    {
      "cell_type": "markdown",
      "source": [
        "# Actividad 08: Algebra Lineal y Matrices\n",
        "\n",
        "---\n",
        "### Profesor: Juan Marcos Marín\n",
        "### Nombre: ______\n",
        "*Métodos computacionales 2024-II*\n",
        "\n",
        "---"
      ],
      "metadata": {
        "id": "GGQpGoujzAnQ"
      }
    },
    {
      "cell_type": "markdown",
      "source": [
        "#1\n",
        "\n",
        "Escriba una función que calcule el producto escalar y vectorial para dos vectores, compare sus resultados con `np.dot` y `np.cross`."
      ],
      "metadata": {
        "id": "szDD-eJhzKbw"
      }
    },
    {
      "cell_type": "code",
      "source": [
        "\n",
        "\n",
        "def producto_escalar(v1, v2):\n",
        "    #Calcula el producto escalar de dos vectores.\n",
        "    if len(v1) != len(v2):\n",
        "        raise ValueError(\"Los vectores deben tener la misma dimensión.\")\n",
        "    return sum(x * y for x, y in zip(v1, v2))\n",
        "\n",
        "def producto_vectorial(v1, v2):\n",
        "    \"\"\"Calcula el producto vectorial de dos vectores en R^3.\"\"\"\n",
        "    if len(v1) != 3 or len(v2) != 3:\n",
        "        raise ValueError(\"Los vectores deben ser de dimensión 3.\")\n",
        "    return [v1[1]*v2[2] - v1[2]*v2[1],\n",
        "            v1[2]*v2[0] - v1[0]*v2[2],\n",
        "            v1[0]*v2[1] - v1[1]*v2[0]]"
      ],
      "metadata": {
        "id": "KlxyKMOIzBDZ"
      },
      "execution_count": 2,
      "outputs": []
    },
    {
      "cell_type": "code",
      "source": [
        "# Vectores de ejemplo\n",
        "v1 = [1, 2, 3]\n",
        "v2 = [4, 5, 6]\n",
        "\n",
        "# Producto escalar\n",
        "escalar_manual = producto_escalar(v1, v2)\n",
        "escalar_numpy = np.dot(v1, v2)\n",
        "print(\"Producto escalar (manual):\", escalar_manual)\n",
        "print(\"Producto escalar (numpy):\", escalar_numpy)\n",
        "\n",
        "# Producto vectorial\n",
        "vectorial_manual = producto_vectorial(v1, v2)\n",
        "vectorial_numpy = np.cross(v1, v2)\n",
        "print(\"Producto vectorial (manual):\", vectorial_manual)\n",
        "print(\"Producto vectorial (numpy):\", vectorial_numpy)"
      ],
      "metadata": {
        "colab": {
          "base_uri": "https://localhost:8080/"
        },
        "id": "EUMUXZwNvypb",
        "outputId": "d96aee31-29a5-4253-b9e2-5799d6f3168d"
      },
      "execution_count": 3,
      "outputs": [
        {
          "output_type": "stream",
          "name": "stdout",
          "text": [
            "Producto escalar (manual): 32\n",
            "Producto escalar (numpy): 32\n",
            "Producto vectorial (manual): [-3, 6, -3]\n",
            "Producto vectorial (numpy): [-3  6 -3]\n"
          ]
        }
      ]
    },
    {
      "cell_type": "markdown",
      "source": [
        "#2\n",
        "\n",
        "Crear una función llamada `mulmat()` donde a partir de dos matrices $A$ y $B$ encuentre su multplicación. También realiza una función que calcule la transpuesta y otra el determinante de una matriz $3\\times 3$. Compare sus resultado con `@`, `np.dot`, `transpose` y `la.det`."
      ],
      "metadata": {
        "id": "Qch9PhTQ0Klk"
      }
    },
    {
      "cell_type": "code",
      "source": [
        "import numpy as np\n",
        "import scipy.linalg as la\n",
        "\n",
        "def mulmat(A, B):\n",
        "    #calcula la multiplicación de dos matrices\n",
        "    if A.shape[1] != B.shape[0]:\n",
        "        raise ValueError(\"El número de columnas de A debe ser igual al número de filas de B.\")\n",
        "\n",
        "    result = [[0 for _ in range(B.shape[1])] for _ in range(A.shape[0])]\n",
        "\n",
        "    for i in range(A.shape[0]):\n",
        "        for j in range(B.shape[1]):\n",
        "            for k in range(A.shape[1]):\n",
        "                result[i][j] += A[i][k] * B[k][j]\n",
        "\n",
        "    return np.array(result)\n",
        "\n",
        "def transpuesta(A):\n",
        "    #Calcula la transpuesta de una matriz.\n",
        "    rows, cols = A.shape\n",
        "    result = [[0 for _ in range(rows)] for _ in range(cols)]\n",
        "\n",
        "    for i in range(rows):\n",
        "        for j in range(cols):\n",
        "            result[j][i] = A[i][j]\n",
        "\n",
        "    return np.array(result)\n",
        "\n",
        "def determinante(A):\n",
        "    #Calcula el determinante de una matriz 3x3.\n",
        "    if A.shape != (3, 3):\n",
        "        raise ValueError(\"La matriz debe ser de 3x3.\")\n",
        "\n",
        "    return (A[0][0] * (A[1][1] * A[2][2] - A[1][2] * A[2][1]) -\n",
        "            A[0][1] * (A[1][0] * A[2][2] - A[1][2] * A[2][0]) +\n",
        "            A[0][2] * (A[1][0] * A[2][1] - A[1][1] * A[2][0]))"
      ],
      "metadata": {
        "id": "0xjXQbwn0VL5"
      },
      "execution_count": 42,
      "outputs": []
    },
    {
      "cell_type": "code",
      "source": [
        "# Matrices de ejemplo\n",
        "A = np.array([[1, 2, 3],\n",
        "              [4, 5, 6],\n",
        "              [7, 8, 9]])\n",
        "\n",
        "B = np.array([[9, 8, 7],\n",
        "              [6, 5, 4],\n",
        "              [3, 2, 1]])\n",
        "\n",
        "# Multiplicación de matrices\n",
        "mulmat_manual = mulmat(A, B)\n",
        "mulmat_numpy = A @ B  # Usando el operador @\n",
        "mulmat_numpy_dot = np.dot(A, B)\n",
        "print(\"Multiplicación de matrices (manual):\\n\", mulmat_manual)\n",
        "print(\"Multiplicación de matrices (numpy @):\\n\", mulmat_numpy)\n",
        "print(\"Multiplicación de matrices (numpy dot):\\n\", mulmat_numpy_dot)\n",
        "\n",
        "# Transpuesta de la matriz\n",
        "transpuesta_manual = transpuesta(A)\n",
        "transpuesta_numpy = A.T  # Usando el atributo T\n",
        "transpuesta_numpy_transpose = np.transpose(A)\n",
        "print(\"Transpuesta de la matriz (manual):\\n\", transpuesta_manual)\n",
        "print(\"Transpuesta de la matriz (numpy T):\\n\", transpuesta_numpy)\n",
        "print(\"Transpuesta de la matriz (numpy transpose):\\n\", transpuesta_numpy_transpose)\n",
        "\n",
        "# Determinante de la matriz\n",
        "determinante_manual = determinante(A)\n",
        "determinante_scipy = la.det(A)\n",
        "print(\"Determinante de la matriz (manual):\", determinante_manual)\n",
        "print(\"Determinante de la matriz (scipy det):\", determinante_scipy)"
      ],
      "metadata": {
        "colab": {
          "base_uri": "https://localhost:8080/"
        },
        "id": "WPU6hZZiyYZt",
        "outputId": "e3f8076b-c069-4ba7-c00d-7bc8b56a8cad"
      },
      "execution_count": 6,
      "outputs": [
        {
          "output_type": "stream",
          "name": "stdout",
          "text": [
            "Multiplicación de matrices (manual):\n",
            " [[ 30  24  18]\n",
            " [ 84  69  54]\n",
            " [138 114  90]]\n",
            "Multiplicación de matrices (numpy @):\n",
            " [[ 30  24  18]\n",
            " [ 84  69  54]\n",
            " [138 114  90]]\n",
            "Multiplicación de matrices (numpy dot):\n",
            " [[ 30  24  18]\n",
            " [ 84  69  54]\n",
            " [138 114  90]]\n",
            "Transpuesta de la matriz (manual):\n",
            " [[1 4 7]\n",
            " [2 5 8]\n",
            " [3 6 9]]\n",
            "Transpuesta de la matriz (numpy T):\n",
            " [[1 4 7]\n",
            " [2 5 8]\n",
            " [3 6 9]]\n",
            "Transpuesta de la matriz (numpy transpose):\n",
            " [[1 4 7]\n",
            " [2 5 8]\n",
            " [3 6 9]]\n",
            "Determinante de la matriz (manual): 0\n",
            "Determinante de la matriz (scipy det): 0.0\n"
          ]
        }
      ]
    },
    {
      "cell_type": "markdown",
      "source": [
        "#3\n",
        "Escriba tres matrices aleatorias $A$, $B$ y $C$ de $3\\times 3$, y demuestre las siguientes relaciones\n",
        "\n",
        "- $ \\mathbf{A}\\mathbf{B} \\neq \\mathbf{B}\\mathbf{A} $, en general.\n",
        "- $ (\\mathbf{A}\\mathbf{B})\\mathbf{C} = \\mathbf{A}(\\mathbf{B}\\mathbf{C}) $.\n",
        "- $ \\mathbf{A}(\\mathbf{B} + \\mathbf{C}) = \\mathbf{A}\\mathbf{B} + \\mathbf{A}\\mathbf{C} $.\n",
        "- $ (\\mathbf{A} + \\mathbf{B})\\mathbf{C} = \\mathbf{A}\\mathbf{C} + \\mathbf{B}\\mathbf{C} $.\n",
        "- $ (\\mathbf{A}\\mathbf{B})^\\top = \\mathbf{B}^\\top \\mathbf{A}^\\top $.\n",
        "- $ \\det(\\mathbf{A}\\mathbf{B}) = \\det(\\mathbf{A}) \\det(\\mathbf{B}) $.\n",
        "- $ (\\mathbf{A}^\\top)^\\top = \\mathbf{A} $.\n",
        "- $ (c\\mathbf{A})^\\top = c\\mathbf{A}^\\top $.\n",
        "- $ (\\mathbf{A} + \\mathbf{B})^\\top = \\mathbf{A}^\\top + \\mathbf{B}^\\top $.\n",
        "\n"
      ],
      "metadata": {
        "id": "U9hC1R-F0-iH"
      }
    },
    {
      "cell_type": "code",
      "source": [
        "\n",
        "# Generar matrices aleatorias de 3x3\n",
        "A = np.random.rand(3, 3)\n",
        "B = np.random.rand(3, 3)\n",
        "C = np.random.rand(3, 3)\n",
        "\n",
        "print(\"Matriz A:\\n\", A)\n",
        "print(\"\\nMatriz B:\\n\", B)\n",
        "print(\"\\nMatriz C:\\n\", C)"
      ],
      "metadata": {
        "id": "cQQ6cPGW1anK",
        "colab": {
          "base_uri": "https://localhost:8080/"
        },
        "outputId": "45ec4df4-f063-488e-997a-aebdbcb5090a"
      },
      "execution_count": 7,
      "outputs": [
        {
          "output_type": "stream",
          "name": "stdout",
          "text": [
            "Matriz A:\n",
            " [[0.24318961 0.13219738 0.49698339]\n",
            " [0.96344728 0.13637703 0.04021597]\n",
            " [0.72811964 0.24342123 0.41558862]]\n",
            "\n",
            "Matriz B:\n",
            " [[0.6027007  0.96535989 0.01831439]\n",
            " [0.54274951 0.89041062 0.6553219 ]\n",
            " [0.84938696 0.01564707 0.02672261]]\n",
            "\n",
            "Matriz C:\n",
            " [[0.61722654 0.13370918 0.02145617]\n",
            " [0.04695742 0.27215636 0.72770278]\n",
            " [0.37116845 0.61118078 0.41704754]]\n"
          ]
        }
      ]
    },
    {
      "cell_type": "code",
      "source": [
        "# AB vs. BA\n",
        "AB = np.dot(A, B)\n",
        "BA = np.dot(B, A)\n",
        "print(\"\\nAB:\\n\", AB)\n",
        "print(\"\\nBA:\\n\", BA)\n",
        "print(\"AB == BA:\", np.array_equal(AB, BA))"
      ],
      "metadata": {
        "colab": {
          "base_uri": "https://localhost:8080/"
        },
        "id": "B1lC65zozGbI",
        "outputId": "4666e228-ab41-487a-c277-08e1f826eab7"
      },
      "execution_count": 8,
      "outputs": [
        {
          "output_type": "stream",
          "name": "stdout",
          "text": [
            "\n",
            "AB:\n",
            " [[0.64045182 0.36025178 0.1043664 ]\n",
            " [0.68884783 1.05213417 0.10809047]\n",
            " [0.92395053 0.92614509 0.18395994]]\n",
            "\n",
            "BA:\n",
            " [[1.08997897 0.21578648 0.34596637]\n",
            " [1.46700748 0.35270088 0.57789054]\n",
            " [0.24109447 0.12092548 0.43386608]]\n",
            "AB == BA: False\n"
          ]
        }
      ]
    },
    {
      "cell_type": "code",
      "source": [
        "# (AB)C vs. A(BC)\n",
        "ABC = np.dot(np.dot(A, B), C)\n",
        "A_BC = np.dot(A, np.dot(B, C))\n",
        "print(\"\\n(AB)C:\\n\", ABC)\n",
        "print(\"\\nA(BC):\\n\", A_BC)\n",
        "print(\"(AB)C == A(BC):\", np.allclose(ABC, A_BC))"
      ],
      "metadata": {
        "colab": {
          "base_uri": "https://localhost:8080/"
        },
        "id": "ZEknvR6RzJ4_",
        "outputId": "72aba991-7b03-4c59-8f87-9629d40e2d18"
      },
      "execution_count": 9,
      "outputs": [
        {
          "output_type": "stream",
          "name": "stdout",
          "text": [
            "\n",
            "(AB)C:\n",
            " [[0.45095787 0.24746584 0.31942361]\n",
            " [0.51470045 0.44451311 0.82549986]\n",
            " [0.6820563  0.48802973 0.77050283]]\n",
            "\n",
            "A(BC):\n",
            " [[0.45095787 0.24746584 0.31942361]\n",
            " [0.51470045 0.44451311 0.82549986]\n",
            " [0.6820563  0.48802973 0.77050283]]\n",
            "(AB)C == A(BC): True\n"
          ]
        }
      ]
    },
    {
      "cell_type": "code",
      "source": [
        "# A(B+C) vs. AB + AC\n",
        "A_BC_sum = np.dot(A, B + C)\n",
        "AB_AC_sum = np.dot(A, B) + np.dot(A, C)\n",
        "print(\"\\nA(B+C):\\n\", A_BC_sum)\n",
        "print(\"\\nAB + AC:\\n\", AB_AC_sum)\n",
        "print(\"A(B+C) == AB + AC:\", np.allclose(A_BC_sum, AB_AC_sum))"
      ],
      "metadata": {
        "colab": {
          "base_uri": "https://localhost:8080/"
        },
        "id": "HNheZPbfzMX0",
        "outputId": "38459197-e837-4558-978d-f61a71c3bab7"
      },
      "execution_count": 10,
      "outputs": [
        {
          "output_type": "stream",
          "name": "stdout",
          "text": [
            "\n",
            "A(B+C):\n",
            " [[0.98122711 0.73249351 0.41305041]\n",
            " [1.30484387 1.24265102 0.24477627]\n",
            " [1.53904912 1.34374978 0.55004112]]\n",
            "\n",
            "AB + AC:\n",
            " [[0.98122711 0.73249351 0.41305041]\n",
            " [1.30484387 1.24265102 0.24477627]\n",
            " [1.53904912 1.34374978 0.55004112]]\n",
            "A(B+C) == AB + AC: True\n"
          ]
        }
      ]
    },
    {
      "cell_type": "code",
      "source": [
        "# (A+B)C vs. AC + BC\n",
        "AB_sum_C = np.dot(A + B, C)\n",
        "AC_BC_sum = np.dot(A, C) + np.dot(B, C)\n",
        "print(\"\\n(A+B)C:\\n\", AB_sum_C)\n",
        "print(\"\\nAC + BC:\\n\", AC_BC_sum)\n",
        "print(\"(A+B)C == AC + BC:\", np.allclose(AB_sum_C, AC_BC_sum))"
      ],
      "metadata": {
        "colab": {
          "base_uri": "https://localhost:8080/"
        },
        "id": "6KBQKUD-zjpj",
        "outputId": "77b1a487-128c-4665-e74d-4daa63b86e14"
      },
      "execution_count": 11,
      "outputs": [
        {
          "output_type": "stream",
          "name": "stdout",
          "text": [
            "\n",
            "(A+B)C:\n",
            " [[0.76490669 0.72675058 1.0317487 ]\n",
            " [1.23604164 0.9059385  1.06958579]\n",
            " [1.1500161  0.55176632 0.40683677]]\n",
            "\n",
            "AC + BC:\n",
            " [[0.76490669 0.72675058 1.0317487 ]\n",
            " [1.23604164 0.9059385  1.06958579]\n",
            " [1.1500161  0.55176632 0.40683677]]\n",
            "(A+B)C == AC + BC: True\n"
          ]
        }
      ]
    },
    {
      "cell_type": "code",
      "source": [
        "# (A+B)C vs. AC + BC\n",
        "AB_sum_C = np.dot(A + B, C)\n",
        "AC_BC_sum = np.dot(A, C) + np.dot(B, C)\n",
        "print(\"\\n(A+B)C:\\n\", AB_sum_C)\n",
        "print(\"\\nAC + BC:\\n\", AC_BC_sum)\n",
        "print(\"(A+B)C == AC + BC:\", np.allclose(AB_sum_C, AC_BC_sum))"
      ],
      "metadata": {
        "colab": {
          "base_uri": "https://localhost:8080/"
        },
        "id": "i3q7qy8u1OFw",
        "outputId": "42abfbef-ba35-4851-dce1-7377ead99a8f"
      },
      "execution_count": 12,
      "outputs": [
        {
          "output_type": "stream",
          "name": "stdout",
          "text": [
            "\n",
            "(A+B)C:\n",
            " [[0.76490669 0.72675058 1.0317487 ]\n",
            " [1.23604164 0.9059385  1.06958579]\n",
            " [1.1500161  0.55176632 0.40683677]]\n",
            "\n",
            "AC + BC:\n",
            " [[0.76490669 0.72675058 1.0317487 ]\n",
            " [1.23604164 0.9059385  1.06958579]\n",
            " [1.1500161  0.55176632 0.40683677]]\n",
            "(A+B)C == AC + BC: True\n"
          ]
        }
      ]
    },
    {
      "cell_type": "code",
      "source": [
        "# (AB)^T vs. B^T A^T\n",
        "AB_T = np.dot(A, B).T\n",
        "BT_AT = np.dot(B.T, A.T)\n",
        "print(\"\\n(AB)^T:\\n\", AB_T)\n",
        "print(\"\\nB^T A^T:\\n\", BT_AT)\n",
        "print(\"(AB)^T == B^T A^T:\", np.allclose(AB_T, BT_AT))"
      ],
      "metadata": {
        "colab": {
          "base_uri": "https://localhost:8080/"
        },
        "id": "C5SW-MBS1Q-K",
        "outputId": "51f8bd92-c5e6-4183-928e-1ae4a6fc52c5"
      },
      "execution_count": 13,
      "outputs": [
        {
          "output_type": "stream",
          "name": "stdout",
          "text": [
            "\n",
            "(AB)^T:\n",
            " [[0.64045182 0.68884783 0.92395053]\n",
            " [0.36025178 1.05213417 0.92614509]\n",
            " [0.1043664  0.10809047 0.18395994]]\n",
            "\n",
            "B^T A^T:\n",
            " [[0.64045182 0.68884783 0.92395053]\n",
            " [0.36025178 1.05213417 0.92614509]\n",
            " [0.1043664  0.10809047 0.18395994]]\n",
            "(AB)^T == B^T A^T: True\n"
          ]
        }
      ]
    },
    {
      "cell_type": "code",
      "source": [
        "# det(AB) vs. det(A) det(B)\n",
        "det_AB = np.linalg.det(np.dot(A, B))\n",
        "det_A_det_B = np.linalg.det(A) * np.linalg.det(B)\n",
        "print(\"\\ndet(AB):\", det_AB)\n",
        "print(\"det(A) det(B):\", det_A_det_B)\n",
        "print(\"det(AB) == det(A) det(B):\", np.allclose(det_AB, det_A_det_B))"
      ],
      "metadata": {
        "colab": {
          "base_uri": "https://localhost:8080/"
        },
        "id": "buKaW9b71Uuy",
        "outputId": "41d56c0d-2c60-44e3-bcc3-31d2736ddb3c"
      },
      "execution_count": 14,
      "outputs": [
        {
          "output_type": "stream",
          "name": "stdout",
          "text": [
            "\n",
            "det(AB): 0.01529926670700919\n",
            "det(A) det(B): 0.01529926670700919\n",
            "det(AB) == det(A) det(B): True\n"
          ]
        }
      ]
    },
    {
      "cell_type": "code",
      "source": [
        "# (A^T)^T vs. A\n",
        "ATT = A.T.T\n",
        "print(\"\\n(A^T)^T:\\n\", ATT)\n",
        "print(\"\\nA:\\n\", A)\n",
        "print(\"(A^T)^T == A:\", np.allclose(ATT, A))"
      ],
      "metadata": {
        "colab": {
          "base_uri": "https://localhost:8080/"
        },
        "id": "-RkOPb351XIp",
        "outputId": "cdad6110-adec-4396-e5b4-ab71e998ff14"
      },
      "execution_count": 15,
      "outputs": [
        {
          "output_type": "stream",
          "name": "stdout",
          "text": [
            "\n",
            "(A^T)^T:\n",
            " [[0.24318961 0.13219738 0.49698339]\n",
            " [0.96344728 0.13637703 0.04021597]\n",
            " [0.72811964 0.24342123 0.41558862]]\n",
            "\n",
            "A:\n",
            " [[0.24318961 0.13219738 0.49698339]\n",
            " [0.96344728 0.13637703 0.04021597]\n",
            " [0.72811964 0.24342123 0.41558862]]\n",
            "(A^T)^T == A: True\n"
          ]
        }
      ]
    },
    {
      "cell_type": "code",
      "source": [
        "# (cA)^T vs. cA^T\n",
        "c = np.random.rand()  # Escalar aleatorio\n",
        "cA_T = (c * A).T\n",
        "cAT = c * A.T\n",
        "print(\"\\n(cA)^T:\\n\", cA_T)\n",
        "print(\"\\ncA^T:\\n\", cAT)\n",
        "print(\"(cA)^T == cA^T:\", np.allclose(cA_T, cAT))"
      ],
      "metadata": {
        "colab": {
          "base_uri": "https://localhost:8080/"
        },
        "id": "b8MCaN2T1kOp",
        "outputId": "dbf24e5e-48ec-4bb6-d974-e99b4d4223e9"
      },
      "execution_count": 16,
      "outputs": [
        {
          "output_type": "stream",
          "name": "stdout",
          "text": [
            "\n",
            "(cA)^T:\n",
            " [[0.11068544 0.43850385 0.33139672]\n",
            " [0.06016838 0.06207071 0.11079086]\n",
            " [0.22619726 0.01830391 0.1891512 ]]\n",
            "\n",
            "cA^T:\n",
            " [[0.11068544 0.43850385 0.33139672]\n",
            " [0.06016838 0.06207071 0.11079086]\n",
            " [0.22619726 0.01830391 0.1891512 ]]\n",
            "(cA)^T == cA^T: True\n"
          ]
        }
      ]
    },
    {
      "cell_type": "code",
      "source": [
        "# (A+B)^T vs. A^T + B^T\n",
        "AB_sum_T = (A + B).T\n",
        "AT_BT_sum = A.T + B.T\n",
        "print(\"\\n(A+B)^T:\\n\", AB_sum_T)\n",
        "print(\"\\nA^T + B^T:\\n\", AT_BT_sum)\n",
        "print(\"(A+B)^T == A^T + B^T:\", np.allclose(AB_sum_T, AT_BT_sum))"
      ],
      "metadata": {
        "colab": {
          "base_uri": "https://localhost:8080/"
        },
        "id": "h_i1jytq1nD3",
        "outputId": "85443383-9df1-454c-9570-d77b86018b94"
      },
      "execution_count": 17,
      "outputs": [
        {
          "output_type": "stream",
          "name": "stdout",
          "text": [
            "\n",
            "(A+B)^T:\n",
            " [[0.84589032 1.50619679 1.57750661]\n",
            " [1.09755727 1.02678764 0.2590683 ]\n",
            " [0.51529777 0.69553787 0.44231123]]\n",
            "\n",
            "A^T + B^T:\n",
            " [[0.84589032 1.50619679 1.57750661]\n",
            " [1.09755727 1.02678764 0.2590683 ]\n",
            " [0.51529777 0.69553787 0.44231123]]\n",
            "(A+B)^T == A^T + B^T: True\n"
          ]
        }
      ]
    },
    {
      "cell_type": "markdown",
      "source": [
        "#4\n",
        "\n",
        "El **Teorema de Laplace** es un método para calcular el determinante de una matriz cuadrada, particularmente útil para matrices de orden mayor a 2. Este teorema se basa en la expansión del determinante por los elementos de una fila o una columna cualquiera.\n",
        "\n",
        "\n",
        "\n",
        "$$\n",
        "\\det(A) = \\sum_{j=1}^n (-1)^{1+j} a_{1j} M_{1j}\n",
        "$$\n",
        "\n",
        "donde:\n",
        "- $a_{1j}$ es el elemento de la primera fila y columna $j$.\n",
        "- $M_{1j}$ es el menor asociado al elemento $a_{1j}$, es decir, el determinante de la submatriz de $3 \\times 3$ que se obtiene al eliminar la fila 1 y la columna $j$.\n",
        "- $(-1)^{1+j}$ es el signo correspondiente al cofactor del elemento $a_{1j}$.\n",
        "\n",
        "Podemos realizar una función recursiva para el cálculo del determinante, sabiendo que el valor del determinante de una matriz de orden uno es el único elemento de esa matriz, y el de una matriz de orden superior a uno es la suma de cada uno de los elementos de una fila o columna por los Adjuntos a ese elemento, como en la función recursiva se emplea la misma función definida el cálculo lo haremos por Menor complementario, un ejemplo desarrollado por la primera fila sería:\n",
        "\n",
        "$$\n",
        "   \\det (A_{j,j}) =\n",
        "   \\left \\{\n",
        "   \\begin{array}{llcl}\n",
        "      si & j = 1 & \\to & a_{1,1} \\\\\n",
        "                                 \\\\\n",
        "      si & j > 1 & \\to & \\displaystyle \\sum_{k=1}^j \\; (-1)^{(1+k)} \\cdot a_{1,k} \\cdot \\det( \\alpha_{1,k})\n",
        "   \\end{array}\n",
        "   \\right .\n",
        "$$\n",
        "\n",
        "Realice una función que encuentre el determinante de una matriz usando la recursividad aqui planteada, explique explicitamente su código"
      ],
      "metadata": {
        "id": "ibYf2I9T2pIw"
      }
    },
    {
      "cell_type": "code",
      "source": [
        "\n",
        "def determinante(matriz):\n",
        "    \"\"\"Calcula el determinante de una matriz utilizando recursividad.\"\"\"\n",
        "    filas = len(matriz)\n",
        "    columnas = len(matriz[0])\n",
        "\n",
        "\n",
        "    # Caso recursivo: matriz nxn (n > 1)\n",
        "    if filas == columnas: #Solamente puede calcularse el determinante para matrices cuadradas\n",
        "        det = 0\n",
        "        for j in range(columnas):\n",
        "            # Calcular la submatriz según la expansión del teorema de laplace, quitando la primer fila y la primera columna, luego la primera fila y la segunda columna etc\n",
        "            #Garda una submatriz que una vez calculado el dettermiante es reemplazada por la isguiente submatriz\n",
        "            submatriz = [fila[:j] + fila[j+1:] for fila in matriz[1:]]\n",
        "\n",
        "            # Calcular el cofactor que correponde al termino a1j del teorema de laplace, osea el elemento de la fila 1 y columna j\n",
        "            cofactor = (-1) ** (1 + j + 1) * matriz[0][j]\n",
        "\n",
        "            # Calcular el determinante de la submatriz recursivamente multiplicando el cofactor por la submatriz\n",
        "            det += cofactor * determinante(submatriz)\n",
        "        return det\n",
        "    else:\n",
        "        raise ValueError(\"La matriz debe ser cuadrada.\")"
      ],
      "metadata": {
        "id": "-8tYERLHtrtY"
      },
      "execution_count": 18,
      "outputs": []
    },
    {
      "cell_type": "markdown",
      "source": [
        "#5\n",
        "\n",
        "El método de Jacobi reescribe el sistema $ Ax = b $ descomponiendo la matriz $ A $ como:\n",
        "\n",
        "$$\n",
        "A = D + L + U,\n",
        "$$\n",
        "\n",
        "donde:\n",
        "- $ D $: Matriz diagonal de $ A $,\n",
        "- $ L $: Matriz triangular inferior sin la diagonal,\n",
        "- $ U $: Matriz triangular superior sin la diagonal.\n",
        "\n",
        "El sistema se reorganiza como:\n",
        "\n",
        "$$\n",
        "x = D^{-1}(b - (L + U)x).\n",
        "$$\n",
        "\n",
        "Esto se implementa iterativamente como:\n",
        "\n",
        "$$\n",
        "x_i^{(k+1)} = \\frac{1}{a_{ii}} \\left(b_i - \\sum_{j \\neq i} a_{ij} x_j^{(k)}\\right),\n",
        "$$\n",
        "\n",
        "donde $ a_{ii} $ son los elementos diagonales de $ A $.\n",
        "\n",
        "* Escriba una función explicita que realice de manera iterativa este método con una tol = 1e-7 y un máximo de 100 iteraciones. Defina una documentación clara que explique los métodos usados, lasa entradas y salidas.\n",
        "\n",
        "* Para una matriz aleatoria 5$\\times$ 5, encuentre la solución usando su función y determine el error con respecto a `solve` y el método de inversa de matriz."
      ],
      "metadata": {
        "id": "9OcE-1QhSrI9"
      }
    },
    {
      "cell_type": "code",
      "source": [
        "\n",
        "def jacobi_method(A, b, tol=1e-7, max_iter=100):\n",
        "\n",
        "    #Resuelve un sistema de ecuaciones lineales Ax = b utilizando el método de Jacobi.\n",
        "\n",
        "    #Parámetros:\n",
        "    #A (numpy.ndarray): Matriz de coeficientes (nxn).\n",
        "    #b (numpy.ndarray): Vector de términos independientes (n).\n",
        "    #tol (float): Tolerancia para la convergencia.\n",
        "    #max_iter (int): Número máximo de iteraciones.\n",
        "\n",
        "    #Retorna:\n",
        "    #numpy.ndarray: Vector solución x.\n",
        "    #int: Número de iteraciones realizadas.\n",
        "\n",
        "    n = len(b)\n",
        "    x = np.zeros(n)  # Inicialización de la solución\n",
        "    x_new = np.zeros(n)\n",
        "\n",
        "    for k in range(max_iter): # k cantidad de iteraciones, cuando k==max_iter y el error < tol entonces no converje\n",
        "        for i in range(n):\n",
        "            suma = 0\n",
        "            for j in range(n):\n",
        "                if i != j:\n",
        "                    suma += A[i][j] * x[j]\n",
        "            x_new[i] = (b[i] - suma) / A[i][i]\n",
        "\n",
        "        # Verificar convergencia\n",
        "        if np.linalg.norm(x_new - x) < tol:\n",
        "            return x_new, k + 1\n",
        "\n",
        "        x = x_new.copy()  # Actualizar la solución\n",
        "\n",
        "    return x, max_iter  # No convergió dentro del número máximo de iteraciones"
      ],
      "metadata": {
        "id": "PQqefGzMT3ks"
      },
      "execution_count": 19,
      "outputs": []
    },
    {
      "cell_type": "code",
      "source": [
        "# Generar matriz aleatoria 5x5 y vector b\n",
        "np.random.seed(0)  # Para reproducibilidad\n",
        "A = np.random.rand(5, 5)\n",
        "b = np.random.rand(5)\n",
        "\n",
        "# Resolver el sistema utilizando el método de Jacobi\n",
        "x_jacobi, iteraciones = jacobi_method(A, b)\n",
        "print(\"Solución (Jacobi):\", x_jacobi)\n",
        "print(\"Iteraciones (Jacobi):\", iteraciones)"
      ],
      "metadata": {
        "colab": {
          "base_uri": "https://localhost:8080/"
        },
        "id": "EiB-cZ4a6b2b",
        "outputId": "8171eace-0de0-439e-f266-7fd4954c978a"
      },
      "execution_count": 22,
      "outputs": [
        {
          "output_type": "stream",
          "name": "stdout",
          "text": [
            "Solución (Jacobi): [-3.04322736e+79 -3.94155137e+79 -2.13580918e+79 -2.55567732e+79\n",
            " -1.21036858e+80]\n",
            "Iteraciones (Jacobi): 100\n"
          ]
        }
      ]
    },
    {
      "cell_type": "code",
      "source": [
        "# Resolver el sistema utilizando numpy.linalg.solve\n",
        "x_solve = np.linalg.solve(A, b)\n",
        "print(\"Solución (solve):\", x_solve)\n",
        "\n",
        "# Resolver el sistema utilizando el método de inversa\n",
        "A_inv = np.linalg.inv(A)\n",
        "x_inv = np.dot(A_inv, b)\n",
        "print(\"Solución (inversa):\", x_inv)\n",
        "\n",
        "# Calcular errores\n",
        "error_jacobi_solve = np.linalg.norm(x_jacobi - x_solve)\n",
        "error_jacobi_inv = np.linalg.norm(x_jacobi - x_inv)\n",
        "print(\"Error Jacobi vs. solve:\", error_jacobi_solve)\n",
        "print(\"Error Jacobi vs. inversa:\", error_jacobi_inv)\n",
        "\n",
        "\n",
        "#El resultado es casi identico usando el metodo de jacobi, de la inversa o el solve"
      ],
      "metadata": {
        "colab": {
          "base_uri": "https://localhost:8080/"
        },
        "id": "tRuuyQQT6s1T",
        "outputId": "90c621c0-6e0c-48f7-fa02-6c008f9fba58"
      },
      "execution_count": 24,
      "outputs": [
        {
          "output_type": "stream",
          "name": "stdout",
          "text": [
            "Solución (solve): [-7.44095801  5.42647186 -4.16168606  6.91406389 -0.98235854]\n",
            "Solución (inversa): [-7.44095801  5.42647186 -4.16168606  6.91406389 -0.98235854]\n",
            "Error Jacobi vs. solve: 1.350516339321266e+80\n",
            "Error Jacobi vs. inversa: 1.350516339321266e+80\n"
          ]
        }
      ]
    },
    {
      "cell_type": "markdown",
      "source": [
        "#6\n",
        "\n",
        "Verifique que cualquier matriz hermitiana de 2 × 2 $ L $ puede escribirse como una suma de cuatro términos:\n",
        "\n",
        "$$ L = a\\sigma_x + b\\sigma_y + c\\sigma_z + dI $$\n",
        "\n",
        "donde $ a $, $ b $, $ c $ y $ d $ son números reales.\n",
        "\n",
        "Las cuatro matrices de Pauli son:\n",
        "\n",
        "$$ \\sigma_x = \\begin{pmatrix} 0 & 1 \\\\ 1 & 0 \\end{pmatrix}, \\quad \\sigma_y = \\begin{pmatrix} 0 & -i \\\\ i & 0 \\end{pmatrix}, \\quad \\sigma_z = \\begin{pmatrix} 1 & 0 \\\\ 0 & -1 \\end{pmatrix}, \\quad I = \\begin{pmatrix} 1 & 0 \\\\ 0 & 1 \\end{pmatrix} $$\n",
        "\n",
        "\n"
      ],
      "metadata": {
        "id": "iggu2jNwVpnK"
      }
    },
    {
      "cell_type": "code",
      "source": [
        "\n",
        "sigma_x = np.array([[0, 1], [1, 0]])\n",
        "sigma_y = np.array([[0, -1j], [1j, 0]])\n",
        "sigma_z = np.array([[1, 0], [0, -1]])\n",
        "I = np.eye(2)  # Matriz identidad 2x2"
      ],
      "metadata": {
        "id": "8WN9_cOCV7cM"
      },
      "execution_count": 39,
      "outputs": []
    },
    {
      "cell_type": "code",
      "source": [],
      "metadata": {
        "id": "qFvY5CCSDocO"
      },
      "execution_count": null,
      "outputs": []
    },
    {
      "cell_type": "code",
      "source": [
        "def generar_matriz_hermitiana(a, b, c, d):\n",
        "    #Genera una matriz hermitiana 2x2.\n",
        "    return np.array([[d + c, a - 1j * b], [a + 1j * b, d - c]])"
      ],
      "metadata": {
        "id": "GA0sBiJsDoPX"
      },
      "execution_count": 40,
      "outputs": []
    },
    {
      "cell_type": "code",
      "source": [
        "def descomponer_matriz_hermitiana(L):\n",
        "    #Descompone una matriz hermitiana 2x2 en términos de las matrices de Pauli\n",
        "    d = np.trace(L) / 2\n",
        "    a = np.real(L[0, 1] + L[1, 0]) / 2\n",
        "    b = np.imag(L[1, 0] - L[0, 1]) / 2\n",
        "    c = (L[0, 0] - L[1, 1]) / 2\n",
        "    return a, b, c, d\n",
        "\n",
        "def reconstruir_matriz(a, b, c, d):\n",
        "    #Reconstruye una matriz hermitiana a partir de los coeficientes\n",
        "    return a * sigma_x + b * sigma_y + c * sigma_z + d * I\n",
        "\n",
        "# Generar una matriz hermitiana aleatoria\n",
        "a_rand, b_rand, c_rand, d_rand = np.random.rand(4)\n",
        "L_rand = generar_matriz_hermitiana(a_rand, b_rand, c_rand, d_rand)\n",
        "\n",
        "# Descomponer y reconstruir la matriz\n",
        "a_calc, b_calc, c_calc, d_calc = descomponer_matriz_hermitiana(L_rand)\n",
        "L_reconstruida = reconstruir_matriz(a_calc, b_calc, c_calc, d_calc)\n",
        "\n",
        "# Verificar la igualdad\n",
        "print(\"Matriz original:\\n\", L_rand)\n",
        "print(\"\\nMatriz reconstruida:\\n\", L_reconstruida)\n",
        "print(\"\\nIgualdad:\", np.allclose(L_rand, L_reconstruida))"
      ],
      "metadata": {
        "colab": {
          "base_uri": "https://localhost:8080/"
        },
        "id": "AZM0XZ6cDmNb",
        "outputId": "da5f6fb1-dd89-47db-d3da-6d3e84d801cb"
      },
      "execution_count": 41,
      "outputs": [
        {
          "output_type": "stream",
          "name": "stdout",
          "text": [
            "Matriz original:\n",
            " [[ 0.26934472+0.j          0.46631077-0.24442559j]\n",
            " [ 0.46631077+0.24442559j -0.04859444+0.j        ]]\n",
            "\n",
            "Matriz reconstruida:\n",
            " [[ 0.26934472+0.j          0.46631077-0.24442559j]\n",
            " [ 0.46631077+0.24442559j -0.04859444+0.j        ]]\n",
            "\n",
            "Igualdad: True\n"
          ]
        }
      ]
    }
  ]
}