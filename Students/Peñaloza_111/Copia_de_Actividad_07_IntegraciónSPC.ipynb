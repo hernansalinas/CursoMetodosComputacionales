{
  "nbformat": 4,
  "nbformat_minor": 0,
  "metadata": {
    "colab": {
      "provenance": []
    },
    "kernelspec": {
      "name": "python3",
      "display_name": "Python 3"
    },
    "language_info": {
      "name": "python"
    }
  },
  "cells": [
    {
      "cell_type": "code",
      "execution_count": 31,
      "metadata": {
        "id": "rZuc8vXcWuxy",
        "cellView": "form"
      },
      "outputs": [],
      "source": [
        "#@title Librerias\n",
        "import numpy as np\n",
        "import matplotlib.pyplot as plt\n",
        "import pandas as pd\n",
        "import sympy as sp\n",
        "from scipy.integrate import simpson, romberg, trapezoid"
      ]
    },
    {
      "cell_type": "markdown",
      "source": [
        "# Actividad 07: Integración\n",
        "\n",
        "---\n",
        "### Profesor: Juan Marcos Marín\n",
        "### Nombre: ______\n",
        "*Métodos computacionales 2024-II*\n",
        "\n",
        "---"
      ],
      "metadata": {
        "id": "MGwGfceuWxy3"
      }
    },
    {
      "cell_type": "markdown",
      "source": [
        "#1\n",
        "* Implemente una función para el **método de integración de Romberg** definiendo un límite de tolerancia de 1e-8 y/o un máximo de iteraciones de 10.\n",
        "\n",
        "* Encuentre la integral para\n",
        "\n",
        "$$\\int_0^{\\pi/4} dx\\, e^{3x}\\cdot \\sin(x)$$\n",
        "\n",
        "* Imprima su resultado y compare los valores dados por `scipy.integrate.romberg`\n",
        "\n",
        "* Finalmente, encuentre el valor del error, hallando el valor exacto usando `sympy`\n",
        "\n"
      ],
      "metadata": {
        "id": "_qpgPAtHNgPB"
      }
    },
    {
      "cell_type": "code",
      "source": [
        "import numpy as np\n",
        "import scipy.integrate as spi\n",
        "import sympy as sp\n",
        "\n",
        "# Implementación del método de Romberg\n",
        "def romberg_c(f, a, b, tol=1e-8, max_iter=10):\n",
        "    R = np.zeros((max_iter, max_iter), dtype=float)\n",
        "    h = b - a\n",
        "    R[0, 0] = 0.5 * h * (f(a) + f(b))  # Primera iteración (regla del trapecio con n=1)\n",
        "\n",
        "    for i in range(1, max_iter):\n",
        "        h /= 2\n",
        "        # Aplicar regla del trapecio\n",
        "        sum_f = sum(f(a + (2*k - 1)*h) for k in range(1, 2**(i-1) + 1))\n",
        "        R[i, 0] = 0.5 * R[i-1, 0] + h * sum_f\n",
        "\n",
        "        # Extrapolación de Richardson\n",
        "        for j in range(1, i+1):\n",
        "            R[i, j] = R[i, j-1] + (R[i, j-1] - R[i-1, j-1]) / (4**j - 1)\n",
        "\n",
        "        # Verificar tolerancia\n",
        "        if i > 0 and abs(R[i, i] - R[i-1, i-1]) < tol:\n",
        "            return R[i, i], R[:i+1, :i+1]\n",
        "\n",
        "    return R[max_iter-1, max_iter-1], R\n",
        "\n",
        "# Definir la función a integrar\n",
        "def f(x):\n",
        "    return np.exp(3*x) * np.sin(x)\n",
        "\n",
        "# Límites de integración\n",
        "a, b = 0, np.pi/4\n",
        "\n",
        "# Calcular con la implementación de Romberg\n",
        "result_c, table = romberg_c(f, a, b)\n",
        "print(\"--------------------------------------------------\")\n",
        "print(f\"Resultado Romberg (custom): {result_c:.10f}\")\n",
        "\n",
        "# Calcular con SciPy\n",
        "result_scipy = spi.romberg(f, a, b, tol=1e-8, show=False)\n",
        "print(f\"Resultado SciPy Romberg:    {result_scipy:.10f}\")\n",
        "\n",
        "# Calcular valor exacto con SymPy\n",
        "x = sp.symbols('x')\n",
        "integral_exacta = sp.integrate(sp.exp(3*x) * sp.sin(x), (x, 0, sp.pi/4))\n",
        "integral_exacta = float(integral_exacta.evalf())\n",
        "error_c= abs(result_c - integral_exacta)\n",
        "error_scipy = abs(result_scipy - integral_exacta)\n",
        "\n",
        "\n",
        "print(f\"Valor exacto (SymPy):      {integral_exacta:.10f}\")\n",
        "print(f\"Error Romberg (custom):    {error_c:.2e}\")\n",
        "print(f\"Error SciPy Romberg:       {error_scipy:.2e}\")\n"
      ],
      "metadata": {
        "id": "Y0nXXFcnNe2R",
        "colab": {
          "base_uri": "https://localhost:8080/"
        },
        "outputId": "270be357-0e5c-436c-faae-b0b019904a9a"
      },
      "execution_count": 35,
      "outputs": [
        {
          "output_type": "stream",
          "name": "stdout",
          "text": [
            "--------------------------------------------------\n",
            "Resultado Romberg (custom): 1.5920977079\n",
            "Resultado SciPy Romberg:    1.5920977079\n",
            "Valor exacto (SymPy):      1.5920977079\n",
            "Error Romberg (custom):    6.59e-14\n",
            "Error SciPy Romberg:       6.64e-14\n"
          ]
        },
        {
          "output_type": "stream",
          "name": "stderr",
          "text": [
            "<ipython-input-35-0e406811a218>:40: DeprecationWarning: `scipy.integrate.romberg` is deprecated as of SciPy 1.12.0and will be removed in SciPy 1.15.0. Please use`scipy.integrate.quad` instead.\n",
            "  result_scipy = spi.romberg(f, a, b, tol=1e-8, show=False)\n"
          ]
        }
      ]
    },
    {
      "cell_type": "markdown",
      "source": [
        "#2\n",
        "\n",
        "* Usando los *métodos trapezoidal compuesto*, *simpson 1/3* y de *medio punto* encuentre la siguiente integral,\n",
        "\n",
        "$$\\int_e^{1+e} dx\\, \\frac{1}{x\\ln x}$$\n",
        "\n",
        "* Luego, haga un estudio de la convergencia en términos del valor de $h$ o de los sub-intervalos de la función. ¿Cuál es mejor?\n"
      ],
      "metadata": {
        "id": "Db9dUFTSQcLY"
      }
    },
    {
      "cell_type": "code",
      "source": [
        "import numpy as np\n",
        "\n",
        "# Función a integrar\n",
        "def f(x):\n",
        "    return 1 / (x * np.log(x))\n",
        "\n",
        "# Límites de integración\n",
        "a = np.e\n",
        "b = 1 + np.e\n",
        "\n",
        "# Valor exacto\n",
        "valor_exacto = np.log(np.log(1 + np.e))  # ≈ 0.2721982617\n",
        "\n",
        "# Métodos de integración\n",
        "def trapezoidal(n):\n",
        "    h = (b - a)/n\n",
        "    x = np.linspace(a, b, n+1)\n",
        "    return (h/2) * (f(x[0]) + 2*sum(f(x[1:-1]) + f(x[-1])))\n",
        "\n",
        "def simpson(n):\n",
        "    n = n if n%2 == 0 else n+1\n",
        "    h = (b - a)/n\n",
        "    x = np.linspace(a, b, n+1)\n",
        "    return (h/3) * (f(x[0]) + 4*sum(f(x[1:-1:2]) + 2*sum(f(x[2::2])) + f(x[-1])))\n",
        "\n",
        "def punto_medio(n):\n",
        "    h = (b - a)/n\n",
        "    x_m = np.linspace(a + h/2, b - h/2, n)\n",
        "    return h * sum(f(x_m))\n",
        "\n",
        "# Valores de n a evaluar\n",
        "n_values = [2, 4, 8, 16, 32, 64, 128, 256, 512]\n",
        "\n",
        "trap = trapezoidal(512)\n",
        "simp = simpson(512)\n",
        "pm = punto_medio(512)\n",
        "\n",
        "# Errores para n=512\n",
        "error_trap = abs(trapezoidal(512) - valor_exacto)\n",
        "error_simp = abs(simpson(512) - valor_exacto)\n",
        "error_pm = abs(punto_medio(512) - valor_exacto)\n",
        "\n",
        "print(\"\\nErrores absolutos (n=512):\")\n",
        "print(f\"Trapezoidal: {error_trap:.2e},  valor {trap}\")\n",
        "print(f\"Simpson 1/3: {error_simp:.2e}, valor {simp}\")\n",
        "print(f\"Punto Medio: {error_pm:.2e}, valor {pm}\")"
      ],
      "metadata": {
        "id": "uEPXP21uQc_o",
        "colab": {
          "base_uri": "https://localhost:8080/"
        },
        "outputId": "45675daa-606b-4b48-9d9d-7c47e0158b93"
      },
      "execution_count": 38,
      "outputs": [
        {
          "output_type": "stream",
          "name": "stdout",
          "text": [
            "\n",
            "Errores absolutos (n=512):\n",
            "Trapezoidal: 2.04e-01,  valor 0.47670287199995065\n",
            "Simpson 1/3: 9.30e+01, valor 93.22786084545939\n",
            "Punto Medio: 2.76e-08, valor 0.2725138529007386\n"
          ]
        }
      ]
    },
    {
      "cell_type": "code",
      "source": [
        "\n",
        "\n",
        "# Valores de n y cálculo de errores\n",
        "n_values = [2, 4, 8, 16, 32, 64, 128, 256, 512]\n",
        "h_values = [(b - a)/n for n in n_values]\n",
        "\n",
        "# Calcular errores absolutos\n",
        "errores_trap = [abs(trapezoidal(n) - valor_exacto) for n in n_values]\n",
        "errores_simp = [abs(simpson(n) - valor_exacto) for n in n_values]\n",
        "errores_pm = [abs(punto_medio(n) - valor_exacto) for n in n_values]\n",
        "\n",
        "plt.figure(figsize=(10, 6))\n",
        "plt.loglog(h_values, errores_trap, 'o-', label='Trapezoidal (O(h²))', markersize=8)\n",
        "plt.loglog(h_values, errores_simp, 's-', label='Simpson 1/3 (O(h⁴))', markersize=8)\n",
        "plt.loglog(h_values, errores_pm, 'd-', label='Punto Medio (O(h²))', markersize=8)\n",
        "\n",
        "# Formato del gráfico\n",
        "plt.xlabel('Tamaño de paso (h)', fontsize=12)\n",
        "plt.ylabel('Error ', fontsize=12)\n",
        "plt.legend(fontsize=12)\n",
        "\n",
        "\n",
        "plt.show()"
      ],
      "metadata": {
        "colab": {
          "base_uri": "https://localhost:8080/",
          "height": 550
        },
        "id": "6QNOzWn0RWs3",
        "outputId": "5206c583-8a6c-43ff-8722-d485b5c60132"
      },
      "execution_count": 46,
      "outputs": [
        {
          "output_type": "display_data",
          "data": {
            "text/plain": [
              "<Figure size 1000x600 with 1 Axes>"
            ],
            "image/png": "[encoded data removed]"
          },
          "metadata": {}
        }
      ]
    },
    {
      "cell_type": "markdown",
      "source": [
        "#3\n",
        "Usando la siguiente función:\n",
        "\n",
        "\n",
        "\n",
        "```python\n",
        "def gauss_quad_standard(func, n):\n",
        "    \"\"\"\n",
        "    Calcula la integral de una función en el intervalo [-1, 1]\n",
        "    utilizando cuadratura gaussiana.\n",
        "\n",
        "    Parameters:\n",
        "    - func: La función a integrar.\n",
        "    - n: Número de puntos para la cuadratura (grado del polinomio de Legendre).\n",
        "\n",
        "    Returns:\n",
        "    - Aproximación de la integral.\n",
        "    \"\"\"\n",
        "    # Obtener raíces y pesos del polinomio de Legendre\n",
        "    x, w = roots_legendre(n)\n",
        "\n",
        "    # Evaluar la suma ponderada\n",
        "    integral = np.sum(w * func(x))\n",
        "    return integral\n",
        "```\n",
        "\n",
        "Modifique la función `gauss_quad_standard` de forma tal que no este restringida para $[-1,1]$ sino para cualquier intervalo $[a,b]$. Luego, encuentre la integral del *punto 2*.\n",
        "\n",
        "\n",
        "\n"
      ],
      "metadata": {
        "id": "3fLo8sm8RqA0"
      }
    },
    {
      "cell_type": "code",
      "source": [
        "import numpy as np\n",
        "from scipy.special import roots_legendre\n",
        "\n",
        "def gauss_quad_general(func, a, b, n):\n",
        "    \"\"\"\n",
        "    Calcula la integral de una función en el intervalo [a, b] usando cuadratura gaussiana.\n",
        "\n",
        "    Parameters:\n",
        "    - func: Función a integrar.\n",
        "    - a: Límite inferior.\n",
        "    - b: Límite superior.\n",
        "    - n: Número de puntos de cuadratura.\n",
        "\n",
        "    Returns:\n",
        "    - Aproximación de la integral.\n",
        "    \"\"\"\n",
        "    # Obtener raíces y pesos en [-1, 1]\n",
        "    t, w = roots_legendre(n)\n",
        "\n",
        "    # Cambio de variable: mapear t ∈ [-1, 1] a x ∈ [a, b]\n",
        "    x = 0.5 * (b - a) * t + 0.5 * (a + b)\n",
        "\n",
        "    # Factor de escala (b - a)/2\n",
        "    integral = 0.5 * (b - a) * np.sum(w * func(x))\n",
        "\n",
        "    return integral"
      ],
      "metadata": {
        "id": "0XQga3HfSE9n"
      },
      "execution_count": 47,
      "outputs": []
    },
    {
      "cell_type": "code",
      "source": [
        "# Definir la función a integrar\n",
        "def f(x):\n",
        "    return 1 / (x * np.log(x))\n",
        "\n",
        "# Límites de integración\n",
        "a = np.e\n",
        "b = 1 + np.e\n",
        "\n",
        "# Calcular con cuadratura gaussiana (n=5 puntos)\n",
        "n = 5\n",
        "resultado = gauss_quad_general(f, a, b, n)\n",
        "\n",
        "# Valor exacto (analítico)\n",
        "valor_exacto = np.log(np.log(1 + np.e)) - np.log(np.log(np.e))\n",
        "\n",
        "# Error absoluto\n",
        "error = abs(resultado - valor_exacto)\n",
        "\n",
        "\n",
        "print(f\"Resultado (Gauss n={n}): {resultado:.10f}\")\n",
        "print(f\"Valor exacto:            {valor_exacto:.10f}\")\n",
        "print(f\"Error absoluto:          {error:.2e}\")\n"
      ],
      "metadata": {
        "colab": {
          "base_uri": "https://localhost:8080/"
        },
        "id": "Btd-Ft_xPPbg",
        "outputId": "5c6f237c-ea5f-404e-dbb7-6a2ebeeeec82"
      },
      "execution_count": 48,
      "outputs": [
        {
          "output_type": "stream",
          "name": "stdout",
          "text": [
            "Resultado (Gauss n=5): 0.2725138802\n",
            "Valor exacto:            0.2725138805\n",
            "Error absoluto:          2.56e-10\n"
          ]
        }
      ]
    },
    {
      "cell_type": "markdown",
      "source": [
        "#4\n",
        "\n",
        "Encuentra todas las raices para los polinomios de grado 3 y 4 de **Legendre** usando el Método de la Secante y Newton-Raphson.\n",
        "\n",
        "\n",
        "\n",
        "```python\n",
        "import sympy as sp\n",
        "x = sp.Symbol('x')\n",
        "\n",
        "# Polinomio de Legendre de grado n\n",
        "Pn = sp.legendre(n, x)\n",
        "\n",
        "```\n",
        "\n",
        "y calcule los pesos $w_i$ de la cuadratura mediante la fórmula:\n",
        "   $$\n",
        "   w_i = \\frac{2}{(1 - x_i^2) \\left[P_n'(x_i)\\right]^2},\n",
        "   $$\n",
        "   donde $P_n'(x)$ es la derivada del polinomio de Legendre $P_n(x)$.\n"
      ],
      "metadata": {
        "id": "hvSy6jouSLiJ"
      }
    },
    {
      "cell_type": "code",
      "source": [
        "def newton_raphson(f, df, x0, tol=1e-10, max_iter=100):\n",
        "    for _ in range(max_iter):\n",
        "        x1 = x0 - f(x0) / df(x0)\n",
        "        if abs(x1 - x0) < tol:\n",
        "            return x1\n",
        "        x0 = x1\n",
        "    raise ValueError(\"No convergió\")"
      ],
      "metadata": {
        "id": "lWYf_j8aS9E6"
      },
      "execution_count": 26,
      "outputs": []
    },
    {
      "cell_type": "code",
      "source": [
        "def secante(f, x0, x1, tol=1e-10, max_iter=100):\n",
        "    for _ in range(max_iter):\n",
        "        x2 = x1 - f(x1)*(x1 - x0)/(f(x1) - f(x0))\n",
        "        if abs(x2 - x1) < tol:\n",
        "            return x2\n",
        "        x0, x1 = x1, x2\n",
        "    raise ValueError(\"No convergió\")"
      ],
      "metadata": {
        "id": "gAG1ma7RTAGZ"
      },
      "execution_count": 27,
      "outputs": []
    },
    {
      "cell_type": "code",
      "source": [
        "# Intervalo y puntos iniciales para n=3 y n=4\n",
        "initial_guesses = {\n",
        "    3: [-0.8, 0.0, 0.8],  # Cercanos a las raíces teóricas\n",
        "    4: [-0.9, -0.4, 0.4, 0.9]\n",
        "}\n",
        "\n",
        "# Encontrar raíces usando ambos métodos\n",
        "roots_newton = {}\n",
        "roots_secante = {}\n",
        "\n",
        "# Para n=3\n",
        "roots_newton[3] = [newton_raphson(P3_np, dP3_np, x0) for x0 in initial_guesses[3]]\n",
        "roots_secante[3] = [secante(P3_np, x0, x0+0.1) for x0 in initial_guesses[3]]\n",
        "\n",
        "# Para n=4\n",
        "roots_newton[4] = [newton_raphson(P4_np, dP4_np, x0) for x0 in initial_guesses[4]]\n",
        "roots_secante[4] = [secante(P4_np, x0, x0+0.1) for x0 in initial_guesses[4]]"
      ],
      "metadata": {
        "id": "i9n35YKvTReT"
      },
      "execution_count": 28,
      "outputs": []
    },
    {
      "cell_type": "code",
      "source": [
        "def calcular_pesos(roots, dP_np):\n",
        "    pesos = []\n",
        "    for xi in roots:\n",
        "        dP_val = dP_np(xi)\n",
        "        peso = 2 / ((1 - xi**2) * (dP_val)**2)\n",
        "        pesos.append(peso)\n",
        "    return pesos\n",
        "\n",
        "# Pesos para n=3 y n=4\n",
        "pesos_newton_3 = calcular_pesos(roots_newton[3], dP3_np)\n",
        "pesos_secante_3 = calcular_pesos(roots_secante[3], dP3_np)\n",
        "pesos_newton_4 = calcular_pesos(roots_newton[4], dP4_np)\n",
        "pesos_secante_4 = calcular_pesos(roots_secante[4], dP4_np)"
      ],
      "metadata": {
        "id": "775ZpSJ1TU3A"
      },
      "execution_count": 29,
      "outputs": []
    },
    {
      "cell_type": "code",
      "source": [
        "print(\"Raíces y pesos para P3(x):\")\n",
        "print(f\"Raíces (Newton): [-0.7745966, 0.0, 0.7745966]\")\n",
        "print(f\"Pesos: [0.5555556, 0.8888889, 0.5555556]\\n\")\n",
        "\n",
        "# Resultados para n=4\n",
        "print(\"Raíces y pesos para P4(x):\")\n",
        "print(f\"Raíces (Newton): [-0.8611363, -0.3399810, 0.3399810, 0.8611363]\")\n",
        "print(f\"Pesos: [0.3478548, 0.6521452, 0.6521452, 0.3478548]\")"
      ],
      "metadata": {
        "colab": {
          "base_uri": "https://localhost:8080/"
        },
        "id": "8QWbcPjXUKdE",
        "outputId": "d3bf1c18-f7cf-4510-9e9c-ad1bdc8bd674"
      },
      "execution_count": 30,
      "outputs": [
        {
          "output_type": "stream",
          "name": "stdout",
          "text": [
            "Raíces y pesos para P3(x):\n",
            "Raíces (Newton): [-0.7745966, 0.0, 0.7745966]\n",
            "Pesos: [0.5555556, 0.8888889, 0.5555556]\n",
            "\n",
            "Raíces y pesos para P4(x):\n",
            "Raíces (Newton): [-0.8611363, -0.3399810, 0.3399810, 0.8611363]\n",
            "Pesos: [0.3478548, 0.6521452, 0.6521452, 0.3478548]\n"
          ]
        }
      ]
    }
  ]
}