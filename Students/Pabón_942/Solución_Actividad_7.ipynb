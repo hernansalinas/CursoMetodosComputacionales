{
  "nbformat": 4,
  "nbformat_minor": 0,
  "metadata": {
    "colab": {
      "provenance": []
    },
    "kernelspec": {
      "name": "python3",
      "display_name": "Python 3"
    },
    "language_info": {
      "name": "python"
    }
  },
  "cells": [
    {
      "cell_type": "code",
      "execution_count": null,
      "metadata": {
        "id": "rZuc8vXcWuxy"
      },
      "outputs": [],
      "source": [
        "#@title Librerias\n",
        "import numpy as np\n",
        "import matplotlib.pyplot as plt\n",
        "import pandas as pd\n",
        "import sympy as sp\n",
        "from scipy.integrate import simpson, romberg, trapezoid"
      ]
    },
    {
      "cell_type": "markdown",
      "source": [
        "# Actividad 07: Integración\n",
        "\n",
        "---\n",
        "### Profesor: Juan Marcos Marín\n",
        "### Nombre: Carolina Pabón Rúa\n",
        "*Métodos computacionales 2024-II*\n",
        "\n",
        "---"
      ],
      "metadata": {
        "id": "MGwGfceuWxy3"
      }
    },
    {
      "cell_type": "markdown",
      "source": [
        "#1\n",
        "* Implemente una función para el **método de integración de Romberg** definiendo un límite de tolerancia de 1e-8 y/o un máximo de iteraciones de 10.\n",
        "\n",
        "* Encuentre la integral para\n",
        "\n",
        "$$\\int_0^{\\pi/4} dx\\, e^{3x}\\cdot \\sin(x)$$\n",
        "\n",
        "* Imprima su resultado y compare los valores dados por `scipy.integrate.romberg`\n",
        "\n",
        "* Finalmente, encuentre el valor del error, hallando el valor exacto usando `sympy`\n",
        "\n"
      ],
      "metadata": {
        "id": "_qpgPAtHNgPB"
      }
    },
    {
      "cell_type": "code",
      "source": [
        "import scipy.integrate as spi\n",
        "def romberg_integracion(f, a, b, tol=1e-8, max_iter=10):\n",
        "    R = np.zeros((max_iter, max_iter))\n",
        "    h = b - a\n",
        "    R[0, 0] = (h / 2) * (f(a) + f(b))\n",
        "\n",
        "    for i in range(1, max_iter):\n",
        "        h /= 2\n",
        "        sumatoria = sum(f(a + (2 * k - 1) * h) for k in range(1, 2**(i-1) + 1))\n",
        "        R[i, 0] = 0.5 * R[i-1, 0] + h * sumatoria\n",
        "\n",
        "        for j in range(1, i + 1):\n",
        "            R[i, j] = (4**j * R[i, j-1] - R[i-1, j-1]) / (4**j - 1)\n",
        "\n",
        "\n",
        "        if abs(R[i, i] - R[i-1, i-1]) < tol:\n",
        "            return R[i, i]\n",
        "\n",
        "    return R[max_iter-1, max_iter-1]\n",
        "\n",
        "f = lambda x: np.exp(3*x) * np.sin(x)\n",
        "a, b = 0, np.pi/4\n",
        "\n",
        "resultado_romberg_manual = romberg_integracion(f, a, b)\n",
        "print(\"Resultado con Romberg manual:\", resultado_romberg_manual)\n",
        "\n",
        "\n",
        "resultado_romberg_scipy = spi.romberg(f, a, b, tol=1e-8)\n",
        "print(\"Resultado con scipy.integrate.romberg:\", resultado_romberg_scipy)\n",
        "\n",
        "\n",
        "x = sp.Symbol('x')\n",
        "f_sympy = sp.exp(3*x) * sp.sin(x)\n",
        "valor_exacto = sp.integrate(f_sympy, (x, a, b)).evalf()\n",
        "print(\"Valor exacto con SymPy:\", valor_exacto)\n",
        "\n",
        "\n",
        "error_manual = abs(valor_exacto - resultado_romberg_manual)\n",
        "error_scipy = abs(valor_exacto - resultado_romberg_scipy)\n",
        "print(\"Error del método manual:\", error_manual)\n",
        "print(\"Error del método de SciPy:\", error_scipy)\n"
      ],
      "metadata": {
        "id": "Y0nXXFcnNe2R",
        "colab": {
          "base_uri": "https://localhost:8080/"
        },
        "outputId": "fc661c7d-192e-40d1-b259-329fe3e2d301"
      },
      "execution_count": null,
      "outputs": [
        {
          "output_type": "stream",
          "name": "stdout",
          "text": [
            "Resultado con Romberg manual: 1.5920977078586134\n",
            "Resultado con scipy.integrate.romberg: 1.592097707858613\n",
            "Valor exacto con SymPy: 1.59209770785868\n",
            "Error del método manual: 6.57252030578093e-14\n",
            "Error del método de SciPy: 6.61692922676593e-14\n"
          ]
        },
        {
          "output_type": "stream",
          "name": "stderr",
          "text": [
            "<ipython-input-5-b76d9950aa9a>:28: DeprecationWarning: `scipy.integrate.romberg` is deprecated as of SciPy 1.12.0and will be removed in SciPy 1.15.0. Please use`scipy.integrate.quad` instead.\n",
            "  resultado_romberg_scipy = spi.romberg(f, a, b, tol=1e-8)\n"
          ]
        }
      ]
    },
    {
      "cell_type": "markdown",
      "source": [
        "#2\n",
        "\n",
        "* Usando los *métodos trapezoidal compuesto*, *simpson 1/3* y de *medio punto* encuentre la siguiente integral,\n",
        "\n",
        "$$\\int_e^{1+e} dx\\, \\frac{1}{x\\ln x}$$\n",
        "\n",
        "* Luego, haga un estudio de la convergencia en términos del valor de $h$ o de los sub-intervalos de la función. ¿Cuál es mejor?\n"
      ],
      "metadata": {
        "id": "Db9dUFTSQcLY"
      }
    },
    {
      "cell_type": "code",
      "source": [
        "import numpy as np\n",
        "import matplotlib.pyplot as plt\n",
        "\n",
        "def f(x):\n",
        "    return 1 / (x * np.log(x))\n",
        "\n",
        "def trapezoidal_compuesto(f, a, b, n):\n",
        "    h = (b - a) / n\n",
        "    x = np.linspace(a, b, n + 1)\n",
        "    y = f(x)\n",
        "    return (h / 2) * (y[0] + 2 * np.sum(y[1:-1]) + y[-1])\n",
        "\n",
        "def simpson_tercio(f, a, b, n):\n",
        "    if n % 2 == 1:\n",
        "        n += 1\n",
        "    h = (b - a) / n\n",
        "    x = np.linspace(a, b, n + 1)\n",
        "    y = f(x)\n",
        "    return (h / 3) * (y[0] + 4 * np.sum(y[1:-1:2]) + 2 * np.sum(y[2:-2:2]) + y[-1])\n",
        "\n",
        "def medio_punto(f, a, b, n):\n",
        "    h = (b - a) / n\n",
        "    x_m = np.linspace(a + h / 2, b - h / 2, n)\n",
        "    return h * np.sum(f(x_m))\n",
        "\n",
        "\n",
        "a, b = np.e, 1 + np.e\n",
        "n_values = np.array([4, 8, 16, 32, 64, 128])\n",
        "\n",
        "\n",
        "I_trap = [trapezoidal_compuesto(f, a, b, n) for n in n_values]\n",
        "I_simp = [simpson_tercio(f, a, b, n) for n in n_values]\n",
        "I_medi = [medio_punto(f, a, b, n) for n in n_values]\n",
        "\n",
        "I_ref = I_simp[-1]\n",
        "\n",
        "\n",
        "error_trap = np.abs(I_trap - I_ref)\n",
        "error_simp = np.abs(I_simp - I_ref)\n",
        "error_medi = np.abs(I_medi - I_ref)\n",
        "\n",
        "\n",
        "print(\"Resultados de la integración numérica:\")\n",
        "print(f\"Método Trapezoidal: {I_trap[-1]:.8f}\")\n",
        "print(f\"Método Simpson 1/3: {I_simp[-1]:.8f}\")\n",
        "print(f\"Método del Medio Punto: {I_medi[-1]:.8f}\\n\")\n",
        "\n",
        "\n",
        "eh = (b - a) / n_values\n",
        "plt.figure(figsize=(8, 5))\n",
        "plt.plot(eh, np.abs(error_trap), 'o-', label='Trapezoidal')\n",
        "plt.plot(eh, np.abs(error_simp), 's-', label='Simpson 1/3')\n",
        "plt.plot(eh, np.abs(error_medi), 'd-', label='Medio Punto')\n",
        "plt.xscale('log')\n",
        "plt.yscale('log')\n",
        "plt.xlabel('h (tamaño de paso)')\n",
        "plt.ylabel('Error absoluto')\n",
        "plt.legend()\n",
        "plt.grid(True)\n",
        "plt.title('Estudio de convergencia de la integral')\n",
        "plt.show()\n",
        "\n",
        "\n",
        "\n",
        "# Análisis de convergencia\n",
        "print(\"Análisis de convergencia:\")\n",
        "print(\"El método de Simpson 1/3 es el mejor porque presenta el menor error absoluto y converge más rápido.\")\n",
        "print(\"El método trapezoidal es intermedio, con errores mayores que Simpson pero menores que el del medio punto.\")\n",
        "print(\"El método del medio punto es el menos preciso, con los errores más grandes en cada iteración.\")\n"
      ],
      "metadata": {
        "colab": {
          "base_uri": "https://localhost:8080/",
          "height": 648
        },
        "id": "kX4sv5abRBko",
        "outputId": "4bd114dd-fa9a-4080-c923-2d9b1dcc1bb5"
      },
      "execution_count": null,
      "outputs": [
        {
          "output_type": "stream",
          "name": "stdout",
          "text": [
            "Resultados de la integración numérica:\n",
            "Método Trapezoidal: 0.27251476\n",
            "Método Simpson 1/3: 0.27251388\n",
            "Método del Medio Punto: 0.27251344\n",
            "\n"
          ]
        },
        {
          "output_type": "display_data",
          "data": {
            "text/plain": [
              "<Figure size 800x500 with 1 Axes>"
            ],
            "image/png": "[encoded data removed]"
          },
          "metadata": {}
        },
        {
          "output_type": "stream",
          "name": "stdout",
          "text": [
            "Análisis de convergencia:\n",
            "El método de Simpson 1/3 es el mejor porque presenta el menor error absoluto y converge más rápido.\n",
            "El método trapezoidal es intermedio, con errores mayores que Simpson pero menores que el del medio punto.\n",
            "El método del medio punto es el menos preciso, con los errores más grandes en cada iteración.\n"
          ]
        }
      ]
    },
    {
      "cell_type": "markdown",
      "source": [
        "#3\n",
        "Usando la siguiente función:\n",
        "\n",
        "\n",
        "\n",
        "```python\n",
        "def gauss_quad_standard(func, n):\n",
        "    \"\"\"\n",
        "    Calcula la integral de una función en el intervalo [-1, 1]\n",
        "    utilizando cuadratura gaussiana.\n",
        "\n",
        "    Parameters:\n",
        "    - func: La función a integrar.\n",
        "    - n: Número de puntos para la cuadratura (grado del polinomio de Legendre).\n",
        "\n",
        "    Returns:\n",
        "    - Aproximación de la integral.\n",
        "    \"\"\"\n",
        "    # Obtener raíces y pesos del polinomio de Legendre\n",
        "    x, w = roots_legendre(n)\n",
        "\n",
        "    # Evaluar la suma ponderada\n",
        "    integral = np.sum(w * func(x))\n",
        "    return integral\n",
        "```\n",
        "\n",
        "Modifique la función `gauss_quad_standard` de forma tal que no este restringida para $[-1,1]$ sino para cualquier intervalo $[a,b]$. Luego, encuentre la integral del *punto 2*.\n",
        "\n",
        "\n",
        "\n"
      ],
      "metadata": {
        "id": "3fLo8sm8RqA0"
      }
    },
    {
      "cell_type": "code",
      "source": [
        "\n",
        "from scipy.special import roots_legendre\n",
        "\n",
        "def gauss_quad(func, a, b, n):\n",
        "    \"\"\"\n",
        "    Calcula la integral de una función en el intervalo [a, b]\n",
        "    utilizando cuadratura gaussiana.\n",
        "\n",
        "    Parameters:\n",
        "    - func: La función a integrar.\n",
        "    - a, b: Límites de integración.\n",
        "    - n: Número de puntos para la cuadratura (grado del polinomio de Legendre).\n",
        "\n",
        "    Returns:\n",
        "    - Aproximación de la integral.\n",
        "    \"\"\"\n",
        "    x, w = roots_legendre(n)\n",
        "\n",
        "    x_mapped = 0.5 * (b - a) * x + 0.5 * (b + a)\n",
        "\n",
        "    integral = 0.5 * (b - a) * np.sum(w * func(x_mapped))\n",
        "    return integral\n",
        "\n",
        "def f(x):\n",
        "    return 1 / (x * np.log(x))\n",
        "\n",
        "a = np.e\n",
        "b = 1 + np.e\n",
        "n_puntos = 10\n",
        "\n",
        "resultado = gauss_quad(f, a, b, n_puntos)\n",
        "print(\"Resultado de la integral:\", resultado)"
      ],
      "metadata": {
        "colab": {
          "base_uri": "https://localhost:8080/"
        },
        "id": "lActtD5xSXPb",
        "outputId": "f507c1f8-cd3c-4f81-8af0-8e3a0d8e59ad"
      },
      "execution_count": null,
      "outputs": [
        {
          "output_type": "stream",
          "name": "stdout",
          "text": [
            "Resultado de la integral: 0.27251388050258335\n"
          ]
        }
      ]
    },
    {
      "cell_type": "markdown",
      "source": [
        "#4\n",
        "\n",
        "Encuentra todas las raices para los polinomios de grado 3 y 4 de **Legendre** usando el Método de la Secante y Newton-Raphson.\n",
        "\n",
        "\n",
        "\n",
        "```python\n",
        "import sympy as sp\n",
        "x = sp.Symbol('x')\n",
        "\n",
        "# Polinomio de Legendre de grado n\n",
        "Pn = sp.legendre(n, x)\n",
        "\n",
        "```\n",
        "\n",
        "y calcule los pesos $w_i$ de la cuadratura mediante la fórmula:\n",
        "   $$\n",
        "   w_i = \\frac{2}{(1 - x_i^2) \\left[P_n'(x_i)\\right]^2},\n",
        "   $$\n",
        "   donde $P_n'(x)$ es la derivada del polinomio de Legendre $P_n(x)$.\n"
      ],
      "metadata": {
        "id": "hvSy6jouSLiJ"
      }
    },
    {
      "cell_type": "code",
      "source": [
        "\n",
        "\n",
        "x = sp.Symbol('x')\n",
        "\n",
        "def legendre_roots_and_weights(n, method='newton', tol=1e-10, max_iter=100):\n",
        "    \"\"\"Encuentra las raíces del polinomio de Legendre de grado n y los pesos de cuadratura.\"\"\"\n",
        "    Pn = sp.legendre(n, x)\n",
        "    dPn = sp.diff(Pn, x)\n",
        "\n",
        "    x0 = np.cos(np.pi * (np.arange(1, n + 1) - 0.25) / (n + 0.5))\n",
        "\n",
        "    roots = []\n",
        "    for x_i in x0:\n",
        "        root = newton_secant(Pn, x_i, method, tol, max_iter)\n",
        "        if not any(np.isclose(root, r, atol=tol) for r in roots):\n",
        "            roots.append(root)\n",
        "    roots.sort()\n",
        "\n",
        "    weights = [2 / ((1 - r**2) * (sp.N(dPn.subs(x, r)))**2) for r in roots]\n",
        "\n",
        "    return np.array(roots), np.array(weights)\n",
        "\n",
        "def newton_secant(Pn, x0, method, tol, max_iter):\n",
        "    \"\"\"Encuentra una raíz usando el método de Newton-Raphson o la Secante.\"\"\"\n",
        "    Pn_lambda = sp.lambdify(x, Pn, 'numpy')\n",
        "    dPn_lambda = sp.lambdify(x, sp.diff(Pn, x), 'numpy')\n",
        "\n",
        "    if method == 'newton':\n",
        "        x_i = x0\n",
        "        for _ in range(max_iter):\n",
        "            fx = Pn_lambda(x_i)\n",
        "            dfx = dPn_lambda(x_i)\n",
        "            if abs(fx) < tol:\n",
        "                return x_i\n",
        "            x_i -= fx / dfx\n",
        "\n",
        "    elif method == 'secant':\n",
        "        x_i, x_prev = x0, x0 + 0.1\n",
        "        for _ in range(max_iter):\n",
        "            fx_i = Pn_lambda(x_i)\n",
        "            fx_prev = Pn_lambda(x_prev)\n",
        "            if abs(fx_i) < tol:\n",
        "                return x_i\n",
        "            x_new = x_i - fx_i * (x_i - x_prev) / (fx_i - fx_prev)\n",
        "            x_prev, x_i = x_i, x_new\n",
        "\n",
        "    return x_i\n",
        "\n",
        "for n in [3, 4]:\n",
        "    print(f\"\\nRaíces y pesos para P_{n} usando Newton:\")\n",
        "    roots, weights = legendre_roots_and_weights(n, method='newton')\n",
        "    print(\"Raíces:\", roots)\n",
        "    print(\"Pesos:\", weights)\n",
        "\n",
        "    print(f\"\\nRaíces y pesos para P_{n} usando la Secante:\")\n",
        "    roots, weights = legendre_roots_and_weights(n, method='secant')\n",
        "    print(\"Raíces:\", roots)\n",
        "    print(\"Pesos:\", weights)"
      ],
      "metadata": {
        "colab": {
          "base_uri": "https://localhost:8080/"
        },
        "id": "ehm1KIEsYlZV",
        "outputId": "007e6309-78ea-40ad-9f87-31f52d5e6749"
      },
      "execution_count": null,
      "outputs": [
        {
          "output_type": "stream",
          "name": "stdout",
          "text": [
            "\n",
            "Raíces y pesos para P_3 usando Newton:\n",
            "Raíces: [-7.74596669e-01  6.12323400e-17  7.74596669e-01]\n",
            "Pesos: [0.555555555555554 0.888888888888889 0.555555555555554]\n",
            "\n",
            "Raíces y pesos para P_3 usando la Secante:\n",
            "Raíces: [-7.74596669e-01  6.12323400e-17  7.74596669e-01]\n",
            "Pesos: [0.555555555560701 0.888888888888889 0.555555555552327]\n",
            "\n",
            "Raíces y pesos para P_4 usando Newton:\n",
            "Raíces: [-0.86113631 -0.33998104  0.33998104  0.86113631]\n",
            "Pesos: [0.347854845137451 0.652145154862088 0.652145154862088 0.347854845137451]\n",
            "\n",
            "Raíces y pesos para P_4 usando la Secante:\n",
            "Raíces: [-0.86113631 -0.33998104  0.33998104  0.86113631]\n",
            "Pesos: [0.347854845137454 0.652145154859510 0.652145154862542 0.347854845121218]\n"
          ]
        }
      ]
    },
    {
      "cell_type": "code",
      "source": [],
      "metadata": {
        "id": "OUX41M77Y1So"
      },
      "execution_count": null,
      "outputs": []
    }
  ]
}