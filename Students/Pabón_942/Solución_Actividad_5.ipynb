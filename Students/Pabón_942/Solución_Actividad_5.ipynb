{
  "nbformat": 4,
  "nbformat_minor": 0,
  "metadata": {
    "colab": {
      "provenance": []
    },
    "kernelspec": {
      "name": "python3",
      "display_name": "Python 3"
    },
    "language_info": {
      "name": "python"
    }
  },
  "cells": [
    {
      "cell_type": "markdown",
      "source": [
        "## Actividad\n",
        "Calcular el spline cúbico que interpola los puntos $(-1,5)$, $(0,3)$, $(1,3)$, $(2,4)$, encontrando los polinomios $S_0(x)$, $S_1(x)$ y $S_2(x)$. Evalue su respuesta para $x= 1.5$ usando `CubicSpline` de `scipy`."
      ],
      "metadata": {
        "id": "n0LNs_2Ax6Im"
      }
    },
    {
      "cell_type": "code",
      "source": [
        "import numpy as np\n",
        "import sympy as sp\n",
        "from scipy.interpolate import CubicSpline\n",
        "import matplotlib.pyplot as plt\n",
        "from numpy.linalg import solve"
      ],
      "metadata": {
        "id": "xaSfupN1yc5n"
      },
      "execution_count": null,
      "outputs": []
    },
    {
      "cell_type": "code",
      "execution_count": null,
      "metadata": {
        "id": "vca4NSLExsnP"
      },
      "outputs": [],
      "source": [
        "x_points = np.array([-1, 0, 1 , 2])\n",
        "y_points = np.array([5, 3, 3 , 4])"
      ]
    },
    {
      "cell_type": "code",
      "source": [
        "A = np.array([             # El orden de las columnas es b0 b1 b2 c1 d0 d1 d2\n",
        "\t[1, 0, 0, 0 , 1, 0, 0],\n",
        "\t[0, 1, 0 , 1 , 0, 1 , 0],\n",
        "  [0 ,0, 1 , 0, 0, 0,-9],\n",
        "\t[1, -1, 0, 0 , 3 , 0 , 0],\n",
        "  [0, 1, -1, 2, 0, 3, 0],\n",
        "\t[0, 0 ,0 , -2 , 6, 0, 0],\n",
        "  [0 ,0 ,0 ,2 ,0 ,6 ,6 ]])\n",
        "b = np.array([-2, 0,0.333,0,0,0,0])"
      ],
      "metadata": {
        "id": "ck0HpsP6ynni"
      },
      "execution_count": null,
      "outputs": []
    },
    {
      "cell_type": "code",
      "source": [
        "solucion = solve(A, b)\n",
        "b0,b1,b2,c1,d0,d1,d2 = solucion\n",
        "solucion"
      ],
      "metadata": {
        "colab": {
          "base_uri": "https://localhost:8080/"
        },
        "id": "s-xFEPz10-CV",
        "outputId": "d1642e93-b6bc-40c8-f61e-f0a20cde0381"
      },
      "execution_count": null,
      "outputs": [
        {
          "output_type": "execute_result",
          "data": {
            "text/plain": [
              "array([-2.50387597, -0.99224806,  0.47286822,  1.51162791,  0.50387597,\n",
              "       -0.51937984,  0.01550388])"
            ]
          },
          "metadata": {},
          "execution_count": 7
        }
      ]
    },
    {
      "cell_type": "code",
      "source": [
        "#Constantes\n",
        "a0= 5\n",
        "a1 = 3\n",
        "a2 = 3\n",
        "c0 = 0\n",
        "c2= -3*d2"
      ],
      "metadata": {
        "id": "B7K4Vmhk1YxC"
      },
      "execution_count": null,
      "outputs": []
    },
    {
      "cell_type": "code",
      "source": [
        "'''S0'''\n",
        "x = sp.symbols('x')\n",
        "x0, x1 ,x2 = -1, 0 , 1\n",
        "S0 = a0 + b0*(x-x0) + c0*(x-x0)**2 + d0*(x-x0)**3\n",
        "sp.expand(S0)"
      ],
      "metadata": {
        "colab": {
          "base_uri": "https://localhost:8080/",
          "height": 38
        },
        "id": "PAcNDuIi2Qt9",
        "outputId": "247e0a09-2bdf-4727-bf6e-12bd281773d9"
      },
      "execution_count": null,
      "outputs": [
        {
          "output_type": "execute_result",
          "data": {
            "text/plain": [
              "0.503875968992248*x**3 + 1.51162790697674*x**2 - 0.992248062015504*x + 3.0"
            ],
            "text/latex": "$\\displaystyle 0.503875968992248 x^{3} + 1.51162790697674 x^{2} - 0.992248062015504 x + 3.0$"
          },
          "metadata": {},
          "execution_count": 12
        }
      ]
    },
    {
      "cell_type": "code",
      "source": [
        "'''S1'''\n",
        "S1 = a1 + b1*(x-x1) + c1*(x-x1)**2 + d1*(x-x1)**3\n",
        "sp.expand(S1)"
      ],
      "metadata": {
        "colab": {
          "base_uri": "https://localhost:8080/",
          "height": 38
        },
        "id": "EJlER-zV2dPT",
        "outputId": "f9e0e8a4-40a2-409b-d589-79d8ad78bd2a"
      },
      "execution_count": null,
      "outputs": [
        {
          "output_type": "execute_result",
          "data": {
            "text/plain": [
              "-0.51937984496124*x**3 + 1.51162790697674*x**2 - 0.992248062015504*x + 3"
            ],
            "text/latex": "$\\displaystyle - 0.51937984496124 x^{3} + 1.51162790697674 x^{2} - 0.992248062015504 x + 3$"
          },
          "metadata": {},
          "execution_count": 10
        }
      ]
    },
    {
      "cell_type": "code",
      "source": [
        "'''S2'''\n",
        "S2 = a2 + b2*(x-x2) + c2*(x-x1)**2 + d2*(x-x1)**3\n",
        "sp.expand(S2)\n"
      ],
      "metadata": {
        "colab": {
          "base_uri": "https://localhost:8080/",
          "height": 38
        },
        "id": "xPNCfIdv2weC",
        "outputId": "8933055c-a56b-4543-a896-d4d5a19d547f"
      },
      "execution_count": null,
      "outputs": [
        {
          "output_type": "execute_result",
          "data": {
            "text/plain": [
              "0.0155038759689922*x**3 - 0.0465116279069768*x**2 + 0.472868217054264*x + 2.52713178294574"
            ],
            "text/latex": "$\\displaystyle 0.0155038759689922 x^{3} - 0.0465116279069768 x^{2} + 0.472868217054264 x + 2.52713178294574$"
          },
          "metadata": {},
          "execution_count": 13
        }
      ]
    },
    {
      "cell_type": "code",
      "source": [
        "# Se evalúa en S2 ya que 1.5 está en el intervalo de este.\n",
        "s2 = sp.lambdify(x, S2)\n",
        "s2(1.5)"
      ],
      "metadata": {
        "colab": {
          "base_uri": "https://localhost:8080/"
        },
        "id": "dzM3ypF33BIT",
        "outputId": "4610e33b-8f88-453c-ff0e-efa2698d1720"
      },
      "execution_count": null,
      "outputs": [
        {
          "output_type": "execute_result",
          "data": {
            "text/plain": [
              "3.184108527131787"
            ]
          },
          "metadata": {},
          "execution_count": 21
        }
      ]
    },
    {
      "cell_type": "code",
      "source": [
        "Polinomio_spline = CubicSpline(x_points, y_points)\n",
        "Polinomio_spline(1.5)"
      ],
      "metadata": {
        "colab": {
          "base_uri": "https://localhost:8080/"
        },
        "id": "dnwJpIu93Kii",
        "outputId": "736d0bd0-afe6-4df8-d56c-6c90bcb396ad"
      },
      "execution_count": null,
      "outputs": [
        {
          "output_type": "execute_result",
          "data": {
            "text/plain": [
              "array(3.4375)"
            ]
          },
          "metadata": {},
          "execution_count": 19
        }
      ]
    },
    {
      "cell_type": "code",
      "source": [],
      "metadata": {
        "id": "NTGw4Ftt4Z4I"
      },
      "execution_count": null,
      "outputs": []
    }
  ]
}