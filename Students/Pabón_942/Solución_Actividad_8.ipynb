{
  "nbformat": 4,
  "nbformat_minor": 0,
  "metadata": {
    "colab": {
      "provenance": []
    },
    "kernelspec": {
      "name": "python3",
      "display_name": "Python 3"
    },
    "language_info": {
      "name": "python"
    }
  },
  "cells": [
    {
      "cell_type": "code",
      "execution_count": null,
      "metadata": {
        "id": "z7RCty67y3ME"
      },
      "outputs": [],
      "source": [
        "import numpy as np\n",
        "import matplotlib.pyplot as plt\n",
        "import scipy.linalg as la"
      ]
    },
    {
      "cell_type": "markdown",
      "source": [
        "# Actividad 08: Algebra Lineal y Matrices\n",
        "\n",
        "---\n",
        "### Profesor: Juan Marcos Marín\n",
        "### Nombre: Carolina Pabón Rúa\n",
        "*Métodos computacionales 2024-II*\n",
        "\n",
        "---"
      ],
      "metadata": {
        "id": "GGQpGoujzAnQ"
      }
    },
    {
      "cell_type": "markdown",
      "source": [
        "#1\n",
        "\n",
        "Escriba una función que calcule el producto escalar y vectorial para dos vectores, compare sus resultados con `np.dot` y `np.cross`."
      ],
      "metadata": {
        "id": "szDD-eJhzKbw"
      }
    },
    {
      "cell_type": "code",
      "source": [
        "import numpy as np\n",
        "\n",
        "def producto_escalar_vectorial(v1, v2):\n",
        "    \"\"\"\n",
        "    Calcula el producto escalar y el producto vectorial de dos vectores.\n",
        "    Compara los resultados con np.dot y np.cross.\n",
        "\n",
        "    Parámetros:\n",
        "    v1, v2: listas o arrays de longitud 3\n",
        "\n",
        "    Retorna:\n",
        "    Un diccionario con los resultados.\n",
        "    \"\"\"\n",
        "    # Producto escalar manual\n",
        "    prod_escalar_manual = sum(a * b for a, b in zip(v1, v2))\n",
        "    prod_escalar_numpy = np.dot(v1, v2)\n",
        "\n",
        "    # Producto vectorial manual\n",
        "    prod_vectorial_manual = [\n",
        "        v1[1] * v2[2] - v1[2] * v2[1],\n",
        "        v1[2] * v2[0] - v1[0] * v2[2],\n",
        "        v1[0] * v2[1] - v1[1] * v2[0]\n",
        "    ]\n",
        "    prod_vectorial_numpy = np.cross(v1, v2)\n",
        "\n",
        "    return {\n",
        "        \"Producto escalar manual\": prod_escalar_manual,\n",
        "        \"Producto escalar numpy\": prod_escalar_numpy,\n",
        "        \"Producto vectorial manual\": prod_vectorial_manual,\n",
        "        \"Producto vectorial numpy\": prod_vectorial_numpy.tolist()\n",
        "    }\n",
        "\n",
        "# Ejemplo de uso\n",
        "v1 = [1, 2, 3]\n",
        "v2 = [4, 5, 6]\n",
        "resultado = producto_escalar_vectorial(v1, v2)\n",
        "\n",
        "print(\"Ejemplo de producto escalar:\")\n",
        "print(f\"Manual: {resultado['Producto escalar manual']}, Numpy: {resultado['Producto escalar numpy']}\")\n",
        "\n",
        "print(\"\\nEjemplo de producto vectorial:\")\n",
        "print(f\"Manual: {resultado['Producto vectorial manual']}, Numpy: {resultado['Producto vectorial numpy']}\")"
      ],
      "metadata": {
        "colab": {
          "base_uri": "https://localhost:8080/"
        },
        "id": "4s5Q1W8NbHm_",
        "outputId": "b115c7a7-7bac-462b-f838-8bd69539f4c7"
      },
      "execution_count": null,
      "outputs": [
        {
          "output_type": "stream",
          "name": "stdout",
          "text": [
            "Ejemplo de producto escalar:\n",
            "Manual: 32, Numpy: 32\n",
            "\n",
            "Ejemplo de producto vectorial:\n",
            "Manual: [-3, 6, -3], Numpy: [-3, 6, -3]\n"
          ]
        }
      ]
    },
    {
      "cell_type": "markdown",
      "source": [
        "#2\n",
        "\n",
        "Crear una función llamada `mulmat()` donde a partir de dos matrices $A$ y $B$ encuentre su multplicación. También realiza una función que calcule la transpuesta y otra el determinante de una matriz $3\\times 3$. Compare sus resultado con `@`, `np.dot`, `transpose` y `la.det`."
      ],
      "metadata": {
        "id": "Qch9PhTQ0Klk"
      }
    },
    {
      "cell_type": "code",
      "source": [
        "import numpy as np\n",
        "\n",
        "def mulmat(A, B):\n",
        "    \"\"\"Multiplica dos matrices A y B.\"\"\"\n",
        "    if len(A[0]) != len(B):\n",
        "        raise ValueError(\"El número de columnas de A debe ser igual al número de filas de B\")\n",
        "\n",
        "    filas_A, cols_B = len(A), len(B[0])\n",
        "    resultado = [[sum(A[i][k] * B[k][j] for k in range(len(B))) for j in range(cols_B)] for i in range(filas_A)]\n",
        "    return resultado\n",
        "\n",
        "def transpuesta(A):\n",
        "    \"\"\"Calcula la transpuesta de una matriz A.\"\"\"\n",
        "    return [[A[j][i] for j in range(len(A))] for i in range(len(A[0]))]\n",
        "\n",
        "def determinante_3x3(A):\n",
        "    \"\"\"Calcula el determinante de una matriz 3x3.\"\"\"\n",
        "    if len(A) != 3 or len(A[0]) != 3:\n",
        "        raise ValueError(\"La matriz debe ser de 3x3\")\n",
        "\n",
        "    return (A[0][0] * (A[1][1] * A[2][2] - A[1][2] * A[2][1]) -\n",
        "            A[0][1] * (A[1][0] * A[2][2] - A[1][2] * A[2][0]) +\n",
        "            A[0][2] * (A[1][0] * A[2][1] - A[1][1] * A[2][0]))\n",
        "\n",
        "# Pruebas con NumPy\n",
        "A = [[1, 2, 3], [4, 5, 6], [7, 8, 9]]\n",
        "B = [[9, 8, 7], [6, 5, 4], [3, 2, 1]]\n",
        "\n",
        "# Multiplicación de matrices\n",
        "print(\"Multiplicación propia:\", mulmat(A, B))\n",
        "print(\"Multiplicación con @:\", np.array(A) @ np.array(B))\n",
        "print(\"Multiplicación con np.dot:\", np.dot(A, B))\n",
        "\n",
        "# Transpuesta\n",
        "print(\"Transpuesta propia:\", transpuesta(A))\n",
        "print(\"Transpuesta con np.transpose:\", np.transpose(A))\n",
        "\n",
        "# Determinante\n",
        "print(\"Determinante propio:\", determinante_3x3(A))\n",
        "print(\"Determinante con np.linalg.det:\", np.linalg.det(A))\n"
      ],
      "metadata": {
        "id": "0xjXQbwn0VL5",
        "colab": {
          "base_uri": "https://localhost:8080/"
        },
        "outputId": "a5680a31-9155-436f-e68e-6f76fb489149"
      },
      "execution_count": null,
      "outputs": [
        {
          "output_type": "stream",
          "name": "stdout",
          "text": [
            "Multiplicación propia: [[30, 24, 18], [84, 69, 54], [138, 114, 90]]\n",
            "Multiplicación con @: [[ 30  24  18]\n",
            " [ 84  69  54]\n",
            " [138 114  90]]\n",
            "Multiplicación con np.dot: [[ 30  24  18]\n",
            " [ 84  69  54]\n",
            " [138 114  90]]\n",
            "Transpuesta propia: [[1, 4, 7], [2, 5, 8], [3, 6, 9]]\n",
            "Transpuesta con np.transpose: [[1 4 7]\n",
            " [2 5 8]\n",
            " [3 6 9]]\n",
            "Determinante propio: 0\n",
            "Determinante con np.linalg.det: 0.0\n"
          ]
        }
      ]
    },
    {
      "cell_type": "markdown",
      "source": [
        "#3\n",
        "Escriba tres matrices aleatorias $A$, $B$ y $C$ de $3\\times 3$, y demuestre las siguientes relaciones\n",
        "\n",
        "- $ \\mathbf{A}\\mathbf{B} \\neq \\mathbf{B}\\mathbf{A} $, en general.\n",
        "- $ (\\mathbf{A}\\mathbf{B})\\mathbf{C} = \\mathbf{A}(\\mathbf{B}\\mathbf{C}) $.\n",
        "- $ \\mathbf{A}(\\mathbf{B} + \\mathbf{C}) = \\mathbf{A}\\mathbf{B} + \\mathbf{A}\\mathbf{C} $.\n",
        "- $ (\\mathbf{A} + \\mathbf{B})\\mathbf{C} = \\mathbf{A}\\mathbf{C} + \\mathbf{B}\\mathbf{C} $.\n",
        "- $ (\\mathbf{A}\\mathbf{B})^\\top = \\mathbf{B}^\\top \\mathbf{A}^\\top $.\n",
        "- $ \\det(\\mathbf{A}\\mathbf{B}) = \\det(\\mathbf{A}) \\det(\\mathbf{B}) $.\n",
        "- $ (\\mathbf{A}^\\top)^\\top = \\mathbf{A} $.\n",
        "- $ (c\\mathbf{A})^\\top = c\\mathbf{A}^\\top $.\n",
        "- $ (\\mathbf{A} + \\mathbf{B})^\\top = \\mathbf{A}^\\top + \\mathbf{B}^\\top $.\n",
        "\n"
      ],
      "metadata": {
        "id": "U9hC1R-F0-iH"
      }
    },
    {
      "cell_type": "code",
      "source": [
        "\n",
        "np.random.seed(42)\n",
        "\n",
        "A_ = np.random.randint(1, 10, (3, 3))\n",
        "B_ = np.random.randint(1, 10, (3, 3))\n",
        "C_ = np.random.randint(1, 10, (3, 3))\n",
        "\n",
        "print(\"Matriz A:\\n\", A)\n",
        "print(\"Matriz B:\\n\", B)\n",
        "print(\"Matriz C:\\n\", C)\n"
      ],
      "metadata": {
        "colab": {
          "base_uri": "https://localhost:8080/"
        },
        "id": "JkT9ZETUi6uK",
        "outputId": "549535e4-f136-4af4-d8d8-b8b689c9ae04"
      },
      "execution_count": null,
      "outputs": [
        {
          "output_type": "stream",
          "name": "stdout",
          "text": [
            "Matriz A:\n",
            " [[7 4 8]\n",
            " [5 7 3]\n",
            " [7 8 5]]\n",
            "Matriz B:\n",
            " [[4 8 8]\n",
            " [3 6 5]\n",
            " [2 8 6]]\n",
            "Matriz C:\n",
            " [[2 5 1]\n",
            " [6 9 1]\n",
            " [3 7 4]]\n"
          ]
        }
      ]
    },
    {
      "cell_type": "code",
      "source": [
        "# AB Distinto BA\n",
        "x0 = np.dot(A_,B_)\n",
        "y0 = np.dot(B_,A_)\n",
        "print(np.array_equal(x0,y0))"
      ],
      "metadata": {
        "colab": {
          "base_uri": "https://localhost:8080/"
        },
        "id": "6KfujGIN65n6",
        "outputId": "6f845026-8cc2-4f8d-877c-1ce117c81a02"
      },
      "execution_count": null,
      "outputs": [
        {
          "output_type": "stream",
          "name": "stdout",
          "text": [
            "False\n"
          ]
        }
      ]
    },
    {
      "cell_type": "code",
      "source": [],
      "metadata": {
        "id": "zc-tKpwKjKNm"
      },
      "execution_count": null,
      "outputs": []
    },
    {
      "cell_type": "code",
      "source": [
        "#(AB)C = A(BC)\n",
        "x = np.dot(A_,B_)\n",
        "y = np.dot(B_,C_)\n",
        "\n",
        "x1 = np.dot(x,C_)\n",
        "x2 = np.dot(A_,y)\n",
        "print(np.array_equal(x1,x2))"
      ],
      "metadata": {
        "colab": {
          "base_uri": "https://localhost:8080/"
        },
        "id": "Oot0hC477Z6S",
        "outputId": "2d1dd9dd-455a-42ee-d3cc-b4673eb1d28f"
      },
      "execution_count": null,
      "outputs": [
        {
          "output_type": "stream",
          "name": "stdout",
          "text": [
            "True\n"
          ]
        }
      ]
    },
    {
      "cell_type": "code",
      "source": [
        "# A (B+C)= AB + AC\n",
        "sum1 = np.add(B_,C_)\n",
        "x1 = np.dot(A_,sum1)\n",
        "y1= np.dot(A_,B_)\n",
        "y2 = np.dot(A_,C_)\n",
        "y3 = y1 + y2\n",
        "print(np.array_equal(x1,y3))"
      ],
      "metadata": {
        "id": "0yEZJwV_8RrS",
        "colab": {
          "base_uri": "https://localhost:8080/"
        },
        "outputId": "5ff2d989-082f-4b22-8c14-b694cb62375e"
      },
      "execution_count": null,
      "outputs": [
        {
          "output_type": "stream",
          "name": "stdout",
          "text": [
            "True\n"
          ]
        }
      ]
    },
    {
      "cell_type": "code",
      "source": [
        "# (A+B)C= AC + BC\n",
        "sum = np.add(A_,B_)\n",
        "x3 = np.dot(sum,C_)\n",
        "y4= np.dot(A_,C_)\n",
        "y0 = np.dot(B_,C_)\n",
        "y3 = y0 + y4\n",
        "print(np.array_equal(x3,y3))"
      ],
      "metadata": {
        "colab": {
          "base_uri": "https://localhost:8080/"
        },
        "id": "lIxrWgNX-AYM",
        "outputId": "9d2c63ca-9f02-4b79-c9b6-c7dbeee979f2"
      },
      "execution_count": null,
      "outputs": [
        {
          "output_type": "stream",
          "name": "stdout",
          "text": [
            "True\n"
          ]
        }
      ]
    },
    {
      "cell_type": "code",
      "source": [
        "xt = np.transpose(np.dot(A_,B_))\n",
        "xta = np.transpose(A_)\n",
        "xtb = np.transpose(B_)\n",
        "z = np.dot(xtb,xta)\n",
        "print(np.array_equal(xt,z))"
      ],
      "metadata": {
        "colab": {
          "base_uri": "https://localhost:8080/"
        },
        "id": "Uv4gwg24_MGi",
        "outputId": "cd713a7a-535e-47f1-a7af-baba979ccd3c"
      },
      "execution_count": null,
      "outputs": [
        {
          "output_type": "stream",
          "name": "stdout",
          "text": [
            "True\n"
          ]
        }
      ]
    },
    {
      "cell_type": "code",
      "source": [
        "# Det(AB)= Det(A)*Det(B)\n",
        "det = np.linalg.det(np.dot(A_,B_))\n",
        "deta = np.linalg.det(A_)\n",
        "detb = np.linalg.det(B_)\n",
        "det1 = deta*detb\n",
        "print(det)\n",
        "print(det1)\n",
        "print(np.array_equal(det,det1))"
      ],
      "metadata": {
        "colab": {
          "base_uri": "https://localhost:8080/"
        },
        "id": "39EHxlwgABfK",
        "outputId": "bd77a646-2506-452e-dbff-4370116de46e"
      },
      "execution_count": null,
      "outputs": [
        {
          "output_type": "stream",
          "name": "stdout",
          "text": [
            "22735.999999999945\n",
            "22735.99999999999\n",
            "False\n"
          ]
        }
      ]
    },
    {
      "cell_type": "code",
      "source": [
        "T = np.transpose(np.transpose(A_))\n",
        "print(np.array_equal(T,A_))"
      ],
      "metadata": {
        "colab": {
          "base_uri": "https://localhost:8080/"
        },
        "id": "ZAT0Nj68Aqea",
        "outputId": "94427532-dac5-4453-9bcd-30d9e065e97d"
      },
      "execution_count": null,
      "outputs": [
        {
          "output_type": "stream",
          "name": "stdout",
          "text": [
            "True\n"
          ]
        }
      ]
    },
    {
      "cell_type": "code",
      "source": [
        "c = 3\n",
        "T1 = np.transpose(np.dot(c,A_))\n",
        "T2 = c * np.transpose(A_)\n",
        "print(np.array_equal(T1,T2))"
      ],
      "metadata": {
        "colab": {
          "base_uri": "https://localhost:8080/"
        },
        "id": "Z3KXbfNeBG_3",
        "outputId": "a3f67772-c103-4d11-cb51-25ad829d037d"
      },
      "execution_count": null,
      "outputs": [
        {
          "output_type": "stream",
          "name": "stdout",
          "text": [
            "True\n"
          ]
        }
      ]
    },
    {
      "cell_type": "code",
      "source": [
        "w = np.transpose(np.add(A_,B_))\n",
        "w1 = np.transpose(A_)\n",
        "w2 = np.transpose(B_)\n",
        "sum0 = np.add(w1,w2)\n",
        "print(np.array_equal(w,sum0))"
      ],
      "metadata": {
        "colab": {
          "base_uri": "https://localhost:8080/"
        },
        "id": "2TRDO96yCe0C",
        "outputId": "9958efe5-bacf-4d28-d030-191831c0685e"
      },
      "execution_count": null,
      "outputs": [
        {
          "output_type": "stream",
          "name": "stdout",
          "text": [
            "True\n"
          ]
        }
      ]
    },
    {
      "cell_type": "markdown",
      "source": [
        "#4\n",
        "\n",
        "El **Teorema de Laplace** es un método para calcular el determinante de una matriz cuadrada, particularmente útil para matrices de orden mayor a 2. Este teorema se basa en la expansión del determinante por los elementos de una fila o una columna cualquiera.\n",
        "\n",
        "\n",
        "\n",
        "$$\n",
        "\\det(A) = \\sum_{j=1}^n (-1)^{1+j} a_{1j} M_{1j}\n",
        "$$\n",
        "\n",
        "donde:\n",
        "- $a_{1j}$ es el elemento de la primera fila y columna $j$.\n",
        "- $M_{1j}$ es el menor asociado al elemento $a_{1j}$, es decir, el determinante de la submatriz de $3 \\times 3$ que se obtiene al eliminar la fila 1 y la columna $j$.\n",
        "- $(-1)^{1+j}$ es el signo correspondiente al cofactor del elemento $a_{1j}$.\n",
        "\n",
        "Podemos realizar una función recursiva para el cálculo del determinante, sabiendo que el valor del determinante de una matriz de orden uno es el único elemento de esa matriz, y el de una matriz de orden superior a uno es la suma de cada uno de los elementos de una fila o columna por los Adjuntos a ese elemento, como en la función recursiva se emplea la misma función definida el cálculo lo haremos por Menor complementario, un ejemplo desarrollado por la primera fila sería:\n",
        "\n",
        "$$\n",
        "   \\det (A_{j,j}) =\n",
        "   \\left \\{\n",
        "   \\begin{array}{llcl}\n",
        "      si & j = 1 & \\to & a_{1,1} \\\\\n",
        "                                 \\\\\n",
        "      si & j > 1 & \\to & \\displaystyle \\sum_{k=1}^j \\; (-1)^{(1+k)} \\cdot a_{1,k} \\cdot \\det( \\alpha_{1,k})\n",
        "   \\end{array}\n",
        "   \\right .\n",
        "$$\n",
        "\n",
        "Realice una función que encuentre el determinante de una matriz usando la recursividad aqui planteada, explique explicitamente su código"
      ],
      "metadata": {
        "id": "ibYf2I9T2pIw"
      }
    },
    {
      "cell_type": "code",
      "source": [
        "def laplace(A):\n",
        "    n = len(A)\n",
        "    if n == 1:\n",
        "        return A[0, 0]\n",
        "    if n == 2:\n",
        "        return np.linalg.det(A)\n",
        "    det = 0\n",
        "    for j in range(n):\n",
        "        M_1j = np.array([fila[:j].tolist() + fila[j+1:].tolist() for fila in A[1:]])\n",
        "        det += (-1) ** j * A[0, j] * laplace(M_1j)\n",
        "\n",
        "    return det\n",
        "\n",
        "\n",
        "resultado = laplace(A_)\n",
        "print(\"El determinante es:\", resultado)\n"
      ],
      "metadata": {
        "id": "aWWpHKQhLBE_",
        "colab": {
          "base_uri": "https://localhost:8080/"
        },
        "outputId": "f3795de8-268f-4e89-8d13-a55af6ca3214"
      },
      "execution_count": null,
      "outputs": [
        {
          "output_type": "stream",
          "name": "stdout",
          "text": [
            "El determinante es: -11.000000000000064\n"
          ]
        }
      ]
    },
    {
      "cell_type": "markdown",
      "source": [
        "#5\n",
        "\n",
        "El método de Jacobi reescribe el sistema $ Ax = b $ descomponiendo la matriz $ A $ como:\n",
        "\n",
        "$$\n",
        "A = D + L + U,\n",
        "$$\n",
        "\n",
        "donde:\n",
        "- $ D $: Matriz diagonal de $ A $,\n",
        "- $ L $: Matriz triangular inferior sin la diagonal,\n",
        "- $ U $: Matriz triangular superior sin la diagonal.\n",
        "\n",
        "El sistema se reorganiza como:\n",
        "\n",
        "$$\n",
        "x = D^{-1}(b - (L + U)x).\n",
        "$$\n",
        "\n",
        "Esto se implementa iterativamente como:\n",
        "\n",
        "$$\n",
        "x_i^{(k+1)} = \\frac{1}{a_{ii}} \\left(b_i - \\sum_{j \\neq i} a_{ij} x_j^{(k)}\\right),\n",
        "$$\n",
        "\n",
        "donde $ a_{ii} $ son los elementos diagonales de $ A $.\n",
        "\n",
        "* Escriba una función explicita que realice de manera iterativa este método con una tol = 1e-7 y un máximo de 100 iteraciones. Defina una documentación clara que explique los métodos usados, lasa entradas y salidas.\n",
        "\n",
        "* Para una matriz aleatoria 5$\\times$ 5, encuentre la solución usando su función y determine el error con respecto a `solve` y el método de inversa de matriz."
      ],
      "metadata": {
        "id": "9OcE-1QhSrI9"
      }
    },
    {
      "cell_type": "code",
      "source": [
        "import numpy as np\n",
        "\n",
        "def jacobi(A, b, tol=1e-7, max_iter=100):\n",
        "    n = A.shape[0]\n",
        "    x = np.zeros(n)\n",
        "    D = np.diag(A)\n",
        "    R = A - np.diagflat(D)\n",
        "\n",
        "    for k in range(max_iter):\n",
        "        x_new = (b - np.dot(R, x)) / D\n",
        "\n",
        "        if np.linalg.norm(x_new - x, ord=np.inf) < tol:\n",
        "            return x_new, k+1\n",
        "        x = x_new\n",
        "\n",
        "    return x, max_iter\n",
        "\n",
        "np.random.seed(42)\n",
        "A = np.random.rand(5, 5)\n",
        "A += 5 * np.eye(5)\n",
        "b = np.random.rand(5)\n",
        "\n",
        "x_jacobi, iteraciones = jacobi(A, b)\n",
        "x_solve = np.linalg.solve(A, b)\n",
        "x_inv = np.dot(np.linalg.inv(A), b)\n",
        "\n",
        "error_jacobi_solve = np.linalg.norm(x_jacobi - x_solve)\n",
        "error_inv_solve = np.linalg.norm(x_inv - x_solve)\n",
        "\n",
        "print(f\"Solución con Jacobi en {iteraciones} iteraciones: {x_jacobi}\")\n",
        "print(f\"Error entre Jacobi y solve: {error_jacobi_solve}\")\n",
        "print(f\"Error entre inversa y solve: {error_inv_solve}\")\n"
      ],
      "metadata": {
        "id": "PQqefGzMT3ks",
        "colab": {
          "base_uri": "https://localhost:8080/"
        },
        "outputId": "0700aadb-7d6f-40e9-e58d-327b710d7df5"
      },
      "execution_count": null,
      "outputs": [
        {
          "output_type": "stream",
          "name": "stdout",
          "text": [
            "Solución con Jacobi en 14 iteraciones: [ 0.12231351  0.0123086   0.08266623  0.09713883 -0.0164666 ]\n",
            "Error entre Jacobi y solve: 1.5858846951560476e-08\n",
            "Error entre inversa y solve: 2.000580707114743e-17\n"
          ]
        }
      ]
    },
    {
      "cell_type": "markdown",
      "source": [
        "#6\n",
        "\n",
        "Verifique que cualquier matriz hermitiana de 2 × 2 $ L $ puede escribirse como una suma de cuatro términos:\n",
        "\n",
        "$$ L = a\\sigma_x + b\\sigma_y + c\\sigma_z + dI $$\n",
        "\n",
        "donde $ a $, $ b $, $ c $ y $ d $ son números reales.\n",
        "\n",
        "Las cuatro matrices de Pauli son:\n",
        "\n",
        "$$ \\sigma_x = \\begin{pmatrix} 0 & 1 \\\\ 1 & 0 \\end{pmatrix}, \\quad \\sigma_y = \\begin{pmatrix} 0 & -i \\\\ i & 0 \\end{pmatrix}, \\quad \\sigma_z = \\begin{pmatrix} 1 & 0 \\\\ 0 & -1 \\end{pmatrix}, \\quad I = \\begin{pmatrix} 1 & 0 \\\\ 0 & 1 \\end{pmatrix} $$\n",
        "\n",
        "\n"
      ],
      "metadata": {
        "id": "iggu2jNwVpnK"
      }
    },
    {
      "cell_type": "code",
      "source": [
        "import numpy as np\n",
        "\n",
        "def descomponer_hermitiana(L):\n",
        "    sigma_x = np.array([[0, 1], [1, 0]])\n",
        "    sigma_y = np.array([[0, -1j], [1j, 0]])\n",
        "    sigma_z = np.array([[1, 0], [0, -1]])\n",
        "    I = np.eye(2)\n",
        "\n",
        "    a = 0.5 * np.trace(L @ sigma_x)\n",
        "    b = 0.5 * np.trace(L @ sigma_y)\n",
        "    c = 0.5 * np.trace(L @ sigma_z)\n",
        "    d = 0.5 * np.trace(L @ I)\n",
        "\n",
        "    return a, b, c, d\n",
        "\n",
        "np.random.seed(42)\n",
        "L = np.random.rand(2,2) + 1j * np.random.rand(2,2)\n",
        "L = (L + L.conj().T) / 2\n",
        "\n",
        "a, b, c, d = descomponer_hermitiana(L)\n",
        "\n",
        "L_reconstruida = a * np.array([[0, 1], [1, 0]]) + \\\n",
        "                 b * np.array([[0, -1j], [1j, 0]]) + \\\n",
        "                 c * np.array([[1, 0], [0, -1]]) + \\\n",
        "                 d * np.eye(2)\n",
        "\n",
        "error = np.linalg.norm(L - L_reconstruida)\n",
        "\n",
        "print(f\"Coeficientes: a={a}, b={b}, c={c}, d={d}\")\n",
        "print(f\"Error de reconstrucción: {error}\")\n"
      ],
      "metadata": {
        "id": "8WN9_cOCV7cM",
        "colab": {
          "base_uri": "https://localhost:8080/"
        },
        "outputId": "5e61c4b6-bf01-42d8-fc63-24e7049d6b62"
      },
      "execution_count": null,
      "outputs": [
        {
          "output_type": "stream",
          "name": "stdout",
          "text": [
            "Coeficientes: a=(0.8413541241106606+0j), b=(-0.04895545408400159+0j), c=(-0.11205918267483705+0j), d=(0.48659930152219955+0j)\n",
            "Error de reconstrucción: 0.0\n"
          ]
        }
      ]
    },
    {
      "cell_type": "code",
      "source": [],
      "metadata": {
        "id": "6xAee6HxlIJ5"
      },
      "execution_count": null,
      "outputs": []
    }
  ]
}