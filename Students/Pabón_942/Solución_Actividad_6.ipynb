{
  "nbformat": 4,
  "nbformat_minor": 0,
  "metadata": {
    "colab": {
      "provenance": []
    },
    "kernelspec": {
      "name": "python3",
      "display_name": "Python 3"
    },
    "language_info": {
      "name": "python"
    }
  },
  "cells": [
    {
      "cell_type": "markdown",
      "source": [
        "#**Carolina Pabón Rúa**"
      ],
      "metadata": {
        "id": "Dfaqlk1j6i-A"
      }
    },
    {
      "cell_type": "markdown",
      "source": [
        "#1"
      ],
      "metadata": {
        "id": "q58p7WhC6qjU"
      }
    },
    {
      "cell_type": "code",
      "execution_count": 1,
      "metadata": {
        "colab": {
          "base_uri": "https://localhost:8080/"
        },
        "id": "GzueYzCh5Qsj",
        "outputId": "f2c4e78c-99e6-4e63-ece9-1df0bd24e8cd"
      },
      "outputs": [
        {
          "output_type": "stream",
          "name": "stdout",
          "text": [
            "f''(π/8) aproximado: -0.9238794683673055\n",
            "f''(π/8) exacto: -0.9238795325112867\n",
            "Error absoluto: 6.414398123766318e-08\n",
            "Error con h=0.01: 1.0226475222196996e-10\n",
            "Error con h=0.1: 1.0256166891320362e-06\n"
          ]
        }
      ],
      "source": [
        "import numpy as np\n",
        "import scipy.misc as sp\n",
        "import matplotlib.pyplot as plt\n",
        "\n",
        "def five_point_derivative(f, x, h):\n",
        "    \"\"\" Calcula la segunda derivada de f(x) usando la fórmula de cinco puntos \"\"\"\n",
        "    return (-f(x + 2*h) + 16*f(x + h) - 30*f(x) + 16*f(x - h) - f(x - 2*h)) / (12 * h**2)\n",
        "\n",
        "# Definir la función f(x) = cos(x)\n",
        "f = np.cos\n",
        "\n",
        "# Crear un arreglo de 10 datos en el rango [0, 2π]\n",
        "x_vals = np.linspace(0, 2*np.pi, 10)\n",
        "\n",
        "# Evaluar f''(π/8) con h = 0.05\n",
        "x_eval = np.pi / 8\n",
        "h = 0.05\n",
        "f_segunda_aprox = five_point_derivative(f, x_eval, h)\n",
        "\n",
        "# Calcular el valor exacto de la segunda derivada: f''(x) = -cos(x)\n",
        "f_segunda_exacta = -np.cos(x_eval)\n",
        "\n",
        "# Error absoluto\n",
        "error = abs(f_segunda_exacta - f_segunda_aprox)\n",
        "\n",
        "print(f\"f''(π/8) aproximado: {f_segunda_aprox}\")\n",
        "print(f\"f''(π/8) exacto: {f_segunda_exacta}\")\n",
        "print(f\"Error absoluto: {error}\")\n",
        "\n",
        "# ¿Mejorará con un h menor o mayor?\n",
        "# Probamos con h más pequeño\n",
        "h_menor = 0.01\n",
        "f_segunda_aprox_menor_h = five_point_derivative(f, x_eval, h_menor)\n",
        "error_menor_h = abs(f_segunda_exacta - f_segunda_aprox_menor_h)\n",
        "\n",
        "print(f\"Error con h=0.01: {error_menor_h}\")\n",
        "\n",
        "# Probamos con h más grande\n",
        "h_mayor = 0.1\n",
        "f_segunda_aprox_mayor_h = five_point_derivative(f, x_eval, h_mayor)\n",
        "error_mayor_h = abs(f_segunda_exacta - f_segunda_aprox_mayor_h)\n",
        "\n",
        "print(f\"Error con h=0.1: {error_mayor_h}\")\n"
      ]
    },
    {
      "cell_type": "markdown",
      "source": [
        "#2.\n",
        "Considere la función:\n",
        "\n",
        "$$f(x) = x e^x$$\n",
        "\n",
        "Encuentre la derivada númerica $f'(x)$ y $f''(x)$ para $x = 2.0$ usando diferencias finitas. Considere un arreglo con 6 puntos $[1.8\\leq x\\leq 2.2]$.\n",
        "\n",
        "*   Cambie los valores de $h$ desde 0.01 hasta 0.1 (tomando 10 diferentes) y compare su resultado con el dado por `scipy` y `numpy.gradient`\n",
        "*   ¿Cuál será el valor óptimo de $h$?"
      ],
      "metadata": {
        "id": "RnkvdvYPAb4X"
      }
    },
    {
      "cell_type": "code",
      "source": [
        "\n",
        "# Definimos la función f(x) = x * e^x\n",
        "def f(x):\n",
        "    return x * np.exp(x)\n",
        "\n",
        "# Derivadas numéricas con diferencias finitas\n",
        "def derivada_adelante(f, x, h):\n",
        "    return (f(x + h) - f(x)) / h\n",
        "\n",
        "def derivada_atras(f, x, h):\n",
        "    return (f(x) - f(x - h)) / h\n",
        "\n",
        "def derivada_centrada(f, x, h):\n",
        "    return (f(x + h) - f(x - h)) / (2 * h)\n",
        "\n",
        "def segunda_derivada(f, x, h):\n",
        "    return (f(x + h) - 2*f(x) + f(x - h)) / (h**2)\n",
        "\n",
        "x_eval = 2.0  # Punto donde queremos evaluar\n",
        "h_values = np.linspace(0.01, 0.1, 10)  # 10 valores de h desde 0.01 hasta 0.1\n",
        "\n",
        "# Valores exactos usando scipy\n",
        "f1_exacta = sp.derivative(f, x_eval, dx=1e-6, n=1)\n",
        "f2_exacta = sp.derivative(f, x_eval, dx=1e-6, n=2)\n",
        "\n",
        "# Almacenamos los errores\n",
        "errores_f1 = []\n",
        "errores_f2 = []\n",
        "\n",
        "for h in h_values:\n",
        "    f1_aprox = derivada_centrada(f, x_eval, h)\n",
        "    f2_aprox = segunda_derivada(f, x_eval, h)\n",
        "\n",
        "    # Calcular errores absolutos\n",
        "    error_f1 = abs(f1_exacta - f1_aprox)\n",
        "    error_f2 = abs(f2_exacta - f2_aprox)\n",
        "\n",
        "    errores_f1.append(error_f1)\n",
        "    errores_f2.append(error_f2)\n",
        "\n",
        "# Calcular derivadas con numpy.gradient\n",
        "x_vals = np.linspace(1.8, 2.2, 6)\n",
        "y_vals = f(x_vals)\n",
        "grad = np.gradient(y_vals, x_vals)\n",
        "\n",
        "# Mostrar resultados\n",
        "print(f\"Derivada exacta: f'(2) = {f1_exacta}, f''(2) = {f2_exacta}\")\n",
        "print(f\"Derivada con numpy.gradient: {grad[3]}\")  # Aproximación en x=2\n"
      ],
      "metadata": {
        "colab": {
          "base_uri": "https://localhost:8080/"
        },
        "id": "6iWGOTW86f6B",
        "outputId": "fe9b8f13-2a9d-43ac-e815-4dcaa9649af2"
      },
      "execution_count": 4,
      "outputs": [
        {
          "output_type": "stream",
          "name": "stdout",
          "text": [
            "Derivada exacta: f'(2) = 22.167168297393403, f''(2) = 29.560354164459568\n",
            "Derivada con numpy.gradient: 23.420815163693177\n"
          ]
        },
        {
          "output_type": "stream",
          "name": "stderr",
          "text": [
            "<ipython-input-4-5b7164aca5bb>:22: DeprecationWarning: scipy.misc.derivative is deprecated in SciPy v1.10.0; and will be completely removed in SciPy v1.12.0. You may consider using findiff: https://github.com/maroba/findiff or numdifftools: https://github.com/pbrod/numdifftools\n",
            "  f1_exacta = sp.derivative(f, x_eval, dx=1e-6, n=1)\n",
            "<ipython-input-4-5b7164aca5bb>:23: DeprecationWarning: scipy.misc.derivative is deprecated in SciPy v1.10.0; and will be completely removed in SciPy v1.12.0. You may consider using findiff: https://github.com/maroba/findiff or numdifftools: https://github.com/pbrod/numdifftools\n",
            "  f2_exacta = sp.derivative(f, x_eval, dx=1e-6, n=2)\n"
          ]
        }
      ]
    },
    {
      "cell_type": "markdown",
      "source": [
        "#3\n",
        "Compare la primera derivada del punto 2 usando los métodos de diferencias finitas, derivada de tres y cinco puntos para el $h$ con el menor error encontrado en el punto anterior. Compare de nuevo para $f'(2)$ y encuentre los errores."
      ],
      "metadata": {
        "id": "uFdx1tNUBDTL"
      }
    },
    {
      "cell_type": "code",
      "source": [
        "\n",
        "\n",
        "# Definir la función f(x) = x * e^x\n",
        "def f(x):\n",
        "    return x * np.exp(x)\n",
        "\n",
        "# Derivada exacta usando scipy\n",
        "x_eval = 2.0\n",
        "h_optimo = 0.03  # Supongamos que el h óptimo encontrado antes fue 0.03\n",
        "f1_exacta = sp.derivative(f, x_eval, dx=1e-6, n=1)\n",
        "\n",
        "def derivada_adelante(f, x, h):\n",
        "    return (f(x + h) - f(x)) / h\n",
        "\n",
        "def derivada_atras(f, x, h):\n",
        "    return (f(x) - f(x - h)) / h\n",
        "\n",
        "def derivada_centrada(f, x, h):\n",
        "    return (f(x + h) - f(x - h)) / (2 * h)\n",
        "\n",
        "def derivada_tres_puntos(f, x, h):\n",
        "    return (-3*f(x) + 4*f(x+h) - f(x+2*h)) / (2*h)\n",
        "\n",
        "def derivada_cinco_puntos(f, x, h):\n",
        "    return (f(x-2*h) - 8*f(x-h) + 8*f(x+h) - f(x+2*h)) / (12*h)\n",
        "\n",
        "# Calcular aproximaciones\n",
        "f1_adelante = derivada_adelante(f, x_eval, h_optimo)\n",
        "f1_atras = derivada_atras(f, x_eval, h_optimo)\n",
        "f1_centrada = derivada_centrada(f, x_eval, h_optimo)\n",
        "f1_tres_puntos = derivada_tres_puntos(f, x_eval, h_optimo)\n",
        "f1_cinco_puntos = derivada_cinco_puntos(f, x_eval, h_optimo)\n",
        "\n",
        "error_adelante = abs(f1_exacta - f1_adelante)\n",
        "error_atras = abs(f1_exacta - f1_atras)\n",
        "error_centrada = abs(f1_exacta - f1_centrada)\n",
        "error_tres_puntos = abs(f1_exacta - f1_tres_puntos)\n",
        "error_cinco_puntos = abs(f1_exacta - f1_cinco_puntos)\n",
        "\n",
        "print(f\"Derivada exacta: f'(2) = {f1_exacta:.6f}\")\n",
        "print(f\"Derivada adelante: {f1_adelante:.6f}, Error: {error_adelante:.6e}\")\n",
        "print(f\"Derivada atrás: {f1_atras:.6f}, Error: {error_atras:.6e}\")\n",
        "print(f\"Derivada centrada: {f1_centrada:.6f}, Error: {error_centrada:.6e}\")\n",
        "print(f\"Derivada tres puntos: {f1_tres_puntos:.6f}, Error: {error_tres_puntos:.6e}\")\n",
        "print(f\"Derivada cinco puntos: {f1_cinco_puntos:.6f}, Error: {error_cinco_puntos:.6e}\")\n"
      ],
      "metadata": {
        "colab": {
          "base_uri": "https://localhost:8080/"
        },
        "id": "Wzg66A96AjCe",
        "outputId": "9c5e4caa-beb1-4600-cae2-0934082eabda"
      },
      "execution_count": 5,
      "outputs": [
        {
          "output_type": "stream",
          "name": "stdout",
          "text": [
            "Derivada exacta: f'(2) = 22.167168\n",
            "Derivada adelante: 22.616104, Error: 4.489354e-01\n",
            "Derivada atrás: 21.729317, Error: 4.378511e-01\n",
            "Derivada centrada: 22.172710, Error: 5.542141e-03\n",
            "Derivada tres puntos: 22.155781, Error: 1.138779e-02\n",
            "Derivada cinco puntos: 22.167167, Error: 1.397326e-06\n"
          ]
        },
        {
          "output_type": "stream",
          "name": "stderr",
          "text": [
            "<ipython-input-5-71188167665a>:8: DeprecationWarning: scipy.misc.derivative is deprecated in SciPy v1.10.0; and will be completely removed in SciPy v1.12.0. You may consider using findiff: https://github.com/maroba/findiff or numdifftools: https://github.com/pbrod/numdifftools\n",
            "  f1_exacta = sp.derivative(f, x_eval, dx=1e-6, n=1)\n"
          ]
        }
      ]
    },
    {
      "cell_type": "code",
      "source": [],
      "metadata": {
        "id": "XjecCyIgBpYL"
      },
      "execution_count": null,
      "outputs": []
    }
  ]
}