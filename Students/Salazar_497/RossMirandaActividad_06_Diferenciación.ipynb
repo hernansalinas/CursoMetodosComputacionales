{
  "nbformat": 4,
  "nbformat_minor": 0,
  "metadata": {
    "colab": {
      "provenance": []
    },
    "kernelspec": {
      "name": "python3",
      "display_name": "Python 3"
    },
    "language_info": {
      "name": "python"
    }
  },
  "cells": [
    {
      "cell_type": "code",
      "execution_count": 2,
      "metadata": {
        "id": "rZuc8vXcWuxy"
      },
      "outputs": [],
      "source": [
        "#@title Librerias\n",
        "import numpy as np\n",
        "import matplotlib.pyplot as plt\n",
        "import pandas as pd\n",
        "import sympy as sp"
      ]
    },
    {
      "cell_type": "markdown",
      "source": [
        "# Actividad 06: Diferenciación númerica\n",
        "\n",
        "---\n",
        "### Profesor: Juan Marcos Marín\n",
        "### Nombre: Ross Anthony Miranda D'Angelo CC: 1034988497\n",
        "*Métodos computacionales 2024-II*\n",
        "\n",
        "---"
      ],
      "metadata": {
        "id": "MGwGfceuWxy3"
      }
    },
    {
      "cell_type": "markdown",
      "source": [
        "# 1.\n",
        "Implementar el método de la derivada de cinco puntos a través de una función llamada `five_point_derivative`. Luego,\n",
        "* Calcule el valor para $f(x) = \\cos(x)$ utilizando un arreglo con 10 datos $[0\\leq x\\leq 2\\pi]$ y evalue $f''(\\pi/8)$ con $h = 0.05$.\n",
        "* Encuentre el error de su aproximación. ¿Mejorará con un $h$ menor o mayor?\n",
        "\n"
      ],
      "metadata": {
        "id": "E8ME9Aa7TbKA"
      }
    },
    {
      "cell_type": "code",
      "execution_count": 3,
      "metadata": {
        "id": "vyTohkly7IW_",
        "colab": {
          "base_uri": "https://localhost:8080/"
        },
        "outputId": "305f9d53-2827-4cf7-8080-3f9b2af20c7b"
      },
      "outputs": [
        {
          "output_type": "stream",
          "name": "stdout",
          "text": [
            "Aproximación: -0.9238794683673055\n",
            "Valor exacto: -0.9238795325112867\n",
            "Error absoluto: 6.414398123766318e-08\n"
          ]
        }
      ],
      "source": [
        "def five_point_derivative(f, x, h):\n",
        "    \"\"\"\n",
        "    Calcula la segunda derivada de f en x usando la fórmula de cinco puntos.\n",
        "    \"\"\"\n",
        "    return (-f(x + 2*h) + 16*f(x + h) - 30*f(x) + 16*f(x - h) - f(x - 2*h)) / (12 * h**2)\n",
        "\n",
        "def f(x):\n",
        "    return np.cos(x)\n",
        "\n",
        "# Parámetros\n",
        "h = 0.05\n",
        "x_eval = np.pi / 8\n",
        "\n",
        "#2da derivada\n",
        "f_second_derivative_approx = five_point_derivative(f, x_eval, h)\n",
        "\n",
        "f_second_derivative_exact = -np.cos(x_eval)\n",
        "\n",
        "# Error absoluto\n",
        "error = abs(f_second_derivative_approx - f_second_derivative_exact)\n",
        "\n",
        "# Resultados\n",
        "print(f\"Aproximación: {f_second_derivative_approx}\")\n",
        "print(f\"Valor exacto: {f_second_derivative_exact}\")\n",
        "print(f\"Error absoluto: {error}\")\n"
      ]
    },
    {
      "cell_type": "markdown",
      "source": [
        "#2.\n",
        "Considere la función:\n",
        "\n",
        "$$f(x) = x e^x$$\n",
        "\n",
        "Encuentre la derivada númerica $f'(x)$ y $f''(x)$ para $x = 2.0$ usando diferencias finitas. Considere un arreglo con 6 puntos $[1.8\\leq x\\leq 2.2]$.\n",
        "\n",
        "*   Cambie los valores de $h$ desde 0.01 hasta 0.1 (tomando 10 diferentes) y compare su resultado con el dado por `scipy` y `numpy.gradient`\n",
        "*   ¿Cuál será el valor óptimo de $h$?"
      ],
      "metadata": {
        "id": "Dx40CzPL-V8i"
      }
    },
    {
      "cell_type": "code",
      "execution_count": 9,
      "metadata": {
        "id": "a2ZJlGT58g3Z",
        "colab": {
          "base_uri": "https://localhost:8080/"
        },
        "outputId": "9d4a29c9-9e34-478c-96dc-5fc2c16a5d18"
      },
      "outputs": [
        {
          "output_type": "stream",
          "name": "stdout",
          "text": [
            "Valor óptimo de h: 0.01\n",
            "Derivada numérica con h óptimo: 22.228786880307297\n",
            "Derivada exacta: 22.16716829679195\n",
            "Error: 0.0006157589849351552\n",
            "Derivada con scipy: 22.167784055776885\n",
            "Derivada con numpy.gradient: 23.420815163693177\n"
          ]
        },
        {
          "output_type": "stream",
          "name": "stderr",
          "text": [
            "<ipython-input-9-8a727364116a>:22: DeprecationWarning: scipy.misc.derivative is deprecated in SciPy v1.10.0; and will be completely removed in SciPy v1.12.0. You may consider using findiff: https://github.com/maroba/findiff or numdifftools: https://github.com/pbrod/numdifftools\n",
            "  scipy_derivative = derivative(f, 2.0, dx=optimal_h, n=1)\n"
          ]
        }
      ],
      "source": [
        "from scipy.misc import derivative\n",
        "\n",
        "def f(x):\n",
        "    return x * np.exp(x)\n",
        "\n",
        "x_values = np.linspace(1.8, 2.2, 6)\n",
        "h_values = np.linspace(0.01, 0.1, 10)\n",
        "\n",
        "optimal_h = None\n",
        "min_error = float('inf')\n",
        "\n",
        "for h in h_values:\n",
        "    numerical_derivative = (f(2.0 + h) - f(2.0 - h)) / (2 * h)\n",
        "    exact_derivative = (2.0 + 1) * np.exp(2.0)\n",
        "    error = abs(numerical_derivative - exact_derivative)\n",
        "\n",
        "    if error < min_error:\n",
        "        min_error = error\n",
        "        optimal_h = h\n",
        "\n",
        "# Comparación con scipy y numpy.gradient\n",
        "scipy_derivative = derivative(f, 2.0, dx=optimal_h, n=1)\n",
        "numpy_gradient = np.gradient(f(x_values), x_values)[3]  # Aproximación en x=2.0\n",
        "\n",
        "print(f\"Valor óptimo de h: {optimal_h}\")\n",
        "print(f\"Derivada numérica con h óptimo: {numerical_derivative}\")\n",
        "print(f\"Derivada exacta: {exact_derivative}\")\n",
        "print(f\"Error: {min_error}\")\n",
        "print(f\"Derivada con scipy: {scipy_derivative}\")\n",
        "print(f\"Derivada con numpy.gradient: {numpy_gradient}\")\n"
      ]
    },
    {
      "cell_type": "markdown",
      "source": [
        "#3.\n",
        "Compare la primera derivada del punto 2 usando los métodos de diferencias finitas, derivada de tres y cinco puntos para el $h$ con el menor error encontrado en el punto anterior. Compare de nuevo para $f'(2)$ y encuentre los errores."
      ],
      "metadata": {
        "id": "7K2ZmIuYAkNi"
      }
    },
    {
      "cell_type": "code",
      "source": [
        "def f(x):\n",
        "    return x * np.exp(x)\n",
        "\n",
        "def three_point_derivative(f, x, h):\n",
        "    return (f(x + h) - f(x - h)) / (2 * h)\n",
        "\n",
        "def five_point_derivative(f, x, h):\n",
        "    return (-f(x + 2*h) + 8*f(x + h) - 8*f(x - h) + f(x - 2*h)) / (12*h)\n",
        "\n",
        "# Definir el valor óptimo de h encontrado en la pregunta 2\n",
        "optimal_h = optimal_h\n",
        "\n",
        "x = 2.0\n",
        "\n",
        "#derivadas\n",
        "three_point_result = three_point_derivative(f, x, optimal_h)\n",
        "five_point_result = five_point_derivative(f, x, optimal_h)\n",
        "numerical_gradient = np.gradient([f(x - optimal_h), f(x), f(x + optimal_h)], optimal_h)[1]\n",
        "\n",
        "# Errores\n",
        "error_three_point = abs(three_point_result - numerical_gradient)\n",
        "error_five_point = abs(five_point_result - numerical_gradient)\n",
        "\n",
        "\n",
        "print(\"Método de 3 puntos - Derivada aproximada:\", three_point_result)\n",
        "print(\"Método de 5 puntos - Derivada aproximada:\", five_point_result)\n",
        "print(\"Gradiente NumPy - Referencia:\", numerical_gradient)\n",
        "print(\"Error método de 3 puntos:\", error_three_point)\n",
        "print(\"Error método de 5 puntos:\", error_five_point)\n"
      ],
      "metadata": {
        "id": "ygu67HeYAjvi",
        "colab": {
          "base_uri": "https://localhost:8080/"
        },
        "outputId": "2ea6a7aa-0350-479b-96ed-27bd7fd21c2a"
      },
      "execution_count": 11,
      "outputs": [
        {
          "output_type": "stream",
          "name": "stdout",
          "text": [
            "Método de 3 puntos - Derivada aproximada: 22.167784055776885\n",
            "Método de 5 puntos - Derivada aproximada: 22.16716827955015\n",
            "Gradiente NumPy - Referencia: 22.167784055776885\n",
            "Error método de 3 puntos: 0.0\n",
            "Error método de 5 puntos: 0.0006157762267342548\n"
          ]
        }
      ]
    }
  ]
}