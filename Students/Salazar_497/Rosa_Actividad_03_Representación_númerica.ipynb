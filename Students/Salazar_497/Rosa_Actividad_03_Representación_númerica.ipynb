{
  "cells": [
    {
      "cell_type": "code",
      "execution_count": null,
      "metadata": {
        "cellView": "form",
        "id": "rZuc8vXcWuxy"
      },
      "outputs": [],
      "source": [
        "#@title Librerias\n",
        "import numpy as np\n",
        "import matplotlib.pyplot as plt\n",
        "import pandas as pd"
      ]
    },
    {
      "cell_type": "markdown",
      "metadata": {
        "id": "MGwGfceuWxy3"
      },
      "source": [
        "# Actividad 03: Representación númerica\n",
        "\n",
        "---\n",
        "### Profesor: Juan Marcos Marín\n",
        "### Nombre: Rosa Mercedes Salazar Miranda CC 1034988497\n",
        "*Métodos computacionales 2024-II*\n",
        "\n",
        "---"
      ]
    },
    {
      "cell_type": "markdown",
      "metadata": {
        "id": "jB6BqzoSamB0"
      },
      "source": [
        "**NOTA: No utilizar los métodos `bin` o `int`**"
      ]
    },
    {
      "cell_type": "markdown",
      "metadata": {
        "id": "BOi6yQmJW7os"
      },
      "source": [
        "1. Escriba una función que se llame `mybin` que reciba un número entero real de 16 bits y realice su conversión en código binario, compare su resultado con `bin(4321)`"
      ]
    },
    {
      "cell_type": "code",
      "execution_count": null,
      "metadata": {
        "id": "xbt3ZmYiW6oF"
      },
      "outputs": [],
      "source": [
        "# Aqui va su código"
      ]
    },
    {
      "cell_type": "code",
      "source": [
        "def mybin(number):\n",
        "    if number < 0:  # por si acaso negativos\n",
        "        number = (1 << 16) + number  # complemento a 2\n",
        "\n",
        "    binary_representation = ''\n",
        "    for i in range(15, -1, -1):\n",
        "        bit = (number >> i) & 1\n",
        "        binary_representation += str(bit)\n",
        "\n",
        "    return binary_representation\n",
        "\n",
        "# Probar con el número 4321\n",
        "resultado_mybin = mybin(4321)\n",
        "resultado_bin = bin(4321)[2:].zfill(16)\n",
        "\n",
        "# Comparo\n",
        "print(f\"Resultado mybin: {resultado_mybin}\")\n",
        "print(f\"Resultado bin:   {resultado_bin}\")\n"
      ],
      "metadata": {
        "colab": {
          "base_uri": "https://localhost:8080/"
        },
        "id": "KQGdSLgazCLX",
        "outputId": "d603eeb8-036e-422c-f026-2c2b6dafc049"
      },
      "execution_count": null,
      "outputs": [
        {
          "output_type": "stream",
          "name": "stdout",
          "text": [
            "Resultado mybin: 0001000011100001\n",
            "Resultado bin:   0001000011100001\n"
          ]
        }
      ]
    },
    {
      "cell_type": "markdown",
      "metadata": {
        "id": "5X_8-jpEXjSw"
      },
      "source": [
        "2. Cree una función llamada `myint` pero que a partir de un número binario con base de 16 bits encuentre el entero correspondiente. Compare su resultado con `int(0b1000011100001)`"
      ]
    },
    {
      "cell_type": "code",
      "execution_count": null,
      "metadata": {
        "id": "VmS2TiF4XsbN"
      },
      "outputs": [],
      "source": [
        "# Aqui va su código"
      ]
    },
    {
      "cell_type": "code",
      "source": [
        "def myint(binary_string):\n",
        "    if len(binary_string) != 16 or not all(c in '01' for c in binary_string):\n",
        "        raise ValueError(\"Debe ser un número binario de 16 bits.\")\n",
        "\n",
        "    is_negative = binary_string[0] == '1'\n",
        "\n",
        "    # Convierte\n",
        "    integer_value = 0\n",
        "    for i in range(16):\n",
        "        integer_value += int(binary_string[i]) * (1 << (15 - i))  # Sumar valor del bit correspondiente\n",
        "\n",
        "    # Si es negativo, aplicar complemento a 2\n",
        "    if is_negative:\n",
        "        integer_value -= 1 << 16  # Restar 2^16 para obtener el valor negativo\n",
        "\n",
        "    return integer_value\n",
        "\n",
        "# Probar la función con el número binario 1000011100001 (que es binario de 13 bits)\n",
        "# Lo rellenamos con ceros para que sea de 16 bits: '0000100001110001'\n",
        "resultado_myint = myint('0000100001110001')\n",
        "resultado_int = int(0b1000011100001)  # Utilizando el método nativo para comparación\n",
        "\n",
        "# Comparar resultados\n",
        "print(f\"Resultado myint: {resultado_myint}\")\n",
        "print(f\"Resultado int:   {resultado_int}\")\n"
      ],
      "metadata": {
        "id": "6gHDzvzVzD3W"
      },
      "execution_count": null,
      "outputs": []
    },
    {
      "cell_type": "code",
      "source": [
        "def myint(binary_string):\n",
        "    # Rellenar con ceros a la izquierda si tiene menos de 16 bits\n",
        "    binary_string = binary_string.zfill(16)\n",
        "\n",
        "    # Verificar que sea un número binario válido\n",
        "    if len(binary_string) != 16 or not all(c in '01' for c in binary_string):\n",
        "        raise ValueError(\"Debe ser un número binario de 16 bits.\")\n",
        "\n",
        "    is_negative = binary_string[0] == '1' # si es negativo\n",
        "\n",
        "    # Convertir a entero positivo\n",
        "    integer_value = 0\n",
        "    for i in range(16):\n",
        "        integer_value += int(binary_string[i]) * (1 << (15 - i))  # Sumar valor del bit correspondiente\n",
        "\n",
        "    # Si es negativo, aplicar complemento a 2\n",
        "    if is_negative:\n",
        "        integer_value -= 1 << 16\n",
        "\n",
        "    return integer_value\n",
        "\n",
        "# Probar con número binario de 13 bits\n",
        "resultado_myint = myint('1000011100001')  # se digita como string\n",
        "resultado_int = int(0b1000011100001)\n",
        "\n",
        "# Comparar resultados\n",
        "print(f\"Resultado myint: {resultado_myint}\")\n",
        "print(f\"Resultado int:   {resultado_int}\")\n"
      ],
      "metadata": {
        "colab": {
          "base_uri": "https://localhost:8080/"
        },
        "id": "Lqv9Bb4P1qQW",
        "outputId": "f5d1eb99-c9e4-47fb-9512-402b1ee4d5e7"
      },
      "execution_count": null,
      "outputs": [
        {
          "output_type": "stream",
          "name": "stdout",
          "text": [
            "Resultado myint: 4321\n",
            "Resultado int:   4321\n"
          ]
        }
      ]
    },
    {
      "cell_type": "markdown",
      "metadata": {
        "id": "pHQ8ftloYPO5"
      },
      "source": [
        "3. Generar una función llamada `number64` para flotantes de precisión doble (64bits) donde a partir de un número binario encuentre el valor real. Compruebe su solución usando\n",
        "\n",
        "```\n",
        "number64(\"0100000000111011100100001111111111111111111111111111111111111111\")\n",
        "```\n",
        "\n"
      ]
    },
    {
      "cell_type": "code",
      "execution_count": null,
      "metadata": {
        "id": "8W4MIVKhZTsO"
      },
      "outputs": [],
      "source": [
        "# Aqui va su código"
      ]
    },
    {
      "cell_type": "code",
      "source": [
        "def number64(binary_string):\n",
        "    # que seade 64 bits\n",
        "    if len(binary_string) != 64 or not all(c in '01' for c in binary_string):\n",
        "        raise ValueError(\"Debe ser un número binario de 64 bits.\")\n",
        "\n",
        "    # signo\n",
        "    sign = -1 if binary_string[0] == '1' else 1\n",
        "    # exponente (siguiente 11 bits)\n",
        "    exponent_bits = binary_string[1:12]\n",
        "    exponent = int(exponent_bits, 2) - 1023  # Exponente con sesgo 1023\n",
        "\n",
        "    #mantisa (últimos 52 bits)\n",
        "    mantissa_bits = binary_string[12:]\n",
        "    mantissa = 1.0\n",
        "    for i in range(52):\n",
        "        if mantissa_bits[i] == '1':\n",
        "            mantissa += 2 ** -(i + 1)\n",
        "\n",
        "    #ahora si numero\n",
        "    value = sign * mantissa * (2 ** exponent)\n",
        "\n",
        "    return value\n",
        "\n",
        "# Probar la función con el número binario dado\n",
        "resultado_number64 = number64(\"0100000000111011100100001111111111111111111111111111111111111111\")\n",
        "\n",
        "# Mostrar el resultado\n",
        "print(f\"Resultado number64: {resultado_number64}\")\n"
      ],
      "metadata": {
        "colab": {
          "base_uri": "https://localhost:8080/"
        },
        "id": "Z4BqxMrA2pGV",
        "outputId": "6574da5e-e6cc-47e5-fb3c-2d0c538662d4"
      },
      "execution_count": null,
      "outputs": [
        {
          "output_type": "stream",
          "name": "stdout",
          "text": [
            "Resultado number64: 27.566406249999996\n"
          ]
        }
      ]
    },
    {
      "cell_type": "markdown",
      "metadata": {
        "id": "xwyZCxWtZZoH"
      },
      "source": [
        "4. ***(Opcional)*** Escriba una función que convierta un número con base de 8 bits en hexadecimal, compruebe su respuesta con `hex` e imprimalo también en binario."
      ]
    },
    {
      "cell_type": "code",
      "execution_count": null,
      "metadata": {
        "id": "SpJuueSgbJ4I"
      },
      "outputs": [],
      "source": [
        "# Aqui va su código"
      ]
    },
    {
      "cell_type": "code",
      "source": [
        "def bin_to_hex(binary_string):\n",
        "    # binario de 8 bits\n",
        "    if len(binary_string) != 8 or not all(c in '01' for c in binary_string):\n",
        "        raise ValueError(\"Debe ser un número binario de 8 bits.\")\n",
        "\n",
        "    # binario a decimal\n",
        "    decimal_value = int(binary_string, 2)\n",
        "\n",
        "    # decimal a hexadecimal\n",
        "    hex_value = \"\"\n",
        "    hex_digits = \"0123456789ABCDEF\"\n",
        "\n",
        "    while decimal_value > 0:\n",
        "        hex_value = hex_digits[decimal_value % 16] + hex_value\n",
        "        decimal_value //= 16\n",
        "\n",
        "    if hex_value == \"\":\n",
        "        hex_value = \"0\"\n",
        "\n",
        "    return hex_value\n",
        "\n",
        "# Probar\n",
        "binary_input = '11111111'  # Ej\n",
        "resultado_bin_to_hex = bin_to_hex(binary_input)\n",
        "\n",
        "# Comparar el resultado con hex() y mostrar la conversión en binario y hexadecimal\n",
        "resultado_hex = hex(int(binary_input, 2))\n",
        "\n",
        "print(f\"Entrada binaria: {binary_input}\")\n",
        "print(f\"Resultado manual en hexadecimal: 0x{resultado_bin_to_hex}\")\n",
        "print(f\"Resultado con hex() para comparar: {resultado_hex}\")\n"
      ],
      "metadata": {
        "colab": {
          "base_uri": "https://localhost:8080/"
        },
        "id": "3E1pS_Xy4Klb",
        "outputId": "fc4b9c66-30f0-447b-ec7c-4d7a67d5adf4"
      },
      "execution_count": null,
      "outputs": [
        {
          "output_type": "stream",
          "name": "stdout",
          "text": [
            "Entrada binaria: 11111111\n",
            "Resultado manual en hexadecimal: 0xFF\n",
            "Resultado con hex() para comparar: 0xff\n"
          ]
        }
      ]
    }
  ],
  "metadata": {
    "colab": {
      "provenance": []
    },
    "kernelspec": {
      "display_name": "Python 3",
      "name": "python3"
    },
    "language_info": {
      "name": "python"
    }
  },
  "nbformat": 4,
  "nbformat_minor": 0
}