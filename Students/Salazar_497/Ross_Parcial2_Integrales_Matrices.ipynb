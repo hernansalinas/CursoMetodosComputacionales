{
  "nbformat": 4,
  "nbformat_minor": 0,
  "metadata": {
    "colab": {
      "provenance": [],
      "collapsed_sections": [
        "u1OxHrJINZ9c",
        "ryB1EksIOV_l",
        "pKubcNlWP0nc",
        "Qz8QJCjWYds5"
      ]
    },
    "kernelspec": {
      "name": "python3",
      "display_name": "Python 3"
    },
    "language_info": {
      "name": "python"
    }
  },
  "cells": [
    {
      "cell_type": "code",
      "execution_count": 50,
      "metadata": {
        "cellView": "form",
        "id": "aF61FjHUNGJA"
      },
      "outputs": [],
      "source": [
        "#@title Librerias\n",
        "import numpy as np\n",
        "import numpy.linalg as la\n",
        "import matplotlib.pyplot as plt\n",
        "from scipy.integrate import quad, nquad, fixed_quad, trapezoid, simpson\n",
        "from sympy import symbols, diff, integrate, lambdify"
      ]
    },
    {
      "cell_type": "markdown",
      "source": [
        "# Parcial II - Métodos Computacionales (Integrales y Matrices)\n",
        "**2024-2**\n",
        "\n",
        "---\n",
        "\n",
        "*Nombre:* Ross Anthony Miranda D'Angelo\n",
        "\n",
        "*Identificación:* 1034988497\n",
        "\n",
        "---\n",
        "* Sea honest@\n",
        "* El uso de herramientas de IA no está permitido\n",
        "* Puede consultar la documentación de las librerias.\n",
        "* Sea ordendado dando la solución a cada punto.\n",
        "* *Asegurese que el notebook corra completamente*\n",
        "* Suba su notebook al GitHub (en su carpeta) y recuerde hacer pull-request"
      ],
      "metadata": {
        "id": "VqRX_GXcNZOl"
      }
    },
    {
      "cell_type": "markdown",
      "source": [
        "# 1\n",
        "\n",
        "**(20 puntos)**\n",
        "Considera la siguiente integral:\n",
        "\n",
        "$$\n",
        "I = \\int_0^1 \\int_{x^2}^{x+1} \\int_{y^2}^{y+2} \\int_{z^2}^{z+3} (x+y+z+w) \\, dw \\, dz \\, dy \\, dx\n",
        "$$\n",
        "\n",
        "Encuentre la solución númerica usando unicamente `quad`. Encuentre el error relativo, para esto emplee el siguiente código que usa `nquad`:\n",
        "\n",
        "\n",
        "```python\n",
        "# Definir el integrando\n",
        "integrand = lambda w, z, y, x: x + y + z + w\n",
        "\n",
        "# Definir los límites usando funciones lambda\n",
        "w_limits = lambda z, y, x: [z**2, z+3]\n",
        "z_limits = lambda y, x: [y**2, y+2]\n",
        "y_limits = lambda x: [x**2, x+1]\n",
        "x_limits = lambda: [0, 1]\n",
        "\n",
        "# Calcular la integral usando nquad\n",
        "result, error = nquad(\n",
        "    integrand,\n",
        "    [w_limits, z_limits, y_limits, x_limits]\n",
        ")\n",
        "\n",
        "print(f\"Resultado de la integral: {result}\")\n",
        "print(f\"Error estimado: {error}\")\n",
        "```\n",
        "\n"
      ],
      "metadata": {
        "id": "u1OxHrJINZ9c"
      }
    },
    {
      "cell_type": "code",
      "source": [
        "# Aqui va su código\n",
        "\n",
        "def integrando(w, z, y, x):\n",
        "    return x + y + z + w\n",
        "\n",
        "def integral_mult(x):\n",
        "    def integral_z(y):\n",
        "        def integral_w(z):\n",
        "            def f(w):\n",
        "              return integrando(w, z, y, x)\n",
        "            res, _ = quad(f, z**2, z + 3)\n",
        "            return res\n",
        "        res, _ = quad(integral_w, y**2, y + 2)\n",
        "        return res\n",
        "\n",
        "    res, _ = quad(integral_z, x**2, x + 1)\n",
        "    return res\n",
        "\n",
        "result_quad, _ = quad(integral_mult, 0, 1)\n",
        "\n",
        "print(f\"Resultado de la integral (solo usando quad): {result_quad}\")\n"
      ],
      "metadata": {
        "id": "cZURwltmOSgu",
        "colab": {
          "base_uri": "https://localhost:8080/"
        },
        "outputId": "20b49500-aa60-433e-9389-8e610bc3e899"
      },
      "execution_count": 51,
      "outputs": [
        {
          "output_type": "stream",
          "name": "stdout",
          "text": [
            "Resultado de la integral (solo usando quad): -0.6500971589021813\n"
          ]
        }
      ]
    },
    {
      "cell_type": "code",
      "source": [
        "#CODIGO PROPUESTO EN EL EJERCICIO!!!!\n",
        "\n",
        "integrando = lambda w, z, y, x: x + y + z + w\n",
        "w_limits = lambda z, y, x: [z**2, z+3]\n",
        "z_limits = lambda y, x: [y**2, y+2]\n",
        "y_limits = lambda x: [x**2, x+1]\n",
        "x_limits = lambda: [0, 1]\n",
        "\n",
        "result_nquad, error_nquad = nquad(\n",
        "    integrando,\n",
        "    [w_limits, z_limits, y_limits, x_limits]\n",
        ")\n",
        "\n",
        "print(f\"Resultado de la integral (nquad): {result_nquad}\")\n",
        "print(f\"Error estimado (nquad): {error_nquad}\")\n",
        "\n",
        "# AGREGADO: Calcular el error relativo comparando las dos\n",
        "error_relativo = abs(result_quad - result_nquad) / abs(result_nquad)\n",
        "print(f\"Error relativo: {error_relativo}\") #Al parecer si da 0 porque son iguales"
      ],
      "metadata": {
        "colab": {
          "base_uri": "https://localhost:8080/"
        },
        "id": "W4EW9jrHXHul",
        "outputId": "26ae0d89-c7f5-4137-b20e-caf8e871ce86"
      },
      "execution_count": 52,
      "outputs": [
        {
          "output_type": "stream",
          "name": "stdout",
          "text": [
            "Resultado de la integral (nquad): -0.6500971589021813\n",
            "Error estimado (nquad): 1.8391891749223705e-12\n",
            "Error relativo: 0.0\n"
          ]
        }
      ]
    },
    {
      "cell_type": "markdown",
      "source": [
        "# 2\n",
        "\n",
        "**(40 puntos)**\n",
        "Un lazo de corriente de radio $a$  transporta una corriente $I$ en el punto P que está a una distancia $r$ del centro del lazo con coordenadas esféricas (r, θ, φ). Resuelve para la componente φ del potencial vectorial en el punto $P$ en términos de integrales elípticas:\n",
        "\n",
        "\\begin{equation}\n",
        "A_{\\phi}(r, \\theta)=\\frac{\\mu_0}{4\\pi}\\frac{4Ia}{\\sqrt{a^2+r^2+2ar\\sin \\theta}}\\left(\\frac{(2-k^2)K(k)-2E(k)}{k^2} \\right)\n",
        "\\end{equation}\n",
        "\n",
        "donde\n",
        "\n",
        "\\begin{equation}\n",
        "K(k)=\\int_{0}^{\\pi/2} \\frac{\\mathrm{d\\phi}}{\\sqrt{1-k^2\\sin^2\\phi}}\n",
        "\\end{equation}\n",
        "\n",
        "\\begin{equation}\n",
        "E(k)=\\int_{0}^{\\pi/2} \\mathrm{d\\phi} \\sqrt{1-k^2\\sin^2\\phi}\n",
        "\\end{equation}\n",
        "\n",
        "\\begin{equation}\n",
        "k^2=\\frac{4ar\\sin\\theta}{a^2+r^2+2ar\\sin\\theta}\n",
        "\\end{equation}\n",
        "\n",
        "Aquí, $K(k)$ es una integral elíptica completa del primer tipo y $E(k)$ es una integral elíptica completa del segundo tipo.\n",
        "\n",
        "\n",
        "Para\n",
        "* $a$ = 1,\n",
        "* $I$ = 3,\n",
        "* $μ0/4π$ = 1\n",
        "\n",
        "\n",
        "Usando funciones explicitas explique claramente las entradas, salidas y procedimientos dentro de las mismas. Recuerde para resolver las integrales usar `quad` y grafique para:\n",
        "\n",
        "*a)* $A_φ(r = 1.1, θ)$ vs. $0\\leq θ\\leq \\pi$\n",
        "\n",
        "*b)* $A_φ(r, θ = π∕3)$ vs. $0\\leq r \\leq 10$\n",
        "\n",
        "Tenga cuidado con la convergencia de su integral\n",
        "\n"
      ],
      "metadata": {
        "id": "ryB1EksIOV_l"
      }
    },
    {
      "cell_type": "code",
      "source": [
        "# Aqui va su código"
      ],
      "metadata": {
        "id": "yGrEqwaNOh_8"
      },
      "execution_count": 53,
      "outputs": []
    },
    {
      "cell_type": "code",
      "source": [
        "#codigo de las funciones namas\n",
        "\n",
        "def intelip_k(k):\n",
        "    integrand = lambda phi: 1 / np.sqrt(1 - k**2 * np.sin(phi)**2)\n",
        "    result, _ = quad(integrand, 0, np.pi/2)\n",
        "    return result\n",
        "\n",
        "def intelip_e(k):\n",
        "  integrand = lambda phi: np.sqrt(1 - k**2 * np.sin(phi)**2)\n",
        "  result, _ = quad(integrand, 0, np.pi/2)\n",
        "  return result\n",
        "\n",
        "def vector_potencial_phi(r, theta, a=1, I=3):\n",
        "  k_squared = (4 * a * r * np.sin(theta)) / (a**2 + r**2 + 2 * a * r * np.sin(theta))\n",
        "  k = np.sqrt(k_squared)\n",
        "\n",
        "  # caso donde k esta bien cerca de uno, evitando asi la divergencia de la funcion\n",
        "  if np.isclose(k, 1, atol=1e-10):\n",
        "    return 0  # por poner algo :\")))\n",
        "\n",
        "  result = (4 * I * a) / np.sqrt(a**2 + r**2 + 2 * a * r * np.sin(theta))\n",
        "  result *= ((2 - k_squared) * intelip_k(k) - 2 * intelip_e(k)) / k_squared\n",
        "  print(result)\n",
        "  return result"
      ],
      "metadata": {
        "id": "LRUYSDZwZ5-i"
      },
      "execution_count": 54,
      "outputs": []
    },
    {
      "cell_type": "code",
      "source": [
        "# a) A_phi(r = 1.1, theta) vs. theta\n",
        "theta_valores = np.linspace(0, np.pi, 100)\n",
        "a_phi_values_a = [vector_potencial_phi(r=1.1, theta=theta) for theta in theta_valores]\n",
        "\n",
        "plt.figure(figsize=(8, 6))\n",
        "plt.plot(theta_valores, a_phi_values_a)\n",
        "plt.title(\"A_phi(r = 1.1, theta) vs. theta\")\n",
        "plt.xlabel(\"theta (rad)\")\n",
        "plt.ylabel(\"A_phi\")\n",
        "plt.grid(True)\n",
        "plt.show()"
      ],
      "metadata": {
        "colab": {
          "base_uri": "https://localhost:8080/",
          "height": 1000
        },
        "id": "LuWD7QTIbp7U",
        "outputId": "9fea6b9b-b789-4bee-930d-50d6da213194"
      },
      "execution_count": 55,
      "outputs": [
        {
          "output_type": "stream",
          "name": "stdout",
          "text": [
            "nan\n",
            "0.10016600561197463\n",
            "0.2005124557190307\n",
            "0.3012207509049175\n",
            "0.4024742150268971\n",
            "0.5044590848286465\n",
            "0.6073655337867857\n",
            "0.711388742729328\n",
            "0.8167300307805958\n",
            "0.9235980615192756\n",
            "1.0322101409360127\n",
            "1.142793625900145\n",
            "1.2555874644779002\n",
            "1.370843892682482\n",
            "1.4888303162113672\n",
            "1.6098314106038794\n",
            "1.7341514792383177\n",
            "1.862117115954119\n",
            "1.9940802281726342\n",
            "2.1304214876426872\n",
            "2.271554289925947\n",
            "2.4179293212071897\n",
            "2.5700398529349844\n",
            "2.7284279124422275\n",
            "2.8936915127407055\n",
            "3.066493169345709\n",
            "3.2475699892019847\n",
            "3.4377456904636765\n",
            "3.6379450071928012\n",
            "3.8492110568511912\n",
            "4.072726409714754\n",
            "4.309838809535699\n",
            "4.562092768068541\n",
            "4.831268608470741\n",
            "5.119430978630302\n",
            "5.428989398519211\n",
            "5.76277401274359\n",
            "6.124130258159863\n",
            "6.517036239738167\n",
            "6.946245210583062\n",
            "7.417450043935085\n",
            "7.937450258018511\n",
            "8.51425772847672\n",
            "9.156959517733249\n",
            "9.874846013757004\n",
            "10.674500897762709\n",
            "11.551523235417857\n",
            "12.469411147671924\n",
            "13.316109145354432\n",
            "13.862937396351994\n",
            "13.862937396351994\n",
            "13.316109145354432\n",
            "12.469411147671924\n",
            "11.551523235417857\n",
            "10.674500897762709\n",
            "9.874846013757004\n",
            "9.156959517733249\n",
            "8.51425772847672\n",
            "7.937450258018511\n",
            "7.417450043935085\n",
            "6.946245210583062\n",
            "6.517036239738167\n",
            "6.124130258159863\n",
            "5.76277401274359\n",
            "5.428989398519211\n",
            "5.119430978630302\n",
            "4.831268608470743\n",
            "4.562092768068536\n",
            "4.309838809535699\n",
            "4.072726409714758\n",
            "3.849211056851192\n",
            "3.6379450071928012\n",
            "3.4377456904636765\n",
            "3.2475699892019847\n",
            "3.066493169345703\n",
            "2.8936915127406992\n",
            "2.7284279124422235\n",
            "2.5700398529349937\n",
            "2.4179293212071897\n",
            "2.271554289925947\n",
            "2.1304214876426952\n",
            "1.9940802281726346\n",
            "1.862117115954119\n",
            "1.7341514792383177\n",
            "1.609831410603874\n",
            "1.4888303162113476\n",
            "1.3708438926824822\n",
            "1.2555874644779002\n",
            "1.1427936259001383\n",
            "1.0322101409360198\n",
            "0.9235980615192756\n",
            "0.8167300307805877\n",
            "0.7113887427293366\n",
            "0.6073655337867966\n",
            "0.5044590848286465\n",
            "0.4024742150268817\n",
            "0.30122075090489847\n",
            "0.20051245571897255\n",
            "0.10016600561197461\n",
            "0.0\n"
          ]
        },
        {
          "output_type": "stream",
          "name": "stderr",
          "text": [
            "<ipython-input-54-064925430575>:22: RuntimeWarning: invalid value encountered in scalar divide\n",
            "  result *= ((2 - k_squared) * intelip_k(k) - 2 * intelip_e(k)) / k_squared\n"
          ]
        },
        {
          "output_type": "display_data",
          "data": {
            "text/plain": [
              "<Figure size 800x600 with 1 Axes>"
            ],
            "image/png": "[encoded data removed]"
          },
          "metadata": {}
        }
      ]
    },
    {
      "cell_type": "code",
      "source": [
        "\n",
        "# b) A_phi(r, theta = pi/3) vs. r\n",
        "r_valores = np.linspace(0, 10, 100)\n",
        "a_phi_values_b = [vector_potencial_phi(r=r, theta=np.pi/3) for r in r_valores]\n",
        "\n",
        "plt.figure(figsize=(8, 6))\n",
        "plt.plot(r_valores, a_phi_values_b)\n",
        "plt.title(\"A_phi(r, theta = pi/3) vs. r\")\n",
        "plt.xlabel(\"r\")\n",
        "plt.ylabel(\"A_phi\")\n",
        "plt.grid(True)\n",
        "plt.show()"
      ],
      "metadata": {
        "colab": {
          "base_uri": "https://localhost:8080/",
          "height": 1000
        },
        "id": "qnd0aeiMd3gm",
        "outputId": "7df49e7a-1c96-4084-ed53-c55db6754ba9"
      },
      "execution_count": 56,
      "outputs": [
        {
          "output_type": "stream",
          "name": "stderr",
          "text": [
            "<ipython-input-54-064925430575>:22: RuntimeWarning: invalid value encountered in scalar divide\n",
            "  result *= ((2 - k_squared) * intelip_k(k) - 2 * intelip_e(k)) / k_squared\n"
          ]
        },
        {
          "output_type": "stream",
          "name": "stdout",
          "text": [
            "nan\n",
            "0.8236416147872662\n",
            "1.6418180640377955\n",
            "2.445979012891804\n",
            "3.2208183465090574\n",
            "3.939847508513152\n",
            "4.561487635794527\n",
            "5.030210015486518\n",
            "5.290393742094077\n",
            "5.314395469317808\n",
            "5.1255036489543855\n",
            "4.789513036323349\n",
            "4.381521693323024\n",
            "3.959394812722186\n",
            "3.55726517889855\n",
            "3.190856695557225\n",
            "2.86481746546659\n",
            "2.5781386819824013\n",
            "2.3273583329851344\n",
            "2.1082392768637757\n",
            "1.916569463337597\n",
            "1.7485005588927798\n",
            "1.6006581557136523\n",
            "1.47014579528196\n",
            "1.3545043176447062\n",
            "1.2516563827007663\n",
            "1.159849945377614\n",
            "1.077606493100037\n",
            "1.0036760013141692\n",
            "0.9369987822945426\n",
            "0.876673648803786\n",
            "0.8219315576981528\n",
            "0.7721138727333907\n",
            "0.726654458087087\n",
            "0.6850649200188709\n",
            "0.6469224236002886\n",
            "0.6118596117260872\n",
            "0.5795562402407819\n",
            "0.5497322154914474\n",
            "0.5221417801483172\n",
            "0.49656864150577684\n",
            "0.4728218755371264\n",
            "0.4507324714192411\n",
            "0.43015040652430275\n",
            "0.41094216220592267\n",
            "0.3929886070745967\n",
            "0.37618318765809994\n",
            "0.36043037701318215\n",
            "0.345644340502416\n",
            "0.3317477849776355\n",
            "0.31867096333919387\n",
            "0.30635081112284573\n",
            "0.2947301956055001\n",
            "0.28375726107957405\n",
            "0.27338485655117994\n",
            "0.26357003427395137\n",
            "0.25427360932021176\n",
            "0.2454597718814008\n",
            "0.23709574523403887\n",
            "0.22915148334920027\n",
            "0.2215994029986585\n",
            "0.21441414594704752\n",
            "0.2075723674417848\n",
            "0.201052547738532\n",
            "0.19483482384687267\n",
            "0.1889008390608695\n",
            "0.18323360816329937\n",
            "0.1778173964693528\n",
            "0.1726376111128974\n",
            "0.16768070318236125\n",
            "0.1629340794885143\n",
            "0.15838602289785642\n",
            "0.1540256202958569\n",
            "0.14984269735773664\n",
            "0.1458277594024182\n",
            "0.1419719376908852\n",
            "0.1382669406044764\n",
            "0.13470500920346024\n",
            "0.13127887672310745\n",
            "0.12798173161396503\n",
            "0.12480718377683794\n",
            "0.12174923368096446\n",
            "0.11880224408782993\n",
            "0.11596091413257145\n",
            "0.11322025554124551\n",
            "0.11057557078527114\n",
            "0.10802243299507257\n",
            "0.10555666747289771\n",
            "0.10317433466115532\n",
            "0.10087171443682101\n",
            "0.0986452916153585\n",
            "0.09649174255888561\n",
            "0.09440792279361351\n",
            "0.09239085555062342\n",
            "0.09043772115210792\n",
            "0.0885458471726788\n",
            "0.08671269931168903\n",
            "0.08493587291852936\n",
            "0.08321308511807754\n",
            "0.0815421674882324\n"
          ]
        },
        {
          "output_type": "display_data",
          "data": {
            "text/plain": [
              "<Figure size 800x600 with 1 Axes>"
            ],
            "image/png": "[encoded data removed]"
          },
          "metadata": {}
        }
      ]
    },
    {
      "cell_type": "markdown",
      "source": [
        "# 3\n",
        "\n",
        "(**40 puntos**) El **método de la potencia inversa** es una técnica iterativa utilizada para calcular el autovalor de menor magnitud de una matriz cuadrada. Es una variante del **método de la potencia**, que normalmente encuentra el autovalor de mayor magnitud. Para ello, se aprovecha la propiedad de la matriz inversa:\n",
        "\n",
        "$$ A^{-1} v = \\frac{1}{\\lambda} v $$\n",
        "\n",
        "\n",
        "## Algoritmo\n",
        "\n",
        "El método de la potencia inversa sigue los siguientes pasos:\n",
        "\n",
        "1. Elegir un vector inicial $x^{(0)}$ no nulo.\n",
        "\n",
        "2. Para cada iteración $k$, resolver el sistema lineal:\n",
        "   \n",
        "   $$ A y^{(k)} = x^{(k-1)} $$\n",
        "   \n",
        "   donde $y^{(k)}$ es un **vector intermedio** que se obtiene resolviendo el sistema lineal. Este vector representa la solución del sistema en cada iteración y es crucial para aproximar el autovector de menor autovalor.\n",
        "\n",
        "3. Normalizar $y^{(k)}$ para obtener un nuevo vector de iteración:\n",
        "   \n",
        "   $$ x^{(k)} = \\frac{y^{(k)}}{\\| y^{(k)} \\|} $$\n",
        "   \n",
        "4. Aproximar el autovalor mediante el cociente de Rayleigh:\n",
        "   \n",
        "   $$ \\lambda^{(k)} = \\frac{(x^{(k)})^T A x^{(k)}}{(x^{(k)})^T x^{(k)}} $$\n",
        "   \n",
        "5. Repetir los pasos anteriores hasta que la diferencia entre valores sucesivos de $\\lambda$ sea menor que un umbral de tolerancia.\n",
        "\n",
        "---\n",
        "\n",
        "*a)* Escriba una función llamada `potencia_inversa` que dada una matriz A encuentre su valor propio menos dominante (con una tolerancia de 1e-7 usando la norma Euclidiana) y su correspondiente autovector. Para obtener $y^{(k)}$ puede emplear `np.linalg.solve` recordando que $Ay = x$.\n",
        "\n",
        "*b)* Usando la matriz A, encuentre el $\\lambda_{min}$ y el correspondiente autovector. Examine la convergencia de su autovalor en función de las iteraciones, esto es, haga un gráfico de $\\lambda(k)$\n",
        "\n",
        "$$\n",
        "\\begin{bmatrix}\n",
        "5 & 2 \\\\\n",
        "2 & 2\n",
        "\\end{bmatrix}\n",
        "$$\n",
        "\n",
        "*c)* Compare su resultado con `np.linalg.eig`"
      ],
      "metadata": {
        "id": "pKubcNlWP0nc"
      }
    },
    {
      "cell_type": "code",
      "source": [
        "# Aqui va su código\n",
        "\n",
        "#a\n",
        "\n",
        "def potencia_inversa(A, tol=1e-7):\n",
        "\n",
        "  n = A.shape[0]  # Tamaño de A\n",
        "  x = np.random.rand(n)  # Vector inicial aleatorio, generando un A 2x2 aleatorio\n",
        "  x = x / np.linalg.norm(x)  # Normalizar el vector inicial\n",
        "  lambda_anterior = 0  # Iniciar el valor propio anterior\n",
        "\n",
        "  while True:\n",
        "    y = np.linalg.solve(A, x)  # Resolver el sistema lineal Ay = x\n",
        "    x = y / np.linalg.norm(y)  # Normaliza y\n",
        "    lambda_actual = x.T @ A @ x  # Calcular el valor propio actual\n",
        "\n",
        "    #conver\n",
        "    if abs(lambda_actual - lambda_anterior) < tol:\n",
        "      break\n",
        "\n",
        "    lambda_anterior = lambda_actual  # Actualizar el valor propio anterior\n",
        "\n",
        "  return lambda_actual, x\n",
        "\n",
        "#Dada una matriz A cualquiera,  aqui el apartado en donde se crea A aleatoriamentre, importante ejecytar este codigo y LUEGO el siguiente\n",
        "#ya que el siguiente es dependiente de este\n",
        "\n",
        "  #random 2x2 A\n",
        "A = np.random.rand(2, 2)\n",
        "\n",
        "lambda_min, autovector = potencia_inversa(A)\n",
        "\n",
        "print(\"Matriz A:\")\n",
        "print(A)\n",
        "print(\"\\nAutovalor mínimo:\", lambda_min)\n",
        "print(\"Autovector correspondiente:\", autovector)"
      ],
      "metadata": {
        "id": "ZhnTbHAgP4XJ",
        "colab": {
          "base_uri": "https://localhost:8080/"
        },
        "outputId": "13b338e2-3f69-4aad-b268-250893f3ef48"
      },
      "execution_count": 57,
      "outputs": [
        {
          "output_type": "stream",
          "name": "stdout",
          "text": [
            "Matriz A:\n",
            "[[0.65365161 0.8485301 ]\n",
            " [0.36555607 0.38061016]]\n",
            "\n",
            "Autovalor mínimo: -0.05630022833638762\n",
            "Autovector correspondiente: [-0.76695581  0.64169991]\n"
          ]
        }
      ]
    },
    {
      "cell_type": "code",
      "source": [
        "# Definir la matriz A del ejercicio SI SE QUIERE COMPROBAR EL EJ QUITARLE EL # A LA LINEA DE ABAJOO\n",
        "#A = np.array([[5, 2], [2, 2]])\n",
        "\n",
        "\n",
        "#Aunque sinceramente creo que hay un error, ya que aunque el cod anterior de un A aleatorio, la grafica termina siendo siempre la misma\n",
        "#  EDIT: Ya no hay error estoy feliz :)\n",
        "\n",
        "\n",
        "# b)\n",
        "autovalores_potencia_inversa = []  # Lista para almacenar los autovalores en cada iteración\n",
        "\n",
        "def potencia_inversa_con_seguimiento(A, tol=1e-7):\n",
        "    n = A.shape[0]\n",
        "    x = np.random.rand(n)\n",
        "    x = x / np.linalg.norm(x)\n",
        "    lambda_anterior = 0\n",
        "\n",
        "    while True:\n",
        "        y = np.linalg.solve(A, x)\n",
        "        x = y / np.linalg.norm(y)\n",
        "        lambda_actual = x.T @ A @ x\n",
        "\n",
        "        autovalores_potencia_inversa.append(lambda_actual)  # Agregar el autovalor a la lista\n",
        "\n",
        "        if abs(lambda_actual - lambda_anterior) < tol:\n",
        "            break\n",
        "\n",
        "        lambda_anterior = lambda_actual\n",
        "\n",
        "    return lambda_actual, x\n",
        "\n",
        "lambda_min, autovector = potencia_inversa_con_seguimiento(A)\n",
        "\n",
        "print(\"Autovalor mínimo (potencia inversa):\", lambda_min)\n",
        "print(\"Autovector correspondiente:\", autovector)\n",
        "\n",
        "# Graficar la convergencia\n",
        "plt.plot(autovalores_potencia_inversa)\n",
        "plt.title(\"Convergencia del autovalor (Potencia Inversa)\")\n",
        "plt.xlabel(\"Iteraciones\")\n",
        "plt.ylabel(\"Autovalor/valor propio\")\n",
        "plt.grid(True)\n",
        "plt.show()\n",
        "\n",
        "# c)\n",
        "autovalores_eig, autovectores_eig = np.linalg.eig(A)\n",
        "\n",
        "# Encontrar el índice del min valor propio\n",
        "indice_min = np.argmin(autovalores_eig)\n",
        "lambda_min_eig = autovalores_eig[indice_min]\n",
        "autovector_eig = autovectores_eig[:, indice_min]\n",
        "\n",
        "print(\"\\nAutovalor mínimo (np.linalg.eig):\", lambda_min_eig)\n",
        "print(\"Autovector correspondiente:\", autovector_eig)\n",
        "\n",
        "#Comparar\n",
        "print(\"\\n son parecidos?\", np.isclose(lambda_min, lambda_min_eig))"
      ],
      "metadata": {
        "colab": {
          "base_uri": "https://localhost:8080/",
          "height": 594
        },
        "id": "wLppavmGh3Qu",
        "outputId": "cfefe120-269c-4914-9933-be53dbf4091e"
      },
      "execution_count": 58,
      "outputs": [
        {
          "output_type": "stream",
          "name": "stdout",
          "text": [
            "Autovalor mínimo (potencia inversa): -0.05630022054948844\n",
            "Autovector correspondiente: [ 0.76695582 -0.6416999 ]\n"
          ]
        },
        {
          "output_type": "display_data",
          "data": {
            "text/plain": [
              "<Figure size 640x480 with 1 Axes>"
            ],
            "image/png": "[encoded data removed]"
          },
          "metadata": {}
        },
        {
          "output_type": "stream",
          "name": "stdout",
          "text": [
            "\n",
            "Autovalor mínimo (np.linalg.eig): -0.0563002235139331\n",
            "Autovector correspondiente: [-0.76695582  0.64169991]\n",
            "\n",
            " son parecidos? True\n"
          ]
        }
      ]
    },
    {
      "cell_type": "markdown",
      "source": [
        "#4\n",
        "\n",
        "**(10 puntos)**\n",
        "Sea $A$ una matriz cuadrada de tamaño $n \\times n$. Se sabe que el determinante de una matriz es igual al producto de sus autovalores:\n",
        "\n",
        "$$\n",
        "\\det(A) = \\prod_{i=1}^{n} \\lambda_i\n",
        "$$\n",
        "\n",
        "donde $\\lambda_1, \\lambda_2, \\dots, \\lambda_n$ son los autovalores de $A$.\n",
        "\n",
        "Usando una matriz aleatoria $A$ de $5\\times 5$, demuestre esta propiedad. Puede usar las funciones de `np.linalg`."
      ],
      "metadata": {
        "id": "Qz8QJCjWYds5"
      }
    },
    {
      "cell_type": "code",
      "source": [
        "#matriz random 5x5\n",
        "A = np.random.rand(5, 5)\n",
        "\n",
        "det_A = la.det(A)\n",
        "\n",
        "# vaolers propios A\n",
        "eigenvalues = la.eigvals(A)\n",
        "\n",
        "mult_eigenvalues = np.prod(eigenvalues)\n",
        "real_mult_eigenvalues = np.real(mult_eigenvalues)\n",
        "\n",
        "print(\"Determinante de A:\", det_A)\n",
        "print(\"Producto de los valores propios matriz A:\", mult_eigenvalues)\n",
        "\n",
        "print(\"\\nParte real del producto de los valores propios matriz A:\", real_mult_eigenvalues)\n",
        "\n",
        "# Comparar\n",
        "print(\"\\n son parecidos?\", np.isclose(det_A, real_mult_eigenvalues))\n"
      ],
      "metadata": {
        "id": "TCWf5TUwYgKq",
        "colab": {
          "base_uri": "https://localhost:8080/"
        },
        "outputId": "abe6b514-6a40-4a36-c083-91b9d2117870"
      },
      "execution_count": 59,
      "outputs": [
        {
          "output_type": "stream",
          "name": "stdout",
          "text": [
            "Determinante de A: 0.012762149561387881\n",
            "Producto de los valores propios matriz A: (0.01276214956138791-0j)\n",
            "\n",
            "Parte real del producto de los valores propios matriz A: 0.01276214956138791\n",
            "\n",
            " son parecidos? True\n"
          ]
        }
      ]
    }
  ]
}