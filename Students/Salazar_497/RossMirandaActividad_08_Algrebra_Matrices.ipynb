{
  "nbformat": 4,
  "nbformat_minor": 0,
  "metadata": {
    "colab": {
      "provenance": [],
      "collapsed_sections": [
        "szDD-eJhzKbw",
        "Qch9PhTQ0Klk"
      ]
    },
    "kernelspec": {
      "name": "python3",
      "display_name": "Python 3"
    },
    "language_info": {
      "name": "python"
    }
  },
  "cells": [
    {
      "cell_type": "code",
      "execution_count": 1,
      "metadata": {
        "id": "z7RCty67y3ME"
      },
      "outputs": [],
      "source": [
        "import numpy as np\n",
        "import matplotlib.pyplot as plt\n",
        "import scipy.linalg as la"
      ]
    },
    {
      "cell_type": "markdown",
      "source": [
        "# Actividad 08: Algebra Lineal y Matrices\n",
        "\n",
        "---\n",
        "### Profesor: Juan Marcos Marín\n",
        "### Nombre: Ross Anthony Miranda D'Angelo\n",
        "*Métodos computacionales 2024-II*\n",
        "\n",
        "---"
      ],
      "metadata": {
        "id": "GGQpGoujzAnQ"
      }
    },
    {
      "cell_type": "markdown",
      "source": [
        "#1\n",
        "\n",
        "Escriba una función que calcule el producto escalar y vectorial para dos vectores, compare sus resultados con `np.dot` y `np.cross`."
      ],
      "metadata": {
        "id": "szDD-eJhzKbw"
      }
    },
    {
      "cell_type": "code",
      "source": [
        "def productos_vectores(v1, v2):\n",
        "    # Producto escalar manual\n",
        "    escalar_manual = sum(a * b for a, b in zip(v1, v2))\n",
        "    escalar_np = np.dot(v1, v2)\n",
        "\n",
        "    # Producto vectorial manual (solo para vectores 3D)\n",
        "    vectorial_manual = [\n",
        "        v1[1] * v2[2] - v1[2] * v2[1],\n",
        "        v1[2] * v2[0] - v1[0] * v2[2],\n",
        "        v1[0] * v2[1] - v1[1] * v2[0]\n",
        "    ] if len(v1) == 3 and len(v2) == 3 else \"Solo para vectores 3D\"\n",
        "\n",
        "    vectorial_np = np.cross(v1, v2) if len(v1) == 3 and len(v2) == 3 else \"Solo para vectores 3D\"\n",
        "\n",
        "    return {\n",
        "        \"Producto escalar manual\": escalar_manual,\n",
        "        \"Producto escalar np.dot\": escalar_np,\n",
        "        \"Producto vectorial manual\": vectorial_manual,\n",
        "        \"Producto vectorial np.cross\": vectorial_np\n",
        "    }\n",
        "\n",
        "# Ej\n",
        "v1 = [1, 2, 3]\n",
        "v2 = [4, 5, 6]\n",
        "resultados = productos_vectores(v1, v2)\n",
        "\n",
        "for key, value in resultados.items():\n",
        "    print(f\"{key}: {value}\")\n"
      ],
      "metadata": {
        "id": "KlxyKMOIzBDZ",
        "colab": {
          "base_uri": "https://localhost:8080/"
        },
        "outputId": "4a5b738f-8ae0-480c-a80c-9469f0195fc6"
      },
      "execution_count": 2,
      "outputs": [
        {
          "output_type": "stream",
          "name": "stdout",
          "text": [
            "Producto escalar manual: 32\n",
            "Producto escalar np.dot: 32\n",
            "Producto vectorial manual: [-3, 6, -3]\n",
            "Producto vectorial np.cross: [-3  6 -3]\n"
          ]
        }
      ]
    },
    {
      "cell_type": "code",
      "source": [
        "def productos_vectores(v1, v2):\n",
        "    # Producto escalar para cualquier dimensión\n",
        "    escalar_manual = sum(a * b for a, b in zip(v1, v2))\n",
        "    escalar_np = np.dot(v1, v2)\n",
        "\n",
        "    # Producto vectorial (solo definido para dimensiones 2 y 3)\n",
        "    if len(v1) == len(v2) and len(v1) in [2, 3]:\n",
        "        vectorial_np = np.cross(v1, v2)\n",
        "        if len(v1) == 2:\n",
        "            # Producto vectorial en 2D se representa como un escalar (z)\n",
        "            vectorial_manual = v1[0] * v2[1] - v1[1] * v2[0]\n",
        "        else:\n",
        "            # Producto vectorial en 3D\n",
        "            vectorial_manual = [\n",
        "                v1[1] * v2[2] - v1[2] * v2[1],\n",
        "                v1[2] * v2[0] - v1[0] * v2[2],\n",
        "                v1[0] * v2[1] - v1[1] * v2[0]\n",
        "            ]\n",
        "    else:\n",
        "        vectorial_manual = \"No definido\"\n",
        "        vectorial_np = \"No definido para +3D\"\n",
        "\n",
        "    return {\n",
        "        \"Producto escalar manual\": escalar_manual,\n",
        "        \"Producto escalar np.dot\": escalar_np,\n",
        "        \"Producto vectorial manual\": vectorial_manual,\n",
        "        \"Producto vectorial np.cross\": vectorial_np\n",
        "    }\n",
        "\n",
        "# Ej\n",
        "v1 = [1, 2, 3, 4, 5]  # Hay que ir probando\n",
        "v2 = [4, 5, 6, 7, 8]\n",
        "resultados = productos_vectores(v1, v2)\n",
        "\n",
        "for key, value in resultados.items():\n",
        "    print(f\"{key}: {value}\")\n"
      ],
      "metadata": {
        "colab": {
          "base_uri": "https://localhost:8080/"
        },
        "id": "_miKGfO4ter7",
        "outputId": "b6572b31-1cb9-4823-c20e-7dfff1eb385a"
      },
      "execution_count": 3,
      "outputs": [
        {
          "output_type": "stream",
          "name": "stdout",
          "text": [
            "Producto escalar manual: 100\n",
            "Producto escalar np.dot: 100\n",
            "Producto vectorial manual: No definido\n",
            "Producto vectorial np.cross: No definido para +3D\n"
          ]
        }
      ]
    },
    {
      "cell_type": "markdown",
      "source": [
        "#2\n",
        "\n",
        "Crear una función llamada `mulmat()` donde a partir de dos matrices $A$ y $B$ encuentre su multplicación. También realiza una función que calcule la transpuesta y otra el determinante de una matriz $3\\times 3$. Compare sus resultado con `@`, `np.dot`, `transpose` y `la.det`."
      ],
      "metadata": {
        "id": "Qch9PhTQ0Klk"
      }
    },
    {
      "cell_type": "code",
      "source": [
        "\n",
        "from pprint import pprint #por fines esteticos\n",
        "\n",
        "# Función mult mat\n",
        "def mulmat(A, B):\n",
        "    filas_A, cols_A = len(A), len(A[0])\n",
        "    filas_B, cols_B = len(B), len(B[0])\n",
        "\n",
        "    if cols_A != filas_B:\n",
        "        raise ValueError(\"Las dimensiones de las matrices no permiten la multiplicación.\")\n",
        "\n",
        "    # Multi. MANUAL\n",
        "    resultado_manual = [[sum(A[i][k] * B[k][j] for k in range(cols_A)) for j in range(cols_B)] for i in range(filas_A)]\n",
        "\n",
        "    # Usando ahora numpy\n",
        "    resultado_np_dot = np.dot(A, B).tolist()\n",
        "    resultado_arroba = (np.array(A) @ np.array(B)).tolist()\n",
        "\n",
        "    return {\n",
        "        \"Multiplicación manual\": resultado_manual,\n",
        "        \"Multiplicación np.dot\": resultado_np_dot,\n",
        "        \"Multiplicación @\": resultado_arroba\n",
        "    }\n",
        "\n",
        "# Función transpuesta\n",
        "def transpuesta(M):\n",
        "    transpuesta_manual = [[M[j][i] for j in range(len(M))] for i in range(len(M[0]))]\n",
        "    transpuesta_np = np.transpose(M).tolist()\n",
        "\n",
        "    return {\n",
        "        \"Transpuesta manual\": transpuesta_manual,\n",
        "        \"Transpuesta np.transpose\": transpuesta_np\n",
        "    }\n",
        "\n",
        "# Función det de una matriz 3x3\n",
        "def determinante_3x3(M):\n",
        "    if len(M) != 3 or len(M[0]) != 3:\n",
        "        raise ValueError(\"La matriz debe ser de 3x3 para calcular el determinante.\")\n",
        "\n",
        "    #(regla de Sarrus)\n",
        "    det_manual = (M[0][0] * M[1][1] * M[2][2] + M[0][1] * M[1][2] * M[2][0] + M[0][2] * M[1][0] * M[2][1]) - \\\n",
        "                 (M[0][2] * M[1][1] * M[2][0] + M[0][0] * M[1][2] * M[2][1] + M[0][1] * M[1][0] * M[2][2])\n",
        "\n",
        "    # Usando numpy\n",
        "    det_np = float(np.linalg.det(M))  # Convertimos a float para mayor claridad\n",
        "\n",
        "    return {\n",
        "        \"Determinante manual\": det_manual,\n",
        "        \"Determinante np.linalg.det\": det_np\n",
        "    }\n",
        "\n",
        "# Ej...\n",
        "A = [[1, 2, 3], [4, 5, 6], [7, 8, 9]]\n",
        "B = [[9, 8, 7], [6, 5, 4], [3, 2, 1]]\n",
        "\n",
        "print(\"Resultado de la multiplicación de matrices:\")\n",
        "pprint(mulmat(A, B))\n",
        "\n",
        "print(\"\\nResultado de la transpuesta:\")\n",
        "pprint(transpuesta(A))\n",
        "\n",
        "print(\"\\nResultado del determinante:\")\n",
        "pprint(determinante_3x3(A))\n"
      ],
      "metadata": {
        "id": "cQQ6cPGW1anK",
        "colab": {
          "base_uri": "https://localhost:8080/"
        },
        "outputId": "0c72f260-0b77-42d4-d75a-85abca953151"
      },
      "execution_count": 4,
      "outputs": [
        {
          "output_type": "stream",
          "name": "stdout",
          "text": [
            "Resultado de la multiplicación de matrices:\n",
            "{'Multiplicación @': [[30, 24, 18], [84, 69, 54], [138, 114, 90]],\n",
            " 'Multiplicación manual': [[30, 24, 18], [84, 69, 54], [138, 114, 90]],\n",
            " 'Multiplicación np.dot': [[30, 24, 18], [84, 69, 54], [138, 114, 90]]}\n",
            "\n",
            "Resultado de la transpuesta:\n",
            "{'Transpuesta manual': [[1, 4, 7], [2, 5, 8], [3, 6, 9]],\n",
            " 'Transpuesta np.transpose': [[1, 4, 7], [2, 5, 8], [3, 6, 9]]}\n",
            "\n",
            "Resultado del determinante:\n",
            "{'Determinante manual': 0, 'Determinante np.linalg.det': 0.0}\n"
          ]
        }
      ]
    },
    {
      "cell_type": "markdown",
      "source": [
        "#3\n",
        "Escriba tres matrices aleatorias $A$, $B$ y $C$ de $3\\times 3$, y demuestre las siguientes relaciones\n",
        "\n",
        "- $ \\mathbf{A}\\mathbf{B} \\neq \\mathbf{B}\\mathbf{A} $, en general.\n",
        "- $ (\\mathbf{A}\\mathbf{B})\\mathbf{C} = \\mathbf{A}(\\mathbf{B}\\mathbf{C}) $.\n",
        "- $ \\mathbf{A}(\\mathbf{B} + \\mathbf{C}) = \\mathbf{A}\\mathbf{B} + \\mathbf{A}\\mathbf{C} $.\n",
        "- $ (\\mathbf{A} + \\mathbf{B})\\mathbf{C} = \\mathbf{A}\\mathbf{C} + \\mathbf{B}\\mathbf{C} $.\n",
        "- $ (\\mathbf{A}\\mathbf{B})^\\top = \\mathbf{B}^\\top \\mathbf{A}^\\top $.\n",
        "- $ \\det(\\mathbf{A}\\mathbf{B}) = \\det(\\mathbf{A}) \\det(\\mathbf{B}) $.\n",
        "- $ (\\mathbf{A}^\\top)^\\top = \\mathbf{A} $.\n",
        "- $ (c\\mathbf{A})^\\top = c\\mathbf{A}^\\top $.\n",
        "- $ (\\mathbf{A} + \\mathbf{B})^\\top = \\mathbf{A}^\\top + \\mathbf{B}^\\top $.\n",
        "\n"
      ],
      "metadata": {
        "id": "U9hC1R-F0-iH"
      }
    },
    {
      "cell_type": "code",
      "source": [
        "#matrices aleatorias de 3x3\n",
        "np.random.seed(42)  # Fijar semilla para reproducibilidad\n",
        "A = np.random.randint(-10, 10, (3, 3))\n",
        "B = np.random.randint(-10, 10, (3, 3))\n",
        "C = np.random.randint(-10, 10, (3, 3))\n",
        "c = 5  # Escalar arbitrario, puede ser cambiado, y recomiendo ir probando por favor\n",
        "\n",
        "# Verificar propiedades PUNTO POR PUNTO\n",
        "print(\"Matrices generadas:\")\n",
        "print(\"A:\\n\", A)\n",
        "print(\"B:\\n\", B)\n",
        "print(\"C:\\n\", C)\n",
        "\n",
        "# 1. AB ≠ BA, en general.\n",
        "print(\"\\nAB ≠ BA, en general:\")\n",
        "print(\"AB:\\n\", A @ B)\n",
        "print(\"BA:\\n\", B @ A)\n",
        "\n",
        "# 2. (AB)C = A(BC)\n",
        "print(\"\\n(AB)C == A(BC):\", np.allclose((A @ B) @ C, A @ (B @ C)))\n",
        "\n",
        "# 3. A(B + C) = AB + AC\n",
        "print(\"\\nA(B + C) == AB + AC:\", np.allclose(A @ (B + C), (A @ B) + (A @ C)))\n",
        "\n",
        "# 4. (A + B)C = AC + BC\n",
        "print(\"\\n(A + B)C == AC + BC:\", np.allclose((A + B) @ C, (A @ C) + (B @ C)))\n",
        "\n",
        "# 5. (AB)^T = B^T A^T\n",
        "print(\"\\n(AB)^T == B^T A^T:\", np.allclose((A @ B).T, B.T @ A.T))\n",
        "\n",
        "# 6. det(AB) = det(A) det(B)\n",
        "print(\"\\ndet(AB) == det(A) * det(B):\", np.isclose(np.linalg.det(A @ B), np.linalg.det(A) * np.linalg.det(B)))\n",
        "\n",
        "# 7. (A^T)^T = A\n",
        "print(\"\\n(A^T)^T == A:\", np.allclose(A.T.T, A))\n",
        "\n",
        "# 8. (cA)^T = c A^T\n",
        "print(\"\\n(cA)^T == c A^T:\", np.allclose((c * A).T, c * A.T))\n",
        "\n",
        "# 9. (A + B)^T = A^T + B^T\n",
        "print(\"\\n(A + B)^T == A^T + B^T:\", np.allclose((A + B).T, A.T + B.T))\n"
      ],
      "metadata": {
        "colab": {
          "base_uri": "https://localhost:8080/"
        },
        "id": "aNxZXYvCvkuG",
        "outputId": "c97d8d19-92b2-4dde-a9cd-3ba0d86bdc4b"
      },
      "execution_count": 10,
      "outputs": [
        {
          "output_type": "stream",
          "name": "stdout",
          "text": [
            "Matrices generadas:\n",
            "A:\n",
            " [[-4  9  4]\n",
            " [ 0 -3 -4]\n",
            " [ 8  0  0]]\n",
            "B:\n",
            " [[ -7  -3  -8]\n",
            " [ -9   1  -5]\n",
            " [ -9 -10   1]]\n",
            "C:\n",
            " [[ 1  6 -1]\n",
            " [ 5  4  4]\n",
            " [ 8  1  9]]\n",
            "\n",
            "AB ≠ BA, en general:\n",
            "AB:\n",
            " [[-89 -19  -9]\n",
            " [ 63  37  11]\n",
            " [-56 -24 -64]]\n",
            "BA:\n",
            " [[-36 -54 -16]\n",
            " [ -4 -84 -40]\n",
            " [ 44 -51   4]]\n",
            "\n",
            "(AB)C == A(BC): True\n",
            "\n",
            "A(B + C) == AB + AC: True\n",
            "\n",
            "(A + B)C == AC + BC: True\n",
            "\n",
            "(AB)^T == B^T A^T: True\n",
            "\n",
            "det(AB) == det(A) * det(B): True\n",
            "\n",
            "(A^T)^T == A: True\n",
            "\n",
            "(cA)^T == c A^T: True\n",
            "\n",
            "(A + B)^T == A^T + B^T: True\n"
          ]
        }
      ]
    },
    {
      "cell_type": "markdown",
      "source": [
        "#4\n",
        "\n",
        "El **Teorema de Laplace** es un método para calcular el determinante de una matriz cuadrada, particularmente útil para matrices de orden mayor a 2. Este teorema se basa en la expansión del determinante por los elementos de una fila o una columna cualquiera.\n",
        "\n",
        "\n",
        "\n",
        "$$\n",
        "\\det(A) = \\sum_{j=1}^n (-1)^{1+j} a_{1j} M_{1j}\n",
        "$$\n",
        "\n",
        "donde:\n",
        "- $a_{1j}$ es el elemento de la primera fila y columna $j$.\n",
        "- $M_{1j}$ es el menor asociado al elemento $a_{1j}$, es decir, el determinante de la submatriz de $3 \\times 3$ que se obtiene al eliminar la fila 1 y la columna $j$.\n",
        "- $(-1)^{1+j}$ es el signo correspondiente al cofactor del elemento $a_{1j}$.\n",
        "\n",
        "Podemos realizar una función recursiva para el cálculo del determinante, sabiendo que el valor del determinante de una matriz de orden uno es el único elemento de esa matriz, y el de una matriz de orden superior a uno es la suma de cada uno de los elementos de una fila o columna por los Adjuntos a ese elemento, como en la función recursiva se emplea la misma función definida el cálculo lo haremos por Menor complementario, un ejemplo desarrollado por la primera fila sería:\n",
        "\n",
        "$$\n",
        "   \\det (A_{j,j}) =\n",
        "   \\left \\{\n",
        "   \\begin{array}{llcl}\n",
        "      si & j = 1 & \\to & a_{1,1} \\\\\n",
        "                                 \\\\\n",
        "      si & j > 1 & \\to & \\displaystyle \\sum_{k=1}^j \\; (-1)^{(1+k)} \\cdot a_{1,k} \\cdot \\det( \\alpha_{1,k})\n",
        "   \\end{array}\n",
        "   \\right .\n",
        "$$\n",
        "\n",
        "Realice una función que encuentre el determinante de una matriz usando la recursividad aqui planteada, explique explicitamente su código"
      ],
      "metadata": {
        "id": "ibYf2I9T2pIw"
      }
    },
    {
      "cell_type": "code",
      "source": [
        "import numpy as np\n",
        "\n",
        "def determinante_laplace(A):\n",
        "    # Caso 1: si la matriz es 1x1, el determinante es el único elemento que hay\n",
        "    if A.shape == (1, 1):\n",
        "        return A[0, 0]\n",
        "\n",
        "    # Caso 2: determinante de una matriz 2x2\n",
        "    if A.shape == (2, 2):\n",
        "        return A[0, 0] * A[1, 1] - A[0, 1] * A[1, 0]\n",
        "\n",
        "    #Ahora algo general\n",
        "\n",
        "    # Expansión de Laplace por la primera fila\n",
        "    det = 0\n",
        "    n = A.shape[0]\n",
        "    for j in range(n):\n",
        "        # Menor asociado a A[0, j]: se elimina la fila 0 y columna j\n",
        "        menor = np.delete(np.delete(A, 0, axis=0), j, axis=1)\n",
        "        cofactor = (-1) ** (j) * A[0, j] * determinante_laplace(menor)\n",
        "        det += cofactor\n",
        "\n",
        "    return det\n",
        "\n",
        "# Ejemplo de uso\n",
        "A = np.array([[3, 0, -1],\n",
        "              [2, -3, 2],\n",
        "              [1, 4, 5]])\n",
        "\n",
        "print(\"Determinante de A:\", determinante_laplace(A))\n"
      ],
      "metadata": {
        "id": "-8tYERLHtrtY",
        "colab": {
          "base_uri": "https://localhost:8080/"
        },
        "outputId": "d28c0967-4d73-4528-a595-27edbf4943ed"
      },
      "execution_count": 6,
      "outputs": [
        {
          "output_type": "stream",
          "name": "stdout",
          "text": [
            "Determinante de A: -80\n"
          ]
        }
      ]
    },
    {
      "cell_type": "markdown",
      "source": [
        "Se elige la primera fila para la expansión de Laplace.\n",
        "Se calcula cada menor eliminando la fila 0 y la columna correspondiente.\n",
        "Se aplica recursividad hasta llegar a\n",
        "1×1.\n",
        "Se suma cada cofactor ponderado con\n",
        "(−1)\n",
        "^[1+j]\n",
        " .\n"
      ],
      "metadata": {
        "id": "b0csYzfVw57V"
      }
    },
    {
      "cell_type": "markdown",
      "source": [
        "#5\n",
        "\n",
        "El método de Jacobi reescribe el sistema $ Ax = b $ descomponiendo la matriz $ A $ como:\n",
        "\n",
        "$$\n",
        "A = D + L + U,\n",
        "$$\n",
        "\n",
        "donde:\n",
        "- $ D $: Matriz diagonal de $ A $,\n",
        "- $ L $: Matriz triangular inferior sin la diagonal,\n",
        "- $ U $: Matriz triangular superior sin la diagonal.\n",
        "\n",
        "El sistema se reorganiza como:\n",
        "\n",
        "$$\n",
        "x = D^{-1}(b - (L + U)x).\n",
        "$$\n",
        "\n",
        "Esto se implementa iterativamente como:\n",
        "\n",
        "$$\n",
        "x_i^{(k+1)} = \\frac{1}{a_{ii}} \\left(b_i - \\sum_{j \\neq i} a_{ij} x_j^{(k)}\\right),\n",
        "$$\n",
        "\n",
        "donde $ a_{ii} $ son los elementos diagonales de $ A $.\n",
        "\n",
        "* Escriba una función explicita que realice de manera iterativa este método con una tol = 1e-7 y un máximo de 100 iteraciones. Defina una documentación clara que explique los métodos usados, lasa entradas y salidas.\n",
        "\n",
        "* Para una matriz aleatoria 5$\\times$ 5, encuentre la solución usando su función y determine el error con respecto a `solve` y el método de inversa de matriz."
      ],
      "metadata": {
        "id": "9OcE-1QhSrI9"
      }
    },
    {
      "cell_type": "code",
      "source": [
        "def jacobi(A, b, tol=1e-7, max_iter=100):\n",
        "    \"\"\"\n",
        "    Resuelve Ax = b usando Jacobi.\n",
        "\n",
        "    Parámetros:\n",
        "    - A: Matriz de coeficientes (debe ser cuadrada y diagonalmente dominante).\n",
        "    - b: Vector de términos independientes.\n",
        "    - tol: Tolerancia para la convergencia.\n",
        "    - max_iter: Número máximo de iteraciones.\n",
        "\n",
        "    Retorna:\n",
        "    - x: Aproximación de la solución del sistema.\n",
        "    - iteraciones: Número de iteraciones realizadas.\n",
        "    \"\"\"\n",
        "    n = len(A)\n",
        "    x = np.zeros(n)  # Aproximación inicial (vector de ceros)\n",
        "    x_nuevo = np.copy(x)\n",
        "\n",
        "    for k in range(max_iter):\n",
        "        for i in range(n):\n",
        "            suma = sum(A[i, j] * x[j] for j in range(n) if j != i)\n",
        "            x_nuevo[i] = (b[i] - suma) / A[i, i]\n",
        "\n",
        "        # Verificar criterio de convergencia\n",
        "        if np.linalg.norm(x_nuevo - x, ord=np.inf) < tol:\n",
        "            return x_nuevo, k + 1  # Retorna solución y número de iteraciones\n",
        "\n",
        "        x = np.copy(x_nuevo)\n",
        "\n",
        "    return x, max_iter  # Retorna la mejor aproximación si no converge\n",
        "\n",
        "# Generación de una matriz aleatoria 5x5 diagonalmente dominante\n",
        "np.random.seed(42)\n",
        "A = np.random.randint(1, 10, (5, 5)).astype(float)\n",
        "np.fill_diagonal(A, np.sum(np.abs(A), axis=1) + 1)  # Asegura dominancia diagonal\n",
        "\n",
        "b = np.random.randint(1, 10, 5).astype(float)\n",
        "\n",
        "# Jacobi\n",
        "x_jacobi, iteraciones = jacobi(A, b)\n",
        "print(\"Solución con Jacobi:\", x_jacobi)\n",
        "print(\"Iteraciones:\", iteraciones)\n",
        "\n",
        "# Comparación con métodos exactos*\n",
        "x_solve = np.linalg.solve(A, b)  # Solución exacta con NumPy\n",
        "x_inv = np.dot(np.linalg.inv(A), b)  # Solución usando la inversa\n",
        "\n",
        "# Cálculo del error\n",
        "error_solve = np.linalg.norm(x_jacobi - x_solve, ord=np.inf)\n",
        "error_inv = np.linalg.norm(x_jacobi - x_inv, ord=np.inf)\n",
        "\n",
        "print(\"\\n Sol. solve:\", x_solve)\n",
        "print(\" Sol. inversa:\", x_inv)\n",
        "\n",
        "print(\"\\n Error con solve:\", error_solve)\n",
        "print(\"Error con inversa:\", error_inv)\n"
      ],
      "metadata": {
        "id": "PQqefGzMT3ks",
        "colab": {
          "base_uri": "https://localhost:8080/"
        },
        "outputId": "5f44a1be-c128-4df1-fe29-7b762fbad3da"
      },
      "execution_count": 7,
      "outputs": [
        {
          "output_type": "stream",
          "name": "stdout",
          "text": [
            "Solución con Jacobi: [0.12779292 0.04479416 0.22242231 0.01818415 0.12302184]\n",
            "Iteraciones: 69\n",
            "\n",
            " Sol. solve: [0.12779288 0.04479412 0.22242227 0.01818411 0.1230218 ]\n",
            " Sol. inversa: [0.12779288 0.04479412 0.22242227 0.01818411 0.1230218 ]\n",
            "\n",
            " Error con solve: 3.963644674975786e-08\n",
            "Error con inversa: 3.963644672200228e-08\n"
          ]
        }
      ]
    },
    {
      "cell_type": "markdown",
      "source": [
        "#6\n",
        "\n",
        "Verifique que cualquier matriz hermitiana de 2 × 2 $ L $ puede escribirse como una suma de cuatro términos:\n",
        "\n",
        "$$ L = a\\sigma_x + b\\sigma_y + c\\sigma_z + dI $$\n",
        "\n",
        "donde $ a $, $ b $, $ c $ y $ d $ son números reales.\n",
        "\n",
        "Las cuatro matrices de Pauli son:\n",
        "\n",
        "$$ \\sigma_x = \\begin{pmatrix} 0 & 1 \\\\ 1 & 0 \\end{pmatrix}, \\quad \\sigma_y = \\begin{pmatrix} 0 & -i \\\\ i & 0 \\end{pmatrix}, \\quad \\sigma_z = \\begin{pmatrix} 1 & 0 \\\\ 0 & -1 \\end{pmatrix}, \\quad I = \\begin{pmatrix} 1 & 0 \\\\ 0 & 1 \\end{pmatrix} $$\n",
        "\n",
        "\n"
      ],
      "metadata": {
        "id": "iggu2jNwVpnK"
      }
    },
    {
      "cell_type": "code",
      "source": [
        "# mat de Pauli y la identidad\n",
        "sigma_x = np.array([[0, 1], [1, 0]], dtype=complex)\n",
        "sigma_y = np.array([[0, -1j], [1j, 0]], dtype=complex)\n",
        "sigma_z = np.array([[1, 0], [0, -1]], dtype=complex)\n",
        "I = np.array([[1, 0], [0, 1]], dtype=complex)\n",
        "\n",
        "# Def matriz hermitiana general\n",
        "a, b, c, d = 2, -1, 3, 4  # Coeficientes reales\n",
        "L = a * sigma_x + b * sigma_y + c * sigma_z + d * I\n",
        "\n",
        "print(\"Matriz L generada:\")\n",
        "print(L)\n",
        "\n",
        "# Comprobamos que es hermitiana ya que seria (L = L^H)\n",
        "es_hermitiana = np.allclose(L, L.conj().T)\n",
        "print(\"\\n¿L es hermitiana?\", es_hermitiana)\n",
        "\n",
        "# Verificamos que cualquier matriz hermitiana se puede escribir en esta forma\n",
        "# Separamos los coeficientes a partir de L\n",
        "a_calc = 0.5 * np.trace(L @ sigma_x)\n",
        "b_calc = 0.5 * np.trace(L @ sigma_y)\n",
        "c_calc = 0.5 * np.trace(L @ sigma_z)\n",
        "d_calc = 0.5 * np.trace(L @ I)\n",
        "\n",
        "print(\"\\nCoeficientes calculados:\")\n",
        "print(f\"a = {a_calc}, b = {b_calc}, c = {c_calc}, d = {d_calc}\")\n",
        "\n",
        "# Reconstruimos L a partir de los coeficientes y verificamos si es igual a la original\n",
        "L_reconstruida = a_calc * sigma_x + b_calc * sigma_y + c_calc * sigma_z + d_calc * I\n",
        "es_correcta = np.allclose(L, L_reconstruida)\n",
        "\n",
        "print(\"\\n¿La matriz reconstruida es igual a L?\", es_correcta)\n"
      ],
      "metadata": {
        "id": "8WN9_cOCV7cM",
        "colab": {
          "base_uri": "https://localhost:8080/"
        },
        "outputId": "477b31e1-854a-4efe-e651-5e876acdc0ba"
      },
      "execution_count": 8,
      "outputs": [
        {
          "output_type": "stream",
          "name": "stdout",
          "text": [
            "Matriz L generada:\n",
            "[[7.+0.j 2.+1.j]\n",
            " [2.-1.j 1.+0.j]]\n",
            "\n",
            "¿L es hermitiana? True\n",
            "\n",
            "Coeficientes calculados:\n",
            "a = (2+0j), b = (-1+0j), c = (3+0j), d = (4+0j)\n",
            "\n",
            "¿La matriz reconstruida es igual a L? True\n"
          ]
        }
      ]
    }
  ]
}