{
  "cells": [
    {
      "cell_type": "code",
      "execution_count": null,
      "metadata": {
        "id": "rZuc8vXcWuxy"
      },
      "outputs": [],
      "source": [
        "#@title Librerias\n",
        "import numpy as np\n",
        "import matplotlib.pyplot as plt\n",
        "import pandas as pd\n",
        "import sympy as sp\n",
        "from scipy.integrate import simpson, romberg, trapezoid, quad, fixed_quad\n",
        "from scipy.special import roots_legendre\n",
        "from scipy.optimize import newton"
      ]
    },
    {
      "cell_type": "code",
      "source": [
        "import warnings\n",
        "warnings.filterwarnings(\"ignore\", category=DeprecationWarning)"
      ],
      "metadata": {
        "id": "q-OvjusI07GN"
      },
      "execution_count": null,
      "outputs": []
    },
    {
      "cell_type": "markdown",
      "metadata": {
        "id": "MGwGfceuWxy3"
      },
      "source": [
        "# Actividad 07: Integración\n",
        "\n",
        "---\n",
        "### Profesor: Juan Marcos Marín\n",
        "### Nombre: David Alejandro Pérez\n",
        "*Métodos computacionales 2024-II*\n",
        "\n",
        "---"
      ]
    },
    {
      "cell_type": "markdown",
      "metadata": {
        "id": "_qpgPAtHNgPB"
      },
      "source": [
        "#1\n",
        "* Implemente una función para el **método de integración de Romberg** definiendo un límite de tolerancia de 1e-8 y/o un máximo de iteraciones de 10.\n",
        "\n",
        "* Encuentre la integral para\n",
        "\n",
        "$$\\int_0^{\\pi/4} dx\\, e^{3x}\\cdot \\sin(x)$$\n",
        "\n",
        "* Imprima su resultado y compare los valores dados por `scipy.integrate.romberg`\n",
        "\n",
        "* Finalmente, encuentre el valor del error, hallando el valor exacto usando `sympy`\n",
        "\n"
      ]
    },
    {
      "cell_type": "code",
      "execution_count": null,
      "metadata": {
        "colab": {
          "base_uri": "https://localhost:8080/"
        },
        "id": "Y0nXXFcnNe2R",
        "outputId": "cced7b73-f35e-4f14-e917-7cc6425b9ff8"
      },
      "outputs": [
        {
          "output_type": "stream",
          "name": "stdout",
          "text": [
            "1.6069077219\t\n",
            "1.5958032029\t1.5921016966\t\n",
            "1.5930242688\t1.5920979574\t1.5920977081\t\n",
            "1.5923293598\t1.5920977235\t1.5920977079\t1.5920977079\t\n",
            "\n",
            "El valor de la integral mediante mi funcion de metodo de romberg es: 1.5920977078586798\n"
          ]
        }
      ],
      "source": [
        "#primero realizaremos una funcion que calcule el\n",
        "def trapezoide(f, a, b, n):\n",
        "  h = (b - a)/n\n",
        "  s= 0\n",
        "\n",
        "  for i in range(1, n):\n",
        "    xi = a + i*h\n",
        "    s += f(xi)\n",
        "\n",
        "  return (f(a) + 2*(s) + f(b))*(h/2)\n",
        "\n",
        "\n",
        "def romberg(f, a, b, tol = 1e-8, Nmax = 10):\n",
        "  n = 10\n",
        "  R = np.zeros((Nmax,Nmax))\n",
        "  R[0,0] = trapezoide(f, a, b, n)\n",
        "\n",
        "  for i in range(1, Nmax):\n",
        "    n = n*2\n",
        "    R[i,0] = trapezoide(f, a, b, n)\n",
        "    for j in range(1, Nmax):\n",
        "      if j <= i:\n",
        "        s = j - 1\n",
        "        R[i,j] = R[i, s] + ((R[i, s]- R[i - 1, s])/(4**(j) - 1))\n",
        "        #print(abs(R[i, i] - R[i - 1, i - 1]), R[i,i])\n",
        "\n",
        "\n",
        "    if abs(R[i, i] - R[i - 1, i - 1]) < tol:\n",
        "      I_t = R[i, i]\n",
        "      break\n",
        "\n",
        "\n",
        "  for i in range(np.shape(R)[0]):\n",
        "    text = ''\n",
        "    for j in range(np.shape(R)[1]):\n",
        "      if R[i,j] != 0:\n",
        "        text += f\"{R[i,j]:.10f}\\t\"\n",
        "    print(text)\n",
        "\n",
        "    if np.any([list(R[i]),list(np.zeros(np.shape(R)[1]))]) == False:\n",
        "      break\n",
        "\n",
        "\n",
        "  return I_t\n",
        "\n",
        "f = lambda x: np.exp(3*x)*np.sin(x)\n",
        "\n",
        "Ie = romberg(f, 0, np.pi/4, tol = 1e-8, Nmax = 10)\n",
        "\n",
        "\n",
        "print(f\"El valor de la integral mediante mi funcion de metodo de romberg es: {Ie}\")\n",
        "\n"
      ]
    },
    {
      "cell_type": "code",
      "execution_count": null,
      "metadata": {
        "id": "FnPrZic8Au1n",
        "colab": {
          "base_uri": "https://localhost:8080/"
        },
        "outputId": "b379b3f9-8c15-4e1d-d279-12b0ce57bd6b"
      },
      "outputs": [
        {
          "output_type": "stream",
          "name": "stdout",
          "text": [
            "El error que hay de la estimación por nuestra función\n",
            "para el método de integracion de romberg es de 2.220446049250313e-16\n"
          ]
        }
      ],
      "source": [
        "# con simpy:\n",
        "x_1 = sp.Symbol('x')\n",
        "f = sp.exp(3*x_1)*sp.sin(x_1)\n",
        "Is = sp.integrate(f, (x_1, 0, np.pi/4))\n",
        "Ir = sp.lambdify(x_1, Is, 'numpy')(1)\n",
        "\n",
        "print(f\"\"\"El error que hay de la estimación por nuestra función\n",
        "para el método de integracion de romberg es de {abs(Ir - Ie)}\"\"\")"
      ]
    },
    {
      "cell_type": "code",
      "source": [
        "np.any([[0, 0, 0],[0, 0, 0]])"
      ],
      "metadata": {
        "colab": {
          "base_uri": "https://localhost:8080/"
        },
        "id": "J8c_inAWB-yH",
        "outputId": "67b38f53-5e22-41e1-b325-3cbef89a1f16"
      },
      "execution_count": null,
      "outputs": [
        {
          "output_type": "execute_result",
          "data": {
            "text/plain": [
              "False"
            ]
          },
          "metadata": {},
          "execution_count": 5
        }
      ]
    },
    {
      "cell_type": "markdown",
      "metadata": {
        "id": "Db9dUFTSQcLY"
      },
      "source": [
        "#2\n",
        "\n",
        "* Usando los *métodos trapezoidal compuesto*, *simpson 1/3* y de *medio punto* encuentre la siguiente integral,\n",
        "\n",
        "$$\\int_e^{1+e} dx\\, \\frac{1}{x\\ln x}$$\n",
        "\n",
        "* Luego, haga un estudio de la convergencia en términos del valor de $h$ o de los sub-intervalos de la función. ¿Cuál es mejor?\n"
      ]
    },
    {
      "cell_type": "code",
      "execution_count": null,
      "metadata": {
        "id": "uEPXP21uQc_o",
        "colab": {
          "base_uri": "https://localhost:8080/"
        },
        "outputId": "c320de02-cfdb-4ba8-d5f6-54cb8d144369"
      },
      "outputs": [
        {
          "output_type": "stream",
          "name": "stdout",
          "text": [
            "0.2725153276271113 0.2725136148178895\n"
          ]
        }
      ],
      "source": [
        "f = lambda x: 1/(x*np.log(x))\n",
        "\n",
        "s = np.linspace(np.e, 1+np.e, 10)\n",
        "I1 = trapezoide(f, np.e, 1+np.e, 100)\n",
        "I2 = simpson(f(s), s)\n",
        "\n",
        "print(I1, I2 )\n"
      ]
    },
    {
      "cell_type": "code",
      "source": [
        "n_lin = np.linspace(10, 100, 100)\n",
        "I1_lin = np.zeros(len(n_lin))\n",
        "I2_lin = np.zeros(len(n_lin))\n",
        "\n",
        "for i in range(len(n_lin)):\n",
        "  I1_lin[i] = trapezoide(f, np.e, 1+np.e, int(n_lin[i]))\n",
        "  simp_lin = np.linspace(np.e, 1+np.e, int(n_lin[i]))\n",
        "  I2_lin[i] = simpson(f(simp_lin), simp_lin)\n",
        "\n",
        "\n",
        "#plt.plot(n_lin, np.abs(I1_lin - I2_lin), label = \"$error$ = |I1(n) - I2(n)|\")\n",
        "plt.plot(n_lin, I1_lin, label = \"$trapezoide(n)$\")\n",
        "plt.plot(n_lin, I2_lin, label = \"$simpson(n)$\")\n",
        "plt.xlabel(\"numero de sub-intervalos\")\n",
        "plt.ylabel(\"error\")\n",
        "plt.legend()\n",
        "plt.grid()\n",
        "plt.show()\n",
        "\n",
        "print(f\"\"\"Analizando la gráfica podemos ver que el método trapezoidal\n",
        "nos da una mejor aproximaxion para el primer valor, luego, el método\n",
        "de simpson1/3 converge MUCHO mas rápido \"\"\")"
      ],
      "metadata": {
        "colab": {
          "base_uri": "https://localhost:8080/",
          "height": 501
        },
        "id": "P7jKT_zq1XJ6",
        "outputId": "2d2482c6-8f6f-458e-cc9e-9afa8b520505"
      },
      "execution_count": null,
      "outputs": [
        {
          "output_type": "display_data",
          "data": {
            "text/plain": [
              "<Figure size 640x480 with 1 Axes>"
            ],
            "image/png": "[encoded data removed]"
          },
          "metadata": {}
        },
        {
          "output_type": "stream",
          "name": "stdout",
          "text": [
            "Analizando la gráfica podemos ver que el método trapezoidal\n",
            "nos da una mejor aproximaxion para el primer valor, luego, el método\n",
            "de simpson1/3 converge MUCHO mas rápido \n"
          ]
        }
      ]
    },
    {
      "cell_type": "markdown",
      "metadata": {
        "id": "3fLo8sm8RqA0"
      },
      "source": [
        "#3\n",
        "Usando la siguiente función:\n",
        "\n",
        "\n",
        "\n",
        "```python\n",
        "def gauss_quad_standard(func, n):\n",
        "    \"\"\"\n",
        "    Calcula la integral de una función en el intervalo [-1, 1]\n",
        "    utilizando cuadratura gaussiana.\n",
        "\n",
        "    Parameters:\n",
        "    - func: La función a integrar.\n",
        "    - n: Número de puntos para la cuadratura (grado del polinomio de Legendre).\n",
        "\n",
        "    Returns:\n",
        "    - Aproximación de la integral.\n",
        "    \"\"\"\n",
        "    # Obtener raíces y pesos del polinomio de Legendre\n",
        "    x, w = roots_legendre(n)\n",
        "\n",
        "    # Evaluar la suma ponderada\n",
        "    integral = np.sum(w * func(x))\n",
        "    return integral\n",
        "```\n",
        "\n",
        "Modifique la función `gauss_quad_standard` de forma tal que no este restringida para $[-1,1]$ sino para cualquier intervalo $[a,b]$. Luego, encuentre la integral del *punto 2*.\n",
        "\n",
        "\n",
        "\n"
      ]
    },
    {
      "cell_type": "code",
      "execution_count": null,
      "metadata": {
        "colab": {
          "base_uri": "https://localhost:8080/"
        },
        "id": "0XQga3HfSE9n",
        "outputId": "90d11eb4-015c-4c53-9ee5-ab9ba998a145"
      },
      "outputs": [
        {
          "output_type": "stream",
          "name": "stdout",
          "text": [
            "Solucion de la integral 2 con el método cuadratura de gauss generalizada: 0.27251388050258346\n"
          ]
        }
      ],
      "source": [
        "def gauss_quad_standard(func, n):\n",
        "    \"\"\"\n",
        "    Calcula la integral de una función en el intervalo [-1, 1]\n",
        "    utilizando cuadratura gaussiana.\n",
        "\n",
        "    Parameters:\n",
        "    - func: La función a integrar.\n",
        "    - n: Número de puntos para la cuadratura (grado del polinomio de Legendre).\n",
        "\n",
        "    Returns:\n",
        "    - Aproximación de la integral.\n",
        "    \"\"\"\n",
        "    # Obtener raíces y pesos del polinomio de Legendre\n",
        "    x, w = roots_legendre(n)\n",
        "\n",
        "    # Evaluar la suma ponderada\n",
        "    integral = np.sum(w * func(x))\n",
        "    return integral\n",
        "\n",
        "def gauss_quad(func, a, b, n):\n",
        "\n",
        "  m = (b-a)/2\n",
        "  c = (a+b)/2\n",
        "\n",
        "  return m*gauss_quad_standard(lambda x: func(m*x+c), n)\n",
        "\n",
        "print(f\"Solucion de la integral 2 con el método cuadratura de gauss generalizada: {gauss_quad(f, np.e, 1+np.e, 100)}\")"
      ]
    },
    {
      "cell_type": "markdown",
      "metadata": {
        "id": "hvSy6jouSLiJ"
      },
      "source": [
        "#4\n",
        "\n",
        "Encuentra todas las raices para los polinomios de grado 3 y 4 de **Legendre** usando el Método de la Secante y Newton-Raphson.\n",
        "\n",
        "\n",
        "\n",
        "```python\n",
        "import sympy as sp\n",
        "x = sp.Symbol('x')\n",
        "\n",
        "# Polinomio de Legendre de grado n\n",
        "Pn = sp.legendre(n, x)\n",
        "\n",
        "```\n",
        "\n",
        "y calcule los pesos $w_i$ de la cuadratura mediante la fórmula:\n",
        "   $$\n",
        "   w_i = \\frac{2}{(1 - x_i^2) \\left[P_n'(x_i)\\right]^2},\n",
        "   $$\n",
        "   donde $P_n'(x)$ es la derivada del polinomio de Legendre $P_n(x)$.\n"
      ]
    },
    {
      "cell_type": "code",
      "execution_count": null,
      "metadata": {
        "id": "EZNA4VoXSXiT"
      },
      "outputs": [],
      "source": [
        "x = sp.Symbol('x')\n",
        "\n",
        "# Polinomio de Legendre de grado n\n",
        "Pn_3 = sp.legendre(3, x)\n",
        "Pn_4 = sp.legendre(4, x)\n",
        "\n",
        "pn_3l = sp.lambdify(x, Pn_3, 'numpy')\n",
        "pn_4l = sp.lambdify(x, Pn_4, 'numpy')\n",
        "\n",
        "pn_3d = sp.diff(Pn_3, x, 1)\n",
        "pn_4d = sp.diff(Pn_4, x, 1)\n",
        "\n",
        "pn_3dl = sp.lambdify(x, pn_3d, 'numpy')\n",
        "pn_4dl = sp.lambdify(x, pn_4d, 'numpy')\n"
      ]
    },
    {
      "cell_type": "code",
      "source": [
        "x_lin = np.linspace(-1, 1, 100)\n",
        "\n",
        "pn_3l_lin = pn_3l(x_lin)\n",
        "pn_4l_lin = pn_4l(x_lin)\n",
        "\n",
        "plt.plot(x_lin, pn_3l_lin)\n",
        "plt.plot(x_lin, pn_4l_lin)\n",
        "plt.grid()\n",
        "plt.show()"
      ],
      "metadata": {
        "colab": {
          "base_uri": "https://localhost:8080/",
          "height": 430
        },
        "id": "_M4kS5pmYbja",
        "outputId": "3b22c3ba-4148-46a2-a6e1-d836b9b9e851"
      },
      "execution_count": null,
      "outputs": [
        {
          "output_type": "display_data",
          "data": {
            "text/plain": [
              "<Figure size 640x480 with 1 Axes>"
            ],
            "image/png": "[encoded data removed]"
          },
          "metadata": {}
        }
      ]
    },
    {
      "cell_type": "code",
      "source": [
        "raices_sec3 = np.zeros(len(x_lin))\n",
        "raices_sec4 = []\n",
        "\n",
        "for i in range(len(x_lin)):\n",
        "  if abs(pn_3l(x_lin[i])) < 0.01:\n",
        "    raices_sec3[i] = newton(pn_3l, x0 = x_lin[i])\n",
        "  elif abs(pn_4l(x_lin[i])) < 0.02:\n",
        "    raices_sec4.append(newton(pn_4l, x0 = x_lin[i]))\n",
        "\n",
        "raices_vs3 = np.unique(raices_sec3)\n",
        "raices_vs4 = np.array(list(set(raices_sec4)))\n",
        "\n",
        "x1s3, x2s3, x3s3 = raices_vs3[0], raices_vs3[1], raices_vs3[2]     # Raices para pn_3 por método de la secante\n",
        "x1s4, x2s4, x3s4, x4s4 = raices_vs4[0], raices_vs4[1], raices_vs4[2], raices_vs4[3]     # Raices para pn_4 por el metodo de la secante\n",
        "\n",
        "raices_n3 = np.zeros(len(x_lin))\n",
        "raices_n4 = []\n",
        "\n",
        "for i in range(len(x_lin)):\n",
        "  if abs(pn_3l(x_lin[i])) < 0.01:\n",
        "    raices_n3[i] = newton(pn_3l, x0 = x_lin[i], fprime = pn_3dl)\n",
        "  if abs(pn_4l(x_lin[i])) < 0.02:\n",
        "    raices_n4.append(newton(pn_4l, x0 = x_lin[i], fprime = pn_4dl))\n",
        "\n",
        "raices_vn3 = np.unique(raices_n3)\n",
        "raices_vn4 = np.array(list(set(raices_n4)))\n",
        "\n",
        "x1n3, x2n3, x3n3 = raices_vn3[0], raices_vn3[1], raices_vn3[2]     # Raices para pn_3 por el metodo de newton\n",
        "x1n4, x2n4, x3n4, x4n4 = raices_vn4[0], raices_vn4[1], raices_vn4[2], raices_vn4[3]     # Raices para pn_4 con el metyodo de newton\n",
        "\n",
        "\n",
        "\n"
      ],
      "metadata": {
        "id": "RdMVRgFubtLm"
      },
      "execution_count": null,
      "outputs": []
    },
    {
      "cell_type": "code",
      "source": [
        "# calculo de los pesos wi:\n",
        "s = lambda f, x: 2/((1 - x**2)*((f(x))**2))\n",
        "w1s3, w2s3, w2s3 = s(pn_3dl, x1s3), s(pn_3dl, x2s3), s(pn_3dl, x3s3)   # pesos para pn_3 con raices de secante\n",
        "w1s4, w2s4, w3s4, w4s4 = s(pn_4dl, x1s4), s(pn_4dl, x2s4), s(pn_4dl, x3s4), s(pn_4dl, x4s4)  #pesos para pn_3 con raices de secante\n",
        "\n",
        "w1n3, w2n3, w3n3 = s(pn_3dl, x1n3), s(pn_3dl, x2n3), s(pn_3dl, x3n3)    # pesos para pn_3 con raices de Newton\n",
        "w1n4, w2n4, w3n4, w4n4 = s(pn_4dl, x1n4), s(pn_4dl, x2n4), s(pn_4dl, x3n4), s(pn_4dl, x4n4)   # Pesos para pn_4 con raices de newton"
      ],
      "metadata": {
        "id": "WEXvgdxSdjS9"
      },
      "execution_count": null,
      "outputs": []
    },
    {
      "cell_type": "code",
      "source": [],
      "metadata": {
        "id": "m3WS4sZNKhC2"
      },
      "execution_count": null,
      "outputs": []
    }
  ],
  "metadata": {
    "colab": {
      "provenance": []
    },
    "kernelspec": {
      "display_name": "Python 3",
      "name": "python3"
    },
    "language_info": {
      "name": "python"
    }
  },
  "nbformat": 4,
  "nbformat_minor": 0
}