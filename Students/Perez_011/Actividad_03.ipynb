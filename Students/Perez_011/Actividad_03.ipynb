{
  "cells": [
    {
      "cell_type": "code",
      "execution_count": 3,
      "metadata": {
        "cellView": "form",
        "id": "rZuc8vXcWuxy"
      },
      "outputs": [],
      "source": [
        "#@title Librerias\n",
        "import numpy as np\n",
        "import matplotlib.pyplot as plt\n",
        "import pandas as pd"
      ]
    },
    {
      "cell_type": "markdown",
      "metadata": {
        "id": "MGwGfceuWxy3"
      },
      "source": [
        "# Actividad 03: Representación númerica\n",
        "\n",
        "---\n",
        "### Profesor: Juan Marcos Marín\n",
        "### Nombre: ______\n",
        "*Métodos computacionales 2024-II*\n",
        "\n",
        "---"
      ]
    },
    {
      "cell_type": "markdown",
      "metadata": {
        "id": "jB6BqzoSamB0"
      },
      "source": [
        "**NOTA: No utilizar los métodos `bin` o `int`**"
      ]
    },
    {
      "cell_type": "markdown",
      "metadata": {
        "id": "BOi6yQmJW7os"
      },
      "source": [
        "1. Escriba una función que se llame `mybin` que reciba un número entero real de 16 bits y realice su conversión en código binario, compare su resultado con `bin(4321)`"
      ]
    },
    {
      "cell_type": "code",
      "execution_count": 2,
      "metadata": {
        "id": "xbt3ZmYiW6oF",
        "colab": {
          "base_uri": "https://localhost:8080/"
        },
        "outputId": "9b9f1c74-b220-4db2-cded-7d27827a1364"
      },
      "outputs": [
        {
          "output_type": "stream",
          "name": "stdout",
          "text": [
            "1000011100001 0b1000011100001\n"
          ]
        }
      ],
      "source": [
        "import numpy as np\n",
        "def mybin(a):\n",
        "  a = float(a)\n",
        "  decimal = a - (a//1)\n",
        "  bina_int = \"\"\n",
        "  bina_dec = \"\"\n",
        "  max_iter = 20\n",
        "  i = 0\n",
        "  if type(a) == float :\n",
        "\n",
        "    while (a//1)/2 >= 0.5:\n",
        "      if (a//1)%2 != 0:\n",
        "        bina_int = bina_int + \"1\"\n",
        "      else:\n",
        "        bina_int = bina_int + \"0\"\n",
        "      a = a//2\n",
        "    if decimal != 0:\n",
        "      while decimal != 1:\n",
        "        print(decimal)\n",
        "        if decimal*2 > 1 :\n",
        "          bina_dec = bina_dec + '1'\n",
        "\n",
        "        else :\n",
        "          bina_dec = bina_dec + '0'\n",
        "        decimal = (decimal*2)-(decimal*2)//1\n",
        "        i += 1\n",
        "\n",
        "        if i == max_iter:\n",
        "          break\n",
        "      return bina_int[::-1] + '.' + bina_dec\n",
        "  return bina_int[::-1]\n",
        "\n",
        "print(mybin(4321), bin(4321))\n"
      ]
    },
    {
      "cell_type": "code",
      "source": [
        "np.float16(1234.2)"
      ],
      "metadata": {
        "colab": {
          "base_uri": "https://localhost:8080/"
        },
        "id": "6bma7uqmxvCY",
        "outputId": "6709760e-d84d-4176-c619-2261e5823e2d"
      },
      "execution_count": null,
      "outputs": [
        {
          "output_type": "execute_result",
          "data": {
            "text/plain": [
              "1234.0"
            ]
          },
          "metadata": {},
          "execution_count": 20
        }
      ]
    },
    {
      "cell_type": "markdown",
      "metadata": {
        "id": "5X_8-jpEXjSw"
      },
      "source": [
        "2. Cree una función llamada `myint` pero que a partir de un número binario con base de 16 bits encuentre el entero correspondiente. Compare su resultado con `int(0b1000011100001)`"
      ]
    },
    {
      "cell_type": "code",
      "execution_count": 4,
      "metadata": {
        "id": "VmS2TiF4XsbN",
        "colab": {
          "base_uri": "https://localhost:8080/"
        },
        "outputId": "830b2c98-f359-49ea-ef00-e0be8e9f9b97"
      },
      "outputs": [
        {
          "output_type": "stream",
          "name": "stdout",
          "text": [
            " este es el resultado de de mi funcion: 3.7578125 y este el resultado dado por la funcion 'int' 4321\n",
            "4321.0 3.7578125 4321\n"
          ]
        }
      ],
      "source": [
        "# Segun mi documentacion el sesgo de el formato IEEE 754 en 16 bits es de 15, asi que lo tomare como tal,\n",
        "\n",
        "def myint(a):\n",
        "  sig = a[0]\n",
        "  exp = a[2:7]\n",
        "  man = a[7:17]\n",
        "  sign_real = ((-1)**float(sig))\n",
        "  exp_1 = exp[::-1]\n",
        "  man_1 = man[::-1]\n",
        "  man_real = 0\n",
        "  exp_real = 0\n",
        "\n",
        "  for i in range(0,len(man)):\n",
        "\n",
        "    man_real = man_real + (float(man[i])*(2**(-i-1)))\n",
        "\n",
        "  for i in range(len(exp)):\n",
        "\n",
        "    exp_real = exp_real + (float(exp_1[i])*(2**i))\n",
        "\n",
        "  real = sign_real * (1 + man_real) * (2**(exp_real-15))\n",
        "  return real\n",
        "\n",
        "\n",
        "#Ahora comparemos la funcion encontrada \"myint\" con el resultado de \"int\"\n",
        "\n",
        "print(f\" este es el resultado de de mi funcion: { myint('0b1000011100001') } y este el resultado dado por la funcion 'int' {int(0b1000011100001)}\")\n",
        "\n",
        "#vemos que difieren por completo en unidades, esto es debido a que yo estoy tomando el numero binario proporcionado como si estuviera en formato IEEE - 754,\n",
        "#Por otro lado la funcion 'int' ve este numero como binario normal y lo calcula como si fuera un entero, para este caso, proporcionare otro metodo para que la funcion coincida\n",
        "\n",
        "def myint_1(a):\n",
        "  a_1 = a[::-1]\n",
        "  x = 0\n",
        "  for i in range(len(a)):\n",
        "    x = x + (float(a_1[i])*(2**i))\n",
        "\n",
        "  return x\n",
        "\n",
        "print(myint_1(\"1000011100001\"),myint(\"0b1000011100001\"),int(0b1000011100001))\n",
        "\n",
        "#aqui podemos ver que la funcion 'myint_1' coincide con el resultado de 'int', mas ninguna se conecta con la funcion primera en si.\n"
      ]
    },
    {
      "cell_type": "markdown",
      "metadata": {
        "id": "pHQ8ftloYPO5"
      },
      "source": [
        "3. Generar una función llamada `number64` para flotantes de precisión doble (64bits) donde a partir de un número binario encuentre el valor real. Compruebe su solución usando\n",
        "\n",
        "```\n",
        "number64(\"0100000000111011100100001111111111111111111111111111111111111111\")\n",
        "```\n",
        "\n"
      ]
    },
    {
      "cell_type": "code",
      "execution_count": null,
      "metadata": {
        "id": "8W4MIVKhZTsO",
        "colab": {
          "base_uri": "https://localhost:8080/"
        },
        "outputId": "815b7bab-b6bb-4289-dc51-8c83e0f92cdc"
      },
      "outputs": [
        {
          "output_type": "execute_result",
          "data": {
            "text/plain": [
              "27.566406249999996"
            ]
          },
          "metadata": {},
          "execution_count": 48
        }
      ],
      "source": [
        "def number64(a):\n",
        "\n",
        "  sig = a[0]\n",
        "  exp = a[1:12]\n",
        "  man = a[12:64]\n",
        "  sign_real = ((-1)**float(sig))\n",
        "  exp_1 = exp[::-1]\n",
        "  man_1 = man[::-1]\n",
        "  man_real = 0\n",
        "  exp_real = 0\n",
        "\n",
        "  for i in range(0,len(man)):\n",
        "\n",
        "    man_real = man_real + (float(man[i])*(2**(-i-1)))\n",
        "\n",
        "  for i in range(len(exp)):\n",
        "\n",
        "    exp_real = exp_real + (float(exp_1[i])*(2**i))\n",
        "\n",
        "  real = sign_real * (1 + man_real) * (2**(exp_real-1023))\n",
        "  return real\n",
        "\n",
        "s = \"0100000000111011100100001111111111111111111111111111111111111111\"\n",
        "number64(s)\n",
        "\n",
        "\n",
        "\n",
        "\n"
      ]
    },
    {
      "cell_type": "markdown",
      "metadata": {
        "id": "xwyZCxWtZZoH"
      },
      "source": [
        "4. ***(Opcional)*** Escriba una función que convierta un número con base de 8 bits en hexadecimal, compruebe su respuesta con `hex` e imprimalo también en binario."
      ]
    },
    {
      "cell_type": "code",
      "execution_count": 1,
      "metadata": {
        "id": "SpJuueSgbJ4I",
        "colab": {
          "base_uri": "https://localhost:8080/",
          "height": 110
        },
        "outputId": "4b7e328a-c2d0-4c96-8a73-c64e4499cd2f"
      },
      "outputs": [
        {
          "output_type": "error",
          "ename": "SyntaxError",
          "evalue": "incomplete input (<ipython-input-1-d6ae6ee84e21>, line 2)",
          "traceback": [
            "\u001b[0;36m  File \u001b[0;32m\"<ipython-input-1-d6ae6ee84e21>\"\u001b[0;36m, line \u001b[0;32m2\u001b[0m\n\u001b[0;31m    \u001b[0m\n\u001b[0m    ^\u001b[0m\n\u001b[0;31mSyntaxError\u001b[0m\u001b[0;31m:\u001b[0m incomplete input\n"
          ]
        }
      ],
      "source": [
        "\n",
        ""
      ]
    }
  ],
  "metadata": {
    "colab": {
      "provenance": []
    },
    "kernelspec": {
      "display_name": "Python 3",
      "name": "python3"
    },
    "language_info": {
      "name": "python"
    }
  },
  "nbformat": 4,
  "nbformat_minor": 0
}