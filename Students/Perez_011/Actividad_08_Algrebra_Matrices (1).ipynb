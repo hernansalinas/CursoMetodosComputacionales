{
  "nbformat": 4,
  "nbformat_minor": 0,
  "metadata": {
    "colab": {
      "provenance": []
    },
    "kernelspec": {
      "name": "python3",
      "display_name": "Python 3"
    },
    "language_info": {
      "name": "python"
    }
  },
  "cells": [
    {
      "cell_type": "code",
      "execution_count": null,
      "metadata": {
        "id": "z7RCty67y3ME"
      },
      "outputs": [],
      "source": [
        "import numpy as np\n",
        "import matplotlib.pyplot as plt\n",
        "import scipy.linalg as la\n",
        "from scipy.integrate import quad"
      ]
    },
    {
      "cell_type": "markdown",
      "source": [
        "# Actividad 08: Algebra Lineal y Matrices\n",
        "\n",
        "---\n",
        "### Profesor: Juan Marcos Marín\n",
        "### Nombre: David Alejandro Pérez\n",
        "*Métodos computacionales 2024-II*\n",
        "\n",
        "---"
      ],
      "metadata": {
        "id": "GGQpGoujzAnQ"
      }
    },
    {
      "cell_type": "markdown",
      "source": [
        "#1\n",
        "\n",
        "Escriba una función que calcule el producto escalar y vectorial para dos vectores, compare sus resultados con `np.dot` y `np.cross`."
      ],
      "metadata": {
        "id": "szDD-eJhzKbw"
      }
    },
    {
      "cell_type": "code",
      "source": [
        "def escalar(v, w):\n",
        "  mul = []\n",
        "  if len(v) == len(w):\n",
        "   for i in range(len(v)):\n",
        "    s = v[i]*w[i]\n",
        "    mul.append(s)\n",
        "  return sum(mul)\n",
        "\n",
        "v = np.array([2,4,3])\n",
        "w = np.array([9,3,5])\n",
        "\n",
        "def cross(v, w):\n",
        "  if len(v) == 2:\n",
        "    a, b = v[0], v[1]\n",
        "    x, y = w[0], w[1]\n",
        "    return [0, 0, a*y - b*x]\n",
        "\n",
        "  elif len(v) == 3:\n",
        "    a, b, c = v[0], v[1], v[2]\n",
        "    x, y, z = w[0], w[1], w[2]\n",
        "    cross = [b*z - c*y, c*x - a*z, a*y - b*x]\n",
        "    return cross\n",
        "\n"
      ],
      "metadata": {
        "id": "KlxyKMOIzBDZ"
      },
      "execution_count": null,
      "outputs": []
    },
    {
      "cell_type": "code",
      "source": [
        "escalar(v,w) == v@w"
      ],
      "metadata": {
        "colab": {
          "base_uri": "https://localhost:8080/"
        },
        "id": "KirdZ8pgHJJI",
        "outputId": "1c3f0c42-a61e-4ba0-ffbb-5f583029596a"
      },
      "execution_count": null,
      "outputs": [
        {
          "output_type": "execute_result",
          "data": {
            "text/plain": [
              "True"
            ]
          },
          "metadata": {},
          "execution_count": 4
        }
      ]
    },
    {
      "cell_type": "code",
      "source": [
        "cross(v,w) == np.cross(v,w)"
      ],
      "metadata": {
        "colab": {
          "base_uri": "https://localhost:8080/"
        },
        "id": "goJiHtkQHL9o",
        "outputId": "8e78e49a-4e23-4505-c137-35d6baba14e6"
      },
      "execution_count": null,
      "outputs": [
        {
          "output_type": "execute_result",
          "data": {
            "text/plain": [
              "array([ True,  True,  True])"
            ]
          },
          "metadata": {},
          "execution_count": 5
        }
      ]
    },
    {
      "cell_type": "markdown",
      "source": [
        "#2\n",
        "\n",
        "Crear una función llamada `mulmat()` donde a partir de dos matrices $A$ y $B$ encuentre su multplicación. También realiza una función que calcule la transpuesta y otra el determinante de una matriz $3\\times 3$. Compare sus resultado con `@`, `np.dot`, `transpose` y `la.det`."
      ],
      "metadata": {
        "id": "Qch9PhTQ0Klk"
      }
    },
    {
      "cell_type": "code",
      "source": [
        "def mulmat(A, B):\n",
        "\n",
        "  if A.shape[1] == B.shape[0]:\n",
        "    C = np.zeros((A.shape[0], B.shape[1]))\n",
        "    for i in range(A.shape[0]):\n",
        "      for j in range(B.shape[1]):\n",
        "        s=0\n",
        "        for k in range(B.shape[0]):\n",
        "         s += A[i,k]*B[k,j]\n",
        "        C[i,j] = s\n",
        "\n",
        "    return C\n",
        "  else: return ValueError(\"Las dimensiones de las matrices no son validas pa llevar a cabo AB\")\n",
        "\n",
        "def transpose(A):\n",
        "  B = np.zeros((A.shape[1], A.shape[0]))\n",
        "  for i in range(A.shape[0]):\n",
        "    for j in range(A.shape[1]):\n",
        "      B[j,i] = A[i,j]\n",
        "  return B\n",
        "\n",
        "def det3(A):\n",
        "  if A.shape[0] == 3 and A.shape[1] == 3:\n",
        "    return A[0,0]*A[1,1]*A[2,2] + A[0,1]*A[1,2]*A[2,0] + A[0,2]*A[1,0]*A[2,1] - A[0,2]*A[1,1]*A[2,0] - A[0,1]*A[1,0]*A[2,2] - A[0,0]*A[1,2]*A[2,1]\n",
        "  else: return ValueError(\"La matriz no es de 3x3\")\n"
      ],
      "metadata": {
        "id": "0xjXQbwn0VL5"
      },
      "execution_count": null,
      "outputs": []
    },
    {
      "cell_type": "code",
      "source": [
        "A = np.random.randint(0,8, (3,3))\n",
        "B = np.random.randint(3,15, (3,3))\n",
        "\n",
        "A,B"
      ],
      "metadata": {
        "colab": {
          "base_uri": "https://localhost:8080/"
        },
        "id": "oUCgPuhF1OLC",
        "outputId": "cb2ed29a-8c53-4bcf-bf4a-b6c38acfb82c"
      },
      "execution_count": null,
      "outputs": [
        {
          "output_type": "execute_result",
          "data": {
            "text/plain": [
              "(array([[4, 2, 3],\n",
              "        [2, 2, 1],\n",
              "        [5, 6, 4]]),\n",
              " array([[ 9,  9, 13],\n",
              "        [ 6,  4,  9],\n",
              "        [ 6, 14, 14]]))"
            ]
          },
          "metadata": {},
          "execution_count": 28
        }
      ]
    },
    {
      "cell_type": "code",
      "source": [
        "mulmat(A,B) == A@B"
      ],
      "metadata": {
        "colab": {
          "base_uri": "https://localhost:8080/"
        },
        "id": "a6DxL_6gLh1J",
        "outputId": "8208e49e-81c2-4b7d-86f0-7f78ffaf304f"
      },
      "execution_count": null,
      "outputs": [
        {
          "output_type": "execute_result",
          "data": {
            "text/plain": [
              "array([[ True,  True,  True],\n",
              "       [ True,  True,  True],\n",
              "       [ True,  True,  True]])"
            ]
          },
          "metadata": {},
          "execution_count": 7
        }
      ]
    },
    {
      "cell_type": "code",
      "source": [
        "mulmat(A,B) == np.dot(A,B)"
      ],
      "metadata": {
        "colab": {
          "base_uri": "https://localhost:8080/"
        },
        "id": "g3b-jyx6OvAB",
        "outputId": "5381a175-940d-4ef7-f0b9-ef86f1382ca8"
      },
      "execution_count": null,
      "outputs": [
        {
          "output_type": "execute_result",
          "data": {
            "text/plain": [
              "array([[ True,  True,  True],\n",
              "       [ True,  True,  True],\n",
              "       [ True,  True,  True]])"
            ]
          },
          "metadata": {},
          "execution_count": 8
        }
      ]
    },
    {
      "cell_type": "code",
      "source": [
        "transpose(A) == A.T"
      ],
      "metadata": {
        "colab": {
          "base_uri": "https://localhost:8080/"
        },
        "id": "-b8GzQ-8Igiz",
        "outputId": "d9eb7019-1bcf-4dfe-c52d-63bf087e3095"
      },
      "execution_count": null,
      "outputs": [
        {
          "output_type": "execute_result",
          "data": {
            "text/plain": [
              "False"
            ]
          },
          "metadata": {},
          "execution_count": 27
        }
      ]
    },
    {
      "cell_type": "code",
      "source": [
        "np.isclose(det3(A), np.linalg.det(A))"
      ],
      "metadata": {
        "colab": {
          "base_uri": "https://localhost:8080/"
        },
        "id": "_Mx_wxn_Ij_n",
        "outputId": "a4ab4891-ddec-4d28-b037-335bb862a5f8"
      },
      "execution_count": null,
      "outputs": [
        {
          "output_type": "execute_result",
          "data": {
            "text/plain": [
              "True"
            ]
          },
          "metadata": {},
          "execution_count": 35
        }
      ]
    },
    {
      "cell_type": "markdown",
      "source": [
        "#3\n",
        "Escriba tres matrices aleatorias $A$, $B$ y $C$ de $3\\times 3$, y demuestre las siguientes relaciones:"
      ],
      "metadata": {
        "id": "U9hC1R-F0-iH"
      }
    },
    {
      "cell_type": "code",
      "source": [
        "# estas seran las matrices para comprobar\n",
        "A = np.random.randint(0,1000, (3,3))\n",
        "B = np.random.randint(0,1000, (3,3))\n",
        "C = np.random.randint(0,1000, (3,3))\n",
        "c = np.random.randint(1,10)\n",
        "\n",
        "print(f\"\"\" A es :\n",
        "{A}\n",
        "      \"\"\")\n",
        "\n",
        "print(f\"\"\" B es :\n",
        "{B}\n",
        "      \"\"\")\n",
        "\n",
        "print(f\"\"\" C es :\n",
        "{C}\n",
        "      \"\"\")\n",
        "\n",
        "print(f\"\"\"El escalar (c) es : {c}\n",
        "      \"\"\")"
      ],
      "metadata": {
        "colab": {
          "base_uri": "https://localhost:8080/"
        },
        "id": "R843wC9QHkG7",
        "outputId": "7d7fec33-be21-4d13-8a51-c43eac0119c1"
      },
      "execution_count": null,
      "outputs": [
        {
          "output_type": "stream",
          "name": "stdout",
          "text": [
            " A es :\n",
            "[[ 89 908 272]\n",
            " [502 665 338]\n",
            " [725 781 966]]\n",
            "      \n",
            " B es :\n",
            "[[563 880 891]\n",
            " [142 387 766]\n",
            " [729 363 491]]\n",
            "      \n",
            " C es :\n",
            "[[278 987 946]\n",
            " [632 506 876]\n",
            " [455 138 560]]\n",
            "      \n",
            "El escalar (c) es : 3\n",
            "      \n"
          ]
        }
      ]
    },
    {
      "cell_type": "markdown",
      "source": [
        "- $ \\mathbf{A}\\mathbf{B} \\neq \\mathbf{B}\\mathbf{A} $, en general."
      ],
      "metadata": {
        "id": "OGK_2qGGIcWs"
      }
    },
    {
      "cell_type": "code",
      "source": [
        "mulmat(A, B) == mulmat(B, A)"
      ],
      "metadata": {
        "id": "cQQ6cPGW1anK",
        "colab": {
          "base_uri": "https://localhost:8080/"
        },
        "outputId": "35f6e68a-161f-4d87-e6c8-43853afa567b"
      },
      "execution_count": null,
      "outputs": [
        {
          "output_type": "execute_result",
          "data": {
            "text/plain": [
              "array([[False, False, False],\n",
              "       [False, False, False],\n",
              "       [False, False, False]])"
            ]
          },
          "metadata": {},
          "execution_count": 10
        }
      ]
    },
    {
      "cell_type": "markdown",
      "source": [
        "- $ (\\mathbf{A}\\mathbf{B})\\mathbf{C} = \\mathbf{A}(\\mathbf{B}\\mathbf{C}) $."
      ],
      "metadata": {
        "id": "UpiWa8Y6PJuB"
      }
    },
    {
      "cell_type": "code",
      "source": [
        "\n",
        "mulmat(mulmat(A,B), C) == mulmat(A, mulmat(B,C))"
      ],
      "metadata": {
        "id": "OLU9G60FPJCb",
        "colab": {
          "base_uri": "https://localhost:8080/"
        },
        "outputId": "086901d8-79f1-4e7a-fe91-173f5228a8f1"
      },
      "execution_count": null,
      "outputs": [
        {
          "output_type": "execute_result",
          "data": {
            "text/plain": [
              "array([[ True,  True,  True],\n",
              "       [ True,  True,  True],\n",
              "       [ True,  True,  True]])"
            ]
          },
          "metadata": {},
          "execution_count": 11
        }
      ]
    },
    {
      "cell_type": "markdown",
      "source": [
        "- $ \\mathbf{A}(\\mathbf{B} + \\mathbf{C}) = \\mathbf{A}\\mathbf{B} + \\mathbf{A}\\mathbf{C} $."
      ],
      "metadata": {
        "id": "rFMKDJ8iPLbQ"
      }
    },
    {
      "cell_type": "code",
      "source": [
        "mulmat(A, B+C) == mulmat(A,B) + mulmat(A,C)"
      ],
      "metadata": {
        "id": "3y3n1NoNPTY7",
        "colab": {
          "base_uri": "https://localhost:8080/"
        },
        "outputId": "1238e9d5-81aa-4b4a-fd4a-bf03944d187d"
      },
      "execution_count": null,
      "outputs": [
        {
          "output_type": "execute_result",
          "data": {
            "text/plain": [
              "array([[ True,  True,  True],\n",
              "       [ True,  True,  True],\n",
              "       [ True,  True,  True]])"
            ]
          },
          "metadata": {},
          "execution_count": 12
        }
      ]
    },
    {
      "cell_type": "markdown",
      "source": [
        "- $ (\\mathbf{A} + \\mathbf{B})\\mathbf{C} = \\mathbf{A}\\mathbf{C} + \\mathbf{B}\\mathbf{C} $."
      ],
      "metadata": {
        "id": "n81-9np6PUPT"
      }
    },
    {
      "cell_type": "code",
      "source": [
        "mulmat(A+B,C) == mulmat(A,C) + mulmat(B,C)"
      ],
      "metadata": {
        "id": "qVN4D2GmPZGD",
        "colab": {
          "base_uri": "https://localhost:8080/"
        },
        "outputId": "17a44c00-e0aa-401f-e528-979a900b208c"
      },
      "execution_count": null,
      "outputs": [
        {
          "output_type": "execute_result",
          "data": {
            "text/plain": [
              "array([[ True,  True,  True],\n",
              "       [ True,  True,  True],\n",
              "       [ True,  True,  True]])"
            ]
          },
          "metadata": {},
          "execution_count": 13
        }
      ]
    },
    {
      "cell_type": "markdown",
      "source": [
        "- $ (\\mathbf{A}\\mathbf{B})^\\top = \\mathbf{B}^\\top \\mathbf{A}^\\top $."
      ],
      "metadata": {
        "id": "A9jSPefsPcz1"
      }
    },
    {
      "cell_type": "code",
      "source": [
        "mulmat(A,B).T == mulmat(B.T, A.T)"
      ],
      "metadata": {
        "id": "RGqTJL8kPZzQ",
        "colab": {
          "base_uri": "https://localhost:8080/"
        },
        "outputId": "013d2f93-e890-464e-f2b4-5a8fe2b4f674"
      },
      "execution_count": null,
      "outputs": [
        {
          "output_type": "execute_result",
          "data": {
            "text/plain": [
              "array([[ True,  True,  True],\n",
              "       [ True,  True,  True],\n",
              "       [ True,  True,  True]])"
            ]
          },
          "metadata": {},
          "execution_count": 14
        }
      ]
    },
    {
      "cell_type": "markdown",
      "source": [
        "- $ \\det(\\mathbf{A}\\mathbf{B}) = \\det(\\mathbf{A}) \\det(\\mathbf{B}) $."
      ],
      "metadata": {
        "id": "CBa0ZAJ5Phg2"
      }
    },
    {
      "cell_type": "code",
      "source": [
        "abs(np.linalg.det(mulmat(A,B)) - np.linalg.det(A)*np.linalg.det(B)) < 1e-11"
      ],
      "metadata": {
        "id": "CpoSEoHAPeEU",
        "colab": {
          "base_uri": "https://localhost:8080/"
        },
        "outputId": "c031b11e-92f4-485c-f215-c24448226af9"
      },
      "execution_count": null,
      "outputs": [
        {
          "output_type": "execute_result",
          "data": {
            "text/plain": [
              "False"
            ]
          },
          "metadata": {},
          "execution_count": 15
        }
      ]
    },
    {
      "cell_type": "markdown",
      "source": [
        "- $ (\\mathbf{A}^\\top)^\\top = \\mathbf{A} $."
      ],
      "metadata": {
        "id": "0WTR9dSgPlx8"
      }
    },
    {
      "cell_type": "code",
      "source": [
        "(A.T).T == A"
      ],
      "metadata": {
        "id": "hPINuJIqPm5G",
        "colab": {
          "base_uri": "https://localhost:8080/"
        },
        "outputId": "fe533a7d-94d1-48d1-8733-a83b4ae52554"
      },
      "execution_count": null,
      "outputs": [
        {
          "output_type": "execute_result",
          "data": {
            "text/plain": [
              "array([[ True,  True,  True],\n",
              "       [ True,  True,  True],\n",
              "       [ True,  True,  True]])"
            ]
          },
          "metadata": {},
          "execution_count": 16
        }
      ]
    },
    {
      "cell_type": "markdown",
      "source": [
        "- $ (c\\mathbf{A})^\\top = c\\mathbf{A}^\\top $."
      ],
      "metadata": {
        "id": "_Yu5d3DpPqSz"
      }
    },
    {
      "cell_type": "code",
      "source": [
        "(c*A).T == c*A.T"
      ],
      "metadata": {
        "id": "yMmFlGEYPrpF",
        "colab": {
          "base_uri": "https://localhost:8080/"
        },
        "outputId": "52dbeb68-4006-457e-c983-413f766927b9"
      },
      "execution_count": null,
      "outputs": [
        {
          "output_type": "execute_result",
          "data": {
            "text/plain": [
              "array([[ True,  True,  True],\n",
              "       [ True,  True,  True],\n",
              "       [ True,  True,  True]])"
            ]
          },
          "metadata": {},
          "execution_count": 17
        }
      ]
    },
    {
      "cell_type": "markdown",
      "source": [
        "- $ (\\mathbf{A} + \\mathbf{B})^\\top = \\mathbf{A}^\\top + \\mathbf{B}^\\top $."
      ],
      "metadata": {
        "id": "CWKAGQsOPxRd"
      }
    },
    {
      "cell_type": "code",
      "source": [
        "(A+B).T == A.T + B.T"
      ],
      "metadata": {
        "id": "89yldET7Pyo7",
        "colab": {
          "base_uri": "https://localhost:8080/"
        },
        "outputId": "77d3af99-2cfb-4375-dc9a-2336180c7950"
      },
      "execution_count": null,
      "outputs": [
        {
          "output_type": "execute_result",
          "data": {
            "text/plain": [
              "array([[ True,  True,  True],\n",
              "       [ True,  True,  True],\n",
              "       [ True,  True,  True]])"
            ]
          },
          "metadata": {},
          "execution_count": 18
        }
      ]
    },
    {
      "cell_type": "markdown",
      "source": [
        "#4\n",
        "\n",
        "El **Teorema de Laplace** es un método para calcular el determinante de una matriz cuadrada, particularmente útil para matrices de orden mayor a 2. Este teorema se basa en la expansión del determinante por los elementos de una fila o una columna cualquiera.\n",
        "\n",
        "\n",
        "\n",
        "$$\n",
        "\\det(A) = \\sum_{j=1}^n (-1)^{1+j} a_{1j} M_{1j}\n",
        "$$\n",
        "\n",
        "donde:\n",
        "- $a_{1j}$ es el elemento de la primera fila y columna $j$.\n",
        "- $M_{1j}$ es el menor asociado al elemento $a_{1j}$, es decir, el determinante de la submatriz de $3 \\times 3$ que se obtiene al eliminar la fila 1 y la columna $j$.\n",
        "- $(-1)^{1+j}$ es el signo correspondiente al cofactor del elemento $a_{1j}$.\n",
        "\n",
        "Podemos realizar una función recursiva para el cálculo del determinante, sabiendo que el valor del determinante de una matriz de orden uno es el único elemento de esa matriz, y el de una matriz de orden superior a uno es la suma de cada uno de los elementos de una fila o columna por los Adjuntos a ese elemento, como en la función recursiva se emplea la misma función definida el cálculo lo haremos por Menor complementario, un ejemplo desarrollado por la primera fila sería:\n",
        "\n",
        "$$\n",
        "   \\det (A_{j,j}) =\n",
        "   \\left \\{\n",
        "   \\begin{array}{llcl}\n",
        "      si & j = 1 & \\to & a_{1,1} \\\\\n",
        "                                 \\\\\n",
        "      si & j > 1 & \\to & \\displaystyle \\sum_{k=1}^j \\; (-1)^{(1+k)} \\cdot a_{1,k} \\cdot \\det( \\alpha_{1,k})\n",
        "   \\end{array}\n",
        "   \\right .\n",
        "$$\n",
        "\n",
        "Realice una función que encuentre el determinante de una matriz usando la recursividad aqui planteada, explique explicitamente su código"
      ],
      "metadata": {
        "id": "ibYf2I9T2pIw"
      }
    },
    {
      "cell_type": "code",
      "source": [
        "# Realizaremos una funcioon que nos cacule la ij-esima submatriz\n",
        "\n",
        "def submatriz_inador(A, i, j):\n",
        "\n",
        "    subf = np.delete(A, i, axis=0)\n",
        "    sub = np.delete(subf, j, axis=1)\n",
        "\n",
        "    return sub\n",
        "\n",
        "\n",
        "def laplace(A):\n",
        "  if np.shape(A)[0] == 1:\n",
        "    return A[0,0]       # si la matriz tiene solo un elemento este sera el determinante\n",
        "  else:\n",
        "    det = 0\n",
        "    for j in range(np.shape(A)[0]):\n",
        "      det += (-1)**(1+j)*A[0,j]*laplace(submatriz_inador(A, 0, j))  # se reutilizara la funcion recursivamente hasta que cada submatriz se reduzca a unsolo termino y se aplique el primer condicional.\n",
        "\n",
        "\n",
        "    return det\n",
        "\n",
        "laplace(A), np.linalg.det(A), abs(laplace(A) - np.linalg.det(A))\n",
        "\n",
        "\n"
      ],
      "metadata": {
        "id": "-8tYERLHtrtY",
        "colab": {
          "base_uri": "https://localhost:8080/"
        },
        "outputId": "b219495b-a316-43dd-b273-e158002ba9e0"
      },
      "execution_count": null,
      "outputs": [
        {
          "output_type": "execute_result",
          "data": {
            "text/plain": [
              "(-208631324, -208631323.99999976, 2.384185791015625e-07)"
            ]
          },
          "metadata": {},
          "execution_count": 19
        }
      ]
    },
    {
      "cell_type": "markdown",
      "source": [
        "#5\n",
        "\n",
        "El método de Jacobi reescribe el sistema $ Ax = b $ descomponiendo la matriz $ A $ como:\n",
        "\n",
        "$$\n",
        "A = D + L + U,\n",
        "$$\n",
        "\n",
        "donde:\n",
        "- $ D $: Matriz diagonal de $ A $,\n",
        "- $ L $: Matriz triangular inferior sin la diagonal,\n",
        "- $ U $: Matriz triangular superior sin la diagonal.\n",
        "\n",
        "El sistema se reorganiza como:\n",
        "\n",
        "$$\n",
        "x = D^{-1}(b - (L + U)x).\n",
        "$$\n",
        "\n",
        "Esto se implementa iterativamente como:\n",
        "\n",
        "$$\n",
        "x_i^{(k+1)} = \\frac{1}{a_{ii}} \\left(b_i - \\sum_{j \\neq i} a_{ij} x_j^{(k)}\\right),\n",
        "$$\n",
        "\n",
        "donde $ a_{ii} $ son los elementos diagonales de $ A $.\n",
        "\n",
        "* Escriba una función explicita que realice de manera iterativa este método con una tol = 1e-7 y un máximo de 100 iteraciones. Defina una documentación clara que explique los métodos usados, lasa entradas y salidas.\n",
        "\n",
        "* Para una matriz aleatoria 5$\\times$ 5, encuentre la solución usando su función y determine el error con respecto a `solve` y el método de inversa de matriz."
      ],
      "metadata": {
        "id": "9OcE-1QhSrI9"
      }
    },
    {
      "cell_type": "code",
      "source": [
        "# Matriz normal\n",
        "A = np.random.randint(-1000,1000, 25).reshape(5,5)\n",
        "b = np.random.randint(-1000,1000, 5)\n",
        "\n",
        "\n",
        "# Mariz con la diagunal mucha mas grande en magnitud que el resto de sus componentes\n",
        "A_d = np.tril(A, -1) + np.diag(1000*np.diag(A)) + np.triu(A, 1)\n",
        "\n",
        "A_d"
      ],
      "metadata": {
        "colab": {
          "base_uri": "https://localhost:8080/"
        },
        "id": "0KWsvqtM4yBi",
        "outputId": "3540e3fc-53a8-4c16-f464-01dabba8e77e"
      },
      "execution_count": null,
      "outputs": [
        {
          "output_type": "execute_result",
          "data": {
            "text/plain": [
              "array([[ 794000,    -298,     970,     944,    -690],\n",
              "       [    676, -946000,    -909,    -117,    -576],\n",
              "       [    632,    -726, -619000,    -472,    -484],\n",
              "       [    417,     148,    -779, -411000,     460],\n",
              "       [    206,     190,     684,     817, -458000]])"
            ]
          },
          "metadata": {},
          "execution_count": 20
        }
      ]
    },
    {
      "cell_type": "code",
      "source": [
        "#a)\n",
        "def Jacobi(A, b, tol=1e-7, Nmax=100):\n",
        "  \"\"\"\n",
        "  Esta función implementa el metodo de Jacobi para encontrar las soluciones a sistemas\n",
        "  lineales, dadas su matriz de coeficientes asociadas 'A' y su repectiva solucion'b'\n",
        "\n",
        "  - Parametros -\n",
        "\n",
        "  A: mariz de coeficientes asociados.\n",
        "  b: vector.\n",
        "  tol: tolerancia de convergencia.\n",
        "  Nmax: Numero maximo de iteraciones.\n",
        "\n",
        "  - Devuelve :\n",
        "\n",
        "  xk : array con el vector solucion.\n",
        "  \"\"\"\n",
        "  x = np.zeros_like(b, dtype = float)\n",
        "  D = np.diag(np.diag(A))\n",
        "  L = np.tril(A) - D\n",
        "  U = np.triu(A) - D\n",
        " # print(U)\n",
        "  #print(D)\n",
        "  D_inv = np.linalg.inv(D)\n",
        "  #print(D_inv)\n",
        "\n",
        "  for i in range(Nmax):\n",
        "    xk = D_inv@(b - ((L + U) @ x))\n",
        "\n",
        "    #print(np.max(np.abs(xk - x)))\n",
        "\n",
        "    if np.max(np.abs(xk - x)) < tol:\n",
        "\n",
        "      print(f'El resultado converge despues de {i} iteraciones')\n",
        "      return xk\n",
        "    x = xk\n",
        "\n",
        "\n",
        "  print('No converge')\n",
        "  return xk\n",
        "\n",
        "#b)\n",
        "sol = Jacobi(A,b, Nmax = 100)\n",
        "sol_r = np.linalg.solve(A,b)\n",
        "\n",
        "print(f\"\"\"para A normal:\n",
        "{sol, sol_r}\n",
        "      \"\"\")\n",
        "\n",
        "sol_d = Jacobi(A_d,b, Nmax = 100)\n",
        "sol_r_d = np.linalg.solve(A_d,b)\n",
        "\n",
        "print(f\"\"\"para A con elementos en la diagonal de mayor magnitud al resto:\n",
        "{sol_d, sol_r_d}\"\"\")\n",
        "\n",
        "print(\"\"\"\n",
        "veamos que el metodo de Jácobi es deficiente para resolver sistemas de ecuaciones cualquiera,\n",
        "pero muy bueno para resolver sistemas de ecuaciones donde los coeficientes de la diagonal de\n",
        "la matriz de coeficientes son mucho mas mayores a losdemas coeficientes asociados a las variables\"\"\")\n",
        "\n"
      ],
      "metadata": {
        "id": "PQqefGzMT3ks",
        "colab": {
          "base_uri": "https://localhost:8080/"
        },
        "outputId": "16e609be-eff4-4609-8d2d-ca0bf6699763"
      },
      "execution_count": null,
      "outputs": [
        {
          "output_type": "stream",
          "name": "stdout",
          "text": [
            "No converge\n",
            "para A normal:\n",
            "(array([ 2.63070472e+34,  8.78456544e+34,  1.08943827e+35,  8.58671032e+34,\n",
            "       -7.91597656e+34]), array([-0.67462607,  3.65630478, -0.17230987, -2.7364661 , -5.45158912]))\n",
            "      \n",
            "El resultado converge despues de 2 iteraciones\n",
            "para A con elementos en la diagonal de mayor magnitud al resto:\n",
            "(array([-0.00077548,  0.00031657, -0.00154623,  0.00240688, -0.00152443]), array([-0.00077548,  0.00031657, -0.00154623,  0.00240688, -0.00152443]))\n",
            "\n",
            "veamos que el metodo de Jácobi es deficiente para resolver sistemas de ecuaciones cualquiera,\n",
            "pero muy bueno para resolver sistemas de ecuaciones donde los coeficientes de la diagonal de\n",
            "la matriz de coeficientes son mucho mas mayores a losdemas coeficientes asociados a las variables\n"
          ]
        }
      ]
    },
    {
      "cell_type": "markdown",
      "source": [
        "#6\n",
        "\n",
        "Verifique que cualquier matriz hermitiana de 2 × 2 $ L $ puede escribirse como una suma de cuatro términos:\n",
        "\n",
        "$$ L = a\\sigma_x + b\\sigma_y + c\\sigma_z + dI $$\n",
        "\n",
        "donde $ a $, $ b $, $ c $ y $ d $ son números reales.\n",
        "\n",
        "Las cuatro matrices de Pauli son:\n",
        "\n",
        "$$ \\sigma_x = \\begin{pmatrix} 0 & 1 \\\\ 1 & 0 \\end{pmatrix}, \\quad \\sigma_y = \\begin{pmatrix} 0 & -i \\\\ i & 0 \\end{pmatrix}, \\quad \\sigma_z = \\begin{pmatrix} 1 & 0 \\\\ 0 & -1 \\end{pmatrix}, \\quad I = \\begin{pmatrix} 1 & 0 \\\\ 0 & 1 \\end{pmatrix} $$\n",
        "\n",
        "\n"
      ],
      "metadata": {
        "id": "iggu2jNwVpnK"
      }
    },
    {
      "cell_type": "code",
      "source": [
        "# Sean a,,b,c,d numeros reales cualquieras:\n",
        "a = np.random.random()*np.random.randint(-100,100)\n",
        "b = np.random.random()*np.random.randint(-100,100)\n",
        "c = np.random.random()*np.random.randint(-100,100)\n",
        "d = np.random.random()*np.random.randint(-100,100)\n",
        "\n",
        "print(f\"\"\"\n",
        "a es : {a}\n",
        "b es : {b}\n",
        "c es : {c}\n",
        "d es : {d}\n",
        "\n",
        "      \"\"\")\n",
        "\n",
        "# Ahora definamos lasmatrices de Pauli:\n",
        "sigx = np.array([[0,1],[1,0]])\n",
        "sigy = np.array([[0,-1j],[1j,0]])\n",
        "sigz = np.array([[1,0],[0,-1]])\n",
        "I = np.array([[1,0],[0,1]])\n",
        "L = a*sigx + b*sigy + c*sigz + d*I\n",
        "\n",
        "# Verifiquemos las condiciones de hermiticidad de una matriz\n",
        "np.conjugate(L.T) == L\n"
      ],
      "metadata": {
        "id": "8WN9_cOCV7cM",
        "colab": {
          "base_uri": "https://localhost:8080/"
        },
        "outputId": "0efe6f75-1742-4324-e550-b02ff8d9cc5f"
      },
      "execution_count": null,
      "outputs": [
        {
          "output_type": "stream",
          "name": "stdout",
          "text": [
            "\n",
            "a es : -50.76920737116371\n",
            "b es : 38.73951643517992\n",
            "c es : -69.8990032693908\n",
            "d es : -21.102259983596486\n",
            "\n",
            "      \n"
          ]
        },
        {
          "output_type": "execute_result",
          "data": {
            "text/plain": [
              "array([[ True,  True],\n",
              "       [ True,  True]])"
            ]
          },
          "metadata": {},
          "execution_count": 22
        }
      ]
    }
  ]
}