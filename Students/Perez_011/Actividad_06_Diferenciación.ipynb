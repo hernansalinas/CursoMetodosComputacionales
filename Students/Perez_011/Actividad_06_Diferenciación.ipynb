{
  "cells": [
    {
      "cell_type": "code",
      "execution_count": 1,
      "metadata": {
        "id": "rZuc8vXcWuxy"
      },
      "outputs": [],
      "source": [
        "#@title Librerias\n",
        "from scipy.interpolate import lagrange\n",
        "import math\n",
        "import numpy as np\n",
        "import matplotlib.pyplot as plt\n",
        "import pandas as pd\n",
        "import sympy as sp"
      ]
    },
    {
      "cell_type": "markdown",
      "metadata": {
        "id": "MGwGfceuWxy3"
      },
      "source": [
        "# Actividad 06: Diferenciación númerica\n",
        "\n",
        "---\n",
        "### Profesor: Juan Marcos Marín\n",
        "### Nombre: David Alejandro Pérez\n",
        "*Métodos computacionales 2024-II*\n",
        "\n",
        "---"
      ]
    },
    {
      "cell_type": "markdown",
      "source": [
        "### **Funciones diferencias finitas, dervidada de 5 puntos, derivada a 3 puntos**"
      ],
      "metadata": {
        "id": "nl5CFU7TsVuW"
      }
    },
    {
      "cell_type": "code",
      "source": [
        "def five_point_derivative(x, y, h = 0.5):\n",
        "\n",
        "  \"\"\"\n",
        "  Calcula la derivada de cinco puntos para una función f en un conjunto de puntos x con paso h.\n",
        "\n",
        "  Parámetros:\n",
        "  - y: función a derivar.\n",
        "  - x: array de puntos donde evaluar la derivada.\n",
        "  - h: paso entre puntos en el array x.\n",
        "\n",
        "  Retorna:\n",
        "  - Array de las derivadas aproximadas en cada punto de x.\n",
        "  \"\"\"\n",
        "\n",
        "\n",
        "  diff = []\n",
        "  for i in range(len(x)):\n",
        "\n",
        "    if i == 0 and len(x) != 1:\n",
        "      dx = (-25*y(x[i]) + 48*y(x[i] + h)-36*y(x[i] + 2*h)+16*y(x[i] + 3*h) - 3*y(x[i] + 4*h))/(12*h)\n",
        "\n",
        "    if (i != 0 and i != len(x)) or len(x) == 1:\n",
        "      dx = (y(x[i] - 2*h)- 8*y(x[i] - h) + 8*y(x[i] + h) - y(x[i]+ 2*h))/(12*h)\n",
        "\n",
        "    if i == len(x)-1 and i != 0:\n",
        "      dx = (25*y(x[i]) - 48*y(x[i] - h) + 36*y(x[i] - 2*h) - 16*y(x[i] - 3*h) + 3*y(x[i] - 4*h))/(12*h)\n",
        "\n",
        "    diff.append(dx)\n",
        "\n",
        "\n",
        "\n",
        "  return diff\n",
        "\n",
        "def three_point_derivative(x, y, h = 0.5):\n",
        "\n",
        "  \"\"\"\n",
        "  Calcula la derivada de cinco puntos para una función f en un conjunto de puntos x con paso h.\n",
        "\n",
        "  Parámetros:\n",
        "  - y: función a derivar.\n",
        "  - x: array de puntos donde evaluar la derivada.\n",
        "  - h: paso entre puntos en el array x.\n",
        "\n",
        "  Retorna:\n",
        "  - Array de las derivadas aproximadas en cada punto de x.\n",
        "  \"\"\"\n",
        "\n",
        "  diff = []\n",
        "\n",
        "  for i in range(len(x)):\n",
        "\n",
        "    if i == 0 and len(x) != 1:\n",
        "      dx = (-3*y(x[i]) + 4*y(x[i] + h) - y(x[i] + 2*h))/(2*h)\n",
        "\n",
        "    if (i != 0 and i != len(x)) or len(x) == 1:\n",
        "      dx = (y(x[i] + h) - y(x[i] - h))/(2*h)\n",
        "\n",
        "    if i == len(x)-1 and i != 0:\n",
        "      dx = (3*y(x[i]) - 4*y(x[i] - h) + y(x[i] - 2*h))/(2*h)\n",
        "\n",
        "    diff.append(dx)\n",
        "\n",
        "\n",
        "  return diff\n",
        "\n",
        "\n",
        "\n",
        "def finite_diff(x, y, h = 0.5):\n",
        "\n",
        "  \"\"\"\n",
        "  Calcula las diferencias finitas para una función f en un conjunto de puntos x con paso h.\n",
        "\n",
        "  Parámetros:\n",
        "  - y: función a derivar.\n",
        "  - x: array de puntos donde evaluar la derivada.\n",
        "  - h: paso entre puntos en el array x.\n",
        "\n",
        "  Retorna:\n",
        "  - Array de las derivadas aproximadas en cada punto de x.\n",
        "  \"\"\"\n",
        "\n",
        "  diff = []\n",
        "  for i in range(len(x)):\n",
        "\n",
        "    if i == 0 and len(x) != 1:\n",
        "      dx = (- y(x[i]) + y(x[i] + h))/(h)\n",
        "\n",
        "    if (i != 0 and i != len(x)) or len(x) == 1:\n",
        "      dx = (y(x[i] + h) - y(x[i] - h))/(2*h)\n",
        "\n",
        "    if i == len(x)-1 and i != 0:\n",
        "      dx = (y(x[i]) - y(x[i] - h))/(h)\n",
        "\n",
        "    diff.append(dx)\n",
        "\n",
        "\n",
        "  return diff\n"
      ],
      "metadata": {
        "id": "nxOApxKHsT4o"
      },
      "execution_count": 2,
      "outputs": []
    },
    {
      "cell_type": "markdown",
      "metadata": {
        "id": "E8ME9Aa7TbKA"
      },
      "source": [
        "# 1.\n",
        "Implementar el método de la derivada de cinco puntos a través de una función llamada `five_point_derivative`. Luego,\n",
        "* Calcule el valor para $f(x) = \\cos(x)$ utilizando un arreglo con 10 datos $[0\\leq x\\leq 2\\pi]$ y evalue $f'(\\pi/8)$ con $h = 0.05$.\n",
        "* Encuentre el error de su aproximación. ¿Mejorará con un $h$ menor o mayor?\n",
        "\n"
      ]
    },
    {
      "cell_type": "code",
      "source": [
        "def centrada5(f, h):\n",
        "  g = lambda x: (y(x - 2*h)- 8*y(x - h) + 8*y(x + h) - y(x + 2*h))/(12*h)\n",
        "  return g\n",
        "\n",
        "def forward_diff5(f, h):\n",
        "  g = lambda x: (-25*y(x) + 48*y(x + h)-36*y(x + 2*h) + 16*y(x + 3*h) - 3*y(x + 4*h))/(12*h)\n",
        "  return g\n",
        "\n",
        "def backward_diff5(f, h):\n",
        "  g = lambda x: (25*y(x) - 48*y(x - h) + 36*y(x - 2*h) - 16*y(x - 3*h) + 3*y(x - 4*h))/(12*h)\n",
        "  return g"
      ],
      "metadata": {
        "id": "kXyysYLBkn0C"
      },
      "execution_count": 3,
      "outputs": []
    },
    {
      "cell_type": "code",
      "execution_count": 4,
      "metadata": {
        "colab": {
          "base_uri": "https://localhost:8080/",
          "height": 552
        },
        "id": "vyTohkly7IW_",
        "outputId": "25b6697b-361f-47f4-de04-d4b779463ee3"
      },
      "outputs": [
        {
          "output_type": "stream",
          "name": "stdout",
          "text": [
            "El error asociado a esta aproximacion con h = 0.05 es de 0.0007738721282938843 veamos como se puede mejorar este error \n",
            "En la gráfica vemos que el error disminuyee conforme\n",
            "h es menor pero en los valores de h mas pequeños\n",
            "el error comienza a crecer de nuevo de acuerdo a las gráficas propuestas\n",
            "esto es debido al problema que conlleva dividir por valores muy pequeños computacionalmente\n"
          ]
        },
        {
          "output_type": "display_data",
          "data": {
            "text/plain": [
              "<Figure size 640x480 with 2 Axes>"
            ],
            "image/png": "[encoded data removed]"
          },
          "metadata": {}
        }
      ],
      "source": [
        "y = lambda x: np.cos(x)\n",
        "\n",
        "d_prima = five_point_derivative([np.pi/8], y, 0.5)\n",
        "\n",
        "print(f\"\"\"El error asociado a esta aproximacion con h = 0.05 es de {abs(d_prima[0] - (-np.sin(np.pi/8)))} veamos como se puede mejorar este error \"\"\")\n",
        "\n",
        "\n",
        "#h = 0.05\n",
        "hl = []\n",
        "err = []\n",
        "for i in range(20,3000):\n",
        "  h = 1/i\n",
        "  s = five_point_derivative([np.pi/8], y, h)\n",
        "  error = abs(s[0] - (-np.sin(np.pi/8)))\n",
        "  hl.append(h)\n",
        "  err.append(error)\n",
        "\n",
        "\n",
        "fig, ax = plt.subplots(2)\n",
        "\n",
        "ax[0].plot(hl, err, 'ro', label = 'error aproximación')\n",
        "ax[0].set_xlabel('h')\n",
        "ax[0].set_ylabel('$error$')\n",
        "ax[0].grid()\n",
        "ax[0].legend()\n",
        "\n",
        "\n",
        "ax[1].plot(hl[500:], err[500:], 'ro', label = 'error aproximación')\n",
        "ax[1].set_xlabel('h')\n",
        "ax[1].set_ylabel('$error$')\n",
        "ax[1].grid()\n",
        "ax[1].legend()\n",
        "\n",
        "print(\"\"\"En la gráfica vemos que el error disminuyee conforme\n",
        "h es menor pero en los valores de h mas pequeños\n",
        "el error comienza a crecer de nuevo de acuerdo a las gráficas propuestas\n",
        "esto es debido al problema que conlleva dividir por valores muy pequeños computacionalmente\"\"\")\n",
        "\n"
      ]
    },
    {
      "cell_type": "markdown",
      "metadata": {
        "id": "Dx40CzPL-V8i"
      },
      "source": [
        "#2.\n",
        "Considere la función:\n",
        "\n",
        "$$f(x) = x e^x$$\n",
        "\n",
        "Encuentre la derivada númerica $f'(x)$ y $f''(x)$ para $x = 2.0$ usando diferencias finitas. Considere un arreglo con 6 puntos $[1.8\\leq x\\leq 2.2]$.\n",
        "\n",
        "*   Cambie los valores de $h$ desde 0.01 hasta 0.1 (tomando 10 diferentes) y compare su resultado con el dado por `sympy` y `numpy.gradient`\n",
        "*   ¿Cuál será el valor óptimo de $h$?"
      ]
    },
    {
      "cell_type": "code",
      "execution_count": 5,
      "metadata": {
        "id": "a2ZJlGT58g3Z",
        "colab": {
          "base_uri": "https://localhost:8080/"
        },
        "outputId": "6846ce49-30e7-4129-fde9-1c30989084ef"
      },
      "outputs": [
        {
          "output_type": "stream",
          "name": "stdout",
          "text": [
            "Como primera aproximacion y h = 10e-5:\n",
            "f(2.0) = 14.7781\n",
            "f'(2.0) = 22.1672\n",
            "f''(2.0) = 29.556\n",
            "      \n",
            "Con np.gradient:\n",
            "f(2.0) = 14.7781\n",
            "f'(2.0) = 22.1996\n",
            "f''(2.0) = 30.7733\n",
            "      \n"
          ]
        }
      ],
      "source": [
        "x = np.linspace(1.8, 2.2, 6)\n",
        "\n",
        "f = lambda s : s*np.exp(s)\n",
        "f_prim = lambda s: (s+1)*np.exp(s)\n",
        "\n",
        "# encontremos la derivada de f(x) con la funcion ya calculada anteriormente\n",
        "\n",
        "df = finite_diff(x, f, 10e-5)\n",
        "\n",
        "# Encontremos el polinomio de interpolacion asociado a estos puntos\n",
        "\n",
        "lag_df = lagrange(x, df) #polinomio interpolador de f'(x)'\n",
        "\n",
        "# Asi, podemos encontrar la segunda derivada de f\n",
        "\n",
        "d2f = finite_diff(x, lag_df, 10e-5)\n",
        "lag_d2f = lagrange(x, d2f) #Polinomio interpolador de f''(x)\n",
        "\n",
        "print(f\"\"\"Como primera aproximacion y h = 10e-5:\n",
        "f(2.0) = {round(f(2.0), 4)}\n",
        "f'(2.0) = {round(lag_df(2.0), 4)}\n",
        "f''(2.0) = {round(lag_d2f(2.0), 4)}\n",
        "      \"\"\")\n",
        "\n",
        "\n",
        "# calculemos el f'(2.0) y f''(2.0) con np.gradient\n",
        "\n",
        "d_np = np.gradient(f(x), x)\n",
        "pol_dnp = lagrange(x, d_np)\n",
        "\n",
        "d_2np = np.gradient(d_np, x)\n",
        "pol_d2np = lagrange(x, d_2np)\n",
        "\n",
        "vdnp = pol_dnp(2.0)\n",
        "\n",
        "vd2np = pol_d2np(2.0)\n",
        "\n",
        "\n",
        "# Ahora veamos como varia el error de nuestra aproximacion con h dierentes\n",
        "\n",
        "h = np.linspace(0.01, 0.1, 10)\n",
        "ed_f = []\n",
        "ed_2f = []\n",
        "for i in h:\n",
        "  dfh = finite_diff(x, f, i) # diferencias finitas de 5 puntos para f(x)\n",
        "  lag_hdf = lagrange(x, dfh) #polinomio interpolador de f'(x)'\n",
        "\n",
        "  # Asi, podemos encontrar la segunda derivada de f\n",
        "\n",
        "  d2fh = finite_diff(x, lag_hdf, i) # dierencias finitas para f'(x)\n",
        "  lag_d2fh = lagrange(x, d2fh) #Polinomio interpolador de f''(x)\n",
        "\n",
        "  v = lag_hdf(2.0)\n",
        "  v2 = lag_d2fh(2.0)\n",
        "\n",
        "  errord = abs(v - vdnp)\n",
        "  errord2 = abs(v2 - vd2np)\n",
        "\n",
        "  ed_f.append(errord)\n",
        "  ed_2f.append(errord2)\n",
        "\n",
        "print(f\"\"\"Con np.gradient:\n",
        "f(2.0) = {round(f(2.0), 4)}\n",
        "f'(2.0) = {round(vdnp, 4)}\n",
        "f''(2.0) = {round(vd2np, 4)}\n",
        "      \"\"\")"
      ]
    },
    {
      "cell_type": "code",
      "source": [
        "# Grafiquemos\n",
        "fig, ax = plt.subplots(2)\n",
        "\n",
        "ax[0].plot(h, ed_f, 'ro', label = \"error en $f'(2.0)$\")\n",
        "ax[0].set_title(\"$f'(2.0, h) - np.gradient$\")\n",
        "ax[0].set_xlabel('h')\n",
        "ax[0].set_ylabel('$error$')\n",
        "ax[0].grid()\n",
        "ax[0].legend()\n",
        "\n",
        "\n",
        "ax[1].plot(h, ed_2f, 'ro', label = \"error en $f''(2.0)$\")\n",
        "ax[1].set_title(\"$f''(2.0, h) - np.gradient$\")\n",
        "ax[1].set_xlabel('h')\n",
        "ax[1].set_ylabel('$error$ ')\n",
        "ax[1].grid()\n",
        "ax[1].legend()"
      ],
      "metadata": {
        "colab": {
          "base_uri": "https://localhost:8080/",
          "height": 491
        },
        "id": "wAZO7WtZ2Fpj",
        "outputId": "dddf1391-911d-43d9-e820-b126684038c8"
      },
      "execution_count": 6,
      "outputs": [
        {
          "output_type": "execute_result",
          "data": {
            "text/plain": [
              "<matplotlib.legend.Legend at 0x7905496b4850>"
            ]
          },
          "metadata": {},
          "execution_count": 6
        },
        {
          "output_type": "display_data",
          "data": {
            "text/plain": [
              "<Figure size 640x480 with 2 Axes>"
            ],
            "image/png": "[encoded data removed]"
          },
          "metadata": {}
        }
      ]
    },
    {
      "cell_type": "code",
      "source": [
        "print(\"En el rango dado me inclinaria por tomar el h = 0.08 ya que minimiza el error f''(2.0) y f'(2.0) \")"
      ],
      "metadata": {
        "colab": {
          "base_uri": "https://localhost:8080/"
        },
        "id": "HXHPOxJ55d0j",
        "outputId": "d1615224-b274-457f-d1ed-73df7764353f"
      },
      "execution_count": 7,
      "outputs": [
        {
          "output_type": "stream",
          "name": "stdout",
          "text": [
            "En el rango dado me inclinaria por tomar el h = 0.08 ya que minimiza el error f''(2.0) y f'(2.0) \n"
          ]
        }
      ]
    },
    {
      "cell_type": "markdown",
      "metadata": {
        "id": "7K2ZmIuYAkNi"
      },
      "source": [
        "#3.\n",
        "Compare la primera derivada del punto 2 usando los métodos de diferencias finitas, derivada de tres y cinco puntos para el $h$ con el menor error encontrado en el punto anterior. Compare de nuevo para $f'(2)$ y encuentre los errores."
      ]
    },
    {
      "cell_type": "code",
      "execution_count": 8,
      "metadata": {
        "id": "ygu67HeYAjvi",
        "colab": {
          "base_uri": "https://localhost:8080/"
        },
        "outputId": "ba903355-03cf-4182-86d7-2af535addd2a"
      },
      "outputs": [
        {
          "output_type": "stream",
          "name": "stdout",
          "text": [
            "-Error diferencias finitas y derivada a 5 puntos : 7.032277062535286e-05\n",
            "\n",
            "-Error diferencias finitas y derivada a 3 puntos : 0.03661079192534089\n",
            "\n",
            "-# Error derivada a 3 puntos y derivada a 5 puntos : 0.036681114695966244\n",
            "      \n"
          ]
        }
      ],
      "source": [
        "# la primera derivada del punto anterior fue encontrada mediante el uso diferencias finitas, se hará la comparacion con respecto a los otros metodos\n",
        "h = 0.08 # h que optimiza la precisión\n",
        "df = finite_diff(x, f, h)\n",
        "df_5 = five_point_derivative(x, f, h) # derivada de cinco puntos\n",
        "df_3 = three_point_derivative(x, f, h) # derivada de tres puntos\n",
        "\n",
        "# Encontremos el polinomio de interpolacion asociado a estos puntos\n",
        "\n",
        "lag_df5 = lagrange(x, df_5) #polinomio interpolador de f'(x) con 5 puntos\n",
        "lag_df3 = lagrange(x, df_3) #polinomio interpolador de f'(x) con 3 puntos\n",
        "\n",
        "# veamos el error de cada polinomio interpolador de f'(2.0)\n",
        "\n",
        "error_5dif = abs(lag_df(2.0) - lag_df5(2.0))\n",
        "error_3dif = abs(lag_df(2.0) - lag_df3(2.0))\n",
        "error_53 = abs(lag_df3(2.0) - lag_df5(2.0))\n",
        "\n",
        "\n",
        "print(f\"\"\"-Error diferencias finitas y derivada a 5 puntos : {error_5dif}\n",
        "\n",
        "-Error diferencias finitas y derivada a 3 puntos : {error_3dif}\n",
        "\n",
        "-# Error derivada a 3 puntos y derivada a 5 puntos : {error_53}\n",
        "      \"\"\")\n",
        "\n",
        "\n",
        "\n",
        "\n"
      ]
    },
    {
      "cell_type": "code",
      "source": [],
      "metadata": {
        "id": "xDRqJijqzaMD"
      },
      "execution_count": 8,
      "outputs": []
    }
  ],
  "metadata": {
    "colab": {
      "provenance": []
    },
    "kernelspec": {
      "display_name": "Python 3",
      "name": "python3"
    },
    "language_info": {
      "name": "python"
    }
  },
  "nbformat": 4,
  "nbformat_minor": 0
}