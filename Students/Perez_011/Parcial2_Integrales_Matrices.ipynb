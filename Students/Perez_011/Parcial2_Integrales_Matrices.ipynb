{
  "nbformat": 4,
  "nbformat_minor": 0,
  "metadata": {
    "colab": {
      "provenance": []
    },
    "kernelspec": {
      "name": "python3",
      "display_name": "Python 3"
    },
    "language_info": {
      "name": "python"
    }
  },
  "cells": [
    {
      "cell_type": "code",
      "execution_count": null,
      "metadata": {
        "id": "aF61FjHUNGJA"
      },
      "outputs": [],
      "source": [
        "#@title Librerias\n",
        "import numpy as np\n",
        "import numpy.linalg as la\n",
        "import matplotlib.pyplot as plt\n",
        "from scipy.integrate import quad, fixed_quad, trapezoid, simpson, nquad\n",
        "from sympy import symbols, diff, integrate, lambdify"
      ]
    },
    {
      "cell_type": "markdown",
      "source": [
        "# Parcial II - Métodos Computacionales (Integrales y Matrices)\n",
        "**2024-2**\n",
        "\n",
        "---\n",
        "\n",
        "*Nombre:*\n",
        "\n",
        "*Identificación:*\n",
        "\n",
        "---\n",
        "* Sea honest@\n",
        "* El uso de herramientas de IA no está permitido\n",
        "* Puede consultar la documentación de las librerias.\n",
        "* Sea ordendado dando la solución a cada punto.\n",
        "* *Asegurese que el notebook corra completamente*\n",
        "* Suba su notebook al GitHub (en su carpeta) y recuerde hacer pull-request"
      ],
      "metadata": {
        "id": "VqRX_GXcNZOl"
      }
    },
    {
      "cell_type": "markdown",
      "source": [
        "# 1\n",
        "\n",
        "**(20 puntos)**\n",
        "Considera la siguiente integral:\n",
        "\n",
        "$$\n",
        "I = \\int_0^1 \\int_{x^2}^{x+1} \\int_{y^2}^{y+2} \\int_{z^2}^{z+3} (x+y+z+w) \\, dw \\, dz \\, dy \\, dx\n",
        "$$\n",
        "\n",
        "Encuentre la solución númerica usando unicamente `quad`. Encuentre el error relativo, para esto emplee el siguiente código que usa `nquad`:\n",
        "\n",
        "\n",
        "```python\n",
        "# Definir el integrando\n",
        "integrand = lambda w, z, y, x: x + y + z + w\n",
        "\n",
        "# Definir los límites usando funciones lambda\n",
        "w_limits = lambda z, y, x: [z**2, z+3]\n",
        "z_limits = lambda y, x: [y**2, y+2]\n",
        "y_limits = lambda x: [x**2, x+1]\n",
        "x_limits = lambda: [0, 1]\n",
        "\n",
        "# Calcular la integral usando nquad\n",
        "result, error = nquad(\n",
        "    integrand,\n",
        "    [w_limits, z_limits, y_limits, x_limits]\n",
        ")\n",
        "\n",
        "print(f\"Resultado de la integral: {result}\")\n",
        "print(f\"Error estimado: {error}\")\n",
        "```\n",
        "\n"
      ],
      "metadata": {
        "id": "u1OxHrJINZ9c"
      }
    },
    {
      "cell_type": "code",
      "source": [
        "# resultado de nquad:\n",
        "\n",
        "# Definir el integrando\n",
        "integrand = lambda w, z, y, x: x + y + z + w\n",
        "\n",
        "# Definir los límites usando funciones lambda\n",
        "w_limits = lambda z, y, x: [z**2, z+3]\n",
        "z_limits = lambda y, x: [y**2, y+2]\n",
        "y_limits = lambda x: [x**2, x+1]\n",
        "x_limits = lambda: [0, 1]\n",
        "\n",
        "# Calcular la integral usando nquad\n",
        "result, error = nquad(\n",
        "    integrand,\n",
        "    [w_limits, z_limits, y_limits, x_limits]\n",
        ")\n",
        "\n",
        "print(f\"Resultado de la integral: {result}\")\n",
        "print(f\"Error estimado: {error}\")"
      ],
      "metadata": {
        "id": "cZURwltmOSgu",
        "colab": {
          "base_uri": "https://localhost:8080/"
        },
        "outputId": "704b6109-3849-4e7a-9f16-6971af062a6c"
      },
      "execution_count": null,
      "outputs": [
        {
          "output_type": "stream",
          "name": "stdout",
          "text": [
            "Resultado de la integral: -0.6500971589021813\n",
            "Error estimado: 1.8391891749223705e-12\n"
          ]
        }
      ]
    },
    {
      "cell_type": "code",
      "source": [
        "# Procedimiento con quad #\n",
        "integrand = lambda x, y, z, w: x + y + z + w\n",
        "\n",
        "# limites de integracion #\n",
        "\n",
        "a, b = 0, 1\n",
        "c, d = lambda x: x**2, lambda x: x + 1\n",
        "e, f = lambda x,y: y**2, lambda x,y: y + 2\n",
        "g, h = lambda x,y,z: z**2, lambda x,y,z: z + 3\n",
        "\n",
        "# funciones que utilizaremos para calcular la integral\n",
        "\n",
        "def I_w(x,y,z):\n",
        "  f_z = lambda w: integrand(x,y,z,w)\n",
        "  return(quad(f_z, g(x,y,z), h(x,y,z)))[0]\n",
        "\n",
        "def I_z(x,y):\n",
        "  f_y = lambda z: I_w(x,y,z)\n",
        "  return quad(f_y, e(x,y), f(x,y))[0]\n",
        "\n",
        "def I_y(x):\n",
        "  f_x = lambda y: I_z(x,y)\n",
        "  return quad(f_x, c(x), d(x))[0]\n",
        "\n",
        "# resultado de la integral\n",
        "\n",
        "result_quad, error_quad = quad(I_y, a,b)\n",
        "\n",
        "print(f\"Resultado de la integral: {result_quad}\")\n",
        "print(f\"Error estimado: {error_quad}\")\n",
        "\n",
        "\n",
        "# Error relativo #\n",
        "\n",
        "print(f\"\"\"\n",
        "Ahora, el error 'relativo'(no es relativo, caremonda) es de {abs(error_quad - error)}\"\"\")\n"
      ],
      "metadata": {
        "colab": {
          "base_uri": "https://localhost:8080/"
        },
        "id": "Cj9uCf6qX6Zd",
        "outputId": "02c3dcc0-e5c5-48ef-d40b-dfa6944903ec"
      },
      "execution_count": null,
      "outputs": [
        {
          "output_type": "stream",
          "name": "stdout",
          "text": [
            "Resultado de la integral: -0.6500971589021813\n",
            "Error estimado: 1.5813253071872154e-13\n",
            "\n",
            "Ahora, el error 'relativo'(no es relativo, caremonda) es de 0.0\n"
          ]
        }
      ]
    },
    {
      "cell_type": "markdown",
      "source": [
        "# 2\n",
        "\n",
        "**(40 puntos)**\n",
        "Un lazo de corriente de radio $a$  transporta una corriente $I$ en el punto P que está a una distancia $r$ del centro del lazo con coordenadas esféricas (r, θ, φ). Resuelve para la componente φ del potencial vectorial en el punto $P$ en términos de integrales elípticas:\n",
        "\n",
        "\\begin{equation}\n",
        "A_{\\phi}(r, \\theta)=\\frac{\\mu_0}{4\\pi}\\frac{4Ia}{\\sqrt{a^2+r^2+2ar\\sin \\theta}}\\left(\\frac{(2-k^2)K(k)-2E(k)}{k^2} \\right)\n",
        "\\end{equation}\n",
        "\n",
        "donde\n",
        "\n",
        "\\begin{equation}\n",
        "K(k)=\\int_{0}^{\\pi/2} \\frac{\\mathrm{d\\phi}}{\\sqrt{1-k^2\\sin^2\\phi}}\n",
        "\\end{equation}\n",
        "\n",
        "\\begin{equation}\n",
        "E(k)=\\int_{0}^{\\pi/2} \\mathrm{d\\phi} \\sqrt{1-k^2\\sin^2\\phi}\n",
        "\\end{equation}\n",
        "\n",
        "\\begin{equation}\n",
        "k^2=\\frac{4ar\\sin\\theta}{a^2+r^2+2ar\\sin\\theta}\n",
        "\\end{equation}\n",
        "\n",
        "Aquí, $K(k)$ es una integral elíptica completa del primer tipo y $E(k)$ es una integral elíptica completa del segundo tipo.\n",
        "\n",
        "\n",
        "Para\n",
        "* $a$ = 1,\n",
        "* $I$ = 3,\n",
        "* $μ0/4π$ = 1\n",
        "\n",
        "\n",
        "Usando funciones explicitas explique claramente las entradas, salidas y procedimientos dentro de las mismas. Recuerde para resolver las integrales usar `quad` y grafique para:\n",
        "\n",
        "*a)* $A_φ(r = 1.1, θ)$ vs. $0\\leq θ\\leq \\pi$\n",
        "\n",
        "*b)* $A_φ(r, θ = π∕3)$ vs. $0\\leq r \\leq 10$\n",
        "\n",
        "Tenga cuidado con la convergencia de su integral\n",
        "\n"
      ],
      "metadata": {
        "id": "ryB1EksIOV_l"
      }
    },
    {
      "cell_type": "code",
      "source": [
        "# datos dados #\n",
        "\n",
        "a = 1\n",
        "I = 3\n",
        "k = 1\n",
        "\n",
        "k_2 = lambda r, thetha: (4*a*r*np.sin(thetha))/(a**2 + r**2 + 2*a*r*np.sin(thetha))\n",
        "\n",
        "# a)\n",
        "# datos dados #\n",
        "\n",
        "r_a = 1.1\n",
        "\n",
        "# linspace de thetha #\n",
        "thetha_lin = np.linspace(0.01, np.pi- 1e-2, 1000)\n",
        "\n",
        "\n",
        "# Aqui encontramos los valores de thetha\n",
        "A = []\n",
        "for i in thetha_lin:\n",
        "\n",
        "  ks = k_2(r_a, i)\n",
        "  Es = lambda phi: (1 - ks*(np.sin(phi)**2))**0.5\n",
        "  Ks = lambda phi: 1/Es(phi)\n",
        "  Ei = quad(Es, 0, np.pi/2)[0]\n",
        "  Ki = quad(Ks, 0, np.pi/2)[0]\n",
        "  Ai = k*((4*I*a)/((a**2 + r_a**2 + (2*r_a*a*np.sin(i)))**0.5))*(((2 - ks)*Ki - 2*Ei)/ks)\n",
        "  A.append(Ai)\n",
        "\n",
        "A = np.array(A)\n",
        "plt.plot(thetha_lin, A, label = 'A(1.1, /$thetha$) vs /thetha')\n",
        "plt.xlabel('/thetha')\n",
        "plt.ylabel('A(1.1, /$thetha$)')\n",
        "plt.legend()\n",
        "plt.grid()\n",
        "plt.show()\n"
      ],
      "metadata": {
        "id": "yGrEqwaNOh_8",
        "colab": {
          "base_uri": "https://localhost:8080/",
          "height": 449
        },
        "outputId": "c4d316da-64d3-4ef3-af90-b5efc4edc8f8"
      },
      "execution_count": null,
      "outputs": [
        {
          "output_type": "display_data",
          "data": {
            "text/plain": [
              "<Figure size 640x480 with 1 Axes>"
            ],
            "image/png": "[encoded data removed]"
          },
          "metadata": {}
        }
      ]
    },
    {
      "cell_type": "code",
      "source": [
        "# b)\n",
        "# datos dados #\n",
        "\n",
        "thetha_b = np.pi/3\n",
        "\n",
        "# linspace de thetha #\n",
        "r_lin = np.linspace(0.01, 10, 1000)\n",
        "\n",
        "\n",
        "# Aqui encontramos los valores de thetha\n",
        "A = []\n",
        "for i in r_lin:\n",
        "\n",
        "  ks = k_2(i, thetha_b)\n",
        "  Es = lambda phi: (1 - ks*(np.sin(phi)**2))**0.5\n",
        "  Ks = lambda phi: 1/Es(phi)\n",
        "  Ei = quad(Es, 0, np.pi/2)[0]\n",
        "  Ki = quad(Ks, 0, np.pi/2)[0]\n",
        "  Ai = k*((4*I*a)/((a**2 + i**2 + (2*i*a*np.sin(thetha_b)))**0.5))*(((2 - ks)*Ki - 2*Ei)/ks)\n",
        "  A.append(Ai)\n",
        "\n",
        "A = np.array(A)\n",
        "plt.plot(thetha_lin, A, label = 'A(r, pi/3) vs /thetha')\n",
        "plt.xlabel('/thetha')\n",
        "plt.ylabel('A(r, pi/3)')\n",
        "plt.legend()\n",
        "plt.grid()\n",
        "plt.show()"
      ],
      "metadata": {
        "colab": {
          "base_uri": "https://localhost:8080/",
          "height": 449
        },
        "id": "D_bIDx9wi2df",
        "outputId": "dfc72f59-c9fe-414f-baf5-1a997ec4ffc6"
      },
      "execution_count": null,
      "outputs": [
        {
          "output_type": "display_data",
          "data": {
            "text/plain": [
              "<Figure size 640x480 with 1 Axes>"
            ],
            "image/png": "[encoded data removed]"
          },
          "metadata": {}
        }
      ]
    },
    {
      "cell_type": "markdown",
      "source": [
        "# 3\n",
        "\n",
        "(**40 puntos**) El **método de la potencia inversa** es una técnica iterativa utilizada para calcular el autovalor de menor magnitud de una matriz cuadrada. Es una variante del **método de la potencia**, que normalmente encuentra el autovalor de mayor magnitud. Para ello, se aprovecha la propiedad de la matriz inversa:\n",
        "\n",
        "$$ A^{-1} v = \\frac{1}{\\lambda} v $$\n",
        "\n",
        "\n",
        "## Algoritmo\n",
        "\n",
        "El método de la potencia inversa sigue los siguientes pasos:\n",
        "\n",
        "1. Elegir un vector inicial $x^{(0)}$ no nulo.\n",
        "\n",
        "2. Para cada iteración $k$, resolver el sistema lineal:\n",
        "   \n",
        "   $$ A y^{(k)} = x^{(k-1)} $$\n",
        "   \n",
        "   donde $y^{(k)}$ es un **vector intermedio** que se obtiene resolviendo el sistema lineal. Este vector representa la solución del sistema en cada iteración y es crucial para aproximar el autovector de menor autovalor.\n",
        "\n",
        "3. Normalizar $y^{(k)}$ para obtener un nuevo vector de iteración:\n",
        "   \n",
        "   $$ x^{(k)} = \\frac{y^{(k)}}{\\| y^{(k)} \\|} $$\n",
        "   \n",
        "4. Aproximar el autovalor mediante el cociente de Rayleigh:\n",
        "   \n",
        "   $$ \\lambda^{(k)} = \\frac{(x^{(k)})^T A x^{(k)}}{(x^{(k)})^T x^{(k)}} $$\n",
        "   \n",
        "5. Repetir los pasos anteriores hasta que la diferencia entre valores sucesivos de $\\lambda$ sea menor que un umbral de tolerancia.\n",
        "\n",
        "---\n",
        "\n",
        "*a)* Escriba una función llamada `potencia_inversa` que dada una matriz A encuentre su valor propio menos dominante (con una tolerancia de 1e-7 usando la norma Euclidiana) y su correspondiente autovector. Para obtener $y^{(k)}$ puede emplear `np.linalg.solve` recordando que $Ay = x$.\n",
        "\n",
        "*b)* Usando la matriz A, encuentre el $\\lambda_{min}$ y el correspondiente autovector. Examine la convergencia de su autovalor en función de las iteraciones, esto es, haga un gráfico de $\\lambda(k)$\n",
        "\n",
        "$$\n",
        "\\begin{bmatrix}\n",
        "5 & 2 \\\\\n",
        "2 & 2\n",
        "\\end{bmatrix}\n",
        "$$\n",
        "\n",
        "*c)* Compare su resultado con `np.linalg.eig`"
      ],
      "metadata": {
        "id": "pKubcNlWP0nc"
      }
    },
    {
      "cell_type": "code",
      "source": [
        "# matriz B\n",
        "B = np.array([[5,2],\n",
        "              [2,2]], dtype = float)\n",
        "\n",
        "#a)\n",
        "def potencia_inversa(A, tol = 1e-7, Nmax = 100):\n",
        "  n = np.shape(A)[0]\n",
        "  x = np.random.rand(n)\n",
        "  valor0 = 0.0\n",
        "  k_lin = []\n",
        "  lambda_lin = []\n",
        "\n",
        "  for k in range(Nmax):\n",
        "    yk = np.linalg.solve(A, x)\n",
        "    yk_n = np.linalg.norm(yk)\n",
        "    xk = yk*(1/yk_n)\n",
        "    p = xk.T@(A)@xk\n",
        "    q = xk.T@xk\n",
        "    valor = p/q\n",
        "    lambda_lin.append(valor)\n",
        "    #print(k_lin)\n",
        "    k_lin.append(k)\n",
        "\n",
        "    if np.max(np.abs(valor - valor0)) < tol:\n",
        "      print(f\"converge despues de {k} iteraciones\")\n",
        "\n",
        "      return valor, xk, lambda_lin, k_lin\n",
        "    valor0 = valor\n",
        "    x = xk\n",
        "\n",
        "  print(\"no converge\")\n",
        "  return valor, xk, lambda_lin, k_lin\n",
        "\n",
        "\n",
        "#b)\n",
        "valor_min, eig, lambda_lin, k_lin = potencia_inversa(B)\n",
        "\n",
        "\n",
        "print(f\"El valor minimo es: {valor_min}\")\n",
        "print(f\"El autovector asociado es: {eig}\")\n",
        "\n",
        "plt.plot(k_lin, lambda_lin, 'o')\n",
        "plt.xlabel('k')\n",
        "plt.ylabel('lambda(k)')\n",
        "plt.grid()\n",
        "plt.show()\n",
        "\n",
        "\n",
        "\n",
        "\n",
        "\n"
      ],
      "metadata": {
        "id": "ZhnTbHAgP4XJ",
        "colab": {
          "base_uri": "https://localhost:8080/",
          "height": 605
        },
        "outputId": "ea2bc49c-6366-46e1-f55e-61685aa12457"
      },
      "execution_count": 94,
      "outputs": [
        {
          "output_type": "stream",
          "name": "stdout",
          "text": [
            "[]\n",
            "[0]\n",
            "[0, 1]\n",
            "[0, 1, 2]\n",
            "[0, 1, 2, 3]\n",
            "[0, 1, 2, 3, 4]\n",
            "converge despues de 5 iteraciones\n",
            "El valor minimo es: 1.0000000008477385\n",
            "El autovector asociado es: [-0.44720195  0.89443301]\n"
          ]
        },
        {
          "output_type": "display_data",
          "data": {
            "text/plain": [
              "<Figure size 640x480 with 1 Axes>"
            ],
            "image/png": "[encoded data removed]"
          },
          "metadata": {}
        }
      ]
    },
    {
      "cell_type": "code",
      "source": [
        "# c)\n",
        "\n",
        "valor_r, vector_r = np.linalg.eig(B)\n",
        "print(f\"\"\"el error entre nuestro valor propio aproximado y np.linalg.eig(B)\n",
        "es de {abs(valor_min-min(valor_r))}\"\"\")\n",
        "print(f\"\"\"el error entre nuestro vector propio aproximado y np.linalg.eig(B)\n",
        "es de {np.linalg.norm(eig-np.min(vector_r))}\"\"\")"
      ],
      "metadata": {
        "colab": {
          "base_uri": "https://localhost:8080/"
        },
        "id": "hbd4yFp6EI5b",
        "outputId": "d3d55601-cfa2-4269-b9b6-f0d77dd4af09"
      },
      "execution_count": 101,
      "outputs": [
        {
          "output_type": "stream",
          "name": "stdout",
          "text": [
            "el error entre nuestro valor propio aproximado y np.linalg.eig(B)\n",
            "es de 8.477385460281539e-10\n",
            "el error entre nuestro vector propio aproximado y np.linalg.eig(B)\n",
            "es de 1.3416466096650594\n"
          ]
        }
      ]
    },
    {
      "cell_type": "markdown",
      "source": [
        "#4\n",
        "\n",
        "**(10 puntos)**\n",
        "Sea $A$ una matriz cuadrada de tamaño $n \\times n$. Se sabe que el determinante de una matriz es igual al producto de sus autovalores:\n",
        "\n",
        "$$\n",
        "\\det(A) = \\prod_{i=1}^{n} \\lambda_i\n",
        "$$\n",
        "\n",
        "donde $\\lambda_1, \\lambda_2, \\dots, \\lambda_n$ son los autovalores de $A$.\n",
        "\n",
        "Usando una matriz aleatoria $A$ de $5\\times 5$, demuestre esta propiedad. Puede usar las funciones de `np.linalg`."
      ],
      "metadata": {
        "id": "Qz8QJCjWYds5"
      }
    },
    {
      "cell_type": "code",
      "source": [
        "# Matriz 5x5 aleatoria,\n",
        "\n",
        "A = np.random.randint(-100,100,(5,5))\n",
        "A"
      ],
      "metadata": {
        "colab": {
          "base_uri": "https://localhost:8080/"
        },
        "id": "GeXcMRg7mFN3",
        "outputId": "1f10025c-a5fa-4438-d7c3-05f4b494d58a"
      },
      "execution_count": null,
      "outputs": [
        {
          "output_type": "execute_result",
          "data": {
            "text/plain": [
              "array([[  -4,   -3, -100,   57,   70],\n",
              "       [ -49,   35,  -22,   39,   69],\n",
              "       [   7,  -32,   72,    7,  -63],\n",
              "       [  -3,   68,  -97,  -38,  -39],\n",
              "       [ -26,   46,   45,  -98,   94]])"
            ]
          },
          "metadata": {},
          "execution_count": 44
        }
      ]
    },
    {
      "cell_type": "code",
      "source": [
        "# definimos n#\n",
        "n = np.shape(A)[0]\n",
        "\n",
        "# Autovalores #\n",
        "eig = np.linalg.eig(A)[0]\n",
        "\n",
        "# encontremos el determinante #\n",
        "\n",
        "det = 1\n",
        "for i in range(n):\n",
        "  det *= eig[i]\n",
        "\n",
        "# Valor del determinante #\n",
        "\n",
        "print(f\"El valor de el determinante de A es: {det}\")\n",
        "\n",
        "print(np.isclose(det, np.linalg.det(A)))"
      ],
      "metadata": {
        "id": "TCWf5TUwYgKq",
        "colab": {
          "base_uri": "https://localhost:8080/"
        },
        "outputId": "77abf08f-7be2-409c-fd16-9ebfc968f279"
      },
      "execution_count": null,
      "outputs": [
        {
          "output_type": "stream",
          "name": "stdout",
          "text": [
            "El valor de el determinante de A es: (604197276.0000027-0j)\n",
            "True\n"
          ]
        }
      ]
    },
    {
      "cell_type": "code",
      "source": [
        "np.linalg.norm??"
      ],
      "metadata": {
        "id": "aVVDY23Tj59x"
      },
      "execution_count": null,
      "outputs": []
    }
  ]
}