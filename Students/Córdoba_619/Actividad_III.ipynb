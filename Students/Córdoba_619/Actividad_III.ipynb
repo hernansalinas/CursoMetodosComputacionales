{
  "cells": [
    {
      "cell_type": "code",
      "execution_count": null,
      "metadata": {
        "cellView": "form",
        "id": "rZuc8vXcWuxy"
      },
      "outputs": [],
      "source": [
        "#@title Librerias\n",
        "import numpy as np\n",
        "import matplotlib.pyplot as plt\n",
        "import pandas as pd"
      ]
    },
    {
      "cell_type": "markdown",
      "metadata": {
        "id": "MGwGfceuWxy3"
      },
      "source": [
        "# Actividad 03: Representación númerica\n",
        "\n",
        "---\n",
        "### Profesor: Juan Marcos Marín\n",
        "### Nombre: Edgar Junior Córdoba Gamboa\n",
        "*Métodos computacionales 2024-II*\n",
        "\n",
        "---"
      ]
    },
    {
      "cell_type": "markdown",
      "metadata": {
        "id": "jB6BqzoSamB0"
      },
      "source": [
        "**NOTA: No utilizar los métodos `bin` o `int`**"
      ]
    },
    {
      "cell_type": "markdown",
      "metadata": {
        "id": "BOi6yQmJW7os"
      },
      "source": [
        "1. Escriba una función que se llame `mybin` que reciba un número entero real de 16 bits y realice su conversión en código binario, compare su resultado con `bin(4321)`"
      ]
    },
    {
      "cell_type": "code",
      "execution_count": null,
      "metadata": {
        "id": "xbt3ZmYiW6oF",
        "colab": {
          "base_uri": "https://localhost:8080/"
        },
        "outputId": "bf4ec687-04b5-4735-c581-54fc0733f9b8"
      },
      "outputs": [
        {
          "output_type": "stream",
          "name": "stdout",
          "text": [
            "01000011100001\n",
            "0b1000011100001\n"
          ]
        }
      ],
      "source": [
        "import math\n",
        "\n",
        "def mybin(x) :\n",
        "\n",
        "  lista = []\n",
        "\n",
        "  if x < 0 :\n",
        "    lista.append(1)\n",
        "\n",
        "  else :\n",
        "    lista.append(0)\n",
        "\n",
        "  while x != 0 :\n",
        "\n",
        "    lista.append(abs(x % 2))\n",
        "    x = abs(math.floor(x/2))\n",
        "\n",
        "  lista[1:] = lista[1:][::-1]\n",
        "\n",
        "  return ''.join(map(str,lista))\n",
        "\n",
        "\n",
        "\n",
        "print(mybin(4321))\n",
        "print(bin(4321))"
      ]
    },
    {
      "cell_type": "markdown",
      "metadata": {
        "id": "5X_8-jpEXjSw"
      },
      "source": [
        "2. Cree una función llamada `myint` pero que a partir de un número binario con base de 16 bits encuentre el entero correspondiente. Compare su resultado con `int(0b1000011100001)`"
      ]
    },
    {
      "cell_type": "code",
      "execution_count": null,
      "metadata": {
        "id": "VmS2TiF4XsbN",
        "colab": {
          "base_uri": "https://localhost:8080/"
        },
        "outputId": "8410309c-c5f2-4643-e9cf-4f513c03fbe1"
      },
      "outputs": [
        {
          "output_type": "stream",
          "name": "stdout",
          "text": [
            "4321\n",
            "4321\n"
          ]
        }
      ],
      "source": [
        "def myint(a) :\n",
        "\n",
        "  a = bin(a)\n",
        "  numero = 0\n",
        "\n",
        "  if a[1] == '1' :\n",
        "\n",
        "    a = a[2:]\n",
        "\n",
        "    for i in range(len(a)) :\n",
        "\n",
        "      numero += int(a[i]) * 2**i\n",
        "\n",
        "    numero = (-1) * num\n",
        "\n",
        "  else :\n",
        "\n",
        "    a = a[2:]\n",
        "\n",
        "    for i in range(len(a)) :\n",
        "\n",
        "      numero += int(a[i]) * 2**i\n",
        "\n",
        "  return numero\n",
        "\n",
        "print(myint(0b1000011100001))\n",
        "print(int(0b1000011100001))"
      ]
    },
    {
      "cell_type": "markdown",
      "metadata": {
        "id": "pHQ8ftloYPO5"
      },
      "source": [
        "3. Generar una función llamada `number64` para flotantes de precisión doble (64bits) donde a partir de un número binario encuentre el valor real. Compruebe su solución usando\n",
        "\n",
        "```\n",
        "number64(\"0100000000111011100100001111111111111111111111111111111111111111\")\n",
        "```\n",
        "\n"
      ]
    },
    {
      "cell_type": "code",
      "source": [
        "def numero64(binario):\n",
        "    # Convertir el signo ('0' es positivo, '1' es negativo)\n",
        "    signo = (-1) if binario[0] == '1' else 1\n",
        "\n",
        "    # Convertir el exponente binario a decimal\n",
        "    exponente_real = 0\n",
        "\n",
        "    for i in range(len(binario[1:12])):  # Del bit 1 al 11\n",
        "\n",
        "        bit = 1 if binario[1 + i] == '1' else 0\n",
        "\n",
        "        exponente_real += bit * (2 ** (10 - i))  # Sumar el valor de cada bit según su posición\n",
        "\n",
        "    exponente_real -= 1023  # Restar el sesgo de 1023\n",
        "\n",
        "    # Convertir la mantisa binaria a decimal\n",
        "\n",
        "    mantisa_real = 1  # El 1 implícito en la mantisa\n",
        "\n",
        "    for i in range(len(binario[12:])):  # Del bit 12 al 63\n",
        "\n",
        "        bit = 1 if binario[12 + i] == '1' else 0\n",
        "\n",
        "        mantisa_real += bit * (2 ** -(i + 1))  # Sumar cada bit según su potencia de 2 negativa\n",
        "\n",
        "    # Calcular el número real final\n",
        "\n",
        "    numero_real = signo * mantisa_real * (2 ** exponente_real)\n",
        "\n",
        "    return numero_real\n",
        "\n",
        "# Ejemplo de uso\n",
        "s = \"0100000000111011100100001111111111111111111111111111111111111111\"\n",
        "resultado = numero64(s)\n",
        "print(resultado)\n"
      ],
      "metadata": {
        "colab": {
          "base_uri": "https://localhost:8080/"
        },
        "id": "tGLHbKh4RRa2",
        "outputId": "8e20d505-02c6-4fc0-bb9c-025d79d30597"
      },
      "execution_count": null,
      "outputs": [
        {
          "output_type": "stream",
          "name": "stdout",
          "text": [
            "27.566406249999996\n"
          ]
        }
      ]
    },
    {
      "cell_type": "markdown",
      "metadata": {
        "id": "xwyZCxWtZZoH"
      },
      "source": [
        "4. ***(Opcional)*** Escriba una función que convierta un número con base de 8 bits en hexadecimal, compruebe su respuesta con `hex` e imprimalo también en binario."
      ]
    },
    {
      "cell_type": "code",
      "execution_count": null,
      "metadata": {
        "id": "SpJuueSgbJ4I"
      },
      "outputs": [],
      "source": [
        "# Aqui va su código"
      ]
    }
  ],
  "metadata": {
    "colab": {
      "provenance": []
    },
    "kernelspec": {
      "display_name": "Python 3",
      "name": "python3"
    },
    "language_info": {
      "name": "python"
    }
  },
  "nbformat": 4,
  "nbformat_minor": 0
}