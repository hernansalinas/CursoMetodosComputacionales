{
  "nbformat": 4,
  "nbformat_minor": 0,
  "metadata": {
    "colab": {
      "provenance": []
    },
    "kernelspec": {
      "name": "python3",
      "display_name": "Python 3"
    },
    "language_info": {
      "name": "python"
    }
  },
  "cells": [
    {
      "cell_type": "code",
      "execution_count": 18,
      "metadata": {
        "id": "tHpNe2JeCEEl",
        "cellView": "form"
      },
      "outputs": [],
      "source": [
        "#@title Librerias\n",
        "\n",
        "import numpy as np # Númerica\n",
        "import math as mt\n",
        "import matplotlib.pyplot as plt # Gráficas\n",
        "from scipy.integrate import quad, trapezoid, simpson, tplquad, fixed_quad # Integracón\n",
        "from scipy.interpolate import CubicSpline, interp1d, lagrange # Interpolación\n",
        "from scipy.optimize import fsolve, root_scalar, newton # Raíces\n",
        "from scipy.stats import linregress # Regresión\n",
        "import sympy as sp # Simbólica\n",
        "import pandas as pd"
      ]
    },
    {
      "cell_type": "markdown",
      "source": [
        "# Parcial I - Métodos Computacionales\n",
        "**2024-2**\n",
        "\n",
        "---\n",
        "\n",
        "*Nombre:*\n",
        "\n",
        "*Identificación:*\n",
        "\n",
        "---\n",
        "* Sea honest@\n",
        "* El uso de herramientas de IA no está permitido\n",
        "* Puede consultar la documentación de las librerias.\n",
        "* Sea ordendado dando la solución a cada punto.\n",
        "* *Asegurese que el notebook corra completamente*\n",
        "* Suba su notebook al GitHub del curso y recuerde hacer pull-request"
      ],
      "metadata": {
        "id": "OigRjwVqCIqQ"
      }
    },
    {
      "cell_type": "markdown",
      "source": [
        "# 1\n",
        "\n",
        "**(40 puntos)** La velocidad del agua $v$ [m/s] en la descarga de un tanque cilindrico a través de un tubo largo (como se muestra en la figura) se puede calcular como:\n",
        "\n",
        "$$\n",
        "v = \\sqrt{2gH}\\tanh{\\left(\\frac{\\sqrt{2gH}}{2L}t\\right)}\n",
        "$$\n"
      ],
      "metadata": {
        "id": "tMu5NJHSF9GI"
      }
    },
    {
      "cell_type": "markdown",
      "source": [
        "\n",
        "![image.png](data:image/png;base64,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)"
      ],
      "metadata": {
        "id": "UI_6Uqs_CrWY"
      }
    },
    {
      "cell_type": "markdown",
      "source": [
        "donde $g$ = 9.81 m/s$^2$, H es la carga hidrostática inicial (m), L la longitud del tubo (m) y $t$ el tiempo transcurrido (s).\n",
        "\n",
        "*a)* Escriba una función explicita para encontrar la velocidad de descarga en función de las variables asociadas.\n",
        "\n",
        "*b)* Realice un gráfico de $v(H)$ para $0\\leq H\\leq 5$, con $L = 4$ m y para $t = 2.5$ s\n",
        "\n",
        "*c)* Suponga que quiere conocer la carga hidrostática necesaria para tener una velocidad de 5 m/s transcurridos 2.5 s. Identifique gráficamente este valor.\n",
        "\n",
        "*d)* Realice una función que encuentre la raiz usando el método de bisección con una tolerancia de 1e-7, para esto puede modificar el siguiente pseudo-código:\n",
        "\n",
        "\n",
        "```python\n",
        "MÉTODO BISECCIÓN(f, a, b, tol)\n",
        "    MIENTRAS (b - a)/2 > tol HACER\n",
        "        c = (a + b)/2\n",
        "        \n",
        "        SI f(c) = 0 ENTONCES\n",
        "            RETORNAR c\n",
        "        \n",
        "        SI f(a)*f(c) < 0 ENTONCES\n",
        "            b = c\n",
        "        SINO\n",
        "            a = c\n",
        "        FIN SI\n",
        "    FIN MIENTRAS\n",
        "    \n",
        "    RETORNAR (a + b)/2\n",
        "FIN MÉTODO\n",
        "```\n",
        "\n",
        "*e)* Usando el método de `scipy.newton` encuentre el valor de la raiz\n",
        "\n",
        "```python\n",
        "# Método de Newton\n",
        "root = newton(f, x0, fprime)  # fprime es la derivada\n",
        "```\n",
        "\n",
        "Compare sus respuestas con el numeral anterior y obtenga el error relativo.\n"
      ],
      "metadata": {
        "id": "oX1UaEOVHXsm"
      }
    },
    {
      "cell_type": "code",
      "source": [
        "#Punto a\n",
        "#Valores Dados\n",
        "g = 9.81\n",
        "l =4\n",
        "t = 2.5\n",
        "# Creamos la Funcion\n",
        "def vd(H, g, L, t):\n",
        "    r = np.sqrt(2 * g * H)\n",
        "    v = r * np.tanh(r * t / (2 * L))\n",
        "    return v\n",
        "\n",
        "#Punto B\n",
        "#Valores de H\n",
        "H_inter = np.linspace(0, 5, 100)\n",
        "valores = vd(H_inter, g, l, t)\n",
        "plt.plot(H_inter, valores, label='v(H)', color='black')\n",
        "plt.xlabel('H Altura')\n",
        "plt.ylabel('v Velocidad')\n",
        "plt.title('Gráfico de v(H)')\n",
        "plt.grid()\n",
        "plt.show()\n",
        "\n",
        "# Punto c\n",
        "\n",
        "#Punto d\n",
        "def Biseccion(f,a,b, tol =1e-7):\n",
        "  while (b-a)/2> tol:\n",
        "    c = (a+b)/2\n",
        "    if f(c) == 0:\n",
        "      return\n",
        "    if f(a) * f(b) < 0:\n",
        "      b = c\n",
        "    else:\n",
        "      a = c\n",
        "    iteracion =+ 1\n",
        "  return (a + b) / 2\n",
        "\n",
        "\n",
        "\n",
        ""
      ],
      "metadata": {
        "colab": {
          "base_uri": "https://localhost:8080/",
          "height": 472
        },
        "id": "xhpa0ejeNyqf",
        "outputId": "a0516e3f-def2-49b2-f618-c04b550598d0"
      },
      "execution_count": 62,
      "outputs": [
        {
          "output_type": "display_data",
          "data": {
            "text/plain": [
              "<Figure size 640x480 with 1 Axes>"
            ],
            "image/png": "[encoded data removed]"
          },
          "metadata": {}
        }
      ]
    },
    {
      "cell_type": "markdown",
      "source": [
        "# 2\n",
        "\n",
        "**(30 puntos)** Usualmente algunas reacciones quimicas siguen el siguiente modelo:\n",
        "\n",
        "$$\n",
        "\\frac{dc}{dt} = -kc^n\n",
        "$$\n",
        "\n",
        "donde $c$ es la concentración, $t$ el tiempo, $k$ la tasa de la reacción y $n$ su orden. Usando los siguientes datos:\n",
        "\n",
        "\n",
        "\n",
        "```python\n",
        "# Datos dados\n",
        "t = np.array([10, 20, 30, 40, 50, 60])\n",
        "c = np.array([3.52, 2.48, 1.75, 1.23, 0.87, 0.61])\n",
        "```\n",
        "\n",
        "\n",
        "*a)* Conociendo que el método de diferencias finitas se puede escribir como:\n",
        "\n",
        "###  Diferencias finitas hacia adelante:\n",
        "Aproximación de primer orden:\n",
        "$$\n",
        "f'(x_i) \\approx \\frac{f(x_{i+1}) - f(x_i)}{h}\n",
        "$$\n",
        "\n",
        "### Diferencias finitas hacia atrás:\n",
        "Aproximación de primer orden:\n",
        "$$\n",
        "f'(x_i) \\approx \\frac{f(x_i) - f(x_{i-1})}{h}\n",
        "$$\n",
        "\n",
        "### Diferencias finitas centradas:\n",
        "Aproximación de segundo orden:\n",
        "$$\n",
        "f'(x_i) \\approx \\frac{f(x_{i+1}) - f(x_{i-1})}{2h}\n",
        "$$\n",
        "\n",
        "Escribe una función explicita que calcule $dc/dt$ usando el método de diferencias finitas a partir de los valores de $c$ y $t$, luego grafique en función de t. *Ayuda: No es necesario interpolar*\n",
        "\n",
        "*b)* Compare el resultado anterior con `numpy.gradient`, se acercan?\n",
        "\n",
        "*c)* Linealice la ecuación inicial (para esto puede usar log) y encuentre los valores correspondientes a $k$ y $n$\n",
        "\n",
        "\n",
        "\n",
        "```python\n",
        "# Realizar el ajuste lineal\n",
        "slope, intercept, r_value, p_value, std_err = linregress(x, y)\n",
        "```\n",
        "\n",
        "*d)* Finalmente, usando los valores de $k$ y $n$ grafique $dc/dt$ y compare con los datos de la tabla. ¿Se comportan igual, determine el error máximo?\n",
        "\n",
        "\n"
      ],
      "metadata": {
        "id": "n0Lq7lhnABEb"
      }
    },
    {
      "cell_type": "code",
      "source": [
        "from typing import AbstractSet\n",
        "# Aqui va su código\n",
        "\n",
        "v1 = {'t':[10, 20, 30, 40, 50, 60],'c':[3.52, 2.48, 1.75, 1.23, 0.87, 0.61]}\n",
        "t_ = v1['t']\n",
        "c_ = v1['c']\n",
        "\n",
        "#Regresión hacia atras 't'\n",
        "def r_t(x,y):\n",
        "  return np.array([(y[i]-y[i-1])/(x[i]-x[i-1]) for i in range(len(x))])\n",
        "\n",
        "#Regresion Hacia adelante 'a'\n",
        "def r_a(x,y):\n",
        "  return np.array([(y[i+1]-y[i])/(x[i+1]-x[i]) for i in range(len(x)-1)])\n",
        "\n",
        "#Regresion Centrada 'c'\n",
        "def r_c(x,y):\n",
        "  return np.array([(y[i+1]-y[i-1])/(x[i+1]-x[i]) for i in range(len(x)-1)])\n",
        "\n",
        "df_t = r_t(t_,c_)\n",
        "df_a = r_a(t_,c_)\n",
        "df_c = r_c(t_,c_)\n",
        "\n",
        "\n",
        "adelante = np.append(df_a,np.nan)\n"
      ],
      "metadata": {
        "id": "RxqXUZWV_-wQ",
        "colab": {
          "base_uri": "https://localhost:8080/"
        },
        "outputId": "50320070-84e0-4de6-b1e4-63ac4d30ad07"
      },
      "execution_count": 50,
      "outputs": [
        {
          "output_type": "stream",
          "name": "stdout",
          "text": [
            "Valores del grandiente: [ -9.61538462 -12.01457972 -16.92939937 -24.28127428 -33.98125172\n",
            " -38.46153846]\n",
            "Valores hacia delante: [-0.104 -0.073 -0.052 -0.036 -0.026    nan]\n",
            "Valores Centrada: [   nan  0.187 -0.177 -0.125 -0.088 -0.062]\n"
          ]
        }
      ]
    },
    {
      "cell_type": "markdown",
      "source": [
        "# 3\n",
        "**(30 puntos)** Considere los  datos de concentración del punto anterior\n",
        "\n",
        "```python\n",
        "# Datos dados\n",
        "t = np.array([10, 20, 30, 40, 50, 60])\n",
        "c = np.array([5.29, 6.24, 7.02, 7.68, 8.25, 8.77])\n",
        "```\n",
        "\n",
        "*a)* Realice un gráfico de $c(t)$\n",
        "\n",
        "*b)* Usando la interpolación de `scipy.interpolate.lagrange` y de `scipy.interpolate.CubicHermiteSpline` obtenga el polinomio interpolador de lagrange llamado `poly_lagrange` y de Hermite `poly_Hermite` para los datos datos.\n",
        "\n",
        "*c)* Conociendo que `scipy.interpolate.lagrange` devuelve un array tipo Polynomial, use la siguiente rutina para encontrar la derivada:\n",
        "\n",
        "``` python\n",
        "from numpy.polynomial.polynomial import Polynomial\n",
        "\n",
        "# Convertir a un objeto Polynomial para facilitar la derivación\n",
        "poly_coef = Polynomial(poly_lagrange.coef[::-1])  # Convertimos los coeficientes\n",
        "derivative = poly_coef.deriv()  # Calculamos la derivada\n",
        "```\n",
        "\n",
        "Luego, grafique $dc/dt$ en función del tiempo $t$ y compare con la función\n",
        "$$\n",
        "\\frac{dc}{dt} = -kc^n\n",
        "$$\n",
        "\n",
        "con $k = 3$ y $n = -2$\n",
        "\n",
        "*d)* Realice un gráfico del error absoluto\n",
        "\n",
        "\n"
      ],
      "metadata": {
        "id": "m2J_v5_ICfcV"
      }
    },
    {
      "cell_type": "code",
      "source": [
        "x1= {'t':[10, 20, 30, 40, 50, 60], 'c':[5.29, 6.24, 7.02, 7.68, 8.25, 8.77]}\n",
        "\n",
        "x= x1['t']\n",
        "y= x1['c']\n",
        "\n",
        "fx = np.gradient(x,y)\n",
        "\n",
        "\n",
        "plt.plot(c,t)\n",
        "plt.xlabel('t')\n",
        "plt.ylabel('c')\n",
        "plt.grid()\n",
        "plt.show()"
      ],
      "metadata": {
        "id": "PA7Zy4bdEUr7",
        "colab": {
          "base_uri": "https://localhost:8080/",
          "height": 449
        },
        "outputId": "9fbe5790-7b24-451d-e18e-77f9c8702bbe"
      },
      "execution_count": 40,
      "outputs": [
        {
          "output_type": "display_data",
          "data": {
            "text/plain": [
              "<Figure size 640x480 with 1 Axes>"
            ],
            "image/png": "[encoded data removed]"
          },
          "metadata": {}
        }
      ]
    },
    {
      "cell_type": "code",
      "source": [],
      "metadata": {
        "id": "ckornFY2bAnK"
      },
      "execution_count": null,
      "outputs": []
    }
  ]
}