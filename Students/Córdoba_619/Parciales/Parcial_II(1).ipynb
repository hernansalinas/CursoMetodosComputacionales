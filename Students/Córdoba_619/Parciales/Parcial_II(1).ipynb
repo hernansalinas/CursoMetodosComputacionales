{
  "nbformat": 4,
  "nbformat_minor": 0,
  "metadata": {
    "colab": {
      "provenance": []
    },
    "kernelspec": {
      "name": "python3",
      "display_name": "Python 3"
    },
    "language_info": {
      "name": "python"
    }
  },
  "cells": [
    {
      "cell_type": "code",
      "execution_count": 40,
      "metadata": {
        "cellView": "form",
        "id": "aF61FjHUNGJA"
      },
      "outputs": [],
      "source": [
        "#@title Librerias\n",
        "import numpy as np\n",
        "import numpy.linalg as la\n",
        "import matplotlib.pyplot as plt\n",
        "from scipy.integrate import quad, fixed_quad, trapezoid, simpson\n",
        "from sympy import symbols, diff, integrate, lambdify\n",
        "from scipy.integrate import quad, nquad\n",
        "import scipy.integrate as spi"
      ]
    },
    {
      "cell_type": "markdown",
      "source": [
        "# Parcial II - Métodos Computacionales (Integrales y Matrices)\n",
        "**2024-2**\n",
        "\n",
        "---\n",
        "\n",
        "*Nombre:Edgar Junior Córdoba Gamboa\n",
        "\n",
        "*Identificación: 1004012619\n",
        "\n",
        "---\n",
        "* Sea honest@\n",
        "* El uso de herramientas de IA no está permitido\n",
        "* Puede consultar la documentación de las librerias.\n",
        "* Sea ordendado dando la solución a cada punto.\n",
        "* *Asegurese que el notebook corra completamente*\n",
        "* Suba su notebook al GitHub (en su carpeta) y recuerde hacer pull-request"
      ],
      "metadata": {
        "id": "VqRX_GXcNZOl"
      }
    },
    {
      "cell_type": "markdown",
      "source": [
        "# 1\n",
        "\n",
        "**(20 puntos)**\n",
        "Considera la siguiente integral:\n",
        "\n",
        "$$\n",
        "I = \\int_0^1 \\int_{x^2}^{x+1} \\int_{y^2}^{y+2} \\int_{z^2}^{z+3} (x+y+z+w) \\, dw \\, dz \\, dy \\, dx\n",
        "$$\n",
        "\n",
        "Encuentre la solución númerica usando unicamente `quad`. Encuentre el error relativo, para esto emplee el siguiente código que usa `nquad`:\n",
        "\n",
        "\n",
        "```python\n",
        "# Definir el integrando\n",
        "integrand = lambda w, z, y, x: x + y + z + w\n",
        "\n",
        "# Definir los límites usando funciones lambda\n",
        "w_limits = lambda z, y, x: [z**2, z+3]\n",
        "z_limits = lambda y, x: [y**2, y+2]\n",
        "y_limits = lambda x: [x**2, x+1]\n",
        "x_limits = lambda: [0, 1]\n",
        "\n",
        "# Calcular la integral usando nquad\n",
        "result, error = nquad(\n",
        "    integrand,\n",
        "    [w_limits, z_limits, y_limits, x_limits]\n",
        ")\n",
        "\n",
        "print(f\"Resultado de la integral: {result}\")\n",
        "print(f\"Error estimado: {error}\")\n",
        "```\n",
        "\n"
      ],
      "metadata": {
        "id": "u1OxHrJINZ9c"
      }
    },
    {
      "cell_type": "code",
      "source": [
        "fw = lambda w,z,y,x: x + y + z + w # Definimos La funcion a integrar\n",
        "#Limites de cada función\n",
        "w_l = lambda z,y, x: [z**2,z+3]\n",
        "z_l = lambda y,x: [y**2, y+2]\n",
        "y_l = lambda x: [x**2, x+1]\n",
        "x_l = lambda : [0,1]\n",
        "\n",
        "# Funciones para las distintas Intengrales\n",
        "def inte_quad():\n",
        "    def int_w(z, y, x):\n",
        "        return spi.quad(lambda w: fw(w, z, y, x), *w_l(z,y,x))[0]\n",
        "    def int_z(y,x):\n",
        "      return spi.quad(lambda z: int_w(z,y,x), *z_l(y,x))[0]\n",
        "    def int_y(x):\n",
        "      return spi.quad(lambda y: int_z(y,x), *y_l(x))[0]\n",
        "# Errores obtenidos por quad\n",
        "    res, error = spi.quad(lambda x: int_y(x),*x_l())\n",
        "    return res\n",
        "\n",
        "# Calculamos la integral usando nquad\n",
        "result_nquad, error_nquad = nquad(fw, [w_l, z_l, y_l, x_l])\n",
        "\n",
        "# Resultado con quad\n",
        "quad_result = inte_quad()\n",
        "error_r = abs(quad_result - result_nquad) / abs(result_nquad)\n",
        "\n",
        "print(f'Resultado con quad: {quad_result:.2f}')\n",
        "print(f'Resultado con nquad: {result_nquad:.2f}')\n",
        "print(f'Error relativo: {error_r:.2e}')\n"
      ],
      "metadata": {
        "id": "cZURwltmOSgu",
        "colab": {
          "base_uri": "https://localhost:8080/"
        },
        "outputId": "001e9022-7fdb-4e16-b149-bcd61c37b349"
      },
      "execution_count": 49,
      "outputs": [
        {
          "output_type": "stream",
          "name": "stdout",
          "text": [
            "Resultado con quad: -0.65\n",
            "Resultado con nquad: -0.65\n",
            "Error relativo: 0.00e+00\n"
          ]
        }
      ]
    },
    {
      "cell_type": "markdown",
      "source": [
        "# 2\n",
        "\n",
        "**(40 puntos)**\n",
        "Un lazo de corriente de radio $a$  transporta una corriente $I$ en el punto P que está a una distancia $r$ del centro del lazo con coordenadas esféricas (r, θ, φ). Resuelve para la componente φ del potencial vectorial en el punto $P$ en términos de integrales elípticas:\n",
        "\n",
        "\\begin{equation}\n",
        "A_{\\phi}(r, \\theta)=\\frac{\\mu_0}{4\\pi}\\frac{4Ia}{\\sqrt{a^2+r^2+2ar\\sin \\theta}}\\left(\\frac{(2-k^2)K(k)-2E(k)}{k^2} \\right)\n",
        "\\end{equation}\n",
        "\n",
        "donde\n",
        "\n",
        "\\begin{equation}\n",
        "K(k)=\\int_{0}^{\\pi/2} \\frac{\\mathrm{d\\phi}}{\\sqrt{1-k^2\\sin^2\\phi}}\n",
        "\\end{equation}\n",
        "\n",
        "\\begin{equation}\n",
        "E(k)=\\int_{0}^{\\pi/2} \\mathrm{d\\phi} \\sqrt{1-k^2\\sin^2\\phi}\n",
        "\\end{equation}\n",
        "\n",
        "\\begin{equation}\n",
        "k^2=\\frac{4ar\\sin\\theta}{a^2+r^2+2ar\\sin\\theta}\n",
        "\\end{equation}\n",
        "\n",
        "Aquí, $K(k)$ es una integral elíptica completa del primer tipo y $E(k)$ es una integral elíptica completa del segundo tipo.\n",
        "\n",
        "\n",
        "Para\n",
        "* $a$ = 1,\n",
        "* $I$ = 3,\n",
        "* $μ0/4π$ = 1\n",
        "\n",
        "\n",
        "Usando funciones explicitas explique claramente las entradas, salidas y procedimientos dentro de las mismas. Recuerde para resolver las integrales usar `quad` y grafique para:\n",
        "\n",
        "*a)* $A_φ(r = 1.1, θ)$ vs. $0\\leq θ\\leq \\pi$\n",
        "\n",
        "*b)* $A_φ(r, θ = π∕3)$ vs. $0\\leq r \\leq 10$\n",
        "\n",
        "Tenga cuidado con la convergencia de su integral\n",
        "\n"
      ],
      "metadata": {
        "id": "ryB1EksIOV_l"
      }
    },
    {
      "cell_type": "code",
      "source": [
        "# Definimos Parametros\n",
        "a = 1\n",
        "I = 3\n",
        "m_4pi = 1\n",
        "#Definimos la funcion que depende de r y theta\n",
        "def k_s(r, theta):\n",
        "    return (4 * a * r * np.sin(theta)) / (a**2 + r**2 + 2 * a * r * np.sin(theta))\n",
        "#Integral eliptica K\n",
        "def K_int(k):\n",
        "    inte = lambda phi: 1 / np.sqrt(1 - k**2 * np.sin(phi)**2)\n",
        "    return quad(inte, 0, np.pi/2)[0]\n",
        "#Integral Eliptica E\n",
        "def E_int(k):\n",
        "    inte = lambda phi: np.sqrt(1 - k**2 * np.sin(phi)**2)\n",
        "    return quad(inte, 0, np.pi/2)[0]\n",
        "\n",
        "def A_phi(r, theta):\n",
        "    k2 = k_s(r, theta)\n",
        "    k = np.sqrt(k2)\n",
        "    Kk = K_int(k)\n",
        "    Ek = E_int(k)\n",
        "    factor = (m_4pi * 4 * I * a) / np.sqrt(a**2 + r**2 + 2 * a * r * np.sin(theta))\n",
        "    return factor * ((2 - k2) * Kk - 2 * Ek) / k2\n",
        "\n",
        "#Grafica a\n",
        "theta_v= np.linspace(0, np.pi, 100)\n",
        "A_phi_vals_theta = [A_phi(1.1, theta) for theta in theta_v]\n",
        "plt.figure(figsize=(6, 5))\n",
        "plt.plot(theta_v, A_phi_vals_theta,color = 'black', label=r'$A_\\phi(r=1.1, \theta)$')\n",
        "plt.xlabel(r'$\\theta$ (rad)')\n",
        "plt.ylabel(r'$A_\\phi$')\n",
        "plt.title(r'$A_\\phi$ vs. $\theta$ para $r=1.1$')\n",
        "plt.grid()\n",
        "\n",
        "# Gráfica b\n",
        "r_vals = np.linspace(0.1, 10, 100)\n",
        "A_phi_vals_r = [A_phi(r, np.pi/3) for r in r_vals]\n",
        "plt.figure(figsize=(6, 5))\n",
        "plt.plot(r_vals, A_phi_vals_r,color = 'green', label=r'$A_\\phi(r, \theta=\\pi/3)$')\n",
        "plt.xlabel(r'$r$')\n",
        "plt.ylabel(r'$A_\\phi$')\n",
        "plt.title(r'$A_\\phi$ vs. $r$ para $\\theta=\\pi/3$')\n",
        "plt.grid()"
      ],
      "metadata": {
        "id": "yGrEqwaNOh_8",
        "colab": {
          "base_uri": "https://localhost:8080/",
          "height": 998
        },
        "outputId": "48ebed79-426a-471d-f46c-4f67ab7b6761"
      },
      "execution_count": 67,
      "outputs": [
        {
          "output_type": "stream",
          "name": "stderr",
          "text": [
            "<ipython-input-67-85bc12c0040e>:23: RuntimeWarning: invalid value encountered in scalar divide\n",
            "  return factor * ((2 - k2) * Kk - 2 * Ek) / k2\n"
          ]
        },
        {
          "output_type": "display_data",
          "data": {
            "text/plain": [
              "<Figure size 600x500 with 1 Axes>"
            ],
            "image/png": "[encoded data removed]"
          },
          "metadata": {}
        },
        {
          "output_type": "display_data",
          "data": {
            "text/plain": [
              "<Figure size 600x500 with 1 Axes>"
            ],
            "image/png": "[encoded data removed]"
          },
          "metadata": {}
        }
      ]
    },
    {
      "cell_type": "markdown",
      "source": [
        "# 3\n",
        "\n",
        "(**40 puntos**) El **método de la potencia inversa** es una técnica iterativa utilizada para calcular el autovalor de menor magnitud de una matriz cuadrada. Es una variante del **método de la potencia**, que normalmente encuentra el autovalor de mayor magnitud. Para ello, se aprovecha la propiedad de la matriz inversa:\n",
        "\n",
        "$$ A^{-1} v = \\frac{1}{\\lambda} v $$\n",
        "\n",
        "\n",
        "## Algoritmo\n",
        "\n",
        "El método de la potencia inversa sigue los siguientes pasos:\n",
        "\n",
        "1. Elegir un vector inicial $x^{(0)}$ no nulo.\n",
        "\n",
        "2. Para cada iteración $k$, resolver el sistema lineal:\n",
        "   \n",
        "   $$ A y^{(k)} = x^{(k-1)} $$\n",
        "   \n",
        "   donde $y^{(k)}$ es un **vector intermedio** que se obtiene resolviendo el sistema lineal. Este vector representa la solución del sistema en cada iteración y es crucial para aproximar el autovector de menor autovalor.\n",
        "\n",
        "3. Normalizar $y^{(k)}$ para obtener un nuevo vector de iteración:\n",
        "   \n",
        "   $$ x^{(k)} = \\frac{y^{(k)}}{\\| y^{(k)} \\|} $$\n",
        "   \n",
        "4. Aproximar el autovalor mediante el cociente de Rayleigh:\n",
        "   \n",
        "   $$ \\lambda^{(k)} = \\frac{(x^{(k)})^T A x^{(k)}}{(x^{(k)})^T x^{(k)}} $$\n",
        "   \n",
        "5. Repetir los pasos anteriores hasta que la diferencia entre valores sucesivos de $\\lambda$ sea menor que un umbral de tolerancia.\n",
        "\n",
        "---\n",
        "\n",
        "*a)* Escriba una función llamada `potencia_inversa` que dada una matriz A encuentre su valor propio menos dominante (con una tolerancia de 1e-7 usando la norma Euclidiana) y su correspondiente autovector. Para obtener $y^{(k)}$ puede emplear `np.linalg.solve` recordando que $Ay = x$.\n",
        "\n",
        "*b)* Usando la matriz A, encuentre el $\\lambda_{min}$ y el correspondiente autovector. Examine la convergencia de su autovalor en función de las iteraciones, esto es, haga un gráfico de $\\lambda(k)$\n",
        "\n",
        "$$\n",
        "\\begin{bmatrix}\n",
        "5 & 2 \\\\\n",
        "2 & 2\n",
        "\\end{bmatrix}\n",
        "$$\n",
        "\n",
        "*c)* Compare su resultado con `np.linalg.eig`"
      ],
      "metadata": {
        "id": "pKubcNlWP0nc"
      }
    },
    {
      "cell_type": "code",
      "source": [
        "def potencia_inversa(A,x, tol= 1e-7,max_iter=100):\n",
        "# No me dio profe me falto nivel"
      ],
      "metadata": {
        "id": "ZhnTbHAgP4XJ"
      },
      "execution_count": null,
      "outputs": []
    },
    {
      "cell_type": "markdown",
      "source": [
        "#4\n",
        "\n",
        "**(10 puntos)**\n",
        "Sea $A$ una matriz cuadrada de tamaño $n \\times n$. Se sabe que el determinante de una matriz es igual al producto de sus autovalores:\n",
        "\n",
        "$$\n",
        "\\det(A) = \\prod_{i=1}^{n} \\lambda_i\n",
        "$$\n",
        "\n",
        "donde $\\lambda_1, \\lambda_2, \\dots, \\lambda_n$ son los autovalores de $A$.\n",
        "\n",
        "Usando una matriz aleatoria $A$ de $5\\times 5$, demuestre esta propiedad. Puede usar las funciones de `np.linalg`."
      ],
      "metadata": {
        "id": "Qz8QJCjWYds5"
      }
    },
    {
      "cell_type": "code",
      "source": [
        "A = np.array([1,3,5,7,9,12,5,7,4,21,9,5,6,4,8,24,16,18,12,11,9,42,7,10,9]).reshape(5,5) # Definimos La matriz\n",
        "det = np.linalg.det(A) # calculamos el determinante\n",
        "values = np.linalg.eigvals(A) #Encontramos los valores propios de la matriz\n",
        "det_a = np.prod(values)  # Calculamos la productoria\n",
        "print('El determinante de los autovalores de A es:',det_a) # El resultado de la productororia\n",
        "print('El determinante de A es :', det) # El Resultadi de el determinante de A"
      ],
      "metadata": {
        "id": "TCWf5TUwYgKq",
        "colab": {
          "base_uri": "https://localhost:8080/"
        },
        "outputId": "f08b7a0e-897d-4373-a997-eac9c17ae395"
      },
      "execution_count": 58,
      "outputs": [
        {
          "output_type": "stream",
          "name": "stdout",
          "text": [
            "El determinante de los autovalores de A es: -26276.000000000207\n",
            "El determinante de A es : -26276.000000000033\n"
          ]
        }
      ]
    }
  ]
}