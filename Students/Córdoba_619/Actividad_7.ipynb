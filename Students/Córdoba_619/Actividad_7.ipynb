{
  "nbformat": 4,
  "nbformat_minor": 0,
  "metadata": {
    "colab": {
      "provenance": []
    },
    "kernelspec": {
      "name": "python3",
      "display_name": "Python 3"
    },
    "language_info": {
      "name": "python"
    }
  },
  "cells": [
    {
      "cell_type": "code",
      "execution_count": 1,
      "metadata": {
        "id": "rZuc8vXcWuxy",
        "cellView": "form"
      },
      "outputs": [],
      "source": [
        "#@title Librerias\n",
        "import numpy as np\n",
        "import matplotlib.pyplot as plt\n",
        "import pandas as pd\n",
        "import sympy as sp\n",
        "from scipy.integrate import simpson, romberg, trapezoid\n",
        "from scipy.special import roots_legendre\n"
      ]
    },
    {
      "cell_type": "markdown",
      "source": [
        "# Actividad 07: Integración\n",
        "\n",
        "---\n",
        "### Profesor: Juan Marcos Marín\n",
        "### Nombre: Edgar Junior Córdoba Gamboa\n",
        "*Métodos computacionales 2024-II*\n",
        "\n",
        "---"
      ],
      "metadata": {
        "id": "MGwGfceuWxy3"
      }
    },
    {
      "cell_type": "markdown",
      "source": [
        "#1\n",
        "* Implemente una función para el **método de integración de Romberg** definiendo un límite de tolerancia de 1e-8 y/o un máximo de iteraciones de 10.\n",
        "\n",
        "* Encuentre la integral para\n",
        "\n",
        "$$\\int_0^{\\pi/4} dx\\, e^{3x}\\cdot \\sin(x)$$\n",
        "\n",
        "* Imprima su resultado y compare los valores dados por `scipy.integrate.romberg`\n",
        "\n",
        "* Finalmente, encuentre el valor del error, hallando el valor exacto usando `sympy`\n",
        "\n"
      ],
      "metadata": {
        "id": "_qpgPAtHNgPB"
      }
    },
    {
      "cell_type": "code",
      "source": [
        "import scipy.integrate as spi\n",
        "f = lambda x: (np.exp(x)*(3))* np.sin(x)\n",
        "a,b = 0, np.pi/4\n",
        "def trape(f,a,b,n):\n",
        "  h = (b-a)/n\n",
        "  x = np.linspace(a,b, n+1)\n",
        "  y = f(x)\n",
        "  return (h / 2) * (y[0] + 2 * np.sum(y[1:-1]) + y[-1])\n",
        "\n",
        "def room(f,a,b,tol=1e-8,max_iter=10):\n",
        "  R = np.zeros((max_iter, max_iter))\n",
        "  R[0, 0] = trape(f, a,b, 1)\n",
        "\n",
        "  for i in range(1,max_iter):\n",
        "    n = 2**i\n",
        "    R[i,0]=trape(f,a,b,n)\n",
        "    for k in range(1, i + 1):\n",
        "     R[i, k] = (4**k * R[i, k - 1] - R[i - 1, k - 1]) / (4**k - 1)\n",
        "    if abs(R[i, i] - R[i - 1, i - 1]) < tol:\n",
        "      return R[i, i]\n",
        "\n",
        "  return R[max_iter - 1, max_iter - 1]\n",
        "\n",
        "valror = spi.romberg(f, a, b)\n",
        "resultado = room(f,a,b)\n",
        "print(f\"Resultado con Romberg: {resultado:.6f}\")\n",
        "print(f'Resultado con scipy: {valror:.6f}')\n"
      ],
      "metadata": {
        "id": "Y0nXXFcnNe2R",
        "colab": {
          "base_uri": "https://localhost:8080/"
        },
        "outputId": "9bfc53e3-ef8e-4ba8-9214-b01f54c55337"
      },
      "execution_count": null,
      "outputs": [
        {
          "output_type": "stream",
          "name": "stdout",
          "text": [
            "Resultado con Romberg: 1.500000\n",
            "Resultado con scipy: 1.500000\n"
          ]
        },
        {
          "output_type": "stream",
          "name": "stderr",
          "text": [
            "<ipython-input-20-d8b641a14b49>:24: DeprecationWarning: `scipy.integrate.romberg` is deprecated as of SciPy 1.12.0and will be removed in SciPy 1.15.0. Please use`scipy.integrate.quad` instead.\n",
            "  valror = spi.romberg(f, a, b)\n"
          ]
        }
      ]
    },
    {
      "cell_type": "markdown",
      "source": [
        "#2\n",
        "\n",
        "* Usando los *métodos trapezoidal compuesto*, *simpson 1/3* y de *medio punto* encuentre la siguiente integral,\n",
        "\n",
        "$$\\int_e^{1+e} dx\\, \\frac{1}{x\\ln x}$$\n",
        "\n",
        "* Luego, haga un estudio de la convergencia en términos del valor de $h$ o de los sub-intervalos de la función. ¿Cuál es mejor?\n"
      ],
      "metadata": {
        "id": "Db9dUFTSQcLY"
      }
    },
    {
      "cell_type": "code",
      "source": [
        "f = lambda x: 1/(np.log(x))*x\n",
        "a,b = np.exp(1) , 1 + np.exp(1)\n",
        "n = 100\n",
        "def trapecio_compuesto(f, a, b, n):\n",
        "    h = (b - a) / n\n",
        "    x = np.linspace(a, b, n + 1)\n",
        "    y = f(x)\n",
        "    return (h / 2) * (y[0] + 2 * np.sum(y[1:-1]) + y[-1])\n",
        "\n",
        "# Método de Simpson 1/3 compuesto\n",
        "def simpson_tercio(f, a, b, n):\n",
        "    if n % 2 == 1:  # Simpson requiere que n sea par\n",
        "        n += 1\n",
        "    h = (b - a) / n\n",
        "    x = np.linspace(a, b, n + 1)\n",
        "    y = f(x)\n",
        "    return (h / 3) * (y[0] + 4 * np.sum(y[1:n:2]) + 2 * np.sum(y[2:n-1:2]) + y[-1])\n",
        "\n",
        "# Método del punto medio compuesto\n",
        "def punto_medio(f, a, b, n):\n",
        "    h = (b - a) / n\n",
        "    x_medio = np.linspace(a + h / 2, b - h / 2, n)\n",
        "    y = f(x_medio)\n",
        "    return h * np.sum(y)\n",
        "\n",
        "tra_r = trapecio_compuesto(f,a,b,n)\n",
        "simtr = simpson_tercio(f,a,b,n)\n",
        "pf = punto_medio(f,a,b,n)\n",
        "print(f'Valor de Trapecio Compuesto: {tra_r:.2f}')\n",
        "print(f'Valor de Simpson: {simtr:.2f}')\n",
        "print(f'Valor Punto Medio: {pf:.2f}')\n"
      ],
      "metadata": {
        "id": "uEPXP21uQc_o",
        "colab": {
          "base_uri": "https://localhost:8080/"
        },
        "outputId": "707a2748-3e7a-4f97-b76d-bb023c96a5ab"
      },
      "execution_count": null,
      "outputs": [
        {
          "output_type": "stream",
          "name": "stdout",
          "text": [
            "Valor de Trapecio Compuesto: 2.76\n",
            "Valor de Simpson: 2.76\n",
            "Valor Punto Medio: 2.76\n"
          ]
        }
      ]
    },
    {
      "cell_type": "code",
      "source": [
        "f = lambda x: 1 / (x * np.log(x))\n",
        "a, b = np.exp(1), 1 + np.exp(1)\n",
        "n = 100\n",
        "\n",
        "def trapecio_compuesto(f, a, b, n):\n",
        "    h = (b - a) / n\n",
        "    x = np.linspace(a, b, n + 1)\n",
        "    y = f(x)\n",
        "    return (h / 2) * (y[0] + 2 * np.sum(y[1:-1]) + y[-1])\n",
        "\n",
        "def simpson_tercio(f, a, b, n):\n",
        "    if n % 2 == 1:\n",
        "        n += 1\n",
        "    h = (b - a) / n\n",
        "    x = np.linspace(a, b, n + 1)\n",
        "    y = f(x)\n",
        "    return (h / 3) * (y[0] + 4 * np.sum(y[1:n:2]) + 2 * np.sum(y[2:n-1:2]) + y[-1])\n",
        "\n",
        "def punto_medio(f, a, b, n):\n",
        "    h = (b - a) / n\n",
        "    x_medio = np.linspace(a + h/2, b - h/2, n)\n",
        "    y = f(x_medio)\n",
        "    return h * np.sum(y)\n",
        "\n",
        "tra_r = trapecio_compuesto(f, a, b, n)\n",
        "simtr = simpson_tercio(f, a, b, n)\n",
        "pf = punto_medio(f, a, b, n)\n",
        "\n",
        "print(f'Valor de Trapecio Compuesto: {tra_r:.2f}')\n",
        "print(f'Valor de Simpson: {simtr:.2f}')\n",
        "print(f'Valor Punto Medio: {pf:.2f}')"
      ],
      "metadata": {
        "colab": {
          "base_uri": "https://localhost:8080/"
        },
        "id": "uoInbxE0aOA-",
        "outputId": "b2f802fc-3193-4c98-ae0d-f1f246ccadc7"
      },
      "execution_count": null,
      "outputs": [
        {
          "output_type": "stream",
          "name": "stdout",
          "text": [
            "Valor de Trapecio Compuesto: 0.27\n",
            "Valor de Simpson: 0.27\n",
            "Valor Punto Medio: 0.27\n"
          ]
        }
      ]
    },
    {
      "cell_type": "markdown",
      "source": [
        "#3\n",
        "Usando la siguiente función:\n",
        "\n",
        "\n",
        "\n",
        "```python\n",
        "def gauss_quad_standard(func, n):\n",
        "    \"\"\"\n",
        "    Calcula la integral de una función en el intervalo [-1, 1]\n",
        "    utilizando cuadratura gaussiana.\n",
        "\n",
        "    Parameters:\n",
        "    - func: La función a integrar.\n",
        "    - n: Número de puntos para la cuadratura (grado del polinomio de Legendre).\n",
        "\n",
        "    Returns:\n",
        "    - Aproximación de la integral.\n",
        "    \"\"\"\n",
        "    # Obtener raíces y pesos del polinomio de Legendre\n",
        "    x, w = roots_legendre(n)\n",
        "\n",
        "    # Evaluar la suma ponderada\n",
        "    integral = np.sum(w * func(x))\n",
        "    return integral\n",
        "```\n",
        "\n",
        "Modifique la función `gauss_quad_standard` de forma tal que no este restringida para $[-1,1]$ sino para cualquier intervalo $[a,b]$. Luego, encuentre la integral del *punto 2*.\n",
        "\n",
        "\n",
        "\n"
      ],
      "metadata": {
        "id": "3fLo8sm8RqA0"
      }
    },
    {
      "cell_type": "code",
      "source": [
        "f = lambda x: 1 / (x * np.log(x))\n",
        "a, b = np.exp(1), 1 + np.exp(1)  # Interval [e, e+1]\n",
        "\n",
        "def gauss_quad_standard(func, a, b, n):\n",
        "\n",
        "    x, w = roots_legendre(n)\n",
        "\n",
        "\n",
        "    x_transformed = 0.5 * (b - a) * x + 0.5 * (a + b)\n",
        "\n",
        "\n",
        "    integral = np.sum(w * func(x_transformed)) * 0.5 * (b - a)\n",
        "\n",
        "    return integral\n",
        "\n",
        "resultado = gauss_quad_standard(f, a, b, 100)\n",
        "print(\"Resultado:\", round(resultado, 2))\n"
      ],
      "metadata": {
        "id": "0XQga3HfSE9n",
        "colab": {
          "base_uri": "https://localhost:8080/"
        },
        "outputId": "a5e703de-e329-481e-9512-a1a18e239371"
      },
      "execution_count": null,
      "outputs": [
        {
          "output_type": "stream",
          "name": "stdout",
          "text": [
            "Resultado: 0.27\n"
          ]
        }
      ]
    },
    {
      "cell_type": "markdown",
      "source": [
        "#4\n",
        "\n",
        "Encuentra todas las raices para los polinomios de grado 3 y 4 de **Legendre** usando el Método de la Secante y Newton-Raphson.\n",
        "\n",
        "\n",
        "\n",
        "```python\n",
        "import sympy as sp\n",
        "x = sp.Symbol('x')\n",
        "\n",
        "# Polinomio de Legendre de grado n\n",
        "Pn = sp.legendre(n, x)\n",
        "\n",
        "```\n",
        "\n",
        "y calcule los pesos $w_i$ de la cuadratura mediante la fórmula:\n",
        "   $$\n",
        "   w_i = \\frac{2}{(1 - x_i^2) \\left[P_n'(x_i)\\right]^2},\n",
        "   $$\n",
        "   donde $P_n'(x)$ es la derivada del polinomio de Legendre $P_n(x)$.\n"
      ],
      "metadata": {
        "id": "hvSy6jouSLiJ"
      }
    },
    {
      "cell_type": "code",
      "source": [],
      "metadata": {
        "id": "EZNA4VoXSXiT"
      },
      "execution_count": null,
      "outputs": []
    }
  ]
}