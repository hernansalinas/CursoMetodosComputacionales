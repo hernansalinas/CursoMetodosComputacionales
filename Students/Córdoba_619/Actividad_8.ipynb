{
  "nbformat": 4,
  "nbformat_minor": 0,
  "metadata": {
    "colab": {
      "provenance": []
    },
    "kernelspec": {
      "name": "python3",
      "display_name": "Python 3"
    },
    "language_info": {
      "name": "python"
    }
  },
  "cells": [
    {
      "cell_type": "code",
      "execution_count": null,
      "metadata": {
        "id": "z7RCty67y3ME"
      },
      "outputs": [],
      "source": [
        "import numpy as np\n",
        "import matplotlib.pyplot as plt\n",
        "import scipy.linalg as la"
      ]
    },
    {
      "cell_type": "markdown",
      "source": [
        "# Actividad 08: Algebra Lineal y Matrices\n",
        "\n",
        "---\n",
        "### Profesor: Juan Marcos Marín\n",
        "### Nombre: Edgar Junior Córdoba Gamboa\n",
        "*Métodos computacionales 2024-II*\n",
        "\n",
        "---"
      ],
      "metadata": {
        "id": "GGQpGoujzAnQ"
      }
    },
    {
      "cell_type": "markdown",
      "source": [
        "#1\n",
        "\n",
        "Escriba una función que calcule el producto escalar y vectorial para dos vectores, compare sus resultados con `np.dot` y `np.cross`."
      ],
      "metadata": {
        "id": "szDD-eJhzKbw"
      }
    },
    {
      "cell_type": "code",
      "source": [
        "v1 = np.array([2,3,7])\n",
        "v2 = np.array([6,5,4])\n",
        "def esca(v1,v2):\n",
        "  resultado = 0\n",
        "  for i in range(len(v1)):\n",
        "    resultado += v1[i]*v2[i]\n",
        "  return resultado\n",
        "\n",
        "def vector(v1,v2):\n",
        "  if len(v1) == 3 and len(v2) == 3:\n",
        "    result = [0,0,0]\n",
        "    result[0] = v1[1]*v2[2]-v1[2]*v2[1]\n",
        "    result[1] = v1[2]*v2[0]-v1[0]*v2[2]\n",
        "    result[2] = v1[0]*v2[1]-v1[1]*v2[0]\n",
        "    return result\n",
        "  else:\n",
        "    raise ValueError(\"No esta definido\")\n",
        "\n",
        "print('Producto vectorial:',vector(v1,v2))\n",
        "print('Producto Punto : ', esca(v1,v2))\n"
      ],
      "metadata": {
        "id": "KlxyKMOIzBDZ",
        "colab": {
          "base_uri": "https://localhost:8080/"
        },
        "outputId": "2e1017ba-11fe-4eb6-a37a-d47b1e285617"
      },
      "execution_count": null,
      "outputs": [
        {
          "output_type": "stream",
          "name": "stdout",
          "text": [
            "Producto vectorial: [-23, 34, -8]\n",
            "Producto Punto :  55\n"
          ]
        }
      ]
    },
    {
      "cell_type": "code",
      "source": [
        "np.dot(v1,v2)"
      ],
      "metadata": {
        "colab": {
          "base_uri": "https://localhost:8080/"
        },
        "id": "wabpyaus8BXS",
        "outputId": "704c05c2-0ecf-4b52-f03b-ca9c30180dec"
      },
      "execution_count": null,
      "outputs": [
        {
          "output_type": "execute_result",
          "data": {
            "text/plain": [
              "55"
            ]
          },
          "metadata": {},
          "execution_count": 3
        }
      ]
    },
    {
      "cell_type": "code",
      "source": [
        "np.cross(v1,v2)"
      ],
      "metadata": {
        "colab": {
          "base_uri": "https://localhost:8080/"
        },
        "id": "0US-zpgU8EAr",
        "outputId": "e5e5d263-96d8-4d9e-ecce-f11f933616ac"
      },
      "execution_count": null,
      "outputs": [
        {
          "output_type": "execute_result",
          "data": {
            "text/plain": [
              "array([-23,  34,  -8])"
            ]
          },
          "metadata": {},
          "execution_count": 4
        }
      ]
    },
    {
      "cell_type": "markdown",
      "source": [
        "#2\n",
        "\n",
        "Crear una función llamada `mulmat()` donde a partir de dos matrices $A$ y $B$ encuentre su multplicación. También realiza una función que calcule la transpuesta y otra el determinante de una matriz $3\\times 3$. Compare sus resultado con `@`, `np.dot`, `transpose` y `la.det`."
      ],
      "metadata": {
        "id": "Qch9PhTQ0Klk"
      }
    },
    {
      "cell_type": "code",
      "source": [
        "A = np.array([1,4,8,3,6,9,6,12,18]).reshape(3,3)\n",
        "B = np.array([1,5,14,3,4,12,3,6,18]).reshape(3,3)\n",
        "def mulmat(A, B):\n",
        "    if len(A[0]) != len(B):\n",
        "        raise ValueError('Número de columnas de A debe coincidir con filas de B')\n",
        "\n",
        "    filas = len(A)\n",
        "    columnas = len(B[0])\n",
        "    resultado = [[0 for _ in range(columnas)] for _ in range(filas)]\n",
        "\n",
        "    for i in range(filas):\n",
        "        for j in range(columnas):\n",
        "            for k in range(len(B)):\n",
        "                resultado[i][j] += A[i][k] * B[k][j]\n",
        "    return resultado\n",
        "\n",
        "# Transpuesta\n",
        "def transpuesta(matrix):\n",
        "    return [[matrix[j][i] for j in range(len(matrix))]\n",
        "            for i in range(len(matrix[0]))]\n",
        "\n",
        "# Determinate 3x3\n",
        "def determinante(matrix):\n",
        "    if len(matrix) != 3 or any(len(row) != 3 for row in matrix):\n",
        "        raise ValueError('La matriz debe ser 3x3')\n",
        "\n",
        "    a, b, c = matrix[0]\n",
        "    d, e, f = matrix[1]\n",
        "    g, h, i = matrix[2]\n",
        "\n",
        "    return a*(e*i - f*h) - b*(d*i - f*g) + c*(d*h - e*g)"
      ],
      "metadata": {
        "id": "0xjXQbwn0VL5"
      },
      "execution_count": null,
      "outputs": []
    },
    {
      "cell_type": "code",
      "source": [
        "# Producto Matrices\n",
        "print('Producto Matrices: ',np.array(mulmat(A, B)))\n",
        "print('Producto Numpy: ',np.dot(A, B))"
      ],
      "metadata": {
        "colab": {
          "base_uri": "https://localhost:8080/"
        },
        "id": "vrOK69r1fn0T",
        "outputId": "ff3b1968-f877-4b6e-c8cf-e35f9c190d06"
      },
      "execution_count": null,
      "outputs": [
        {
          "output_type": "stream",
          "name": "stdout",
          "text": [
            "Producto Matrices:  [[ 37  69 206]\n",
            " [ 48  93 276]\n",
            " [ 96 186 552]]\n",
            "Producto Numpy:  [[ 37  69 206]\n",
            " [ 48  93 276]\n",
            " [ 96 186 552]]\n"
          ]
        }
      ]
    },
    {
      "cell_type": "code",
      "source": [
        "# Transpuesta y Determinante para la Matriz A\n",
        "print('Transpuesta: ',np.array(transpuesta(A)))\n",
        "print('Transpuesta Numpy: ',np.transpose(A))\n",
        "print('Determinante: ', determinante(A))\n",
        "print('Determinante Numpy: ', np.linalg.det(A))"
      ],
      "metadata": {
        "colab": {
          "base_uri": "https://localhost:8080/"
        },
        "id": "LeIjzpxeflnx",
        "outputId": "3c1bda31-4bc3-48b8-d0f5-1c7fe240737c"
      },
      "execution_count": null,
      "outputs": [
        {
          "output_type": "stream",
          "name": "stdout",
          "text": [
            "Transpuesta:  [[ 1  3  6]\n",
            " [ 4  6 12]\n",
            " [ 8  9 18]]\n",
            "Transpuesta Numpy:  [[ 1  3  6]\n",
            " [ 4  6 12]\n",
            " [ 8  9 18]]\n",
            "Determinante:  0\n",
            "Determinante Numpy:  0.0\n"
          ]
        }
      ]
    },
    {
      "cell_type": "code",
      "source": [
        "# Transpuesta y Determinante para la matriz B\n",
        "print('Transpuesta: ',np.array(transpuesta(B)))\n",
        "print('Transpuesta Numpy: ',np.transpose(B))\n",
        "print('Determinante: ', determinante(B))\n",
        "print('Determinante Numpy: ', np.linalg.det(B))"
      ],
      "metadata": {
        "colab": {
          "base_uri": "https://localhost:8080/"
        },
        "id": "y4NoqyPKfjg6",
        "outputId": "7b2b2926-5030-4f82-fa94-2cd37efa067f"
      },
      "execution_count": null,
      "outputs": [
        {
          "output_type": "stream",
          "name": "stdout",
          "text": [
            "Transpuesta:  [[ 1  3  3]\n",
            " [ 5  4  6]\n",
            " [14 12 18]]\n",
            "Transpuesta Numpy:  [[ 1  3  3]\n",
            " [ 5  4  6]\n",
            " [14 12 18]]\n",
            "Determinante:  -6\n",
            "Determinante Numpy:  -6.000000000000016\n"
          ]
        }
      ]
    },
    {
      "cell_type": "markdown",
      "source": [
        "#3\n",
        "Escriba tres matrices aleatorias $A$, $B$ y $C$ de $3\\times 3$, y demuestre las siguientes relaciones\n",
        "\n",
        "- $ \\mathbf{A}\\mathbf{B} \\neq \\mathbf{B}\\mathbf{A} $, en general.\n",
        "- $ (\\mathbf{A}\\mathbf{B})\\mathbf{C} = \\mathbf{A}(\\mathbf{B}\\mathbf{C}) $.\n",
        "- $ \\mathbf{A}(\\mathbf{B} + \\mathbf{C}) = \\mathbf{A}\\mathbf{B} + \\mathbf{A}\\mathbf{C} $.\n",
        "- $ (\\mathbf{A} + \\mathbf{B})\\mathbf{C} = \\mathbf{A}\\mathbf{C} + \\mathbf{B}\\mathbf{C} $.\n",
        "- $ (\\mathbf{A}\\mathbf{B})^\\top = \\mathbf{B}^\\top \\mathbf{A}^\\top $.\n",
        "- $ \\det(\\mathbf{A}\\mathbf{B}) = \\det(\\mathbf{A}) \\det(\\mathbf{B}) $.\n",
        "- $ (\\mathbf{A}^\\top)^\\top = \\mathbf{A} $.\n",
        "- $ (c\\mathbf{A})^\\top = c\\mathbf{A}^\\top $.\n",
        "- $ (\\mathbf{A} + \\mathbf{B})^\\top = \\mathbf{A}^\\top + \\mathbf{B}^\\top $.\n",
        "\n"
      ],
      "metadata": {
        "id": "U9hC1R-F0-iH"
      }
    },
    {
      "cell_type": "code",
      "source": [
        "# Punto 3\n",
        "A_ = np.array([3,5,1,6,8,12,7,4,2]).reshape(3,3)\n",
        "B_ = np.array([1,7,4,9,3,2,7,6,2]).reshape(3,3)\n",
        "C_ = np.array([4,10,2,9,16,16,6,2,2]).reshape(3,3)"
      ],
      "metadata": {
        "id": "cQQ6cPGW1anK"
      },
      "execution_count": null,
      "outputs": []
    },
    {
      "cell_type": "code",
      "source": [
        "# AB Distinto BA\n",
        "x0 = np.dot(A_,B_)\n",
        "y0 = np.dot(B_,A_)\n",
        "print(np.array_equal(x0,y0))"
      ],
      "metadata": {
        "colab": {
          "base_uri": "https://localhost:8080/"
        },
        "id": "6KfujGIN65n6",
        "outputId": "13a08a70-f8e1-4d63-b091-1273950de5b3"
      },
      "execution_count": null,
      "outputs": [
        {
          "output_type": "stream",
          "name": "stdout",
          "text": [
            "False\n"
          ]
        }
      ]
    },
    {
      "cell_type": "code",
      "source": [
        "#(AB)C = A(BC)\n",
        "x = np.dot(A_,B_)\n",
        "y = np.dot(B_,C_)\n",
        "\n",
        "x1 = np.dot(x,C_)\n",
        "x2 = np.dot(A_,y)\n",
        "print(np.array_equal(x1,x2))"
      ],
      "metadata": {
        "colab": {
          "base_uri": "https://localhost:8080/"
        },
        "id": "Oot0hC477Z6S",
        "outputId": "ca78b010-a1b1-43a3-8387-80087ab74c98"
      },
      "execution_count": null,
      "outputs": [
        {
          "output_type": "stream",
          "name": "stdout",
          "text": [
            "True\n"
          ]
        }
      ]
    },
    {
      "cell_type": "code",
      "source": [
        "# A (B+C)= AB + AC\n",
        "sum1 = np.add(B_,C_)\n",
        "x1 = np.dot(A_,sum1)\n",
        "y1= np.dot(A_,B_)\n",
        "y2 = np.dot(A_,C_)\n",
        "y3 = y1 + y2\n",
        "print(np.array_equal(x1,y3))"
      ],
      "metadata": {
        "id": "0yEZJwV_8RrS",
        "colab": {
          "base_uri": "https://localhost:8080/"
        },
        "outputId": "78596e4f-f786-43c1-b17d-80c62593b939"
      },
      "execution_count": null,
      "outputs": [
        {
          "output_type": "stream",
          "name": "stdout",
          "text": [
            "True\n"
          ]
        }
      ]
    },
    {
      "cell_type": "code",
      "source": [
        "# (A+B)C= AC + BC\n",
        "sum = np.add(A_,B_)\n",
        "x3 = np.dot(sum,C_)\n",
        "y4= np.dot(A_,C_)\n",
        "y0 = np.dot(B_,C_)\n",
        "y3 = y0 + y4\n",
        "print(np.array_equal(x3,y3))"
      ],
      "metadata": {
        "colab": {
          "base_uri": "https://localhost:8080/"
        },
        "id": "lIxrWgNX-AYM",
        "outputId": "85f70a8d-c67c-4d2e-826e-b85cde4ab96b"
      },
      "execution_count": null,
      "outputs": [
        {
          "output_type": "stream",
          "name": "stdout",
          "text": [
            "True\n"
          ]
        }
      ]
    },
    {
      "cell_type": "code",
      "source": [
        "xt = np.transpose(np.dot(A_,B_))\n",
        "xta = np.transpose(A_)\n",
        "xtb = np.transpose(B_)\n",
        "z = np.dot(xtb,xta)\n",
        "print(np.array_equal(xt,z))"
      ],
      "metadata": {
        "colab": {
          "base_uri": "https://localhost:8080/"
        },
        "id": "Uv4gwg24_MGi",
        "outputId": "fddd3027-0da8-410d-f47e-6d3849c8fa37"
      },
      "execution_count": null,
      "outputs": [
        {
          "output_type": "stream",
          "name": "stdout",
          "text": [
            "True\n"
          ]
        }
      ]
    },
    {
      "cell_type": "code",
      "source": [
        "# Det(AB)= Det(A)*Det(B)\n",
        "det = np.linalg.det(np.dot(A_,B_))\n",
        "deta = np.linalg.det(A_)\n",
        "detb = np.linalg.det(B_)\n",
        "det1 = deta*detb\n",
        "print(det)\n",
        "print(det1)\n",
        "print(np.array_equal(det,det1))"
      ],
      "metadata": {
        "colab": {
          "base_uri": "https://localhost:8080/"
        },
        "id": "39EHxlwgABfK",
        "outputId": "bd77a646-2506-452e-dbff-4370116de46e"
      },
      "execution_count": null,
      "outputs": [
        {
          "output_type": "stream",
          "name": "stdout",
          "text": [
            "22735.999999999945\n",
            "22735.99999999999\n",
            "False\n"
          ]
        }
      ]
    },
    {
      "cell_type": "code",
      "source": [
        "T = np.transpose(np.transpose(A_))\n",
        "print(np.array_equal(T,A_))"
      ],
      "metadata": {
        "colab": {
          "base_uri": "https://localhost:8080/"
        },
        "id": "ZAT0Nj68Aqea",
        "outputId": "94427532-dac5-4453-9bcd-30d9e065e97d"
      },
      "execution_count": null,
      "outputs": [
        {
          "output_type": "stream",
          "name": "stdout",
          "text": [
            "True\n"
          ]
        }
      ]
    },
    {
      "cell_type": "code",
      "source": [
        "c = 3\n",
        "T1 = np.transpose(np.dot(c,A_))\n",
        "T2 = c * np.transpose(A_)\n",
        "print(np.array_equal(T1,T2))"
      ],
      "metadata": {
        "colab": {
          "base_uri": "https://localhost:8080/"
        },
        "id": "Z3KXbfNeBG_3",
        "outputId": "37b14a57-f4d5-4b41-c6e4-8eb5997d5630"
      },
      "execution_count": null,
      "outputs": [
        {
          "output_type": "stream",
          "name": "stdout",
          "text": [
            "True\n"
          ]
        }
      ]
    },
    {
      "cell_type": "code",
      "source": [
        "w = np.transpose(np.add(A_,B_))\n",
        "w1 = np.transpose(A_)\n",
        "w2 = np.transpose(B_)\n",
        "sum0 = np.add(w1,w2)\n",
        "print(np.array_equal(w,sum0))"
      ],
      "metadata": {
        "colab": {
          "base_uri": "https://localhost:8080/"
        },
        "id": "2TRDO96yCe0C",
        "outputId": "b18b376e-2e46-4700-a467-edc7dab90720"
      },
      "execution_count": null,
      "outputs": [
        {
          "output_type": "stream",
          "name": "stdout",
          "text": [
            "True\n"
          ]
        }
      ]
    },
    {
      "cell_type": "markdown",
      "source": [
        "#4\n",
        "\n",
        "El **Teorema de Laplace** es un método para calcular el determinante de una matriz cuadrada, particularmente útil para matrices de orden mayor a 2. Este teorema se basa en la expansión del determinante por los elementos de una fila o una columna cualquiera.\n",
        "\n",
        "\n",
        "\n",
        "$$\n",
        "\\det(A) = \\sum_{j=1}^n (-1)^{1+j} a_{1j} M_{1j}\n",
        "$$\n",
        "\n",
        "donde:\n",
        "- $a_{1j}$ es el elemento de la primera fila y columna $j$.\n",
        "- $M_{1j}$ es el menor asociado al elemento $a_{1j}$, es decir, el determinante de la submatriz de $3 \\times 3$ que se obtiene al eliminar la fila 1 y la columna $j$.\n",
        "- $(-1)^{1+j}$ es el signo correspondiente al cofactor del elemento $a_{1j}$.\n",
        "\n",
        "Podemos realizar una función recursiva para el cálculo del determinante, sabiendo que el valor del determinante de una matriz de orden uno es el único elemento de esa matriz, y el de una matriz de orden superior a uno es la suma de cada uno de los elementos de una fila o columna por los Adjuntos a ese elemento, como en la función recursiva se emplea la misma función definida el cálculo lo haremos por Menor complementario, un ejemplo desarrollado por la primera fila sería:\n",
        "\n",
        "$$\n",
        "   \\det (A_{j,j}) =\n",
        "   \\left \\{\n",
        "   \\begin{array}{llcl}\n",
        "      si & j = 1 & \\to & a_{1,1} \\\\\n",
        "                                 \\\\\n",
        "      si & j > 1 & \\to & \\displaystyle \\sum_{k=1}^j \\; (-1)^{(1+k)} \\cdot a_{1,k} \\cdot \\det( \\alpha_{1,k})\n",
        "   \\end{array}\n",
        "   \\right .\n",
        "$$\n",
        "\n",
        "Realice una función que encuentre el determinante de una matriz usando la recursividad aqui planteada, explique explicitamente su código"
      ],
      "metadata": {
        "id": "ibYf2I9T2pIw"
      }
    },
    {
      "cell_type": "code",
      "source": [
        "def laplace(A):\n",
        "    n = len(A)  # Tamaño de la matriz\n",
        "    # Si la matriz es de 1x1 devolvemos la matriz original\n",
        "    if n == 1:\n",
        "        return A[0, 0]\n",
        "    # Si la matriz es de 2x2, usamos el determinante\n",
        "    if n == 2:\n",
        "        return np.linalg.det(A)\n",
        "    # Caso general: expansión por la primera fila\n",
        "    det = 0\n",
        "    for j in range(n):\n",
        "        # Construcción del menor M_1j eliminando la fila 0 y la columna j\n",
        "        M_1j = np.array([fila[:j].tolist() + fila[j+1:].tolist() for fila in A[1:]])\n",
        "\n",
        "        # Aplicación de la fórmula de Laplace\n",
        "        det += (-1) ** j * A[0, j] * laplace(M_1j)\n",
        "\n",
        "    return det\n",
        "\n",
        "A = np.array([[3, 5, 1, 6, 8, 12, 7, 4, 2]]).reshape(3,3)\n",
        "resultado = laplace(A)\n",
        "print(\"El determinante es:\", resultado)\n"
      ],
      "metadata": {
        "id": "aWWpHKQhLBE_",
        "colab": {
          "base_uri": "https://localhost:8080/"
        },
        "outputId": "69f10bb8-81b5-4750-bd62-17da7db38967"
      },
      "execution_count": null,
      "outputs": [
        {
          "output_type": "stream",
          "name": "stdout",
          "text": [
            "El determinante es: 232.00000000000006\n"
          ]
        }
      ]
    },
    {
      "cell_type": "markdown",
      "source": [
        "#5\n",
        "\n",
        "El método de Jacobi reescribe el sistema $ Ax = b $ descomponiendo la matriz $ A $ como:\n",
        "\n",
        "$$\n",
        "A = D + L + U,\n",
        "$$\n",
        "\n",
        "donde:\n",
        "- $ D $: Matriz diagonal de $ A $,\n",
        "- $ L $: Matriz triangular inferior sin la diagonal,\n",
        "- $ U $: Matriz triangular superior sin la diagonal.\n",
        "\n",
        "El sistema se reorganiza como:\n",
        "\n",
        "$$\n",
        "x = D^{-1}(b - (L + U)x).\n",
        "$$\n",
        "\n",
        "Esto se implementa iterativamente como:\n",
        "\n",
        "$$\n",
        "x_i^{(k+1)} = \\frac{1}{a_{ii}} \\left(b_i - \\sum_{j \\neq i} a_{ij} x_j^{(k)}\\right),\n",
        "$$\n",
        "\n",
        "donde $ a_{ii} $ son los elementos diagonales de $ A $.\n",
        "\n",
        "* Escriba una función explicita que realice de manera iterativa este método con una tol = 1e-7 y un máximo de 100 iteraciones. Defina una documentación clara que explique los métodos usados, lasa entradas y salidas.\n",
        "\n",
        "* Para una matriz aleatoria 5$\\times$ 5, encuentre la solución usando su función y determine el error con respecto a `solve` y el método de inversa de matriz."
      ],
      "metadata": {
        "id": "9OcE-1QhSrI9"
      }
    },
    {
      "cell_type": "code",
      "source": [
        "def Jacobi_matriz(A,b, tol= 1e-7, max_iter=100):\n",
        "  n = len(b)\n",
        "  x = np.zeros_like(b, dtype= float)\n",
        "  D = np.diag(np.diag(A)) # Matriz diagonal de A\n",
        "  L = np.tril(A) - D # Matriz L\n",
        "  U = np.triu(A) - D # Matriz D\n",
        "  for k in range(max_iter):\n",
        "    inversa = np.linalg.inv(D)\n",
        "    x_new = inversa @ (b-(L+U)@x) # Actualizamos los valores de las variables\n",
        "\n",
        "    if np.max(np.abs(x_new -x)) < tol:\n",
        "      print(f'Converge con {k+1} iteraciones')\n",
        "      return x_new\n",
        "    x = x_new\n",
        "  print('Paila No converge')\n",
        "  return x"
      ],
      "metadata": {
        "id": "PQqefGzMT3ks"
      },
      "execution_count": null,
      "outputs": []
    },
    {
      "cell_type": "code",
      "source": [
        "A = np.array([2,3,5,7,4,9,6,1,7,5,12,14,8,1,6,2,7,6,9,4,4,3,2,1,7]).reshape(5,5)  # Matriz 5x5\n",
        "b = np.array([4,6,8,3,5]) # Vector b\n",
        "\n",
        "# Solución con el método de Jacobi\n",
        "x_jacobi = Jacobi_matriz(A, b)\n",
        "\n",
        "# Solución con solve\n",
        "x_solve = np.linalg.solve(A, b)\n",
        "\n",
        "# Solución con la inversa de la matriz\n",
        "x_inv = np.linalg.inv(A) @ b\n",
        "\n",
        "# Cálculo del error\n",
        "error_jacobi = np.linalg.norm(x_jacobi - x_solve)\n",
        "error_inv = np.linalg.norm(x_inv - x_solve)\n",
        "\n",
        "print(f\"Solución con Jacobi:\\n{x_jacobi}\")\n",
        "print(f\"Solución con solve :\\n{x_solve}\")\n",
        "print(f\"Solución con la inversa de la matriz:\\n{x_inv}\")\n",
        "print(f\"Error entre Jacobi y solve: {error_jacobi: .2e}\")\n",
        "print(f\"Error entre inversa y solve: {error_inv: .2e}\")"
      ],
      "metadata": {
        "colab": {
          "base_uri": "https://localhost:8080/"
        },
        "id": "VWif23uIUWdY",
        "outputId": "5a421991-a876-4ff5-adda-c645860e9db8"
      },
      "execution_count": null,
      "outputs": [
        {
          "output_type": "stream",
          "name": "stdout",
          "text": [
            "Paila No converge\n",
            "Solución con Jacobi:\n",
            "[-1.11689806e+60 -6.02621067e+59 -7.41851697e+59 -3.32591150e+59\n",
            " -2.87110728e+59]\n",
            "Solución con solve :\n",
            "[ 0.62286812 -0.36904476  0.41180239  0.03218833  0.39426695]\n",
            "Solución con la inversa de la matriz:\n",
            "[ 0.62286812 -0.36904476  0.41180239  0.03218833  0.39426695]\n",
            "Error entre Jacobi y solve:  1.53e+60\n",
            "Error entre inversa y solve:  7.12e-16\n"
          ]
        }
      ]
    },
    {
      "cell_type": "markdown",
      "source": [
        "#6\n",
        "\n",
        "Verifique que cualquier matriz hermitiana de 2 × 2 $ L $ puede escribirse como una suma de cuatro términos:\n",
        "\n",
        "$$ L = a\\sigma_x + b\\sigma_y + c\\sigma_z + dI $$\n",
        "\n",
        "donde $ a $, $ b $, $ c $ y $ d $ son números reales.\n",
        "\n",
        "Las cuatro matrices de Pauli son:\n",
        "\n",
        "$$ \\sigma_x = \\begin{pmatrix} 0 & 1 \\\\ 1 & 0 \\end{pmatrix}, \\quad \\sigma_y = \\begin{pmatrix} 0 & -i \\\\ i & 0 \\end{pmatrix}, \\quad \\sigma_z = \\begin{pmatrix} 1 & 0 \\\\ 0 & -1 \\end{pmatrix}, \\quad I = \\begin{pmatrix} 1 & 0 \\\\ 0 & 1 \\end{pmatrix} $$\n",
        "\n",
        "\n"
      ],
      "metadata": {
        "id": "iggu2jNwVpnK"
      }
    },
    {
      "cell_type": "code",
      "source": [],
      "metadata": {
        "id": "8WN9_cOCV7cM"
      },
      "execution_count": null,
      "outputs": []
    }
  ]
}