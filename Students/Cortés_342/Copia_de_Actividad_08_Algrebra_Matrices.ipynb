{
  "nbformat": 4,
  "nbformat_minor": 0,
  "metadata": {
    "colab": {
      "provenance": []
    },
    "kernelspec": {
      "name": "python3",
      "display_name": "Python 3"
    },
    "language_info": {
      "name": "python"
    }
  },
  "cells": [
    {
      "cell_type": "code",
      "execution_count": 2,
      "metadata": {
        "id": "z7RCty67y3ME"
      },
      "outputs": [],
      "source": [
        "import numpy as np\n",
        "import matplotlib.pyplot as plt\n",
        "import scipy.linalg as la"
      ]
    },
    {
      "cell_type": "markdown",
      "source": [
        "# Actividad 08: Algebra Lineal y Matrices\n",
        "\n",
        "---\n",
        "### Profesor: Juan Marcos Marín\n",
        "### Nombre: Kevin Cortés Cordero\n",
        "*Métodos computacionales 2024-II*\n",
        "\n",
        "---"
      ],
      "metadata": {
        "id": "GGQpGoujzAnQ"
      }
    },
    {
      "cell_type": "markdown",
      "source": [
        "#1\n",
        "\n",
        "Escriba una función que calcule el producto escalar y vectorial para dos vectores, compare sus resultados con `np.dot` y `np.cross`."
      ],
      "metadata": {
        "id": "szDD-eJhzKbw"
      }
    },
    {
      "cell_type": "code",
      "source": [
        "v1 = np.random.rand(3)\n",
        "v2 = np.random.rand(3)\n",
        "\n",
        "def producto_escalar(v1, v2):\n",
        "    return sum(v1[i] * v2[i] for i in range(len(v1)))\n",
        "\n",
        "def producto_vectorial(v1, v2):\n",
        "    return [\n",
        "        v1[1] * v2[2] - v1[2] * v2[1],\n",
        "        v1[2] * v2[0] - v1[0] * v2[2],\n",
        "        v1[0] * v2[1] - v1[1] * v2[0]\n",
        "    ]\n",
        "\n",
        "print(\"Producto escalar:\", producto_escalar(v1, v2), \"NumPy:\", np.dot(v1, v2))\n",
        "print(\"Producto vectorial:\", producto_vectorial(v1, v2), \"NumPy:\", np.cross(v1, v2))"
      ],
      "metadata": {
        "id": "KlxyKMOIzBDZ",
        "colab": {
          "base_uri": "https://localhost:8080/"
        },
        "outputId": "96c19811-a1ed-489f-dc37-3a2095028e36"
      },
      "execution_count": 6,
      "outputs": [
        {
          "output_type": "stream",
          "name": "stdout",
          "text": [
            "Producto escalar: 0.5697335264779655 NumPy: 0.5697335264779655\n",
            "Producto vectorial: [-0.20555673471146318, 0.10075675804493495, -0.08229539436938361] NumPy: [-0.20555673  0.10075676 -0.08229539]\n"
          ]
        }
      ]
    },
    {
      "cell_type": "markdown",
      "source": [
        "#2\n",
        "\n",
        "Crear una función llamada `mulmat()` donde a partir de dos matrices $A$ y $B$ encuentre su multplicación. También realiza una función que calcule la transpuesta y otra el determinante de una matriz $3\\times 3$. Compare sus resultado con `@`, `np.dot`, `transpose` y `la.det`."
      ],
      "metadata": {
        "id": "Qch9PhTQ0Klk"
      }
    },
    {
      "cell_type": "code",
      "source": [
        "def mulmat(A, B):\n",
        "    C = [[0 for i in range(len(B[0]))] for j in range(len(A))]\n",
        "    for i in range(len(A)):\n",
        "      for j in range(len(B[0])):\n",
        "        for k in range(len(B)):\n",
        "          C[i][j] += A[i][k] * B[k][j]\n",
        "    return np.array(C)\n",
        "A = np.random.rand(3,3)\n",
        "B = np.random.rand(3,3)\n",
        "\n",
        "print(f'''Producto usando la función definida:\n",
        "{mulmat(A, B)}''')\n",
        "print(f'''Producto usando numpy:\n",
        "{np.dot(A, B)}''')"
      ],
      "metadata": {
        "id": "0xjXQbwn0VL5",
        "colab": {
          "base_uri": "https://localhost:8080/"
        },
        "outputId": "6fd55be5-c373-472c-ba48-3e08f3296f64"
      },
      "execution_count": 11,
      "outputs": [
        {
          "output_type": "stream",
          "name": "stdout",
          "text": [
            "Producto usando la función definida:\n",
            "[[1.46635495 1.12519425 0.99244199]\n",
            " [0.6460621  0.4280295  0.4609662 ]\n",
            " [0.7928384  0.83550145 0.5217214 ]]\n",
            "Producto usando numpy: \n",
            "[[1.46635495 1.12519425 0.99244199]\n",
            " [0.6460621  0.4280295  0.4609662 ]\n",
            " [0.7928384  0.83550145 0.5217214 ]]\n"
          ]
        }
      ]
    },
    {
      "cell_type": "code",
      "source": [
        "def transpose(A):\n",
        "  C = [[0 for i in range(len(A))] for j in range(len(A[0]))]\n",
        "  for i in range(len(A)):\n",
        "    for j in range(len(A[0])):\n",
        "      C[j][i] = A[i][j]\n",
        "  return np.array(C)\n",
        "print(f'''Transpuesta con funcion definida:\n",
        "{transpose(A)}''')\n",
        "print(f'''Transpuesta con numpy:\n",
        "{np.transpose(A)}''')"
      ],
      "metadata": {
        "colab": {
          "base_uri": "https://localhost:8080/"
        },
        "id": "a4-FyEjSaDMI",
        "outputId": "c2006f4c-42ef-4612-8009-4b0f4e12cacc"
      },
      "execution_count": 14,
      "outputs": [
        {
          "output_type": "stream",
          "name": "stdout",
          "text": [
            "Transpuesta con funcion definida:\n",
            "[[0.93249864 0.31127001 0.81540987]\n",
            " [0.19039371 0.03081391 0.38688008]\n",
            " [0.90123489 0.49571866 0.15443714]]\n",
            "Transpuesta con numpy:\n",
            "[[0.93249864 0.31127001 0.81540987]\n",
            " [0.19039371 0.03081391 0.38688008]\n",
            " [0.90123489 0.49571866 0.15443714]]\n"
          ]
        }
      ]
    },
    {
      "cell_type": "code",
      "source": [
        "def determinante(A):\n",
        "  n = A.shape[0]\n",
        "  if n == 1:\n",
        "    return A[0, 0]\n",
        "\n",
        "  if n == 2:\n",
        "    return A[0, 0] * A[1, 1] - A[0, 1] * A[1, 0]\n",
        "\n",
        "  det = 0\n",
        "  for j in range(n):\n",
        "    submatriz = np.delete(np.delete(A, 0, axis=0), j, axis=1)\n",
        "    det += (-1) ** j * A[0, j] * determinante(submatriz)\n",
        "\n",
        "  return det\n",
        "print(f'''El determinante usando la funcion definida es:\n",
        "{determinante(A)}''')\n",
        "print(f'''El determinante usando numpy es:\n",
        "{np.linalg.det(A)}''')\n"
      ],
      "metadata": {
        "colab": {
          "base_uri": "https://localhost:8080/"
        },
        "id": "YLgLCLeeaPB8",
        "outputId": "6c17c6b0-a9cf-41d3-e122-15214c46e5f7"
      },
      "execution_count": 17,
      "outputs": [
        {
          "output_type": "stream",
          "name": "stdout",
          "text": [
            "El determinante usando la funcion definida es:\n",
            "-0.020707124924341513\n",
            "El determinante usando numpy es:\n",
            "-0.020707124924341517\n"
          ]
        }
      ]
    },
    {
      "cell_type": "markdown",
      "source": [
        "#3\n",
        "Escriba tres matrices aleatorias $A$, $B$ y $C$ de $3\\times 3$, y demuestre las siguientes relaciones\n",
        "\n",
        "- $ \\mathbf{A}\\mathbf{B} \\neq \\mathbf{B}\\mathbf{A} $, en general.\n",
        "- $ (\\mathbf{A}\\mathbf{B})\\mathbf{C} = \\mathbf{A}(\\mathbf{B}\\mathbf{C}) $.\n",
        "- $ \\mathbf{A}(\\mathbf{B} + \\mathbf{C}) = \\mathbf{A}\\mathbf{B} + \\mathbf{A}\\mathbf{C} $.\n",
        "- $ (\\mathbf{A} + \\mathbf{B})\\mathbf{C} = \\mathbf{A}\\mathbf{C} + \\mathbf{B}\\mathbf{C} $.\n",
        "- $ (\\mathbf{A}\\mathbf{B})^\\top = \\mathbf{B}^\\top \\mathbf{A}^\\top $.\n",
        "- $ \\det(\\mathbf{A}\\mathbf{B}) = \\det(\\mathbf{A}) \\det(\\mathbf{B}) $.\n",
        "- $ (\\mathbf{A}^\\top)^\\top = \\mathbf{A} $.\n",
        "- $ (c\\mathbf{A})^\\top = c\\mathbf{A}^\\top $.\n",
        "- $ (\\mathbf{A} + \\mathbf{B})^\\top = \\mathbf{A}^\\top + \\mathbf{B}^\\top $.\n",
        "\n"
      ],
      "metadata": {
        "id": "U9hC1R-F0-iH"
      }
    },
    {
      "cell_type": "code",
      "source": [
        "A = np.random.rand(3, 3)\n",
        "B = np.random.rand(3, 3)\n",
        "C = np.random.rand(3, 3)\n",
        "if not np.array_equal(A @ B, B @ A):\n",
        "  print(\"A @ B != B @ A\")\n",
        "AB_C = np.dot(np.dot(A,B),C)\n",
        "A_BC = np.dot(A, np.dot(B, C))\n",
        "print(AB_C)\n",
        "print(A_BC)\n",
        "\n"
      ],
      "metadata": {
        "id": "cQQ6cPGW1anK",
        "colab": {
          "base_uri": "https://localhost:8080/"
        },
        "outputId": "9cadbc9f-58f0-4b58-8af3-e5b22b831c05"
      },
      "execution_count": null,
      "outputs": [
        {
          "output_type": "stream",
          "name": "stdout",
          "text": [
            "A @ B != B @ A\n",
            "[[1.19182797 0.89926906 0.82626765]\n",
            " [0.68066903 0.54962895 0.49450488]\n",
            " [0.92746148 0.7015424  0.6369458 ]]\n",
            "[[1.19182797 0.89926906 0.82626765]\n",
            " [0.68066903 0.54962895 0.49450488]\n",
            " [0.92746148 0.7015424  0.6369458 ]]\n"
          ]
        }
      ]
    },
    {
      "cell_type": "code",
      "source": [
        "A_B_C = np.dot(A,(B + C))\n",
        "A_B_C2 = np.dot(A,B) + np.dot(A,C)\n",
        "print(A_B_C)\n",
        "print(A_BC)"
      ],
      "metadata": {
        "colab": {
          "base_uri": "https://localhost:8080/"
        },
        "id": "P3oL8YL8ea3-",
        "outputId": "d2f43999-c157-4811-87a8-672a595ac60f"
      },
      "execution_count": null,
      "outputs": [
        {
          "output_type": "stream",
          "name": "stdout",
          "text": [
            "[[2.14381604 1.75643081 1.44806531]\n",
            " [1.18871745 0.84881616 0.81386767]\n",
            " [1.26253321 1.15000485 0.99211634]]\n",
            "[[1.19182797 0.89926906 0.82626765]\n",
            " [0.68066903 0.54962895 0.49450488]\n",
            " [0.92746148 0.7015424  0.6369458 ]]\n"
          ]
        }
      ]
    },
    {
      "cell_type": "code",
      "source": [
        "D = np.dot(A,B)\n",
        "D_t = D.T\n",
        "E = np.dot(B.T, A.T)\n",
        "print(D_t)\n",
        "print(E)"
      ],
      "metadata": {
        "colab": {
          "base_uri": "https://localhost:8080/"
        },
        "id": "V5uKAtkEe8OL",
        "outputId": "34a83a41-ba48-48c2-a3e6-b67bb8767171"
      },
      "execution_count": null,
      "outputs": [
        {
          "output_type": "stream",
          "name": "stdout",
          "text": [
            "[[0.63125095 0.3946675  0.45031877]\n",
            " [0.62811896 0.30936311 0.47167488]\n",
            " [0.48502016 0.3194399  0.40082812]]\n",
            "[[0.63125095 0.3946675  0.45031877]\n",
            " [0.62811896 0.30936311 0.47167488]\n",
            " [0.48502016 0.3194399  0.40082812]]\n"
          ]
        }
      ]
    },
    {
      "cell_type": "code",
      "source": [
        "D = np.dot(A,B)\n",
        "D_det = np.linalg.det(D)\n",
        "Det = np.linalg.det(A) * np.linalg.det(B)\n",
        "print(D_det)\n",
        "print(Det)"
      ],
      "metadata": {
        "colab": {
          "base_uri": "https://localhost:8080/"
        },
        "id": "gLakb-scfHQA",
        "outputId": "a91c8250-4f1d-4725-ba10-fc646da00d1c"
      },
      "execution_count": null,
      "outputs": [
        {
          "output_type": "stream",
          "name": "stdout",
          "text": [
            "-0.003125779576804148\n",
            "-0.003125779576804152\n"
          ]
        }
      ]
    },
    {
      "cell_type": "code",
      "source": [
        "A_t_t = A.T.T\n",
        "print(A_t_t)\n",
        "print(A)"
      ],
      "metadata": {
        "colab": {
          "base_uri": "https://localhost:8080/"
        },
        "id": "nQBnAZS-fTa-",
        "outputId": "48a11d24-f535-4162-dca9-ef47179fa5b8"
      },
      "execution_count": null,
      "outputs": [
        {
          "output_type": "stream",
          "name": "stdout",
          "text": [
            "[[0.32697635 0.65510813 0.83182268]\n",
            " [0.25293007 0.46178123 0.30856526]\n",
            " [0.41538859 0.3117733  0.44616907]]\n",
            "[[0.32697635 0.65510813 0.83182268]\n",
            " [0.25293007 0.46178123 0.30856526]\n",
            " [0.41538859 0.3117733  0.44616907]]\n"
          ]
        }
      ]
    },
    {
      "cell_type": "code",
      "source": [
        "A_2 = (2 * A).T\n",
        "A_2_t = 2 * A.T\n",
        "print(A_2)\n",
        "print(A_2_t)\n"
      ],
      "metadata": {
        "colab": {
          "base_uri": "https://localhost:8080/"
        },
        "id": "KunaeBUrfe-f",
        "outputId": "4f31f735-62f9-4d7c-f9b2-bae413bc733c"
      },
      "execution_count": null,
      "outputs": [
        {
          "output_type": "stream",
          "name": "stdout",
          "text": [
            "[[0.6539527  0.50586013 0.83077719]\n",
            " [1.31021626 0.92356246 0.62354661]\n",
            " [1.66364537 0.61713051 0.89233813]]\n",
            "[[0.6539527  0.50586013 0.83077719]\n",
            " [1.31021626 0.92356246 0.62354661]\n",
            " [1.66364537 0.61713051 0.89233813]]\n"
          ]
        }
      ]
    },
    {
      "cell_type": "code",
      "source": [
        "C = A + B\n",
        "C_t = C.T\n",
        "A_t = A.T\n",
        "B_t = B.T\n",
        "C_t2 = A_t + B_t\n",
        "print(C_t)\n",
        "print(C_t2)"
      ],
      "metadata": {
        "colab": {
          "base_uri": "https://localhost:8080/"
        },
        "id": "AVC60pfafz0e",
        "outputId": "6f830ef8-8aa8-45c4-bdc9-c600722d93b6"
      },
      "execution_count": null,
      "outputs": [
        {
          "output_type": "stream",
          "name": "stdout",
          "text": [
            "[[0.86060261 0.66550807 0.63957649]\n",
            " [1.21830173 0.47194844 0.83749513]\n",
            " [1.4607513  0.5678826  0.57780106]]\n",
            "[[0.86060261 0.66550807 0.63957649]\n",
            " [1.21830173 0.47194844 0.83749513]\n",
            " [1.4607513  0.5678826  0.57780106]]\n"
          ]
        }
      ]
    },
    {
      "cell_type": "markdown",
      "source": [
        "#4\n",
        "\n",
        "El **Teorema de Laplace** es un método para calcular el determinante de una matriz cuadrada, particularmente útil para matrices de orden mayor a 2. Este teorema se basa en la expansión del determinante por los elementos de una fila o una columna cualquiera.\n",
        "\n",
        "\n",
        "\n",
        "$$\n",
        "\\det(A) = \\sum_{j=1}^n (-1)^{1+j} a_{1j} M_{1j}\n",
        "$$\n",
        "\n",
        "donde:\n",
        "- $a_{1j}$ es el elemento de la primera fila y columna $j$.\n",
        "- $M_{1j}$ es el menor asociado al elemento $a_{1j}$, es decir, el determinante de la submatriz de $3 \\times 3$ que se obtiene al eliminar la fila 1 y la columna $j$.\n",
        "- $(-1)^{1+j}$ es el signo correspondiente al cofactor del elemento $a_{1j}$.\n",
        "\n",
        "Podemos realizar una función recursiva para el cálculo del determinante, sabiendo que el valor del determinante de una matriz de orden uno es el único elemento de esa matriz, y el de una matriz de orden superior a uno es la suma de cada uno de los elementos de una fila o columna por los Adjuntos a ese elemento, como en la función recursiva se emplea la misma función definida el cálculo lo haremos por Menor complementario, un ejemplo desarrollado por la primera fila sería:\n",
        "\n",
        "$$\n",
        "   \\det (A_{j,j}) =\n",
        "   \\left \\{\n",
        "   \\begin{array}{llcl}\n",
        "      si & j = 1 & \\to & a_{1,1} \\\\\n",
        "                                 \\\\\n",
        "      si & j > 1 & \\to & \\displaystyle \\sum_{k=1}^j \\; (-1)^{(1+k)} \\cdot a_{1,k} \\cdot \\det( \\alpha_{1,k})\n",
        "   \\end{array}\n",
        "   \\right .\n",
        "$$\n",
        "\n",
        "Realice una función que encuentre el determinante de una matriz usando la recursividad aqui planteada, explique explicitamente su código"
      ],
      "metadata": {
        "id": "ibYf2I9T2pIw"
      }
    },
    {
      "cell_type": "code",
      "source": [
        "def determinante_laplace(A):\n",
        "    n = A.shape[0] #Encuentra el tamaño de la matriz\n",
        "    if n == 1: #caso en el que la matriz tiene un solo elemento\n",
        "        return A[0, 0]\n",
        "    if n == 2:#matriz de 2 elementos\n",
        "        return A[0, 0] * A[1, 1] - A[0, 1] * A[1, 0]\n",
        "    det = 0 #En esta variable se irán sumando lo términos calculados con el método de Laplace\n",
        "    for j in range(n): #se itera sobre las columnas de la primera fila\n",
        "        submatriz = np.delete(np.delete(A, 0, axis=0), j, axis=1)  #Se elimina la fila 0,j\n",
        "        cofactor = (-1) ** (1 + (j + 1)) * A[0, j]  #Se calcula el cofactoir\n",
        "        det += cofactor * determinante_laplace(submatriz) #Se llama de nuevo a la funcion\n",
        "\n",
        "    return det\n",
        "\n",
        "print(determinante_laplace(A)) #El valor se puede comparar con el obtenido anteriormente para esta matriz"
      ],
      "metadata": {
        "id": "BJi2DSqcjHyG",
        "colab": {
          "base_uri": "https://localhost:8080/"
        },
        "outputId": "b8301ece-9d6a-4d51-8404-76d9cb8bacc5"
      },
      "execution_count": 18,
      "outputs": [
        {
          "output_type": "stream",
          "name": "stdout",
          "text": [
            "-0.020707124924341513\n"
          ]
        }
      ]
    },
    {
      "cell_type": "markdown",
      "source": [
        "#5\n",
        "\n",
        "El método de Jacobi reescribe el sistema $ Ax = b $ descomponiendo la matriz $ A $ como:\n",
        "\n",
        "$$\n",
        "A = D + L + U,\n",
        "$$\n",
        "\n",
        "donde:\n",
        "- $ D $: Matriz diagonal de $ A $,\n",
        "- $ L $: Matriz triangular inferior sin la diagonal,\n",
        "- $ U $: Matriz triangular superior sin la diagonal.\n",
        "\n",
        "El sistema se reorganiza como:\n",
        "\n",
        "$$\n",
        "x = D^{-1}(b - (L + U)x).\n",
        "$$\n",
        "\n",
        "Esto se implementa iterativamente como:\n",
        "\n",
        "$$\n",
        "x_i^{(k+1)} = \\frac{1}{a_{ii}} \\left(b_i - \\sum_{j \\neq i} a_{ij} x_j^{(k)}\\right),\n",
        "$$\n",
        "\n",
        "donde $ a_{ii} $ son los elementos diagonales de $ A $.\n",
        "\n",
        "* Escriba una función explicita que realice de manera iterativa este método con una tol = 1e-7 y un máximo de 100 iteraciones. Defina una documentación clara que explique los métodos usados, lasa entradas y salidas.\n",
        "\n",
        "* Para una matriz aleatoria 5$\\times$ 5, encuentre la solución usando su función y determine el error con respecto a `solve` y el método de inversa de matriz."
      ],
      "metadata": {
        "id": "9OcE-1QhSrI9"
      }
    },
    {
      "cell_type": "code",
      "source": [
        "def metodo_jacobi(A, b, tol=1e-7, max_iter=100):\n",
        "    # Inicialización de variables\n",
        "    n = len(b)\n",
        "    x = np.zeros(n)  # Vector inicial de soluciones (todos ceros)\n",
        "    x_old = np.zeros(n)  # Vector para comparar con la solución anterior\n",
        "\n",
        "    # Descomposición de A\n",
        "    D = np.diag(np.diag(A))  # Matriz diagonal\n",
        "    L = np.tril(A, -1)  # Matriz triangular inferior (sin la diagonal)\n",
        "    U = np.triu(A, 1)  # Matriz triangular superior (sin la diagonal)\n",
        "\n",
        "    # Iteración de Jacobi\n",
        "    for num_iter in range(max_iter):\n",
        "        # Calcular el nuevo valor de x\n",
        "        x_new = np.linalg.inv(D).dot(b - (L + U).dot(x))\n",
        "\n",
        "        # Verificar si la diferencia entre las iteraciones es suficientemente pequeña\n",
        "        if np.linalg.norm(x_new - x) < tol:\n",
        "            return x_new, num_iter + 1\n",
        "\n",
        "        # Actualizar x para la siguiente iteración\n",
        "        x = x_new\n",
        "\n",
        "    # Si no convergió en el número máximo de iteraciones\n",
        "    return x, num_iter + 1\n"
      ],
      "metadata": {
        "id": "sTmnCDt1kzSq"
      },
      "execution_count": null,
      "outputs": []
    },
    {
      "cell_type": "code",
      "source": [
        "A = np.random.rand(5, 5)\n",
        "b = np.random.rand(5)\n",
        "C = np.array([[4, -1, 1], [-2, 6, 1], [1, 1, 5]])\n",
        "d = np.array([7, 9, -6])\n",
        "\n",
        "solucion_jacobi, iteraciones = metodo_jacobi(A, b)\n",
        "\n",
        "solucion_exacta = np.linalg.solve(A, b)\n",
        "\n",
        "error_jacobi = np.linalg.norm(solucion_jacobi - solucion_exacta)\n",
        "\n",
        "solucion_jacobi1, iteraciones1 = metodo_jacobi(C, d)\n",
        "solucion_exacta1 = np.linalg.solve(C, d)\n",
        "error_jacobi1 = np.linalg.norm(solucion_jacobi1 - solucion_exacta1)\n",
        "\n",
        "print(\"Solución obtenida con el método de Jacobi:\")\n",
        "print(solucion_jacobi)\n",
        "print(\"Número de iteraciones:\", iteraciones)\n",
        "\n",
        "print(\"\\nSolución exacta (con np.linalg.solve):\")\n",
        "print(solucion_exacta)\n",
        "\n",
        "print(\"\\nError con respecto a la solución exacta:\")\n",
        "print(error_jacobi)\n",
        "\n",
        "print(\"\\Solución obtenida con el método de Jacobi A1:\")\n",
        "print(solucion_jacobi1)\n",
        "print(\"Número de iteraciones A1:\", iteraciones1)\n",
        "print(\"\\nSolución exacta (con np.linalg.solve) A1:\")\n",
        "print(solucion_exacta1)\n",
        "print(\"\\nError con respecto a la solución exacta A1:\")\n",
        "print(error_jacobi1)\n",
        "\n"
      ],
      "metadata": {
        "colab": {
          "base_uri": "https://localhost:8080/"
        },
        "id": "SpTdv6bFM33f",
        "outputId": "ba7b80ec-5738-41d1-dc8b-3e77fff56036"
      },
      "execution_count": null,
      "outputs": [
        {
          "output_type": "stream",
          "name": "stdout",
          "text": [
            "Solución obtenida con el método de Jacobi:\n",
            "[nan nan nan nan nan]\n",
            "Número de iteraciones: 1000\n",
            "\n",
            "Solución exacta (con np.linalg.solve):\n",
            "[-1.9265784   0.41735817 -0.01775949  0.54317209  1.98544924]\n",
            "\n",
            "Error con respecto a la solución exacta:\n",
            "nan\n",
            "\\Solución obtenida con el método de Jacobi A1:\n",
            "[ 3.08247419  2.92783501 -2.40206182]\n",
            "Número de iteraciones A1: 24\n",
            "\n",
            "Solución exacta (con np.linalg.solve) A1:\n",
            "[ 3.08247423  2.92783505 -2.40206186]\n",
            "\n",
            "Error con respecto a la solución exacta A1:\n",
            "6.267470001151087e-08\n"
          ]
        }
      ]
    },
    {
      "cell_type": "markdown",
      "source": [
        "#6\n",
        "\n",
        "Verifique que cualquier matriz hermitiana de 2 × 2 $ L $ puede escribirse como una suma de cuatro términos:\n",
        "\n",
        "$$ L = a\\sigma_x + b\\sigma_y + c\\sigma_z + dI $$\n",
        "\n",
        "donde $ a $, $ b $, $ c $ y $ d $ son números reales.\n",
        "\n",
        "Las cuatro matrices de Pauli son:\n",
        "\n",
        "$$ \\sigma_x = \\begin{pmatrix} 0 & 1 \\\\ 1 & 0 \\end{pmatrix}, \\quad \\sigma_y = \\begin{pmatrix} 0 & -i \\\\ i & 0 \\end{pmatrix}, \\quad \\sigma_z = \\begin{pmatrix} 1 & 0 \\\\ 0 & -1 \\end{pmatrix}, \\quad I = \\begin{pmatrix} 1 & 0 \\\\ 0 & 1 \\end{pmatrix} $$\n",
        "\n",
        "\n"
      ],
      "metadata": {
        "id": "iggu2jNwVpnK"
      }
    },
    {
      "cell_type": "code",
      "source": [
        "\n",
        "sigma_x = np.array([[0, 1], [1, 0]])\n",
        "sigma_y = np.array([[0, -1j], [1j, 0]])\n",
        "sigma_z = np.array([[1, 0], [0, -1]])\n",
        "I = np.array([[1, 0], [0, 1]])\n",
        "\n",
        "def descomponer_matriz_hermitiana(L):\n",
        "\n",
        "    if not np.allclose(L, L.conj().T):\n",
        "        raise ValueError(\"La matriz no es hermitiana.\")\n",
        "\n",
        "    d = np.trace(L) / 2\n",
        "    c = (L[0, 0] - L[1, 1]) / 2\n",
        "    a = np.real(L[0, 1])\n",
        "    b = -np.imag(L[0, 1])\n",
        "\n",
        "    return a, b, c, d\n",
        "\n",
        "L = np.array([[1, 2+3j], [2-3j, 4]])\n",
        "\n",
        "a, b, c, d = descomponer_matriz_hermitiana(L)\n",
        "\n",
        "print(f\"Matriz L: \\n{L}\\n\")\n",
        "print(f\"Coeficientes de la descomposición:\")\n",
        "print(f\"a = {a}\")\n",
        "print(f\"b = {b}\")\n",
        "print(f\"c = {c}\")\n",
        "print(f\"d = {d}\")\n",
        "\n",
        "reconstruido = a * sigma_x + b * sigma_y + c * sigma_z + d * I\n",
        "\n",
        "print(\"\\nMatriz reconstruida a partir de la descomposición:\")\n",
        "print(reconstruido)\n",
        "\n",
        "print(\"\\n¿La matriz reconstruida es igual a la original?\")\n",
        "print(np.allclose(L, reconstruido))\n"
      ],
      "metadata": {
        "id": "8WN9_cOCV7cM",
        "colab": {
          "base_uri": "https://localhost:8080/"
        },
        "outputId": "f8495b81-a4c4-4934-bac8-0aa09773a9d3"
      },
      "execution_count": null,
      "outputs": [
        {
          "output_type": "stream",
          "name": "stdout",
          "text": [
            "Matriz L: \n",
            "[[1.+0.j 2.+3.j]\n",
            " [2.-3.j 4.+0.j]]\n",
            "\n",
            "Coeficientes de la descomposición:\n",
            "a = 2.0\n",
            "b = -3.0\n",
            "c = (-1.5+0j)\n",
            "d = (2.5+0j)\n",
            "\n",
            "Matriz reconstruida a partir de la descomposición:\n",
            "[[1.+0.j 2.+3.j]\n",
            " [2.-3.j 4.+0.j]]\n",
            "\n",
            "¿La matriz reconstruida es igual a la original?\n",
            "True\n"
          ]
        }
      ]
    }
  ]
}