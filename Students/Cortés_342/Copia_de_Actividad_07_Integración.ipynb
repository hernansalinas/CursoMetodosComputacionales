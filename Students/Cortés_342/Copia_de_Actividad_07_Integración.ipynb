{
  "nbformat": 4,
  "nbformat_minor": 0,
  "metadata": {
    "colab": {
      "provenance": []
    },
    "kernelspec": {
      "name": "python3",
      "display_name": "Python 3"
    },
    "language_info": {
      "name": "python"
    }
  },
  "cells": [
    {
      "cell_type": "code",
      "execution_count": 1,
      "metadata": {
        "id": "rZuc8vXcWuxy"
      },
      "outputs": [],
      "source": [
        "#@title Librerias\n",
        "import numpy as np\n",
        "import matplotlib.pyplot as plt\n",
        "import pandas as pd\n",
        "import sympy as sp\n",
        "from scipy.integrate import simpson, romberg, trapezoid"
      ]
    },
    {
      "cell_type": "markdown",
      "source": [
        "# Actividad 07: Integración\n",
        "\n",
        "---\n",
        "### Profesor: Juan Marcos Marín\n",
        "### Nombre: Kevin Cortés Cordero\n",
        "*Métodos computacionales 2024-II*\n",
        "\n",
        "---"
      ],
      "metadata": {
        "id": "MGwGfceuWxy3"
      }
    },
    {
      "cell_type": "markdown",
      "source": [
        "#1\n",
        "* Implemente una función para el **método de integración de Romberg** definiendo un límite de tolerancia de 1e-8 y/o un máximo de iteraciones de 10.\n",
        "\n",
        "* Encuentre la integral para\n",
        "\n",
        "$$\\int_0^{\\pi/4} dx\\, e^{3x}\\cdot \\sin(x)$$\n",
        "\n",
        "* Imprima su resultado y compare los valores dados por `scipy.integrate.romberg`\n",
        "\n",
        "* Finalmente, encuentre el valor del error, hallando el valor exacto usando `sympy`\n",
        "\n"
      ],
      "metadata": {
        "id": "_qpgPAtHNgPB"
      }
    },
    {
      "cell_type": "code",
      "source": [
        "def integral_romberg(f, a, b, tol=1e-8, max_iter=10):\n",
        "    R = np.zeros((max_iter, max_iter))\n",
        "    h = b - a\n",
        "    R[0, 0] = (h / 2) * (f(a) + f(b))\n",
        "\n",
        "    for k in range(1, max_iter):\n",
        "        h /= 2\n",
        "        suma = sum(f(a + (2 * i - 1) * h) for i in range(1, 2**(k-1) + 1))\n",
        "        R[k, 0] = 0.5 * R[k-1, 0] + h * suma\n",
        "\n",
        "        for j in range(1, k + 1):\n",
        "            R[k, j] = R[k, j-1] + (R[k, j-1] - R[k-1, j-1]) / (4**j - 1)\n",
        "\n",
        "        if abs(R[k, k] - R[k-1, k-1]) < tol:\n",
        "            return R[k, k]\n",
        "\n",
        "    return R[max_iter-1, max_iter-1]\n",
        "\n",
        "f = lambda x: np.exp(3*x) * np.sin(x)\n",
        "\n",
        "integral_1 = integral_romberg(f, 0, np.pi/4)\n",
        "print(f'El resultado con una función implementada es: {integral_1}')\n",
        "integral_2 = romberg(f, 0, np.pi / 4)\n",
        "print(f'El resultado usando scipy es: {integral_2}')\n",
        "\n",
        "x = sp.symbols('x')\n",
        "f_1 = sp.exp(3*x) * sp.sin(x)\n",
        "integral_3 = sp.integrate(f_1, (x, 0, sp.pi/4))\n",
        "integral_3_num = integral_3.evalf()\n",
        "print(f'usando symbolab se obtiene: {integral_3_num}')\n",
        "error = abs(integral_1 - integral_3_num)\n",
        "print(f'El error es de: {error}')"
      ],
      "metadata": {
        "id": "Y0nXXFcnNe2R",
        "colab": {
          "base_uri": "https://localhost:8080/"
        },
        "outputId": "c202d1cd-f132-4caa-8251-3b429364896a"
      },
      "execution_count": null,
      "outputs": [
        {
          "output_type": "stream",
          "name": "stdout",
          "text": [
            "El resultado con una función implementada es: 1.5920977078586134\n",
            "El resultado usando scipy es: 1.592097707858613\n",
            "usando symbolab se obtiene: 1.59209770785868\n",
            "El error es de: 6.59472476627343E-14\n"
          ]
        },
        {
          "output_type": "stream",
          "name": "stderr",
          "text": [
            "<ipython-input-18-fa4825ef47a6>:23: DeprecationWarning: `scipy.integrate.romberg` is deprecated as of SciPy 1.12.0and will be removed in SciPy 1.15.0. Please use`scipy.integrate.quad` instead.\n",
            "  integral_2 = romberg(f, 0, np.pi / 4)\n"
          ]
        }
      ]
    },
    {
      "cell_type": "markdown",
      "source": [
        "#2\n",
        "\n",
        "* Usando los *métodos trapezoidal compuesto*, *simpson 1/3* y de *medio punto* encuentre la siguiente integral,\n",
        "\n",
        "$$\\int_e^{1+e} dx\\, \\frac{1}{x\\ln x}$$\n",
        "\n",
        "* Luego, haga un estudio de la convergencia en términos del valor de $h$ o de los sub-intervalos de la función. ¿Cuál es mejor?\n"
      ],
      "metadata": {
        "id": "Db9dUFTSQcLY"
      }
    },
    {
      "cell_type": "code",
      "source": [
        "#Trapezoidal\n",
        "def trapecio(f, a, b, n):\n",
        "\n",
        "  h = (b - a) / n\n",
        "  integral = 0.5 * (f(a) + f(b))\n",
        "  for i in range(1, n):\n",
        "    x_i = a + i * h\n",
        "    integral += f(x_i)\n",
        "  return integral * h, h\n",
        "\n",
        "#Simpson\n",
        "def simpson13(f, a, b, n):\n",
        "    h = (b - a) / n\n",
        "    integral = (f(a) + f(b))\n",
        "\n",
        "    for i in range(1, n, 2):\n",
        "      x_i = a + i * h\n",
        "      integral += 4 * f(x_i)\n",
        "\n",
        "    for i in range(2, n, 2):\n",
        "      x_i = a + i * h\n",
        "      integral += 2 * f(x_i)\n",
        "    return integral * h/3, h\n",
        "\n",
        "#Punto medio\n",
        "def cuadratura_riemann(f, a, b, n):\n",
        "  h = (b - a) / n\n",
        "  integral = 0\n",
        "  for i in range(n):\n",
        "    x_i = a + i * h\n",
        "    integral +=  f(x_i + h/2)\n",
        "  return integral * h, h\n",
        "\n",
        "f = lambda x: 1 / (x* np.log(x))\n",
        "\n",
        "integral_trapezoide, convergencia1 = trapecio(f, np.e, np.e +1, 1000 )\n",
        "integral_simpson, convergencia2 = simpson13(f, np.e, np.e +1, 1000)\n",
        "integral_cuadratura, convergencia3 = cuadratura_riemann(f, np.e, np.e +1, 1000)\n",
        "print(f'''\n",
        "Método de trapezoide: {integral_trapezoide} con h= {convergencia1}\n",
        "Método de Simpson: {integral_simpson} con h= {convergencia2}\n",
        "Método de punto medio: {integral_cuadratura} con h= {convergencia3}\n",
        "''')"
      ],
      "metadata": {
        "id": "uEPXP21uQc_o",
        "colab": {
          "base_uri": "https://localhost:8080/"
        },
        "outputId": "4f89cf65-0a04-4fc9-fe16-3517b4a3f774"
      },
      "execution_count": 11,
      "outputs": [
        {
          "output_type": "stream",
          "name": "stdout",
          "text": [
            "\n",
            "Método de trapezoide: 0.2725138949739035 con h= 0.001\n",
            "Método de Simpson: 0.27251388050258657 con h= 0.001\n",
            "Método de punto medio: 0.2725138732669239 con h= 0.001\n",
            "\n"
          ]
        }
      ]
    },
    {
      "cell_type": "markdown",
      "source": [
        "#3\n",
        "Usando la siguiente función:\n",
        "\n",
        "\n",
        "\n",
        "```python\n",
        "def gauss_quad_standard(func, n):\n",
        "    \"\"\"\n",
        "    Calcula la integral de una función en el intervalo [-1, 1]\n",
        "    utilizando cuadratura gaussiana.\n",
        "\n",
        "    Parameters:\n",
        "    - func: La función a integrar.\n",
        "    - n: Número de puntos para la cuadratura (grado del polinomio de Legendre).\n",
        "\n",
        "    Returns:\n",
        "    - Aproximación de la integral.\n",
        "    \"\"\"\n",
        "    # Obtener raíces y pesos del polinomio de Legendre\n",
        "    x, w = roots_legendre(n)\n",
        "\n",
        "    # Evaluar la suma ponderada\n",
        "    integral = np.sum(w * func(x))\n",
        "    return integral\n",
        "```\n",
        "\n",
        "Modifique la función `gauss_quad_standard` de forma tal que no este restringida para $[-1,1]$ sino para cualquier intervalo $[a,b]$. Luego, encuentre la integral del *punto 2*.\n",
        "\n",
        "\n",
        "\n"
      ],
      "metadata": {
        "id": "3fLo8sm8RqA0"
      }
    },
    {
      "cell_type": "code",
      "source": [
        "from scipy.special import roots_legendre\n",
        "\n",
        "def gauss_quad(func, a, b, n):\n",
        "\n",
        "    # Obtener raíces y pesos del polinomio de Legendre\n",
        "    x, w = roots_legendre(n)\n",
        "\n",
        "    # Transformación de los puntos de [-1,1] a [a,b]\n",
        "    t = 0.5 * (b - a) * x + 0.5 * (b + a)\n",
        "\n",
        "    # Evaluar la suma ponderada con el factor de cambio de variable\n",
        "    integral = np.sum(w * func(t)) * (b - a) / 2\n",
        "    return integral\n",
        "\n",
        "f = lambda x: 1 / (x*np.log(x))\n",
        "\n",
        "integral_gauss = gauss_quad(f,np.e, np.e+1,1000)\n",
        "\n",
        "print(f'La integral es: {integral_gauss}')\n"
      ],
      "metadata": {
        "id": "0XQga3HfSE9n",
        "colab": {
          "base_uri": "https://localhost:8080/"
        },
        "outputId": "5c7d36e1-97a1-4e6c-91f7-5294c04f69db"
      },
      "execution_count": 14,
      "outputs": [
        {
          "output_type": "stream",
          "name": "stdout",
          "text": [
            "La integral es: 0.27251388050258063\n"
          ]
        }
      ]
    },
    {
      "cell_type": "markdown",
      "source": [
        "#4\n",
        "\n",
        "Encuentra todas las raices para los polinomios de grado 3 y 4 de **Legendre** usando el Método de la Secante y Newton-Raphson.\n",
        "\n",
        "\n",
        "\n",
        "```python\n",
        "import sympy as sp\n",
        "x = sp.Symbol('x')\n",
        "\n",
        "# Polinomio de Legendre de grado n\n",
        "Pn = sp.legendre(n, x)\n",
        "\n",
        "```\n",
        "\n",
        "y calcule los pesos $w_i$ de la cuadratura mediante la fórmula:\n",
        "   $$\n",
        "   w_i = \\frac{2}{(1 - x_i^2) \\left[P_n'(x_i)\\right]^2},\n",
        "   $$\n",
        "   donde $P_n'(x)$ es la derivada del polinomio de Legendre $P_n(x)$.\n"
      ],
      "metadata": {
        "id": "hvSy6jouSLiJ"
      }
    }
  ]
}