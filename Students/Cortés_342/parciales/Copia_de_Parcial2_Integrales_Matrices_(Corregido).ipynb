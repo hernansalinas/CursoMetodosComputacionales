{
  "nbformat": 4,
  "nbformat_minor": 0,
  "metadata": {
    "colab": {
      "provenance": []
    },
    "kernelspec": {
      "name": "python3",
      "display_name": "Python 3"
    },
    "language_info": {
      "name": "python"
    }
  },
  "cells": [
    {
      "cell_type": "code",
      "execution_count": 2,
      "metadata": {
        "id": "aF61FjHUNGJA"
      },
      "outputs": [],
      "source": [
        "#@title Librerias\n",
        "import numpy as np\n",
        "import numpy.linalg as la\n",
        "import matplotlib.pyplot as plt\n",
        "from scipy.integrate import quad, fixed_quad, trapezoid, simpson, nquad\n",
        "from sympy import symbols, diff, integrate, lambdify"
      ]
    },
    {
      "cell_type": "markdown",
      "source": [
        "# Parcial II - Métodos Computacionales (Integrales y Matrices)\n",
        "**2024-2**\n",
        "\n",
        "---\n",
        "\n",
        "*Nombre:* Kevin Cortés Cordero\n",
        "\n",
        "*Identificación:* 1032010342\n",
        "\n",
        "---\n",
        "* Sea honest@\n",
        "* El uso de herramientas de IA no está permitido\n",
        "* Puede consultar la documentación de las librerias.\n",
        "* Sea ordendado dando la solución a cada punto.\n",
        "* *Asegurese que el notebook corra completamente*\n",
        "* Suba su notebook al GitHub (en su carpeta) y recuerde hacer pull-request"
      ],
      "metadata": {
        "id": "VqRX_GXcNZOl"
      }
    },
    {
      "cell_type": "markdown",
      "source": [
        "# 1\n",
        "\n",
        "**(20 puntos)**\n",
        "Considera la siguiente integral:\n",
        "\n",
        "$$\n",
        "I = \\int_0^1 \\int_{x^2}^{x+1} \\int_{y^2}^{y+2} \\int_{z^2}^{z+3} (x+y+z+w) \\, dw \\, dz \\, dy \\, dx\n",
        "$$\n",
        "\n",
        "Encuentre la solución númerica usando unicamente `quad`. Encuentre el error relativo, para esto emplee el siguiente código que usa `nquad`:\n",
        "\n",
        "\n",
        "```python\n",
        "# Definir el integrando\n",
        "integrand = lambda w, z, y, x: x + y + z + w\n",
        "\n",
        "# Definir los límites usando funciones lambda\n",
        "w_limits = lambda z, y, x: [z**2, z+3]\n",
        "z_limits = lambda y, x: [y**2, y+2]\n",
        "y_limits = lambda x: [x**2, x+1]\n",
        "x_limits = lambda: [0, 1]\n",
        "\n",
        "# Calcular la integral usando nquad\n",
        "result, error = nquad(\n",
        "    integrand,\n",
        "    [w_limits, z_limits, y_limits, x_limits]\n",
        ")\n",
        "\n",
        "print(f\"Resultado de la integral: {result}\")\n",
        "print(f\"Error estimado: {error}\")\n",
        "```\n",
        "\n"
      ],
      "metadata": {
        "id": "u1OxHrJINZ9c"
      }
    },
    {
      "cell_type": "code",
      "source": [
        "integrand = lambda w, z, y, x: x + y + z + w\n",
        "\n",
        "w_limits = lambda z, y, x: [z**2, z+3]\n",
        "z_limits = lambda y, x: [y**2, y+2]\n",
        "y_limits = lambda x: [x**2, x+1]\n",
        "x_limits = lambda: [0, 1]\n",
        "\n",
        "result, error = nquad(\n",
        "    integrand,\n",
        "    [w_limits, z_limits, y_limits, x_limits]\n",
        ")\n",
        "\n",
        "print(f\"Resultado de la integral: {result}\")\n",
        "print(f\"Error estimado: {error}\")\n",
        "\n",
        "integrando = lambda w, z, y, x: x + y + z + w\n",
        "\n",
        "lim_wa = lambda z, y, x: z**2\n",
        "lim_wb = lambda z, y, x: z+3\n",
        "lim_za = lambda y, x: y**2\n",
        "lim_zb = lambda y, x: y+2\n",
        "lim_ya = lambda x: x**2\n",
        "lim_yb = lambda x: x+1\n",
        "\n",
        "def integral_w(z, y, x):\n",
        "    return quad(lambda w: integrando(w, z, y, x), lim_wa(z, y, x), lim_wb(z, y, x))[0]\n",
        "\n",
        "def integral_z(y, x):\n",
        "    return quad(lambda z: integral_w(z, y, x), lim_za(y, x), lim_zb(y, x))[0]\n",
        "\n",
        "def integral_y(x):\n",
        "    return quad(lambda y: integral_z(y, x), lim_ya(x), lim_yb(x))[0]\n",
        "\n",
        "resultado = quad(integral_y, 0, 1)\n",
        "\n",
        "print(f\"Resultado de la integral con nquad: {result}\")\n",
        "print(f\"Error estimado con nquad: {error}\")\n",
        "print(f\"Resultado de la integral con quad: {resultado[0]}\")\n",
        "print(f\"Error estimado con quad: {resultado[1]}\")\n",
        "print(f\"Error relativo: {abs(resultado[0] - result)}\")"
      ],
      "metadata": {
        "id": "cZURwltmOSgu",
        "colab": {
          "base_uri": "https://localhost:8080/"
        },
        "outputId": "1f0b2530-2cae-4349-ab84-024e199455d5"
      },
      "execution_count": 3,
      "outputs": [
        {
          "output_type": "stream",
          "name": "stdout",
          "text": [
            "Resultado de la integral: -0.6500971589021813\n",
            "Error estimado: 1.8391891749223705e-12\n",
            "Resultado de la integral con nquad: -0.6500971589021813\n",
            "Error estimado con nquad: 1.8391891749223705e-12\n",
            "Resultado de la integral con quad: -0.6500971589021813\n",
            "Error estimado con quad: 1.5813253071872154e-13\n",
            "Error relativo: 0.0\n"
          ]
        }
      ]
    },
    {
      "cell_type": "markdown",
      "source": [
        "# 2\n",
        "\n",
        "**(40 puntos)**\n",
        "Un lazo de corriente de radio $a$  transporta una corriente $I$ en el punto P que está a una distancia $r$ del centro del lazo con coordenadas esféricas (r, θ, φ). Resuelve para la componente φ del potencial vectorial en el punto $P$ en términos de integrales elípticas:\n",
        "\n",
        "\\begin{equation}\n",
        "A_{\\phi}(r, \\theta)=\\frac{\\mu_0}{4\\pi}\\frac{4Ia}{\\sqrt{a^2+r^2+2ar\\sin \\theta}}\\left(\\frac{(2-k^2)K(k)-2E(k)}{k^2} \\right)\n",
        "\\end{equation}\n",
        "\n",
        "donde\n",
        "\n",
        "\\begin{equation}\n",
        "K(k)=\\int_{0}^{\\pi/2} \\frac{\\mathrm{d\\phi}}{\\sqrt{1-k^2\\sin^2\\phi}}\n",
        "\\end{equation}\n",
        "\n",
        "\\begin{equation}\n",
        "E(k)=\\int_{0}^{\\pi/2} \\mathrm{d\\phi} \\sqrt{1-k^2\\sin^2\\phi}\n",
        "\\end{equation}\n",
        "\n",
        "\\begin{equation}\n",
        "k^2=\\frac{4ar\\sin\\theta}{a^2+r^2+2ar\\sin\\theta}\n",
        "\\end{equation}\n",
        "\n",
        "Aquí, $K(k)$ es una integral elíptica completa del primer tipo y $E(k)$ es una integral elíptica completa del segundo tipo.\n",
        "\n",
        "\n",
        "Para\n",
        "* $a$ = 1,\n",
        "* $I$ = 3,\n",
        "* $μ0/4π$ = 1\n",
        "\n",
        "\n",
        "Usando funciones explicitas explique claramente las entradas, salidas y procedimientos dentro de las mismas. Recuerde para resolver las integrales usar `quad` y grafique para:\n",
        "\n",
        "*a)* $A_φ(r = 1.1, θ)$ vs. $0\\leq θ\\leq \\pi$\n",
        "\n",
        "*b)* $A_φ(r, θ = π∕3)$ vs. $0\\leq r \\leq 10$\n",
        "\n",
        "Tenga cuidado con la convergencia de su integral\n",
        "\n"
      ],
      "metadata": {
        "id": "ryB1EksIOV_l"
      }
    },
    {
      "cell_type": "code",
      "source": [
        "def K2(r, theta):\n",
        "    return (4 * r * np.sin(theta)) / (1 + r**2 + 2 * r * np.sin(theta))\n",
        "\n",
        "def K(r, theta):\n",
        "    k = K2(r, theta)\n",
        "    integrand = lambda x: 1 / np.sqrt(1 - k * (np.sin(x)**2))\n",
        "    return quad(integrand, 0, np.pi/2)[0]\n",
        "\n",
        "def E(r, theta):\n",
        "    k = K2(r, theta)\n",
        "    integrand = lambda x: np.sqrt(1 - k* (np.sin(x)**2))\n",
        "    return quad(integrand, 0, np.pi/2)[0]\n",
        "\n",
        "def A(r, theta):\n",
        "    k = K2(r, theta)\n",
        "    K_val = K(r, theta)\n",
        "    E_val = E(r, theta)\n",
        "    numerator = (2 - k) * K_val - 2 * E_val\n",
        "    return ((4 * 3 * 1) / (1**2 + r**2 + 2 * 1 * r * np.sin(theta))) * (numerator / k)\n",
        "\n",
        "#Gráfica de A con r fijo\n",
        "r = 1.1\n",
        "theta = np.linspace(0, np.pi/2, 100)\n",
        "A_vals = np.array([A(r, t) for t in theta])\n",
        "\n",
        "plt.plot(theta, A_vals)\n",
        "plt.xlabel('Theta')\n",
        "plt.ylabel('A')\n",
        "plt.show()\n",
        "print()\n",
        "\n",
        "# Grafico de A con theta fijo\n",
        "r_vals = np.linspace(0, 10, 100)\n",
        "theta = np.pi/3\n",
        "A_values = np.array([A(t, theta) for t in r_vals])\n",
        "\n",
        "plt.plot(r_vals, A_values)\n",
        "plt.xlabel('r')\n",
        "plt.ylabel('A')\n",
        "plt.show()"
      ],
      "metadata": {
        "id": "o4XQTbhYW9ai",
        "outputId": "7952370d-5987-4ca6-b6b0-f22e76866e6d",
        "colab": {
          "base_uri": "https://localhost:8080/",
          "height": 933
        }
      },
      "execution_count": 4,
      "outputs": [
        {
          "output_type": "stream",
          "name": "stderr",
          "text": [
            "<ipython-input-4-856fd6b28662>:19: RuntimeWarning: invalid value encountered in scalar divide\n",
            "  return ((4 * 3 * 1) / (1**2 + r**2 + 2 * 1 * r * np.sin(theta))) * (numerator / k)\n"
          ]
        },
        {
          "output_type": "display_data",
          "data": {
            "text/plain": [
              "<Figure size 640x480 with 1 Axes>"
            ],
            "image/png": "[encoded data removed]"
          },
          "metadata": {}
        },
        {
          "output_type": "stream",
          "name": "stdout",
          "text": [
            "\n"
          ]
        },
        {
          "output_type": "display_data",
          "data": {
            "text/plain": [
              "<Figure size 640x480 with 1 Axes>"
            ],
            "image/png": "[encoded data removed]"
          },
          "metadata": {}
        }
      ]
    },
    {
      "cell_type": "markdown",
      "source": [
        "# 3\n",
        "\n",
        "(**40 puntos**) El **método de la potencia inversa** es una técnica iterativa utilizada para calcular el autovalor de menor magnitud de una matriz cuadrada. Es una variante del **método de la potencia**, que normalmente encuentra el autovalor de mayor magnitud. Para ello, se aprovecha la propiedad de la matriz inversa:\n",
        "\n",
        "$$ A^{-1} v = \\frac{1}{\\lambda} v $$\n",
        "\n",
        "\n",
        "## Algoritmo\n",
        "\n",
        "El método de la potencia inversa sigue los siguientes pasos:\n",
        "\n",
        "1. Elegir un vector inicial $x^{(0)}$ no nulo.\n",
        "\n",
        "2. Para cada iteración $k$, resolver el sistema lineal:\n",
        "   \n",
        "   $$ A y^{(k)} = x^{(k-1)} $$\n",
        "   \n",
        "   donde $y^{(k)}$ es un **vector intermedio** que se obtiene resolviendo el sistema lineal. Este vector representa la solución del sistema en cada iteración y es crucial para aproximar el autovector de menor autovalor.\n",
        "\n",
        "3. Normalizar $y^{(k)}$ para obtener un nuevo vector de iteración:\n",
        "   \n",
        "   $$ x^{(k)} = \\frac{y^{(k)}}{\\| y^{(k)} \\|} $$\n",
        "   \n",
        "4. Aproximar el autovalor mediante el cociente de Rayleigh:\n",
        "   \n",
        "   $$ \\lambda^{(k)} = \\frac{(x^{(k)})^T A x^{(k)}}{(x^{(k)})^T x^{(k)}} $$\n",
        "   \n",
        "5. Repetir los pasos anteriores hasta que la diferencia entre valores sucesivos de $\\lambda$ sea menor que un umbral de tolerancia.\n",
        "\n",
        "---\n",
        "\n",
        "*a)* Escriba una función llamada `potencia_inversa` que dada una matriz A encuentre su valor propio menos dominante (con una tolerancia de 1e-7 usando la norma Euclidiana) y su correspondiente autovector. Para obtener $y^{(k)}$ puede emplear `np.linalg.solve` recordando que $Ay = x$.\n",
        "\n",
        "*b)* Usando la matriz A, encuentre el $\\lambda_{min}$ y el correspondiente autovector. Examine la convergencia de su autovalor en función de las iteraciones, esto es, haga un gráfico de $\\lambda(k)$\n",
        "\n",
        "$$\n",
        "\\begin{bmatrix}\n",
        "5 & 2 \\\\\n",
        "2 & 2\n",
        "\\end{bmatrix}\n",
        "$$\n",
        "\n",
        "*c)* Compare su resultado con `np.linalg.eig`"
      ],
      "metadata": {
        "id": "pKubcNlWP0nc"
      }
    },
    {
      "cell_type": "code",
      "source": [
        "#a\n",
        "def potencia_inversa(A, tol=1e-7, max_iter=1000):\n",
        "    n = A.shape[0]\n",
        "    v1 = np.random.rand(n)\n",
        "    v1 = v1 / np.linalg.norm(v1)\n",
        "\n",
        "    valores_lambda = []\n",
        "\n",
        "    for _ in range(max_iter):\n",
        "        v2 = np.linalg.solve(A, v1)\n",
        "        v3 = v2 / np.linalg.norm(v2)\n",
        "\n",
        "        l1 = np.dot(v3.T, np.dot(A, v3)) / np.dot(v3.T, v3)\n",
        "        valores_lambda.append(l1)\n",
        "\n",
        "        if np.linalg.norm(v3 - v1) < tol:\n",
        "            break\n",
        "\n",
        "        v1 = v3\n",
        "\n",
        "    return l1, v3, valores_lambda\n",
        "\n",
        "#b\n",
        "A = np.array([[5, 4, 2],\n",
        "              [4, 5, 2],\n",
        "              [2, 2, 2]])\n",
        "\n",
        "l_min, autovec, lista_lambda = potencia_inversa(A)\n",
        "\n",
        "#c\n",
        "autovalores, autovectores = np.linalg.eig(A)\n",
        "l_real = min(autovalores)\n",
        "\n",
        "#Resultados y grafica\n",
        "print(f\"Autovalor mínimo (potencia inversa): {l_min}\")\n",
        "print(f\"Autovalor mínimo (np.linalg.eig): {l_real}\")\n",
        "print(f\"Autovector asociado:\\n{autovec}\")\n",
        "\n",
        "plt.plot(lista_lambda, marker='o', linestyle='-')\n",
        "plt.xlabel(\"Iteraciones\")\n",
        "plt.ylabel(\"Autovalor estimado\")\n",
        "plt.title(\"Convergencia del método de la potencia inversa\")\n",
        "plt.grid()\n",
        "plt.show()"
      ],
      "metadata": {
        "id": "UESnLlk2irQc",
        "outputId": "7f22f59d-e04e-41f7-befa-ca68cb382c39",
        "colab": {
          "base_uri": "https://localhost:8080/",
          "height": 541
        }
      },
      "execution_count": 5,
      "outputs": [
        {
          "output_type": "stream",
          "name": "stdout",
          "text": [
            "Autovalor mínimo (potencia inversa): 1.0\n",
            "Autovalor mínimo (np.linalg.eig): 0.9999999999999999\n",
            "Autovector asociado:\n",
            "[-0.72437793  0.4741478   0.50046026]\n"
          ]
        },
        {
          "output_type": "display_data",
          "data": {
            "text/plain": [
              "<Figure size 640x480 with 1 Axes>"
            ],
            "image/png": "[encoded data removed]"
          },
          "metadata": {}
        }
      ]
    },
    {
      "cell_type": "markdown",
      "source": [
        "#4\n",
        "\n",
        "**(10 puntos)**\n",
        "Sea $A$ una matriz cuadrada de tamaño $n \\times n$. Se sabe que el determinante de una matriz es igual al producto de sus autovalores:\n",
        "\n",
        "$$\n",
        "\\det(A) = \\prod_{i=1}^{n} \\lambda_i\n",
        "$$\n",
        "\n",
        "donde $\\lambda_1, \\lambda_2, \\dots, \\lambda_n$ son los autovalores de $A$.\n",
        "\n",
        "Usando una matriz aleatoria $A$ de $5\\times 5$, demuestre esta propiedad. Puede usar las funciones de `np.linalg`."
      ],
      "metadata": {
        "id": "Qz8QJCjWYds5"
      }
    },
    {
      "cell_type": "code",
      "source": [
        "from numpy import random\n",
        "\n",
        "A = np.random.randint(10, size=(5, 5))\n",
        "print(A)\n",
        "\n",
        "det = np.linalg.det(A)\n",
        "print(det)\n",
        "\n",
        "autovalores = np.linalg.eigvals(A)\n",
        "print(autovalores)\n",
        "det2 = np.prod(autovalores)\n",
        "print(det2)\n",
        "\n",
        "#El valor que se calcula con np.linalg es aproximadamente el valor que se obtiene con el método manual."
      ],
      "metadata": {
        "id": "TCWf5TUwYgKq",
        "colab": {
          "base_uri": "https://localhost:8080/"
        },
        "outputId": "d66cebde-e803-4707-88e5-de17a3944766"
      },
      "execution_count": 6,
      "outputs": [
        {
          "output_type": "stream",
          "name": "stdout",
          "text": [
            "[[4 7 1 6 9]\n",
            " [2 9 7 2 1]\n",
            " [3 7 6 2 8]\n",
            " [1 1 3 0 4]\n",
            " [9 8 1 9 9]]\n",
            "-1372.000000000001\n",
            "[24.35607076+0.j          6.54472428+0.j         -3.08226668+0.j\n",
            "  0.09073582+1.66859715j  0.09073582-1.66859715j]\n",
            "(-1371.9999999999952+0j)\n"
          ]
        }
      ]
    }
  ]
}