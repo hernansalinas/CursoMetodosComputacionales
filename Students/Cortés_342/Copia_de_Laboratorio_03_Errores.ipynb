{
  "cells": [
    {
      "cell_type": "code",
      "execution_count": 2,
      "metadata": {
        "id": "TdDUnb7xEXhH"
      },
      "outputs": [],
      "source": [
        "#@title Librerias\n",
        "import numpy as np\n",
        "import matplotlib.pyplot as plt\n",
        "import pandas as pd\n",
        "import math\n",
        "import sympy as sp"
      ]
    },
    {
      "cell_type": "markdown",
      "metadata": {
        "id": "izZKutpxFNuB"
      },
      "source": [
        "# Actividad 03: Errores y estabilidad\n",
        "\n",
        "---\n",
        "### Profesor: Juan Marcos Marín\n",
        "### Nombre: ______\n",
        "*Métodos computacionales 2024-II*\n",
        "\n",
        "---"
      ]
    },
    {
      "cell_type": "markdown",
      "metadata": {
        "id": "xkTCfzqOFSd_"
      },
      "source": [
        "#1. Serie Seno\n",
        "Considere la serie de Taylor para el seno\n",
        "\n",
        "$$\\sin(x) = \\sum^{\\infty}_{n=1} (-1)^{n}\\frac{x^{2n+1}}{(2n+1)!} $$\n",
        "\n",
        "a. Defina una función que a partir de la *serie de Taylor* y un valor de $x$ en radianes encuentre el valor de $\\sin(x)$.\n",
        "\n",
        "\n",
        "b. Usando $x$ como `float32` encuentre cuántos términos de la serie son necesarios para obtener una convergencia con un error absoluto menor al $ϵ$ de la máquina para dicho tipo de variable. Para el valor exacto use `math.sin()`.\n",
        "\n",
        "\n",
        "c. Ahora, usando $x$ como `float64` encuentre cuántos términos de la serie son necesarios para obtener una convergencia con un error absoluto menor al $ϵ$ de la máquina para dicho tipo de variable. Para el valor exacto use `math.sin()`.\n",
        "\n",
        "\n",
        "d. Describa los errores porcentuales para cada cálculo y por qué pueden existir diferencias."
      ]
    },
    {
      "cell_type": "code",
      "execution_count": null,
      "metadata": {
        "id": "GVLogC5BGc3E",
        "colab": {
          "base_uri": "https://localhost:8080/"
        },
        "outputId": "52e65d36-0c8f-4946-8fb4-cf693127d4a6"
      },
      "outputs": [
        {
          "output_type": "stream",
          "name": "stdout",
          "text": [
            "Con float32, Sen(1.5707963267948966) es aproximadamente: 0.9999999536601702 con 6 términos de la sucesión y un error de 4.633982975121853e-08\n",
            "Con float64, Sen(1.5707963267948966) es aproximadamente: 1.0 con 10 términos de la sucesión y un error de 0.0\n"
          ]
        }
      ],
      "source": [
        "# Aqui va su código\n",
        "def seno(x,flotante):\n",
        "  suma = flotante(0)\n",
        "  n = 1\n",
        "  sen_exacto = flotante(math.sin(x))\n",
        "  epsilon = np.finfo(flotante).eps\n",
        "  termino = x\n",
        "\n",
        "  while True:\n",
        "\n",
        "    suma += termino\n",
        "    error = abs(suma-sen_exacto)\n",
        "    if error < epsilon:\n",
        "      break\n",
        "    termino *= -x**2 / ((2 * n) * (2 * n + 1))\n",
        "    termino = flotante(termino)\n",
        "    n += 1\n",
        "\n",
        "  return suma, n, error\n",
        "\n",
        "x = np.pi/2\n",
        "\n",
        "r,s,t = seno(x,np.float32)\n",
        "print(f'Con float32, Sen({x}) es aproximadamente: {r} con {s} términos de la sucesión y un error de {t}')\n",
        "\n",
        "u, v, w = seno(x,np.float64)\n",
        "print(f'Con float64, Sen({x}) es aproximadamente: {u} con {v} términos de la sucesión y un error de {w}')\n",
        "\n",
        "\n",
        "\n"
      ]
    },
    {
      "cell_type": "markdown",
      "metadata": {
        "id": "RdMr0k4_X_t-"
      },
      "source": [
        "#2. Serie Exponencial\n",
        "Considere la serie para $e^{-x}$\n",
        "\n",
        "\\begin{equation}\n",
        "e^{-x}=\\sum_{n=0}^{N}  (-1)^n \\frac{x^{n}}{n!}\n",
        "\\end{equation}\n",
        "\n",
        "a. Calcula la serie para $x \\le 1$ y compárela con la función incorporada `np.exp(x)` (asuma que la función exponencial incorporada es exacta). Elegir un $N$ para el cual el siguiente término en la serie no sea más que $10^{-7}$ de la suma hasta ese punto.\n",
        "\n",
        "\\begin{equation}\n",
        "\\left| \\frac{(-x)^{N+1}}{(N+1)!} \\right | \\le \\left| 10^{-7} \\sum_{N=0}^{N} \\frac{(-x)^{n}}{n!} \\right|\n",
        "\\end{equation}\n",
        "\n",
        "\n",
        "b. Examine los términos de la serie para $x\\approx 10$ y observa las cancelaciones sustractivas significativas que ocurren cuando términos grandes se suman para dar respuestas pequeñas. En particular, imprime la cancelación casi perfecta en $n \\approx x − 1$.\n",
        "\n",
        "c. Compruebe si se obtiene una mejor precisión siendo ingenioso y usando $e^{−x} = \\frac{1}{e^x}$ para valores grandes de $x$. Esto elimina la cancelación sustractiva, pero no elimina todos los errores de redondeo.\n",
        "\n",
        "\n",
        "d. Incrementando progresivamente $x$ de 1 a 10, y luego de 10 a 100, usa el programa para determinar experimentalmente cuándo la serie comienza a perder precisión, y cuándo la serie ya no converge.\n",
        "\n",
        "\n",
        "e. Realiza una serie de gráficos del error versus $N$ para diferentes valores de $x$."
      ]
    },
    {
      "cell_type": "code",
      "execution_count": 3,
      "metadata": {
        "id": "qQgoQlvDX_bT",
        "colab": {
          "base_uri": "https://localhost:8080/"
        },
        "outputId": "5079efa2-7e53-4e38-e0f8-191f15aff765"
      },
      "outputs": [
        {
          "output_type": "stream",
          "name": "stdout",
          "text": [
            "El valor es: 0.367879439233606 con 11 iteraciones\n",
            "Usando numpy, el valor es: 0.36787944117144233\n",
            "Termino 1: -10.0\n",
            "Termino 2: 50.0\n",
            "Termino 3: -166.66666666666669\n",
            "Termino 4: 416.66666666666674\n",
            "Termino 5: -833.3333333333335\n",
            "Termino 6: 1388.8888888888891\n",
            "Termino 7: -1984.1269841269846\n",
            "Termino 8: 2480.1587301587306\n",
            "Termino 9: -2755.7319223985896\n",
            "Termino 10: 2755.7319223985896\n",
            "Termino 11: -2505.2108385441725\n",
            "Termino 12: 2087.6756987868107\n",
            "Termino 13: -1605.9043836821622\n",
            "Termino 14: 1147.074559772973\n",
            "Termino 15: -764.716373181982\n",
            "Termino 16: 477.94773323873875\n",
            "Termino 17: -281.1457254345522\n",
            "Termino 18: 156.19206968586235\n",
            "Termino 19: -82.20635246624333\n",
            "Termino 20: 41.103176233121665\n",
            "Termino 21: -19.57294106339127\n",
            "Termino 22: 8.896791392450577\n",
            "Termino 23: -3.8681701706306857\n",
            "Termino 24: 1.611737571096119\n",
            "Termino 25: -0.6446950284384476\n",
            "Termino 26: 0.24795962632247986\n",
            "Termino 27: -0.0918368986379555\n",
            "Termino 28: 0.03279889237069839\n",
            "Termino 29: -0.011309962886447722\n",
            "Termino 30: 0.003769987628815907\n",
            "Termino 31: -0.0012161250415535184\n",
            "Termino 32: 0.0003800390754854745\n",
            "Termino 33: -0.00011516335620771955\n",
            "Termino 34: 3.3871575355211636e-05\n",
            "Termino 35: -9.677592958631896e-06\n",
            "Termino 36: 2.688220266286638e-06\n",
            "Termino 37: -7.265460179153076e-07\n",
            "Termino 38: 1.9119632050402831e-07\n",
            "Termino 39: -4.902469756513546e-08\n",
            "Termino 40: 1.2256174391283866e-08\n",
            "Termino 41: -2.9893108271424062e-09\n",
            "Termino 42: 7.117406731291443e-10\n",
            "Termino 43: -1.655210867742196e-10\n",
            "Termino 44: 3.761842881232264e-11\n",
            "Termino 45: -8.359650847182808e-12\n",
            "El valor es: 4.5399929990200534e-05 con 46 terminos y con numpy es: 4.5399929762484854e-05\n",
            "Resultado serie: 4.5399930880501503e-05\n",
            "Resultado numpy: 4.5399929762484854e-05\n",
            "Diferencia: 1.1180166493117427e-12\n"
          ]
        }
      ],
      "source": [
        "# Aqui va su código\n",
        "#a\n",
        "def exp(x):\n",
        "  suma = 1\n",
        "  n = 1\n",
        "  termino = 1\n",
        "  while True:\n",
        "\n",
        "    termino *= (-x/n)\n",
        "    suma += termino\n",
        "\n",
        "    if abs(termino) < (10**-7) * abs(suma):\n",
        "      break\n",
        "\n",
        "    n += 1\n",
        "\n",
        "  return suma, n\n",
        "\n",
        "x = 1\n",
        "\n",
        "e,N = exp(x)\n",
        "print(f'El valor es: {e} con {N} iteraciones')\n",
        "print(f'Usando numpy, el valor es: {np.exp(-x)}')\n",
        "\n",
        "#b\n",
        "def exp_b(x):\n",
        "  suma = 1\n",
        "  n = 1\n",
        "  termino = 1\n",
        "  while True:\n",
        "\n",
        "    termino *= (-x/n)\n",
        "    suma += termino\n",
        "\n",
        "    if abs(termino) < (10**-7) * abs(suma):\n",
        "      break\n",
        "\n",
        "    print(f'Termino {n}: {termino}')\n",
        "    n += 1\n",
        "  return suma, n\n",
        "\n",
        "x_b = 10\n",
        "E, M = exp_b(x_b)\n",
        "print(f'El valor es: {E} con {M} terminos y con numpy es: {np.exp(-x_b)}')\n",
        "\n",
        "#c\n",
        "\n",
        "def serie_exponencial(x, epsilon=1e-7):\n",
        "    suma = 1.0\n",
        "    n = 1\n",
        "    termino = 1.0\n",
        "\n",
        "    while abs(termino) >= epsilon * abs(suma):\n",
        "        termino *= (x / n)\n",
        "        suma += termino\n",
        "        n += 1\n",
        "\n",
        "    return suma\n",
        "\n",
        "def calcular_e_negativo(x):\n",
        "    e_x = serie_exponencial(x)\n",
        "    return 1 / e_x\n",
        "\n",
        "\n",
        "x = 10\n",
        "resultado_serie = calcular_e_negativo(x)\n",
        "resultado_numpy = np.exp(-x)\n",
        "\n",
        "\n",
        "print('Resultado serie:', resultado_serie)\n",
        "print('Resultado numpy:', resultado_numpy)\n",
        "print('Diferencia:', abs(resultado_serie - resultado_numpy))\n"
      ]
    },
    {
      "cell_type": "markdown",
      "metadata": {
        "id": "3AEfpFQcbiys"
      },
      "source": [
        "# 3. Serie $S_N$\n",
        "\n",
        "Un ejemplo de la cancelacion substractiva es en la suma de series alternantes. Considere la serie $\\mathrm{S}_N$,  escrita  matematicamente de tres formas diferentes:\n",
        "\n",
        "-\n",
        "\\begin{equation}\n",
        "\\mathrm{S}_N^{(1)} = \\sum_{n = 1}^{2N} (-1)^n \\frac{n}{n+1}\n",
        "\\end{equation}\n",
        "\n",
        "- Sumando números pares e impares.\n",
        "\n",
        "\\begin{equation}\n",
        "\\mathrm{S}_N^{(2)} = -\\sum_{n = 1}^{N}\\frac{2n-1}{2n} + \\sum_{n=1}^{N} \\frac{2n}{2n+1}\n",
        "\\end{equation}\n",
        "\n",
        "- Combinando las series de una forma analítica\n",
        "\n",
        "\\begin{equation}\n",
        "\\mathrm{S}_N^{(3)} = \\sum_{n = 1}^{N}\\frac{1}{2n(2n+1)}\n",
        "\\end{equation}\n",
        "\n",
        "\n",
        "\n",
        "Las tres sumas $\\mathrm{S}_N^{(1)}$, $\\mathrm{S}_N^{(2)}$ y $\\mathrm{S}_N^{(3)}$ son matemáticamente iguales, pero los resultados númericos  pueden tener diferencias.\n",
        "\n",
        "\n",
        "a.  Escribir tres funciones para que realicen el cálculo de $\\mathrm{S}_N^{(1)}$, $\\mathrm{S}_N^{(2)}$ y $\\mathrm{S}_N^{(3)}$\n",
        "\n",
        "\n",
        "b. Estudiar la convergencia de la serie para los tres casos.\n",
        "\n",
        "\n",
        "c. Considere  que $S_N^{(3)}$ es la solución exacta, realizar dos graficos log-log, del error relativo en función\n",
        "del número de términos ($\\mathrm{Log_{10}} E$ VS $\\mathrm{Log_{10}} N$), para $S_N^{(1)}$ y $S_N^{(2)}$. Donde,  $$E = |(S_N^{(i)} - S_N^{(3)})/S_N^{(3)}|,$$ $i = 1, 2$. Considere valores de $N = 1\\times 10^{6}$.\n",
        "\n",
        "d. Analizar y discutir los resultados. Tenga en cuenta la discusión realizada sobre teoría de errores en la página\n",
        "39 del libro [Computational Physics. ](https://www.dropbox.com/s/n06ul2r4l65khl6/Computational%20Physics%20-%20Problem%20Solving%20with%20Computers%2C%203527406263.pdf?dl=0)"
      ]
    },
    {
      "cell_type": "code",
      "execution_count": null,
      "metadata": {
        "id": "aZnAG7C_b1H9"
      },
      "outputs": [],
      "source": [
        "# Aqui va su código"
      ]
    }
  ],
  "metadata": {
    "colab": {
      "provenance": []
    },
    "kernelspec": {
      "display_name": "Python 3",
      "name": "python3"
    },
    "language_info": {
      "name": "python"
    }
  },
  "nbformat": 4,
  "nbformat_minor": 0
}