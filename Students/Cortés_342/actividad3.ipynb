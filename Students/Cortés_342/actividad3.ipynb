{
  "cells": [
    {
      "cell_type": "code",
      "execution_count": 20,
      "metadata": {
        "id": "rZuc8vXcWuxy"
      },
      "outputs": [],
      "source": [
        "#@title Librerias\n",
        "import numpy as np\n",
        "import matplotlib.pyplot as plt\n",
        "import pandas as pd"
      ]
    },
    {
      "cell_type": "markdown",
      "metadata": {
        "id": "MGwGfceuWxy3"
      },
      "source": [
        "# Actividad 03: Representación númerica\n",
        "\n",
        "---\n",
        "### Profesor: Juan Marcos Marín\n",
        "### Nombre: ______\n",
        "*Métodos computacionales 2024-II*\n",
        "\n",
        "---"
      ]
    },
    {
      "cell_type": "markdown",
      "metadata": {
        "id": "jB6BqzoSamB0"
      },
      "source": [
        "**NOTA: No utilizar los métodos `bin` o `int`**"
      ]
    },
    {
      "cell_type": "markdown",
      "metadata": {
        "id": "BOi6yQmJW7os"
      },
      "source": [
        "1. Escriba una función que se llame `mybin` que reciba un número entero real de 16 bits y realice su conversión en código binario, compare su resultado con `bin(4321)`"
      ]
    },
    {
      "cell_type": "code",
      "execution_count": 22,
      "metadata": {
        "id": "xbt3ZmYiW6oF",
        "colab": {
          "base_uri": "https://localhost:8080/",
          "height": 211
        },
        "outputId": "73668464-2f64-4a41-c46e-15958813a61f"
      },
      "outputs": [
        {
          "output_type": "error",
          "ename": "TypeError",
          "evalue": "'str' object is not callable",
          "traceback": [
            "\u001b[0;31m---------------------------------------------------------------------------\u001b[0m",
            "\u001b[0;31mTypeError\u001b[0m                                 Traceback (most recent call last)",
            "\u001b[0;32m<ipython-input-22-224621f4f85f>\u001b[0m in \u001b[0;36m<cell line: 21>\u001b[0;34m()\u001b[0m\n\u001b[1;32m     19\u001b[0m \u001b[0;34m\u001b[0m\u001b[0m\n\u001b[1;32m     20\u001b[0m \u001b[0;31m# Asegúrate de que 'bin' no ha sido sobrescrito en ninguna parte del código\u001b[0m\u001b[0;34m\u001b[0m\u001b[0;34m\u001b[0m\u001b[0m\n\u001b[0;32m---> 21\u001b[0;31m \u001b[0mb\u001b[0m \u001b[0;34m=\u001b[0m \u001b[0mbin\u001b[0m\u001b[0;34m(\u001b[0m\u001b[0;36m4321\u001b[0m\u001b[0;34m)\u001b[0m\u001b[0;34m[\u001b[0m\u001b[0;36m2\u001b[0m\u001b[0;34m:\u001b[0m\u001b[0;34m]\u001b[0m\u001b[0;34m.\u001b[0m\u001b[0mzfill\u001b[0m\u001b[0;34m(\u001b[0m\u001b[0;36m16\u001b[0m\u001b[0;34m)\u001b[0m\u001b[0;34m\u001b[0m\u001b[0;34m\u001b[0m\u001b[0m\n\u001b[0m\u001b[1;32m     22\u001b[0m \u001b[0;34m\u001b[0m\u001b[0m\n\u001b[1;32m     23\u001b[0m \u001b[0mprint\u001b[0m\u001b[0;34m(\u001b[0m\u001b[0;34mf'El resultado de mybin({numero}) es: {resultado_mibin}'\u001b[0m\u001b[0;34m)\u001b[0m\u001b[0;34m\u001b[0m\u001b[0;34m\u001b[0m\u001b[0m\n",
            "\u001b[0;31mTypeError\u001b[0m: 'str' object is not callable"
          ]
        }
      ],
      "source": [
        "# Aqui va su código\n",
        "def mybin(num):\n",
        "    if num < 0 or num > 65535:\n",
        "        return \"Error: El número debe ser entre 0 y 65535.\"\n",
        "\n",
        "    binario = ''\n",
        "\n",
        "    for i in range(15, -1, -1):\n",
        "        if num >= (1 << i):\n",
        "            binario += '1'\n",
        "            num -= (1 << i)\n",
        "        else:\n",
        "            binario += '0'\n",
        "\n",
        "    return binario\n",
        "\n",
        "numero = 4321\n",
        "resultado_mibin = mybin(numero)\n",
        "\n",
        "b = bin(4321)[2:].zfill(16)\n",
        "\n",
        "print(f'El resultado de mybin({numero}) es: {resultado_mibin}')\n",
        "print(f'El resultado de bin({numero}) es: {b}')\n",
        "\n",
        "\n",
        "\n"
      ]
    },
    {
      "cell_type": "markdown",
      "metadata": {
        "id": "5X_8-jpEXjSw"
      },
      "source": [
        "2. Cree una función llamada `myint` pero que a partir de un número binario con base de 16 bits encuentre el entero correspondiente. Compare su resultado con `int(0b1000011100001)`"
      ]
    },
    {
      "cell_type": "code",
      "execution_count": 27,
      "metadata": {
        "id": "VmS2TiF4XsbN",
        "colab": {
          "base_uri": "https://localhost:8080/"
        },
        "outputId": "ee7e7a2d-019b-4d1e-931d-d8359f641ad0"
      },
      "outputs": [
        {
          "output_type": "stream",
          "name": "stdout",
          "text": [
            "El resultado de myint es: 4321\n",
            "El resultado calculado es: 4321\n"
          ]
        }
      ],
      "source": [
        "# Aqui va su código\n",
        "def myint(bin_str):\n",
        "    if len(bin_str) != 16:\n",
        "        return \"Error: La cadena debe tener 16 bits.\"\n",
        "\n",
        "    entero = 0\n",
        "\n",
        "    for i in range(16):\n",
        "        if bin_str[i] == '1':\n",
        "            entero += 2 ** (15 - i)\n",
        "\n",
        "    return entero\n",
        "\n",
        "binario = \"0001000011100001\"\n",
        "resultado_myint = myint(binario)\n",
        "\n",
        "numero_binario = int(0b1000011100001)\n",
        "\n",
        "\n",
        "print('El resultado de myint es:', resultado_myint)\n",
        "print('El resultado calculado es:', numero_binario)\n",
        "\n",
        "\n"
      ]
    },
    {
      "cell_type": "markdown",
      "metadata": {
        "id": "pHQ8ftloYPO5"
      },
      "source": [
        "3. Generar una función llamada `number64` para flotantes de precisión doble (64bits) donde a partir de un número binario encuentre el valor real. Compruebe su solución usando\n",
        "\n",
        "```\n",
        "number64(\"0100000000111011100100001111111111111111111111111111111111111111\")\n",
        "```\n",
        "\n"
      ]
    },
    {
      "cell_type": "code",
      "execution_count": 6,
      "metadata": {
        "id": "8W4MIVKhZTsO",
        "colab": {
          "base_uri": "https://localhost:8080/"
        },
        "outputId": "d4cf39a9-1168-41b9-84a9-3e0ae6cbb310"
      },
      "outputs": [
        {
          "output_type": "stream",
          "name": "stdout",
          "text": [
            "El valor real para el número binario 0100000000111011100100001111111111111111111111111111111111111111 es: 27.566406249999996\n"
          ]
        }
      ],
      "source": [
        "# Aqui va su código\n",
        "def binario_a_decimal(cadena_binaria):\n",
        "    valor_decimal = 0\n",
        "    for i in range(len(cadena_binaria)):\n",
        "        bit = cadena_binaria[len(cadena_binaria) - 1 - i]\n",
        "        if bit == '1':\n",
        "            valor_decimal += 2 ** i\n",
        "    return valor_decimal\n",
        "\n",
        "def number64(cadena_binaria):\n",
        "    if len(cadena_binaria) != 64:\n",
        "        raise ValueError(\"La cadena debe tener 64 caracteres\")\n",
        "\n",
        "    for c in cadena_binaria:\n",
        "        if c != '0' and c != '1':\n",
        "            raise ValueError(\"La cadena solo puede tener 0s y 1s\")\n",
        "\n",
        "    bit_signo = cadena_binaria[0]\n",
        "\n",
        "    if bit_signo == '1':\n",
        "        signo = -1\n",
        "    else:\n",
        "        signo = 1\n",
        "\n",
        "    bits_exponente = cadena_binaria[1:12]\n",
        "    exponente = binario_a_decimal(bits_exponente) - 1023\n",
        "\n",
        "    bits_mantisa = cadena_binaria[12:]\n",
        "    mantisa = 1\n",
        "\n",
        "    for i in range(len(bits_mantisa)):\n",
        "        if bits_mantisa[i] == '1':\n",
        "            mantisa += 2 ** -(i + 1)\n",
        "\n",
        "    valor_real = signo * mantisa * (2 ** exponente)\n",
        "    return valor_real\n",
        "\n",
        "numero_binario = \"0100000000111011100100001111111111111111111111111111111111111111\"\n",
        "resultado = number64(numero_binario)\n",
        "print(f'El valor real para el número binario {numero_binario} es: {resultado}')"
      ]
    },
    {
      "cell_type": "markdown",
      "metadata": {
        "id": "xwyZCxWtZZoH"
      },
      "source": [
        "4. ***(Opcional)*** Escriba una función que convierta un número con base de 8 bits en hexadecimal, compruebe su respuesta con `hex` e imprimalo también en binario."
      ]
    },
    {
      "cell_type": "code",
      "execution_count": null,
      "metadata": {
        "id": "SpJuueSgbJ4I"
      },
      "outputs": [],
      "source": [
        "# Aqui va su código"
      ]
    }
  ],
  "metadata": {
    "colab": {
      "provenance": []
    },
    "kernelspec": {
      "display_name": "Python 3",
      "name": "python3"
    },
    "language_info": {
      "name": "python"
    }
  },
  "nbformat": 4,
  "nbformat_minor": 0
}