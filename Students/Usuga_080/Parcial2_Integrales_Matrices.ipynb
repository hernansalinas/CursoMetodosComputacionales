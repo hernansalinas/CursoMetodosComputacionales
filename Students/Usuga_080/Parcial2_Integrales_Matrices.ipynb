{
  "nbformat": 4,
  "nbformat_minor": 0,
  "metadata": {
    "colab": {
      "provenance": []
    },
    "kernelspec": {
      "name": "python3",
      "display_name": "Python 3"
    },
    "language_info": {
      "name": "python"
    }
  },
  "cells": [
    {
      "cell_type": "code",
      "execution_count": 1,
      "metadata": {
        "id": "aF61FjHUNGJA"
      },
      "outputs": [],
      "source": [
        "#@title Librerias\n",
        "import numpy as np\n",
        "import numpy.linalg as la\n",
        "import matplotlib.pyplot as plt\n",
        "from scipy.integrate import quad, fixed_quad, trapezoid, simpson, nquad\n",
        "from sympy import symbols, diff, integrate, lambdify"
      ]
    },
    {
      "cell_type": "markdown",
      "source": [
        "# Parcial II - Métodos Computacionales (Integrales y Matrices)\n",
        "**2024-2**\n",
        "\n",
        "---\n",
        "\n",
        "*Nombre:* Juan José Usuga Giraldo\n",
        "\n",
        "*Identificación:* 1020482080\n",
        "\n",
        "---\n",
        "* Sea honest@\n",
        "* El uso de herramientas de IA no está permitido\n",
        "* Puede consultar la documentación de las librerias.\n",
        "* Sea ordendado dando la solución a cada punto.\n",
        "* *Asegurese que el notebook corra completamente*\n",
        "* Suba su notebook al GitHub (en su carpeta) y recuerde hacer pull-request"
      ],
      "metadata": {
        "id": "VqRX_GXcNZOl"
      }
    },
    {
      "cell_type": "markdown",
      "source": [
        "# 1\n",
        "\n",
        "**(20 puntos)**\n",
        "Considera la siguiente integral:\n",
        "\n",
        "$$\n",
        "I = \\int_0^1 \\int_{x^2}^{x+1} \\int_{y^2}^{y+2} \\int_{z^2}^{z+3} (x+y+z+w) \\, dw \\, dz \\, dy \\, dx\n",
        "$$\n",
        "\n",
        "Encuentre la solución númerica usando unicamente `quad`. Encuentre el error relativo, para esto emplee el siguiente código que usa `nquad`:\n",
        "\n",
        "\n",
        "```python\n",
        "# Definir el integrando\n",
        "integrand = lambda w, z, y, x: x + y + z + w\n",
        "\n",
        "# Definir los límites usando funciones lambda\n",
        "w_limits = lambda z, y, x: [z**2, z+3]\n",
        "z_limits = lambda y, x: [y**2, y+2]\n",
        "y_limits = lambda x: [x**2, x+1]\n",
        "x_limits = lambda: [0, 1]\n",
        "\n",
        "# Calcular la integral usando nquad\n",
        "result, error = nquad(\n",
        "    integrand,\n",
        "    [w_limits, z_limits, y_limits, x_limits]\n",
        ")\n",
        "\n",
        "print(f\"Resultado de la integral: {result}\")\n",
        "print(f\"Error estimado: {error}\")\n",
        "```\n",
        "\n"
      ],
      "metadata": {
        "id": "u1OxHrJINZ9c"
      }
    },
    {
      "cell_type": "code",
      "source": [
        "# Definir el integrando\n",
        "integrand = lambda w, z, y, x: x + y + z + w\n",
        "\n",
        "# Definir los límites usando funciones lambda\n",
        "w_limits = lambda z, y, x: [z**2, z+3]\n",
        "z_limits = lambda y, x: [y**2, y+2]\n",
        "y_limits = lambda x: [x**2, x+1]\n",
        "x_limits = lambda: [0, 1]\n",
        "\n",
        "# Calcular la integral usando nquad\n",
        "result, error = nquad(\n",
        "    integrand,\n",
        "    [w_limits, z_limits, y_limits, x_limits]\n",
        ")\n",
        "\n",
        "print(f\"Resultado de la integral: {result}\")\n",
        "print(f\"Error estimado: {error}\")"
      ],
      "metadata": {
        "colab": {
          "base_uri": "https://localhost:8080/"
        },
        "id": "vSrjbHhMcuGN",
        "outputId": "04fb3938-9847-4c26-da59-e09694e4967a"
      },
      "execution_count": 2,
      "outputs": [
        {
          "output_type": "stream",
          "name": "stdout",
          "text": [
            "Resultado de la integral: -0.6500971589021813\n",
            "Error estimado: 1.8391891749223705e-12\n"
          ]
        }
      ]
    },
    {
      "cell_type": "code",
      "source": [
        "# Aqui va su código\n",
        "f = lambda w, z, y, x: x + y + z + w\n",
        "x, y, z, w = symbols('x y z w')\n",
        "integral = integrate(integrate(integrate(integrate(f(w, z, y, x), (w, z**2, z+3)), (z, y**2, y+2)), (y, x**2, x+1)), (x, 0, 1))\n",
        "print(integral)\n",
        "\n",
        "\n"
      ],
      "metadata": {
        "id": "cZURwltmOSgu",
        "colab": {
          "base_uri": "https://localhost:8080/"
        },
        "outputId": "0b5d7697-312e-473e-bddf-6cf67b8b8686"
      },
      "execution_count": 3,
      "outputs": [
        {
          "output_type": "stream",
          "name": "stdout",
          "text": [
            "-3480768983/5354228880\n"
          ]
        }
      ]
    },
    {
      "cell_type": "code",
      "source": [
        "error = abs(result - integral) / abs(integral)\n",
        "print(f\"Error relativo: {error}\")"
      ],
      "metadata": {
        "colab": {
          "base_uri": "https://localhost:8080/"
        },
        "id": "Ue--8RiFc20b",
        "outputId": "b3bdd1b0-6d4b-4e7c-cd63-349a07a8f4b3"
      },
      "execution_count": 4,
      "outputs": [
        {
          "output_type": "stream",
          "name": "stdout",
          "text": [
            "Error relativo: 2.39089221232714E-15\n"
          ]
        }
      ]
    },
    {
      "cell_type": "code",
      "source": [
        "def integrand2(w, z, y, x):\n",
        "       return x + y + z + w"
      ],
      "metadata": {
        "id": "bz368G0fdEqL"
      },
      "execution_count": 5,
      "outputs": []
    },
    {
      "cell_type": "code",
      "source": [
        "def w_limi(z, y, x):\n",
        "       return [z**2, z + 3]\n",
        "\n",
        "def z_limi(y, x):\n",
        "       return [y**2, y + 2]\n",
        "\n",
        "def y_limi(x):\n",
        "       return [x**2, x + 1]\n",
        "\n",
        "def x_limi():\n",
        "       return [0, 1]"
      ],
      "metadata": {
        "id": "Qa2wSZJGdF0T"
      },
      "execution_count": 6,
      "outputs": []
    },
    {
      "cell_type": "code",
      "source": [
        "def integral_quad():\n",
        "       pri_integral = lambda z, y, x: quad(integrand2, w_limi(z, y, x)[0], w_limi(z, y, x)[1], args=(z, y, x))[0]\n",
        "       seg_integral = lambda y, x: quad(pri_integral, z_limi(y, x)[0], z_limi(y, x)[1], args=(y, x))[0]\n",
        "       ter_integral = lambda x: quad(seg_integral, y_limi(x)[0], y_limi(x)[1], args=(x))[0]\n",
        "       result = quad(ter_integral, x_limi()[0], x_limi()[1])[0]\n",
        "       return result"
      ],
      "metadata": {
        "id": "A2R0OrYRdHVM"
      },
      "execution_count": 7,
      "outputs": []
    },
    {
      "cell_type": "code",
      "source": [
        "result_quad = integral_quad()\n",
        "print(f\"usando quad ome, da  {result_quad}\")"
      ],
      "metadata": {
        "colab": {
          "base_uri": "https://localhost:8080/"
        },
        "id": "0aarTmFZdI6S",
        "outputId": "b126f72b-9b40-4da5-f2aa-419e4d3faa37"
      },
      "execution_count": 8,
      "outputs": [
        {
          "output_type": "stream",
          "name": "stdout",
          "text": [
            "usando quad ome, da  -0.6500971589021813\n"
          ]
        }
      ]
    },
    {
      "cell_type": "code",
      "source": [
        "integrand_nquad = lambda w, z, y, x: x + y + z + w\n",
        "w_limi_nquad = lambda z, y, x: [z**2, z+3]\n",
        "z_limi_nquad = lambda y, x: [y**2, y+2]\n",
        "y_limi_nquad = lambda x: [x**2, x+1]\n",
        "x_limi_nquad = lambda: [0, 1]\n",
        "result_nquad, error_nquad = nquad(\n",
        "integrand_nquad,\n",
        "[w_limi_nquad, z_limi_nquad, y_limi_nquad, x_limi_nquad])\n",
        "errorr = abs(result_quad - result_nquad) / abs(result_nquad)\n",
        "print(f\"error relativo: {errorr}\")"
      ],
      "metadata": {
        "colab": {
          "base_uri": "https://localhost:8080/"
        },
        "id": "Y4ylYzn8dJ06",
        "outputId": "1be9fad5-a9b4-4ebe-92bf-1f450463aa4b"
      },
      "execution_count": 9,
      "outputs": [
        {
          "output_type": "stream",
          "name": "stdout",
          "text": [
            "error relativo: 0.0\n"
          ]
        }
      ]
    },
    {
      "cell_type": "markdown",
      "source": [
        "# 2\n",
        "\n",
        "**(40 puntos)**\n",
        "Un lazo de corriente de radio $a$  transporta una corriente $I$ en el punto P que está a una distancia $r$ del centro del lazo con coordenadas esféricas (r, θ, φ). Resuelve para la componente φ del potencial vectorial en el punto $P$ en términos de integrales elípticas:\n",
        "\n",
        "\\begin{equation}\n",
        "A_{\\phi}(r, \\theta)=\\frac{\\mu_0}{4\\pi}\\frac{4Ia}{\\sqrt{a^2+r^2+2ar\\sin \\theta}}\\left(\\frac{(2-k^2)K(k)-2E(k)}{k^2} \\right)\n",
        "\\end{equation}\n",
        "\n",
        "donde\n",
        "\n",
        "\\begin{equation}\n",
        "K(k)=\\int_{0}^{\\pi/2} \\frac{\\mathrm{d\\phi}}{\\sqrt{1-k^2\\sin^2\\phi}}\n",
        "\\end{equation}\n",
        "\n",
        "\\begin{equation}\n",
        "E(k)=\\int_{0}^{\\pi/2} \\mathrm{d\\phi} \\sqrt{1-k^2\\sin^2\\phi}\n",
        "\\end{equation}\n",
        "\n",
        "\\begin{equation}\n",
        "k^2=\\frac{4ar\\sin\\theta}{a^2+r^2+2ar\\sin\\theta}\n",
        "\\end{equation}\n",
        "\n",
        "Aquí, $K(k)$ es una integral elíptica completa del primer tipo y $E(k)$ es una integral elíptica completa del segundo tipo.\n",
        "\n",
        "\n",
        "Para\n",
        "* $a$ = 1,\n",
        "* $I$ = 3,\n",
        "* $μ0/4π$ = 1\n",
        "\n",
        "\n",
        "Usando funciones explicitas explique claramente las entradas, salidas y procedimientos dentro de las mismas. Recuerde para resolver las integrales usar `quad` y grafique para:\n",
        "\n",
        "*a)* $A_φ(r = 1.1, θ)$ vs. $0\\leq θ\\leq \\pi$\n",
        "\n",
        "*b)* $A_φ(r, θ = π∕3)$ vs. $0\\leq r \\leq 10$\n",
        "\n",
        "Tenga cuidado con la convergencia de su integral\n",
        "\n"
      ],
      "metadata": {
        "id": "ryB1EksIOV_l"
      }
    },
    {
      "cell_type": "code",
      "source": [
        "# Las constantes\n",
        "a = 1  # radio del lazo\n",
        "I = 3  # corriente del lazo\n",
        "mu0_4pi = 1  # μ0 / 4π\n"
      ],
      "metadata": {
        "id": "yGrEqwaNOh_8"
      },
      "execution_count": 10,
      "outputs": []
    },
    {
      "cell_type": "code",
      "source": [
        "#definimos la funcion k(k) la cual es una integral que va de cero a 2 pi\n",
        "def K(k):\n",
        "  integrand = lambda fi: 1 / np.sqrt(1 - k**2 * np.sin(fi)**2)\n",
        "  result, _ = quad(integrand, 0, np.pi/2)\n",
        "  return result"
      ],
      "metadata": {
        "id": "gBD02L8ShdDk"
      },
      "execution_count": 11,
      "outputs": []
    },
    {
      "cell_type": "code",
      "source": [
        "def E(k):\n",
        "  integrand = lambda fi: np.sqrt(1 - k**2 * np.sin(fi)**2)\n",
        "  result, _ = quad(integrand, 0, np.pi/2)\n",
        "  return result"
      ],
      "metadata": {
        "id": "1ReWgIdthfXU"
      },
      "execution_count": 12,
      "outputs": []
    },
    {
      "cell_type": "code",
      "source": [
        "def A_fi(r, teta):\n",
        "  k_squared = (4 * a * r * np.sin(teta)) / (a**2 + r**2 + 2 * a * r * np.sin(teta))\n",
        "  k = np.sqrt(k_squared)"
      ],
      "metadata": {
        "id": "Gk0pwyyjhi8E"
      },
      "execution_count": 13,
      "outputs": []
    },
    {
      "cell_type": "code",
      "source": [
        "# LA funcion para  A fi (r, θ)\n",
        "def A_fi(r, teta):\n",
        "  k_squared = (4 * a * r * np.sin(teta)) / (a**2 + r**2 + 2 * a * r * np.sin(teta))\n",
        "  k = np.sqrt(k_squared)\n",
        "  if abs(k - 1) < 1e-10:\n",
        "    k = 1 - 1e-10\n",
        "\n",
        "  result = mu0_4pi * (4 * I * a) / np.sqrt(a**2 + r**2 + 2 * a * r * np.sin(teta))\n",
        "  result *= ((2 - k**2) * K(k) - 2 * E(k)) / k**2\n",
        "  return result"
      ],
      "metadata": {
        "id": "g-9hBOr6iZTs"
      },
      "execution_count": 14,
      "outputs": []
    },
    {
      "cell_type": "code",
      "source": [
        "teta_val = np.linspace(0, np.pi, 100)\n",
        "A_fi_val_a = [A_fi(1.1, teta) for teta in teta_val]\n",
        "\n",
        "plt.figure(figsize=(8, 6))\n",
        "plt.plot(teta_val, A_fi_val_a)\n",
        "plt.title(\"A fi (r = 1.1, θ) vs. θ\")\n",
        "plt.xlabel(\"θ (radianes)\")\n",
        "plt.ylabel(\"A fi\")\n",
        "plt.grid(True)\n",
        "plt.show()\n",
        "\n",
        "# (b) Plot Aφ(r, θ = π/3) vs. r\n",
        "r_val = np.linspace(0, 10, 100)\n",
        "A_fi_val_b = [A_fi(r, np.pi/3) for r in r_val]\n",
        "\n",
        "plt.figure(figsize=(8, 6))\n",
        "plt.plot(r_val, A_fi_val_b)\n",
        "plt.title(\"A fi (r, θ = π/3) vs. r\")\n",
        "plt.xlabel(\"r\")\n",
        "plt.ylabel(\"A fi\")\n",
        "plt.grid(True)\n",
        "plt.show()"
      ],
      "metadata": {
        "colab": {
          "base_uri": "https://localhost:8080/",
          "height": 1000
        },
        "id": "tMSRKOeldqj8",
        "outputId": "2389c30e-9372-487e-9b7d-1ade9b63585d"
      },
      "execution_count": 15,
      "outputs": [
        {
          "output_type": "stream",
          "name": "stderr",
          "text": [
            "<ipython-input-14-eab5ba72e9f2>:9: RuntimeWarning: invalid value encountered in scalar divide\n",
            "  result *= ((2 - k**2) * K(k) - 2 * E(k)) / k**2\n"
          ]
        },
        {
          "output_type": "display_data",
          "data": {
            "text/plain": [
              "<Figure size 800x600 with 1 Axes>"
            ],
            "image/png": "[encoded data removed]"
          },
          "metadata": {}
        },
        {
          "output_type": "display_data",
          "data": {
            "text/plain": [
              "<Figure size 800x600 with 1 Axes>"
            ],
            "image/png": "[encoded data removed]"
          },
          "metadata": {}
        }
      ]
    },
    {
      "cell_type": "markdown",
      "source": [
        "# 3\n",
        "\n",
        "(**40 puntos**) El **método de la potencia inversa** es una técnica iterativa utilizada para calcular el autovalor de menor magnitud de una matriz cuadrada. Es una variante del **método de la potencia**, que normalmente encuentra el autovalor de mayor magnitud. Para ello, se aprovecha la propiedad de la matriz inversa:\n",
        "\n",
        "$$ A^{-1} v = \\frac{1}{\\lambda} v $$\n",
        "\n",
        "\n",
        "## Algoritmo\n",
        "\n",
        "El método de la potencia inversa sigue los siguientes pasos:\n",
        "\n",
        "1. Elegir un vector inicial $x^{(0)}$ no nulo.\n",
        "\n",
        "2. Para cada iteración $k$, resolver el sistema lineal:\n",
        "   \n",
        "   $$ A y^{(k)} = x^{(k-1)} $$\n",
        "   \n",
        "   donde $y^{(k)}$ es un **vector intermedio** que se obtiene resolviendo el sistema lineal. Este vector representa la solución del sistema en cada iteración y es crucial para aproximar el autovector de menor autovalor.\n",
        "\n",
        "3. Normalizar $y^{(k)}$ para obtener un nuevo vector de iteración:\n",
        "   \n",
        "   $$ x^{(k)} = \\frac{y^{(k)}}{\\| y^{(k)} \\|} $$\n",
        "   \n",
        "4. Aproximar el autovalor mediante el cociente de Rayleigh:\n",
        "   \n",
        "   $$ \\lambda^{(k)} = \\frac{(x^{(k)})^T A x^{(k)}}{(x^{(k)})^T x^{(k)}} $$\n",
        "   \n",
        "5. Repetir los pasos anteriores hasta que la diferencia entre valores sucesivos de $\\lambda$ sea menor que un umbral de tolerancia.\n",
        "\n",
        "---\n",
        "\n",
        "*a)* Escriba una función llamada `potencia_inversa` que dada una matriz A encuentre su valor propio menos dominante (con una tolerancia de 1e-7 usando la norma Euclidiana) y su correspondiente autovector. Para obtener $y^{(k)}$ puede emplear `np.linalg.solve` recordando que $Ay = x$.\n",
        "\n",
        "*b)* Usando la matriz A, encuentre el $\\lambda_{min}$ y el correspondiente autovector. Examine la convergencia de su autovalor en función de las iteraciones, esto es, haga un gráfico de $\\lambda(k)$\n",
        "\n",
        "$$\n",
        "\\begin{bmatrix}\n",
        "5 & 2 \\\\\n",
        "2 & 2\n",
        "\\end{bmatrix}\n",
        "$$\n",
        "\n",
        "*c)* Compare su resultado con `np.linalg.eig`"
      ],
      "metadata": {
        "id": "pKubcNlWP0nc"
      }
    },
    {
      "cell_type": "code",
      "source": [
        "#Vamos primero a usar shape para la matriz A, luego el vector inicial aleatorio va a depender del n que sale de shape\n",
        "def potencia_inversa(A, tol=1e-7):\n",
        "    n = A.shape[0]\n",
        "    x = np.random.rand(n)\n",
        "    lambda_prev = 0\n",
        "\n",
        "    while True:\n",
        "        y = np.linalg.solve(A, x)\n",
        "        x = y / np.linalg.norm(y)\n",
        "        lambda_ome = x.T @ A @ x\n",
        "\n",
        "\n",
        "        if abs(lambda_ome - lambda_prev) < tol:\n",
        "            break\n",
        "\n",
        "        lambda_prev = lambda_ome\n",
        "\n",
        "    return lambda_ome, x\n",
        "\n"
      ],
      "metadata": {
        "id": "UqzyorG4lkuy"
      },
      "execution_count": 16,
      "outputs": []
    },
    {
      "cell_type": "code",
      "source": [
        "A = np.array([[5, 2], [2, 2]])\n",
        "lambda_min, autovector = potencia_inversa(A)\n",
        "\n",
        "print(\"Autovalor menos dominante:\", lambda_min)\n",
        "print(\"Autovector correspondiente:\", autovector)\n",
        "\n",
        "# Profe ahora miramos la convergencia del autovalor\n",
        "lambda_val = []\n",
        "x = np.random.rand(A.shape[0])\n",
        "lambda_prev = 0\n",
        "\n",
        "for _ in range(10):  # Realizar 10 iteraciones\n",
        "    y = np.linalg.solve(A, x)\n",
        "    x = y / np.linalg.norm(y)\n",
        "    lambda_ome = x.T @ A @ x\n",
        "    lambda_val.append(lambda_ome)\n",
        "\n",
        "    if abs(lambda_ome - lambda_prev) < 1e-7:\n",
        "        break\n",
        "\n",
        "    lambda_prev = lambda_ome\n",
        "\n",
        "plt.plot(lambda_val, marker='+')\n",
        "plt.title(\"Convergencia del Autovalor\")\n",
        "plt.xlabel(\"Iteraciones\")\n",
        "plt.ylabel(\"Autovalor\")\n",
        "plt.grid(True)\n",
        "plt.show()\n"
      ],
      "metadata": {
        "colab": {
          "base_uri": "https://localhost:8080/",
          "height": 507
        },
        "id": "ctXYvjAQn7qs",
        "outputId": "e805d589-ca03-4d33-dd5f-6d40636dc08f"
      },
      "execution_count": 20,
      "outputs": [
        {
          "output_type": "stream",
          "name": "stdout",
          "text": [
            "Autovalor menos dominante: 1.0000000009682988\n",
            "Autovector correspondiente: [-0.44720115  0.89443341]\n"
          ]
        },
        {
          "output_type": "display_data",
          "data": {
            "text/plain": [
              "<Figure size 640x480 with 1 Axes>"
            ],
            "image/png": "[encoded data removed]"
          },
          "metadata": {}
        }
      ]
    },
    {
      "cell_type": "code",
      "source": [
        "# (c) Comparar con np.linalg.eig\n",
        "autovalores, autovectores = np.linalg.eig(A)\n",
        "lambda_min_eig = min(autovalores)\n",
        "index_min = np.argmin(autovalores)\n",
        "autovector_eig = autovectores[:, index_min]\n",
        "\n",
        "print(\"Autovalor menos dominante (np.linalg.eig):\", lambda_min_eig)\n",
        "print(\"Autovector correspondiente (np.linalg.eig):\", autovector_eig)\n",
        "print(\"Autovalor menos dominante:\", lambda_min)\n",
        "print(\"Autovector correspondiente:\", autovector)"
      ],
      "metadata": {
        "id": "ZhnTbHAgP4XJ",
        "colab": {
          "base_uri": "https://localhost:8080/"
        },
        "outputId": "8f9ca6b5-4899-40c9-8868-a74c31b015c5"
      },
      "execution_count": 18,
      "outputs": [
        {
          "output_type": "stream",
          "name": "stdout",
          "text": [
            "Autovalor menos dominante (np.linalg.eig): 1.0\n",
            "Autovector correspondiente (np.linalg.eig): [-0.4472136   0.89442719]\n",
            "Autovalor menos dominante: 1.0000000006173424\n",
            "Autovector correspondiente: [-0.44720366  0.89443216]\n"
          ]
        }
      ]
    },
    {
      "cell_type": "markdown",
      "source": [
        "#4\n",
        "\n",
        "**(10 puntos)**\n",
        "Sea $A$ una matriz cuadrada de tamaño $n \\times n$. Se sabe que el determinante de una matriz es igual al producto de sus autovalores:\n",
        "\n",
        "$$\n",
        "\\det(A) = \\prod_{i=1}^{n} \\lambda_i\n",
        "$$\n",
        "\n",
        "donde $\\lambda_1, \\lambda_2, \\dots, \\lambda_n$ son los autovalores de $A$.\n",
        "\n",
        "Usando una matriz aleatoria $A$ de $5\\times 5$, demuestre esta propiedad. Puede usar las funciones de `np.linalg`."
      ],
      "metadata": {
        "id": "Qz8QJCjWYds5"
      }
    },
    {
      "cell_type": "code",
      "source": [
        "A = np.random.rand(5, 5)\n",
        "det_A = np.linalg.det(A)\n",
        "eigenvalues = np.linalg.eigvals(A)\n",
        "product_eigenvalues = np.prod(eigenvalues)\n",
        "print(\"Determinante de A:\", det_A)\n",
        "print(\"producto:\", product_eigenvalues)"
      ],
      "metadata": {
        "id": "TCWf5TUwYgKq",
        "colab": {
          "base_uri": "https://localhost:8080/"
        },
        "outputId": "9f42b3ea-3da2-4ef0-a5d6-820ae07431f5"
      },
      "execution_count": 19,
      "outputs": [
        {
          "output_type": "stream",
          "name": "stdout",
          "text": [
            "Determinante de A: 0.05671479906719614\n",
            "producto: (0.05671479906719621-0j)\n"
          ]
        }
      ]
    }
  ]
}