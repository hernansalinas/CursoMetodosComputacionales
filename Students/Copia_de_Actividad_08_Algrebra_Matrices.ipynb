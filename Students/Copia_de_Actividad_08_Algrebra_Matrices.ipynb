{
  "nbformat": 4,
  "nbformat_minor": 0,
  "metadata": {
    "colab": {
      "provenance": []
    },
    "kernelspec": {
      "name": "python3",
      "display_name": "Python 3"
    },
    "language_info": {
      "name": "python"
    }
  },
  "cells": [
    {
      "cell_type": "code",
      "execution_count": null,
      "metadata": {
        "id": "z7RCty67y3ME"
      },
      "outputs": [],
      "source": [
        "import numpy as np\n",
        "import matplotlib.pyplot as plt\n",
        "import scipy.linalg as la"
      ]
    },
    {
      "cell_type": "markdown",
      "source": [
        "# Actividad 08: Algebra Lineal y Matrices\n",
        "\n",
        "---\n",
        "### Profesor: Juan Marcos Marín\n",
        "### Nombre: ______\n",
        "*Métodos computacionales 2024-II*\n",
        "\n",
        "---"
      ],
      "metadata": {
        "id": "GGQpGoujzAnQ"
      }
    },
    {
      "cell_type": "markdown",
      "source": [
        "#1\n",
        "\n",
        "Escriba una función que calcule el producto escalar y vectorial para dos vectores, compare sus resultados con `np.dot` y `np.cross`."
      ],
      "metadata": {
        "id": "szDD-eJhzKbw"
      }
    },
    {
      "cell_type": "code",
      "source": [
        "v1=np.array([3,4,5])\n",
        "v2=np.array([2,3,4])"
      ],
      "metadata": {
        "id": "KlxyKMOIzBDZ"
      },
      "execution_count": null,
      "outputs": []
    },
    {
      "cell_type": "code",
      "source": [
        "np.dot(v1,v2)"
      ],
      "metadata": {
        "colab": {
          "base_uri": "https://localhost:8080/"
        },
        "id": "QCzBrkSI5vkM",
        "outputId": "db1d0555-26de-4f2e-ab4a-5ea21c1433d6"
      },
      "execution_count": null,
      "outputs": [
        {
          "output_type": "execute_result",
          "data": {
            "text/plain": [
              "38"
            ]
          },
          "metadata": {},
          "execution_count": 8
        }
      ]
    },
    {
      "cell_type": "code",
      "source": [
        "cruz=np.cross(v1,v2)\n",
        "print(cruz)"
      ],
      "metadata": {
        "colab": {
          "base_uri": "https://localhost:8080/"
        },
        "id": "5mw1LJLQ50yH",
        "outputId": "c28ed317-d481-4509-af50-c5a23e9d41fc"
      },
      "execution_count": null,
      "outputs": [
        {
          "output_type": "stream",
          "name": "stdout",
          "text": [
            "[ 1 -2  1]\n"
          ]
        }
      ]
    },
    {
      "cell_type": "code",
      "source": [
        "def p_punto(v1,v2):\n",
        "  result=sum(v1[i]*v2[i] for i in range(len(v1)))\n",
        "  return result"
      ],
      "metadata": {
        "id": "XUL89iq16J4a"
      },
      "execution_count": null,
      "outputs": []
    },
    {
      "cell_type": "code",
      "source": [
        "def p_cruz(v1,v2):\n",
        "  result= [\n",
        "      v1[1] * v2[2] - v1[2] * v2[1],\n",
        "      v1[2] * v2[0] - v1[0] * v2[2],\n",
        "      v1[0] * v2[1] - v1[1] * v2[0]\n",
        "  ]\n",
        "  return result"
      ],
      "metadata": {
        "id": "T4wiNBZU7a7m"
      },
      "execution_count": null,
      "outputs": []
    },
    {
      "cell_type": "code",
      "source": [
        "p_punto(v1,v2)"
      ],
      "metadata": {
        "colab": {
          "base_uri": "https://localhost:8080/"
        },
        "id": "oVZTnIij9Af3",
        "outputId": "da974aef-c3ce-4353-c8f4-6a2258dad4ef"
      },
      "execution_count": null,
      "outputs": [
        {
          "output_type": "execute_result",
          "data": {
            "text/plain": [
              "38"
            ]
          },
          "metadata": {},
          "execution_count": 13
        }
      ]
    },
    {
      "cell_type": "code",
      "source": [
        "p_cruz(v1,v2)"
      ],
      "metadata": {
        "colab": {
          "base_uri": "https://localhost:8080/"
        },
        "id": "c9B3M7kG9ErJ",
        "outputId": "71fa2576-8456-4de6-fee4-53750daf981e"
      },
      "execution_count": null,
      "outputs": [
        {
          "output_type": "execute_result",
          "data": {
            "text/plain": [
              "[1, -2, 1]"
            ]
          },
          "metadata": {},
          "execution_count": 18
        }
      ]
    },
    {
      "cell_type": "markdown",
      "source": [
        "#2\n",
        "\n",
        "Crear una función llamada `mulmat()` donde a partir de dos matrices $A$ y $B$ encuentre su multplicación. También realiza una función que calcule la transpuesta y otra el determinante de una matriz $3\\times 3$. Compare sus resultado con `@`, `np.dot`, `transpose` y `la.det`."
      ],
      "metadata": {
        "id": "Qch9PhTQ0Klk"
      }
    },
    {
      "cell_type": "code",
      "source": [
        "def mulmat(A,B):\n",
        "  #verificamos que se pueden multiplicar\n",
        "  if len(A[0])!=len(B): #longitud de columnas en la primera fil de A y longitud en filas de B\n",
        "     raise ValueError(\"Las dimensiones de las matrices no son compatibles para la multiplicación.\")\n",
        "\n",
        "  m=int(len(A))\n",
        "  s=int(len(B[0]))\n",
        "  n=int(len(A[0]))\n",
        "\n",
        "  result= np.zeros((m,s))\n",
        "\n",
        "  #calculo\n",
        "  for i in range(m):\n",
        "    for j in range(s):\n",
        "      for k in range(n):\n",
        "        result[i,j]+=A[i,k]*B[k,j]\n",
        "\n",
        "  return np.array(result)"
      ],
      "metadata": {
        "id": "0xjXQbwn0VL5"
      },
      "execution_count": null,
      "outputs": []
    },
    {
      "cell_type": "code",
      "source": [
        "A=np.array([\n",
        "    [2, 4],\n",
        "    [5, 3]\n",
        "])\n",
        "B=np.array([\n",
        "    [4, 2],\n",
        "    [2, 3]\n",
        "])"
      ],
      "metadata": {
        "id": "Bsdcz6ONCnzj"
      },
      "execution_count": null,
      "outputs": []
    },
    {
      "cell_type": "code",
      "source": [
        "len(A)"
      ],
      "metadata": {
        "colab": {
          "base_uri": "https://localhost:8080/"
        },
        "id": "eXQTNu9LDogN",
        "outputId": "6f782fc0-d616-401c-e436-be95c29a71d9"
      },
      "execution_count": null,
      "outputs": [
        {
          "output_type": "execute_result",
          "data": {
            "text/plain": [
              "2"
            ]
          },
          "metadata": {},
          "execution_count": 29
        }
      ]
    },
    {
      "cell_type": "code",
      "source": [
        "mulmat(A,B)"
      ],
      "metadata": {
        "colab": {
          "base_uri": "https://localhost:8080/"
        },
        "id": "nH0usuwmCjro",
        "outputId": "dd00a8a6-e9c2-43db-dda4-f03ac1461b2f"
      },
      "execution_count": null,
      "outputs": [
        {
          "output_type": "execute_result",
          "data": {
            "text/plain": [
              "array([[8., 4.],\n",
              "       [6., 9.]])"
            ]
          },
          "metadata": {},
          "execution_count": 33
        }
      ]
    },
    {
      "cell_type": "code",
      "source": [
        "A@B"
      ],
      "metadata": {
        "colab": {
          "base_uri": "https://localhost:8080/"
        },
        "id": "lTqXwem6FHxi",
        "outputId": "62e453a7-b2ab-4889-a039-cd48fa3ea5be"
      },
      "execution_count": null,
      "outputs": [
        {
          "output_type": "execute_result",
          "data": {
            "text/plain": [
              "array([[8, 4],\n",
              "       [6, 9]])"
            ]
          },
          "metadata": {},
          "execution_count": 34
        }
      ]
    },
    {
      "cell_type": "code",
      "source": [
        "def transpuesta(A):\n",
        "  return [[A[j][i] for j in range(len(A))] for i in range(len(A[0]))]"
      ],
      "metadata": {
        "id": "kTNZl7r9FV2E"
      },
      "execution_count": null,
      "outputs": []
    },
    {
      "cell_type": "code",
      "source": [
        "transpuesta(A)"
      ],
      "metadata": {
        "colab": {
          "base_uri": "https://localhost:8080/"
        },
        "id": "9cZ4_reTINzK",
        "outputId": "153baacf-b360-4285-95a8-2869ad1a980c"
      },
      "execution_count": null,
      "outputs": [
        {
          "output_type": "execute_result",
          "data": {
            "text/plain": [
              "[[2, 5], [4, 3]]"
            ]
          },
          "metadata": {},
          "execution_count": 38
        }
      ]
    },
    {
      "cell_type": "code",
      "source": [
        "def determinante(A):\n",
        "  if len(A)!=3 or len(A[0])!=3:\n",
        "    raise ValueError('NO')\n",
        "  return  (A[0][0] * (A[1][1] * A[2][2] - A[1][2] * A[2][1])) - \\\n",
        "          (A[0][1] * (A[1][0] * A[2][2] - A[1][2] * A[2][0])) + \\\n",
        "          (A[0][2] * (A[1][0] * A[2][1] - A[1][1] * A[2][0]))"
      ],
      "metadata": {
        "id": "KnUIzhoLJINb"
      },
      "execution_count": null,
      "outputs": []
    },
    {
      "cell_type": "code",
      "source": [
        "A=np.array([\n",
        "    [4, 2,5],\n",
        "    [2, 3,7],\n",
        "    [7, 8,1]\n",
        "])"
      ],
      "metadata": {
        "id": "6B20PfYZL9Eb"
      },
      "execution_count": null,
      "outputs": []
    },
    {
      "cell_type": "code",
      "source": [
        "determinante(A)"
      ],
      "metadata": {
        "colab": {
          "base_uri": "https://localhost:8080/"
        },
        "id": "RLCcmZw1L2LR",
        "outputId": "9da73d20-7c0e-4fb3-b5fc-53a461a06a41"
      },
      "execution_count": null,
      "outputs": [
        {
          "output_type": "execute_result",
          "data": {
            "text/plain": [
              "-143"
            ]
          },
          "metadata": {},
          "execution_count": 51
        }
      ]
    },
    {
      "cell_type": "code",
      "source": [
        "np.linalg.det(A)"
      ],
      "metadata": {
        "colab": {
          "base_uri": "https://localhost:8080/"
        },
        "id": "IJbrssfTMRCX",
        "outputId": "85593dcb-fb9b-4365-b0ee-86e96a816255"
      },
      "execution_count": null,
      "outputs": [
        {
          "output_type": "execute_result",
          "data": {
            "text/plain": [
              "-142.99999999999994"
            ]
          },
          "metadata": {},
          "execution_count": 49
        }
      ]
    },
    {
      "cell_type": "markdown",
      "source": [
        "#3\n",
        "Escriba tres matrices aleatorias $A$, $B$ y $C$ de $3\\times 3$, y demuestre las siguientes relaciones\n",
        "\n",
        "- $ \\mathbf{A}\\mathbf{B} \\neq \\mathbf{B}\\mathbf{A} $, en general.\n",
        "- $ (\\mathbf{A}\\mathbf{B})\\mathbf{C} = \\mathbf{A}(\\mathbf{B}\\mathbf{C}) $.\n",
        "- $ \\mathbf{A}(\\mathbf{B} + \\mathbf{C}) = \\mathbf{A}\\mathbf{B} + \\mathbf{A}\\mathbf{C} $.\n",
        "- $ (\\mathbf{A} + \\mathbf{B})\\mathbf{C} = \\mathbf{A}\\mathbf{C} + \\mathbf{B}\\mathbf{C} $.\n",
        "- $ (\\mathbf{A}\\mathbf{B})^\\top = \\mathbf{B}^\\top \\mathbf{A}^\\top $.\n",
        "- $ \\det(\\mathbf{A}\\mathbf{B}) = \\det(\\mathbf{A}) \\det(\\mathbf{B}) $.\n",
        "- $ (\\mathbf{A}^\\top)^\\top = \\mathbf{A} $.\n",
        "- $ (c\\mathbf{A})^\\top = c\\mathbf{A}^\\top $.\n",
        "- $ (\\mathbf{A} + \\mathbf{B})^\\top = \\mathbf{A}^\\top + \\mathbf{B}^\\top $.\n",
        "\n"
      ],
      "metadata": {
        "id": "U9hC1R-F0-iH"
      }
    },
    {
      "cell_type": "code",
      "source": [
        "#matrices aleatorias\n",
        "A=np.random.rand(3,3)\n",
        "B=np.random.rand(3,3)\n",
        "C=np.random.rand(3,3)\n"
      ],
      "metadata": {
        "id": "qn2zGuiCWKfy"
      },
      "execution_count": null,
      "outputs": []
    },
    {
      "cell_type": "code",
      "source": [
        "#1\n",
        "\n",
        "AB = np.dot(A, B)\n",
        "BA = np.dot(B, A)\n",
        "print(\"AB =\\n\", AB)\n",
        "print(\"BA =\\n\", BA)\n"
      ],
      "metadata": {
        "colab": {
          "base_uri": "https://localhost:8080/"
        },
        "id": "rpkr9VYzZc9g",
        "outputId": "2178c50f-f480-4ae3-d1b7-738498d1e44b"
      },
      "execution_count": null,
      "outputs": [
        {
          "output_type": "stream",
          "name": "stdout",
          "text": [
            "AB =\n",
            " [[1.65193113 1.02674611 0.94693293]\n",
            " [0.83126455 0.68638028 0.70646702]\n",
            " [1.23536073 0.65912272 0.63203103]]\n",
            "BA =\n",
            " [[1.64563316 1.08253537 1.2706719 ]\n",
            " [1.10507968 0.72331849 0.91382887]\n",
            " [0.78987148 0.31979599 0.60139078]]\n"
          ]
        }
      ]
    },
    {
      "cell_type": "code",
      "source": [
        "#2\n",
        "\n",
        "A_B= np.dot(A, B)\n",
        "A_B_C_1=np.dot(A_B,C)\n",
        "\n",
        "B_C = np.dot(B, C)\n",
        "A_B_C_2=np.dot(A,B_C)\n",
        "print(\"(AB)C =\\n\", A_B_C_1)\n",
        "print(\"A(BC) =\\n\", A_B_C_2)"
      ],
      "metadata": {
        "colab": {
          "base_uri": "https://localhost:8080/"
        },
        "id": "8pSFd7hKZexy",
        "outputId": "d3fe5e9d-acfb-4e5e-8c8e-530b6da43cf9"
      },
      "execution_count": null,
      "outputs": [
        {
          "output_type": "stream",
          "name": "stdout",
          "text": [
            "(AB)C =\n",
            " [[0.89880442 1.66897906 1.31691372]\n",
            " [0.60187782 0.88797281 0.89474829]\n",
            " [0.61806401 1.22966035 0.86412163]]\n",
            "A(BC) =\n",
            " [[0.89880442 1.66897906 1.31691372]\n",
            " [0.60187782 0.88797281 0.89474829]\n",
            " [0.61806401 1.22966035 0.86412163]]\n"
          ]
        }
      ]
    },
    {
      "cell_type": "code",
      "source": [
        "#3\n",
        "lado_i=np.dot(A,(B+C))\n",
        "lado_d=np.dot(A,B)+np.dot(A,C)\n",
        "\n",
        "print(lado_i)\n",
        "print(lado_d)\n"
      ],
      "metadata": {
        "colab": {
          "base_uri": "https://localhost:8080/"
        },
        "id": "miS9D9u8Zh6d",
        "outputId": "c272eb9b-fae7-4e09-c76b-8bb0b87a74ca"
      },
      "execution_count": null,
      "outputs": [
        {
          "output_type": "stream",
          "name": "stdout",
          "text": [
            "[[2.33719339 2.04333538 1.95180841]\n",
            " [1.3541361  1.48936878 1.02634683]\n",
            " [1.62028067 1.38466446 1.32057273]]\n",
            "[[2.33719339 2.04333538 1.95180841]\n",
            " [1.3541361  1.48936878 1.02634683]\n",
            " [1.62028067 1.38466446 1.32057273]]\n"
          ]
        }
      ]
    },
    {
      "cell_type": "code",
      "source": [
        "#4\n",
        "\n",
        "lado_i = np.dot(A + B, C)\n",
        "lado_d = np.dot(A, C) + np.dot(B, C)\n",
        "print(\"(A + B)C =\\n\", lado_i)\n",
        "print(\"AC + BC =\\n\", lado_d)\n"
      ],
      "metadata": {
        "colab": {
          "base_uri": "https://localhost:8080/"
        },
        "id": "Lxw0oJSzaA9b",
        "outputId": "9134044a-9232-4d7e-bc83-8f9890bc1463"
      },
      "execution_count": null,
      "outputs": [
        {
          "output_type": "stream",
          "name": "stdout",
          "text": [
            "(A + B)C =\n",
            " [[1.21065641 1.97549812 1.62965557]\n",
            " [0.74898126 1.58232337 0.63964065]\n",
            " [0.6644299  0.92311769 1.28079968]]\n",
            "AC + BC =\n",
            " [[1.21065641 1.97549812 1.62965557]\n",
            " [0.74898126 1.58232337 0.63964065]\n",
            " [0.6644299  0.92311769 1.28079968]]\n"
          ]
        }
      ]
    },
    {
      "cell_type": "code",
      "source": [
        "#5\n",
        "\n",
        "lado_i = AB.T\n",
        "lado_d = np.dot(B.T, A.T)\n",
        "print(\"(AB)^T =\\n\", lado_i)\n",
        "print(\"B^T A^T =\\n\", lado_d)\n"
      ],
      "metadata": {
        "colab": {
          "base_uri": "https://localhost:8080/"
        },
        "id": "J9C9Ks9cbA6K",
        "outputId": "13e5cc64-63ea-472d-e73b-c1b1ee086d08"
      },
      "execution_count": null,
      "outputs": [
        {
          "output_type": "stream",
          "name": "stdout",
          "text": [
            "(AB)^T =\n",
            " [[1.65193113 0.83126455 1.23536073]\n",
            " [1.02674611 0.68638028 0.65912272]\n",
            " [0.94693293 0.70646702 0.63203103]]\n",
            "B^T A^T =\n",
            " [[1.65193113 0.83126455 1.23536073]\n",
            " [1.02674611 0.68638028 0.65912272]\n",
            " [0.94693293 0.70646702 0.63203103]]\n"
          ]
        }
      ]
    },
    {
      "cell_type": "code",
      "source": [
        "# 6.\n",
        "\n",
        "lado_i= np.linalg.det(A_B)\n",
        "lado_d1= np.linalg.det(A)\n",
        "lado_d2= np.linalg.det(B)\n",
        "print(\"det(AB) =\", lado_i)\n",
        "print(\"det(A) det(B) =\", lado_d1 * lado_d2)\n"
      ],
      "metadata": {
        "colab": {
          "base_uri": "https://localhost:8080/"
        },
        "id": "2U_4JzyUbQ6H",
        "outputId": "b149f051-32b3-4a5c-a462-401df6eb6043"
      },
      "execution_count": null,
      "outputs": [
        {
          "output_type": "stream",
          "name": "stdout",
          "text": [
            "det(AB) = 0.01995750918326532\n",
            "det(A) det(B) = 0.019957509183265273\n"
          ]
        }
      ]
    },
    {
      "cell_type": "code",
      "source": [
        "# 7.\n",
        "A_t_t = A.T.T\n",
        "print(\"(A^T)^T =\\n\", A_t_t)\n",
        "print(\"A =\\n\", A)"
      ],
      "metadata": {
        "colab": {
          "base_uri": "https://localhost:8080/"
        },
        "id": "OYJJ1-2dbxbs",
        "outputId": "d6ff8576-6b13-40ea-b1dc-170330b8c4ff"
      },
      "execution_count": null,
      "outputs": [
        {
          "output_type": "stream",
          "name": "stdout",
          "text": [
            "(A^T)^T =\n",
            " [[0.95358827 0.76413738 0.80503693]\n",
            " [0.77545418 0.01118113 0.68666812]\n",
            " [0.71611004 0.6005418  0.37936269]]\n",
            "A =\n",
            " [[0.95358827 0.76413738 0.80503693]\n",
            " [0.77545418 0.01118113 0.68666812]\n",
            " [0.71611004 0.6005418  0.37936269]]\n"
          ]
        }
      ]
    },
    {
      "cell_type": "code",
      "source": [
        "# 8.\n",
        "c = 10\n",
        "cA_t = (c * A).T\n",
        "c_A_t = c * A.T\n",
        "print(\"(cA)^T =\\n\", cA_t)\n",
        "print(\"cA^T =\\n\", c_A_t)"
      ],
      "metadata": {
        "colab": {
          "base_uri": "https://localhost:8080/"
        },
        "id": "obL0EZh_cB1F",
        "outputId": "6320a634-d979-4b92-c9d8-c9187328dc57"
      },
      "execution_count": null,
      "outputs": [
        {
          "output_type": "stream",
          "name": "stdout",
          "text": [
            "(cA)^T =\n",
            " [[9.53588268 7.75454178 7.1611004 ]\n",
            " [7.64137382 0.11181126 6.00541795]\n",
            " [8.05036932 6.86668124 3.79362688]]\n",
            "cA^T =\n",
            " [[9.53588268 7.75454178 7.1611004 ]\n",
            " [7.64137382 0.11181126 6.00541795]\n",
            " [8.05036932 6.86668124 3.79362688]]\n"
          ]
        }
      ]
    },
    {
      "cell_type": "code",
      "source": [
        "#10\n",
        "\n",
        "lado_i=(A+B).T\n",
        "lado_d=(A).T+(B).T\n",
        "print(\"(A+B)^T =\\n\", lado_i)\n",
        "print(\"A^T+B^T =\\n\", lado_d)"
      ],
      "metadata": {
        "colab": {
          "base_uri": "https://localhost:8080/"
        },
        "id": "EKV_DpzrccEG",
        "outputId": "348a1ebe-7b13-4155-fc1c-cca0bc829f52"
      },
      "execution_count": null,
      "outputs": [
        {
          "output_type": "stream",
          "name": "stdout",
          "text": [
            "(A+B)^T =\n",
            " [[1.90420605 1.62110394 0.83938459]\n",
            " [1.17675963 0.28241087 1.1297319 ]\n",
            " [1.39037372 0.81004545 0.74516629]]\n",
            "A^T+B^T =\n",
            " [[1.90420605 1.62110394 0.83938459]\n",
            " [1.17675963 0.28241087 1.1297319 ]\n",
            " [1.39037372 0.81004545 0.74516629]]\n"
          ]
        }
      ]
    },
    {
      "cell_type": "markdown",
      "source": [
        "#4\n",
        "\n",
        "El **Teorema de Laplace** es un método para calcular el determinante de una matriz cuadrada, particularmente útil para matrices de orden mayor a 2. Este teorema se basa en la expansión del determinante por los elementos de una fila o una columna cualquiera.\n",
        "\n",
        "\n",
        "\n",
        "$$\n",
        "\\det(A) = \\sum_{j=1}^n (-1)^{1+j} a_{1j} M_{1j}\n",
        "$$\n",
        "\n",
        "donde:\n",
        "- $a_{1j}$ es el elemento de la primera fila y columna $j$.\n",
        "- $M_{1j}$ es el menor asociado al elemento $a_{1j}$, es decir, el determinante de la submatriz de $3 \\times 3$ que se obtiene al eliminar la fila 1 y la columna $j$.\n",
        "- $(-1)^{1+j}$ es el signo correspondiente al cofactor del elemento $a_{1j}$.\n",
        "\n",
        "Podemos realizar una función recursiva para el cálculo del determinante, sabiendo que el valor del determinante de una matriz de orden uno es el único elemento de esa matriz, y el de una matriz de orden superior a uno es la suma de cada uno de los elementos de una fila o columna por los Adjuntos a ese elemento, como en la función recursiva se emplea la misma función definida el cálculo lo haremos por Menor complementario, un ejemplo desarrollado por la primera fila sería:\n",
        "\n",
        "$$\n",
        "   \\det (A_{j,j}) =\n",
        "   \\left \\{\n",
        "   \\begin{array}{llcl}\n",
        "      si & j = 1 & \\to & a_{1,1} \\\\\n",
        "                                 \\\\\n",
        "      si & j > 1 & \\to & \\displaystyle \\sum_{k=1}^j \\; (-1)^{(1+k)} \\cdot a_{1,k} \\cdot \\det( \\alpha_{1,k})\n",
        "   \\end{array}\n",
        "   \\right .\n",
        "$$\n",
        "\n",
        "Realice una función que encuentre el determinante de una matriz usando la recursividad aqui planteada, explique explicitamente su código"
      ],
      "metadata": {
        "id": "ibYf2I9T2pIw"
      }
    },
    {
      "cell_type": "code",
      "source": [
        "def t_laplace(A):\n",
        "  #cantidad de filas\n",
        "  n=len(A)\n",
        "\n",
        "  #definicion\n",
        "  if n==1:\n",
        "    return A[0,0]\n",
        "\n",
        "  else:\n",
        "    #inicializamos det\n",
        "    determinante=0\n",
        "\n",
        "    #iteramos sobre las columnas y la primera fila\n",
        "    for j in range(n):\n",
        "\n",
        "      submatriz=np.delete(A,0,axis=0)\n",
        "      submatriz=np.delete(submatriz,j,axis=1)\n",
        "\n",
        "      determinante+=(-1)**(1+j)*A[0,j]*t_laplace(submatriz)\n",
        "\n",
        "  return determinante\n"
      ],
      "metadata": {
        "id": "-8tYERLHtrtY"
      },
      "execution_count": null,
      "outputs": []
    },
    {
      "cell_type": "code",
      "source": [
        "matriz=np.array([\n",
        "    [4, 2,5],\n",
        "    [2, 3,7],\n",
        "    [7, 8,1]\n",
        "])"
      ],
      "metadata": {
        "id": "rOGBtVFQmNPe"
      },
      "execution_count": null,
      "outputs": []
    },
    {
      "cell_type": "code",
      "source": [
        "t_laplace(matriz)"
      ],
      "metadata": {
        "colab": {
          "base_uri": "https://localhost:8080/"
        },
        "id": "RKT0FWr3mBBl",
        "outputId": "6a50eb27-d74f-480e-e59f-356f99203aca"
      },
      "execution_count": null,
      "outputs": [
        {
          "output_type": "execute_result",
          "data": {
            "text/plain": [
              "-143"
            ]
          },
          "metadata": {},
          "execution_count": 8
        }
      ]
    },
    {
      "cell_type": "code",
      "source": [
        "np.linalg.det(matriz)"
      ],
      "metadata": {
        "colab": {
          "base_uri": "https://localhost:8080/"
        },
        "id": "NTyHY4JZPyPy",
        "outputId": "81646ca0-cb21-410a-ee50-61a7259eef12"
      },
      "execution_count": null,
      "outputs": [
        {
          "output_type": "execute_result",
          "data": {
            "text/plain": [
              "-142.99999999999994"
            ]
          },
          "metadata": {},
          "execution_count": 9
        }
      ]
    },
    {
      "cell_type": "markdown",
      "source": [
        "#5\n",
        "\n",
        "El método de Jacobi reescribe el sistema $ Ax = b $ descomponiendo la matriz $ A $ como:\n",
        "\n",
        "$$\n",
        "A = D + L + U,\n",
        "$$\n",
        "\n",
        "donde:\n",
        "- $ D $: Matriz diagonal de $ A $,\n",
        "- $ L $: Matriz triangular inferior sin la diagonal,\n",
        "- $ U $: Matriz triangular superior sin la diagonal.\n",
        "\n",
        "El sistema se reorganiza como:\n",
        "\n",
        "$$\n",
        "x = D^{-1}(b - (L + U)x).\n",
        "$$\n",
        "\n",
        "Esto se implementa iterativamente como:\n",
        "\n",
        "$$\n",
        "x_i^{(k+1)} = \\frac{1}{a_{ii}} \\left(b_i - \\sum_{j \\neq i} a_{ij} x_j^{(k)}\\right),\n",
        "$$\n",
        "\n",
        "donde $ a_{ii} $ son los elementos diagonales de $ A $.\n",
        "\n",
        "* Escriba una función explicita que realice de manera iterativa este método con una tol = 1e-7 y un máximo de 100 iteraciones. Defina una documentación clara que explique los métodos usados, lasa entradas y salidas.\n",
        "\n",
        "* Para una matriz aleatoria 5$\\times$ 5, encuentre la solución usando su función y determine el error con respecto a `solve` y el método de inversa de matriz."
      ],
      "metadata": {
        "id": "9OcE-1QhSrI9"
      }
    },
    {
      "cell_type": "code",
      "source": [
        "def jacobi(A,b,max_iter,tol):\n",
        "\n",
        "  n=len(A[0]) #cantidad de ec en el sistema\n",
        "  x=np.zeros(n)\n",
        "  x_new=np.zeros(n)\n",
        "\n",
        "  for iteracion in range(max_iter):\n",
        "    for i in range(len(A)):\n",
        "        #metodo matematico\n",
        "        suma = sum(np.dot(A[i,j], x[j]) for j in range(n) if j!=i)\n",
        "        x_new[i] = (b[i] - suma) / A[i, i]\n",
        "\n",
        "    #verificacion de tol\n",
        "    error=np.linalg.norm(x_new-x)\n",
        "    if error<tol:\n",
        "        return x_new\n",
        "\n",
        "    #vuelve a iniciar para crear otro x_new\n",
        "    x=np.copy(x_new)\n",
        "\n",
        "  return x, 'no convergió, despues de max de iteraciones'"
      ],
      "metadata": {
        "id": "PQqefGzMT3ks"
      },
      "execution_count": null,
      "outputs": []
    },
    {
      "cell_type": "code",
      "source": [
        "#matriz aleatoria\n",
        "A=np.random.rand(5,5)\n",
        "b=np.random.rand(5,1)\n",
        "b=b.reshape(5,1)"
      ],
      "metadata": {
        "id": "X90zgn6mo_Fp"
      },
      "execution_count": null,
      "outputs": []
    },
    {
      "cell_type": "code",
      "source": [
        "print(A)\n",
        "print(b)"
      ],
      "metadata": {
        "colab": {
          "base_uri": "https://localhost:8080/"
        },
        "id": "XwN7yteFs0ov",
        "outputId": "5f70f1c2-7ee6-4d6e-b24f-0d19e155b3ae"
      },
      "execution_count": null,
      "outputs": [
        {
          "output_type": "stream",
          "name": "stdout",
          "text": [
            "[[0.08038096 0.2515622  0.83400335 0.88977939 0.15667889]\n",
            " [0.46730184 0.56564499 0.96893561 0.98126725 0.30568295]\n",
            " [0.03916431 0.35361337 0.75824449 0.9203927  0.93186193]\n",
            " [0.31244446 0.78866637 0.86621099 0.45296584 0.09794075]\n",
            " [0.35081907 0.30305758 0.14071302 0.93423835 0.54747411]]\n",
            "[[0.20841206]\n",
            " [0.07987452]\n",
            " [0.46308227]\n",
            " [0.63329159]\n",
            " [0.35219998]]\n"
          ]
        }
      ]
    },
    {
      "cell_type": "code",
      "source": [
        "print(b)"
      ],
      "metadata": {
        "colab": {
          "base_uri": "https://localhost:8080/"
        },
        "id": "93JFVu8rrYJQ",
        "outputId": "20ea2784-8375-4b23-88cf-8be51d1afb11"
      },
      "execution_count": null,
      "outputs": [
        {
          "output_type": "stream",
          "name": "stdout",
          "text": [
            "[[0.20841206]\n",
            " [0.07987452]\n",
            " [0.46308227]\n",
            " [0.63329159]\n",
            " [0.35219998]]\n"
          ]
        }
      ]
    },
    {
      "cell_type": "code",
      "source": [
        "solucion=jacobi(A,b,100,1e-7)"
      ],
      "metadata": {
        "colab": {
          "base_uri": "https://localhost:8080/"
        },
        "id": "tRiSJhlBotU-",
        "outputId": "f2e40f10-6f49-4f59-accc-03a3063e6cb7"
      },
      "execution_count": null,
      "outputs": [
        {
          "output_type": "stream",
          "name": "stderr",
          "text": [
            "<ipython-input-12-dd7401d226e9>:10: DeprecationWarning: Conversion of an array with ndim > 0 to a scalar is deprecated, and will error in future. Ensure you extract a single element from your array before performing this operation. (Deprecated NumPy 1.25.)\n",
            "  x_new[i] = (b[i] - suma) / A[i, i]\n"
          ]
        }
      ]
    },
    {
      "cell_type": "code",
      "source": [
        "print(solucion)"
      ],
      "metadata": {
        "colab": {
          "base_uri": "https://localhost:8080/"
        },
        "id": "9ytqzFpgrxQW",
        "outputId": "1a0040ce-eb96-4449-9457-624f00732bab"
      },
      "execution_count": null,
      "outputs": [
        {
          "output_type": "stream",
          "name": "stdout",
          "text": [
            "[-1.75047151e+75 -5.04774449e+74 -2.41071723e+74 -4.62291900e+74\n",
            " -3.95418967e+74]\n"
          ]
        }
      ]
    },
    {
      "cell_type": "code",
      "source": [
        "sol_exacta=np.linalg.solve(A,b)"
      ],
      "metadata": {
        "id": "sY6Mw5Kcr6fr"
      },
      "execution_count": null,
      "outputs": []
    },
    {
      "cell_type": "code",
      "source": [
        "print(sol_exacta)"
      ],
      "metadata": {
        "colab": {
          "base_uri": "https://localhost:8080/"
        },
        "id": "KnUIJAdAsQk1",
        "outputId": "d1b80eb9-1181-47fb-f0b6-84b39814a8f8"
      },
      "execution_count": null,
      "outputs": [
        {
          "output_type": "stream",
          "name": "stdout",
          "text": [
            "[[ 0.61185867]\n",
            " [ 3.45679646]\n",
            " [-0.45914181]\n",
            " [-3.62677619]\n",
            " [ 2.00751425]]\n"
          ]
        }
      ]
    },
    {
      "cell_type": "markdown",
      "source": [
        "El metodo de jacobi solo funciona para matrices fuertemente diagonales"
      ],
      "metadata": {
        "id": "s0j7oqwZcs_T"
      }
    },
    {
      "cell_type": "code",
      "source": [
        "z=np.array([\n",
        "    [4, 2,2],\n",
        "    [2, 10,1],\n",
        "    [1, 2,9]\n",
        "])\n",
        "b_=np.array([\n",
        "    [0.20841206],\n",
        "    [0.07987452],\n",
        "    [0.46308227],\n",
        "])"
      ],
      "metadata": {
        "id": "jpPy9jpec2M6"
      },
      "execution_count": null,
      "outputs": []
    },
    {
      "cell_type": "code",
      "source": [
        "solucion=jacobi(z,b_,100,1e-7)"
      ],
      "metadata": {
        "colab": {
          "base_uri": "https://localhost:8080/"
        },
        "id": "C0Nv70nFdbcs",
        "outputId": "a397ef4f-f860-445a-e14d-18c37fd05424"
      },
      "execution_count": null,
      "outputs": [
        {
          "output_type": "stream",
          "name": "stderr",
          "text": [
            "<ipython-input-12-dd7401d226e9>:10: DeprecationWarning: Conversion of an array with ndim > 0 to a scalar is deprecated, and will error in future. Ensure you extract a single element from your array before performing this operation. (Deprecated NumPy 1.25.)\n",
            "  x_new[i] = (b[i] - suma) / A[i, i]\n"
          ]
        }
      ]
    },
    {
      "cell_type": "code",
      "source": [
        "print(solucion)"
      ],
      "metadata": {
        "colab": {
          "base_uri": "https://localhost:8080/"
        },
        "id": "MRGUJBKFdjOf",
        "outputId": "ddf71845-8d90-4558-df99-01ac0c86e7f1"
      },
      "execution_count": null,
      "outputs": [
        {
          "output_type": "stream",
          "name": "stdout",
          "text": [
            "[ 0.02904095 -0.00270351  0.04882758]\n"
          ]
        }
      ]
    },
    {
      "cell_type": "code",
      "source": [
        "solucion_exacta=np.linalg.solve(z,b_)\n",
        "print(solucion_exacta)"
      ],
      "metadata": {
        "colab": {
          "base_uri": "https://localhost:8080/"
        },
        "id": "Tx3s4Zs0dm4N",
        "outputId": "12cb3ee0-087c-421d-831f-7d9d247a44aa"
      },
      "execution_count": null,
      "outputs": [
        {
          "output_type": "stream",
          "name": "stdout",
          "text": [
            "[[ 0.02904097]\n",
            " [-0.0027035 ]\n",
            " [ 0.04882759]]\n"
          ]
        }
      ]
    },
    {
      "cell_type": "code",
      "source": [
        "solucion_inv=np.linalg.inv(z)@b_\n",
        "print(solucion_inv)"
      ],
      "metadata": {
        "colab": {
          "base_uri": "https://localhost:8080/"
        },
        "id": "g3bxm2ANekvW",
        "outputId": "256e01ec-1c12-4ae3-b3e6-efcf646e25fd"
      },
      "execution_count": null,
      "outputs": [
        {
          "output_type": "stream",
          "name": "stdout",
          "text": [
            "[[ 0.02904097]\n",
            " [-0.0027035 ]\n",
            " [ 0.04882759]]\n"
          ]
        }
      ]
    },
    {
      "cell_type": "markdown",
      "source": [
        "concluimos que cuando la matriz es fuertemente diagonal, el metodo jacobi funciona y el metodo de la inversa también porque ademas es invertible"
      ],
      "metadata": {
        "id": "O3EujoFaftRX"
      }
    },
    {
      "cell_type": "markdown",
      "source": [
        "#6\n",
        "\n",
        "Verifique que cualquier matriz hermitiana de 2 × 2 $ L $ puede escribirse como una suma de cuatro términos:\n",
        "\n",
        "$$ L = a\\sigma_x + b\\sigma_y + c\\sigma_z + dI $$\n",
        "\n",
        "donde $ a $, $ b $, $ c $ y $ d $ son números reales.\n",
        "\n",
        "Las cuatro matrices de Pauli son:\n",
        "\n",
        "$$ \\sigma_x = \\begin{pmatrix} 0 & 1 \\\\ 1 & 0 \\end{pmatrix}, \\quad \\sigma_y = \\begin{pmatrix} 0 & -i \\\\ i & 0 \\end{pmatrix}, \\quad \\sigma_z = \\begin{pmatrix} 1 & 0 \\\\ 0 & -1 \\end{pmatrix}, \\quad I = \\begin{pmatrix} 1 & 0 \\\\ 0 & 1 \\end{pmatrix} $$\n",
        "\n",
        "\n"
      ],
      "metadata": {
        "id": "iggu2jNwVpnK"
      }
    },
    {
      "cell_type": "code",
      "source": [
        "X=np.array([\n",
        "    [0,1],\n",
        "    [1,0]\n",
        "])\n",
        "\n",
        "Y=np.array([\n",
        "    [0,-1j],\n",
        "    [1j,0]\n",
        "])\n",
        "\n",
        "Z=np.array([\n",
        "    [1j,0],\n",
        "    [0,-1j]\n",
        "])\n",
        "\n",
        "I2=np.eye(2)"
      ],
      "metadata": {
        "id": "8WN9_cOCV7cM"
      },
      "execution_count": null,
      "outputs": []
    },
    {
      "cell_type": "code",
      "source": [
        "#creamos una matriz hermitiana aleatoria\n",
        "A = np.random.randn(2, 2) + 1j * np.random.randn(2, 2)  #compleja\n",
        "H = (A + A.conj().T) / 2\n",
        "print(A)\n",
        "H"
      ],
      "metadata": {
        "colab": {
          "base_uri": "https://localhost:8080/"
        },
        "id": "dTfWVFhSmr54",
        "outputId": "53761e75-a19a-4155-deb5-1a5748c9ea86"
      },
      "execution_count": null,
      "outputs": [
        {
          "output_type": "stream",
          "name": "stdout",
          "text": [
            "[[ 0.44014998-0.76767383j  0.30394251+0.31829013j]\n",
            " [-0.09251167-0.72096874j -0.73047159-0.94221132j]]\n"
          ]
        },
        {
          "output_type": "execute_result",
          "data": {
            "text/plain": [
              "array([[ 0.44014998+0.j        ,  0.10571542+0.51962943j],\n",
              "       [ 0.10571542-0.51962943j, -0.73047159+0.j        ]])"
            ]
          },
          "metadata": {},
          "execution_count": 54
        }
      ]
    },
    {
      "cell_type": "code",
      "source": [
        "H_= np.array([\n",
        "    [0.44, 0.1 + 0.52*1j],\n",
        "    [0.1 - 0.52*1j, -0.73]\n",
        "    ])"
      ],
      "metadata": {
        "id": "qmVF9o7v7wPu"
      },
      "execution_count": null,
      "outputs": []
    },
    {
      "cell_type": "code",
      "source": [
        "#resolvemos con sympy\n",
        "\n",
        "from sympy import Eq, symbols, solve"
      ],
      "metadata": {
        "id": "-ns3XIy_uPY_"
      },
      "execution_count": null,
      "outputs": []
    },
    {
      "cell_type": "code",
      "source": [
        "a,b,c,d= symbols('a,b,c,d')\n",
        "L_comb=a*X+b*Y+c*Z+d*I2"
      ],
      "metadata": {
        "id": "cOx69BEJvC8A"
      },
      "execution_count": null,
      "outputs": []
    },
    {
      "cell_type": "code",
      "source": [
        "eq1=Eq(L_comb[0,0], H_[0,0])\n",
        "eq2=Eq(L_comb[0,1], H_[0,1])\n",
        "eq3=Eq(L_comb[1,0], H_[1,0])\n",
        "eq4=Eq(L_comb[1,1], H_[1,1])"
      ],
      "metadata": {
        "id": "xPV7xuhT5Wc0"
      },
      "execution_count": null,
      "outputs": []
    },
    {
      "cell_type": "code",
      "source": [
        "print(eq1)\n",
        "print(eq2)\n",
        "print(eq3)\n",
        "print(eq4)"
      ],
      "metadata": {
        "colab": {
          "base_uri": "https://localhost:8080/"
        },
        "id": "R6ch_lV06mYs",
        "outputId": "d0a27776-6513-4926-df7c-41c50eb00458"
      },
      "execution_count": null,
      "outputs": [
        {
          "output_type": "stream",
          "name": "stdout",
          "text": [
            "Eq(1.0*I*c + 1.0*d, 0.44)\n",
            "Eq(a - 1.0*I*b, 0.1 + 0.52*I)\n",
            "Eq(a + 1.0*I*b, 0.1 - 0.52*I)\n",
            "Eq(-1.0*I*c + 1.0*d, -0.73)\n"
          ]
        }
      ]
    },
    {
      "cell_type": "code",
      "source": [
        "sol= solve([eq1,eq2,eq3,eq4],(a,b,c,d))"
      ],
      "metadata": {
        "id": "gMvcbvYC8dru"
      },
      "execution_count": null,
      "outputs": []
    },
    {
      "cell_type": "code",
      "source": [
        "print(sol) #para el caso de H_"
      ],
      "metadata": {
        "colab": {
          "base_uri": "https://localhost:8080/"
        },
        "id": "Yu6djlUR8zMj",
        "outputId": "341c3ecb-ebff-455b-93ac-db95e40c36cf"
      },
      "execution_count": null,
      "outputs": [
        {
          "output_type": "stream",
          "name": "stdout",
          "text": [
            "{a: 0.100000000000000, b: -0.520000000000000, c: -0.585*I, d: -0.145000000000000}\n"
          ]
        }
      ]
    }
  ]
}