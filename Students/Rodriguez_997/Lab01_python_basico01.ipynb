{
  "cells": [
    {
      "cell_type": "markdown",
      "metadata": {
        "id": "GUTNoRgHTjfg"
      },
      "source": [
        "<a href=\"https://colab.research.google.com/github/hernansalinas/autogradesMetodosComputacionales/blob/main/Laboratorios_Taller/Lab01_python_basico01.ipynb\" target=\"_parent\"><img src=\"https://colab.research.google.com/assets/colab-badge.svg\" alt=\"Open In Colab\"/></a>\n",
        "\n",
        "\n",
        "\n",
        "\n",
        "# Laboratorio 01\n",
        "### Métodos computacionales para físicos  y astrónomos\n",
        "### Universidad de Antioquia\n",
        "### Profesores:\n",
        "### Hernan D. Salinas Jiménez\n",
        "### Juan Marcos Marin\n"
      ]
    },
    {
      "cell_type": "code",
      "execution_count": 4,
      "metadata": {
        "id": "NmGdQYCBL7cs",
        "colab": {
          "base_uri": "https://localhost:8080/"
        },
        "outputId": "1596cc5a-da67-41d9-ec92-f655fb9b9a85"
      },
      "outputs": [
        {
          "output_type": "stream",
          "name": "stdout",
          "text": [
            "Cloning into 'autogradesMetodosComputacionales'...\n",
            "remote: Enumerating objects: 1160, done.\u001b[K\n",
            "remote: Counting objects: 100% (222/222), done.\u001b[K\n",
            "remote: Compressing objects: 100% (163/163), done.\u001b[K\n",
            "remote: Total 1160 (delta 135), reused 138 (delta 58), pack-reused 938 (from 1)\u001b[K\n",
            "Receiving objects: 100% (1160/1160), 40.05 MiB | 25.35 MiB/s, done.\n",
            "Resolving deltas: 100% (710/710), done.\n"
          ]
        }
      ],
      "source": [
        "# Ejecutar esta celda antes de cada laboratorio\n",
        "!git clone https://github.com/hernansalinas/autogradesMetodosComputacionales.git\n",
        "path1=f\"autogradesMetodosComputacionales/Laboratorios_Taller/libs/\"\n",
        "path2=f\"autogradesMetodosComputacionales/Laboratorios_Taller/libs/Lab_autotesting01/\"\n",
        "%run -i {path1}libUnitTest.py"
      ]
    },
    {
      "cell_type": "markdown",
      "metadata": {
        "id": "OkdTI9KQ8MLN"
      },
      "source": [
        "# Operaciones básicas en python.\n",
        "\n",
        "\n",
        "### Definicion de variables\n",
        "1. Definir una variable x tipo entero.\n",
        "2. Definir una variable y tipo float\n",
        "3. Definir una variable z tipo string."
      ]
    },
    {
      "cell_type": "code",
      "execution_count": null,
      "metadata": {
        "id": "nOYa9UQquq4d"
      },
      "outputs": [],
      "source": [
        "# Defina la variables en esta celda\n",
        "\n",
        "x = 1\n",
        "y = 3.14\n",
        "z = \"hola\""
      ]
    },
    {
      "cell_type": "code",
      "execution_count": null,
      "metadata": {
        "id": "aod54z2z-ZeY",
        "colab": {
          "base_uri": "https://localhost:8080/",
          "height": 212
        },
        "outputId": "b8b6c438-cb18-48c5-b3e2-4439e34f7078"
      },
      "outputs": [
        {
          "output_type": "display_data",
          "data": {
            "text/plain": [
              "<IPython.core.display.HTML object>"
            ],
            "text/html": [
              "<style>\n",
              "  table { text-align: left; border-collapse: collapse; margin: 1em; caption-side: bottom; font-family: Sans-Serif; font-size: 12px}\n",
              "  caption { text-align: left; padding: 5px }\n",
              "  th, td { border: 2px solid #BFC9CA; padding: 5px }\n",
              "  th { background-color: #BFC9CA }\n",
              "  .passed { background-color: #76D7C4 }\n",
              "  .failed { background-color: #EC7063 }\n",
              "  .skipped { background-color: #EDBB99 }\n",
              "  .score { background-color: #7DCEA0 }\n",
              "  .results .points { display: none }\n",
              "  .results .message { display: block; font-size:smaller; color:#D35400 }\n",
              "  .results .note { display: block; font-size:smaller; font-decoration:italics }\n",
              "  .results .passed::before  { content: \"Passed\" } \n",
              "  .results .skipped::before  { content: \"Skipped\" } \n",
              "  .results .failed::before  { content: \"Failed\" } \n",
              "  .grade .passed  .message:empty::before { content:\"Passed\" }\n",
              "  .grade .failed  .message:empty::before { content:\"Failed\" }\n",
              "  .grade .skipped .message:empty::before { content:\"Skipped\" }   \n",
              "</style>\n",
              "<table class='results'>\n",
              "  <th class='test'>Test</th><th class='result'>Result</th></tr>\n",
              "<tr>\n",
              "  <td class='test'>\n",
              "    Definir x como un numero entero\n",
              "    <div class='message'>Done</div>\n",
              "  </td>\n",
              "  <td class='result passed'></td>\n",
              "</tr>\n",
              "<tr>\n",
              "  <td class='test'>\n",
              "    Defiir y como una variable tipo float\n",
              "    <div class='message'>Done</div>\n",
              "  </td>\n",
              "  <td class='result passed'></td>\n",
              "</tr>\n",
              "<tr>\n",
              "  <td class='test'>\n",
              "    Definir z como un string\n",
              "    <div class='message'>Done</div>\n",
              "  </td>\n",
              "  <td class='result passed'></td>\n",
              "</tr>  <tr><th class='score'>Total Points</th><th class='score'>3</th></tr></table>\n"
            ]
          },
          "metadata": {}
        }
      ],
      "source": [
        "# Ejecute la presente celda para probar su solucion\n",
        "%run -i {path2}/test01.py"
      ]
    },
    {
      "cell_type": "markdown",
      "metadata": {
        "id": "9JTEaQro_I8E"
      },
      "source": [
        "\n",
        "\n",
        "###  Creación de Funciones\n",
        "4. Crear una función con el nombre mul_lambda tipo lambda que multiple dos enteros, el resultado deberá ser un número entero.  \n",
        "\n",
        "Ejemplo de ejecución:\n",
        "\n",
        "```python\n",
        "\n",
        "mul_lambda(a,b)\n",
        "#donde a, y b son numeros enteros\n",
        "\n",
        "```\n",
        "\n",
        "\n",
        "5. Crear una función explicita con el nombre de sum_int, que realice la suma de dos números enteros\n",
        "\n",
        "Ejemplo de ejecución:\n",
        "\n",
        "```python\n",
        "\n",
        "sum_int(a,b)\n",
        "#donde a, y b son numeros enteros\n",
        "\n",
        "```\n",
        "\n"
      ]
    },
    {
      "cell_type": "code",
      "execution_count": null,
      "metadata": {
        "id": "zuTTQ1gmvl3O"
      },
      "outputs": [],
      "source": [
        "# Escriba las funciones en esta celda\n",
        "mul_lambda = lambda a,b : a*b\n",
        "\n",
        "def sum_int(x,y):\n",
        "  return x+y"
      ]
    },
    {
      "cell_type": "code",
      "execution_count": null,
      "metadata": {
        "id": "lSsnEjAx_Gay",
        "colab": {
          "base_uri": "https://localhost:8080/",
          "height": 173
        },
        "outputId": "8f529807-3677-40a0-eb16-efe6fceda6d3"
      },
      "outputs": [
        {
          "output_type": "display_data",
          "data": {
            "text/plain": [
              "<IPython.core.display.HTML object>"
            ],
            "text/html": [
              "<style>\n",
              "  table { text-align: left; border-collapse: collapse; margin: 1em; caption-side: bottom; font-family: Sans-Serif; font-size: 12px}\n",
              "  caption { text-align: left; padding: 5px }\n",
              "  th, td { border: 2px solid #BFC9CA; padding: 5px }\n",
              "  th { background-color: #BFC9CA }\n",
              "  .passed { background-color: #76D7C4 }\n",
              "  .failed { background-color: #EC7063 }\n",
              "  .skipped { background-color: #EDBB99 }\n",
              "  .score { background-color: #7DCEA0 }\n",
              "  .results .points { display: none }\n",
              "  .results .message { display: block; font-size:smaller; color:#D35400 }\n",
              "  .results .note { display: block; font-size:smaller; font-decoration:italics }\n",
              "  .results .passed::before  { content: \"Passed\" } \n",
              "  .results .skipped::before  { content: \"Skipped\" } \n",
              "  .results .failed::before  { content: \"Failed\" } \n",
              "  .grade .passed  .message:empty::before { content:\"Passed\" }\n",
              "  .grade .failed  .message:empty::before { content:\"Failed\" }\n",
              "  .grade .skipped .message:empty::before { content:\"Skipped\" }   \n",
              "</style>\n",
              "<table class='results'>\n",
              "  <th class='test'>Test</th><th class='result'>Result</th></tr>\n",
              "<tr>\n",
              "  <td class='test'>\n",
              "    Crear una funcion que multiplique dos números\n",
              "    <div class='message'>Done</div>\n",
              "  </td>\n",
              "  <td class='result passed'></td>\n",
              "</tr>\n",
              "<tr>\n",
              "  <td class='test'>\n",
              "    Crear una funcion que sume dos números\n",
              "    <div class='message'>Done</div>\n",
              "  </td>\n",
              "  <td class='result passed'></td>\n",
              "</tr>  <tr><th class='score'>Total Points</th><th class='score'>2</th></tr></table>\n"
            ]
          },
          "metadata": {}
        }
      ],
      "source": [
        "%run -i {path2}/test02.py"
      ]
    },
    {
      "cell_type": "markdown",
      "metadata": {
        "id": "uu42QkJsCQMb"
      },
      "source": [
        "\n",
        "###  Números complejos\n",
        "\n",
        "6. Defina un número complejo w.\n",
        "7. Retorne la parte imaginaria de w, almacenela en una variable w_img\n",
        "8. Retorne la parte real de w, almacenela en una variable w_real.\n",
        "9. Retorne el complejo conjugado de w, almacenla en una varible w_con.\n"
      ]
    },
    {
      "cell_type": "code",
      "execution_count": null,
      "metadata": {
        "id": "1InwYykmwngw",
        "colab": {
          "base_uri": "https://localhost:8080/"
        },
        "outputId": "ccbc2b19-fa41-43db-921b-e4d8c2217fe8"
      },
      "outputs": [
        {
          "output_type": "stream",
          "name": "stdout",
          "text": [
            "1.0 2.0 (2-1j)\n"
          ]
        }
      ],
      "source": [
        "w = 2+1j\n",
        "w_img = w.imag\n",
        "w_real = w.real\n",
        "\n",
        "w_con = w.conjugate()\n",
        "\n",
        "print(w_img, w_real, w_con)"
      ]
    },
    {
      "cell_type": "code",
      "execution_count": null,
      "metadata": {
        "id": "jx3J6yE1Kwki",
        "colab": {
          "base_uri": "https://localhost:8080/",
          "height": 251
        },
        "outputId": "eb7010c8-1ee6-496e-e058-c974d9d3c989"
      },
      "outputs": [
        {
          "output_type": "display_data",
          "data": {
            "text/plain": [
              "<IPython.core.display.HTML object>"
            ],
            "text/html": [
              "<style>\n",
              "  table { text-align: left; border-collapse: collapse; margin: 1em; caption-side: bottom; font-family: Sans-Serif; font-size: 12px}\n",
              "  caption { text-align: left; padding: 5px }\n",
              "  th, td { border: 2px solid #BFC9CA; padding: 5px }\n",
              "  th { background-color: #BFC9CA }\n",
              "  .passed { background-color: #76D7C4 }\n",
              "  .failed { background-color: #EC7063 }\n",
              "  .skipped { background-color: #EDBB99 }\n",
              "  .score { background-color: #7DCEA0 }\n",
              "  .results .points { display: none }\n",
              "  .results .message { display: block; font-size:smaller; color:#D35400 }\n",
              "  .results .note { display: block; font-size:smaller; font-decoration:italics }\n",
              "  .results .passed::before  { content: \"Passed\" } \n",
              "  .results .skipped::before  { content: \"Skipped\" } \n",
              "  .results .failed::before  { content: \"Failed\" } \n",
              "  .grade .passed  .message:empty::before { content:\"Passed\" }\n",
              "  .grade .failed  .message:empty::before { content:\"Failed\" }\n",
              "  .grade .skipped .message:empty::before { content:\"Skipped\" }   \n",
              "</style>\n",
              "<table class='results'>\n",
              "  <th class='test'>Test</th><th class='result'>Result</th></tr>\n",
              "<tr>\n",
              "  <td class='test'>\n",
              "    Definir w como un número complejo\n",
              "    <div class='message'>Done</div>\n",
              "  </td>\n",
              "  <td class='result passed'></td>\n",
              "</tr>\n",
              "<tr>\n",
              "  <td class='test'>\n",
              "    Determinar la parte real de w\n",
              "    <div class='message'>Done</div>\n",
              "  </td>\n",
              "  <td class='result passed'></td>\n",
              "</tr>\n",
              "<tr>\n",
              "  <td class='test'>\n",
              "    Determinar la parte imaginaria  de w\n",
              "    <div class='message'>Done</div>\n",
              "  </td>\n",
              "  <td class='result passed'></td>\n",
              "</tr>\n",
              "<tr>\n",
              "  <td class='test'>\n",
              "    Determinar el conjugado de w\n",
              "    <div class='message'>Done</div>\n",
              "  </td>\n",
              "  <td class='result passed'></td>\n",
              "</tr>  <tr><th class='score'>Total Points</th><th class='score'>4</th></tr></table>\n"
            ]
          },
          "metadata": {}
        }
      ],
      "source": [
        "%run -i {path2}/test03.py"
      ]
    },
    {
      "cell_type": "markdown",
      "metadata": {
        "id": "P-2vd2FFV-R-"
      },
      "source": [
        "###  Listas\n",
        "\n",
        "10.0  Construir una lista L con las variables usadas hasta acá y los resultados de las funciones.\n",
        "\n",
        "L=[x,y,z,mul_lambda, sum_int,w, w_img, w_real, w_con ]\n",
        "\n",
        "11.0 Invierta la lista y almacene en una variable L_reverse\n",
        "\n",
        "12.0 Almacene los indices impares de la lista, L_imp\n",
        "\n",
        "13.0 Almacene los indicies pares de la lista, L_par\n",
        "\n",
        "14.0 Almacena en una nueva variable llamada Lnew con la lista L, modifique el indice 5 de la lista L con la palabra \"hello world\"\n"
      ]
    },
    {
      "cell_type": "code",
      "execution_count": null,
      "metadata": {
        "id": "5wcA7Bf8x6v4",
        "colab": {
          "base_uri": "https://localhost:8080/"
        },
        "outputId": "0f113ee5-fad7-44bf-ee90-223174270600"
      },
      "outputs": [
        {
          "output_type": "stream",
          "name": "stdout",
          "text": [
            "[1, 3.14, 'hola', <function <lambda> at 0x7b7f1c1897e0>, <function sum_int at 0x7b7f1c189870>, (2+1j), 1.0, 2.0, (2-1j)]\n",
            "El tamaño de la lista es: 9\n",
            "[(2-1j), 2.0, 1.0, (2+1j), <function sum_int at 0x7b7f1c189870>, <function <lambda> at 0x7b7f1c1897e0>, 'hola', 3.14, 1]\n",
            "[3.14, <function <lambda> at 0x7b7f1c1897e0>, (2+1j), 2.0]\n",
            "[1, 'hola', <function sum_int at 0x7b7f1c189870>, 1.0, (2-1j)]\n",
            "[1, 3.14, 'hola', <function <lambda> at 0x7b7f1c1897e0>, 'hello world', (2+1j), 1.0, 2.0, (2-1j)]\n"
          ]
        }
      ],
      "source": [
        "L = [x,y,z,mul_lambda, sum_int,w, w_img, w_real, w_con]\n",
        "print(L)\n",
        "print(f'El tamaño de la lista es: {len(L)}')\n",
        "\n",
        "L_reverse = L[::-1]\n",
        "print(L_reverse)\n",
        "L_impar = L[1::2]\n",
        "print(L_impar)\n",
        "L_par = L[::2]\n",
        "print(L_par)\n",
        "L_new = L.copy()\n",
        "L_new[4] = \"hello world\"\n",
        "print(L_new)"
      ]
    },
    {
      "cell_type": "code",
      "execution_count": null,
      "metadata": {
        "id": "rUAEpJDDdM2q"
      },
      "outputs": [],
      "source": [
        "%run -i {path2}/test04.py"
      ]
    },
    {
      "cell_type": "markdown",
      "metadata": {
        "id": "9vVIrQeytD30"
      },
      "source": [
        "###  Tuplas\n",
        "\n",
        "15.0 Definir una tupla con 5 elementos almacenda en la variable Tup, los primeros 3 tipo string y los ultimos dos, tipo float."
      ]
    },
    {
      "cell_type": "code",
      "execution_count": null,
      "metadata": {
        "id": "e-xB1dffubPz"
      },
      "outputs": [],
      "source": [
        "Tup = (\"Gabriel\", \"Rodriguez\", \"Suarez\", 19.78, 2.7182)"
      ]
    },
    {
      "cell_type": "code",
      "execution_count": null,
      "metadata": {
        "id": "UswyGx3xuou2",
        "colab": {
          "base_uri": "https://localhost:8080/",
          "height": 251
        },
        "outputId": "69d40688-e4f0-4e3d-c3d9-e9b8aca5ecb7"
      },
      "outputs": [
        {
          "output_type": "display_data",
          "data": {
            "text/plain": [
              "<IPython.core.display.HTML object>"
            ],
            "text/html": [
              "<style>\n",
              "  table { text-align: left; border-collapse: collapse; margin: 1em; caption-side: bottom; font-family: Sans-Serif; font-size: 12px}\n",
              "  caption { text-align: left; padding: 5px }\n",
              "  th, td { border: 2px solid #BFC9CA; padding: 5px }\n",
              "  th { background-color: #BFC9CA }\n",
              "  .passed { background-color: #76D7C4 }\n",
              "  .failed { background-color: #EC7063 }\n",
              "  .skipped { background-color: #EDBB99 }\n",
              "  .score { background-color: #7DCEA0 }\n",
              "  .results .points { display: none }\n",
              "  .results .message { display: block; font-size:smaller; color:#D35400 }\n",
              "  .results .note { display: block; font-size:smaller; font-decoration:italics }\n",
              "  .results .passed::before  { content: \"Passed\" } \n",
              "  .results .skipped::before  { content: \"Skipped\" } \n",
              "  .results .failed::before  { content: \"Failed\" } \n",
              "  .grade .passed  .message:empty::before { content:\"Passed\" }\n",
              "  .grade .failed  .message:empty::before { content:\"Failed\" }\n",
              "  .grade .skipped .message:empty::before { content:\"Skipped\" }   \n",
              "</style>\n",
              "<table class='results'>\n",
              "  <th class='test'>Test</th><th class='result'>Result</th></tr>\n",
              "<tr>\n",
              "  <td class='test'>\n",
              "    Definir una tupla\n",
              "    <div class='message'>Done</div>\n",
              "  </td>\n",
              "  <td class='result passed'></td>\n",
              "</tr>\n",
              "<tr>\n",
              "  <td class='test'>\n",
              "    La longitud de la tupla debe ser 5 \n",
              "    <div class='message'>Done</div>\n",
              "  </td>\n",
              "  <td class='result passed'></td>\n",
              "</tr>\n",
              "<tr>\n",
              "  <td class='test'>\n",
              "    Los tres primeros elementos deben string \n",
              "    <div class='message'>Done</div>\n",
              "  </td>\n",
              "  <td class='result passed'></td>\n",
              "</tr>\n",
              "<tr>\n",
              "  <td class='test'>\n",
              "    Los dos ultimos elementos deben ser float \n",
              "    <div class='message'>Done</div>\n",
              "  </td>\n",
              "  <td class='result passed'></td>\n",
              "</tr>  <tr><th class='score'>Total Points</th><th class='score'>4</th></tr></table>\n"
            ]
          },
          "metadata": {}
        }
      ],
      "source": [
        "%run -i {path2}/test05.py"
      ]
    },
    {
      "cell_type": "markdown",
      "metadata": {
        "id": "E1VlbpbEysKy"
      },
      "source": [
        "###  Set\n",
        "16.0 Defina una variable tipo set llamada  D con los primeros 11 numeros primos, consultalos en la red. Notese que pasa en este variables cuando alguno de los elementos se repite\n",
        "\n",
        "17.0 Defina una variable tipo set llamada E con los números naturales del 1 al 20.\n",
        "\n",
        "18.0 Calcule la unión  y almacenela en una variable U.\n",
        "\n",
        "19.0 Calcule la intersección y almacenela en una variable I\n"
      ]
    },
    {
      "cell_type": "code",
      "execution_count": null,
      "metadata": {
        "id": "ua1aHdjPzfGp",
        "colab": {
          "base_uri": "https://localhost:8080/"
        },
        "outputId": "9047205d-ea73-4437-8c81-2a741e1e240c"
      },
      "outputs": [
        {
          "output_type": "stream",
          "name": "stdout",
          "text": [
            "{1, 2, 3, 4, 5, 6, 7, 8, 9, 10, 11, 12, 13, 14, 15, 16, 17, 18, 19, 20}\n",
            "La unión de los conjuntos es: {1, 2, 3, 4, 5, 6, 7, 8, 9, 10, 11, 12, 13, 14, 15, 16, 17, 18, 19, 20, 23, 29, 31}\n",
            "La intersección de los conjuntos es: {2, 3, 5, 7, 11, 13, 17, 19}\n"
          ]
        }
      ],
      "source": [
        "D = {2,3,5,7,11,13,17,19,23,29,31}\n",
        "\n",
        "E = []\n",
        "for i in range(1,21):\n",
        "  E.append(i)\n",
        "E = set(E)\n",
        "print(E)\n",
        "\n",
        "U = D.union(E)\n",
        "print(f'La unión de los conjuntos es: {U}')\n",
        "I = D.intersection(E)\n",
        "print(f'La intersección de los conjuntos es: {I}')"
      ]
    },
    {
      "cell_type": "code",
      "execution_count": null,
      "metadata": {
        "id": "YJiDfeEr2cSc",
        "colab": {
          "base_uri": "https://localhost:8080/",
          "height": 445
        },
        "outputId": "73b4188f-61cb-40c4-d716-94bfe881260f"
      },
      "outputs": [
        {
          "output_type": "display_data",
          "data": {
            "text/plain": [
              "<IPython.core.display.HTML object>"
            ],
            "text/html": [
              "<style>\n",
              "  table { text-align: left; border-collapse: collapse; margin: 1em; caption-side: bottom; font-family: Sans-Serif; font-size: 12px}\n",
              "  caption { text-align: left; padding: 5px }\n",
              "  th, td { border: 2px solid #BFC9CA; padding: 5px }\n",
              "  th { background-color: #BFC9CA }\n",
              "  .passed { background-color: #76D7C4 }\n",
              "  .failed { background-color: #EC7063 }\n",
              "  .skipped { background-color: #EDBB99 }\n",
              "  .score { background-color: #7DCEA0 }\n",
              "  .results .points { display: none }\n",
              "  .results .message { display: block; font-size:smaller; color:#D35400 }\n",
              "  .results .note { display: block; font-size:smaller; font-decoration:italics }\n",
              "  .results .passed::before  { content: \"Passed\" } \n",
              "  .results .skipped::before  { content: \"Skipped\" } \n",
              "  .results .failed::before  { content: \"Failed\" } \n",
              "  .grade .passed  .message:empty::before { content:\"Passed\" }\n",
              "  .grade .failed  .message:empty::before { content:\"Failed\" }\n",
              "  .grade .skipped .message:empty::before { content:\"Skipped\" }   \n",
              "</style>\n",
              "<table class='results'>\n",
              "  <th class='test'>Test</th><th class='result'>Result</th></tr>\n",
              "<tr>\n",
              "  <td class='test'>\n",
              "    Definir una variable D tipo set\n",
              "    <div class='message'>Done</div>\n",
              "  </td>\n",
              "  <td class='result passed'></td>\n",
              "</tr>\n",
              "<tr>\n",
              "  <td class='test'>\n",
              "    Definir una variable E tipo set\n",
              "    <div class='message'>Done</div>\n",
              "  </td>\n",
              "  <td class='result passed'></td>\n",
              "</tr>\n",
              "<tr>\n",
              "  <td class='test'>\n",
              "    Definir una variable U tipo set\n",
              "    <div class='message'>Done</div>\n",
              "  </td>\n",
              "  <td class='result passed'></td>\n",
              "</tr>\n",
              "<tr>\n",
              "  <td class='test'>\n",
              "    Definir una variable I tipo set\n",
              "    <div class='message'>Done</div>\n",
              "  </td>\n",
              "  <td class='result passed'></td>\n",
              "</tr>\n",
              "<tr>\n",
              "  <td class='test'>\n",
              "    La longitud de D debe ser 11 \n",
              "    <div class='message'>Done</div>\n",
              "  </td>\n",
              "  <td class='result passed'></td>\n",
              "</tr>\n",
              "<tr>\n",
              "  <td class='test'>\n",
              "    11 primeros números de Bernulli\n",
              "    <div class='message'>Done</div>\n",
              "  </td>\n",
              "  <td class='result passed'></td>\n",
              "</tr>\n",
              "<tr>\n",
              "  <td class='test'>\n",
              "    20 primeros numeros naturales \n",
              "    <div class='message'>Done</div>\n",
              "  </td>\n",
              "  <td class='result passed'></td>\n",
              "</tr>\n",
              "<tr>\n",
              "  <td class='test'>\n",
              "    union \n",
              "    <div class='message'>Done</div>\n",
              "  </td>\n",
              "  <td class='result passed'></td>\n",
              "</tr>\n",
              "<tr>\n",
              "  <td class='test'>\n",
              "    Calcule la interseccion \n",
              "    <div class='message'>Done</div>\n",
              "  </td>\n",
              "  <td class='result passed'></td>\n",
              "</tr>  <tr><th class='score'>Total Points</th><th class='score'>9</th></tr></table>\n"
            ]
          },
          "metadata": {}
        }
      ],
      "source": [
        " %run -i {path2}/test06.py"
      ]
    },
    {
      "cell_type": "markdown",
      "metadata": {
        "id": "HWfazmVWTq1T"
      },
      "source": [
        "\n",
        "\n",
        "\n",
        "\n",
        "\n",
        "\n",
        "\n",
        "\n",
        "\n",
        "\n",
        "\n",
        "\n",
        "\n",
        "\n",
        "###  Diccionarios\n",
        "20.0 Construir un diccionario con 5 elementos cuya clave es el nombre del autor y valor el nombre del libro. Almacenarlo en una variable dicc.\n",
        "\n",
        "\n",
        "\n"
      ]
    },
    {
      "cell_type": "code",
      "execution_count": null,
      "metadata": {
        "id": "07sFgZvj0MP7",
        "colab": {
          "base_uri": "https://localhost:8080/"
        },
        "outputId": "a1d78859-9b9f-4669-e444-a3bb8fd43280"
      },
      "outputs": [
        {
          "output_type": "execute_result",
          "data": {
            "text/plain": [
              "{'Cien años de soledad': 'Gabriel García Márquez',\n",
              " 'Viaje al centro de la Tierra': 'Jules Gabriel Verne',\n",
              " 'Contacto': 'Carl Sagan',\n",
              " 'Harry Potter y la Orden del Fénix': 'J.K. Rowling',\n",
              " 'Trilogía FUndación': 'Isaac Asimov'}"
            ]
          },
          "metadata": {},
          "execution_count": 13
        }
      ],
      "source": [
        "dicc = {'Cien años de soledad' : 'Gabriel García Márquez',\n",
        "        'Viaje al centro de la Tierra' : 'Jules Gabriel Verne',\n",
        "        'Contacto' : 'Carl Sagan',\n",
        "        'Harry Potter y la Orden del Fénix' : 'J.K. Rowling',\n",
        "        'Trilogía FUndación' : 'Isaac Asimov'}\n",
        "dicc"
      ]
    },
    {
      "cell_type": "code",
      "execution_count": null,
      "metadata": {
        "id": "yfHkEyXV6DjL",
        "colab": {
          "base_uri": "https://localhost:8080/",
          "height": 173
        },
        "outputId": "9d6f353d-3294-4fed-d3bf-48056a49ad04"
      },
      "outputs": [
        {
          "output_type": "display_data",
          "data": {
            "text/plain": [
              "<IPython.core.display.HTML object>"
            ],
            "text/html": [
              "<style>\n",
              "  table { text-align: left; border-collapse: collapse; margin: 1em; caption-side: bottom; font-family: Sans-Serif; font-size: 12px}\n",
              "  caption { text-align: left; padding: 5px }\n",
              "  th, td { border: 2px solid #BFC9CA; padding: 5px }\n",
              "  th { background-color: #BFC9CA }\n",
              "  .passed { background-color: #76D7C4 }\n",
              "  .failed { background-color: #EC7063 }\n",
              "  .skipped { background-color: #EDBB99 }\n",
              "  .score { background-color: #7DCEA0 }\n",
              "  .results .points { display: none }\n",
              "  .results .message { display: block; font-size:smaller; color:#D35400 }\n",
              "  .results .note { display: block; font-size:smaller; font-decoration:italics }\n",
              "  .results .passed::before  { content: \"Passed\" } \n",
              "  .results .skipped::before  { content: \"Skipped\" } \n",
              "  .results .failed::before  { content: \"Failed\" } \n",
              "  .grade .passed  .message:empty::before { content:\"Passed\" }\n",
              "  .grade .failed  .message:empty::before { content:\"Failed\" }\n",
              "  .grade .skipped .message:empty::before { content:\"Skipped\" }   \n",
              "</style>\n",
              "<table class='results'>\n",
              "  <th class='test'>Test</th><th class='result'>Result</th></tr>\n",
              "<tr>\n",
              "  <td class='test'>\n",
              "    Definir una variable dicc tipo diccionario\n",
              "    <div class='message'>Done</div>\n",
              "  </td>\n",
              "  <td class='result passed'></td>\n",
              "</tr>\n",
              "<tr>\n",
              "  <td class='test'>\n",
              "    la longitud del diccionario debe ser 5 \n",
              "    <div class='message'>Done</div>\n",
              "  </td>\n",
              "  <td class='result passed'></td>\n",
              "</tr>  <tr><th class='score'>Total Points</th><th class='score'>2</th></tr></table>\n"
            ]
          },
          "metadata": {}
        }
      ],
      "source": [
        " %run -i {path2}/test07.py"
      ]
    },
    {
      "cell_type": "markdown",
      "metadata": {
        "id": "7g0xWN387wOo"
      },
      "source": [
        "\n",
        "####  Ciclos y condicionales\n",
        "\n",
        "21.0  Cálculo de $\\pi$. Empleando la siguiente seria :\n",
        "\n",
        "\\begin{equation}\n",
        "\\frac{\\pi}{4} = 1 -\\frac{1}{3}+\\frac{1}{5}-\\frac{1}{7}+\\frac{1}{9}-...\n",
        "\\end{equation}\n",
        "\n",
        "Construya una función llamada pi_number en el que entrado el valor de k,(número de términos de la serie ) calcule el valor de pi. Si k es negativo deberá retornar un error como una variable tipo string.\n",
        "\n",
        "Ejemplo de ejecución:\n",
        "```python\n",
        "pi_number(10)\n",
        "```"
      ]
    },
    {
      "cell_type": "code",
      "execution_count": 13,
      "metadata": {
        "id": "skOGlvSBubP1",
        "colab": {
          "base_uri": "https://localhost:8080/"
        },
        "outputId": "9cc718c5-5aab-47b9-a932-6f73d12795ed"
      },
      "outputs": [
        {
          "output_type": "execute_result",
          "data": {
            "text/plain": [
              "3.1415916535897743"
            ]
          },
          "metadata": {},
          "execution_count": 13
        }
      ],
      "source": [
        "def pi_number(k):\n",
        "  if k < 0:\n",
        "    return \"Error, la serie es únicamente de números positivos.\"\n",
        "  else:\n",
        "    serie = []\n",
        "    for i in range(k):\n",
        "      #print(i)\n",
        "      pi = 4*(-1)**i/(2*i+1)\n",
        "      serie.append(pi)\n",
        "    x = 0\n",
        "    for j in serie:\n",
        "      x = x + j\n",
        "    return x\n",
        "pi_number(1000000)"
      ]
    },
    {
      "cell_type": "code",
      "execution_count": 14,
      "metadata": {
        "id": "OEACMhp6BS2k",
        "colab": {
          "base_uri": "https://localhost:8080/",
          "height": 174
        },
        "outputId": "f6ba67f5-f502-4177-e910-3e9cf4ad0116"
      },
      "outputs": [
        {
          "output_type": "display_data",
          "data": {
            "text/plain": [
              "<IPython.core.display.HTML object>"
            ],
            "text/html": [
              "<style>\n",
              "  table { text-align: left; border-collapse: collapse; margin: 1em; caption-side: bottom; font-family: Sans-Serif; font-size: 12px}\n",
              "  caption { text-align: left; padding: 5px }\n",
              "  th, td { border: 2px solid #BFC9CA; padding: 5px }\n",
              "  th { background-color: #BFC9CA }\n",
              "  .passed { background-color: #76D7C4 }\n",
              "  .failed { background-color: #EC7063 }\n",
              "  .skipped { background-color: #EDBB99 }\n",
              "  .score { background-color: #7DCEA0 }\n",
              "  .results .points { display: none }\n",
              "  .results .message { display: block; font-size:smaller; color:#D35400 }\n",
              "  .results .note { display: block; font-size:smaller; font-decoration:italics }\n",
              "  .results .passed::before  { content: \"Passed\" } \n",
              "  .results .skipped::before  { content: \"Skipped\" } \n",
              "  .results .failed::before  { content: \"Failed\" } \n",
              "  .grade .passed  .message:empty::before { content:\"Passed\" }\n",
              "  .grade .failed  .message:empty::before { content:\"Failed\" }\n",
              "  .grade .skipped .message:empty::before { content:\"Skipped\" }   \n",
              "</style>\n",
              "<table class='results'>\n",
              "  <th class='test'>Test</th><th class='result'>Result</th></tr>\n",
              "<tr>\n",
              "  <td class='test'>\n",
              "    Prueba para valores negativos \n",
              "    <div class='message'>Done</div>\n",
              "  </td>\n",
              "  <td class='result passed'></td>\n",
              "</tr>\n",
              "<tr>\n",
              "  <td class='test'>\n",
              "    Prueba para valores negativos \n",
              "    <div class='message'>Done</div>\n",
              "  </td>\n",
              "  <td class='result passed'></td>\n",
              "</tr>  <tr><th class='score'>Total Points</th><th class='score'>2</th></tr></table>\n"
            ]
          },
          "metadata": {}
        }
      ],
      "source": [
        " %run -i {path2}/test08.py"
      ]
    }
  ],
  "metadata": {
    "colab": {
      "provenance": []
    },
    "kernelspec": {
      "display_name": "Python 3 (ipykernel)",
      "language": "python",
      "name": "python3"
    },
    "language_info": {
      "codemirror_mode": {
        "name": "ipython",
        "version": 3
      },
      "file_extension": ".py",
      "mimetype": "text/x-python",
      "name": "python",
      "nbconvert_exporter": "python",
      "pygments_lexer": "ipython3",
      "version": "3.10.9"
    }
  },
  "nbformat": 4,
  "nbformat_minor": 0
}