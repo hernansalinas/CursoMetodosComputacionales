{
 "cells": [
  {
   "cell_type": "code",
   "execution_count": 1,
   "metadata": {
    "executionInfo": {
     "elapsed": 115,
     "status": "ok",
     "timestamp": 1740663727215,
     "user": {
      "displayName": "GABRIEL RODRIGUEZ SUAREZ",
      "userId": "05115596265994280321"
     },
     "user_tz": 300
    },
    "id": "z7RCty67y3ME"
   },
   "outputs": [],
   "source": [
    "import numpy as np\n",
    "import matplotlib.pyplot as plt\n",
    "import scipy as sc\n",
    "import scipy.linalg as la"
   ]
  },
  {
   "cell_type": "markdown",
   "metadata": {},
   "source": [
    "## Funciones fundamentales del notenook:"
   ]
  },
  {
   "cell_type": "code",
   "execution_count": 41,
   "metadata": {},
   "outputs": [],
   "source": [
    "def matriz_aleatoria(m,n):\n",
    "    M = np.array([[np.random.randint(1,10) for i in range(m)] for j in range(n)])\n",
    "    return M"
   ]
  },
  {
   "cell_type": "markdown",
   "metadata": {
    "id": "GGQpGoujzAnQ"
   },
   "source": [
    "# Actividad 08: Algebra Lineal y Matrices\n",
    "\n",
    "---\n",
    "### Profesor: Juan Marcos Marín\n",
    "### Nombre: Gabriel Rodríguez Suárez\n",
    "*Métodos computacionales 2024-II*\n",
    "\n",
    "---"
   ]
  },
  {
   "cell_type": "markdown",
   "metadata": {
    "id": "szDD-eJhzKbw"
   },
   "source": [
    "# 1\n",
    "\n",
    "Escriba una función que calcule el producto escalar y vectorial para dos vectores, compare sus resultados con `np.dot` y `np.cross`."
   ]
  },
  {
   "cell_type": "markdown",
   "metadata": {
    "id": "Cvs6_bMYqPgg"
   },
   "source": [
    "## **Producto punto**"
   ]
  },
  {
   "cell_type": "code",
   "execution_count": 3,
   "metadata": {
    "executionInfo": {
     "elapsed": 11,
     "status": "ok",
     "timestamp": 1740663887198,
     "user": {
      "displayName": "GABRIEL RODRIGUEZ SUAREZ",
      "userId": "05115596265994280321"
     },
     "user_tz": 300
    },
    "id": "KlxyKMOIzBDZ"
   },
   "outputs": [],
   "source": [
    "def dot(v,u):\n",
    "  if len(v) == len(u):\n",
    "    suma = 0\n",
    "    n = len(u)\n",
    "    for i in range(n):\n",
    "      suma += v[i]*u[i]\n",
    "    return suma\n",
    "  else:\n",
    "    print('Asegúrate de ingresar vectores de igual dimensión.')"
   ]
  },
  {
   "cell_type": "code",
   "execution_count": 4,
   "metadata": {
    "colab": {
     "base_uri": "https://localhost:8080/"
    },
    "executionInfo": {
     "elapsed": 6,
     "status": "ok",
     "timestamp": 1740663942568,
     "user": {
      "displayName": "GABRIEL RODRIGUEZ SUAREZ",
      "userId": "05115596265994280321"
     },
     "user_tz": 300
    },
    "id": "y8E8e6YQpyAx",
    "outputId": "aa6f07d0-ab98-4cc1-c078-3dae6b29898b"
   },
   "outputs": [
    {
     "name": "stdout",
     "output_type": "stream",
     "text": [
      "Por función creada: 29\n",
      "Por función de numpy: 29\n"
     ]
    }
   ],
   "source": [
    "v = np.array([2,2,3])\n",
    "u = np.array([3,4,5])\n",
    "\n",
    "punto1 = dot(v,u)\n",
    "print(f'Por función creada: {punto1}')\n",
    "\n",
    "punto2 = np.dot(u,v)\n",
    "print(f'Por función de numpy: {punto2}')"
   ]
  },
  {
   "cell_type": "markdown",
   "metadata": {
    "id": "HqzEb2lXqSDg"
   },
   "source": [
    "## **Producto cruz**"
   ]
  },
  {
   "cell_type": "code",
   "execution_count": 5,
   "metadata": {
    "id": "Je_L8GjKqU_a"
   },
   "outputs": [],
   "source": [
    "def cruz(v,u):\n",
    "    if len(u) == 3 and len(v) == 3:\n",
    "        prod_cruz = np.array([(v[1]*u[2]-v[2]*u[1]), - (v[0]*u[2] - v[2]*u[0]), (v[0]*u[1] - v[1]*u[0])])\n",
    "        return prod_cruz\n",
    "    else:\n",
    "        print('Tus elementos deben ser vectores y si lo son deben ser únicamente de 3 elementos.')"
   ]
  },
  {
   "cell_type": "code",
   "execution_count": 6,
   "metadata": {},
   "outputs": [
    {
     "name": "stdout",
     "output_type": "stream",
     "text": [
      "Producto cruz por función: [ 1 10 -7]\n",
      "Producto cruz por numpy: [ 1 10 -7]\n"
     ]
    }
   ],
   "source": [
    "a = np.array([1,2,3])\n",
    "b = np.array([4,1,2])\n",
    "cruz1 = cruz(a,b)\n",
    "print(f'Producto cruz por función: {cruz1}')\n",
    "\n",
    "cruz2 = np.cross(a,b)\n",
    "print(f'Producto cruz por numpy: {cruz2}')"
   ]
  },
  {
   "cell_type": "markdown",
   "metadata": {
    "id": "Qch9PhTQ0Klk"
   },
   "source": [
    "# 2\n",
    "\n",
    "Crear una función llamada `mulmat()` donde a partir de dos matrices $A$ y $B$ encuentre su multplicación. También realiza una función que calcule la transpuesta y otra el determinante de una matriz $3\\times 3$. Compare sus resultado con `@`, `np.dot`, `transpose` y `la.det`."
   ]
  },
  {
   "cell_type": "markdown",
   "metadata": {},
   "source": [
    "## Función del producto matricial:"
   ]
  },
  {
   "cell_type": "code",
   "execution_count": 7,
   "metadata": {},
   "outputs": [
    {
     "data": {
      "text/plain": [
       "array([[0., 0., 0., 0.],\n",
       "       [0., 0., 0., 0.],\n",
       "       [0., 0., 0., 0.]])"
      ]
     },
     "execution_count": 7,
     "metadata": {},
     "output_type": "execute_result"
    }
   ],
   "source": [
    "A = np.array([[1,2,3],[4,5,6],[7,8,9]])\n",
    "B = np.array([[1,4,3],[4,5,2],[0,8,9],[2,2,2]])\n",
    "np.shape(A) == np.shape(B)\n",
    "np.zeros((np.shape(A)[0], np.shape(B)[0]))"
   ]
  },
  {
   "cell_type": "code",
   "execution_count": 8,
   "metadata": {
    "id": "0xjXQbwn0VL5"
   },
   "outputs": [],
   "source": [
    "def multmat(A,B):\n",
    "    m, n1 = np.shape(A)[0], np.shape(A)[1]\n",
    "    n2, p = np.shape(B)[0], np.shape(B)[1]\n",
    "    print(m,n1,n2,p)\n",
    "    if n1 == n2:\n",
    "        C = np.zeros((m,p))\n",
    "        for i in range(m):\n",
    "            for j in range(p):\n",
    "                c = 0\n",
    "                for k in range(n2):\n",
    "                    c += A[i,k]*B[k,j]\n",
    "                    C[i,j] = c\n",
    "        return C"
   ]
  },
  {
   "cell_type": "code",
   "execution_count": 9,
   "metadata": {},
   "outputs": [
    {
     "name": "stdout",
     "output_type": "stream",
     "text": [
      "2 3 3 3\n",
      "[[ 9. 32. 38.]\n",
      " [24. 74. 86.]]\n",
      "[[ 9 32 38]\n",
      " [24 74 86]]\n"
     ]
    }
   ],
   "source": [
    "A = np.array([[1,2,3],[4,5,6]])\n",
    "B = np.array([[1,4,3],[4,2,4],[0,8,9]])\n",
    "\n",
    "\n",
    "#print(np.shape(A))\n",
    "#print(np.shape(B))\n",
    "#print(A,B)\n",
    "\n",
    "print(multmat(A,B))\n",
    "print(A@B)"
   ]
  },
  {
   "cell_type": "markdown",
   "metadata": {},
   "source": [
    "## Función de matriz transpuesta:"
   ]
  },
  {
   "cell_type": "code",
   "execution_count": 10,
   "metadata": {},
   "outputs": [],
   "source": [
    "def transpuesta(A):\n",
    "    m, n = np.shape(A)[0], np.shape(A)[1]\n",
    "    C = np.zeros((n,m))\n",
    "    for i in range(m):\n",
    "        for j in range(n):\n",
    "            C[j,i] = A[i,j]\n",
    "    return C"
   ]
  },
  {
   "cell_type": "code",
   "execution_count": 11,
   "metadata": {},
   "outputs": [
    {
     "ename": "NameError",
     "evalue": "name 'matriz_aleatoria' is not defined",
     "output_type": "error",
     "traceback": [
      "\u001b[1;31m---------------------------------------------------------------------------\u001b[0m",
      "\u001b[1;31mNameError\u001b[0m                                 Traceback (most recent call last)",
      "Cell \u001b[1;32mIn[11], line 1\u001b[0m\n\u001b[1;32m----> 1\u001b[0m A \u001b[38;5;241m=\u001b[39m \u001b[43mmatriz_aleatoria\u001b[49m(\u001b[38;5;241m3\u001b[39m,\u001b[38;5;241m3\u001b[39m)\n\u001b[0;32m      2\u001b[0m \u001b[38;5;28mprint\u001b[39m(A)\n\u001b[0;32m      4\u001b[0m \u001b[38;5;28mprint\u001b[39m(\u001b[38;5;124m'\u001b[39m\u001b[38;5;124mTranspuesta por función:\u001b[39m\u001b[38;5;124m'\u001b[39m)\n",
      "\u001b[1;31mNameError\u001b[0m: name 'matriz_aleatoria' is not defined"
     ]
    }
   ],
   "source": [
    "A = matriz_aleatoria(3,3)\n",
    "print(A)\n",
    "\n",
    "print('Transpuesta por función:')\n",
    "trans1 = transpuesta(A)\n",
    "print(trans1)\n",
    "\n",
    "print('Transpuesta por numpy:')\n",
    "trans2 = np.transpose(A)\n",
    "print(trans2)"
   ]
  },
  {
   "cell_type": "markdown",
   "metadata": {},
   "source": [
    "## Determinante 3x3:"
   ]
  },
  {
   "cell_type": "code",
   "execution_count": null,
   "metadata": {},
   "outputs": [],
   "source": [
    "def det_2(A):\n",
    "    if np.shape(A) == (2,2):\n",
    "        det_A = A[0,0]*A[1,1] - A[1,0]*A[0,1]\n",
    "    return det_A"
   ]
  },
  {
   "cell_type": "code",
   "execution_count": null,
   "metadata": {},
   "outputs": [
    {
     "data": {
      "text/plain": [
       "np.int64(14)"
      ]
     },
     "execution_count": 13,
     "metadata": {},
     "output_type": "execute_result"
    }
   ],
   "source": [
    "A = np.array([[5,2],[3,4]])\n",
    "det_2(A)"
   ]
  },
  {
   "cell_type": "code",
   "execution_count": null,
   "metadata": {},
   "outputs": [],
   "source": [
    "def det_3(A):\n",
    "    if np.shape(A) == (3,3):\n",
    "        det_A = A[0,0]*(A[1,1]*A[2,2] - A[2,1]*A[1,2]) - A[0,1]*(A[1,0]*A[2,2] - A[2,0]*A[1,2]) + A[0,2]*(A[1,0]*A[2,1] - A[2,0]*A[1,1,])\n",
    "        return det_A\n",
    "    else:\n",
    "        print('Asegúrate que tu matriz sea 3 x 3')"
   ]
  },
  {
   "cell_type": "code",
   "execution_count": null,
   "metadata": {},
   "outputs": [
    {
     "name": "stdout",
     "output_type": "stream",
     "text": [
      "-117\n",
      "-117.00000000000001\n"
     ]
    }
   ],
   "source": [
    "A = matriz_aleatoria(3,3)\n",
    "\n",
    "print(det_3(A))\n",
    "print(la.det(A))"
   ]
  },
  {
   "cell_type": "markdown",
   "metadata": {
    "id": "U9hC1R-F0-iH"
   },
   "source": [
    "# 3\n",
    "Escriba tres matrices aleatorias $A$, $B$ y $C$ de $3\\times 3$, y demuestre las siguientes relaciones\n",
    "\n",
    "- $ \\mathbf{A}\\mathbf{B} \\neq \\mathbf{B}\\mathbf{A} $, en general.\n",
    "- $ (\\mathbf{A}\\mathbf{B})\\mathbf{C} = \\mathbf{A}(\\mathbf{B}\\mathbf{C}) $.\n",
    "- $ \\mathbf{A}(\\mathbf{B} + \\mathbf{C}) = \\mathbf{A}\\mathbf{B} + \\mathbf{A}\\mathbf{C} $.\n",
    "- $ (\\mathbf{A} + \\mathbf{B})\\mathbf{C} = \\mathbf{A}\\mathbf{C} + \\mathbf{B}\\mathbf{C} $.\n",
    "- $ (\\mathbf{A}\\mathbf{B})^\\top = \\mathbf{B}^\\top \\mathbf{A}^\\top $.\n",
    "- $ \\det(\\mathbf{A}\\mathbf{B}) = \\det(\\mathbf{A}) \\det(\\mathbf{B}) $.\n",
    "- $ (\\mathbf{A}^\\top)^\\top = \\mathbf{A} $.\n",
    "- $ (c\\mathbf{A})^\\top = c\\mathbf{A}^\\top $.\n",
    "- $ (\\mathbf{A} + \\mathbf{B})^\\top = \\mathbf{A}^\\top + \\mathbf{B}^\\top $.\n",
    "\n"
   ]
  },
  {
   "cell_type": "code",
   "execution_count": 12,
   "metadata": {
    "id": "cQQ6cPGW1anK"
   },
   "outputs": [
    {
     "name": "stdout",
     "output_type": "stream",
     "text": [
      "Matriz A:\n",
      "[[8 9 6]\n",
      " [1 6 7]\n",
      " [3 3 2]]\n",
      "Matriz B:\n",
      "[[1 8 3]\n",
      " [6 4 6]\n",
      " [9 1 7]]\n",
      "Matriz C:\n",
      "[[3 9 3]\n",
      " [4 9 6]\n",
      " [4 9 9]]\n"
     ]
    }
   ],
   "source": [
    "n = 3\n",
    "A = np.array([[np.random.randint(1,10) for i in range(n)] for j in range(n)])\n",
    "B = np.array([[np.random.randint(1,10) for i in range(n)] for j in range(n)])\n",
    "C = np.array([[np.random.randint(1,10) for i in range(n)] for j in range(n)])\n",
    "\n",
    "print('Matriz A:')\n",
    "print(A)\n",
    "print('Matriz B:')\n",
    "print(B)\n",
    "print('Matriz C:')\n",
    "print(C)"
   ]
  },
  {
   "cell_type": "markdown",
   "metadata": {},
   "source": [
    "- $ \\mathbf{A}\\mathbf{B} \\neq \\mathbf{B}\\mathbf{A} $"
   ]
  },
  {
   "cell_type": "code",
   "execution_count": 13,
   "metadata": {},
   "outputs": [
    {
     "name": "stdout",
     "output_type": "stream",
     "text": [
      "Comparación de los dos productos matriciales:\n",
      "[[False False False]\n",
      " [False False False]\n",
      " [False False False]]\n"
     ]
    }
   ],
   "source": [
    "M = np.dot(A,B)\n",
    "N = np.dot(B,A)\n",
    "\n",
    "print('Comparación de los dos productos matriciales:')\n",
    "print(M == N)"
   ]
  },
  {
   "cell_type": "markdown",
   "metadata": {},
   "source": [
    "- $ (\\mathbf{A}\\mathbf{B})\\mathbf{C} = \\mathbf{A}(\\mathbf{B}\\mathbf{C}) $"
   ]
  },
  {
   "cell_type": "code",
   "execution_count": 14,
   "metadata": {},
   "outputs": [
    {
     "name": "stdout",
     "output_type": "stream",
     "text": [
      "[[ True  True  True]\n",
      " [ True  True  True]\n",
      " [ True  True  True]]\n"
     ]
    }
   ],
   "source": [
    "M = (A@B)@C\n",
    "N = A@(B@C)\n",
    "\n",
    "print(np.isclose(M,N))"
   ]
  },
  {
   "cell_type": "markdown",
   "metadata": {},
   "source": [
    "- $ \\mathbf{A}(\\mathbf{B} + \\mathbf{C}) = \\mathbf{A}\\mathbf{B} + \\mathbf{A}\\mathbf{C} $"
   ]
  },
  {
   "cell_type": "code",
   "execution_count": 15,
   "metadata": {},
   "outputs": [
    {
     "name": "stdout",
     "output_type": "stream",
     "text": [
      "A(B+C):\n",
      "[[200 313 252]\n",
      " [155 165 190]\n",
      " [ 68 110  86]]\n",
      "AB + AC:\n",
      "[[200 313 252]\n",
      " [155 165 190]\n",
      " [ 68 110  86]]\n",
      "Comparación:\n",
      "[[ True  True  True]\n",
      " [ True  True  True]\n",
      " [ True  True  True]]\n"
     ]
    }
   ],
   "source": [
    "M = A @ (B + C) \n",
    "N = A@B + A@C\n",
    "\n",
    "print('A(B+C):')\n",
    "print(M)\n",
    "\n",
    "print('AB + AC:')\n",
    "print(N)\n",
    "\n",
    "print('Comparación:')\n",
    "print(np.isclose(M,N))"
   ]
  },
  {
   "cell_type": "markdown",
   "metadata": {},
   "source": [
    "- $ (\\mathbf{A} + \\mathbf{B})\\mathbf{C} = \\mathbf{A}\\mathbf{C} + \\mathbf{B}\\mathbf{C} $"
   ]
  },
  {
   "cell_type": "code",
   "execution_count": 16,
   "metadata": {},
   "outputs": [
    {
     "name": "stdout",
     "output_type": "stream",
     "text": [
      "(A+B)C:\n",
      "[[131 315 210]\n",
      " [113 270 198]\n",
      " [ 88 225 141]]\n",
      "(A+B)C:\n",
      "[[131 315 210]\n",
      " [113 270 198]\n",
      " [ 88 225 141]]\n",
      "Comparación:\n",
      "[[ True  True  True]\n",
      " [ True  True  True]\n",
      " [ True  True  True]]\n"
     ]
    }
   ],
   "source": [
    "M = (A+B) @ C\n",
    "N = A@C + B@C\n",
    "\n",
    "print('(A+B)C:')\n",
    "print(M)\n",
    "\n",
    "print('(A+B)C:')\n",
    "print(N)\n",
    "\n",
    "print('Comparación:')\n",
    "print(np.isclose(M,N))"
   ]
  },
  {
   "cell_type": "markdown",
   "metadata": {},
   "source": [
    "- $ (\\mathbf{A}\\mathbf{B})^\\top = \\mathbf{B}^\\top \\mathbf{A}^\\top $"
   ]
  },
  {
   "cell_type": "code",
   "execution_count": 17,
   "metadata": {},
   "outputs": [
    {
     "name": "stdout",
     "output_type": "stream",
     "text": [
      "A transpuesta:\n",
      "[[8 1 3]\n",
      " [9 6 3]\n",
      " [6 7 2]]\n",
      "B transpuesta:\n",
      "[[1 6 9]\n",
      " [8 4 1]\n",
      " [3 6 7]]\n",
      "AB transpuesta:\n",
      "[[116 100  39]\n",
      " [106  39  38]\n",
      " [120  88  41]]\n",
      "A transpuesta por B transpuesta:\n",
      "[[116 100  39]\n",
      " [106  39  38]\n",
      " [120  88  41]]\n",
      "Comparación:\n",
      "[[ True  True  True]\n",
      " [ True  True  True]\n",
      " [ True  True  True]]\n"
     ]
    }
   ],
   "source": [
    "A_T = A.T\n",
    "B_T = B.T\n",
    "M = (A@B).T\n",
    "N = B_T @ A_T\n",
    "\n",
    "print('A transpuesta:')\n",
    "print(A_T)\n",
    "print('B transpuesta:')\n",
    "print(B_T)\n",
    "\n",
    "print('AB transpuesta:')\n",
    "print(M)\n",
    "\n",
    "print('A transpuesta por B transpuesta:')\n",
    "print(N)\n",
    "\n",
    "print('Comparación:')\n",
    "print(np.isclose(M,N))"
   ]
  },
  {
   "cell_type": "markdown",
   "metadata": {},
   "source": [
    "- $ \\det(\\mathbf{A}\\mathbf{B}) = \\det(\\mathbf{A}) \\det(\\mathbf{B}) $"
   ]
  },
  {
   "cell_type": "code",
   "execution_count": 18,
   "metadata": {},
   "outputs": [
    {
     "name": "stdout",
     "output_type": "stream",
     "text": [
      "Determinante de AB:\n",
      "252.00000000001552\n",
      "Determinante de A:\n",
      "9.000000000000004\n",
      "Determinante de B:\n",
      "28.000000000000014\n",
      "Determinante de A por determinante de B:\n",
      "252.00000000000023\n",
      "Comparación:\n",
      "True\n"
     ]
    }
   ],
   "source": [
    "det_AB = la.det(A@B)\n",
    "det_A = la.det(A)\n",
    "det_B = la.det(B)\n",
    "\n",
    "print('Determinante de AB:')\n",
    "print(det_AB)\n",
    "\n",
    "print('Determinante de A:')\n",
    "print(det_A)\n",
    "\n",
    "print('Determinante de B:')\n",
    "print(det_B)\n",
    "\n",
    "print('Determinante de A por determinante de B:')\n",
    "print(det_A*det_B)\n",
    "\n",
    "print('Comparación:')\n",
    "print(np.isclose(det_AB, det_A*det_B))"
   ]
  },
  {
   "cell_type": "markdown",
   "metadata": {},
   "source": [
    "- $ (\\mathbf{A}^\\top)^\\top = \\mathbf{A} $"
   ]
  },
  {
   "cell_type": "code",
   "execution_count": 19,
   "metadata": {},
   "outputs": [
    {
     "name": "stdout",
     "output_type": "stream",
     "text": [
      "Matriz A:\n",
      "[[8 9 6]\n",
      " [1 6 7]\n",
      " [3 3 2]]\n",
      "Matriz A transpuesta:\n",
      "[[8 1 3]\n",
      " [9 6 3]\n",
      " [6 7 2]]\n",
      "Matriz A tranpuesta, transpuesta:\n",
      "[[8 9 6]\n",
      " [1 6 7]\n",
      " [3 3 2]]\n",
      "Comparación:\n",
      "[[ True  True  True]\n",
      " [ True  True  True]\n",
      " [ True  True  True]]\n"
     ]
    }
   ],
   "source": [
    "A_T = A.T\n",
    "\n",
    "print('Matriz A:')\n",
    "print(A)\n",
    "\n",
    "print('Matriz A transpuesta:')\n",
    "print(A_T)\n",
    "\n",
    "print('Matriz A tranpuesta, transpuesta:')\n",
    "print(A_T.T)\n",
    "\n",
    "print('Comparación:')\n",
    "print(np.isclose(A, A_T.T))"
   ]
  },
  {
   "cell_type": "markdown",
   "metadata": {},
   "source": [
    "- $ (c\\mathbf{A})^\\top = c\\mathbf{A}^\\top $"
   ]
  },
  {
   "cell_type": "code",
   "execution_count": 20,
   "metadata": {},
   "outputs": [
    {
     "name": "stdout",
     "output_type": "stream",
     "text": [
      "[[16  2  6]\n",
      " [18 12  6]\n",
      " [12 14  4]]\n",
      "[[16  2  6]\n",
      " [18 12  6]\n",
      " [12 14  4]]\n"
     ]
    }
   ],
   "source": [
    "cte = np.random.randint(1,10)\n",
    "\n",
    "cA_T = (cte*A).T\n",
    "\n",
    "print(cA_T)\n",
    "\n",
    "c_A_T = cte*(A.T)\n",
    "\n",
    "print(c_A_T)"
   ]
  },
  {
   "cell_type": "markdown",
   "metadata": {},
   "source": [
    "- $ (\\mathbf{A} + \\mathbf{B})^\\top = \\mathbf{A}^\\top + \\mathbf{B}^\\top $"
   ]
  },
  {
   "cell_type": "code",
   "execution_count": 21,
   "metadata": {},
   "outputs": [
    {
     "name": "stdout",
     "output_type": "stream",
     "text": [
      "[[ True  True  True]\n",
      " [ True  True  True]\n",
      " [ True  True  True]]\n"
     ]
    }
   ],
   "source": [
    "A_T = A.T\n",
    "B_T = B.T\n",
    "\n",
    "A_B_T = (A+B).T\n",
    "\n",
    "print(np.isclose(A_T + B_T, A_B_T))"
   ]
  },
  {
   "cell_type": "markdown",
   "metadata": {
    "id": "ibYf2I9T2pIw"
   },
   "source": [
    "# 4\n",
    "\n",
    "El **Teorema de Laplace** es un método para calcular el determinante de una matriz cuadrada, particularmente útil para matrices de orden mayor a 2. Este teorema se basa en la expansión del determinante por los elementos de una fila o una columna cualquiera.\n",
    "\n",
    "\n",
    "\n",
    "$$\n",
    "\\det(A) = \\sum_{j=1}^n (-1)^{1+j} a_{1j} M_{1j}\n",
    "$$\n",
    "\n",
    "donde:\n",
    "- $a_{1j}$ es el elemento de la primera fila y columna $j$.\n",
    "- $M_{1j}$ es el menor asociado al elemento $a_{1j}$, es decir, el determinante de la submatriz de $3 \\times 3$ que se obtiene al eliminar la fila 1 y la columna $j$.\n",
    "- $(-1)^{1+j}$ es el signo correspondiente al cofactor del elemento $a_{1j}$.\n",
    "\n",
    "Podemos realizar una función recursiva para el cálculo del determinante, sabiendo que el valor del determinante de una matriz de orden uno es el único elemento de esa matriz, y el de una matriz de orden superior a uno es la suma de cada uno de los elementos de una fila o columna por los Adjuntos a ese elemento, como en la función recursiva se emplea la misma función definida el cálculo lo haremos por Menor complementario, un ejemplo desarrollado por la primera fila sería:\n",
    "\n",
    "$$\n",
    "   \\det (A_{j,j}) =\n",
    "   \\left \\{\n",
    "   \\begin{array}{llcl}\n",
    "      si & j = 1 & \\to & a_{1,1} \\\\\n",
    "                                 \\\\\n",
    "      si & j > 1 & \\to & \\displaystyle \\sum_{k=1}^j \\; (-1)^{(1+k)} \\cdot a_{1,k} \\cdot \\det( \\alpha_{1,k})\n",
    "   \\end{array}\n",
    "   \\right .\n",
    "$$\n",
    "\n",
    "Realice una función que encuentre el determinante de una matriz usando la recursividad aqui planteada, explique explicitamente su código"
   ]
  },
  {
   "cell_type": "code",
   "execution_count": 65,
   "metadata": {},
   "outputs": [
    {
     "name": "stdout",
     "output_type": "stream",
     "text": [
      "[[5 6]\n",
      " [8 9]]\n"
     ]
    }
   ],
   "source": [
    "A = np.array([\n",
    "    [1, 2, 3],\n",
    "    [4, 5, 6],\n",
    "    [7, 8, 9]\n",
    "])\n",
    "\n",
    "k = 0  # Columna a eliminar.\n",
    "menor = np.delete(np.delete(A, 0, axis=0), k, axis=1)\n",
    "\n",
    "print(menor)"
   ]
  },
  {
   "cell_type": "code",
   "execution_count": 75,
   "metadata": {
    "id": "-8tYERLHtrtY"
   },
   "outputs": [],
   "source": [
    "def Laplace_det(A):\n",
    "    '''\n",
    "    Esta función calcula el determinante de una matriz por medio del teorema de Laplace:\n",
    "\n",
    "    Entradas:\n",
    "    A: matriz (array) de tamaño nxn.\n",
    "\n",
    "    Salidas:\n",
    "    det: Determinante calculado de la matriz.\n",
    "    '''\n",
    "    n = np.shape(A)[0]\n",
    "    m = np.shape(A)[1]\n",
    "    if n != m:\n",
    "        return 'Ingresa una matriz de iguales dimensiones.'\n",
    "    if m == 2 and n == 2: #Para determinantes 2x2\n",
    "        det = A[0,0]*A[1,1] - A[1,0]*A[0,1]\n",
    "        return det    \n",
    "\n",
    "    det = 0\n",
    "    for k in range(n):\n",
    "        menor = np.delete(np.delete(A, 0 , axis=0), k, axis=1) #Elimino las columnas y filas que no tienen que ver con el menor asociado.\n",
    "        cofactor = (-1)**k * A[0,k] * Laplace_det(menor) #Aquí como el menor es de tamaño 2x2 recursivamente volverá a la función donde usará el caso 2.\n",
    "        det += float(cofactor) #Se le van sumando los resultados al determinante.\n",
    "    return det"
   ]
  },
  {
   "cell_type": "code",
   "execution_count": 76,
   "metadata": {},
   "outputs": [
    {
     "name": "stdout",
     "output_type": "stream",
     "text": [
      "[[3 4 5 7 4 8]\n",
      " [9 1 4 9 6 7]\n",
      " [3 4 8 8 1 6]\n",
      " [4 3 6 9 5 5]\n",
      " [3 5 6 3 8 1]\n",
      " [3 2 4 4 6 1]]\n",
      "Por Scipy:\n",
      "-3760.000000000001\n",
      "Por función programada:\n"
     ]
    },
    {
     "data": {
      "text/plain": [
       "-3760.0"
      ]
     },
     "execution_count": 76,
     "metadata": {},
     "output_type": "execute_result"
    }
   ],
   "source": [
    "A= np.array([[2,1,6],[3,7,8],[9,2,6]])\n",
    "B = matriz_aleatoria(6,6)\n",
    "print(B)\n",
    "\n",
    "print('Por Scipy:')\n",
    "print(la.det(B))\n",
    "print('Por función programada:')\n",
    "Laplace_det(B)"
   ]
  },
  {
   "cell_type": "markdown",
   "metadata": {
    "id": "9OcE-1QhSrI9"
   },
   "source": [
    "# 5\n",
    "\n",
    "El método de Jacobi reescribe el sistema $ Ax = b $ descomponiendo la matriz $ A $ como:\n",
    "\n",
    "$$\n",
    "A = D + L + U,\n",
    "$$\n",
    "\n",
    "donde:\n",
    "- $ D $: Matriz diagonal de $ A $,\n",
    "- $ L $: Matriz triangular inferior sin la diagonal,\n",
    "- $ U $: Matriz triangular superior sin la diagonal.\n",
    "\n",
    "El sistema se reorganiza como:\n",
    "\n",
    "$$\n",
    "x = D^{-1}(b - (L + U)x).\n",
    "$$\n",
    "\n",
    "Esto se implementa iterativamente como:\n",
    "\n",
    "$$\n",
    "x_i^{(k+1)} = \\frac{1}{a_{ii}} \\left(b_i - \\sum_{j \\neq i} a_{ij} x_j^{(k)}\\right),\n",
    "$$\n",
    "\n",
    "donde $ a_{ii} $ son los elementos diagonales de $ A $.\n",
    "\n",
    "* Escriba una función explicita que realice de manera iterativa este método con una tol = 1e-7 y un máximo de 100 iteraciones. Defina una documentación clara que explique los métodos usados, lasa entradas y salidas.\n",
    "\n",
    "* Para una matriz aleatoria 5$\\times$ 5, encuentre la solución usando su función y determine el error con respecto a `solve` y el método de inversa de matriz."
   ]
  },
  {
   "cell_type": "markdown",
   "metadata": {},
   "source": [
    "## Usando valores:"
   ]
  },
  {
   "cell_type": "code",
   "execution_count": 8,
   "metadata": {},
   "outputs": [
    {
     "data": {
      "text/plain": [
       "array([[3, 3, 7, 2, 1],\n",
       "       [2, 9, 6, 8, 9],\n",
       "       [1, 3, 7, 4, 1],\n",
       "       [3, 5, 7, 8, 4],\n",
       "       [4, 3, 8, 1, 8]])"
      ]
     },
     "execution_count": 8,
     "metadata": {},
     "output_type": "execute_result"
    }
   ],
   "source": [
    "def matriz_aleatoria(m,n):\n",
    "    M = np.array([[np.random.randint(1,10) for i in range(m)] for j in range(n)])\n",
    "    return M\n",
    "\n",
    "A5 = matriz_aleatoria(5,5)\n",
    "#np.shape(A)\n",
    "A5"
   ]
  },
  {
   "cell_type": "code",
   "execution_count": 9,
   "metadata": {
    "id": "PQqefGzMT3ks"
   },
   "outputs": [],
   "source": [
    "def Jacobi(A, b, tol = 1e-7, max_iter = 100):\n",
    "    '''Función de solución de sistemas de ecuaciones lineales:\n",
    "\n",
    "    MÉTODO DE JACOBI\n",
    "\n",
    "    Entradas:\n",
    "    A: Matriz que representa el sistema de ecuaciones lineales nxn.\n",
    "    b: Vector que representa los términos independientes de las ecuaciones.\n",
    "    tol = 1e-07 (Predeterminado) Mínimo valor con el que el programa calculará los resultados.\n",
    "    max_iter = 100 (Predeterminado)  Máximo número de veces que el sistema repetirá los procesos.\n",
    "    \n",
    "    Procesos:\n",
    "    Crear un array de ceros del tamaño de b, puesto que el vector solución x será de la misma dimensión que el vector\n",
    "    b. Luego, se definirá un rango de iteración que coincide con el número de filas que tiene la matriz cuadrada ingresada.\n",
    "\n",
    "    Se crea un ciclo for, con iterador k, quien se repite hasta el máximo número de iteraciones, el segundo ciclo itera\n",
    "    sobre el rango definido por las filas de la matriz A ingresada, aquí dentro se define la variable suma, que guardará el valor\n",
    "    de los valores x_i que se calculen en el proceso del siguiente cilo. Por último el tercer ciclo irá sumando los elementos según\n",
    "    la fórmula del método de Jacobi: sum(A[i,j]*x[j]), sí se cumple la condición de que i != j. Cuando se ha calculado la suma total\n",
    "    de los elementos, se vuelve dentro del segundo ciclo (j) y se calcula el resto de la fórmula. Este valor de x_i se guarda en\n",
    "    memoria y el programa sale de los ciclos a comparar si de todos los valores que ha calculado, el más grande que exista en el\n",
    "    vector x_nuevo, su valor absoluto, sea menor que el valor definido de la tolerancia.\n",
    "\n",
    "    Si esta anterior condición se cumple el programa te retornará el valor que más se acercó al límite de tolerancia, además de un\n",
    "    mensaje de cuántas iteraciones le costó repetir el cálculo.\n",
    "\n",
    "    De lo contrario te retornará que el límite de repeticiones fue superado y además te mostrará el valor en pantalla que más\n",
    "    se acercó al límite de tolerancia.\n",
    "\n",
    "    Salidas:\n",
    "    - Si converge: Vector con la soluciones y un mensaje de que hubo convergencia en menos de 100 iteraciones.\n",
    "    - Si NO converge: Vector con las soluciones encontradas hasta 100 iteraciones y un mensaje de que no hubo\n",
    "    convergencia.\n",
    "    '''\n",
    "    x = np.zeros_like(b, dtype=float)\n",
    "    n = np.shape(A)[0]\n",
    "\n",
    "    for k in range(max_iter):\n",
    "        x_nuevo = np.copy(x)\n",
    "        for i in range(n):\n",
    "            suma = 0\n",
    "            for j in range(n):\n",
    "                if j != i:\n",
    "                    suma += A[i,j]*x[j]\n",
    "            x_nuevo[i] = (b[i] - suma)/A[i,i]\n",
    "        if np.max(np.abs(x_nuevo - x)) < tol:\n",
    "            print(f'Converge luego de {k+1} iteraciones.')\n",
    "            return x_nuevo\n",
    "        x = x_nuevo\n",
    "    print(f'Luego de {max_iter} iteraciones no hay convergencia.')\n",
    "    return(x)"
   ]
  },
  {
   "cell_type": "markdown",
   "metadata": {},
   "source": [
    "Probando el método de Jacobi:"
   ]
  },
  {
   "cell_type": "code",
   "execution_count": 10,
   "metadata": {},
   "outputs": [
    {
     "name": "stdout",
     "output_type": "stream",
     "text": [
      "[[ 4 -1  1]\n",
      " [-2  6  1]\n",
      " [ 1  1  5]]\n",
      "Usando la función Jacobi:\n",
      "Converge luego de 23 iteraciones.\n",
      "[ 3.08247415  2.92783497 -2.40206179]\n",
      "Usando linalg.solve:\n",
      "[ 3.08247423  2.92783505 -2.40206186]\n"
     ]
    }
   ],
   "source": [
    "A = np.array([[4,-1,1], [-2,6,1], [1,1,5]])\n",
    "b = np.array([7,9,-6])\n",
    "\n",
    "print(A)\n",
    "print('Usando la función Jacobi:')\n",
    "print(Jacobi(A,b))\n",
    "\n",
    "print('Usando linalg.solve:')\n",
    "print(la.solve(A,b))"
   ]
  },
  {
   "cell_type": "code",
   "execution_count": 11,
   "metadata": {},
   "outputs": [
    {
     "name": "stdout",
     "output_type": "stream",
     "text": [
      "Luego de 100 iteraciones no hay convergencia.\n",
      "[-5.13595174e+34 -3.66991419e+34 -2.03942249e+34 -3.29491066e+34\n",
      " -2.83862996e+34]\n",
      "[ 0.10934183 -1.55838641  0.42498231  0.60934183  1.15357396]\n"
     ]
    }
   ],
   "source": [
    "b5 = np.array([1,4,2,5,9])\n",
    "print(Jacobi(A5,b5))\n",
    "\n",
    "print(la.solve(A5,b5))"
   ]
  },
  {
   "cell_type": "markdown",
   "metadata": {},
   "source": [
    "Probando el método de matriz inversa:"
   ]
  },
  {
   "cell_type": "code",
   "execution_count": 12,
   "metadata": {},
   "outputs": [
    {
     "data": {
      "text/plain": [
       "array([ 3.08247423,  2.92783505, -2.40206186])"
      ]
     },
     "execution_count": 12,
     "metadata": {},
     "output_type": "execute_result"
    }
   ],
   "source": [
    "A_inverse = la.inv(A)\n",
    "sol = A_inverse@b\n",
    "sol"
   ]
  },
  {
   "cell_type": "markdown",
   "metadata": {},
   "source": [
    "## Usando matrices:"
   ]
  },
  {
   "cell_type": "code",
   "execution_count": 62,
   "metadata": {},
   "outputs": [],
   "source": [
    "def Jacobi_matriz(A, b, tol=1e-7, max_iter=100):\n",
    "    D = np.diag(np.diag(A))\n",
    "    U = np.triu(A) - D\n",
    "    L = np.tril(A) - D\n",
    "    x = np.zeros_like(b, dtype=float)\n",
    "    for k in range(max_iter):\n",
    "        D_inv = la.inv(D)\n",
    "        x_new = D_inv @ (b - (L+U)@x)\n",
    "        if np.max(np.abs(x_new - x)) < tol:\n",
    "            print(f'Converge luego de {k+1} iteraciones.')\n",
    "            return x_new\n",
    "        x = x_new \n",
    "    print(f'No hubo convergencia luego de {k+1} iteraciones.')\n",
    "    return x_new"
   ]
  },
  {
   "cell_type": "code",
   "execution_count": 63,
   "metadata": {},
   "outputs": [
    {
     "name": "stdout",
     "output_type": "stream",
     "text": [
      "[[ 4 -1  1]\n",
      " [-2  6  1]\n",
      " [ 1  1  5]]\n",
      "Usando la función Jacobi:\n",
      "Converge luego de 23 iteraciones.\n",
      "[ 3.08247415  2.92783497 -2.40206179]\n",
      "Usando linalg.solve:\n",
      "[ 3.08247423  2.92783505 -2.40206186]\n"
     ]
    }
   ],
   "source": [
    "A = np.array([[4,-1,1], [-2,6,1], [1,1,5]])\n",
    "b = np.array([7,9,-6])\n",
    "\n",
    "print(A)\n",
    "print('Usando la función Jacobi:')\n",
    "print(Jacobi_matriz(A,b))\n",
    "\n",
    "print('Usando linalg.solve:')\n",
    "print(la.solve(A,b))"
   ]
  },
  {
   "cell_type": "code",
   "execution_count": 64,
   "metadata": {},
   "outputs": [
    {
     "data": {
      "text/plain": [
       "array([[7., 8., 4., 6., 4.],\n",
       "       [5., 7., 2., 5., 9.],\n",
       "       [4., 9., 9., 1., 4.],\n",
       "       [5., 4., 3., 4., 2.],\n",
       "       [9., 9., 3., 5., 9.]])"
      ]
     },
     "execution_count": 64,
     "metadata": {},
     "output_type": "execute_result"
    }
   ],
   "source": [
    "def matriz_aleatoria(m,n):\n",
    "    M = np.array([[np.random.randint(1,10) for i in range(m)] for j in range(n)], dtype=float)\n",
    "    return M\n",
    "\n",
    "A5 = matriz_aleatoria(5,5)\n",
    "#np.shape(A)\n",
    "A5"
   ]
  },
  {
   "cell_type": "code",
   "execution_count": 65,
   "metadata": {},
   "outputs": [
    {
     "name": "stdout",
     "output_type": "stream",
     "text": [
      "[11.9533998   7.79667022  0.77706326 13.72046286 12.34089931]\n",
      "No hubo convergencia luego de 100 iteraciones.\n",
      "Solución por Jacobi:\n",
      "[-5.54348691e+46 -5.41229449e+46 -3.67231951e+46 -5.98525491e+46\n",
      " -5.23853829e+46]\n",
      "Solución por scipy.linlag.solve:\n",
      "[ 2.396279   -3.53516273  2.02943855  2.11990591  0.65588974]\n"
     ]
    }
   ],
   "source": [
    "n = np.random.randint(1,20)\n",
    "b = n*np.random.rand(5)\n",
    "print(b)\n",
    "\n",
    "sol_jacobi = Jacobi_matriz(A5,b)\n",
    "print('Solución por Jacobi:')\n",
    "print(sol_jacobi)\n",
    "\n",
    "sol_solve = la.solve(A5,b)\n",
    "print('Solución por scipy.linlag.solve:')\n",
    "print(sol_solve)"
   ]
  },
  {
   "cell_type": "markdown",
   "metadata": {},
   "source": [
    "## Conclusiones:\n",
    "\n",
    "- El método de Jacobi parece ser efectivo para matrices de tamaño 3x3, mientras que matrices de tamaño 5x5 el método tiende a fallar en el límite de convergencia, pues luego del límite de 100 iteraciones el método obtiene valores muy alejados a los que arroja el método de solución usando la librería de Scipy.\n",
    "\n",
    "- Lo anterior me lleva a concluir que el método que utiliza Scipy es diferente del método de Jacobi, pues arroja resultados más precisos y acertados.\n",
    "\n",
    "- Si aumento el número de iteraciones así como la toleracia la puedo reducir, los valores tienden a alejarse más de los esperados.\n",
    "\n",
    "- También, no se debe descartar, puede haber algún detalle que omita en el código que lleve a este error."
   ]
  },
  {
   "cell_type": "markdown",
   "metadata": {
    "id": "iggu2jNwVpnK"
   },
   "source": [
    "# 6\n",
    "\n",
    "Verifique que cualquier matriz hermitiana de 2 × 2 $ L $ puede escribirse como una suma de cuatro términos:\n",
    "\n",
    "$$ L = a\\sigma_x + b\\sigma_y + c\\sigma_z + dI $$\n",
    "\n",
    "donde $ a $, $ b $, $ c $ y $ d $ son números reales.\n",
    "\n",
    "Las cuatro matrices de Pauli son:\n",
    "\n",
    "$$ \\sigma_x = \\begin{pmatrix} 0 & 1 \\\\ 1 & 0 \\end{pmatrix}, \\quad \\sigma_y = \\begin{pmatrix} 0 & -i \\\\ i & 0 \\end{pmatrix}, \\quad \\sigma_z = \\begin{pmatrix} 1 & 0 \\\\ 0 & -1 \\end{pmatrix}, \\quad I = \\begin{pmatrix} 1 & 0 \\\\ 0 & 1 \\end{pmatrix} $$\n",
    "\n",
    "\n"
   ]
  },
  {
   "cell_type": "code",
   "execution_count": 27,
   "metadata": {
    "id": "8WN9_cOCV7cM"
   },
   "outputs": [],
   "source": [
    "def hermitiana(a,b,c,d):\n",
    "    s_x = np.array([[0,1],[1,0]])\n",
    "    s_y = np.array([[0, -1j],[1j,0]])\n",
    "    s_z = np.array([[1,0],[0,-1]])\n",
    "    I = np.eye(2)\n",
    "    L = a*s_x + b*s_y + c*s_z + d*I\n",
    "    return L"
   ]
  },
  {
   "cell_type": "code",
   "execution_count": 28,
   "metadata": {},
   "outputs": [
    {
     "name": "stdout",
     "output_type": "stream",
     "text": [
      "Matriz H:\n",
      "[[9.60e-01+0.j  1.00e+10-3.4j]\n",
      " [1.00e+10+3.4j 1.04e+00+0.j ]]\n",
      "H*:\n",
      "[[9.60e-01-0.j  1.00e+10-3.4j]\n",
      " [1.00e+10+3.4j 1.04e+00-0.j ]]\n",
      "La matrices son iguales: True\n"
     ]
    }
   ],
   "source": [
    "H = hermitiana(1e10,3.4,-4e-2,1)\n",
    "H_dag = (H.T).conjugate()\n",
    "\n",
    "print('Matriz H:')\n",
    "print(H)\n",
    "\n",
    "print('H*:')\n",
    "print(H_dag)\n",
    "\n",
    "booleano = np.array_equal(H, H_dag)\n",
    "print(f'La matrices son iguales: {booleano}')"
   ]
  }
 ],
 "metadata": {
  "colab": {
   "collapsed_sections": [
    "Qch9PhTQ0Klk"
   ],
   "provenance": []
  },
  "kernelspec": {
   "display_name": "Python 3",
   "name": "python3"
  },
  "language_info": {
   "codemirror_mode": {
    "name": "ipython",
    "version": 3
   },
   "file_extension": ".py",
   "mimetype": "text/x-python",
   "name": "python",
   "nbconvert_exporter": "python",
   "pygments_lexer": "ipython3",
   "version": "3.12.9"
  }
 },
 "nbformat": 4,
 "nbformat_minor": 0
}
