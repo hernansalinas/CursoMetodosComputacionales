{
  "cells": [
    {
      "cell_type": "code",
      "execution_count": null,
      "metadata": {
        "id": "rZuc8vXcWuxy"
      },
      "outputs": [],
      "source": [
        "#@title Librerias\n",
        "import numpy as np\n",
        "import matplotlib.pyplot as plt\n",
        "import pandas as pd"
      ]
    },
    {
      "cell_type": "markdown",
      "metadata": {
        "id": "MGwGfceuWxy3"
      },
      "source": [
        "# Actividad 03: Representación númerica\n",
        "\n",
        "---\n",
        "### Profesor: Juan Marcos Marín\n",
        "### Nombre: Gabriel Rodríguez Suárez\n",
        "*Métodos computacionales 2024-II*\n",
        "\n",
        "---"
      ]
    },
    {
      "cell_type": "markdown",
      "metadata": {
        "id": "jB6BqzoSamB0"
      },
      "source": [
        "**NOTA: No utilizar los métodos `bin` o `int`**"
      ]
    },
    {
      "cell_type": "markdown",
      "metadata": {
        "id": "BOi6yQmJW7os"
      },
      "source": [
        "1. Escriba una función que se llame `mybin` que reciba un número entero real de 16 bits y realice su conversión en código binario, compare su resultado con `bin(4321)`"
      ]
    },
    {
      "cell_type": "code",
      "execution_count": null,
      "metadata": {
        "id": "xbt3ZmYiW6oF",
        "colab": {
          "base_uri": "https://localhost:8080/",
          "height": 35
        },
        "outputId": "c51e92a0-1289-4dde-d164-43cd1527459a"
      },
      "outputs": [
        {
          "output_type": "execute_result",
          "data": {
            "text/plain": [
              "'i'"
            ],
            "application/vnd.google.colaboratory.intrinsic+json": {
              "type": "string"
            }
          },
          "metadata": {},
          "execution_count": 11
        }
      ],
      "source": [
        "o = \"\"\n",
        "o + \"i\""
      ]
    },
    {
      "cell_type": "code",
      "source": [
        "x = np.int16(4)\n",
        "type(x)"
      ],
      "metadata": {
        "colab": {
          "base_uri": "https://localhost:8080/"
        },
        "id": "qqW_STSZx165",
        "outputId": "f1d388c2-9ba0-4fcc-9a4d-704e9f0eea31"
      },
      "execution_count": null,
      "outputs": [
        {
          "output_type": "execute_result",
          "data": {
            "text/plain": [
              "numpy.int16"
            ]
          },
          "metadata": {},
          "execution_count": 62
        }
      ]
    },
    {
      "cell_type": "code",
      "source": [
        "def binario16(number):\n",
        "  if type(number) != np.int16:\n",
        "    return 'Ingresa un número entero en 16 bits.'\n",
        "  else:\n",
        "    u = \"\"\n",
        "    while number >= 1:\n",
        "      u += str(number%2)\n",
        "      number = int(number/2)\n",
        "      #print(number)\n",
        "    v = u[::-1]\n",
        "    v = int(v)\n",
        "    return v"
      ],
      "metadata": {
        "id": "gcFT1981xxah"
      },
      "execution_count": null,
      "outputs": []
    },
    {
      "cell_type": "code",
      "source": [
        "numero16 = np.int16(8)\n",
        "binario16(numero16)"
      ],
      "metadata": {
        "colab": {
          "base_uri": "https://localhost:8080/"
        },
        "id": "PeKumKskyCwP",
        "outputId": "7b2419b9-a1f7-4b2a-d2cc-f50181c28bff"
      },
      "execution_count": null,
      "outputs": [
        {
          "output_type": "execute_result",
          "data": {
            "text/plain": [
              "1000"
            ]
          },
          "metadata": {},
          "execution_count": 68
        }
      ]
    },
    {
      "cell_type": "code",
      "source": [
        "def binario(number):\n",
        "  if type(number) != int:\n",
        "    return 'Ingresa un número entero.'\n",
        "  else:\n",
        "    u = \"\"\n",
        "    while number >= 1:\n",
        "      u += str(number%2)\n",
        "      number = int(number/2)\n",
        "      #print(number)\n",
        "    v = u[::-1]\n",
        "    v = int(v)\n",
        "    return v"
      ],
      "metadata": {
        "id": "r2yTN07Qr4jX"
      },
      "execution_count": null,
      "outputs": []
    },
    {
      "cell_type": "code",
      "source": [
        "binario(512)"
      ],
      "metadata": {
        "colab": {
          "base_uri": "https://localhost:8080/"
        },
        "id": "13_J63bEtdBf",
        "outputId": "aaca127e-54c5-4bb3-f62c-448f8f4beec7"
      },
      "execution_count": null,
      "outputs": [
        {
          "output_type": "execute_result",
          "data": {
            "text/plain": [
              "1000000000"
            ]
          },
          "metadata": {},
          "execution_count": 58
        }
      ]
    },
    {
      "cell_type": "code",
      "source": [
        "bin(4321)"
      ],
      "metadata": {
        "colab": {
          "base_uri": "https://localhost:8080/",
          "height": 35
        },
        "id": "YQA_LYwNxDfy",
        "outputId": "bd0df22c-a1db-48a4-ca27-df7ae6c390c6"
      },
      "execution_count": null,
      "outputs": [
        {
          "output_type": "execute_result",
          "data": {
            "text/plain": [
              "'0b1000011100001'"
            ],
            "application/vnd.google.colaboratory.intrinsic+json": {
              "type": "string"
            }
          },
          "metadata": {},
          "execution_count": 47
        }
      ]
    },
    {
      "cell_type": "markdown",
      "metadata": {
        "id": "5X_8-jpEXjSw"
      },
      "source": [
        "2. Cree una función llamada `myint` pero que a partir de un número binario con base de 16 bits encuentre el entero correspondiente. Compare su resultado con `int(0b1000011100001)`"
      ]
    },
    {
      "cell_type": "code",
      "execution_count": null,
      "metadata": {
        "id": "VmS2TiF4XsbN"
      },
      "outputs": [],
      "source": [
        "def entero(n):\n",
        "  n = str(n)\n",
        "  n = n[::-1]\n",
        "  suma = 0\n",
        "  p = 0\n",
        "  for i in n:\n",
        "    #print(i, type(i))\n",
        "    i = int(i)\n",
        "    #print(i, type(i))\n",
        "    suma += (2**p)*i\n",
        "    p+=1\n",
        "  return suma"
      ]
    },
    {
      "cell_type": "code",
      "source": [
        "entero(1000011100001)"
      ],
      "metadata": {
        "colab": {
          "base_uri": "https://localhost:8080/"
        },
        "id": "XA_L1bG82GET",
        "outputId": "60b969a6-0e3e-485a-9528-34e3e2e76a64"
      },
      "execution_count": null,
      "outputs": [
        {
          "output_type": "execute_result",
          "data": {
            "text/plain": [
              "4321"
            ]
          },
          "metadata": {},
          "execution_count": 26
        }
      ]
    },
    {
      "cell_type": "code",
      "source": [
        "entero(1100)"
      ],
      "metadata": {
        "colab": {
          "base_uri": "https://localhost:8080/"
        },
        "id": "B5sv5TOf4WgS",
        "outputId": "309f2928-c225-4545-9c8f-45b71161df3c"
      },
      "execution_count": null,
      "outputs": [
        {
          "output_type": "execute_result",
          "data": {
            "text/plain": [
              "12"
            ]
          },
          "metadata": {},
          "execution_count": 50
        }
      ]
    },
    {
      "cell_type": "code",
      "source": [
        "def entero16(n1):\n",
        "  n = np.int16(n1)\n",
        "  print(type(n))\n",
        "  n = str(n)\n",
        "  n = n[::-1]\n",
        "  suma = 0\n",
        "  p = 0\n",
        "  for i in n:\n",
        "    #print(i, type(i))\n",
        "    i = int(i)\n",
        "    #print(i, type(i))\n",
        "    suma += (2**p)*i\n",
        "    p+=1\n",
        "  return suma"
      ],
      "metadata": {
        "id": "_ud_nJ_A3VAN"
      },
      "execution_count": null,
      "outputs": []
    },
    {
      "cell_type": "code",
      "source": [
        "entero16(11111)"
      ],
      "metadata": {
        "colab": {
          "base_uri": "https://localhost:8080/"
        },
        "id": "U3u63xoO3iwG",
        "outputId": "de06f652-c272-42ad-8104-93ad25002614"
      },
      "execution_count": null,
      "outputs": [
        {
          "output_type": "stream",
          "name": "stdout",
          "text": [
            "<class 'numpy.int16'>\n"
          ]
        },
        {
          "output_type": "execute_result",
          "data": {
            "text/plain": [
              "31"
            ]
          },
          "metadata": {},
          "execution_count": 49
        }
      ]
    },
    {
      "cell_type": "markdown",
      "metadata": {
        "id": "pHQ8ftloYPO5"
      },
      "source": [
        "3. Generar una función llamada `number64` para flotantes de precisión doble (64bits) donde a partir de un número binario encuentre el valor real. Compruebe su solución usando\n",
        "\n",
        "```\n",
        "number64(\"0100000000111011100100001111111111111111111111111111111111111111\")\n",
        "```\n",
        "\n"
      ]
    },
    {
      "cell_type": "code",
      "execution_count": null,
      "metadata": {
        "id": "8W4MIVKhZTsO"
      },
      "outputs": [],
      "source": [
        "def mantiza(u):\n",
        "  u = str(u)\n",
        "  #u = u[::-1] #Invierte la mantiza para efectos de la fórmula\n",
        "  count = 1\n",
        "  add = 0\n",
        "\n",
        "  for i in u:\n",
        "    i = int(i)\n",
        "    #print(count)\n",
        "    add += i*(2**(-count))\n",
        "    count +=1\n",
        "    #print(add)\n",
        "  return add\n"
      ]
    },
    {
      "cell_type": "code",
      "source": [
        "x = 1000110000000000000000000000000000000000000000000000\n",
        "print(len(str(x)))\n",
        "mantiza(1000110000000000000000000000000000000000000000000000)"
      ],
      "metadata": {
        "colab": {
          "base_uri": "https://localhost:8080/"
        },
        "id": "GBucCRCmAu_Z",
        "outputId": "d9ec81a7-d086-4dd2-8018-ca5a7e131de1"
      },
      "execution_count": null,
      "outputs": [
        {
          "output_type": "stream",
          "name": "stdout",
          "text": [
            "52\n"
          ]
        },
        {
          "output_type": "execute_result",
          "data": {
            "text/plain": [
              "0.546875"
            ]
          },
          "metadata": {},
          "execution_count": 21
        }
      ]
    },
    {
      "cell_type": "markdown",
      "source": [
        "Fórmula para obtener un número flotante:\n",
        "\n",
        "$$r = (-1)^s\\times \\left( 1 + \\sum_{i=1}^{52}b_{52-i}2^{-i} \\right)\\times 2^{e-1023}$$"
      ],
      "metadata": {
        "id": "96VWk4OdAjpp"
      }
    },
    {
      "cell_type": "code",
      "source": [
        "def binario_a_flotante(numero):\n",
        "  numero = str(numero)\n",
        "  signo = int(numero[0])\n",
        "  exponente = int(numero[1:12])\n",
        "  print(numero[1:12])\n",
        "  mantisa = int(numero[12:63])\n",
        "\n",
        "  exp_int = entero(exponente)\n",
        "  M = mantiza(mantisa)\n",
        "\n",
        "  print(f'El signo es: {signo}')\n",
        "\n",
        "  print(f'El exponente real es: {exp_int-1023}')\n",
        "  print(f'El valor recuperado de la mantiza es: {M}')\n",
        "\n",
        "  valor_real = ((-1)**signo)*(1+M)*(2**(exp_int-1023))\n",
        "  return valor_real"
      ],
      "metadata": {
        "id": "Tt36ItDb_4Xm"
      },
      "execution_count": null,
      "outputs": []
    },
    {
      "cell_type": "code",
      "source": [
        "binario_a_flotante(1100000000101000110000000000000000000000000000000000000000000000)"
      ],
      "metadata": {
        "colab": {
          "base_uri": "https://localhost:8080/"
        },
        "id": "vZulqK-hBHAY",
        "outputId": "a67f7de9-3048-415f-d000-e7aea73972b2"
      },
      "execution_count": null,
      "outputs": [
        {
          "output_type": "stream",
          "name": "stdout",
          "text": [
            "10000000010\n",
            "El signo es: 1\n",
            "El exponente real es: 3\n",
            "El valor recuperado de la mantiza es: 0.546875\n"
          ]
        },
        {
          "output_type": "execute_result",
          "data": {
            "text/plain": [
              "-12.375"
            ]
          },
          "metadata": {},
          "execution_count": 56
        }
      ]
    },
    {
      "cell_type": "code",
      "source": [
        "u = \"0100000000111011100100001111111111111111111111111111111111111111\"\n",
        "binario_a_flotante(u)"
      ],
      "metadata": {
        "colab": {
          "base_uri": "https://localhost:8080/"
        },
        "id": "0ucorkYACuQ6",
        "outputId": "8e75a4ef-d77d-4c16-d736-44002f251b38"
      },
      "execution_count": null,
      "outputs": [
        {
          "output_type": "stream",
          "name": "stdout",
          "text": [
            "10000000011\n",
            "El signo es: 0\n",
            "El exponente real es: 4\n",
            "El valor recuperado de la mantiza es: 0.7229003906249996\n"
          ]
        },
        {
          "output_type": "execute_result",
          "data": {
            "text/plain": [
              "27.566406249999993"
            ]
          },
          "metadata": {},
          "execution_count": 57
        }
      ]
    },
    {
      "cell_type": "code",
      "source": [],
      "metadata": {
        "id": "KSsfSW9gDKDP"
      },
      "execution_count": null,
      "outputs": []
    },
    {
      "cell_type": "markdown",
      "metadata": {
        "id": "xwyZCxWtZZoH"
      },
      "source": [
        "4. ***(Opcional)*** Escriba una función que convierta un número con base de 8 bits en hexadecimal, compruebe su respuesta con `hex` e imprimalo también en binario."
      ]
    },
    {
      "cell_type": "code",
      "execution_count": null,
      "metadata": {
        "id": "SpJuueSgbJ4I",
        "colab": {
          "base_uri": "https://localhost:8080/"
        },
        "outputId": "de7fa981-5dbe-4bfd-cb5b-61f405661382"
      },
      "outputs": [
        {
          "output_type": "execute_result",
          "data": {
            "text/plain": [
              "51"
            ]
          },
          "metadata": {},
          "execution_count": 46
        }
      ],
      "source": [
        "63-12"
      ]
    }
  ],
  "metadata": {
    "colab": {
      "provenance": []
    },
    "kernelspec": {
      "display_name": "Python 3",
      "name": "python3"
    },
    "language_info": {
      "name": "python"
    }
  },
  "nbformat": 4,
  "nbformat_minor": 0
}