{
  "cells": [
    {
      "cell_type": "code",
      "execution_count": 2,
      "metadata": {
        "cellView": "form",
        "id": "aF61FjHUNGJA"
      },
      "outputs": [],
      "source": [
        "#@title Librerias\n",
        "import numpy as np\n",
        "import numpy.linalg as la\n",
        "import matplotlib.pyplot as plt\n",
        "from scipy.integrate import quad, fixed_quad, trapezoid, simpson\n",
        "from sympy import symbols, diff, integrate, lambdify"
      ]
    },
    {
      "cell_type": "markdown",
      "metadata": {
        "id": "VqRX_GXcNZOl"
      },
      "source": [
        "# Parcial II - Métodos Computacionales (Integrales y Matrices)\n",
        "**2024-2**\n",
        "\n",
        "---\n",
        "\n",
        "*Nombre: Gabriel Rodríguez Suárez*\n",
        "\n",
        "*Identificación: 1089931997*\n",
        "\n",
        "---\n",
        "* Sea honest@\n",
        "* El uso de herramientas de IA no está permitido\n",
        "* Puede consultar la documentación de las librerias.\n",
        "* Sea ordendado dando la solución a cada punto.\n",
        "* *Asegurese que el notebook corra completamente*\n",
        "* Suba su notebook al GitHub (en su carpeta) y recuerde hacer pull-request"
      ]
    },
    {
      "cell_type": "markdown",
      "metadata": {
        "id": "u1OxHrJINZ9c"
      },
      "source": [
        "# 1\n",
        "\n",
        "**(20 puntos)**\n",
        "Considera la siguiente integral:\n",
        "\n",
        "$$\n",
        "I = \\int_0^1 \\int_{x^2}^{x+1} \\int_{y^2}^{y+2} \\int_{z^2}^{z+3} (x+y+z+w) \\, dw \\, dz \\, dy \\, dx\n",
        "$$\n",
        "\n",
        "Encuentre la solución númerica usando unicamente `quad`. Encuentre el error relativo, para esto emplee el siguiente código que usa `nquad`:\n",
        "\n",
        "\n",
        "```python\n",
        "# Definir el integrando\n",
        "integrand = lambda w, z, y, x: x + y + z + w\n",
        "\n",
        "# Definir los límites usando funciones lambda\n",
        "w_limits = lambda z, y, x: [z**2, z+3]\n",
        "z_limits = lambda y, x: [y**2, y+2]\n",
        "y_limits = lambda x: [x**2, x+1]\n",
        "x_limits = lambda: [0, 1]\n",
        "\n",
        "# Calcular la integral usando nquad\n",
        "result, error = nquad(\n",
        "    integrand,\n",
        "    [w_limits, z_limits, y_limits, x_limits]\n",
        ")\n",
        "\n",
        "print(f\"Resultado de la integral: {result}\")\n",
        "print(f\"Error estimado: {error}\")\n",
        "```\n",
        "\n"
      ]
    },
    {
      "cell_type": "markdown",
      "metadata": {},
      "source": [
        "## Usando quad para hallar la integral:"
      ]
    },
    {
      "cell_type": "code",
      "execution_count": 46,
      "metadata": {
        "id": "cZURwltmOSgu"
      },
      "outputs": [
        {
          "ename": "TypeError",
          "evalue": "'<' not supported between instances of 'function' and 'function'",
          "output_type": "error",
          "traceback": [
            "\u001b[1;31m---------------------------------------------------------------------------\u001b[0m",
            "\u001b[1;31mTypeError\u001b[0m                                 Traceback (most recent call last)",
            "Cell \u001b[1;32mIn[46], line 6\u001b[0m\n\u001b[0;32m      3\u001b[0m a \u001b[38;5;241m=\u001b[39m \u001b[38;5;28;01mlambda\u001b[39;00m x,y,z: z\u001b[38;5;241m*\u001b[39m\u001b[38;5;241m*\u001b[39m\u001b[38;5;241m2\u001b[39m\n\u001b[0;32m      4\u001b[0m b \u001b[38;5;241m=\u001b[39m \u001b[38;5;28;01mlambda\u001b[39;00m x,y,z: z\u001b[38;5;241m+\u001b[39m\u001b[38;5;241m3\u001b[39m\n\u001b[1;32m----> 6\u001b[0m I1 \u001b[38;5;241m=\u001b[39m \u001b[43mquad\u001b[49m\u001b[43m(\u001b[49m\u001b[43mf\u001b[49m\u001b[43m,\u001b[49m\u001b[43m \u001b[49m\u001b[43ma\u001b[49m\u001b[43m,\u001b[49m\u001b[43m \u001b[49m\u001b[43mb\u001b[49m\u001b[43m)\u001b[49m\n",
            "File \u001b[1;32m~\\AppData\\Local\\Packages\\PythonSoftwareFoundation.Python.3.12_qbz5n2kfra8p0\\LocalCache\\local-packages\\Python312\\site-packages\\scipy\\integrate\\_quadpack_py.py:432\u001b[0m, in \u001b[0;36mquad\u001b[1;34m(func, a, b, args, full_output, epsabs, epsrel, limit, points, weight, wvar, wopts, maxp1, limlst, complex_func)\u001b[0m\n\u001b[0;32m    429\u001b[0m     args \u001b[38;5;241m=\u001b[39m (args,)\n\u001b[0;32m    431\u001b[0m \u001b[38;5;66;03m# check the limits of integration: \\int_a^b, expect a < b\u001b[39;00m\n\u001b[1;32m--> 432\u001b[0m flip, a, b \u001b[38;5;241m=\u001b[39m \u001b[43mb\u001b[49m\u001b[43m \u001b[49m\u001b[38;5;241;43m<\u001b[39;49m\u001b[43m \u001b[49m\u001b[43ma\u001b[49m, \u001b[38;5;28mmin\u001b[39m(a, b), \u001b[38;5;28mmax\u001b[39m(a, b)\n\u001b[0;32m    434\u001b[0m \u001b[38;5;28;01mif\u001b[39;00m complex_func:\n\u001b[0;32m    435\u001b[0m     \u001b[38;5;28;01mdef\u001b[39;00m \u001b[38;5;21mimfunc\u001b[39m(x, \u001b[38;5;241m*\u001b[39margs):\n",
            "\u001b[1;31mTypeError\u001b[0m: '<' not supported between instances of 'function' and 'function'"
          ]
        }
      ],
      "source": [
        "f = lambda x,y,z,w: x + y + z + w\n",
        "\n",
        "a = lambda x,y,z: z**2\n",
        "b = lambda x,y,z: z+3\n",
        "\n",
        "I1 = quad(f, a, b)"
      ]
    },
    {
      "cell_type": "code",
      "execution_count": 229,
      "metadata": {},
      "outputs": [],
      "source": [
        "def integral_w(x,y,z,w):\n",
        "    f = x+y+z+w\n",
        "    return f\n",
        "\n",
        "def lim_z(x,y,z):\n",
        "    lim = np.array([z**2, z+3])\n",
        "    return lim\n",
        "\n",
        "def lim_y(x,y):\n",
        "    lim = [y**2, y+2]\n",
        "    return lim\n",
        "\n",
        "def lim_x(x):\n",
        "    lim = [0, 1]\n",
        "    return lim"
      ]
    },
    {
      "cell_type": "code",
      "execution_count": 265,
      "metadata": {},
      "outputs": [
        {
          "ename": "TypeError",
          "evalue": "cannot determine truth value of Relational",
          "output_type": "error",
          "traceback": [
            "\u001b[1;31m---------------------------------------------------------------------------\u001b[0m",
            "\u001b[1;31mTypeError\u001b[0m                                 Traceback (most recent call last)",
            "Cell \u001b[1;32mIn[265], line 1\u001b[0m\n\u001b[1;32m----> 1\u001b[0m Iw \u001b[38;5;241m=\u001b[39m \u001b[43mquad\u001b[49m\u001b[43m(\u001b[49m\u001b[43mintegral_w\u001b[49m\u001b[43m,\u001b[49m\u001b[43m \u001b[49m\u001b[43mlim_z\u001b[49m\u001b[43m(\u001b[49m\u001b[43mx\u001b[49m\u001b[43m,\u001b[49m\u001b[43my\u001b[49m\u001b[43m,\u001b[49m\u001b[43mz\u001b[49m\u001b[43m)\u001b[49m\u001b[43m[\u001b[49m\u001b[38;5;241;43m0\u001b[39;49m\u001b[43m]\u001b[49m\u001b[43m,\u001b[49m\u001b[43m \u001b[49m\u001b[43mlim_z\u001b[49m\u001b[43m(\u001b[49m\u001b[43mx\u001b[49m\u001b[43m,\u001b[49m\u001b[43my\u001b[49m\u001b[43m,\u001b[49m\u001b[43mz\u001b[49m\u001b[43m)\u001b[49m\u001b[43m[\u001b[49m\u001b[38;5;241;43m1\u001b[39;49m\u001b[43m]\u001b[49m\u001b[43m,\u001b[49m\u001b[43m \u001b[49m\u001b[43margs\u001b[49m\u001b[38;5;241;43m=\u001b[39;49m\u001b[43m(\u001b[49m\u001b[43mx\u001b[49m\u001b[43m,\u001b[49m\u001b[43my\u001b[49m\u001b[43m,\u001b[49m\u001b[43mz\u001b[49m\u001b[43m)\u001b[49m\u001b[43m)\u001b[49m\n",
            "File \u001b[1;32m~\\AppData\\Local\\Packages\\PythonSoftwareFoundation.Python.3.12_qbz5n2kfra8p0\\LocalCache\\local-packages\\Python312\\site-packages\\scipy\\integrate\\_quadpack_py.py:432\u001b[0m, in \u001b[0;36mquad\u001b[1;34m(func, a, b, args, full_output, epsabs, epsrel, limit, points, weight, wvar, wopts, maxp1, limlst, complex_func)\u001b[0m\n\u001b[0;32m    429\u001b[0m     args \u001b[38;5;241m=\u001b[39m (args,)\n\u001b[0;32m    431\u001b[0m \u001b[38;5;66;03m# check the limits of integration: \\int_a^b, expect a < b\u001b[39;00m\n\u001b[1;32m--> 432\u001b[0m flip, a, b \u001b[38;5;241m=\u001b[39m b \u001b[38;5;241m<\u001b[39m a, \u001b[38;5;28;43mmin\u001b[39;49m\u001b[43m(\u001b[49m\u001b[43ma\u001b[49m\u001b[43m,\u001b[49m\u001b[43m \u001b[49m\u001b[43mb\u001b[49m\u001b[43m)\u001b[49m, \u001b[38;5;28mmax\u001b[39m(a, b)\n\u001b[0;32m    434\u001b[0m \u001b[38;5;28;01mif\u001b[39;00m complex_func:\n\u001b[0;32m    435\u001b[0m     \u001b[38;5;28;01mdef\u001b[39;00m \u001b[38;5;21mimfunc\u001b[39m(x, \u001b[38;5;241m*\u001b[39margs):\n",
            "File \u001b[1;32m~\\AppData\\Local\\Packages\\PythonSoftwareFoundation.Python.3.12_qbz5n2kfra8p0\\LocalCache\\local-packages\\Python312\\site-packages\\sympy\\core\\relational.py:516\u001b[0m, in \u001b[0;36mRelational.__bool__\u001b[1;34m(self)\u001b[0m\n\u001b[0;32m    515\u001b[0m \u001b[38;5;28;01mdef\u001b[39;00m \u001b[38;5;21m__bool__\u001b[39m(\u001b[38;5;28mself\u001b[39m):\n\u001b[1;32m--> 516\u001b[0m     \u001b[38;5;28;01mraise\u001b[39;00m \u001b[38;5;167;01mTypeError\u001b[39;00m(\u001b[38;5;124m\"\u001b[39m\u001b[38;5;124mcannot determine truth value of Relational\u001b[39m\u001b[38;5;124m\"\u001b[39m)\n",
            "\u001b[1;31mTypeError\u001b[0m: cannot determine truth value of Relational"
          ]
        }
      ],
      "source": [
        "Iw = quad(integral_w, lim_z(x,y,z)[0], lim_z(x,y,z)[1], args=(x,y,z))"
      ]
    },
    {
      "cell_type": "code",
      "execution_count": 228,
      "metadata": {},
      "outputs": [
        {
          "name": "stdout",
          "output_type": "stream",
          "text": [
            "Resultado de la integral: -0.6500971589021811\n",
            "Error estimado: 1.8391891749223705e-12\n"
          ]
        }
      ],
      "source": [
        "from scipy.integrate import nquad\n",
        "# Definir el integrando\n",
        "integrand = lambda w, z, y, x: x + y + z + w\n",
        "\n",
        "# Definir los límites usando funciones lambda\n",
        "w_limits = lambda z, y, x: [z**2, z+3]\n",
        "z_limits = lambda y, x: [y**2, y+2]\n",
        "y_limits = lambda x: [x**2, x+1]\n",
        "x_limits = lambda: [0, 1]\n",
        "\n",
        "# Calcular la integral usando nquad\n",
        "result, error = nquad(\n",
        "    integrand,\n",
        "    [w_limits, z_limits, y_limits, x_limits]\n",
        ")\n",
        "\n",
        "print(f\"Resultado de la integral: {result}\")\n",
        "print(f\"Error estimado: {error}\")"
      ]
    },
    {
      "cell_type": "markdown",
      "metadata": {
        "id": "ryB1EksIOV_l"
      },
      "source": [
        "# 2\n",
        "\n",
        "**(40 puntos)**\n",
        "Un lazo de corriente de radio $a$  transporta una corriente $I$ en el punto P que está a una distancia $r$ del centro del lazo con coordenadas esféricas (r, θ, φ). Resuelve para la componente φ del potencial vectorial en el punto $P$ en términos de integrales elípticas:\n",
        "\n",
        "\\begin{equation}\n",
        "A_{\\phi}(r, \\theta)=\\frac{\\mu_0}{4\\pi}\\frac{4Ia}{\\sqrt{a^2+r^2+2ar\\sin \\theta}}\\left(\\frac{(2-k^2)K(k)-2E(k)}{k^2} \\right)\n",
        "\\end{equation}\n",
        "\n",
        "donde\n",
        "\n",
        "\\begin{equation}\n",
        "K(k)=\\int_{0}^{\\pi/2} \\frac{\\mathrm{d\\phi}}{\\sqrt{1-k^2\\sin^2\\phi}}\n",
        "\\end{equation}\n",
        "\n",
        "\\begin{equation}\n",
        "E(k)=\\int_{0}^{\\pi/2} \\mathrm{d\\phi} \\sqrt{1-k^2\\sin^2\\phi}\n",
        "\\end{equation}\n",
        "\n",
        "\\begin{equation}\n",
        "k^2=\\frac{4ar\\sin\\theta}{a^2+r^2+2ar\\sin\\theta}\n",
        "\\end{equation}\n",
        "\n",
        "Aquí, $K(k)$ es una integral elíptica completa del primer tipo y $E(k)$ es una integral elíptica completa del segundo tipo.\n",
        "\n",
        "\n",
        "Para\n",
        "* $a$ = 1,\n",
        "* $I$ = 3,\n",
        "* $μ0/4π$ = 1\n",
        "\n",
        "\n",
        "Usando funciones explicitas explique claramente las entradas, salidas y procedimientos dentro de las mismas. Recuerde para resolver las integrales usar `quad` y grafique para:\n",
        "\n",
        "*a)* $A_φ(r = 1.1, θ)$ vs. $0\\leq θ\\leq \\pi$\n",
        "\n",
        "*b)* $A_φ(r, θ = π∕3)$ vs. $0\\leq r \\leq 10$\n",
        "\n",
        "Tenga cuidado con la convergencia de su integral\n",
        "\n"
      ]
    },
    {
      "cell_type": "markdown",
      "metadata": {},
      "source": [
        "Recomendación: **Correr las secciones completas**"
      ]
    },
    {
      "cell_type": "markdown",
      "metadata": {},
      "source": [
        "## a) Para $A_{\\phi}(r=1.1,\\theta)$:"
      ]
    },
    {
      "cell_type": "code",
      "execution_count": 152,
      "metadata": {
        "id": "yGrEqwaNOh_8"
      },
      "outputs": [],
      "source": [
        "a, I , cte = 1, 3, 1"
      ]
    },
    {
      "cell_type": "code",
      "execution_count": 153,
      "metadata": {},
      "outputs": [],
      "source": [
        "r = 1.1\n",
        "theta_values = np.linspace(1e-8, np.pi, 100)"
      ]
    },
    {
      "cell_type": "code",
      "execution_count": 154,
      "metadata": {},
      "outputs": [],
      "source": [
        "fk_2 = lambda theta: (4*a*r*np.sin(theta))/(a**2 + r**2 + 2*a*r*np.sin(theta))\n",
        "k_2values = fk_2(theta_values)\n",
        "#print(k_2values)"
      ]
    },
    {
      "cell_type": "code",
      "execution_count": 155,
      "metadata": {},
      "outputs": [],
      "source": [
        "def K(k):\n",
        "    K_prima = lambda phi: 1/(1-k*np.sin(phi))\n",
        "    IK = quad(K_prima, 0 , np.pi/2)[0]\n",
        "    return IK"
      ]
    },
    {
      "cell_type": "code",
      "execution_count": 156,
      "metadata": {},
      "outputs": [],
      "source": [
        "integral_K = np.zeros_like(k_2values)\n",
        "for i, k_ in enumerate (k_2values):\n",
        "    integral_K[i] = K(k_)\n"
      ]
    },
    {
      "cell_type": "code",
      "execution_count": 157,
      "metadata": {},
      "outputs": [],
      "source": [
        "def E(k):\n",
        "    E_prima = lambda phi: 1-k*np.sin(phi)\n",
        "    IE = quad(E_prima, 0 , np.pi/2)[0]\n",
        "    return IE"
      ]
    },
    {
      "cell_type": "code",
      "execution_count": 158,
      "metadata": {},
      "outputs": [],
      "source": [
        "integral_E = np.zeros_like(k_2values)\n",
        "for j, k_ in enumerate(k_2values):\n",
        "    integral_E[j] = E(k_)"
      ]
    },
    {
      "cell_type": "markdown",
      "metadata": {},
      "source": [
        "\\begin{equation}\n",
        "A_{\\phi}(r, \\theta)=\\frac{\\mu_0}{4\\pi}\\frac{4Ia}{\\sqrt{a^2+r^2+2ar\\sin \\theta}}\\left(\\frac{(2-k^2)K(k)-2E(k)}{k^2} \\right)\n",
        "\\end{equation}"
      ]
    },
    {
      "cell_type": "code",
      "execution_count": 159,
      "metadata": {},
      "outputs": [],
      "source": [
        "def A_phi(a, r, I, cte, theta2, k2,  K_, E_):\n",
        "    A = cte*((4*I*a)/np.sqrt(a**2 + r**2 + 2*a*r*np.sin(theta2))) * (((2-k2)*K_ - 2*E_)/k2)\n",
        "    return A"
      ]
    },
    {
      "cell_type": "code",
      "execution_count": 160,
      "metadata": {},
      "outputs": [
        {
          "data": {
            "image/png": "[encoded data removed]",
            "text/plain": [
              "<Figure size 640x480 with 1 Axes>"
            ]
          },
          "metadata": {},
          "output_type": "display_data"
        }
      ],
      "source": [
        "A_ = A_phi(a, r, I, cte, theta_values, k_2values, integral_K, integral_E)\n",
        "\n",
        "plt.plot(theta_values, A_, 'b-.', label=r'$A_{\\phi}(r=1.1, \\theta)$')\n",
        "plt.title(r'Potencial vectorial en el punto P de un lazo circular, variando $\\theta$:')\n",
        "plt.legend()\n",
        "plt.grid()\n",
        "plt.xlabel(r'$\\theta$')\n",
        "plt.ylabel(r'$A_{\\phi}(r=1.1, \\theta)$')\n",
        "plt.show()"
      ]
    },
    {
      "cell_type": "markdown",
      "metadata": {},
      "source": [
        "## b) Para $A_{\\phi}(r,\\theta = \\pi /3)$"
      ]
    },
    {
      "cell_type": "code",
      "execution_count": 161,
      "metadata": {},
      "outputs": [],
      "source": [
        "a, I , cte, theta = 1, 3, 1, np.pi/3"
      ]
    },
    {
      "cell_type": "code",
      "execution_count": 162,
      "metadata": {},
      "outputs": [],
      "source": [
        "r_values = np.linspace(1e-5, 10, 100)\n",
        "\n",
        "fk_2 = lambda r: (4*a*r*np.sin(theta))/(a**2 + r**2 + 2*a*r*np.sin(theta))\n",
        "k_2values = fk_2(r_values)\n",
        "#print(k_2values)"
      ]
    },
    {
      "cell_type": "code",
      "execution_count": 163,
      "metadata": {},
      "outputs": [],
      "source": [
        "def K(k):\n",
        "    K_prima = lambda phi: 1/(1-k*np.sin(phi))\n",
        "    IK = quad(K_prima, 0 , np.pi/2)[0]\n",
        "    return IK"
      ]
    },
    {
      "cell_type": "code",
      "execution_count": 164,
      "metadata": {},
      "outputs": [],
      "source": [
        "integral_K = np.zeros_like(k_2values)\n",
        "for i, k_ in enumerate (k_2values):\n",
        "    integral_K[i] = K(k_)"
      ]
    },
    {
      "cell_type": "code",
      "execution_count": 165,
      "metadata": {},
      "outputs": [],
      "source": [
        "def E(k):\n",
        "    E_prima = lambda phi: 1-k*np.sin(phi)\n",
        "    IE = quad(E_prima, 0 , np.pi/2)[0]\n",
        "    return IE"
      ]
    },
    {
      "cell_type": "code",
      "execution_count": 166,
      "metadata": {},
      "outputs": [],
      "source": [
        "integral_E = np.zeros_like(k_2values)\n",
        "for j, k_ in enumerate(k_2values):\n",
        "    integral_E[j] = E(k_)\n",
        "\n",
        "#integral_E"
      ]
    },
    {
      "cell_type": "markdown",
      "metadata": {},
      "source": [
        "\\begin{equation}\n",
        "A_{\\phi}(r, \\theta)=\\frac{\\mu_0}{4\\pi}\\frac{4Ia}{\\sqrt{a^2+r^2+2ar\\sin \\theta}}\\left(\\frac{(2-k^2)K(k)-2E(k)}{k^2} \\right)\n",
        "\\end{equation}"
      ]
    },
    {
      "cell_type": "code",
      "execution_count": 167,
      "metadata": {},
      "outputs": [],
      "source": [
        "def A_phi(a, r, I, cte, theta2, k2,  K_, E_):\n",
        "    A = cte*((4*I*a)/np.sqrt(a**2 + r**2 + 2*a*r*np.sin(theta2))) * (((2-k2)*K_ - 2*E_)/k2)\n",
        "    return A"
      ]
    },
    {
      "cell_type": "code",
      "execution_count": 168,
      "metadata": {},
      "outputs": [
        {
          "data": {
            "image/png": "[encoded data removed]",
            "text/plain": [
              "<Figure size 640x480 with 1 Axes>"
            ]
          },
          "metadata": {},
          "output_type": "display_data"
        }
      ],
      "source": [
        "A_ = A_phi(a, r_values, I, cte, theta, k_2values, integral_K, integral_E)\n",
        "\n",
        "plt.plot(r_values, A_, 'r-.', label=r'$A_{\\phi}(r, \\theta = \\pi/3)$')\n",
        "plt.title('Potencial vectorial en el punto P de un lazo circular, variando el radio:')\n",
        "plt.legend()\n",
        "plt.grid()\n",
        "plt.xlabel(r'$r$')\n",
        "plt.ylabel(r'$A_{\\phi}(r, \\theta = \\pi/3)$')\n",
        "plt.show()"
      ]
    },
    {
      "cell_type": "markdown",
      "metadata": {
        "id": "pKubcNlWP0nc"
      },
      "source": [
        "# 3\n",
        "\n",
        "(**40 puntos**) El **método de la potencia inversa** es una técnica iterativa utilizada para calcular el autovalor de menor magnitud de una matriz cuadrada. Es una variante del **método de la potencia**, que normalmente encuentra el autovalor de mayor magnitud. Para ello, se aprovecha la propiedad de la matriz inversa:\n",
        "\n",
        "$$ A^{-1} v = \\frac{1}{\\lambda} v $$\n",
        "\n",
        "\n",
        "## Algoritmo\n",
        "\n",
        "El método de la potencia inversa sigue los siguientes pasos:\n",
        "\n",
        "1. Elegir un vector inicial $x^{(0)}$ no nulo.\n",
        "\n",
        "2. Para cada iteración $k$, resolver el sistema lineal:\n",
        "   \n",
        "   $$ A y^{(k)} = x^{(k-1)} $$\n",
        "   \n",
        "   donde $y^{(k)}$ es un **vector intermedio** que se obtiene resolviendo el sistema lineal. Este vector representa la solución del sistema en cada iteración y es crucial para aproximar el autovector de menor autovalor.\n",
        "\n",
        "3. Normalizar $y^{(k)}$ para obtener un nuevo vector de iteración:\n",
        "   \n",
        "   $$ x^{(k)} = \\frac{y^{(k)}}{\\| y^{(k)} \\|} $$\n",
        "   \n",
        "4. Aproximar el autovalor mediante el cociente de Rayleigh:\n",
        "   \n",
        "   $$ \\lambda^{(k)} = \\frac{(x^{(k)})^T A x^{(k)}}{(x^{(k)})^T x^{(k)}} $$\n",
        "   \n",
        "5. Repetir los pasos anteriores hasta que la diferencia entre valores sucesivos de $\\lambda$ sea menor que un umbral de tolerancia.\n",
        "\n",
        "---\n",
        "\n",
        "*a)* Escriba una función llamada `potencia_inversa` que dada una matriz A encuentre su valor propio menos dominante (con una tolerancia de 1e-7 usando la norma Euclidiana) y su correspondiente autovector. Para obtener $y^{(k)}$ puede emplear `np.linalg.solve` recordando que $Ay = x$.\n",
        "\n",
        "*b)* Usando la matriz A, encuentre el $\\lambda_{min}$ y el correspondiente autovector. Examine la convergencia de su autovalor en función de las iteraciones, esto es, haga un gráfico de $\\lambda(k)$\n",
        "\n",
        "$$\n",
        "\\begin{bmatrix}\n",
        "5 & 2 \\\\\n",
        "2 & 2\n",
        "\\end{bmatrix}\n",
        "$$\n",
        "\n",
        "*c)* Compare su resultado con `np.linalg.eig`"
      ]
    },
    {
      "cell_type": "markdown",
      "metadata": {},
      "source": [
        "## a) Función potencia_inversa:"
      ]
    },
    {
      "cell_type": "code",
      "execution_count": null,
      "metadata": {
        "id": "ZhnTbHAgP4XJ"
      },
      "outputs": [],
      "source": [
        "def potencia_inversa(A, tol=1e-7, max_iter=100):\n",
        "    n = np.shape(A)[0]\n",
        "    x = np.ones(n)\n",
        "    l0 = 0\n",
        "    for k in range(max_iter):\n",
        "        y = np.linalg.solve(A,x)\n",
        "        x_new = y/np.linalg.norm(y)\n",
        "        l = (x_new @ A @ x_new)/np.dot(x_new, x_new)\n",
        "        if abs(l - l0) < tol:\n",
        "            print(f'Converge luego de {k+1} iteraciones.')\n",
        "            return y, l\n",
        "        x = x_new\n",
        "        l0 = l\n",
        "    print(f'Luego de {max_iter} no hubo convergencia:')\n",
        "    return y, l"
      ]
    },
    {
      "cell_type": "markdown",
      "metadata": {},
      "source": [
        "## b y c) Comparando con la matriz $A$ y np.linalg.eig:"
      ]
    },
    {
      "cell_type": "code",
      "execution_count": 3,
      "metadata": {},
      "outputs": [
        {
          "ename": "NameError",
          "evalue": "name 'np' is not defined",
          "output_type": "error",
          "traceback": [
            "\u001b[1;31m---------------------------------------------------------------------------\u001b[0m",
            "\u001b[1;31mNameError\u001b[0m                                 Traceback (most recent call last)",
            "Cell \u001b[1;32mIn[3], line 1\u001b[0m\n\u001b[1;32m----> 1\u001b[0m A \u001b[38;5;241m=\u001b[39m \u001b[43mnp\u001b[49m\u001b[38;5;241m.\u001b[39marray([\n\u001b[0;32m      2\u001b[0m     [\u001b[38;5;241m5\u001b[39m,\u001b[38;5;241m2\u001b[39m],\n\u001b[0;32m      3\u001b[0m     [\u001b[38;5;241m2\u001b[39m,\u001b[38;5;241m2\u001b[39m]\n\u001b[0;32m      4\u001b[0m     ])\n\u001b[0;32m      6\u001b[0m y, l \u001b[38;5;241m=\u001b[39m potencia_inversa(A)\n\u001b[0;32m      7\u001b[0m \u001b[38;5;28mprint\u001b[39m(\u001b[38;5;124mf\u001b[39m\u001b[38;5;124m'\u001b[39m\u001b[38;5;124mAutovalor por la función: \u001b[39m\u001b[38;5;132;01m{\u001b[39;00ml\u001b[38;5;132;01m}\u001b[39;00m\u001b[38;5;124m'\u001b[39m)\n",
            "\u001b[1;31mNameError\u001b[0m: name 'np' is not defined"
          ]
        }
      ],
      "source": [
        "A = np.array([\n",
        "    [5,2],\n",
        "    [2,2]\n",
        "    ])\n",
        "\n",
        "y, l = potencia_inversa(A)\n",
        "print(f'Autovalor por la función: {l}')\n",
        "\n",
        "l_, v_ = np.linalg.eig(A)\n",
        "print(f'Autovalores por numpy: {l_}')"
      ]
    },
    {
      "cell_type": "markdown",
      "metadata": {
        "id": "Qz8QJCjWYds5"
      },
      "source": [
        "# 4\n",
        "\n",
        "**(10 puntos)**\n",
        "Sea $A$ una matriz cuadrada de tamaño $n \\times n$. Se sabe que el determinante de una matriz es igual al producto de sus autovalores:\n",
        "\n",
        "$$\n",
        "\\det(A) = \\prod_{i=1}^{n} \\lambda_i\n",
        "$$\n",
        "\n",
        "donde $\\lambda_1, \\lambda_2, \\dots, \\lambda_n$ son los autovalores de $A$.\n",
        "\n",
        "Usando una matriz aleatoria $A$ de $5\\times 5$, demuestre esta propiedad. Puede usar las funciones de `np.linalg`."
      ]
    },
    {
      "cell_type": "code",
      "execution_count": 273,
      "metadata": {},
      "outputs": [],
      "source": [
        "def det_autovalores(valores):\n",
        "    det_A = 1\n",
        "    for i in range(len(valores)):\n",
        "        det_A *= valores[i]\n",
        "    return det_A"
      ]
    },
    {
      "cell_type": "code",
      "execution_count": 275,
      "metadata": {
        "id": "TCWf5TUwYgKq"
      },
      "outputs": [
        {
          "name": "stdout",
          "output_type": "stream",
          "text": [
            "[25.04766181+0.j          0.23043296+2.02089309j  0.23043296-2.02089309j\n",
            " -1.75426387+2.17697342j -1.75426387-2.17697342j]\n",
            "Determinante por fórmula:\n",
            "(810.0000000000009+0j)\n",
            "Determinanete por numpy:\n",
            "809.9999999999998\n"
          ]
        }
      ],
      "source": [
        "n = 5\n",
        "#a = np.random.randint(1,10)\n",
        "A = np.random.randint(10, size=(n,n))\n",
        "\n",
        "#print(A)\n",
        "autovalores, autovectores = np.linalg.eig(A)\n",
        "print(autovalores)\n",
        "\n",
        "u = det_autovalores(autovalores)\n",
        "print('Determinante por fórmula:')\n",
        "print(u)\n",
        "\n",
        "\n",
        "print('Determinanete por numpy:')\n",
        "det_np = np.linalg.det(A)\n",
        "print(det_np)"
      ]
    }
  ],
  "metadata": {
    "colab": {
      "provenance": []
    },
    "kernelspec": {
      "display_name": "Python 3",
      "name": "python3"
    },
    "language_info": {
      "codemirror_mode": {
        "name": "ipython",
        "version": 3
      },
      "file_extension": ".py",
      "mimetype": "text/x-python",
      "name": "python",
      "nbconvert_exporter": "python",
      "pygments_lexer": "ipython3",
      "version": "3.12.9"
    }
  },
  "nbformat": 4,
  "nbformat_minor": 0
}
