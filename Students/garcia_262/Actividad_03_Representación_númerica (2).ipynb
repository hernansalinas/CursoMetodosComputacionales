{
  "cells": [
    {
      "cell_type": "code",
      "execution_count": null,
      "metadata": {
        "cellView": "form",
        "id": "rZuc8vXcWuxy"
      },
      "outputs": [],
      "source": [
        "#@title Librerias\n",
        "import numpy as np\n",
        "import matplotlib.pyplot as plt\n",
        "import pandas as pd"
      ]
    },
    {
      "cell_type": "markdown",
      "metadata": {
        "id": "MGwGfceuWxy3"
      },
      "source": [
        "# Actividad 03: Representación númerica\n",
        "\n",
        "---\n",
        "### Profesor: Juan Marcos Marín\n",
        "### Nombre: ______\n",
        "*Métodos computacionales 2024-II*\n",
        "\n",
        "---"
      ]
    },
    {
      "cell_type": "markdown",
      "metadata": {
        "id": "jB6BqzoSamB0"
      },
      "source": [
        "**NOTA: No utilizar los métodos `bin` o `int`**"
      ]
    },
    {
      "cell_type": "markdown",
      "metadata": {
        "id": "BOi6yQmJW7os"
      },
      "source": [
        "1. Escriba una función que se llame `mybin` que reciba un número entero real de 16 bits y realice su conversión en código binario, compare su resultado con `bin(4321)`"
      ]
    },
    {
      "cell_type": "code",
      "execution_count": null,
      "metadata": {
        "id": "xbt3ZmYiW6oF"
      },
      "outputs": [],
      "source": [
        "# Aqui va su código\n",
        "def mybin(n):\n",
        "    if n == 0:\n",
        "        return '0'\n",
        "    binario = ''\n",
        "\n",
        "    if n < 0:\n",
        "      n = abs(n)\n",
        "      while n > 0:\n",
        "        residuo = n % 2\n",
        "        binario = str(residuo) + binario  # Prepend (agregar al inicio)\n",
        "        n //= 2  # Dividir entre 2 (usar división entera)\n",
        "      return '-0b' + binario\n",
        "\n",
        "    while n > 0:\n",
        "        residuo = n % 2\n",
        "        binario = str(residuo) + binario  # Prepend (agregar al inicio)\n",
        "        n //= 2  # Dividir entre 2 (usar división entera)\n",
        "\n",
        "    return '0b'+ binario"
      ]
    },
    {
      "cell_type": "code",
      "source": [
        "print(mybin(4321))\n",
        "print(bin(4321))"
      ],
      "metadata": {
        "colab": {
          "base_uri": "https://localhost:8080/"
        },
        "id": "xHS1S-LDxs6g",
        "outputId": "281ff392-3565-40e5-9921-a205dc5c1d19"
      },
      "execution_count": null,
      "outputs": [
        {
          "output_type": "stream",
          "name": "stdout",
          "text": [
            "-0b1000011100001\n",
            "-0b1000011100001\n"
          ]
        }
      ]
    },
    {
      "cell_type": "markdown",
      "metadata": {
        "id": "5X_8-jpEXjSw"
      },
      "source": [
        "2. Cree una función llamada `myint` pero que a partir de un número binario con base de 16 bits encuentre el entero correspondiente. Compare su resultado con `int(0b1000011100001)`"
      ]
    },
    {
      "cell_type": "code",
      "execution_count": 12,
      "metadata": {
        "id": "VmS2TiF4XsbN"
      },
      "outputs": [],
      "source": [
        "# Aqui va su código\n",
        "def myint(binario):\n",
        "    if binario.startswith('-0b'):\n",
        "        is_negative = True\n",
        "        binario = binario[3:]\n",
        "    elif binario.startswith('0b'):\n",
        "        is_negative = False\n",
        "        binario = binario[2:]\n",
        "    else:\n",
        "        raise ValueError(\"El número debe estar en formato binario con prefijo '0b' o '-0b'y en string\")\n",
        "\n",
        "    integer_value = 0\n",
        "    for i, digit in enumerate(reversed(binario)):\n",
        "        if digit == '1':\n",
        "            integer_value += 2 ** i\n",
        "    if is_negative:\n",
        "        integer_value = -integer_value\n",
        "\n",
        "    return integer_value\n"
      ]
    },
    {
      "cell_type": "code",
      "source": [
        "def inty(binario):\n",
        "    binario = str(binario) #Hay un problema que hace que se cambie directamente\n",
        "    return binario\n",
        "print(inty(0b1000011100001))"
      ],
      "metadata": {
        "colab": {
          "base_uri": "https://localhost:8080/"
        },
        "id": "vUhxuGOz4sl_",
        "outputId": "96148f7d-3bf6-4103-e8cc-022165a17a5a"
      },
      "execution_count": null,
      "outputs": [
        {
          "output_type": "stream",
          "name": "stdout",
          "text": [
            "4321\n"
          ]
        }
      ]
    },
    {
      "cell_type": "code",
      "source": [
        "myint('-0b1000011100001')"
      ],
      "metadata": {
        "colab": {
          "base_uri": "https://localhost:8080/"
        },
        "id": "cSUWST_30w8s",
        "outputId": "83e709cc-6295-46d9-9f9d-30554896bfc8"
      },
      "execution_count": null,
      "outputs": [
        {
          "output_type": "execute_result",
          "data": {
            "text/plain": [
              "-4321"
            ]
          },
          "metadata": {},
          "execution_count": 52
        }
      ]
    },
    {
      "cell_type": "markdown",
      "metadata": {
        "id": "pHQ8ftloYPO5"
      },
      "source": [
        "3. Generar una función llamada `number64` para flotantes de precisión doble (64bits) donde a partir de un número binario encuentre el valor real. Compruebe su solución usando\n",
        "\n",
        "```\n",
        "number64(\"0100000000111011100100001111111111111111111111111111111111111111\")\n",
        "```\n",
        "\n"
      ]
    },
    {
      "cell_type": "code",
      "source": [
        "number64(\"0100000000111011100100001111111111111111111111111111111111111111\")"
      ],
      "metadata": {
        "colab": {
          "base_uri": "https://localhost:8080/"
        },
        "id": "QFj4GeIFRd09",
        "outputId": "e6d49880-d149-4f0b-dd7c-b8822c29059c"
      },
      "execution_count": 15,
      "outputs": [
        {
          "output_type": "execute_result",
          "data": {
            "text/plain": [
              "27.566406249999996"
            ]
          },
          "metadata": {},
          "execution_count": 15
        }
      ]
    },
    {
      "cell_type": "code",
      "source": [
        "def binary_to_decimal(binary_str):\n",
        "    decimal_value = 0\n",
        "    for bit in binary_str:\n",
        "        decimal_value = decimal_value * 2 + (1 if bit == '1' else 0)\n",
        "    return decimal_value\n",
        "\n",
        "def number64(binary_str):\n",
        "    if len(binary_str) != 64:\n",
        "        raise ValueError(\"La cadena debe contener exactamente 64 bits.\")\n",
        "\n",
        "    signo = 1 if binary_str[0] == '1' else 0\n",
        "    exponente = binary_to_decimal(binary_str[1:12])\n",
        "    mantisa_bits = binary_str[12:]\n",
        "\n",
        "    exponente_real = exponente - 1023\n",
        "\n",
        "    mantisa_real = 1.0\n",
        "    for i, bit in enumerate(mantisa_bits):\n",
        "        if bit == '1':\n",
        "            mantisa_real += 2**(-(i + 1))\n",
        "\n",
        "    valor_real = (-1)**signo * mantisa_real * 2**exponente_real\n",
        "\n",
        "    return valor_real"
      ],
      "metadata": {
        "id": "jvAICy7iRaSi"
      },
      "execution_count": 14,
      "outputs": []
    },
    {
      "cell_type": "markdown",
      "metadata": {
        "id": "xwyZCxWtZZoH"
      },
      "source": [
        "4. ***(Opcional)*** Escriba una función que convierta un número con base de 8 bits en hexadecimal, compruebe su respuesta con `hex` e imprimalo también en binario."
      ]
    },
    {
      "cell_type": "code",
      "execution_count": null,
      "metadata": {
        "id": "SpJuueSgbJ4I"
      },
      "outputs": [],
      "source": [
        "# Aqui va su código\n"
      ]
    }
  ],
  "metadata": {
    "colab": {
      "provenance": []
    },
    "kernelspec": {
      "display_name": "Python 3",
      "name": "python3"
    },
    "language_info": {
      "name": "python"
    }
  },
  "nbformat": 4,
  "nbformat_minor": 0
}