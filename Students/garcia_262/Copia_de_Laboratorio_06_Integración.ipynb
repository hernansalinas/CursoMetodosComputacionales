{
  "nbformat": 4,
  "nbformat_minor": 0,
  "metadata": {
    "colab": {
      "provenance": []
    },
    "kernelspec": {
      "name": "python3",
      "display_name": "Python 3"
    },
    "language_info": {
      "name": "python"
    }
  },
  "cells": [
    {
      "cell_type": "code",
      "execution_count": null,
      "metadata": {
        "id": "rZuc8vXcWuxy"
      },
      "outputs": [],
      "source": [
        "#@title Librerias\n",
        "import numpy as np\n",
        "import matplotlib.pyplot as plt\n",
        "import sympy as sp\n",
        "from scipy.integrate import trapezoid, simpson, romberg, quad, dblquad\n",
        "from sympy import integrate, symbols, sin, exp"
      ]
    },
    {
      "cell_type": "markdown",
      "source": [
        "# Laboratorio 06: Integración\n",
        "\n",
        "---\n",
        "### Profesor: Juan Marcos Marín\n",
        "### Nombre: ______\n",
        "*Métodos computacionales 2024-II*\n",
        "\n",
        "---"
      ],
      "metadata": {
        "id": "MGwGfceuWxy3"
      }
    },
    {
      "cell_type": "markdown",
      "source": [
        "#1\n",
        "\n",
        "Usando los métodos trapezoidal, Simpson y cuadratura encuentre el valor de las siguientes integrales:\n",
        "\n",
        "---\n",
        "$$\n",
        " \\int_0^{\\pi/2} \\frac{1}{\\sqrt{\\tan x}}\\mathrm{dx}\n",
        " $$\n",
        "\n",
        "----\n",
        "$$\n",
        " \\int_{1}^{\\infty} \\frac{\\cos x}{x^3}\\mathrm{dx}\n",
        " $$\n",
        "\n",
        "\n",
        "----\n",
        "\n",
        "$$\n",
        " \\int_{0}^{\\pi/4} \\int_{0}^{\\sin x} \\frac{1}{\\sqrt{1-y^2}}\\mathrm{dxdy}\n",
        " $$\n",
        "\n",
        "---\n",
        "\n",
        "Garantizando  que el error sea menor a $\\varepsilon=1\\times 10^{-5}$."
      ],
      "metadata": {
        "id": "lK5sACdrm0O1"
      }
    },
    {
      "cell_type": "code",
      "source": [
        "f1 = lambda x: 1/np.sqrt(np.tan(x))\n",
        "\n",
        "a1, b1 = 1e-4, np.pi/2\n",
        "\n",
        "x = np.linspace(a1, b1, 800)\n",
        "\n",
        "y = f1(x)\n",
        "integral_simpson = simpson(y, x=x)\n",
        "integral_trapecio = trapezoid(y, x)\n",
        "print(f\"Metodo simpson desde 0 a pi/2: {integral_simpson}\")\n",
        "print(f\"Metodo trapezoidal desde 0 a pi/2: {integral_trapecio}\")"
      ],
      "metadata": {
        "colab": {
          "base_uri": "https://localhost:8080/"
        },
        "id": "CY4i2VXJ6uwp",
        "outputId": "13f4356f-f76d-41c8-f74f-abb21f08ea9a"
      },
      "execution_count": null,
      "outputs": [
        {
          "output_type": "stream",
          "name": "stdout",
          "text": [
            "Metodo simpson desde 0 a pi/2: 2.2279839306990463\n",
            "Metodo trapezoidal desde 0 a pi/2: 2.2520757829898423\n"
          ]
        }
      ]
    },
    {
      "cell_type": "code",
      "source": [
        "f = lambda x: 1 / np.sqrt(np.tan(x))\n",
        "a, b = 0, np.pi/2\n",
        "integral, error = quad(f, a, b)\n",
        "print(f\"Metodo quadratura desde 0 a pi/2: {integral}\")\n",
        "print(f\"Error estimado: {error}\")"
      ],
      "metadata": {
        "colab": {
          "base_uri": "https://localhost:8080/"
        },
        "id": "K_ucxkxsDcYi",
        "outputId": "6c330f3e-8a97-4976-f44f-b733c867ea98"
      },
      "execution_count": null,
      "outputs": [
        {
          "output_type": "stream",
          "name": "stdout",
          "text": [
            "Metodo quadratura desde 0 a pi/2: 2.2214414690792026\n",
            "Error estimado: 4.1406478246130973e-10\n"
          ]
        }
      ]
    },
    {
      "cell_type": "code",
      "source": [
        "a2, b2 = 1, np.inf\n",
        "f2 = lambda x: np.cos(x)/x**3\n",
        "integral, error = quad(f2, a2, b2)\n",
        "print(f\"Metodo quadratura desde 1 a infinito: {integral}\")\n",
        "print(f\"Error estimado: {error}\")"
      ],
      "metadata": {
        "colab": {
          "base_uri": "https://localhost:8080/"
        },
        "id": "CR1BetxIGsUV",
        "outputId": "3f10321f-241d-4ec9-cdf5-9fe9470987b5"
      },
      "execution_count": null,
      "outputs": [
        {
          "output_type": "stream",
          "name": "stdout",
          "text": [
            "Metodo quadratura desde 1 a infinito: 0.01811792007976691\n",
            "Error estimado: 1.4789016823564538e-06\n"
          ]
        },
        {
          "output_type": "stream",
          "name": "stderr",
          "text": [
            "<ipython-input-5-48d1f905ec80>:3: IntegrationWarning: The maximum number of subdivisions (50) has been achieved.\n",
            "  If increasing the limit yields no improvement it is advised to analyze \n",
            "  the integrand in order to determine the difficulties.  If the position of a \n",
            "  local difficulty can be determined (singularity, discontinuity) one will \n",
            "  probably gain from splitting up the interval and calling the integrator \n",
            "  on the subranges.  Perhaps a special-purpose integrator should be used.\n",
            "  integral, error = quad(f2, a2, b2)\n"
          ]
        }
      ]
    },
    {
      "cell_type": "code",
      "source": [
        "f3 = lambda x, y: 1/np.sqrt(1-y**2)\n",
        "a3, b3 = 0, np.pi/4\n",
        "x3 = np.linspace(a3, b3, 800)\n",
        "gfun = lambda x: 0\n",
        "hfun = lambda x: np.sin(x)\n",
        "integral, error = dblquad(f3, a3, b3, gfun, hfun)\n",
        "print(f\"Metodo quadratura desde 0 a pi/4: {integral}\")\n",
        "print(f\"Error estimado: {error}\")\n"
      ],
      "metadata": {
        "colab": {
          "base_uri": "https://localhost:8080/"
        },
        "id": "ps7lwnfjHpac",
        "outputId": "a0297974-0844-44a8-efbf-2819433cab28"
      },
      "execution_count": null,
      "outputs": [
        {
          "output_type": "stream",
          "name": "stdout",
          "text": [
            "Metodo quadratura desde 0 a pi/4: 0.36033449485443175\n",
            "Error estimado: 2.086185191196123e-11\n"
          ]
        }
      ]
    },
    {
      "cell_type": "markdown",
      "source": [
        "#2\n",
        "\n",
        "El trabajo realizado sobre un objeto es igual a la fuerza por la distancia recorrida en la dirección de la fuerza. Se la velocidad de un objeto en la dirección $x$\n",
        "\n",
        "\\begin{eqnarray}\n",
        "v_x = 4t && 0\\leq t\\leq 5\\\\\n",
        "v_x = 20 + (5-t)^2  && 5\\leq t\\leq 15\n",
        "\\end{eqnarray}\n",
        "\n",
        "donde $v_x$ está en m/s.\n",
        "\n",
        "* Realice un gráfico de la distancia $x$ que recorre el objeto en función del tiempo.\n",
        "\n",
        "* Calcule el valor del trabajo para una fuerza constante $F_x$ de 200 N para todo $t$.\n",
        "\n"
      ],
      "metadata": {
        "id": "kNu-DKuhnA4V"
      }
    },
    {
      "cell_type": "code",
      "source": [
        "#Aquí va su código\n",
        "t = sp.symbols('t')\n",
        "f1 = 4*t\n",
        "f2 = 20 + ((5-t)**2)\n",
        "t1 = np.linspace(0, 5, 100)\n",
        "t2 = np.linspace(5, 15, 100)\n",
        "x1 = integrate(f1)\n",
        "x2 = integrate(f2)\n",
        "print(x2)\n",
        "x1 = sp.lambdify(t, x1)\n",
        "x2 = sp.lambdify(t, x2)\n",
        "print(x2)\n",
        "plt.plot(t1, x1(t1), label='distancia 1')\n",
        "plt.plot(t2, x2(t2)-92, label='Distancia 2') #La linea no era continua\n",
        "plt.legend()\n",
        "plt.show()\n",
        "\n"
      ],
      "metadata": {
        "id": "VRmck9BToFk_",
        "colab": {
          "base_uri": "https://localhost:8080/",
          "height": 465
        },
        "outputId": "0d939d7b-997f-4045-deb4-8d6b3ea83ad2"
      },
      "execution_count": null,
      "outputs": [
        {
          "output_type": "stream",
          "name": "stdout",
          "text": [
            "t**3/3 - 5*t**2 + 45*t\n",
            "<function _lambdifygenerated at 0x7d8ad8a76480>\n"
          ]
        },
        {
          "output_type": "display_data",
          "data": {
            "text/plain": [
              "<Figure size 640x480 with 1 Axes>"
            ],
            "image/png": "[encoded data removed]"
          },
          "metadata": {}
        }
      ]
    },
    {
      "cell_type": "code",
      "source": [
        "plt.plot(t1, 200*(x1(t1)), label='Trabajo 1')\n",
        "plt.plot(t2, 200*(x2(t2)-92), label='Trabajo 2') #\n",
        "plt.legend()\n",
        "plt.show()"
      ],
      "metadata": {
        "colab": {
          "base_uri": "https://localhost:8080/",
          "height": 430
        },
        "id": "GBWSJNBZMB_S",
        "outputId": "14f81118-2012-49f0-fde2-aeb13516438d"
      },
      "execution_count": null,
      "outputs": [
        {
          "output_type": "display_data",
          "data": {
            "text/plain": [
              "<Figure size 640x480 with 1 Axes>"
            ],
            "image/png": "[encoded data removed]"
          },
          "metadata": {}
        }
      ]
    },
    {
      "cell_type": "markdown",
      "source": [
        "#3\n",
        "La cantidad de masa transportada por una tuberia durante un periodo se puede calcular como\n",
        "\n",
        "$$M = \\int_{t_1}^{t_2} Q(t) c(t) \\; dt$$\n",
        "\n",
        "siendo M (masa en mg), $Q(t)$ el caudal y $c(t)$ concentración (mg/m$^3$). Sean las siguientes representaciones funcionales:\n",
        "\n",
        "$$Q(t) = 9 + 5 \\cos^2 (0.4t)$$\n",
        "$$c(t) = 5e^{-0.5 t} + 2 e^{0.15 t}$$\n",
        "\n",
        "Determine la masa transportada entre $t_1 = 2$ y $t_2 = 8 \\mbox{ min}$ usando:\n",
        "\n",
        "* Haga un gráfico del flujo y la concentración en función del tiempo.\n",
        "* Determine el valor de la integral usando el método de integración de Romberg\n",
        "* Compruebe sus resultado usando el método de cuadratura Gaussiana adaptativa `quad`.\n"
      ],
      "metadata": {
        "id": "lj5SUkPyofV-"
      }
    },
    {
      "cell_type": "code",
      "source": [
        "#Aquí va su código\n",
        "Q = lambda t: 9 + 5*np.cos(0.4*t)**2\n",
        "c = lambda t: 5*np.exp(-0.5*t) + 2*np.exp(0.15*t)\n",
        "t = np.linspace(0, 10, 100)\n",
        "plt.plot(t, Q(t), label='Flujo')\n",
        "plt.plot(t, c(t), label='Concentración')\n",
        "plt.legend()\n",
        "plt.show()"
      ],
      "metadata": {
        "id": "-cT9BjrkpF5w",
        "colab": {
          "base_uri": "https://localhost:8080/",
          "height": 430
        },
        "outputId": "c68927f2-2841-4a90-e510-51a249059acc"
      },
      "execution_count": null,
      "outputs": [
        {
          "output_type": "display_data",
          "data": {
            "text/plain": [
              "<Figure size 640x480 with 1 Axes>"
            ],
            "image/png": "[encoded data removed]"
          },
          "metadata": {}
        }
      ]
    },
    {
      "cell_type": "code",
      "source": [
        "M = lambda t: Q(t)*c(t)\n",
        "t1, t2 = 2, 8\n",
        "integral_romberg = romberg(M, t1, t2)\n",
        "print(f\"El valor de la integral es: {integral}\")\n",
        "integral_quad = quad(M, t1, t2)\n",
        "print(f\"El error de romberg respecto a quad es: {abs(integral_quad[0]- integral_romberg + integral_quad[1])}\")\n",
        "\n"
      ],
      "metadata": {
        "colab": {
          "base_uri": "https://localhost:8080/"
        },
        "id": "zhKlWjtyPiuj",
        "outputId": "03f75bfa-a07b-4a10-fe4d-86c22a394fc9"
      },
      "execution_count": null,
      "outputs": [
        {
          "output_type": "stream",
          "name": "stdout",
          "text": [
            "El valor de la integral es: 0.36033449485443175\n",
            "El error de romberg respecto a quad es: 4.184680713743846e-12\n"
          ]
        },
        {
          "output_type": "stream",
          "name": "stderr",
          "text": [
            "<ipython-input-12-63d1e1e4091e>:3: DeprecationWarning: `scipy.integrate.romberg` is deprecated as of SciPy 1.12.0and will be removed in SciPy 1.15.0. Please use`scipy.integrate.quad` instead.\n",
            "  integral_romberg = romberg(M, t1, t2)\n"
          ]
        }
      ]
    },
    {
      "cell_type": "markdown",
      "source": [
        "#4\n",
        "Un péndulo físico en el regimen de pequeñas oscilaciones tiene un periodo de:\n",
        "\n",
        "\\begin{equation}\n",
        "P_0=2\\pi \\sqrt{\\frac{I_0}{mgb}}\n",
        "\\end{equation}\n",
        "\n",
        "Cuando las oscilaciones no son pequeñas, podemos encontrar una expresión para el periodo como sigue:\n",
        "\n",
        "\n",
        "La energia de un péndulo físico viene dada por:\n",
        "\n",
        "\\begin{equation}\n",
        "E=\\frac{I_0\\omega^2}{2}+mgb(1-\\cos \\theta)\n",
        "\\end{equation}\n",
        "\n",
        "En el punto más alejado de su posición de equilibrio, su energía es solo potencial y viene dada por:\n",
        "\n",
        "\\begin{equation}\n",
        "Ep = mgb(1-\\cos \\theta),\n",
        "\\end{equation}\n",
        "\n",
        "Igualando ambas expresiones tenemos que:\n",
        "\n",
        "\\begin{equation}\n",
        "mgb(1-\\cos \\theta)=\\frac{I_0\\omega^2}{2}+mgb(1-\\cos \\theta)\n",
        "\\end{equation}\n",
        "\n",
        "Integrando la ecuación respecto a $\\theta$ y realizando la sustitución:\n",
        "\n",
        "$\\sin \\phi = \\frac{\\sin \\frac{\\theta}{2}}{\\sin \\frac{\\theta_0}{2}}$ y  $k = \\sin \\frac{\\theta_0}{2}$, se puede encontrar  que el periodo de oscilación, viene dado en terminos de  la integral elíptica completa de primera especie:\n",
        "\n",
        "\n",
        "\\begin{equation}\n",
        "P = \\frac{2P_0}{\\pi} \\int _0^{\\pi/2} \\frac{\\mathrm{d\\phi}}{\\sqrt{1-k^2\\sin^2\\phi}}\n",
        "\\end{equation}\n",
        "\n",
        "donde,  $P_0$ es el periodo de las oscilaciones pequeñas.\n",
        "\n",
        "Determinar el periodo de oscilación de un péndulo. Para ello:\n",
        "\n",
        "1. Suponga los párametros iniciales del pendulo.\n",
        "2. Realice una buena planificación del código para calcular la integral.\n",
        "3. Emplee un  método de integracion numérico que conozca.\n",
        "4. Compruebe su solucion con el valor exacto de la integral mostrado en el punto"
      ],
      "metadata": {
        "id": "BZIHHpcmq2HJ"
      }
    },
    {
      "cell_type": "code",
      "source": [
        "#Aquí va su código\n",
        "m = 1.0  # masa\n",
        "g = 9.81  # aceleración de la gravedad\n",
        "b = 1.0  # longitud del péndulo\n",
        "I0 = 0.1  # momento de inercia\n",
        "theta0 = np.radians(30)\n",
        "P0 = 2 * np.pi * np.sqrt(I0 / (m * g * b))\n",
        "k = np.sin(theta0 / 2)\n",
        "f = lambda phi: (2/np.pi)*P0/(np.sqrt(1 - k**2 * np.sin(phi)**2))\n",
        "integral, error = quad(f, 0, np.pi/2)\n",
        "print(f\"El periodo de oscilación es: {integral}\")\n"
      ],
      "metadata": {
        "id": "0x2LE6Qcq7Kb"
      },
      "execution_count": null,
      "outputs": []
    },
    {
      "cell_type": "markdown",
      "source": [
        "#5\n",
        "El departamento de transporte encuentra que la tasa a la cual los autos cruzan un puente puede ser aproximada por la función:\n",
        "\n",
        "\n",
        "\n",
        "$$ f(t) = \\frac{22.8}{3.5 + 7(t - 1.25)^4} $$\n",
        "\n",
        "\n",
        "\n",
        "donde $t = 0 $ a las 4 pm, y se mide en horas, y $ f(t) $ se mide en autos por minuto. Estima el número total de autos que cruzan el puente entre las 4 y las 6 pm. Asegúrate de que tu estimación tenga un error menor al 5% y proporciona evidencia matemática suficiente de tu estimación de error.\n"
      ],
      "metadata": {
        "id": "_Lkr72LS31tm"
      }
    },
    {
      "cell_type": "code",
      "source": [
        "#Aquí va su código\n",
        "f = lambda t: 22.8 / (3.5 + 7 * (t - 1.25)**4)\n",
        "t1, t2 = 0, 240\n",
        "integral, error = quad(f, t1, t2)\n",
        "print(f\"El número total de autos que cruzan el puente entre las 4 y las 6 pm es: {integral}\")\n",
        "print(f\"El error de la estimación es: {error}\")"
      ],
      "metadata": {
        "id": "pvbJlRUO4AQh"
      },
      "execution_count": null,
      "outputs": []
    },
    {
      "cell_type": "markdown",
      "source": [
        "#6\n",
        "Un lazo de corriente de radio $a$  transporta una corriente $I$ en el punto P que está a una distancia $r$ del centro del lazo con coordenadas esféricas (r, θ, φ). Resuelve para la componente φ del potencial vectorial en el punto $P$ en términos de integrales elípticas:\n",
        "\n",
        "\\begin{equation}\n",
        "A_{\\phi}(r, \\theta)=\\frac{\\mu_0}{4\\pi}\\frac{4Ia}{\\sqrt{a^2+r^2+2ar\\sin \\theta}}\\left(\\frac{(2-k^2)K(k)-2E(k)}{k^2} \\right)\n",
        "\\end{equation}\n",
        "\n",
        "donde\n",
        "\n",
        "\\begin{equation}\n",
        "K(k)=\\int_{0}^{\\pi/2} \\frac{\\mathrm{d\\phi}}{\\sqrt{1-k^2\\sin^2\\phi}}\n",
        "\\end{equation}\n",
        "\n",
        "\\begin{equation}\n",
        "E(k)=\\int_{0}^{\\pi/2} \\mathrm{d\\phi} \\sqrt{1-k^2\\sin^2\\phi}\n",
        "\\end{equation}\n",
        "\n",
        "\\begin{equation}\n",
        "k^2=\\frac{4ar\\sin\\theta}{a^2+r^2+2ar\\sin\\theta}\n",
        "\\end{equation}\n",
        "\n",
        "Aquí, $K(k)$ es una integral elíptica completa del primer tipo y $E(k)$ es una integral elíptica completa del segundo tipo. Para $a$ = 1, $I$ = 3, y $μ0∕4π$ = 1, calcular y graficar:\n",
        "\n",
        "a) Aφ(r = 1.1, θ) vs. θ\n",
        "\n",
        "b) Aφ(r, θ = π∕3) vs. r\n"
      ],
      "metadata": {
        "id": "lPPVV59drd2D"
      }
    },
    {
      "cell_type": "code",
      "source": [
        "#Aquí va su código\n",
        "a = 1\n",
        "I = 3\n",
        "miu0_4pi = 1\n",
        "r_values = np.linspace(1.05, 2, 100)\n",
        "theta_values = np.linspace(0, np.pi/2, 100)\n",
        "k2 = lambda r, theta: (4*a*r*np.sin(theta))/(a**2 + r**2 + 2*a*r*np.sin(theta))\n",
        "K_k = lambda k: 1/(np.sqrt(1-k**2*np.sin(k)**2))\n",
        "E_k = lambda k: k*np.sqrt(1-k**2*np.sin(k)**2)"
      ],
      "metadata": {
        "id": "u0O9-MF_rdSp"
      },
      "execution_count": null,
      "outputs": []
    },
    {
      "cell_type": "code",
      "source": [
        "import numpy as np\n",
        "import matplotlib.pyplot as plt\n",
        "from scipy.special import ellipk, ellipe\n",
        "\n",
        "# Parámetros dados\n",
        "a = 1  # radio del lazo de corriente\n",
        "I = 3  # corriente en amperios\n",
        "mu_0_4pi = 1  # constante mu_0 / 4π\n",
        "r_values = np.linspace(1.05, 2, 100)  # valores de r\n",
        "theta_values = np.linspace(0, np.pi/2, 100)  # valores de θ\n",
        "\n",
        "# Función para calcular k^2\n",
        "def calculate_k2(r, theta, a):\n",
        "    return (4 * a * r * np.sin(theta)) / (a**2 + r**2 + 2 * a * r * np.sin(theta))\n",
        "\n",
        "# Función para calcular A_ϕ\n",
        "def A_phi(r, theta, a, I, mu_0_4pi):\n",
        "    k2 = calculate_k2(r, theta, a)\n",
        "    k = np.sqrt(k2)\n",
        "\n",
        "    # Cálculo de las integrales elípticas de primera y segunda especie\n",
        "    K = ellipk(k2)  # K(k)\n",
        "    E = ellipe(k2)  # E(k)\n",
        "\n",
        "    prefactor = (mu_0_4pi * I * (a**2 + r**2 + 2 * a * r * np.sin(theta))**(1/2)) / (a**2 + r**2 + 2 * a * r * np.sin(theta))**(1/2)\n",
        "    A_phi_value = prefactor * ((2 - k2) * K - 2 * E * k2)\n",
        "    return A_phi_value\n",
        "\n",
        "# Graficar A_ϕ(r = 1.1, θ) vs θ\n",
        "r_fixed = 1.1\n",
        "A_phi_values_theta = [A_phi(r_fixed, theta, a, I, mu_0_4pi) for theta in theta_values]\n",
        "\n",
        "plt.figure(figsize=(8, 6))\n",
        "plt.plot(theta_values, A_phi_values_theta, label=r\"$A_\\phi(r=1.1, \\theta)$\")\n",
        "plt.xlabel(r\"$\\theta$\", fontsize=14)\n",
        "plt.ylabel(r\"$A_\\phi$\", fontsize=14)\n",
        "plt.title(r\"Componente $A_\\phi(r = 1.1, \\theta)$ vs $\\theta$\", fontsize=16)\n",
        "plt.grid(True)\n",
        "plt.legend()\n",
        "plt.show()\n",
        "\n",
        "# Graficar A_ϕ(r, θ = π/3) vs r\n",
        "theta_fixed = np.pi / 3\n",
        "A_phi_values_r = [A_phi(r, theta_fixed, a, I, mu_0_4pi) for r in r_values]\n",
        "\n",
        "plt.figure(figsize=(8, 6))\n",
        "plt.plot(r_values, A_phi_values_r, label=r\"$A_\\phi(r, \\theta=\\pi/3)$\")\n",
        "plt.xlabel(r\"$r$\", fontsize=14)\n",
        "plt.ylabel(r\"$A_\\phi$\", fontsize=14)\n",
        "plt.title(r\"Componente $A_\\phi(r, \\theta = \\pi/3)$ vs $r$\", fontsize=16)\n",
        "plt.grid(True)\n",
        "plt.legend()\n",
        "plt.show()"
      ],
      "metadata": {
        "id": "Zn-GBx2MWJwK"
      },
      "execution_count": null,
      "outputs": []
    }
  ]
}