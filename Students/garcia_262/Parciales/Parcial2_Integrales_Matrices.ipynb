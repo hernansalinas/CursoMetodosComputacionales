{
  "nbformat": 4,
  "nbformat_minor": 0,
  "metadata": {
    "colab": {
      "provenance": []
    },
    "kernelspec": {
      "name": "python3",
      "display_name": "Python 3"
    },
    "language_info": {
      "name": "python"
    }
  },
  "cells": [
    {
      "cell_type": "code",
      "execution_count": 66,
      "metadata": {
        "id": "aF61FjHUNGJA"
      },
      "outputs": [],
      "source": [
        "#@title Librerias\n",
        "import numpy as np\n",
        "import numpy.linalg as la\n",
        "import matplotlib.pyplot as plt\n",
        "from scipy.integrate import quad, fixed_quad, trapezoid, simpson, nquad\n",
        "from sympy import symbols, diff, integrate, lambdify"
      ]
    },
    {
      "cell_type": "markdown",
      "source": [
        "# Parcial II - Métodos Computacionales (Integrales y Matrices)\n",
        "**2024-2**\n",
        "\n",
        "---\n",
        "\n",
        "*Nombre:*\n",
        "\n",
        "*Identificación:*\n",
        "\n",
        "---\n",
        "* Sea honest@\n",
        "* El uso de herramientas de IA no está permitido\n",
        "* Puede consultar la documentación de las librerias.\n",
        "* Sea ordendado dando la solución a cada punto.\n",
        "* *Asegurese que el notebook corra completamente*\n",
        "* Suba su notebook al GitHub (en su carpeta) y recuerde hacer pull-request"
      ],
      "metadata": {
        "id": "VqRX_GXcNZOl"
      }
    },
    {
      "cell_type": "markdown",
      "source": [
        "# 1\n",
        "\n",
        "**(20 puntos)**\n",
        "Considera la siguiente integral:\n",
        "\n",
        "$$\n",
        "I = \\int_0^1 \\int_{x^2}^{x+1} \\int_{y^2}^{y+2} \\int_{z^2}^{z+3} (x+y+z+w) \\, dw \\, dz \\, dy \\, dx\n",
        "$$\n",
        "\n",
        "Encuentre la solución númerica usando unicamente `quad`. Encuentre el error relativo, para esto emplee el siguiente código que usa `nquad`:\n",
        "\n",
        "\n",
        "```python\n",
        "# Definir el integrando\n",
        "integrand = lambda w, z, y, x: x + y + z + w\n",
        "\n",
        "# Definir los límites usando funciones lambda\n",
        "w_limits = lambda z, y, x: [z**2, z+3]\n",
        "z_limits = lambda y, x: [y**2, y+2]\n",
        "y_limits = lambda x: [x**2, x+1]\n",
        "x_limits = lambda: [0, 1]\n",
        "\n",
        "# Calcular la integral usando nquad\n",
        "result, error = nquad(\n",
        "    integrand,\n",
        "    [w_limits, z_limits, y_limits, x_limits]\n",
        ")\n",
        "\n",
        "print(f\"Resultado de la integral: {result}\")\n",
        "print(f\"Error estimado: {error}\")\n",
        "```\n",
        "\n"
      ],
      "metadata": {
        "id": "u1OxHrJINZ9c"
      }
    },
    {
      "cell_type": "code",
      "source": [
        "# Aqui va su código\n",
        "# Definir el integrando\n",
        "integrand = lambda w, z, y, x: x + y + z + w\n",
        "\n",
        "# Definir los límites usando funciones lambda\n",
        "w_limits = lambda z, y, x: [z**2, z+3]\n",
        "z_limits = lambda y, x: [y**2, y+2]\n",
        "y_limits = lambda x: [x**2, x+1]\n",
        "x_limits = lambda: [0, 1]\n",
        "\n",
        "# Calcular la integral usando nquad\n",
        "result, error = nquad(    integrand,\n",
        "    [w_limits, z_limits, y_limits, x_limits])\n",
        "\n",
        "\n",
        "print(f\"Resultado de la integral: {result}\")\n",
        "print(f\"Error estimado: {error}\")"
      ],
      "metadata": {
        "id": "cZURwltmOSgu",
        "colab": {
          "base_uri": "https://localhost:8080/"
        },
        "outputId": "00bc07da-40d1-41f5-bf89-4f9a9cc8490d"
      },
      "execution_count": 67,
      "outputs": [
        {
          "output_type": "stream",
          "name": "stdout",
          "text": [
            "Resultado de la integral: -0.6500971589021813\n",
            "Error estimado: 1.8391891749223705e-12\n"
          ]
        }
      ]
    },
    {
      "cell_type": "code",
      "source": [
        "integrand = lambda w, z, y, x: x + y + z + w\n",
        "\n",
        "# Definir los límites\n",
        "w_limits_1 = lambda z, y, x: z**2\n",
        "w_limits_2 = lambda z, y, x: z+3\n",
        "z_limits_1 = lambda y, x: y**2\n",
        "z_limits_2 = lambda y, x: y+2\n",
        "y_limits_1 = lambda x: x**2\n",
        "y_limits_2 = lambda x: x+1\n",
        "\n",
        "# Anidar las integrales correctamente\n",
        "result = quad(\n",
        "    lambda x: quad(\n",
        "        lambda y: quad(\n",
        "            lambda z: quad(\n",
        "                lambda w: integrand(w, z, y, x),\n",
        "                w_limits_1(z, y, x), w_limits_2(z, y, x)\n",
        "            )[0],\n",
        "            z_limits_1(y, x), z_limits_2(y, x)\n",
        "        )[0],\n",
        "        y_limits_1(x), y_limits_2(x)\n",
        "    )[0],\n",
        "    0, 1\n",
        ")\n",
        "resultn_quad = nquad(    integrand,\n",
        "    [w_limits, z_limits, y_limits, x_limits])\n",
        "print(f\"Resultado de la integral nquad: {resultn_quad[0]}\")\n",
        "print(f\"Error estimado nquad: {resultn_quad[1]}\")\n",
        "print(f\"Resultado de la integral: {result[0]}\")\n",
        "print(f\"Error estimado: {result[1]}\")\n",
        "print(f\"Error relativo: {abs(result[0] - resultn_quad[0])}\")"
      ],
      "metadata": {
        "colab": {
          "base_uri": "https://localhost:8080/"
        },
        "id": "ZQw7aUP3U2HN",
        "outputId": "ed41a1aa-e6a6-46d5-c4b8-44040ecfb7fc"
      },
      "execution_count": 68,
      "outputs": [
        {
          "output_type": "stream",
          "name": "stdout",
          "text": [
            "Resultado de la integral nquad: -0.6500971589021813\n",
            "Error estimado nquad: 1.8391891749223705e-12\n",
            "Resultado de la integral: -0.6500971589021813\n",
            "Error estimado: 1.5813253071872154e-13\n",
            "Error relativo: 0.0\n"
          ]
        }
      ]
    },
    {
      "cell_type": "code",
      "source": [
        "result = nquad(    integrand,\n",
        "    [w_limits, z_limits, y_limits, x_limits])\n",
        "result[0]"
      ],
      "metadata": {
        "colab": {
          "base_uri": "https://localhost:8080/"
        },
        "id": "ivUI55x3X0R8",
        "outputId": "10d4fc70-b16a-4742-e588-4a53e9508d8e"
      },
      "execution_count": 69,
      "outputs": [
        {
          "output_type": "execute_result",
          "data": {
            "text/plain": [
              "-0.6500971589021813"
            ]
          },
          "metadata": {},
          "execution_count": 69
        }
      ]
    },
    {
      "cell_type": "markdown",
      "source": [
        "# 2\n",
        "\n",
        "**(40 puntos)**\n",
        "Un lazo de corriente de radio $a$  transporta una corriente $I$ en el punto P que está a una distancia $r$ del centro del lazo con coordenadas esféricas (r, θ, φ). Resuelve para la componente φ del potencial vectorial en el punto $P$ en términos de integrales elípticas:\n",
        "\n",
        "\\begin{equation}\n",
        "A_{\\phi}(r, \\theta)=\\frac{\\mu_0}{4\\pi}\\frac{4Ia}{\\sqrt{a^2+r^2+2ar\\sin \\theta}}\\left(\\frac{(2-k^2)K(k)-2E(k)}{k^2} \\right)\n",
        "\\end{equation}\n",
        "\n",
        "donde\n",
        "\n",
        "\\begin{equation}\n",
        "K(k)=\\int_{0}^{\\pi/2} \\frac{\\mathrm{d\\phi}}{\\sqrt{1-k^2\\sin^2\\phi}}\n",
        "\\end{equation}\n",
        "\n",
        "\\begin{equation}\n",
        "E(k)=\\int_{0}^{\\pi/2} \\mathrm{d\\phi} \\sqrt{1-k^2\\sin^2\\phi}\n",
        "\\end{equation}\n",
        "\n",
        "\\begin{equation}\n",
        "k^2=\\frac{4ar\\sin\\theta}{a^2+r^2+2ar\\sin\\theta}\n",
        "\\end{equation}\n",
        "\n",
        "Aquí, $K(k)$ es una integral elíptica completa del primer tipo y $E(k)$ es una integral elíptica completa del segundo tipo.\n",
        "\n",
        "\n",
        "Para\n",
        "* $a$ = 1,\n",
        "* $I$ = 3,\n",
        "* $μ0/4π$ = 1\n",
        "\n",
        "\n",
        "Usando funciones explicitas explique claramente las entradas, salidas y procedimientos dentro de las mismas. Recuerde para resolver las integrales usar `quad` y grafique para:\n",
        "\n",
        "*a)* $A_φ(r = 1.1, θ)$ vs. $0\\leq θ\\leq \\pi$\n",
        "\n",
        "*b)* $A_φ(r, θ = π∕3)$ vs. $0\\leq r \\leq 10$\n",
        "\n",
        "Tenga cuidado con la convergencia de su integral\n",
        "\n"
      ],
      "metadata": {
        "id": "ryB1EksIOV_l"
      }
    },
    {
      "cell_type": "code",
      "source": [
        "a = 1\n",
        "I = 3\n",
        "mu = 1\n",
        "\n",
        "def k_square(r, theta):\n",
        "    return (4 * r * np.sin(theta)) / (1 + r**2 + 2 * r * np.sin(theta))\n",
        "\n",
        "def k_k(r, theta):\n",
        "    k_sq = k_square(r, theta)\n",
        "    integrand = lambda x: 1 / np.sqrt(1 - k_sq * (np.sin(x)**2))\n",
        "    return quad(integrand, 0, np.pi/2)[0]\n",
        "\n",
        "def E_k(r, theta):\n",
        "    k_sq = k_square(r, theta)\n",
        "    integrand = lambda x: np.sqrt(1 - k_sq * (np.sin(x)**2))\n",
        "    return quad(integrand, 0, np.pi/2)[0]\n",
        "\n",
        "def A_r_theta(r, theta):\n",
        "    k_sq = k_square(r, theta)\n",
        "    K = k_k(r, theta)\n",
        "    E = E_k(r, theta)\n",
        "    numerator = (2 - k_sq) * K - 2 * E\n",
        "    return mu * ((4 * I * a) / (a**2 + r**2 + 2 * a * r * np.sin(theta))) * (numerator / k_sq)\n",
        "\n"
      ],
      "metadata": {
        "id": "o4XQTbhYW9ai"
      },
      "execution_count": 70,
      "outputs": []
    },
    {
      "cell_type": "code",
      "source": [
        "# Graficar A(r, theta)\n",
        "r = 1.1\n",
        "theta = np.linspace(0, np.pi/2, 100)\n",
        "A_values = np.array([A_r_theta(r, t) for t in theta])\n",
        "\n",
        "plt.plot(theta, A_values)\n",
        "plt.xlabel('Theta (rad)')\n",
        "plt.ylabel('A(r, theta)')\n",
        "plt.title('Gráfico de A(r, theta)')\n",
        "plt.show()"
      ],
      "metadata": {
        "colab": {
          "base_uri": "https://localhost:8080/",
          "height": 508
        },
        "id": "lcIkByslXHXB",
        "outputId": "f4edfbe4-f5ec-4743-987c-eba136c71110"
      },
      "execution_count": 71,
      "outputs": [
        {
          "output_type": "stream",
          "name": "stderr",
          "text": [
            "<ipython-input-70-66c72d54cf95>:23: RuntimeWarning: invalid value encountered in scalar divide\n",
            "  return mu * ((4 * I * a) / (a**2 + r**2 + 2 * a * r * np.sin(theta))) * (numerator / k_sq)\n"
          ]
        },
        {
          "output_type": "display_data",
          "data": {
            "text/plain": [
              "<Figure size 640x480 with 1 Axes>"
            ],
            "image/png": "[encoded data removed]"
          },
          "metadata": {}
        }
      ]
    },
    {
      "cell_type": "code",
      "source": [
        "# Graficar A(r, theta)\n",
        "r_values = np.linspace(0, 10, 100)\n",
        "theta = np.pi/3\n",
        "A_values = np.array([A_r_theta(t, theta) for t in r_values])\n",
        "\n",
        "plt.plot(r_values, A_values)\n",
        "plt.xlabel('r (m)')\n",
        "plt.ylabel('A(r, theta)')\n",
        "plt.title('Gráfico de A(r, theta)')\n",
        "plt.show()"
      ],
      "metadata": {
        "colab": {
          "base_uri": "https://localhost:8080/",
          "height": 508
        },
        "id": "SPzjGj-vXI8p",
        "outputId": "b2d35d3a-05c1-4795-894c-fc45aa989b2f"
      },
      "execution_count": 72,
      "outputs": [
        {
          "output_type": "stream",
          "name": "stderr",
          "text": [
            "<ipython-input-70-66c72d54cf95>:23: RuntimeWarning: invalid value encountered in scalar divide\n",
            "  return mu * ((4 * I * a) / (a**2 + r**2 + 2 * a * r * np.sin(theta))) * (numerator / k_sq)\n"
          ]
        },
        {
          "output_type": "display_data",
          "data": {
            "text/plain": [
              "<Figure size 640x480 with 1 Axes>"
            ],
            "image/png": "[encoded data removed]"
          },
          "metadata": {}
        }
      ]
    },
    {
      "cell_type": "markdown",
      "source": [
        "# 3\n",
        "\n",
        "(**40 puntos**) El **método de la potencia inversa** es una técnica iterativa utilizada para calcular el autovalor de menor magnitud de una matriz cuadrada. Es una variante del **método de la potencia**, que normalmente encuentra el autovalor de mayor magnitud. Para ello, se aprovecha la propiedad de la matriz inversa:\n",
        "\n",
        "$$ A^{-1} v = \\frac{1}{\\lambda} v $$\n",
        "\n",
        "\n",
        "## Algoritmo\n",
        "\n",
        "El método de la potencia inversa sigue los siguientes pasos:\n",
        "\n",
        "1. Elegir un vector inicial $x^{(0)}$ no nulo.\n",
        "\n",
        "2. Para cada iteración $k$, resolver el sistema lineal:\n",
        "   \n",
        "   $$ A y^{(k)} = x^{(k-1)} $$\n",
        "   \n",
        "   donde $y^{(k)}$ es un **vector intermedio** que se obtiene resolviendo el sistema lineal. Este vector representa la solución del sistema en cada iteración y es crucial para aproximar el autovector de menor autovalor.\n",
        "\n",
        "3. Normalizar $y^{(k)}$ para obtener un nuevo vector de iteración:\n",
        "   \n",
        "   $$ x^{(k)} = \\frac{y^{(k)}}{\\| y^{(k)} \\|} $$\n",
        "   \n",
        "4. Aproximar el autovalor mediante el cociente de Rayleigh:\n",
        "   \n",
        "   $$ \\lambda^{(k)} = \\frac{(x^{(k)})^T A x^{(k)}}{(x^{(k)})^T x^{(k)}} $$\n",
        "   \n",
        "5. Repetir los pasos anteriores hasta que la diferencia entre valores sucesivos de $\\lambda$ sea menor que un umbral de tolerancia.\n",
        "\n",
        "---\n",
        "\n",
        "*a)* Escriba una función llamada `potencia_inversa` que dada una matriz A encuentre su valor propio menos dominante (con una tolerancia de 1e-7 usando la norma Euclidiana) y su correspondiente autovector. Para obtener $y^{(k)}$ puede emplear `np.linalg.solve` recordando que $Ay = x$.\n",
        "\n",
        "*b)* Usando la matriz A, encuentre el $\\lambda_{min}$ y el correspondiente autovector. Examine la convergencia de su autovalor en función de las iteraciones, esto es, haga un gráfico de $\\lambda(k)$\n",
        "\n",
        "$$\n",
        "\\begin{bmatrix}\n",
        "5 & 2 \\\\\n",
        "2 & 2\n",
        "\\end{bmatrix}\n",
        "$$\n",
        "\n",
        "*c)* Compare su resultado con `np.linalg.eig`"
      ],
      "metadata": {
        "id": "pKubcNlWP0nc"
      }
    },
    {
      "cell_type": "code",
      "source": [
        "def potencia_inversa(A):\n",
        "  x_old = [0.1,0.1]\n",
        "  y_k = np.linalg.solve(A, x_old)\n",
        "  x_new = y_k / np.linalg.norm(y_k)\n",
        "  eign = 1\n",
        "  contador = 0\n",
        "  eign_container = [0]\n",
        "  while np.linalg.norm(x_new - x_old) > 1e-7:\n",
        "    x_old = x_new\n",
        "    x_new = np.linalg.solve(A, x_old)\n",
        "    x_new = x_new/(np.linalg.norm(x_new))\n",
        "    eign = np.dot(x_new.T, np.dot(A, x_new))/(np.dot(x_new.T,x_new))\n",
        "    contador += 1\n",
        "    eign_container.append(eign)\n",
        "\n",
        "  return eign, contador, eign_container\n",
        "\n",
        "\n",
        "\n"
      ],
      "metadata": {
        "id": "UESnLlk2irQc"
      },
      "execution_count": 73,
      "outputs": []
    },
    {
      "cell_type": "code",
      "source": [
        "A = np.array([[5,2],[2,2]])\n",
        "eign, vector = np.linalg.eig(A)\n",
        "eign1, contador_1, vectores = potencia_inversa(A)\n",
        "plt.plot(range(contador_1+1), vectores)\n",
        "plt.show()"
      ],
      "metadata": {
        "id": "ZhnTbHAgP4XJ",
        "colab": {
          "base_uri": "https://localhost:8080/",
          "height": 430
        },
        "outputId": "eb51866e-3739-432b-98db-7900058d8b27"
      },
      "execution_count": 74,
      "outputs": [
        {
          "output_type": "display_data",
          "data": {
            "text/plain": [
              "<Figure size 640x480 with 1 Axes>"
            ],
            "image/png": "[encoded data removed]"
          },
          "metadata": {}
        }
      ]
    },
    {
      "cell_type": "code",
      "source": [
        "error = abs(eign[1] - potencia_inversa(A)[0])\n",
        "print(error)"
      ],
      "metadata": {
        "colab": {
          "base_uri": "https://localhost:8080/"
        },
        "id": "fSEgP23DnOY0",
        "outputId": "85bfcb4f-4d39-4d75-cae9-3f2b15ac1568"
      },
      "execution_count": 75,
      "outputs": [
        {
          "output_type": "stream",
          "name": "stdout",
          "text": [
            "4.440892098500626e-16\n"
          ]
        }
      ]
    },
    {
      "cell_type": "markdown",
      "source": [
        "#4\n",
        "\n",
        "**(10 puntos)**\n",
        "Sea $A$ una matriz cuadrada de tamaño $n \\times n$. Se sabe que el determinante de una matriz es igual al producto de sus autovalores:\n",
        "\n",
        "$$\n",
        "\\det(A) = \\prod_{i=1}^{n} \\lambda_i\n",
        "$$\n",
        "\n",
        "donde $\\lambda_1, \\lambda_2, \\dots, \\lambda_n$ son los autovalores de $A$.\n",
        "\n",
        "Usando una matriz aleatoria $A$ de $5\\times 5$, demuestre esta propiedad. Puede usar las funciones de `np.linalg`."
      ],
      "metadata": {
        "id": "Qz8QJCjWYds5"
      }
    },
    {
      "cell_type": "code",
      "source": [
        "A = np.random.rand(5,5)\n",
        "eign, vector = np.linalg.eig(A)\n",
        "determinant = np.linalg.det(A)\n",
        "determinant_eign = np.prod(eign)\n",
        "print(determinant)\n",
        "print(eign)\n",
        "print(determinant_eign)\n",
        "print(\"error\" , abs(determinant - determinant_eign))"
      ],
      "metadata": {
        "id": "TCWf5TUwYgKq",
        "colab": {
          "base_uri": "https://localhost:8080/"
        },
        "outputId": "b551da32-f3c8-47e8-a4cd-6331a39a0abe"
      },
      "execution_count": 79,
      "outputs": [
        {
          "output_type": "stream",
          "name": "stdout",
          "text": [
            "-0.04768512993229201\n",
            "[ 2.63492643+0.j          0.46733963+0.j         -0.23324224+0.j\n",
            " -0.36149802+0.18800169j -0.36149802-0.18800169j]\n",
            "(-0.04768512993229209+0j)\n",
            "error 8.326672684688674e-17\n"
          ]
        }
      ]
    }
  ]
}