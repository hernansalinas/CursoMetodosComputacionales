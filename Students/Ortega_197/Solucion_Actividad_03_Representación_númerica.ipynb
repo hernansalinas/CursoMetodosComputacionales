{
  "cells": [
    {
      "cell_type": "code",
      "execution_count": 2,
      "metadata": {
        "cellView": "form",
        "id": "rZuc8vXcWuxy"
      },
      "outputs": [],
      "source": [
        "#@title Librerias\n",
        "import numpy as np\n",
        "import matplotlib.pyplot as plt\n",
        "import pandas as pd"
      ]
    },
    {
      "cell_type": "markdown",
      "metadata": {
        "id": "MGwGfceuWxy3"
      },
      "source": [
        "# Actividad 03: Representación númerica\n",
        "\n",
        "---\n",
        "### Profesor: Juan Marcos Marín\n",
        "### Nombre: Leonardo Ortega Trujillo\n",
        "*Métodos computacionales 2024-II*\n",
        "\n",
        "---"
      ]
    },
    {
      "cell_type": "markdown",
      "metadata": {
        "id": "jB6BqzoSamB0"
      },
      "source": [
        "**NOTA: No utilizar los métodos `bin` o `int`**"
      ]
    },
    {
      "cell_type": "markdown",
      "metadata": {
        "id": "BOi6yQmJW7os"
      },
      "source": [
        "1. Escriba una función que se llame `mybin` que reciba un número entero real de 16 bits y realice su conversión en código binario, compare su resultado con `bin(4321)`"
      ]
    },
    {
      "cell_type": "code",
      "execution_count": 3,
      "metadata": {
        "id": "xbt3ZmYiW6oF",
        "colab": {
          "base_uri": "https://localhost:8080/"
        },
        "outputId": "f6227a5c-4409-4ce8-e8b1-61ec8895be7f"
      },
      "outputs": [
        {
          "output_type": "execute_result",
          "data": {
            "text/plain": [
              "('0001000011100001', '0b1000011100001')"
            ]
          },
          "metadata": {},
          "execution_count": 3
        }
      ],
      "source": [
        "# Aqui va su código\n",
        "def mybin(x):\n",
        "\n",
        "    bin = \"\"\n",
        "    for i in range(1,17):\n",
        "\n",
        "        bin += str(x%2)\n",
        "        x = x//2\n",
        "\n",
        "    return bin[::-1]\n",
        "\n",
        "mybin(4321), bin(4321)"
      ]
    },
    {
      "cell_type": "markdown",
      "metadata": {
        "id": "5X_8-jpEXjSw"
      },
      "source": [
        "2. Cree una función llamada `myint` pero que a partir de un número binario con base de 16 bits encuentre el entero correspondiente. Compare su resultado con `int(0b1000011100001)`"
      ]
    },
    {
      "cell_type": "code",
      "execution_count": 4,
      "metadata": {
        "id": "VmS2TiF4XsbN",
        "colab": {
          "base_uri": "https://localhost:8080/"
        },
        "outputId": "241105e5-b04c-48c8-d053-2ad19f56a9bb"
      },
      "outputs": [
        {
          "output_type": "execute_result",
          "data": {
            "text/plain": [
              "(4321, 4321)"
            ]
          },
          "metadata": {},
          "execution_count": 4
        }
      ],
      "source": [
        "# Aqui va su código\n",
        "def myint(n):\n",
        "  n_ = str(n)\n",
        "  n_reves = n_[::-1]\n",
        "  exp = 0\n",
        "  entero = 0\n",
        "  for bit in n_reves:\n",
        "    entero += int(bit)*(2**exp)\n",
        "    exp = exp +1\n",
        "\n",
        "  return entero\n",
        "\n",
        "myint(1000011100001), int(0b1000011100001)"
      ]
    },
    {
      "cell_type": "markdown",
      "metadata": {
        "id": "pHQ8ftloYPO5"
      },
      "source": [
        "3. Generar una función llamada `number64` para flotantes de precisión doble (64bits) donde a partir de un número binario encuentre el valor real. Compruebe su solución usando\n",
        "\n",
        "```\n",
        "number64(\"0100000000111011100100001111111111111111111111111111111111111111\")\n",
        "```\n",
        "\n"
      ]
    },
    {
      "cell_type": "code",
      "execution_count": 33,
      "metadata": {
        "id": "8W4MIVKhZTsO",
        "colab": {
          "base_uri": "https://localhost:8080/"
        },
        "outputId": "9f763e0e-8d78-40d9-9527-d87bd102079e"
      },
      "outputs": [
        {
          "output_type": "execute_result",
          "data": {
            "text/plain": [
              "27.566406249999996"
            ]
          },
          "metadata": {},
          "execution_count": 33
        }
      ],
      "source": [
        "# Aqui va su código\n",
        "def number64(n):\n",
        "  signo_n = (-1)**int(n[0])\n",
        "  exponente = (n[1:12])\n",
        "  exp_real = myint(exponente) - 1023\n",
        "  mantisa = n[12:]\n",
        "  mantisa_real = 1.0\n",
        "\n",
        "  for i in range(52):\n",
        "      if mantisa[i] == '1':\n",
        "         mantisa_real += 2**(-(i+1))\n",
        "\n",
        "  valor_real = signo_n*(mantisa_real)*2**(exp_real)\n",
        "  return valor_real\n",
        "\n",
        "number64('0100000000111011100100001111111111111111111111111111111111111111')"
      ]
    },
    {
      "cell_type": "markdown",
      "metadata": {
        "id": "xwyZCxWtZZoH"
      },
      "source": [
        "4. ***(Opcional)*** Escriba una función que convierta un número con base de 8 bits en hexadecimal, compruebe su respuesta con `hex` e imprimalo también en binario."
      ]
    },
    {
      "cell_type": "code",
      "execution_count": 13,
      "metadata": {
        "id": "SpJuueSgbJ4I",
        "colab": {
          "base_uri": "https://localhost:8080/"
        },
        "outputId": "740bcf32-46f7-4432-8715-6e3352da5737"
      },
      "outputs": [
        {
          "output_type": "execute_result",
          "data": {
            "text/plain": [
              "('0000000000001010', '0xa')"
            ]
          },
          "metadata": {},
          "execution_count": 13
        }
      ],
      "source": [
        "\n",
        "# Aqui va su código\n",
        "def hex_bits(n):\n",
        "  n_hex = format(n,'016b')\n",
        "  return n_hex\n",
        "\n",
        "hex_bits(10), hex(10)"
      ]
    },
    {
      "cell_type": "code",
      "source": [],
      "metadata": {
        "id": "FnixiKVvmOMY"
      },
      "execution_count": null,
      "outputs": []
    }
  ],
  "metadata": {
    "colab": {
      "provenance": []
    },
    "kernelspec": {
      "display_name": "Python 3",
      "name": "python3"
    },
    "language_info": {
      "name": "python"
    }
  },
  "nbformat": 4,
  "nbformat_minor": 0
}