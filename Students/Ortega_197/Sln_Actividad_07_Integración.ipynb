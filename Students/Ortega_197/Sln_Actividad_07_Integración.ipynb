{
  "nbformat": 4,
  "nbformat_minor": 0,
  "metadata": {
    "colab": {
      "provenance": []
    },
    "kernelspec": {
      "name": "python3",
      "display_name": "Python 3"
    },
    "language_info": {
      "name": "python"
    }
  },
  "cells": [
    {
      "cell_type": "code",
      "execution_count": 91,
      "metadata": {
        "id": "rZuc8vXcWuxy"
      },
      "outputs": [],
      "source": [
        "#@title Librerias\n",
        "import numpy as np\n",
        "import matplotlib.pyplot as plt\n",
        "import pandas as pd\n",
        "import sympy as sp\n",
        "from scipy.integrate import simpson, romberg, trapezoid, quad\n",
        "from sympy import legendre, symbols, diff, expand, factor, simplify\n",
        "from scipy.special import legendre as legendre_scipy\n",
        "from scipy.special import roots_legendre\n",
        "from scipy.integrate import fixed_quad\n",
        "from scipy.optimize import fsolve, bisect, newton, root_scalar"
      ]
    },
    {
      "cell_type": "markdown",
      "source": [
        "# Actividad 07: Integración\n",
        "\n",
        "---\n",
        "### Profesor: Juan Marcos Marín\n",
        "### Nombre:Leonardo Ortega Trujillo\n",
        "\n",
        "*Métodos computacionales 2024-II*\n",
        "\n",
        "---"
      ],
      "metadata": {
        "id": "MGwGfceuWxy3"
      }
    },
    {
      "cell_type": "markdown",
      "source": [
        "#1\n",
        "* Implemente una función para el **método de integración de Romberg** definiendo un límite de tolerancia de 1e-8 y/o un máximo de iteraciones de 10.\n",
        "\n",
        "* Encuentre la integral para\n",
        "\n",
        "$$\\int_0^{\\pi/4} dx\\, e^{3x}\\cdot \\sin(x)$$\n",
        "\n",
        "* Imprima su resultado y compare los valores dados por `scipy.integrate.romberg`\n",
        "\n",
        "* Finalmente, encuentre el valor del error, hallando el valor exacto usando `sympy`\n",
        "\n"
      ],
      "metadata": {
        "id": "_qpgPAtHNgPB"
      }
    },
    {
      "cell_type": "markdown",
      "source": [
        "#Metodo de Romberg\n",
        "$$\n",
        "T(h) \\approx \\frac{h}{2} \\left[ f(a) + 2 \\sum_{i=1}^{n-1} f(x_i) + f(b) \\right] -\\frac{b − a}{12}h^2f''(\\xi)\n",
        "$$\n"
      ],
      "metadata": {
        "id": "kgSxd0sg7lGO"
      }
    },
    {
      "cell_type": "code",
      "source": [
        "def Romberg(f, a, b, n):\n",
        "    #n  : número de niveles de refinamiento, tamaño de la matriz de romberg\n",
        "    R = np.zeros((n, n))\n",
        "\n",
        "    #paso inicial usando la regla del trapecio\n",
        "    h = b - a\n",
        "    R[0, 0] = (h / 2) * (f(a) + f(b))\n",
        "\n",
        "    #tabla de Romberg\n",
        "    for i in range(1, n):\n",
        "        h /= 2  # Reducimos el tamaño del paso a la mitad\n",
        "        sumatoria = sum(f(a + k * h) for k in range(1, 2**i, 2))\n",
        "        R[i, 0] = 0.5 * R[i-1, 0] + h * sumatoria  # Regla del trapecio refinada\n",
        "\n",
        "        # Extrapolación de Richardson\n",
        "        for j in range(1, i + 1):\n",
        "            R[i, j] = (4**j * R[i, j-1] - R[i-1, j-1]) / (4**j - 1)\n",
        "\n",
        "    return R"
      ],
      "metadata": {
        "id": "Xs2cxTnwvDZm"
      },
      "execution_count": 46,
      "outputs": []
    },
    {
      "cell_type": "code",
      "source": [
        "a , b = 0, np.pi/4\n",
        "f = lambda x: np.exp(3*x) * np.sin(x)\n",
        "\n",
        "M = Romberg(f,a,b,10)\n",
        "\n",
        "print(romberg(f, a, b, show=True), M)"
      ],
      "metadata": {
        "colab": {
          "base_uri": "https://localhost:8080/"
        },
        "id": "HjkTriwYAbUr",
        "outputId": "d9d99c38-51bb-4e3e-dd0a-85ce22f97ffa"
      },
      "execution_count": 21,
      "outputs": [
        {
          "output_type": "stream",
          "name": "stdout",
          "text": [
            "Romberg integration of <function vectorize1.<locals>.vfunc at 0x794ad8758040> from [0, 0.7853981633974483]\n",
            "\n",
            " Steps  StepSize   Results\n",
            "     1  0.785398  2.929727 \n",
            "     2  0.392699  1.952999  1.627423 \n",
            "     4  0.196350  1.684140  1.594520  1.592326 \n",
            "     8  0.098175  1.615224  1.592253  1.592101  1.592098 \n",
            "    16  0.049087  1.597887  1.592107  1.592098  1.592098  1.592098 \n",
            "    32  0.024544  1.593545  1.592098  1.592098  1.592098  1.592098  1.592098 \n",
            "\n",
            "The final result is 1.592097707858613 after 33 function evaluations.\n",
            "1.592097707858613 [[2.929727   0.         0.         0.         0.         0.\n",
            "  0.         0.         0.         0.        ]\n",
            " [1.95299932 1.62742343 0.         0.         0.         0.\n",
            "  0.         0.         0.         0.        ]\n",
            " [1.68413976 1.5945199  1.59232633 0.         0.         0.\n",
            "  0.         0.         0.         0.        ]\n",
            " [1.61522435 1.59225255 1.59210139 1.59209782 0.         0.\n",
            "  0.         0.         0.         0.        ]\n",
            " [1.59788667 1.59210744 1.59209777 1.59209771 1.59209771 0.\n",
            "  0.         0.         0.         0.        ]\n",
            " [1.5935454  1.59209832 1.59209771 1.59209771 1.59209771 1.59209771\n",
            "  0.         0.         0.         0.        ]\n",
            " [1.59245966 1.59209775 1.59209771 1.59209771 1.59209771 1.59209771\n",
            "  1.59209771 0.         0.         0.        ]\n",
            " [1.5921882  1.59209771 1.59209771 1.59209771 1.59209771 1.59209771\n",
            "  1.59209771 1.59209771 0.         0.        ]\n",
            " [1.59212033 1.59209771 1.59209771 1.59209771 1.59209771 1.59209771\n",
            "  1.59209771 1.59209771 1.59209771 0.        ]\n",
            " [1.59210336 1.59209771 1.59209771 1.59209771 1.59209771 1.59209771\n",
            "  1.59209771 1.59209771 1.59209771 1.59209771]]\n"
          ]
        },
        {
          "output_type": "stream",
          "name": "stderr",
          "text": [
            "<ipython-input-21-4b0761c9056e>:6: DeprecationWarning: `scipy.integrate.romberg` is deprecated as of SciPy 1.12.0and will be removed in SciPy 1.15.0. Please use`scipy.integrate.quad` instead.\n",
            "  print(romberg(f, a, b, show=True), M)\n"
          ]
        }
      ]
    },
    {
      "cell_type": "markdown",
      "source": [
        "#2\n",
        "\n",
        "* Usando los *métodos trapezoidal compuesto*, *simpson 1/3* y de *medio punto* encuentre la siguiente integral,\n",
        "\n",
        "$$\\int_e^{1+e} dx\\, \\frac{1}{x\\ln x}$$\n",
        "\n",
        "* Luego, haga un estudio de la convergencia en términos del valor de $h$ o de los sub-intervalos de la función. ¿Cuál es mejor?\n"
      ],
      "metadata": {
        "id": "Db9dUFTSQcLY"
      }
    },
    {
      "cell_type": "code",
      "source": [
        "g = lambda x: 1 / x*np.log(x)\n",
        "c,d = np.e, np.e + 1\n",
        "x = np.linspace(c,d,100)\n",
        "\n",
        "def punto_medio_compuesto(f, a, b, n):\n",
        "    h = (b - a) / n\n",
        "    x_medio = np.linspace(a + h/2, b - h/2, n)\n",
        "    return h * np.sum(f(x_medio))\n",
        "\n",
        "Int_ref = quad(g, c, d)[0]\n",
        "\n",
        "n_values = np.array([2, 4, 8, 16, 32, 64, 128])\n",
        "\n",
        "#errores\n",
        "error_trapecio = []\n",
        "error_simpson = []\n",
        "error_punto_medio = []\n",
        "\n",
        "for n in n_values:\n",
        "    I_trap = trapezoid(g(x),x)\n",
        "    I_simp = simpson(g(x),x=x)\n",
        "    I_pm = punto_medio_compuesto(g, c, d, n)\n",
        "\n",
        "    error_trapecio.append(abs(I_trap - Int_ref))\n",
        "    error_simpson.append(abs(I_simp - Int_ref))\n",
        "    error_punto_medio.append(abs(I_pm - Int_ref))\n",
        "\n",
        "plt.figure(figsize=(8, 5))\n",
        "plt.plot(n_values,error_trapecio,'o-', label ='Trapecio' )\n",
        "plt.plot(n_values,error_simpson,'s-',label=\"Simpson 1/3\")\n",
        "plt.plot(n_values,error_punto_medio,'d-',label=\"Punto medio\")\n",
        "plt.yscale('log')\n",
        "plt.xscale('log')\n",
        "plt.title('Errores de cada metodo')\n",
        "plt.xlabel(\"Número de subintervalos (n)\")\n",
        "plt.ylabel(\"Error absoluto\")\n",
        "plt.legend()\n",
        "plt.grid()\n",
        "plt.show()"
      ],
      "metadata": {
        "id": "uEPXP21uQc_o",
        "colab": {
          "base_uri": "https://localhost:8080/",
          "height": 492
        },
        "outputId": "7511e451-69a0-4881-8d06-eed13d055ccc"
      },
      "execution_count": 57,
      "outputs": [
        {
          "output_type": "display_data",
          "data": {
            "text/plain": [
              "<Figure size 800x500 with 1 Axes>"
            ],
            "image/png": "[encoded data removed]"
          },
          "metadata": {}
        }
      ]
    },
    {
      "cell_type": "markdown",
      "source": [
        "#Conclusión:\n",
        "El metodo con menor error es el metodo de simpson1/3, su error se mantiene estable a medida que el número de subintervalos crece. El metodo de trapecio igualmente tiene un error estable pero mayor al de simpsons1/3, y finalmente el metodo de punto medio tiene un error mayor y necesita de un numero de intervalos más grande que los otros dos para disminuir su error."
      ],
      "metadata": {
        "id": "S6eHsLIi8YNt"
      }
    },
    {
      "cell_type": "markdown",
      "source": [
        "#3\n",
        "Usando la siguiente función:\n",
        "\n",
        "\n",
        "\n",
        "```python\n",
        "def gauss_quad_standard(func, n):\n",
        "    \"\"\"\n",
        "    Calcula la integral de una función en el intervalo [-1, 1]\n",
        "    utilizando cuadratura gaussiana.\n",
        "\n",
        "    Parameters:\n",
        "    - func: La función a integrar.\n",
        "    - n: Número de puntos para la cuadratura (grado del polinomio de Legendre).\n",
        "\n",
        "    Returns:\n",
        "    - Aproximación de la integral.\n",
        "    \"\"\"\n",
        "    # Obtener raíces y pesos del polinomio de Legendre\n",
        "    x, w = roots_legendre(n)\n",
        "\n",
        "    # Evaluar la suma ponderada\n",
        "    integral = np.sum(w * func(x))\n",
        "    return integral\n",
        "```\n",
        "\n",
        "Modifique la función `gauss_quad_standard` de forma tal que no este restringida para $[-1,1]$ sino para cualquier intervalo $[a,b]$. Luego, encuentre la integral del *punto 2*.\n",
        "\n",
        "\n",
        "\n"
      ],
      "metadata": {
        "id": "3fLo8sm8RqA0"
      }
    },
    {
      "cell_type": "code",
      "source": [
        "def gauss_quad(func, a, b, n):\n",
        "    \"\"\"\n",
        "    Calcula la integral de una función en un intervalo [a, b] usando cuadratura gaussiana.\n",
        "\n",
        "    Parameters:\n",
        "    - func: La función a integrar.\n",
        "    - a, b: Límites de integración.\n",
        "    - n: Número de puntos de cuadratura (grado del polinomio de Legendre).\n",
        "\n",
        "    Returns:\n",
        "    - Aproximación de la integral.\n",
        "    \"\"\"\n",
        "    # Obtener raíces y pesos del polinomio de Legendre\n",
        "    x, w = roots_legendre(n)\n",
        "\n",
        "    # Cambio de variable: Escalar los puntos de Gauss al intervalo [a, b], parametrizacion para el intervalo [-1,1]\n",
        "    t = (b - a) / 2 * x + (a + b) / 2\n",
        "\n",
        "    # Evaluar la integral transformada\n",
        "    integral = (b - a) / 2 * np.sum(w * func(t))\n",
        "\n",
        "    return integral\n",
        "\n",
        "\n",
        "#calculo de la integral del 2do punto comparada con el metodo de scipy\n",
        "np.isclose(gauss_quad(g,c,d,15), fixed_quad(g, c, d, n=n)[0])"
      ],
      "metadata": {
        "id": "0XQga3HfSE9n",
        "colab": {
          "base_uri": "https://localhost:8080/"
        },
        "outputId": "9b7dea8b-e2b1-4c32-ef17-dfb14bef8852"
      },
      "execution_count": 75,
      "outputs": [
        {
          "output_type": "execute_result",
          "data": {
            "text/plain": [
              "True"
            ]
          },
          "metadata": {},
          "execution_count": 75
        }
      ]
    },
    {
      "cell_type": "markdown",
      "source": [
        "#4\n",
        "\n",
        "Encuentra todas las raices para los polinomios de grado 3 y 4 de **Legendre** usando el Método de la Secante y Newton-Raphson.\n",
        "\n",
        "\n",
        "\n",
        "```python\n",
        "import sympy as sp\n",
        "x = sp.Symbol('x')\n",
        "\n",
        "# Polinomio de Legendre de grado n\n",
        "Pn = sp.legendre(n, x)\n",
        "\n",
        "```\n",
        "\n",
        "y calcule los pesos $w_i$ de la cuadratura mediante la fórmula:\n",
        "   $$\n",
        "   w_i = \\frac{2}{(1 - x_i^2) \\left[P_n'(x_i)\\right]^2},\n",
        "   $$\n",
        "   donde $P_n'(x)$ es la derivada del polinomio de Legendre $P_n(x)$.\n"
      ],
      "metadata": {
        "id": "hvSy6jouSLiJ"
      }
    },
    {
      "cell_type": "code",
      "source": [
        "x = sp.Symbol('x')\n",
        "\n",
        "# Polinomio de Legendre de grado 3 y 4\n",
        "Pn_3 = sp.legendre(3, x)\n",
        "Pn_4 = sp.legendre(4, x)\n",
        "\n",
        "Pn_3_func = sp.lambdify(x,Pn_3,'numpy')\n",
        "Pn_4_func = sp.lambdify(x,Pn_4,'numpy')\n",
        "\n",
        "#raices de los polinomios de Legendre\n",
        "raiz_N_Pn3 = newton(Pn_3_func,1.5)\n",
        "raiz_S_Pn3 = root_scalar(Pn_3_func, x0 = 1.5, method = 'secant')\n",
        "\n",
        "raiz_N_Pn4 = newton(Pn_4_func,1.5)\n",
        "raiz_S_Pn4 = root_scalar(Pn_4_func, x0 = 1.5, method = 'secant')\n",
        "\n",
        "#derivada\n",
        "Pn_3_prime = sp.diff(Pn_3,x)\n",
        "Pn_4_prime = sp.diff(Pn_4,x)\n",
        "\n",
        "Pn_3_prime_func = sp.lambdify(x,Pn_3_prime,'numpy')\n",
        "Pn_4_prime_func = sp.lambdify(x,Pn_4_prime,'numpy')\n",
        "\n",
        "#calculo de los pesos w\n",
        "w_3 = 2 / ((1 - raiz_N_Pn3)*(Pn_3_prime_func(raiz_N_Pn3))**2)\n",
        "w_4 = 2 / ((1 - raiz_N_Pn4)*(Pn_4_prime_func(raiz_N_Pn4))**2)\n",
        "\n",
        "print(f'Las raíces para el polinomio de Legendre de grado 3 y 4 son respectivamente : {w_3} y {w_4}')"
      ],
      "metadata": {
        "id": "EZNA4VoXSXiT",
        "colab": {
          "base_uri": "https://localhost:8080/"
        },
        "outputId": "d71887a9-c02a-4634-82ac-ad25927986d0"
      },
      "execution_count": 119,
      "outputs": [
        {
          "output_type": "stream",
          "name": "stdout",
          "text": [
            "Las raíces para el polinomio de Legendre de grado 3 y 4 son respectivamente : 0.9858870384674903 y 0.6474052834492414\n"
          ]
        }
      ]
    },
    {
      "cell_type": "code",
      "source": [],
      "metadata": {
        "id": "YJ8sUUTdP6Yj"
      },
      "execution_count": 107,
      "outputs": []
    }
  ]
}