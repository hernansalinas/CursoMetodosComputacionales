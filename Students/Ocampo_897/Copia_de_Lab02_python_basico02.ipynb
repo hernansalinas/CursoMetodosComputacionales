{
  "cells": [
    {
      "cell_type": "markdown",
      "metadata": {
        "id": "kKNBYkSAIO_-"
      },
      "source": [
        "<a href=\"https://colab.research.google.com/github/hernansalinas/autogrades/blob/main/Laboratorios_Taller/Lab02_python_basico02.ipynb\" target=\"_parent\"><img src=\"https://colab.research.google.com/assets/colab-badge.svg\" alt=\"Open In Colab\"/></a>\n",
        "\n",
        "\n",
        "# Laboratorio 02\n",
        "### Métodos computacionales para físicos  y astrónomos\n",
        "### Universidad de Antioquia\n",
        "### Prof: Hernan D. Salinas Jiménez\n",
        "\n"
      ]
    },
    {
      "cell_type": "code",
      "execution_count": null,
      "metadata": {
        "colab": {
          "base_uri": "https://localhost:8080/"
        },
        "id": "TFmOxrpqWCiE",
        "outputId": "0dd42fa5-2331-4a77-adaf-bce44a7a15ad"
      },
      "outputs": [
        {
          "output_type": "stream",
          "name": "stdout",
          "text": [
            "Cloning into 'autogradesMetodosComputacionales'...\n",
            "remote: Enumerating objects: 1160, done.\u001b[K\n",
            "remote: Counting objects: 100% (222/222), done.\u001b[K\n",
            "remote: Compressing objects: 100% (163/163), done.\u001b[K\n",
            "remote: Total 1160 (delta 135), reused 138 (delta 58), pack-reused 938 (from 1)\u001b[K\n",
            "Receiving objects: 100% (1160/1160), 40.05 MiB | 11.21 MiB/s, done.\n",
            "Resolving deltas: 100% (710/710), done.\n"
          ]
        }
      ],
      "source": [
        "# Ejecutar esta celda antes de cada laboratorio\n",
        "!git clone https://github.com/hernansalinas/autogradesMetodosComputacionales.git"
      ]
    },
    {
      "cell_type": "code",
      "execution_count": null,
      "metadata": {
        "id": "5tCaVJVzIRe3"
      },
      "outputs": [],
      "source": [
        "# Ejecutar esta celda antes de cada laboratorio\n",
        "path=\"autogradesMetodosComputacionales/Laboratorios_Taller/libs\"\n",
        "pathL=\"autogradesMetodosComputacionales/Laboratorios_Taller/libs/Lab_02\"\n",
        "%run -i {path}/libUnitTest.py"
      ]
    },
    {
      "cell_type": "markdown",
      "metadata": {
        "id": "l--LTzupJe4I"
      },
      "source": [
        "## Problemas\n",
        "\n",
        "### Factorial\n",
        "1. Elaborar un algoritmo e implementar en python, el factorial de un número entero `n` ingresado por el usuario.\n",
        "\n",
        "1. Si el número es un entero deberá retornal el factorial del número.\n",
        "2. Si el número es negativo deberá aparecer un mensaje tipo string con el mensaje  \"el número no puede ser negativo\"\n",
        "\n",
        "3. Si el número es pertenece a los reales(float) el mensaje será, el número no puede ser real.\n",
        "\n",
        "\n",
        "     ### Ejemplo de Ejecución\n",
        "    ```python\n",
        "\n",
        "    >>> factorial(3)\n",
        "        6\n",
        "\n",
        "    >>> factorial(1987123)\n",
        "        =???\n",
        "```\n"
      ]
    },
    {
      "cell_type": "code",
      "source": [
        "from re import M\n",
        "def factorial(n):\n",
        "    if n<0:\n",
        "      return(f\"El número no puede ser negativo\")\n",
        "    elif type(n)==float:\n",
        "      return(\"El número no puede ser real\")\n",
        "    else:\n",
        "      multiplicacion = 1\n",
        "      for i in range(1,n+1):\n",
        "        multiplicacion = i*multiplicacion\n",
        "      return multiplicacion\n",
        "\n"
      ],
      "metadata": {
        "id": "MhtCye-j_J9e"
      },
      "execution_count": null,
      "outputs": []
    },
    {
      "cell_type": "code",
      "execution_count": null,
      "metadata": {
        "colab": {
          "base_uri": "https://localhost:8080/",
          "height": 254
        },
        "id": "Z_yv_5NEMRqp",
        "outputId": "4fcc99d2-d0ec-4715-f1c7-ff6267bf6422"
      },
      "outputs": [
        {
          "output_type": "display_data",
          "data": {
            "text/plain": [
              "<IPython.core.display.HTML object>"
            ],
            "text/html": [
              "<style>\n",
              "  table { text-align: left; border-collapse: collapse; margin: 1em; caption-side: bottom; font-family: Sans-Serif; font-size: 12px}\n",
              "  caption { text-align: left; padding: 5px }\n",
              "  th, td { border: 2px solid #BFC9CA; padding: 5px }\n",
              "  th { background-color: #BFC9CA }\n",
              "  .passed { background-color: #76D7C4 }\n",
              "  .failed { background-color: #EC7063 }\n",
              "  .skipped { background-color: #EDBB99 }\n",
              "  .score { background-color: #7DCEA0 }\n",
              "  .results .points { display: none }\n",
              "  .results .message { display: block; font-size:smaller; color:#D35400 }\n",
              "  .results .note { display: block; font-size:smaller; font-decoration:italics }\n",
              "  .results .passed::before  { content: \"Passed\" } \n",
              "  .results .skipped::before  { content: \"Skipped\" } \n",
              "  .results .failed::before  { content: \"Failed\" } \n",
              "  .grade .passed  .message:empty::before { content:\"Passed\" }\n",
              "  .grade .failed  .message:empty::before { content:\"Failed\" }\n",
              "  .grade .skipped .message:empty::before { content:\"Skipped\" }   \n",
              "</style>\n",
              "<table class='results'>\n",
              "  <th class='test'>Test</th><th class='result'>Result</th></tr>\n",
              "<tr>\n",
              "  <td class='test'>\n",
              "    Calcular  el  factorial de un número entero \n",
              "    <div class='message'>Done</div>\n",
              "  </td>\n",
              "  <td class='result passed'></td>\n",
              "</tr>\n",
              "<tr>\n",
              "  <td class='test'>\n",
              "    Prueba para valores negativos \n",
              "    <div class='message'>Done</div>\n",
              "  </td>\n",
              "  <td class='result passed'></td>\n",
              "</tr>\n",
              "<tr>\n",
              "  <td class='test'>\n",
              "    Prueba para valores reales \n",
              "    <div class='message'>Done</div>\n",
              "  </td>\n",
              "  <td class='result passed'></td>\n",
              "</tr>\n",
              "<tr>\n",
              "  <td class='test'>\n",
              "    Prueba para el factorial de 0 \n",
              "    <div class='message'>Done</div>\n",
              "  </td>\n",
              "  <td class='result passed'></td>\n",
              "</tr>  <tr><th class='score'>Total Points</th><th class='score'>4</th></tr></table>\n"
            ]
          },
          "metadata": {}
        }
      ],
      "source": [
        "%run -i {pathL}/test01.py"
      ]
    },
    {
      "cell_type": "markdown",
      "metadata": {
        "id": "Y94jQ_tzdU6l"
      },
      "source": [
        "### Teoria de números\n",
        "\n",
        "Los enunciados 2 y 3 se refieren a la siguiente información:\n",
        "\n",
        "Diseñar un programa en el que entrado  un numero `a`  retorne una variable booleana True or false si cumple que es:\n",
        "\n",
        "2. [Números defectivo](https://es.wikipedia.org/wiki/Número_defectivo) : la suma de los divisores propios es menor que el número.\n",
        "\n",
        "  La rutina se deberá llamar números_defectivos\n",
        "\n",
        "\n",
        "\n",
        "3. [Números abundantes](https://es.wikipedia.org/wiki/Número_abundante): la suma de los divisores es mayor que el número.\n",
        "\n",
        "  La rutina se deberá llamar números_abundantes\n",
        "\n",
        "\n",
        "\n",
        "4. [Números semiperfectos](https://es.wikipedia.org/wiki/N%C3%BAmero_semiperfecto) la suma de todos o algunos de los divisores propios es igual al número.\n",
        "\n",
        "  La rutina se debera llamar numeros_semiperfectos\n",
        "\n",
        "5. [Números perfectos](https://es.wikipedia.org/wiki/N%C3%BAmero_perfecto) la suma de todos sus divisores propios, excepto el mismo numero, es igual al número.\n",
        "\n",
        "   La rutina se deberá llamar numeros_perfectos\n",
        "\n",
        "\n",
        "6. [Números primos](https://es.wikipedia.org/wiki/N%C3%BAmero_primo) el número es divisible unicamente por sí mismo y por 1.\n",
        "   La rutina se deberá llamar numeros_primos\n",
        "\n",
        "\n",
        "Problema no obligatorio:\n",
        "\n",
        "P1. Retornar los 30 primeros números de cada clase"
      ]
    },
    {
      "cell_type": "code",
      "source": [
        "def divisor_propio(a):\n",
        "    divisores = []\n",
        "    for i in range(1, a):\n",
        "        if a % i == 0:\n",
        "            divisores.append(i)\n",
        "    return divisores"
      ],
      "metadata": {
        "id": "OwMF7SkFC1Y9"
      },
      "execution_count": null,
      "outputs": []
    },
    {
      "cell_type": "code",
      "source": [
        "divisor_propio(41)"
      ],
      "metadata": {
        "colab": {
          "base_uri": "https://localhost:8080/"
        },
        "id": "B_0E2e4t99pl",
        "outputId": "bdfe8101-6de5-4eea-a748-aa539338920e"
      },
      "execution_count": null,
      "outputs": [
        {
          "output_type": "execute_result",
          "data": {
            "text/plain": [
              "[1]"
            ]
          },
          "metadata": {},
          "execution_count": 97
        }
      ]
    },
    {
      "cell_type": "code",
      "source": [
        "def divisor_propio_incluyendo(a):\n",
        "    divisores = []\n",
        "    for i in range(1, a + 1):\n",
        "        if a % i == 0:\n",
        "            divisores.append(i)\n",
        "    return divisores"
      ],
      "metadata": {
        "id": "B72fF5Dm-Tn0"
      },
      "execution_count": null,
      "outputs": []
    },
    {
      "cell_type": "code",
      "source": [
        "divisor_propio_incluyendo(41)"
      ],
      "metadata": {
        "colab": {
          "base_uri": "https://localhost:8080/"
        },
        "id": "i9xND9OFEKpk",
        "outputId": "85cac2f7-8f9f-4374-840f-8e5478f869a3"
      },
      "execution_count": null,
      "outputs": [
        {
          "output_type": "execute_result",
          "data": {
            "text/plain": [
              "[1, 41]"
            ]
          },
          "metadata": {},
          "execution_count": 70
        }
      ]
    },
    {
      "cell_type": "code",
      "source": [
        "def numeros_defectivos(a):\n",
        "    if a <= 1:\n",
        "        return False\n",
        "    suma_divisores = 0\n",
        "    for i in range(1, a):\n",
        "        if a % i == 0:\n",
        "            suma_divisores += i\n",
        "    return suma_divisores < a"
      ],
      "metadata": {
        "id": "2109IPUN-wVs"
      },
      "execution_count": null,
      "outputs": []
    },
    {
      "cell_type": "code",
      "source": [
        "numeros_defectivos(47)"
      ],
      "metadata": {
        "colab": {
          "base_uri": "https://localhost:8080/"
        },
        "id": "WIDAATFE_is-",
        "outputId": "c637155f-1000-4670-8a64-ac027423a5b4"
      },
      "execution_count": null,
      "outputs": [
        {
          "output_type": "execute_result",
          "data": {
            "text/plain": [
              "True"
            ]
          },
          "metadata": {},
          "execution_count": 35
        }
      ]
    },
    {
      "cell_type": "code",
      "source": [
        "numeros_defectivos(6)"
      ],
      "metadata": {
        "colab": {
          "base_uri": "https://localhost:8080/"
        },
        "id": "dGlin0gE_JhO",
        "outputId": "47106aa6-7467-40a6-9536-10d712350ded"
      },
      "execution_count": null,
      "outputs": [
        {
          "output_type": "execute_result",
          "data": {
            "text/plain": [
              "False"
            ]
          },
          "metadata": {},
          "execution_count": 36
        }
      ]
    },
    {
      "cell_type": "code",
      "execution_count": null,
      "metadata": {
        "colab": {
          "base_uri": "https://localhost:8080/",
          "height": 215
        },
        "id": "XSyDVlnzi9KL",
        "outputId": "accebf54-654e-411b-94fd-cdc22c6779b5"
      },
      "outputs": [
        {
          "output_type": "display_data",
          "data": {
            "text/plain": [
              "<IPython.core.display.HTML object>"
            ],
            "text/html": [
              "<style>\n",
              "  table { text-align: left; border-collapse: collapse; margin: 1em; caption-side: bottom; font-family: Sans-Serif; font-size: 12px}\n",
              "  caption { text-align: left; padding: 5px }\n",
              "  th, td { border: 2px solid #BFC9CA; padding: 5px }\n",
              "  th { background-color: #BFC9CA }\n",
              "  .passed { background-color: #76D7C4 }\n",
              "  .failed { background-color: #EC7063 }\n",
              "  .skipped { background-color: #EDBB99 }\n",
              "  .score { background-color: #7DCEA0 }\n",
              "  .results .points { display: none }\n",
              "  .results .message { display: block; font-size:smaller; color:#D35400 }\n",
              "  .results .note { display: block; font-size:smaller; font-decoration:italics }\n",
              "  .results .passed::before  { content: \"Passed\" } \n",
              "  .results .skipped::before  { content: \"Skipped\" } \n",
              "  .results .failed::before  { content: \"Failed\" } \n",
              "  .grade .passed  .message:empty::before { content:\"Passed\" }\n",
              "  .grade .failed  .message:empty::before { content:\"Failed\" }\n",
              "  .grade .skipped .message:empty::before { content:\"Skipped\" }   \n",
              "</style>\n",
              "<table class='results'>\n",
              "  <th class='test'>Test</th><th class='result'>Result</th></tr>\n",
              "<tr>\n",
              "  <td class='test'>\n",
              "    Números defectivos, la variable debe ser booleana  \n",
              "    <div class='message'>Done</div>\n",
              "  </td>\n",
              "  <td class='result passed'></td>\n",
              "</tr>\n",
              "<tr>\n",
              "  <td class='test'>\n",
              "    Comprobando si el número 21 es defectivo   \n",
              "    <div class='message'>Done</div>\n",
              "  </td>\n",
              "  <td class='result passed'></td>\n",
              "</tr>\n",
              "<tr>\n",
              "  <td class='test'>\n",
              "    Comprobando si el 6 es un número es defectivo   \n",
              "    <div class='message'>Done</div>\n",
              "  </td>\n",
              "  <td class='result passed'></td>\n",
              "</tr>  <tr><th class='score'>Total Points</th><th class='score'>3</th></tr></table>\n"
            ]
          },
          "metadata": {}
        }
      ],
      "source": [
        "%run -i {pathL}/test02.py"
      ]
    },
    {
      "cell_type": "code",
      "source": [
        "def numeros_abundantes(a):\n",
        "    lista = []\n",
        "    for i in range(1, a):\n",
        "        if a % i == 0:\n",
        "            lista.append(i)\n",
        "\n",
        "    suma_divisores = sum(lista)\n",
        "    return suma_divisores > a"
      ],
      "metadata": {
        "id": "BcE7tIC4_6U9"
      },
      "execution_count": null,
      "outputs": []
    },
    {
      "cell_type": "code",
      "source": [
        "numeros_abundantes(22)"
      ],
      "metadata": {
        "colab": {
          "base_uri": "https://localhost:8080/"
        },
        "id": "DxY8LBBLCZ37",
        "outputId": "12c0f0b1-645d-4c5c-c09d-6012b00254e7"
      },
      "execution_count": null,
      "outputs": [
        {
          "output_type": "execute_result",
          "data": {
            "text/plain": [
              "False"
            ]
          },
          "metadata": {},
          "execution_count": 99
        }
      ]
    },
    {
      "cell_type": "code",
      "execution_count": null,
      "metadata": {
        "colab": {
          "base_uri": "https://localhost:8080/",
          "height": 215
        },
        "id": "DfHfIk0DkQev",
        "outputId": "4613831e-068a-403b-91c3-566112f31500"
      },
      "outputs": [
        {
          "output_type": "display_data",
          "data": {
            "text/plain": [
              "<IPython.core.display.HTML object>"
            ],
            "text/html": [
              "<style>\n",
              "  table { text-align: left; border-collapse: collapse; margin: 1em; caption-side: bottom; font-family: Sans-Serif; font-size: 12px}\n",
              "  caption { text-align: left; padding: 5px }\n",
              "  th, td { border: 2px solid #BFC9CA; padding: 5px }\n",
              "  th { background-color: #BFC9CA }\n",
              "  .passed { background-color: #76D7C4 }\n",
              "  .failed { background-color: #EC7063 }\n",
              "  .skipped { background-color: #EDBB99 }\n",
              "  .score { background-color: #7DCEA0 }\n",
              "  .results .points { display: none }\n",
              "  .results .message { display: block; font-size:smaller; color:#D35400 }\n",
              "  .results .note { display: block; font-size:smaller; font-decoration:italics }\n",
              "  .results .passed::before  { content: \"Passed\" } \n",
              "  .results .skipped::before  { content: \"Skipped\" } \n",
              "  .results .failed::before  { content: \"Failed\" } \n",
              "  .grade .passed  .message:empty::before { content:\"Passed\" }\n",
              "  .grade .failed  .message:empty::before { content:\"Failed\" }\n",
              "  .grade .skipped .message:empty::before { content:\"Skipped\" }   \n",
              "</style>\n",
              "<table class='results'>\n",
              "  <th class='test'>Test</th><th class='result'>Result</th></tr>\n",
              "<tr>\n",
              "  <td class='test'>\n",
              "    Números abundantes, la variable debe ser booleana  \n",
              "    <div class='message'>Done</div>\n",
              "  </td>\n",
              "  <td class='result passed'></td>\n",
              "</tr>\n",
              "<tr>\n",
              "  <td class='test'>\n",
              "    Comprobando si el número 96 es abundantes   \n",
              "    <div class='message'>Done</div>\n",
              "  </td>\n",
              "  <td class='result passed'></td>\n",
              "</tr>\n",
              "<tr>\n",
              "  <td class='test'>\n",
              "    Comprobando si el 11 es un número  abundante   \n",
              "    <div class='message'>Done</div>\n",
              "  </td>\n",
              "  <td class='result passed'></td>\n",
              "</tr>  <tr><th class='score'>Total Points</th><th class='score'>3</th></tr></table>\n"
            ]
          },
          "metadata": {}
        }
      ],
      "source": [
        "%run -i {pathL}/test03.py"
      ]
    },
    {
      "cell_type": "code",
      "source": [
        "from itertools import combinations\n",
        "def numeros_semiperfectos(a):\n",
        "    m = divisor_propio(a)\n",
        "    comb = []\n",
        "    for i in range(2, len(m)+1):\n",
        "      com = list(combinations(m,i))\n",
        "      comb.append(com)\n",
        "    print(comb)\n",
        "    for k in range(len(comb)):\n",
        "      for j in range(len(comb[k][:])):\n",
        "        if sum(comb[k][j])==a:\n",
        "          return True\n",
        "    else:\n",
        "      return False"
      ],
      "metadata": {
        "id": "BKW_Bd1lCVi9"
      },
      "execution_count": null,
      "outputs": []
    },
    {
      "cell_type": "code",
      "source": [
        "numeros_semiperfectos(10)"
      ],
      "metadata": {
        "colab": {
          "base_uri": "https://localhost:8080/"
        },
        "id": "iChauMFKDLmL",
        "outputId": "a32f9a38-32f2-4c14-898c-cb94c9efd3d9"
      },
      "execution_count": null,
      "outputs": [
        {
          "output_type": "stream",
          "name": "stdout",
          "text": [
            "[[(1, 2), (1, 5), (2, 5)], [(1, 2, 5)]]\n"
          ]
        },
        {
          "output_type": "execute_result",
          "data": {
            "text/plain": [
              "False"
            ]
          },
          "metadata": {},
          "execution_count": 102
        }
      ]
    },
    {
      "cell_type": "code",
      "execution_count": null,
      "metadata": {
        "id": "MJzLOXxHqKrz",
        "colab": {
          "base_uri": "https://localhost:8080/",
          "height": 287
        },
        "outputId": "cc42bb78-1581-4c22-a7ab-a042ebda185e"
      },
      "outputs": [
        {
          "output_type": "stream",
          "name": "stdout",
          "text": [
            "[[(1, 2), (1, 4), (2, 4)], [(1, 2, 4)]]\n",
            "[[(1, 2), (1, 3), (1, 4), (1, 5), (1, 6), (1, 10), (1, 12), (1, 15), (1, 20), (1, 30), (2, 3), (2, 4), (2, 5), (2, 6), (2, 10), (2, 12), (2, 15), (2, 20), (2, 30), (3, 4), (3, 5), (3, 6), (3, 10), (3, 12), (3, 15), (3, 20), (3, 30), (4, 5), (4, 6), (4, 10), (4, 12), (4, 15), (4, 20), (4, 30), (5, 6), (5, 10), (5, 12), (5, 15), (5, 20), (5, 30), (6, 10), (6, 12), (6, 15), (6, 20), (6, 30), (10, 12), (10, 15), (10, 20), (10, 30), (12, 15), (12, 20), (12, 30), (15, 20), (15, 30), (20, 30)], [(1, 2, 3), (1, 2, 4), (1, 2, 5), (1, 2, 6), (1, 2, 10), (1, 2, 12), (1, 2, 15), (1, 2, 20), (1, 2, 30), (1, 3, 4), (1, 3, 5), (1, 3, 6), (1, 3, 10), (1, 3, 12), (1, 3, 15), (1, 3, 20), (1, 3, 30), (1, 4, 5), (1, 4, 6), (1, 4, 10), (1, 4, 12), (1, 4, 15), (1, 4, 20), (1, 4, 30), (1, 5, 6), (1, 5, 10), (1, 5, 12), (1, 5, 15), (1, 5, 20), (1, 5, 30), (1, 6, 10), (1, 6, 12), (1, 6, 15), (1, 6, 20), (1, 6, 30), (1, 10, 12), (1, 10, 15), (1, 10, 20), (1, 10, 30), (1, 12, 15), (1, 12, 20), (1, 12, 30), (1, 15, 20), (1, 15, 30), (1, 20, 30), (2, 3, 4), (2, 3, 5), (2, 3, 6), (2, 3, 10), (2, 3, 12), (2, 3, 15), (2, 3, 20), (2, 3, 30), (2, 4, 5), (2, 4, 6), (2, 4, 10), (2, 4, 12), (2, 4, 15), (2, 4, 20), (2, 4, 30), (2, 5, 6), (2, 5, 10), (2, 5, 12), (2, 5, 15), (2, 5, 20), (2, 5, 30), (2, 6, 10), (2, 6, 12), (2, 6, 15), (2, 6, 20), (2, 6, 30), (2, 10, 12), (2, 10, 15), (2, 10, 20), (2, 10, 30), (2, 12, 15), (2, 12, 20), (2, 12, 30), (2, 15, 20), (2, 15, 30), (2, 20, 30), (3, 4, 5), (3, 4, 6), (3, 4, 10), (3, 4, 12), (3, 4, 15), (3, 4, 20), (3, 4, 30), (3, 5, 6), (3, 5, 10), (3, 5, 12), (3, 5, 15), (3, 5, 20), (3, 5, 30), (3, 6, 10), (3, 6, 12), (3, 6, 15), (3, 6, 20), (3, 6, 30), (3, 10, 12), (3, 10, 15), (3, 10, 20), (3, 10, 30), (3, 12, 15), (3, 12, 20), (3, 12, 30), (3, 15, 20), (3, 15, 30), (3, 20, 30), (4, 5, 6), (4, 5, 10), (4, 5, 12), (4, 5, 15), (4, 5, 20), (4, 5, 30), (4, 6, 10), (4, 6, 12), (4, 6, 15), (4, 6, 20), (4, 6, 30), (4, 10, 12), (4, 10, 15), (4, 10, 20), (4, 10, 30), (4, 12, 15), (4, 12, 20), (4, 12, 30), (4, 15, 20), (4, 15, 30), (4, 20, 30), (5, 6, 10), (5, 6, 12), (5, 6, 15), (5, 6, 20), (5, 6, 30), (5, 10, 12), (5, 10, 15), (5, 10, 20), (5, 10, 30), (5, 12, 15), (5, 12, 20), (5, 12, 30), (5, 15, 20), (5, 15, 30), (5, 20, 30), (6, 10, 12), (6, 10, 15), (6, 10, 20), (6, 10, 30), (6, 12, 15), (6, 12, 20), (6, 12, 30), (6, 15, 20), (6, 15, 30), (6, 20, 30), (10, 12, 15), (10, 12, 20), (10, 12, 30), (10, 15, 20), (10, 15, 30), (10, 20, 30), (12, 15, 20), (12, 15, 30), (12, 20, 30), (15, 20, 30)], [(1, 2, 3, 4), (1, 2, 3, 5), (1, 2, 3, 6), (1, 2, 3, 10), (1, 2, 3, 12), (1, 2, 3, 15), (1, 2, 3, 20), (1, 2, 3, 30), (1, 2, 4, 5), (1, 2, 4, 6), (1, 2, 4, 10), (1, 2, 4, 12), (1, 2, 4, 15), (1, 2, 4, 20), (1, 2, 4, 30), (1, 2, 5, 6), (1, 2, 5, 10), (1, 2, 5, 12), (1, 2, 5, 15), (1, 2, 5, 20), (1, 2, 5, 30), (1, 2, 6, 10), (1, 2, 6, 12), (1, 2, 6, 15), (1, 2, 6, 20), (1, 2, 6, 30), (1, 2, 10, 12), (1, 2, 10, 15), (1, 2, 10, 20), (1, 2, 10, 30), (1, 2, 12, 15), (1, 2, 12, 20), (1, 2, 12, 30), (1, 2, 15, 20), (1, 2, 15, 30), (1, 2, 20, 30), (1, 3, 4, 5), (1, 3, 4, 6), (1, 3, 4, 10), (1, 3, 4, 12), (1, 3, 4, 15), (1, 3, 4, 20), (1, 3, 4, 30), (1, 3, 5, 6), (1, 3, 5, 10), (1, 3, 5, 12), (1, 3, 5, 15), (1, 3, 5, 20), (1, 3, 5, 30), (1, 3, 6, 10), (1, 3, 6, 12), (1, 3, 6, 15), (1, 3, 6, 20), (1, 3, 6, 30), (1, 3, 10, 12), (1, 3, 10, 15), (1, 3, 10, 20), (1, 3, 10, 30), (1, 3, 12, 15), (1, 3, 12, 20), (1, 3, 12, 30), (1, 3, 15, 20), (1, 3, 15, 30), (1, 3, 20, 30), (1, 4, 5, 6), (1, 4, 5, 10), (1, 4, 5, 12), (1, 4, 5, 15), (1, 4, 5, 20), (1, 4, 5, 30), (1, 4, 6, 10), (1, 4, 6, 12), (1, 4, 6, 15), (1, 4, 6, 20), (1, 4, 6, 30), (1, 4, 10, 12), (1, 4, 10, 15), (1, 4, 10, 20), (1, 4, 10, 30), (1, 4, 12, 15), (1, 4, 12, 20), (1, 4, 12, 30), (1, 4, 15, 20), (1, 4, 15, 30), (1, 4, 20, 30), (1, 5, 6, 10), (1, 5, 6, 12), (1, 5, 6, 15), (1, 5, 6, 20), (1, 5, 6, 30), (1, 5, 10, 12), (1, 5, 10, 15), (1, 5, 10, 20), (1, 5, 10, 30), (1, 5, 12, 15), (1, 5, 12, 20), (1, 5, 12, 30), (1, 5, 15, 20), (1, 5, 15, 30), (1, 5, 20, 30), (1, 6, 10, 12), (1, 6, 10, 15), (1, 6, 10, 20), (1, 6, 10, 30), (1, 6, 12, 15), (1, 6, 12, 20), (1, 6, 12, 30), (1, 6, 15, 20), (1, 6, 15, 30), (1, 6, 20, 30), (1, 10, 12, 15), (1, 10, 12, 20), (1, 10, 12, 30), (1, 10, 15, 20), (1, 10, 15, 30), (1, 10, 20, 30), (1, 12, 15, 20), (1, 12, 15, 30), (1, 12, 20, 30), (1, 15, 20, 30), (2, 3, 4, 5), (2, 3, 4, 6), (2, 3, 4, 10), (2, 3, 4, 12), (2, 3, 4, 15), (2, 3, 4, 20), (2, 3, 4, 30), (2, 3, 5, 6), (2, 3, 5, 10), (2, 3, 5, 12), (2, 3, 5, 15), (2, 3, 5, 20), (2, 3, 5, 30), (2, 3, 6, 10), (2, 3, 6, 12), (2, 3, 6, 15), (2, 3, 6, 20), (2, 3, 6, 30), (2, 3, 10, 12), (2, 3, 10, 15), (2, 3, 10, 20), (2, 3, 10, 30), (2, 3, 12, 15), (2, 3, 12, 20), (2, 3, 12, 30), (2, 3, 15, 20), (2, 3, 15, 30), (2, 3, 20, 30), (2, 4, 5, 6), (2, 4, 5, 10), (2, 4, 5, 12), (2, 4, 5, 15), (2, 4, 5, 20), (2, 4, 5, 30), (2, 4, 6, 10), (2, 4, 6, 12), (2, 4, 6, 15), (2, 4, 6, 20), (2, 4, 6, 30), (2, 4, 10, 12), (2, 4, 10, 15), (2, 4, 10, 20), (2, 4, 10, 30), (2, 4, 12, 15), (2, 4, 12, 20), (2, 4, 12, 30), (2, 4, 15, 20), (2, 4, 15, 30), (2, 4, 20, 30), (2, 5, 6, 10), (2, 5, 6, 12), (2, 5, 6, 15), (2, 5, 6, 20), (2, 5, 6, 30), (2, 5, 10, 12), (2, 5, 10, 15), (2, 5, 10, 20), (2, 5, 10, 30), (2, 5, 12, 15), (2, 5, 12, 20), (2, 5, 12, 30), (2, 5, 15, 20), (2, 5, 15, 30), (2, 5, 20, 30), (2, 6, 10, 12), (2, 6, 10, 15), (2, 6, 10, 20), (2, 6, 10, 30), (2, 6, 12, 15), (2, 6, 12, 20), (2, 6, 12, 30), (2, 6, 15, 20), (2, 6, 15, 30), (2, 6, 20, 30), (2, 10, 12, 15), (2, 10, 12, 20), (2, 10, 12, 30), (2, 10, 15, 20), (2, 10, 15, 30), (2, 10, 20, 30), (2, 12, 15, 20), (2, 12, 15, 30), (2, 12, 20, 30), (2, 15, 20, 30), (3, 4, 5, 6), (3, 4, 5, 10), (3, 4, 5, 12), (3, 4, 5, 15), (3, 4, 5, 20), (3, 4, 5, 30), (3, 4, 6, 10), (3, 4, 6, 12), (3, 4, 6, 15), (3, 4, 6, 20), (3, 4, 6, 30), (3, 4, 10, 12), (3, 4, 10, 15), (3, 4, 10, 20), (3, 4, 10, 30), (3, 4, 12, 15), (3, 4, 12, 20), (3, 4, 12, 30), (3, 4, 15, 20), (3, 4, 15, 30), (3, 4, 20, 30), (3, 5, 6, 10), (3, 5, 6, 12), (3, 5, 6, 15), (3, 5, 6, 20), (3, 5, 6, 30), (3, 5, 10, 12), (3, 5, 10, 15), (3, 5, 10, 20), (3, 5, 10, 30), (3, 5, 12, 15), (3, 5, 12, 20), (3, 5, 12, 30), (3, 5, 15, 20), (3, 5, 15, 30), (3, 5, 20, 30), (3, 6, 10, 12), (3, 6, 10, 15), (3, 6, 10, 20), (3, 6, 10, 30), (3, 6, 12, 15), (3, 6, 12, 20), (3, 6, 12, 30), (3, 6, 15, 20), (3, 6, 15, 30), (3, 6, 20, 30), (3, 10, 12, 15), (3, 10, 12, 20), (3, 10, 12, 30), (3, 10, 15, 20), (3, 10, 15, 30), (3, 10, 20, 30), (3, 12, 15, 20), (3, 12, 15, 30), (3, 12, 20, 30), (3, 15, 20, 30), (4, 5, 6, 10), (4, 5, 6, 12), (4, 5, 6, 15), (4, 5, 6, 20), (4, 5, 6, 30), (4, 5, 10, 12), (4, 5, 10, 15), (4, 5, 10, 20), (4, 5, 10, 30), (4, 5, 12, 15), (4, 5, 12, 20), (4, 5, 12, 30), (4, 5, 15, 20), (4, 5, 15, 30), (4, 5, 20, 30), (4, 6, 10, 12), (4, 6, 10, 15), (4, 6, 10, 20), (4, 6, 10, 30), (4, 6, 12, 15), (4, 6, 12, 20), (4, 6, 12, 30), (4, 6, 15, 20), (4, 6, 15, 30), (4, 6, 20, 30), (4, 10, 12, 15), (4, 10, 12, 20), (4, 10, 12, 30), (4, 10, 15, 20), (4, 10, 15, 30), (4, 10, 20, 30), (4, 12, 15, 20), (4, 12, 15, 30), (4, 12, 20, 30), (4, 15, 20, 30), (5, 6, 10, 12), (5, 6, 10, 15), (5, 6, 10, 20), (5, 6, 10, 30), (5, 6, 12, 15), (5, 6, 12, 20), (5, 6, 12, 30), (5, 6, 15, 20), (5, 6, 15, 30), (5, 6, 20, 30), (5, 10, 12, 15), (5, 10, 12, 20), (5, 10, 12, 30), (5, 10, 15, 20), (5, 10, 15, 30), (5, 10, 20, 30), (5, 12, 15, 20), (5, 12, 15, 30), (5, 12, 20, 30), (5, 15, 20, 30), (6, 10, 12, 15), (6, 10, 12, 20), (6, 10, 12, 30), (6, 10, 15, 20), (6, 10, 15, 30), (6, 10, 20, 30), (6, 12, 15, 20), (6, 12, 15, 30), (6, 12, 20, 30), (6, 15, 20, 30), (10, 12, 15, 20), (10, 12, 15, 30), (10, 12, 20, 30), (10, 15, 20, 30), (12, 15, 20, 30)], [(1, 2, 3, 4, 5), (1, 2, 3, 4, 6), (1, 2, 3, 4, 10), (1, 2, 3, 4, 12), (1, 2, 3, 4, 15), (1, 2, 3, 4, 20), (1, 2, 3, 4, 30), (1, 2, 3, 5, 6), (1, 2, 3, 5, 10), (1, 2, 3, 5, 12), (1, 2, 3, 5, 15), (1, 2, 3, 5, 20), (1, 2, 3, 5, 30), (1, 2, 3, 6, 10), (1, 2, 3, 6, 12), (1, 2, 3, 6, 15), (1, 2, 3, 6, 20), (1, 2, 3, 6, 30), (1, 2, 3, 10, 12), (1, 2, 3, 10, 15), (1, 2, 3, 10, 20), (1, 2, 3, 10, 30), (1, 2, 3, 12, 15), (1, 2, 3, 12, 20), (1, 2, 3, 12, 30), (1, 2, 3, 15, 20), (1, 2, 3, 15, 30), (1, 2, 3, 20, 30), (1, 2, 4, 5, 6), (1, 2, 4, 5, 10), (1, 2, 4, 5, 12), (1, 2, 4, 5, 15), (1, 2, 4, 5, 20), (1, 2, 4, 5, 30), (1, 2, 4, 6, 10), (1, 2, 4, 6, 12), (1, 2, 4, 6, 15), (1, 2, 4, 6, 20), (1, 2, 4, 6, 30), (1, 2, 4, 10, 12), (1, 2, 4, 10, 15), (1, 2, 4, 10, 20), (1, 2, 4, 10, 30), (1, 2, 4, 12, 15), (1, 2, 4, 12, 20), (1, 2, 4, 12, 30), (1, 2, 4, 15, 20), (1, 2, 4, 15, 30), (1, 2, 4, 20, 30), (1, 2, 5, 6, 10), (1, 2, 5, 6, 12), (1, 2, 5, 6, 15), (1, 2, 5, 6, 20), (1, 2, 5, 6, 30), (1, 2, 5, 10, 12), (1, 2, 5, 10, 15), (1, 2, 5, 10, 20), (1, 2, 5, 10, 30), (1, 2, 5, 12, 15), (1, 2, 5, 12, 20), (1, 2, 5, 12, 30), (1, 2, 5, 15, 20), (1, 2, 5, 15, 30), (1, 2, 5, 20, 30), (1, 2, 6, 10, 12), (1, 2, 6, 10, 15), (1, 2, 6, 10, 20), (1, 2, 6, 10, 30), (1, 2, 6, 12, 15), (1, 2, 6, 12, 20), (1, 2, 6, 12, 30), (1, 2, 6, 15, 20), (1, 2, 6, 15, 30), (1, 2, 6, 20, 30), (1, 2, 10, 12, 15), (1, 2, 10, 12, 20), (1, 2, 10, 12, 30), (1, 2, 10, 15, 20), (1, 2, 10, 15, 30), (1, 2, 10, 20, 30), (1, 2, 12, 15, 20), (1, 2, 12, 15, 30), (1, 2, 12, 20, 30), (1, 2, 15, 20, 30), (1, 3, 4, 5, 6), (1, 3, 4, 5, 10), (1, 3, 4, 5, 12), (1, 3, 4, 5, 15), (1, 3, 4, 5, 20), (1, 3, 4, 5, 30), (1, 3, 4, 6, 10), (1, 3, 4, 6, 12), (1, 3, 4, 6, 15), (1, 3, 4, 6, 20), (1, 3, 4, 6, 30), (1, 3, 4, 10, 12), (1, 3, 4, 10, 15), (1, 3, 4, 10, 20), (1, 3, 4, 10, 30), (1, 3, 4, 12, 15), (1, 3, 4, 12, 20), (1, 3, 4, 12, 30), (1, 3, 4, 15, 20), (1, 3, 4, 15, 30), (1, 3, 4, 20, 30), (1, 3, 5, 6, 10), (1, 3, 5, 6, 12), (1, 3, 5, 6, 15), (1, 3, 5, 6, 20), (1, 3, 5, 6, 30), (1, 3, 5, 10, 12), (1, 3, 5, 10, 15), (1, 3, 5, 10, 20), (1, 3, 5, 10, 30), (1, 3, 5, 12, 15), (1, 3, 5, 12, 20), (1, 3, 5, 12, 30), (1, 3, 5, 15, 20), (1, 3, 5, 15, 30), (1, 3, 5, 20, 30), (1, 3, 6, 10, 12), (1, 3, 6, 10, 15), (1, 3, 6, 10, 20), (1, 3, 6, 10, 30), (1, 3, 6, 12, 15), (1, 3, 6, 12, 20), (1, 3, 6, 12, 30), (1, 3, 6, 15, 20), (1, 3, 6, 15, 30), (1, 3, 6, 20, 30), (1, 3, 10, 12, 15), (1, 3, 10, 12, 20), (1, 3, 10, 12, 30), (1, 3, 10, 15, 20), (1, 3, 10, 15, 30), (1, 3, 10, 20, 30), (1, 3, 12, 15, 20), (1, 3, 12, 15, 30), (1, 3, 12, 20, 30), (1, 3, 15, 20, 30), (1, 4, 5, 6, 10), (1, 4, 5, 6, 12), (1, 4, 5, 6, 15), (1, 4, 5, 6, 20), (1, 4, 5, 6, 30), (1, 4, 5, 10, 12), (1, 4, 5, 10, 15), (1, 4, 5, 10, 20), (1, 4, 5, 10, 30), (1, 4, 5, 12, 15), (1, 4, 5, 12, 20), (1, 4, 5, 12, 30), (1, 4, 5, 15, 20), (1, 4, 5, 15, 30), (1, 4, 5, 20, 30), (1, 4, 6, 10, 12), (1, 4, 6, 10, 15), (1, 4, 6, 10, 20), (1, 4, 6, 10, 30), (1, 4, 6, 12, 15), (1, 4, 6, 12, 20), (1, 4, 6, 12, 30), (1, 4, 6, 15, 20), (1, 4, 6, 15, 30), (1, 4, 6, 20, 30), (1, 4, 10, 12, 15), (1, 4, 10, 12, 20), (1, 4, 10, 12, 30), (1, 4, 10, 15, 20), (1, 4, 10, 15, 30), (1, 4, 10, 20, 30), (1, 4, 12, 15, 20), (1, 4, 12, 15, 30), (1, 4, 12, 20, 30), (1, 4, 15, 20, 30), (1, 5, 6, 10, 12), (1, 5, 6, 10, 15), (1, 5, 6, 10, 20), (1, 5, 6, 10, 30), (1, 5, 6, 12, 15), (1, 5, 6, 12, 20), (1, 5, 6, 12, 30), (1, 5, 6, 15, 20), (1, 5, 6, 15, 30), (1, 5, 6, 20, 30), (1, 5, 10, 12, 15), (1, 5, 10, 12, 20), (1, 5, 10, 12, 30), (1, 5, 10, 15, 20), (1, 5, 10, 15, 30), (1, 5, 10, 20, 30), (1, 5, 12, 15, 20), (1, 5, 12, 15, 30), (1, 5, 12, 20, 30), (1, 5, 15, 20, 30), (1, 6, 10, 12, 15), (1, 6, 10, 12, 20), (1, 6, 10, 12, 30), (1, 6, 10, 15, 20), (1, 6, 10, 15, 30), (1, 6, 10, 20, 30), (1, 6, 12, 15, 20), (1, 6, 12, 15, 30), (1, 6, 12, 20, 30), (1, 6, 15, 20, 30), (1, 10, 12, 15, 20), (1, 10, 12, 15, 30), (1, 10, 12, 20, 30), (1, 10, 15, 20, 30), (1, 12, 15, 20, 30), (2, 3, 4, 5, 6), (2, 3, 4, 5, 10), (2, 3, 4, 5, 12), (2, 3, 4, 5, 15), (2, 3, 4, 5, 20), (2, 3, 4, 5, 30), (2, 3, 4, 6, 10), (2, 3, 4, 6, 12), (2, 3, 4, 6, 15), (2, 3, 4, 6, 20), (2, 3, 4, 6, 30), (2, 3, 4, 10, 12), (2, 3, 4, 10, 15), (2, 3, 4, 10, 20), (2, 3, 4, 10, 30), (2, 3, 4, 12, 15), (2, 3, 4, 12, 20), (2, 3, 4, 12, 30), (2, 3, 4, 15, 20), (2, 3, 4, 15, 30), (2, 3, 4, 20, 30), (2, 3, 5, 6, 10), (2, 3, 5, 6, 12), (2, 3, 5, 6, 15), (2, 3, 5, 6, 20), (2, 3, 5, 6, 30), (2, 3, 5, 10, 12), (2, 3, 5, 10, 15), (2, 3, 5, 10, 20), (2, 3, 5, 10, 30), (2, 3, 5, 12, 15), (2, 3, 5, 12, 20), (2, 3, 5, 12, 30), (2, 3, 5, 15, 20), (2, 3, 5, 15, 30), (2, 3, 5, 20, 30), (2, 3, 6, 10, 12), (2, 3, 6, 10, 15), (2, 3, 6, 10, 20), (2, 3, 6, 10, 30), (2, 3, 6, 12, 15), (2, 3, 6, 12, 20), (2, 3, 6, 12, 30), (2, 3, 6, 15, 20), (2, 3, 6, 15, 30), (2, 3, 6, 20, 30), (2, 3, 10, 12, 15), (2, 3, 10, 12, 20), (2, 3, 10, 12, 30), (2, 3, 10, 15, 20), (2, 3, 10, 15, 30), (2, 3, 10, 20, 30), (2, 3, 12, 15, 20), (2, 3, 12, 15, 30), (2, 3, 12, 20, 30), (2, 3, 15, 20, 30), (2, 4, 5, 6, 10), (2, 4, 5, 6, 12), (2, 4, 5, 6, 15), (2, 4, 5, 6, 20), (2, 4, 5, 6, 30), (2, 4, 5, 10, 12), (2, 4, 5, 10, 15), (2, 4, 5, 10, 20), (2, 4, 5, 10, 30), (2, 4, 5, 12, 15), (2, 4, 5, 12, 20), (2, 4, 5, 12, 30), (2, 4, 5, 15, 20), (2, 4, 5, 15, 30), (2, 4, 5, 20, 30), (2, 4, 6, 10, 12), (2, 4, 6, 10, 15), (2, 4, 6, 10, 20), (2, 4, 6, 10, 30), (2, 4, 6, 12, 15), (2, 4, 6, 12, 20), (2, 4, 6, 12, 30), (2, 4, 6, 15, 20), (2, 4, 6, 15, 30), (2, 4, 6, 20, 30), (2, 4, 10, 12, 15), (2, 4, 10, 12, 20), (2, 4, 10, 12, 30), (2, 4, 10, 15, 20), (2, 4, 10, 15, 30), (2, 4, 10, 20, 30), (2, 4, 12, 15, 20), (2, 4, 12, 15, 30), (2, 4, 12, 20, 30), (2, 4, 15, 20, 30), (2, 5, 6, 10, 12), (2, 5, 6, 10, 15), (2, 5, 6, 10, 20), (2, 5, 6, 10, 30), (2, 5, 6, 12, 15), (2, 5, 6, 12, 20), (2, 5, 6, 12, 30), (2, 5, 6, 15, 20), (2, 5, 6, 15, 30), (2, 5, 6, 20, 30), (2, 5, 10, 12, 15), (2, 5, 10, 12, 20), (2, 5, 10, 12, 30), (2, 5, 10, 15, 20), (2, 5, 10, 15, 30), (2, 5, 10, 20, 30), (2, 5, 12, 15, 20), (2, 5, 12, 15, 30), (2, 5, 12, 20, 30), (2, 5, 15, 20, 30), (2, 6, 10, 12, 15), (2, 6, 10, 12, 20), (2, 6, 10, 12, 30), (2, 6, 10, 15, 20), (2, 6, 10, 15, 30), (2, 6, 10, 20, 30), (2, 6, 12, 15, 20), (2, 6, 12, 15, 30), (2, 6, 12, 20, 30), (2, 6, 15, 20, 30), (2, 10, 12, 15, 20), (2, 10, 12, 15, 30), (2, 10, 12, 20, 30), (2, 10, 15, 20, 30), (2, 12, 15, 20, 30), (3, 4, 5, 6, 10), (3, 4, 5, 6, 12), (3, 4, 5, 6, 15), (3, 4, 5, 6, 20), (3, 4, 5, 6, 30), (3, 4, 5, 10, 12), (3, 4, 5, 10, 15), (3, 4, 5, 10, 20), (3, 4, 5, 10, 30), (3, 4, 5, 12, 15), (3, 4, 5, 12, 20), (3, 4, 5, 12, 30), (3, 4, 5, 15, 20), (3, 4, 5, 15, 30), (3, 4, 5, 20, 30), (3, 4, 6, 10, 12), (3, 4, 6, 10, 15), (3, 4, 6, 10, 20), (3, 4, 6, 10, 30), (3, 4, 6, 12, 15), (3, 4, 6, 12, 20), (3, 4, 6, 12, 30), (3, 4, 6, 15, 20), (3, 4, 6, 15, 30), (3, 4, 6, 20, 30), (3, 4, 10, 12, 15), (3, 4, 10, 12, 20), (3, 4, 10, 12, 30), (3, 4, 10, 15, 20), (3, 4, 10, 15, 30), (3, 4, 10, 20, 30), (3, 4, 12, 15, 20), (3, 4, 12, 15, 30), (3, 4, 12, 20, 30), (3, 4, 15, 20, 30), (3, 5, 6, 10, 12), (3, 5, 6, 10, 15), (3, 5, 6, 10, 20), (3, 5, 6, 10, 30), (3, 5, 6, 12, 15), (3, 5, 6, 12, 20), (3, 5, 6, 12, 30), (3, 5, 6, 15, 20), (3, 5, 6, 15, 30), (3, 5, 6, 20, 30), (3, 5, 10, 12, 15), (3, 5, 10, 12, 20), (3, 5, 10, 12, 30), (3, 5, 10, 15, 20), (3, 5, 10, 15, 30), (3, 5, 10, 20, 30), (3, 5, 12, 15, 20), (3, 5, 12, 15, 30), (3, 5, 12, 20, 30), (3, 5, 15, 20, 30), (3, 6, 10, 12, 15), (3, 6, 10, 12, 20), (3, 6, 10, 12, 30), (3, 6, 10, 15, 20), (3, 6, 10, 15, 30), (3, 6, 10, 20, 30), (3, 6, 12, 15, 20), (3, 6, 12, 15, 30), (3, 6, 12, 20, 30), (3, 6, 15, 20, 30), (3, 10, 12, 15, 20), (3, 10, 12, 15, 30), (3, 10, 12, 20, 30), (3, 10, 15, 20, 30), (3, 12, 15, 20, 30), (4, 5, 6, 10, 12), (4, 5, 6, 10, 15), (4, 5, 6, 10, 20), (4, 5, 6, 10, 30), (4, 5, 6, 12, 15), (4, 5, 6, 12, 20), (4, 5, 6, 12, 30), (4, 5, 6, 15, 20), (4, 5, 6, 15, 30), (4, 5, 6, 20, 30), (4, 5, 10, 12, 15), (4, 5, 10, 12, 20), (4, 5, 10, 12, 30), (4, 5, 10, 15, 20), (4, 5, 10, 15, 30), (4, 5, 10, 20, 30), (4, 5, 12, 15, 20), (4, 5, 12, 15, 30), (4, 5, 12, 20, 30), (4, 5, 15, 20, 30), (4, 6, 10, 12, 15), (4, 6, 10, 12, 20), (4, 6, 10, 12, 30), (4, 6, 10, 15, 20), (4, 6, 10, 15, 30), (4, 6, 10, 20, 30), (4, 6, 12, 15, 20), (4, 6, 12, 15, 30), (4, 6, 12, 20, 30), (4, 6, 15, 20, 30), (4, 10, 12, 15, 20), (4, 10, 12, 15, 30), (4, 10, 12, 20, 30), (4, 10, 15, 20, 30), (4, 12, 15, 20, 30), (5, 6, 10, 12, 15), (5, 6, 10, 12, 20), (5, 6, 10, 12, 30), (5, 6, 10, 15, 20), (5, 6, 10, 15, 30), (5, 6, 10, 20, 30), (5, 6, 12, 15, 20), (5, 6, 12, 15, 30), (5, 6, 12, 20, 30), (5, 6, 15, 20, 30), (5, 10, 12, 15, 20), (5, 10, 12, 15, 30), (5, 10, 12, 20, 30), (5, 10, 15, 20, 30), (5, 12, 15, 20, 30), (6, 10, 12, 15, 20), (6, 10, 12, 15, 30), (6, 10, 12, 20, 30), (6, 10, 15, 20, 30), (6, 12, 15, 20, 30), (10, 12, 15, 20, 30)], [(1, 2, 3, 4, 5, 6), (1, 2, 3, 4, 5, 10), (1, 2, 3, 4, 5, 12), (1, 2, 3, 4, 5, 15), (1, 2, 3, 4, 5, 20), (1, 2, 3, 4, 5, 30), (1, 2, 3, 4, 6, 10), (1, 2, 3, 4, 6, 12), (1, 2, 3, 4, 6, 15), (1, 2, 3, 4, 6, 20), (1, 2, 3, 4, 6, 30), (1, 2, 3, 4, 10, 12), (1, 2, 3, 4, 10, 15), (1, 2, 3, 4, 10, 20), (1, 2, 3, 4, 10, 30), (1, 2, 3, 4, 12, 15), (1, 2, 3, 4, 12, 20), (1, 2, 3, 4, 12, 30), (1, 2, 3, 4, 15, 20), (1, 2, 3, 4, 15, 30), (1, 2, 3, 4, 20, 30), (1, 2, 3, 5, 6, 10), (1, 2, 3, 5, 6, 12), (1, 2, 3, 5, 6, 15), (1, 2, 3, 5, 6, 20), (1, 2, 3, 5, 6, 30), (1, 2, 3, 5, 10, 12), (1, 2, 3, 5, 10, 15), (1, 2, 3, 5, 10, 20), (1, 2, 3, 5, 10, 30), (1, 2, 3, 5, 12, 15), (1, 2, 3, 5, 12, 20), (1, 2, 3, 5, 12, 30), (1, 2, 3, 5, 15, 20), (1, 2, 3, 5, 15, 30), (1, 2, 3, 5, 20, 30), (1, 2, 3, 6, 10, 12), (1, 2, 3, 6, 10, 15), (1, 2, 3, 6, 10, 20), (1, 2, 3, 6, 10, 30), (1, 2, 3, 6, 12, 15), (1, 2, 3, 6, 12, 20), (1, 2, 3, 6, 12, 30), (1, 2, 3, 6, 15, 20), (1, 2, 3, 6, 15, 30), (1, 2, 3, 6, 20, 30), (1, 2, 3, 10, 12, 15), (1, 2, 3, 10, 12, 20), (1, 2, 3, 10, 12, 30), (1, 2, 3, 10, 15, 20), (1, 2, 3, 10, 15, 30), (1, 2, 3, 10, 20, 30), (1, 2, 3, 12, 15, 20), (1, 2, 3, 12, 15, 30), (1, 2, 3, 12, 20, 30), (1, 2, 3, 15, 20, 30), (1, 2, 4, 5, 6, 10), (1, 2, 4, 5, 6, 12), (1, 2, 4, 5, 6, 15), (1, 2, 4, 5, 6, 20), (1, 2, 4, 5, 6, 30), (1, 2, 4, 5, 10, 12), (1, 2, 4, 5, 10, 15), (1, 2, 4, 5, 10, 20), (1, 2, 4, 5, 10, 30), (1, 2, 4, 5, 12, 15), (1, 2, 4, 5, 12, 20), (1, 2, 4, 5, 12, 30), (1, 2, 4, 5, 15, 20), (1, 2, 4, 5, 15, 30), (1, 2, 4, 5, 20, 30), (1, 2, 4, 6, 10, 12), (1, 2, 4, 6, 10, 15), (1, 2, 4, 6, 10, 20), (1, 2, 4, 6, 10, 30), (1, 2, 4, 6, 12, 15), (1, 2, 4, 6, 12, 20), (1, 2, 4, 6, 12, 30), (1, 2, 4, 6, 15, 20), (1, 2, 4, 6, 15, 30), (1, 2, 4, 6, 20, 30), (1, 2, 4, 10, 12, 15), (1, 2, 4, 10, 12, 20), (1, 2, 4, 10, 12, 30), (1, 2, 4, 10, 15, 20), (1, 2, 4, 10, 15, 30), (1, 2, 4, 10, 20, 30), (1, 2, 4, 12, 15, 20), (1, 2, 4, 12, 15, 30), (1, 2, 4, 12, 20, 30), (1, 2, 4, 15, 20, 30), (1, 2, 5, 6, 10, 12), (1, 2, 5, 6, 10, 15), (1, 2, 5, 6, 10, 20), (1, 2, 5, 6, 10, 30), (1, 2, 5, 6, 12, 15), (1, 2, 5, 6, 12, 20), (1, 2, 5, 6, 12, 30), (1, 2, 5, 6, 15, 20), (1, 2, 5, 6, 15, 30), (1, 2, 5, 6, 20, 30), (1, 2, 5, 10, 12, 15), (1, 2, 5, 10, 12, 20), (1, 2, 5, 10, 12, 30), (1, 2, 5, 10, 15, 20), (1, 2, 5, 10, 15, 30), (1, 2, 5, 10, 20, 30), (1, 2, 5, 12, 15, 20), (1, 2, 5, 12, 15, 30), (1, 2, 5, 12, 20, 30), (1, 2, 5, 15, 20, 30), (1, 2, 6, 10, 12, 15), (1, 2, 6, 10, 12, 20), (1, 2, 6, 10, 12, 30), (1, 2, 6, 10, 15, 20), (1, 2, 6, 10, 15, 30), (1, 2, 6, 10, 20, 30), (1, 2, 6, 12, 15, 20), (1, 2, 6, 12, 15, 30), (1, 2, 6, 12, 20, 30), (1, 2, 6, 15, 20, 30), (1, 2, 10, 12, 15, 20), (1, 2, 10, 12, 15, 30), (1, 2, 10, 12, 20, 30), (1, 2, 10, 15, 20, 30), (1, 2, 12, 15, 20, 30), (1, 3, 4, 5, 6, 10), (1, 3, 4, 5, 6, 12), (1, 3, 4, 5, 6, 15), (1, 3, 4, 5, 6, 20), (1, 3, 4, 5, 6, 30), (1, 3, 4, 5, 10, 12), (1, 3, 4, 5, 10, 15), (1, 3, 4, 5, 10, 20), (1, 3, 4, 5, 10, 30), (1, 3, 4, 5, 12, 15), (1, 3, 4, 5, 12, 20), (1, 3, 4, 5, 12, 30), (1, 3, 4, 5, 15, 20), (1, 3, 4, 5, 15, 30), (1, 3, 4, 5, 20, 30), (1, 3, 4, 6, 10, 12), (1, 3, 4, 6, 10, 15), (1, 3, 4, 6, 10, 20), (1, 3, 4, 6, 10, 30), (1, 3, 4, 6, 12, 15), (1, 3, 4, 6, 12, 20), (1, 3, 4, 6, 12, 30), (1, 3, 4, 6, 15, 20), (1, 3, 4, 6, 15, 30), (1, 3, 4, 6, 20, 30), (1, 3, 4, 10, 12, 15), (1, 3, 4, 10, 12, 20), (1, 3, 4, 10, 12, 30), (1, 3, 4, 10, 15, 20), (1, 3, 4, 10, 15, 30), (1, 3, 4, 10, 20, 30), (1, 3, 4, 12, 15, 20), (1, 3, 4, 12, 15, 30), (1, 3, 4, 12, 20, 30), (1, 3, 4, 15, 20, 30), (1, 3, 5, 6, 10, 12), (1, 3, 5, 6, 10, 15), (1, 3, 5, 6, 10, 20), (1, 3, 5, 6, 10, 30), (1, 3, 5, 6, 12, 15), (1, 3, 5, 6, 12, 20), (1, 3, 5, 6, 12, 30), (1, 3, 5, 6, 15, 20), (1, 3, 5, 6, 15, 30), (1, 3, 5, 6, 20, 30), (1, 3, 5, 10, 12, 15), (1, 3, 5, 10, 12, 20), (1, 3, 5, 10, 12, 30), (1, 3, 5, 10, 15, 20), (1, 3, 5, 10, 15, 30), (1, 3, 5, 10, 20, 30), (1, 3, 5, 12, 15, 20), (1, 3, 5, 12, 15, 30), (1, 3, 5, 12, 20, 30), (1, 3, 5, 15, 20, 30), (1, 3, 6, 10, 12, 15), (1, 3, 6, 10, 12, 20), (1, 3, 6, 10, 12, 30), (1, 3, 6, 10, 15, 20), (1, 3, 6, 10, 15, 30), (1, 3, 6, 10, 20, 30), (1, 3, 6, 12, 15, 20), (1, 3, 6, 12, 15, 30), (1, 3, 6, 12, 20, 30), (1, 3, 6, 15, 20, 30), (1, 3, 10, 12, 15, 20), (1, 3, 10, 12, 15, 30), (1, 3, 10, 12, 20, 30), (1, 3, 10, 15, 20, 30), (1, 3, 12, 15, 20, 30), (1, 4, 5, 6, 10, 12), (1, 4, 5, 6, 10, 15), (1, 4, 5, 6, 10, 20), (1, 4, 5, 6, 10, 30), (1, 4, 5, 6, 12, 15), (1, 4, 5, 6, 12, 20), (1, 4, 5, 6, 12, 30), (1, 4, 5, 6, 15, 20), (1, 4, 5, 6, 15, 30), (1, 4, 5, 6, 20, 30), (1, 4, 5, 10, 12, 15), (1, 4, 5, 10, 12, 20), (1, 4, 5, 10, 12, 30), (1, 4, 5, 10, 15, 20), (1, 4, 5, 10, 15, 30), (1, 4, 5, 10, 20, 30), (1, 4, 5, 12, 15, 20), (1, 4, 5, 12, 15, 30), (1, 4, 5, 12, 20, 30), (1, 4, 5, 15, 20, 30), (1, 4, 6, 10, 12, 15), (1, 4, 6, 10, 12, 20), (1, 4, 6, 10, 12, 30), (1, 4, 6, 10, 15, 20), (1, 4, 6, 10, 15, 30), (1, 4, 6, 10, 20, 30), (1, 4, 6, 12, 15, 20), (1, 4, 6, 12, 15, 30), (1, 4, 6, 12, 20, 30), (1, 4, 6, 15, 20, 30), (1, 4, 10, 12, 15, 20), (1, 4, 10, 12, 15, 30), (1, 4, 10, 12, 20, 30), (1, 4, 10, 15, 20, 30), (1, 4, 12, 15, 20, 30), (1, 5, 6, 10, 12, 15), (1, 5, 6, 10, 12, 20), (1, 5, 6, 10, 12, 30), (1, 5, 6, 10, 15, 20), (1, 5, 6, 10, 15, 30), (1, 5, 6, 10, 20, 30), (1, 5, 6, 12, 15, 20), (1, 5, 6, 12, 15, 30), (1, 5, 6, 12, 20, 30), (1, 5, 6, 15, 20, 30), (1, 5, 10, 12, 15, 20), (1, 5, 10, 12, 15, 30), (1, 5, 10, 12, 20, 30), (1, 5, 10, 15, 20, 30), (1, 5, 12, 15, 20, 30), (1, 6, 10, 12, 15, 20), (1, 6, 10, 12, 15, 30), (1, 6, 10, 12, 20, 30), (1, 6, 10, 15, 20, 30), (1, 6, 12, 15, 20, 30), (1, 10, 12, 15, 20, 30), (2, 3, 4, 5, 6, 10), (2, 3, 4, 5, 6, 12), (2, 3, 4, 5, 6, 15), (2, 3, 4, 5, 6, 20), (2, 3, 4, 5, 6, 30), (2, 3, 4, 5, 10, 12), (2, 3, 4, 5, 10, 15), (2, 3, 4, 5, 10, 20), (2, 3, 4, 5, 10, 30), (2, 3, 4, 5, 12, 15), (2, 3, 4, 5, 12, 20), (2, 3, 4, 5, 12, 30), (2, 3, 4, 5, 15, 20), (2, 3, 4, 5, 15, 30), (2, 3, 4, 5, 20, 30), (2, 3, 4, 6, 10, 12), (2, 3, 4, 6, 10, 15), (2, 3, 4, 6, 10, 20), (2, 3, 4, 6, 10, 30), (2, 3, 4, 6, 12, 15), (2, 3, 4, 6, 12, 20), (2, 3, 4, 6, 12, 30), (2, 3, 4, 6, 15, 20), (2, 3, 4, 6, 15, 30), (2, 3, 4, 6, 20, 30), (2, 3, 4, 10, 12, 15), (2, 3, 4, 10, 12, 20), (2, 3, 4, 10, 12, 30), (2, 3, 4, 10, 15, 20), (2, 3, 4, 10, 15, 30), (2, 3, 4, 10, 20, 30), (2, 3, 4, 12, 15, 20), (2, 3, 4, 12, 15, 30), (2, 3, 4, 12, 20, 30), (2, 3, 4, 15, 20, 30), (2, 3, 5, 6, 10, 12), (2, 3, 5, 6, 10, 15), (2, 3, 5, 6, 10, 20), (2, 3, 5, 6, 10, 30), (2, 3, 5, 6, 12, 15), (2, 3, 5, 6, 12, 20), (2, 3, 5, 6, 12, 30), (2, 3, 5, 6, 15, 20), (2, 3, 5, 6, 15, 30), (2, 3, 5, 6, 20, 30), (2, 3, 5, 10, 12, 15), (2, 3, 5, 10, 12, 20), (2, 3, 5, 10, 12, 30), (2, 3, 5, 10, 15, 20), (2, 3, 5, 10, 15, 30), (2, 3, 5, 10, 20, 30), (2, 3, 5, 12, 15, 20), (2, 3, 5, 12, 15, 30), (2, 3, 5, 12, 20, 30), (2, 3, 5, 15, 20, 30), (2, 3, 6, 10, 12, 15), (2, 3, 6, 10, 12, 20), (2, 3, 6, 10, 12, 30), (2, 3, 6, 10, 15, 20), (2, 3, 6, 10, 15, 30), (2, 3, 6, 10, 20, 30), (2, 3, 6, 12, 15, 20), (2, 3, 6, 12, 15, 30), (2, 3, 6, 12, 20, 30), (2, 3, 6, 15, 20, 30), (2, 3, 10, 12, 15, 20), (2, 3, 10, 12, 15, 30), (2, 3, 10, 12, 20, 30), (2, 3, 10, 15, 20, 30), (2, 3, 12, 15, 20, 30), (2, 4, 5, 6, 10, 12), (2, 4, 5, 6, 10, 15), (2, 4, 5, 6, 10, 20), (2, 4, 5, 6, 10, 30), (2, 4, 5, 6, 12, 15), (2, 4, 5, 6, 12, 20), (2, 4, 5, 6, 12, 30), (2, 4, 5, 6, 15, 20), (2, 4, 5, 6, 15, 30), (2, 4, 5, 6, 20, 30), (2, 4, 5, 10, 12, 15), (2, 4, 5, 10, 12, 20), (2, 4, 5, 10, 12, 30), (2, 4, 5, 10, 15, 20), (2, 4, 5, 10, 15, 30), (2, 4, 5, 10, 20, 30), (2, 4, 5, 12, 15, 20), (2, 4, 5, 12, 15, 30), (2, 4, 5, 12, 20, 30), (2, 4, 5, 15, 20, 30), (2, 4, 6, 10, 12, 15), (2, 4, 6, 10, 12, 20), (2, 4, 6, 10, 12, 30), (2, 4, 6, 10, 15, 20), (2, 4, 6, 10, 15, 30), (2, 4, 6, 10, 20, 30), (2, 4, 6, 12, 15, 20), (2, 4, 6, 12, 15, 30), (2, 4, 6, 12, 20, 30), (2, 4, 6, 15, 20, 30), (2, 4, 10, 12, 15, 20), (2, 4, 10, 12, 15, 30), (2, 4, 10, 12, 20, 30), (2, 4, 10, 15, 20, 30), (2, 4, 12, 15, 20, 30), (2, 5, 6, 10, 12, 15), (2, 5, 6, 10, 12, 20), (2, 5, 6, 10, 12, 30), (2, 5, 6, 10, 15, 20), (2, 5, 6, 10, 15, 30), (2, 5, 6, 10, 20, 30), (2, 5, 6, 12, 15, 20), (2, 5, 6, 12, 15, 30), (2, 5, 6, 12, 20, 30), (2, 5, 6, 15, 20, 30), (2, 5, 10, 12, 15, 20), (2, 5, 10, 12, 15, 30), (2, 5, 10, 12, 20, 30), (2, 5, 10, 15, 20, 30), (2, 5, 12, 15, 20, 30), (2, 6, 10, 12, 15, 20), (2, 6, 10, 12, 15, 30), (2, 6, 10, 12, 20, 30), (2, 6, 10, 15, 20, 30), (2, 6, 12, 15, 20, 30), (2, 10, 12, 15, 20, 30), (3, 4, 5, 6, 10, 12), (3, 4, 5, 6, 10, 15), (3, 4, 5, 6, 10, 20), (3, 4, 5, 6, 10, 30), (3, 4, 5, 6, 12, 15), (3, 4, 5, 6, 12, 20), (3, 4, 5, 6, 12, 30), (3, 4, 5, 6, 15, 20), (3, 4, 5, 6, 15, 30), (3, 4, 5, 6, 20, 30), (3, 4, 5, 10, 12, 15), (3, 4, 5, 10, 12, 20), (3, 4, 5, 10, 12, 30), (3, 4, 5, 10, 15, 20), (3, 4, 5, 10, 15, 30), (3, 4, 5, 10, 20, 30), (3, 4, 5, 12, 15, 20), (3, 4, 5, 12, 15, 30), (3, 4, 5, 12, 20, 30), (3, 4, 5, 15, 20, 30), (3, 4, 6, 10, 12, 15), (3, 4, 6, 10, 12, 20), (3, 4, 6, 10, 12, 30), (3, 4, 6, 10, 15, 20), (3, 4, 6, 10, 15, 30), (3, 4, 6, 10, 20, 30), (3, 4, 6, 12, 15, 20), (3, 4, 6, 12, 15, 30), (3, 4, 6, 12, 20, 30), (3, 4, 6, 15, 20, 30), (3, 4, 10, 12, 15, 20), (3, 4, 10, 12, 15, 30), (3, 4, 10, 12, 20, 30), (3, 4, 10, 15, 20, 30), (3, 4, 12, 15, 20, 30), (3, 5, 6, 10, 12, 15), (3, 5, 6, 10, 12, 20), (3, 5, 6, 10, 12, 30), (3, 5, 6, 10, 15, 20), (3, 5, 6, 10, 15, 30), (3, 5, 6, 10, 20, 30), (3, 5, 6, 12, 15, 20), (3, 5, 6, 12, 15, 30), (3, 5, 6, 12, 20, 30), (3, 5, 6, 15, 20, 30), (3, 5, 10, 12, 15, 20), (3, 5, 10, 12, 15, 30), (3, 5, 10, 12, 20, 30), (3, 5, 10, 15, 20, 30), (3, 5, 12, 15, 20, 30), (3, 6, 10, 12, 15, 20), (3, 6, 10, 12, 15, 30), (3, 6, 10, 12, 20, 30), (3, 6, 10, 15, 20, 30), (3, 6, 12, 15, 20, 30), (3, 10, 12, 15, 20, 30), (4, 5, 6, 10, 12, 15), (4, 5, 6, 10, 12, 20), (4, 5, 6, 10, 12, 30), (4, 5, 6, 10, 15, 20), (4, 5, 6, 10, 15, 30), (4, 5, 6, 10, 20, 30), (4, 5, 6, 12, 15, 20), (4, 5, 6, 12, 15, 30), (4, 5, 6, 12, 20, 30), (4, 5, 6, 15, 20, 30), (4, 5, 10, 12, 15, 20), (4, 5, 10, 12, 15, 30), (4, 5, 10, 12, 20, 30), (4, 5, 10, 15, 20, 30), (4, 5, 12, 15, 20, 30), (4, 6, 10, 12, 15, 20), (4, 6, 10, 12, 15, 30), (4, 6, 10, 12, 20, 30), (4, 6, 10, 15, 20, 30), (4, 6, 12, 15, 20, 30), (4, 10, 12, 15, 20, 30), (5, 6, 10, 12, 15, 20), (5, 6, 10, 12, 15, 30), (5, 6, 10, 12, 20, 30), (5, 6, 10, 15, 20, 30), (5, 6, 12, 15, 20, 30), (5, 10, 12, 15, 20, 30), (6, 10, 12, 15, 20, 30)], [(1, 2, 3, 4, 5, 6, 10), (1, 2, 3, 4, 5, 6, 12), (1, 2, 3, 4, 5, 6, 15), (1, 2, 3, 4, 5, 6, 20), (1, 2, 3, 4, 5, 6, 30), (1, 2, 3, 4, 5, 10, 12), (1, 2, 3, 4, 5, 10, 15), (1, 2, 3, 4, 5, 10, 20), (1, 2, 3, 4, 5, 10, 30), (1, 2, 3, 4, 5, 12, 15), (1, 2, 3, 4, 5, 12, 20), (1, 2, 3, 4, 5, 12, 30), (1, 2, 3, 4, 5, 15, 20), (1, 2, 3, 4, 5, 15, 30), (1, 2, 3, 4, 5, 20, 30), (1, 2, 3, 4, 6, 10, 12), (1, 2, 3, 4, 6, 10, 15), (1, 2, 3, 4, 6, 10, 20), (1, 2, 3, 4, 6, 10, 30), (1, 2, 3, 4, 6, 12, 15), (1, 2, 3, 4, 6, 12, 20), (1, 2, 3, 4, 6, 12, 30), (1, 2, 3, 4, 6, 15, 20), (1, 2, 3, 4, 6, 15, 30), (1, 2, 3, 4, 6, 20, 30), (1, 2, 3, 4, 10, 12, 15), (1, 2, 3, 4, 10, 12, 20), (1, 2, 3, 4, 10, 12, 30), (1, 2, 3, 4, 10, 15, 20), (1, 2, 3, 4, 10, 15, 30), (1, 2, 3, 4, 10, 20, 30), (1, 2, 3, 4, 12, 15, 20), (1, 2, 3, 4, 12, 15, 30), (1, 2, 3, 4, 12, 20, 30), (1, 2, 3, 4, 15, 20, 30), (1, 2, 3, 5, 6, 10, 12), (1, 2, 3, 5, 6, 10, 15), (1, 2, 3, 5, 6, 10, 20), (1, 2, 3, 5, 6, 10, 30), (1, 2, 3, 5, 6, 12, 15), (1, 2, 3, 5, 6, 12, 20), (1, 2, 3, 5, 6, 12, 30), (1, 2, 3, 5, 6, 15, 20), (1, 2, 3, 5, 6, 15, 30), (1, 2, 3, 5, 6, 20, 30), (1, 2, 3, 5, 10, 12, 15), (1, 2, 3, 5, 10, 12, 20), (1, 2, 3, 5, 10, 12, 30), (1, 2, 3, 5, 10, 15, 20), (1, 2, 3, 5, 10, 15, 30), (1, 2, 3, 5, 10, 20, 30), (1, 2, 3, 5, 12, 15, 20), (1, 2, 3, 5, 12, 15, 30), (1, 2, 3, 5, 12, 20, 30), (1, 2, 3, 5, 15, 20, 30), (1, 2, 3, 6, 10, 12, 15), (1, 2, 3, 6, 10, 12, 20), (1, 2, 3, 6, 10, 12, 30), (1, 2, 3, 6, 10, 15, 20), (1, 2, 3, 6, 10, 15, 30), (1, 2, 3, 6, 10, 20, 30), (1, 2, 3, 6, 12, 15, 20), (1, 2, 3, 6, 12, 15, 30), (1, 2, 3, 6, 12, 20, 30), (1, 2, 3, 6, 15, 20, 30), (1, 2, 3, 10, 12, 15, 20), (1, 2, 3, 10, 12, 15, 30), (1, 2, 3, 10, 12, 20, 30), (1, 2, 3, 10, 15, 20, 30), (1, 2, 3, 12, 15, 20, 30), (1, 2, 4, 5, 6, 10, 12), (1, 2, 4, 5, 6, 10, 15), (1, 2, 4, 5, 6, 10, 20), (1, 2, 4, 5, 6, 10, 30), (1, 2, 4, 5, 6, 12, 15), (1, 2, 4, 5, 6, 12, 20), (1, 2, 4, 5, 6, 12, 30), (1, 2, 4, 5, 6, 15, 20), (1, 2, 4, 5, 6, 15, 30), (1, 2, 4, 5, 6, 20, 30), (1, 2, 4, 5, 10, 12, 15), (1, 2, 4, 5, 10, 12, 20), (1, 2, 4, 5, 10, 12, 30), (1, 2, 4, 5, 10, 15, 20), (1, 2, 4, 5, 10, 15, 30), (1, 2, 4, 5, 10, 20, 30), (1, 2, 4, 5, 12, 15, 20), (1, 2, 4, 5, 12, 15, 30), (1, 2, 4, 5, 12, 20, 30), (1, 2, 4, 5, 15, 20, 30), (1, 2, 4, 6, 10, 12, 15), (1, 2, 4, 6, 10, 12, 20), (1, 2, 4, 6, 10, 12, 30), (1, 2, 4, 6, 10, 15, 20), (1, 2, 4, 6, 10, 15, 30), (1, 2, 4, 6, 10, 20, 30), (1, 2, 4, 6, 12, 15, 20), (1, 2, 4, 6, 12, 15, 30), (1, 2, 4, 6, 12, 20, 30), (1, 2, 4, 6, 15, 20, 30), (1, 2, 4, 10, 12, 15, 20), (1, 2, 4, 10, 12, 15, 30), (1, 2, 4, 10, 12, 20, 30), (1, 2, 4, 10, 15, 20, 30), (1, 2, 4, 12, 15, 20, 30), (1, 2, 5, 6, 10, 12, 15), (1, 2, 5, 6, 10, 12, 20), (1, 2, 5, 6, 10, 12, 30), (1, 2, 5, 6, 10, 15, 20), (1, 2, 5, 6, 10, 15, 30), (1, 2, 5, 6, 10, 20, 30), (1, 2, 5, 6, 12, 15, 20), (1, 2, 5, 6, 12, 15, 30), (1, 2, 5, 6, 12, 20, 30), (1, 2, 5, 6, 15, 20, 30), (1, 2, 5, 10, 12, 15, 20), (1, 2, 5, 10, 12, 15, 30), (1, 2, 5, 10, 12, 20, 30), (1, 2, 5, 10, 15, 20, 30), (1, 2, 5, 12, 15, 20, 30), (1, 2, 6, 10, 12, 15, 20), (1, 2, 6, 10, 12, 15, 30), (1, 2, 6, 10, 12, 20, 30), (1, 2, 6, 10, 15, 20, 30), (1, 2, 6, 12, 15, 20, 30), (1, 2, 10, 12, 15, 20, 30), (1, 3, 4, 5, 6, 10, 12), (1, 3, 4, 5, 6, 10, 15), (1, 3, 4, 5, 6, 10, 20), (1, 3, 4, 5, 6, 10, 30), (1, 3, 4, 5, 6, 12, 15), (1, 3, 4, 5, 6, 12, 20), (1, 3, 4, 5, 6, 12, 30), (1, 3, 4, 5, 6, 15, 20), (1, 3, 4, 5, 6, 15, 30), (1, 3, 4, 5, 6, 20, 30), (1, 3, 4, 5, 10, 12, 15), (1, 3, 4, 5, 10, 12, 20), (1, 3, 4, 5, 10, 12, 30), (1, 3, 4, 5, 10, 15, 20), (1, 3, 4, 5, 10, 15, 30), (1, 3, 4, 5, 10, 20, 30), (1, 3, 4, 5, 12, 15, 20), (1, 3, 4, 5, 12, 15, 30), (1, 3, 4, 5, 12, 20, 30), (1, 3, 4, 5, 15, 20, 30), (1, 3, 4, 6, 10, 12, 15), (1, 3, 4, 6, 10, 12, 20), (1, 3, 4, 6, 10, 12, 30), (1, 3, 4, 6, 10, 15, 20), (1, 3, 4, 6, 10, 15, 30), (1, 3, 4, 6, 10, 20, 30), (1, 3, 4, 6, 12, 15, 20), (1, 3, 4, 6, 12, 15, 30), (1, 3, 4, 6, 12, 20, 30), (1, 3, 4, 6, 15, 20, 30), (1, 3, 4, 10, 12, 15, 20), (1, 3, 4, 10, 12, 15, 30), (1, 3, 4, 10, 12, 20, 30), (1, 3, 4, 10, 15, 20, 30), (1, 3, 4, 12, 15, 20, 30), (1, 3, 5, 6, 10, 12, 15), (1, 3, 5, 6, 10, 12, 20), (1, 3, 5, 6, 10, 12, 30), (1, 3, 5, 6, 10, 15, 20), (1, 3, 5, 6, 10, 15, 30), (1, 3, 5, 6, 10, 20, 30), (1, 3, 5, 6, 12, 15, 20), (1, 3, 5, 6, 12, 15, 30), (1, 3, 5, 6, 12, 20, 30), (1, 3, 5, 6, 15, 20, 30), (1, 3, 5, 10, 12, 15, 20), (1, 3, 5, 10, 12, 15, 30), (1, 3, 5, 10, 12, 20, 30), (1, 3, 5, 10, 15, 20, 30), (1, 3, 5, 12, 15, 20, 30), (1, 3, 6, 10, 12, 15, 20), (1, 3, 6, 10, 12, 15, 30), (1, 3, 6, 10, 12, 20, 30), (1, 3, 6, 10, 15, 20, 30), (1, 3, 6, 12, 15, 20, 30), (1, 3, 10, 12, 15, 20, 30), (1, 4, 5, 6, 10, 12, 15), (1, 4, 5, 6, 10, 12, 20), (1, 4, 5, 6, 10, 12, 30), (1, 4, 5, 6, 10, 15, 20), (1, 4, 5, 6, 10, 15, 30), (1, 4, 5, 6, 10, 20, 30), (1, 4, 5, 6, 12, 15, 20), (1, 4, 5, 6, 12, 15, 30), (1, 4, 5, 6, 12, 20, 30), (1, 4, 5, 6, 15, 20, 30), (1, 4, 5, 10, 12, 15, 20), (1, 4, 5, 10, 12, 15, 30), (1, 4, 5, 10, 12, 20, 30), (1, 4, 5, 10, 15, 20, 30), (1, 4, 5, 12, 15, 20, 30), (1, 4, 6, 10, 12, 15, 20), (1, 4, 6, 10, 12, 15, 30), (1, 4, 6, 10, 12, 20, 30), (1, 4, 6, 10, 15, 20, 30), (1, 4, 6, 12, 15, 20, 30), (1, 4, 10, 12, 15, 20, 30), (1, 5, 6, 10, 12, 15, 20), (1, 5, 6, 10, 12, 15, 30), (1, 5, 6, 10, 12, 20, 30), (1, 5, 6, 10, 15, 20, 30), (1, 5, 6, 12, 15, 20, 30), (1, 5, 10, 12, 15, 20, 30), (1, 6, 10, 12, 15, 20, 30), (2, 3, 4, 5, 6, 10, 12), (2, 3, 4, 5, 6, 10, 15), (2, 3, 4, 5, 6, 10, 20), (2, 3, 4, 5, 6, 10, 30), (2, 3, 4, 5, 6, 12, 15), (2, 3, 4, 5, 6, 12, 20), (2, 3, 4, 5, 6, 12, 30), (2, 3, 4, 5, 6, 15, 20), (2, 3, 4, 5, 6, 15, 30), (2, 3, 4, 5, 6, 20, 30), (2, 3, 4, 5, 10, 12, 15), (2, 3, 4, 5, 10, 12, 20), (2, 3, 4, 5, 10, 12, 30), (2, 3, 4, 5, 10, 15, 20), (2, 3, 4, 5, 10, 15, 30), (2, 3, 4, 5, 10, 20, 30), (2, 3, 4, 5, 12, 15, 20), (2, 3, 4, 5, 12, 15, 30), (2, 3, 4, 5, 12, 20, 30), (2, 3, 4, 5, 15, 20, 30), (2, 3, 4, 6, 10, 12, 15), (2, 3, 4, 6, 10, 12, 20), (2, 3, 4, 6, 10, 12, 30), (2, 3, 4, 6, 10, 15, 20), (2, 3, 4, 6, 10, 15, 30), (2, 3, 4, 6, 10, 20, 30), (2, 3, 4, 6, 12, 15, 20), (2, 3, 4, 6, 12, 15, 30), (2, 3, 4, 6, 12, 20, 30), (2, 3, 4, 6, 15, 20, 30), (2, 3, 4, 10, 12, 15, 20), (2, 3, 4, 10, 12, 15, 30), (2, 3, 4, 10, 12, 20, 30), (2, 3, 4, 10, 15, 20, 30), (2, 3, 4, 12, 15, 20, 30), (2, 3, 5, 6, 10, 12, 15), (2, 3, 5, 6, 10, 12, 20), (2, 3, 5, 6, 10, 12, 30), (2, 3, 5, 6, 10, 15, 20), (2, 3, 5, 6, 10, 15, 30), (2, 3, 5, 6, 10, 20, 30), (2, 3, 5, 6, 12, 15, 20), (2, 3, 5, 6, 12, 15, 30), (2, 3, 5, 6, 12, 20, 30), (2, 3, 5, 6, 15, 20, 30), (2, 3, 5, 10, 12, 15, 20), (2, 3, 5, 10, 12, 15, 30), (2, 3, 5, 10, 12, 20, 30), (2, 3, 5, 10, 15, 20, 30), (2, 3, 5, 12, 15, 20, 30), (2, 3, 6, 10, 12, 15, 20), (2, 3, 6, 10, 12, 15, 30), (2, 3, 6, 10, 12, 20, 30), (2, 3, 6, 10, 15, 20, 30), (2, 3, 6, 12, 15, 20, 30), (2, 3, 10, 12, 15, 20, 30), (2, 4, 5, 6, 10, 12, 15), (2, 4, 5, 6, 10, 12, 20), (2, 4, 5, 6, 10, 12, 30), (2, 4, 5, 6, 10, 15, 20), (2, 4, 5, 6, 10, 15, 30), (2, 4, 5, 6, 10, 20, 30), (2, 4, 5, 6, 12, 15, 20), (2, 4, 5, 6, 12, 15, 30), (2, 4, 5, 6, 12, 20, 30), (2, 4, 5, 6, 15, 20, 30), (2, 4, 5, 10, 12, 15, 20), (2, 4, 5, 10, 12, 15, 30), (2, 4, 5, 10, 12, 20, 30), (2, 4, 5, 10, 15, 20, 30), (2, 4, 5, 12, 15, 20, 30), (2, 4, 6, 10, 12, 15, 20), (2, 4, 6, 10, 12, 15, 30), (2, 4, 6, 10, 12, 20, 30), (2, 4, 6, 10, 15, 20, 30), (2, 4, 6, 12, 15, 20, 30), (2, 4, 10, 12, 15, 20, 30), (2, 5, 6, 10, 12, 15, 20), (2, 5, 6, 10, 12, 15, 30), (2, 5, 6, 10, 12, 20, 30), (2, 5, 6, 10, 15, 20, 30), (2, 5, 6, 12, 15, 20, 30), (2, 5, 10, 12, 15, 20, 30), (2, 6, 10, 12, 15, 20, 30), (3, 4, 5, 6, 10, 12, 15), (3, 4, 5, 6, 10, 12, 20), (3, 4, 5, 6, 10, 12, 30), (3, 4, 5, 6, 10, 15, 20), (3, 4, 5, 6, 10, 15, 30), (3, 4, 5, 6, 10, 20, 30), (3, 4, 5, 6, 12, 15, 20), (3, 4, 5, 6, 12, 15, 30), (3, 4, 5, 6, 12, 20, 30), (3, 4, 5, 6, 15, 20, 30), (3, 4, 5, 10, 12, 15, 20), (3, 4, 5, 10, 12, 15, 30), (3, 4, 5, 10, 12, 20, 30), (3, 4, 5, 10, 15, 20, 30), (3, 4, 5, 12, 15, 20, 30), (3, 4, 6, 10, 12, 15, 20), (3, 4, 6, 10, 12, 15, 30), (3, 4, 6, 10, 12, 20, 30), (3, 4, 6, 10, 15, 20, 30), (3, 4, 6, 12, 15, 20, 30), (3, 4, 10, 12, 15, 20, 30), (3, 5, 6, 10, 12, 15, 20), (3, 5, 6, 10, 12, 15, 30), (3, 5, 6, 10, 12, 20, 30), (3, 5, 6, 10, 15, 20, 30), (3, 5, 6, 12, 15, 20, 30), (3, 5, 10, 12, 15, 20, 30), (3, 6, 10, 12, 15, 20, 30), (4, 5, 6, 10, 12, 15, 20), (4, 5, 6, 10, 12, 15, 30), (4, 5, 6, 10, 12, 20, 30), (4, 5, 6, 10, 15, 20, 30), (4, 5, 6, 12, 15, 20, 30), (4, 5, 10, 12, 15, 20, 30), (4, 6, 10, 12, 15, 20, 30), (5, 6, 10, 12, 15, 20, 30)], [(1, 2, 3, 4, 5, 6, 10, 12), (1, 2, 3, 4, 5, 6, 10, 15), (1, 2, 3, 4, 5, 6, 10, 20), (1, 2, 3, 4, 5, 6, 10, 30), (1, 2, 3, 4, 5, 6, 12, 15), (1, 2, 3, 4, 5, 6, 12, 20), (1, 2, 3, 4, 5, 6, 12, 30), (1, 2, 3, 4, 5, 6, 15, 20), (1, 2, 3, 4, 5, 6, 15, 30), (1, 2, 3, 4, 5, 6, 20, 30), (1, 2, 3, 4, 5, 10, 12, 15), (1, 2, 3, 4, 5, 10, 12, 20), (1, 2, 3, 4, 5, 10, 12, 30), (1, 2, 3, 4, 5, 10, 15, 20), (1, 2, 3, 4, 5, 10, 15, 30), (1, 2, 3, 4, 5, 10, 20, 30), (1, 2, 3, 4, 5, 12, 15, 20), (1, 2, 3, 4, 5, 12, 15, 30), (1, 2, 3, 4, 5, 12, 20, 30), (1, 2, 3, 4, 5, 15, 20, 30), (1, 2, 3, 4, 6, 10, 12, 15), (1, 2, 3, 4, 6, 10, 12, 20), (1, 2, 3, 4, 6, 10, 12, 30), (1, 2, 3, 4, 6, 10, 15, 20), (1, 2, 3, 4, 6, 10, 15, 30), (1, 2, 3, 4, 6, 10, 20, 30), (1, 2, 3, 4, 6, 12, 15, 20), (1, 2, 3, 4, 6, 12, 15, 30), (1, 2, 3, 4, 6, 12, 20, 30), (1, 2, 3, 4, 6, 15, 20, 30), (1, 2, 3, 4, 10, 12, 15, 20), (1, 2, 3, 4, 10, 12, 15, 30), (1, 2, 3, 4, 10, 12, 20, 30), (1, 2, 3, 4, 10, 15, 20, 30), (1, 2, 3, 4, 12, 15, 20, 30), (1, 2, 3, 5, 6, 10, 12, 15), (1, 2, 3, 5, 6, 10, 12, 20), (1, 2, 3, 5, 6, 10, 12, 30), (1, 2, 3, 5, 6, 10, 15, 20), (1, 2, 3, 5, 6, 10, 15, 30), (1, 2, 3, 5, 6, 10, 20, 30), (1, 2, 3, 5, 6, 12, 15, 20), (1, 2, 3, 5, 6, 12, 15, 30), (1, 2, 3, 5, 6, 12, 20, 30), (1, 2, 3, 5, 6, 15, 20, 30), (1, 2, 3, 5, 10, 12, 15, 20), (1, 2, 3, 5, 10, 12, 15, 30), (1, 2, 3, 5, 10, 12, 20, 30), (1, 2, 3, 5, 10, 15, 20, 30), (1, 2, 3, 5, 12, 15, 20, 30), (1, 2, 3, 6, 10, 12, 15, 20), (1, 2, 3, 6, 10, 12, 15, 30), (1, 2, 3, 6, 10, 12, 20, 30), (1, 2, 3, 6, 10, 15, 20, 30), (1, 2, 3, 6, 12, 15, 20, 30), (1, 2, 3, 10, 12, 15, 20, 30), (1, 2, 4, 5, 6, 10, 12, 15), (1, 2, 4, 5, 6, 10, 12, 20), (1, 2, 4, 5, 6, 10, 12, 30), (1, 2, 4, 5, 6, 10, 15, 20), (1, 2, 4, 5, 6, 10, 15, 30), (1, 2, 4, 5, 6, 10, 20, 30), (1, 2, 4, 5, 6, 12, 15, 20), (1, 2, 4, 5, 6, 12, 15, 30), (1, 2, 4, 5, 6, 12, 20, 30), (1, 2, 4, 5, 6, 15, 20, 30), (1, 2, 4, 5, 10, 12, 15, 20), (1, 2, 4, 5, 10, 12, 15, 30), (1, 2, 4, 5, 10, 12, 20, 30), (1, 2, 4, 5, 10, 15, 20, 30), (1, 2, 4, 5, 12, 15, 20, 30), (1, 2, 4, 6, 10, 12, 15, 20), (1, 2, 4, 6, 10, 12, 15, 30), (1, 2, 4, 6, 10, 12, 20, 30), (1, 2, 4, 6, 10, 15, 20, 30), (1, 2, 4, 6, 12, 15, 20, 30), (1, 2, 4, 10, 12, 15, 20, 30), (1, 2, 5, 6, 10, 12, 15, 20), (1, 2, 5, 6, 10, 12, 15, 30), (1, 2, 5, 6, 10, 12, 20, 30), (1, 2, 5, 6, 10, 15, 20, 30), (1, 2, 5, 6, 12, 15, 20, 30), (1, 2, 5, 10, 12, 15, 20, 30), (1, 2, 6, 10, 12, 15, 20, 30), (1, 3, 4, 5, 6, 10, 12, 15), (1, 3, 4, 5, 6, 10, 12, 20), (1, 3, 4, 5, 6, 10, 12, 30), (1, 3, 4, 5, 6, 10, 15, 20), (1, 3, 4, 5, 6, 10, 15, 30), (1, 3, 4, 5, 6, 10, 20, 30), (1, 3, 4, 5, 6, 12, 15, 20), (1, 3, 4, 5, 6, 12, 15, 30), (1, 3, 4, 5, 6, 12, 20, 30), (1, 3, 4, 5, 6, 15, 20, 30), (1, 3, 4, 5, 10, 12, 15, 20), (1, 3, 4, 5, 10, 12, 15, 30), (1, 3, 4, 5, 10, 12, 20, 30), (1, 3, 4, 5, 10, 15, 20, 30), (1, 3, 4, 5, 12, 15, 20, 30), (1, 3, 4, 6, 10, 12, 15, 20), (1, 3, 4, 6, 10, 12, 15, 30), (1, 3, 4, 6, 10, 12, 20, 30), (1, 3, 4, 6, 10, 15, 20, 30), (1, 3, 4, 6, 12, 15, 20, 30), (1, 3, 4, 10, 12, 15, 20, 30), (1, 3, 5, 6, 10, 12, 15, 20), (1, 3, 5, 6, 10, 12, 15, 30), (1, 3, 5, 6, 10, 12, 20, 30), (1, 3, 5, 6, 10, 15, 20, 30), (1, 3, 5, 6, 12, 15, 20, 30), (1, 3, 5, 10, 12, 15, 20, 30), (1, 3, 6, 10, 12, 15, 20, 30), (1, 4, 5, 6, 10, 12, 15, 20), (1, 4, 5, 6, 10, 12, 15, 30), (1, 4, 5, 6, 10, 12, 20, 30), (1, 4, 5, 6, 10, 15, 20, 30), (1, 4, 5, 6, 12, 15, 20, 30), (1, 4, 5, 10, 12, 15, 20, 30), (1, 4, 6, 10, 12, 15, 20, 30), (1, 5, 6, 10, 12, 15, 20, 30), (2, 3, 4, 5, 6, 10, 12, 15), (2, 3, 4, 5, 6, 10, 12, 20), (2, 3, 4, 5, 6, 10, 12, 30), (2, 3, 4, 5, 6, 10, 15, 20), (2, 3, 4, 5, 6, 10, 15, 30), (2, 3, 4, 5, 6, 10, 20, 30), (2, 3, 4, 5, 6, 12, 15, 20), (2, 3, 4, 5, 6, 12, 15, 30), (2, 3, 4, 5, 6, 12, 20, 30), (2, 3, 4, 5, 6, 15, 20, 30), (2, 3, 4, 5, 10, 12, 15, 20), (2, 3, 4, 5, 10, 12, 15, 30), (2, 3, 4, 5, 10, 12, 20, 30), (2, 3, 4, 5, 10, 15, 20, 30), (2, 3, 4, 5, 12, 15, 20, 30), (2, 3, 4, 6, 10, 12, 15, 20), (2, 3, 4, 6, 10, 12, 15, 30), (2, 3, 4, 6, 10, 12, 20, 30), (2, 3, 4, 6, 10, 15, 20, 30), (2, 3, 4, 6, 12, 15, 20, 30), (2, 3, 4, 10, 12, 15, 20, 30), (2, 3, 5, 6, 10, 12, 15, 20), (2, 3, 5, 6, 10, 12, 15, 30), (2, 3, 5, 6, 10, 12, 20, 30), (2, 3, 5, 6, 10, 15, 20, 30), (2, 3, 5, 6, 12, 15, 20, 30), (2, 3, 5, 10, 12, 15, 20, 30), (2, 3, 6, 10, 12, 15, 20, 30), (2, 4, 5, 6, 10, 12, 15, 20), (2, 4, 5, 6, 10, 12, 15, 30), (2, 4, 5, 6, 10, 12, 20, 30), (2, 4, 5, 6, 10, 15, 20, 30), (2, 4, 5, 6, 12, 15, 20, 30), (2, 4, 5, 10, 12, 15, 20, 30), (2, 4, 6, 10, 12, 15, 20, 30), (2, 5, 6, 10, 12, 15, 20, 30), (3, 4, 5, 6, 10, 12, 15, 20), (3, 4, 5, 6, 10, 12, 15, 30), (3, 4, 5, 6, 10, 12, 20, 30), (3, 4, 5, 6, 10, 15, 20, 30), (3, 4, 5, 6, 12, 15, 20, 30), (3, 4, 5, 10, 12, 15, 20, 30), (3, 4, 6, 10, 12, 15, 20, 30), (3, 5, 6, 10, 12, 15, 20, 30), (4, 5, 6, 10, 12, 15, 20, 30)], [(1, 2, 3, 4, 5, 6, 10, 12, 15), (1, 2, 3, 4, 5, 6, 10, 12, 20), (1, 2, 3, 4, 5, 6, 10, 12, 30), (1, 2, 3, 4, 5, 6, 10, 15, 20), (1, 2, 3, 4, 5, 6, 10, 15, 30), (1, 2, 3, 4, 5, 6, 10, 20, 30), (1, 2, 3, 4, 5, 6, 12, 15, 20), (1, 2, 3, 4, 5, 6, 12, 15, 30), (1, 2, 3, 4, 5, 6, 12, 20, 30), (1, 2, 3, 4, 5, 6, 15, 20, 30), (1, 2, 3, 4, 5, 10, 12, 15, 20), (1, 2, 3, 4, 5, 10, 12, 15, 30), (1, 2, 3, 4, 5, 10, 12, 20, 30), (1, 2, 3, 4, 5, 10, 15, 20, 30), (1, 2, 3, 4, 5, 12, 15, 20, 30), (1, 2, 3, 4, 6, 10, 12, 15, 20), (1, 2, 3, 4, 6, 10, 12, 15, 30), (1, 2, 3, 4, 6, 10, 12, 20, 30), (1, 2, 3, 4, 6, 10, 15, 20, 30), (1, 2, 3, 4, 6, 12, 15, 20, 30), (1, 2, 3, 4, 10, 12, 15, 20, 30), (1, 2, 3, 5, 6, 10, 12, 15, 20), (1, 2, 3, 5, 6, 10, 12, 15, 30), (1, 2, 3, 5, 6, 10, 12, 20, 30), (1, 2, 3, 5, 6, 10, 15, 20, 30), (1, 2, 3, 5, 6, 12, 15, 20, 30), (1, 2, 3, 5, 10, 12, 15, 20, 30), (1, 2, 3, 6, 10, 12, 15, 20, 30), (1, 2, 4, 5, 6, 10, 12, 15, 20), (1, 2, 4, 5, 6, 10, 12, 15, 30), (1, 2, 4, 5, 6, 10, 12, 20, 30), (1, 2, 4, 5, 6, 10, 15, 20, 30), (1, 2, 4, 5, 6, 12, 15, 20, 30), (1, 2, 4, 5, 10, 12, 15, 20, 30), (1, 2, 4, 6, 10, 12, 15, 20, 30), (1, 2, 5, 6, 10, 12, 15, 20, 30), (1, 3, 4, 5, 6, 10, 12, 15, 20), (1, 3, 4, 5, 6, 10, 12, 15, 30), (1, 3, 4, 5, 6, 10, 12, 20, 30), (1, 3, 4, 5, 6, 10, 15, 20, 30), (1, 3, 4, 5, 6, 12, 15, 20, 30), (1, 3, 4, 5, 10, 12, 15, 20, 30), (1, 3, 4, 6, 10, 12, 15, 20, 30), (1, 3, 5, 6, 10, 12, 15, 20, 30), (1, 4, 5, 6, 10, 12, 15, 20, 30), (2, 3, 4, 5, 6, 10, 12, 15, 20), (2, 3, 4, 5, 6, 10, 12, 15, 30), (2, 3, 4, 5, 6, 10, 12, 20, 30), (2, 3, 4, 5, 6, 10, 15, 20, 30), (2, 3, 4, 5, 6, 12, 15, 20, 30), (2, 3, 4, 5, 10, 12, 15, 20, 30), (2, 3, 4, 6, 10, 12, 15, 20, 30), (2, 3, 5, 6, 10, 12, 15, 20, 30), (2, 4, 5, 6, 10, 12, 15, 20, 30), (3, 4, 5, 6, 10, 12, 15, 20, 30)], [(1, 2, 3, 4, 5, 6, 10, 12, 15, 20), (1, 2, 3, 4, 5, 6, 10, 12, 15, 30), (1, 2, 3, 4, 5, 6, 10, 12, 20, 30), (1, 2, 3, 4, 5, 6, 10, 15, 20, 30), (1, 2, 3, 4, 5, 6, 12, 15, 20, 30), (1, 2, 3, 4, 5, 10, 12, 15, 20, 30), (1, 2, 3, 4, 6, 10, 12, 15, 20, 30), (1, 2, 3, 5, 6, 10, 12, 15, 20, 30), (1, 2, 4, 5, 6, 10, 12, 15, 20, 30), (1, 3, 4, 5, 6, 10, 12, 15, 20, 30), (2, 3, 4, 5, 6, 10, 12, 15, 20, 30)], [(1, 2, 3, 4, 5, 6, 10, 12, 15, 20, 30)]]\n",
            "[[(1, 3)]]\n"
          ]
        },
        {
          "output_type": "display_data",
          "data": {
            "text/plain": [
              "<IPython.core.display.HTML object>"
            ],
            "text/html": [
              "<style>\n",
              "  table { text-align: left; border-collapse: collapse; margin: 1em; caption-side: bottom; font-family: Sans-Serif; font-size: 12px}\n",
              "  caption { text-align: left; padding: 5px }\n",
              "  th, td { border: 2px solid #BFC9CA; padding: 5px }\n",
              "  th { background-color: #BFC9CA }\n",
              "  .passed { background-color: #76D7C4 }\n",
              "  .failed { background-color: #EC7063 }\n",
              "  .skipped { background-color: #EDBB99 }\n",
              "  .score { background-color: #7DCEA0 }\n",
              "  .results .points { display: none }\n",
              "  .results .message { display: block; font-size:smaller; color:#D35400 }\n",
              "  .results .note { display: block; font-size:smaller; font-decoration:italics }\n",
              "  .results .passed::before  { content: \"Passed\" } \n",
              "  .results .skipped::before  { content: \"Skipped\" } \n",
              "  .results .failed::before  { content: \"Failed\" } \n",
              "  .grade .passed  .message:empty::before { content:\"Passed\" }\n",
              "  .grade .failed  .message:empty::before { content:\"Failed\" }\n",
              "  .grade .skipped .message:empty::before { content:\"Skipped\" }   \n",
              "</style>\n",
              "<table class='results'>\n",
              "  <th class='test'>Test</th><th class='result'>Result</th></tr>\n",
              "<tr>\n",
              "  <td class='test'>\n",
              "    Números semiperfectos, la variable debe ser booleana  \n",
              "    <div class='message'>Done</div>\n",
              "  </td>\n",
              "  <td class='result passed'></td>\n",
              "</tr>\n",
              "<tr>\n",
              "  <td class='test'>\n",
              "    Comprobando si el número 60 es semiperfectos   \n",
              "    <div class='message'>Done</div>\n",
              "  </td>\n",
              "  <td class='result passed'></td>\n",
              "</tr>\n",
              "<tr>\n",
              "  <td class='test'>\n",
              "    Comprobando si el 9 es un número  semiperfectos   \n",
              "    <div class='message'>Done</div>\n",
              "  </td>\n",
              "  <td class='result passed'></td>\n",
              "</tr>  <tr><th class='score'>Total Points</th><th class='score'>3</th></tr></table>\n"
            ]
          },
          "metadata": {}
        }
      ],
      "source": [
        "%run -i {pathL}/test04.py"
      ]
    },
    {
      "cell_type": "code",
      "source": [
        "def numeros_perfectos(a):\n",
        "    m = divisor_propio_incluyendo(a)\n",
        "    return sum(m) == 2 * a"
      ],
      "metadata": {
        "id": "d8H2dgiWDZlV"
      },
      "execution_count": null,
      "outputs": []
    },
    {
      "cell_type": "code",
      "execution_count": null,
      "metadata": {
        "id": "m9bNF9I6qMnD",
        "colab": {
          "base_uri": "https://localhost:8080/",
          "height": 215
        },
        "outputId": "4749b8b0-72e6-424c-a1f2-981acab55c90"
      },
      "outputs": [
        {
          "output_type": "display_data",
          "data": {
            "text/plain": [
              "<IPython.core.display.HTML object>"
            ],
            "text/html": [
              "<style>\n",
              "  table { text-align: left; border-collapse: collapse; margin: 1em; caption-side: bottom; font-family: Sans-Serif; font-size: 12px}\n",
              "  caption { text-align: left; padding: 5px }\n",
              "  th, td { border: 2px solid #BFC9CA; padding: 5px }\n",
              "  th { background-color: #BFC9CA }\n",
              "  .passed { background-color: #76D7C4 }\n",
              "  .failed { background-color: #EC7063 }\n",
              "  .skipped { background-color: #EDBB99 }\n",
              "  .score { background-color: #7DCEA0 }\n",
              "  .results .points { display: none }\n",
              "  .results .message { display: block; font-size:smaller; color:#D35400 }\n",
              "  .results .note { display: block; font-size:smaller; font-decoration:italics }\n",
              "  .results .passed::before  { content: \"Passed\" } \n",
              "  .results .skipped::before  { content: \"Skipped\" } \n",
              "  .results .failed::before  { content: \"Failed\" } \n",
              "  .grade .passed  .message:empty::before { content:\"Passed\" }\n",
              "  .grade .failed  .message:empty::before { content:\"Failed\" }\n",
              "  .grade .skipped .message:empty::before { content:\"Skipped\" }   \n",
              "</style>\n",
              "<table class='results'>\n",
              "  <th class='test'>Test</th><th class='result'>Result</th></tr>\n",
              "<tr>\n",
              "  <td class='test'>\n",
              "    Números perfectos, la variable debe ser booleana  \n",
              "    <div class='message'>Done</div>\n",
              "  </td>\n",
              "  <td class='result passed'></td>\n",
              "</tr>\n",
              "<tr>\n",
              "  <td class='test'>\n",
              "    Comprobando si el número 496 es perfecto   \n",
              "    <div class='message'>Done</div>\n",
              "  </td>\n",
              "  <td class='result passed'></td>\n",
              "</tr>\n",
              "<tr>\n",
              "  <td class='test'>\n",
              "    Comprobando si el 23 es un número  perfecto   \n",
              "    <div class='message'>Done</div>\n",
              "  </td>\n",
              "  <td class='result passed'></td>\n",
              "</tr>  <tr><th class='score'>Total Points</th><th class='score'>3</th></tr></table>\n"
            ]
          },
          "metadata": {}
        }
      ],
      "source": [
        "%run -i {pathL}/test05.py"
      ]
    },
    {
      "cell_type": "code",
      "source": [
        "def numeros_primos(a):\n",
        "  n = divisor_propio_incluyendo(a)\n",
        "  if len(n)==2:\n",
        "    return True\n",
        "  else:\n",
        "    return False"
      ],
      "metadata": {
        "id": "oMkCr0JXDz3F"
      },
      "execution_count": null,
      "outputs": []
    },
    {
      "cell_type": "code",
      "execution_count": null,
      "metadata": {
        "id": "4uRbgtG8qN25",
        "colab": {
          "base_uri": "https://localhost:8080/",
          "height": 215
        },
        "outputId": "af166e3f-6a03-4498-e321-1d44ef6d4a96"
      },
      "outputs": [
        {
          "output_type": "display_data",
          "data": {
            "text/plain": [
              "<IPython.core.display.HTML object>"
            ],
            "text/html": [
              "<style>\n",
              "  table { text-align: left; border-collapse: collapse; margin: 1em; caption-side: bottom; font-family: Sans-Serif; font-size: 12px}\n",
              "  caption { text-align: left; padding: 5px }\n",
              "  th, td { border: 2px solid #BFC9CA; padding: 5px }\n",
              "  th { background-color: #BFC9CA }\n",
              "  .passed { background-color: #76D7C4 }\n",
              "  .failed { background-color: #EC7063 }\n",
              "  .skipped { background-color: #EDBB99 }\n",
              "  .score { background-color: #7DCEA0 }\n",
              "  .results .points { display: none }\n",
              "  .results .message { display: block; font-size:smaller; color:#D35400 }\n",
              "  .results .note { display: block; font-size:smaller; font-decoration:italics }\n",
              "  .results .passed::before  { content: \"Passed\" } \n",
              "  .results .skipped::before  { content: \"Skipped\" } \n",
              "  .results .failed::before  { content: \"Failed\" } \n",
              "  .grade .passed  .message:empty::before { content:\"Passed\" }\n",
              "  .grade .failed  .message:empty::before { content:\"Failed\" }\n",
              "  .grade .skipped .message:empty::before { content:\"Skipped\" }   \n",
              "</style>\n",
              "<table class='results'>\n",
              "  <th class='test'>Test</th><th class='result'>Result</th></tr>\n",
              "<tr>\n",
              "  <td class='test'>\n",
              "    Números primos, la variable debe ser booleana  \n",
              "    <div class='message'>Done</div>\n",
              "  </td>\n",
              "  <td class='result passed'></td>\n",
              "</tr>\n",
              "<tr>\n",
              "  <td class='test'>\n",
              "    Comprobando si el número 5 es primos   \n",
              "    <div class='message'>Done</div>\n",
              "  </td>\n",
              "  <td class='result passed'></td>\n",
              "</tr>\n",
              "<tr>\n",
              "  <td class='test'>\n",
              "    Comprobando si el 24 es un número  primos   \n",
              "    <div class='message'>Done</div>\n",
              "  </td>\n",
              "  <td class='result passed'></td>\n",
              "</tr>  <tr><th class='score'>Total Points</th><th class='score'>3</th></tr></table>\n"
            ]
          },
          "metadata": {}
        }
      ],
      "source": [
        "%run -i {pathL}/test06.py"
      ]
    },
    {
      "cell_type": "markdown",
      "metadata": {
        "id": "WXOT_ssoJh8x"
      },
      "source": [
        "\n",
        "7. Diseñar un programa en el que entrado dos números `a`  y `b` retorne una variable booleana **True** o **false**.\n",
        "\n",
        "  [Números amigos](https://es.wikipedia.org/wiki/N%C3%BAmeros_amigos) `a` y `b` tales que a es la suma de los divisores propios de `b` y viceversa.\n",
        "    La rutina se debera llamar numeros_amigos\n",
        "\n",
        "\n",
        "\n",
        "\n",
        "P2. Retornar los 10 primeros pares de numeros perfectos, semiperfectos, amigos\n",
        "\n"
      ]
    },
    {
      "cell_type": "code",
      "source": [
        "def numeros_amigos(a, b):\n",
        "    suma_a = sum(divisor_propio(a))\n",
        "    suma_b = sum(divisor_propio(b))\n",
        "    return suma_a == b and suma_b == a"
      ],
      "metadata": {
        "id": "Lb8vksQ2F2pL"
      },
      "execution_count": null,
      "outputs": []
    },
    {
      "cell_type": "code",
      "source": [
        "(numeros_amigos(220, 284))"
      ],
      "metadata": {
        "colab": {
          "base_uri": "https://localhost:8080/"
        },
        "id": "ZQC-WVpcGvOb",
        "outputId": "755cd627-d292-4743-8d3b-a9aed00eaaa7"
      },
      "execution_count": null,
      "outputs": [
        {
          "output_type": "execute_result",
          "data": {
            "text/plain": [
              "True"
            ]
          },
          "metadata": {},
          "execution_count": 108
        }
      ]
    },
    {
      "cell_type": "code",
      "execution_count": null,
      "metadata": {
        "colab": {
          "base_uri": "https://localhost:8080/",
          "height": 215
        },
        "id": "VKsxuvsll5gm",
        "outputId": "ec5af312-98d9-45fd-b419-b54f4d39eebd"
      },
      "outputs": [
        {
          "output_type": "display_data",
          "data": {
            "text/plain": [
              "<IPython.core.display.HTML object>"
            ],
            "text/html": [
              "<style>\n",
              "  table { text-align: left; border-collapse: collapse; margin: 1em; caption-side: bottom; font-family: Sans-Serif; font-size: 12px}\n",
              "  caption { text-align: left; padding: 5px }\n",
              "  th, td { border: 2px solid #BFC9CA; padding: 5px }\n",
              "  th { background-color: #BFC9CA }\n",
              "  .passed { background-color: #76D7C4 }\n",
              "  .failed { background-color: #EC7063 }\n",
              "  .skipped { background-color: #EDBB99 }\n",
              "  .score { background-color: #7DCEA0 }\n",
              "  .results .points { display: none }\n",
              "  .results .message { display: block; font-size:smaller; color:#D35400 }\n",
              "  .results .note { display: block; font-size:smaller; font-decoration:italics }\n",
              "  .results .passed::before  { content: \"Passed\" } \n",
              "  .results .skipped::before  { content: \"Skipped\" } \n",
              "  .results .failed::before  { content: \"Failed\" } \n",
              "  .grade .passed  .message:empty::before { content:\"Passed\" }\n",
              "  .grade .failed  .message:empty::before { content:\"Failed\" }\n",
              "  .grade .skipped .message:empty::before { content:\"Skipped\" }   \n",
              "</style>\n",
              "<table class='results'>\n",
              "  <th class='test'>Test</th><th class='result'>Result</th></tr>\n",
              "<tr>\n",
              "  <td class='test'>\n",
              "    Números amigos, la variable debe ser booleana  \n",
              "    <div class='message'>Done</div>\n",
              "  </td>\n",
              "  <td class='result passed'></td>\n",
              "</tr>\n",
              "<tr>\n",
              "  <td class='test'>\n",
              "    Comprobando si los números (220, 284) son amigos   \n",
              "    <div class='message'>Done</div>\n",
              "  </td>\n",
              "  <td class='result passed'></td>\n",
              "</tr>\n",
              "<tr>\n",
              "  <td class='test'>\n",
              "    Comprobando si  (22, 24) no es un número amigo   \n",
              "    <div class='message'>Done</div>\n",
              "  </td>\n",
              "  <td class='result passed'></td>\n",
              "</tr>  <tr><th class='score'>Total Points</th><th class='score'>3</th></tr></table>\n"
            ]
          },
          "metadata": {}
        }
      ],
      "source": [
        "%run -i {pathL}/test07.py"
      ]
    },
    {
      "cell_type": "markdown",
      "metadata": {
        "id": "CTw0tXZlJoDp"
      },
      "source": [
        "3. Determine si un número `n` entero ingresado por el usuario es un [palíndromo](https://en.wikipedia.org/wiki/Palindromic_number), (Retorne `True` en caso afirmativo y `False` en caso contrario)\n",
        "\n",
        "```python\n",
        "\n",
        "\n",
        "    >>> palindromo(3333333)\n",
        "        True\n",
        "\n",
        "    >>> palindromo(2323)\n",
        "        True\n",
        "        \n",
        "    >>> palindromo(1111349111111)\n",
        "        False\n",
        "```\n",
        "\n",
        "\n"
      ]
    },
    {
      "cell_type": "code",
      "source": [
        "def palindromo(n):\n",
        "    invertir = str(n)\n",
        "    m = invertir[::-1]\n",
        "    return m == invertir"
      ],
      "metadata": {
        "id": "khTabY1ZINN8"
      },
      "execution_count": 11,
      "outputs": []
    },
    {
      "cell_type": "code",
      "source": [
        "palindromo(333333333)"
      ],
      "metadata": {
        "colab": {
          "base_uri": "https://localhost:8080/"
        },
        "id": "vFdGDA6GIg3z",
        "outputId": "ace826fc-fc7f-4b5d-990f-3354c58cbe0a"
      },
      "execution_count": 14,
      "outputs": [
        {
          "output_type": "execute_result",
          "data": {
            "text/plain": [
              "True"
            ]
          },
          "metadata": {},
          "execution_count": 14
        }
      ]
    },
    {
      "cell_type": "code",
      "source": [
        "palindromo(1111349111111)"
      ],
      "metadata": {
        "colab": {
          "base_uri": "https://localhost:8080/"
        },
        "id": "kmQOr-XEdJsM",
        "outputId": "5447f5c5-210c-4ae9-efa9-6613f5078ce6"
      },
      "execution_count": 13,
      "outputs": [
        {
          "output_type": "execute_result",
          "data": {
            "text/plain": [
              "False"
            ]
          },
          "metadata": {},
          "execution_count": 13
        }
      ]
    },
    {
      "cell_type": "markdown",
      "metadata": {
        "id": "hBsfPzh_JuZg"
      },
      "source": [
        "8 Construir un programa en el que  entrado un arreglo de números se  ordenen de forma ascendente, Ver algoritmo\n",
        "[Quicksort](https://es.wikipedia.org/wiki/Quicksort).\n",
        "\n",
        "\n",
        "```python\n",
        "\n",
        "\n",
        "<<< v = [22, 32, 42, 12, 22, 31, 41, 11, 12, 232, 24, 12, 22]\n",
        "<<< def quicksort(v):\n",
        "\n",
        "<<<     return v\n",
        "<<< w = print(quicksort(v))\n",
        "<<< [11, 12, 12, 12, 22, 22, 22, 24, 31, 32, 41, 42, 232]\n",
        "\n",
        "```\n",
        "\n",
        "Sólo para comprobar tu código,  puedes hacer uso del comando sort de python.\n",
        "```python\n",
        "<<< b = [22, 32, 42, 12, 22, 31, 41, 11, 12, 232, 24, 12, 22]\n",
        "\n",
        "<<< print(b.sort())\n",
        "\n",
        "<<< [11, 12, 12, 12, 22, 22, 22, 24, 31, 32, 41, 42, 232]\n",
        "```"
      ]
    },
    {
      "cell_type": "code",
      "source": [
        "def quick_sort(array, bajo, alto):\n",
        "  if bajo < alto:\n",
        "    # Dividir y acomodar pivote\n",
        "    pi = partition(array, bajo, alto)\n",
        "\n",
        "    quick_sort(array, bajo, pi - 1)\n",
        "    quick_sort(array, pi + 1, alto)\n",
        "\n",
        "def partition(array, bajo, alto):\n",
        "  # Pivote el de la derecha\n",
        "  pivot = array[alto]\n",
        "\n",
        "  # Apuntador del último elemento más pequeño\n",
        "  i = bajo - 1\n",
        "\n",
        "  for j in range(bajo, alto):\n",
        "    if array[j] <= pivot:\n",
        "      i = i + 1\n",
        "      (array[i], array[j]) = (array[j], array[i])\n",
        "\n",
        "  # Al final intercambiar el pivote\n",
        "  (array[i + 1], array[alto]) = (array[alto], array[i + 1])\n",
        "\n",
        "  # Regresa la posición final del pivote\n",
        "  return i + 1\n",
        "\n",
        "v = [22, 32, 42, 12, 22, 31, 41, 11, 12, 232, 24, 12, 22]\n",
        "print(v)\n",
        "quick_sort(v, 0, len(v)-1)\n",
        "print(v)"
      ],
      "metadata": {
        "colab": {
          "base_uri": "https://localhost:8080/"
        },
        "id": "GnTzsga6XrXF",
        "outputId": "419444ef-deec-488e-f9e2-8931bbe82a78"
      },
      "execution_count": 9,
      "outputs": [
        {
          "output_type": "stream",
          "name": "stdout",
          "text": [
            "[22, 32, 42, 12, 22, 31, 41, 11, 12, 232, 24, 12, 22]\n",
            "[11, 12, 12, 12, 22, 22, 22, 24, 31, 32, 41, 42, 232]\n"
          ]
        }
      ]
    },
    {
      "cell_type": "code",
      "source": [
        "b = [22, 32, 42, 12, 22, 31, 41, 11, 12, 232, 24, 12, 22]\n",
        "print(b)\n",
        "quick_sort(b,0,len(b)-1)\n",
        "print(b)"
      ],
      "metadata": {
        "colab": {
          "base_uri": "https://localhost:8080/"
        },
        "id": "KWjYaPdtKjVy",
        "outputId": "677754ab-0bf1-4fe0-e523-a69fc822baf6"
      },
      "execution_count": 8,
      "outputs": [
        {
          "output_type": "stream",
          "name": "stdout",
          "text": [
            "[22, 32, 42, 12, 22, 31, 41, 11, 12, 232, 24, 12, 22]\n",
            "[11, 12, 12, 12, 22, 22, 22, 24, 31, 32, 41, 42, 232]\n"
          ]
        }
      ]
    }
  ],
  "metadata": {
    "colab": {
      "provenance": []
    },
    "kernelspec": {
      "display_name": "Python 3 (ipykernel)",
      "language": "python",
      "name": "python3"
    },
    "language_info": {
      "codemirror_mode": {
        "name": "ipython",
        "version": 3
      },
      "file_extension": ".py",
      "mimetype": "text/x-python",
      "name": "python",
      "nbconvert_exporter": "python",
      "pygments_lexer": "ipython3",
      "version": "3.10.9"
    }
  },
  "nbformat": 4,
  "nbformat_minor": 0
}