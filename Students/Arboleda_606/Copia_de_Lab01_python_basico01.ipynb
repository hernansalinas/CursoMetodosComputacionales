{
  "cells": [
    {
      "cell_type": "markdown",
      "metadata": {
        "id": "GUTNoRgHTjfg"
      },
      "source": [
        "<a href=\"https://colab.research.google.com/github/hernansalinas/autogradesMetodosComputacionales/blob/main/Laboratorios_Taller/Lab01_python_basico01.ipynb\" target=\"_parent\"><img src=\"https://colab.research.google.com/assets/colab-badge.svg\" alt=\"Open In Colab\"/></a>\n",
        "\n",
        "\n",
        "\n",
        "\n",
        "# Laboratorio 01\n",
        "### Métodos computacionales para físicos  y astrónomos\n",
        "### Universidad de Antioquia\n",
        "### Profesores:\n",
        "### Hernan D. Salinas Jiménez\n",
        "### Juan Marcos Marin\n"
      ]
    },
    {
      "cell_type": "code",
      "execution_count": null,
      "metadata": {
        "colab": {
          "base_uri": "https://localhost:8080/"
        },
        "id": "NmGdQYCBL7cs",
        "outputId": "962c4007-33c9-4d82-c0cf-542347f4061a"
      },
      "outputs": [
        {
          "name": "stdout",
          "output_type": "stream",
          "text": [
            "fatal: destination path 'autogradesMetodosComputacionales' already exists and is not an empty directory.\n"
          ]
        }
      ],
      "source": [
        "# Ejecutar esta celda antes de cada laboratorio\n",
        "!git clone https://github.com/hernansalinas/autogradesMetodosComputacionales.git\n",
        "path1=f\"autogradesMetodosComputacionales/Laboratorios_Taller/libs/\"\n",
        "path2=f\"autogradesMetodosComputacionales/Laboratorios_Taller/libs/Lab_autotesting01/\"\n",
        "%run -i {path1}libUnitTest.py"
      ]
    },
    {
      "cell_type": "markdown",
      "metadata": {
        "id": "OkdTI9KQ8MLN"
      },
      "source": [
        "# Operaciones básicas en python.\n",
        "\n",
        "\n",
        "### Definicion de variables\n",
        "1. Definir una variable x tipo entero.\n",
        "2. Definir una variable y tipo float\n",
        "3. Definir una variable z tipo string."
      ]
    },
    {
      "cell_type": "code",
      "execution_count": null,
      "metadata": {
        "id": "nOYa9UQquq4d"
      },
      "outputs": [],
      "source": [
        "# Defina la variables en esta celda\n",
        "\n",
        "x = 10\n",
        "y = 9.8\n",
        "z = \"Jerito\""
      ]
    },
    {
      "cell_type": "code",
      "execution_count": null,
      "metadata": {
        "colab": {
          "base_uri": "https://localhost:8080/",
          "height": 215
        },
        "id": "aod54z2z-ZeY",
        "outputId": "09bbe3f8-5e35-4d33-d1ba-3ed16bbff89b"
      },
      "outputs": [
        {
          "data": {
            "text/html": [
              "<style>\n",
              "  table { text-align: left; border-collapse: collapse; margin: 1em; caption-side: bottom; font-family: Sans-Serif; font-size: 12px}\n",
              "  caption { text-align: left; padding: 5px }\n",
              "  th, td { border: 2px solid #BFC9CA; padding: 5px }\n",
              "  th { background-color: #BFC9CA }\n",
              "  .passed { background-color: #76D7C4 }\n",
              "  .failed { background-color: #EC7063 }\n",
              "  .skipped { background-color: #EDBB99 }\n",
              "  .score { background-color: #7DCEA0 }\n",
              "  .results .points { display: none }\n",
              "  .results .message { display: block; font-size:smaller; color:#D35400 }\n",
              "  .results .note { display: block; font-size:smaller; font-decoration:italics }\n",
              "  .results .passed::before  { content: \"Passed\" } \n",
              "  .results .skipped::before  { content: \"Skipped\" } \n",
              "  .results .failed::before  { content: \"Failed\" } \n",
              "  .grade .passed  .message:empty::before { content:\"Passed\" }\n",
              "  .grade .failed  .message:empty::before { content:\"Failed\" }\n",
              "  .grade .skipped .message:empty::before { content:\"Skipped\" }   \n",
              "</style>\n",
              "<table class='results'>\n",
              "  <th class='test'>Test</th><th class='result'>Result</th></tr>\n",
              "<tr>\n",
              "  <td class='test'>\n",
              "    Definir x como un numero entero\n",
              "    <div class='message'>Done</div>\n",
              "  </td>\n",
              "  <td class='result passed'></td>\n",
              "</tr>\n",
              "<tr>\n",
              "  <td class='test'>\n",
              "    Defiir y como una variable tipo float\n",
              "    <div class='message'>Done</div>\n",
              "  </td>\n",
              "  <td class='result passed'></td>\n",
              "</tr>\n",
              "<tr>\n",
              "  <td class='test'>\n",
              "    Definir z como un string\n",
              "    <div class='message'>Done</div>\n",
              "  </td>\n",
              "  <td class='result passed'></td>\n",
              "</tr>  <tr><th class='score'>Total Points</th><th class='score'>3</th></tr></table>\n"
            ],
            "text/plain": [
              "<IPython.core.display.HTML object>"
            ]
          },
          "metadata": {},
          "output_type": "display_data"
        }
      ],
      "source": [
        "# Ejecute la presente celda para probar su solucion\n",
        "%run -i {path2}/test01.py"
      ]
    },
    {
      "cell_type": "markdown",
      "metadata": {
        "id": "9JTEaQro_I8E"
      },
      "source": [
        "\n",
        "\n",
        "###  Creación de Funciones\n",
        "4. Crear una función con el nombre mul_lambda tipo lambda que multiple dos enteros, el resultado deberá ser un número entero.  \n",
        "\n",
        "Ejemplo de ejecución:\n",
        "\n",
        "```python\n",
        "\n",
        "mul_lambda(a,b)\n",
        "#donde a, y b son numeros enteros\n",
        "\n",
        "```\n",
        "\n",
        "\n",
        "5. Crear una función explicita con el nombre de sum_int, que realice la suma de dos números enteros\n",
        "\n",
        "Ejemplo de ejecución:\n",
        "\n",
        "```python\n",
        "\n",
        "sum_int(a,b)\n",
        "#donde a, y b son numeros enteros\n",
        "\n",
        "```\n",
        "\n"
      ]
    },
    {
      "cell_type": "code",
      "execution_count": null,
      "metadata": {
        "colab": {
          "base_uri": "https://localhost:8080/"
        },
        "id": "zuTTQ1gmvl3O",
        "outputId": "d2357bdb-efca-4f61-aeda-08f32fe45a99"
      },
      "outputs": [
        {
          "name": "stdout",
          "output_type": "stream",
          "text": [
            "12\n",
            "7\n"
          ]
        }
      ],
      "source": [
        "# Escriba las funciones en esta celda\n",
        "\n",
        "mul_lambda = lambda a,b: a*b\n",
        "print(mul_lambda(3,4))\n",
        "\n",
        "sum_int = lambda a,b: a+b\n",
        "print(sum_int(3,4))"
      ]
    },
    {
      "cell_type": "code",
      "execution_count": null,
      "metadata": {
        "colab": {
          "base_uri": "https://localhost:8080/",
          "height": 175
        },
        "id": "lSsnEjAx_Gay",
        "outputId": "672e87b1-c91c-4250-b964-f89752e9f8e9"
      },
      "outputs": [
        {
          "data": {
            "text/html": [
              "<style>\n",
              "  table { text-align: left; border-collapse: collapse; margin: 1em; caption-side: bottom; font-family: Sans-Serif; font-size: 12px}\n",
              "  caption { text-align: left; padding: 5px }\n",
              "  th, td { border: 2px solid #BFC9CA; padding: 5px }\n",
              "  th { background-color: #BFC9CA }\n",
              "  .passed { background-color: #76D7C4 }\n",
              "  .failed { background-color: #EC7063 }\n",
              "  .skipped { background-color: #EDBB99 }\n",
              "  .score { background-color: #7DCEA0 }\n",
              "  .results .points { display: none }\n",
              "  .results .message { display: block; font-size:smaller; color:#D35400 }\n",
              "  .results .note { display: block; font-size:smaller; font-decoration:italics }\n",
              "  .results .passed::before  { content: \"Passed\" } \n",
              "  .results .skipped::before  { content: \"Skipped\" } \n",
              "  .results .failed::before  { content: \"Failed\" } \n",
              "  .grade .passed  .message:empty::before { content:\"Passed\" }\n",
              "  .grade .failed  .message:empty::before { content:\"Failed\" }\n",
              "  .grade .skipped .message:empty::before { content:\"Skipped\" }   \n",
              "</style>\n",
              "<table class='results'>\n",
              "  <th class='test'>Test</th><th class='result'>Result</th></tr>\n",
              "<tr>\n",
              "  <td class='test'>\n",
              "    Crear una funcion que multiplique dos números\n",
              "    <div class='message'>Done</div>\n",
              "  </td>\n",
              "  <td class='result passed'></td>\n",
              "</tr>\n",
              "<tr>\n",
              "  <td class='test'>\n",
              "    Crear una funcion que sume dos números\n",
              "    <div class='message'>Done</div>\n",
              "  </td>\n",
              "  <td class='result passed'></td>\n",
              "</tr>  <tr><th class='score'>Total Points</th><th class='score'>2</th></tr></table>\n"
            ],
            "text/plain": [
              "<IPython.core.display.HTML object>"
            ]
          },
          "metadata": {},
          "output_type": "display_data"
        }
      ],
      "source": [
        "\n",
        "%run -i {path2}/test02.py"
      ]
    },
    {
      "cell_type": "markdown",
      "metadata": {
        "id": "uu42QkJsCQMb"
      },
      "source": [
        "\n",
        "###  Números complejos\n",
        "\n",
        "6. Defina un número complejo w.\n",
        "7. Retorne la parte imaginaria de w, almacenela en una variable w_img\n",
        "8. Retorne la parte real de w, almacenela en una variable w_real.\n",
        "9. Retorne el complejo conjugado de w, almacenla en una varible w_con.\n"
      ]
    },
    {
      "cell_type": "code",
      "execution_count": null,
      "metadata": {
        "colab": {
          "base_uri": "https://localhost:8080/"
        },
        "id": "1InwYykmwngw",
        "outputId": "000ec1d5-ff10-4cbf-d486-ab35be6665c7"
      },
      "outputs": [
        {
          "name": "stdout",
          "output_type": "stream",
          "text": [
            "4.0\n",
            "16.0\n",
            "(16-4j)\n"
          ]
        }
      ],
      "source": [
        "# Escriba acá su solución\n",
        "w = 16+4j\n",
        "\n",
        "w_img = w.imag\n",
        "w_real = w.real\n",
        "w_con = w.conjugate()\n",
        "\n",
        "print(w_img)\n",
        "print(w_real)\n",
        "print(w_con)"
      ]
    },
    {
      "cell_type": "code",
      "execution_count": null,
      "metadata": {
        "colab": {
          "base_uri": "https://localhost:8080/",
          "height": 254
        },
        "id": "jx3J6yE1Kwki",
        "outputId": "8f29740c-08b8-4baf-c6b9-bcc631bd1b09"
      },
      "outputs": [
        {
          "data": {
            "text/html": [
              "<style>\n",
              "  table { text-align: left; border-collapse: collapse; margin: 1em; caption-side: bottom; font-family: Sans-Serif; font-size: 12px}\n",
              "  caption { text-align: left; padding: 5px }\n",
              "  th, td { border: 2px solid #BFC9CA; padding: 5px }\n",
              "  th { background-color: #BFC9CA }\n",
              "  .passed { background-color: #76D7C4 }\n",
              "  .failed { background-color: #EC7063 }\n",
              "  .skipped { background-color: #EDBB99 }\n",
              "  .score { background-color: #7DCEA0 }\n",
              "  .results .points { display: none }\n",
              "  .results .message { display: block; font-size:smaller; color:#D35400 }\n",
              "  .results .note { display: block; font-size:smaller; font-decoration:italics }\n",
              "  .results .passed::before  { content: \"Passed\" } \n",
              "  .results .skipped::before  { content: \"Skipped\" } \n",
              "  .results .failed::before  { content: \"Failed\" } \n",
              "  .grade .passed  .message:empty::before { content:\"Passed\" }\n",
              "  .grade .failed  .message:empty::before { content:\"Failed\" }\n",
              "  .grade .skipped .message:empty::before { content:\"Skipped\" }   \n",
              "</style>\n",
              "<table class='results'>\n",
              "  <th class='test'>Test</th><th class='result'>Result</th></tr>\n",
              "<tr>\n",
              "  <td class='test'>\n",
              "    Definir w como un número complejo\n",
              "    <div class='message'>Done</div>\n",
              "  </td>\n",
              "  <td class='result passed'></td>\n",
              "</tr>\n",
              "<tr>\n",
              "  <td class='test'>\n",
              "    Determinar la parte real de w\n",
              "    <div class='message'>Done</div>\n",
              "  </td>\n",
              "  <td class='result passed'></td>\n",
              "</tr>\n",
              "<tr>\n",
              "  <td class='test'>\n",
              "    Determinar la parte imaginaria  de w\n",
              "    <div class='message'>Done</div>\n",
              "  </td>\n",
              "  <td class='result passed'></td>\n",
              "</tr>\n",
              "<tr>\n",
              "  <td class='test'>\n",
              "    Determinar el conjugado de w\n",
              "    <div class='message'>Done</div>\n",
              "  </td>\n",
              "  <td class='result passed'></td>\n",
              "</tr>  <tr><th class='score'>Total Points</th><th class='score'>4</th></tr></table>\n"
            ],
            "text/plain": [
              "<IPython.core.display.HTML object>"
            ]
          },
          "metadata": {},
          "output_type": "display_data"
        }
      ],
      "source": [
        "%run -i {path2}/test03.py"
      ]
    },
    {
      "cell_type": "markdown",
      "metadata": {
        "id": "P-2vd2FFV-R-"
      },
      "source": [
        "###  Listas\n",
        "\n",
        "10.0  Construir una lista L con las variables usadas hasta acá y los resultados de las funciones.\n",
        "\n",
        "L=[x,y,z,mul_lambda, sum_int,w, w_img, w_real, w_con ]\n",
        "\n",
        "11.0 Invierta la lista y almacene en una variable L_reverse\n",
        "\n",
        "12.0 Almacene los indices impares de la lista, L_imp\n",
        "\n",
        "13.0 Almacene los indicies pares de la lista, L_par\n",
        "\n",
        "14.0 Almacena en una nueva variable llamada Lnew con la lista L, modifique el indice 5 de la lista L con la palabra \"hello world\"\n"
      ]
    },
    {
      "cell_type": "code",
      "execution_count": null,
      "metadata": {
        "id": "5wcA7Bf8x6v4"
      },
      "outputs": [],
      "source": [
        "# Escriba en esta celda su solucion\n",
        "\n",
        "L=[x,y,z,mul_lambda, sum_int,w, w_img, w_real, w_con ]\n",
        "L_reverse = L[::-1]\n",
        "L_imp = L[1::2]\n",
        "L_par = L[0::2]\n",
        "Lnew = L.copy()\n",
        "Lnew[4] = 'hello world'"
      ]
    },
    {
      "cell_type": "code",
      "execution_count": null,
      "metadata": {
        "id": "06vFzsa13C6S"
      },
      "outputs": [],
      "source": []
    },
    {
      "cell_type": "code",
      "execution_count": null,
      "metadata": {
        "colab": {
          "base_uri": "https://localhost:8080/",
          "height": 106
        },
        "id": "rUAEpJDDdM2q",
        "outputId": "d18f04ad-aa97-4fff-9f09-d68080fc4260"
      },
      "outputs": [
        {
          "ename": "SyntaxError",
          "evalue": "expected 'except' or 'finally' block (test04.py, line 48)",
          "output_type": "error",
          "traceback": [
            "\u001b[0;36m  File \u001b[0;32m\"/content/autogradesMetodosComputacionales/Laboratorios_Taller/libs/Lab_autotesting01/test04.py\"\u001b[0;36m, line \u001b[0;32m48\u001b[0m\n\u001b[0;31m    config_.append_variables_values(\"testOneValuesVariables.test_Expectedvaluevalue\",\\\u001b[0m\n\u001b[0m    ^\u001b[0m\n\u001b[0;31mSyntaxError\u001b[0m\u001b[0;31m:\u001b[0m expected 'except' or 'finally' block\n"
          ]
        }
      ],
      "source": [
        "\n",
        "%run -i {path2}/test04.py"
      ]
    },
    {
      "cell_type": "markdown",
      "metadata": {
        "id": "9vVIrQeytD30"
      },
      "source": [
        "###  Tuplas\n",
        "\n",
        "15.0 Definir una tupla con 5 elementos almacenda en la variable Tup, los primeros 3 tipo string y los ultimos dos, tipo float."
      ]
    },
    {
      "cell_type": "code",
      "execution_count": null,
      "metadata": {
        "id": "KKUVygZ63C6S"
      },
      "outputs": [],
      "source": [
        "# Escriba en esta celda su solucion\n",
        "Tup = (\"Jeróninmo\", \"Arboleda\", \"Sosa\", 20.1, 10.2)"
      ]
    },
    {
      "cell_type": "code",
      "execution_count": null,
      "metadata": {
        "colab": {
          "base_uri": "https://localhost:8080/",
          "height": 254
        },
        "id": "UswyGx3xuou2",
        "outputId": "931101f9-eff4-4482-fe0c-66375884dccc"
      },
      "outputs": [
        {
          "data": {
            "text/html": [
              "<style>\n",
              "  table { text-align: left; border-collapse: collapse; margin: 1em; caption-side: bottom; font-family: Sans-Serif; font-size: 12px}\n",
              "  caption { text-align: left; padding: 5px }\n",
              "  th, td { border: 2px solid #BFC9CA; padding: 5px }\n",
              "  th { background-color: #BFC9CA }\n",
              "  .passed { background-color: #76D7C4 }\n",
              "  .failed { background-color: #EC7063 }\n",
              "  .skipped { background-color: #EDBB99 }\n",
              "  .score { background-color: #7DCEA0 }\n",
              "  .results .points { display: none }\n",
              "  .results .message { display: block; font-size:smaller; color:#D35400 }\n",
              "  .results .note { display: block; font-size:smaller; font-decoration:italics }\n",
              "  .results .passed::before  { content: \"Passed\" } \n",
              "  .results .skipped::before  { content: \"Skipped\" } \n",
              "  .results .failed::before  { content: \"Failed\" } \n",
              "  .grade .passed  .message:empty::before { content:\"Passed\" }\n",
              "  .grade .failed  .message:empty::before { content:\"Failed\" }\n",
              "  .grade .skipped .message:empty::before { content:\"Skipped\" }   \n",
              "</style>\n",
              "<table class='results'>\n",
              "  <th class='test'>Test</th><th class='result'>Result</th></tr>\n",
              "<tr>\n",
              "  <td class='test'>\n",
              "    Definir una tupla\n",
              "    <div class='message'>Done</div>\n",
              "  </td>\n",
              "  <td class='result passed'></td>\n",
              "</tr>\n",
              "<tr>\n",
              "  <td class='test'>\n",
              "    La longitud de la tupla debe ser 5 \n",
              "    <div class='message'>Done</div>\n",
              "  </td>\n",
              "  <td class='result passed'></td>\n",
              "</tr>\n",
              "<tr>\n",
              "  <td class='test'>\n",
              "    Los tres primeros elementos deben string \n",
              "    <div class='message'>Done</div>\n",
              "  </td>\n",
              "  <td class='result passed'></td>\n",
              "</tr>\n",
              "<tr>\n",
              "  <td class='test'>\n",
              "    Los dos ultimos elementos deben ser float \n",
              "    <div class='message'>Done</div>\n",
              "  </td>\n",
              "  <td class='result passed'></td>\n",
              "</tr>  <tr><th class='score'>Total Points</th><th class='score'>4</th></tr></table>\n"
            ],
            "text/plain": [
              "<IPython.core.display.HTML object>"
            ]
          },
          "metadata": {},
          "output_type": "display_data"
        }
      ],
      "source": [
        " %run -i {path2}/test05.py"
      ]
    },
    {
      "cell_type": "markdown",
      "metadata": {
        "id": "E1VlbpbEysKy"
      },
      "source": [
        "###  Set\n",
        "16.0 Defina una variable tipo set llamada  D con los primeros 11 numeros primos, consultalos en la red. Notese que pasa en este variables cuando alguno de los elementos se repite\n",
        "\n",
        "17.0 Defina una variable tipo set llamada E con los números naturales del 1 al 20.\n",
        "\n",
        "18.0 Calcule la unión  y almacenela en una variable U.\n",
        "\n",
        "19.0 Calcule la intersección y almacenela en una variable I\n"
      ]
    },
    {
      "cell_type": "code",
      "execution_count": null,
      "metadata": {
        "id": "ua1aHdjPzfGp"
      },
      "outputs": [],
      "source": [
        "# Escriba acá su solución\n",
        "D = {2, 3, 5, 7, 11, 13, 17, 19, 23, 29, 31}\n",
        "E = {1, 2, 3, 4, 5, 6, 7, 8, 9, 10, 11, 12, 13, 14, 15, 16, 17, 18, 19, 20}\n",
        "U = D.union(E)\n",
        "I = D.intersection(E)"
      ]
    },
    {
      "cell_type": "code",
      "execution_count": null,
      "metadata": {
        "id": "48h6h9it3I-T"
      },
      "outputs": [],
      "source": []
    },
    {
      "cell_type": "code",
      "execution_count": null,
      "metadata": {
        "colab": {
          "base_uri": "https://localhost:8080/",
          "height": 450
        },
        "id": "YJiDfeEr2cSc",
        "outputId": "5568daf6-d966-4754-efd5-c054b56d859e"
      },
      "outputs": [
        {
          "data": {
            "text/html": [
              "<style>\n",
              "  table { text-align: left; border-collapse: collapse; margin: 1em; caption-side: bottom; font-family: Sans-Serif; font-size: 12px}\n",
              "  caption { text-align: left; padding: 5px }\n",
              "  th, td { border: 2px solid #BFC9CA; padding: 5px }\n",
              "  th { background-color: #BFC9CA }\n",
              "  .passed { background-color: #76D7C4 }\n",
              "  .failed { background-color: #EC7063 }\n",
              "  .skipped { background-color: #EDBB99 }\n",
              "  .score { background-color: #7DCEA0 }\n",
              "  .results .points { display: none }\n",
              "  .results .message { display: block; font-size:smaller; color:#D35400 }\n",
              "  .results .note { display: block; font-size:smaller; font-decoration:italics }\n",
              "  .results .passed::before  { content: \"Passed\" } \n",
              "  .results .skipped::before  { content: \"Skipped\" } \n",
              "  .results .failed::before  { content: \"Failed\" } \n",
              "  .grade .passed  .message:empty::before { content:\"Passed\" }\n",
              "  .grade .failed  .message:empty::before { content:\"Failed\" }\n",
              "  .grade .skipped .message:empty::before { content:\"Skipped\" }   \n",
              "</style>\n",
              "<table class='results'>\n",
              "  <th class='test'>Test</th><th class='result'>Result</th></tr>\n",
              "<tr>\n",
              "  <td class='test'>\n",
              "    Definir una variable D tipo set\n",
              "    <div class='message'>Done</div>\n",
              "  </td>\n",
              "  <td class='result passed'></td>\n",
              "</tr>\n",
              "<tr>\n",
              "  <td class='test'>\n",
              "    Definir una variable E tipo set\n",
              "    <div class='message'>Done</div>\n",
              "  </td>\n",
              "  <td class='result passed'></td>\n",
              "</tr>\n",
              "<tr>\n",
              "  <td class='test'>\n",
              "    Definir una variable U tipo set\n",
              "    <div class='message'>Done</div>\n",
              "  </td>\n",
              "  <td class='result passed'></td>\n",
              "</tr>\n",
              "<tr>\n",
              "  <td class='test'>\n",
              "    Definir una variable I tipo set\n",
              "    <div class='message'>Done</div>\n",
              "  </td>\n",
              "  <td class='result passed'></td>\n",
              "</tr>\n",
              "<tr>\n",
              "  <td class='test'>\n",
              "    La longitud de D debe ser 11 \n",
              "    <div class='message'>Done</div>\n",
              "  </td>\n",
              "  <td class='result passed'></td>\n",
              "</tr>\n",
              "<tr>\n",
              "  <td class='test'>\n",
              "    11 primeros números de Bernulli\n",
              "    <div class='message'>Done</div>\n",
              "  </td>\n",
              "  <td class='result passed'></td>\n",
              "</tr>\n",
              "<tr>\n",
              "  <td class='test'>\n",
              "    20 primeros numeros naturales \n",
              "    <div class='message'>Done</div>\n",
              "  </td>\n",
              "  <td class='result passed'></td>\n",
              "</tr>\n",
              "<tr>\n",
              "  <td class='test'>\n",
              "    union \n",
              "    <div class='message'>Done</div>\n",
              "  </td>\n",
              "  <td class='result passed'></td>\n",
              "</tr>\n",
              "<tr>\n",
              "  <td class='test'>\n",
              "    Calcule la interseccion \n",
              "    <div class='message'>Done</div>\n",
              "  </td>\n",
              "  <td class='result passed'></td>\n",
              "</tr>  <tr><th class='score'>Total Points</th><th class='score'>9</th></tr></table>\n"
            ],
            "text/plain": [
              "<IPython.core.display.HTML object>"
            ]
          },
          "metadata": {},
          "output_type": "display_data"
        }
      ],
      "source": [
        " %run -i {path2}/test06.py"
      ]
    },
    {
      "cell_type": "markdown",
      "metadata": {
        "id": "HWfazmVWTq1T"
      },
      "source": [
        "\n",
        "\n",
        "\n",
        "\n",
        "\n",
        "\n",
        "\n",
        "\n",
        "\n",
        "\n",
        "\n",
        "\n",
        "\n",
        "\n",
        "###  Diccionarios\n",
        "20.0 Construir un diccionario con 5 elementos cuya clave es el nombre del autor y valor el nombre del libro. Almacenarlo en una variable dicc.\n",
        "\n",
        "\n",
        "\n"
      ]
    },
    {
      "cell_type": "code",
      "execution_count": null,
      "metadata": {
        "id": "07sFgZvj0MP7"
      },
      "outputs": [],
      "source": [
        "# Escriba acá su solución\n",
        "dicc = {\n",
        "    \"Allan Poe\": \"50.000\",\n",
        "    \"Eichidro Odda\": \"45.000\",\n",
        "    \"Akira Toriyama\": \"62.00\",\n",
        "    \"Denis Zill\": \"104.000\",\n",
        "    \"Garcia Marquez\": \"30.000\"\n",
        "}"
      ]
    },
    {
      "cell_type": "code",
      "execution_count": null,
      "metadata": {
        "colab": {
          "base_uri": "https://localhost:8080/",
          "height": 175
        },
        "id": "yfHkEyXV6DjL",
        "outputId": "b999963f-13aa-415e-b496-40149284a9ad"
      },
      "outputs": [
        {
          "data": {
            "text/html": [
              "<style>\n",
              "  table { text-align: left; border-collapse: collapse; margin: 1em; caption-side: bottom; font-family: Sans-Serif; font-size: 12px}\n",
              "  caption { text-align: left; padding: 5px }\n",
              "  th, td { border: 2px solid #BFC9CA; padding: 5px }\n",
              "  th { background-color: #BFC9CA }\n",
              "  .passed { background-color: #76D7C4 }\n",
              "  .failed { background-color: #EC7063 }\n",
              "  .skipped { background-color: #EDBB99 }\n",
              "  .score { background-color: #7DCEA0 }\n",
              "  .results .points { display: none }\n",
              "  .results .message { display: block; font-size:smaller; color:#D35400 }\n",
              "  .results .note { display: block; font-size:smaller; font-decoration:italics }\n",
              "  .results .passed::before  { content: \"Passed\" } \n",
              "  .results .skipped::before  { content: \"Skipped\" } \n",
              "  .results .failed::before  { content: \"Failed\" } \n",
              "  .grade .passed  .message:empty::before { content:\"Passed\" }\n",
              "  .grade .failed  .message:empty::before { content:\"Failed\" }\n",
              "  .grade .skipped .message:empty::before { content:\"Skipped\" }   \n",
              "</style>\n",
              "<table class='results'>\n",
              "  <th class='test'>Test</th><th class='result'>Result</th></tr>\n",
              "<tr>\n",
              "  <td class='test'>\n",
              "    Definir una variable dicc tipo diccionario\n",
              "    <div class='message'>Done</div>\n",
              "  </td>\n",
              "  <td class='result passed'></td>\n",
              "</tr>\n",
              "<tr>\n",
              "  <td class='test'>\n",
              "    la longitud del diccionario debe ser 5 \n",
              "    <div class='message'>Done</div>\n",
              "  </td>\n",
              "  <td class='result passed'></td>\n",
              "</tr>  <tr><th class='score'>Total Points</th><th class='score'>2</th></tr></table>\n"
            ],
            "text/plain": [
              "<IPython.core.display.HTML object>"
            ]
          },
          "metadata": {},
          "output_type": "display_data"
        }
      ],
      "source": [
        " %run -i {path2}/test07.py"
      ]
    },
    {
      "cell_type": "markdown",
      "metadata": {
        "id": "7g0xWN387wOo"
      },
      "source": [
        "\n",
        "####  Ciclos y condicionales\n",
        "\n",
        "21.0  Cálculo de $\\pi$. Empleando la siguiente seria :\n",
        "\n",
        "\\begin{equation}\n",
        "\\frac{\\pi}{4} = 1 -\\frac{1}{3}+\\frac{1}{5}-\\frac{1}{7}+\\frac{1}{9}-...\n",
        "\\end{equation}\n",
        "\n",
        "Construya una función llamada pi_number en el que entrado el valor de k,(número de términos de la serie ) calcule el valor de pi. Si k es negativo deberá retornar un error como una variable tipo string.\n",
        "\n",
        "Ejemplo de ejecución:\n",
        "```python\n",
        "pi_number(10)\n",
        "```"
      ]
    },
    {
      "cell_type": "code",
      "execution_count": 4,
      "metadata": {
        "colab": {
          "base_uri": "https://localhost:8080/"
        },
        "id": "h9cuWKkT0pqQ",
        "outputId": "9d6ec0f6-fc49-4c08-f8fc-d83021564bd1"
      },
      "outputs": [
        {
          "output_type": "stream",
          "name": "stdout",
          "text": [
            "Número de iteraciones en la sumatoria: -56\n",
            "Error: el número de iteraciones debe ser mayor que cero.\n"
          ]
        }
      ],
      "source": [
        "# Escriba acá su solución\n",
        "k = int(input('Número de iteraciones en la sumatoria: '))\n",
        "\n",
        "if k > 0:\n",
        "    pi_number = 0\n",
        "    for c in range(k):\n",
        "        r = ((-1) ** c) / (2 * c + 1)\n",
        "        pi_number += r\n",
        "\n",
        "    print(f'La aproximación de π/4 con {k} iteraciones es: {pi_number}')\n",
        "else:\n",
        "    print('Error: el número de iteraciones debe ser mayor que cero.')"
      ]
    },
    {
      "cell_type": "code",
      "execution_count": null,
      "metadata": {
        "colab": {
          "base_uri": "https://localhost:8080/",
          "height": 211
        },
        "id": "OEACMhp6BS2k",
        "outputId": "534a4d5f-fc9a-4e31-c2cd-cc0c7b9b3669"
      },
      "outputs": [
        {
          "ename": "TypeError",
          "evalue": "'float' object is not callable",
          "output_type": "error",
          "traceback": [
            "\u001b[0;31m---------------------------------------------------------------------------\u001b[0m",
            "\u001b[0;31mTypeError\u001b[0m                                 Traceback (most recent call last)",
            "\u001b[0;32m/content/autogradesMetodosComputacionales/Laboratorios_Taller/libs/Lab_autotesting01/test08.py\u001b[0m in \u001b[0;36m<module>\u001b[0;34m\u001b[0m\n\u001b[1;32m     23\u001b[0m                           \u001b[0;34m\"Prueba para valores negativos \"\u001b[0m\u001b[0;34m,\u001b[0m\u001b[0;31m \u001b[0m\u001b[0;31m\\\u001b[0m\u001b[0;34m\u001b[0m\u001b[0;34m\u001b[0m\u001b[0m\n\u001b[1;32m     24\u001b[0m                           \u001b[0mpi_number_expected\u001b[0m\u001b[0;34m(\u001b[0m\u001b[0;36m1000\u001b[0m\u001b[0;34m)\u001b[0m\u001b[0;34m,\u001b[0m\u001b[0;31m\\\u001b[0m\u001b[0;34m\u001b[0m\u001b[0;34m\u001b[0m\u001b[0m\n\u001b[0;32m---> 25\u001b[0;31m                           \u001b[0mpi_number\u001b[0m\u001b[0;34m(\u001b[0m\u001b[0;36m1000\u001b[0m\u001b[0;34m)\u001b[0m\u001b[0;34m,\u001b[0m\u001b[0;31m\\\u001b[0m\u001b[0;34m\u001b[0m\u001b[0;34m\u001b[0m\u001b[0m\n\u001b[0m\u001b[1;32m     26\u001b[0m                           \u001b[0;34m\"pi_number\"\u001b[0m\u001b[0;34m,\u001b[0m\u001b[0;31m\\\u001b[0m\u001b[0;34m\u001b[0m\u001b[0;34m\u001b[0m\u001b[0m\n\u001b[1;32m     27\u001b[0m                           True)\n",
            "\u001b[0;31mTypeError\u001b[0m: 'float' object is not callable"
          ]
        }
      ],
      "source": [
        " %run -i {path2}/test08.py"
      ]
    },
    {
      "cell_type": "code",
      "execution_count": null,
      "metadata": {
        "id": "xOpDZjKC3C6U"
      },
      "outputs": [],
      "source": []
    }
  ],
  "metadata": {
    "colab": {
      "provenance": []
    },
    "kernelspec": {
      "display_name": "Python 3 (ipykernel)",
      "language": "python",
      "name": "python3"
    },
    "language_info": {
      "codemirror_mode": {
        "name": "ipython",
        "version": 3
      },
      "file_extension": ".py",
      "mimetype": "text/x-python",
      "name": "python",
      "nbconvert_exporter": "python",
      "pygments_lexer": "ipython3",
      "version": "3.10.9"
    }
  },
  "nbformat": 4,
  "nbformat_minor": 0
}