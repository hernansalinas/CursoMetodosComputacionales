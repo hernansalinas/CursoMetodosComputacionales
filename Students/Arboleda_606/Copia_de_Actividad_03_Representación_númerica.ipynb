{
  "cells": [
    {
      "cell_type": "code",
      "execution_count": null,
      "metadata": {
        "cellView": "form",
        "id": "rZuc8vXcWuxy"
      },
      "outputs": [],
      "source": [
        "#@title Librerias\n",
        "import numpy as np\n",
        "import matplotlib.pyplot as plt\n",
        "import pandas as pd"
      ]
    },
    {
      "cell_type": "markdown",
      "metadata": {
        "id": "MGwGfceuWxy3"
      },
      "source": [
        "# Actividad 03: Representación númerica\n",
        "\n",
        "---\n",
        "### Profesor: Juan Marcos Marín\n",
        "### Nombre: ______\n",
        "*Métodos computacionales 2024-II*\n",
        "\n",
        "---"
      ]
    },
    {
      "cell_type": "markdown",
      "metadata": {
        "id": "jB6BqzoSamB0"
      },
      "source": [
        "**NOTA: No utilizar los métodos `bin` o `int`**"
      ]
    },
    {
      "cell_type": "markdown",
      "metadata": {
        "id": "BOi6yQmJW7os"
      },
      "source": [
        "1. Escriba una función que se llame `mybin` que reciba un número entero real de 16 bits y realice su conversión en código binario, compare su resultado con `bin(4321)`"
      ]
    },
    {
      "cell_type": "code",
      "execution_count": 8,
      "metadata": {
        "id": "xbt3ZmYiW6oF",
        "colab": {
          "base_uri": "https://localhost:8080/"
        },
        "outputId": "9d07954d-c33b-47db-acf2-9b1d803d5f8b"
      },
      "outputs": [
        {
          "output_type": "stream",
          "name": "stdout",
          "text": [
            "Ingrese un número entero dentro del rango de 16 bits (-32768 a 32767): 4526\n",
            "Resultado de mybin(4526): 0001000110101110\n",
            "Resultado de bin(4526):  0001000110101110\n",
            "Los resultados son iguales.\n"
          ]
        }
      ],
      "source": [
        "# Aqui va su código\n",
        "\n",
        "def mybin(n):\n",
        "    if n < 0:\n",
        "        n = (1 << 16) + n\n",
        "    return format(n, '016b')\n",
        "\n",
        "num = int(input(\"Ingrese un número entero dentro del rango de 16 bits (-32768 a 32767): \"))\n",
        "\n",
        "if num < -32768 or num > 32767:\n",
        "    print(\"El número está fuera del rango de 16 bits.\")\n",
        "else:\n",
        "    resultado_mybin = mybin(num)\n",
        "    resultado_bin = bin(num & 0xffff)[2:].zfill(16)\n",
        "\n",
        "    print(f\"Resultado de mybin({num}): {resultado_mybin}\")\n",
        "    print(f\"Resultado de bin({num}):  {resultado_bin}\")\n",
        "\n",
        "    if resultado_mybin == resultado_bin:\n",
        "        print(\"Los resultados son iguales.\")\n",
        "    else:\n",
        "        print(\"Los resultados son diferentes.\")\n",
        "\n"
      ]
    },
    {
      "cell_type": "markdown",
      "metadata": {
        "id": "5X_8-jpEXjSw"
      },
      "source": [
        "2. Cree una función llamada `myint` pero que a partir de un número binario con base de 16 bits encuentre el entero correspondiente. Compare su resultado con `int(0b1000011100001)`"
      ]
    },
    {
      "cell_type": "code",
      "execution_count": 7,
      "metadata": {
        "id": "VmS2TiF4XsbN",
        "colab": {
          "base_uri": "https://localhost:8080/"
        },
        "outputId": "e294d007-1e94-4b9e-ec9a-daa56e37fadc"
      },
      "outputs": [
        {
          "output_type": "stream",
          "name": "stdout",
          "text": [
            "Ingrese un número binario de 16 bits (ej: 0001000011100001): 1001001011100101\n",
            "Resultado de myint(0b1001001011100101): -27931\n",
            "Resultado de int(0b1001001011100101):  37605\n",
            "Los resultados son diferentes.\n"
          ]
        }
      ],
      "source": [
        "# Aqui va su código\n",
        "\n",
        "def myint(bin_str):\n",
        "    if bin_str[0] == '1':\n",
        "        return int(bin_str, 2) - (1 << 16)\n",
        "    else:\n",
        "        return int(bin_str, 2)\n",
        "\n",
        "binario = input(\"Ingrese un número binario de 16 bits (ej: 0001000011100001): \")\n",
        "\n",
        "resultado_myint = myint(binario)\n",
        "\n",
        "resultado_int = int(binario, 2)\n",
        "\n",
        "print(f\"Resultado de myint(0b{binario}): {resultado_myint}\")\n",
        "print(f\"Resultado de int(0b{binario}):  {resultado_int}\")\n",
        "\n",
        "if resultado_myint == resultado_int:\n",
        "    print(\"Los resultados son iguales.\")\n",
        "else:\n",
        "    print(\"Los resultados son diferentes.\")\n"
      ]
    },
    {
      "cell_type": "markdown",
      "metadata": {
        "id": "pHQ8ftloYPO5"
      },
      "source": [
        "3. Generar una función llamada `number64` para flotantes de precisión doble (64bits) donde a partir de un número binario encuentre el valor real. Compruebe su solución usando\n",
        "\n",
        "```\n",
        "number64(\"0100000000111011100100001111111111111111111111111111111111111111\")\n",
        "```\n",
        "\n"
      ]
    },
    {
      "cell_type": "code",
      "execution_count": 10,
      "metadata": {
        "id": "8W4MIVKhZTsO",
        "colab": {
          "base_uri": "https://localhost:8080/"
        },
        "outputId": "b1a3b2a5-1973-42c9-bcfa-04f8a18c0f75"
      },
      "outputs": [
        {
          "output_type": "stream",
          "name": "stdout",
          "text": [
            "El valor real correspondiente es: 27.566406249999996\n"
          ]
        }
      ],
      "source": [
        "# Aqui va su código\n",
        "\n",
        "def number64(binary):\n",
        "    if len(binary) != 64:\n",
        "        raise ValueError(\"El número binario debe tener 64 bits.\")\n",
        "\n",
        "    integer_value = int(binary, 2)\n",
        "\n",
        "    sign = (integer_value >> 63) & 1\n",
        "    exponent = (integer_value >> 52) & 0x7FF\n",
        "    fraction = integer_value & 0xFFFFFFFFFFFFF\n",
        "\n",
        "    if exponent == 0 and fraction == 0:\n",
        "        return 0.0\n",
        "    elif exponent == 0x7FF:\n",
        "        return float('inf') if fraction == 0 else float('nan')\n",
        "\n",
        "    if exponent == 0:\n",
        "        exponent_value = -1022\n",
        "    else:\n",
        "        exponent_value = exponent - 1023\n",
        "\n",
        "    real_value = (-1) ** sign * (1 + fraction / (1 << 52)) * (2 ** exponent_value)\n",
        "\n",
        "    return real_value\n",
        "\n",
        "result = number64(\"0100000000111011100100001111111111111111111111111111111111111111\")\n",
        "print(f\"El valor real correspondiente es: {result}\")\n"
      ]
    },
    {
      "cell_type": "markdown",
      "metadata": {
        "id": "xwyZCxWtZZoH"
      },
      "source": [
        "4. ***(Opcional)*** Escriba una función que convierta un número con base de 8 bits en hexadecimal, compruebe su respuesta con `hex` e imprimalo también en binario."
      ]
    },
    {
      "cell_type": "code",
      "execution_count": 11,
      "metadata": {
        "id": "SpJuueSgbJ4I",
        "colab": {
          "base_uri": "https://localhost:8080/"
        },
        "outputId": "c5a4dc92-310a-4335-8b78-d8dd42f44c40"
      },
      "outputs": [
        {
          "output_type": "stream",
          "name": "stdout",
          "text": [
            "Ingrese un número en octal (ejemplo: 100, rango: 0 a 377): 255\n",
            "Número octal: 255\n",
            "Hexadecimal: 0xad\n",
            "Binario: 0b10101101\n"
          ]
        }
      ],
      "source": [
        "# Aqui va su código\n",
        "\n",
        "def octal_to_hexadecimal(octal):\n",
        "    if not (0 <= octal < 256):\n",
        "        raise ValueError(\"El número debe estar en el rango de 0 a 255 (8 bits).\")\n",
        "\n",
        "    decimal = int(str(octal), 8)\n",
        "    hexadecimal = hex(decimal)\n",
        "\n",
        "    return hexadecimal, bin(decimal)\n",
        "\n",
        "octal_number = int(input(\"Ingrese un número en octal (ejemplo: 100, rango: 0 a 377): \"))\n",
        "hexadecimal_result, binary_result = octal_to_hexadecimal(octal_number)\n",
        "\n",
        "print(f\"Número octal: {octal_number}\")\n",
        "print(f\"Hexadecimal: {hexadecimal_result}\")\n",
        "print(f\"Binario: {binary_result}\")\n"
      ]
    }
  ],
  "metadata": {
    "colab": {
      "provenance": []
    },
    "kernelspec": {
      "display_name": "Python 3",
      "name": "python3"
    },
    "language_info": {
      "name": "python"
    }
  },
  "nbformat": 4,
  "nbformat_minor": 0
}