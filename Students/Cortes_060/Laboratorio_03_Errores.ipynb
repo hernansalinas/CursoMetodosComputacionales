{
  "nbformat": 4,
  "nbformat_minor": 0,
  "metadata": {
    "colab": {
      "provenance": []
    },
    "kernelspec": {
      "name": "python3",
      "display_name": "Python 3"
    },
    "language_info": {
      "name": "python"
    }
  },
  "cells": [
    {
      "cell_type": "code",
      "execution_count": 1,
      "metadata": {
        "id": "TdDUnb7xEXhH"
      },
      "outputs": [],
      "source": [
        "#@title Librerias\n",
        "import numpy as np\n",
        "import matplotlib.pyplot as plt\n",
        "import pandas as pd\n",
        "import math\n",
        "import sympy as sp"
      ]
    },
    {
      "cell_type": "markdown",
      "source": [
        "# Actividad 04: Errores y estabilidad\n",
        "\n",
        "---\n",
        "### Profesor: Juan Marcos Marín\n",
        "### Nombre: Simón Cortés Ocampo\n",
        "*Métodos computacionales 2024-II*\n",
        "\n",
        "---"
      ],
      "metadata": {
        "id": "izZKutpxFNuB"
      }
    },
    {
      "cell_type": "markdown",
      "source": [
        "#1. Serie Seno\n",
        "Considere la serie de Taylor para el seno\n",
        "\n",
        "$$\\sin(x) = \\sum^{\\infty}_{n=1} (-1)^{n}\\frac{x^{2n-1}}{(2n-1)!} $$\n",
        "\n",
        "a. Defina una función que a partir de la *serie de Taylor* y un valor de $x$ en radianes encuentre el valor de $\\sin(x)$.\n",
        "\n",
        "\n",
        "b. Usando $x$ como `float32` encuentre cuántos términos de la serie son necesarios para obtener una convergencia con un error absoluto menor al $ϵ$ de la máquina para dicho tipo de variable. Para el valor exacto use `math.sin()`.\n",
        "\n",
        "\n",
        "c. Ahora, usando $x$ como `float64` encuentre cuántos términos de la serie son necesarios para obtener una convergencia con un error absoluto menor al $ϵ$ de la máquina para dicho tipo de variable. Para el valor exacto use `math.sin()`.\n",
        "\n",
        "\n",
        "d. Describa los errores porcentuales para cada cálculo y por qué pueden existir diferencias."
      ],
      "metadata": {
        "id": "xkTCfzqOFSd_"
      }
    },
    {
      "cell_type": "code",
      "source": [
        "#a#\n",
        "\n",
        "import math\n",
        "\n",
        "def taylor_seno(angulo, iteraciones):\n",
        "  seno = 0\n",
        "  for i in range(iteraciones):\n",
        "    seno += (-1)**i * angulo**(2*i + 1)/math.factorial(2*i +1)\n",
        "  return seno"
      ],
      "metadata": {
        "id": "GVLogC5BGc3E"
      },
      "execution_count": null,
      "outputs": []
    },
    {
      "cell_type": "code",
      "source": [
        "import numpy as np\n",
        "\n",
        "angulo_deg = int(input(print(\"Ingrese el ángulo en grados\")))\n",
        "iter = int(input(print(\"Ingrese el número de iteraciones\")))\n",
        "x = np.deg2rad(angulo_deg) #Convertir grados a radianes#\n",
        "\n",
        "seno = taylor_seno(x, iter)\n",
        "seno_real = np.sin(x)\n",
        "\n",
        "print(f'El valor de Seno con {iter} iteraciones es {seno}')\n",
        "print(f'El valor real es {seno_real}')\n",
        "\n",
        "print(seno == seno_real) #Comparar el valor obtenido con la función con el real#"
      ],
      "metadata": {
        "colab": {
          "base_uri": "https://localhost:8080/"
        },
        "id": "FHCHvDIS6glx",
        "outputId": "90302652-3a2d-4c10-9243-e333199dd6bf"
      },
      "execution_count": null,
      "outputs": [
        {
          "output_type": "stream",
          "name": "stdout",
          "text": [
            "Ingrese el ángulo en grados\n",
            "None45\n",
            "Ingrese el número de iteraciones\n",
            "None10\n",
            "El valor de Seno con 10 iteraciones es 0.7071067811865475\n",
            "El valor real es 0.7071067811865475\n",
            "True\n"
          ]
        }
      ]
    },
    {
      "cell_type": "code",
      "source": [
        "#b#\n",
        "\n",
        "def taylor_seno32(angulo, tolerancia):\n",
        "  seno = 0\n",
        "  real = math.sin(angulo)\n",
        "  i = 0\n",
        "  while abs(real - seno) > tolerancia:\n",
        "    seno += (-1)**i * angulo**(2*i + 1)/math.factorial(2*i +1)\n",
        "    i += 1\n",
        "  return i, seno"
      ],
      "metadata": {
        "id": "u7I24U0l9AON"
      },
      "execution_count": null,
      "outputs": []
    },
    {
      "cell_type": "code",
      "source": [
        "angulo_deg = int(input(print(\"Ingrese el ángulo en grados\")))\n",
        "x = math.radians(angulo_deg) #Convertir grados a radianes#\n",
        "tol = np.finfo(np.float32).eps #Epsilon de la máquina : Tolerancia#\n",
        "\n",
        "N, seno32 = taylor_seno32(x,tol)\n",
        "\n",
        "print(f'Son necesarios {N} términos y el valor del seno es {seno32} radianes')"
      ],
      "metadata": {
        "colab": {
          "base_uri": "https://localhost:8080/"
        },
        "id": "hPAhvnSO-Y7B",
        "outputId": "f690e902-5045-4a7d-d9ad-858f3d3dd786"
      },
      "execution_count": null,
      "outputs": [
        {
          "output_type": "stream",
          "name": "stdout",
          "text": [
            "Ingrese el ángulo en grados\n",
            "None45\n",
            "Son necesarios 5 términos y el valor del seno es 0.7071067829368671 radianes\n"
          ]
        }
      ]
    },
    {
      "cell_type": "code",
      "source": [
        "#Gráficamente#\n",
        "\n",
        "def taylor_seno32_errores(angulo, tolerancia):\n",
        "  max_iter = 100\n",
        "  seno = 0\n",
        "  real = math.sin(angulo)\n",
        "  i = 0\n",
        "  errors = np.zeros(max_iter) #Guardar el error#\n",
        "  iteraciones = np.arange(max_iter) #Guardar la iteración asociada al error#\n",
        "\n",
        "  while abs(real - seno) > tolerancia:\n",
        "    seno += (-1)**i * angulo**(2*i + 1)/math.factorial(2*i +1)\n",
        "    error = abs(real-seno)\n",
        "    errors[i] = error\n",
        "    i += 1\n",
        "    if i > max_iter:\n",
        "      break\n",
        "  return errors[:i], iteraciones[:i], seno"
      ],
      "metadata": {
        "id": "2IUhNNypAx6j"
      },
      "execution_count": null,
      "outputs": []
    },
    {
      "cell_type": "code",
      "source": [
        "import matplotlib.pyplot as plt\n",
        "\n",
        "angulo_deg = int(input(print(\"Ingrese el ángulo en grados\")))\n",
        "x = math.radians(angulo_deg) #Convertir grados a radianes#\n",
        "tol = np.finfo(np.float32).eps #Epsilon de la máquina : Tolerancia#\n",
        "\n",
        "er, N, seno = taylor_seno32_errores(x, tol)\n",
        "\n",
        "plt.plot(N, er, 'ro--')\n",
        "plt.xlabel(\"Iteraciones\")\n",
        "plt.ylabel(\"Error\")\n",
        "plt.show()\n",
        "print(f'El valor del seno es {seno}')"
      ],
      "metadata": {
        "colab": {
          "base_uri": "https://localhost:8080/",
          "height": 501
        },
        "id": "cYfKMOeuCTdc",
        "outputId": "b71e3a98-81c7-447e-9c2a-15c89bd2a2b1"
      },
      "execution_count": null,
      "outputs": [
        {
          "name": "stdout",
          "output_type": "stream",
          "text": [
            "Ingrese el ángulo en grados\n",
            "None45\n"
          ]
        },
        {
          "output_type": "display_data",
          "data": {
            "text/plain": [
              "<Figure size 640x480 with 1 Axes>"
            ],
            "image/png": "[encoded data removed]"
          },
          "metadata": {}
        },
        {
          "output_type": "stream",
          "name": "stdout",
          "text": [
            "El valor del seno es 0.7071067829368671\n"
          ]
        }
      ]
    },
    {
      "cell_type": "code",
      "source": [
        "#c#\n",
        "\n",
        "def taylor_seno64(angulo, tolerancia):\n",
        "  seno = 0\n",
        "  real = math.sin(angulo)\n",
        "  i = 0\n",
        "  while abs(real - seno)> tolerancia:\n",
        "    seno += (-1)**i * angulo**(2*i + 1)/math.factorial(2*i + 1)\n",
        "    i += 1\n",
        "  return i, seno"
      ],
      "metadata": {
        "id": "r094gsjr7pgV"
      },
      "execution_count": null,
      "outputs": []
    },
    {
      "cell_type": "code",
      "source": [
        "angulo_deg = int(input(print(\"Ingrese el ángulo en grados\")))\n",
        "x = math.radians(angulo_deg)\n",
        "tol = np.finfo(np.float64).eps\n",
        "\n",
        "N, seno64 = taylor_seno64(x, tol)\n",
        "\n",
        "print(f'Son necesarios {N} términos y el valor del seno es {seno64} radianes')"
      ],
      "metadata": {
        "colab": {
          "base_uri": "https://localhost:8080/"
        },
        "id": "kgUWwhka8bgi",
        "outputId": "bfdd385b-d542-4316-b5e3-6dcb958fff3e"
      },
      "execution_count": null,
      "outputs": [
        {
          "output_type": "stream",
          "name": "stdout",
          "text": [
            "Ingrese el ángulo en grados\n",
            "None45\n",
            "Son necesarios 8 términos y el valor del seno es 0.7071067811865475 radianes\n"
          ]
        }
      ]
    },
    {
      "cell_type": "code",
      "source": [
        "#d#\n",
        "\n",
        "def seno32(angulo, iteraciones):\n",
        "  seno = 0\n",
        "  for i in range(iteraciones):\n",
        "    seno += (-1)**i * angulo**(2*i + 1)/math.factorial(2*i +1)\n",
        "  return seno\n",
        "\n",
        "def seno64(angulo, iteraciones):\n",
        "  seno = 0\n",
        "  for i in range(iteraciones):\n",
        "    seno += (-1)**i * angulo**(2*i + 1)/math.factorial(2*i +1)\n",
        "  return seno\n",
        "\n",
        "angulo_deg = int(input(print(\"Ingrese el ángulo en grados para calcular el error porcentual\")))\n",
        "angulo = math.radians(angulo_deg)\n",
        "iter_32 = int(input(print(\"Ingrese el número de iteraciones para float32\")))\n",
        "iter_64 = int(input(print(\"Ingrese el número de iteraciones para float64\")))\n",
        "seno32 = seno32(angulo, iter_32)\n",
        "seno64 = seno64(angulo, iter_64)\n",
        "error_32 = (abs(seno32- math.sin(angulo))/math.sin(angulo))*100\n",
        "error_64 = (abs(seno64 - math.sin(angulo))/math.sin(angulo))*100\n",
        "\n",
        "print(f'El error porcentual para float32 es {error_32} y para float64 es {error_64}')"
      ],
      "metadata": {
        "colab": {
          "base_uri": "https://localhost:8080/"
        },
        "id": "0MyRsrl39zBA",
        "outputId": "557cae42-386b-45cf-9fe2-69c5525b02d2"
      },
      "execution_count": null,
      "outputs": [
        {
          "output_type": "stream",
          "name": "stdout",
          "text": [
            "Ingrese el ángulo en grados para calcular el error porcentual\n",
            "None45\n",
            "Ingrese el número de iteraciones para float32\n",
            "None5\n",
            "Ingrese el número de iteraciones para float64\n",
            "None5\n",
            "El error porcentual para float32 es 2.475325811534497e-07 y para float64 es 2.475325811534497e-07\n"
          ]
        }
      ]
    },
    {
      "cell_type": "markdown",
      "source": [
        "#2. Serie Exponencial\n",
        "Considere la serie para $e^{-x}$\n",
        "\n",
        "\\begin{equation}\n",
        "e^{-x}=\\sum_{n=0}^{N}  (-1)^n \\frac{x^{n}}{n!}\n",
        "\\end{equation}\n",
        "\n",
        "a. Calcula la serie para $x \\le 1$ y compárela con la función incorporada `np.exp(x)` (asuma que la función exponencial incorporada es exacta). Elegir un $N$ para el cual el siguiente término en la serie no sea más que $10^{-7}$ de la suma hasta ese punto.\n",
        "\n",
        "\\begin{equation}\n",
        "\\left| \\frac{(-x)^{N+1}}{(N+1)!} \\right | \\le \\left| 10^{-7} \\sum_{N=0}^{N} \\frac{(-x)^{n}}{n!} \\right|\n",
        "\\end{equation}\n",
        "\n",
        "\n",
        "b. Examine los términos de la serie para $x\\approx 10$ y observa las cancelaciones sustractivas significativas que ocurren cuando términos grandes se suman para dar respuestas pequeñas. En particular, imprime la cancelación casi perfecta en $n \\approx x − 1$.\n",
        "\n",
        "c. Compruebe si se obtiene una mejor precisión siendo ingenioso y usando $e^{−x} = \\frac{1}{e^x}$ para valores grandes de $x$. Esto elimina la cancelación sustractiva, pero no elimina todos los errores de redondeo.\n",
        "\n",
        "\n",
        "d. Incrementando progresivamente $x$ de 1 a 10, y luego de 10 a 100, usa el programa para determinar experimentalmente cuándo la serie comienza a perder precisión, y cuándo la serie ya no converge.\n",
        "\n",
        "\n",
        "e. Realiza una serie de gráficos del error versus $N$ para diferentes valores de $x$."
      ],
      "metadata": {
        "id": "RdMr0k4_X_t-"
      }
    },
    {
      "cell_type": "code",
      "source": [
        "#a#\n",
        "\n",
        "def exponencial(x, N):\n",
        "  exponencial = 0\n",
        "  for i in range(0,N+1):\n",
        "    exponencial += (-1)**i * (x**i)/math.factorial(i)\n",
        "    i += 1\n",
        "  return exponencial"
      ],
      "metadata": {
        "id": "qQgoQlvDX_bT"
      },
      "execution_count": 19,
      "outputs": []
    },
    {
      "cell_type": "code",
      "source": [
        "x = float(input(print(\"Ingrese un valor para x menor o igual a 1\")))\n",
        "if x > 1:\n",
        "  raise ValueError(\"El número debe ser menor o igual a 1\")\n",
        "N = int(input(print(\"Ingrese el número de iteraciones\")))\n",
        "exponencial_exacto = np.exp(-x)\n",
        "exp = exponencial(x, N)\n",
        "\n",
        "print(f'El valor calculado para la exponencial de -{x} es {exp}. El valor exacto es {exponencial_exacto}')"
      ],
      "metadata": {
        "colab": {
          "base_uri": "https://localhost:8080/"
        },
        "id": "Exz3irvJEu_n",
        "outputId": "818060f7-20f3-446b-f1e1-f0e659f3a92f"
      },
      "execution_count": 3,
      "outputs": [
        {
          "output_type": "stream",
          "name": "stdout",
          "text": [
            "Ingrese un valor para x menor o igual a 1\n",
            "None0.5\n",
            "Ingrese el número de iteraciones\n",
            "None100\n",
            "El valor calculado para la exponencial de -0.5 es 0.6065306597126333. El valor exacto es 0.6065306597126334\n"
          ]
        }
      ]
    },
    {
      "cell_type": "code",
      "source": [
        "def exponencial_truncado(x,N):\n",
        "  exponencial = 0\n",
        "  exp_n = 0\n",
        "  #valor_max = abs(((-x)**(N+1))/math.factorial(N+1))\n",
        "  for i in range(N):\n",
        "    exponencial += (-1)**i * (x**i)/math.factorial(i)\n",
        "    if abs(exponencial - exp_n) <= 1e-7:\n",
        "      break\n",
        "    exp_n = exponencial\n",
        "  return exponencial, i"
      ],
      "metadata": {
        "id": "YsDZV6WOHmDe"
      },
      "execution_count": 4,
      "outputs": []
    },
    {
      "cell_type": "code",
      "source": [
        "x = float(input(print(\"Ingrese un número menor o igual a 1\")))\n",
        "N = int(input(print(\"Ingrese el número de repeticiones\")))\n",
        "respuesta, iter = exponencial_truncado(x,N)\n",
        "print(f'El valor del exponencial de -{x} es {respuesta} y converge a las {iter} repeticiones')"
      ],
      "metadata": {
        "colab": {
          "base_uri": "https://localhost:8080/"
        },
        "id": "I3NbB6FXTyNo",
        "outputId": "0d8d9798-1d31-4bcb-d536-a382b7003d72"
      },
      "execution_count": 5,
      "outputs": [
        {
          "output_type": "stream",
          "name": "stdout",
          "text": [
            "Ingrese un número menor o igual a 1\n",
            "None0.5\n",
            "Ingrese el número de repeticiones\n",
            "None100\n",
            "El valor del exponencial de -0.5 es 0.6065306648375496 y converge a las 8 repeticiones\n"
          ]
        }
      ]
    },
    {
      "cell_type": "code",
      "source": [
        "#b#\n",
        "\n",
        "def exponencial(x, N):\n",
        "  exponencial = 0\n",
        "  for i in range(0,N+1):\n",
        "    exponencial += (-1)**i * (x**i)/math.factorial(i)\n",
        "    i += 1\n",
        "  return exponencial\n",
        "\n",
        "x=[9.9,9.99,9.999,10.1,10.01,10.001]\n",
        "N=100\n",
        "for t in range(0,6):\n",
        "  respuesta = exponencial(x[t],N)\n",
        "  print(respuesta)"
      ],
      "metadata": {
        "colab": {
          "base_uri": "https://localhost:8080/"
        },
        "id": "rcxIsVSR18PR",
        "outputId": "07a4b0dc-bd50-4351-80b0-f5dfc84b9d8f"
      },
      "execution_count": 6,
      "outputs": [
        {
          "output_type": "stream",
          "name": "stdout",
          "text": [
            "5.017468331832344e-05\n",
            "4.5856206509935694e-05\n",
            "4.544535225539738e-05\n",
            "4.1079555300007105e-05\n",
            "4.494819301816431e-05\n",
            "4.53545527884327e-05\n"
          ]
        }
      ]
    },
    {
      "cell_type": "code",
      "source": [
        "#c#\n",
        "\n",
        "def exponencial_ingeniosa(x,N):\n",
        "  exponencial = 0\n",
        "  for i in range(N):\n",
        "    exponencial += (x**i)/(math.factorial(i))\n",
        "  return 1/exponencial"
      ],
      "metadata": {
        "id": "oWx7hL1P-C2n"
      },
      "execution_count": 11,
      "outputs": []
    },
    {
      "cell_type": "code",
      "source": [
        "x=float(input(print(\"Ingrese cualquier valor para x\")))\n",
        "N= int(input(print(\"Ingrese el número de iteraciones\")))\n",
        "resultado1 = exponencial_ingeniosa(x,N)\n",
        "resultado2 = exponencial(x,N)\n",
        "exp_exacto = np.exp(-x)\n",
        "\n",
        "print(f'El valor calculado para la exponencial de -{x} es: {resultado1} usando el método de 1/e^x, {resultado2} usando el método convencional, y el valor exacto es {exp_exacto}')"
      ],
      "metadata": {
        "colab": {
          "base_uri": "https://localhost:8080/"
        },
        "id": "0M5XSc52AEp6",
        "outputId": "7916575b-6e41-4656-df26-8e9397894fcc"
      },
      "execution_count": 12,
      "outputs": [
        {
          "output_type": "stream",
          "name": "stdout",
          "text": [
            "Ingrese cualquier valor para x\n",
            "None20\n",
            "Ingrese el número de iteraciones\n",
            "None100\n",
            "El valor calculado para la exponencial de -20.0 es: 2.0611536224385583e-09 usando el método de 1/e^x, 1.3081483199294182e-09 usando el método convencional, y el valor exacto es 2.061153622438558e-09\n"
          ]
        }
      ]
    },
    {
      "cell_type": "code",
      "source": [
        "#d#\n",
        "\n",
        "# 1 < x < 10\n",
        "\n",
        "for t in range(1,10):\n",
        "  result = exponencial(t,20)\n",
        "  error = (abs(result - np.exp(-t))/np.exp(-t))*100\n",
        "  print(f'El error para x = {t} es {error}')\n",
        "\n",
        "# 10 < x < 100\n",
        "\n",
        "for t in range(10,110,10):\n",
        "  result = exponencial(t,20)\n",
        "  error = (abs(result - np.exp(-t))/np.exp(-t))*100\n",
        "  print(f'El error para x = {t} es {error}')\n",
        "\n"
      ],
      "metadata": {
        "colab": {
          "base_uri": "https://localhost:8080/"
        },
        "id": "kDjl8ReXD4bl",
        "outputId": "50143fd1-47af-40c8-aa5d-936f2ef19dc2"
      },
      "execution_count": 37,
      "outputs": [
        {
          "output_type": "stream",
          "name": "stdout",
          "text": [
            "El error para x = 1 es 3.017899073375402e-14\n",
            "El error para x = 2 es 2.785088321729474e-11\n",
            "El error para x = 3 es 3.6165257143603056e-07\n",
            "El error para x = 4 es 0.0003972697310489605\n",
            "El error para x = 5 es 0.11269157545140866\n",
            "El error para x = 6 es 13.582151434120467\n",
            "El error para x = 7 es 907.1121399614135\n",
            "El error para x = 8 es 39337.55447620117\n",
            "El error para x = 9 es 1226877.1860896563\n",
            "El error para x = 10 es 29508461.06118008\n",
            "El error para x = 20 es 1.0322961913615715e+18\n",
            "El error para x = 30 es 9.114677145472086e+25\n",
            "El error para x = 40 es 7.051843076518923e+32\n",
            "El error para x = 50 es 1.4456583012194992e+39\n",
            "El error para x = 60 es 1.2830677236476448e+45\n",
            "El error para x = 70 es 6.400524316024733e+50\n",
            "El error para x = 80 es 2.096243782451916e+56\n",
            "El error para x = 90 es 4.9813912078218014e+61\n",
            "El error para x = 100 es 9.194561856792607e+66\n"
          ]
        }
      ]
    },
    {
      "cell_type": "markdown",
      "source": [
        "Es claro como, al ir aumentando el valor de x, la serie comienza a perder precisión pues se obtienen mayores errores, hasta que, a partir de x=10, la serie comienza a diverger."
      ],
      "metadata": {
        "id": "me_Kd-UJuisJ"
      }
    },
    {
      "cell_type": "code",
      "source": [
        "#e#\n",
        "\n",
        "# x=0.5\n",
        "result1 = exponencial(0.5,20)\n",
        "error1 = (abs(result - np.exp(-0.5))/np.exp(-0.5))*100\n",
        "result2 = exponencial(0.5,30)\n",
        "error2 = (abs(result - np.exp(-0.5))/np.exp(-0.5))*100\n",
        "result3 = exponencial(0.5,60)\n",
        "error3 = (abs(result - np.exp(-0.5))/np.exp(-0.5))*100\n",
        "result4 = exponencial(0.5,100)\n",
        "error4 = (abs(result - np.exp(-0.5))/np.exp(-0.5))*100\n",
        "\n",
        "error_05 = [error1,error2,error3,error4]\n",
        "\n",
        "# x=1\n",
        "result5 = exponencial(1,20)\n",
        "error5 = (abs(result5 - np.exp(-1))/np.exp(-1))*100\n",
        "result6 = exponencial(1,30)\n",
        "error6 = (abs(result6 - np.exp(-1))/np.exp(-1))*100\n",
        "result7 = exponencial(1,60)\n",
        "error7 = (abs(result7 - np.exp(-1))/np.exp(-1))*100\n",
        "result8 = exponencial(1,100)\n",
        "error8 = (abs(result8 - np.exp(-1))/np.exp(-1))*100\n",
        "\n",
        "error_1 = [error5,error6,error7,error8]\n",
        "\n",
        "# x=10\n",
        "result9 = exponencial(10,20)\n",
        "error9 = (abs(result9 - np.exp(-10))/np.exp(-10))*100\n",
        "result10 = exponencial(10,30)\n",
        "error10 = (abs(result10 - np.exp(-10))/np.exp(-10))*100\n",
        "result11 = exponencial(10,60)\n",
        "error11 = (abs(result11 - np.exp(-10))/np.exp(-10))*100\n",
        "result12 = exponencial(10,100)\n",
        "error12 = (abs(result12 - np.exp(-10))/np.exp(-10))*100\n",
        "\n",
        "error_10 = [error9,error10,error11,error12]\n",
        "\n",
        "# x=20\n",
        "result13 = exponencial(20,20)\n",
        "error13 = (abs(result13 - np.exp(-20))/np.exp(-20))*100\n",
        "result14 = exponencial(20,30)\n",
        "error14 = (abs(result14 - np.exp(-20))/np.exp(-20))*100\n",
        "result15 = exponencial(20,60)\n",
        "error15 = (abs(result15 - np.exp(-20))/np.exp(-20))*100\n",
        "result16 = exponencial(20,100)\n",
        "error16 = (abs(result16 - np.exp(-20))/np.exp(-20))*100\n",
        "\n",
        "error_20 = [error13,error14,error15,error16]\n",
        "\n",
        "\n",
        "N = [20,30,60,100]\n",
        "\n",
        "plt.plot(N,error_05,'ro--',label='x=0.5')\n",
        "plt.plot(N,error_1,'bo--',label='x=1')\n",
        "plt.plot(N,error_10,'go--',label='x=10')\n",
        "plt.plot(N,error_20,'ko--',label='x=20')\n",
        "plt.legend()\n",
        "plt.title('Error para diferentes valores de N')\n",
        "plt.xlabel(\"N\")\n",
        "plt.ylabel(\"Error porcentual\")\n",
        "plt.show()\n",
        "\n"
      ],
      "metadata": {
        "colab": {
          "base_uri": "https://localhost:8080/",
          "height": 472
        },
        "id": "hwUveDq-LzNH",
        "outputId": "9cb0fa0f-ab1a-4aae-a8b6-dd39904e0b75"
      },
      "execution_count": 52,
      "outputs": [
        {
          "output_type": "display_data",
          "data": {
            "text/plain": [
              "<Figure size 640x480 with 1 Axes>"
            ],
            "image/png": "[encoded data removed]"
          },
          "metadata": {}
        }
      ]
    },
    {
      "cell_type": "markdown",
      "source": [
        "# 3. Serie $S_N$\n",
        "\n",
        "Un ejemplo de la cancelacion substractiva es en la suma de series alternantes. Considere la serie $\\mathrm{S}_N$,  escrita  matematicamente de tres formas diferentes:\n",
        "\n",
        "-\n",
        "\\begin{equation}\n",
        "\\mathrm{S}_N^{(1)} = \\sum_{n = 1}^{2N} (-1)^n \\frac{n}{n+1}\n",
        "\\end{equation}\n",
        "\n",
        "- Sumando números pares e impares.\n",
        "\n",
        "\\begin{equation}\n",
        "\\mathrm{S}_N^{(2)} = -\\sum_{n = 1}^{N}\\frac{2n-1}{2n} + \\sum_{n=1}^{N} \\frac{2n}{2n+1}\n",
        "\\end{equation}\n",
        "\n",
        "- Combinando las series de una forma analítica\n",
        "\n",
        "\\begin{equation}\n",
        "\\mathrm{S}_N^{(3)} = \\sum_{n = 1}^{N}\\frac{1}{2n(2n+1)}\n",
        "\\end{equation}\n",
        "\n",
        "\n",
        "\n",
        "Las tres sumas $\\mathrm{S}_N^{(1)}$, $\\mathrm{S}_N^{(2)}$ y $\\mathrm{S}_N^{(3)}$ son matemáticamente iguales, pero los resultados númericos  pueden tener diferencias.\n",
        "\n",
        "\n",
        "a.  Escribir tres funciones para que realicen el cálculo de $\\mathrm{S}_N^{(1)}$, $\\mathrm{S}_N^{(2)}$ y $\\mathrm{S}_N^{(3)}$\n",
        "\n",
        "\n",
        "b. Estudiar la convergencia de la serie para los tres casos.\n",
        "\n",
        "\n",
        "c. Considere  que $S_N^{(3)}$ es la solución exacta, realizar dos graficos log-log, del error relativo en función\n",
        "del número de términos ($\\mathrm{Log_{10}} E$ VS $\\mathrm{Log_{10}} N$), para $S_N^{(1)}$ y $S_N^{(2)}$. Donde,  $$E = |(S_N^{(i)} - S_N^{(3)})/S_N^{(3)}|,$$ $i = 1, 2$. Considere valores de $N = 1\\times 10^{6}$.\n",
        "\n",
        "d. Analizar y discutir los resultados. Tenga en cuenta la discusión realizada sobre teoría de errores en la página\n",
        "39 del libro [Computational Physics. ](https://www.dropbox.com/s/n06ul2r4l65khl6/Computational%20Physics%20-%20Problem%20Solving%20with%20Computers%2C%203527406263.pdf?dl=0)"
      ],
      "metadata": {
        "id": "3AEfpFQcbiys"
      }
    },
    {
      "cell_type": "code",
      "source": [
        "#a#\n",
        "\n",
        "def serie1(x,n):\n",
        "  suma = 0\n",
        "  for i in range(1,2*n+1):\n",
        "    suma += (-1)**i * (i/(i+1))\n",
        "  return suma\n",
        "\n",
        "def serie2(x,n):\n",
        "  suma = 0\n",
        "  for i in range(1,n+1):\n",
        "    suma += -(2*i-1)/(2*i) + 2*i/(2*i+1)\n",
        "  return suma\n",
        "\n",
        "def serie3(x,n):\n",
        "  suma = 0\n",
        "  for i in range(1,n+1):\n",
        "    suma += 1/(2*i*(2*i+1))\n",
        "  return suma"
      ],
      "metadata": {
        "id": "aZnAG7C_b1H9"
      },
      "execution_count": 54,
      "outputs": []
    },
    {
      "cell_type": "code",
      "source": [
        "x = float(input(print(\"Ingrese un valor para x\")))\n",
        "N = int(input(print(\"Ingrese el número de iteraciones\")))\n",
        "suma1, suma2, suma3 = serie1(x,N), serie2(x,N), serie3(x,N)\n",
        "print(f'El valor de la serie 1 es {suma1}, la serie 2 es {suma2} y la serie 3 es {suma3}')"
      ],
      "metadata": {
        "colab": {
          "base_uri": "https://localhost:8080/"
        },
        "id": "VPqQZsI6c30p",
        "outputId": "fbf747a5-82a9-4cd5-8670-6d074406ecb6"
      },
      "execution_count": 55,
      "outputs": [
        {
          "output_type": "stream",
          "name": "stdout",
          "text": [
            "Ingrese un valor para x\n",
            "None20\n",
            "Ingrese el número de iteraciones\n",
            "None10\n",
            "El valor de la serie 1 es 0.2836095492055243, la serie 2 es 0.2836095492055243 y la serie 3 es 0.2836095492055244\n"
          ]
        }
      ]
    },
    {
      "cell_type": "code",
      "source": [
        "#b#\n",
        "\n",
        "#serie 1\n",
        "def serie1_convergencia(x,N):\n",
        "  suma = 0\n",
        "  max = 0\n",
        "  for i in range(1,2*N+1):\n",
        "    suma += (-1)**i * (i/(i+1))\n",
        "    if abs(suma - max) <= 1e-4:\n",
        "      break\n",
        "    max = suma\n",
        "  return suma, i\n",
        "\n",
        "#serie 2\n",
        "def serie2_convergencia(x,N):\n",
        "  suma = 0\n",
        "  max = 0\n",
        "  for i in range(1,N+1):\n",
        "    suma += -(2*i-1)/(2*i) + 2*i/(2*i+1)\n",
        "    if abs(suma - max) <= 1e-4:\n",
        "      break\n",
        "    max = suma\n",
        "  return suma, i\n",
        "\n",
        "#serie 3\n",
        "def serie3_convergencia(x,N):\n",
        "  suma = 0\n",
        "  max = 0\n",
        "  for i in range(1,N+1):\n",
        "    suma += 1/(2*i*(2*i+1))\n",
        "    if abs(suma - max) <= 1e-4:\n",
        "      break\n",
        "    max = suma\n",
        "  return suma, i"
      ],
      "metadata": {
        "id": "KZDdImXjdH1m"
      },
      "execution_count": 81,
      "outputs": []
    },
    {
      "cell_type": "code",
      "source": [
        "x = float(input(print(\"Ingrese un valor para x\")))\n",
        "N = int(input(print(\"Ingrese el número de iteraciones\")))\n",
        "suma1, i1 = serie1_convergencia(x,N)\n",
        "suma2, i2 = serie2_convergencia(x,N)\n",
        "suma3, i3 = serie3_convergencia(x,N)\n",
        "print(f'Para el valor de {x}, la serie 1 converge al valor de {suma1} a las {i1} iteraciones; la serie 2 converge al valor de {suma2} a las {i2} iteraciones y la serie 3 converge al valor de {suma3} a las {i3} iteraciones')"
      ],
      "metadata": {
        "colab": {
          "base_uri": "https://localhost:8080/"
        },
        "id": "GsebNMC8gaCe",
        "outputId": "daabda41-7a33-4e19-ad0e-0e3aac2058aa"
      },
      "execution_count": 84,
      "outputs": [
        {
          "output_type": "stream",
          "name": "stdout",
          "text": [
            "Ingrese un valor para x\n",
            "None100\n",
            "Ingrese el número de iteraciones\n",
            "None1000000\n",
            "Para el valor de 100.0, la serie 1 converge al valor de 0.3068525694401464 a las 2000000 iteraciones; la serie 2 converge al valor de 0.3019268305907944 a las 50 iteraciones y la serie 3 converge al valor de 0.3019268305907949 a las 50 iteraciones\n"
          ]
        }
      ]
    },
    {
      "cell_type": "code",
      "source": [
        "#c#\n",
        "\n",
        "x=100\n",
        "N=[1*10**6, 2*10**6, 3*10**6, 4*10**6, 5*10**6]\n",
        "#N=[10,100,1000,10000,1000000]\n",
        "\n",
        "#error serie 1\n",
        "E_1 = abs((serie1(x,N[0])-serie3(x,N[0]))/serie3(x,N[0]))\n",
        "E_2 = abs((serie1(x,N[1])-serie3(x,N[1]))/serie3(x,N[1]))\n",
        "E_3 = abs((serie1(x,N[2])-serie3(x,N[2]))/serie3(x,N[2]))\n",
        "E_4 = abs((serie1(x,N[3])-serie3(x,N[3]))/serie3(x,N[3]))\n",
        "E_5 = abs((serie1(x,N[4])-serie3(x,N[4]))/serie3(x,N[4]))\n",
        "\n",
        "error1 = [E_1,E_2,E_3,E_4,E_5]\n",
        "\n",
        "#error serie 2\n",
        "E_6 = abs((serie2(x,N[0])-serie3(x,N[0]))/serie3(x,N[0]))\n",
        "E_7 = abs((serie2(x,N[1])-serie3(x,N[1]))/serie3(x,N[1]))\n",
        "E_8 = abs((serie2(x,N[2])-serie3(x,N[2]))/serie3(x,N[2]))\n",
        "E_9 = abs((serie2(x,N[3])-serie3(x,N[3]))/serie3(x,N[3]))\n",
        "E_10 = abs((serie2(x,N[4])-serie3(x,N[4]))/serie3(x,N[4]))\n",
        "\n",
        "error2 = [E_6,E_7,E_8,E_9,E_10]\n",
        "\n",
        "plt.plot(N,error1,'ro-')\n",
        "plt.xlabel(\"N\")\n",
        "plt.ylabel(\"Error relativo\")\n",
        "plt.title(\"Error relativo en función del número de términos para la serie 1\")\n",
        "plt.xscale('log')\n",
        "plt.yscale('log')\n",
        "plt.show()\n",
        "\n",
        "plt.plot(N,error2,'bo-')\n",
        "plt.xlabel(\"N\")\n",
        "plt.ylabel(\"Error relativo\")\n",
        "plt.title(\"Error relativo en función del número de términos para la serie 2\")\n",
        "plt.xscale('log')\n",
        "plt.yscale('log')\n",
        "plt.show()\n"
      ],
      "metadata": {
        "colab": {
          "base_uri": "https://localhost:8080/",
          "height": 937
        },
        "id": "NZIXcFzulbRK",
        "outputId": "360aa612-9055-4392-aefa-365fa7235b61"
      },
      "execution_count": 87,
      "outputs": [
        {
          "output_type": "display_data",
          "data": {
            "text/plain": [
              "<Figure size 640x480 with 1 Axes>"
            ],
            "image/png": "[encoded data removed]"
          },
          "metadata": {}
        },
        {
          "output_type": "display_data",
          "data": {
            "text/plain": [
              "<Figure size 640x480 with 1 Axes>"
            ],
            "image/png": "[encoded data removed]"
          },
          "metadata": {}
        }
      ]
    },
    {
      "cell_type": "markdown",
      "source": [
        "d. Los resultados indican que, tanto para la serie 1 como para la serie 2, el error relativo en función del número de iteraciones es bastante similar. Esto quiere decir que ambas series ofrecen una aproximación bastante parecida, sobre todo cuando se consideran términos de un orden tan grande como $1\\times10^6$, pues mientras más términos se analicen, más exacta será la aproximación de la serie."
      ],
      "metadata": {
        "id": "tP1JiPMvsB_K"
      }
    }
  ]
}