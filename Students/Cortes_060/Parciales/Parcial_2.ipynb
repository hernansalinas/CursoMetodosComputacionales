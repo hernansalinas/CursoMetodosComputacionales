{
  "nbformat": 4,
  "nbformat_minor": 0,
  "metadata": {
    "colab": {
      "provenance": []
    },
    "kernelspec": {
      "name": "python3",
      "display_name": "Python 3"
    },
    "language_info": {
      "name": "python"
    }
  },
  "cells": [
    {
      "cell_type": "code",
      "execution_count": 1,
      "metadata": {
        "id": "aF61FjHUNGJA"
      },
      "outputs": [],
      "source": [
        "#@title Librerias\n",
        "import numpy as np\n",
        "import numpy.linalg as la\n",
        "import matplotlib.pyplot as plt\n",
        "from scipy.integrate import quad, fixed_quad, trapezoid, simpson\n",
        "from sympy import symbols, diff, integrate, lambdify"
      ]
    },
    {
      "cell_type": "markdown",
      "source": [
        "# Parcial II - Métodos Computacionales (Integrales y Matrices)\n",
        "**2024-2**\n",
        "\n",
        "---\n",
        "\n",
        "*Nombre:* Simón CortésOcampo\n",
        "\n",
        "*Identificación:* 1027800060\n",
        "\n",
        "---\n",
        "* Sea honest@\n",
        "* El uso de herramientas de IA no está permitido\n",
        "* Puede consultar la documentación de las librerias.\n",
        "* Sea ordendado dando la solución a cada punto.\n",
        "* *Asegurese que el notebook corra completamente*\n",
        "* Suba su notebook al GitHub (en su carpeta) y recuerde hacer pull-request"
      ],
      "metadata": {
        "id": "VqRX_GXcNZOl"
      }
    },
    {
      "cell_type": "markdown",
      "source": [
        "# 1\n",
        "\n",
        "**(20 puntos)**\n",
        "Considera la siguiente integral:\n",
        "\n",
        "$$\n",
        "I = \\int_0^1 \\int_{x^2}^{x+1} \\int_{y^2}^{y+2} \\int_{z^2}^{z+3} (x+y+z+w) \\, dw \\, dz \\, dy \\, dx\n",
        "$$\n",
        "\n",
        "Encuentre la solución númerica usando unicamente `quad`. Encuentre el error relativo, para esto emplee el siguiente código que usa `nquad`:\n",
        "\n",
        "\n",
        "```python\n",
        "# Definir el integrando\n",
        "integrand = lambda w, z, y, x: x + y + z + w\n",
        "\n",
        "# Definir los límites usando funciones lambda\n",
        "w_limits = lambda z, y, x: [z**2, z+3]\n",
        "z_limits = lambda y, x: [y**2, y+2]\n",
        "y_limits = lambda x: [x**2, x+1]\n",
        "x_limits = lambda: [0, 1]\n",
        "\n",
        "# Calcular la integral usando nquad\n",
        "result, error = nquad(\n",
        "    integrand,\n",
        "    [w_limits, z_limits, y_limits, x_limits]\n",
        ")\n",
        "\n",
        "print(f\"Resultado de la integral: {result}\")\n",
        "print(f\"Error estimado: {error}\")\n",
        "```\n",
        "\n"
      ],
      "metadata": {
        "id": "u1OxHrJINZ9c"
      }
    },
    {
      "cell_type": "code",
      "source": [
        "integrando = lambda w,z,y,x : x+y+z+w\n",
        "\n",
        "a,b = 0,1\n",
        "c,d = lambda x: x**2 , lambda x:x+1\n",
        "e,f = lambda y: y**2 , lambda y:y+2\n",
        "g,h = lambda z: z**2 , lambda z:z+3\n",
        "\n",
        "def integral_dw(z, y, x):\n",
        "    return quad(integrando, g(z), h(z), args=(z, y, x))[0]\n",
        "\n",
        "def integral_dz(y, x):\n",
        "    return quad(integral_dw, e(y), f(y), args=(y, x))[0]\n",
        "\n",
        "def integral_dy(x):\n",
        "    return quad(integral_dz, c(x), d(x), args=(x))[0]\n",
        "\n",
        "integral_dx, error = quad(integral_dy, a, b)\n",
        "\n",
        "print(f'El valor de la integral es {integral_dx} y su error es {error}')"
      ],
      "metadata": {
        "id": "cZURwltmOSgu",
        "colab": {
          "base_uri": "https://localhost:8080/"
        },
        "outputId": "d2ef7419-eb46-4e9d-fd30-8e4d8a9b927d"
      },
      "execution_count": 23,
      "outputs": [
        {
          "output_type": "stream",
          "name": "stdout",
          "text": [
            "El valor de la integral es -0.6500971589021813 y su error es 1.5813253071872154e-13\n"
          ]
        }
      ]
    },
    {
      "cell_type": "code",
      "source": [
        "from scipy.integrate import nquad\n",
        "\n",
        "w_limits = lambda z, y, x: [z**2, z+3]\n",
        "z_limits = lambda y, x: [y**2, y+2]\n",
        "y_limits = lambda x: [x**2, x+1]\n",
        "x_limits = lambda: [0, 1]\n",
        "\n",
        "result_real, error_real = nquad(\n",
        "    integrando,\n",
        "    [w_limits, z_limits, y_limits, x_limits]\n",
        ")\n",
        "\n",
        "print(f'El valor real de la integral usando nquad es {result_real} y su error es {error_real}')\n",
        "\n",
        "print(f'El error relativo es {np.abs(integral_dx - result_real)}')"
      ],
      "metadata": {
        "colab": {
          "base_uri": "https://localhost:8080/"
        },
        "id": "0m0GbZkqknm7",
        "outputId": "bd21b7a1-0cd7-4b01-804e-9f5c4353046c"
      },
      "execution_count": 26,
      "outputs": [
        {
          "output_type": "stream",
          "name": "stdout",
          "text": [
            "El valor real de la integral usando nquad es -0.6500971589021813 y su error es 1.8391891749223705e-12\n",
            "El error relativo es 0.0\n"
          ]
        }
      ]
    },
    {
      "cell_type": "markdown",
      "source": [
        "# 2\n",
        "\n",
        "**(40 puntos)**\n",
        "Un lazo de corriente de radio $a$  transporta una corriente $I$ en el punto P que está a una distancia $r$ del centro del lazo con coordenadas esféricas (r, θ, φ). Resuelve para la componente φ del potencial vectorial en el punto $P$ en términos de integrales elípticas:\n",
        "\n",
        "\\begin{equation}\n",
        "A_{\\phi}(r, \\theta)=\\frac{\\mu_0}{4\\pi}\\frac{4Ia}{\\sqrt{a^2+r^2+2ar\\sin \\theta}}\\left(\\frac{(2-k^2)K(k)-2E(k)}{k^2} \\right)\n",
        "\\end{equation}\n",
        "\n",
        "donde\n",
        "\n",
        "\\begin{equation}\n",
        "K(k)=\\int_{0}^{\\pi/2} \\frac{\\mathrm{d\\phi}}{\\sqrt{1-k^2\\sin^2\\phi}}\n",
        "\\end{equation}\n",
        "\n",
        "\\begin{equation}\n",
        "E(k)=\\int_{0}^{\\pi/2} \\mathrm{d\\phi} \\sqrt{1-k^2\\sin^2\\phi}\n",
        "\\end{equation}\n",
        "\n",
        "\\begin{equation}\n",
        "k^2=\\frac{4ar\\sin\\theta}{a^2+r^2+2ar\\sin\\theta}\n",
        "\\end{equation}\n",
        "\n",
        "Aquí, $K(k)$ es una integral elíptica completa del primer tipo y $E(k)$ es una integral elíptica completa del segundo tipo.\n",
        "\n",
        "\n",
        "Para\n",
        "* $a$ = 1,\n",
        "* $I$ = 3,\n",
        "* $μ0/4π$ = 1\n",
        "\n",
        "\n",
        "Usando funciones explicitas explique claramente las entradas, salidas y procedimientos dentro de las mismas. Recuerde para resolver las integrales usar `quad` y grafique para:\n",
        "\n",
        "*a)* $A_φ(r = 1.1, θ)$ vs. $0\\leq θ\\leq \\pi$\n",
        "\n",
        "*b)* $A_φ(r, θ = π∕3)$ vs. $0\\leq r \\leq 10$\n",
        "\n",
        "Tenga cuidado con la convergencia de su integral\n",
        "\n"
      ],
      "metadata": {
        "id": "ryB1EksIOV_l"
      }
    },
    {
      "cell_type": "code",
      "source": [
        "a = 1\n",
        "I = 3\n",
        "mu_0 = 4*np.pi\n",
        "\n",
        "def A_phi(a,r,theta,mu_0, I):\n",
        "  k = np.sqrt((4*a*r*np.sin(theta))/(a**2 + r**2 + 2*a*r*np.sin(theta)))\n",
        "  func_K = lambda phi:  1/np.sqrt(1 - k**2 * (np.sin(phi))**2)\n",
        "  K = quad(func_K , 0, np.pi/2)[0]\n",
        "  func_E = lambda phi: np.sqrt(1 - k**2 * (np.sin(phi))**2)\n",
        "  E = quad(func_E ,0, np.pi/2)[0]\n",
        "  return (mu_0/(4*np.pi))*((4*I*a)/(np.sqrt(a**2 + r**2 + 2*a*r*np.sin(theta))))*(((2-k**2)*K - 2*E)/(k**2))"
      ],
      "metadata": {
        "id": "yGrEqwaNOh_8"
      },
      "execution_count": 40,
      "outputs": []
    },
    {
      "cell_type": "code",
      "source": [
        "#a\n",
        "\n",
        "r=1.1\n",
        "theta_vals = np.linspace(0, np.pi, 100)\n",
        "\n",
        "A_phi_a = [A_phi(a,r,theta_val,mu_0, I) for theta_val in theta_vals]\n",
        "\n",
        "plt.plot(theta_vals, A_phi_a)\n",
        "plt.title('$A_{\\phi}(r=1.1, \\\\theta)$ vs. $\\\\theta$')\n",
        "plt.show()"
      ],
      "metadata": {
        "colab": {
          "base_uri": "https://localhost:8080/",
          "height": 489
        },
        "id": "J9Wxxnd0nbey",
        "outputId": "60ecf1d0-c2c1-45ce-bae6-167e23b05809"
      },
      "execution_count": 44,
      "outputs": [
        {
          "output_type": "stream",
          "name": "stderr",
          "text": [
            "<ipython-input-40-aae2e5115123>:11: RuntimeWarning: invalid value encountered in scalar divide\n",
            "  return (mu_0/(4*np.pi))*((4*I*a)/(np.sqrt(a**2 + r**2 + 2*a*r*np.sin(theta))))*(((2-k**2)*K - 2*E)/(k**2))\n"
          ]
        },
        {
          "output_type": "display_data",
          "data": {
            "text/plain": [
              "<Figure size 640x480 with 1 Axes>"
            ],
            "image/png": "[encoded data removed]"
          },
          "metadata": {}
        }
      ]
    },
    {
      "cell_type": "code",
      "source": [
        "#b\n",
        "\n",
        "theta = np.pi/3\n",
        "r_vals = np.linspace(0,10,100)\n",
        "\n",
        "A_phi_b = [A_phi(a,r_val,theta,mu_0, I) for r_val in r_vals]\n",
        "\n",
        "plt.plot(r_vals, A_phi_b)\n",
        "plt.title('$A_{\\phi}(r, \\\\theta = \\pi/3)$ vs. $r$')"
      ],
      "metadata": {
        "colab": {
          "base_uri": "https://localhost:8080/",
          "height": 506
        },
        "id": "FGedjD9zqboi",
        "outputId": "e402748d-9e4d-4f2c-923f-48246381caeb"
      },
      "execution_count": 46,
      "outputs": [
        {
          "output_type": "stream",
          "name": "stderr",
          "text": [
            "<ipython-input-40-aae2e5115123>:11: RuntimeWarning: invalid value encountered in scalar divide\n",
            "  return (mu_0/(4*np.pi))*((4*I*a)/(np.sqrt(a**2 + r**2 + 2*a*r*np.sin(theta))))*(((2-k**2)*K - 2*E)/(k**2))\n"
          ]
        },
        {
          "output_type": "execute_result",
          "data": {
            "text/plain": [
              "Text(0.5, 1.0, '$A_{\\\\phi}(r, \\\\theta = \\\\pi/3)$ vs. $r$')"
            ]
          },
          "metadata": {},
          "execution_count": 46
        },
        {
          "output_type": "display_data",
          "data": {
            "text/plain": [
              "<Figure size 640x480 with 1 Axes>"
            ],
            "image/png": "[encoded data removed]"
          },
          "metadata": {}
        }
      ]
    },
    {
      "cell_type": "markdown",
      "source": [
        "# 3\n",
        "\n",
        "(**40 puntos**) El **método de la potencia inversa** es una técnica iterativa utilizada para calcular el autovalor de menor magnitud de una matriz cuadrada. Es una variante del **método de la potencia**, que normalmente encuentra el autovalor de mayor magnitud. Para ello, se aprovecha la propiedad de la matriz inversa:\n",
        "\n",
        "$$ A^{-1} v = \\frac{1}{\\lambda} v $$\n",
        "\n",
        "\n",
        "## Algoritmo\n",
        "\n",
        "El método de la potencia inversa sigue los siguientes pasos:\n",
        "\n",
        "1. Elegir un vector inicial $x^{(0)}$ no nulo.\n",
        "\n",
        "2. Para cada iteración $k$, resolver el sistema lineal:\n",
        "   \n",
        "   $$ A y^{(k)} = x^{(k-1)} $$\n",
        "   \n",
        "   donde $y^{(k)}$ es un **vector intermedio** que se obtiene resolviendo el sistema lineal. Este vector representa la solución del sistema en cada iteración y es crucial para aproximar el autovector de menor autovalor.\n",
        "\n",
        "3. Normalizar $y^{(k)}$ para obtener un nuevo vector de iteración:\n",
        "   \n",
        "   $$ x^{(k)} = \\frac{y^{(k)}}{\\| y^{(k)} \\|} $$\n",
        "   \n",
        "4. Aproximar el autovalor mediante el cociente de Rayleigh:\n",
        "   \n",
        "   $$ \\lambda^{(k)} = \\frac{(x^{(k)})^T A x^{(k)}}{(x^{(k)})^T x^{(k)}} $$\n",
        "   \n",
        "5. Repetir los pasos anteriores hasta que la diferencia entre valores sucesivos de $\\lambda$ sea menor que un umbral de tolerancia.\n",
        "\n",
        "---\n",
        "\n",
        "*a)* Escriba una función llamada `potencia_inversa` que dada una matriz A encuentre su valor propio menos dominante (con una tolerancia de 1e-7 usando la norma Euclidiana) y su correspondiente autovector. Para obtener $y^{(k)}$ puede emplear `np.linalg.solve` recordando que $Ay = x$.\n",
        "\n",
        "*b)* Usando la matriz A, encuentre el $\\lambda_{min}$ y el correspondiente autovector. Examine la convergencia de su autovalor en función de las iteraciones, esto es, haga un gráfico de $\\lambda(k)$\n",
        "\n",
        "$$\n",
        "\\begin{bmatrix}\n",
        "5 & 2 \\\\\n",
        "2 & 2\n",
        "\\end{bmatrix}\n",
        "$$\n",
        "\n",
        "*c)* Compare su resultado con `np.linalg.eig`"
      ],
      "metadata": {
        "id": "pKubcNlWP0nc"
      }
    },
    {
      "cell_type": "code",
      "source": [
        "def potencia_inversa(A, tol=1e-7, max_iter=100):\n",
        "  x = np.random.randint(1,9,(A.shape[0],1))\n",
        "  y = la.solve(A,x)\n",
        "  x_ = y/la.norm(y)\n",
        "  eig = (np.transpose(x_)@A@x_)/(np.transpose(x_)@x_)\n",
        "  for k in range(max_iter):\n",
        "    y_new = la.solve(A,x)\n",
        "    x_new = y/la.norm(y)\n",
        "    eig_new = (np.transpose(x)@A@k)/(np.transpose(x)@x)\n",
        "    if np.abs(eig_new - eig) < tol:\n",
        "      return eig\n",
        "    else:\n",
        "      x_new = y_new"
      ],
      "metadata": {
        "id": "ZhnTbHAgP4XJ"
      },
      "execution_count": 92,
      "outputs": []
    },
    {
      "cell_type": "markdown",
      "source": [
        "#4\n",
        "\n",
        "**(10 puntos)**\n",
        "Sea $A$ una matriz cuadrada de tamaño $n \\times n$. Se sabe que el determinante de una matriz es igual al producto de sus autovalores:\n",
        "\n",
        "$$\n",
        "\\det(A) = \\prod_{i=1}^{n} \\lambda_i\n",
        "$$\n",
        "\n",
        "donde $\\lambda_1, \\lambda_2, \\dots, \\lambda_n$ son los autovalores de $A$.\n",
        "\n",
        "Usando una matriz aleatoria $A$ de $5\\times 5$, demuestre esta propiedad. Puede usar las funciones de `np.linalg`."
      ],
      "metadata": {
        "id": "Qz8QJCjWYds5"
      }
    },
    {
      "cell_type": "code",
      "source": [
        "A = np.random.randint(1,9,(5,5))\n",
        "\n",
        "def det(A):\n",
        "  n = A.shape[0]\n",
        "  producto = 1\n",
        "  for i in range(n):\n",
        "    autovalores = la.eig(A)[0]\n",
        "    producto *= autovalores[i]\n",
        "  return producto\n",
        "\n",
        "det_A_eig = det(A)\n",
        "det_A_linalg = la.det(A)\n",
        "\n",
        "print(f'El determinante usando la multiplicación de autovalores es {det_A_eig} y el determinante usando el método de linalg es {det_A_linalg}')"
      ],
      "metadata": {
        "id": "TCWf5TUwYgKq",
        "colab": {
          "base_uri": "https://localhost:8080/"
        },
        "outputId": "590a9022-df71-41f3-a8c4-35185d8a8bb4"
      },
      "execution_count": 89,
      "outputs": [
        {
          "output_type": "stream",
          "name": "stdout",
          "text": [
            "El determinante usando la multiplicación de autovalores es (363.99999999999983-2.145182850043022e-14j) y el determinante usando el método de linalg es 363.9999999999993\n"
          ]
        }
      ]
    }
  ]
}