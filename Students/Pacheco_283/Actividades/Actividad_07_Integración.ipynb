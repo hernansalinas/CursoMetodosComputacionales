{
  "nbformat": 4,
  "nbformat_minor": 0,
  "metadata": {
    "colab": {
      "provenance": []
    },
    "kernelspec": {
      "name": "python3",
      "display_name": "Python 3"
    },
    "language_info": {
      "name": "python"
    }
  },
  "cells": [
    {
      "cell_type": "code",
      "execution_count": 11,
      "metadata": {
        "id": "rZuc8vXcWuxy"
      },
      "outputs": [],
      "source": [
        "#@title Librerias\n",
        "import numpy as np\n",
        "import matplotlib.pyplot as plt\n",
        "import pandas as pd\n",
        "import sympy as sp\n",
        "from scipy.integrate import simpson, romberg, trapezoid, romberg\n",
        "from typing import Callable\n",
        "from scipy.special import roots_legendre"
      ]
    },
    {
      "cell_type": "markdown",
      "source": [
        "# Actividad 07: Integración\n",
        "\n",
        "---\n",
        "### Profesor: Juan Marcos Marín\n",
        "### Nombre: Edwar Isaías Pacheco Rojas\n",
        "### CC: 1017240283\n",
        "*Métodos computacionales 2024-II*\n",
        "\n",
        "---"
      ],
      "metadata": {
        "id": "MGwGfceuWxy3"
      }
    },
    {
      "cell_type": "markdown",
      "source": [
        "#1\n",
        "* Implemente una función para el **método de integración de Romberg** definiendo un límite de tolerancia de 1e-8 y/o un máximo de iteraciones de 10.\n",
        "\n",
        "* Encuentre la integral para\n",
        "\n",
        "$$\\int_0^{\\pi/4} e^{3x}\\cdot \\sin(x)dx$$\n",
        "\n",
        "* Imprima su resultado y compare los valores dados por `scipy.integrate.romberg`\n",
        "\n",
        "* Finalmente, encuentre el valor del error, hallando el valor exacto usando `sympy`\n",
        "\n"
      ],
      "metadata": {
        "id": "_qpgPAtHNgPB"
      }
    },
    {
      "cell_type": "code",
      "source": [
        "# @title Función de integración por Romberg\n",
        "def integral_romberg(f: Callable[[float], float], a:float, b:float, h: float,\n",
        "                     tol: float = 1e-8, max_iter: int = 10) -> float:\n",
        "\n",
        "  \"\"\"\n",
        "  La función calcula la integral de una función f en el intervalo [a, b]\n",
        "  utilizando el método de integración de Romberg.\n",
        "\n",
        "  Args:\n",
        "    :f: Función a integrar.\n",
        "    :a: Límite inferior del intervalo.\n",
        "    :b: Límite superior del intervalo.\n",
        "    :tol: Tolerancia de error.\n",
        "    :max_iter: Número máximo de iteraciones.\n",
        "\n",
        "  Returns:\n",
        "    :float: valor de aproximación de la integral.\n",
        "  \"\"\"\n",
        "\n",
        "  def integral_trapecio(f: Callable[[float], float], a:float, b:float,\n",
        "                        h: float) -> float:\n",
        "\n",
        "    \"\"\"\n",
        "    Aproximación de la integral de f en [a, b] por el método trapezoidal.\n",
        "\n",
        "    Args:\n",
        "      :f: Función a integrar\n",
        "      :a: Límite inferior del intervalo\n",
        "      :b: Límite superior del intervalo\n",
        "      :h: Distancia entre los puntos de evaluación\n",
        "\n",
        "    Returns:\n",
        "      :float: valor de aproximación de la integral\n",
        "    \"\"\"\n",
        "\n",
        "    n = int((b - a) / h)\n",
        "    integral = f(a) + f(b)\n",
        "    for i in range(1, n):\n",
        "      x_i = a + i * h\n",
        "      integral += 2 * f(x_i)\n",
        "\n",
        "    return (h / 2) * integral\n",
        "\n",
        "\n",
        "  # Cálculos para la tabla de Romberg\n",
        "  R = np.zeros((max_iter, max_iter))\n",
        "  R[0, 0] = integral_trapecio(f, a, b, h)\n",
        "  for k in range(1, max_iter):\n",
        "    R[k, 0] = integral_trapecio(f, a, b, h / 2)\n",
        "\n",
        "  ## Extrapolación\n",
        "  for j in range(1, max_iter):\n",
        "    for k in range(j, max_iter):\n",
        "      R[k, j] = R[k, j - 1] + (R[k, j - 1] - R[k - 1, j - 1]) / (4**j - 1)\n",
        "\n",
        "  return R[-1, -1]"
      ],
      "metadata": {
        "id": "Y0nXXFcnNe2R",
        "cellView": "form"
      },
      "execution_count": 2,
      "outputs": []
    },
    {
      "cell_type": "code",
      "source": [
        "# @title Aproximación de la función por el método de Romberg\n",
        "g = lambda x: np.exp(3*x)*np.sin(x)\n",
        "approx = integral_romberg(g, 0, np.pi / 4, 0.5, max_iter=20)\n",
        "print(f'El valor aproximado de la integral corresponde a: {approx}')"
      ],
      "metadata": {
        "colab": {
          "base_uri": "https://localhost:8080/"
        },
        "collapsed": true,
        "id": "3TMqevFvhPgs",
        "outputId": "76fe3ea6-d7f5-4b7e-fbef-f87a79025c3d",
        "cellView": "form"
      },
      "execution_count": 24,
      "outputs": [
        {
          "output_type": "stream",
          "name": "stdout",
          "text": [
            "El valor aproximado de la integral corresponde a: 1.6006586629754902\n"
          ]
        }
      ]
    },
    {
      "cell_type": "code",
      "source": [
        "# @title Valor de la integral por scipy.integrate.romberg\n",
        "integral = romberg(g, 0, np.pi/4)\n",
        "integral"
      ],
      "metadata": {
        "colab": {
          "base_uri": "https://localhost:8080/"
        },
        "id": "XdGhEsRKrkzx",
        "outputId": "d21d10c4-a344-4873-bd15-d9749db5b663",
        "cellView": "form"
      },
      "execution_count": 21,
      "outputs": [
        {
          "output_type": "stream",
          "name": "stderr",
          "text": [
            "<ipython-input-21-7cf13983ccd5>:2: DeprecationWarning: `scipy.integrate.romberg` is deprecated as of SciPy 1.12.0and will be removed in SciPy 1.15.0. Please use`scipy.integrate.quad` instead.\n",
            "  integral = romberg(g, 0, np.pi/4)\n"
          ]
        },
        {
          "output_type": "execute_result",
          "data": {
            "text/plain": [
              "1.592097707858613"
            ]
          },
          "metadata": {},
          "execution_count": 21
        }
      ]
    },
    {
      "cell_type": "code",
      "source": [
        "# @title Valor \"exacto\" por sympy\n",
        "s = sp.symbols('s')\n",
        "exp = sp.exp(3*s)*sp.sin(s)\n",
        "I = sp.integrate(exp, (s, 0, sp.pi/4))\n",
        "print('El valor exacto de la integral corresponde a: ')\n",
        "display(I)\n",
        "print(f'Dicho valor es aproximadamente: {I.evalf()}')"
      ],
      "metadata": {
        "colab": {
          "base_uri": "https://localhost:8080/",
          "height": 93
        },
        "cellView": "form",
        "id": "zFJ0Y96uNS3P",
        "outputId": "d4202a64-f551-43b7-cce0-30823aeffef2"
      },
      "execution_count": 20,
      "outputs": [
        {
          "output_type": "stream",
          "name": "stdout",
          "text": [
            "El valor exacto de la integral corresponde a: \n"
          ]
        },
        {
          "output_type": "display_data",
          "data": {
            "text/plain": [
              "1/10 + sqrt(2)*exp(3*pi/4)/10"
            ],
            "text/latex": "$\\displaystyle \\frac{1}{10} + \\frac{\\sqrt{2} e^{\\frac{3 \\pi}{4}}}{10}$"
          },
          "metadata": {}
        },
        {
          "output_type": "stream",
          "name": "stdout",
          "text": [
            "Dicho valor es aproximadamente: 1.59209770785868\n"
          ]
        }
      ]
    },
    {
      "cell_type": "code",
      "source": [
        "# @title Errores absolutos\n",
        "error_1 = abs(approx - integral)\n",
        "error_2 = abs(approx - I.evalf())\n",
        "print(f'El error de nuestra estimación respecto a scipy.integrate.romberg es: \\\n",
        "{error_1:.3f}')\n",
        "print(f'El error de nuestra estimación respecto a sp.integrate es: \\\n",
        "{error_2:.3f}')"
      ],
      "metadata": {
        "colab": {
          "base_uri": "https://localhost:8080/"
        },
        "cellView": "form",
        "id": "iatlhsGWNDcH",
        "outputId": "91dd36be-df11-410f-a4d1-91e6fe4b551d"
      },
      "execution_count": 28,
      "outputs": [
        {
          "output_type": "stream",
          "name": "stdout",
          "text": [
            "El error de nuestra estimación respecto a scipy.integrate.romberg es: 0.009\n",
            "El error de nuestra estimación respecto a sp.integrate es: 0.009\n"
          ]
        }
      ]
    },
    {
      "cell_type": "markdown",
      "source": [
        "#2\n",
        "\n",
        "* Usando los *métodos trapezoidal compuesto*, *simpson 1/3* y de *medio punto* encuentre la siguiente integral,\n",
        "\n",
        "$$\\int_e^{1+e} dx\\, \\frac{1}{x\\ln x}$$\n",
        "\n",
        "* Luego, haga un estudio de la convergencia en términos del valor de $h$ o de los sub-intervalos de la función. ¿Cuál es mejor?\n"
      ],
      "metadata": {
        "id": "Db9dUFTSQcLY"
      }
    },
    {
      "cell_type": "code",
      "source": [
        "# @title Valor \"exacto\" de la integral\n",
        "x = sp.symbols('x')\n",
        "f = 1 / (x * sp.log(x))\n",
        "F = sp.integrate(f, (x, sp.E, 1 + sp.E))\n",
        "integral_approx = F.evalf()\n",
        "print(integral_approx)"
      ],
      "metadata": {
        "id": "uEPXP21uQc_o",
        "colab": {
          "base_uri": "https://localhost:8080/"
        },
        "outputId": "46975229-466b-445b-f017-89798abd3fd0",
        "cellView": "form"
      },
      "execution_count": null,
      "outputs": [
        {
          "output_type": "stream",
          "name": "stdout",
          "text": [
            "0.272513880502583\n"
          ]
        }
      ]
    },
    {
      "cell_type": "code",
      "source": [
        "# @title Funciones de integración numérica\n",
        "def integral_riemman(f: Callable[[float], float], a:float, b:float\n",
        "                     , n: int) -> float:\n",
        "\n",
        "  \"\"\"\n",
        "  Aproximación de la intral de f.\n",
        "\n",
        "  Args:\n",
        "    :f: Función a integrar\n",
        "    :a: Índice inferior de la integral\n",
        "    :b: Índice superior de la integral\n",
        "    :n: Número de subintervalos\n",
        "\n",
        "  Returns:\n",
        "    float\n",
        "  \"\"\"\n",
        "\n",
        "  h = (b - a) / n\n",
        "  integral = 0\n",
        "  for i in range(n):\n",
        "    x_i = a + i * h\n",
        "    integral += f(x_i + h / 2)\n",
        "\n",
        "  return integral * h\n",
        "\n",
        "\n",
        "def integral_simpson13(f: Callable[[float], float], a:float, b:float\n",
        "                     , n: int) -> float:\n",
        "\n",
        "  \"\"\"\n",
        "  Aproximación de la integral definida de f entre [a, b].\n",
        "\n",
        "  Args:\n",
        "    :f: Función a integrar\n",
        "    :a: Límite inferior del intervalo\n",
        "    :b: Límite superior del intervalo\n",
        "    :n: Factor de división del intervalo\n",
        "\n",
        "  Returns:\n",
        "    :float: valor de aproximación de la integral\n",
        "  \"\"\"\n",
        "\n",
        "  if n % 2 != 0:\n",
        "    raise ValueError(\"El número de intervalos debe ser par.\")\n",
        "\n",
        "  h = (b - a) / n\n",
        "  integral = f(a) + f(b)\n",
        "  # Términos impares\n",
        "  for i in range(1, n, 2):\n",
        "    x_i = a + i * h\n",
        "    integral += 4 * f(x_i)\n",
        "  # Términos pares\n",
        "  for j in range(2, n, 2):\n",
        "    x_i = a + j * h\n",
        "    integral += 2 * f(x_i)\n",
        "\n",
        "  return integral * (h / 3)\n",
        "\n",
        "\n",
        "def integral_trapecio(f: Callable[[float], float], a:float, b:float\n",
        "                     , n: int) -> float:\n",
        "\n",
        "  \"\"\"\n",
        "    Aproximación de la integral de f en [a, b] por el método trapezoidal.\n",
        "\n",
        "  Args:\n",
        "    :f: Función a integrar\n",
        "    :a: Límite inferior del intervalo\n",
        "    :b: Límite superior del intervalo\n",
        "    :n: Número de subintervalos\n",
        "\n",
        "  Returns:\n",
        "    :float: valor de aproximación de la integral\n",
        "  \"\"\"\n",
        "\n",
        "  h = (b - a) / n\n",
        "  integral = f(a) + f(b)\n",
        "  for i in range(1, n):\n",
        "    x_i = a + i * h\n",
        "    integral += 2 * f(x_i)\n",
        "\n",
        "  return (h / 2) * integral"
      ],
      "metadata": {
        "id": "-EPZ23Wv_x2G",
        "cellView": "form"
      },
      "execution_count": null,
      "outputs": []
    },
    {
      "cell_type": "code",
      "source": [
        "# @title Función cálculo de errores en la convergencia\n",
        "def convergencia(metodo, f, a, b, f_exact, eps=1e-8):\n",
        "\n",
        "  \"\"\"\n",
        "  La función calcula la convergencia de un método de integración numérica.\n",
        "\n",
        "  Args:\n",
        "    :metodo: Método de integración numérica a utilizar.\n",
        "    :f: Función a integrar.\n",
        "    :a: Límite inferior del intervalo.\n",
        "    :b: Límite superior del intervalo.\n",
        "    :f_exact: Valor exacto de la integral.\n",
        "    :eps: Tolerancia de error.\n",
        "\n",
        "  Returns:\n",
        "    :n: Número de subintervalos.\n",
        "    :errores: Arreglo de errores.\n",
        "\n",
        "  Observación: se emplean dos índices n y m para controlar la paridad de los\n",
        "  subintervalos seg´´un el método de integración.\n",
        "  \"\"\"\n",
        "\n",
        "  errores = []\n",
        "  n = 1\n",
        "  m = 1\n",
        "\n",
        "  while True:\n",
        "    if metodo == integral_simpson13:\n",
        "      m = 2 * n\n",
        "    else:\n",
        "      m = n\n",
        "\n",
        "    integral_approx = metodo(f, a, b, m)\n",
        "    error = abs(integral_approx - f_exact)\n",
        "    errores.append(error)\n",
        "\n",
        "    if error < eps:\n",
        "      break\n",
        "\n",
        "    n += 1\n",
        "\n",
        "  return n, np.array(errores)"
      ],
      "metadata": {
        "id": "Sy6pTaDqBWFS",
        "cellView": "form"
      },
      "execution_count": null,
      "outputs": []
    },
    {
      "cell_type": "code",
      "source": [
        "# @title Gráficos de error\n",
        "funtion = sp.lambdify(x, f, 'numpy')\n",
        "a, b = np.e, 1 + np.e\n",
        "\n",
        "fig, ax = plt.subplots(1, 3, figsize=(15, 5))\n",
        "metodos = [integral_trapecio, integral_simpson13, integral_riemman]\n",
        "for i, metodo in enumerate(metodos):\n",
        "  n, errores = convergencia(metodo, funtion, a, b, integral_approx, eps=1e-6)\n",
        "  ax[i].set_title(metodo.__name__)\n",
        "  ax[i].set_xlabel('Número de subintervalos')\n",
        "  ax[i].set_ylabel('Error')\n",
        "  ax[i].plot(np.arange(1, n + 1), errores, label=metodo.__name__)\n",
        "\n",
        "plt.show()\n",
        "plt.tight_layout()"
      ],
      "metadata": {
        "colab": {
          "base_uri": "https://localhost:8080/",
          "height": 504
        },
        "collapsed": true,
        "cellView": "form",
        "id": "P6KcgnUvfk8H",
        "outputId": "53df4716-f0e0-4ef2-cc87-a6be27e679ae"
      },
      "execution_count": null,
      "outputs": [
        {
          "output_type": "display_data",
          "data": {
            "text/plain": [
              "<Figure size 1500x500 with 3 Axes>"
            ],
            "image/png": "[encoded data removed]"
          },
          "metadata": {}
        },
        {
          "output_type": "display_data",
          "data": {
            "text/plain": [
              "<Figure size 640x480 with 0 Axes>"
            ]
          },
          "metadata": {}
        }
      ]
    },
    {
      "cell_type": "markdown",
      "source": [
        "Nótese que la integral numérica por el método de Simpson 1/3 es muchísimo más precisa que los demás."
      ],
      "metadata": {
        "id": "qPVsDi4wpdko"
      }
    },
    {
      "cell_type": "markdown",
      "source": [
        "#3\n",
        "Usando la siguiente función:\n",
        "\n",
        "\n",
        "\n",
        "```python\n",
        "def gauss_quad_standard(func, n):\n",
        "    \"\"\"\n",
        "    Calcula la integral de una función en el intervalo [-1, 1]\n",
        "    utilizando cuadratura gaussiana.\n",
        "\n",
        "    Parameters:\n",
        "    - func: La función a integrar.\n",
        "    - n: Número de puntos para la cuadratura (grado del polinomio de Legendre).\n",
        "\n",
        "    Returns:\n",
        "    - Aproximación de la integral.\n",
        "    \"\"\"\n",
        "    # Obtener raíces y pesos del polinomio de Legendre\n",
        "    x, w = roots_legendre(n)\n",
        "\n",
        "    # Evaluar la suma ponderada\n",
        "    integral = np.sum(w * func(x))\n",
        "    return integral\n",
        "```\n",
        "\n",
        "Modifique la función `gauss_quad_standard` de forma tal que no este restringida para $[-1,1]$ sino para cualquier intervalo $[a,b]$. Luego, encuentre la integral del *punto 2*.\n",
        "\n",
        "\n",
        "\n"
      ],
      "metadata": {
        "id": "3fLo8sm8RqA0"
      }
    },
    {
      "cell_type": "code",
      "source": [
        "# @title Función gauss_quad_standard modificada\n",
        "def gauss_quad_standard_modif(func: Callable[[float], float], a: float, b: float,\n",
        "                        n: int) -> float:\n",
        "\n",
        "  \"\"\"\n",
        "  Calcula la integral de una función en el intervalo [a, b] utilizando\n",
        "  cuadratura gaussiana.\n",
        "\n",
        "  Parameters:\n",
        "  - func: La función a integrar.\n",
        "  - a: Límite inferior del intervalo.\n",
        "  - b: Límite superior del intervalo.\n",
        "  - n: Número de puntos para la cuadratura (grado del polinomio de Legendre).\n",
        "\n",
        "  Returns:\n",
        "  - Aproximación de la integral.\n",
        "  \"\"\"\n",
        "\n",
        "  # Obtener raíces y pesos del polinomio de Legendre\n",
        "  x, w = roots_legendre(n)\n",
        "\n",
        "  # Evaluar la suma ponderada\n",
        "  integral = ((b - a) / 2) * np.sum(w * func(((b - a) / 2) * x + ((b + a) / 2)))\n",
        "\n",
        "  return integral"
      ],
      "metadata": {
        "id": "0XQga3HfSE9n",
        "cellView": "form"
      },
      "execution_count": null,
      "outputs": []
    },
    {
      "cell_type": "code",
      "source": [
        "# @title Aproximación de la integral en 2) por gauss_quad_standard_modif\n",
        "convergencia(gauss_quad_standard_modif, funtion, a, b, integral_approx,\n",
        "             eps=1e-16)"
      ],
      "metadata": {
        "colab": {
          "base_uri": "https://localhost:8080/"
        },
        "cellView": "form",
        "id": "2O-2Ij3-smxO",
        "outputId": "b5af3e7a-c49f-4e91-a47f-ab591816a4cf"
      },
      "execution_count": null,
      "outputs": [
        {
          "output_type": "execute_result",
          "data": {
            "text/plain": [
              "(9,\n",
              " array([0.00667528807430556, 0.000103007845683956, 1.43571277300136e-6,\n",
              "        1.93212537635823e-8, 2.56198118275819e-10, 3.37357919377723e-12,\n",
              "        4.42423875313125e-14, 5.55111512312578e-16, 5.55111512312578e-17],\n",
              "       dtype=object))"
            ]
          },
          "metadata": {},
          "execution_count": 8
        }
      ]
    },
    {
      "cell_type": "markdown",
      "source": [
        "El método de gauss es excesivamente preciso para calcular el valor de una integral definida. Con solo nueve (9) raíces y pesos es posible obtener un error menor a 1e-16."
      ],
      "metadata": {
        "id": "-1JmQl1Vuk9a"
      }
    },
    {
      "cell_type": "markdown",
      "source": [
        "#4\n",
        "\n",
        "Encuentra todas las raices para los polinomios de grado 3 y 4 de **Legendre** usando el Método de la Secante y Newton-Raphson.\n",
        "\n",
        "\n",
        "\n",
        "```python\n",
        "import sympy as sp\n",
        "x = sp.Symbol('x')\n",
        "\n",
        "# Polinomio de Legendre de grado n\n",
        "Pn = sp.legendre(n, x)\n",
        "\n",
        "```\n",
        "\n",
        "y calcule los pesos $w_i$ de la cuadratura mediante la fórmula:\n",
        "   $$\n",
        "   w_i = \\frac{2}{(1 - x_i^2) \\left[P_n'(x_i)\\right]^2},\n",
        "   $$\n",
        "   donde $P_n'(x)$ es la derivada del polinomio de Legendre $P_n(x)$.\n"
      ],
      "metadata": {
        "id": "hvSy6jouSLiJ"
      }
    },
    {
      "cell_type": "code",
      "source": [
        "# @title Polinomios de Legendre de grado tres y cuatro\n",
        "P_3 = sp.legendre(3, x)\n",
        "P_4 = sp.legendre(4, x)\n",
        "display(P_3, P_4)"
      ],
      "metadata": {
        "id": "EZNA4VoXSXiT",
        "colab": {
          "base_uri": "https://localhost:8080/",
          "height": 91
        },
        "cellView": "form",
        "outputId": "94025fd3-be93-4ae6-bb6c-44664e3e7b83"
      },
      "execution_count": null,
      "outputs": [
        {
          "output_type": "display_data",
          "data": {
            "text/plain": [
              "5*x**3/2 - 3*x/2"
            ],
            "text/latex": "$\\displaystyle \\frac{5 x^{3}}{2} - \\frac{3 x}{2}$"
          },
          "metadata": {}
        },
        {
          "output_type": "display_data",
          "data": {
            "text/plain": [
              "35*x**4/8 - 15*x**2/4 + 3/8"
            ],
            "text/latex": "$\\displaystyle \\frac{35 x^{4}}{8} - \\frac{15 x^{2}}{4} + \\frac{3}{8}$"
          },
          "metadata": {}
        }
      ]
    },
    {
      "cell_type": "code",
      "source": [
        "# @title Gráficas de los polinomios P_3 y P_4\n",
        "# Crear el gráfico sin mostrarlo inmediatamente\n",
        "p = sp.plot(P_3, P_4, (x, -1, 1), show=False)\n",
        "\n",
        "# Personalización del gráfico\n",
        "p.title = \"Polinomios de Legendre de grado 3 y 4\"\n",
        "p.xlabel = \"x\"\n",
        "p.ylabel = \"P_n(x)\"\n",
        "p.legend = True\n",
        "\n",
        "p[0].label = \"$P_3(x)$\"\n",
        "p[0].line_color = \"blue\"\n",
        "p[0].line_style = \"-.\"\n",
        "p[0].line_width = 2\n",
        "\n",
        "p[1].label = \"$P_4(x)$\"\n",
        "p[1].line_color = \"red\"\n",
        "p[1].line_style = \"--\"\n",
        "p[1].line_width = 2\n",
        "\n",
        "p.show()"
      ],
      "metadata": {
        "colab": {
          "base_uri": "https://localhost:8080/",
          "height": 487
        },
        "cellView": "form",
        "id": "jpxibLnX21W7",
        "outputId": "53ca8dc4-b765-4f09-8af9-e036288022fb"
      },
      "execution_count": null,
      "outputs": [
        {
          "output_type": "display_data",
          "data": {
            "text/plain": [
              "<Figure size 640x480 with 1 Axes>"
            ],
            "image/png": "[encoded data removed]"
          },
          "metadata": {}
        }
      ]
    },
    {
      "cell_type": "code",
      "source": [
        "# @title Métodos de la secante y Newton-Raphson para hallar las raíces buscadas\n",
        "def secante(f: Callable[[float], float], x0: float, x1:float, tol: float =1e-12,\n",
        "            max_iter: int = 100) -> tuple:\n",
        "\n",
        "  \"\"\"\n",
        "  Implementación del método de la secante para hallar raíces.\n",
        "\n",
        "  Parámetros:\n",
        "    f: función a la que se le desea encontrar la raíz.\n",
        "    x0, x1: valores iniciales de las aproximaciones.\n",
        "    tol: tolerancia, criterio de parada.\n",
        "    max_iter: número máximo de iteraciones permitidas.\n",
        "\n",
        "  Retorna:\n",
        "    La aproximación a la raíz y número de iteraciones realizadas.\n",
        "  \"\"\"\n",
        "\n",
        "  for i in range(max_iter):\n",
        "    if f(x1) == f(x0):\n",
        "      raise ValueError(\"No se cumplen el primer criterio para el método de la \\\n",
        "                       secante\")\n",
        "\n",
        "    x2 = x1 - ((f(x1) * (x1 - x0)) / (f(x1) - f(x0)))\n",
        "\n",
        "    if abs(x2 - x1) < tol:\n",
        "      return x2, i + 1  # Aproximación de la raíz y el número de iteraciones\n",
        "\n",
        "    x1, x0 = x2, x1\n",
        "\n",
        "  raise RuntimeError(\"El método no converge en un máximo de iteraciones.\")\n",
        "\n",
        "\n",
        "def newton_raphson(f: Callable[[float], float], df:  Callable[[float], float],\n",
        "                   x0: float, tol: float = 1e-10, max_iter: int = 100) -> tuple:\n",
        "\n",
        "  \"\"\"\n",
        "  Implementación del método de Newton-Raphson para hallar raíces.\n",
        "\n",
        "  Parámetros:\n",
        "    f: función a la que se le desea encontrar la raíz.\n",
        "    df: derivada de la función.\n",
        "    x0: valor inicial de la aproximación.\n",
        "    tol: tolerancia, criterio de parada.\n",
        "    max_iter: número máximo de iteraciones permitidas.\n",
        "\n",
        "  Retorna:\n",
        "    La aproximación a la raíz y el número de iteraciones realizadas.\n",
        "  \"\"\"\n",
        "\n",
        "  xn = x0\n",
        "  iteraciones = np.arange(max_iter)\n",
        "\n",
        "  iter = 0\n",
        "  while iter < max_iter:\n",
        "    xn1 = xn - (f(xn) / df(xn))\n",
        "\n",
        "    if df(xn) == 0:\n",
        "      raise ValueError(f\"La derivada de la función es cero en {xn}. ¡Error!\")\n",
        "\n",
        "    if abs(xn1 - xn) < tol:\n",
        "      return xn1, iteraciones[:iter]\n",
        "\n",
        "    xn = xn1\n",
        "    iter += 1\n",
        "\n",
        "  raise ValueError(\"El método no convergió en el número máximo de iteraciones.\")"
      ],
      "metadata": {
        "id": "xC6m9Ff1RzRn",
        "cellView": "form"
      },
      "execution_count": null,
      "outputs": []
    },
    {
      "cell_type": "code",
      "source": [
        "# @title Obtención de los pesos w_i\n",
        "def pesos_w(df_Pn: Callable[[float], float], xi: float) -> np.ndarray:\n",
        "\n",
        "  \"\"\"\n",
        "  La función returna pesos wi para cada raíz xi de los polinomios de Legendre.\n",
        "\n",
        "  Args:\n",
        "    :df_Pn: Derivada del polinomio de Legendre de grado n.\n",
        "    :xi: Raíz del polinomio de Legendre.\n",
        "\n",
        "  Returns:\n",
        "    :np.ndarray: Arreglo de pesos.\n",
        "  \"\"\"\n",
        "\n",
        "  return (2 / ((1 - xi ** 2) * (df_Pn(xi) ** 2)))"
      ],
      "metadata": {
        "id": "MTx7QoMTfK-S",
        "cellView": "form"
      },
      "execution_count": null,
      "outputs": []
    },
    {
      "cell_type": "code",
      "source": [
        "# @title Funciones tipo lambda de los polinomios de Legendre\n",
        "## Derivada y funciones\n",
        "df_P_3 = sp.lambdify(x, P_3.diff(x), 'numpy')\n",
        "f_P_3 = sp.lambdify(x, P_3, 'numpy')\n",
        "\n",
        "df_P_4 = sp.lambdify(x, P_4.diff(x), 'numpy')\n",
        "f_P_4 = sp.lambdify(x, P_4, 'numpy')"
      ],
      "metadata": {
        "cellView": "form",
        "id": "w0WunPJ--Lfs"
      },
      "execution_count": null,
      "outputs": []
    },
    {
      "cell_type": "markdown",
      "source": [
        "Nótese que las tres raíces de $P_3(x)$ para el método de la secante se encuentran entre $(-1, -0.75),\\ (-0.5, 0.5)\\ y\\ (0.75, 1)$.\n",
        "\n",
        "Para $P_4(x)$ los intervalos son $(-1, -0.75),\\ (-0.5, -0.25),\\ (0.25, 0.5)\\ y\\ (0.75, 1).$"
      ],
      "metadata": {
        "id": "nNhnxyNkAVAC"
      }
    },
    {
      "cell_type": "code",
      "source": [
        "# @title Raíces x_i y pesos w_i por el método de la secante para P_3\n",
        "intervalos = [[-1, -0.75], [-0.5, 0.5], [0.75, 1]]\n",
        "raices = []\n",
        "for intervalo in intervalos:\n",
        "  raiz, _ = secante(f_P_3, *intervalo)\n",
        "  raices.append(raiz)\n",
        "\n",
        "pesos = pesos_w(df_P_3, np.array(raices))\n",
        "print(f'Raíces: {raices}\\nPesos: {pesos}')"
      ],
      "metadata": {
        "colab": {
          "base_uri": "https://localhost:8080/"
        },
        "cellView": "form",
        "id": "u_ZkXw3A4pB0",
        "outputId": "15174dab-1b0f-47b4-bacd-7548d1933a45"
      },
      "execution_count": null,
      "outputs": [
        {
          "output_type": "stream",
          "name": "stdout",
          "text": [
            "Raíces: [-0.7745966692414834, 0.0, 0.7745966692414834]\n",
            "Pesos: [0.55555556 0.88888889 0.55555556]\n"
          ]
        }
      ]
    },
    {
      "cell_type": "code",
      "source": [
        "# @title Raíces x_i y pesos w_i por el método de la secante para P_4\n",
        "intervalos = [[-1, -0.75], [-0.5, -0.25], [0.25, 0.5], [0.75, 1]]\n",
        "raices = []\n",
        "for intervalo in intervalos:\n",
        "  raiz, _ = secante(f_P_4, *intervalo)\n",
        "  raices.append(raiz)\n",
        "\n",
        "pesos = pesos_w(df_P_4, np.array(raices))\n",
        "print(f'Raíces: {raices}\\nPesos: {pesos}')"
      ],
      "metadata": {
        "colab": {
          "base_uri": "https://localhost:8080/"
        },
        "cellView": "form",
        "id": "DUjw8Q4-DXwh",
        "outputId": "79e81d1c-50ff-4329-fddb-9dfa891c7522"
      },
      "execution_count": null,
      "outputs": [
        {
          "output_type": "stream",
          "name": "stdout",
          "text": [
            "Raíces: [-0.8611363115940526, -0.3399810435848563, 0.33998104358485626, 0.8611363115940526]\n",
            "Pesos: [0.34785485 0.65214515 0.65214515 0.34785485]\n"
          ]
        }
      ]
    },
    {
      "cell_type": "markdown",
      "source": [
        "A partir del gráfico de $P_4(x)$ podemos observar que las estimaciones iniciales para las raíces con el método de Newton-Raphson son: $x_1=-0.8, x_2=-0.3, x_3=0.3, x_4=0.8$.\n",
        "\n",
        "Para $P_3(x)$, estas estimaciones corresponden a $x_1=-0.75, x_2=-0.1, x_3=0.75$."
      ],
      "metadata": {
        "id": "mSQ-CTifD_lZ"
      }
    },
    {
      "cell_type": "code",
      "source": [
        "# @title Raíces xi y pesos wi por el método de Newton-R para P_3\n",
        "raices_approx = [-0.75, -0.1, 0.75]\n",
        "raices = []\n",
        "for xi in raices_approx:\n",
        "  raiz, _ = newton_raphson(f_P_3, df_P_3, xi)\n",
        "  raices.append(raiz)\n",
        "pesos = pesos_w(df_P_3, np.array(raices))\n",
        "print(f'Raíces: {raices}\\nPesos: {pesos}')"
      ],
      "metadata": {
        "colab": {
          "base_uri": "https://localhost:8080/"
        },
        "cellView": "form",
        "id": "O-0jA9w8DvsR",
        "outputId": "f89e6a34-284c-4a99-cdea-5fd87dbadcc8"
      },
      "execution_count": null,
      "outputs": [
        {
          "output_type": "stream",
          "name": "stdout",
          "text": [
            "Raíces: [-0.7745966692414833, 0.0, 0.7745966692414833]\n",
            "Pesos: [0.55555556 0.88888889 0.55555556]\n"
          ]
        }
      ]
    },
    {
      "cell_type": "code",
      "source": [
        "# @title Raíces xi y pesos wi por el método de Newton-R para P_4\n",
        "raices_approx = [-0.8, -0.3, 0.3, 0.8]\n",
        "raices = []\n",
        "for xi in raices_approx:\n",
        "  raiz, _ = newton_raphson(f_P_4, df_P_4, xi)\n",
        "  raices.append(raiz)\n",
        "pesos = pesos_w(df_P_4, np.array(raices))\n",
        "print(f'Raíces: {raices}\\nPesos: {pesos}')"
      ],
      "metadata": {
        "colab": {
          "base_uri": "https://localhost:8080/"
        },
        "cellView": "form",
        "id": "Eo6kKi02FQPL",
        "outputId": "290a2fb0-cd4a-4dd2-dfab-88b76400b225"
      },
      "execution_count": null,
      "outputs": [
        {
          "output_type": "stream",
          "name": "stdout",
          "text": [
            "Raíces: [-0.8611363115940526, -0.33998104358485626, 0.33998104358485626, 0.8611363115940526]\n",
            "Pesos: [0.34785485 0.65214515 0.65214515 0.34785485]\n"
          ]
        }
      ]
    }
  ]
}