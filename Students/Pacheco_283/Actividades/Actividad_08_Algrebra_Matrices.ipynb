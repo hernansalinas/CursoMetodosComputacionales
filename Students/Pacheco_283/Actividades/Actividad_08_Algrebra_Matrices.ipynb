{
  "nbformat": 4,
  "nbformat_minor": 0,
  "metadata": {
    "colab": {
      "provenance": []
    },
    "kernelspec": {
      "name": "python3",
      "display_name": "Python 3"
    },
    "language_info": {
      "name": "python"
    }
  },
  "cells": [
    {
      "cell_type": "code",
      "execution_count": 2,
      "metadata": {
        "id": "z7RCty67y3ME"
      },
      "outputs": [],
      "source": [
        "import numpy as np\n",
        "import matplotlib.pyplot as plt\n",
        "import scipy.linalg as la\n",
        "import random"
      ]
    },
    {
      "cell_type": "markdown",
      "source": [
        "# Actividad 08: Algebra Lineal y Matrices\n",
        "\n",
        "---\n",
        "### Profesor: Juan Marcos Marín\n",
        "### Nombre: Edwar Isaías Pacheco Rojas\n",
        "### CC: 1017240283\n",
        "*Métodos computacionales 2024-II*\n",
        "\n",
        "---"
      ],
      "metadata": {
        "id": "GGQpGoujzAnQ"
      }
    },
    {
      "cell_type": "markdown",
      "source": [
        "#1\n",
        "\n",
        "Escriba una función que calcule el producto escalar y vectorial para dos vectores, compare sus resultados con `np.dot` y `np.cross`."
      ],
      "metadata": {
        "id": "szDD-eJhzKbw"
      }
    },
    {
      "cell_type": "markdown",
      "source": [
        "## Solución 1)"
      ],
      "metadata": {
        "id": "_1Nynicx8N8g"
      }
    },
    {
      "cell_type": "code",
      "source": [
        "# @title Función para el producto escalar entre vectores\n",
        "def producto_escalar(a: np.ndarray, b: np.ndarray) -> float:\n",
        "\n",
        "  \"\"\"\n",
        "  La función calcula el producto escalar entre dos vectores.\n",
        "\n",
        "  Args:\n",
        "    :a: Vector uno\n",
        "    :b: Vector dos\n",
        "\n",
        "  Returns:\n",
        "    :float: Producto escalar entre los vectores a y b.\n",
        "  \"\"\"\n",
        "\n",
        "  if len(a) != len(b):\n",
        "    raise ValueError(\"Los vectores deben tener la misma longitud.\")\n",
        "\n",
        "  producto_escalar = 0\n",
        "  for i in range(len(a)):\n",
        "    producto_escalar += a[i] * b[i]\n",
        "\n",
        "  return producto_escalar\n",
        "\n"
      ],
      "metadata": {
        "id": "KlxyKMOIzBDZ",
        "cellView": "form"
      },
      "execution_count": 3,
      "outputs": []
    },
    {
      "cell_type": "code",
      "source": [
        "# @title Función producto cruz\n",
        "def producto_cruz(a: np.ndarray, b: np.ndarray) -> np.ndarray:\n",
        "\n",
        "  \"\"\"\n",
        "  La función calcula el producto cruz entre dos vectores.\n",
        "\n",
        "  Args:\n",
        "    :a: Vector uno\n",
        "    :b: Vector dos\n",
        "\n",
        "  Returns:\n",
        "    :np.ndarray: Producto cruz entre los vectores a y b.\n",
        "  \"\"\"\n",
        "\n",
        "  if len(a) and len(b) != 3:\n",
        "    raise ValueError(\"Los vectores deben tener dimensión tres.\")\n",
        "\n",
        "  return np.array([a[1] * b[2] - a[2] * b[1], a[2] * b[0] - a[0] * b[2], \\\n",
        "                   a[0] * b[1] - a[1] * b[0]])\n",
        "\n"
      ],
      "metadata": {
        "cellView": "form",
        "id": "k-wCK6IbLyTN"
      },
      "execution_count": 4,
      "outputs": []
    },
    {
      "cell_type": "code",
      "source": [
        "# @title Vectores y valor de prueba para el producto punto\n",
        "a = np.array([1, 2, 3])\n",
        "b = np.array([4, 5, 6])\n",
        "\n",
        "print(f'Producto punto por función: {producto_escalar(a, b)}\\nProducto punto \\\n",
        "por Numpy: {np.dot(a, b)}')"
      ],
      "metadata": {
        "colab": {
          "base_uri": "https://localhost:8080/"
        },
        "cellView": "form",
        "id": "zofPNWxHNKLJ",
        "outputId": "8b25f6b3-62e8-432f-8c04-4292a68117d4"
      },
      "execution_count": 5,
      "outputs": [
        {
          "output_type": "stream",
          "name": "stdout",
          "text": [
            "Producto punto por función: 32\n",
            "Producto punto por Numpy: 32\n"
          ]
        }
      ]
    },
    {
      "cell_type": "code",
      "source": [
        "# @title Prueba del producto cruz\n",
        "print(f'Producto cruz por función: {producto_cruz(a, b)}\\nProducto cruz por \\\n",
        "Numpy: {np.cross(a, b)}')"
      ],
      "metadata": {
        "colab": {
          "base_uri": "https://localhost:8080/"
        },
        "cellView": "form",
        "id": "3D8vATCENsa5",
        "outputId": "72402e02-c139-4d4e-9ae4-a15d6d0840db"
      },
      "execution_count": 6,
      "outputs": [
        {
          "output_type": "stream",
          "name": "stdout",
          "text": [
            "Producto cruz por función: [-3  6 -3]\n",
            "Producto cruz por Numpy: [-3  6 -3]\n"
          ]
        }
      ]
    },
    {
      "cell_type": "markdown",
      "source": [
        "#2\n",
        "\n",
        "Crear una función llamada `mulmat()` donde a partir de dos matrices $A$ y $B$ encuentre su multplicación. También realiza una función que calcule la transpuesta y otra el determinante de una matriz $3\\times 3$. Compare sus resultado con `@`, `np.dot`, `transpose` y `la.det`."
      ],
      "metadata": {
        "id": "Qch9PhTQ0Klk"
      }
    },
    {
      "cell_type": "markdown",
      "source": [
        "## Solución 2)"
      ],
      "metadata": {
        "id": "tL6--ZP8OIz6"
      }
    },
    {
      "cell_type": "code",
      "source": [
        "# @title Multiplicación de matrices\n",
        "def mulmat(a: np.ndarray, b: np.ndarray) -> np.ndarray:\n",
        "\n",
        "  \"\"\"\n",
        "  La función calcula el producto de dos matrices.\n",
        "\n",
        "  Args:\n",
        "    :a: Matriz uno\n",
        "    :b: Matriz dos\n",
        "\n",
        "  Returns:\n",
        "    :np.ndarray: Producto de las matrices a y b.\n",
        "  \"\"\"\n",
        "\n",
        "  if a.shape[1] != b.shape[0]:\n",
        "    raise ValueError(\"Las matrices no son compatibles para la multiplicación.\")\n",
        "\n",
        "  C = np.zeros((a.shape[0], b.shape[1]))\n",
        "\n",
        "  for j in range(b.shape[1]):\n",
        "    for i in range(a.shape[0]):\n",
        "      C[i, j] = producto_escalar(a[i, :], b[:, j])\n",
        "\n",
        "  return C\n",
        "\n"
      ],
      "metadata": {
        "id": "0xjXQbwn0VL5",
        "cellView": "form"
      },
      "execution_count": 7,
      "outputs": []
    },
    {
      "cell_type": "code",
      "source": [
        "# @title Ejemplo para la multiplicación de matrices\n",
        "A = np.array([[1, 2, 3], [4, 5, 6], [7, 8, 9]])\n",
        "B = A.T\n",
        "print(f'Multiplicación por función: \\n{mulmat(A, B)}\\nMultiplicación por \\\n",
        "Numpy: \\n{A @ B}')"
      ],
      "metadata": {
        "colab": {
          "base_uri": "https://localhost:8080/"
        },
        "id": "JkRJJCz3V86c",
        "outputId": "73fc63cf-1d4c-4180-d747-ab73bbd47b91",
        "cellView": "form"
      },
      "execution_count": 8,
      "outputs": [
        {
          "output_type": "stream",
          "name": "stdout",
          "text": [
            "Multiplicación por función: \n",
            "[[ 14.  32.  50.]\n",
            " [ 32.  77. 122.]\n",
            " [ 50. 122. 194.]]\n",
            "Multiplicación por Numpy: \n",
            "[[ 14  32  50]\n",
            " [ 32  77 122]\n",
            " [ 50 122 194]]\n"
          ]
        }
      ]
    },
    {
      "cell_type": "code",
      "source": [
        "# @title Función para la transpuesta de una función\n",
        "def transpuesta(a: np.ndarray) -> np.ndarray:\n",
        "\n",
        "  \"\"\"\n",
        "  La función calcula la transpuesta de una matriz.\n",
        "\n",
        "  Args:\n",
        "    :a: Matriz\n",
        "\n",
        "  Returns:\n",
        "    :np.ndarray: Transpuesta de la matriz a.\n",
        "  \"\"\"\n",
        "\n",
        "  return np.array([[a[j, i] for j in range(a.shape[0])] \\\n",
        "                   for i in range(a.shape[1])])"
      ],
      "metadata": {
        "cellView": "form",
        "id": "qu53hgXHXJBd"
      },
      "execution_count": 9,
      "outputs": []
    },
    {
      "cell_type": "code",
      "source": [
        "# @title Ejercicio de comprobación para la transpuesta\n",
        "print(f'Transpuesta por función: \\n{transpuesta(A)}\\nTranspuesta por \\\n",
        "Numpy: \\n{A.T}')"
      ],
      "metadata": {
        "colab": {
          "base_uri": "https://localhost:8080/"
        },
        "cellView": "form",
        "id": "JDF2zgIeY98g",
        "outputId": "790b8e79-a2fc-426c-8a9b-34a6e443c5bd"
      },
      "execution_count": 10,
      "outputs": [
        {
          "output_type": "stream",
          "name": "stdout",
          "text": [
            "Transpuesta por función: \n",
            "[[1 4 7]\n",
            " [2 5 8]\n",
            " [3 6 9]]\n",
            "Transpuesta por Numpy: \n",
            "[[1 4 7]\n",
            " [2 5 8]\n",
            " [3 6 9]]\n"
          ]
        }
      ]
    },
    {
      "cell_type": "markdown",
      "source": [
        "El determinante es un valor escalar asociado a una matriz cuadrada. Matemáticamente, para una matriz $A$ de orden $n \\times n$, el determinante se denota como $\\text{det}(A)$ o $|A|$ y se calcula de la siguiente manera:\n",
        "\n",
        "1. **Para matrices $2 \\times 2$**:\n",
        "   Si $A$ es:\n",
        "   $$\n",
        "   A =\n",
        "   \\begin{bmatrix}\n",
        "   a & b \\\\\n",
        "   c & d\n",
        "   \\end{bmatrix},\n",
        "   $$\n",
        "   el determinante es:\n",
        "   $$\n",
        "   \\text{det}(A) = ad - bc.\n",
        "   $$\n",
        "\n",
        "2. **Para matrices $n \\times n$** (con $n > 2$):\n",
        "   El determinante se calcula utilizando una **expansión por cofactores**. Para la matriz $A$:\n",
        "   $$\n",
        "   \\text{det}(A) = \\sum_{j=1}^n (-1)^{1+j} a_{1j} \\cdot \\text{det}(A_{1j}),\n",
        "   $$\n",
        "   donde $A_{1j}$ es la matriz obtenida al eliminar la primera fila y la $j$-ésima columna de $A$.\n",
        "\n",
        "El cálculo se vuelve recursivo, reduciendo la matriz hasta llegar a matrices de tamaño $2 \\times 2$.\n"
      ],
      "metadata": {
        "id": "O9381_9_nHuO"
      }
    },
    {
      "cell_type": "code",
      "source": [
        "# @title Determinante nxn\n",
        "def determinante(a: np.ndarray) -> float:\n",
        "\n",
        "  \"\"\"\n",
        "  La función calcula el determinante de una matriz.\n",
        "\n",
        "  Args:\n",
        "    :a: Matriz\n",
        "\n",
        "  Returns:\n",
        "    :float: Determinante de la matriz a.\n",
        "  \"\"\"\n",
        "\n",
        "  m, n = a.shape\n",
        "  if m != n:\n",
        "    raise ValueError(\"La matriz no es cuadrada para calcular el determinante.\")\n",
        "\n",
        "  if m == 1:\n",
        "    return a[0, 0]\n",
        "  elif m == 2:\n",
        "    return a[0, 0] * a[1, 1] - a[0, 1] * a[1, 0]\n",
        "  else:\n",
        "    det = 0\n",
        "    for j in range(n):\n",
        "      sub_a = np.delete(np.delete(a, 0, axis=0), j, axis=1)\n",
        "      det += (-1)**j * a[0, j] * determinante(sub_a)\n",
        "    return det"
      ],
      "metadata": {
        "cellView": "form",
        "id": "gbYwebTUg5d6"
      },
      "execution_count": 31,
      "outputs": []
    },
    {
      "cell_type": "code",
      "source": [
        "# @title Función determinante 3x3\n",
        "def det_3x3(a: np.ndarray) -> float:\n",
        "\n",
        "  \"\"\"\n",
        "  La función calcula el determinante de una matriz 3x3.\n",
        "\n",
        "  Args:\n",
        "    :a: Matriz 3x3\n",
        "\n",
        "  Returns:\n",
        "    :float: Determinante de la matriz 3x3.\n",
        "  \"\"\"\n",
        "\n",
        "  return a[0, 0] * (a[1, 1] * a[2, 2] - a[1, 2] * a[2, 1]) - a[0, 1] * \\\n",
        "         (a[1, 0] * a[2, 2] - a[1, 2] * a[2, 0]) + a[0, 2] * \\\n",
        "         (a[1, 0] * a[2, 1] - a[1, 1] * a[2, 0])"
      ],
      "metadata": {
        "id": "K-ufHPRJagA4",
        "cellView": "form"
      },
      "execution_count": 12,
      "outputs": []
    },
    {
      "cell_type": "code",
      "source": [
        "# @title Ejemplo determinante 3x3\n",
        "A = np.array([[1, 7, 3], [4, 10, 6], [1, 8, 9]])\n",
        "print(f'Determinante por función: {det_3x3(A)}\\nDeterminante por Numpy: \\\n",
        "{la.det(A)}')"
      ],
      "metadata": {
        "colab": {
          "base_uri": "https://localhost:8080/"
        },
        "cellView": "form",
        "id": "Cju3deUkj_46",
        "outputId": "743f9f3f-90e5-43ae-d04b-cdcf7eaaf252"
      },
      "execution_count": 13,
      "outputs": [
        {
          "output_type": "stream",
          "name": "stdout",
          "text": [
            "Determinante por función: -102\n",
            "Determinante por Numpy: -102.0\n"
          ]
        }
      ]
    },
    {
      "cell_type": "code",
      "source": [
        "# @title Determimanante por función para A de nxn\n",
        "A = np.array([[1, 7, 3], [4, 10, 6], [1, 8, 9]])\n",
        "print(f'Determinante por función: {determinante(A)}\\nDeterminante por Numpy: \\\n",
        "{la.det(A)}')"
      ],
      "metadata": {
        "colab": {
          "base_uri": "https://localhost:8080/"
        },
        "id": "0tbSIANF3FtU",
        "outputId": "90cc5255-cfd6-4168-d1f1-a028c32e6c3c",
        "cellView": "form"
      },
      "execution_count": 14,
      "outputs": [
        {
          "output_type": "stream",
          "name": "stdout",
          "text": [
            "Determinante por función: -102\n",
            "Determinante por Numpy: -102.0\n"
          ]
        }
      ]
    },
    {
      "cell_type": "markdown",
      "source": [
        "#3\n",
        "Escriba tres matrices aleatorias $A$, $B$ y $C$ de $3\\times 3$, y demuestre las siguientes relaciones\n",
        "\n",
        "- $ \\mathbf{A}\\mathbf{B} \\neq \\mathbf{B}\\mathbf{A} $, en general.\n",
        "- $ (\\mathbf{A}\\mathbf{B})\\mathbf{C} = \\mathbf{A}(\\mathbf{B}\\mathbf{C}) $.\n",
        "- $ \\mathbf{A}(\\mathbf{B} + \\mathbf{C}) = \\mathbf{A}\\mathbf{B} + \\mathbf{A}\\mathbf{C} $.\n",
        "- $ (\\mathbf{A} + \\mathbf{B})\\mathbf{C} = \\mathbf{A}\\mathbf{C} + \\mathbf{B}\\mathbf{C} $.\n",
        "- $ (\\mathbf{A}\\mathbf{B})^\\top = \\mathbf{B}^\\top \\mathbf{A}^\\top $.\n",
        "- $ \\det(\\mathbf{A}\\mathbf{B}) = \\det(\\mathbf{A}) \\det(\\mathbf{B}) $.\n",
        "- $ (\\mathbf{A}^\\top)^\\top = \\mathbf{A} $.\n",
        "- $ (c\\mathbf{A})^\\top = c\\mathbf{A}^\\top $.\n",
        "- $ (\\mathbf{A} + \\mathbf{B})^\\top = \\mathbf{A}^\\top + \\mathbf{B}^\\top $.\n",
        "\n"
      ],
      "metadata": {
        "id": "U9hC1R-F0-iH"
      }
    },
    {
      "cell_type": "code",
      "source": [
        "# @title Definición de matices\n",
        "A = np.random.rand(3, 3)\n",
        "B = np.random.rand(3, 3)\n",
        "C = np.random.rand(3, 3)\n",
        "for matriz in (A, B, C):\n",
        "  print(matriz)"
      ],
      "metadata": {
        "id": "cQQ6cPGW1anK",
        "colab": {
          "base_uri": "https://localhost:8080/"
        },
        "cellView": "form",
        "outputId": "d3c7fac5-3b7a-4919-cfc1-8436aa63ba62"
      },
      "execution_count": 15,
      "outputs": [
        {
          "output_type": "stream",
          "name": "stdout",
          "text": [
            "[[0.31179385 0.29255258 0.49309284]\n",
            " [0.64274193 0.11748032 0.14090935]\n",
            " [0.98878031 0.07962705 0.32279864]]\n",
            "[[0.64451393 0.59545292 0.84622568]\n",
            " [0.36648343 0.34303627 0.84816906]\n",
            " [0.83070213 0.22969504 0.47113449]]\n",
            "[[0.70752808 0.37484467 0.17356654]\n",
            " [0.97137523 0.99556731 0.20425962]\n",
            " [0.4885883  0.72487144 0.27967148]]\n"
          ]
        }
      ]
    },
    {
      "cell_type": "code",
      "source": [
        "# @title matmul no conmuta\n",
        "from sympy import Matrix, symbols, init_printing\n",
        "print(\"Comprobemos que cada entrada es difente en el producto AB y BC:\")\n",
        "print(np.isclose(A @ B, B @ A))\n",
        "print('Así, se comprueba que no necesariamente AB = BA')\n",
        "print(\"Además, nótese que:\")\n",
        "\n",
        "# Renderizado del producto\n",
        "init_printing()\n",
        "C_1 = Matrix(A @ B)\n",
        "C_2 = Matrix(B @ A)\n",
        "display(C_1)\n",
        "print()\n",
        "display(C_2)\n",
        "print()\n",
        "print(\"El producto de matrices no conmuta.\")"
      ],
      "metadata": {
        "colab": {
          "base_uri": "https://localhost:8080/",
          "height": 295
        },
        "cellView": "form",
        "id": "anZDH5VtFj8u",
        "outputId": "438cfdf4-89d7-48a3-94f4-e8055fee3203"
      },
      "execution_count": 16,
      "outputs": [
        {
          "output_type": "stream",
          "name": "stdout",
          "text": [
            "Comprobemos que cada entrada es difente en el producto AB y BC:\n",
            "[[False False False]\n",
            " [False False False]\n",
            " [False False False]]\n",
            "Así, se comprueba que no necesariamente AB = BA\n",
            "Además, nótese que:\n"
          ]
        },
        {
          "output_type": "display_data",
          "data": {
            "text/plain": [
              "⎡0.717784422669715  0.399275685840643  0.744295050950495⎤\n",
              "⎢                                                       ⎥\n",
              "⎢0.574364415730849  0.455388749185196  0.709935151908711⎥\n",
              "⎢                                                       ⎥\n",
              "⎣0.934614191840669  0.690232334779772  1.05635005823021 ⎦"
            ],
            "text/latex": "$\\displaystyle \\left[\\begin{matrix}0.717784422669715 & 0.399275685840643 & 0.744295050950495\\\\0.574364415730849 & 0.455388749185196 & 0.709935151908711\\\\0.934614191840669 & 0.690232334779772 & 1.05635005823021\\end{matrix}\\right]$"
          },
          "metadata": {}
        },
        {
          "output_type": "stream",
          "name": "stdout",
          "text": [
            "\n"
          ]
        },
        {
          "output_type": "display_data",
          "data": {
            "text/plain": [
              "⎡1.42040932231251   0.325890662175069  0.674870590007799⎤\n",
              "⎢                                                       ⎥\n",
              "⎢1.17340393544961    0.2150528807514   0.50283519381522 ⎥\n",
              "⎢                                                       ⎥\n",
              "⎣0.872490959127559  0.30752374296387   0.594061027021207⎦"
            ],
            "text/latex": "$\\displaystyle \\left[\\begin{matrix}1.42040932231251 & 0.325890662175069 & 0.674870590007799\\\\1.17340393544961 & 0.2150528807514 & 0.50283519381522\\\\0.872490959127559 & 0.30752374296387 & 0.594061027021207\\end{matrix}\\right]$"
          },
          "metadata": {}
        },
        {
          "output_type": "stream",
          "name": "stdout",
          "text": [
            "\n",
            "El producto de matrices no conmuta.\n"
          ]
        }
      ]
    },
    {
      "cell_type": "code",
      "source": [
        "# @title El producto de matrices es asociativo\n",
        "Q = A @ B\n",
        "P = B @ C\n",
        "print(np.isclose(Q @ C, A @ P))\n",
        "print(\"El producto de matrices es asociativo.\")"
      ],
      "metadata": {
        "colab": {
          "base_uri": "https://localhost:8080/"
        },
        "cellView": "form",
        "id": "ngTru1s6IF19",
        "outputId": "3d36e4cc-112f-43d4-a396-0df628efe1be"
      },
      "execution_count": 17,
      "outputs": [
        {
          "output_type": "stream",
          "name": "stdout",
          "text": [
            "[[ True  True  True]\n",
            " [ True  True  True]\n",
            " [ True  True  True]]\n",
            "El producto de matrices es asociativo.\n"
          ]
        }
      ]
    },
    {
      "cell_type": "code",
      "source": [
        "# @title El producto de matrices es distributivo\n",
        "R = B + C\n",
        "print(np.isclose(A @ R, A @ B + A @ C))\n",
        "print(\"Se comprueba que el producto de matrices es distributivo.\")"
      ],
      "metadata": {
        "colab": {
          "base_uri": "https://localhost:8080/"
        },
        "cellView": "form",
        "id": "UVmdyWTOJKmU",
        "outputId": "106a2a5b-d4a7-40d0-f41a-58de7cbd5af9"
      },
      "execution_count": 18,
      "outputs": [
        {
          "output_type": "stream",
          "name": "stdout",
          "text": [
            "[[ True  True  True]\n",
            " [ True  True  True]\n",
            " [ True  True  True]]\n",
            "Se comprueba que el producto de matrices es distributivo.\n"
          ]
        }
      ]
    },
    {
      "cell_type": "code",
      "source": [
        "# @title Transpuesta del producto\n",
        "M_1 = (A @ B).T\n",
        "M_2 = B.T @ A.T\n",
        "print(f'(AB)⊤=B⊤A⊤ -> {np.isclose(M_1, M_2)}')"
      ],
      "metadata": {
        "colab": {
          "base_uri": "https://localhost:8080/"
        },
        "cellView": "form",
        "id": "ORRO3XYjJK42",
        "outputId": "4c09582a-e3ff-402a-9620-bfe40538341e"
      },
      "execution_count": 19,
      "outputs": [
        {
          "output_type": "stream",
          "name": "stdout",
          "text": [
            "(AB)⊤=B⊤A⊤ -> [[ True  True  True]\n",
            " [ True  True  True]\n",
            " [ True  True  True]]\n"
          ]
        }
      ]
    },
    {
      "cell_type": "code",
      "source": [
        "# @title Determinante de un producto\n",
        "det_1 = la.det(A @ B)\n",
        "det_2 = la.det(A) * la.det(B)\n",
        "print(f'det(AB)=det(A)det(B) is: {np.isclose(det_1, det_2)}')"
      ],
      "metadata": {
        "colab": {
          "base_uri": "https://localhost:8080/"
        },
        "cellView": "form",
        "id": "5Sb6vpnVJKwd",
        "outputId": "366904e4-9809-4b73-8752-1cd1e0fe80c7"
      },
      "execution_count": 20,
      "outputs": [
        {
          "output_type": "stream",
          "name": "stdout",
          "text": [
            "det(AB)=det(A)det(B) is: True\n"
          ]
        }
      ]
    },
    {
      "cell_type": "code",
      "source": [
        "# @title Transpuesta de la transpuesta\n",
        "print(f'(A⊤)⊤=A --> {np.isclose((A.T).T, A)}')"
      ],
      "metadata": {
        "colab": {
          "base_uri": "https://localhost:8080/"
        },
        "cellView": "form",
        "id": "vauDUa7VX63w",
        "outputId": "ecf31088-c871-46da-fc43-babb47099547"
      },
      "execution_count": 21,
      "outputs": [
        {
          "output_type": "stream",
          "name": "stdout",
          "text": [
            "(A⊤)⊤=A --> [[ True  True  True]\n",
            " [ True  True  True]\n",
            " [ True  True  True]]\n"
          ]
        }
      ]
    },
    {
      "cell_type": "code",
      "source": [
        "# @title Transpuesta de un producto de matriz por escalar\n",
        "c = random.randint(1, 100)\n",
        "M_3 = np.dot(A, c)\n",
        "print(f'(cA).⊤=c(A.⊤). --> {np.isclose(M_3.T, np.dot(A.T, c))}')"
      ],
      "metadata": {
        "id": "hkHyqadsYhgS",
        "colab": {
          "base_uri": "https://localhost:8080/"
        },
        "cellView": "form",
        "outputId": "3f954cbf-676a-400a-e71f-28c5ee4cfd64"
      },
      "execution_count": 26,
      "outputs": [
        {
          "output_type": "stream",
          "name": "stdout",
          "text": [
            "(cA).⊤=c(A.⊤). --> [[ True  True  True]\n",
            " [ True  True  True]\n",
            " [ True  True  True]]\n"
          ]
        }
      ]
    },
    {
      "cell_type": "code",
      "source": [
        "# @title Transpuesta de la suma\n",
        "S = A + B\n",
        "print(f'(A+B)⊤=A⊤+B⊤ --> {np.isclose(S.T, A.T + B.T)}')"
      ],
      "metadata": {
        "id": "SsCkcyQJYhRo",
        "colab": {
          "base_uri": "https://localhost:8080/"
        },
        "cellView": "form",
        "outputId": "333485e5-ae7a-462d-e409-444af937c855"
      },
      "execution_count": 27,
      "outputs": [
        {
          "output_type": "stream",
          "name": "stdout",
          "text": [
            "(A+B)⊤=A⊤+B⊤ --> [[ True  True  True]\n",
            " [ True  True  True]\n",
            " [ True  True  True]]\n"
          ]
        }
      ]
    },
    {
      "cell_type": "markdown",
      "source": [
        "#4\n",
        "\n",
        "El **Teorema de Laplace** es un método para calcular el determinante de una matriz cuadrada, particularmente útil para matrices de orden mayor a 2. Este teorema se basa en la expansión del determinante por los elementos de una fila o una columna cualquiera.\n",
        "\n",
        "\n",
        "\n",
        "$$\n",
        "\\det(A) = \\sum_{j=1}^n (-1)^{1+j} a_{1j} M_{1j}\n",
        "$$\n",
        "\n",
        "donde:\n",
        "- $a_{1j}$ es el elemento de la primera fila y columna $j$.\n",
        "- $M_{1j}$ es el menor asociado al elemento $a_{1j}$, es decir, el determinante de la submatriz que se obtiene al eliminar la fila 1 y la columna $j$.\n",
        "- $(-1)^{1+j}$ es el signo correspondiente al cofactor del elemento $a_{1j}$.\n",
        "\n",
        "Podemos realizar una función recursiva para el cálculo del determinante, sabiendo que el valor del determinante de una matriz de orden uno es el único elemento de esa matriz, y el de una matriz de orden superior a uno es la suma de cada uno de los elementos de una fila o columna por los Adjuntos a ese elemento, como en la función recursiva se emplea la misma función definida el cálculo lo haremos por Menor complementario, un ejemplo desarrollado por la primera fila sería:\n",
        "\n",
        "$$\n",
        "   \\det (A_{j,j}) =\n",
        "   \\left \\{\n",
        "   \\begin{array}{llcl}\n",
        "      si & j = 1 & \\to & a_{1,1} \\\\\n",
        "                                 \\\\\n",
        "      si & j > 1 & \\to & \\displaystyle \\sum_{k=1}^j \\; (-1)^{(1+k)} \\cdot a_{1,k} \\cdot \\det( \\alpha_{1,k})\n",
        "   \\end{array}\n",
        "   \\right .\n",
        "$$\n",
        "\n",
        "Realice una función que encuentre el determinante de una matriz usando la recursividad aqui planteada, explique explicitamente su código"
      ],
      "metadata": {
        "id": "ibYf2I9T2pIw"
      }
    },
    {
      "cell_type": "markdown",
      "source": [
        "## Solución 4)"
      ],
      "metadata": {
        "id": "SiXApvvkcu1U"
      }
    },
    {
      "cell_type": "code",
      "source": [
        "# @title Determinante por función recursiva.\n",
        "def determinante_recursivo(matriz: list) -> float:\n",
        "\n",
        "  \"\"\"\n",
        "  Calcula el determinante de una matriz cuadrada usando recursividad.\n",
        "\n",
        "  Args:\n",
        "    matriz: Una matriz cuadrada representada como una lista de listas.\n",
        "\n",
        "  Returns:\n",
        "    El determinante de la matriz.\n",
        "  \"\"\"\n",
        "\n",
        "  n = len(matriz)  # Número de filas de la matriz\n",
        "\n",
        "  # Caso base: matriz de 1x1\n",
        "  if n == 1:\n",
        "    return matriz[0][0]\n",
        "\n",
        "  determinante = 0\n",
        "  for j in range(n):\n",
        "    # Submatriz obtenida al eliminar la primera fila y la columna 'j'\n",
        "    submatriz = [fila[:j] + fila[j + 1:] for fila in matriz[1:]]\n",
        "\n",
        "    # Llamada recursiva para calcular el determinante de la submatriz\n",
        "    determinante += (-1)**(1 + j)*matriz[0][j]*determinante_recursivo(submatriz)\n",
        "\n",
        "  return determinante\n",
        "\n",
        "# Ejemplo de uso\n",
        "A = np.array([[1, 7, 3], [4, 10, 6], [1, 8, 9]])\n",
        "print(f'Determinante por función recursiva: \\\n",
        "{determinante_recursivo(A.tolist())}')\n",
        "print(f'Determinante por numpy: {np.linalg.det(A)}')"
      ],
      "metadata": {
        "colab": {
          "base_uri": "https://localhost:8080/"
        },
        "cellView": "form",
        "id": "lcgwpOMwcxwV",
        "outputId": "be3f9427-1541-4601-dbef-8d3354ddbab1"
      },
      "execution_count": 36,
      "outputs": [
        {
          "output_type": "stream",
          "name": "stdout",
          "text": [
            "Determinante por función recursiva: -102\n",
            "Determinante por numpy: -102.00000000000004\n"
          ]
        }
      ]
    },
    {
      "cell_type": "markdown",
      "source": [
        "#5\n",
        "\n",
        "El método de Jacobi reescribe el sistema $ Ax = b $ descomponiendo la matriz $ A $ como:\n",
        "\n",
        "$$\n",
        "A = D + L + U,\n",
        "$$\n",
        "\n",
        "donde:\n",
        "- $ D $: Matriz diagonal de $ A $,\n",
        "- $ L $: Matriz triangular inferior sin la diagonal,\n",
        "- $ U $: Matriz triangular superior sin la diagonal.\n",
        "\n",
        "El sistema se reorganiza como:\n",
        "\n",
        "$$\n",
        "x = D^{-1}(b - (L + U)x).\n",
        "$$\n",
        "\n",
        "Esto se implementa iterativamente como:\n",
        "\n",
        "$$\n",
        "x_i^{(k+1)} = \\frac{1}{a_{ii}} \\left(b_i - \\sum_{j \\neq i} a_{ij} x_j^{(k)}\\right),\n",
        "$$\n",
        "\n",
        "donde $ a_{ii} $ son los elementos diagonales de $ A $.\n",
        "\n",
        "* Escriba una función explicita que realice de manera iterativa este método con una tol = 1e-7 y un máximo de 100 iteraciones. Defina una documentación clara que explique los métodos usados, lasa entradas y salidas.\n",
        "\n",
        "* Para una matriz aleatoria 5$\\times$ 5, encuentre la solución usando su función y determine el error con respecto a `solve` y el método de inversa de matriz."
      ],
      "metadata": {
        "id": "9OcE-1QhSrI9"
      }
    },
    {
      "cell_type": "code",
      "source": [
        "# @title Solución por Jacobi\n",
        "def jacobi_method(A, b, tol=1e-7, max_iter=100):\n",
        "\n",
        "  \"\"\"\n",
        "  Resuelve el sistema Ax = b usando el método iterativo de Jacobi.\n",
        "\n",
        "  Parámetros:\n",
        "    A : ndarray\n",
        "        Matriz cuadrada de coeficientes.\n",
        "    b : ndarray\n",
        "        Vector de términos independientes.\n",
        "    tol : float, opcional\n",
        "        Tolerancia para la convergencia (default 1e-7).\n",
        "    max_iter : int, opcional\n",
        "        Número máximo de iteraciones (default 100).\n",
        "\n",
        "  Retorna:\n",
        "    x : ndarray\n",
        "      Aproximación de la solución del sistema Ax = b.\n",
        "    k : int\n",
        "      Número de iteraciones realizadas.\n",
        "  \"\"\"\n",
        "\n",
        "  n = len(A)\n",
        "  x = np.zeros(n)  # Vector inicial\n",
        "  D = np.diag(A)   # Extraer la diagonal de A\n",
        "  R = A - np.diagflat(D)  # R = L + U\n",
        "\n",
        "  for k in range(max_iter):\n",
        "    x_new = (b - np.dot(R, x)) / D  # Fórmula iterativa\n",
        "\n",
        "    if np.linalg.norm(x_new - x, ord=np.inf) < tol:  # Criterio de parada\n",
        "      return x_new, k + 1\n",
        "\n",
        "    x = x_new  # Actualizar\n",
        "\n",
        "  return x, max_iter  # Devolver el resultado tras max_iter iteraciones\n",
        "\n",
        "# Generar una matriz aleatoria 5x5 y un vector b\n",
        "np.random.seed(42)\n",
        "A = np.random.rand(5, 5)\n",
        "A += np.diag([5]*5)  # Asegurar que la diagonal sea dominante\n",
        "b = np.random.rand(5)\n",
        "\n",
        "# Resolver con Jacobi\n",
        "x_jacobi, iterations = jacobi_method(A, b)\n",
        "\n",
        "# Solución exacta con solve\n",
        "x_solve = np.linalg.solve(A, b)\n",
        "\n",
        "# Solución con la inversa de A\n",
        "x_inv = np.dot(np.linalg.inv(A), b)\n",
        "\n",
        "# Calcular errores\n",
        "error_jacobi_solve = np.linalg.norm(x_jacobi - x_solve, ord=np.inf)\n",
        "error_inv_solve = np.linalg.norm(x_inv - x_solve, ord=np.inf)\n",
        "\n",
        "# Mostrar resultados\n",
        "print(f\"Solución Jacobi: {x_jacobi}, Iteraciones: {iterations}\")\n",
        "print(f\"Solución solve: {x_solve}\")\n",
        "print(f\"Solución inversa: {x_inv}\")\n",
        "print(f\"Error Jacobi vs solve: {error_jacobi_solve}\")\n",
        "print(f\"Error inversa vs solve: {error_inv_solve}\")"
      ],
      "metadata": {
        "colab": {
          "base_uri": "https://localhost:8080/"
        },
        "cellView": "form",
        "id": "0TK0w_n9wT0z",
        "outputId": "32f73855-6d8d-4998-eb9f-6b29dac44969"
      },
      "execution_count": 50,
      "outputs": [
        {
          "output_type": "stream",
          "name": "stdout",
          "text": [
            "Solución Jacobi: [ 0.12231351  0.0123086   0.08266623  0.09713883 -0.0164666 ], Iteraciones: 14\n",
            "Solución solve: [ 0.12231352  0.0123086   0.08266624  0.09713884 -0.0164666 ]\n",
            "Solución inversa: [ 0.12231352  0.0123086   0.08266624  0.09713884 -0.0164666 ]\n",
            "Error Jacobi vs solve: 9.347602233922281e-09\n",
            "Error inversa vs solve: 1.3877787807814457e-17\n"
          ]
        }
      ]
    },
    {
      "cell_type": "markdown",
      "source": [
        "#6\n",
        "\n",
        "Verifique que cualquier matriz hermitiana de 2 × 2 $ L $ puede escribirse como una suma de cuatro términos:\n",
        "\n",
        "$$ L = a\\sigma_x + b\\sigma_y + c\\sigma_z + dI $$\n",
        "\n",
        "donde $ a $, $ b $, $ c $ y $ d $ son números reales.\n",
        "\n",
        "Las cuatro matrices de Pauli son:\n",
        "\n",
        "$$ \\sigma_x = \\begin{pmatrix} 0 & 1 \\\\ 1 & 0 \\end{pmatrix}, \\quad \\sigma_y = \\begin{pmatrix} 0 & -i \\\\ i & 0 \\end{pmatrix}, \\quad \\sigma_z = \\begin{pmatrix} 1 & 0 \\\\ 0 & -1 \\end{pmatrix}, \\quad I = \\begin{pmatrix} 1 & 0 \\\\ 0 & 1 \\end{pmatrix} $$\n",
        "\n",
        "\n"
      ],
      "metadata": {
        "id": "iggu2jNwVpnK"
      }
    },
    {
      "cell_type": "code",
      "source": [
        "# @title Matrices hermitianas y su descomposición\n",
        "sigma_x = np.array([[0, 1], [1, 0]])\n",
        "sigma_y = np.array([[0, -1j], [1j, 0]])\n",
        "sigma_z = np.array([[1, 0], [0, -1]])\n",
        "I = np.array([[1, 0], [0, 1]])\n",
        "\n",
        "def descomponer_matriz_hermitiana(L: np.ndarray) -> tuple:\n",
        "\n",
        "  \"\"\"\n",
        "  Descompone una matriz hermitiana 2x2 como combinación lineal de las matrices de Pauli y la identidad.\n",
        "\n",
        "  Args:\n",
        "    L: Una matriz hermitiana 2x2 representada como un array NumPy.\n",
        "\n",
        "  Returns:\n",
        "    Una tupla (a, b, c, d) que representa los coeficientes de la descomposición.\n",
        "    Devuelve None si la matriz no es hermitiana 2x2.\n",
        "  \"\"\"\n",
        "\n",
        "  # Verificar si la matriz es 2x2 y hermitiana\n",
        "  if L.shape != (2, 2) or not np.allclose(L, L.conj().T):\n",
        "    return None\n",
        "\n",
        "  # Coeficientes utilizando las propiedades de las matrices de Pauli\n",
        "  a = np.real(0.5 * (L[0, 1] + L[1, 0]))\n",
        "  b = np.real(0.5j * (L[0, 1] - L[1, 0]))\n",
        "  c = 0.5 * (L[0, 0] - L[1, 1])\n",
        "  d = 0.5 * (L[0, 0] + L[1, 1])\n",
        "\n",
        "  return a, b, c, d\n",
        "\n",
        "\n",
        "# Ejemplo de uso\n",
        "L = np.array([[2, 1+1j], [1-1j, 3]]) # Matriz hermitiana de ejemplo\n",
        "\n",
        "coeficientes = descomponer_matriz_hermitiana(L)\n",
        "\n",
        "if coeficientes:\n",
        "  a, b, c, d = coeficientes\n",
        "  L_reconstruida = a * sigma_x + b * sigma_y + c * sigma_z + d * I\n",
        "  print(\"Matriz original L:\\n\", L)\n",
        "  print(\"\\nCoeficientes (a, b, c, d):\", coeficientes)\n",
        "  print(\"\\nMatriz reconstruida:\\n\", L_reconstruida)\n",
        "\n",
        "  # Verificar si la reconstruccion es correcta\n",
        "  print(\"\\n¿Son iguales las matrices original y reconstruida?\", \\\n",
        "        np.allclose(L, L_reconstruida))\n",
        "else:\n",
        "  print(\"La matriz ingresada no es hermitiana 2x2.\")"
      ],
      "metadata": {
        "id": "8WN9_cOCV7cM",
        "colab": {
          "base_uri": "https://localhost:8080/"
        },
        "cellView": "form",
        "outputId": "32f87cfb-9391-4b0d-f2a1-752649ae0746"
      },
      "execution_count": 46,
      "outputs": [
        {
          "output_type": "stream",
          "name": "stdout",
          "text": [
            "Matriz original L:\n",
            " [[2.+0.j 1.+1.j]\n",
            " [1.-1.j 3.+0.j]]\n",
            "\n",
            "Coeficientes (a, b, c, d): (1.0, -1.0, (-0.5+0j), (2.5+0j))\n",
            "\n",
            "Matriz reconstruida:\n",
            " [[2.+0.j 1.+1.j]\n",
            " [1.-1.j 3.+0.j]]\n",
            "\n",
            "¿Son iguales las matrices original y reconstruida? True\n"
          ]
        }
      ]
    }
  ]
}