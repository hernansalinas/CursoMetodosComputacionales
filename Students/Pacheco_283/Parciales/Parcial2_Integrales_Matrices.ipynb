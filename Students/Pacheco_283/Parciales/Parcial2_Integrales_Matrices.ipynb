{
  "nbformat": 4,
  "nbformat_minor": 0,
  "metadata": {
    "colab": {
      "provenance": []
    },
    "kernelspec": {
      "name": "python3",
      "display_name": "Python 3"
    },
    "language_info": {
      "name": "python"
    }
  },
  "cells": [
    {
      "cell_type": "code",
      "execution_count": 8,
      "metadata": {
        "id": "aF61FjHUNGJA"
      },
      "outputs": [],
      "source": [
        "#@title Librerias\n",
        "import numpy as np\n",
        "import numpy.linalg as la\n",
        "import matplotlib.pyplot as plt\n",
        "from scipy.integrate import quad, fixed_quad, trapezoid, simpson\n",
        "from sympy import symbols, diff, integrate, lambdify\n",
        "from typing import Callable"
      ]
    },
    {
      "cell_type": "markdown",
      "source": [
        "# Parcial II - Métodos Computacionales (Integrales y Matrices)\n",
        "**2024-2**\n",
        "\n",
        "---\n",
        "\n",
        "*Nombre:*\n",
        "\n",
        "*Identificación:*\n",
        "\n",
        "---\n",
        "* Sea honest@\n",
        "* El uso de herramientas de IA no está permitido\n",
        "* Puede consultar la documentación de las librerias.\n",
        "* Sea ordendado dando la solución a cada punto.\n",
        "* *Asegurese que el notebook corra completamente*\n",
        "* Suba su notebook al GitHub (en su carpeta) y recuerde hacer pull-request"
      ],
      "metadata": {
        "id": "VqRX_GXcNZOl"
      }
    },
    {
      "cell_type": "markdown",
      "source": [
        "# 1\n",
        "\n",
        "**(20 puntos)**\n",
        "Considera la siguiente integral:\n",
        "\n",
        "$$\n",
        "I = \\int_0^1 \\int_{x^2}^{x+1} \\int_{y^2}^{y+2} \\int_{z^2}^{z+3} (x+y+z+w) \\, dw \\, dz \\, dy \\, dx\n",
        "$$\n",
        "\n",
        "Encuentre la solución númerica usando unicamente `quad`. Encuentre el error relativo, para esto emplee el siguiente código que usa `nquad`:\n",
        "\n",
        "\n",
        "```python\n",
        "# Definir el integrando\n",
        "integrand = lambda w, z, y, x: x + y + z + w\n",
        "\n",
        "# Definir los límites usando funciones lambda\n",
        "w_limits = lambda z, y, x: [z**2, z+3]\n",
        "z_limits = lambda y, x: [y**2, y+2]\n",
        "y_limits = lambda x: [x**2, x+1]\n",
        "x_limits = lambda: [0, 1]\n",
        "\n",
        "# Calcular la integral usando nquad\n",
        "result, error = nquad(\n",
        "    integrand,\n",
        "    [w_limits, z_limits, y_limits, x_limits]\n",
        ")\n",
        "\n",
        "print(f\"Resultado de la integral: {result}\")\n",
        "print(f\"Error estimado: {error}\")\n",
        "```\n",
        "\n"
      ],
      "metadata": {
        "id": "u1OxHrJINZ9c"
      }
    },
    {
      "cell_type": "markdown",
      "source": [
        "Como scipy.integrate quad evalúa integrales de una variable, debemos aplicar el método de manera iterativa, donde los límites de integración dependen de x, con lo que en cada evaluación de quad(f, a, b), dichos límites de integración quedarán en términos de x.\n",
        "\n",
        "En consecuencia, tras cada integración en términos de una variable, se llama a una segunda función en términos de la variable siguiente."
      ],
      "metadata": {
        "id": "X8451_pbm4iN"
      }
    },
    {
      "cell_type": "code",
      "source": [
        "# @title Aproximación de la integral\n",
        "def integrand_w(w, x, y, z):\n",
        "  return x + y + z + w\n",
        "\n",
        "\n",
        "def integrand_z(z, x, y):\n",
        "  return quad(integrand_w, z**2, z+3, args=(x, y, z))[0]\n",
        "\n",
        "\n",
        "def integrand_y(y, x):\n",
        "\n",
        "  \"\"\"\n",
        "  Retorna los límites de integración de z en términos de x, y.\n",
        "\n",
        "  Args:\n",
        "    ::\n",
        "\n",
        "  Returns:\n",
        "    :f(x, y, z):\n",
        "  \"\"\"\n",
        "\n",
        "  return quad(integrand_z, y**2, y+2, args=(x, y))[0]\n",
        "\n",
        "\n",
        "def integrand_x(x):\n",
        "\n",
        "  \"\"\"\n",
        "  Calcula la integral en términos del valor de x para retornar los límites de\n",
        "  integración de y en términos de x.\n",
        "\n",
        "  Args:\n",
        "    :x: Límites de integración de x.\n",
        "\n",
        "  Returns:\n",
        "    :y: Límites de integración de y en términos de x\n",
        "  \"\"\"\n",
        "\n",
        "  return quad(integrand_y, x**2, x+1, args=(x,))[0]\n",
        "\n",
        "\n",
        "# Evaluar la integral en términos de x en el intervalo [0, 1]\n",
        "resultado, error = quad(integrand_x, 0, 1)\n",
        "print(f\"Resultado numérico de la integral: {resultado}\")\n"
      ],
      "metadata": {
        "colab": {
          "base_uri": "https://localhost:8080/"
        },
        "id": "khEQbRwyluw5",
        "outputId": "1ffd36e9-2fa2-4563-a06e-d7cc1b122f2d"
      },
      "execution_count": 31,
      "outputs": [
        {
          "output_type": "stream",
          "name": "stdout",
          "text": [
            "Resultado numérico de la integral: -0.650097\n"
          ]
        }
      ]
    },
    {
      "cell_type": "code",
      "source": [
        "# @title Integral por nquad\n",
        "from scipy.integrate import nquad\n",
        "\n",
        "# Integrando\n",
        "integrando = lambda w, z, y, x: x + y + z + w\n",
        "\n",
        "# Límites usando funciones lambda\n",
        "limite_w = lambda z, y, x: [z**2, z + 3]\n",
        "limite_z = lambda y, x: [y**2, y + 2]\n",
        "limite_y = lambda x: [x**2, x + 1]\n",
        "limite_x = [0, 1]\n",
        "\n",
        "# Integral usando nquad\n",
        "resultado_nquad, error = nquad(integrando, [limite_w, limite_z, limite_y, limite_x])\n",
        "\n",
        "# Error relativo\n",
        "error_relativo = abs(resultado - resultado_nquad) / abs(resultado_nquad)\n",
        "\n",
        "# Imprimir el resultado y el error relativo\n",
        "print(f\"Resultado de la integral (nquad): {resultado_nquad}\")\n",
        "print(f\"Error estimado (nquad): {error}\")\n",
        "print(f\"Error relativo: {error_relativo}\")"
      ],
      "metadata": {
        "colab": {
          "base_uri": "https://localhost:8080/"
        },
        "id": "c9J16rzTkCJK",
        "outputId": "60c72818-eb80-47ef-b966-c6c2649cf4cb"
      },
      "execution_count": 24,
      "outputs": [
        {
          "output_type": "stream",
          "name": "stdout",
          "text": [
            "Resultado de la integral (nquad): -0.6500971589021813\n",
            "Error estimado (nquad): 1.8391891749223705e-12\n",
            "Error relativo: 464649919.8204275\n"
          ]
        }
      ]
    },
    {
      "cell_type": "markdown",
      "source": [
        "# 2\n",
        "\n",
        "**(40 puntos)**\n",
        "Un lazo de corriente de radio $a$  transporta una corriente $I$ en el punto P que está a una distancia $r$ del centro del lazo con coordenadas esféricas (r, θ, φ). Resuelve para la componente φ del potencial vectorial en el punto $P$ en términos de integrales elípticas:\n",
        "\n",
        "\\begin{equation}\n",
        "A_{\\phi}(r, \\theta)=\\frac{\\mu_0}{4\\pi}\\frac{4Ia}{\\sqrt{a^2+r^2+2ar\\sin \\theta}}\\left(\\frac{(2-k^2)K(k)-2E(k)}{k^2} \\right)\n",
        "\\end{equation}\n",
        "\n",
        "donde\n",
        "\n",
        "\\begin{equation}\n",
        "K(k)=\\int_{0}^{\\pi/2} \\frac{\\mathrm{d\\phi}}{\\sqrt{1-k^2\\sin^2\\phi}}\n",
        "\\end{equation}\n",
        "\n",
        "\\begin{equation}\n",
        "E(k)=\\int_{0}^{\\pi/2} \\mathrm{d\\phi} \\sqrt{1-k^2\\sin^2\\phi}\n",
        "\\end{equation}\n",
        "\n",
        "\\begin{equation}\n",
        "k^2=\\frac{4ar\\sin\\theta}{a^2+r^2+2ar\\sin\\theta}\n",
        "\\end{equation}\n",
        "\n",
        "Aquí, $K(k)$ es una integral elíptica completa del primer tipo y $E(k)$ es una integral elíptica completa del segundo tipo.\n",
        "\n",
        "\n",
        "Para\n",
        "* $a$ = 1,\n",
        "* $I$ = 3,\n",
        "* $μ0/4π$ = 1\n",
        "\n",
        "\n",
        "Usando funciones explicitas explique claramente las entradas, salidas y procedimientos dentro de las mismas. Recuerde para resolver las integrales usar `quad` y grafique para:\n",
        "\n",
        "*a)* $A_φ(r = 1.1, θ)$ vs. $0\\leq θ\\leq \\pi$\n",
        "\n",
        "*b)* $A_φ(r, θ = π∕3)$ vs. $0\\leq r \\leq 10$\n",
        "\n",
        "Tenga cuidado con la convergencia de su integral\n",
        "\n"
      ],
      "metadata": {
        "id": "ryB1EksIOV_l"
      }
    },
    {
      "cell_type": "code",
      "execution_count": 63,
      "metadata": {
        "id": "TzzMoGdei9au"
      },
      "outputs": [],
      "source": [
        "# @title Definición de funciones\n",
        "def kk(a: float, r: float, tetha: np.ndarray) -> np.ndarray:\n",
        "\n",
        "  \"\"\"\n",
        "  La función calcula todos los valores de k^2 para θ en [0, π]\n",
        "\n",
        "  Args:\n",
        "    :constantes: Valores de las constantes dadas\n",
        "    :tetha: Vector de valores de θ\n",
        "\n",
        "  Returns:\n",
        "    Vector de valores de k^2\n",
        "  \"\"\"\n",
        "\n",
        "  return (4*a*r*np.sin(tetha)) / (a**2 + r**2 + 2*a*r*np.sin(tetha))\n",
        "\n",
        "\n",
        "def integrando_K(k_val: float) -> Callable[[float], float]:\n",
        "\n",
        "  \"\"\"\n",
        "  La función retorna una función tipo lambda para cada valor de k^2, lo que\n",
        "  permite evaluar la integral K(k) por algún método, como scipy.quad.\n",
        "\n",
        "  Args:\n",
        "    :k_val: Valor de k^2\n",
        "    :phi: Vector de valores de phi\n",
        "\n",
        "  Returns:\n",
        "    Función lambda\n",
        "  \"\"\"\n",
        "\n",
        "  return lambda phi: 1 / (1 - k_val * np.sin(phi)**2)**0.5\n",
        "\n",
        "\n",
        "def integrando_E(k_val: float) -> Callable[[float], float]:\n",
        "\n",
        "  \"\"\"\n",
        "  La función retorna una función tipo lambda para cada valor de k^2, lo que\n",
        "  permite evaluar la integral K(k) por algún método, como scipy.quad.\n",
        "\n",
        "  Args:\n",
        "    :k_val: Valor de k^2\n",
        "    :phi: Vector de valores de phi\n",
        "\n",
        "  Returns:\n",
        "    Función lambda\n",
        "  \"\"\"\n",
        "\n",
        "  return lambda phi: (1 - k_val * np.sin(phi)**2)**0.5\n",
        "\n",
        "\n",
        "def K(k_val: float) -> float:\n",
        "\n",
        "  \"\"\"\n",
        "  La integral arroja el valor aproximadio de la integral K(k) por el método\n",
        "  scipy.quad, lo que permite obtener una buena precisión.\n",
        "\n",
        "  Args:\n",
        "    :k_val: Valor de k^2\n",
        "\n",
        "  Returns:\n",
        "    Valor de la integral K(k)\n",
        "  \"\"\"\n",
        "\n",
        "  return quad(integrando_K(k_val), 0, np.pi / 2)[0]\n",
        "\n",
        "\n",
        "def E(k_val: float) -> float:\n",
        "\n",
        "  \"\"\"\n",
        "  La integral arroja el valor aproximadio de la integral E(k) por el método\n",
        "  scipy.quad, lo que permite obtener una buena precisión.\n",
        "\n",
        "  Args:\n",
        "    :k_val: Valor de k^2\n",
        "\n",
        "  Returns:\n",
        "    Valor de la integral E(k)\n",
        "  \"\"\"\n",
        "\n",
        "  return quad(integrando_E(k_val), 0, np.pi / 2)[0]\n",
        "\n",
        "\n",
        "def A_phi(a: float, I: float, mu: float,\n",
        "          r:float, tetha:np.ndarray) -> np.ndarray:\n",
        "\n",
        "  \"\"\"\n",
        "  La función calcula A_phi(a, I, mu, r, k_val, θ) para los valores de las\n",
        "  constantes y los valores de θ dados.\n",
        "\n",
        "  Args:\n",
        "    :constantes: Valores de las constantes dadas\n",
        "    :tetha: Vector de valores de θ\n",
        "\n",
        "  Returns:\n",
        "    Vector de valores de A_phi(a, I, mu, r, k_val, θ)\n",
        "  \"\"\"\n",
        "\n",
        "  ## Valor para cada una de las integrales de K(k) y E(k).\n",
        "  valores_K = np.zeros_like(tth)\n",
        "  valores_E = np.zeros_like(tth)\n",
        "\n",
        "  for i, k_val  in enumerate(kk(1, 1.1, tth)):\n",
        "    valores_K[i] = K(k_val)\n",
        "    valores_E[i] = E(k_val)\n",
        "\n",
        "  return (mu / (4*np.pi)) * (4*I*a) / ((a**2 + r**2 + 2*a*r*np.sin(tetha))**0.5) * (((2-k_val)*valores_K-2*valores_E) / k_val)\n",
        "\n",
        "\n",
        "tth = np.linspace(0. , np.pi - 1e-6, 1000)"
      ]
    },
    {
      "cell_type": "code",
      "execution_count": 64,
      "metadata": {
        "colab": {
          "base_uri": "https://localhost:8080/",
          "height": 487
        },
        "id": "HqqaKymZfOxR",
        "outputId": "cbf52713-f8e7-479e-e0ae-43aea9037288"
      },
      "outputs": [
        {
          "output_type": "display_data",
          "data": {
            "text/plain": [
              "<Figure size 640x480 with 1 Axes>"
            ],
            "image/png": "[encoded data removed]"
          },
          "metadata": {}
        }
      ],
      "source": [
        "# @title Gráfica de A_φ(1.1, θ) vs θ\n",
        "\n",
        "plt.title('Gráfico A_φ(r, θ)')\n",
        "plt.plot(tth, A_phi(1, 3, 4*np.pi, 1.1, tth), label=r'$A_φ(r=1.1, θ)$')\n",
        "plt.xlabel('θ')\n",
        "plt.ylabel(r'$A_φ(r, θ)$')\n",
        "plt.legend()\n",
        "plt.grid()\n",
        "plt.tight_layout()\n",
        "plt.show()"
      ]
    },
    {
      "cell_type": "code",
      "execution_count": 65,
      "metadata": {
        "colab": {
          "base_uri": "https://localhost:8080/",
          "height": 487
        },
        "id": "FILw0iNLxUVK",
        "outputId": "f14f4ec7-eeaf-4e06-d5ab-e588a1242cc9"
      },
      "outputs": [
        {
          "output_type": "display_data",
          "data": {
            "text/plain": [
              "<Figure size 640x480 with 1 Axes>"
            ],
            "image/png": "[encoded data removed]"
          },
          "metadata": {}
        }
      ],
      "source": [
        "# @title Gráfica de A_φ(r, θ = π∕3) vs. r\n",
        "\n",
        "r = np.linspace(0, 10, 1000)\n",
        "\n",
        "plt.title('Gráfico A_φ(r, θ = π∕3)')\n",
        "plt.plot(r, A_phi(1, 3, 4*np.pi, r, np.pi/3), label=r'$A_φ(r, θ = π∕3)$')\n",
        "plt.xlabel(r'$r$')\n",
        "plt.ylabel(r'$A_φ(r, θ = π∕3)$')\n",
        "plt.legend()\n",
        "plt.grid()\n",
        "plt.tight_layout()\n",
        "plt.show()\n"
      ]
    },
    {
      "cell_type": "markdown",
      "source": [
        "# 3\n",
        "\n",
        "(**40 puntos**) El **método de la potencia inversa** es una técnica iterativa utilizada para calcular el autovalor de menor magnitud de una matriz cuadrada. Es una variante del **método de la potencia**, que normalmente encuentra el autovalor de mayor magnitud. Para ello, se aprovecha la propiedad de la matriz inversa:\n",
        "\n",
        "$$ A^{-1} v = \\frac{1}{\\lambda} v $$\n",
        "\n",
        "\n",
        "## Algoritmo\n",
        "\n",
        "El método de la potencia inversa sigue los siguientes pasos:\n",
        "\n",
        "1. Elegir un vector inicial $x^{(0)}$ no nulo.\n",
        "\n",
        "2. Para cada iteración $k$, resolver el sistema lineal:\n",
        "   \n",
        "   $$ A y^{(k)} = x^{(k-1)} $$\n",
        "   \n",
        "   donde $y^{(k)}$ es un **vector intermedio** que se obtiene resolviendo el sistema lineal. Este vector representa la solución del sistema en cada iteración y es crucial para aproximar el autovector de menor autovalor.\n",
        "\n",
        "3. Normalizar $y^{(k)}$ para obtener un nuevo vector de iteración:\n",
        "   \n",
        "   $$ x^{(k)} = \\frac{y^{(k)}}{\\| y^{(k)} \\|} $$\n",
        "   \n",
        "4. Aproximar el autovalor mediante el cociente de Rayleigh:\n",
        "   \n",
        "   $$ \\lambda^{(k)} = \\frac{(x^{(k)})^T A x^{(k)}}{(x^{(k)})^T x^{(k)}} $$\n",
        "   \n",
        "5. Repetir los pasos anteriores hasta que la diferencia entre valores sucesivos de $\\lambda$ sea menor que un umbral de tolerancia.\n",
        "\n",
        "---\n",
        "\n",
        "*a)* Escriba una función llamada `potencia_inversa` que dada una matriz A encuentre su valor propio menos dominante (con una tolerancia de 1e-7 usando la norma Euclidiana) y su correspondiente autovector. Para obtener $y^{(k)}$ puede emplear `np.linalg.solve` recordando que $Ay = x$.\n",
        "\n",
        "*b)* Usando la matriz A, encuentre el $\\lambda_{min}$ y el correspondiente autovector. Examine la convergencia de su autovalor en función de las iteraciones, esto es, haga un gráfico de $\\lambda(k)$\n",
        "\n",
        "$$\n",
        "\\begin{bmatrix}\n",
        "5 & 2 \\\\\n",
        "2 & 2\n",
        "\\end{bmatrix}\n",
        "$$\n",
        "\n",
        "*c)* Compare su resultado con `np.linalg.eig`"
      ],
      "metadata": {
        "id": "pKubcNlWP0nc"
      }
    },
    {
      "cell_type": "code",
      "source": [
        "# Aqui va su código"
      ],
      "metadata": {
        "id": "ZhnTbHAgP4XJ"
      },
      "execution_count": null,
      "outputs": []
    },
    {
      "cell_type": "markdown",
      "source": [
        "#4\n",
        "\n",
        "**(10 puntos)**\n",
        "Sea $A$ una matriz cuadrada de tamaño $n \\times n$. Se sabe que el determinante de una matriz es igual al producto de sus autovalores:\n",
        "\n",
        "$$\n",
        "\\det(A) = \\prod_{i=1}^{n} \\lambda_i\n",
        "$$\n",
        "\n",
        "donde $\\lambda_1, \\lambda_2, \\dots, \\lambda_n$ son los autovalores de $A$.\n",
        "\n",
        "Usando una matriz aleatoria $A$ de $5\\times 5$, demuestre esta propiedad. Puede usar las funciones de `np.linalg`."
      ],
      "metadata": {
        "id": "Qz8QJCjWYds5"
      }
    },
    {
      "cell_type": "code",
      "source": [
        "# @title Demostración\n",
        "# Matriz aleatoria de 5x5\n",
        "A = np.random.rand(5, 5)\n",
        "\n",
        "# Determinante de A\n",
        "det_A = np.linalg.det(A)\n",
        "\n",
        "# Autovalores de A\n",
        "eigenval = np.linalg.eigvals(A)\n",
        "\n",
        "# Calcular el producto de los autovalores\n",
        "prod_eigenvalores = np.prod(eigenval)\n",
        "\n",
        "print(f\"Determinante de A: {det_A}\")\n",
        "print(f\"Producto de los autovalores: {prod_eigenvalores}\")\n",
        "print(f\"Autovalores de A: {eigenval}\")\n"
      ],
      "metadata": {
        "id": "TCWf5TUwYgKq",
        "colab": {
          "base_uri": "https://localhost:8080/"
        },
        "outputId": "303be5df-fc94-46c7-b0b1-a87b48d258e1"
      },
      "execution_count": 67,
      "outputs": [
        {
          "output_type": "stream",
          "name": "stdout",
          "text": [
            "Determinante de A: -0.012313526222901525\n",
            "Producto de los autovalores: (-0.012313526222901498+0j)\n",
            "Autovalores de A: [ 2.71113992+0.j         -0.15372995+0.j          0.15749451+0.j\n",
            "  0.18183896+0.39309448j  0.18183896-0.39309448j]\n"
          ]
        }
      ]
    }
  ]
}