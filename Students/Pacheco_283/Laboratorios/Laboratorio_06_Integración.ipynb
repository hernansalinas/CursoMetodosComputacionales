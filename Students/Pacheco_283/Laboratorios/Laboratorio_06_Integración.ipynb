{
  "cells": [
    {
      "cell_type": "code",
      "execution_count": 4,
      "metadata": {
        "id": "rZuc8vXcWuxy"
      },
      "outputs": [],
      "source": [
        "#@title Librerias\n",
        "import numpy as np\n",
        "import matplotlib.pyplot as plt\n",
        "import sympy as sp\n",
        "from scipy.integrate import trapezoid, simpson, romberg, quad, dblquad\n",
        "from scipy.special import roots_legendre\n",
        "from typing import Callable"
      ]
    },
    {
      "cell_type": "markdown",
      "metadata": {
        "id": "MGwGfceuWxy3"
      },
      "source": [
        "# Laboratorio 06: Integración\n",
        "\n",
        "---\n",
        "### Profesor: Juan Marcos Marín\n",
        "### Nombre: Edwar Isaías Pacheco Rojas\n",
        "### CC: 1017240283\n",
        "*Métodos computacionales 2024-II*\n",
        "\n",
        "---"
      ]
    },
    {
      "cell_type": "markdown",
      "metadata": {
        "id": "lK5sACdrm0O1"
      },
      "source": [
        "#1\n",
        "\n",
        "Usando los métodos trapezoidal, Simpson y cuadratura encuentre el valor de las siguientes integrales, garantizando  que el error sea menor a $\\varepsilon=1\\times 10^{-5}$:\n",
        "\n",
        "---\n",
        "a) $$\n",
        " \\int_0^{\\pi/2} \\frac{1}{\\sqrt{\\tan x}}\\mathrm{dx}\n",
        " $$\n",
        "\n",
        "----\n",
        "b) $$\n",
        " \\int_{1}^{\\infty} \\frac{\\cos x}{x^3}\\mathrm{dx}\n",
        " $$\n",
        "\n",
        "\n",
        "----\n",
        "\n",
        "c) $$\n",
        " \\int_{0}^{\\pi/4} \\int_{0}^{\\sin x} \\frac{1}{\\sqrt{1-y^2}}\\mathrm{dxdy}\n",
        " $$\n",
        "\n",
        "---\n"
      ]
    },
    {
      "cell_type": "markdown",
      "metadata": {
        "id": "42AA79U9iduL"
      },
      "source": [
        "La integral $\\int_0^{\\pi/2} \\frac{1}{\\sqrt{\\tan x}}\\mathrm{dx}$ presenta una discontinuidad en $x=0$, con lo que debemos considerar una sustitución adecuada. Consideremos la sustitución $u=\\sqrt{tan(x)}$.\n",
        "\n",
        "$$\n",
        "u= \\sqrt{tan(x)} \\Rightarrow {du}=\\frac{sec^{2}{x}}{2\\cdot \\sqrt{tan{x}}}{dx}\n",
        "$$\n",
        "\n",
        "$$\n",
        "\\Leftrightarrow \\frac{2du}{1 + tan^{2}{x}}=\\frac{dx}{\\sqrt{tan{x}}}\n",
        "$$\n",
        "\n",
        "$$\n",
        "\\therefore \\frac{2}{1 + u^{4}}=\\frac{dx}{\\sqrt{tan{x}}}\n",
        "$$\n",
        "Si $x=0$, entonces $u=0$; si $x=\\frac{\\pi}{2}$, $u\\to \\infty$. Así, la integral se transforma en:\n",
        "\n",
        "$$\n",
        " \\int_0^{\\pi/2} \\frac{1}{\\sqrt{\\tan x}}\\mathrm{dx} = \\int_{0}^{\\infty}\\frac{2}{1 + u^{4}}{du} = \\int_{0}^{1}\\frac{2du}{1 + u^{4}}  +  \\int_{1}^{\\infty}\\frac{2du}{1 + u^{4}}\n",
        " $$\n",
        "\n",
        " Para la segunda integral de la derecha, consideramos el cambio de variable $u=1/t$, como se vio en clase. Así, nos queda:\n",
        "\n",
        " $$\n",
        " \\int_0^{\\pi/2} \\frac{1}{\\sqrt{\\tan x}}\\mathrm{dx} = \\int_{0}^{\\infty}\\frac{2}{1 + u^{4}}{du} = \\int_{0}^{1}\\frac{2du}{1 + u^{4}}  +  \\int_{0}^{1}\\frac{2}{t^{2}}\\frac{dt}{1 + (\\frac{1}{t})^{4}}\n",
        " $$"
      ]
    },
    {
      "cell_type": "code",
      "execution_count": 5,
      "metadata": {
        "cellView": "form",
        "id": "Yv81yapTWWqL"
      },
      "outputs": [],
      "source": [
        "# @title Funciones de integración numérica\n",
        "\n",
        "def integral_riemman(f: Callable[[float], float], a:float, b:float\n",
        "                     , n: int) -> float:\n",
        "\n",
        "  \"\"\"\n",
        "  Aproximación de la intral de f.\n",
        "\n",
        "  Args:\n",
        "    :f: Función a integrar\n",
        "    :a: Índice inferior de la integral\n",
        "    :b: Índice superior de la integral\n",
        "    :n: Número de subintervalos\n",
        "\n",
        "  Returns:\n",
        "    float\n",
        "  \"\"\"\n",
        "\n",
        "  h = (b - a) / n\n",
        "  integral = 0\n",
        "  for i in range(n):\n",
        "    x_i = a + i * h\n",
        "    integral += f(x_i + h / 2)\n",
        "\n",
        "  return integral * h\n",
        "\n",
        "\n",
        "def integral_simpson13(f: Callable[[float], float], a:float, b:float\n",
        "                     , n: int) -> float:\n",
        "\n",
        "  \"\"\"\n",
        "  Aproximación de la integral definida de f entre [a, b].\n",
        "\n",
        "  Args:\n",
        "    :f: Función a integrar\n",
        "    :a: Límite inferior del intervalo\n",
        "    :b: Límite superior del intervalo\n",
        "    :n: Factor de división del intervalo\n",
        "\n",
        "  Returns:\n",
        "    :float: valor de aproximación de la integral\n",
        "  \"\"\"\n",
        "\n",
        "  if n % 2 != 0:\n",
        "    raise ValueError(\"El número de intervalos debe ser par.\")\n",
        "\n",
        "  h = (b - a) / n\n",
        "  integral = f(a) + f(b)\n",
        "  # Términos impares\n",
        "  for i in range(1, n, 2):\n",
        "    x_i = a + i * h\n",
        "    integral += 4 * f(x_i)\n",
        "  # Términos pares\n",
        "  for j in range(2, n, 2):\n",
        "    x_i = a + j * h\n",
        "    integral += 2 * f(x_i)\n",
        "\n",
        "  return integral * (h / 3)\n",
        "\n",
        "\n",
        "def integral_simpson38(f: Callable[[float], float], a:float, b:float\n",
        "                     , n: int) -> float:\n",
        "\n",
        "  \"\"\"\n",
        "  Aproximación de la integral de f en [a, b] por el método de Simpson 3/8.\n",
        "\n",
        "  Args:\n",
        "    :f: Función a integrar\n",
        "    :a: Límite inferior del intervalo\n",
        "    :b: Límite superior del intervalo\n",
        "    :n: Número de subintervalos\n",
        "\n",
        "  Returns:\n",
        "    :float: valor de aproximación de la integral\n",
        "  \"\"\"\n",
        "\n",
        "  # Verificar que el número de intervalos es múltiplo de 3\n",
        "  if n % 3 != 0:\n",
        "      raise ValueError(\"El número de subintervalos 'n' debe ser múltiplo de 3 \\\n",
        "      para el método de Simpson 3/8.\")\n",
        "\n",
        "  h = (b - a) / n\n",
        "  integral = f(a) + f(b)\n",
        "  integral_no_3 = 0\n",
        "  integral_3 = 0\n",
        "  for k in range(1, n):\n",
        "    x_k = a + k * h\n",
        "    if k % 3 == 0:\n",
        "      integral_3 += 2 * f(x_k)\n",
        "    else:\n",
        "      integral_no_3 += 3 * f(x_k)\n",
        "\n",
        "  return (integral + integral_no_3 + integral_3) * (3 * h / 8)\n",
        "\n",
        "\n",
        "def integral_trapecio(f: Callable[[float], float], a:float, b:float\n",
        "                     , n: int) -> float:\n",
        "\n",
        "  \"\"\"\n",
        "    Aproximación de la integral de f en [a, b] por el método trapezoidal.\n",
        "\n",
        "  Args:\n",
        "    :f: Función a integrar\n",
        "    :a: Límite inferior del intervalo\n",
        "    :b: Límite superior del intervalo\n",
        "    :n: Número de subintervalos\n",
        "\n",
        "  Returns:\n",
        "    :float: valor de aproximación de la integral\n",
        "  \"\"\"\n",
        "\n",
        "  h = (b - a) / n\n",
        "  integral = f(a) + f(b)\n",
        "  for i in range(1, n):\n",
        "    x_i = a + i * h\n",
        "    integral += 2 * f(x_i)\n",
        "\n",
        "  return (h / 2) * integral\n",
        "\n"
      ]
    },
    {
      "cell_type": "markdown",
      "metadata": {
        "id": "IdLWmO3IZWYI"
      },
      "source": [
        "## Solución a)"
      ]
    },
    {
      "cell_type": "code",
      "execution_count": 6,
      "metadata": {
        "cellView": "form",
        "colab": {
          "base_uri": "https://localhost:8080/"
        },
        "id": "PcUQ7sITmHft",
        "outputId": "47ffde12-72fb-438e-90ab-4ff87cf66682"
      },
      "outputs": [
        {
          "output_type": "stream",
          "name": "stdout",
          "text": [
            "Valor \"exacto\" de la integral: 2.22144146907918\n"
          ]
        }
      ],
      "source": [
        "# @title Valor \"exacto\" de la integral a)\n",
        "x = sp.symbols('x')\n",
        "f = 1 / sp.sqrt(sp.tan(x))\n",
        "\n",
        "# Transformación de la integral\n",
        "g =  lambda u: 2 / (1 + u**4)\n",
        "g_ = lambda t: (2*t**2) / (1 + t**4)\n",
        "\n",
        "# Error de estimación\n",
        "eps = 1e-5\n",
        "\n",
        "integral_a = sp.integrate(f, (x, 0, sp.pi / 2)).evalf()\n",
        "print(f'Valor \"exacto\" de la integral: {integral_a}')"
      ]
    },
    {
      "cell_type": "code",
      "execution_count": 7,
      "metadata": {
        "cellView": "form",
        "colab": {
          "base_uri": "https://localhost:8080/"
        },
        "collapsed": true,
        "id": "A3AxtCrqFLSA",
        "outputId": "0df43af7-6d9e-4959-8123-04bfbe209963"
      },
      "outputs": [
        {
          "output_type": "stream",
          "name": "stdout",
          "text": [
            "El valor de la integral es: 2.22145, y se necesitaron 92 iteraciones.\n"
          ]
        }
      ],
      "source": [
        "\n",
        "# @title Cuadratura de Riemman\n",
        "\n",
        "n = 1  # División inicial de los intervalos\n",
        "while True:\n",
        "  integral_g = integral_riemman(g, 0, 1, n)\n",
        "  integral_g_ = integral_riemman(g_, 0, 1, n)\n",
        "  error = abs(integral_g + integral_g_ - integral_a)\n",
        "\n",
        "  # Aumento de la división del intervalo [a, b]\n",
        "  n += 1\n",
        "\n",
        "  if error < eps:\n",
        "    break\n",
        "\n",
        "print(f'El valor de la integral es: {(integral_g + integral_g_):.5f}, y \\\n",
        "se necesitaron {n - 1} iteraciones.')"
      ]
    },
    {
      "cell_type": "code",
      "execution_count": 8,
      "metadata": {
        "cellView": "form",
        "colab": {
          "base_uri": "https://localhost:8080/"
        },
        "id": "b5NUBjvlZ0uv",
        "outputId": "77d65c1d-61d9-44ef-8a08-cb67e41d8ee8"
      },
      "outputs": [
        {
          "output_type": "stream",
          "name": "stdout",
          "text": [
            "El valor de la integral es: 2.22143, y se necesitaron 130 iteraciones.\n"
          ]
        }
      ],
      "source": [
        "# @title Método del trapecio\n",
        "\n",
        "n = 1  # Número de intervalos\n",
        "while True:\n",
        "  integral_g = integral_trapecio(g, 0, 1, n)\n",
        "  integral_g_ = integral_trapecio(g_, 0, 1, n)\n",
        "  error = abs(integral_g + integral_g_ - integral_a)\n",
        "\n",
        "  # Aumento de los intervalos\n",
        "  n += 1\n",
        "\n",
        "  if error < eps:\n",
        "    break\n",
        "\n",
        "print(f'El valor de la integral es: {(integral_g + integral_g_):.5f}, y \\\n",
        "se necesitaron {n - 1} iteraciones.')"
      ]
    },
    {
      "cell_type": "code",
      "execution_count": 9,
      "metadata": {
        "cellView": "form",
        "colab": {
          "base_uri": "https://localhost:8080/"
        },
        "id": "ZWvoq5kdA46Q",
        "outputId": "79a770c9-55f4-47eb-ecbb-e05574f8f112"
      },
      "outputs": [
        {
          "output_type": "stream",
          "name": "stdout",
          "text": [
            "El valor de la integral es: 2.22145, y se necesitaron 6 iteraciones.\n"
          ]
        }
      ],
      "source": [
        "# @title Método de Simpson 1/3\n",
        "\n",
        "m = 1  # Cantidad de iteraciones más uno\n",
        "while True:\n",
        "  n = 2 * m\n",
        "  integral_g = integral_simpson13(g, 0, 1, n)\n",
        "  integral_g_ = integral_simpson13(g_, 0, 1, n)\n",
        "  error = abs(integral_g + integral_g_ - integral_a)\n",
        "\n",
        "  # Aumento de la división del intervalo [a, b]\n",
        "  m += 1\n",
        "\n",
        "  if error < eps:\n",
        "    break\n",
        "\n",
        "print(f'El valor de la integral es: {(integral_g + integral_g_):.5f}, y \\\n",
        "se necesitaron {m - 1} iteraciones.')"
      ]
    },
    {
      "cell_type": "code",
      "execution_count": 10,
      "metadata": {
        "cellView": "form",
        "colab": {
          "base_uri": "https://localhost:8080/"
        },
        "id": "_6vXT-qFUUlM",
        "outputId": "f96d136d-fb90-4e1c-85e1-d5432a915bd2"
      },
      "outputs": [
        {
          "output_type": "stream",
          "name": "stdout",
          "text": [
            "El valor de la integral es: 2.22145, y se necesitaron 5 iteraciones.\n"
          ]
        }
      ],
      "source": [
        "# @title Método de Simpson 3/8\n",
        "\n",
        "m = 1  # Cantidad de iteraciones más uno\n",
        "while True:\n",
        "  n = 3 * m  # Número de subibtervalos\n",
        "  integral_g = integral_simpson38(g, 0, 1, n)\n",
        "  integral_g_ = integral_simpson38(g_, 0, 1, n)\n",
        "  error = abs(integral_g + integral_g_ - integral_a)\n",
        "\n",
        "  # Aumento del contador\n",
        "  m += 1\n",
        "\n",
        "  if error < eps:\n",
        "    break\n",
        "\n",
        "print(f'El valor de la integral es: {(integral_g + integral_g_):.5f}, y \\\n",
        "se necesitaron {m - 1} iteraciones.')"
      ]
    },
    {
      "cell_type": "markdown",
      "metadata": {
        "id": "PUGjt76vdjAd"
      },
      "source": [
        "Para el método de la cuadratura de Gauss, debemos considerar un cambio de variable para llevar los límites de integración de la función al intervalo [-1, 1].\n",
        "\n",
        "$$\n",
        "\\int_a^b f(x) \\, dx = \\frac{b-a}{2} \\int_{-1}^1 f\\left(\\frac{b-a}{2}x + \\frac{a+b}{2}\\right) \\, dx.\n",
        "$$\n",
        "Luego, se aplica la cuadratura en el intervalo $[-1, 1]$.\n",
        "\n",
        "Así la integral es aproximadamente igual a\n",
        "\n",
        "$$\\int_a^b f(x)\\,dx \\approx \\frac{b-a}{2} \\sum_{i=1}^n w_i\\,f\\left(\\frac{b-a}{2}x_i + \\frac{a+b}{2}\\right).\n",
        "$$\n",
        "\n",
        "En el ejercicio que nos compete:\n",
        "$$\n",
        "\\int_{0}^{\\infty}\\frac{2}{1 + u^{4}}{du} = \\int_{0}^{1}\\frac{2du}{1 + u^{4}}  +  \\int_{0}^{1}\\frac{{2t^{2} dt}}{1 + {t}^{4}}\n",
        "$$\n",
        "\n",
        "$$\n",
        "\\int_{0}^{1}\\frac{2du}{1 + u^{4}}  +  \\int_{0}^{1}\\frac{{2t^{2} dt}}{1 + {t}^{4}} = \\int_{-1}^{1}\\frac{du}{1 + (\\frac{u}{2} + \\frac{1}{2})^{4}}  +  \\int_{-1}^{1}\\frac{{(\\frac{t}{2} + \\frac{1}{2})^{2} dt}}{1 + (\\frac{t}{2} + \\frac{1}{2})^{4}}\n",
        "$$\n",
        "\n",
        "$$\n",
        "\\therefore \\int_{0}^{\\infty}\\frac{2}{1 + u^{4}}{du} = \\int_{-1}^{1}\\frac{16du}{16 + (u+1)^{4}}  +  \\int_{-1}^{1}\\frac{{4(t+1)^{2} dt}}{16 + (t + 1)^{4}}\n",
        "$$\n",
        "\n",
        "Por último:\n",
        "$$\n",
        "\\int_{-1}^{1}\\frac{16du}{16 + (u+1)^{4}}  +  \\int_{-1}^{1}\\frac{{4(t+1)^{2} dt}}{16 + (t + 1)^{4}} ≈ \\sum_{i=1}^n w_i Q(u_i) + \\sum_{i=1}^n w_i S(t_i).\n",
        "$$"
      ]
    },
    {
      "cell_type": "code",
      "execution_count": 11,
      "metadata": {
        "cellView": "form",
        "colab": {
          "base_uri": "https://localhost:8080/"
        },
        "collapsed": true,
        "id": "TciWPZYHYlFK",
        "outputId": "d55d15d4-6088-447b-aabc-42b3089383f2"
      },
      "outputs": [
        {
          "output_type": "stream",
          "name": "stdout",
          "text": [
            "El valor de la integral es: 2.22144, y se necesitaron 6 raíces y pesos.\n"
          ]
        }
      ],
      "source": [
        "# @title Cuadratura de Gauss\n",
        "Q = lambda u: 16 / (16 + (u + 1)**4)\n",
        "S = lambda t: (4 * (t + 1)**2) / (16 + (t + 1)**4)\n",
        "\n",
        "n = 1  # Grado del polinomio de Legrenge\n",
        "while True:\n",
        "  x_i, w_i = roots_legendre(n)\n",
        "  integral_gauss = np.sum(w_i * (Q(x_i) + S(x_i)))\n",
        "  error_1 = abs(integral_gauss - integral_a)\n",
        "  if error_1 < eps:\n",
        "    break\n",
        "\n",
        "  # Aumento del grado de los polinomios de Legendre\n",
        "  n += 1\n",
        "\n",
        "print(f'El valor de la integral es: {(integral_gauss):.5f}, y \\\n",
        "se necesitaron {n} raíces y pesos.')"
      ]
    },
    {
      "cell_type": "markdown",
      "metadata": {
        "id": "3RawcC23ZMQF"
      },
      "source": [
        "## Solución b)"
      ]
    },
    {
      "cell_type": "markdown",
      "metadata": {
        "id": "ZIT907mUCm8G"
      },
      "source": [
        "Tras considerar el cambio de variable pertinente para el tratamiento de la integral impropia, se tiene que:\n",
        "$$\n",
        "I=\\int_{1}^{\\infty} \\frac{\\cos x}{x^3}{dx} = \\int_{0}^{1} t \\cdot cos(\\frac{1}{t}){dt}\n",
        "$$"
      ]
    },
    {
      "cell_type": "code",
      "execution_count": 12,
      "metadata": {
        "cellView": "form",
        "colab": {
          "base_uri": "https://localhost:8080/",
          "height": 0
        },
        "id": "vkgHfGCAuuj6",
        "outputId": "a60a33d1-a051-4524-ef03-84adb8decef2"
      },
      "outputs": [
        {
          "output_type": "execute_result",
          "data": {
            "text/plain": [
              "0.0181176219806057"
            ],
            "text/latex": "$\\displaystyle 0.0181176219806057$"
          },
          "metadata": {},
          "execution_count": 12
        }
      ],
      "source": [
        "# @title Valor exacto de b) tras la sustitución\n",
        "expr = x * sp.cos(1 / x)\n",
        "\n",
        "integral_b = sp.integrate(expr, (x, 0, 1)).evalf()\n",
        "integral_b"
      ]
    },
    {
      "cell_type": "code",
      "execution_count": 13,
      "metadata": {
        "id": "OlNpgBbPGZjf"
      },
      "outputs": [],
      "source": [
        "# Funciones necesarias\n",
        "expr = lambda t: t * np.cos(1 / t) if t > 0 else 0"
      ]
    },
    {
      "cell_type": "markdown",
      "metadata": {
        "id": "A7t0yWpwMQyf"
      },
      "source": [
        "Si consideramos la integral de la función en [0, 1], tendremos un problema por la discontinuidad de la nueva función en $t=0$. Para ello, consideraremos el límite inferior como $1/n$, lo que permite modificar el intervalo de integración sin evaluar directamente en $t=0$. A medida que $n$ crece, el límite inferior tiende a cero, y esperamos que la integral converja antes de hacer oscilar demasiado los valores arrojados."
      ]
    },
    {
      "cell_type": "code",
      "execution_count": 14,
      "metadata": {
        "cellView": "form",
        "colab": {
          "base_uri": "https://localhost:8080/"
        },
        "id": "EOKGBrr1drmr",
        "outputId": "aa349a66-8fbb-4f37-d7f9-455cf1edd167"
      },
      "outputs": [
        {
          "output_type": "stream",
          "name": "stdout",
          "text": [
            "El valor de la integral es: 0.01812, y se necesitaron 80 iteraciones.\n"
          ]
        }
      ],
      "source": [
        "# @title Cuadratura de Riemman\n",
        "\n",
        "n = 1  # Número de subintervalos\n",
        "while True:\n",
        "  integral = integral_riemman(expr, 0, 1, n)\n",
        "  error = abs(integral - integral_b)\n",
        "\n",
        "  # Aumento del número de subintervalos\n",
        "  n += 2\n",
        "\n",
        "  if error < eps:\n",
        "    break\n",
        "\n",
        "print(f'El valor de la integral es: {(integral):.5f}, y \\\n",
        "se necesitaron {n - 1} iteraciones.')"
      ]
    },
    {
      "cell_type": "code",
      "execution_count": 15,
      "metadata": {
        "cellView": "form",
        "colab": {
          "base_uri": "https://localhost:8080/"
        },
        "id": "kiqulN7TeGIN",
        "outputId": "6d443abe-e6dc-44e1-de49-541a9570535f"
      },
      "outputs": [
        {
          "output_type": "stream",
          "name": "stdout",
          "text": [
            "El valor de la integral es: 0.01812, y se necesitaron 93 iteraciones.\n"
          ]
        }
      ],
      "source": [
        "# @title Método del trapecio\n",
        "\n",
        "n = 1  # Número de subintervalos\n",
        "while True:\n",
        "  integral = integral_trapecio(expr, 0, 1, n)\n",
        "  error = abs(integral - integral_b)\n",
        "\n",
        "  # Aumento del número de subintervalos\n",
        "  n += 3\n",
        "\n",
        "  if error < eps:\n",
        "    break\n",
        "\n",
        "print(f'El valor de la integral es: {(integral):.5f}, y \\\n",
        "se necesitaron {n - 1} iteraciones.')"
      ]
    },
    {
      "cell_type": "code",
      "execution_count": 16,
      "metadata": {
        "cellView": "form",
        "colab": {
          "base_uri": "https://localhost:8080/"
        },
        "id": "8OaAgVj1eWjN",
        "outputId": "5faa86b3-1145-4484-d017-d808112ff337"
      },
      "outputs": [
        {
          "output_type": "stream",
          "name": "stdout",
          "text": [
            "El valor de la integral es: 2.22145, y se necesitaron 59 iteraciones.\n"
          ]
        }
      ],
      "source": [
        "# @title Método de simpson 1/3\n",
        "\n",
        "m = 1  # Número de iteraciones realizadas\n",
        "while True:\n",
        "  n = 2 * m  # El método requiere un número de subintervalos par\n",
        "  integral = integral_simpson13(expr, 0, 1, n)\n",
        "  error = abs(integral - integral_b)\n",
        "\n",
        "  # Aumento de la división del intervalo [a, b]\n",
        "  m += 1\n",
        "\n",
        "  if error < eps:\n",
        "    break\n",
        "\n",
        "print(f'El valor de la integral es: {(integral_g + integral_g_):.5f}, y \\\n",
        "se necesitaron {m - 1} iteraciones.')"
      ]
    },
    {
      "cell_type": "code",
      "execution_count": 17,
      "metadata": {
        "cellView": "form",
        "colab": {
          "base_uri": "https://localhost:8080/"
        },
        "id": "cXeXz0gtf7Hq",
        "outputId": "90b048fe-c112-435c-d2c9-59c730bab8c0"
      },
      "outputs": [
        {
          "output_type": "stream",
          "name": "stdout",
          "text": [
            "El valor de la integral es: 0.01811, y se necesitaron 99 iteraciones.\n"
          ]
        }
      ],
      "source": [
        "# @title Método de simpson 3/8\n",
        "m = 1  # Cantidad de iteraciones más uno\n",
        "while True:\n",
        "  n = 3 * m  # Número de subibtervalos\n",
        "  integral = integral_simpson38(expr, 0, 1, n)\n",
        "  error = abs(integral - integral_b)\n",
        "\n",
        "  # Aumento del contador\n",
        "  m += 1\n",
        "\n",
        "  if error < eps:\n",
        "    break\n",
        "\n",
        "print(f'El valor de la integral es: {(integral):.5f}, y \\\n",
        "se necesitaron {m - 1} iteraciones.')"
      ]
    },
    {
      "cell_type": "markdown",
      "metadata": {
        "id": "yaQzEJO1B50A"
      },
      "source": [
        "Para la cuadratura de Gauss, hagamos la sustitución adecuada:\n",
        "$$\n",
        "\\int_{0}^{1} t \\cdot cos(\\frac{1}{t}){dt} = \\frac{1}{4}\\int_{-1}^{1}(t + 1)cos(\\frac{2}{t + 1}){dt}\n",
        "$$\n",
        "\n",
        "$$\n",
        "\\therefore \\int_{0}^{1} t \\cdot cos(\\frac{1}{t}){dt} \\approx \\frac{1}{4} \\sum_{i=1}^n w_i(t_i + 1) \\cdot cos(\\frac{2}{t_i + 1})\n",
        "$$"
      ]
    },
    {
      "cell_type": "code",
      "execution_count": 18,
      "metadata": {
        "cellView": "form",
        "colab": {
          "base_uri": "https://localhost:8080/"
        },
        "id": "NuimJIcugBhY",
        "outputId": "901c5eef-641a-46c2-8bf8-313a1b99ba7e"
      },
      "outputs": [
        {
          "output_type": "stream",
          "name": "stdout",
          "text": [
            "El valor de la integral es: 0.01812, y se necesitaron 43 raíces y pesos.\n"
          ]
        }
      ],
      "source": [
        "# @title Cuadratura de Gauss\n",
        "R = lambda t: (1 / 4) * (t + 1) * np.cos(2 / (t + 1))\n",
        "\n",
        "n = 1  # Grado del polinomio de Legrenge\n",
        "while True:\n",
        "  x_i, w_i = roots_legendre(n)\n",
        "  integral_gauss = np.sum(w_i * R(x_i))\n",
        "  error_1 = abs(integral_gauss - integral_b)\n",
        "  if error_1 < eps:\n",
        "    break\n",
        "\n",
        "  # Aumento del grado de los polinomios de Legendre\n",
        "  n += 1\n",
        "\n",
        "print(f'El valor de la integral es: {(integral_gauss):.5f}, y \\\n",
        "se necesitaron {n} raíces y pesos.')"
      ]
    },
    {
      "cell_type": "markdown",
      "metadata": {
        "id": "8yYvHzCGFKQa"
      },
      "source": [
        "## Solución c)"
      ]
    },
    {
      "cell_type": "code",
      "source": [
        "# @title Valor \"exacto\" de la integral (opción I)\n",
        "integrando = lambda x, y: 1 / np.sqrt(1 - y**2)\n",
        "resultado, _ = dblquad(integrando, 0, np.pi/4, lambda x: 0, lambda x: np.sin(x))\n",
        "print(f'El valor \"exacto\" de la integral es: {resultado}')"
      ],
      "metadata": {
        "colab": {
          "base_uri": "https://localhost:8080/"
        },
        "id": "5y36DTdWDkDr",
        "outputId": "57cebeb2-1b82-4fdb-a294-4f8cf182f0b2"
      },
      "execution_count": 39,
      "outputs": [
        {
          "output_type": "stream",
          "name": "stdout",
          "text": [
            "El valor \"exacto\" de la integral es: 0.36033449485443175\n"
          ]
        }
      ]
    },
    {
      "cell_type": "code",
      "source": [
        "# @title Valor \"exacto\" de la integral (opción 2)\n",
        "### Límites de integración\n",
        "x_inf = 0\n",
        "x_sup = np.pi / 4\n",
        "y_inf = lambda x: 0\n",
        "y_sup = lambda x: np.sin(x)\n",
        "\n",
        "def integral_x(x):\n",
        "  f = lambda y: 1 / np.sqrt(1 - y**2)\n",
        "  return quad(f, 0, np.sin(x))[0]\n",
        "\n",
        "I, _ = quad(integral_x, x_inf, x_sup)\n",
        "print(f'El valor \"exacto\" de la integral es: {I}')"
      ],
      "metadata": {
        "colab": {
          "base_uri": "https://localhost:8080/"
        },
        "cellView": "form",
        "id": "7A9nb2ISRuNL",
        "outputId": "2fbae12e-e20a-4ce8-9a72-2872b6493001"
      },
      "execution_count": 40,
      "outputs": [
        {
          "output_type": "stream",
          "name": "stdout",
          "text": [
            "El valor \"exacto\" de la integral es: 0.30842513753404244\n"
          ]
        }
      ]
    },
    {
      "cell_type": "code",
      "source": [
        "# @title Método trapezoidal"
      ],
      "metadata": {
        "cellView": "form",
        "id": "lRHVuERKn6LL"
      },
      "execution_count": null,
      "outputs": []
    },
    {
      "cell_type": "code",
      "execution_count": 20,
      "metadata": {
        "id": "GP88j-KQIy1R",
        "cellView": "form"
      },
      "outputs": [],
      "source": [
        "# @title Método de Simpson"
      ]
    },
    {
      "cell_type": "code",
      "execution_count": 21,
      "metadata": {
        "id": "PyB9rXjaI1-H",
        "cellView": "form"
      },
      "outputs": [],
      "source": [
        "# @title Cuadratura de Gauss"
      ]
    },
    {
      "cell_type": "markdown",
      "metadata": {
        "id": "kNu-DKuhnA4V"
      },
      "source": [
        "#2\n",
        "\n",
        "El trabajo realizado sobre un objeto es igual a la fuerza por la distancia recorrida en la dirección de la fuerza. Se la velocidad de un objeto en la dirección $x$\n",
        "\n",
        "\\begin{eqnarray}\n",
        "v_x = 4t && 0\\leq t\\leq 5\\\\\n",
        "v_x = 20 + (5-t)^2  && 5\\leq t\\leq 15\n",
        "\\end{eqnarray}\n",
        "\n",
        "donde $v_x$ está en m/s.\n",
        "\n",
        "* Realice un gráfico de la distancia $x$ que recorre el objeto en función del tiempo.\n",
        "\n",
        "* Calcule el valor del trabajo para una fuerza constante $F_x$ de 200 N para todo $t$.\n",
        "\n"
      ]
    },
    {
      "cell_type": "markdown",
      "metadata": {
        "id": "mDx0Ai8PLixD"
      },
      "source": [
        "## Solución 2)\n",
        "\n",
        "$$\n",
        "\\int_{s_0}^{s}{ds'}= \\int_{t_0}^{t}{v(t')dt'}\n",
        "$$\n",
        "\n",
        "$$\n",
        "\\Leftrightarrow  s(t) = s(t_0) + \\int_{t_0}^{t}{v(t')dt'}\n",
        "$$\n",
        "\n",
        "La última integral se puede aproximar a partir de cualquiera de los métodos vistos.\n",
        "\n",
        "Para el cálculo del trabajo, téngase en cuenta que:\n",
        "\n",
        "$$\n",
        "W = \\int_{a}^{b}{F(x)dx}\n",
        "$$\n",
        "\n",
        "$$\n",
        "W(t) = 200 \\int_{0}^{t}v_xdt\n",
        "$$"
      ]
    },
    {
      "cell_type": "code",
      "execution_count": 22,
      "metadata": {
        "cellView": "form",
        "id": "psc0Nry9BA0-"
      },
      "outputs": [],
      "source": [
        "# @title Cálculo de la distancia y el trabajo W\n",
        "h = 1e-3\n",
        "a, b = 0, 15\n",
        "t = np.arange(a, b, h)\n",
        "\n",
        "# Funciones de velocidad\n",
        "v_1 = lambda t: 4 * t\n",
        "v_2 = lambda t: 20 + (5 - t)**2\n",
        "\n",
        "s_t = np.zeros_like(t)\n",
        "w_t = np.zeros_like(t)\n",
        "for i in range(len(t)):\n",
        "  point = a + i * h\n",
        "  if t[i] <= 5:\n",
        "    s_t[i] = s_t[i - 1] + v_1(point + h / 2) * h\n",
        "    w_t[i] += 200 * s_t[i]\n",
        "  elif t[i] > 5:\n",
        "    s_t[i] = s_t[i - 1] + v_2(point + h / 2) * h\n",
        "    w_t[i] += 200 * s_t[i]"
      ]
    },
    {
      "cell_type": "code",
      "execution_count": 23,
      "metadata": {
        "cellView": "form",
        "colab": {
          "base_uri": "https://localhost:8080/",
          "height": 583
        },
        "id": "bDEgRoF7LqK2",
        "outputId": "9c9f42aa-0788-4ada-c9c5-b0ed77dac831"
      },
      "outputs": [
        {
          "output_type": "display_data",
          "data": {
            "text/plain": [
              "<Figure size 1400x600 with 3 Axes>"
            ],
            "image/png": "[encoded data removed]"
          },
          "metadata": {}
        },
        {
          "output_type": "display_data",
          "data": {
            "text/plain": [
              "<Figure size 640x480 with 0 Axes>"
            ]
          },
          "metadata": {}
        }
      ],
      "source": [
        "# @title Gráficos v(x), s(x) y W(t)\n",
        "\n",
        "fig, axes = plt.subplots(1, 3, figsize=(14, 6))\n",
        "axes[0].set_title(label='Velocidad en función del tiempo.')\n",
        "axes[0].plot(t[t <= 5], v_1(t[t <= 5]), label='v(t)')\n",
        "axes[0].plot(t[t > 5], v_2(t[t > 5]), label='v(t)')\n",
        "axes[0].scatter([t[0], t[-1]], [v_1(t[0]), v_2(t[-1])], c='r')\n",
        "\n",
        "# Sombrear área bajo la curva\n",
        "axes[0].fill_between(t[t <= 5], v_1(t[t <= 5]), color='blue', alpha=0.3)\n",
        "axes[0].fill_between(t[t > 5], v_2(t[t > 5]), color='blue', alpha=0.3)\n",
        "axes[0].axvline(x=15, color='black', linestyle='--', linewidth=2, \\\n",
        "                    label=r'$t=15$')\n",
        "axes[0].set_xlabel('x')\n",
        "axes[0].set_ylabel('v(t)')\n",
        "axes[0].legend()\n",
        "axes[0].grid()\n",
        "\n",
        "\n",
        "axes[1].set_title('Distancia en función del tiempo.')\n",
        "axes[1].plot(t[t <= 5], s_t[t <= 5], label='s(t)')\n",
        "axes[1].plot(t[t > 5], s_t[t > 5], label='s(t)')\n",
        "axes[1].set_xlabel('t')\n",
        "axes[1].set_ylabel('s(t)')\n",
        "axes[1].legend()\n",
        "axes[1].grid()\n",
        "\n",
        "axes[2].set_title('Trabajo W realizado en cada instante t.')\n",
        "axes[2].plot(t[t <= 5], w_t[t <= 5], label='W(t)')\n",
        "axes[2].plot(t[t > 5], w_t[t > 5], label='W(t)')\n",
        "axes[2].set_xlabel('t')\n",
        "axes[2].set_ylabel('W(t)')\n",
        "axes[2].legend()\n",
        "axes[2].grid()\n",
        "plt.show()\n",
        "plt.tight_layout()"
      ]
    },
    {
      "cell_type": "markdown",
      "metadata": {
        "id": "lj5SUkPyofV-"
      },
      "source": [
        "#3\n",
        "La cantidad de masa transportada por una tuberia durante un periodo se puede calcular como\n",
        "\n",
        "$$M = \\int_{t_1}^{t_2} Q(t) c(t) \\; dt$$\n",
        "\n",
        "siendo M (masa en mg), $Q(t)$ el caudal y $c(t)$ concentración (mg/m$^3$). Sean las siguientes representaciones funcionales:\n",
        "\n",
        "$$Q(t) = 9 + 5 \\cos^2 (0.4t)$$\n",
        "$$c(t) = 5e^{-0.5 t} + 2 e^{0.15 t}$$\n",
        "\n",
        "Determine la masa transportada entre $t_1 = 2$ y $t_2 = 8 \\mbox{ min}$ usando:\n",
        "\n",
        "* Haga un gráfico del flujo y la concentración en función del tiempo.\n",
        "* Determine el valor de la integral usando el método de integración de Romberg\n",
        "* Compruebe sus resultado usando el método de cuadratura Gaussiana adaptativa `quad`.\n"
      ]
    },
    {
      "cell_type": "markdown",
      "metadata": {
        "id": "KowQAIxluiOH"
      },
      "source": [
        "## Solución 3)"
      ]
    },
    {
      "cell_type": "code",
      "execution_count": 24,
      "metadata": {
        "cellView": "form",
        "id": "-cT9BjrkpF5w"
      },
      "outputs": [],
      "source": [
        "# @title Funciones\n",
        "t = sp.symbols('t')\n",
        "\n",
        "# Caudal\n",
        "Q = 9 + 5 * sp.cos(0.4 * t)**2\n",
        "Q_ = sp.lambdify(t, Q, 'numpy')\n",
        "# Concentración de flujo\n",
        "c = 5 * sp.exp(-0.5 * t) + 2 * sp.exp(0.15 * t)\n",
        "c_ = sp.lambdify(t, c, 'numpy')\n",
        "\n",
        "# Función a integrar\n",
        "f = Q * c\n",
        "f = sp.lambdify(t, f, 'numpy')"
      ]
    },
    {
      "cell_type": "code",
      "execution_count": 25,
      "metadata": {
        "cellView": "form",
        "colab": {
          "base_uri": "https://localhost:8080/",
          "height": 583
        },
        "id": "yYj8U7uq8KNF",
        "outputId": "0cbcd1b8-d4e6-4bd5-f5ef-b8b910c988ef"
      },
      "outputs": [
        {
          "output_type": "display_data",
          "data": {
            "text/plain": [
              "<Figure size 1400x600 with 2 Axes>"
            ],
            "image/png": "[encoded data removed]"
          },
          "metadata": {}
        },
        {
          "output_type": "display_data",
          "data": {
            "text/plain": [
              "<Figure size 640x480 with 0 Axes>"
            ]
          },
          "metadata": {}
        }
      ],
      "source": [
        "# @title Gráfico de flujo y concentración\n",
        "t_vals = np.linspace(2, 8, 100)\n",
        "\n",
        "fig, axes = plt.subplots(1, 2, figsize=(14, 6))\n",
        "axes[0].set_title('Flujo Q(t_vals) y concentración c(t) en función del tiempo.')\n",
        "axes[0].plot(t_vals, Q_(t_vals), label='Q(t)')\n",
        "axes[0].plot(t_vals, c_(t_vals), label='c(t)')\n",
        "axes[0].set_xlabel('t')\n",
        "axes[0].set_ylabel('Q(t)')\n",
        "axes[0].legend()\n",
        "axes[0].grid()\n",
        "\n",
        "axes[1].set_title('Función de flujo por concentración, Q(t)*c(t).')\n",
        "axes[1].plot(t_vals, Q_(t_vals) * c_(t_vals), label='Q(t) * c(t)')\n",
        "axes[1].set_xlabel('t')\n",
        "axes[1].set_ylabel('Q(t) * c(t)')\n",
        "axes[1].fill_between(t_vals, Q_(t_vals) * c_(t_vals), color='blue', alpha=0.1)\n",
        "axes[1].legend()\n",
        "axes[1].grid()\n",
        "plt.show()\n",
        "plt.tight_layout()"
      ]
    },
    {
      "cell_type": "code",
      "execution_count": 26,
      "metadata": {
        "cellView": "form",
        "colab": {
          "base_uri": "https://localhost:8080/"
        },
        "id": "VRN4DA659xht",
        "outputId": "bbd76d63-6cc3-4317-cc81-8fd8beeb392e"
      },
      "outputs": [
        {
          "output_type": "stream",
          "name": "stdout",
          "text": [
            "El valor de la integral es: 335.96253\n"
          ]
        },
        {
          "output_type": "stream",
          "name": "stderr",
          "text": [
            "<ipython-input-26-4fc473a5eb7d>:2: DeprecationWarning: `scipy.integrate.romberg` is deprecated as of SciPy 1.12.0and will be removed in SciPy 1.15.0. Please use`scipy.integrate.quad` instead.\n",
            "  integral = romberg(f, 2, 8)\n"
          ]
        }
      ],
      "source": [
        "# @title Integral de Q(t)c(t) por método de Roomber\n",
        "integral = romberg(f, 2, 8)\n",
        "\n",
        "print(f'El valor de la integral es: {integral:.5f}')"
      ]
    },
    {
      "cell_type": "code",
      "execution_count": 27,
      "metadata": {
        "cellView": "form",
        "colab": {
          "base_uri": "https://localhost:8080/"
        },
        "id": "oIZreGNFBzt7",
        "outputId": "92c83841-a71d-41ac-cc0a-9aca51fad187"
      },
      "outputs": [
        {
          "output_type": "stream",
          "name": "stdout",
          "text": [
            "El valor de la integral es: 335.96253\n"
          ]
        }
      ],
      "source": [
        "# @title Integral de Q(t)c(t) por método de cuadratura Gaussiana\n",
        "integral, error = quad(f, 2, 8)\n",
        "\n",
        "print(f'El valor de la integral es: {integral:.5f}')"
      ]
    },
    {
      "cell_type": "markdown",
      "metadata": {
        "id": "zpiN1DLNDQTz"
      },
      "source": [
        "Ambos métodos arrojan el mismo valor para cinco puntos decimales."
      ]
    },
    {
      "cell_type": "markdown",
      "metadata": {
        "id": "BZIHHpcmq2HJ"
      },
      "source": [
        "#4\n",
        "Un péndulo físico en el regimen de pequeñas oscilaciones tiene un periodo de:\n",
        "\n",
        "\\begin{equation}\n",
        "P_0=2\\pi \\sqrt{\\frac{I_0}{mgb}}\n",
        "\\end{equation}\n",
        "\n",
        "Cuando las oscilaciones no son pequeñas, podemos encontrar una expresión para el periodo como sigue:\n",
        "\n",
        "\n",
        "La energia de un péndulo físico viene dada por:\n",
        "\n",
        "\\begin{equation}\n",
        "E=\\frac{I_0\\omega^2}{2}+mgb(1-\\cos \\theta)\n",
        "\\end{equation}\n",
        "\n",
        "En el punto más alejado de su posición de equilibrio, su energía es solo potencial y viene dada por:\n",
        "\n",
        "\\begin{equation}\n",
        "Ep = mgb(1-\\cos \\theta_0),\n",
        "\\end{equation}\n",
        "\n",
        "Igualando ambas expresiones tenemos que:\n",
        "\n",
        "\\begin{equation}\n",
        "mgb(1-\\cos \\theta_0)=\\frac{I_0\\omega^2}{2}+mgb(1-\\cos \\theta)\n",
        "\\end{equation}\n",
        "\n",
        "Integrando la ecuación respecto a $\\theta$ y realizando la sustitución:\n",
        "\n",
        "$\\sin \\phi = \\frac{\\sin \\frac{\\theta}{2}}{\\sin \\frac{\\theta_0}{2}}$ y  $k = \\sin \\frac{\\theta_0}{2}$, se puede encontrar  que el periodo de oscilación, viene dado en terminos de  la integral elíptica completa de primera especie:\n",
        "\n",
        "\n",
        "\\begin{equation}\n",
        "P = \\frac{2P_0}{\\pi} \\int _0^{\\pi/2} \\frac{\\mathrm{d\\phi}}{\\sqrt{1-k^2\\sin^2\\phi}}\n",
        "\\end{equation}\n",
        "\n",
        "donde,  $P_0$ es el periodo de las oscilaciones pequeñas.\n",
        "\n",
        "Determinar el periodo de oscilación de un péndulo. Para ello:\n",
        "\n",
        "1. Suponga los párametros iniciales del pendulo.\n",
        "2. Realice una buena planificación del código para calcular la integral.\n",
        "3. Emplee un  método de integracion numérico que conozca.\n",
        "4. Compruebe su solucion con el valor exacto de la integral mostrado en el punto"
      ]
    },
    {
      "cell_type": "markdown",
      "metadata": {
        "id": "MVal0ADLCFs4"
      },
      "source": [
        "## Solución 4)\n",
        "\n",
        "\n",
        "\n",
        "\n",
        "\n"
      ]
    },
    {
      "cell_type": "code",
      "execution_count": 28,
      "metadata": {
        "cellView": "form",
        "id": "0x2LE6Qcq7Kb"
      },
      "outputs": [],
      "source": [
        "# @title Parámetros iniciales\n",
        "m = 2  # m = 2 kg\n",
        "L = 1  # L = 1 m\n",
        "b = 0.5  # b = 0.5 m\n",
        "I_0 = 0.833  # I_0 = 0.833 kg * m^2\n",
        "P_0 = 1.83  # P_0 = 1.83 s\n",
        "A_0 = np.pi / 6  # θ_0 = 30°\n",
        "k = np.sin(A_0 / 2)"
      ]
    },
    {
      "cell_type": "code",
      "execution_count": 29,
      "metadata": {
        "cellView": "form",
        "id": "wHaEUo1kasHZ"
      },
      "outputs": [],
      "source": [
        "# @title Definición de función y cálculo de la integral\n",
        "a, b, = 0, np.pi / 2\n",
        "f = lambda a: 1 / np.sqrt(1 - k**2 * np.sin(a)**2)\n",
        "phi = np.linspace(a, b, 1000)"
      ]
    },
    {
      "cell_type": "code",
      "execution_count": 30,
      "metadata": {
        "cellView": "form",
        "colab": {
          "base_uri": "https://localhost:8080/"
        },
        "id": "Wr35RSleckZQ",
        "outputId": "8207e97b-2707-407a-f76c-bb9062443dee"
      },
      "outputs": [
        {
          "output_type": "stream",
          "name": "stdout",
          "text": [
            "El período de oscilación del péndulo es de 1.86186 s.\n"
          ]
        }
      ],
      "source": [
        "# @title Método trapezoidal\n",
        "integral = trapezoid(f(phi), phi)\n",
        "periodo = 2 * P_0 / np.pi * integral\n",
        "print(f'El período de oscilación del péndulo es de {periodo:.5f} s.')"
      ]
    },
    {
      "cell_type": "code",
      "execution_count": 31,
      "metadata": {
        "cellView": "form",
        "colab": {
          "base_uri": "https://localhost:8080/"
        },
        "id": "Sr76jTEPcpy6",
        "outputId": "c4f1be4f-4bca-434b-c0f5-c658d7f4ceeb"
      },
      "outputs": [
        {
          "output_type": "stream",
          "name": "stdout",
          "text": [
            "El período de oscilación del péndulo es de 1.86186 s.\n"
          ]
        }
      ],
      "source": [
        "# @title Método Simpson\n",
        "integral = simpson(f(phi), x=phi)\n",
        "periodo = 2 * P_0 / np.pi * integral\n",
        "print(f'El período de oscilación del péndulo es de {periodo:.5f} s.')"
      ]
    },
    {
      "cell_type": "code",
      "execution_count": 32,
      "metadata": {
        "cellView": "form",
        "colab": {
          "base_uri": "https://localhost:8080/"
        },
        "id": "-TLstjqfejNC",
        "outputId": "dafc83c7-218c-4251-d65e-69c022be9818"
      },
      "outputs": [
        {
          "output_type": "stream",
          "name": "stdout",
          "text": [
            "El período de oscilación del péndulo es de 1.86186 s.\n"
          ]
        }
      ],
      "source": [
        "# @title Cuadratura de Gauss\n",
        "integral, _ = quad(f, a, b)\n",
        "periodo = 2 * P_0 / np.pi * integral\n",
        "print(f'El período de oscilación del péndulo es de {periodo:.5f} s.')"
      ]
    },
    {
      "cell_type": "markdown",
      "metadata": {
        "id": "_Lkr72LS31tm"
      },
      "source": [
        "#5\n",
        "El departamento de transporte encuentra que la tasa a la cual los autos cruzan un puente puede ser aproximada por la función:\n",
        "\n",
        "\n",
        "\n",
        "$$ f(t) = \\frac{22.8}{3.5 + 7(t - 1.25)^4} $$\n",
        "\n",
        "\n",
        "\n",
        "donde $t = 0 $ a las 4 pm, y se mide en horas, y $ f(t) $ se mide en autos por minuto. Estima el número total de autos que cruzan el puente entre las 4 y las 6 pm. Asegúrate de que tu estimación tenga un error menor al 5% y proporciona evidencia matemática suficiente de tu estimación de error.\n"
      ]
    },
    {
      "cell_type": "markdown",
      "metadata": {
        "id": "mzsKmACWk32A"
      },
      "source": [
        "## Solución 5)\n",
        "Si $A(t)$ es el número de autos que cruzan el puente en el instante $t$, entonces:\n",
        "\n",
        "$$\n",
        "A(t) = \\int_{t_0}^{t} f(t)dt\n",
        "$$\n",
        "\n",
        "Para nuestro caso concreto, $t_0=0$, y $t=2$.\n",
        "\n",
        "$$\n",
        "A = 60 \\int_{0}^{2} f(t)dt\n",
        "$$\n",
        "\n",
        "Luego, podemos estimar el valor de la integral (autos por hora) por cualquiera de los métodos vistos en clase."
      ]
    },
    {
      "cell_type": "code",
      "execution_count": 33,
      "metadata": {
        "cellView": "form",
        "id": "wUnCOt5VqscA"
      },
      "outputs": [],
      "source": [
        "# @title Función error para la aproximación por el método de Simpson\n",
        "def error_simpson(f:Callable[[float], float], a_float, b:float,\n",
        "                  n: int, e:float = 1.25) -> float:\n",
        "\n",
        "  \"\"\"\n",
        "  La función estima el error de aproximar la integral de f por el método de\n",
        "  Simpson 3/8.\n",
        "\n",
        "  Args:\n",
        "    :f: Función que se está integrando por aproximación\n",
        "    :a: Límite inferior de la integral\n",
        "    :b: Límite superior de la integral\n",
        "    :n: Número de subintervalos\n",
        "    :e: Cualquier valor entre [a, b]\n",
        "\n",
        "  Returns:\n",
        "    Error de aproximación de la integral.\n",
        "  \"\"\"\n",
        "\n",
        "  import sympy as sp\n",
        "  t = sp.symbols('t')\n",
        "  f_diff_4 = sp.diff(f, t, 4)\n",
        "  f_diff_4 = sp.lambdify(t, f_diff_4, 'numpy')\n",
        "\n",
        "  error = -((b - a)**5 / (180 * n**4)) * f_diff_4(e)\n",
        "\n",
        "  return error\n",
        "\n"
      ]
    },
    {
      "cell_type": "code",
      "execution_count": 34,
      "metadata": {
        "colab": {
          "base_uri": "https://localhost:8080/",
          "height": 428
        },
        "id": "pvbJlRUO4AQh",
        "outputId": "5b090ac5-9c44-414d-d6bb-8ec081c8961f",
        "cellView": "form"
      },
      "outputs": [
        {
          "output_type": "display_data",
          "data": {
            "text/plain": [
              "<Figure size 800x400 with 1 Axes>"
            ],
            "image/png": "[encoded data removed]"
          },
          "metadata": {}
        },
        {
          "output_type": "display_data",
          "data": {
            "text/plain": [
              "<Figure size 640x480 with 0 Axes>"
            ]
          },
          "metadata": {}
        }
      ],
      "source": [
        "# @title Gráficación de la función f(t)\n",
        "f = (60 * 22.8) / (3.5 + 7 * (t - 1.25)**4)\n",
        "f_ = sp.lambdify(t, f, 'numpy')\n",
        "t_values = np.linspace(0, 2, 100)\n",
        "\n",
        "plt.figure(figsize=(8, 4))\n",
        "plt.title('Autos por hora, f(t).')\n",
        "plt.plot(t_values, f_(t_values))\n",
        "plt.xlabel('t')\n",
        "plt.ylabel('f(t)')\n",
        "plt.grid()\n",
        "plt.show()\n",
        "plt.tight_layout()"
      ]
    },
    {
      "cell_type": "code",
      "execution_count": 35,
      "metadata": {
        "id": "XNty4kXBz8Ti",
        "colab": {
          "base_uri": "https://localhost:8080/"
        },
        "cellView": "form",
        "outputId": "a73edced-9250-4709-f2b2-ef613167e666"
      },
      "outputs": [
        {
          "output_type": "stream",
          "name": "stdout",
          "text": [
            "17\n",
            "La aproximación de la integral es:     600\n"
          ]
        }
      ],
      "source": [
        "# @title Estimación de la función f(t)\n",
        "error = 0.05  # Error máximo de aproximación\n",
        "\n",
        "n = 1\n",
        "m = 2 * n\n",
        "while error_simpson(f, 0, 2, n) > error:\n",
        "  n += 1\n",
        "\n",
        "print(n)\n",
        "print(f'La aproximación de la integral es: \\\n",
        "    {integral_simpson13(f_, 0, 2, 16):.0f}')"
      ]
    },
    {
      "cell_type": "markdown",
      "metadata": {
        "id": "jHsMpubg2GG4"
      },
      "source": [
        "Así, el número de autos que pasan en la franja horaria 4-6 pm es de 600 autos."
      ]
    },
    {
      "cell_type": "markdown",
      "metadata": {
        "id": "6QcjKICW30tJ"
      },
      "source": [
        "## Error en la Regla de Simpson 1/3\n",
        "\n",
        "La regla de Simpson 1/3 utiliza parábolas para aproximar la función y requiere un número **par** de subintervalos (\\( n \\) debe ser par). Su error absoluto es:\n",
        "\n",
        "$$\n",
        "E_{S1/3} \\approx \\frac{(b-a)}{180} h^4 \\max_{x \\in [a,b]} \\left| f^{(4)}(x) \\right|\n",
        "$$\n",
        "\n",
        "donde:\n",
        "\n",
        "- $h = \\frac{b-a}{n}$ es el tamaño del subintervalo.\n",
        "- $f^{(4)}(x)$ es la cuarta derivada de la función.\n",
        "- $n$ es el número de subintervalos (debe ser par).\n",
        "\n",
        "Reescribiendo en función de $n$:\n",
        "\n",
        "$$\n",
        "E_{S1/3} \\approx \\frac{(b-a)^5}{180 n^4} \\max_{x \\in [a,b]} \\left| f^{(4)}(x) \\right|\n",
        "$$\n",
        "\n",
        "### 🔹 Conclusión:\n",
        "El error decrece como $O(n^{-4})$, lo que significa que **duplicar $n$ reduce el error en un factor de 16**.  \n",
        "Si queremos un error menor que $\\varepsilon$, podemos despejar $n$:\n",
        "\n",
        "$$\n",
        "n \\geq \\left( \\frac{(b-a)^5}{180 \\varepsilon} \\max |f^{(4)}(x)| \\right)^{1/4}\n",
        "$$\n",
        "\n",
        "Luego, **redondeamos $n$ al siguiente número par** para cumplir con la regla de Simpson 1/3.  \n",
        "\n"
      ]
    },
    {
      "cell_type": "markdown",
      "metadata": {
        "id": "lPPVV59drd2D"
      },
      "source": [
        "#6\n",
        "Un lazo de corriente de radio $a$  transporta una corriente $I$ en el punto P que está a una distancia $r$ del centro del lazo con coordenadas esféricas (r, θ, φ). Resuelve para la componente φ del potencial vectorial en el punto $P$ en términos de integrales elípticas:\n",
        "\n",
        "\\begin{equation}\n",
        "A_{\\phi}(r, \\theta)=\\frac{\\mu_0}{4\\pi}\\frac{4Ia}{\\sqrt{a^2+r^2+2ar\\sin \\theta}}\\left(\\frac{(2-k^2)K(k)-2E(k)}{k^2} \\right)\n",
        "\\end{equation}\n",
        "\n",
        "donde\n",
        "\n",
        "\\begin{equation}\n",
        "K(k)=\\int_{0}^{\\pi/2} \\frac{\\mathrm{d\\phi}}{\\sqrt{1-k^2\\sin^2\\phi}}\n",
        "\\end{equation}\n",
        "\n",
        "\\begin{equation}\n",
        "E(k)=\\int_{0}^{\\pi/2} \\mathrm{d\\phi} \\sqrt{1-k^2\\sin^2\\phi}\n",
        "\\end{equation}\n",
        "\n",
        "\\begin{equation}\n",
        "k^2=\\frac{4ar\\sin\\theta}{a^2+r^2+2ar\\sin\\theta}\n",
        "\\end{equation}\n",
        "\n",
        "Aquí, $K(k)$ es una integral elíptica completa del primer tipo y $E(k)$ es una integral elíptica completa del segundo tipo. Para $a$ = 1, $I$ = 3, y $μ_0∕4π$ = 1, calcular y graficar:\n",
        "\n",
        "a) Aφ(r = 1.1, θ) vs. θ\n",
        "\n",
        "b) Aφ(r, θ = π∕3) vs. r\n"
      ]
    },
    {
      "cell_type": "code",
      "execution_count": 36,
      "metadata": {
        "id": "TzzMoGdei9au",
        "cellView": "form"
      },
      "outputs": [],
      "source": [
        "# @title Definición de funciones\n",
        "def kk(a: float, r: float, tetha: np.ndarray) -> np.ndarray:\n",
        "\n",
        "  \"\"\"\n",
        "  La función calcula todos los valores de k^2 para θ en [0, π]\n",
        "\n",
        "  Args:\n",
        "    :constantes: Valores de las constantes dadas\n",
        "    :tetha: Vector de valores de θ\n",
        "\n",
        "  Returns:\n",
        "    Vector de valores de k^2\n",
        "  \"\"\"\n",
        "\n",
        "  return (4*a*r*np.sin(tetha)) / (a**2 + r**2 + 2*a*r*np.sin(tetha))\n",
        "\n",
        "\n",
        "def integrando_K(k_val: float) -> Callable[[float], float]:\n",
        "\n",
        "  \"\"\"\n",
        "  La función retorna una función tipo lambda para cada valor de k^2, lo que\n",
        "  permite evaluar la integral K(k) por algún método, como scipy.quad.\n",
        "\n",
        "  Args:\n",
        "    :k_val: Valor de k^2\n",
        "\n",
        "  Returns:\n",
        "    Función lambda en términos de phi.\n",
        "  \"\"\"\n",
        "\n",
        "  return lambda phi: 1 / ((1 - k_val * np.sin(phi)**2)**0.5)\n",
        "\n",
        "\n",
        "def integrando_E(k_val: float) -> Callable[[float], float]:\n",
        "\n",
        "  \"\"\"\n",
        "  La función retorna una función tipo lambda para cada valor de k^2, lo que\n",
        "  permite evaluar la integral K(k) por algún método, como scipy.quad.\n",
        "\n",
        "  Args:\n",
        "    :k_val: Valor de k^2\n",
        "\n",
        "  Returns:\n",
        "    Función lambda en función de phi.\n",
        "  \"\"\"\n",
        "\n",
        "  return lambda phi: (1 - k_val* np.sin(phi)**2)**0.5\n",
        "\n",
        "\n",
        "def K(k_val: float) -> float:\n",
        "\n",
        "  \"\"\"\n",
        "  La integral arroja el valor aproximadio de la integral K(k) por el método\n",
        "  scipy.quad, lo que permite obtener una buena precisión.\n",
        "\n",
        "  Args:\n",
        "    :k_val: Valor de k^2\n",
        "\n",
        "  Returns:\n",
        "    Valor de la integral K(k)\n",
        "  \"\"\"\n",
        "\n",
        "  return quad(integrando_K(k_val), 0, np.pi / 2)[0]\n",
        "\n",
        "\n",
        "def E(k_val: float) -> float:\n",
        "\n",
        "  \"\"\"\n",
        "  La integral arroja el valor aproximadio de la integral E(k) por el método\n",
        "  scipy.quad, lo que permite obtener una buena precisión.\n",
        "\n",
        "  Args:\n",
        "    :k_val: Valor de k^2\n",
        "\n",
        "  Returns:\n",
        "    Valor de la integral E(k)\n",
        "  \"\"\"\n",
        "\n",
        "  return quad(integrando_E(k_val), 0, np.pi / 2)[0]\n",
        "\n",
        "\n",
        "def A_phi(a: float, I: float, mu: float,\n",
        "          r:float, tetha:np.ndarray) -> np.ndarray:\n",
        "\n",
        "  \"\"\"\n",
        "  La función calcula A_phi(a, I, mu, r, k_val, θ) para los valores de las\n",
        "  constantes y los valores de θ dados.\n",
        "\n",
        "  Args:\n",
        "    :constantes: Valores de las constantes dadas\n",
        "    :tetha: Vector de valores de θ\n",
        "\n",
        "  Returns:\n",
        "    Vector de valores de A_phi(a, I, mu, r, k_val, θ)\n",
        "  \"\"\"\n",
        "  k_val = kk(1, 1.1, tetha)\n",
        "  ## Valor para cada una de las integrales de K(k) y E(k).\n",
        "  valores_K = np.zeros_like(tth)\n",
        "  valores_E = np.zeros_like(tth)\n",
        "\n",
        "  for i, k_val  in enumerate(kk(1, 1.1, tth)):\n",
        "    valores_K[i] = K(k_val)\n",
        "    valores_E[i] = E(k_val)\n",
        "\n",
        "\n",
        "  return (mu / (4*np.pi)) * (4*I*a) / \\\n",
        "   ((a**2 + r**2 + 2*a*r*np.sin(tetha))**0.5) * \\\n",
        "    (((2-k_val)*valores_K-2*valores_E) / k_val)\n",
        "\n"
      ]
    },
    {
      "cell_type": "code",
      "execution_count": 37,
      "metadata": {
        "id": "HqqaKymZfOxR",
        "colab": {
          "base_uri": "https://localhost:8080/",
          "height": 487
        },
        "outputId": "05cb0cb1-b722-4f8f-f419-6faf97409bad",
        "cellView": "form"
      },
      "outputs": [
        {
          "output_type": "display_data",
          "data": {
            "text/plain": [
              "<Figure size 640x480 with 1 Axes>"
            ],
            "image/png": "[encoded data removed]"
          },
          "metadata": {}
        }
      ],
      "source": [
        "# @title Gráfica de A_φ(1.1, θ) vs θ\n",
        "tth = np.linspace(0. , np.pi, 1000)\n",
        "\n",
        "plt.title('Gráfico A_φ(r, θ)')\n",
        "plt.plot(tth, A_phi(1, 3, 4*np.pi, 1.1, tth), label=r'$A_φ(r=1.1, θ)$')\n",
        "plt.xlabel('θ')\n",
        "plt.ylabel(r'$A_φ(r, θ)$')\n",
        "plt.legend()\n",
        "plt.grid()\n",
        "plt.tight_layout()\n",
        "plt.show()"
      ]
    },
    {
      "cell_type": "code",
      "execution_count": 38,
      "metadata": {
        "id": "FILw0iNLxUVK",
        "colab": {
          "base_uri": "https://localhost:8080/",
          "height": 487
        },
        "outputId": "d14694e5-87ca-4414-9068-3ebfdfc8e573",
        "cellView": "form"
      },
      "outputs": [
        {
          "output_type": "display_data",
          "data": {
            "text/plain": [
              "<Figure size 640x480 with 1 Axes>"
            ],
            "image/png": "[encoded data removed]"
          },
          "metadata": {}
        }
      ],
      "source": [
        "# @title Gráfica de A_φ(r, θ = π∕3) vs. r\n",
        "\n",
        "r = np.linspace(0, 10, 1000)\n",
        "\n",
        "plt.title('Gráfico A_φ(r, θ = π∕3)')\n",
        "plt.plot(r, A_phi(1, 3, 4*np.pi, r, np.pi/3), label=r'$A_φ(r, θ = π∕3)$')\n",
        "plt.xlabel(r'$r$')\n",
        "plt.ylabel(r'$A_φ(r, θ = π∕3)$')\n",
        "plt.legend()\n",
        "plt.grid()\n",
        "plt.tight_layout()\n",
        "plt.show()\n"
      ]
    }
  ],
  "metadata": {
    "colab": {
      "collapsed_sections": [
        "3RawcC23ZMQF"
      ],
      "provenance": []
    },
    "kernelspec": {
      "display_name": "Python 3",
      "name": "python3"
    },
    "language_info": {
      "name": "python"
    }
  },
  "nbformat": 4,
  "nbformat_minor": 0
}