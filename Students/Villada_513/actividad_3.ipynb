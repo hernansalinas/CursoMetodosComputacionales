{
  "cells": [
    {
      "cell_type": "code",
      "execution_count": null,
      "metadata": {
        "cellView": "form",
        "id": "rZuc8vXcWuxy"
      },
      "outputs": [],
      "source": [
        "#@title Librerias\n",
        "import numpy as np\n",
        "import matplotlib.pyplot as plt\n",
        "import pandas as pd"
      ]
    },
    {
      "cell_type": "markdown",
      "metadata": {
        "id": "MGwGfceuWxy3"
      },
      "source": [
        "# Actividad 03: Representación númerica\n",
        "\n",
        "---\n",
        "### Profesor: Juan Marcos Marín\n",
        "### Nombre: Isaac Villada Montoya\n",
        "*Métodos computacionales 2024-II*\n",
        "\n",
        "---"
      ]
    },
    {
      "cell_type": "markdown",
      "metadata": {
        "id": "jB6BqzoSamB0"
      },
      "source": [
        "**NOTA: No utilizar los métodos `bin` o `int`**"
      ]
    },
    {
      "cell_type": "markdown",
      "metadata": {
        "id": "BOi6yQmJW7os"
      },
      "source": [
        "1. Escriba una función que se llame `mybin` que reciba un número entero real de 16 bits y realice su conversión en código binario, compare su resultado con `bin(4321)`"
      ]
    },
    {
      "cell_type": "code",
      "execution_count": 9,
      "metadata": {
        "id": "xbt3ZmYiW6oF",
        "colab": {
          "base_uri": "https://localhost:8080/"
        },
        "outputId": "d6b146fc-62a1-4ae4-a99d-b0db778a971b"
      },
      "outputs": [
        {
          "output_type": "stream",
          "name": "stdout",
          "text": [
            "01000011100001\n",
            "0b1000011100001\n"
          ]
        }
      ],
      "source": [
        "import math\n",
        "\n",
        "def mybin(x) :\n",
        "\n",
        "  lista = []\n",
        "\n",
        "  if x < 0 :\n",
        "    lista.append(1)\n",
        "\n",
        "  else :\n",
        "    lista.append(0)\n",
        "\n",
        "  while x != 0 :\n",
        "\n",
        "    lista.append(abs(x % 2))\n",
        "    x = abs(math.floor(x/2))\n",
        "\n",
        "  lista[1:] = lista[1:][::-1]\n",
        "\n",
        "  return ''.join(map(str,lista))\n",
        "\n",
        "\n",
        "\n",
        "print(mybin(4321))\n",
        "print(bin(4321))"
      ]
    },
    {
      "cell_type": "markdown",
      "metadata": {
        "id": "5X_8-jpEXjSw"
      },
      "source": [
        "2. Cree una función llamada `myint` pero que a partir de un número binario con base de 16 bits encuentre el entero correspondiente. Compare su resultado con `int(0b1000011100001)`"
      ]
    },
    {
      "cell_type": "code",
      "execution_count": 2,
      "metadata": {
        "id": "VmS2TiF4XsbN",
        "colab": {
          "base_uri": "https://localhost:8080/"
        },
        "outputId": "1433b3ab-3d5c-42d2-ddab-be48fe7a98eb"
      },
      "outputs": [
        {
          "output_type": "stream",
          "name": "stdout",
          "text": [
            "4321\n",
            "4321\n"
          ]
        }
      ],
      "source": [
        "def myint(x) :\n",
        "\n",
        "  x = bin(x)\n",
        "  num = 0\n",
        "\n",
        "  if x[1] == '1' :\n",
        "\n",
        "    x = x[2:]\n",
        "\n",
        "    for i in range(len(x)) :\n",
        "\n",
        "      num += int(x[i]) * 2**i\n",
        "\n",
        "    num = (-1) * num\n",
        "\n",
        "  else :\n",
        "\n",
        "    x = x[2:]\n",
        "\n",
        "    for i in range(len(x)) :\n",
        "\n",
        "      num += int(x[i]) * 2**i\n",
        "\n",
        "  return num\n",
        "\n",
        "print(myint(0b1000011100001))\n",
        "print(int(0b1000011100001))"
      ]
    },
    {
      "cell_type": "markdown",
      "metadata": {
        "id": "pHQ8ftloYPO5"
      },
      "source": [
        "3. Generar una función llamada `number64` para flotantes de precisión doble (64bits) donde a partir de un número binario encuentre el valor real. Compruebe su solución usando\n",
        "\n",
        "```\n",
        "number64(\"0100000000111011100100001111111111111111111111111111111111111111\")\n",
        "```\n",
        "\n"
      ]
    },
    {
      "cell_type": "code",
      "execution_count": 22,
      "metadata": {
        "id": "8W4MIVKhZTsO",
        "colab": {
          "base_uri": "https://localhost:8080/"
        },
        "outputId": "6cc12342-a62c-43bd-d307-08aba563bd50"
      },
      "outputs": [
        {
          "output_type": "execute_result",
          "data": {
            "text/plain": [
              "27.566406249999996"
            ]
          },
          "metadata": {},
          "execution_count": 22
        }
      ],
      "source": [
        "def number64(x) :\n",
        "\n",
        "  x = list(x)\n",
        "  ex = 0\n",
        "  man = 0.0\n",
        "\n",
        "  if x[0] == '1' :\n",
        "\n",
        "    x = x[1:]\n",
        "\n",
        "    for i in range(11) :\n",
        "\n",
        "      ex += int(x[i]) * 2**(10 - i)\n",
        "\n",
        "      ex = ex - 1023\n",
        "\n",
        "    x = x[11:]\n",
        "\n",
        "    for i in range(52) :\n",
        "\n",
        "      man += int(x[i]) * 2**(-(i + 1))\n",
        "\n",
        "    man = man * (-1)\n",
        "\n",
        "  else :\n",
        "\n",
        "    x = x[1:]\n",
        "\n",
        "    for i in range(11) :\n",
        "\n",
        "      ex += int(x[i]) * 2**(10 - i)\n",
        "\n",
        "    ex = ex - 1023\n",
        "\n",
        "    x = x[11:]\n",
        "\n",
        "    for i in range(52) :\n",
        "\n",
        "      man += int(x[i]) * 2**(-(i + 1))\n",
        "\n",
        "\n",
        "\n",
        "  return (1 + man) * 2**ex\n",
        "\n",
        "number64('0100000000111011100100001111111111111111111111111111111111111111')\n"
      ]
    },
    {
      "cell_type": "markdown",
      "metadata": {
        "id": "xwyZCxWtZZoH"
      },
      "source": [
        "4. ***(Opcional)*** Escriba una función que convierta un número con base de 8 bits en hexadecimal, compruebe su respuesta con `hex` e imprimalo también en binario."
      ]
    },
    {
      "cell_type": "code",
      "execution_count": null,
      "metadata": {
        "id": "SpJuueSgbJ4I"
      },
      "outputs": [],
      "source": [
        "# Aqui va su código"
      ]
    }
  ],
  "metadata": {
    "colab": {
      "provenance": []
    },
    "kernelspec": {
      "display_name": "Python 3",
      "name": "python3"
    },
    "language_info": {
      "name": "python"
    }
  },
  "nbformat": 4,
  "nbformat_minor": 0
}