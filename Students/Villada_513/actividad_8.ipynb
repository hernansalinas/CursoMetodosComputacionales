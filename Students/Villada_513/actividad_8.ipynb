{
  "nbformat": 4,
  "nbformat_minor": 0,
  "metadata": {
    "colab": {
      "provenance": []
    },
    "kernelspec": {
      "name": "python3",
      "display_name": "Python 3"
    },
    "language_info": {
      "name": "python"
    }
  },
  "cells": [
    {
      "cell_type": "code",
      "execution_count": null,
      "metadata": {
        "id": "z7RCty67y3ME"
      },
      "outputs": [],
      "source": [
        "import numpy as np\n",
        "import matplotlib.pyplot as plt\n",
        "import scipy.linalg as la"
      ]
    },
    {
      "cell_type": "markdown",
      "source": [
        "# Actividad 08: Algebra Lineal y Matrices\n",
        "\n",
        "---\n",
        "### Profesor: Juan Marcos Marín\n",
        "### Nombre: Isaac Villada\n",
        "*Métodos computacionales 2024-II*\n",
        "\n",
        "---"
      ],
      "metadata": {
        "id": "GGQpGoujzAnQ"
      }
    },
    {
      "cell_type": "markdown",
      "source": [
        "#1\n",
        "\n",
        "Escriba una función que calcule el producto escalar y vectorial para dos vectores, compare sus resultados con `np.dot` y `np.cross`."
      ],
      "metadata": {
        "id": "szDD-eJhzKbw"
      }
    },
    {
      "cell_type": "code",
      "source": [
        "def producto_escalar(v1, v2):\n",
        "    return sum(a * b for a, b in zip(v1, v2))\n",
        "\n",
        "def producto_vectorial(v1, v2):\n",
        "    return [v1[1] * v2[2] - v1[2] * v2[1],\n",
        "            v1[2] * v2[0] - v1[0] * v2[2],\n",
        "            v1[0] * v2[1] - v1[1] * v2[0]]\n",
        "\n",
        "v1 = np.array([1, 2, 3])\n",
        "v2 = np.array([4, 5, 6])\n",
        "\n",
        "escalar_manual = producto_escalar(v1, v2)\n",
        "vectorial_manual = producto_vectorial(v1, v2)\n",
        "\n",
        "escalar_np = np.dot(v1, v2)\n",
        "vectorial_np = np.cross(v1, v2)\n",
        "\n",
        "print(\"Producto escalar manual:\", escalar_manual)\n",
        "print(\"Producto escalar con np.dot:\", escalar_np)\n",
        "print(\"Producto vectorial manual:\", vectorial_manual)\n",
        "print(\"Producto vectorial con np.cross:\", vectorial_np)\n"
      ],
      "metadata": {
        "id": "KlxyKMOIzBDZ",
        "colab": {
          "base_uri": "https://localhost:8080/"
        },
        "outputId": "a7e9c6dc-27d5-44b9-c3e7-be0c377fd5bb"
      },
      "execution_count": 2,
      "outputs": [
        {
          "output_type": "stream",
          "name": "stdout",
          "text": [
            "Producto escalar manual: 32\n",
            "Producto escalar con np.dot: 32\n",
            "Producto vectorial manual: [-3, 6, -3]\n",
            "Producto vectorial con np.cross: [-3  6 -3]\n"
          ]
        }
      ]
    },
    {
      "cell_type": "markdown",
      "source": [
        "#2\n",
        "\n",
        "Crear una función llamada `mulmat()` donde a partir de dos matrices $A$ y $B$ encuentre su multplicación. También realiza una función que calcule la transpuesta y otra el determinante de una matriz $3\\times 3$. Compare sus resultado con `@`, `np.dot`, `transpose` y `la.det`."
      ],
      "metadata": {
        "id": "Qch9PhTQ0Klk"
      }
    },
    {
      "cell_type": "code",
      "source": [
        "def mulmat(A, B):\n",
        "    filas_A, columnas_A = len(A), len(A[0])\n",
        "    filas_B, columnas_B = len(B), len(B[0])\n",
        "    if columnas_A != filas_B:\n",
        "        raise ValueError(\"El número de columnas de A debe ser igual al número de filas de B\")\n",
        "    resultado = [[sum(A[i][k] * B[k][j] for k in range(columnas_A)) for j in range(columnas_B)] for i in range(filas_A)]\n",
        "    return resultado\n",
        "\n",
        "def transpuesta(M):\n",
        "    return [[M[j][i] for j in range(len(M))] for i in range(len(M[0]))]\n",
        "\n",
        "def determinante_3x3(M):\n",
        "    if len(M) != 3 or len(M[0]) != 3:\n",
        "        raise ValueError(\"La matriz debe ser de 3x3\")\n",
        "    return (M[0][0] * (M[1][1] * M[2][2] - M[1][2] * M[2][1]) -\n",
        "            M[0][1] * (M[1][0] * M[2][2] - M[1][2] * M[2][0]) +\n",
        "            M[0][2] * (M[1][0] * M[2][1] - M[1][1] * M[2][0]))\n",
        "\n",
        "A = [[1, 2, 3], [4, 5, 6], [7, 8, 9]]\n",
        "B = [[9, 8, 7], [6, 5, 4], [3, 2, 1]]\n",
        "\n",
        "multiplicacion_manual = mulmat(A, B)\n",
        "multiplicacion_np = np.dot(A, B)\n",
        "\n",
        "transpuesta_manual = transpuesta(A)\n",
        "transpuesta_np = np.transpose(A)\n",
        "\n",
        "determinante_manual = determinante_3x3(A)\n",
        "determinante_np = np.linalg.det(A)\n",
        "\n",
        "print(\"Multiplicación manual:\", multiplicacion_manual)\n",
        "print(\"Multiplicación con np.dot:\", multiplicacion_np)\n",
        "\n",
        "print(\"Transpuesta manual:\", transpuesta_manual)\n",
        "print(\"Transpuesta con np.transpose:\", transpuesta_np)\n",
        "\n",
        "print(\"Determinante manual:\", determinante_manual)\n",
        "print(\"Determinante con np.linalg.det:\", determinante_np)\n"
      ],
      "metadata": {
        "id": "0xjXQbwn0VL5",
        "colab": {
          "base_uri": "https://localhost:8080/"
        },
        "outputId": "b9ce526a-be1f-4b43-b5f3-d808400143f2"
      },
      "execution_count": 3,
      "outputs": [
        {
          "output_type": "stream",
          "name": "stdout",
          "text": [
            "Multiplicación manual: [[30, 24, 18], [84, 69, 54], [138, 114, 90]]\n",
            "Multiplicación con np.dot: [[ 30  24  18]\n",
            " [ 84  69  54]\n",
            " [138 114  90]]\n",
            "Transpuesta manual: [[1, 4, 7], [2, 5, 8], [3, 6, 9]]\n",
            "Transpuesta con np.transpose: [[1 4 7]\n",
            " [2 5 8]\n",
            " [3 6 9]]\n",
            "Determinante manual: 0\n",
            "Determinante con np.linalg.det: 0.0\n"
          ]
        }
      ]
    },
    {
      "cell_type": "markdown",
      "source": [
        "#3\n",
        "Escriba tres matrices aleatorias $A$, $B$ y $C$ de $3\\times 3$, y demuestre las siguientes relaciones\n",
        "\n",
        "- $ \\mathbf{A}\\mathbf{B} \\neq \\mathbf{B}\\mathbf{A} $, en general.\n",
        "- $ (\\mathbf{A}\\mathbf{B})\\mathbf{C} = \\mathbf{A}(\\mathbf{B}\\mathbf{C}) $.\n",
        "- $ \\mathbf{A}(\\mathbf{B} + \\mathbf{C}) = \\mathbf{A}\\mathbf{B} + \\mathbf{A}\\mathbf{C} $.\n",
        "- $ (\\mathbf{A} + \\mathbf{B})\\mathbf{C} = \\mathbf{A}\\mathbf{C} + \\mathbf{B}\\mathbf{C} $.\n",
        "- $ (\\mathbf{A}\\mathbf{B})^\\top = \\mathbf{B}^\\top \\mathbf{A}^\\top $.\n",
        "- $ \\det(\\mathbf{A}\\mathbf{B}) = \\det(\\mathbf{A}) \\det(\\mathbf{B}) $.\n",
        "- $ (\\mathbf{A}^\\top)^\\top = \\mathbf{A} $.\n",
        "- $ (c\\mathbf{A})^\\top = c\\mathbf{A}^\\top $.\n",
        "- $ (\\mathbf{A} + \\mathbf{B})^\\top = \\mathbf{A}^\\top + \\mathbf{B}^\\top $.\n",
        "\n"
      ],
      "metadata": {
        "id": "U9hC1R-F0-iH"
      }
    },
    {
      "cell_type": "code",
      "source": [
        "A = np.random.randint(1, 10, (3, 3))\n",
        "B = np.random.randint(1, 10, (3, 3))\n",
        "C = np.random.randint(1, 10, (3, 3))\n",
        "c = np.random.randint(1, 10)\n",
        "\n",
        "print(\"A:\\n\", A)\n",
        "print(\"B:\\n\", B)\n",
        "print(\"C:\\n\", C)\n",
        "print(\"Escalar c:\", c)\n",
        "\n",
        "print(\"AB ≠ BA:\", np.all(A @ B != B @ A))\n",
        "print(\"(AB)C = A(BC):\", np.all((A @ B) @ C == A @ (B @ C)))\n",
        "print(\"A(B + C) = AB + AC:\", np.all(A @ (B + C) == A @ B + A @ C))\n",
        "print(\"(A + B)C = AC + BC:\", np.all((A + B) @ C == A @ C + B @ C))\n",
        "print(\"(AB)^T = B^T A^T:\", np.all((A @ B).T == B.T @ A.T))\n",
        "print(\"det(AB) = det(A) det(B):\", np.isclose(np.linalg.det(A @ B), np.linalg.det(A) * np.linalg.det(B)))\n",
        "print(\"(A^T)^T = A:\", np.all(A.T.T == A))\n",
        "print(\"(cA)^T = cA^T:\", np.all((c * A).T == c * A.T))\n",
        "print(\"(A + B)^T = A^T + B^T:\", np.all((A + B).T == A.T + B.T))\n"
      ],
      "metadata": {
        "id": "cQQ6cPGW1anK",
        "colab": {
          "base_uri": "https://localhost:8080/"
        },
        "outputId": "f81d27be-1e0a-4584-f536-65ef75c0a9ad"
      },
      "execution_count": 4,
      "outputs": [
        {
          "output_type": "stream",
          "name": "stdout",
          "text": [
            "A:\n",
            " [[2 4 2]\n",
            " [6 5 7]\n",
            " [5 2 9]]\n",
            "B:\n",
            " [[5 2 4]\n",
            " [9 2 4]\n",
            " [2 9 2]]\n",
            "C:\n",
            " [[7 6 6]\n",
            " [5 5 5]\n",
            " [3 5 7]]\n",
            "Escalar c: 6\n",
            "AB ≠ BA: True\n",
            "(AB)C = A(BC): True\n",
            "A(B + C) = AB + AC: True\n",
            "(A + B)C = AC + BC: True\n",
            "(AB)^T = B^T A^T: True\n",
            "det(AB) = det(A) det(B): True\n",
            "(A^T)^T = A: True\n",
            "(cA)^T = cA^T: True\n",
            "(A + B)^T = A^T + B^T: True\n"
          ]
        }
      ]
    },
    {
      "cell_type": "markdown",
      "source": [
        "#4\n",
        "\n",
        "El **Teorema de Laplace** es un método para calcular el determinante de una matriz cuadrada, particularmente útil para matrices de orden mayor a 2. Este teorema se basa en la expansión del determinante por los elementos de una fila o una columna cualquiera.\n",
        "\n",
        "\n",
        "\n",
        "$$\n",
        "\\det(A) = \\sum_{j=1}^n (-1)^{1+j} a_{1j} M_{1j}\n",
        "$$\n",
        "\n",
        "donde:\n",
        "- $a_{1j}$ es el elemento de la primera fila y columna $j$.\n",
        "- $M_{1j}$ es el menor asociado al elemento $a_{1j}$, es decir, el determinante de la submatriz de $3 \\times 3$ que se obtiene al eliminar la fila 1 y la columna $j$.\n",
        "- $(-1)^{1+j}$ es el signo correspondiente al cofactor del elemento $a_{1j}$.\n",
        "\n",
        "Podemos realizar una función recursiva para el cálculo del determinante, sabiendo que el valor del determinante de una matriz de orden uno es el único elemento de esa matriz, y el de una matriz de orden superior a uno es la suma de cada uno de los elementos de una fila o columna por los Adjuntos a ese elemento, como en la función recursiva se emplea la misma función definida el cálculo lo haremos por Menor complementario, un ejemplo desarrollado por la primera fila sería:\n",
        "\n",
        "$$\n",
        "   \\det (A_{j,j}) =\n",
        "   \\left \\{\n",
        "   \\begin{array}{llcl}\n",
        "      si & j = 1 & \\to & a_{1,1} \\\\\n",
        "                                 \\\\\n",
        "      si & j > 1 & \\to & \\displaystyle \\sum_{k=1}^j \\; (-1)^{(1+k)} \\cdot a_{1,k} \\cdot \\det( \\alpha_{1,k})\n",
        "   \\end{array}\n",
        "   \\right .\n",
        "$$\n",
        "\n",
        "Realice una función que encuentre el determinante de una matriz usando la recursividad aqui planteada, explique explicitamente su código"
      ],
      "metadata": {
        "id": "ibYf2I9T2pIw"
      }
    },
    {
      "cell_type": "code",
      "source": [
        "def determinante_laplace(A):\n",
        "    if len(A) == 1:\n",
        "        return A[0, 0]\n",
        "\n",
        "    det = 0\n",
        "    for j in range(A.shape[1]):\n",
        "        menor = np.delete(np.delete(A, 0, axis=0), j, axis=1)\n",
        "        det += ((-1) ** j) * A[0, j] * determinante_laplace(menor)\n",
        "\n",
        "    return det\n",
        "\n",
        "A = np.random.randint(1, 10, (3, 3))\n",
        "print(\"Matriz A:\\n\", A)\n",
        "print(\"Determinante calculado con Laplace:\", determinante_laplace(A))\n",
        "print(\"Determinante con numpy.linalg.det:\", np.linalg.det(A))\n"
      ],
      "metadata": {
        "id": "-8tYERLHtrtY",
        "colab": {
          "base_uri": "https://localhost:8080/"
        },
        "outputId": "45a27973-1bfb-4efe-a8e5-6ac8c7d9bf3e"
      },
      "execution_count": 6,
      "outputs": [
        {
          "output_type": "stream",
          "name": "stdout",
          "text": [
            "Matriz A:\n",
            " [[6 7 5]\n",
            " [1 8 2]\n",
            " [6 4 7]]\n",
            "Determinante calculado con Laplace: 103\n",
            "Determinante con numpy.linalg.det: 103.00000000000001\n"
          ]
        }
      ]
    },
    {
      "cell_type": "markdown",
      "source": [
        "#5\n",
        "\n",
        "El método de Jacobi reescribe el sistema $ Ax = b $ descomponiendo la matriz $ A $ como:\n",
        "\n",
        "$$\n",
        "A = D + L + U,\n",
        "$$\n",
        "\n",
        "donde:\n",
        "- $ D $: Matriz diagonal de $ A $,\n",
        "- $ L $: Matriz triangular inferior sin la diagonal,\n",
        "- $ U $: Matriz triangular superior sin la diagonal.\n",
        "\n",
        "El sistema se reorganiza como:\n",
        "\n",
        "$$\n",
        "x = D^{-1}(b - (L + U)x).\n",
        "$$\n",
        "\n",
        "Esto se implementa iterativamente como:\n",
        "\n",
        "$$\n",
        "x_i^{(k+1)} = \\frac{1}{a_{ii}} \\left(b_i - \\sum_{j \\neq i} a_{ij} x_j^{(k)}\\right),\n",
        "$$\n",
        "\n",
        "donde $ a_{ii} $ son los elementos diagonales de $ A $.\n",
        "\n",
        "* Escriba una función explicita que realice de manera iterativa este método con una tol = 1e-7 y un máximo de 100 iteraciones. Defina una documentación clara que explique los métodos usados, lasa entradas y salidas.\n",
        "\n",
        "* Para una matriz aleatoria 5$\\times$ 5, encuentre la solución usando su función y determine el error con respecto a `solve` y el método de inversa de matriz."
      ],
      "metadata": {
        "id": "9OcE-1QhSrI9"
      }
    },
    {
      "cell_type": "code",
      "source": [
        "def jacobi(A, b, tol=1e-7, max_iter=100):\n",
        "    x = np.zeros_like(b, dtype=np.float64)\n",
        "    D = np.diag(A)\n",
        "    R = A - np.diagflat(D)\n",
        "\n",
        "    for _ in range(max_iter):\n",
        "        x_new = (b - np.dot(R, x)) / D\n",
        "        if np.linalg.norm(x_new - x, ord=np.inf) < tol:\n",
        "            return x_new\n",
        "        x = x_new\n",
        "\n",
        "    return x\n",
        "\n",
        "A = np.random.randint(1, 10, (5, 5))\n",
        "b = np.random.randint(1, 10, 5)\n",
        "\n",
        "x_jacobi = jacobi(A, b)\n",
        "x_solve = np.linalg.solve(A, b)\n",
        "x_inv = np.dot(np.linalg.inv(A), b)\n",
        "\n",
        "error_solve = np.linalg.norm(x_jacobi - x_solve)\n",
        "error_inv = np.linalg.norm(x_jacobi - x_inv)\n",
        "\n",
        "print(\"Solución por Jacobi:\", x_jacobi)\n",
        "print(\"Solución por solve:\", x_solve)\n",
        "print(\"Solución por inversa:\", x_inv)\n",
        "print(\"Error respecto a solve:\", error_solve)\n",
        "print(\"Error respecto a inversa:\", error_inv)\n"
      ],
      "metadata": {
        "id": "PQqefGzMT3ks",
        "colab": {
          "base_uri": "https://localhost:8080/"
        },
        "outputId": "ca00742f-defe-42b5-d1c6-6bc2fc2f66e5"
      },
      "execution_count": 7,
      "outputs": [
        {
          "output_type": "stream",
          "name": "stdout",
          "text": [
            "Solución por Jacobi: [-1.25481032e+72 -4.76015573e+71 -7.41719604e+71 -5.92351409e+71\n",
            " -1.43383935e+72]\n",
            "Solución por solve: [-0.421875  1.3125   -0.421875 -0.171875  0.484375]\n",
            "Solución por inversa: [-0.421875  1.3125   -0.421875 -0.171875  0.484375]\n",
            "Error respecto a solve: 2.1812985177850927e+72\n",
            "Error respecto a inversa: 2.1812985177850927e+72\n"
          ]
        }
      ]
    },
    {
      "cell_type": "markdown",
      "source": [
        "#6\n",
        "\n",
        "Verifique que cualquier matriz hermitiana de 2 × 2 $ L $ puede escribirse como una suma de cuatro términos:\n",
        "\n",
        "$$ L = a\\sigma_x + b\\sigma_y + c\\sigma_z + dI $$\n",
        "\n",
        "donde $ a $, $ b $, $ c $ y $ d $ son números reales.\n",
        "\n",
        "Las cuatro matrices de Pauli son:\n",
        "\n",
        "$$ \\sigma_x = \\begin{pmatrix} 0 & 1 \\\\ 1 & 0 \\end{pmatrix}, \\quad \\sigma_y = \\begin{pmatrix} 0 & -i \\\\ i & 0 \\end{pmatrix}, \\quad \\sigma_z = \\begin{pmatrix} 1 & 0 \\\\ 0 & -1 \\end{pmatrix}, \\quad I = \\begin{pmatrix} 1 & 0 \\\\ 0 & 1 \\end{pmatrix} $$\n",
        "\n",
        "\n"
      ],
      "metadata": {
        "id": "iggu2jNwVpnK"
      }
    },
    {
      "cell_type": "code",
      "source": [
        "sigma_x = np.array([[0, 1], [1, 0]])\n",
        "sigma_y = np.array([[0, -1j], [1j, 0]])\n",
        "sigma_z = np.array([[1, 0], [0, -1]])\n",
        "I = np.array([[1, 0], [0, 1]])\n",
        "\n",
        "a, b, c, d = np.random.randn(4)\n",
        "\n",
        "L = a * sigma_x + b * sigma_y + c * sigma_z + d * I\n",
        "\n",
        "es_hermitiana = np.allclose(L, L.conj().T)\n",
        "\n",
        "print(\"Matriz L:\\n\", L)\n",
        "print(\"¿Es hermitiana?\", es_hermitiana)"
      ],
      "metadata": {
        "id": "8WN9_cOCV7cM",
        "colab": {
          "base_uri": "https://localhost:8080/"
        },
        "outputId": "a211b41a-aa0d-40e3-d52c-f1ca58358bc2"
      },
      "execution_count": 8,
      "outputs": [
        {
          "output_type": "stream",
          "name": "stdout",
          "text": [
            "Matriz L:\n",
            " [[ 1.6338985 +0.j        -1.3491518 +0.1198744j]\n",
            " [-1.3491518 -0.1198744j -0.21611074+0.j       ]]\n",
            "¿Es hermitiana? True\n"
          ]
        }
      ]
    }
  ]
}