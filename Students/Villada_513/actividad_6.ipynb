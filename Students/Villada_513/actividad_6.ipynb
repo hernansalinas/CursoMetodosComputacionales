{
  "cells": [
    {
      "cell_type": "code",
      "execution_count": 1,
      "metadata": {
        "id": "rZuc8vXcWuxy"
      },
      "outputs": [],
      "source": [
        "#@title Librerias\n",
        "from scipy.interpolate import lagrange\n",
        "import math\n",
        "import numpy as np\n",
        "import matplotlib.pyplot as plt\n",
        "import pandas as pd\n",
        "import sympy as sp"
      ]
    },
    {
      "cell_type": "code",
      "source": [],
      "metadata": {
        "id": "AsTPD0Fmo8WR"
      },
      "execution_count": null,
      "outputs": []
    },
    {
      "cell_type": "markdown",
      "metadata": {
        "id": "MGwGfceuWxy3"
      },
      "source": [
        "# Actividad 06: Diferenciación númerica\n",
        "\n",
        "---\n",
        "### Profesor: Juan Marcos Marín\n",
        "### Nombre: Isaac Villada\n",
        "*Métodos computacionales 2024-II*\n",
        "\n",
        "---"
      ]
    },
    {
      "cell_type": "markdown",
      "source": [
        "### **Funciones diferencias finitas, dervidada de 5 puntos, derivada a 3 puntos**"
      ],
      "metadata": {
        "id": "nl5CFU7TsVuW"
      }
    },
    {
      "cell_type": "code",
      "source": [
        "def five_point_derivative(x, y, h = 0.5):\n",
        "\n",
        "\n",
        "  diff = []\n",
        "  for i in range(len(x)):\n",
        "\n",
        "    if i == 0 and len(x) != 1:\n",
        "      dx = (-25*y(x[i]) + 48*y(x[i] + h)-36*y(x[i] + 2*h)+16*y(x[i] + 3*h) - 3*y(x[i] + 4*h))/(12*h)\n",
        "\n",
        "    if (i != 0 and i != len(x)) or len(x) == 1:\n",
        "      dx = (y(x[i] - 2*h)- 8*y(x[i] - h) + 8*y(x[i] + h) - y(x[i]+ 2*h))/(12*h)\n",
        "\n",
        "    if i == len(x)-1 and i != 0:\n",
        "      dx = (25*y(x[i]) - 48*y(x[i] - h) + 36*y(x[i] - 2*h) - 16*y(x[i] - 3*h) + 3*y(x[i] - 4*h))/(12*h)\n",
        "\n",
        "    diff.append(dx)\n",
        "\n",
        "\n",
        "\n",
        "  return diff\n",
        "\n",
        "def three_point_derivative(x, y, h = 0.5):\n",
        "\n",
        "  diff = []\n",
        "\n",
        "  for i in range(len(x)):\n",
        "\n",
        "    if i == 0 and len(x) != 1:\n",
        "      dx = (-3*y(x[i]) + 4*y(x[i] + h) - y(x[i] + 2*h))/(2*h)\n",
        "\n",
        "    if (i != 0 and i != len(x)) or len(x) == 1:\n",
        "      dx = (y(x[i] + h) - y(x[i] - h))/(2*h)\n",
        "\n",
        "    if i == len(x)-1 and i != 0:\n",
        "      dx = (3*y(x[i]) - 4*y(x[i] - h) + y(x[i] - 2*h))/(2*h)\n",
        "\n",
        "    diff.append(dx)\n",
        "\n",
        "\n",
        "  return diff\n",
        "\n",
        "\n",
        "\n",
        "def finite_diff(x, y, h = 0.5):\n",
        "\n",
        "\n",
        "  diff = []\n",
        "  for i in range(len(x)):\n",
        "\n",
        "    if i == 0 and len(x) != 1:\n",
        "      dx = (- y(x[i]) + y(x[i] + h))/(h)\n",
        "\n",
        "    if (i != 0 and i != len(x)) or len(x) == 1:\n",
        "      dx = (y(x[i] + h) - y(x[i] - h))/(2*h)\n",
        "\n",
        "    if i == len(x)-1 and i != 0:\n",
        "      dx = (y(x[i]) - y(x[i] - h))/(h)\n",
        "\n",
        "    diff.append(dx)\n",
        "\n",
        "\n",
        "  return diff\n"
      ],
      "metadata": {
        "id": "nxOApxKHsT4o"
      },
      "execution_count": 2,
      "outputs": []
    },
    {
      "cell_type": "markdown",
      "metadata": {
        "id": "E8ME9Aa7TbKA"
      },
      "source": [
        "# 1.\n",
        "Implementar el método de la derivada de cinco puntos a través de una función llamada `five_point_derivative`. Luego,\n",
        "* Calcule el valor para $f(x) = \\cos(x)$ utilizando un arreglo con 10 datos $[0\\leq x\\leq 2\\pi]$ y evalue $f'(\\pi/8)$ con $h = 0.05$.\n",
        "* Encuentre el error de su aproximación. ¿Mejorará con un $h$ menor o mayor?\n",
        "\n"
      ]
    },
    {
      "cell_type": "code",
      "source": [
        "def centrada5(f, h):\n",
        "  g = lambda x: (y(x - 2*h)- 8*y(x - h) + 8*y(x + h) - y(x + 2*h))/(12*h)\n",
        "  return g\n",
        "\n",
        "def forward_diff5(f, h):\n",
        "  g = lambda x: (-25*y(x) + 48*y(x + h)-36*y(x + 2*h) + 16*y(x + 3*h) - 3*y(x + 4*h))/(12*h)\n",
        "  return g\n",
        "\n",
        "def backward_diff5(f, h):\n",
        "  g = lambda x: (25*y(x) - 48*y(x - h) + 36*y(x - 2*h) - 16*y(x - 3*h) + 3*y(x - 4*h))/(12*h)\n",
        "  return g"
      ],
      "metadata": {
        "id": "kXyysYLBkn0C"
      },
      "execution_count": 3,
      "outputs": []
    },
    {
      "cell_type": "code",
      "execution_count": 9,
      "metadata": {
        "colab": {
          "base_uri": "https://localhost:8080/",
          "height": 534
        },
        "id": "vyTohkly7IW_",
        "outputId": "91ec22c3-cf44-4273-d50a-fba1b7f4c917"
      },
      "outputs": [
        {
          "output_type": "stream",
          "name": "stdout",
          "text": [
            "{0.0007738721282938843}\n",
            "En la gráfica vemos que el error disminuyee conforme\n",
            "h es menor pero en los valores de h mas pequeños\n",
            "el error comienza a crecer de nuevo de acuerdo a las gráficas propuestas\n"
          ]
        },
        {
          "output_type": "display_data",
          "data": {
            "text/plain": [
              "<Figure size 640x480 with 2 Axes>"
            ],
            "image/png": "[encoded data removed]"
          },
          "metadata": {}
        }
      ],
      "source": [
        "y = lambda x: np.cos(x)\n",
        "\n",
        "d_prima = five_point_derivative([np.pi/8], y, 0.5)\n",
        "\n",
        "print( {abs(d_prima[0] - (-np.sin(np.pi/8)))})\n",
        "\n",
        "\n",
        "hl = []\n",
        "err = []\n",
        "for i in range(20,3000):\n",
        "  h = 1/i\n",
        "  s = five_point_derivative([np.pi/8], y, h)\n",
        "  error = abs(s[0] - (-np.sin(np.pi/8)))\n",
        "  hl.append(h)\n",
        "  err.append(error)\n",
        "\n",
        "\n",
        "fig, ax = plt.subplots(2)\n",
        "\n",
        "ax[0].plot(hl, err, 'bo', label = 'error aproximación')\n",
        "ax[0].set_xlabel('h')\n",
        "ax[0].set_ylabel('$error$')\n",
        "ax[0].grid()\n",
        "ax[0].legend()\n",
        "\n",
        "\n",
        "ax[1].plot(hl[500:], err[500:], 'bo', label = 'error aproximación')\n",
        "ax[1].set_xlabel('h')\n",
        "ax[1].set_ylabel('$error$')\n",
        "ax[1].grid()\n",
        "ax[1].legend()\n",
        "\n",
        "print(\"\"\"En la gráfica vemos que el error disminuyee conforme\n",
        "h es menor pero en los valores de h mas pequeños\n",
        "el error comienza a crecer de nuevo de acuerdo a las gráficas propuestas\"\"\")\n",
        "\n"
      ]
    },
    {
      "cell_type": "markdown",
      "metadata": {
        "id": "Dx40CzPL-V8i"
      },
      "source": [
        "#2.\n",
        "Considere la función:\n",
        "\n",
        "$$f(x) = x e^x$$\n",
        "\n",
        "Encuentre la derivada númerica $f'(x)$ y $f''(x)$ para $x = 2.0$ usando diferencias finitas. Considere un arreglo con 6 puntos $[1.8\\leq x\\leq 2.2]$.\n",
        "\n",
        "*   Cambie los valores de $h$ desde 0.01 hasta 0.1 (tomando 10 diferentes) y compare su resultado con el dado por `sympy` y `numpy.gradient`\n",
        "*   ¿Cuál será el valor óptimo de $h$?"
      ]
    },
    {
      "cell_type": "code",
      "execution_count": 5,
      "metadata": {
        "id": "a2ZJlGT58g3Z",
        "colab": {
          "base_uri": "https://localhost:8080/"
        },
        "outputId": "90088ff3-4d76-4049-a7c3-c497a8c7e348"
      },
      "outputs": [
        {
          "output_type": "stream",
          "name": "stdout",
          "text": [
            "Como primera aproximacion y h = 10e-5:\n",
            "f(2.0) = 14.7781\n",
            "f'(2.0) = 22.1672\n",
            "f''(2.0) = 29.556\n",
            "      \n",
            "Con np.gradient:\n",
            "f(2.0) = 14.7781\n",
            "f'(2.0) = 22.1996\n",
            "f''(2.0) = 30.7733\n",
            "      \n"
          ]
        }
      ],
      "source": [
        "x = np.linspace(1.8, 2.2, 6)\n",
        "\n",
        "f = lambda s : s*np.exp(s)\n",
        "f_prim = lambda s: (s+1)*np.exp(s)\n",
        "\n",
        "df = finite_diff(x, f, 10e-5)\n",
        "\n",
        "\n",
        "lag_df = lagrange(x, df)\n",
        "\n",
        "\n",
        "\n",
        "d2f = finite_diff(x, lag_df, 10e-5)\n",
        "lag_d2f = lagrange(x, d2f)\n",
        "\n",
        "print(f\"\"\"Como primera aproximacion y h = 10e-5:\n",
        "f(2.0) = {round(f(2.0), 4)}\n",
        "f'(2.0) = {round(lag_df(2.0), 4)}\n",
        "f''(2.0) = {round(lag_d2f(2.0), 4)}\n",
        "      \"\"\")\n",
        "\n",
        "\n",
        "\n",
        "d_np = np.gradient(f(x), x)\n",
        "pol_dnp = lagrange(x, d_np)\n",
        "\n",
        "d_2np = np.gradient(d_np, x)\n",
        "pol_d2np = lagrange(x, d_2np)\n",
        "\n",
        "vdnp = pol_dnp(2.0)\n",
        "\n",
        "vd2np = pol_d2np(2.0)\n",
        "\n",
        "\n",
        "h = np.linspace(0.01, 0.1, 10)\n",
        "ed_f = []\n",
        "ed_2f = []\n",
        "for i in h:\n",
        "  dfh = finite_diff(x, f, i)\n",
        "  lag_hdf = lagrange(x, dfh)\n",
        "\n",
        "\n",
        "  d2fh = finite_diff(x, lag_hdf, i)\n",
        "  lag_d2fh = lagrange(x, d2fh)\n",
        "\n",
        "  v = lag_hdf(2.0)\n",
        "  v2 = lag_d2fh(2.0)\n",
        "\n",
        "  errord = abs(v - vdnp)\n",
        "  errord2 = abs(v2 - vd2np)\n",
        "\n",
        "  ed_f.append(errord)\n",
        "  ed_2f.append(errord2)\n",
        "\n",
        "print(f\"\"\"Con np.gradient:\n",
        "f(2.0) = {round(f(2.0), 4)}\n",
        "f'(2.0) = {round(vdnp, 4)}\n",
        "f''(2.0) = {round(vd2np, 4)}\n",
        "      \"\"\")"
      ]
    },
    {
      "cell_type": "code",
      "source": [
        "fig, ax = plt.subplots(2)\n",
        "\n",
        "ax[0].plot(h, ed_f, 'go', label = \"error en $f'(2.0)$\")\n",
        "ax[0].set_title(\"$f'(2.0, h) - np.gradient$\")\n",
        "ax[0].set_xlabel('h')\n",
        "ax[0].set_ylabel('$error$')\n",
        "ax[0].grid()\n",
        "ax[0].legend()\n",
        "\n",
        "\n",
        "ax[1].plot(h, ed_2f, 'go', label = \"error en $f''(2.0)$\")\n",
        "ax[1].set_title(\"$f''(2.0, h) - np.gradient$\")\n",
        "ax[1].set_xlabel('h')\n",
        "ax[1].set_ylabel('$error$ ')\n",
        "ax[1].grid()\n",
        "ax[1].legend()"
      ],
      "metadata": {
        "colab": {
          "base_uri": "https://localhost:8080/",
          "height": 774
        },
        "id": "wAZO7WtZ2Fpj",
        "outputId": "2de4bd89-0cd7-4928-d3b6-d4432f1b8957"
      },
      "execution_count": 10,
      "outputs": [
        {
          "output_type": "error",
          "ename": "ValueError",
          "evalue": "x and y must have same first dimension, but have shapes (1,) and (10,)",
          "traceback": [
            "\u001b[0;31m---------------------------------------------------------------------------\u001b[0m",
            "\u001b[0;31mValueError\u001b[0m                                Traceback (most recent call last)",
            "\u001b[0;32m<ipython-input-10-c445a9c50d58>\u001b[0m in \u001b[0;36m<cell line: 0>\u001b[0;34m()\u001b[0m\n\u001b[1;32m      1\u001b[0m \u001b[0mfig\u001b[0m\u001b[0;34m,\u001b[0m \u001b[0max\u001b[0m \u001b[0;34m=\u001b[0m \u001b[0mplt\u001b[0m\u001b[0;34m.\u001b[0m\u001b[0msubplots\u001b[0m\u001b[0;34m(\u001b[0m\u001b[0;36m2\u001b[0m\u001b[0;34m)\u001b[0m\u001b[0;34m\u001b[0m\u001b[0;34m\u001b[0m\u001b[0m\n\u001b[1;32m      2\u001b[0m \u001b[0;34m\u001b[0m\u001b[0m\n\u001b[0;32m----> 3\u001b[0;31m \u001b[0max\u001b[0m\u001b[0;34m[\u001b[0m\u001b[0;36m0\u001b[0m\u001b[0;34m]\u001b[0m\u001b[0;34m.\u001b[0m\u001b[0mplot\u001b[0m\u001b[0;34m(\u001b[0m\u001b[0mh\u001b[0m\u001b[0;34m,\u001b[0m \u001b[0med_f\u001b[0m\u001b[0;34m,\u001b[0m \u001b[0;34m'go'\u001b[0m\u001b[0;34m,\u001b[0m \u001b[0mlabel\u001b[0m \u001b[0;34m=\u001b[0m \u001b[0;34m\"error en $f'(2.0)$\"\u001b[0m\u001b[0;34m)\u001b[0m\u001b[0;34m\u001b[0m\u001b[0;34m\u001b[0m\u001b[0m\n\u001b[0m\u001b[1;32m      4\u001b[0m \u001b[0max\u001b[0m\u001b[0;34m[\u001b[0m\u001b[0;36m0\u001b[0m\u001b[0;34m]\u001b[0m\u001b[0;34m.\u001b[0m\u001b[0mset_title\u001b[0m\u001b[0;34m(\u001b[0m\u001b[0;34m\"$f'(2.0, h) - np.gradient$\"\u001b[0m\u001b[0;34m)\u001b[0m\u001b[0;34m\u001b[0m\u001b[0;34m\u001b[0m\u001b[0m\n\u001b[1;32m      5\u001b[0m \u001b[0max\u001b[0m\u001b[0;34m[\u001b[0m\u001b[0;36m0\u001b[0m\u001b[0;34m]\u001b[0m\u001b[0;34m.\u001b[0m\u001b[0mset_xlabel\u001b[0m\u001b[0;34m(\u001b[0m\u001b[0;34m'h'\u001b[0m\u001b[0;34m)\u001b[0m\u001b[0;34m\u001b[0m\u001b[0;34m\u001b[0m\u001b[0m\n",
            "\u001b[0;32m/usr/local/lib/python3.11/dist-packages/matplotlib/axes/_axes.py\u001b[0m in \u001b[0;36mplot\u001b[0;34m(self, scalex, scaley, data, *args, **kwargs)\u001b[0m\n\u001b[1;32m   1775\u001b[0m         \"\"\"\n\u001b[1;32m   1776\u001b[0m         \u001b[0mkwargs\u001b[0m \u001b[0;34m=\u001b[0m \u001b[0mcbook\u001b[0m\u001b[0;34m.\u001b[0m\u001b[0mnormalize_kwargs\u001b[0m\u001b[0;34m(\u001b[0m\u001b[0mkwargs\u001b[0m\u001b[0;34m,\u001b[0m \u001b[0mmlines\u001b[0m\u001b[0;34m.\u001b[0m\u001b[0mLine2D\u001b[0m\u001b[0;34m)\u001b[0m\u001b[0;34m\u001b[0m\u001b[0;34m\u001b[0m\u001b[0m\n\u001b[0;32m-> 1777\u001b[0;31m         \u001b[0mlines\u001b[0m \u001b[0;34m=\u001b[0m \u001b[0;34m[\u001b[0m\u001b[0;34m*\u001b[0m\u001b[0mself\u001b[0m\u001b[0;34m.\u001b[0m\u001b[0m_get_lines\u001b[0m\u001b[0;34m(\u001b[0m\u001b[0mself\u001b[0m\u001b[0;34m,\u001b[0m \u001b[0;34m*\u001b[0m\u001b[0margs\u001b[0m\u001b[0;34m,\u001b[0m \u001b[0mdata\u001b[0m\u001b[0;34m=\u001b[0m\u001b[0mdata\u001b[0m\u001b[0;34m,\u001b[0m \u001b[0;34m**\u001b[0m\u001b[0mkwargs\u001b[0m\u001b[0;34m)\u001b[0m\u001b[0;34m]\u001b[0m\u001b[0;34m\u001b[0m\u001b[0;34m\u001b[0m\u001b[0m\n\u001b[0m\u001b[1;32m   1778\u001b[0m         \u001b[0;32mfor\u001b[0m \u001b[0mline\u001b[0m \u001b[0;32min\u001b[0m \u001b[0mlines\u001b[0m\u001b[0;34m:\u001b[0m\u001b[0;34m\u001b[0m\u001b[0;34m\u001b[0m\u001b[0m\n\u001b[1;32m   1779\u001b[0m             \u001b[0mself\u001b[0m\u001b[0;34m.\u001b[0m\u001b[0madd_line\u001b[0m\u001b[0;34m(\u001b[0m\u001b[0mline\u001b[0m\u001b[0;34m)\u001b[0m\u001b[0;34m\u001b[0m\u001b[0;34m\u001b[0m\u001b[0m\n",
            "\u001b[0;32m/usr/local/lib/python3.11/dist-packages/matplotlib/axes/_base.py\u001b[0m in \u001b[0;36m__call__\u001b[0;34m(self, axes, data, return_kwargs, *args, **kwargs)\u001b[0m\n\u001b[1;32m    295\u001b[0m                 \u001b[0mthis\u001b[0m \u001b[0;34m+=\u001b[0m \u001b[0margs\u001b[0m\u001b[0;34m[\u001b[0m\u001b[0;36m0\u001b[0m\u001b[0;34m]\u001b[0m\u001b[0;34m,\u001b[0m\u001b[0;34m\u001b[0m\u001b[0;34m\u001b[0m\u001b[0m\n\u001b[1;32m    296\u001b[0m                 \u001b[0margs\u001b[0m \u001b[0;34m=\u001b[0m \u001b[0margs\u001b[0m\u001b[0;34m[\u001b[0m\u001b[0;36m1\u001b[0m\u001b[0;34m:\u001b[0m\u001b[0;34m]\u001b[0m\u001b[0;34m\u001b[0m\u001b[0;34m\u001b[0m\u001b[0m\n\u001b[0;32m--> 297\u001b[0;31m             yield from self._plot_args(\n\u001b[0m\u001b[1;32m    298\u001b[0m                 \u001b[0maxes\u001b[0m\u001b[0;34m,\u001b[0m \u001b[0mthis\u001b[0m\u001b[0;34m,\u001b[0m \u001b[0mkwargs\u001b[0m\u001b[0;34m,\u001b[0m \u001b[0mambiguous_fmt_datakey\u001b[0m\u001b[0;34m=\u001b[0m\u001b[0mambiguous_fmt_datakey\u001b[0m\u001b[0;34m,\u001b[0m\u001b[0;34m\u001b[0m\u001b[0;34m\u001b[0m\u001b[0m\n\u001b[1;32m    299\u001b[0m                 \u001b[0mreturn_kwargs\u001b[0m\u001b[0;34m=\u001b[0m\u001b[0mreturn_kwargs\u001b[0m\u001b[0;34m\u001b[0m\u001b[0;34m\u001b[0m\u001b[0m\n",
            "\u001b[0;32m/usr/local/lib/python3.11/dist-packages/matplotlib/axes/_base.py\u001b[0m in \u001b[0;36m_plot_args\u001b[0;34m(self, axes, tup, kwargs, return_kwargs, ambiguous_fmt_datakey)\u001b[0m\n\u001b[1;32m    492\u001b[0m \u001b[0;34m\u001b[0m\u001b[0m\n\u001b[1;32m    493\u001b[0m         \u001b[0;32mif\u001b[0m \u001b[0mx\u001b[0m\u001b[0;34m.\u001b[0m\u001b[0mshape\u001b[0m\u001b[0;34m[\u001b[0m\u001b[0;36m0\u001b[0m\u001b[0;34m]\u001b[0m \u001b[0;34m!=\u001b[0m \u001b[0my\u001b[0m\u001b[0;34m.\u001b[0m\u001b[0mshape\u001b[0m\u001b[0;34m[\u001b[0m\u001b[0;36m0\u001b[0m\u001b[0;34m]\u001b[0m\u001b[0;34m:\u001b[0m\u001b[0;34m\u001b[0m\u001b[0;34m\u001b[0m\u001b[0m\n\u001b[0;32m--> 494\u001b[0;31m             raise ValueError(f\"x and y must have same first dimension, but \"\n\u001b[0m\u001b[1;32m    495\u001b[0m                              f\"have shapes {x.shape} and {y.shape}\")\n\u001b[1;32m    496\u001b[0m         \u001b[0;32mif\u001b[0m \u001b[0mx\u001b[0m\u001b[0;34m.\u001b[0m\u001b[0mndim\u001b[0m \u001b[0;34m>\u001b[0m \u001b[0;36m2\u001b[0m \u001b[0;32mor\u001b[0m \u001b[0my\u001b[0m\u001b[0;34m.\u001b[0m\u001b[0mndim\u001b[0m \u001b[0;34m>\u001b[0m \u001b[0;36m2\u001b[0m\u001b[0;34m:\u001b[0m\u001b[0;34m\u001b[0m\u001b[0;34m\u001b[0m\u001b[0m\n",
            "\u001b[0;31mValueError\u001b[0m: x and y must have same first dimension, but have shapes (1,) and (10,)"
          ]
        },
        {
          "output_type": "display_data",
          "data": {
            "text/plain": [
              "<Figure size 640x480 with 2 Axes>"
            ],
            "image/png": "[encoded data removed]"
          },
          "metadata": {}
        }
      ]
    },
    {
      "cell_type": "code",
      "source": [
        "print(\"En el rango dado me inclinaria por tomar el h = 0.08 ya que minimiza el error f''(2.0) y f'(2.0) \")"
      ],
      "metadata": {
        "colab": {
          "base_uri": "https://localhost:8080/"
        },
        "id": "HXHPOxJ55d0j",
        "outputId": "4a61a462-08e4-4448-8b60-9557fea82ab9"
      },
      "execution_count": 7,
      "outputs": [
        {
          "output_type": "stream",
          "name": "stdout",
          "text": [
            "En el rango dado me inclinaria por tomar el h = 0.08 ya que minimiza el error f''(2.0) y f'(2.0) \n"
          ]
        }
      ]
    },
    {
      "cell_type": "markdown",
      "metadata": {
        "id": "7K2ZmIuYAkNi"
      },
      "source": [
        "#3.\n",
        "Compare la primera derivada del punto 2 usando los métodos de diferencias finitas, derivada de tres y cinco puntos para el $h$ con el menor error encontrado en el punto anterior. Compare de nuevo para $f'(2)$ y encuentre los errores."
      ]
    },
    {
      "cell_type": "code",
      "execution_count": 8,
      "metadata": {
        "id": "ygu67HeYAjvi",
        "colab": {
          "base_uri": "https://localhost:8080/"
        },
        "outputId": "f7cdd716-c621-4577-c0f0-83dd4e24f27d"
      },
      "outputs": [
        {
          "output_type": "stream",
          "name": "stdout",
          "text": [
            "-Error diferencias finitas y derivada a 5 puntos : 7.032277062535286e-05\n",
            "\n",
            "-Error diferencias finitas y derivada a 3 puntos : 0.03661079192534089\n",
            "\n",
            "-# Error derivada a 3 puntos y derivada a 5 puntos : 0.036681114695966244\n",
            "      \n"
          ]
        }
      ],
      "source": [
        "\n",
        "h = 0.08\n",
        "df = finite_diff(x, f, h)\n",
        "df_5 = five_point_derivative(x, f, h)\n",
        "df_3 = three_point_derivative(x, f, h)\n",
        "\n",
        "\n",
        "\n",
        "lag_df5 = lagrange(x, df_5)\n",
        "lag_df3 = lagrange(x, df_3)\n",
        "\n",
        "\n",
        "error_5dif = abs(lag_df(2.0) - lag_df5(2.0))\n",
        "error_3dif = abs(lag_df(2.0) - lag_df3(2.0))\n",
        "error_53 = abs(lag_df3(2.0) - lag_df5(2.0))\n",
        "\n",
        "\n",
        "print(f\"\"\"-Error diferencias finitas y derivada a 5 puntos : {error_5dif}\n",
        "\n",
        "-Error diferencias finitas y derivada a 3 puntos : {error_3dif}\n",
        "\n",
        "-# Error derivada a 3 puntos y derivada a 5 puntos : {error_53}\n",
        "      \"\"\")\n",
        "\n",
        "\n",
        "\n",
        "\n"
      ]
    },
    {
      "cell_type": "code",
      "source": [],
      "metadata": {
        "id": "xDRqJijqzaMD"
      },
      "execution_count": 8,
      "outputs": []
    }
  ],
  "metadata": {
    "colab": {
      "provenance": []
    },
    "kernelspec": {
      "display_name": "Python 3",
      "name": "python3"
    },
    "language_info": {
      "name": "python"
    }
  },
  "nbformat": 4,
  "nbformat_minor": 0
}