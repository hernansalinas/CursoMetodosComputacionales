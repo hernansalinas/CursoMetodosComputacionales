{
  "cells": [
    {
      "cell_type": "code",
      "execution_count": 2,
      "metadata": {
        "cellView": "form",
        "id": "TdDUnb7xEXhH"
      },
      "outputs": [],
      "source": [
        "#@title Librerias\n",
        "import numpy as np\n",
        "import matplotlib.pyplot as plt\n",
        "import pandas as pd\n",
        "import math\n",
        "import sympy as sp"
      ]
    },
    {
      "cell_type": "markdown",
      "metadata": {
        "id": "izZKutpxFNuB"
      },
      "source": [
        "# Actividad 03: Errores y estabilidad\n",
        "\n",
        "---\n",
        "### Profesor: Juan Marcos Marín\n",
        "### Nombre: Isaac Villada Montoya\n",
        "*Métodos computacionales 2024-II*\n",
        "\n",
        "---"
      ]
    },
    {
      "cell_type": "markdown",
      "metadata": {
        "id": "xkTCfzqOFSd_"
      },
      "source": [
        "#1. Serie Seno\n",
        "Considere la serie de Taylor para el seno\n",
        "\n",
        "$$\\sin(x) = \\sum^{\\infty}_{n=1} (-1)^{n}\\frac{x^{2n+1}}{(2n+1)!} $$\n",
        "\n",
        "a. Defina una función que a partir de la *serie de Taylor* y un valor de $x$ en radianes encuentre el valor de $\\sin(x)$.\n",
        "\n",
        "\n",
        "b. Usando $x$ como `float32` encuentre cuántos términos de la serie son necesarios para obtener una convergencia con un error absoluto menor al $ϵ$ de la máquina para dicho tipo de variable. Para el valor exacto use `math.sin()`.\n",
        "\n",
        "\n",
        "c. Ahora, usando $x$ como `float64` encuentre cuántos términos de la serie son necesarios para obtener una convergencia con un error absoluto menor al $ϵ$ de la máquina para dicho tipo de variable. Para el valor exacto use `math.sin()`.\n",
        "\n",
        "\n",
        "d. Describa los errores porcentuales para cada cálculo y por qué pueden existir diferencias."
      ]
    },
    {
      "cell_type": "code",
      "execution_count": 3,
      "metadata": {
        "id": "GVLogC5BGc3E",
        "colab": {
          "base_uri": "https://localhost:8080/"
        },
        "outputId": "1a4fff5b-280c-4085-e463-e54a0cfd32f6"
      },
      "outputs": [
        {
          "output_type": "execute_result",
          "data": {
            "text/plain": [
              "(5, 1.0000035425842861)"
            ]
          },
          "metadata": {},
          "execution_count": 3
        }
      ],
      "source": [
        "import math\n",
        "\n",
        "def taylor_senoi(angulo, tol) :\n",
        "\n",
        "  seno = 0\n",
        "  real = math.sin(angulo)\n",
        "  i = 0\n",
        "\n",
        "  while abs(real - seno) > tol :\n",
        "\n",
        "    seno += (-1)**i * angulo**(2*i + 1)/math.factorial(2*i + 1)\n",
        "    i += 1\n",
        "\n",
        "  return i, seno\n",
        "\n",
        "\n",
        "def taylor_seno(angulo, tol) :\n",
        "\n",
        "  seno = 0\n",
        "  real = math.sin(angulo)\n",
        "  i = 0\n",
        "\n",
        "  while abs(real - seno) > tol :\n",
        "\n",
        "    seno += (-1)**i * angulo**(2*i + 1)/math.factorial(2*i + 1)\n",
        "    i += 1\n",
        "\n",
        "  return seno\n",
        "\n",
        "taylor_senoi(math.pi/2, 0.00001)"
      ]
    },
    {
      "cell_type": "code",
      "source": [
        "import numpy as np\n",
        "\n",
        "x = math.radians(80)\n",
        "tol_ = np.finfo(np.float32).eps\n",
        "N, seno = taylor_senoi(x, tol_)\n",
        "\n",
        "\n",
        "print(f\"terminos: {N}\")"
      ],
      "metadata": {
        "colab": {
          "base_uri": "https://localhost:8080/"
        },
        "id": "sGhKocKrXTJk",
        "outputId": "60f80eb5-99bf-42e0-8dc9-3863244cfadd"
      },
      "execution_count": 4,
      "outputs": [
        {
          "output_type": "stream",
          "name": "stdout",
          "text": [
            "terminos: 6\n"
          ]
        }
      ]
    },
    {
      "cell_type": "code",
      "source": [
        "x = math.radians(80)\n",
        "tol_ = np.finfo(np.float64).eps\n",
        "N, seno = taylor_senoi(x, tol_)\n",
        "\n",
        "\n",
        "print(f\"terminos: {N}\")"
      ],
      "metadata": {
        "colab": {
          "base_uri": "https://localhost:8080/"
        },
        "id": "EIVvyoyKX0R8",
        "outputId": "6bf3109f-1021-45db-f4da-f21b13dc245d"
      },
      "execution_count": 5,
      "outputs": [
        {
          "output_type": "stream",
          "name": "stdout",
          "text": [
            "terminos: 10\n"
          ]
        }
      ]
    },
    {
      "cell_type": "code",
      "source": [
        "def error_porcentual(exact, aprox) :\n",
        "\n",
        "  error_porcentual = (abs(exact-aprox)/abs(exact)) * 100\n",
        "  return error_porcentual\n",
        "\n",
        "tol_ = np.finfo(np.float32).eps\n",
        "\n",
        "\n",
        "print('El error porcentual entre el valor real mediante la función math.sin y la función taylor_seno32 es :',\n",
        "      error_porcentual(math.sin(math.pi/2), taylor_seno(math.pi/2, tol_)), '%')\n",
        "\n",
        "tol_ = np.finfo(np.float64).eps\n",
        "\n",
        "print('El error porcentual entre el valor real mediante la función math.sin y la función taylor_seno64 es :',\n",
        "      error_porcentual(math.sin(math.pi/2), taylor_seno(math.pi/2, tol_)), '%')\n"
      ],
      "metadata": {
        "colab": {
          "base_uri": "https://localhost:8080/"
        },
        "id": "3AgYSI2aopyg",
        "outputId": "5d2b0d70-e77b-4ae0-ec25-2e00c451650f"
      },
      "execution_count": 6,
      "outputs": [
        {
          "output_type": "stream",
          "name": "stdout",
          "text": [
            "El error porcentual entre el valor real mediante la función math.sin y la función taylor_seno32 es : 5.625894905492146e-06 %\n",
            "El error porcentual entre el valor real mediante la función math.sin y la función taylor_seno64 es : 0.0 %\n"
          ]
        }
      ]
    },
    {
      "cell_type": "markdown",
      "metadata": {
        "id": "RdMr0k4_X_t-"
      },
      "source": [
        "#2. Serie Exponencial\n",
        "Considere la serie para $e^{-x}$\n",
        "\n",
        "\\begin{equation}\n",
        "e^{-x}=\\sum_{n=0}^{N}  (-1)^n \\frac{x^{n}}{n!}\n",
        "\\end{equation}\n",
        "\n",
        "a. Calcula la serie para $x \\le 1$ y compárela con la función incorporada `np.exp(x)` (asuma que la función exponencial incorporada es exacta). Elegir un $N$ para el cual el siguiente término en la serie no sea más que $10^{-7}$ de la suma hasta ese punto.\n",
        "\n",
        "\\begin{equation}\n",
        "\\left| \\frac{(-x)^{N+1}}{(N+1)!} \\right | \\le \\left| 10^{-7} \\sum_{N=0}^{N} \\frac{(-x)^{n}}{n!} \\right|\n",
        "\\end{equation}\n",
        "\n",
        "\n",
        "b. Examine los términos de la serie para $x\\approx 10$ y observa las cancelaciones sustractivas significativas que ocurren cuando términos grandes se suman para dar respuestas pequeñas. En particular, imprime la cancelación casi perfecta en $n \\approx x − 1$.\n",
        "\n",
        "c. Compruebe si se obtiene una mejor precisión siendo ingenioso y usando $e^{−x} = \\frac{1}{e^x}$ para valores grandes de $x$. Esto elimina la cancelación sustractiva, pero no elimina todos los errores de redondeo.\n",
        "\n",
        "\n",
        "d. Incrementando progresivamente $x$ de 1 a 10, y luego de 10 a 100, usa el programa para determinar experimentalmente cuándo la serie comienza a perder precisión, y cuándo la serie ya no converge.\n",
        "\n",
        "\n",
        "e. Realiza una serie de gráficos del error versus $N$ para diferentes valores de $x$."
      ]
    },
    {
      "cell_type": "code",
      "execution_count": 7,
      "metadata": {
        "id": "qQgoQlvDX_bT",
        "colab": {
          "base_uri": "https://localhost:8080/"
        },
        "outputId": "3dbf97fd-0c16-448d-cc97-9b6fca23155a"
      },
      "outputs": [
        {
          "output_type": "execute_result",
          "data": {
            "text/plain": [
              "(2, 0.9)"
            ]
          },
          "metadata": {},
          "execution_count": 7
        }
      ],
      "source": [
        "import math\n",
        "import numpy as np\n",
        "\n",
        "def taylor_e(x, tol) :\n",
        "\n",
        "  ex = 1\n",
        "  ex_term = 1\n",
        "  real = np.exp(-x)\n",
        "  i = 1\n",
        "\n",
        "  while abs(real - ex) > tol :\n",
        "\n",
        "    ex_term= (-1)**i * (x**i)/math.factorial(i)\n",
        "    ex += ex_term\n",
        "    i += 1\n",
        "\n",
        "  return i, ex\n",
        "\n",
        "taylor_e(0.1, 0.01)"
      ]
    },
    {
      "cell_type": "code",
      "source": [
        "def taylor_en(x,N) :\n",
        "\n",
        "  ex = 1\n",
        "  ex_term = 1\n",
        "  real = np.exp(-x)\n",
        "  i = 1\n",
        "\n",
        "  for i in range(N) :\n",
        "\n",
        "    ex_term = (-1)**i * (x**i)/math.factorial(i)\n",
        "    ex += ex_term\n",
        "    i += 1\n",
        "\n",
        "    if abs(ex_term + 1) <= abs(10e-7 * ex) :\n",
        "\n",
        "      break\n",
        "\n",
        "  return i, ex\n",
        "\n",
        "taylor_en(0.5, 100)"
      ],
      "metadata": {
        "colab": {
          "base_uri": "https://localhost:8080/"
        },
        "id": "EJ0bVVCeMcAw",
        "outputId": "3e3a3420-507e-46e8-8280-9ad59c2af3de"
      },
      "execution_count": 8,
      "outputs": [
        {
          "output_type": "execute_result",
          "data": {
            "text/plain": [
              "(100, 1.6065306597126336)"
            ]
          },
          "metadata": {},
          "execution_count": 8
        }
      ]
    },
    {
      "cell_type": "code",
      "source": [
        "def taylore_term(x, tol) :\n",
        "\n",
        "  ex = 1\n",
        "  ex_term = 1\n",
        "  real = np.exp(-x)\n",
        "  i = 1\n",
        "\n",
        "  while abs(real - ex) > tol :\n",
        "\n",
        "    ex_term= (-1)**i * (x**i)/math.factorial(i)\n",
        "    ex += ex_term\n",
        "    i += 1\n",
        "\n",
        "  return ex_term\n",
        "\n",
        "taylore_term(0.1, 0.01)"
      ],
      "metadata": {
        "colab": {
          "base_uri": "https://localhost:8080/"
        },
        "id": "3tNbFnYPTnM2",
        "outputId": "3d292705-6f92-4c12-c9f5-d090bba88f8b"
      },
      "execution_count": 9,
      "outputs": [
        {
          "output_type": "execute_result",
          "data": {
            "text/plain": [
              "-0.1"
            ]
          },
          "metadata": {},
          "execution_count": 9
        }
      ]
    },
    {
      "cell_type": "markdown",
      "metadata": {
        "id": "3AEfpFQcbiys"
      },
      "source": [
        "# 3. Serie $S_N$\n",
        "\n",
        "Un ejemplo de la cancelacion substractiva es en la suma de series alternantes. Considere la serie $\\mathrm{S}_N$,  escrita  matematicamente de tres formas diferentes:\n",
        "\n",
        "-\n",
        "\\begin{equation}\n",
        "\\mathrm{S}_N^{(1)} = \\sum_{n = 1}^{2N} (-1)^n \\frac{n}{n+1}\n",
        "\\end{equation}\n",
        "\n",
        "- Sumando números pares e impares.\n",
        "\n",
        "\\begin{equation}\n",
        "\\mathrm{S}_N^{(2)} = -\\sum_{n = 1}^{N}\\frac{2n-1}{2n} + \\sum_{n=1}^{N} \\frac{2n}{2n+1}\n",
        "\\end{equation}\n",
        "\n",
        "- Combinando las series de una forma analítica\n",
        "\n",
        "\\begin{equation}\n",
        "\\mathrm{S}_N^{(3)} = \\sum_{n = 1}^{N}\\frac{1}{2n(2n+1)}\n",
        "\\end{equation}\n",
        "\n",
        "\n",
        "\n",
        "Las tres sumas $\\mathrm{S}_N^{(1)}$, $\\mathrm{S}_N^{(2)}$ y $\\mathrm{S}_N^{(3)}$ son matemáticamente iguales, pero los resultados númericos  pueden tener diferencias.\n",
        "\n",
        "\n",
        "a.  Escribir tres funciones para que realicen el cálculo de $\\mathrm{S}_N^{(1)}$, $\\mathrm{S}_N^{(2)}$ y $\\mathrm{S}_N^{(3)}$\n",
        "\n",
        "\n",
        "b. Estudiar la convergencia de la serie para los tres casos.\n",
        "\n",
        "\n",
        "c. Considere  que $S_N^{(3)}$ es la solución exacta, realizar dos graficos log-log, del error relativo en función\n",
        "del número de términos ($\\mathrm{Log_{10}} E$ VS $\\mathrm{Log_{10}} N$), para $S_N^{(1)}$ y $S_N^{(2)}$. Donde,  $$E = |(S_N^{(i)} - S_N^{(3)})/S_N^{(3)}|,$$ $i = 1, 2$. Considere valores de $N = 1\\times 10^{6}$.\n",
        "\n",
        "d. Analizar y discutir los resultados. Tenga en cuenta la discusión realizada sobre teoría de errores en la página\n",
        "39 del libro [Computational Physics. ](https://www.dropbox.com/s/n06ul2r4l65khl6/Computational%20Physics%20-%20Problem%20Solving%20with%20Computers%2C%203527406263.pdf?dl=0)"
      ]
    },
    {
      "cell_type": "code",
      "execution_count": 12,
      "metadata": {
        "id": "aZnAG7C_b1H9"
      },
      "outputs": [],
      "source": [
        "def s1(N) :\n",
        "\n",
        "  s = 0\n",
        "\n",
        "  for i in range(1, 2*N) :\n",
        "\n",
        "    s += (-1)**i * i/(i+1)\n",
        "    i += 1\n",
        "\n",
        "  return s\n",
        "\n",
        "def s2(N) :\n",
        "\n",
        "  s = 0\n",
        "\n",
        "  for i in range(1, 2*N) :\n",
        "\n",
        "    s += (-1) * ((2*i-1)/(2*i)) + ((2*i)/(2*i+1))\n",
        "    i += 1\n",
        "\n",
        "  return s\n",
        "\n",
        "def s3(N) :\n",
        "\n",
        "  s = 0\n",
        "\n",
        "  for i in range(1, N) :\n",
        "\n",
        "    s += 1/(2*i)*(2*i+1)\n",
        "    i += 1\n",
        "\n",
        "  return s"
      ]
    }
  ],
  "metadata": {
    "colab": {
      "provenance": []
    },
    "kernelspec": {
      "display_name": "Python 3",
      "name": "python3"
    },
    "language_info": {
      "name": "python"
    }
  },
  "nbformat": 4,
  "nbformat_minor": 0
}