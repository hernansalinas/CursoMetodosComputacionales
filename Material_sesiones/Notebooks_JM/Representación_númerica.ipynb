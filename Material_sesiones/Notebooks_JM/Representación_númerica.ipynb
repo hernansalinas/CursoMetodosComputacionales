{
  "nbformat": 4,
  "nbformat_minor": 0,
  "metadata": {
    "colab": {
      "provenance": []
    },
    "kernelspec": {
      "name": "python3",
      "display_name": "Python 3"
    },
    "language_info": {
      "name": "python"
    }
  },
  "cells": [
    {
      "cell_type": "code",
      "execution_count": 1,
      "metadata": {
        "id": "iPMVIb1wv2V4"
      },
      "outputs": [],
      "source": [
        "import numpy as np\n",
        "import matplotlib.pyplot as plt"
      ]
    },
    {
      "cell_type": "markdown",
      "source": [
        "# Introducción a las Bases Numéricas\n",
        "---\n",
        "### Profesor: Juan Marcos Marín\n",
        "*Métodos Computacionales 2024-2*\n",
        "\n",
        "---\n",
        "\n",
        "\n",
        "Las bases numéricas son sistemas para representar números. Las tres bases más comunes en informática son:\n",
        "\n",
        "## 1. Base Decimal (Base 10)\n",
        "- Sistema que usamos habitualmente\n",
        "- Utiliza dígitos del 0 al 9\n",
        "- Ejemplo: 42₁₀\n",
        "\n",
        "## 2. Base Binaria (Base 2)\n",
        "- Usada internamente por computadoras\n",
        "- Solo utiliza 0 y 1\n",
        "- Ejemplo: 101010₂ (equivalente a 42 en decimal)\n",
        "\n",
        "## 3. Base Hexadecimal (Base 16)\n",
        "- Usa dígitos del 0 al 9 y letras de A a F\n",
        "- Útil para representar grandes números binarios de forma compacta\n",
        "- Ejemplo: 2A₁₆ (equivalente a 42 en decimal)\n",
        "\n",
        "Cada base tiene sus propias aplicaciones y ventajas en diferentes contextos de la informática y las matemáticas.\n",
        "\n",
        "\n",
        "Decimal|   Binario|   Hexadecimal\n",
        "-------|----------|--------------\n",
        "   0   |   0000   |   0          \n",
        "   1   |   0001   |   1          \n",
        "   2   |   0010   |   2          \n",
        "   3   |   0011   |   3          \n",
        "   4   |   0100   |   4          \n",
        "   5   |   0101   |   5          \n",
        "   6   |   0110   |   6          \n",
        "   7   |   0111   |   7          \n",
        "   8   |   1000   |   8          \n",
        "   9   |   1001   |   9          \n",
        "  10   |   1010   |   A          \n",
        "  11   |   1011   |   B          \n",
        "  12   |   1100   |   C          \n",
        "  13   |   1101   |   D          \n",
        "  14   |   1110   |   E          \n",
        "  15   |   1111   |   F  "
      ],
      "metadata": {
        "id": "59LjeNztv9vm"
      }
    },
    {
      "cell_type": "markdown",
      "source": [
        "## Definición de Bit y Byte\n",
        "\n",
        "El lenguaje que una computadora entiende es muy simple, tan simple que solo tiene 2 números diferentes: *1* y *0*. Este sistema numérico se llama *Binario*. Esto es porque 1 representa alto voltaje y 0 representa bajo voltaje.\n",
        "\n",
        "Un 1 o un 0 se llama **Bit**, que es la abreviatura de **BI**nary Digi**T** (dígito binario). Esta es la unidad fundamental de información.\n",
        "\n",
        "- **Bit**:\n",
        "  - Es la unidad más pequeña de información en un sistema informático.\n",
        "  - Un bit puede tener uno de dos valores: `0` o `1`. Estos son los valores básicos de la representación binaria.\n",
        "\n",
        "- **Byte**:\n",
        "  - Un byte es un conjunto de 8 bits.\n",
        "  - Es la unidad básica de almacenamiento de datos que puede representar 256 valores diferentes ($2^8$), que van desde `00000000` (0 en decimal) hasta `11111111` (255 en decimal).\n",
        "\n",
        "## 32 bits y 64 bits en representación numérica\n",
        "\n",
        "- **32 bits**:\n",
        "  - En términos de representación numérica, el término \"32 bits\" significa que se usan 32 bits para representar un número.\n",
        "  - Un número representado en 32 bits puede tener 2^32 combinaciones diferentes, lo que equivale a **4,294,967,296** valores posibles.\n",
        "  - Para números enteros sin signo (unsigned), esto permite representar valores desde `0` hasta `4,294,967,295`.\n",
        "  $$2^{32} = 4,294,967,295$$\n",
        "  - Para enteros con signo (signed), permite representar valores desde `-2,147,483,648` hasta `2,147,483,647`.\n",
        "  $$\\frac{2^{32} -1}{2} =  \\pm 2,147,483,647$$\n"
      ],
      "metadata": {
        "id": "FQYwt2T11tXz"
      }
    },
    {
      "cell_type": "code",
      "source": [
        "print(2**32)\n",
        "print('±' + str(round((2**32-1)/2)))"
      ],
      "metadata": {
        "colab": {
          "base_uri": "https://localhost:8080/"
        },
        "id": "G7KalAqy4QNd",
        "outputId": "bdd31925-5658-4a5b-e836-fc5d542cc23b"
      },
      "execution_count": 2,
      "outputs": [
        {
          "output_type": "stream",
          "name": "stdout",
          "text": [
            "4294967296\n",
            "±2147483648\n"
          ]
        }
      ]
    },
    {
      "cell_type": "markdown",
      "source": [
        "- **64 bits**:\n",
        "  - En la representación de 64 bits, se utilizan 64 bits para representar un número.\n",
        "  - Un número representado en 64 bits puede tener 2^64 combinaciones diferentes, lo que equivale a **18,446,744,073,709,551,616** valores posibles.\n",
        "  - Para números enteros sin signo (unsigned), esto permite representar valores desde `0` hasta **18,446,744,073,709,551,615**.\n",
        "  - Para enteros con signo (signed), los valores posibles van desde `-9,223,372,036,854,775,808` hasta `9,223,372,036,854,775,807`.\n"
      ],
      "metadata": {
        "id": "L8HUpdl74Qnq"
      }
    },
    {
      "cell_type": "code",
      "source": [
        "print(2**64)\n",
        "print('±' + str(round((2**64-1)/2)))"
      ],
      "metadata": {
        "colab": {
          "base_uri": "https://localhost:8080/"
        },
        "id": "9edoGKZ85O5Q",
        "outputId": "1bbe4188-cf2a-41e1-abfc-828ef4f2e435"
      },
      "execution_count": 3,
      "outputs": [
        {
          "output_type": "stream",
          "name": "stdout",
          "text": [
            "18446744073709551616\n",
            "±9223372036854775808\n"
          ]
        }
      ]
    },
    {
      "cell_type": "markdown",
      "source": [
        "# Conversión de Decimal a Binario\n",
        "\n",
        "Para convertir un número decimal a binario, se divide repetidamente el número por 2 y se registran los restos. Los restos en orden inverso forman el número binario.\n",
        "\n",
        "### Ejemplo: Convertir 42 (decimal) a binario\n",
        "\n",
        "1. 42 ÷ 2 = 21 resto 0\n",
        "2. 21 ÷ 2 = 10 resto 1\n",
        "3. 10 ÷ 2 = 5  resto 0\n",
        "4. 5 ÷ 2 = 2   resto 1\n",
        "5. 2 ÷ 2 = 1   resto 0\n",
        "6. 1 ÷ 2 = 0   resto 1\n",
        "\n",
        "Leyendo los restos de abajo hacia arriba, obtenemos:\n",
        "42₁₀ = 101010₂\n",
        "\n",
        "## Fórmula para la Representación Binaria\n",
        "\n",
        "La representación binaria de un número decimal puede expresarse mediante una fórmula matemática. Si tenemos un número binario de n dígitos, $b_{n-1},b_{n-2},...b_1,b_0$, su valor decimal equivalente se calcula así:\n",
        "\n",
        "\n",
        "$$\\sum_{i=0}^{n-1} b_i \\cdot 2^i$$\n",
        "O de forma expandida:\n",
        "$$(b_{n-1} \\times 2^{n-1}) + (b_{n-2} \\times 2^{n-2}) + ... + (b_1 \\times 2^1) + (b_0 \\times 2^0)$$\n",
        "Donde:\n",
        "\n",
        "* $b_i$ representa cada dígito binario (0 o 1)\n",
        "* $n$ es el número total de dígitos\n",
        "* Los subíndices indican la posición del dígito de derecha a izquierda, empezando desde 0\n",
        "\n",
        "### Ejemplo:\n",
        "Para el número binario 101010 (que es 42 en decimal):\n",
        "\n",
        "$$\\begin{align*}\n",
        "&(1 \\times 2^5) + (0 \\times 2^4) + (1 \\times 2^3) + (0 \\times 2^2) + (1 \\times 2^1) + (0 \\times 2^0) \\\n",
        "&= 32 + 0 + 8 + 0 + 2 + 0 \\\n",
        "&= 42\n",
        "\\end{align*}$$\n",
        "\n",
        "Esta fórmula demuestra cómo cada posición en un número binario representa una potencia de 2, y la suma de estas potencias da el valor decimal equivalente."
      ],
      "metadata": {
        "id": "K9oqAnDmwV5j"
      }
    },
    {
      "cell_type": "code",
      "source": [
        "print(bin(42))\n",
        "print('0b está relacionado a que el número es binario')"
      ],
      "metadata": {
        "colab": {
          "base_uri": "https://localhost:8080/"
        },
        "id": "aUSV53WH5kAT",
        "outputId": "bdcb8e8a-c963-437f-c138-b38b245b11cd"
      },
      "execution_count": 4,
      "outputs": [
        {
          "output_type": "stream",
          "name": "stdout",
          "text": [
            "0b101010\n",
            "0b está relacionado a que el número es binario\n"
          ]
        }
      ]
    },
    {
      "cell_type": "markdown",
      "source": [
        "# Conversión Simple de Punto Flotante a Binario\n",
        "\n",
        "Esta es una versión simplificada de cómo convertir un número de punto flotante a binario, sin usar el **formato IEEE 754**.\n",
        "\n",
        "## Pasos:\n",
        "\n",
        "1. **Convertir la parte entera a binario**\n",
        "2. **Convertir la parte fraccionaria a binario**\n",
        "3. **Combinar las partes**\n",
        "\n",
        "## Ejemplo: Convertir 3.625 a binario\n",
        "\n",
        "1. **Parte entera (3):**\n",
        "   3 ÷ 2 = 1 resto 1\n",
        "   1 ÷ 2 = 0 resto 1\n",
        "   Resultado: 11\n",
        "\n",
        "2. **Parte fraccionaria (0.625):**\n",
        "   0.625 × 2 = 1.25  (1)\n",
        "   0.25 × 2  = 0.5   (0)\n",
        "   0.5 × 2   = 1.0   (1)\n",
        "   Resultado: 101\n",
        "\n",
        "3. **Combinar:**\n",
        "   3.625 en binario = 11.101\n",
        "\n",
        "## Notas:\n",
        "- Para la parte entera, dividimos repetidamente por 2 y leemos los restos de abajo hacia arriba.\n",
        "- Para la parte fraccionaria, multiplicamos repetidamente por 2 y tomamos la parte entera en cada paso.\n",
        "- El proceso para la parte fraccionaria se detiene cuando llegamos a 0 o cuando empezamos a repetir (para números periódicos).\n",
        "\n",
        "Esta representación es directa y fácil de entender, aunque no es tan precisa o estandarizada como el formato IEEE 754 (ver siguiente sección) para su uso en computadoras."
      ],
      "metadata": {
        "id": "J0pdolqI0hew"
      }
    },
    {
      "cell_type": "markdown",
      "source": [
        "# Representación Binaria de Números Flotantes (IEEE 754)\n",
        "\n",
        "La **Convención IEEE 754** es un estándar para la representación de números en coma flotante en computadoras, utilizado para manejar números reales de manera eficiente y precisa. Define cómo almacenar estos números en una secuencia de bits.\n",
        "\n",
        "## Representación de Números Flotantes IEEE 754\n",
        "\n",
        "Un número en coma flotante bajo el estándar IEEE 754 está representado en tres partes:\n",
        "\n",
        "1. **Signo (S)**:\n",
        "   - 1 bit que indica si el número es positivo (`0`) o negativo (`1`).\n",
        "\n",
        "2. **Exponente (E)**:\n",
        "   - Generalmente 8 bits (precisión simple) o 11 bits (precisión doble).\n",
        "   - El exponente está \"sesgado\" por un valor predefinido:\n",
        "     - Sesgo en precisión simple (32 bits): `127`\n",
        "     - Sesgo en precisión doble (64 bits): `1023`.\n",
        "\n",
        "3. **Mantisa (M)** o **Fracción**:\n",
        "   - Los 23 bits siguientes (precisión simple) o 52 bits (precisión doble).\n",
        "   - La mantisa está normalizada, comenzando siempre por `1`, pero este bit no se almacena (es implícito).\n",
        "\n",
        "## Fórmula para un Número en IEEE 754\n",
        "\n",
        "El valor de un número en coma flotante se calcula con la fórmula:\n",
        "\n",
        "$$\n",
        "\\text{Valor} = (-1)^{S} \\times (1 + M) \\times 2^{(E - \\text{sesgo})}\n",
        "$$\n",
        "\n",
        "Donde:\n",
        "- $S$ es el bit de signo.\n",
        "- $M$ es la mantisa o fracción.\n",
        "- $E$ es el exponente.\n",
        "- El \"sesgo\" depende de la precisión utilizada.\n",
        "\n",
        "## Ejemplo de un Número Flotante (Precisión Simple, 32 bits)\n",
        "\n",
        "Vamos a representar el número `-12.375` en formato IEEE 754 de precisión simple.\n",
        "$$r = (-1)^s\\times \\left( 1 + \\sum_{i=1}^{23}b_{23-i}2^{-i} \\right)\\times 2^{e-127}$$\n",
        "\n",
        "### 1. Convertir a Binario\n",
        "\n",
        "El valor decimal `12.375` se convierte en binario: `1100.011`.\n",
        "\n",
        "- Parte entera: `12` en binario es `1100`.\n",
        "- Parte fraccionaria: `.375` en binario es `.011`.\n",
        "\n",
        "Entonces: `12.375` en binario es `1100.011`.\n",
        "\n",
        "### 2. Normalizar el Número\n",
        "\n",
        "Normalizamos el número para que esté en forma:\n",
        "\n",
        "$$\n",
        "1.100011 \\times 2^3\n",
        "$$\n",
        "\n",
        "### 3. Identificar el Signo, Exponente y Mantisa\n",
        "\n",
        "- **Signo (S)**: El número es negativo, así que el bit de signo es `1`.\n",
        "- **Exponente (E)**: El exponente es $3$, pero se debe sumar el sesgo ($127$ para precisión simple):\n",
        "  - Exponente sesgado: $127 + 3 = 130$.\n",
        "  - En binario: $130$ es `10000010`.\n",
        "- **Mantisa (M)**: La parte fraccionaria después de la normalización es `100011`, que se completa a 23 bits: `10001100000000000000000`.\n",
        "\n",
        "### 4. Construcción del Número IEEE 754\n",
        "\n",
        "- **Signo (S)**: `1`.\n",
        "- **Exponente (E)**: `10000010`.\n",
        "- **Mantisa (M)**: `10001100000000000000000`.\n",
        "\n",
        "Entonces, el número `-12.375` en formato IEEE 754 es:\n",
        "\n",
        "`1 10000010 10001100000000000000000`\n",
        "\n",
        "![image](https://www.puntoflotante.net/IEEE-754-ENGLISH.jpg)"
      ],
      "metadata": {
        "id": "tC9Z0as3zohV"
      }
    },
    {
      "cell_type": "markdown",
      "source": [
        "## Ejemplo de un Número Flotante con Precisión Doble (64 bits)\n",
        "\n",
        "Vamos a representar el número `-12.375` en formato IEEE 754 de precisión doble (64 bits).\n",
        "\n",
        "$$r = (-1)^s\\times \\left( 1 + \\sum_{i=1}^{52}b_{52-i}2^{-i} \\right)\\times 2^{e-1023}$$\n",
        "\n",
        "### 1. Convertir a Binario\n",
        "\n",
        "El valor decimal `12.375` se convierte en binario: `1100.011`.\n",
        "\n",
        "- Parte entera: `12` en binario es `1100`.\n",
        "- Parte fraccionaria: `.375` en binario es `.011`.\n",
        "\n",
        "Entonces: `12.375` en binario es `1100.011`.\n",
        "\n",
        "### 2. Normalizar el Número\n",
        "\n",
        "Normalizamos el número para que esté en forma:\n",
        "\n",
        "$$\n",
        "1.100011 \\times 2^3\n",
        "$$\n",
        "\n",
        "### 3. Identificar el Signo, Exponente y Mantisa\n",
        "\n",
        "- **Signo (S)**: El número es negativo, así que el bit de signo es `1`.\n",
        "- **Exponente (E)**: El exponente es $3$, pero se debe sumar el sesgo (para precisión doble es $1023$):\n",
        "  - Exponente sesgado: $1023 + 3 = 1026$.\n",
        "  - En binario: $1026$ es `10000000010`.\n",
        "- **Mantisa (M)**: La parte fraccionaria después de la normalización es `100011`, que se completa a 52 bits: `1000110000000000000000000000000000000000000000000000`.\n",
        "\n",
        "### 4. Construcción del Número IEEE 754 (64 bits)\n",
        "\n",
        "- **Signo (S)**: `1`.\n",
        "- **Exponente (E)**: `10000000010`.\n",
        "- **Mantisa (M)**: `1000110000000000000000000000000000000000000000000000`.\n",
        "\n",
        "Entonces, el número `-12.375` en formato IEEE 754 de precisión doble es:\n",
        "\n",
        "`1 10000000010 1000110000000000000000000000000000000000000000000000`\n",
        "\n",
        "![](https://upload.wikimedia.org/wikipedia/commons/thumb/a/a9/IEEE_754_Double_Floating_Point_Format.svg/2560px-IEEE_754_Double_Floating_Point_Format.svg.png)"
      ],
      "metadata": {
        "id": "SnJSsnsu9JK0"
      }
    },
    {
      "cell_type": "markdown",
      "source": [
        "## Recuperar el valor original\n",
        "\n",
        "1. **Separar los componentes**:\n",
        "   - **Signo**: `1`\n",
        "   - **Exponente**: `10000000010` → decimal: `1026`\n",
        "   - **Mantisa**: `1000110000000000000000000000000000000000000000000000`\n",
        "\n",
        "2. **Calcular el exponente real**:\n",
        "   - Exponente real: $$1026 - 1023 = 3$$.\n",
        "\n",
        "3. **Calcular la mantisa**:\n",
        "   - La mantisa se calcula como $$1 + \\text{fracción de la mantisa}$$:\n",
        "     - La fracción de la mantisa $$= 0.100011$$ en decimal:\n",
        "       - $$0.5 + 0 + 0 + 0 + 0.03125 + 0.015625 = 0.546875$$.\n",
        "     - Entonces, la mantisa completa es $$1.546875$$.\n",
        "\n",
        "4. **Calcular el valor final**:\n",
        "   - El valor original es:\n",
        "     $$-1.546875 \\times 2^3 = -12.375$$.\n",
        "\n",
        "Por lo tanto, el valor original recuperado de la representación binaria es **-12.375**.\n"
      ],
      "metadata": {
        "id": "Jc2Jo7SkH0hW"
      }
    },
    {
      "cell_type": "code",
      "source": [
        "s = (-1)**1\n",
        "e = int(0b10000000010) - 1023\n",
        "m = (1*2**(-1)) + (1*2**(-5)) + (1*2**(-6))\n",
        "r = s * (1 + m) * 2**e\n",
        "print(f'El número será: {r}')"
      ],
      "metadata": {
        "id": "oolxm7UYIRxV",
        "colab": {
          "base_uri": "https://localhost:8080/"
        },
        "outputId": "76018a83-50af-4815-9168-264b3b9e3859"
      },
      "execution_count": 15,
      "outputs": [
        {
          "output_type": "stream",
          "name": "stdout",
          "text": [
            "El número será: -12.375\n"
          ]
        }
      ]
    },
    {
      "cell_type": "markdown",
      "source": [
        "\n",
        "## Tipos de Precisión en IEEE 754\n",
        "\n",
        "1. **Precisión simple (32 bits)**:\n",
        "   - 1 bit para el signo.\n",
        "   - 8 bits para el exponente.\n",
        "   - 23 bits para la mantisa.\n",
        "\n",
        "2. **Precisión doble (64 bits)**:\n",
        "   - 1 bit para el signo.\n",
        "   - 11 bits para el exponente.\n",
        "   - 52 bits para la mantisa.\n",
        "\n"
      ],
      "metadata": {
        "id": "dKQoacKB8uyg"
      }
    }
  ]
}