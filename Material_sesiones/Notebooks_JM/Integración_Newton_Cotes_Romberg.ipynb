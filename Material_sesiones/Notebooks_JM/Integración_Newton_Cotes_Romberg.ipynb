{
  "nbformat": 4,
  "nbformat_minor": 0,
  "metadata": {
    "colab": {
      "provenance": []
    },
    "kernelspec": {
      "name": "python3",
      "display_name": "Python 3"
    },
    "language_info": {
      "name": "python"
    }
  },
  "cells": [
    {
      "cell_type": "code",
      "execution_count": 1,
      "metadata": {
        "cellView": "form",
        "id": "rg3DnIPg4ifl"
      },
      "outputs": [],
      "source": [
        "#@title Librerias\n",
        "\n",
        "import numpy as np\n",
        "import matplotlib.pyplot as plt\n",
        "import sympy as sp\n",
        "from scipy.interpolate import lagrange\n",
        "from scipy import integrate\n"
      ]
    },
    {
      "cell_type": "code",
      "source": [
        "#@title Gráficos métodos\n",
        "def area_curva(f,a,b,nmax=8,n=2):\n",
        "    D = (b-a)/nmax                                   # delta de x.\n",
        "    N = nmax\n",
        "    if n == 2:                                       # Si Simpson entonces\n",
        "        N = nmax//2                                  # reducir nmax a la mitad y\n",
        "        D = D*2                                      # multiplicar por 2 el delta.\n",
        "\n",
        "    x = np.linspace(a,b,1000)                        # dividir x en mil puntos y\n",
        "    plt.plot(x,f(x),c='b',lw=2)                      # graficar función en [a,b].\n",
        "    plt.plot(a,f(a),'o',c='k')                       # graficar primer punto.\n",
        "    plt.plot([b,b],[0,f(b)],'--',c='r',lw=1)         # graficar linea vertical.\n",
        "\n",
        "    for i in range(N):                               # suma sobre áreas A1,A2,...,An.\n",
        "        xi = a + i*D                                 # puntos de integración.\n",
        "        x  = np.linspace(xi,xi+D)                    # valores de x en [xi,xi+D].\n",
        "\n",
        "        if   n == 0:                                 # polinomio grado 0 (Riemann),\n",
        "            xj = np.array([xi+D])                    # un solo punto de interpolación.\n",
        "            pn = lagrange(xj,f(xj))\n",
        "\n",
        "        elif n == 1:                                 # polinomio grado 1 (Traprezoidal),\n",
        "            xj = np.array([xi,xi+D])                 # dos puntos de interpolación.\n",
        "            pn = lagrange(xj,f(xj))\n",
        "\n",
        "        elif n == 2:                                 # polinomio grado 2 (Simpson),\n",
        "            xj = np.array([xi,xi+D/2,xi+D])          # tres puntos de interpolación.\n",
        "            pn = lagrange(xj,f(xj))\n",
        "            plt.plot(xi+D/2,f(xi+D/2),'o',color='k') # graficar puntos.\n",
        "\n",
        "        Alpha = .5 if i == N//2 else .1              # tramparencia del area a graficar.\n",
        "        plt.fill_between(x,pn(x),color=\"r\",lw=2,alpha=Alpha) # Graficar area roja.\n",
        "        plt.plot(xi+D,f(xi+D),'o',color='k')         # graficar puntos.\n",
        "        plt.plot([xi,xi],[0,f(xi)],'--',c='r',lw=1)  # graficar lineas verticales.\n",
        "\n",
        "        if (nmax!=8):                                # mostrar número de area.\n",
        "            plt.text(xi+.1*D, 2, r'$A_{%d}$'%(i+1))\n",
        "\n",
        "\n",
        "    if nmax == 8: # Cambiar ejes x,y para gráfico general de [x_0, ..., x_n].\n",
        "        x_labels = [r'$x_0=a$',r'$x_1$',r'$x_2$','...', r'$x_{i-1}$',\n",
        "                    r'$x_i$',r'$x_{i+1}$ ...',r'$x_{n-1}$',r'$x_{n}=b$']\n",
        "        xv = np.linspace(a,b,len(x_labels))\n",
        "\n",
        "        plt.yticks([0,5],['0','f(x)'],fontsize=14,)  # cambiar valores eje y.\n",
        "        plt.xticks(xv, x_labels, fontsize=14)        # cambiar valores eje x.\n",
        "        plt.text((nmax+D)/2, 2, r'$A_i$',size=18)\n",
        "        plt.gca().spines['right'].set_color('none')  # remover linea derecha.\n",
        "        plt.gca().spines['top'].set_color('none')    # remover linea superior."
      ],
      "metadata": {
        "id": "Z7-wwUf9IoOC",
        "cellView": "form"
      },
      "execution_count": 2,
      "outputs": []
    },
    {
      "cell_type": "markdown",
      "source": [
        "# Métodos Numéricos para Integración\n",
        "\n",
        "La integración numérica representa una herramienta matemática indispensable en diversos campos de la ciencia y la ingeniería, destacándose por su capacidad para *resolver integrales que carecen de solución analítica o son demasiado complejas para resolverse manualmente*. Su importancia radica en su versatilidad para abordar problemas prácticos como el cálculo de áreas irregulares, análisis de datos experimentales y resolución de ecuaciones diferenciales, ofreciendo soluciones aproximadas pero suficientemente precisas. Esta técnica resulta particularmente valiosa en el ámbito computacional, ya que permite automatizar cálculos complejos y obtener resultados en tiempo real, siendo aplicable tanto a datos discretos como a funciones continuas y discontinuas.\n",
        "\n",
        "\n",
        "\n",
        "\n",
        "\n",
        "\n",
        "\n",
        "\n"
      ],
      "metadata": {
        "id": "9MJ20Qhx5R16"
      }
    },
    {
      "cell_type": "markdown",
      "source": [
        "# Métodos de Newton–Cotes\n",
        "\n",
        "## 1. Método de cuadratura (Riemman)\n",
        "   Divide el intervalo de integración en subintervalos, y en cada uno de ellos aproxima el área bajo la curva usando un rectángulo. Existen varias variantes:\n",
        "\n",
        "   - **Rectángulo Izquierdo**: usa el valor de la función en el extremo izquierdo de cada subintervalo.\n",
        "   - **Rectángulo Derecho**: usa el valor de la función en el extremo derecho de cada subintervalo.\n",
        "\n",
        "La **fórmula del punto medio** para la cuadratura de Riemann en un intervalo $[a, b]$ es una aproximación de la integral definida utilizando el valor de la función en el punto medio de cada subintervalo.\n",
        "\n",
        "Para una función $f(x)$ en el intervalo $[a, b]$, si dividimos el intervalo en $n$ subintervalos de igual longitud $h$, la fórmula del punto medio se expresa como:\n",
        "\n",
        "$$\n",
        "\\int_a^b f(x) \\, dx \\approx h \\sum_{i=0}^{n-1} f\\left( x_i + \\frac{h}{2} \\right)\n",
        "$$\n",
        "\n",
        "donde:\n",
        "\n",
        "- $h = \\frac{b - a}{n}$ es el ancho de cada subintervalo.\n",
        "- $x_i = a + i \\cdot h$ es el punto de inicio del $i$-ésimo subintervalo.\n",
        "- $x_i + \\frac{h}{2}$ es el **punto medio** del $i$-ésimo subintervalo."
      ],
      "metadata": {
        "id": "hCtT2IqXNDUT"
      }
    },
    {
      "cell_type": "code",
      "source": [
        "#@title Cuadratura\n",
        "def cuadratura_riemann(f, a, b, n):\n",
        "  '''\n",
        "  f: función a integrar\n",
        "  a: límite inferior\n",
        "  b: límite superior\n",
        "  n: número de intervalos\n",
        "  return: valor de la integral\n",
        "  '''\n",
        "  h = (b - a) / n\n",
        "  integral = 0\n",
        "  for i in range(n):\n",
        "    x_i = a + i * h\n",
        "    integral +=  f(x_i + h/2)\n",
        "  return integral * h\n"
      ],
      "metadata": {
        "id": "UEQmAcup-zy8",
        "cellView": "form"
      },
      "execution_count": 3,
      "outputs": []
    },
    {
      "cell_type": "code",
      "source": [
        "f = lambda x: np.sin(x*2.2)+np.exp(0.1*x*2)+2\n",
        "#f = lambda x: x**2\n",
        "a = 0\n",
        "b = 3\n",
        "n = 10\n",
        "\n",
        "cuadratura_riemann(f, a, b, n)\n"
      ],
      "metadata": {
        "colab": {
          "base_uri": "https://localhost:8080/"
        },
        "id": "0_q5pZDt_R_X",
        "outputId": "a847992b-ab58-45bc-826d-f38e771ab4b4"
      },
      "execution_count": 4,
      "outputs": [
        {
          "output_type": "execute_result",
          "data": {
            "text/plain": [
              "10.133014884821193"
            ]
          },
          "metadata": {},
          "execution_count": 4
        }
      ]
    },
    {
      "cell_type": "code",
      "source": [
        "n = 8   # número de áreas a sumar (debe ser par para Simpson).\n",
        "a,b  = 0,8                                           # intervalo.\n",
        "f = lambda x: np.sin(x*2.2)+np.exp(0.1*x*2)+2      # función a integrar.\n",
        "\n",
        "plt.figure(1,figsize = (8,5))\n",
        "area_curva(f,a,b,n) # Riemann"
      ],
      "metadata": {
        "colab": {
          "base_uri": "https://localhost:8080/",
          "height": 454
        },
        "id": "hq_gOojiDrDU",
        "outputId": "ad3c63d4-64d6-4967-a251-a26d4dd2c588"
      },
      "execution_count": 5,
      "outputs": [
        {
          "output_type": "display_data",
          "data": {
            "text/plain": [
              "<Figure size 800x500 with 1 Axes>"
            ],
            "image/png": "[encoded data removed]"
          },
          "metadata": {}
        }
      ]
    },
    {
      "cell_type": "markdown",
      "source": [
        "## 2. Método del Trapecio compuesta\n",
        "   En lugar de usar rectángulos, se aproxima el área bajo la curva usando trapecios, lo cual da una mejor aproximación en algunos casos.\n",
        "\n",
        "\n",
        "La **fórmula del método del trapecio** para aproximar una integral definida en el intervalo $[a, b]$ divide el área bajo la curva en una serie de trapecios, en lugar de rectángulos. Esta fórmula se expresa como:\n",
        "\n",
        "$$\n",
        "\\int_a^b f(x) \\, dx \\approx \\frac{h}{2} \\left[ f(a) + 2 \\sum_{i=1}^{n-1} f(x_i) + f(b) \\right] -\\frac{h^3}{12}f''(\\xi)\n",
        "$$\n",
        "\n",
        "donde:\n",
        "\n",
        "- $h = \\frac{b - a}{n}$ es el ancho de cada subintervalo.\n",
        "- $f(a)$ y $f(b)$ son los valores de la función en los extremos del intervalo.\n",
        "- $x_i = a + i \\cdot h$ son los puntos intermedios donde se evalúa la función, con $i = 1, 2, \\ldots, n-1$.\n"
      ],
      "metadata": {
        "id": "DxDu3ZtI7_9W"
      }
    },
    {
      "cell_type": "code",
      "source": [
        "#@title Trapecio\n",
        "def trapecio(f, a, b, n):\n",
        "  '''\n",
        "  f: función a integrar\n",
        "  a: límite inferior\n",
        "  b: límite superior\n",
        "  n: número de intervalos\n",
        "  return: valor de la integral\n",
        "  '''\n",
        "  h = (b - a) / n\n",
        "  integral = 0.5 * (f(a) + f(b))\n",
        "  for i in range(1, n):\n",
        "    x_i = a + i * h\n",
        "    integral += f(x_i)\n",
        "  return integral * h"
      ],
      "metadata": {
        "id": "uQVv4XNP8Bux",
        "cellView": "form"
      },
      "execution_count": 6,
      "outputs": []
    },
    {
      "cell_type": "code",
      "source": [
        "f = lambda x: np.sin(x*2.2)+np.exp(0.1*x*2)+2\n",
        "a = 0\n",
        "b = 8\n",
        "n = 8\n",
        "result = trapecio(f, a, b, n)\n",
        "print(result)"
      ],
      "metadata": {
        "colab": {
          "base_uri": "https://localhost:8080/"
        },
        "id": "kudNqfLjDOAJ",
        "outputId": "b97c1b4f-f3dc-465e-b7d4-c4c7bf68b80e"
      },
      "execution_count": 7,
      "outputs": [
        {
          "output_type": "stream",
          "name": "stdout",
          "text": [
            "36.005134417200615\n"
          ]
        }
      ]
    },
    {
      "cell_type": "code",
      "source": [
        "n = 8   # número de áreas a sumar (debe ser par para Simpson).\n",
        "a,b  = 0,8                                           # intervalo.\n",
        "f = lambda x: np.sin(x*2.2)+np.exp(0.1*x*2)+2        # función a integrar.\n",
        "\n",
        "plt.figure(1,figsize = (8,5))\n",
        "area_curva(f,a,b, n) # Riemann"
      ],
      "metadata": {
        "colab": {
          "base_uri": "https://localhost:8080/",
          "height": 454
        },
        "id": "j4JidWYqEQ9z",
        "outputId": "71728cc8-3cc2-41ba-cd00-691face07e72"
      },
      "execution_count": 8,
      "outputs": [
        {
          "output_type": "display_data",
          "data": {
            "text/plain": [
              "<Figure size 800x500 with 1 Axes>"
            ],
            "image/png": "[encoded data removed]"
          },
          "metadata": {}
        }
      ]
    },
    {
      "cell_type": "markdown",
      "source": [
        "## 3. Método de Simpson\n",
        "   Utiliza parábolas para aproximar el área bajo la curva. Este método es más preciso que el del trapecio y se aplica generalmente a funciones suaves.\n",
        "\n",
        "### Método de Simpson 1/3\n",
        "\n",
        "La **fórmula del método de Simpson 1/3** para aproximar una integral definida en el intervalo $[a, b]$ es:\n",
        "\n",
        "$$\n",
        "\\int_a^b f(x) \\, dx \\approx \\frac{h}{3} \\left[ f(a) + 4 \\sum_{\\text{impares}} f(x_i) + 2 \\sum_{\\text{pares}} f(x_i) + f(b) \\right] -\\frac{h^5}{90}f^{(4)}(\\xi)\n",
        "$$\n",
        "\n",
        "donde:\n",
        "\n",
        "- $h = \\frac{b - a}{n}$ es el ancho de cada subintervalo, y $n$ debe ser par.\n",
        "- $f(a)$ y $f(b)$ son los valores de la función en los extremos del intervalo.\n",
        "- La suma de los términos **impares** es sobre los valores de $i = 1, 3, 5, \\ldots, n-1$.\n",
        "- La suma de los términos **pares** es sobre los valores de $i = 2, 4, 6, \\ldots, n-2$.\n",
        "\n",
        "\n"
      ],
      "metadata": {
        "id": "GE_rXzXB8B8J"
      }
    },
    {
      "cell_type": "code",
      "source": [
        "#@title Simpson 1/3\n",
        "def simpson13(f, a, b, n):\n",
        "  '''\n",
        "  f: función a integrar\n",
        "  a: límite inferior\n",
        "  b: límite superior\n",
        "  n: número de intervalos\n",
        "  return: valor de la integral\n",
        "  '''\n",
        "  h = (b - a) / n\n",
        "  integral = (f(a) + f(b))\n",
        "  # Suma de los términos impares\n",
        "  for i in range(1, n, 2):\n",
        "    x_i = a + i * h\n",
        "    integral += 4 * f(x_i)\n",
        "  # Suma de los términos pares\n",
        "  for i in range(2, n, 2):\n",
        "    x_i = a + i * h\n",
        "    integral += 2 * f(x_i)\n",
        "  return integral * h/3\n"
      ],
      "metadata": {
        "cellView": "form",
        "id": "GQhhAz7v8DWm"
      },
      "execution_count": 9,
      "outputs": []
    },
    {
      "cell_type": "code",
      "source": [
        "n = 8   # número de áreas a sumar (debe ser par para Simpson).\n",
        "a,b  = 0,8                                           # intervalo.\n",
        "f = lambda x: np.sin(x*2.2)+np.exp(0.1*x*2)+2        # función a integrar.\n",
        "\n",
        "result = simpson13(f, a, b, n)\n",
        "print(result)"
      ],
      "metadata": {
        "colab": {
          "base_uri": "https://localhost:8080/"
        },
        "id": "ZbjFSw5-Gens",
        "outputId": "9b4795a2-0481-4c01-b201-f2e82bb9206a"
      },
      "execution_count": 10,
      "outputs": [
        {
          "output_type": "stream",
          "name": "stdout",
          "text": [
            "36.16353579238865\n"
          ]
        }
      ]
    },
    {
      "cell_type": "code",
      "source": [
        "plt.figure(3,figsize = (8,5))\n",
        "area_curva(f,a,b,n) # Simpson"
      ],
      "metadata": {
        "colab": {
          "base_uri": "https://localhost:8080/",
          "height": 454
        },
        "id": "w6A1-qa5GiHH",
        "outputId": "83d63a79-f9a2-4d42-f01e-4b781bc71b48"
      },
      "execution_count": 11,
      "outputs": [
        {
          "output_type": "display_data",
          "data": {
            "text/plain": [
              "<Figure size 800x500 with 1 Axes>"
            ],
            "image/png": "[encoded data removed]"
          },
          "metadata": {}
        }
      ]
    },
    {
      "cell_type": "markdown",
      "source": [
        "### Método de Simpson 3/8\n",
        "\n",
        "La **fórmula del método de Simpson 3/8** para aproximar una integral definida en el intervalo $[a, b]$ es:\n",
        "\n",
        "$$\n",
        "\\int_a^b f(x) \\, dx \\approx \\frac{3h}{8} \\left[ f(a) + 3 \\sum_{\\text{no múltiplos de 3}} f(x_i) + 2 \\sum_{\\text{múltiplos de 3}} f(x_i) + f(b) \\right]\n",
        "$$\n",
        "\n",
        "donde:\n",
        "\n",
        "- $h = \\frac{b - a}{n}$ es el ancho de cada subintervalo, y $n$ debe ser múltiplo de 3.\n",
        "- $f(a)$ y $f(b)$ son los valores de la función en los extremos del intervalo.\n",
        "- La suma de los términos con coeficiente 3 es sobre los valores de $f(x_i)$ donde $i$ no es múltiplo de 3.\n",
        "- La suma de los términos con coeficiente 2 es sobre los valores de $f(x_i)$ donde $i$ es múltiplo de 3, excluyendo $a$ y $b$."
      ],
      "metadata": {
        "id": "AQtavS15Kyn2"
      }
    },
    {
      "cell_type": "code",
      "source": [
        "#@title Simpson 3/8\n",
        "def simpson38(f, a, b, n):\n",
        "  '''\n",
        "  f: función a integrar\n",
        "  a: límite inferior\n",
        "  b: límite superior\n",
        "  n: número de intervalos\n",
        "  return: valor de la integral\n",
        "  '''\n",
        "  # Verificar que el número de intervalos es múltiplo de 3\n",
        "  if n % 3 != 0:\n",
        "      raise ValueError(\"El número de subintervalos 'n' debe ser múltiplo de 3 para el método de Simpson 3/8.\")\n",
        "\n",
        "  h = (b - a) / n\n",
        "  integral = (3 * h / 8) * (f(a) + f(b))\n",
        "  integral_3 = 0\n",
        "  integral_no3 = 0\n",
        "\n",
        "  for i in range(1, n):\n",
        "      x_i = a + i * h\n",
        "      # Coeficiente 3 para los puntos que no son múltiplos de 3, coeficiente 2 para los múltiplos de 3\n",
        "      if i % 3 == 0:\n",
        "          integral_3 += 2 * f(x_i)\n",
        "      else:\n",
        "          integral_no3 += 3 * f(x_i)\n",
        "\n",
        "  # Multiplicar por el factor de Simpson 3/8\n",
        "  integral += (3 * h / 8) * (integral_3 + integral_no3)\n",
        "\n",
        "  return integral"
      ],
      "metadata": {
        "cellView": "form",
        "id": "tupRpYOMIF8g"
      },
      "execution_count": 12,
      "outputs": []
    },
    {
      "cell_type": "code",
      "source": [
        "a,b  = 0,8                                           # intervalo.\n",
        "f = lambda x: np.sin(x*2.2)+np.exp(0.1*x*2)+2\n",
        "\n",
        "result = simpson38(f, a, b, n=9)\n",
        "print(result)"
      ],
      "metadata": {
        "colab": {
          "base_uri": "https://localhost:8080/"
        },
        "id": "Dw4To74mMFZ_",
        "outputId": "55da6c9f-4303-4f46-b4cf-cff4dbc4a264"
      },
      "execution_count": 13,
      "outputs": [
        {
          "output_type": "stream",
          "name": "stdout",
          "text": [
            "36.53563935490565\n"
          ]
        }
      ]
    },
    {
      "cell_type": "markdown",
      "source": [
        "# Integración usando `scipy.integrate`\n",
        "\n",
        "La integración numérica es útil cuando necesitamos calcular el área bajo una curva o resolver una integral definida, pero no tenemos una solución analítica o cuando estamos trabajando con datos discretos en lugar de una función continua. Scipy tiene algunos métodos númericos que nos pueden ayudar [ver documentación](https://docs.scipy.org/doc/scipy/reference/integrate.html)."
      ],
      "metadata": {
        "id": "nLKawEwyNs7t"
      }
    },
    {
      "cell_type": "code",
      "source": [
        "from scipy.integrate import trapezoid # Método trapezoidal\n",
        "from scipy.integrate import simpson # Método Simpson\n"
      ],
      "metadata": {
        "id": "Sh_bbnseOCXl"
      },
      "execution_count": 14,
      "outputs": []
    },
    {
      "cell_type": "code",
      "source": [
        "a,b  = 0,8\n",
        "f = lambda x: np.sin(x*2.2)+np.exp(0.1*x*2)+2\n",
        "x = np.linspace(a, b, 100)\n",
        "\n",
        "integral_trapezoidal = trapezoid(f(x), x)\n",
        "integral_simpson = simpson(f(x), x=x)\n",
        "\n",
        "print(\"Integral trapezoidal:\", integral_trapezoidal)\n",
        "print(\"Integral Simpson:\", integral_simpson)\n"
      ],
      "metadata": {
        "colab": {
          "base_uri": "https://localhost:8080/"
        },
        "id": "5zZQCekEOXLI",
        "outputId": "57061a27-fbff-4a81-c1cd-0666fde5d0e6"
      },
      "execution_count": 15,
      "outputs": [
        {
          "output_type": "stream",
          "name": "stdout",
          "text": [
            "Integral trapezoidal: 36.07579831037921\n",
            "Integral Simpson: 36.0761867924282\n"
          ]
        }
      ]
    },
    {
      "cell_type": "markdown",
      "source": [
        "# Método de Integración de Romberg\n",
        "\n",
        "El **método de integración de Romberg** es una técnica numérica para aproximar el valor de una integral definida de la forma:\n",
        "\n",
        "$$\n",
        "\\int_a^b f(x) \\, dx\n",
        "$$\n",
        "\n",
        "Este método se basa en la **extrapolación de Richardson** aplicada al **método del trapecio** de manera iterativa, para mejorar la precisión de la aproximación. Romberg utiliza los valores calculados con el método del trapecio en distintos pasos para generar una sucesión de valores que convergen rápidamente al valor exacto de la integral.\n",
        "\n",
        "Para aproximar la integral, se aplica el método del trapecio con distintos valores de la distancia entre los puntos de evaluación (paso $h$). El proceso se inicia con un paso inicial grande y se va refinando iterativamente, obteniendo una matriz triangular de valores cada vez más precisos, conocida como **tabla de Romberg**.\n",
        "\n",
        "Si definimos $T(h)$ como la aproximación de la integral usando el método del trapecio con paso $h$,\n",
        "\n",
        "$$\n",
        "T(h) \\approx \\frac{h}{2} \\left[ f(a) + 2 \\sum_{i=1}^{n-1} f(x_i) + f(b) \\right] -\\frac{b − a}{12}h^2f''(\\xi)\n",
        "$$\n",
        "\n",
        "\n",
        "entonces cada paso se calcula a partir de los valores previos mediante la fórmula:\n",
        "\n",
        "$$\n",
        "R_{k,j} = R_{k,j-1} + \\frac{R_{k,j-1} - R_{k-1,j-1}}{4^{j-1} - 1}\n",
        "$$\n",
        "\n",
        "donde $R_{k,j}$ representa la entrada en la fila $k$ y columna $j$ de la tabla de Romberg. En esta fórmula:\n",
        "\n",
        "- $R_{k,0}$ es la aproximación inicial de la integral para un número específico de divisiones usando el método del trapecio.\n",
        "- $R_{k,j}$ es la extrapolación de Richardson aplicada al valor $R_{k,j-1}$ para aumentar la precisión.\n",
        "\n",
        "## Construcción de la Tabla de Romberg\n",
        "\n",
        "1. **Paso inicial**: Se aplica el método del trapecio con un paso grande $h$ para obtener $R_{0,0}$, que es la aproximación inicial de la integral.\n",
        "2. **Iteración**: Para cada iteración $k$, se reduce el tamaño de paso a la mitad ($h = h/2$), y se recalcula la integral aproximada con este nuevo paso.\n",
        "3. **Extrapolación**: Usando los valores de la integral calculados en los pasos anteriores, se aplica la fórmula de extrapolación para llenar la tabla de Romberg hasta que la convergencia deseada sea alcanzada.\n",
        "\n",
        "La tabla de Romberg resultante tiene la siguiente estructura:\n",
        "\n",
        "$$\n",
        "\\begin{array}{cccc}\n",
        "R_{0,0} & R_{0,1} & R_{0,2} & \\cdots \\\\\n",
        "R_{1,0} & R_{1,1} & R_{1,2} & \\cdots \\\\\n",
        "R_{2,0} & R_{2,1} & R_{2,2} & \\cdots \\\\\n",
        "\\vdots  & \\vdots  & \\vdots  & \\ddots \\\\\n",
        "\\end{array}\n",
        "$$\n",
        "\n",
        "\n",
        "\n",
        "\n",
        "\n",
        "\n"
      ],
      "metadata": {
        "id": "TK4KzD_FUu4w"
      }
    },
    {
      "cell_type": "markdown",
      "source": [
        "## Ejemplo de Cálculo de una Integral con el Método de Romberg\n",
        "\n",
        "Vamos a aproximar la integral definida:\n",
        "\n",
        "$$\n",
        "\\int_0^1 e^x \\, dx\n",
        "$$\n",
        "\n",
        "Sabemos que el valor exacto de esta integral es $ e - 1 $, pero vamos a calcular su aproximación usando el método de Romberg.\n",
        "\n",
        "1. **Primera Aproximación con $ T(h) $ para diferentes valores de $ h $**:\n",
        "\n",
        "   - Con $ h = 1 $: $$ T(h) = \\frac{1}{2}(f(0) + f(1)) = \\frac{1}{2}(1 + e) \\approx 1.85914 $$\n",
        "   - Con $ h = 0.5 $: Calculamos puntos intermedios en $ x = 0.5 $:\n",
        "\n",
        "     $$\n",
        "     T(h) = \\frac{0.5}{2}(f(0) + 2f(0.5) + f(1)) \\approx 1.75393\n",
        "     $$\n",
        "\n",
        "   - Con $ h = 0.25 $: Calculamos puntos intermedios en $ x = 0.25, 0.5, 0.75 $:\n",
        "\n",
        "     $$\n",
        "     T(h) \\approx 1.72722\n",
        "     $$\n",
        "\n",
        "2. **Construcción de la Tabla de Romberg**\n",
        "\n",
        "   Usamos la extrapolación para llenar la tabla de Romberg:\n",
        "\n",
        "   $$\n",
        "   \\begin{array}{cccc}\n",
        "   R_{0,0} & & & \\\\\n",
        "   R_{1,0} & R_{1,1} & & \\\\\n",
        "   R_{2,0} & R_{2,1} & R_{2,2} & \\\\\n",
        "   \\end{array}\n",
        "   $$\n",
        "\n",
        "   - $ R_{0,0} = T(1) \\approx 1.85914 $\n",
        "   - $ R_{1,0} = T(0.5) \\approx 1.75393 $\n",
        "   - $ R_{2,0} = T(0.25) \\approx 1.72722 $\n",
        "\n",
        "   Ahora, aplicamos la extrapolación de Richardson para completar las siguientes filas:\n",
        "\n",
        "   - $ R_{1,1} = R_{1,0} + \\frac{R_{1,0} - R_{0,0}}{4 - 1} \\approx 1.71886 $\n",
        "   - $ R_{2,1} = R_{2,0} + \\frac{R_{2,0} - R_{1,0}}{4 - 1} \\approx 1.71832 $\n",
        "   - $ R_{2,2} = R_{2,1} + \\frac{R_{2,1} - R_{1,1}}{4^2 - 1} \\approx 1.71828 $\n",
        "\n",
        "   La tabla final es:\n",
        "\n",
        "   $$\n",
        "   \\begin{array}{ccc}\n",
        "   1.85914 & & \\\\\n",
        "   1.75393 & 1.71886 & \\\\\n",
        "   1.72722 & 1.71832 & 1.71828 \\\\\n",
        "   \\end{array}\n",
        "   $$\n",
        "\n",
        "3. **Resultado Final**\n",
        "\n",
        "   La mejor aproximación de la integral es $ R_{2,2} \\approx 1.71828 $, que es muy cercana al valor exacto $ e - 1 \\approx 1.71828 $.\n",
        "\n",
        "Este ejemplo muestra cómo el método de Romberg utiliza la extrapolación para refinar las aproximaciones del método del trapecio, logrando una alta precisión con pocas iteraciones.\n"
      ],
      "metadata": {
        "id": "8L3RHUxMWGkL"
      }
    },
    {
      "cell_type": "code",
      "source": [
        "from scipy.integrate import romberg\n",
        "romberg(f, a, b, show=True)"
      ],
      "metadata": {
        "colab": {
          "base_uri": "https://localhost:8080/"
        },
        "id": "EN5ctrPcYo0e",
        "outputId": "69e55814-fcde-45ed-e140-e523c5418fae"
      },
      "execution_count": 16,
      "outputs": [
        {
          "output_type": "stream",
          "name": "stdout",
          "text": [
            "Romberg integration of <function vectorize1.<locals>.vfunc at 0x7fc1862657e0> from [0, 8]\n",
            "\n",
            " Steps  StepSize   Results\n",
            "     1  8.000000 36.016752 \n",
            "     2  4.000000 37.250208 37.661361 \n",
            "     4  2.000000 35.529930 34.956504 34.776181 \n",
            "     8  1.000000 36.005134 36.163536 36.244005 36.267303 \n",
            "    16  0.500000 36.060643 36.079146 36.073520 36.070814 36.070043 \n",
            "    32  0.250000 36.072425 36.076352 36.076166 36.076208 36.076229 36.076235 \n",
            "    64  0.125000 36.075255 36.076198 36.076187 36.076188 36.076188 36.076188 36.076188 \n",
            "   128  0.062500 36.075955 36.076188 36.076188 36.076188 36.076188 36.076188 36.076188 36.076188 \n",
            "\n",
            "The final result is 36.07618768796527 after 129 function evaluations.\n"
          ]
        },
        {
          "output_type": "stream",
          "name": "stderr",
          "text": [
            "<ipython-input-16-3ddbc3a3f987>:2: DeprecationWarning: `scipy.integrate.romberg` is deprecated as of SciPy 1.12.0and will be removed in SciPy 1.15.0. Please use`scipy.integrate.quad` instead.\n",
            "  romberg(f, a, b, show=True)\n"
          ]
        },
        {
          "output_type": "execute_result",
          "data": {
            "text/plain": [
              "36.07618768796527"
            ]
          },
          "metadata": {},
          "execution_count": 16
        }
      ]
    },
    {
      "cell_type": "markdown",
      "source": [
        "# Solución *exacta*\n",
        "\n",
        "En ocasiones podemos obtener la solución simbólica exacta usando `sympy`"
      ],
      "metadata": {
        "id": "uD7_nQsMQYbQ"
      }
    },
    {
      "cell_type": "code",
      "source": [
        "from sympy import integrate, symbols, sin, exp"
      ],
      "metadata": {
        "id": "y3JpfmVyQW8W"
      },
      "execution_count": 17,
      "outputs": []
    },
    {
      "cell_type": "code",
      "source": [
        "x = symbols('x')\n",
        "f = sin(2.2*x) + exp(0.2*x) + 2\n",
        "integrate(f, (x, 0, 8))\n",
        "#integrate(f,x)"
      ],
      "metadata": {
        "colab": {
          "base_uri": "https://localhost:8080/",
          "height": 37
        },
        "id": "-Rp9zQg-Qi8v",
        "outputId": "d4a447bc-b534-4200-e1e3-9ee16f14ff42"
      },
      "execution_count": 18,
      "outputs": [
        {
          "output_type": "execute_result",
          "data": {
            "text/plain": [
              "36.0761876879214"
            ],
            "text/latex": "$\\displaystyle 36.0761876879214$"
          },
          "metadata": {},
          "execution_count": 18
        }
      ]
    }
  ]
}
