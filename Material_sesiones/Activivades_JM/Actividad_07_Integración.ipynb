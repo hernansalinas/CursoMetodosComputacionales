{
  "nbformat": 4,
  "nbformat_minor": 0,
  "metadata": {
    "colab": {
      "provenance": []
    },
    "kernelspec": {
      "name": "python3",
      "display_name": "Python 3"
    },
    "language_info": {
      "name": "python"
    }
  },
  "cells": [
    {
      "cell_type": "code",
      "execution_count": 1,
      "metadata": {
        "id": "rZuc8vXcWuxy",
        "cellView": "form"
      },
      "outputs": [],
      "source": [
        "#@title Librerias\n",
        "import numpy as np\n",
        "import matplotlib.pyplot as plt\n",
        "import pandas as pd\n",
        "import sympy as sp\n",
        "from scipy.integrate import simpson, romberg, trapezoid"
      ]
    },
    {
      "cell_type": "markdown",
      "source": [
        "# Actividad 07: Integración\n",
        "\n",
        "---\n",
        "### Profesor: Juan Marcos Marín\n",
        "### Nombre: ______\n",
        "*Métodos computacionales 2024-II*\n",
        "\n",
        "---"
      ],
      "metadata": {
        "id": "MGwGfceuWxy3"
      }
    },
    {
      "cell_type": "markdown",
      "source": [
        "#1\n",
        "* Implemente una función para el **método de integración de Romberg** definiendo un límite de tolerancia de 1e-8 y/o un máximo de iteraciones de 10.\n",
        "\n",
        "* Encuentre la integral para\n",
        "\n",
        "$$\\int_0^{\\pi/4} dx\\, e^{3x}\\cdot \\sin(x)$$\n",
        "\n",
        "* Imprima su resultado y compare los valores dados por `scipy.integrate.romberg`\n",
        "\n",
        "* Finalmente, encuentre el valor del error, hallando el valor exacto usando `sympy`\n",
        "\n"
      ],
      "metadata": {
        "id": "_qpgPAtHNgPB"
      }
    },
    {
      "cell_type": "code",
      "source": [],
      "metadata": {
        "id": "Y0nXXFcnNe2R"
      },
      "execution_count": null,
      "outputs": []
    },
    {
      "cell_type": "markdown",
      "source": [
        "#2\n",
        "\n",
        "* Usando los *métodos trapezoidal compuesto*, *simpson 1/3* y de *medio punto* encuentre la siguiente integral,\n",
        "\n",
        "$$\\int_e^{1+e} dx\\, \\frac{1}{x\\ln x}$$\n",
        "\n",
        "* Luego, haga un estudio de la convergencia en términos del valor de $h$ o de los sub-intervalos de la función. ¿Cuál es mejor?\n"
      ],
      "metadata": {
        "id": "Db9dUFTSQcLY"
      }
    },
    {
      "cell_type": "code",
      "source": [],
      "metadata": {
        "id": "uEPXP21uQc_o"
      },
      "execution_count": null,
      "outputs": []
    },
    {
      "cell_type": "markdown",
      "source": [
        "#3\n",
        "Usando la siguiente función:\n",
        "\n",
        "\n",
        "\n",
        "```python\n",
        "def gauss_quad_standard(func, n):\n",
        "    \"\"\"\n",
        "    Calcula la integral de una función en el intervalo [-1, 1]\n",
        "    utilizando cuadratura gaussiana.\n",
        "\n",
        "    Parameters:\n",
        "    - func: La función a integrar.\n",
        "    - n: Número de puntos para la cuadratura (grado del polinomio de Legendre).\n",
        "\n",
        "    Returns:\n",
        "    - Aproximación de la integral.\n",
        "    \"\"\"\n",
        "    # Obtener raíces y pesos del polinomio de Legendre\n",
        "    x, w = roots_legendre(n)\n",
        "\n",
        "    # Evaluar la suma ponderada\n",
        "    integral = np.sum(w * func(x))\n",
        "    return integral\n",
        "```\n",
        "\n",
        "Modifique la función `gauss_quad_standard` de forma tal que no este restringida para $[-1,1]$ sino para cualquier intervalo $[a,b]$. Luego, encuentre la integral del *punto 2*.\n",
        "\n",
        "\n",
        "\n"
      ],
      "metadata": {
        "id": "3fLo8sm8RqA0"
      }
    },
    {
      "cell_type": "code",
      "source": [],
      "metadata": {
        "id": "0XQga3HfSE9n"
      },
      "execution_count": null,
      "outputs": []
    },
    {
      "cell_type": "markdown",
      "source": [
        "#4\n",
        "\n",
        "Encuentra todas las raices para los polinomios de grado 3 y 4 de **Legendre** usando el Método de la Secante y Newton-Raphson.\n",
        "\n",
        "\n",
        "\n",
        "```python\n",
        "import sympy as sp\n",
        "x = sp.Symbol('x')\n",
        "\n",
        "# Polinomio de Legendre de grado n\n",
        "Pn = sp.legendre(n, x)\n",
        "\n",
        "```\n",
        "\n",
        "y calcule los pesos $w_i$ de la cuadratura mediante la fórmula:\n",
        "   $$\n",
        "   w_i = \\frac{2}{(1 - x_i^2) \\left[P_n'(x_i)\\right]^2},\n",
        "   $$\n",
        "   donde $P_n'(x)$ es la derivada del polinomio de Legendre $P_n(x)$.\n"
      ],
      "metadata": {
        "id": "hvSy6jouSLiJ"
      }
    },
    {
      "cell_type": "code",
      "source": [],
      "metadata": {
        "id": "EZNA4VoXSXiT"
      },
      "execution_count": null,
      "outputs": []
    }
  ]
}