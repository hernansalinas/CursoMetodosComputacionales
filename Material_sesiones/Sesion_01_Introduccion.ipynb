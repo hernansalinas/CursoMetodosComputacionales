{
  "nbformat": 4,
  "nbformat_minor": 0,
  "metadata": {
    "colab": {
      "provenance": []
    },
    "kernelspec": {
      "name": "python3",
      "display_name": "Python 3"
    },
    "language_info": {
      "name": "python"
    }
  },
  "cells": [
    {
      "cell_type": "markdown",
      "source": [
        "<a href=\"https://colab.research.google.com/github/hernansalinas/CursoMetodosComputacionales/blob/main/Material_sesiones/Sesion_01_Introduccion.ipynb\" target=\"_parent\"><img src=\"https://colab.research.google.com/assets/colab-badge.svg\" alt=\"Open In Colab\"/></a>"
      ],
      "metadata": {
        "id": "SrM_s3av1xvQ"
      }
    },
    {
      "cell_type": "markdown",
      "source": [
        "# Introducción a Jupyter Notebooks\n",
        "\n",
        "Jupyter Notebooks es una herramienta poderosa y versátil para la programación, análisis de datos y la creación de documentos interactivos. A continuación, se presentan los aspectos más importantes de Jupyter Notebooks.\n",
        "\n",
        "## Características Clave\n",
        "\n",
        "### 1. Código Ejecutable\n",
        "- **Lenguajes Soportados**: Principalmente Python, pero también puede ejecutar código en R, Julia y otros lenguajes mediante el uso de kernels adecuados.\n",
        "- **Celdas de Código**: Permite escribir y ejecutar código en celdas independientes. Los resultados se muestran inmediatamente debajo de la celda ejecutada.\n",
        "\n",
        "### 2. Texto Formateado\n",
        "- **Markdown**: Incluye texto enriquecido utilizando Markdown, lo cual permite agregar secciones, listas, enlaces y más.\n",
        "- **Ecuaciones Matemáticas**: Utiliza LaTeX para incluir ecuaciones matemáticas y símbolos dentro del texto.\n",
        "\n",
        "### 3. Visualizaciones\n",
        "- **Gráficos**: Integra gráficos y visualizaciones generadas por bibliotecas como Matplotlib (Python), ggplot2 (R), y más.\n",
        "- **Interactividad**: Permite la creación de gráficos interactivos y widgets para ajustar parámetros y ver los resultados en tiempo real.\n",
        "\n",
        "### 4. Documentación y Reportes\n",
        "- **Combina Código y Texto**: Permite documentar el análisis y los resultados en el mismo documento que el código, facilitando la creación de informes reproducibles.\n",
        "- **Exportación**: Los notebooks se pueden exportar a formatos como HTML, PDF y LaTeX para compartir y publicar.\n"
      ],
      "metadata": {
        "id": "GEUkYw0-1BlC"
      }
    },
    {
      "cell_type": "markdown",
      "source": [
        "# Introducción a Conceptos Básicos de Programación en Python\n",
        "\n",
        "En este documento, cubriremos conceptos fundamentales de programación en Python: variables, expresiones, condicionales funcionales y ciclos. Cada concepto se ilustrará con ejemplos prácticos.\n",
        "\n",
        "## Variables\n",
        "\n",
        "Las variables son contenedores para almacenar datos. En Python, puedes asignar valores a las variables utilizando el operador `=`. Una variable puede almacenar diferentes tipos de datos, como números, cadenas de texto o listas.\n",
        "\n",
        "### Ejemplo de Variables\n",
        "\n",
        "```python\n",
        "# Asignación de valores a variables\n",
        "nombre = \"Alice\"   # Variable de tipo cadena\n",
        "edad = 30          # Variable de tipo entero\n",
        "altura = 1.65      # Variable de tipo flotante\n",
        "\n",
        "# Imprimir el valor de las variables\n",
        "print(nombre)      # Salida: Alice\n",
        "print(edad)        # Salida: 30\n",
        "print(altura)      # Salida: 1.65\n",
        "\n",
        "Ejecuta tu codigo en la siguiente celda:\n",
        "\n"
      ],
      "metadata": {
        "id": "qUKI3zmW3NCY"
      }
    },
    {
      "cell_type": "code",
      "source": [
        "..."
      ],
      "metadata": {
        "colab": {
          "base_uri": "https://localhost:8080/"
        },
        "id": "6_AOHmVn3PeM",
        "outputId": "cc64d0d5-13ed-41e6-b55d-17ab57d85e16"
      },
      "execution_count": null,
      "outputs": [
        {
          "output_type": "execute_result",
          "data": {
            "text/plain": [
              "Ellipsis"
            ]
          },
          "metadata": {},
          "execution_count": 25
        }
      ]
    },
    {
      "cell_type": "markdown",
      "source": [
        "# Expresiones\n",
        "Las expresiones son combinaciones de variables, operadores y valores que se evalúan para producir un resultado. Las expresiones pueden ser matemáticas, lógicas, o de otro tipo.\n",
        "\n",
        "# Ejemplo de Expresiones\n",
        "\n",
        "\n",
        "```python\n",
        "a = 10\n",
        "b = 5\n",
        "suma = a + b          # Expresión de suma\n",
        "producto = a * b      # Expresión de multiplicación\n",
        "\n",
        "# Expresiones lógicas\n",
        "es_mayor = a > b      # Expresión de comparación\n",
        "\n",
        "print(suma)           # Salida: 15\n",
        "print(producto)       # Salida: 50\n",
        "print(es_mayor)       # Salida: True\n",
        "```\n",
        "\n",
        "Ejecuta tu codigo en la siguiente celda:\n"
      ],
      "metadata": {
        "id": "4_M9Xn4E3afS"
      }
    },
    {
      "cell_type": "code",
      "source": [
        "...\n"
      ],
      "metadata": {
        "colab": {
          "base_uri": "https://localhost:8080/"
        },
        "id": "0wGeUuzf3nqX",
        "outputId": "a93db472-ddb0-4687-ed85-ca340f415718"
      },
      "execution_count": null,
      "outputs": [
        {
          "output_type": "execute_result",
          "data": {
            "text/plain": [
              "Ellipsis"
            ]
          },
          "metadata": {},
          "execution_count": 26
        }
      ]
    },
    {
      "cell_type": "markdown",
      "source": [
        "# Condicionales\n",
        "\n",
        "Los condicionales permiten ejecutar bloques de código basados en ciertas condiciones. En Python, se utilizan las sentencias `if`, `elif` y `else` para tomar decisiones.\n",
        "\n",
        "Ejemplo de Condicionales\n",
        "\n",
        "```python\n",
        "# Definir una variable\n",
        "temperatura = 20\n",
        "\n",
        "# Condicionales\n",
        "if temperatura > 30:\n",
        "    print(\"Hace calor\")\n",
        "elif temperatura > 15:\n",
        "    print(\"El clima es agradable\")\n",
        "else:\n",
        "    print(\"Hace frío\")\n",
        "\n",
        "# Salida: El clima es agradable\n",
        "```\n",
        "Ejecuta tu codigo en la siguiente celda:\n"
      ],
      "metadata": {
        "id": "JR-xQH0t3ozy"
      }
    },
    {
      "cell_type": "code",
      "source": [
        "..."
      ],
      "metadata": {
        "colab": {
          "base_uri": "https://localhost:8080/"
        },
        "id": "npbJik-e4U-V",
        "outputId": "5a028ad7-4f46-4839-89c8-d090a3fe3ad4"
      },
      "execution_count": null,
      "outputs": [
        {
          "output_type": "execute_result",
          "data": {
            "text/plain": [
              "Ellipsis"
            ]
          },
          "metadata": {},
          "execution_count": 27
        }
      ]
    },
    {
      "cell_type": "markdown",
      "source": [
        "\n",
        "# Ciclo for\n",
        "\n",
        "Los ciclos permiten ejecutar un bloque de código repetidamente. En Python, los ciclos más comunes son for y while.\n",
        "\n",
        "```python\n",
        "# Ciclo 'for' para iterar sobre una lista\n",
        "frutas = [\"manzana\", \"banana\", \"cereza\"]\n",
        "\n",
        "for fruta in frutas:\n",
        "    print(fruta)\n",
        "```\n",
        "\n",
        "# Ciclo while\n",
        "\n",
        "```python\n",
        "# Ciclo 'while' para contar hasta 5\n",
        "contador = 1\n",
        "\n",
        "while contador <= 5:\n",
        "    print(contador)\n",
        "    contador += 1\n",
        "\n",
        "```\n",
        "Ejecuta tu codigo en la siguiente celda:\n"
      ],
      "metadata": {
        "id": "oZlfTWZs34XM"
      }
    },
    {
      "cell_type": "code",
      "source": [
        "..."
      ],
      "metadata": {
        "colab": {
          "base_uri": "https://localhost:8080/"
        },
        "id": "jP5Bb9rv4YXZ",
        "outputId": "87a40c1f-5d46-40e3-ef0a-1679ab9f1d27"
      },
      "execution_count": null,
      "outputs": [
        {
          "output_type": "execute_result",
          "data": {
            "text/plain": [
              "Ellipsis"
            ]
          },
          "metadata": {},
          "execution_count": 28
        }
      ]
    },
    {
      "cell_type": "markdown",
      "source": [
        "# Ejercicio:\n",
        "\n",
        "1. Construir un algoritmo para determinar si un número es primo o no."
      ],
      "metadata": {
        "id": "xk-0JWdB1BiX"
      }
    },
    {
      "cell_type": "code",
      "execution_count": null,
      "metadata": {
        "id": "HI_YYrsNx589"
      },
      "outputs": [],
      "source": [
        "def divisores(N):\n",
        "  count=0\n",
        "\n",
        "  for i in range(1, N):\n",
        "    if(N%i==0):\n",
        "      count=count+1\n",
        "  if (count<2):\n",
        "      print(f\"el numero {N} es número primo, tiene 2 divisores\")\n",
        "  else:\n",
        "    print(f\"el numero {N} no es número primo\")\n"
      ]
    },
    {
      "cell_type": "markdown",
      "source": [
        "```python\n",
        "#!/bin/bash\n",
        "\n",
        "divisores() {\n",
        "    local N=$1\n",
        "    local count=0\n",
        "\n",
        "    for (( i=1; i<N; i++ )); do\n",
        "        if (( N % i == 0 )); then\n",
        "            (( count++ ))\n",
        "        fi\n",
        "    done\n",
        "\n",
        "    if (( count < 2 )); then\n",
        "        echo \"el numero $N es número primo, tiene 2 divisores\"\n",
        "    else\n",
        "        echo \"el numero $N no es número primo\"\n",
        "    fi\n",
        "}\n",
        "\n",
        "# Leer el número del usuario\n",
        "read -p \"Introduce un número: \" numero\n",
        "divisores \"$numero\"\n",
        "```"
      ],
      "metadata": {
        "id": "mnAGQBcj1LVL"
      }
    },
    {
      "cell_type": "markdown",
      "source": [
        "# Codigo en Julia\n",
        "```python\n",
        "function divisores(N::Int)\n",
        "    count = 0\n",
        "\n",
        "    for i in 1:(N-1)\n",
        "        if N % i == 0\n",
        "            count += 1\n",
        "        end\n",
        "    end\n",
        "\n",
        "    if count < 2\n",
        "        println(\"el numero $N es número primo, tiene 2 divisores\")\n",
        "    else\n",
        "        println(\"el numero $N no es número primo\")\n",
        "    end\n",
        "end\n",
        "\n",
        "# Ejemplo de uso\n",
        "println(\"Introduce un número:\")\n",
        "numero = parse(Int, readline())\n",
        "divisores(numero)\n",
        "```"
      ],
      "metadata": {
        "id": "RpBU_2IU0bKQ"
      }
    },
    {
      "cell_type": "markdown",
      "source": [
        "# Codigo en c++\n",
        "\n",
        "```python\n",
        "#include <iostream>\n",
        "void divisores(int N) {\n",
        "    int count = 0;\n",
        "    for (int i = 1; i < N; ++i) {\n",
        "        if (N % i == 0) {\n",
        "            ++count;\n",
        "        }\n",
        "    }\n",
        "    if (count < 2) {\n",
        "        std::cout << \"el numero \" << N << \" es número primo, tiene 2 divisores\" << std::endl;\n",
        "    } else {\n",
        "        std::cout << \"el numero \" << N << \" no es número primo\" << std::endl;\n",
        "    }\n",
        "}\n",
        "int main() {\n",
        "    int numero;    \n",
        "    numero=20;\n",
        "    divisores(numero);\n",
        "    return 0;\n",
        "}\n",
        "```"
      ],
      "metadata": {
        "id": "ywXrYMb-0Ep7"
      }
    },
    {
      "cell_type": "markdown",
      "source": [
        "\n",
        "Reto: Configurar su máquina para que se ejecute cada unos de los códigos anteriores en los diferenres lenguajes.\n",
        "\n"
      ],
      "metadata": {
        "id": "TIoAz6jR1WWl"
      }
    },
    {
      "cell_type": "code",
      "source": [],
      "metadata": {
        "id": "okZ6JoTS7ALZ"
      },
      "execution_count": null,
      "outputs": []
    }
  ]
}